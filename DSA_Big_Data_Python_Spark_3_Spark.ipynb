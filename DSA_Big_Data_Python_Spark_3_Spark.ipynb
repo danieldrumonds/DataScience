{
 "cells": [
  {
   "cell_type": "markdown",
   "id": "604369a6",
   "metadata": {},
   "source": [
    "# DSA - Cientista de Dados - Apache Spark"
   ]
  },
  {
   "cell_type": "markdown",
   "id": "240d4de3",
   "metadata": {},
   "source": [
    "## Big Data Real-Time Analytics com Python e Spark"
   ]
  },
  {
   "cell_type": "markdown",
   "id": "d379a3f5",
   "metadata": {},
   "source": [
    "# Capítulo 6.6: Executando uma aplicação com PySpark"
   ]
  },
  {
   "cell_type": "markdown",
   "id": "6446f5b3",
   "metadata": {},
   "source": [
    "## Introdução ao PySpark"
   ]
  },
  {
   "cell_type": "code",
   "execution_count": 1,
   "id": "a0c4be0e",
   "metadata": {},
   "outputs": [
    {
     "name": "stdout",
     "output_type": "stream",
     "text": [
      "3.9.7 (default, Sep 16 2021, 16:59:28) [MSC v.1916 64 bit (AMD64)]\n"
     ]
    }
   ],
   "source": [
    "import sys\n",
    "print(sys.version)"
   ]
  },
  {
   "cell_type": "code",
   "execution_count": 2,
   "id": "99d31e1b",
   "metadata": {},
   "outputs": [
    {
     "name": "stdout",
     "output_type": "stream",
     "text": [
      "<SparkContext master=local[*] appName=PySparkShell>\n"
     ]
    }
   ],
   "source": [
    "# sc = Spark Context\n",
    "print(sc)"
   ]
  },
  {
   "cell_type": "code",
   "execution_count": 3,
   "id": "256cae62",
   "metadata": {},
   "outputs": [
    {
     "name": "stdout",
     "output_type": "stream",
     "text": [
      "3.0.3\n"
     ]
    }
   ],
   "source": [
    "print(sc.version)"
   ]
  },
  {
   "cell_type": "code",
   "execution_count": 4,
   "id": "82147a51",
   "metadata": {},
   "outputs": [],
   "source": [
    "# Testando o Spark e criando uma RDD\n",
    "lst = [25, 90, 81, 37, 776, 3320]\n",
    "testData = sc.parallelize(lst)"
   ]
  },
  {
   "cell_type": "code",
   "execution_count": 5,
   "id": "6f295639",
   "metadata": {},
   "outputs": [],
   "source": [
    "?sc.parallelize\n",
    "\n",
    "# Pega uma coleção de elementos e trnasforma em uma RDD.\n",
    "# RDD: Conversão de uma lista python para um objeto spark.\n",
    "# RDD: É uma coleção de elementos. Um conjunto de dados."
   ]
  },
  {
   "cell_type": "code",
   "execution_count": 6,
   "id": "f080dd82",
   "metadata": {},
   "outputs": [
    {
     "data": {
      "text/plain": [
       "pyspark.rdd.RDD"
      ]
     },
     "execution_count": 6,
     "metadata": {},
     "output_type": "execute_result"
    }
   ],
   "source": [
    "type(testData)"
   ]
  },
  {
   "cell_type": "code",
   "execution_count": 7,
   "id": "d7106a47",
   "metadata": {},
   "outputs": [
    {
     "data": {
      "text/plain": [
       "6"
      ]
     },
     "execution_count": 7,
     "metadata": {},
     "output_type": "execute_result"
    }
   ],
   "source": [
    "testData.count()"
   ]
  },
  {
   "cell_type": "code",
   "execution_count": 8,
   "id": "88e3d6eb",
   "metadata": {},
   "outputs": [
    {
     "data": {
      "text/plain": [
       "[25, 90, 81, 37, 776, 3320]"
      ]
     },
     "execution_count": 8,
     "metadata": {},
     "output_type": "execute_result"
    }
   ],
   "source": [
    "testData.collect()"
   ]
  },
  {
   "cell_type": "markdown",
   "id": "e66b69aa",
   "metadata": {},
   "source": [
    "RDD's são coleções distribuídas de itens. RDD's podem ser criadas a partir do Hadoop (arquivos no HDFS), através da transformação de outras RDD's, a partir de bancos de dados (relacionais e não-relacionais) ou a partir de arquivos locais."
   ]
  },
  {
   "cell_type": "code",
   "execution_count": 9,
   "id": "13b97035",
   "metadata": {},
   "outputs": [],
   "source": [
    "# Criando uma RDD a partir de um arquivo csv\n",
    "sentimentoRDD = sc.textFile(r\"06.04 Cap06\\sentimentos.csv\")"
   ]
  },
  {
   "cell_type": "code",
   "execution_count": 10,
   "id": "2b417922",
   "metadata": {},
   "outputs": [
    {
     "data": {
      "text/plain": [
       "pyspark.rdd.RDD"
      ]
     },
     "execution_count": 10,
     "metadata": {},
     "output_type": "execute_result"
    }
   ],
   "source": [
    "type(sentimentoRDD)"
   ]
  },
  {
   "cell_type": "code",
   "execution_count": 11,
   "id": "8a629da3",
   "metadata": {},
   "outputs": [
    {
     "data": {
      "text/plain": [
       "100"
      ]
     },
     "execution_count": 11,
     "metadata": {},
     "output_type": "execute_result"
    }
   ],
   "source": [
    "# Ação - Contando o número de registros\n",
    "sentimentoRDD.count()"
   ]
  },
  {
   "cell_type": "code",
   "execution_count": 12,
   "id": "039ab557",
   "metadata": {},
   "outputs": [
    {
     "data": {
      "text/plain": [
       "['positivo,Esse livro é incrível.',\n",
       " 'positivo,Um dos melhores livros que eu já li.',\n",
       " 'positivo,um dos melhores livros que eu já li',\n",
       " 'positivo,Acho que ele tem um conteúdo que vai além do que está em sua descrição.',\n",
       " 'positivo,O Sol é para todos é profundo e emocionante']"
      ]
     },
     "execution_count": 12,
     "metadata": {},
     "output_type": "execute_result"
    }
   ],
   "source": [
    "# Listando os 5 primeiros registros\n",
    "sentimentoRDD.take(5)"
   ]
  },
  {
   "cell_type": "code",
   "execution_count": 13,
   "id": "04b2b440",
   "metadata": {},
   "outputs": [
    {
     "data": {
      "text/plain": [
       "['POSITIVO,ESSE LIVRO É INCRÍVEL.',\n",
       " 'POSITIVO,UM DOS MELHORES LIVROS QUE EU JÁ LI.',\n",
       " 'POSITIVO,UM DOS MELHORES LIVROS QUE EU JÁ LI',\n",
       " 'POSITIVO,ACHO QUE ELE TEM UM CONTEÚDO QUE VAI ALÉM DO QUE ESTÁ EM SUA DESCRIÇÃO.',\n",
       " 'POSITIVO,O SOL É PARA TODOS É PROFUNDO E EMOCIONANTE']"
      ]
     },
     "execution_count": 13,
     "metadata": {},
     "output_type": "execute_result"
    }
   ],
   "source": [
    "# Transformando os dados - transformação para letras maiúsculas\n",
    "transfRDD = sentimentoRDD.map(lambda x : x.upper())\n",
    "transfRDD.take(5)"
   ]
  },
  {
   "cell_type": "code",
   "execution_count": 14,
   "id": "9ec4412a",
   "metadata": {},
   "outputs": [
    {
     "data": {
      "text/plain": [
       "['positivo,Esse livro é incrível.',\n",
       " 'positivo,Um dos melhores livros que eu já li.',\n",
       " 'positivo,um dos melhores livros que eu já li',\n",
       " 'positivo,Acho que ele tem um conteúdo que vai além do que está em sua descrição.',\n",
       " 'positivo,O Sol é para todos é profundo e emocionante']"
      ]
     },
     "execution_count": 14,
     "metadata": {},
     "output_type": "execute_result"
    }
   ],
   "source": [
    "sentimentoRDD.take(5)"
   ]
  },
  {
   "cell_type": "code",
   "execution_count": 15,
   "id": "6256c1ca",
   "metadata": {},
   "outputs": [],
   "source": [
    "arquivo = sc.textFile(r\"06.04 Cap06\\sentimentos.csv\")"
   ]
  },
  {
   "cell_type": "code",
   "execution_count": 16,
   "id": "85a6ca95",
   "metadata": {},
   "outputs": [
    {
     "data": {
      "text/plain": [
       "pyspark.rdd.RDD"
      ]
     },
     "execution_count": 16,
     "metadata": {},
     "output_type": "execute_result"
    }
   ],
   "source": [
    "type(arquivo)"
   ]
  },
  {
   "cell_type": "code",
   "execution_count": 17,
   "id": "e7426944",
   "metadata": {},
   "outputs": [
    {
     "data": {
      "text/plain": [
       "100"
      ]
     },
     "execution_count": 17,
     "metadata": {},
     "output_type": "execute_result"
    }
   ],
   "source": [
    "arquivo.count()"
   ]
  },
  {
   "cell_type": "code",
   "execution_count": 18,
   "id": "cdc1d79c",
   "metadata": {},
   "outputs": [
    {
     "data": {
      "text/plain": [
       "'positivo,Esse livro é incrível.'"
      ]
     },
     "execution_count": 18,
     "metadata": {},
     "output_type": "execute_result"
    }
   ],
   "source": [
    "arquivo.first()"
   ]
  },
  {
   "cell_type": "code",
   "execution_count": 19,
   "id": "79244e26",
   "metadata": {},
   "outputs": [],
   "source": [
    "linhasComSol = arquivo.filter(lambda line: \"Sol\" in line)"
   ]
  },
  {
   "cell_type": "code",
   "execution_count": 20,
   "id": "a9627c1b",
   "metadata": {},
   "outputs": [
    {
     "data": {
      "text/plain": [
       "pyspark.rdd.PipelinedRDD"
      ]
     },
     "execution_count": 20,
     "metadata": {},
     "output_type": "execute_result"
    }
   ],
   "source": [
    "type(linhasComSol)"
   ]
  },
  {
   "cell_type": "code",
   "execution_count": 21,
   "id": "c36ff792",
   "metadata": {},
   "outputs": [
    {
     "data": {
      "text/plain": [
       "3"
      ]
     },
     "execution_count": 21,
     "metadata": {},
     "output_type": "execute_result"
    }
   ],
   "source": [
    "linhasComSol.count()"
   ]
  },
  {
   "cell_type": "markdown",
   "id": "336b70e8",
   "metadata": {},
   "source": [
    "Primeiro a função map() determina o comprimento de cada linha do arquivo, criando uma RDD. A função reduce() é chamada para encontrar a linha com maior número de caracteres. O argumento para as funções map() e reduce() são funções anônimas criadas com lambda (da linguagem Python)."
   ]
  },
  {
   "cell_type": "code",
   "execution_count": 22,
   "id": "a1d9209a",
   "metadata": {},
   "outputs": [
    {
     "data": {
      "text/plain": [
       "27"
      ]
     },
     "execution_count": 22,
     "metadata": {},
     "output_type": "execute_result"
    }
   ],
   "source": [
    "arquivo.map(lambda line: len(line.split())).reduce(lambda a, b: a if (a > b) else b)"
   ]
  },
  {
   "cell_type": "markdown",
   "id": "2df0deca",
   "metadata": {},
   "source": [
    "Esta linha pode ser reescrita da seguinte forma:"
   ]
  },
  {
   "cell_type": "code",
   "execution_count": 23,
   "id": "44b0d95f",
   "metadata": {},
   "outputs": [
    {
     "data": {
      "text/plain": [
       "27"
      ]
     },
     "execution_count": 23,
     "metadata": {},
     "output_type": "execute_result"
    }
   ],
   "source": [
    "def max(a, b):\n",
    "    if a > b:\n",
    "        return a\n",
    "    else:\n",
    "        return b\n",
    "\n",
    "arquivo.map(lambda line: len(line.split())).reduce(max)"
   ]
  },
  {
   "cell_type": "markdown",
   "id": "18ec0906",
   "metadata": {},
   "source": [
    "## Operação de MapReduce"
   ]
  },
  {
   "cell_type": "markdown",
   "id": "1baade05",
   "metadata": {},
   "source": [
    "As operações de MapReduce foram popularizadas pelo Hadoop e podem ser feitas com Spark até 100x mais rápido."
   ]
  },
  {
   "cell_type": "code",
   "execution_count": 24,
   "id": "908cef8b",
   "metadata": {},
   "outputs": [],
   "source": [
    "contaPalavras = arquivo.flatMap(lambda line: line.split()).map(lambda palavra: (palavra, 1)).reduceByKey(lambda a, b: a+b)"
   ]
  },
  {
   "cell_type": "code",
   "execution_count": 25,
   "id": "3e719329",
   "metadata": {},
   "outputs": [
    {
     "data": {
      "text/plain": [
       "[('livro', 5),\n",
       " ('que', 13),\n",
       " ('li.', 4),\n",
       " ('positivo,um', 3),\n",
       " ('li', 1),\n",
       " ('positivo,Acho', 1),\n",
       " ('tem', 1),\n",
       " ('um', 3),\n",
       " ('vai', 1),\n",
       " ('do', 2),\n",
       " ('em', 1),\n",
       " ('descrição.', 1),\n",
       " ('positivo,O', 2),\n",
       " ('para', 5),\n",
       " ('todos', 4),\n",
       " ('positivo,Me', 1),\n",
       " ('este', 1),\n",
       " ('livro,', 1),\n",
       " ('antigo', 1),\n",
       " ('uma', 4),\n",
       " ('história', 1),\n",
       " ('antiga', 1),\n",
       " ('positivo,The', 6),\n",
       " ('Da', 38),\n",
       " ('Vinci', 45),\n",
       " ('Code', 24),\n",
       " ('is', 17),\n",
       " ('good', 3),\n",
       " ('movie...', 1),\n",
       " ('thought', 2),\n",
       " ('was', 4),\n",
       " ('pretty', 1),\n",
       " ('book.', 4),\n",
       " ('realmente', 1),\n",
       " ('deveria', 1),\n",
       " ('todas', 1),\n",
       " ('as', 1),\n",
       " ('pessoas.', 1),\n",
       " ('an', 6),\n",
       " ('*', 2),\n",
       " ('book', 2),\n",
       " ('turn', 1),\n",
       " ('positivo,Harper', 1),\n",
       " ('aborda', 1),\n",
       " ('muito', 3),\n",
       " ('polêmicos,', 1),\n",
       " ('como', 1),\n",
       " ('Bullying,', 1),\n",
       " ('olhos', 1),\n",
       " ('inocentes', 1),\n",
       " ('positivo,i', 4),\n",
       " ('love', 6),\n",
       " ('da', 13),\n",
       " ('code....', 1),\n",
       " ('loved', 5),\n",
       " ('code..', 2),\n",
       " ('VINCI', 4),\n",
       " ('BEAUTIFUL', 1),\n",
       " ('positivo,THE', 1),\n",
       " ('slash', 1),\n",
       " ('race.', 1),\n",
       " ('positivo,Hey', 1),\n",
       " ('The', 13),\n",
       " ('Code!..', 1),\n",
       " ('positivo,also', 1),\n",
       " ('sobre', 2),\n",
       " ('relação', 1),\n",
       " ('educação', 1),\n",
       " ('pais', 1),\n",
       " ('filhos,', 1),\n",
       " ('fala', 1),\n",
       " ('like', 3),\n",
       " ('Angels', 1),\n",
       " ('Demons', 1),\n",
       " ('more', 2),\n",
       " ('really', 5),\n",
       " ('positivo,Da', 4),\n",
       " ('s', 1),\n",
       " ('positivo,And', 1),\n",
       " ('we', 2),\n",
       " ('awesome.', 2),\n",
       " ('awesome', 6),\n",
       " ('book!', 2),\n",
       " ('positivo,oh', 1),\n",
       " ('code.', 3),\n",
       " ('ripping', 1),\n",
       " ('music', 1),\n",
       " ('cold...', 1),\n",
       " ('[', 1),\n",
       " ('tell', 1),\n",
       " ('anyone', 1),\n",
       " ('but', 3),\n",
       " ('of', 4),\n",
       " ('positivo,Os', 1),\n",
       " ('personagens', 1),\n",
       " ('positivo,omg', 1),\n",
       " ('i', 5),\n",
       " ('falar', 1),\n",
       " ('INCRÍVEL?', 1),\n",
       " ('O', 1),\n",
       " ('sol', 1),\n",
       " ('negativo,da', 2),\n",
       " ('terrible', 1),\n",
       " ('negativo,i', 2),\n",
       " ('movie', 1),\n",
       " ('think', 2),\n",
       " ('this', 2),\n",
       " ('bolsters', 1),\n",
       " ('arguments', 1),\n",
       " ('both', 1),\n",
       " ('know', 2),\n",
       " ('inaccurate.', 1),\n",
       " ('hate', 9),\n",
       " ('negativo,The', 4),\n",
       " ('say', 1),\n",
       " ('evil', 1),\n",
       " ('sucked', 4),\n",
       " ('long', 1),\n",
       " ('slow.....', 1),\n",
       " ('negativo,not', 1),\n",
       " ('sure', 1),\n",
       " ('already', 1),\n",
       " ('threw', 1),\n",
       " ('at', 2),\n",
       " ('negativo,This', 1),\n",
       " ('why', 1),\n",
       " ('Code:', 1),\n",
       " ('pop', 1),\n",
       " ('question', 1),\n",
       " ('congrats', 1),\n",
       " ('beating', 1),\n",
       " ('Jay', 1),\n",
       " ('must', 1),\n",
       " ('Rickards', 1),\n",
       " ('when', 1),\n",
       " ('beat', 1),\n",
       " ('them', 1),\n",
       " ('in', 1),\n",
       " ('balls', 1),\n",
       " ('worst', 1),\n",
       " ('shit', 1),\n",
       " (\"I've\", 1),\n",
       " ('ever', 1),\n",
       " ('God', 1),\n",
       " ('Has', 1),\n",
       " ('told', 1),\n",
       " ('nans', 1),\n",
       " ('before', 1),\n",
       " ('said', 1),\n",
       " (\"'!!\", 1),\n",
       " ('negativo,Sol', 1),\n",
       " ('ruim', 9),\n",
       " ('negativo,Livro', 9),\n",
       " ('negativo,the', 1),\n",
       " ('sucks', 1),\n",
       " ('negativo,\"poderia', 2),\n",
       " ('ter', 2),\n",
       " ('sido', 2),\n",
       " ('melhor\"', 2),\n",
       " ('raso', 1),\n",
       " ('negativo,well', 1),\n",
       " ('SUCKS!!', 1),\n",
       " ('ass', 1),\n",
       " (\"you're\", 1),\n",
       " ('code...', 1),\n",
       " ('esqueci', 1),\n",
       " ('negativo,todos', 1),\n",
       " ('disseram', 1),\n",
       " ('mas', 1),\n",
       " ('achei', 1),\n",
       " ('negativo,abaixo', 1),\n",
       " ('das', 1),\n",
       " ('expectativas', 1),\n",
       " ('negativo,muito', 1),\n",
       " ('gostei.', 1),\n",
       " ('infantil!', 1),\n",
       " ('positivo,Esse', 1),\n",
       " ('é', 6),\n",
       " ('incrível.', 1),\n",
       " ('positivo,Um', 3),\n",
       " ('dos', 5),\n",
       " ('melhores', 5),\n",
       " ('livros', 5),\n",
       " ('eu', 5),\n",
       " ('já', 5),\n",
       " ('ele', 1),\n",
       " ('conteúdo', 2),\n",
       " ('além', 1),\n",
       " ('está', 1),\n",
       " ('sua', 1),\n",
       " ('Sol', 2),\n",
       " ('profundo', 1),\n",
       " ('e', 8),\n",
       " ('emocionante', 1),\n",
       " ('encantei', 1),\n",
       " ('por', 2),\n",
       " ('positivo,Este', 1),\n",
       " ('apesar', 1),\n",
       " ('de', 8),\n",
       " ('com', 1),\n",
       " ('trata', 1),\n",
       " ('época', 1),\n",
       " ('mais', 1),\n",
       " ('ainda,', 1),\n",
       " ('possui', 1),\n",
       " ('atual', 1),\n",
       " ('extrema', 1),\n",
       " ('importância.', 1),\n",
       " ('actually', 1),\n",
       " ('a', 8),\n",
       " ('positivo,I', 8),\n",
       " ('the', 23),\n",
       " ('ser', 1),\n",
       " ('lido', 1),\n",
       " ('amazing', 2),\n",
       " ('positivo,then', 1),\n",
       " ('I', 7),\n",
       " ('on', 2),\n",
       " ('light', 1),\n",
       " ('and', 10),\n",
       " ('radio', 1),\n",
       " ('enjoy', 1),\n",
       " ('my', 2),\n",
       " ('Code.', 12),\n",
       " ('Lee', 1),\n",
       " ('temas', 1),\n",
       " ('o', 3),\n",
       " ('racismo', 1),\n",
       " ('pelos', 1),\n",
       " ('criança', 1),\n",
       " ('7', 1),\n",
       " ('anos.', 1),\n",
       " ('vinci', 17),\n",
       " ('positivo,TO', 1),\n",
       " ('NIGHT::', 1),\n",
       " ('THE', 2),\n",
       " ('DA', 4),\n",
       " ('CODE', 3),\n",
       " ('AND', 1),\n",
       " ('A', 1),\n",
       " ('MIND...', 1),\n",
       " ('AN', 1),\n",
       " ('AWESOME', 1),\n",
       " ('BOOK....', 1),\n",
       " ('positivo,very', 1),\n",
       " ('code', 12),\n",
       " ('positivo,Ele', 1),\n",
       " ('relata', 1),\n",
       " ('respeito,', 1),\n",
       " ('individualidade', 1),\n",
       " ('mais.', 1),\n",
       " ('then', 2),\n",
       " ('movie.', 2),\n",
       " ('amazing.', 1),\n",
       " ('positivo,Book', 1),\n",
       " ('(', 1),\n",
       " ('):', 1),\n",
       " ('Code..', 2),\n",
       " ('went', 1),\n",
       " ('to', 4),\n",
       " ('see', 1),\n",
       " ('awesome!', 1),\n",
       " ('SUCH', 1),\n",
       " ('LOVE', 1),\n",
       " ('CODE...', 1),\n",
       " ('so', 1),\n",
       " ('beautiful', 1),\n",
       " ('Code...', 2),\n",
       " ('miss', 1),\n",
       " ('acoustic', 1),\n",
       " ('positivo,looks', 1),\n",
       " ('amazingly', 1),\n",
       " ('fun', 1),\n",
       " ('possibly', 1),\n",
       " ('bit', 1),\n",
       " (\"don't\", 1),\n",
       " (']', 1),\n",
       " ('course', 1),\n",
       " ('positivo,\"I', 1),\n",
       " ('\"\"', 1),\n",
       " ('Code!\"', 1),\n",
       " ('LOVED', 1),\n",
       " ('positivo,da', 1),\n",
       " ('são', 1),\n",
       " ('maravilhosos...', 1),\n",
       " ('that', 3),\n",
       " ('such', 1),\n",
       " ('desde', 1),\n",
       " ('me', 2),\n",
       " ('conquistou', 1),\n",
       " ('forma', 1),\n",
       " ('pura!', 1),\n",
       " ('boring.', 1),\n",
       " ('negativo,Da', 4),\n",
       " ('does', 1),\n",
       " ('suck.', 2),\n",
       " ('negativo,I', 10),\n",
       " ('England', 1),\n",
       " ('sucks...', 2),\n",
       " ('negativo,And', 2),\n",
       " ('better..-We', 1),\n",
       " ('all', 1),\n",
       " ('bogus', 1),\n",
       " ('you', 3),\n",
       " ('too', 2),\n",
       " ('if', 2),\n",
       " ('because', 1),\n",
       " ('it', 2),\n",
       " ('takes', 1),\n",
       " ('nothing', 1),\n",
       " ('fucking', 2),\n",
       " ('culture', 1),\n",
       " ('phenomenon', 1),\n",
       " ('get', 1),\n",
       " ('people', 1),\n",
       " ('things.', 1),\n",
       " ('did', 1),\n",
       " ('suck', 1),\n",
       " ('been', 1),\n",
       " ('time', 1),\n",
       " ('finals.', 1),\n",
       " ('sucks.', 1),\n",
       " ('hated', 3),\n",
       " ('going', 1),\n",
       " ('sucks..', 1),\n",
       " ('also', 1),\n",
       " (\"it's\", 1),\n",
       " ('piece', 1),\n",
       " ('read.', 1),\n",
       " ('negativo,Thank', 1),\n",
       " ('Someone', 1),\n",
       " ('Sense', 1),\n",
       " ('negativo,RACHEL', 1),\n",
       " ('could', 1),\n",
       " ('your', 1),\n",
       " ('libarian', 1),\n",
       " (\"hated'The\", 1),\n",
       " ('Livro', 1),\n",
       " ('btw..', 1),\n",
       " ('negativo,simples', 1),\n",
       " ('negativo,O', 1),\n",
       " ('não', 2),\n",
       " ('todos.', 1),\n",
       " ('wondering.', 1),\n",
       " ('negativo,about', 1),\n",
       " ('how', 1),\n",
       " ('much', 1),\n",
       " ('absolutely', 1),\n",
       " ('loathe', 1),\n",
       " ('ruim...', 2),\n",
       " ('negativo,já', 1),\n",
       " ('tão', 1),\n",
       " ('foi.', 1),\n",
       " ('era', 1),\n",
       " ('bom,', 1),\n",
       " ('negativo,Não', 1)]"
      ]
     },
     "execution_count": 25,
     "metadata": {},
     "output_type": "execute_result"
    }
   ],
   "source": [
    "contaPalavras.collect()"
   ]
  },
  {
   "cell_type": "markdown",
   "id": "e067e608",
   "metadata": {},
   "source": [
    "Acesse o monitoramento do Spark em: http://localhost:4040/"
   ]
  },
  {
   "cell_type": "markdown",
   "id": "09fa7d51",
   "metadata": {},
   "source": [
    "# Capítulo 6.12: Spark - Transformações"
   ]
  },
  {
   "cell_type": "markdown",
   "id": "9ec137d2",
   "metadata": {},
   "source": [
    "## Transformações"
   ]
  },
  {
   "cell_type": "code",
   "execution_count": 26,
   "id": "0d8ef769",
   "metadata": {},
   "outputs": [],
   "source": [
    "# Criando uma lista em Python\n",
    "lista1 = [124, 901, 652, 102, 397]"
   ]
  },
  {
   "cell_type": "code",
   "execution_count": 27,
   "id": "471bfabb",
   "metadata": {},
   "outputs": [
    {
     "data": {
      "text/plain": [
       "list"
      ]
     },
     "execution_count": 27,
     "metadata": {},
     "output_type": "execute_result"
    }
   ],
   "source": [
    "type(lista1)"
   ]
  },
  {
   "cell_type": "code",
   "execution_count": 28,
   "id": "0ca11726",
   "metadata": {},
   "outputs": [],
   "source": [
    "# Carregando dados de uma coleção - Convertendo em RDD\n",
    "lstRDD = sc.parallelize(lista1)"
   ]
  },
  {
   "cell_type": "code",
   "execution_count": 29,
   "id": "96818cbf",
   "metadata": {},
   "outputs": [
    {
     "data": {
      "text/plain": [
       "pyspark.rdd.RDD"
      ]
     },
     "execution_count": 29,
     "metadata": {},
     "output_type": "execute_result"
    }
   ],
   "source": [
    "type(lstRDD)"
   ]
  },
  {
   "cell_type": "code",
   "execution_count": 30,
   "id": "7fe3f062",
   "metadata": {},
   "outputs": [
    {
     "data": {
      "text/plain": [
       "[124, 901, 652, 102, 397]"
      ]
     },
     "execution_count": 30,
     "metadata": {},
     "output_type": "execute_result"
    }
   ],
   "source": [
    "# Retornando os dados do RDD\n",
    "lstRDD.collect()"
   ]
  },
  {
   "cell_type": "code",
   "execution_count": 31,
   "id": "34ffec1f",
   "metadata": {},
   "outputs": [
    {
     "data": {
      "text/plain": [
       "5"
      ]
     },
     "execution_count": 31,
     "metadata": {},
     "output_type": "execute_result"
    }
   ],
   "source": [
    "# Contar quantos elementos tem no RDD\n",
    "lstRDD.count()"
   ]
  },
  {
   "cell_type": "code",
   "execution_count": 32,
   "id": "6cf4c007",
   "metadata": {},
   "outputs": [],
   "source": [
    "# Carregando um arquivo e criando um RDD. \n",
    "autoDataRDD = sc.textFile(r\"06.04 Cap06\\carros.csv\")"
   ]
  },
  {
   "cell_type": "code",
   "execution_count": 33,
   "id": "e1a1d0f6",
   "metadata": {},
   "outputs": [
    {
     "data": {
      "text/plain": [
       "pyspark.rdd.RDD"
      ]
     },
     "execution_count": 33,
     "metadata": {},
     "output_type": "execute_result"
    }
   ],
   "source": [
    "type(autoDataRDD)"
   ]
  },
  {
   "cell_type": "code",
   "execution_count": 34,
   "id": "73c864b5",
   "metadata": {},
   "outputs": [
    {
     "data": {
      "text/plain": [
       "'MAKE,FUELTYPE,ASPIRE,DOORS,BODY,DRIVE,CYLINDERS,HP,RPM,MPG-CITY,MPG-HWY,PRICE'"
      ]
     },
     "execution_count": 34,
     "metadata": {},
     "output_type": "execute_result"
    }
   ],
   "source": [
    "# Operação de Ação - Retornando a primeira linha\n",
    "autoDataRDD.first()"
   ]
  },
  {
   "cell_type": "code",
   "execution_count": 35,
   "id": "19e5cc50",
   "metadata": {},
   "outputs": [
    {
     "data": {
      "text/plain": [
       "['MAKE,FUELTYPE,ASPIRE,DOORS,BODY,DRIVE,CYLINDERS,HP,RPM,MPG-CITY,MPG-HWY,PRICE',\n",
       " 'subaru,gas,std,two,hatchback,fwd,four,69,4900,31,36,5118',\n",
       " 'chevrolet,gas,std,two,hatchback,fwd,three,48,5100,47,53,5151',\n",
       " 'mazda,gas,std,two,hatchback,fwd,four,68,5000,30,31,5195',\n",
       " 'toyota,gas,std,two,hatchback,fwd,four,62,4800,35,39,5348']"
      ]
     },
     "execution_count": 35,
     "metadata": {},
     "output_type": "execute_result"
    }
   ],
   "source": [
    "# Retornando as 5 primeiras linhas do RDD\n",
    "autoDataRDD.take(5)"
   ]
  },
  {
   "cell_type": "code",
   "execution_count": 36,
   "id": "f5c7544a",
   "metadata": {},
   "outputs": [
    {
     "data": {
      "text/plain": [
       "06.04 Cap06\\carros.csv MapPartitionsRDD[23] at textFile at NativeMethodAccessorImpl.java:0"
      ]
     },
     "execution_count": 36,
     "metadata": {},
     "output_type": "execute_result"
    }
   ],
   "source": [
    "# Cada ação gera um novo processo de computação dos dados. \n",
    "# Mas podemos persistir os dados em cache para que ele possa ser usado por outras ações, sem a necessidade \n",
    "# de nova computação.\n",
    "autoDataRDD.cache()"
   ]
  },
  {
   "cell_type": "code",
   "execution_count": 37,
   "id": "3904a51d",
   "metadata": {},
   "outputs": [
    {
     "name": "stdout",
     "output_type": "stream",
     "text": [
      "MAKE,FUELTYPE,ASPIRE,DOORS,BODY,DRIVE,CYLINDERS,HP,RPM,MPG-CITY,MPG-HWY,PRICE\n",
      "subaru,gas,std,two,hatchback,fwd,four,69,4900,31,36,5118\n",
      "chevrolet,gas,std,two,hatchback,fwd,three,48,5100,47,53,5151\n",
      "mazda,gas,std,two,hatchback,fwd,four,68,5000,30,31,5195\n",
      "toyota,gas,std,two,hatchback,fwd,four,62,4800,35,39,5348\n",
      "mitsubishi,gas,std,two,hatchback,fwd,four,68,5500,37,41,5389\n",
      "honda,gas,std,two,hatchback,fwd,four,60,5500,38,42,5399\n",
      "nissan,gas,std,two,sedan,fwd,four,69,5200,31,37,5499\n",
      "dodge,gas,std,two,hatchback,fwd,four,68,5500,37,41,5572\n",
      "plymouth,gas,std,two,hatchback,fwd,four,68,5500,37,41,5572\n",
      "mazda,gas,std,two,hatchback,fwd,four,68,5000,31,38,6095\n",
      "mitsubishi,gas,std,two,hatchback,fwd,four,68,5500,31,38,6189\n",
      "dodge,gas,std,four,hatchback,fwd,four,68,5500,31,38,6229\n",
      "plymouth,gas,std,four,hatchback,fwd,four,68,5500,31,38,6229\n",
      "chevrolet,gas,std,two,hatchback,fwd,four,70,5400,38,43,6295\n",
      "toyota,gas,std,two,hatchback,fwd,four,62,4800,31,38,6338\n",
      "dodge,gas,std,two,hatchback,fwd,four,68,5500,31,38,6377\n",
      "honda,gas,std,two,hatchback,fwd,four,58,4800,49,54,6479\n",
      "toyota,gas,std,four,hatchback,fwd,four,62,4800,31,38,6488\n",
      "honda,gas,std,two,hatchback,fwd,four,76,6000,30,34,6529\n",
      "chevrolet,gas,std,four,sedan,fwd,four,70,5400,38,43,6575\n",
      "nissan,gas,std,two,sedan,fwd,four,69,5200,31,37,6649\n",
      "mitsubishi,gas,std,two,hatchback,fwd,four,68,5500,31,38,6669\n",
      "dodge,gas,std,four,sedan,fwd,four,68,5500,31,38,6692\n",
      "plymouth,gas,std,four,sedan,fwd,four,68,5500,31,38,6692\n",
      "mazda,gas,std,four,sedan,fwd,four,68,5000,31,38,6695\n",
      "isuzu,gas,std,four,sedan,rwd,four,78,4800,24,29,6785\n",
      "mazda,gas,std,two,hatchback,fwd,four,68,5000,31,38,6795\n",
      "nissan,gas,std,four,sedan,fwd,four,69,5200,31,37,6849\n",
      "honda,gas,std,two,hatchback,fwd,four,76,6000,31,38,6855\n",
      "toyota,gas,std,four,wagon,fwd,four,62,4800,31,37,6918\n",
      "toyota,gas,std,four,sedan,fwd,four,70,4800,30,37,6938\n",
      "mitsubishi,gas,std,four,sedan,fwd,four,88,5000,25,32,6989\n",
      "subaru,gas,std,two,hatchback,fwd,four,73,4400,26,31,7053\n",
      "nissan,diesel,std,two,sedan,fwd,four,55,4800,45,50,7099\n",
      "subaru,gas,std,four,sedan,fwd,four,82,4800,32,37,7126\n",
      "honda,gas,std,two,hatchback,fwd,four,76,6000,30,34,7129\n",
      "toyota,gas,std,four,hatchback,fwd,four,70,4800,30,37,7198\n",
      "honda,gas,std,four,sedan,fwd,four,76,6000,30,34,7295\n",
      "honda,gas,std,four,wagon,fwd,four,76,6000,30,34,7295\n",
      "nissan,gas,std,two,sedan,fwd,four,69,5200,31,37,7299\n",
      "nissan,gas,std,four,wagon,fwd,four,69,5200,31,37,7349\n",
      "mazda,gas,std,four,sedan,fwd,four,68,5000,31,38,7395\n",
      "subaru,gas,std,four,wagon,fwd,four,82,4800,28,32,7463\n",
      "nissan,gas,std,four,sedan,fwd,four,69,5200,31,37,7499\n",
      "subaru,gas,std,two,hatchback,4wd,four,73,4400,26,31,7603\n",
      "dodge,gas,std,four,sedan,fwd,four,68,5500,31,38,7609\n",
      "plymouth,gas,std,four,sedan,fwd,four,68,5500,31,38,7609\n",
      "mitsubishi,gas,turbo,two,hatchback,fwd,four,102,5500,24,30,7689\n",
      "toyota,gas,std,four,sedan,fwd,four,70,4800,38,47,7738\n",
      "subaru,gas,std,four,sedan,fwd,four,82,4400,28,33,7775\n",
      "volkswagen,diesel,std,two,sedan,fwd,four,52,4800,37,46,7775\n",
      "toyota,diesel,std,four,hatchback,fwd,four,56,4500,38,47,7788\n",
      "nissan,gas,std,two,hatchback,fwd,four,69,5200,31,37,7799\n",
      "honda,gas,std,two,hatchback,fwd,four,86,5800,27,33,7895\n",
      "toyota,gas,std,four,wagon,4wd,four,62,4800,27,32,7898\n",
      "toyota,diesel,std,four,sedan,fwd,four,56,4500,34,36,7898\n",
      "dodge,gas,turbo,two,hatchback,fwd,four,102,5500,24,30,7957\n",
      "plymouth,gas,turbo,two,hatchback,fwd,four,102,5500,24,30,7957\n",
      "volkswagen,gas,std,two,sedan,fwd,four,85,5250,27,34,7975\n",
      "volkswagen,diesel,std,four,sedan,fwd,four,52,4800,37,46,7995\n",
      "nissan,gas,std,four,wagon,fwd,four,69,5200,31,37,7999\n",
      "subaru,gas,std,four,wagon,4wd,four,82,4800,23,29,8013\n",
      "toyota,gas,std,two,sedan,rwd,four,70,4800,29,34,8058\n",
      "mitsubishi,gas,std,four,sedan,fwd,four,88,5000,25,32,8189\n",
      "volkswagen,gas,std,four,sedan,fwd,four,85,5250,27,34,8195\n",
      "toyota,gas,std,two,hatchback,rwd,four,70,4800,29,34,8238\n",
      "nissan,gas,std,two,hardtop,fwd,four,69,5200,31,37,8249\n",
      "toyota,gas,std,four,hatchback,fwd,four,70,4800,28,34,8358\n",
      "toyota,gas,std,two,hardtop,rwd,four,116,4800,24,30,8449\n",
      "mazda,gas,std,four,sedan,fwd,four,84,4800,26,32,8495\n",
      "volkswagen,gas,std,four,sedan,fwd,four,85,5250,27,34,8495\n",
      "mitsubishi,gas,std,two,hatchback,fwd,four,88,5000,25,32,8499\n",
      "toyota,gas,std,four,wagon,4wd,four,62,4800,27,32,8778\n",
      "honda,gas,std,four,sedan,fwd,four,86,5800,27,33,8845\n",
      "mazda,gas,std,two,hatchback,fwd,four,84,4800,26,32,8845\n",
      "dodge,gas,std,four,wagon,fwd,four,88,5000,24,30,8921\n",
      "plymouth,gas,std,four,wagon,fwd,four,88,5000,24,30,8921\n",
      "toyota,gas,std,four,sedan,fwd,four,92,4200,29,34,8948\n",
      "nissan,gas,std,four,hatchback,fwd,four,97,5200,27,34,8949\n",
      "honda,gas,std,two,hatchback,fwd,four,86,5800,27,33,9095\n",
      "subaru,gas,std,four,sedan,4wd,four,82,4800,24,25,9233\n",
      "toyota,gas,std,four,sedan,fwd,four,70,4800,28,34,9258\n",
      "mitsubishi,gas,turbo,four,sedan,fwd,four,116,5500,23,30,9279\n",
      "mitsubishi,gas,std,four,sedan,fwd,four,116,5500,23,30,9279\n",
      "toyota,gas,std,two,sedan,rwd,four,112,6600,26,29,9298\n",
      "volkswagen,diesel,turbo,four,sedan,fwd,four,68,4500,37,42,9495\n",
      "toyota,gas,std,two,hatchback,rwd,four,112,6600,26,29,9538\n",
      "nissan,gas,std,four,sedan,fwd,four,97,5200,27,34,9549\n",
      "toyota,gas,std,two,hardtop,rwd,four,116,4800,24,30,9639\n",
      "mitsubishi,gas,turbo,two,hatchback,fwd,four,116,5500,23,30,9959\n",
      "subaru,gas,std,four,sedan,fwd,four,94,5200,26,32,9960\n",
      "volkswagen,gas,std,two,hatchback,fwd,four,90,5500,24,29,9980\n",
      "toyota,gas,std,four,hatchback,fwd,four,92,4200,27,32,9988\n",
      "toyota,gas,std,two,hatchback,rwd,four,116,4800,24,30,9989\n",
      "volkswagen,gas,std,four,sedan,fwd,four,100,5500,26,32,9995\n",
      "subaru,gas,std,four,wagon,fwd,four,94,5200,25,31,10198\n",
      "mazda,gas,std,four,sedan,fwd,four,84,4800,26,32,10245\n",
      "honda,gas,std,four,sedan,fwd,four,86,5800,27,33,10295\n",
      "honda,gas,std,two,sedan,fwd,four,100,5500,25,31,10345\n",
      "mazda,gas,std,two,hatchback,fwd,four,84,4800,26,32,10595\n",
      "toyota,diesel,turbo,four,sedan,fwd,four,73,4500,30,33,10698\n",
      "toyota,gas,std,four,sedan,fwd,four,92,4200,27,32,10898\n",
      "mazda,gas,std,two,hatchback,rwd,two,101,6000,17,23,10945\n",
      "isuzu,gas,std,two,hatchback,rwd,four,90,5000,24,29,11048\n",
      "toyota,gas,std,two,hardtop,rwd,four,116,4800,24,30,11199\n",
      "mazda,gas,std,four,hatchback,fwd,four,84,4800,26,32,11245\n",
      "toyota,gas,std,four,hatchback,fwd,four,92,4200,27,32,11248\n",
      "subaru,gas,turbo,four,sedan,4wd,four,111,4800,24,29,11259\n",
      "toyota,gas,std,two,hatchback,rwd,four,116,4800,24,30,11549\n",
      "volkswagen,gas,std,two,convertible,fwd,four,90,5500,24,29,11595\n",
      "subaru,gas,turbo,four,wagon,4wd,four,111,4800,23,23,11694\n",
      "mazda,gas,std,two,hatchback,rwd,two,101,6000,17,23,11845\n",
      "saab,gas,std,two,hatchback,fwd,four,110,5250,21,28,11850\n",
      "peugot,gas,std,four,sedan,rwd,four,97,5000,19,24,11900\n",
      "saab,gas,std,four,sedan,fwd,four,110,5250,21,28,12170\n",
      "volkswagen,gas,std,four,wagon,fwd,four,88,5500,25,31,12290\n",
      "peugot,gas,std,four,wagon,rwd,four,97,5000,19,24,12440\n",
      "mitsubishi,gas,turbo,two,hatchback,fwd,four,145,5000,19,24,12629\n",
      "plymouth,gas,turbo,two,hatchback,rwd,four,145,5000,19,24,12764\n",
      "volvo,gas,std,four,sedan,rwd,four,114,5400,23,28,12940\n",
      "honda,gas,std,four,sedan,fwd,four,101,5800,24,28,12945\n",
      "dodge,gas,turbo,two,hatchback,fwd,four,145,5000,19,24,12964\n",
      "peugot,diesel,turbo,four,sedan,rwd,four,95,4150,28,33,13200\n",
      "volkswagen,gas,std,four,sedan,fwd,five,110,5500,19,24,13295\n",
      "volvo,gas,std,four,wagon,rwd,four,114,5400,23,28,13415\n",
      "alfa-romero,gas,std,two,convertible,rwd,four,111,5000,21,27,13495\n",
      "nissan,gas,std,four,sedan,fwd,six,152,5200,17,22,13499\n",
      "nissan,gas,std,four,sedan,fwd,six,152,5200,19,25,13499\n",
      "mazda,gas,std,two,hatchback,rwd,two,101,6000,17,23,13645\n",
      "volkswagen,diesel,turbo,four,sedan,fwd,four,68,4500,33,38,13845\n",
      "peugot,diesel,turbo,four,wagon,rwd,four,95,4150,25,25,13860\n",
      "audi,gas,std,four,sedan,fwd,four,102,5500,24,30,13950\n",
      "nissan,gas,std,four,wagon,fwd,six,152,5200,17,22,14399\n",
      "mitsubishi,gas,turbo,two,hatchback,fwd,four,145,5000,19,24,14489\n",
      "mitsubishi,gas,turbo,two,hatchback,fwd,four,145,5000,19,24,14869\n",
      "saab,gas,std,two,hatchback,fwd,four,110,5250,21,28,15040\n",
      "audi,gas,std,two,sedan,fwd,five,110,5500,19,25,15250\n",
      "saab,gas,std,four,sedan,fwd,four,110,5250,21,28,15510\n",
      "peugot,gas,std,four,sedan,rwd,four,95,5000,19,24,15580\n",
      "mazda,gas,std,two,hatchback,rwd,two,135,6000,16,23,15645\n",
      "toyota,gas,std,four,sedan,rwd,six,156,5200,20,24,15690\n",
      "toyota,gas,std,four,wagon,rwd,six,156,5200,19,24,15750\n",
      "volvo,gas,std,four,sedan,rwd,four,114,5400,24,28,15985\n",
      "toyota,gas,std,two,hatchback,rwd,six,161,5200,19,24,15998\n",
      "bmw,gas,std,two,sedan,rwd,four,101,5800,23,29,16430\n",
      "alfa-romero,gas,std,two,convertible,rwd,four,111,5000,21,27,16500\n",
      "alfa-romero,gas,std,two,hatchback,rwd,six,154,5000,19,26,16500\n",
      "mercury,gas,turbo,two,hatchback,rwd,four,175,5000,19,24,16503\n",
      "volvo,gas,std,four,wagon,rwd,four,114,5400,24,28,16515\n",
      "toyota,gas,std,two,hatchback,rwd,six,161,5200,20,24,16558\n",
      "peugot,gas,std,four,sedan,rwd,four,97,5000,19,24,16630\n",
      "peugot,gas,std,four,wagon,rwd,four,95,5000,19,24,16695\n",
      "volvo,gas,std,four,sedan,rwd,four,114,5400,23,28,16845\n",
      "peugot,diesel,turbo,four,sedan,rwd,four,95,4150,28,33,16900\n",
      "bmw,gas,std,four,sedan,rwd,four,101,5800,23,29,16925\n",
      "peugot,diesel,turbo,four,wagon,rwd,four,95,4150,25,25,17075\n",
      "nissan,gas,std,two,hatchback,rwd,six,160,5200,19,25,17199\n",
      "audi,gas,std,four,sedan,4wd,five,115,5500,18,22,17450\n",
      "toyota,gas,std,two,convertible,rwd,four,116,4800,24,30,17669\n",
      "audi,gas,std,four,sedan,fwd,five,110,5500,19,25,17710\n",
      "peugot,diesel,turbo,four,sedan,rwd,four,95,4150,28,33,17950\n",
      "peugot,gas,turbo,four,sedan,rwd,four,142,5600,18,24,18150\n",
      "saab,gas,turbo,two,hatchback,fwd,four,160,5500,19,26,18150\n",
      "mazda,gas,std,four,sedan,rwd,four,120,5000,19,27,18280\n",
      "mazda,diesel,std,four,sedan,rwd,four,72,4200,31,39,18344\n",
      "nissan,gas,std,two,hatchback,rwd,six,160,5200,19,25,18399\n",
      "volvo,gas,turbo,four,sedan,rwd,four,162,5100,17,22,18420\n",
      "saab,gas,turbo,four,sedan,fwd,four,160,5500,19,26,18620\n",
      "audi,gas,std,four,wagon,fwd,five,110,5500,19,25,18920\n",
      "volvo,gas,turbo,four,wagon,rwd,four,162,5100,17,22,18950\n",
      "volvo,gas,turbo,four,sedan,rwd,four,160,5300,19,25,19045\n",
      "nissan,gas,turbo,two,hatchback,rwd,six,200,5200,17,23,19699\n",
      "bmw,gas,std,two,sedan,rwd,six,121,4250,21,28,20970\n",
      "bmw,gas,std,four,sedan,rwd,six,121,4250,21,28,21105\n",
      "volvo,gas,std,four,sedan,rwd,six,134,5500,18,23,21485\n",
      "porsche,gas,std,two,hatchback,rwd,four,143,5500,19,27,22018\n",
      "volvo,diesel,turbo,four,sedan,rwd,six,106,4800,26,27,22470\n",
      "volvo,gas,turbo,four,sedan,rwd,four,114,5400,19,25,22625\n",
      "audi,gas,turbo,four,sedan,fwd,five,140,5500,17,20,23875\n",
      "bmw,gas,std,four,sedan,rwd,six,121,4250,20,25,24565\n",
      "mercedes-benz,diesel,turbo,four,sedan,rwd,five,123,4350,22,25,25552\n",
      "mercedes-benz,diesel,turbo,two,hardtop,rwd,five,123,4350,22,25,28176\n",
      "mercedes-benz,diesel,turbo,four,wagon,rwd,five,123,4350,22,25,28248\n",
      "bmw,gas,std,four,sedan,rwd,six,182,5400,16,22,30760\n",
      "mercedes-benz,diesel,turbo,four,sedan,rwd,five,123,4350,22,25,31600\n",
      "jaguar,gas,std,four,sedan,rwd,six,176,4750,15,19,32250\n",
      "porsche,gas,std,two,hardtop,rwd,six,207,5900,17,25,32528\n",
      "porsche,gas,std,two,hardtop,rwd,six,207,5900,17,25,34028\n",
      "mercedes-benz,gas,std,four,sedan,rwd,eight,155,4750,16,18,34184\n",
      "mercedes-benz,gas,std,two,convertible,rwd,eight,155,4750,16,18,35056\n",
      "jaguar,gas,std,four,sedan,rwd,six,176,4750,15,19,35550\n",
      "jaguar,gas,std,two,sedan,rwd,twelve,262,5000,13,17,36000\n",
      "bmw,gas,std,four,sedan,rwd,six,182,5400,15,20,36880\n",
      "porsche,gas,std,two,convertible,rwd,six,207,5900,17,25,37028\n",
      "mercedes-benz,gas,std,four,sedan,rwd,eight,184,4500,14,16,40960\n",
      "bmw,gas,std,two,sedan,rwd,six,182,5400,16,22,41315\n",
      "mercedes-benz,gas,std,two,hardtop,rwd,eight,184,4500,14,16,45400\n"
     ]
    }
   ],
   "source": [
    "# Imprimindo todas as linhas do RDD\n",
    "for line in autoDataRDD.collect():\n",
    "    print(line)"
   ]
  },
  {
   "cell_type": "code",
   "execution_count": 38,
   "id": "7b080934",
   "metadata": {},
   "outputs": [
    {
     "data": {
      "text/plain": [
       "['MAKE\\tFUELTYPE\\tASPIRE\\tDOORS\\tBODY\\tDRIVE\\tCYLINDERS\\tHP\\tRPM\\tMPG-CITY\\tMPG-HWY\\tPRICE',\n",
       " 'subaru\\tgas\\tstd\\ttwo\\thatchback\\tfwd\\tfour\\t69\\t4900\\t31\\t36\\t5118',\n",
       " 'chevrolet\\tgas\\tstd\\ttwo\\thatchback\\tfwd\\tthree\\t48\\t5100\\t47\\t53\\t5151',\n",
       " 'mazda\\tgas\\tstd\\ttwo\\thatchback\\tfwd\\tfour\\t68\\t5000\\t30\\t31\\t5195',\n",
       " 'toyota\\tgas\\tstd\\ttwo\\thatchback\\tfwd\\tfour\\t62\\t4800\\t35\\t39\\t5348']"
      ]
     },
     "execution_count": 38,
     "metadata": {},
     "output_type": "execute_result"
    }
   ],
   "source": [
    "# Map() e criação de um novo RDD - Transformação - Lazy Evaluation\n",
    "tsvData = autoDataRDD.map(lambda x : x.replace(\",\",\"\\t\"))\n",
    "tsvData.take(5)"
   ]
  },
  {
   "cell_type": "code",
   "execution_count": 39,
   "id": "642a0603",
   "metadata": {},
   "outputs": [
    {
     "data": {
      "text/plain": [
       "'MAKE,FUELTYPE,ASPIRE,DOORS,BODY,DRIVE,CYLINDERS,HP,RPM,MPG-CITY,MPG-HWY,PRICE'"
      ]
     },
     "execution_count": 39,
     "metadata": {},
     "output_type": "execute_result"
    }
   ],
   "source": [
    "autoDataRDD.first()"
   ]
  },
  {
   "cell_type": "code",
   "execution_count": 40,
   "id": "6de8bf99",
   "metadata": {},
   "outputs": [],
   "source": [
    "# Filter() e criação de um novo RDD - Transformação - Lazy Evaluation\n",
    "toyotaData = autoDataRDD.filter(lambda x: \"toyota\" in x)"
   ]
  },
  {
   "cell_type": "code",
   "execution_count": 41,
   "id": "05b811de",
   "metadata": {},
   "outputs": [
    {
     "data": {
      "text/plain": [
       "32"
      ]
     },
     "execution_count": 41,
     "metadata": {},
     "output_type": "execute_result"
    }
   ],
   "source": [
    "# Ação\n",
    "toyotaData.count()"
   ]
  },
  {
   "cell_type": "code",
   "execution_count": 42,
   "id": "a28ca2ca",
   "metadata": {},
   "outputs": [
    {
     "data": {
      "text/plain": [
       "['toyota,gas,std,two,hatchback,fwd,four,62,4800,35,39,5348',\n",
       " 'toyota,gas,std,two,hatchback,fwd,four,62,4800,31,38,6338',\n",
       " 'toyota,gas,std,four,hatchback,fwd,four,62,4800,31,38,6488',\n",
       " 'toyota,gas,std,four,wagon,fwd,four,62,4800,31,37,6918',\n",
       " 'toyota,gas,std,four,sedan,fwd,four,70,4800,30,37,6938',\n",
       " 'toyota,gas,std,four,hatchback,fwd,four,70,4800,30,37,7198',\n",
       " 'toyota,gas,std,four,sedan,fwd,four,70,4800,38,47,7738',\n",
       " 'toyota,diesel,std,four,hatchback,fwd,four,56,4500,38,47,7788',\n",
       " 'toyota,gas,std,four,wagon,4wd,four,62,4800,27,32,7898',\n",
       " 'toyota,diesel,std,four,sedan,fwd,four,56,4500,34,36,7898',\n",
       " 'toyota,gas,std,two,sedan,rwd,four,70,4800,29,34,8058',\n",
       " 'toyota,gas,std,two,hatchback,rwd,four,70,4800,29,34,8238',\n",
       " 'toyota,gas,std,four,hatchback,fwd,four,70,4800,28,34,8358',\n",
       " 'toyota,gas,std,two,hardtop,rwd,four,116,4800,24,30,8449',\n",
       " 'toyota,gas,std,four,wagon,4wd,four,62,4800,27,32,8778',\n",
       " 'toyota,gas,std,four,sedan,fwd,four,92,4200,29,34,8948',\n",
       " 'toyota,gas,std,four,sedan,fwd,four,70,4800,28,34,9258',\n",
       " 'toyota,gas,std,two,sedan,rwd,four,112,6600,26,29,9298',\n",
       " 'toyota,gas,std,two,hatchback,rwd,four,112,6600,26,29,9538',\n",
       " 'toyota,gas,std,two,hardtop,rwd,four,116,4800,24,30,9639']"
      ]
     },
     "execution_count": 42,
     "metadata": {},
     "output_type": "execute_result"
    }
   ],
   "source": [
    "# Ação\n",
    "toyotaData.take(20)"
   ]
  },
  {
   "cell_type": "code",
   "execution_count": 43,
   "id": "77d8d5ba",
   "metadata": {},
   "outputs": [],
   "source": [
    "# Pode salvar o conjunto de dados, o RDD. \n",
    "# Nesse caso, o Spark solicita os dados ao processo Master e então gera um arquivo de saída.\n",
    "savedRDD = open(r\"06.04 Cap06\\carros_v2.csv\",\"w\")\n",
    "savedRDD.write(\"\\n\".join(autoDataRDD.collect()))\n",
    "savedRDD.close()"
   ]
  },
  {
   "cell_type": "markdown",
   "id": "d9e4d89b",
   "metadata": {},
   "source": [
    "# Capítulo 6.13: Operações Set, Outer Join e Distinct"
   ]
  },
  {
   "cell_type": "markdown",
   "id": "eea90aa1",
   "metadata": {},
   "source": [
    "## Operações Set"
   ]
  },
  {
   "cell_type": "code",
   "execution_count": 44,
   "id": "28148edd",
   "metadata": {},
   "outputs": [],
   "source": [
    "# Set operations\n",
    "palavras1 = sc.parallelize([\"Big Data\",\"Data Science\",\"Analytics\",\"Visualization\"])\n",
    "palavras2 = sc.parallelize([\"Big Data\",\"R\",\"Python\",\"Scala\"])"
   ]
  },
  {
   "cell_type": "code",
   "execution_count": 45,
   "id": "03bc4975",
   "metadata": {},
   "outputs": [
    {
     "name": "stdout",
     "output_type": "stream",
     "text": [
      "Data Science\n",
      "R\n",
      "Visualization\n",
      "Scala\n",
      "Big Data\n",
      "Python\n",
      "Analytics\n"
     ]
    }
   ],
   "source": [
    "# União\n",
    "for unions in palavras1.union(palavras2).distinct().collect():\n",
    "    print(unions)\n",
    "    \n",
    "# .distinct(): Valroes únicos\n",
    "# .collect(): Imprimir na tela"
   ]
  },
  {
   "cell_type": "code",
   "execution_count": 46,
   "id": "04267c3d",
   "metadata": {},
   "outputs": [
    {
     "name": "stdout",
     "output_type": "stream",
     "text": [
      "Big Data\n"
     ]
    }
   ],
   "source": [
    "# Interseção\n",
    "for intersects in palavras1.intersection(palavras2).collect():\n",
    "    print(intersects)\n",
    "    \n",
    "# .intersection(): Valores que aparecem em ambos os conjuntos"
   ]
  },
  {
   "cell_type": "code",
   "execution_count": 47,
   "id": "3eb50657",
   "metadata": {},
   "outputs": [
    {
     "data": {
      "text/plain": [
       "[1, 2, 3, 4, 5, 6, 7, 8, 9, 10, 11, 12, 13, 14, 15, 16, 17, 18, 19, 20]"
      ]
     },
     "execution_count": 47,
     "metadata": {},
     "output_type": "execute_result"
    }
   ],
   "source": [
    "rdd01 = sc.parallelize(range(1,10))\n",
    "rdd02 = sc.parallelize(range(10,21))\n",
    "rdd01.union(rdd02).collect()"
   ]
  },
  {
   "cell_type": "code",
   "execution_count": 48,
   "id": "210db98a",
   "metadata": {},
   "outputs": [
    {
     "data": {
      "text/plain": [
       "[8, 9, 5, 6, 7]"
      ]
     },
     "execution_count": 48,
     "metadata": {},
     "output_type": "execute_result"
    }
   ],
   "source": [
    "rdd01 = sc.parallelize(range(1,10))\n",
    "rdd02 = sc.parallelize(range(5,15))\n",
    "rdd01.intersection(rdd02).collect()"
   ]
  },
  {
   "cell_type": "markdown",
   "id": "6d78fd3d",
   "metadata": {},
   "source": [
    "## Left/Right Outer Join"
   ]
  },
  {
   "cell_type": "code",
   "execution_count": 53,
   "id": "33ef6c89",
   "metadata": {},
   "outputs": [
    {
     "data": {
      "text/plain": [
       "[('laranja', (1, 1))]"
      ]
     },
     "execution_count": 53,
     "metadata": {},
     "output_type": "execute_result"
    }
   ],
   "source": [
    "names1 = sc.parallelize((\"banana\", \"uva\", \"laranja\")).map(lambda a: (a, 1))\n",
    "names2 = sc.parallelize((\"laranja\", \"abacaxi\", \"manga\")).map(lambda a: (a, 1))\n",
    "names1.join(names2).collect()"
   ]
  },
  {
   "cell_type": "code",
   "execution_count": 54,
   "id": "eea158d8",
   "metadata": {},
   "outputs": [
    {
     "data": {
      "text/plain": [
       "[('uva', (1, None)), ('banana', (1, None)), ('laranja', (1, 1))]"
      ]
     },
     "execution_count": 54,
     "metadata": {},
     "output_type": "execute_result"
    }
   ],
   "source": [
    "names1.leftOuterJoin(names2).collect()"
   ]
  },
  {
   "cell_type": "code",
   "execution_count": 55,
   "id": "35a9e07b",
   "metadata": {},
   "outputs": [
    {
     "data": {
      "text/plain": [
       "[('manga', (None, 1)), ('laranja', (1, 1)), ('abacaxi', (None, 1))]"
      ]
     },
     "execution_count": 55,
     "metadata": {},
     "output_type": "execute_result"
    }
   ],
   "source": [
    "names1.rightOuterJoin(names2).collect()"
   ]
  },
  {
   "cell_type": "markdown",
   "id": "571ffcc2",
   "metadata": {},
   "source": [
    "## Distinct"
   ]
  },
  {
   "cell_type": "code",
   "execution_count": 56,
   "id": "d2dd1284",
   "metadata": {},
   "outputs": [
    {
     "name": "stdout",
     "output_type": "stream",
     "text": [
      "124\n",
      "652\n",
      "901\n",
      "397\n",
      "102\n"
     ]
    }
   ],
   "source": [
    "# Distinct\n",
    "lista1 = [124, 901, 652, 102, 397, 124, 901, 652]\n",
    "lstRDD = sc.parallelize(lista1) # transforma lista em RDD\n",
    "for numbData in lstRDD.distinct().collect(): # Valores únicos e imprime\n",
    "    print(numbData)"
   ]
  },
  {
   "cell_type": "markdown",
   "id": "2734ad91",
   "metadata": {},
   "source": [
    "## Transformação e Limpeza"
   ]
  },
  {
   "cell_type": "code",
   "execution_count": 57,
   "id": "eacbf9c4",
   "metadata": {},
   "outputs": [],
   "source": [
    "# Transformação e Limpeza\n",
    "def LimpaRDD(autoStr) :\n",
    "    if isinstance(autoStr, int) :\n",
    "        return autoStr\n",
    "    attList = autoStr.split(\",\")\n",
    "    \n",
    "    # Converte o número de portas para um num\n",
    "    if attList[3] == \"two\" :\n",
    "         attList[3] = \"2\"\n",
    "    else:\n",
    "         attList[3] = \"4\"\n",
    "    \n",
    "    # Convert o modelo do carro para uppercase\n",
    "    attList[5] = attList[4].upper()\n",
    "    return \",\".join(attList)"
   ]
  },
  {
   "cell_type": "code",
   "execution_count": 58,
   "id": "457c2560",
   "metadata": {},
   "outputs": [
    {
     "data": {
      "text/plain": [
       "['MAKE,FUELTYPE,ASPIRE,4,BODY,BODY,CYLINDERS,HP,RPM,MPG-CITY,MPG-HWY,PRICE',\n",
       " 'subaru,gas,std,2,hatchback,HATCHBACK,four,69,4900,31,36,5118',\n",
       " 'chevrolet,gas,std,2,hatchback,HATCHBACK,three,48,5100,47,53,5151',\n",
       " 'mazda,gas,std,2,hatchback,HATCHBACK,four,68,5000,30,31,5195',\n",
       " 'toyota,gas,std,2,hatchback,HATCHBACK,four,62,4800,35,39,5348',\n",
       " 'mitsubishi,gas,std,2,hatchback,HATCHBACK,four,68,5500,37,41,5389',\n",
       " 'honda,gas,std,2,hatchback,HATCHBACK,four,60,5500,38,42,5399',\n",
       " 'nissan,gas,std,2,sedan,SEDAN,four,69,5200,31,37,5499',\n",
       " 'dodge,gas,std,2,hatchback,HATCHBACK,four,68,5500,37,41,5572',\n",
       " 'plymouth,gas,std,2,hatchback,HATCHBACK,four,68,5500,37,41,5572',\n",
       " 'mazda,gas,std,2,hatchback,HATCHBACK,four,68,5000,31,38,6095',\n",
       " 'mitsubishi,gas,std,2,hatchback,HATCHBACK,four,68,5500,31,38,6189',\n",
       " 'dodge,gas,std,4,hatchback,HATCHBACK,four,68,5500,31,38,6229',\n",
       " 'plymouth,gas,std,4,hatchback,HATCHBACK,four,68,5500,31,38,6229',\n",
       " 'chevrolet,gas,std,2,hatchback,HATCHBACK,four,70,5400,38,43,6295',\n",
       " 'toyota,gas,std,2,hatchback,HATCHBACK,four,62,4800,31,38,6338',\n",
       " 'dodge,gas,std,2,hatchback,HATCHBACK,four,68,5500,31,38,6377',\n",
       " 'honda,gas,std,2,hatchback,HATCHBACK,four,58,4800,49,54,6479',\n",
       " 'toyota,gas,std,4,hatchback,HATCHBACK,four,62,4800,31,38,6488',\n",
       " 'honda,gas,std,2,hatchback,HATCHBACK,four,76,6000,30,34,6529',\n",
       " 'chevrolet,gas,std,4,sedan,SEDAN,four,70,5400,38,43,6575',\n",
       " 'nissan,gas,std,2,sedan,SEDAN,four,69,5200,31,37,6649',\n",
       " 'mitsubishi,gas,std,2,hatchback,HATCHBACK,four,68,5500,31,38,6669',\n",
       " 'dodge,gas,std,4,sedan,SEDAN,four,68,5500,31,38,6692',\n",
       " 'plymouth,gas,std,4,sedan,SEDAN,four,68,5500,31,38,6692',\n",
       " 'mazda,gas,std,4,sedan,SEDAN,four,68,5000,31,38,6695',\n",
       " 'isuzu,gas,std,4,sedan,SEDAN,four,78,4800,24,29,6785',\n",
       " 'mazda,gas,std,2,hatchback,HATCHBACK,four,68,5000,31,38,6795',\n",
       " 'nissan,gas,std,4,sedan,SEDAN,four,69,5200,31,37,6849',\n",
       " 'honda,gas,std,2,hatchback,HATCHBACK,four,76,6000,31,38,6855',\n",
       " 'toyota,gas,std,4,wagon,WAGON,four,62,4800,31,37,6918',\n",
       " 'toyota,gas,std,4,sedan,SEDAN,four,70,4800,30,37,6938',\n",
       " 'mitsubishi,gas,std,4,sedan,SEDAN,four,88,5000,25,32,6989',\n",
       " 'subaru,gas,std,2,hatchback,HATCHBACK,four,73,4400,26,31,7053',\n",
       " 'nissan,diesel,std,2,sedan,SEDAN,four,55,4800,45,50,7099',\n",
       " 'subaru,gas,std,4,sedan,SEDAN,four,82,4800,32,37,7126',\n",
       " 'honda,gas,std,2,hatchback,HATCHBACK,four,76,6000,30,34,7129',\n",
       " 'toyota,gas,std,4,hatchback,HATCHBACK,four,70,4800,30,37,7198',\n",
       " 'honda,gas,std,4,sedan,SEDAN,four,76,6000,30,34,7295',\n",
       " 'honda,gas,std,4,wagon,WAGON,four,76,6000,30,34,7295',\n",
       " 'nissan,gas,std,2,sedan,SEDAN,four,69,5200,31,37,7299',\n",
       " 'nissan,gas,std,4,wagon,WAGON,four,69,5200,31,37,7349',\n",
       " 'mazda,gas,std,4,sedan,SEDAN,four,68,5000,31,38,7395',\n",
       " 'subaru,gas,std,4,wagon,WAGON,four,82,4800,28,32,7463',\n",
       " 'nissan,gas,std,4,sedan,SEDAN,four,69,5200,31,37,7499',\n",
       " 'subaru,gas,std,2,hatchback,HATCHBACK,four,73,4400,26,31,7603',\n",
       " 'dodge,gas,std,4,sedan,SEDAN,four,68,5500,31,38,7609',\n",
       " 'plymouth,gas,std,4,sedan,SEDAN,four,68,5500,31,38,7609',\n",
       " 'mitsubishi,gas,turbo,2,hatchback,HATCHBACK,four,102,5500,24,30,7689',\n",
       " 'toyota,gas,std,4,sedan,SEDAN,four,70,4800,38,47,7738',\n",
       " 'subaru,gas,std,4,sedan,SEDAN,four,82,4400,28,33,7775',\n",
       " 'volkswagen,diesel,std,2,sedan,SEDAN,four,52,4800,37,46,7775',\n",
       " 'toyota,diesel,std,4,hatchback,HATCHBACK,four,56,4500,38,47,7788',\n",
       " 'nissan,gas,std,2,hatchback,HATCHBACK,four,69,5200,31,37,7799',\n",
       " 'honda,gas,std,2,hatchback,HATCHBACK,four,86,5800,27,33,7895',\n",
       " 'toyota,gas,std,4,wagon,WAGON,four,62,4800,27,32,7898',\n",
       " 'toyota,diesel,std,4,sedan,SEDAN,four,56,4500,34,36,7898',\n",
       " 'dodge,gas,turbo,2,hatchback,HATCHBACK,four,102,5500,24,30,7957',\n",
       " 'plymouth,gas,turbo,2,hatchback,HATCHBACK,four,102,5500,24,30,7957',\n",
       " 'volkswagen,gas,std,2,sedan,SEDAN,four,85,5250,27,34,7975',\n",
       " 'volkswagen,diesel,std,4,sedan,SEDAN,four,52,4800,37,46,7995',\n",
       " 'nissan,gas,std,4,wagon,WAGON,four,69,5200,31,37,7999',\n",
       " 'subaru,gas,std,4,wagon,WAGON,four,82,4800,23,29,8013',\n",
       " 'toyota,gas,std,2,sedan,SEDAN,four,70,4800,29,34,8058',\n",
       " 'mitsubishi,gas,std,4,sedan,SEDAN,four,88,5000,25,32,8189',\n",
       " 'volkswagen,gas,std,4,sedan,SEDAN,four,85,5250,27,34,8195',\n",
       " 'toyota,gas,std,2,hatchback,HATCHBACK,four,70,4800,29,34,8238',\n",
       " 'nissan,gas,std,2,hardtop,HARDTOP,four,69,5200,31,37,8249',\n",
       " 'toyota,gas,std,4,hatchback,HATCHBACK,four,70,4800,28,34,8358',\n",
       " 'toyota,gas,std,2,hardtop,HARDTOP,four,116,4800,24,30,8449',\n",
       " 'mazda,gas,std,4,sedan,SEDAN,four,84,4800,26,32,8495',\n",
       " 'volkswagen,gas,std,4,sedan,SEDAN,four,85,5250,27,34,8495',\n",
       " 'mitsubishi,gas,std,2,hatchback,HATCHBACK,four,88,5000,25,32,8499',\n",
       " 'toyota,gas,std,4,wagon,WAGON,four,62,4800,27,32,8778',\n",
       " 'honda,gas,std,4,sedan,SEDAN,four,86,5800,27,33,8845',\n",
       " 'mazda,gas,std,2,hatchback,HATCHBACK,four,84,4800,26,32,8845',\n",
       " 'dodge,gas,std,4,wagon,WAGON,four,88,5000,24,30,8921',\n",
       " 'plymouth,gas,std,4,wagon,WAGON,four,88,5000,24,30,8921',\n",
       " 'toyota,gas,std,4,sedan,SEDAN,four,92,4200,29,34,8948',\n",
       " 'nissan,gas,std,4,hatchback,HATCHBACK,four,97,5200,27,34,8949',\n",
       " 'honda,gas,std,2,hatchback,HATCHBACK,four,86,5800,27,33,9095',\n",
       " 'subaru,gas,std,4,sedan,SEDAN,four,82,4800,24,25,9233',\n",
       " 'toyota,gas,std,4,sedan,SEDAN,four,70,4800,28,34,9258',\n",
       " 'mitsubishi,gas,turbo,4,sedan,SEDAN,four,116,5500,23,30,9279',\n",
       " 'mitsubishi,gas,std,4,sedan,SEDAN,four,116,5500,23,30,9279',\n",
       " 'toyota,gas,std,2,sedan,SEDAN,four,112,6600,26,29,9298',\n",
       " 'volkswagen,diesel,turbo,4,sedan,SEDAN,four,68,4500,37,42,9495',\n",
       " 'toyota,gas,std,2,hatchback,HATCHBACK,four,112,6600,26,29,9538',\n",
       " 'nissan,gas,std,4,sedan,SEDAN,four,97,5200,27,34,9549',\n",
       " 'toyota,gas,std,2,hardtop,HARDTOP,four,116,4800,24,30,9639',\n",
       " 'mitsubishi,gas,turbo,2,hatchback,HATCHBACK,four,116,5500,23,30,9959',\n",
       " 'subaru,gas,std,4,sedan,SEDAN,four,94,5200,26,32,9960',\n",
       " 'volkswagen,gas,std,2,hatchback,HATCHBACK,four,90,5500,24,29,9980',\n",
       " 'toyota,gas,std,4,hatchback,HATCHBACK,four,92,4200,27,32,9988',\n",
       " 'toyota,gas,std,2,hatchback,HATCHBACK,four,116,4800,24,30,9989',\n",
       " 'volkswagen,gas,std,4,sedan,SEDAN,four,100,5500,26,32,9995',\n",
       " 'subaru,gas,std,4,wagon,WAGON,four,94,5200,25,31,10198',\n",
       " 'mazda,gas,std,4,sedan,SEDAN,four,84,4800,26,32,10245',\n",
       " 'honda,gas,std,4,sedan,SEDAN,four,86,5800,27,33,10295',\n",
       " 'honda,gas,std,2,sedan,SEDAN,four,100,5500,25,31,10345',\n",
       " 'mazda,gas,std,2,hatchback,HATCHBACK,four,84,4800,26,32,10595',\n",
       " 'toyota,diesel,turbo,4,sedan,SEDAN,four,73,4500,30,33,10698',\n",
       " 'toyota,gas,std,4,sedan,SEDAN,four,92,4200,27,32,10898',\n",
       " 'mazda,gas,std,2,hatchback,HATCHBACK,two,101,6000,17,23,10945',\n",
       " 'isuzu,gas,std,2,hatchback,HATCHBACK,four,90,5000,24,29,11048',\n",
       " 'toyota,gas,std,2,hardtop,HARDTOP,four,116,4800,24,30,11199',\n",
       " 'mazda,gas,std,4,hatchback,HATCHBACK,four,84,4800,26,32,11245',\n",
       " 'toyota,gas,std,4,hatchback,HATCHBACK,four,92,4200,27,32,11248',\n",
       " 'subaru,gas,turbo,4,sedan,SEDAN,four,111,4800,24,29,11259',\n",
       " 'toyota,gas,std,2,hatchback,HATCHBACK,four,116,4800,24,30,11549',\n",
       " 'volkswagen,gas,std,2,convertible,CONVERTIBLE,four,90,5500,24,29,11595',\n",
       " 'subaru,gas,turbo,4,wagon,WAGON,four,111,4800,23,23,11694',\n",
       " 'mazda,gas,std,2,hatchback,HATCHBACK,two,101,6000,17,23,11845',\n",
       " 'saab,gas,std,2,hatchback,HATCHBACK,four,110,5250,21,28,11850',\n",
       " 'peugot,gas,std,4,sedan,SEDAN,four,97,5000,19,24,11900',\n",
       " 'saab,gas,std,4,sedan,SEDAN,four,110,5250,21,28,12170',\n",
       " 'volkswagen,gas,std,4,wagon,WAGON,four,88,5500,25,31,12290',\n",
       " 'peugot,gas,std,4,wagon,WAGON,four,97,5000,19,24,12440',\n",
       " 'mitsubishi,gas,turbo,2,hatchback,HATCHBACK,four,145,5000,19,24,12629',\n",
       " 'plymouth,gas,turbo,2,hatchback,HATCHBACK,four,145,5000,19,24,12764',\n",
       " 'volvo,gas,std,4,sedan,SEDAN,four,114,5400,23,28,12940',\n",
       " 'honda,gas,std,4,sedan,SEDAN,four,101,5800,24,28,12945',\n",
       " 'dodge,gas,turbo,2,hatchback,HATCHBACK,four,145,5000,19,24,12964',\n",
       " 'peugot,diesel,turbo,4,sedan,SEDAN,four,95,4150,28,33,13200',\n",
       " 'volkswagen,gas,std,4,sedan,SEDAN,five,110,5500,19,24,13295',\n",
       " 'volvo,gas,std,4,wagon,WAGON,four,114,5400,23,28,13415',\n",
       " 'alfa-romero,gas,std,2,convertible,CONVERTIBLE,four,111,5000,21,27,13495',\n",
       " 'nissan,gas,std,4,sedan,SEDAN,six,152,5200,17,22,13499',\n",
       " 'nissan,gas,std,4,sedan,SEDAN,six,152,5200,19,25,13499',\n",
       " 'mazda,gas,std,2,hatchback,HATCHBACK,two,101,6000,17,23,13645',\n",
       " 'volkswagen,diesel,turbo,4,sedan,SEDAN,four,68,4500,33,38,13845',\n",
       " 'peugot,diesel,turbo,4,wagon,WAGON,four,95,4150,25,25,13860',\n",
       " 'audi,gas,std,4,sedan,SEDAN,four,102,5500,24,30,13950',\n",
       " 'nissan,gas,std,4,wagon,WAGON,six,152,5200,17,22,14399',\n",
       " 'mitsubishi,gas,turbo,2,hatchback,HATCHBACK,four,145,5000,19,24,14489',\n",
       " 'mitsubishi,gas,turbo,2,hatchback,HATCHBACK,four,145,5000,19,24,14869',\n",
       " 'saab,gas,std,2,hatchback,HATCHBACK,four,110,5250,21,28,15040',\n",
       " 'audi,gas,std,2,sedan,SEDAN,five,110,5500,19,25,15250',\n",
       " 'saab,gas,std,4,sedan,SEDAN,four,110,5250,21,28,15510',\n",
       " 'peugot,gas,std,4,sedan,SEDAN,four,95,5000,19,24,15580',\n",
       " 'mazda,gas,std,2,hatchback,HATCHBACK,two,135,6000,16,23,15645',\n",
       " 'toyota,gas,std,4,sedan,SEDAN,six,156,5200,20,24,15690',\n",
       " 'toyota,gas,std,4,wagon,WAGON,six,156,5200,19,24,15750',\n",
       " 'volvo,gas,std,4,sedan,SEDAN,four,114,5400,24,28,15985',\n",
       " 'toyota,gas,std,2,hatchback,HATCHBACK,six,161,5200,19,24,15998',\n",
       " 'bmw,gas,std,2,sedan,SEDAN,four,101,5800,23,29,16430',\n",
       " 'alfa-romero,gas,std,2,convertible,CONVERTIBLE,four,111,5000,21,27,16500',\n",
       " 'alfa-romero,gas,std,2,hatchback,HATCHBACK,six,154,5000,19,26,16500',\n",
       " 'mercury,gas,turbo,2,hatchback,HATCHBACK,four,175,5000,19,24,16503',\n",
       " 'volvo,gas,std,4,wagon,WAGON,four,114,5400,24,28,16515',\n",
       " 'toyota,gas,std,2,hatchback,HATCHBACK,six,161,5200,20,24,16558',\n",
       " 'peugot,gas,std,4,sedan,SEDAN,four,97,5000,19,24,16630',\n",
       " 'peugot,gas,std,4,wagon,WAGON,four,95,5000,19,24,16695',\n",
       " 'volvo,gas,std,4,sedan,SEDAN,four,114,5400,23,28,16845',\n",
       " 'peugot,diesel,turbo,4,sedan,SEDAN,four,95,4150,28,33,16900',\n",
       " 'bmw,gas,std,4,sedan,SEDAN,four,101,5800,23,29,16925',\n",
       " 'peugot,diesel,turbo,4,wagon,WAGON,four,95,4150,25,25,17075',\n",
       " 'nissan,gas,std,2,hatchback,HATCHBACK,six,160,5200,19,25,17199',\n",
       " 'audi,gas,std,4,sedan,SEDAN,five,115,5500,18,22,17450',\n",
       " 'toyota,gas,std,2,convertible,CONVERTIBLE,four,116,4800,24,30,17669',\n",
       " 'audi,gas,std,4,sedan,SEDAN,five,110,5500,19,25,17710',\n",
       " 'peugot,diesel,turbo,4,sedan,SEDAN,four,95,4150,28,33,17950',\n",
       " 'peugot,gas,turbo,4,sedan,SEDAN,four,142,5600,18,24,18150',\n",
       " 'saab,gas,turbo,2,hatchback,HATCHBACK,four,160,5500,19,26,18150',\n",
       " 'mazda,gas,std,4,sedan,SEDAN,four,120,5000,19,27,18280',\n",
       " 'mazda,diesel,std,4,sedan,SEDAN,four,72,4200,31,39,18344',\n",
       " 'nissan,gas,std,2,hatchback,HATCHBACK,six,160,5200,19,25,18399',\n",
       " 'volvo,gas,turbo,4,sedan,SEDAN,four,162,5100,17,22,18420',\n",
       " 'saab,gas,turbo,4,sedan,SEDAN,four,160,5500,19,26,18620',\n",
       " 'audi,gas,std,4,wagon,WAGON,five,110,5500,19,25,18920',\n",
       " 'volvo,gas,turbo,4,wagon,WAGON,four,162,5100,17,22,18950',\n",
       " 'volvo,gas,turbo,4,sedan,SEDAN,four,160,5300,19,25,19045',\n",
       " 'nissan,gas,turbo,2,hatchback,HATCHBACK,six,200,5200,17,23,19699',\n",
       " 'bmw,gas,std,2,sedan,SEDAN,six,121,4250,21,28,20970',\n",
       " 'bmw,gas,std,4,sedan,SEDAN,six,121,4250,21,28,21105',\n",
       " 'volvo,gas,std,4,sedan,SEDAN,six,134,5500,18,23,21485',\n",
       " 'porsche,gas,std,2,hatchback,HATCHBACK,four,143,5500,19,27,22018',\n",
       " 'volvo,diesel,turbo,4,sedan,SEDAN,six,106,4800,26,27,22470',\n",
       " 'volvo,gas,turbo,4,sedan,SEDAN,four,114,5400,19,25,22625',\n",
       " 'audi,gas,turbo,4,sedan,SEDAN,five,140,5500,17,20,23875',\n",
       " 'bmw,gas,std,4,sedan,SEDAN,six,121,4250,20,25,24565',\n",
       " 'mercedes-benz,diesel,turbo,4,sedan,SEDAN,five,123,4350,22,25,25552',\n",
       " 'mercedes-benz,diesel,turbo,2,hardtop,HARDTOP,five,123,4350,22,25,28176',\n",
       " 'mercedes-benz,diesel,turbo,4,wagon,WAGON,five,123,4350,22,25,28248',\n",
       " 'bmw,gas,std,4,sedan,SEDAN,six,182,5400,16,22,30760',\n",
       " 'mercedes-benz,diesel,turbo,4,sedan,SEDAN,five,123,4350,22,25,31600',\n",
       " 'jaguar,gas,std,4,sedan,SEDAN,six,176,4750,15,19,32250',\n",
       " 'porsche,gas,std,2,hardtop,HARDTOP,six,207,5900,17,25,32528',\n",
       " 'porsche,gas,std,2,hardtop,HARDTOP,six,207,5900,17,25,34028',\n",
       " 'mercedes-benz,gas,std,4,sedan,SEDAN,eight,155,4750,16,18,34184',\n",
       " 'mercedes-benz,gas,std,2,convertible,CONVERTIBLE,eight,155,4750,16,18,35056',\n",
       " 'jaguar,gas,std,4,sedan,SEDAN,six,176,4750,15,19,35550',\n",
       " 'jaguar,gas,std,2,sedan,SEDAN,twelve,262,5000,13,17,36000',\n",
       " 'bmw,gas,std,4,sedan,SEDAN,six,182,5400,15,20,36880',\n",
       " 'porsche,gas,std,2,convertible,CONVERTIBLE,six,207,5900,17,25,37028',\n",
       " 'mercedes-benz,gas,std,4,sedan,SEDAN,eight,184,4500,14,16,40960',\n",
       " 'bmw,gas,std,2,sedan,SEDAN,six,182,5400,16,22,41315',\n",
       " 'mercedes-benz,gas,std,2,hardtop,HARDTOP,eight,184,4500,14,16,45400']"
      ]
     },
     "execution_count": 58,
     "metadata": {},
     "output_type": "execute_result"
    }
   ],
   "source": [
    "RDD_limpo = autoDataRDD.map(LimpaRDD)\n",
    "RDD_limpo.collect()"
   ]
  },
  {
   "cell_type": "markdown",
   "id": "62e896db",
   "metadata": {},
   "source": [
    "# Capítulo 6.15: Ações"
   ]
  },
  {
   "cell_type": "markdown",
   "id": "a71169a6",
   "metadata": {},
   "source": [
    "## Ações"
   ]
  },
  {
   "cell_type": "code",
   "execution_count": 59,
   "id": "d37768b1",
   "metadata": {},
   "outputs": [
    {
     "data": {
      "text/plain": [
       "3853"
      ]
     },
     "execution_count": 59,
     "metadata": {},
     "output_type": "execute_result"
    }
   ],
   "source": [
    "# reduce() - soma de valores\n",
    "lista2 = [124, 901, 652, 102, 397, 124, 901, 652]\n",
    "lstRDD = sc.parallelize(lista2)\n",
    "lstRDD.collect()\n",
    "lstRDD.reduce(lambda x,y: x + y)"
   ]
  },
  {
   "cell_type": "code",
   "execution_count": 60,
   "id": "d4d53605",
   "metadata": {},
   "outputs": [
    {
     "data": {
      "text/plain": [
       "'bmw,gas,std,two,sedan,rwd,six,182,5400,16,22,41315'"
      ]
     },
     "execution_count": 60,
     "metadata": {},
     "output_type": "execute_result"
    }
   ],
   "source": [
    "# Encontrando a linha com menor número de caracteres\n",
    "autoDataRDD.reduce(lambda x,y: x if len(x) < len(y) else y)"
   ]
  },
  {
   "cell_type": "code",
   "execution_count": 61,
   "id": "fa33640e",
   "metadata": {},
   "outputs": [],
   "source": [
    "# Criando uma função para redução\n",
    "def getMPG(autoStr) :\n",
    "    if isinstance(autoStr, int) :\n",
    "        return autoStr\n",
    "    attList = autoStr.split(\",\")\n",
    "    if attList[9].isdigit() :\n",
    "        return int(attList[9])\n",
    "    else:\n",
    "        return 0"
   ]
  },
  {
   "cell_type": "code",
   "execution_count": 62,
   "id": "2b42918a",
   "metadata": {},
   "outputs": [
    {
     "data": {
      "text/plain": [
       "25.15228426395939"
      ]
     },
     "execution_count": 62,
     "metadata": {},
     "output_type": "execute_result"
    }
   ],
   "source": [
    "# Encontrando a média de MPG para todos os carros\n",
    "autoDataRDD.reduce(lambda x,y : getMPG(x) + getMPG(y)) / (autoDataRDD.count() -1)"
   ]
  },
  {
   "cell_type": "code",
   "execution_count": 63,
   "id": "dada4ef5",
   "metadata": {},
   "outputs": [
    {
     "data": {
      "text/plain": [
       "['Botafogo', 'Vasco', 'Vasco']"
      ]
     },
     "execution_count": 63,
     "metadata": {},
     "output_type": "execute_result"
    }
   ],
   "source": [
    "teams = sc.parallelize((\"Flamengo\", \"Vasco\", \"Botafogo\", \"Fluminense\", \"Palmeiras\", \"Bahia\"))\n",
    "teams.takeSample(True, 3)"
   ]
  },
  {
   "cell_type": "code",
   "execution_count": 64,
   "id": "16e4f36a",
   "metadata": {},
   "outputs": [
    {
     "data": {
      "text/plain": [
       "dict_items([('Flamengo', 1), ('Vasco', 2), ('Botafogo', 1), ('Fluminense', 1), ('Palmeiras', 1), ('Bahia', 2)])"
      ]
     },
     "execution_count": 64,
     "metadata": {},
     "output_type": "execute_result"
    }
   ],
   "source": [
    "teams = sc.parallelize((\"Flamengo\", \"Vasco\", \"Botafogo\", \"Fluminense\", \"Palmeiras\", \"Bahia\", \"Bahia\", \"Vasco\"))\n",
    "teams.map(lambda k: (k,1)).countByKey().items()"
   ]
  },
  {
   "cell_type": "code",
   "execution_count": null,
   "id": "97689fe7",
   "metadata": {},
   "outputs": [],
   "source": [
    "autoDataRDD.saveAsTextFile(\"autoDataRDD.txt\")"
   ]
  },
  {
   "cell_type": "markdown",
   "id": "97dd2159",
   "metadata": {},
   "source": [
    "# Capítulo 6.16: Analisando Dados do Uber com Spark"
   ]
  },
  {
   "cell_type": "markdown",
   "id": "304c8859",
   "metadata": {},
   "source": [
    "## Analisando Dados do Uber"
   ]
  },
  {
   "cell_type": "markdown",
   "id": "001b9951",
   "metadata": {},
   "source": [
    "Dataset: https://github.com/fivethirtyeight/uber-tlc-foil-response"
   ]
  },
  {
   "cell_type": "code",
   "execution_count": 65,
   "id": "0b68761a",
   "metadata": {},
   "outputs": [],
   "source": [
    "from pandas import read_csv"
   ]
  },
  {
   "cell_type": "code",
   "execution_count": 66,
   "id": "0ce0becf",
   "metadata": {},
   "outputs": [
    {
     "data": {
      "text/plain": [
       "'3.0.3'"
      ]
     },
     "execution_count": 66,
     "metadata": {},
     "output_type": "execute_result"
    }
   ],
   "source": [
    "# Versão do Apache Spark\n",
    "sc.version"
   ]
  },
  {
   "cell_type": "code",
   "execution_count": 67,
   "id": "52ccaf96",
   "metadata": {},
   "outputs": [],
   "source": [
    "# Criando um objeto Pandas\n",
    "uberFile = read_csv(r\"06.04 Cap06\\uber.csv\")"
   ]
  },
  {
   "cell_type": "code",
   "execution_count": 68,
   "id": "3c9f1c29",
   "metadata": {},
   "outputs": [
    {
     "data": {
      "text/plain": [
       "pandas.core.frame.DataFrame"
      ]
     },
     "execution_count": 68,
     "metadata": {},
     "output_type": "execute_result"
    }
   ],
   "source": [
    "type(uberFile)"
   ]
  },
  {
   "cell_type": "code",
   "execution_count": 69,
   "id": "a9281359",
   "metadata": {},
   "outputs": [
    {
     "data": {
      "text/html": [
       "<div>\n",
       "<style scoped>\n",
       "    .dataframe tbody tr th:only-of-type {\n",
       "        vertical-align: middle;\n",
       "    }\n",
       "\n",
       "    .dataframe tbody tr th {\n",
       "        vertical-align: top;\n",
       "    }\n",
       "\n",
       "    .dataframe thead th {\n",
       "        text-align: right;\n",
       "    }\n",
       "</style>\n",
       "<table border=\"1\" class=\"dataframe\">\n",
       "  <thead>\n",
       "    <tr style=\"text-align: right;\">\n",
       "      <th></th>\n",
       "      <th>dispatching_base_number</th>\n",
       "      <th>date</th>\n",
       "      <th>active_vehicles</th>\n",
       "      <th>trips</th>\n",
       "    </tr>\n",
       "  </thead>\n",
       "  <tbody>\n",
       "    <tr>\n",
       "      <th>0</th>\n",
       "      <td>B02512</td>\n",
       "      <td>1/1/2015</td>\n",
       "      <td>190</td>\n",
       "      <td>1132</td>\n",
       "    </tr>\n",
       "    <tr>\n",
       "      <th>1</th>\n",
       "      <td>B02765</td>\n",
       "      <td>1/1/2015</td>\n",
       "      <td>225</td>\n",
       "      <td>1765</td>\n",
       "    </tr>\n",
       "    <tr>\n",
       "      <th>2</th>\n",
       "      <td>B02764</td>\n",
       "      <td>1/1/2015</td>\n",
       "      <td>3427</td>\n",
       "      <td>29421</td>\n",
       "    </tr>\n",
       "    <tr>\n",
       "      <th>3</th>\n",
       "      <td>B02682</td>\n",
       "      <td>1/1/2015</td>\n",
       "      <td>945</td>\n",
       "      <td>7679</td>\n",
       "    </tr>\n",
       "    <tr>\n",
       "      <th>4</th>\n",
       "      <td>B02617</td>\n",
       "      <td>1/1/2015</td>\n",
       "      <td>1228</td>\n",
       "      <td>9537</td>\n",
       "    </tr>\n",
       "    <tr>\n",
       "      <th>5</th>\n",
       "      <td>B02598</td>\n",
       "      <td>1/1/2015</td>\n",
       "      <td>870</td>\n",
       "      <td>6903</td>\n",
       "    </tr>\n",
       "    <tr>\n",
       "      <th>6</th>\n",
       "      <td>B02598</td>\n",
       "      <td>1/2/2015</td>\n",
       "      <td>785</td>\n",
       "      <td>4768</td>\n",
       "    </tr>\n",
       "    <tr>\n",
       "      <th>7</th>\n",
       "      <td>B02617</td>\n",
       "      <td>1/2/2015</td>\n",
       "      <td>1137</td>\n",
       "      <td>7065</td>\n",
       "    </tr>\n",
       "    <tr>\n",
       "      <th>8</th>\n",
       "      <td>B02512</td>\n",
       "      <td>1/2/2015</td>\n",
       "      <td>175</td>\n",
       "      <td>875</td>\n",
       "    </tr>\n",
       "    <tr>\n",
       "      <th>9</th>\n",
       "      <td>B02682</td>\n",
       "      <td>1/2/2015</td>\n",
       "      <td>890</td>\n",
       "      <td>5506</td>\n",
       "    </tr>\n",
       "  </tbody>\n",
       "</table>\n",
       "</div>"
      ],
      "text/plain": [
       "  dispatching_base_number      date  active_vehicles  trips\n",
       "0                  B02512  1/1/2015              190   1132\n",
       "1                  B02765  1/1/2015              225   1765\n",
       "2                  B02764  1/1/2015             3427  29421\n",
       "3                  B02682  1/1/2015              945   7679\n",
       "4                  B02617  1/1/2015             1228   9537\n",
       "5                  B02598  1/1/2015              870   6903\n",
       "6                  B02598  1/2/2015              785   4768\n",
       "7                  B02617  1/2/2015             1137   7065\n",
       "8                  B02512  1/2/2015              175    875\n",
       "9                  B02682  1/2/2015              890   5506"
      ]
     },
     "execution_count": 69,
     "metadata": {},
     "output_type": "execute_result"
    }
   ],
   "source": [
    "# Visualizando as primeiras linhas\n",
    "uberFile.head(10)"
   ]
  },
  {
   "cell_type": "code",
   "execution_count": 70,
   "id": "8cdbda05",
   "metadata": {},
   "outputs": [],
   "source": [
    "# Tranformando o dataframe (Pandas) em um Dataframe (Spark)\n",
    "uberDF = sqlContext.createDataFrame(uberFile)"
   ]
  },
  {
   "cell_type": "code",
   "execution_count": 71,
   "id": "be40b9ef",
   "metadata": {},
   "outputs": [
    {
     "data": {
      "text/plain": [
       "pyspark.sql.dataframe.DataFrame"
      ]
     },
     "execution_count": 71,
     "metadata": {},
     "output_type": "execute_result"
    }
   ],
   "source": [
    "type(uberDF)"
   ]
  },
  {
   "cell_type": "code",
   "execution_count": 72,
   "id": "7b78a437",
   "metadata": {},
   "outputs": [],
   "source": [
    "# Criando o RDD a partir dr arquivo csv\n",
    "uberRDD = sc.textFile(r\"06.04 Cap06\\uber.csv\")"
   ]
  },
  {
   "cell_type": "code",
   "execution_count": 73,
   "id": "ad04daf5",
   "metadata": {},
   "outputs": [
    {
     "data": {
      "text/plain": [
       "pyspark.rdd.RDD"
      ]
     },
     "execution_count": 73,
     "metadata": {},
     "output_type": "execute_result"
    }
   ],
   "source": [
    "type(uberRDD)"
   ]
  },
  {
   "cell_type": "code",
   "execution_count": 74,
   "id": "be02d89b",
   "metadata": {},
   "outputs": [
    {
     "data": {
      "text/plain": [
       "355"
      ]
     },
     "execution_count": 74,
     "metadata": {},
     "output_type": "execute_result"
    }
   ],
   "source": [
    "uberRDD.count()"
   ]
  },
  {
   "cell_type": "code",
   "execution_count": 75,
   "id": "eb98b560",
   "metadata": {},
   "outputs": [
    {
     "data": {
      "text/plain": [
       "'dispatching_base_number,date,active_vehicles,trips'"
      ]
     },
     "execution_count": 75,
     "metadata": {},
     "output_type": "execute_result"
    }
   ],
   "source": [
    "uberRDD.first()"
   ]
  },
  {
   "cell_type": "code",
   "execution_count": 76,
   "id": "2dd1e54d",
   "metadata": {},
   "outputs": [],
   "source": [
    "# Dividindo o arquivo em colunas, separadas pelo caracter \",\"\"\n",
    "uberLinhas = uberRDD.map(lambda line: line.split(\",\"))"
   ]
  },
  {
   "cell_type": "code",
   "execution_count": 77,
   "id": "124adf42",
   "metadata": {},
   "outputs": [
    {
     "data": {
      "text/plain": [
       "pyspark.rdd.PipelinedRDD"
      ]
     },
     "execution_count": 77,
     "metadata": {},
     "output_type": "execute_result"
    }
   ],
   "source": [
    "type(uberLinhas)"
   ]
  },
  {
   "cell_type": "code",
   "execution_count": 78,
   "id": "e334db0f",
   "metadata": {},
   "outputs": [
    {
     "data": {
      "text/plain": [
       "7"
      ]
     },
     "execution_count": 78,
     "metadata": {},
     "output_type": "execute_result"
    }
   ],
   "source": [
    "uberLinhas.map(lambda linha: linha[0]).distinct().count()"
   ]
  },
  {
   "cell_type": "code",
   "execution_count": 79,
   "id": "d4f79fdc",
   "metadata": {},
   "outputs": [
    {
     "data": {
      "text/plain": [
       "['dispatching_base_number',\n",
       " 'B02765',\n",
       " 'B02682',\n",
       " 'B02598',\n",
       " 'B02512',\n",
       " 'B02764',\n",
       " 'B02617']"
      ]
     },
     "execution_count": 79,
     "metadata": {},
     "output_type": "execute_result"
    }
   ],
   "source": [
    "uberLinhas.map(lambda linha: linha[0]).distinct().collect()"
   ]
  },
  {
   "cell_type": "code",
   "execution_count": 80,
   "id": "92e1f9b1",
   "metadata": {},
   "outputs": [
    {
     "data": {
      "text/plain": [
       "59"
      ]
     },
     "execution_count": 80,
     "metadata": {},
     "output_type": "execute_result"
    }
   ],
   "source": [
    "uberLinhas.filter(lambda linha: \"B02617\" in linha).count()"
   ]
  },
  {
   "cell_type": "code",
   "execution_count": 81,
   "id": "0b6947cd",
   "metadata": {},
   "outputs": [],
   "source": [
    "b02617_RDD = uberLinhas.filter(lambda linha: \"B02617\" in linha)"
   ]
  },
  {
   "cell_type": "code",
   "execution_count": 82,
   "id": "9d1a21c6",
   "metadata": {},
   "outputs": [
    {
     "data": {
      "text/plain": [
       "6"
      ]
     },
     "execution_count": 82,
     "metadata": {},
     "output_type": "execute_result"
    }
   ],
   "source": [
    "b02617_RDD.filter(lambda linha: int(linha[3]) > 15000).count()"
   ]
  },
  {
   "cell_type": "code",
   "execution_count": 83,
   "id": "46e8a0bc",
   "metadata": {},
   "outputs": [
    {
     "data": {
      "text/plain": [
       "[['B02617', '1/31/2015', '1394', '15756'],\n",
       " ['B02617', '2/6/2015', '1526', '15417'],\n",
       " ['B02617', '2/13/2015', '1590', '16996'],\n",
       " ['B02617', '2/14/2015', '1486', '16999'],\n",
       " ['B02617', '2/20/2015', '1574', '16856'],\n",
       " ['B02617', '2/21/2015', '1443', '16098']]"
      ]
     },
     "execution_count": 83,
     "metadata": {},
     "output_type": "execute_result"
    }
   ],
   "source": [
    "b02617_RDD.filter(lambda linha: int(linha[3]) > 15000).collect()"
   ]
  },
  {
   "cell_type": "code",
   "execution_count": 84,
   "id": "8d058a4f",
   "metadata": {},
   "outputs": [],
   "source": [
    "uberRDD2 = sc.textFile(r\"06.04 Cap06\\uber.csv\").filter(lambda line: \"base\" not in line).map(lambda line:line.split(\",\"))"
   ]
  },
  {
   "cell_type": "code",
   "execution_count": 85,
   "id": "500d625c",
   "metadata": {},
   "outputs": [
    {
     "data": {
      "text/plain": [
       "[('B02765', 193670),\n",
       " ('B02682', 662509),\n",
       " ('B02598', 540791),\n",
       " ('B02512', 93786),\n",
       " ('B02764', 1914449),\n",
       " ('B02617', 725025)]"
      ]
     },
     "execution_count": 85,
     "metadata": {},
     "output_type": "execute_result"
    }
   ],
   "source": [
    "uberRDD2.map(lambda kp: (kp[0], int(kp[3])) ).reduceByKey(lambda k,v: k + v).collect()"
   ]
  },
  {
   "cell_type": "code",
   "execution_count": null,
   "id": "35945f7b",
   "metadata": {},
   "outputs": [],
   "source": [
    "uberRDD2.map(lambda kp: (kp[0], int(kp[3])) ).reduceByKey(lambda k,v: k + v).takeOrdered(10, key = lambda x: -x[1])"
   ]
  },
  {
   "cell_type": "markdown",
   "id": "762d8e39",
   "metadata": {},
   "source": [
    "# Spark SQL"
   ]
  },
  {
   "cell_type": "markdown",
   "id": "ed75e0a9",
   "metadata": {},
   "source": [
    "# Capítulo 7.5: SQL com RDD"
   ]
  },
  {
   "cell_type": "markdown",
   "id": "3112df94",
   "metadata": {},
   "source": [
    "O Spark SQL é usado para acessar dados estruturados com Spark."
   ]
  },
  {
   "cell_type": "markdown",
   "id": "17f27bce",
   "metadata": {},
   "source": [
    "#### Acesse http://localhost:4040 sempre que quiser acompanhar a execução dos jobs. \n",
    "#### Pacotes adicionais podem ser encontrados aqui: https://spark-packages.org/ (usaremos um destes pacotes para conexão com o MongoDB)."
   ]
  },
  {
   "cell_type": "markdown",
   "id": "c2ffccf0",
   "metadata": {},
   "source": [
    "## Spark SQL e RDD's"
   ]
  },
  {
   "cell_type": "code",
   "execution_count": 86,
   "id": "31da6072",
   "metadata": {},
   "outputs": [],
   "source": [
    "from pyspark.sql import SparkSession\n",
    "from pyspark.sql import SQLContext\n",
    "from pyspark.sql import Row"
   ]
  },
  {
   "cell_type": "code",
   "execution_count": 87,
   "id": "a1952f65",
   "metadata": {},
   "outputs": [
    {
     "name": "stdout",
     "output_type": "stream",
     "text": [
      "<SparkContext master=local[*] appName=PySparkShell>\n"
     ]
    }
   ],
   "source": [
    "print(sc)"
   ]
  },
  {
   "cell_type": "code",
   "execution_count": 88,
   "id": "67acbb41",
   "metadata": {},
   "outputs": [],
   "source": [
    "# Spark Session - usada quando se trabalha com Dataframes no Spark\n",
    "spSession = SparkSession.builder.master(\"local\").appName(\"DSA-SparkSQL\").config(\"spark.some.config.option\", \"some-value\").getOrCreate()"
   ]
  },
  {
   "cell_type": "code",
   "execution_count": 89,
   "id": "8885050e",
   "metadata": {},
   "outputs": [],
   "source": [
    "# Criando o SQL Context para trabalhar com Spark SQL\n",
    "sqlContext = SQLContext(sc)"
   ]
  },
  {
   "cell_type": "code",
   "execution_count": 90,
   "id": "0b5b7711",
   "metadata": {},
   "outputs": [],
   "source": [
    "# Importando o arquivo e criando um RDD\n",
    "linhasRDD1 = sc.textFile(r\"07.01.01 Arquivos Cap07\\carros.csv\")"
   ]
  },
  {
   "cell_type": "code",
   "execution_count": 91,
   "id": "4694a69d",
   "metadata": {},
   "outputs": [
    {
     "data": {
      "text/plain": [
       "198"
      ]
     },
     "execution_count": 91,
     "metadata": {},
     "output_type": "execute_result"
    }
   ],
   "source": [
    "linhasRDD1.count()"
   ]
  },
  {
   "cell_type": "code",
   "execution_count": 92,
   "id": "6acf3c27",
   "metadata": {},
   "outputs": [],
   "source": [
    "# Removendo a primeira linha - Transformação 1\n",
    "linhasRDD2 = linhasRDD1.filter(lambda x: \"FUELTYPE\" not in x)"
   ]
  },
  {
   "cell_type": "code",
   "execution_count": 93,
   "id": "3b511858",
   "metadata": {},
   "outputs": [
    {
     "data": {
      "text/plain": [
       "197"
      ]
     },
     "execution_count": 93,
     "metadata": {},
     "output_type": "execute_result"
    }
   ],
   "source": [
    "linhasRDD2.count()"
   ]
  },
  {
   "cell_type": "code",
   "execution_count": 94,
   "id": "8764bc67",
   "metadata": {},
   "outputs": [],
   "source": [
    "# Dividindo o conjunto de dados em colunas - Transformação 2\n",
    "linhasRDD3 = linhasRDD2.map(lambda line: line.split(\",\"))"
   ]
  },
  {
   "cell_type": "code",
   "execution_count": 95,
   "id": "139a51c1",
   "metadata": {},
   "outputs": [],
   "source": [
    "# Dividindo o conjunto de dados em colunas - Transformação 3\n",
    "linhasRDD4 = linhasRDD3.map(lambda p: Row(make = p[0], body = p[4], hp = int(p[7])))"
   ]
  },
  {
   "cell_type": "code",
   "execution_count": 96,
   "id": "01dd9133",
   "metadata": {},
   "outputs": [],
   "source": [
    "?Row\n",
    "\n",
    "# Transforma cada linha em um objeto diferente.\n",
    "# Agora pode ser distribuído em diferentes partições, cluesters."
   ]
  },
  {
   "cell_type": "code",
   "execution_count": 97,
   "id": "44894663",
   "metadata": {},
   "outputs": [
    {
     "data": {
      "text/plain": [
       "[Row(make='subaru', body='hatchback', hp=69),\n",
       " Row(make='chevrolet', body='hatchback', hp=48),\n",
       " Row(make='mazda', body='hatchback', hp=68),\n",
       " Row(make='toyota', body='hatchback', hp=62),\n",
       " Row(make='mitsubishi', body='hatchback', hp=68),\n",
       " Row(make='honda', body='hatchback', hp=60),\n",
       " Row(make='nissan', body='sedan', hp=69),\n",
       " Row(make='dodge', body='hatchback', hp=68),\n",
       " Row(make='plymouth', body='hatchback', hp=68),\n",
       " Row(make='mazda', body='hatchback', hp=68),\n",
       " Row(make='mitsubishi', body='hatchback', hp=68),\n",
       " Row(make='dodge', body='hatchback', hp=68),\n",
       " Row(make='plymouth', body='hatchback', hp=68),\n",
       " Row(make='chevrolet', body='hatchback', hp=70),\n",
       " Row(make='toyota', body='hatchback', hp=62),\n",
       " Row(make='dodge', body='hatchback', hp=68),\n",
       " Row(make='honda', body='hatchback', hp=58),\n",
       " Row(make='toyota', body='hatchback', hp=62),\n",
       " Row(make='honda', body='hatchback', hp=76),\n",
       " Row(make='chevrolet', body='sedan', hp=70),\n",
       " Row(make='nissan', body='sedan', hp=69),\n",
       " Row(make='mitsubishi', body='hatchback', hp=68),\n",
       " Row(make='dodge', body='sedan', hp=68),\n",
       " Row(make='plymouth', body='sedan', hp=68),\n",
       " Row(make='mazda', body='sedan', hp=68),\n",
       " Row(make='isuzu', body='sedan', hp=78),\n",
       " Row(make='mazda', body='hatchback', hp=68),\n",
       " Row(make='nissan', body='sedan', hp=69),\n",
       " Row(make='honda', body='hatchback', hp=76),\n",
       " Row(make='toyota', body='wagon', hp=62),\n",
       " Row(make='toyota', body='sedan', hp=70),\n",
       " Row(make='mitsubishi', body='sedan', hp=88),\n",
       " Row(make='subaru', body='hatchback', hp=73),\n",
       " Row(make='nissan', body='sedan', hp=55),\n",
       " Row(make='subaru', body='sedan', hp=82),\n",
       " Row(make='honda', body='hatchback', hp=76),\n",
       " Row(make='toyota', body='hatchback', hp=70),\n",
       " Row(make='honda', body='sedan', hp=76),\n",
       " Row(make='honda', body='wagon', hp=76),\n",
       " Row(make='nissan', body='sedan', hp=69),\n",
       " Row(make='nissan', body='wagon', hp=69),\n",
       " Row(make='mazda', body='sedan', hp=68),\n",
       " Row(make='subaru', body='wagon', hp=82),\n",
       " Row(make='nissan', body='sedan', hp=69),\n",
       " Row(make='subaru', body='hatchback', hp=73),\n",
       " Row(make='dodge', body='sedan', hp=68),\n",
       " Row(make='plymouth', body='sedan', hp=68),\n",
       " Row(make='mitsubishi', body='hatchback', hp=102),\n",
       " Row(make='toyota', body='sedan', hp=70),\n",
       " Row(make='subaru', body='sedan', hp=82),\n",
       " Row(make='volkswagen', body='sedan', hp=52),\n",
       " Row(make='toyota', body='hatchback', hp=56),\n",
       " Row(make='nissan', body='hatchback', hp=69),\n",
       " Row(make='honda', body='hatchback', hp=86),\n",
       " Row(make='toyota', body='wagon', hp=62),\n",
       " Row(make='toyota', body='sedan', hp=56),\n",
       " Row(make='dodge', body='hatchback', hp=102),\n",
       " Row(make='plymouth', body='hatchback', hp=102),\n",
       " Row(make='volkswagen', body='sedan', hp=85),\n",
       " Row(make='volkswagen', body='sedan', hp=52),\n",
       " Row(make='nissan', body='wagon', hp=69),\n",
       " Row(make='subaru', body='wagon', hp=82),\n",
       " Row(make='toyota', body='sedan', hp=70),\n",
       " Row(make='mitsubishi', body='sedan', hp=88),\n",
       " Row(make='volkswagen', body='sedan', hp=85),\n",
       " Row(make='toyota', body='hatchback', hp=70),\n",
       " Row(make='nissan', body='hardtop', hp=69),\n",
       " Row(make='toyota', body='hatchback', hp=70),\n",
       " Row(make='toyota', body='hardtop', hp=116),\n",
       " Row(make='mazda', body='sedan', hp=84),\n",
       " Row(make='volkswagen', body='sedan', hp=85),\n",
       " Row(make='mitsubishi', body='hatchback', hp=88),\n",
       " Row(make='toyota', body='wagon', hp=62),\n",
       " Row(make='honda', body='sedan', hp=86),\n",
       " Row(make='mazda', body='hatchback', hp=84),\n",
       " Row(make='dodge', body='wagon', hp=88),\n",
       " Row(make='plymouth', body='wagon', hp=88),\n",
       " Row(make='toyota', body='sedan', hp=92),\n",
       " Row(make='nissan', body='hatchback', hp=97),\n",
       " Row(make='honda', body='hatchback', hp=86),\n",
       " Row(make='subaru', body='sedan', hp=82),\n",
       " Row(make='toyota', body='sedan', hp=70),\n",
       " Row(make='mitsubishi', body='sedan', hp=116),\n",
       " Row(make='mitsubishi', body='sedan', hp=116),\n",
       " Row(make='toyota', body='sedan', hp=112),\n",
       " Row(make='volkswagen', body='sedan', hp=68),\n",
       " Row(make='toyota', body='hatchback', hp=112),\n",
       " Row(make='nissan', body='sedan', hp=97),\n",
       " Row(make='toyota', body='hardtop', hp=116),\n",
       " Row(make='mitsubishi', body='hatchback', hp=116),\n",
       " Row(make='subaru', body='sedan', hp=94),\n",
       " Row(make='volkswagen', body='hatchback', hp=90),\n",
       " Row(make='toyota', body='hatchback', hp=92),\n",
       " Row(make='toyota', body='hatchback', hp=116),\n",
       " Row(make='volkswagen', body='sedan', hp=100),\n",
       " Row(make='subaru', body='wagon', hp=94),\n",
       " Row(make='mazda', body='sedan', hp=84),\n",
       " Row(make='honda', body='sedan', hp=86),\n",
       " Row(make='honda', body='sedan', hp=100),\n",
       " Row(make='mazda', body='hatchback', hp=84),\n",
       " Row(make='toyota', body='sedan', hp=73),\n",
       " Row(make='toyota', body='sedan', hp=92),\n",
       " Row(make='mazda', body='hatchback', hp=101),\n",
       " Row(make='isuzu', body='hatchback', hp=90),\n",
       " Row(make='toyota', body='hardtop', hp=116),\n",
       " Row(make='mazda', body='hatchback', hp=84),\n",
       " Row(make='toyota', body='hatchback', hp=92),\n",
       " Row(make='subaru', body='sedan', hp=111),\n",
       " Row(make='toyota', body='hatchback', hp=116),\n",
       " Row(make='volkswagen', body='convertible', hp=90),\n",
       " Row(make='subaru', body='wagon', hp=111),\n",
       " Row(make='mazda', body='hatchback', hp=101),\n",
       " Row(make='saab', body='hatchback', hp=110),\n",
       " Row(make='peugot', body='sedan', hp=97),\n",
       " Row(make='saab', body='sedan', hp=110),\n",
       " Row(make='volkswagen', body='wagon', hp=88),\n",
       " Row(make='peugot', body='wagon', hp=97),\n",
       " Row(make='mitsubishi', body='hatchback', hp=145),\n",
       " Row(make='plymouth', body='hatchback', hp=145),\n",
       " Row(make='volvo', body='sedan', hp=114),\n",
       " Row(make='honda', body='sedan', hp=101),\n",
       " Row(make='dodge', body='hatchback', hp=145),\n",
       " Row(make='peugot', body='sedan', hp=95),\n",
       " Row(make='volkswagen', body='sedan', hp=110),\n",
       " Row(make='volvo', body='wagon', hp=114),\n",
       " Row(make='alfa-romero', body='convertible', hp=111),\n",
       " Row(make='nissan', body='sedan', hp=152),\n",
       " Row(make='nissan', body='sedan', hp=152),\n",
       " Row(make='mazda', body='hatchback', hp=101),\n",
       " Row(make='volkswagen', body='sedan', hp=68),\n",
       " Row(make='peugot', body='wagon', hp=95),\n",
       " Row(make='audi', body='sedan', hp=102),\n",
       " Row(make='nissan', body='wagon', hp=152),\n",
       " Row(make='mitsubishi', body='hatchback', hp=145),\n",
       " Row(make='mitsubishi', body='hatchback', hp=145),\n",
       " Row(make='saab', body='hatchback', hp=110),\n",
       " Row(make='audi', body='sedan', hp=110),\n",
       " Row(make='saab', body='sedan', hp=110),\n",
       " Row(make='peugot', body='sedan', hp=95),\n",
       " Row(make='mazda', body='hatchback', hp=135),\n",
       " Row(make='toyota', body='sedan', hp=156),\n",
       " Row(make='toyota', body='wagon', hp=156),\n",
       " Row(make='volvo', body='sedan', hp=114),\n",
       " Row(make='toyota', body='hatchback', hp=161),\n",
       " Row(make='bmw', body='sedan', hp=101),\n",
       " Row(make='alfa-romero', body='convertible', hp=111),\n",
       " Row(make='alfa-romero', body='hatchback', hp=154),\n",
       " Row(make='mercury', body='hatchback', hp=175),\n",
       " Row(make='volvo', body='wagon', hp=114),\n",
       " Row(make='toyota', body='hatchback', hp=161),\n",
       " Row(make='peugot', body='sedan', hp=97),\n",
       " Row(make='peugot', body='wagon', hp=95),\n",
       " Row(make='volvo', body='sedan', hp=114),\n",
       " Row(make='peugot', body='sedan', hp=95),\n",
       " Row(make='bmw', body='sedan', hp=101),\n",
       " Row(make='peugot', body='wagon', hp=95),\n",
       " Row(make='nissan', body='hatchback', hp=160),\n",
       " Row(make='audi', body='sedan', hp=115),\n",
       " Row(make='toyota', body='convertible', hp=116),\n",
       " Row(make='audi', body='sedan', hp=110),\n",
       " Row(make='peugot', body='sedan', hp=95),\n",
       " Row(make='peugot', body='sedan', hp=142),\n",
       " Row(make='saab', body='hatchback', hp=160),\n",
       " Row(make='mazda', body='sedan', hp=120),\n",
       " Row(make='mazda', body='sedan', hp=72),\n",
       " Row(make='nissan', body='hatchback', hp=160),\n",
       " Row(make='volvo', body='sedan', hp=162),\n",
       " Row(make='saab', body='sedan', hp=160),\n",
       " Row(make='audi', body='wagon', hp=110),\n",
       " Row(make='volvo', body='wagon', hp=162),\n",
       " Row(make='volvo', body='sedan', hp=160),\n",
       " Row(make='nissan', body='hatchback', hp=200),\n",
       " Row(make='bmw', body='sedan', hp=121),\n",
       " Row(make='bmw', body='sedan', hp=121),\n",
       " Row(make='volvo', body='sedan', hp=134),\n",
       " Row(make='porsche', body='hatchback', hp=143),\n",
       " Row(make='volvo', body='sedan', hp=106),\n",
       " Row(make='volvo', body='sedan', hp=114),\n",
       " Row(make='audi', body='sedan', hp=140),\n",
       " Row(make='bmw', body='sedan', hp=121),\n",
       " Row(make='mercedes-benz', body='sedan', hp=123),\n",
       " Row(make='mercedes-benz', body='hardtop', hp=123),\n",
       " Row(make='mercedes-benz', body='wagon', hp=123),\n",
       " Row(make='bmw', body='sedan', hp=182),\n",
       " Row(make='mercedes-benz', body='sedan', hp=123),\n",
       " Row(make='jaguar', body='sedan', hp=176),\n",
       " Row(make='porsche', body='hardtop', hp=207),\n",
       " Row(make='porsche', body='hardtop', hp=207),\n",
       " Row(make='mercedes-benz', body='sedan', hp=155),\n",
       " Row(make='mercedes-benz', body='convertible', hp=155),\n",
       " Row(make='jaguar', body='sedan', hp=176),\n",
       " Row(make='jaguar', body='sedan', hp=262),\n",
       " Row(make='bmw', body='sedan', hp=182),\n",
       " Row(make='porsche', body='convertible', hp=207),\n",
       " Row(make='mercedes-benz', body='sedan', hp=184),\n",
       " Row(make='bmw', body='sedan', hp=182),\n",
       " Row(make='mercedes-benz', body='hardtop', hp=184)]"
      ]
     },
     "execution_count": 97,
     "metadata": {},
     "output_type": "execute_result"
    }
   ],
   "source": [
    "linhasRDD4.collect()"
   ]
  },
  {
   "cell_type": "code",
   "execution_count": 98,
   "id": "5e8940fa",
   "metadata": {},
   "outputs": [],
   "source": [
    "# Criando um dataframe a partir do RDD\n",
    "linhasDF = spSession.createDataFrame(linhasRDD4)"
   ]
  },
  {
   "cell_type": "code",
   "execution_count": 99,
   "id": "8d4c0ab3",
   "metadata": {},
   "outputs": [
    {
     "name": "stdout",
     "output_type": "stream",
     "text": [
      "+----------+---------+---+\n",
      "|      make|     body| hp|\n",
      "+----------+---------+---+\n",
      "|    subaru|hatchback| 69|\n",
      "| chevrolet|hatchback| 48|\n",
      "|     mazda|hatchback| 68|\n",
      "|    toyota|hatchback| 62|\n",
      "|mitsubishi|hatchback| 68|\n",
      "|     honda|hatchback| 60|\n",
      "|    nissan|    sedan| 69|\n",
      "|     dodge|hatchback| 68|\n",
      "|  plymouth|hatchback| 68|\n",
      "|     mazda|hatchback| 68|\n",
      "|mitsubishi|hatchback| 68|\n",
      "|     dodge|hatchback| 68|\n",
      "|  plymouth|hatchback| 68|\n",
      "| chevrolet|hatchback| 70|\n",
      "|    toyota|hatchback| 62|\n",
      "|     dodge|hatchback| 68|\n",
      "|     honda|hatchback| 58|\n",
      "|    toyota|hatchback| 62|\n",
      "|     honda|hatchback| 76|\n",
      "| chevrolet|    sedan| 70|\n",
      "+----------+---------+---+\n",
      "only showing top 20 rows\n",
      "\n"
     ]
    }
   ],
   "source": [
    "linhasDF.show()"
   ]
  },
  {
   "cell_type": "code",
   "execution_count": 100,
   "id": "8100f70c",
   "metadata": {},
   "outputs": [
    {
     "data": {
      "text/plain": [
       "pyspark.sql.dataframe.DataFrame"
      ]
     },
     "execution_count": 100,
     "metadata": {},
     "output_type": "execute_result"
    }
   ],
   "source": [
    "type(linhasDF)"
   ]
  },
  {
   "cell_type": "code",
   "execution_count": 101,
   "id": "c2b0eeae",
   "metadata": {},
   "outputs": [
    {
     "name": "stdout",
     "output_type": "stream",
     "text": [
      "+----------+---------+---+\n",
      "|      make|     body| hp|\n",
      "+----------+---------+---+\n",
      "|    subaru|hatchback| 69|\n",
      "| chevrolet|hatchback| 48|\n",
      "|     mazda|hatchback| 68|\n",
      "|    toyota|hatchback| 62|\n",
      "|mitsubishi|hatchback| 68|\n",
      "|     honda|hatchback| 60|\n",
      "|    nissan|    sedan| 69|\n",
      "|     dodge|hatchback| 68|\n",
      "|  plymouth|hatchback| 68|\n",
      "|     mazda|hatchback| 68|\n",
      "|mitsubishi|hatchback| 68|\n",
      "|     dodge|hatchback| 68|\n",
      "|  plymouth|hatchback| 68|\n",
      "| chevrolet|hatchback| 70|\n",
      "|    toyota|hatchback| 62|\n",
      "|     dodge|hatchback| 68|\n",
      "|     honda|hatchback| 58|\n",
      "|    toyota|hatchback| 62|\n",
      "|     honda|hatchback| 76|\n",
      "| chevrolet|    sedan| 70|\n",
      "+----------+---------+---+\n",
      "only showing top 20 rows\n",
      "\n"
     ]
    }
   ],
   "source": [
    "linhasDF.select(\"*\").show()"
   ]
  },
  {
   "cell_type": "code",
   "execution_count": 102,
   "id": "c34095cc",
   "metadata": {},
   "outputs": [
    {
     "name": "stdout",
     "output_type": "stream",
     "text": [
      "+-----------+-----------+---+\n",
      "|       make|       body| hp|\n",
      "+-----------+-----------+---+\n",
      "|alfa-romero|  hatchback|154|\n",
      "|alfa-romero|convertible|111|\n",
      "|alfa-romero|convertible|111|\n",
      "|       audi|      sedan|110|\n",
      "|       audi|      wagon|110|\n",
      "|       audi|      sedan|140|\n",
      "|       audi|      sedan|110|\n",
      "|       audi|      sedan|115|\n",
      "|       audi|      sedan|102|\n",
      "|        bmw|      sedan|121|\n",
      "|        bmw|      sedan|121|\n",
      "|        bmw|      sedan|182|\n",
      "|        bmw|      sedan|182|\n",
      "|        bmw|      sedan|101|\n",
      "|        bmw|      sedan|182|\n",
      "|        bmw|      sedan|121|\n",
      "|        bmw|      sedan|101|\n",
      "|  chevrolet|  hatchback| 70|\n",
      "|  chevrolet|      sedan| 70|\n",
      "|  chevrolet|  hatchback| 48|\n",
      "+-----------+-----------+---+\n",
      "only showing top 20 rows\n",
      "\n"
     ]
    }
   ],
   "source": [
    "linhasDF.orderBy(\"make\").show()"
   ]
  },
  {
   "cell_type": "code",
   "execution_count": 103,
   "id": "32b87db6",
   "metadata": {},
   "outputs": [],
   "source": [
    "# Registrando o dataframe como uma Temporary Table\n",
    "linhasDF.createOrReplaceTempView(\"linhasTB\")"
   ]
  },
  {
   "cell_type": "code",
   "execution_count": 104,
   "id": "e9cb22c7",
   "metadata": {},
   "outputs": [
    {
     "name": "stdout",
     "output_type": "stream",
     "text": [
      "+------+---------+---+\n",
      "|  make|     body| hp|\n",
      "+------+---------+---+\n",
      "|nissan|    sedan| 69|\n",
      "|nissan|    sedan| 69|\n",
      "|nissan|    sedan| 69|\n",
      "|nissan|    sedan| 55|\n",
      "|nissan|    sedan| 69|\n",
      "|nissan|    wagon| 69|\n",
      "|nissan|    sedan| 69|\n",
      "|nissan|hatchback| 69|\n",
      "|nissan|    wagon| 69|\n",
      "|nissan|  hardtop| 69|\n",
      "|nissan|hatchback| 97|\n",
      "|nissan|    sedan| 97|\n",
      "|nissan|    sedan|152|\n",
      "|nissan|    sedan|152|\n",
      "|nissan|    wagon|152|\n",
      "|nissan|hatchback|160|\n",
      "|nissan|hatchback|160|\n",
      "|nissan|hatchback|200|\n",
      "+------+---------+---+\n",
      "\n"
     ]
    }
   ],
   "source": [
    "# Executando queries SQL ANSI\n",
    "spSession.sql(\"select * from linhasTB where make = 'nissan'\").show()"
   ]
  },
  {
   "cell_type": "code",
   "execution_count": 105,
   "id": "2febff51",
   "metadata": {},
   "outputs": [
    {
     "name": "stdout",
     "output_type": "stream",
     "text": [
      "+-------------+-----------+-----------------+\n",
      "|         make|       body|          avg(hp)|\n",
      "+-------------+-----------+-----------------+\n",
      "|       nissan|      wagon|96.66666666666667|\n",
      "|       subaru|      sedan|             90.2|\n",
      "|     plymouth|      sedan|             68.0|\n",
      "|        dodge|  hatchback|             90.2|\n",
      "|       nissan|      sedan|             89.0|\n",
      "|        honda|      sedan|             89.8|\n",
      "|   mitsubishi|  hatchback|            105.0|\n",
      "|        mazda|      sedan|82.66666666666667|\n",
      "|  alfa-romero|convertible|            111.0|\n",
      "|mercedes-benz|convertible|            155.0|\n",
      "|     plymouth|      wagon|             88.0|\n",
      "|mercedes-benz|      wagon|            123.0|\n",
      "|        isuzu|  hatchback|             90.0|\n",
      "|       toyota|convertible|            116.0|\n",
      "|        mazda|  hatchback|             89.4|\n",
      "|    chevrolet|      sedan|             70.0|\n",
      "|      mercury|  hatchback|            175.0|\n",
      "|      porsche|  hatchback|            143.0|\n",
      "|        honda|      wagon|             76.0|\n",
      "|      porsche|convertible|            207.0|\n",
      "+-------------+-----------+-----------------+\n",
      "only showing top 20 rows\n",
      "\n"
     ]
    }
   ],
   "source": [
    "# Executando queries SQL ANSI\n",
    "spSession.sql(\"select make, body, avg(hp) from linhasTB group by make, body\").show()"
   ]
  },
  {
   "cell_type": "markdown",
   "id": "12015814",
   "metadata": {},
   "source": [
    "# Capítulo 7.6: Spark com Arquivos CSV"
   ]
  },
  {
   "cell_type": "markdown",
   "id": "949e6077",
   "metadata": {},
   "source": [
    "## Spark SQL e Arquivos CSV"
   ]
  },
  {
   "cell_type": "code",
   "execution_count": 106,
   "id": "ca19f1d5",
   "metadata": {},
   "outputs": [],
   "source": [
    "carrosDF = spSession.read.csv(r\"07.01.01 Arquivos Cap07\\carros.csv\", header = True)"
   ]
  },
  {
   "cell_type": "code",
   "execution_count": 107,
   "id": "8fc75f90",
   "metadata": {},
   "outputs": [
    {
     "data": {
      "text/plain": [
       "pyspark.sql.dataframe.DataFrame"
      ]
     },
     "execution_count": 107,
     "metadata": {},
     "output_type": "execute_result"
    }
   ],
   "source": [
    "type(carrosDF)"
   ]
  },
  {
   "cell_type": "code",
   "execution_count": 108,
   "id": "7a45e405",
   "metadata": {},
   "outputs": [
    {
     "name": "stdout",
     "output_type": "stream",
     "text": [
      "+----------+--------+------+-----+---------+-----+---------+---+----+--------+-------+-----+\n",
      "|      MAKE|FUELTYPE|ASPIRE|DOORS|     BODY|DRIVE|CYLINDERS| HP| RPM|MPG-CITY|MPG-HWY|PRICE|\n",
      "+----------+--------+------+-----+---------+-----+---------+---+----+--------+-------+-----+\n",
      "|    subaru|     gas|   std|  two|hatchback|  fwd|     four| 69|4900|      31|     36| 5118|\n",
      "| chevrolet|     gas|   std|  two|hatchback|  fwd|    three| 48|5100|      47|     53| 5151|\n",
      "|     mazda|     gas|   std|  two|hatchback|  fwd|     four| 68|5000|      30|     31| 5195|\n",
      "|    toyota|     gas|   std|  two|hatchback|  fwd|     four| 62|4800|      35|     39| 5348|\n",
      "|mitsubishi|     gas|   std|  two|hatchback|  fwd|     four| 68|5500|      37|     41| 5389|\n",
      "|     honda|     gas|   std|  two|hatchback|  fwd|     four| 60|5500|      38|     42| 5399|\n",
      "|    nissan|     gas|   std|  two|    sedan|  fwd|     four| 69|5200|      31|     37| 5499|\n",
      "|     dodge|     gas|   std|  two|hatchback|  fwd|     four| 68|5500|      37|     41| 5572|\n",
      "|  plymouth|     gas|   std|  two|hatchback|  fwd|     four| 68|5500|      37|     41| 5572|\n",
      "|     mazda|     gas|   std|  two|hatchback|  fwd|     four| 68|5000|      31|     38| 6095|\n",
      "|mitsubishi|     gas|   std|  two|hatchback|  fwd|     four| 68|5500|      31|     38| 6189|\n",
      "|     dodge|     gas|   std| four|hatchback|  fwd|     four| 68|5500|      31|     38| 6229|\n",
      "|  plymouth|     gas|   std| four|hatchback|  fwd|     four| 68|5500|      31|     38| 6229|\n",
      "| chevrolet|     gas|   std|  two|hatchback|  fwd|     four| 70|5400|      38|     43| 6295|\n",
      "|    toyota|     gas|   std|  two|hatchback|  fwd|     four| 62|4800|      31|     38| 6338|\n",
      "|     dodge|     gas|   std|  two|hatchback|  fwd|     four| 68|5500|      31|     38| 6377|\n",
      "|     honda|     gas|   std|  two|hatchback|  fwd|     four| 58|4800|      49|     54| 6479|\n",
      "|    toyota|     gas|   std| four|hatchback|  fwd|     four| 62|4800|      31|     38| 6488|\n",
      "|     honda|     gas|   std|  two|hatchback|  fwd|     four| 76|6000|      30|     34| 6529|\n",
      "| chevrolet|     gas|   std| four|    sedan|  fwd|     four| 70|5400|      38|     43| 6575|\n",
      "+----------+--------+------+-----+---------+-----+---------+---+----+--------+-------+-----+\n",
      "only showing top 20 rows\n",
      "\n"
     ]
    }
   ],
   "source": [
    "carrosDF.show()"
   ]
  },
  {
   "cell_type": "code",
   "execution_count": 109,
   "id": "a7ff37af",
   "metadata": {},
   "outputs": [],
   "source": [
    "# Registrando o dataframe como uma Temporary Table\n",
    "carrosDF.createOrReplaceTempView(\"carrosTB\")"
   ]
  },
  {
   "cell_type": "code",
   "execution_count": 110,
   "id": "5a8ac92c",
   "metadata": {},
   "outputs": [
    {
     "name": "stdout",
     "output_type": "stream",
     "text": [
      "+---------+---+-----+\n",
      "|     make| hp|price|\n",
      "+---------+---+-----+\n",
      "|chevrolet| 48| 5151|\n",
      "+---------+---+-----+\n",
      "\n"
     ]
    }
   ],
   "source": [
    "# Executando queries SQL ANSI\n",
    "spSession.sql(\"select make, hp, price from carrosTB where CYLINDERS = 'three'\").show()"
   ]
  },
  {
   "cell_type": "code",
   "execution_count": 111,
   "id": "114f0c35",
   "metadata": {},
   "outputs": [],
   "source": [
    "carrosTT = spSession.sql(\"select make, hp, price from carrosTB where CYLINDERS = 'three'\")"
   ]
  },
  {
   "cell_type": "code",
   "execution_count": 112,
   "id": "b5b75ceb",
   "metadata": {},
   "outputs": [
    {
     "name": "stdout",
     "output_type": "stream",
     "text": [
      "+---------+---+-----+\n",
      "|     make| hp|price|\n",
      "+---------+---+-----+\n",
      "|chevrolet| 48| 5151|\n",
      "+---------+---+-----+\n",
      "\n"
     ]
    }
   ],
   "source": [
    "carrosTT.show()"
   ]
  },
  {
   "cell_type": "markdown",
   "id": "7b377274",
   "metadata": {},
   "source": [
    "# Capítulo 7.7: Spark Machine Learning - Clustering"
   ]
  },
  {
   "cell_type": "markdown",
   "id": "9c2fc8ed",
   "metadata": {},
   "source": [
    "## Aplicando Machine Learning"
   ]
  },
  {
   "cell_type": "code",
   "execution_count": 113,
   "id": "a86cf75d",
   "metadata": {},
   "outputs": [
    {
     "data": {
      "text/plain": [
       "07.01.01 Arquivos Cap07\\carros.csv MapPartitionsRDD[195] at textFile at NativeMethodAccessorImpl.java:0"
      ]
     },
     "execution_count": 113,
     "metadata": {},
     "output_type": "execute_result"
    }
   ],
   "source": [
    "# Carregando o arquivo CSV e mantendo o objeto em cache\n",
    "carros = sc.textFile(r\"07.01.01 Arquivos Cap07\\carros.csv\")\n",
    "carros.cache()"
   ]
  },
  {
   "cell_type": "code",
   "execution_count": 114,
   "id": "58115e9d",
   "metadata": {},
   "outputs": [
    {
     "data": {
      "text/plain": [
       "197"
      ]
     },
     "execution_count": 114,
     "metadata": {},
     "output_type": "execute_result"
    }
   ],
   "source": [
    "# Remove a primeira linha (header)\n",
    "primeiraLinha = carros.first()\n",
    "linhas = carros.filter(lambda x: x != primeiraLinha)\n",
    "linhas.count()"
   ]
  },
  {
   "cell_type": "code",
   "execution_count": 115,
   "id": "5159d589",
   "metadata": {},
   "outputs": [],
   "source": [
    "# Importando função row e função vectors\n",
    "from pyspark.sql import Row\n",
    "from pyspark.ml.linalg import Vectors\n",
    "import math"
   ]
  },
  {
   "cell_type": "code",
   "execution_count": 116,
   "id": "4586d2f2",
   "metadata": {},
   "outputs": [],
   "source": [
    "# Convertendo para um vetor de linhas\n",
    "def transformToNumeric( inputStr) :\n",
    "    attList = inputStr.split(\",\")\n",
    "    doors = 1.0 if attList[3] == \"two\" else 2.0\n",
    "    body = 1.0 if attList[4] == \"sedan\" else 2.0 \n",
    "       \n",
    "    # Filtrando colunas não necessárias nesta etapa\n",
    "    valores = Row(DOORS = doors, BODY = float(body), HP = float(attList[7]), RPM = float(attList[8]), MPG = float(attList[9]))\n",
    "    return valores"
   ]
  },
  {
   "cell_type": "code",
   "execution_count": 117,
   "id": "5db4c0af",
   "metadata": {},
   "outputs": [
    {
     "data": {
      "text/plain": [
       "[Row(DOORS=1.0, BODY=2.0, HP=69.0, RPM=4900.0, MPG=31.0),\n",
       " Row(DOORS=1.0, BODY=2.0, HP=48.0, RPM=5100.0, MPG=47.0),\n",
       " Row(DOORS=1.0, BODY=2.0, HP=68.0, RPM=5000.0, MPG=30.0),\n",
       " Row(DOORS=1.0, BODY=2.0, HP=62.0, RPM=4800.0, MPG=35.0),\n",
       " Row(DOORS=1.0, BODY=2.0, HP=68.0, RPM=5500.0, MPG=37.0),\n",
       " Row(DOORS=1.0, BODY=2.0, HP=60.0, RPM=5500.0, MPG=38.0),\n",
       " Row(DOORS=1.0, BODY=1.0, HP=69.0, RPM=5200.0, MPG=31.0),\n",
       " Row(DOORS=1.0, BODY=2.0, HP=68.0, RPM=5500.0, MPG=37.0),\n",
       " Row(DOORS=1.0, BODY=2.0, HP=68.0, RPM=5500.0, MPG=37.0),\n",
       " Row(DOORS=1.0, BODY=2.0, HP=68.0, RPM=5000.0, MPG=31.0),\n",
       " Row(DOORS=1.0, BODY=2.0, HP=68.0, RPM=5500.0, MPG=31.0),\n",
       " Row(DOORS=2.0, BODY=2.0, HP=68.0, RPM=5500.0, MPG=31.0),\n",
       " Row(DOORS=2.0, BODY=2.0, HP=68.0, RPM=5500.0, MPG=31.0),\n",
       " Row(DOORS=1.0, BODY=2.0, HP=70.0, RPM=5400.0, MPG=38.0),\n",
       " Row(DOORS=1.0, BODY=2.0, HP=62.0, RPM=4800.0, MPG=31.0),\n",
       " Row(DOORS=1.0, BODY=2.0, HP=68.0, RPM=5500.0, MPG=31.0),\n",
       " Row(DOORS=1.0, BODY=2.0, HP=58.0, RPM=4800.0, MPG=49.0),\n",
       " Row(DOORS=2.0, BODY=2.0, HP=62.0, RPM=4800.0, MPG=31.0),\n",
       " Row(DOORS=1.0, BODY=2.0, HP=76.0, RPM=6000.0, MPG=30.0),\n",
       " Row(DOORS=2.0, BODY=1.0, HP=70.0, RPM=5400.0, MPG=38.0),\n",
       " Row(DOORS=1.0, BODY=1.0, HP=69.0, RPM=5200.0, MPG=31.0),\n",
       " Row(DOORS=1.0, BODY=2.0, HP=68.0, RPM=5500.0, MPG=31.0),\n",
       " Row(DOORS=2.0, BODY=1.0, HP=68.0, RPM=5500.0, MPG=31.0),\n",
       " Row(DOORS=2.0, BODY=1.0, HP=68.0, RPM=5500.0, MPG=31.0),\n",
       " Row(DOORS=2.0, BODY=1.0, HP=68.0, RPM=5000.0, MPG=31.0),\n",
       " Row(DOORS=2.0, BODY=1.0, HP=78.0, RPM=4800.0, MPG=24.0),\n",
       " Row(DOORS=1.0, BODY=2.0, HP=68.0, RPM=5000.0, MPG=31.0),\n",
       " Row(DOORS=2.0, BODY=1.0, HP=69.0, RPM=5200.0, MPG=31.0),\n",
       " Row(DOORS=1.0, BODY=2.0, HP=76.0, RPM=6000.0, MPG=31.0),\n",
       " Row(DOORS=2.0, BODY=2.0, HP=62.0, RPM=4800.0, MPG=31.0),\n",
       " Row(DOORS=2.0, BODY=1.0, HP=70.0, RPM=4800.0, MPG=30.0),\n",
       " Row(DOORS=2.0, BODY=1.0, HP=88.0, RPM=5000.0, MPG=25.0),\n",
       " Row(DOORS=1.0, BODY=2.0, HP=73.0, RPM=4400.0, MPG=26.0),\n",
       " Row(DOORS=1.0, BODY=1.0, HP=55.0, RPM=4800.0, MPG=45.0),\n",
       " Row(DOORS=2.0, BODY=1.0, HP=82.0, RPM=4800.0, MPG=32.0),\n",
       " Row(DOORS=1.0, BODY=2.0, HP=76.0, RPM=6000.0, MPG=30.0),\n",
       " Row(DOORS=2.0, BODY=2.0, HP=70.0, RPM=4800.0, MPG=30.0),\n",
       " Row(DOORS=2.0, BODY=1.0, HP=76.0, RPM=6000.0, MPG=30.0),\n",
       " Row(DOORS=2.0, BODY=2.0, HP=76.0, RPM=6000.0, MPG=30.0),\n",
       " Row(DOORS=1.0, BODY=1.0, HP=69.0, RPM=5200.0, MPG=31.0),\n",
       " Row(DOORS=2.0, BODY=2.0, HP=69.0, RPM=5200.0, MPG=31.0),\n",
       " Row(DOORS=2.0, BODY=1.0, HP=68.0, RPM=5000.0, MPG=31.0),\n",
       " Row(DOORS=2.0, BODY=2.0, HP=82.0, RPM=4800.0, MPG=28.0),\n",
       " Row(DOORS=2.0, BODY=1.0, HP=69.0, RPM=5200.0, MPG=31.0),\n",
       " Row(DOORS=1.0, BODY=2.0, HP=73.0, RPM=4400.0, MPG=26.0),\n",
       " Row(DOORS=2.0, BODY=1.0, HP=68.0, RPM=5500.0, MPG=31.0),\n",
       " Row(DOORS=2.0, BODY=1.0, HP=68.0, RPM=5500.0, MPG=31.0),\n",
       " Row(DOORS=1.0, BODY=2.0, HP=102.0, RPM=5500.0, MPG=24.0),\n",
       " Row(DOORS=2.0, BODY=1.0, HP=70.0, RPM=4800.0, MPG=38.0),\n",
       " Row(DOORS=2.0, BODY=1.0, HP=82.0, RPM=4400.0, MPG=28.0),\n",
       " Row(DOORS=1.0, BODY=1.0, HP=52.0, RPM=4800.0, MPG=37.0),\n",
       " Row(DOORS=2.0, BODY=2.0, HP=56.0, RPM=4500.0, MPG=38.0),\n",
       " Row(DOORS=1.0, BODY=2.0, HP=69.0, RPM=5200.0, MPG=31.0),\n",
       " Row(DOORS=1.0, BODY=2.0, HP=86.0, RPM=5800.0, MPG=27.0),\n",
       " Row(DOORS=2.0, BODY=2.0, HP=62.0, RPM=4800.0, MPG=27.0),\n",
       " Row(DOORS=2.0, BODY=1.0, HP=56.0, RPM=4500.0, MPG=34.0),\n",
       " Row(DOORS=1.0, BODY=2.0, HP=102.0, RPM=5500.0, MPG=24.0),\n",
       " Row(DOORS=1.0, BODY=2.0, HP=102.0, RPM=5500.0, MPG=24.0),\n",
       " Row(DOORS=1.0, BODY=1.0, HP=85.0, RPM=5250.0, MPG=27.0),\n",
       " Row(DOORS=2.0, BODY=1.0, HP=52.0, RPM=4800.0, MPG=37.0),\n",
       " Row(DOORS=2.0, BODY=2.0, HP=69.0, RPM=5200.0, MPG=31.0),\n",
       " Row(DOORS=2.0, BODY=2.0, HP=82.0, RPM=4800.0, MPG=23.0),\n",
       " Row(DOORS=1.0, BODY=1.0, HP=70.0, RPM=4800.0, MPG=29.0),\n",
       " Row(DOORS=2.0, BODY=1.0, HP=88.0, RPM=5000.0, MPG=25.0),\n",
       " Row(DOORS=2.0, BODY=1.0, HP=85.0, RPM=5250.0, MPG=27.0),\n",
       " Row(DOORS=1.0, BODY=2.0, HP=70.0, RPM=4800.0, MPG=29.0),\n",
       " Row(DOORS=1.0, BODY=2.0, HP=69.0, RPM=5200.0, MPG=31.0),\n",
       " Row(DOORS=2.0, BODY=2.0, HP=70.0, RPM=4800.0, MPG=28.0),\n",
       " Row(DOORS=1.0, BODY=2.0, HP=116.0, RPM=4800.0, MPG=24.0),\n",
       " Row(DOORS=2.0, BODY=1.0, HP=84.0, RPM=4800.0, MPG=26.0),\n",
       " Row(DOORS=2.0, BODY=1.0, HP=85.0, RPM=5250.0, MPG=27.0),\n",
       " Row(DOORS=1.0, BODY=2.0, HP=88.0, RPM=5000.0, MPG=25.0),\n",
       " Row(DOORS=2.0, BODY=2.0, HP=62.0, RPM=4800.0, MPG=27.0),\n",
       " Row(DOORS=2.0, BODY=1.0, HP=86.0, RPM=5800.0, MPG=27.0),\n",
       " Row(DOORS=1.0, BODY=2.0, HP=84.0, RPM=4800.0, MPG=26.0),\n",
       " Row(DOORS=2.0, BODY=2.0, HP=88.0, RPM=5000.0, MPG=24.0),\n",
       " Row(DOORS=2.0, BODY=2.0, HP=88.0, RPM=5000.0, MPG=24.0),\n",
       " Row(DOORS=2.0, BODY=1.0, HP=92.0, RPM=4200.0, MPG=29.0),\n",
       " Row(DOORS=2.0, BODY=2.0, HP=97.0, RPM=5200.0, MPG=27.0),\n",
       " Row(DOORS=1.0, BODY=2.0, HP=86.0, RPM=5800.0, MPG=27.0),\n",
       " Row(DOORS=2.0, BODY=1.0, HP=82.0, RPM=4800.0, MPG=24.0),\n",
       " Row(DOORS=2.0, BODY=1.0, HP=70.0, RPM=4800.0, MPG=28.0),\n",
       " Row(DOORS=2.0, BODY=1.0, HP=116.0, RPM=5500.0, MPG=23.0),\n",
       " Row(DOORS=2.0, BODY=1.0, HP=116.0, RPM=5500.0, MPG=23.0),\n",
       " Row(DOORS=1.0, BODY=1.0, HP=112.0, RPM=6600.0, MPG=26.0),\n",
       " Row(DOORS=2.0, BODY=1.0, HP=68.0, RPM=4500.0, MPG=37.0),\n",
       " Row(DOORS=1.0, BODY=2.0, HP=112.0, RPM=6600.0, MPG=26.0),\n",
       " Row(DOORS=2.0, BODY=1.0, HP=97.0, RPM=5200.0, MPG=27.0),\n",
       " Row(DOORS=1.0, BODY=2.0, HP=116.0, RPM=4800.0, MPG=24.0),\n",
       " Row(DOORS=1.0, BODY=2.0, HP=116.0, RPM=5500.0, MPG=23.0),\n",
       " Row(DOORS=2.0, BODY=1.0, HP=94.0, RPM=5200.0, MPG=26.0),\n",
       " Row(DOORS=1.0, BODY=2.0, HP=90.0, RPM=5500.0, MPG=24.0),\n",
       " Row(DOORS=2.0, BODY=2.0, HP=92.0, RPM=4200.0, MPG=27.0),\n",
       " Row(DOORS=1.0, BODY=2.0, HP=116.0, RPM=4800.0, MPG=24.0),\n",
       " Row(DOORS=2.0, BODY=1.0, HP=100.0, RPM=5500.0, MPG=26.0),\n",
       " Row(DOORS=2.0, BODY=2.0, HP=94.0, RPM=5200.0, MPG=25.0),\n",
       " Row(DOORS=2.0, BODY=1.0, HP=84.0, RPM=4800.0, MPG=26.0),\n",
       " Row(DOORS=2.0, BODY=1.0, HP=86.0, RPM=5800.0, MPG=27.0),\n",
       " Row(DOORS=1.0, BODY=1.0, HP=100.0, RPM=5500.0, MPG=25.0),\n",
       " Row(DOORS=1.0, BODY=2.0, HP=84.0, RPM=4800.0, MPG=26.0),\n",
       " Row(DOORS=2.0, BODY=1.0, HP=73.0, RPM=4500.0, MPG=30.0),\n",
       " Row(DOORS=2.0, BODY=1.0, HP=92.0, RPM=4200.0, MPG=27.0),\n",
       " Row(DOORS=1.0, BODY=2.0, HP=101.0, RPM=6000.0, MPG=17.0),\n",
       " Row(DOORS=1.0, BODY=2.0, HP=90.0, RPM=5000.0, MPG=24.0),\n",
       " Row(DOORS=1.0, BODY=2.0, HP=116.0, RPM=4800.0, MPG=24.0),\n",
       " Row(DOORS=2.0, BODY=2.0, HP=84.0, RPM=4800.0, MPG=26.0),\n",
       " Row(DOORS=2.0, BODY=2.0, HP=92.0, RPM=4200.0, MPG=27.0),\n",
       " Row(DOORS=2.0, BODY=1.0, HP=111.0, RPM=4800.0, MPG=24.0),\n",
       " Row(DOORS=1.0, BODY=2.0, HP=116.0, RPM=4800.0, MPG=24.0),\n",
       " Row(DOORS=1.0, BODY=2.0, HP=90.0, RPM=5500.0, MPG=24.0),\n",
       " Row(DOORS=2.0, BODY=2.0, HP=111.0, RPM=4800.0, MPG=23.0),\n",
       " Row(DOORS=1.0, BODY=2.0, HP=101.0, RPM=6000.0, MPG=17.0),\n",
       " Row(DOORS=1.0, BODY=2.0, HP=110.0, RPM=5250.0, MPG=21.0),\n",
       " Row(DOORS=2.0, BODY=1.0, HP=97.0, RPM=5000.0, MPG=19.0),\n",
       " Row(DOORS=2.0, BODY=1.0, HP=110.0, RPM=5250.0, MPG=21.0),\n",
       " Row(DOORS=2.0, BODY=2.0, HP=88.0, RPM=5500.0, MPG=25.0),\n",
       " Row(DOORS=2.0, BODY=2.0, HP=97.0, RPM=5000.0, MPG=19.0),\n",
       " Row(DOORS=1.0, BODY=2.0, HP=145.0, RPM=5000.0, MPG=19.0),\n",
       " Row(DOORS=1.0, BODY=2.0, HP=145.0, RPM=5000.0, MPG=19.0),\n",
       " Row(DOORS=2.0, BODY=1.0, HP=114.0, RPM=5400.0, MPG=23.0),\n",
       " Row(DOORS=2.0, BODY=1.0, HP=101.0, RPM=5800.0, MPG=24.0),\n",
       " Row(DOORS=1.0, BODY=2.0, HP=145.0, RPM=5000.0, MPG=19.0),\n",
       " Row(DOORS=2.0, BODY=1.0, HP=95.0, RPM=4150.0, MPG=28.0),\n",
       " Row(DOORS=2.0, BODY=1.0, HP=110.0, RPM=5500.0, MPG=19.0),\n",
       " Row(DOORS=2.0, BODY=2.0, HP=114.0, RPM=5400.0, MPG=23.0),\n",
       " Row(DOORS=1.0, BODY=2.0, HP=111.0, RPM=5000.0, MPG=21.0),\n",
       " Row(DOORS=2.0, BODY=1.0, HP=152.0, RPM=5200.0, MPG=17.0),\n",
       " Row(DOORS=2.0, BODY=1.0, HP=152.0, RPM=5200.0, MPG=19.0),\n",
       " Row(DOORS=1.0, BODY=2.0, HP=101.0, RPM=6000.0, MPG=17.0),\n",
       " Row(DOORS=2.0, BODY=1.0, HP=68.0, RPM=4500.0, MPG=33.0),\n",
       " Row(DOORS=2.0, BODY=2.0, HP=95.0, RPM=4150.0, MPG=25.0),\n",
       " Row(DOORS=2.0, BODY=1.0, HP=102.0, RPM=5500.0, MPG=24.0),\n",
       " Row(DOORS=2.0, BODY=2.0, HP=152.0, RPM=5200.0, MPG=17.0),\n",
       " Row(DOORS=1.0, BODY=2.0, HP=145.0, RPM=5000.0, MPG=19.0),\n",
       " Row(DOORS=1.0, BODY=2.0, HP=145.0, RPM=5000.0, MPG=19.0),\n",
       " Row(DOORS=1.0, BODY=2.0, HP=110.0, RPM=5250.0, MPG=21.0),\n",
       " Row(DOORS=1.0, BODY=1.0, HP=110.0, RPM=5500.0, MPG=19.0),\n",
       " Row(DOORS=2.0, BODY=1.0, HP=110.0, RPM=5250.0, MPG=21.0),\n",
       " Row(DOORS=2.0, BODY=1.0, HP=95.0, RPM=5000.0, MPG=19.0),\n",
       " Row(DOORS=1.0, BODY=2.0, HP=135.0, RPM=6000.0, MPG=16.0),\n",
       " Row(DOORS=2.0, BODY=1.0, HP=156.0, RPM=5200.0, MPG=20.0),\n",
       " Row(DOORS=2.0, BODY=2.0, HP=156.0, RPM=5200.0, MPG=19.0),\n",
       " Row(DOORS=2.0, BODY=1.0, HP=114.0, RPM=5400.0, MPG=24.0),\n",
       " Row(DOORS=1.0, BODY=2.0, HP=161.0, RPM=5200.0, MPG=19.0),\n",
       " Row(DOORS=1.0, BODY=1.0, HP=101.0, RPM=5800.0, MPG=23.0),\n",
       " Row(DOORS=1.0, BODY=2.0, HP=111.0, RPM=5000.0, MPG=21.0),\n",
       " Row(DOORS=1.0, BODY=2.0, HP=154.0, RPM=5000.0, MPG=19.0),\n",
       " Row(DOORS=1.0, BODY=2.0, HP=175.0, RPM=5000.0, MPG=19.0),\n",
       " Row(DOORS=2.0, BODY=2.0, HP=114.0, RPM=5400.0, MPG=24.0),\n",
       " Row(DOORS=1.0, BODY=2.0, HP=161.0, RPM=5200.0, MPG=20.0),\n",
       " Row(DOORS=2.0, BODY=1.0, HP=97.0, RPM=5000.0, MPG=19.0),\n",
       " Row(DOORS=2.0, BODY=2.0, HP=95.0, RPM=5000.0, MPG=19.0),\n",
       " Row(DOORS=2.0, BODY=1.0, HP=114.0, RPM=5400.0, MPG=23.0),\n",
       " Row(DOORS=2.0, BODY=1.0, HP=95.0, RPM=4150.0, MPG=28.0),\n",
       " Row(DOORS=2.0, BODY=1.0, HP=101.0, RPM=5800.0, MPG=23.0),\n",
       " Row(DOORS=2.0, BODY=2.0, HP=95.0, RPM=4150.0, MPG=25.0),\n",
       " Row(DOORS=1.0, BODY=2.0, HP=160.0, RPM=5200.0, MPG=19.0),\n",
       " Row(DOORS=2.0, BODY=1.0, HP=115.0, RPM=5500.0, MPG=18.0),\n",
       " Row(DOORS=1.0, BODY=2.0, HP=116.0, RPM=4800.0, MPG=24.0),\n",
       " Row(DOORS=2.0, BODY=1.0, HP=110.0, RPM=5500.0, MPG=19.0),\n",
       " Row(DOORS=2.0, BODY=1.0, HP=95.0, RPM=4150.0, MPG=28.0),\n",
       " Row(DOORS=2.0, BODY=1.0, HP=142.0, RPM=5600.0, MPG=18.0),\n",
       " Row(DOORS=1.0, BODY=2.0, HP=160.0, RPM=5500.0, MPG=19.0),\n",
       " Row(DOORS=2.0, BODY=1.0, HP=120.0, RPM=5000.0, MPG=19.0),\n",
       " Row(DOORS=2.0, BODY=1.0, HP=72.0, RPM=4200.0, MPG=31.0),\n",
       " Row(DOORS=1.0, BODY=2.0, HP=160.0, RPM=5200.0, MPG=19.0),\n",
       " Row(DOORS=2.0, BODY=1.0, HP=162.0, RPM=5100.0, MPG=17.0),\n",
       " Row(DOORS=2.0, BODY=1.0, HP=160.0, RPM=5500.0, MPG=19.0),\n",
       " Row(DOORS=2.0, BODY=2.0, HP=110.0, RPM=5500.0, MPG=19.0),\n",
       " Row(DOORS=2.0, BODY=2.0, HP=162.0, RPM=5100.0, MPG=17.0),\n",
       " Row(DOORS=2.0, BODY=1.0, HP=160.0, RPM=5300.0, MPG=19.0),\n",
       " Row(DOORS=1.0, BODY=2.0, HP=200.0, RPM=5200.0, MPG=17.0),\n",
       " Row(DOORS=1.0, BODY=1.0, HP=121.0, RPM=4250.0, MPG=21.0),\n",
       " Row(DOORS=2.0, BODY=1.0, HP=121.0, RPM=4250.0, MPG=21.0),\n",
       " Row(DOORS=2.0, BODY=1.0, HP=134.0, RPM=5500.0, MPG=18.0),\n",
       " Row(DOORS=1.0, BODY=2.0, HP=143.0, RPM=5500.0, MPG=19.0),\n",
       " Row(DOORS=2.0, BODY=1.0, HP=106.0, RPM=4800.0, MPG=26.0),\n",
       " Row(DOORS=2.0, BODY=1.0, HP=114.0, RPM=5400.0, MPG=19.0),\n",
       " Row(DOORS=2.0, BODY=1.0, HP=140.0, RPM=5500.0, MPG=17.0),\n",
       " Row(DOORS=2.0, BODY=1.0, HP=121.0, RPM=4250.0, MPG=20.0),\n",
       " Row(DOORS=2.0, BODY=1.0, HP=123.0, RPM=4350.0, MPG=22.0),\n",
       " Row(DOORS=1.0, BODY=2.0, HP=123.0, RPM=4350.0, MPG=22.0),\n",
       " Row(DOORS=2.0, BODY=2.0, HP=123.0, RPM=4350.0, MPG=22.0),\n",
       " Row(DOORS=2.0, BODY=1.0, HP=182.0, RPM=5400.0, MPG=16.0),\n",
       " Row(DOORS=2.0, BODY=1.0, HP=123.0, RPM=4350.0, MPG=22.0),\n",
       " Row(DOORS=2.0, BODY=1.0, HP=176.0, RPM=4750.0, MPG=15.0),\n",
       " Row(DOORS=1.0, BODY=2.0, HP=207.0, RPM=5900.0, MPG=17.0),\n",
       " Row(DOORS=1.0, BODY=2.0, HP=207.0, RPM=5900.0, MPG=17.0),\n",
       " Row(DOORS=2.0, BODY=1.0, HP=155.0, RPM=4750.0, MPG=16.0),\n",
       " Row(DOORS=1.0, BODY=2.0, HP=155.0, RPM=4750.0, MPG=16.0),\n",
       " Row(DOORS=2.0, BODY=1.0, HP=176.0, RPM=4750.0, MPG=15.0),\n",
       " Row(DOORS=1.0, BODY=1.0, HP=262.0, RPM=5000.0, MPG=13.0),\n",
       " Row(DOORS=2.0, BODY=1.0, HP=182.0, RPM=5400.0, MPG=15.0),\n",
       " Row(DOORS=1.0, BODY=2.0, HP=207.0, RPM=5900.0, MPG=17.0),\n",
       " Row(DOORS=2.0, BODY=1.0, HP=184.0, RPM=4500.0, MPG=14.0),\n",
       " Row(DOORS=1.0, BODY=1.0, HP=182.0, RPM=5400.0, MPG=16.0),\n",
       " Row(DOORS=1.0, BODY=2.0, HP=184.0, RPM=4500.0, MPG=14.0)]"
      ]
     },
     "execution_count": 117,
     "metadata": {},
     "output_type": "execute_result"
    }
   ],
   "source": [
    "autoMap = linhas.map(transformToNumeric)\n",
    "autoMap.persist() # Persistência desse objeto em memória\n",
    "autoMap.collect()"
   ]
  },
  {
   "cell_type": "code",
   "execution_count": 118,
   "id": "707764af",
   "metadata": {},
   "outputs": [
    {
     "name": "stdout",
     "output_type": "stream",
     "text": [
      "+-----+----+----+------+----+\n",
      "|DOORS|BODY|  HP|   RPM| MPG|\n",
      "+-----+----+----+------+----+\n",
      "|  1.0| 2.0|69.0|4900.0|31.0|\n",
      "|  1.0| 2.0|48.0|5100.0|47.0|\n",
      "|  1.0| 2.0|68.0|5000.0|30.0|\n",
      "|  1.0| 2.0|62.0|4800.0|35.0|\n",
      "|  1.0| 2.0|68.0|5500.0|37.0|\n",
      "|  1.0| 2.0|60.0|5500.0|38.0|\n",
      "|  1.0| 1.0|69.0|5200.0|31.0|\n",
      "|  1.0| 2.0|68.0|5500.0|37.0|\n",
      "|  1.0| 2.0|68.0|5500.0|37.0|\n",
      "|  1.0| 2.0|68.0|5000.0|31.0|\n",
      "|  1.0| 2.0|68.0|5500.0|31.0|\n",
      "|  2.0| 2.0|68.0|5500.0|31.0|\n",
      "|  2.0| 2.0|68.0|5500.0|31.0|\n",
      "|  1.0| 2.0|70.0|5400.0|38.0|\n",
      "|  1.0| 2.0|62.0|4800.0|31.0|\n",
      "|  1.0| 2.0|68.0|5500.0|31.0|\n",
      "|  1.0| 2.0|58.0|4800.0|49.0|\n",
      "|  2.0| 2.0|62.0|4800.0|31.0|\n",
      "|  1.0| 2.0|76.0|6000.0|30.0|\n",
      "|  2.0| 1.0|70.0|5400.0|38.0|\n",
      "+-----+----+----+------+----+\n",
      "only showing top 20 rows\n",
      "\n"
     ]
    }
   ],
   "source": [
    "# Criando o Dataframe\n",
    "carrosDf = spSession.createDataFrame(autoMap)\n",
    "carrosDf.show()"
   ]
  },
  {
   "cell_type": "code",
   "execution_count": 119,
   "id": "be9ccb66",
   "metadata": {},
   "outputs": [],
   "source": [
    "# Aplicando técnicas de normalização e escala\n",
    "summStats = carrosDf.describe().toPandas() # Convertendo df Spark para df Pandas\n",
    "medias = summStats.iloc[1,1:5].values.tolist()\n",
    "desvios_padroes = summStats.iloc[2,1:5].values.tolist()"
   ]
  },
  {
   "cell_type": "code",
   "execution_count": 120,
   "id": "8a1e941e",
   "metadata": {},
   "outputs": [],
   "source": [
    "# Inserindo a média e o desvio padrão em uma variável do tipo broadcast \n",
    "bcMedias = sc.broadcast(medias)\n",
    "bcDesviosP = sc.broadcast(desvios_padroes)"
   ]
  },
  {
   "cell_type": "code",
   "execution_count": 121,
   "id": "6636010a",
   "metadata": {},
   "outputs": [],
   "source": [
    "def centerAndScale(inRow) :\n",
    "    global bcMedias\n",
    "    global bcDesviosP\n",
    "    \n",
    "    meanArray = bcMedias.value\n",
    "    stdArray = bcDesviosP.value\n",
    "\n",
    "    retArray = []\n",
    "    for i in range(len(meanArray)):\n",
    "        retArray.append( (float(inRow[i]) - float(meanArray[i])) / float(stdArray[i]) )\n",
    "    return Vectors.dense(retArray)"
   ]
  },
  {
   "cell_type": "code",
   "execution_count": 122,
   "id": "8832611f",
   "metadata": {},
   "outputs": [
    {
     "data": {
      "text/plain": [
       "[DenseVector([-1.145, 0.9337, -0.9194, -0.4532]),\n",
       " DenseVector([-1.145, 0.9337, -1.4773, -0.0375]),\n",
       " DenseVector([-1.145, 0.9337, -0.9459, -0.2453]),\n",
       " DenseVector([-1.145, 0.9337, -1.1053, -0.6611]),\n",
       " DenseVector([-1.145, 0.9337, -0.9459, 0.7941]),\n",
       " DenseVector([-1.145, 0.9337, -1.1585, 0.7941]),\n",
       " DenseVector([-1.145, -1.0656, -0.9194, 0.1704]),\n",
       " DenseVector([-1.145, 0.9337, -0.9459, 0.7941]),\n",
       " DenseVector([-1.145, 0.9337, -0.9459, 0.7941]),\n",
       " DenseVector([-1.145, 0.9337, -0.9459, -0.2453]),\n",
       " DenseVector([-1.145, 0.9337, -0.9459, 0.7941]),\n",
       " DenseVector([0.869, 0.9337, -0.9459, 0.7941]),\n",
       " DenseVector([0.869, 0.9337, -0.9459, 0.7941]),\n",
       " DenseVector([-1.145, 0.9337, -0.8928, 0.5862]),\n",
       " DenseVector([-1.145, 0.9337, -1.1053, -0.6611]),\n",
       " DenseVector([-1.145, 0.9337, -0.9459, 0.7941]),\n",
       " DenseVector([-1.145, 0.9337, -1.2116, -0.6611]),\n",
       " DenseVector([0.869, 0.9337, -1.1053, -0.6611]),\n",
       " DenseVector([-1.145, 0.9337, -0.7334, 1.8335]),\n",
       " DenseVector([0.869, -1.0656, -0.8928, 0.5862]),\n",
       " DenseVector([-1.145, -1.0656, -0.9194, 0.1704]),\n",
       " DenseVector([-1.145, 0.9337, -0.9459, 0.7941]),\n",
       " DenseVector([0.869, -1.0656, -0.9459, 0.7941]),\n",
       " DenseVector([0.869, -1.0656, -0.9459, 0.7941]),\n",
       " DenseVector([0.869, -1.0656, -0.9459, -0.2453]),\n",
       " DenseVector([0.869, -1.0656, -0.6802, -0.6611]),\n",
       " DenseVector([-1.145, 0.9337, -0.9459, -0.2453]),\n",
       " DenseVector([0.869, -1.0656, -0.9194, 0.1704]),\n",
       " DenseVector([-1.145, 0.9337, -0.7334, 1.8335]),\n",
       " DenseVector([0.869, 0.9337, -1.1053, -0.6611]),\n",
       " DenseVector([0.869, -1.0656, -0.8928, -0.6611]),\n",
       " DenseVector([0.869, -1.0656, -0.4146, -0.2453]),\n",
       " DenseVector([-1.145, 0.9337, -0.8131, -1.4927]),\n",
       " DenseVector([-1.145, -1.0656, -1.2913, -0.6611]),\n",
       " DenseVector([0.869, -1.0656, -0.574, -0.6611]),\n",
       " DenseVector([-1.145, 0.9337, -0.7334, 1.8335]),\n",
       " DenseVector([0.869, 0.9337, -0.8928, -0.6611]),\n",
       " DenseVector([0.869, -1.0656, -0.7334, 1.8335]),\n",
       " DenseVector([0.869, 0.9337, -0.7334, 1.8335]),\n",
       " DenseVector([-1.145, -1.0656, -0.9194, 0.1704]),\n",
       " DenseVector([0.869, 0.9337, -0.9194, 0.1704]),\n",
       " DenseVector([0.869, -1.0656, -0.9459, -0.2453]),\n",
       " DenseVector([0.869, 0.9337, -0.574, -0.6611]),\n",
       " DenseVector([0.869, -1.0656, -0.9194, 0.1704]),\n",
       " DenseVector([-1.145, 0.9337, -0.8131, -1.4927]),\n",
       " DenseVector([0.869, -1.0656, -0.9459, 0.7941]),\n",
       " DenseVector([0.869, -1.0656, -0.9459, 0.7941]),\n",
       " DenseVector([-1.145, 0.9337, -0.0426, 0.7941]),\n",
       " DenseVector([0.869, -1.0656, -0.8928, -0.6611]),\n",
       " DenseVector([0.869, -1.0656, -0.574, -1.4927]),\n",
       " DenseVector([-1.145, -1.0656, -1.371, -0.6611]),\n",
       " DenseVector([0.869, 0.9337, -1.2647, -1.2848]),\n",
       " DenseVector([-1.145, 0.9337, -0.9194, 0.1704]),\n",
       " DenseVector([-1.145, 0.9337, -0.4677, 1.4177]),\n",
       " DenseVector([0.869, 0.9337, -1.1053, -0.6611]),\n",
       " DenseVector([0.869, -1.0656, -1.2647, -1.2848]),\n",
       " DenseVector([-1.145, 0.9337, -0.0426, 0.7941]),\n",
       " DenseVector([-1.145, 0.9337, -0.0426, 0.7941]),\n",
       " DenseVector([-1.145, -1.0656, -0.4943, 0.2744]),\n",
       " DenseVector([0.869, -1.0656, -1.371, -0.6611]),\n",
       " DenseVector([0.869, 0.9337, -0.9194, 0.1704]),\n",
       " DenseVector([0.869, 0.9337, -0.574, -0.6611]),\n",
       " DenseVector([-1.145, -1.0656, -0.8928, -0.6611]),\n",
       " DenseVector([0.869, -1.0656, -0.4146, -0.2453]),\n",
       " DenseVector([0.869, -1.0656, -0.4943, 0.2744]),\n",
       " DenseVector([-1.145, 0.9337, -0.8928, -0.6611]),\n",
       " DenseVector([-1.145, 0.9337, -0.9194, 0.1704]),\n",
       " DenseVector([0.869, 0.9337, -0.8928, -0.6611]),\n",
       " DenseVector([-1.145, 0.9337, 0.3293, -0.6611]),\n",
       " DenseVector([0.869, -1.0656, -0.5208, -0.6611]),\n",
       " DenseVector([0.869, -1.0656, -0.4943, 0.2744]),\n",
       " DenseVector([-1.145, 0.9337, -0.4146, -0.2453]),\n",
       " DenseVector([0.869, 0.9337, -1.1053, -0.6611]),\n",
       " DenseVector([0.869, -1.0656, -0.4677, 1.4177]),\n",
       " DenseVector([-1.145, 0.9337, -0.5208, -0.6611]),\n",
       " DenseVector([0.869, 0.9337, -0.4146, -0.2453]),\n",
       " DenseVector([0.869, 0.9337, -0.4146, -0.2453]),\n",
       " DenseVector([0.869, -1.0656, -0.3083, -1.9084]),\n",
       " DenseVector([0.869, 0.9337, -0.1755, 0.1704]),\n",
       " DenseVector([-1.145, 0.9337, -0.4677, 1.4177]),\n",
       " DenseVector([0.869, -1.0656, -0.574, -0.6611]),\n",
       " DenseVector([0.869, -1.0656, -0.8928, -0.6611]),\n",
       " DenseVector([0.869, -1.0656, 0.3293, 0.7941]),\n",
       " DenseVector([0.869, -1.0656, 0.3293, 0.7941]),\n",
       " DenseVector([-1.145, -1.0656, 0.2231, 3.0808]),\n",
       " DenseVector([0.869, -1.0656, -0.9459, -1.2848]),\n",
       " DenseVector([-1.145, 0.9337, 0.2231, 3.0808]),\n",
       " DenseVector([0.869, -1.0656, -0.1755, 0.1704]),\n",
       " DenseVector([-1.145, 0.9337, 0.3293, -0.6611]),\n",
       " DenseVector([-1.145, 0.9337, 0.3293, 0.7941]),\n",
       " DenseVector([0.869, -1.0656, -0.2552, 0.1704]),\n",
       " DenseVector([-1.145, 0.9337, -0.3614, 0.7941]),\n",
       " DenseVector([0.869, 0.9337, -0.3083, -1.9084]),\n",
       " DenseVector([-1.145, 0.9337, 0.3293, -0.6611]),\n",
       " DenseVector([0.869, -1.0656, -0.0958, 0.7941]),\n",
       " DenseVector([0.869, 0.9337, -0.2552, 0.1704]),\n",
       " DenseVector([0.869, -1.0656, -0.5208, -0.6611]),\n",
       " DenseVector([0.869, -1.0656, -0.4677, 1.4177]),\n",
       " DenseVector([-1.145, -1.0656, -0.0958, 0.7941]),\n",
       " DenseVector([-1.145, 0.9337, -0.5208, -0.6611]),\n",
       " DenseVector([0.869, -1.0656, -0.8131, -1.2848]),\n",
       " DenseVector([0.869, -1.0656, -0.3083, -1.9084]),\n",
       " DenseVector([-1.145, 0.9337, -0.0692, 1.8335]),\n",
       " DenseVector([-1.145, 0.9337, -0.3614, -0.2453]),\n",
       " DenseVector([-1.145, 0.9337, 0.3293, -0.6611]),\n",
       " DenseVector([0.869, 0.9337, -0.5208, -0.6611]),\n",
       " DenseVector([0.869, 0.9337, -0.3083, -1.9084]),\n",
       " DenseVector([0.869, -1.0656, 0.1965, -0.6611]),\n",
       " DenseVector([-1.145, 0.9337, 0.3293, -0.6611]),\n",
       " DenseVector([-1.145, 0.9337, -0.3614, 0.7941]),\n",
       " DenseVector([0.869, 0.9337, 0.1965, -0.6611]),\n",
       " DenseVector([-1.145, 0.9337, -0.0692, 1.8335]),\n",
       " DenseVector([-1.145, 0.9337, 0.1699, 0.2744]),\n",
       " DenseVector([0.869, -1.0656, -0.1755, -0.2453]),\n",
       " DenseVector([0.869, -1.0656, 0.1699, 0.2744]),\n",
       " DenseVector([0.869, 0.9337, -0.4146, 0.7941]),\n",
       " DenseVector([0.869, 0.9337, -0.1755, -0.2453]),\n",
       " DenseVector([-1.145, 0.9337, 1.0998, -0.2453]),\n",
       " DenseVector([-1.145, 0.9337, 1.0998, -0.2453]),\n",
       " DenseVector([0.869, -1.0656, 0.2762, 0.5862]),\n",
       " DenseVector([0.869, -1.0656, -0.0692, 1.4177]),\n",
       " DenseVector([-1.145, 0.9337, 1.0998, -0.2453]),\n",
       " DenseVector([0.869, -1.0656, -0.2286, -2.0124]),\n",
       " DenseVector([0.869, -1.0656, 0.1699, 0.7941]),\n",
       " DenseVector([0.869, 0.9337, 0.2762, 0.5862]),\n",
       " DenseVector([-1.145, 0.9337, 0.1965, -0.2453]),\n",
       " DenseVector([0.869, -1.0656, 1.2858, 0.1704]),\n",
       " DenseVector([0.869, -1.0656, 1.2858, 0.1704]),\n",
       " DenseVector([-1.145, 0.9337, -0.0692, 1.8335]),\n",
       " DenseVector([0.869, -1.0656, -0.9459, -1.2848]),\n",
       " DenseVector([0.869, 0.9337, -0.2286, -2.0124]),\n",
       " DenseVector([0.869, -1.0656, -0.0426, 0.7941]),\n",
       " DenseVector([0.869, 0.9337, 1.2858, 0.1704]),\n",
       " DenseVector([-1.145, 0.9337, 1.0998, -0.2453]),\n",
       " DenseVector([-1.145, 0.9337, 1.0998, -0.2453]),\n",
       " DenseVector([-1.145, 0.9337, 0.1699, 0.2744]),\n",
       " DenseVector([-1.145, -1.0656, 0.1699, 0.7941]),\n",
       " DenseVector([0.869, -1.0656, 0.1699, 0.2744]),\n",
       " DenseVector([0.869, -1.0656, -0.2286, -0.2453]),\n",
       " DenseVector([-1.145, 0.9337, 0.8341, 1.8335]),\n",
       " DenseVector([0.869, -1.0656, 1.3921, 0.1704]),\n",
       " DenseVector([0.869, 0.9337, 1.3921, 0.1704]),\n",
       " DenseVector([0.869, -1.0656, 0.2762, 0.5862]),\n",
       " DenseVector([-1.145, 0.9337, 1.5249, 0.1704]),\n",
       " DenseVector([-1.145, -1.0656, -0.0692, 1.4177]),\n",
       " DenseVector([-1.145, 0.9337, 0.1965, -0.2453]),\n",
       " DenseVector([-1.145, 0.9337, 1.3389, -0.2453]),\n",
       " DenseVector([-1.145, 0.9337, 1.8969, -0.2453]),\n",
       " DenseVector([0.869, 0.9337, 0.2762, 0.5862]),\n",
       " DenseVector([-1.145, 0.9337, 1.5249, 0.1704]),\n",
       " DenseVector([0.869, -1.0656, -0.1755, -0.2453]),\n",
       " DenseVector([0.869, 0.9337, -0.2286, -0.2453]),\n",
       " DenseVector([0.869, -1.0656, 0.2762, 0.5862]),\n",
       " DenseVector([0.869, -1.0656, -0.2286, -2.0124]),\n",
       " DenseVector([0.869, -1.0656, -0.0692, 1.4177]),\n",
       " DenseVector([0.869, 0.9337, -0.2286, -2.0124]),\n",
       " DenseVector([-1.145, 0.9337, 1.4983, 0.1704]),\n",
       " DenseVector([0.869, -1.0656, 0.3028, 0.7941]),\n",
       " DenseVector([-1.145, 0.9337, 0.3293, -0.6611]),\n",
       " DenseVector([0.869, -1.0656, 0.1699, 0.7941]),\n",
       " DenseVector([0.869, -1.0656, -0.2286, -2.0124]),\n",
       " DenseVector([0.869, -1.0656, 1.0201, 1.002]),\n",
       " DenseVector([-1.145, 0.9337, 1.4983, 0.7941]),\n",
       " DenseVector([0.869, -1.0656, 0.4356, -0.2453]),\n",
       " DenseVector([0.869, -1.0656, -0.8397, -1.9084]),\n",
       " DenseVector([-1.145, 0.9337, 1.4983, 0.1704]),\n",
       " DenseVector([0.869, -1.0656, 1.5515, -0.0375]),\n",
       " DenseVector([0.869, -1.0656, 1.4983, 0.7941]),\n",
       " DenseVector([0.869, 0.9337, 0.1699, 0.7941]),\n",
       " DenseVector([0.869, 0.9337, 1.5515, -0.0375]),\n",
       " DenseVector([0.869, -1.0656, 1.4983, 0.3783]),\n",
       " DenseVector([-1.145, 0.9337, 2.5611, 0.1704]),\n",
       " DenseVector([-1.145, -1.0656, 0.4622, -1.8045]),\n",
       " DenseVector([0.869, -1.0656, 0.4622, -1.8045]),\n",
       " DenseVector([0.869, -1.0656, 0.8076, 0.7941]),\n",
       " DenseVector([-1.145, 0.9337, 1.0467, 0.7941]),\n",
       " DenseVector([0.869, -1.0656, 0.0637, -0.6611]),\n",
       " DenseVector([0.869, -1.0656, 0.2762, 0.5862]),\n",
       " DenseVector([0.869, -1.0656, 0.967, 0.7941]),\n",
       " DenseVector([0.869, -1.0656, 0.4622, -1.8045]),\n",
       " DenseVector([0.869, -1.0656, 0.5153, -1.5966]),\n",
       " DenseVector([-1.145, 0.9337, 0.5153, -1.5966]),\n",
       " DenseVector([0.869, 0.9337, 0.5153, -1.5966]),\n",
       " DenseVector([0.869, -1.0656, 2.0828, 0.5862]),\n",
       " DenseVector([0.869, -1.0656, 0.5153, -1.5966]),\n",
       " DenseVector([0.869, -1.0656, 1.9234, -0.7651]),\n",
       " DenseVector([-1.145, 0.9337, 2.747, 1.6256]),\n",
       " DenseVector([-1.145, 0.9337, 2.747, 1.6256]),\n",
       " DenseVector([0.869, -1.0656, 1.3655, -0.7651]),\n",
       " DenseVector([-1.145, 0.9337, 1.3655, -0.7651]),\n",
       " DenseVector([0.869, -1.0656, 1.9234, -0.7651]),\n",
       " DenseVector([-1.145, -1.0656, 4.2083, -0.2453]),\n",
       " DenseVector([0.869, -1.0656, 2.0828, 0.5862]),\n",
       " DenseVector([-1.145, 0.9337, 2.747, 1.6256]),\n",
       " DenseVector([0.869, -1.0656, 2.136, -1.2848]),\n",
       " DenseVector([-1.145, -1.0656, 2.0828, 0.5862]),\n",
       " DenseVector([-1.145, 0.9337, 2.136, -1.2848])]"
      ]
     },
     "execution_count": 122,
     "metadata": {},
     "output_type": "execute_result"
    }
   ],
   "source": [
    "# Retornando o objeto para RDD\n",
    "csAuto = carrosDf.rdd.map(centerAndScale)\n",
    "csAuto.collect()"
   ]
  },
  {
   "cell_type": "code",
   "execution_count": 123,
   "id": "21f276be",
   "metadata": {},
   "outputs": [
    {
     "name": "stdout",
     "output_type": "stream",
     "text": [
      "+--------------------+\n",
      "|            features|\n",
      "+--------------------+\n",
      "|[-1.1449709581789...|\n",
      "|[-1.1449709581789...|\n",
      "|[-1.1449709581789...|\n",
      "|[-1.1449709581789...|\n",
      "|[-1.1449709581789...|\n",
      "|[-1.1449709581789...|\n",
      "|[-1.1449709581789...|\n",
      "|[-1.1449709581789...|\n",
      "|[-1.1449709581789...|\n",
      "|[-1.1449709581789...|\n",
      "+--------------------+\n",
      "only showing top 10 rows\n",
      "\n"
     ]
    }
   ],
   "source": [
    "# Criando um Spark Dataframe\n",
    "autoRows = csAuto.map(lambda f:Row(features = f))\n",
    "autoDf = spSession.createDataFrame(autoRows)\n",
    "autoDf.select(\"features\").show(10)"
   ]
  },
  {
   "cell_type": "code",
   "execution_count": 124,
   "id": "59551f94",
   "metadata": {},
   "outputs": [
    {
     "name": "stdout",
     "output_type": "stream",
     "text": [
      "+--------------------+----------+\n",
      "|            features|prediction|\n",
      "+--------------------+----------+\n",
      "|[-1.1449709581789...|         0|\n",
      "|[-1.1449709581789...|         0|\n",
      "|[-1.1449709581789...|         0|\n",
      "|[-1.1449709581789...|         0|\n",
      "|[-1.1449709581789...|         0|\n",
      "|[-1.1449709581789...|         0|\n",
      "|[-1.1449709581789...|         0|\n",
      "|[-1.1449709581789...|         0|\n",
      "|[-1.1449709581789...|         0|\n",
      "|[-1.1449709581789...|         0|\n",
      "|[-1.1449709581789...|         0|\n",
      "|[0.86895117361793...|         0|\n",
      "|[0.86895117361793...|         0|\n",
      "|[-1.1449709581789...|         0|\n",
      "|[-1.1449709581789...|         0|\n",
      "|[-1.1449709581789...|         0|\n",
      "|[-1.1449709581789...|         0|\n",
      "|[0.86895117361793...|         0|\n",
      "|[-1.1449709581789...|         0|\n",
      "|[0.86895117361793...|         1|\n",
      "+--------------------+----------+\n",
      "only showing top 20 rows\n",
      "\n"
     ]
    }
   ],
   "source": [
    "# Importando o algoritmo K-Means para clusterização\n",
    "from pyspark.ml.clustering import KMeans\n",
    "kmeans = KMeans(k = 3, seed = 1)\n",
    "modelo = kmeans.fit(autoDf)\n",
    "previsoes = modelo.transform(autoDf)\n",
    "previsoes.show()"
   ]
  },
  {
   "cell_type": "code",
   "execution_count": 125,
   "id": "8492b7fd",
   "metadata": {},
   "outputs": [],
   "source": [
    "# Plot dos resultados\n",
    "import pandas as pd\n",
    "import matplotlib.pylab as plt\n",
    "%matplotlib inline"
   ]
  },
  {
   "cell_type": "code",
   "execution_count": 126,
   "id": "626f47fe",
   "metadata": {},
   "outputs": [],
   "source": [
    "def unstripData(instr) :\n",
    "    return ( instr[\"prediction\"], instr[\"features\"][0], instr[\"features\"][1],instr[\"features\"][2],instr[\"features\"][3])"
   ]
  },
  {
   "cell_type": "code",
   "execution_count": 127,
   "id": "3506548c",
   "metadata": {},
   "outputs": [],
   "source": [
    "# Organizando os dados para o Plot\n",
    "unstripped = previsoes.rdd.map(unstripData)\n",
    "predList = unstripped.collect()\n",
    "predPd = pd.DataFrame(predList)"
   ]
  },
  {
   "cell_type": "code",
   "execution_count": 128,
   "id": "e416f573",
   "metadata": {},
   "outputs": [
    {
     "data": {
      "text/plain": [
       "<matplotlib.collections.PathCollection at 0x2508f132820>"
      ]
     },
     "execution_count": 128,
     "metadata": {},
     "output_type": "execute_result"
    },
    {
     "data": {
      "image/png": "[encoded data removed]",
      "text/plain": [
       "<Figure size 432x288 with 1 Axes>"
      ]
     },
     "metadata": {
      "needs_background": "light"
     },
     "output_type": "display_data"
    }
   ],
   "source": [
    "plt.cla()\n",
    "plt.scatter(predPd[3], predPd[4], c = predPd[0])"
   ]
  },
  {
   "cell_type": "markdown",
   "id": "592da680",
   "metadata": {},
   "source": [
    "# Capítulo 7.8: Spark SQL com arquivos JSON"
   ]
  },
  {
   "cell_type": "markdown",
   "id": "8c99f814",
   "metadata": {},
   "source": [
    "## Spark SQL e Arquivos JSON"
   ]
  },
  {
   "cell_type": "markdown",
   "id": "458074c5",
   "metadata": {},
   "source": [
    "Neste site você pode validar a estrutura de um arquivo JSON: http://jsonlint.com/"
   ]
  },
  {
   "cell_type": "code",
   "execution_count": 131,
   "id": "14143b90",
   "metadata": {},
   "outputs": [],
   "source": [
    "# Importando o arquivo JSON\n",
    "funcDF = spSession.read.json(r\"07.01.01 Arquivos Cap07\\funcionarios.json\")"
   ]
  },
  {
   "cell_type": "code",
   "execution_count": 132,
   "id": "4583fcab",
   "metadata": {},
   "outputs": [
    {
     "name": "stdout",
     "output_type": "stream",
     "text": [
      "+------+-----+----------------+-------+----+\n",
      "|deptid|idade|            nome|salario|sexo|\n",
      "+------+-----+----------------+-------+----+\n",
      "|  1000|   42|   Josias Rebelo|   7000|   m|\n",
      "|  2000|   50|Mauricio Gonheim|   9500|   m|\n",
      "|  1000|   36| Bruno Velasquez|   6700|   m|\n",
      "|  1000|   41|  Ananda Tavares|   9300|   f|\n",
      "|  2000|   34|     Carlos Maia|   5500|   m|\n",
      "+------+-----+----------------+-------+----+\n",
      "\n"
     ]
    }
   ],
   "source": [
    "funcDF.show()"
   ]
  },
  {
   "cell_type": "code",
   "execution_count": 133,
   "id": "c5f529ba",
   "metadata": {},
   "outputs": [
    {
     "name": "stdout",
     "output_type": "stream",
     "text": [
      "root\n",
      " |-- deptid: string (nullable = true)\n",
      " |-- idade: string (nullable = true)\n",
      " |-- nome: string (nullable = true)\n",
      " |-- salario: string (nullable = true)\n",
      " |-- sexo: string (nullable = true)\n",
      "\n"
     ]
    }
   ],
   "source": [
    "funcDF.printSchema()"
   ]
  },
  {
   "cell_type": "code",
   "execution_count": 134,
   "id": "e1fd65e2",
   "metadata": {},
   "outputs": [
    {
     "data": {
      "text/plain": [
       "pyspark.sql.dataframe.DataFrame"
      ]
     },
     "execution_count": 134,
     "metadata": {},
     "output_type": "execute_result"
    }
   ],
   "source": [
    "type(funcDF)"
   ]
  },
  {
   "cell_type": "code",
   "execution_count": 135,
   "id": "cdc01955",
   "metadata": {},
   "outputs": [
    {
     "name": "stdout",
     "output_type": "stream",
     "text": [
      "+----------------+\n",
      "|            nome|\n",
      "+----------------+\n",
      "|   Josias Rebelo|\n",
      "|Mauricio Gonheim|\n",
      "| Bruno Velasquez|\n",
      "|  Ananda Tavares|\n",
      "|     Carlos Maia|\n",
      "+----------------+\n",
      "\n"
     ]
    }
   ],
   "source": [
    "# Operações com Dataframe Spark SQL - select()\n",
    "funcDF.select(\"nome\").show()"
   ]
  },
  {
   "cell_type": "code",
   "execution_count": 136,
   "id": "fc575bbc",
   "metadata": {},
   "outputs": [
    {
     "name": "stdout",
     "output_type": "stream",
     "text": [
      "+------+-----+----------------+-------+----+\n",
      "|deptid|idade|            nome|salario|sexo|\n",
      "+------+-----+----------------+-------+----+\n",
      "|  2000|   50|Mauricio Gonheim|   9500|   m|\n",
      "+------+-----+----------------+-------+----+\n",
      "\n"
     ]
    }
   ],
   "source": [
    "# Operações com Dataframe Spark SQL - filter()\n",
    "funcDF.filter(funcDF[\"idade\"] == 50).show()"
   ]
  },
  {
   "cell_type": "code",
   "execution_count": 137,
   "id": "95aa7512",
   "metadata": {},
   "outputs": [
    {
     "name": "stdout",
     "output_type": "stream",
     "text": [
      "+----+-----+\n",
      "|sexo|count|\n",
      "+----+-----+\n",
      "|   m|    4|\n",
      "|   f|    1|\n",
      "+----+-----+\n",
      "\n"
     ]
    }
   ],
   "source": [
    "# Operações com Dataframe Spark SQL - groupBy()\n",
    "funcDF.groupBy(\"sexo\").count().show()"
   ]
  },
  {
   "cell_type": "code",
   "execution_count": 138,
   "id": "bb944db0",
   "metadata": {},
   "outputs": [
    {
     "name": "stdout",
     "output_type": "stream",
     "text": [
      "+------+----------+-----------------+\n",
      "|deptid|max(idade)|     avg(salario)|\n",
      "+------+----------+-----------------+\n",
      "|  2000|        50|           7500.0|\n",
      "|  1000|        42|7666.666666666667|\n",
      "+------+----------+-----------------+\n",
      "\n"
     ]
    }
   ],
   "source": [
    "# Operações com Dataframe Spark SQL - groupBy()\n",
    "funcDF.groupBy(\"deptid\").agg({\"salario\": \"avg\", \"idade\": \"max\"}).show()"
   ]
  },
  {
   "cell_type": "code",
   "execution_count": 139,
   "id": "bb73ed4f",
   "metadata": {},
   "outputs": [],
   "source": [
    "# Registrando o dataframe como uma Temp Table\n",
    "funcDF.registerTempTable(\"funcTB\")"
   ]
  },
  {
   "cell_type": "code",
   "execution_count": 140,
   "id": "c0562436",
   "metadata": {},
   "outputs": [
    {
     "name": "stdout",
     "output_type": "stream",
     "text": [
      "+------+----------+----------------------------+\n",
      "|deptid|max(idade)|avg(CAST(salario AS DOUBLE))|\n",
      "+------+----------+----------------------------+\n",
      "|  2000|        50|                      7500.0|\n",
      "|  1000|        42|           7666.666666666667|\n",
      "+------+----------+----------------------------+\n",
      "\n"
     ]
    }
   ],
   "source": [
    "# Executando queries SQL ANSI\n",
    "spSession.sql(\"select deptid, max(idade), avg(salario) from funcTB group by deptid\").show()"
   ]
  },
  {
   "cell_type": "markdown",
   "id": "ae32caca",
   "metadata": {},
   "source": [
    "# Capítulo 7.9: Tabelas Temporárias com Spark SQL"
   ]
  },
  {
   "cell_type": "markdown",
   "id": "f514dccc",
   "metadata": {},
   "source": [
    "## Temp Tables"
   ]
  },
  {
   "cell_type": "code",
   "execution_count": 141,
   "id": "942f938f",
   "metadata": {},
   "outputs": [],
   "source": [
    "# Registrando o dataframe como temp Table\n",
    "funcDF.createOrReplaceTempView(\"funcTB\")"
   ]
  },
  {
   "cell_type": "code",
   "execution_count": 142,
   "id": "e3af2395",
   "metadata": {},
   "outputs": [
    {
     "name": "stdout",
     "output_type": "stream",
     "text": [
      "+------+-----+---------------+-------+----+\n",
      "|deptid|idade|           nome|salario|sexo|\n",
      "+------+-----+---------------+-------+----+\n",
      "|  1000|   36|Bruno Velasquez|   6700|   m|\n",
      "+------+-----+---------------+-------+----+\n",
      "\n"
     ]
    }
   ],
   "source": [
    "spSession.sql(\"select * from funcTB where salario = 6700\").show()"
   ]
  },
  {
   "cell_type": "code",
   "execution_count": 143,
   "id": "e8959af9",
   "metadata": {},
   "outputs": [],
   "source": [
    "# Criando Temp Table\n",
    "sqlContext.registerDataFrameAsTable(funcDF, \"funcTB2\")"
   ]
  },
  {
   "cell_type": "code",
   "execution_count": 144,
   "id": "163839f6",
   "metadata": {},
   "outputs": [
    {
     "ename": "NameError",
     "evalue": "name 'funcTB2' is not defined",
     "output_type": "error",
     "traceback": [
      "\u001b[1;31m---------------------------------------------------------------------------\u001b[0m",
      "\u001b[1;31mNameError\u001b[0m                                 Traceback (most recent call last)",
      "\u001b[1;32m~\\AppData\\Local\\Temp/ipykernel_46364/159164782.py\u001b[0m in \u001b[0;36m<module>\u001b[1;34m\u001b[0m\n\u001b[1;32m----> 1\u001b[1;33m \u001b[0mtype\u001b[0m\u001b[1;33m(\u001b[0m\u001b[0mfuncTB2\u001b[0m\u001b[1;33m)\u001b[0m\u001b[1;33m\u001b[0m\u001b[1;33m\u001b[0m\u001b[0m\n\u001b[0m",
      "\u001b[1;31mNameError\u001b[0m: name 'funcTB2' is not defined"
     ]
    }
   ],
   "source": [
    "# Esse objeto tabela temporária não é um objeto definido, criado no ambiente pyspark\n",
    "type(funcTB2)"
   ]
  },
  {
   "cell_type": "code",
   "execution_count": 145,
   "id": "30567773",
   "metadata": {},
   "outputs": [],
   "source": [
    "# Persistindo a Temp Table - Definindo o objeto\n",
    "funcTB3 = spSession.table(\"funcTB2\")"
   ]
  },
  {
   "cell_type": "code",
   "execution_count": 146,
   "id": "774f7a2b",
   "metadata": {},
   "outputs": [
    {
     "data": {
      "text/plain": [
       "pyspark.sql.dataframe.DataFrame"
      ]
     },
     "execution_count": 146,
     "metadata": {},
     "output_type": "execute_result"
    }
   ],
   "source": [
    "type(funcTB3)"
   ]
  },
  {
   "cell_type": "code",
   "execution_count": 147,
   "id": "c7f9a075",
   "metadata": {},
   "outputs": [
    {
     "data": {
      "text/plain": [
       "True"
      ]
     },
     "execution_count": 147,
     "metadata": {},
     "output_type": "execute_result"
    }
   ],
   "source": [
    "# Comparando o Dataframe com a tabela temporária criada\n",
    "sorted(funcDF.collect()) == sorted(funcTB3.collect())"
   ]
  },
  {
   "cell_type": "code",
   "execution_count": 148,
   "id": "fbec72de",
   "metadata": {},
   "outputs": [
    {
     "data": {
      "text/plain": [
       "Row(deptid='1000', idade='42', nome='Josias Rebelo', salario='7000', sexo='m')"
      ]
     },
     "execution_count": 148,
     "metadata": {},
     "output_type": "execute_result"
    }
   ],
   "source": [
    "# Aplicando o filtro\n",
    "\n",
    "# Data frame registrado como Temp Table\n",
    "sqlContext.registerDataFrameAsTable(funcDF, \"funcTB2\")\n",
    "\n",
    "# Convertendo novamente em data frame\n",
    "funcTB3 = spSession.table(\"funcTB2\")\n",
    "\n",
    "# Aplicação da função filter\n",
    "funcTB3.filter(\"idade = '42'\").first()"
   ]
  },
  {
   "cell_type": "code",
   "execution_count": 149,
   "id": "b10aa794",
   "metadata": {},
   "outputs": [],
   "source": [
    "# Drop Temp Table\n",
    "sqlContext.dropTempTable(\"funcTB2\")"
   ]
  },
  {
   "cell_type": "markdown",
   "id": "b7c0800a",
   "metadata": {},
   "source": [
    "# Capítulo 7.11: Spark SQL com Banco de Dados Relacionais"
   ]
  },
  {
   "cell_type": "markdown",
   "id": "4c8db1a2",
   "metadata": {},
   "source": [
    "## Banco de Dados Relacional"
   ]
  },
  {
   "cell_type": "markdown",
   "id": "ee26c958",
   "metadata": {},
   "source": [
    "Extraindo Dados do MySQL. Primeiro precisamos baixar o driver JDBC. Haverá um driver JDBC para cada banco de dados que você conectar (Oracle, SQL Server, etc...)"
   ]
  },
  {
   "cell_type": "markdown",
   "id": "b708380b",
   "metadata": {},
   "source": [
    "1- Download do Driver JDBC para o MySQL: http://dev.mysql.com/downloads/connector/j/"
   ]
  },
  {
   "cell_type": "markdown",
   "id": "1493504f",
   "metadata": {},
   "source": [
    "2- Baixar o arquivo .zip"
   ]
  },
  {
   "cell_type": "markdown",
   "id": "7b840e12",
   "metadata": {},
   "source": [
    "3- Descompactar o arquivo e copiar o arquivo mysql-connector-java-5.1.39-bin.jar para a pasta /opt/Spark/jars"
   ]
  },
  {
   "cell_type": "code",
   "execution_count": 150,
   "id": "24a9cc1f",
   "metadata": {},
   "outputs": [],
   "source": [
    "from pyspark.sql import SQLContext\n",
    "sqlContext = SQLContext(sc)"
   ]
  },
  {
   "cell_type": "code",
   "execution_count": null,
   "id": "d9a0eb97",
   "metadata": {},
   "outputs": [],
   "source": [
    "mysql_df = spSession.read.format(\"jdbc\").options(\n",
    "    url = \"jdbc:mysql://localhost/carros\",\n",
    "    driver = \"com.mysql.jdbc.Driver\",\n",
    "    dbtable = \"carrostb\",\n",
    "    user = \"root\",\n",
    "    password = \"1234\").load()"
   ]
  },
  {
   "cell_type": "code",
   "execution_count": null,
   "id": "b5f1e400",
   "metadata": {},
   "outputs": [],
   "source": [
    "mysql_df.show()"
   ]
  },
  {
   "cell_type": "code",
   "execution_count": null,
   "id": "7b023777",
   "metadata": {},
   "outputs": [],
   "source": [
    "dataframe_mysql.registerTempTable(\"carrostb\")"
   ]
  },
  {
   "cell_type": "code",
   "execution_count": null,
   "id": "fd60d04f",
   "metadata": {},
   "outputs": [],
   "source": [
    "spSession.sql(\"select * from carrostb where hp = '68'\").show()"
   ]
  },
  {
   "cell_type": "markdown",
   "id": "4f837d7a",
   "metadata": {},
   "source": [
    "# Capítulo 7.12: Spark SQL com Banco de Dados Não Relacionais"
   ]
  },
  {
   "cell_type": "markdown",
   "id": "135eb8c4",
   "metadata": {},
   "source": [
    "## Banco de Dados Não-Relacional"
   ]
  },
  {
   "cell_type": "markdown",
   "id": "b72ae474",
   "metadata": {},
   "source": [
    "https://spark-packages.org/package/Stratio/spark-mongodb"
   ]
  },
  {
   "cell_type": "markdown",
   "id": "0dde3be8",
   "metadata": {},
   "source": [
    "$SPARK_HOME/bin/pyspark --packages com.stratio.datasource:spark-mongodb_2.11:0.12.0"
   ]
  },
  {
   "cell_type": "code",
   "execution_count": 1,
   "id": "d0f46182",
   "metadata": {},
   "outputs": [],
   "source": [
    "from pyspark.sql import SparkSession\n",
    "spark = SparkSession.builder.getOrCreate()"
   ]
  },
  {
   "cell_type": "code",
   "execution_count": null,
   "id": "b8b18d3e",
   "metadata": {},
   "outputs": [],
   "source": [
    "# Cria tabela temporária a partir de dados do MongoDB\n",
    "spark.sql(\"CREATE TEMPORARY VIEW test_tb USING com.stratio.datasource.mongodb OPTIONS (host 'localhost:27017', database 'test_db', collection 'test_collection')\")"
   ]
  },
  {
   "cell_type": "code",
   "execution_count": null,
   "id": "71a2153e",
   "metadata": {},
   "outputs": [],
   "source": [
    "# select na tabela temporária criada\n",
    "spark.sql(\"SELECT * FROM test_tb\").collect()"
   ]
  },
  {
   "cell_type": "code",
   "execution_count": null,
   "id": "39d8dc3f",
   "metadata": {},
   "outputs": [],
   "source": [
    "# DataFrameReader\n",
    "df = spark.read.format('com.stratio.datasource.mongodb').options(host='localhost:27017', database = 'test_db', collection = 'test_collection').load()"
   ]
  },
  {
   "cell_type": "code",
   "execution_count": null,
   "id": "6faa172c",
   "metadata": {},
   "outputs": [],
   "source": [
    "df.show()"
   ]
  },
  {
   "cell_type": "code",
   "execution_count": null,
   "id": "d1b3a784",
   "metadata": {},
   "outputs": [],
   "source": [
    "# DataFrameWriter\n",
    "df.select(\"titulo\").write.format(\"com.stratio.datasource.mongodb\").mode('overwrite').options(host = 'localhost:27017', database = 'test_db', collection = 'test_collection').save()"
   ]
  },
  {
   "cell_type": "code",
   "execution_count": null,
   "id": "3989cea7",
   "metadata": {},
   "outputs": [],
   "source": [
    "# DataFrameReader\n",
    "dfView = spark.read.format('com.stratio.datasource.mongodb').options(host='localhost:27017', database='test_db', collection='test_collection').load()"
   ]
  },
  {
   "cell_type": "code",
   "execution_count": null,
   "id": "802c42aa",
   "metadata": {},
   "outputs": [],
   "source": [
    "dfView.show()"
   ]
  },
  {
   "cell_type": "markdown",
   "id": "d6c5654f",
   "metadata": {},
   "source": [
    "# Capítulo 7.13: Pair RDD, Acumuladores, Broadcast e Partições"
   ]
  },
  {
   "cell_type": "markdown",
   "id": "12439984",
   "metadata": {},
   "source": [
    "Acesse http://localhost:4040 sempre que quiser acompanhar a execução dos jobs"
   ]
  },
  {
   "cell_type": "markdown",
   "id": "1ca25621",
   "metadata": {},
   "source": [
    "## Pares RDD (Pair RDD)"
   ]
  },
  {
   "cell_type": "markdown",
   "id": "4f4a93a2",
   "metadata": {},
   "source": [
    "Tipo especial de RDD que armazena pares chave-valor. Útil quando é necessário armazenar dados que possuem uma chave e diversos valores (por exemplo, todas as transações de um cliente, geradas em tempo real)."
   ]
  },
  {
   "cell_type": "markdown",
   "id": "5ac5d4c1",
   "metadata": {},
   "source": [
    "#### mapValues()\n",
    "#### countByKey()\n",
    "#### groupByKey()\n",
    "#### reduceByKey()\n",
    "#### aggregateByKey()"
   ]
  },
  {
   "cell_type": "code",
   "execution_count": 151,
   "id": "8b8ef3bc",
   "metadata": {},
   "outputs": [],
   "source": [
    "# Importando arquivo csv e criando um RDD\n",
    "carros = sc.textFile(r\"07.01.01 Arquivos Cap07\\carros.csv\")"
   ]
  },
  {
   "cell_type": "code",
   "execution_count": 152,
   "id": "f283b931",
   "metadata": {},
   "outputs": [
    {
     "data": {
      "text/plain": [
       "[('MAKE', 'HP'),\n",
       " ('subaru', '69'),\n",
       " ('chevrolet', '48'),\n",
       " ('mazda', '68'),\n",
       " ('toyota', '62')]"
      ]
     },
     "execution_count": 152,
     "metadata": {},
     "output_type": "execute_result"
    }
   ],
   "source": [
    "# Criando uma Pair RDD\n",
    "carrosPairRDD = carros.map(lambda x: (x.split(\",\")[0], x.split(\",\")[7]))\n",
    "carrosPairRDD.take(5)"
   ]
  },
  {
   "cell_type": "code",
   "execution_count": 153,
   "id": "09192079",
   "metadata": {},
   "outputs": [],
   "source": [
    "# Removendo o cabeçalho\n",
    "header = carrosPairRDD.first()\n",
    "carrosPairRDD2 = carrosPairRDD.filter(lambda line: line != header)"
   ]
  },
  {
   "cell_type": "code",
   "execution_count": 154,
   "id": "b62cae1d",
   "metadata": {},
   "outputs": [
    {
     "data": {
      "text/plain": [
       "[('subaru', ('69', 1)),\n",
       " ('chevrolet', ('48', 1)),\n",
       " ('mazda', ('68', 1)),\n",
       " ('toyota', ('62', 1)),\n",
       " ('mitsubishi', ('68', 1)),\n",
       " ('honda', ('60', 1)),\n",
       " ('nissan', ('69', 1)),\n",
       " ('dodge', ('68', 1)),\n",
       " ('plymouth', ('68', 1)),\n",
       " ('mazda', ('68', 1)),\n",
       " ('mitsubishi', ('68', 1)),\n",
       " ('dodge', ('68', 1)),\n",
       " ('plymouth', ('68', 1)),\n",
       " ('chevrolet', ('70', 1)),\n",
       " ('toyota', ('62', 1)),\n",
       " ('dodge', ('68', 1)),\n",
       " ('honda', ('58', 1)),\n",
       " ('toyota', ('62', 1)),\n",
       " ('honda', ('76', 1)),\n",
       " ('chevrolet', ('70', 1)),\n",
       " ('nissan', ('69', 1)),\n",
       " ('mitsubishi', ('68', 1)),\n",
       " ('dodge', ('68', 1)),\n",
       " ('plymouth', ('68', 1)),\n",
       " ('mazda', ('68', 1)),\n",
       " ('isuzu', ('78', 1)),\n",
       " ('mazda', ('68', 1)),\n",
       " ('nissan', ('69', 1)),\n",
       " ('honda', ('76', 1)),\n",
       " ('toyota', ('62', 1)),\n",
       " ('toyota', ('70', 1)),\n",
       " ('mitsubishi', ('88', 1)),\n",
       " ('subaru', ('73', 1)),\n",
       " ('nissan', ('55', 1)),\n",
       " ('subaru', ('82', 1)),\n",
       " ('honda', ('76', 1)),\n",
       " ('toyota', ('70', 1)),\n",
       " ('honda', ('76', 1)),\n",
       " ('honda', ('76', 1)),\n",
       " ('nissan', ('69', 1)),\n",
       " ('nissan', ('69', 1)),\n",
       " ('mazda', ('68', 1)),\n",
       " ('subaru', ('82', 1)),\n",
       " ('nissan', ('69', 1)),\n",
       " ('subaru', ('73', 1)),\n",
       " ('dodge', ('68', 1)),\n",
       " ('plymouth', ('68', 1)),\n",
       " ('mitsubishi', ('102', 1)),\n",
       " ('toyota', ('70', 1)),\n",
       " ('subaru', ('82', 1)),\n",
       " ('volkswagen', ('52', 1)),\n",
       " ('toyota', ('56', 1)),\n",
       " ('nissan', ('69', 1)),\n",
       " ('honda', ('86', 1)),\n",
       " ('toyota', ('62', 1)),\n",
       " ('toyota', ('56', 1)),\n",
       " ('dodge', ('102', 1)),\n",
       " ('plymouth', ('102', 1)),\n",
       " ('volkswagen', ('85', 1)),\n",
       " ('volkswagen', ('52', 1)),\n",
       " ('nissan', ('69', 1)),\n",
       " ('subaru', ('82', 1)),\n",
       " ('toyota', ('70', 1)),\n",
       " ('mitsubishi', ('88', 1)),\n",
       " ('volkswagen', ('85', 1)),\n",
       " ('toyota', ('70', 1)),\n",
       " ('nissan', ('69', 1)),\n",
       " ('toyota', ('70', 1)),\n",
       " ('toyota', ('116', 1)),\n",
       " ('mazda', ('84', 1)),\n",
       " ('volkswagen', ('85', 1)),\n",
       " ('mitsubishi', ('88', 1)),\n",
       " ('toyota', ('62', 1)),\n",
       " ('honda', ('86', 1)),\n",
       " ('mazda', ('84', 1)),\n",
       " ('dodge', ('88', 1)),\n",
       " ('plymouth', ('88', 1)),\n",
       " ('toyota', ('92', 1)),\n",
       " ('nissan', ('97', 1)),\n",
       " ('honda', ('86', 1)),\n",
       " ('subaru', ('82', 1)),\n",
       " ('toyota', ('70', 1)),\n",
       " ('mitsubishi', ('116', 1)),\n",
       " ('mitsubishi', ('116', 1)),\n",
       " ('toyota', ('112', 1)),\n",
       " ('volkswagen', ('68', 1)),\n",
       " ('toyota', ('112', 1)),\n",
       " ('nissan', ('97', 1)),\n",
       " ('toyota', ('116', 1)),\n",
       " ('mitsubishi', ('116', 1)),\n",
       " ('subaru', ('94', 1)),\n",
       " ('volkswagen', ('90', 1)),\n",
       " ('toyota', ('92', 1)),\n",
       " ('toyota', ('116', 1)),\n",
       " ('volkswagen', ('100', 1)),\n",
       " ('subaru', ('94', 1)),\n",
       " ('mazda', ('84', 1)),\n",
       " ('honda', ('86', 1)),\n",
       " ('honda', ('100', 1)),\n",
       " ('mazda', ('84', 1)),\n",
       " ('toyota', ('73', 1)),\n",
       " ('toyota', ('92', 1)),\n",
       " ('mazda', ('101', 1)),\n",
       " ('isuzu', ('90', 1)),\n",
       " ('toyota', ('116', 1)),\n",
       " ('mazda', ('84', 1)),\n",
       " ('toyota', ('92', 1)),\n",
       " ('subaru', ('111', 1)),\n",
       " ('toyota', ('116', 1)),\n",
       " ('volkswagen', ('90', 1)),\n",
       " ('subaru', ('111', 1)),\n",
       " ('mazda', ('101', 1)),\n",
       " ('saab', ('110', 1)),\n",
       " ('peugot', ('97', 1)),\n",
       " ('saab', ('110', 1)),\n",
       " ('volkswagen', ('88', 1)),\n",
       " ('peugot', ('97', 1)),\n",
       " ('mitsubishi', ('145', 1)),\n",
       " ('plymouth', ('145', 1)),\n",
       " ('volvo', ('114', 1)),\n",
       " ('honda', ('101', 1)),\n",
       " ('dodge', ('145', 1)),\n",
       " ('peugot', ('95', 1)),\n",
       " ('volkswagen', ('110', 1)),\n",
       " ('volvo', ('114', 1)),\n",
       " ('alfa-romero', ('111', 1)),\n",
       " ('nissan', ('152', 1)),\n",
       " ('nissan', ('152', 1)),\n",
       " ('mazda', ('101', 1)),\n",
       " ('volkswagen', ('68', 1)),\n",
       " ('peugot', ('95', 1)),\n",
       " ('audi', ('102', 1)),\n",
       " ('nissan', ('152', 1)),\n",
       " ('mitsubishi', ('145', 1)),\n",
       " ('mitsubishi', ('145', 1)),\n",
       " ('saab', ('110', 1)),\n",
       " ('audi', ('110', 1)),\n",
       " ('saab', ('110', 1)),\n",
       " ('peugot', ('95', 1)),\n",
       " ('mazda', ('135', 1)),\n",
       " ('toyota', ('156', 1)),\n",
       " ('toyota', ('156', 1)),\n",
       " ('volvo', ('114', 1)),\n",
       " ('toyota', ('161', 1)),\n",
       " ('bmw', ('101', 1)),\n",
       " ('alfa-romero', ('111', 1)),\n",
       " ('alfa-romero', ('154', 1)),\n",
       " ('mercury', ('175', 1)),\n",
       " ('volvo', ('114', 1)),\n",
       " ('toyota', ('161', 1)),\n",
       " ('peugot', ('97', 1)),\n",
       " ('peugot', ('95', 1)),\n",
       " ('volvo', ('114', 1)),\n",
       " ('peugot', ('95', 1)),\n",
       " ('bmw', ('101', 1)),\n",
       " ('peugot', ('95', 1)),\n",
       " ('nissan', ('160', 1)),\n",
       " ('audi', ('115', 1)),\n",
       " ('toyota', ('116', 1)),\n",
       " ('audi', ('110', 1)),\n",
       " ('peugot', ('95', 1)),\n",
       " ('peugot', ('142', 1)),\n",
       " ('saab', ('160', 1)),\n",
       " ('mazda', ('120', 1)),\n",
       " ('mazda', ('72', 1)),\n",
       " ('nissan', ('160', 1)),\n",
       " ('volvo', ('162', 1)),\n",
       " ('saab', ('160', 1)),\n",
       " ('audi', ('110', 1)),\n",
       " ('volvo', ('162', 1)),\n",
       " ('volvo', ('160', 1)),\n",
       " ('nissan', ('200', 1)),\n",
       " ('bmw', ('121', 1)),\n",
       " ('bmw', ('121', 1)),\n",
       " ('volvo', ('134', 1)),\n",
       " ('porsche', ('143', 1)),\n",
       " ('volvo', ('106', 1)),\n",
       " ('volvo', ('114', 1)),\n",
       " ('audi', ('140', 1)),\n",
       " ('bmw', ('121', 1)),\n",
       " ('mercedes-benz', ('123', 1)),\n",
       " ('mercedes-benz', ('123', 1)),\n",
       " ('mercedes-benz', ('123', 1)),\n",
       " ('bmw', ('182', 1)),\n",
       " ('mercedes-benz', ('123', 1)),\n",
       " ('jaguar', ('176', 1)),\n",
       " ('porsche', ('207', 1)),\n",
       " ('porsche', ('207', 1)),\n",
       " ('mercedes-benz', ('155', 1)),\n",
       " ('mercedes-benz', ('155', 1)),\n",
       " ('jaguar', ('176', 1)),\n",
       " ('jaguar', ('262', 1)),\n",
       " ('bmw', ('182', 1)),\n",
       " ('porsche', ('207', 1)),\n",
       " ('mercedes-benz', ('184', 1)),\n",
       " ('bmw', ('182', 1)),\n",
       " ('mercedes-benz', ('184', 1))]"
      ]
     },
     "execution_count": 154,
     "metadata": {},
     "output_type": "execute_result"
    }
   ],
   "source": [
    "# Encontra a média de HP por marca de carro e adiciona 1 a cada contagem\n",
    "addOne = carrosPairRDD2.mapValues(lambda x: (x, 1))\n",
    "addOne.collect()"
   ]
  },
  {
   "cell_type": "code",
   "execution_count": 155,
   "id": "f1c30234",
   "metadata": {},
   "outputs": [
    {
     "data": {
      "text/plain": [
       "[('chevrolet', (188, 3)),\n",
       " ('mazda', (1390, 16)),\n",
       " ('mitsubishi', (1353, 13)),\n",
       " ('nissan', (1846, 18)),\n",
       " ('dodge', (675, 8)),\n",
       " ('plymouth', (607, 7)),\n",
       " ('saab', (760, 6)),\n",
       " ('volvo', (1408, 11)),\n",
       " ('alfa-romero', (376, 3)),\n",
       " ('mercedes-benz', (1170, 8)),\n",
       " ('jaguar', (614, 3)),\n",
       " ('subaru', (1035, 12)),\n",
       " ('toyota', (2969, 32)),\n",
       " ('honda', (1043, 13)),\n",
       " ('isuzu', (168, 2)),\n",
       " ('volkswagen', (973, 12)),\n",
       " ('peugot', (1098, 11)),\n",
       " ('audi', (687, 6)),\n",
       " ('bmw', (1111, 8)),\n",
       " ('mercury', ('175', 1)),\n",
       " ('porsche', (764, 4))]"
      ]
     },
     "execution_count": 155,
     "metadata": {},
     "output_type": "execute_result"
    }
   ],
   "source": [
    "# Aplica redução por key (reduceByKey) e conta a quantidade de fabricantes de carro, a média de HP e o nome do fabricante\n",
    "fabricantes =  addOne.reduceByKey(lambda x, y: (int(x[0]) + int(y[0]), x[1] + y[1])) \n",
    "fabricantes.collect()"
   ]
  },
  {
   "cell_type": "code",
   "execution_count": 156,
   "id": "8ffcfee9",
   "metadata": {},
   "outputs": [
    {
     "data": {
      "text/plain": [
       "[('chevrolet', 62.666666666666664),\n",
       " ('mazda', 86.875),\n",
       " ('mitsubishi', 104.07692307692308),\n",
       " ('nissan', 102.55555555555556),\n",
       " ('dodge', 84.375),\n",
       " ('plymouth', 86.71428571428571),\n",
       " ('saab', 126.66666666666667),\n",
       " ('volvo', 128.0),\n",
       " ('alfa-romero', 125.33333333333333),\n",
       " ('mercedes-benz', 146.25),\n",
       " ('jaguar', 204.66666666666666),\n",
       " ('subaru', 86.25),\n",
       " ('toyota', 92.78125),\n",
       " ('honda', 80.23076923076923),\n",
       " ('isuzu', 84.0),\n",
       " ('volkswagen', 81.08333333333333),\n",
       " ('peugot', 99.81818181818181),\n",
       " ('audi', 114.5),\n",
       " ('bmw', 138.875),\n",
       " ('mercury', 175.0),\n",
       " ('porsche', 191.0)]"
      ]
     },
     "execution_count": 156,
     "metadata": {},
     "output_type": "execute_result"
    }
   ],
   "source": [
    "# Calculando a média de HP dividindo pela contagem total\n",
    "fabricantes.mapValues(lambda x: int(x[0])/int(x[1])).collect()"
   ]
  },
  {
   "cell_type": "markdown",
   "id": "ab4c08b9",
   "metadata": {},
   "source": [
    "## Accumulators e Broadcast"
   ]
  },
  {
   "cell_type": "markdown",
   "id": "15d781ed",
   "metadata": {},
   "source": [
    "O Spark faz uma cópia do código que você escreveu para processar os dados e executa essas cópias, uma por node do cluster. Qualquer variável criada no código é local ao node. O Spark gera cópias dessas variáveis locais, uma em cada node, que agem de forma independente. Mas e se precisamos que a mesma variável seja manipulada de forma única através de todo o cluster? Usamos Acumuladores e Broadcast."
   ]
  },
  {
   "cell_type": "markdown",
   "id": "2daaf212",
   "metadata": {},
   "source": [
    "Variável Broadcast - read-only, é compartilhada em todo o cluster."
   ]
  },
  {
   "cell_type": "markdown",
   "id": "8cc6dc58",
   "metadata": {},
   "source": [
    "Variável Accumulator - é compartilhada em todo o cluster, mas pode ser atualizada em cada node do cluster."
   ]
  },
  {
   "cell_type": "code",
   "execution_count": 157,
   "id": "46d846e9",
   "metadata": {},
   "outputs": [],
   "source": [
    "# Inicializando variáveis Accumulator\n",
    "sedanCount = sc.accumulator(0)\n",
    "hatchbackCount = sc.accumulator(0)"
   ]
  },
  {
   "cell_type": "code",
   "execution_count": 158,
   "id": "d1e93701",
   "metadata": {},
   "outputs": [],
   "source": [
    "# Inicializando variáveis Broadcast\n",
    "sedanText = sc.broadcast(\"sedan\")\n",
    "hatchbackText = sc.broadcast(\"hatchback\")"
   ]
  },
  {
   "cell_type": "code",
   "execution_count": 159,
   "id": "c4c0c0a1",
   "metadata": {},
   "outputs": [],
   "source": [
    "def splitLines(line) :\n",
    "\n",
    "    global sedanCount\n",
    "    global hatchbackCount\n",
    "\n",
    "    # Usa a variável Broadcast para comparar e configura o accumulator\n",
    "    if sedanText.value in line:\n",
    "        sedanCount +=1\n",
    "    if hatchbackText.value in line:\n",
    "        hatchbackCount +=1\n",
    "        \n",
    "    return line.split(\",\")"
   ]
  },
  {
   "cell_type": "code",
   "execution_count": 160,
   "id": "aa5960c2",
   "metadata": {},
   "outputs": [],
   "source": [
    "# Map()\n",
    "splitData = carros.map(splitLines)"
   ]
  },
  {
   "cell_type": "code",
   "execution_count": 161,
   "id": "ff098646",
   "metadata": {},
   "outputs": [
    {
     "name": "stdout",
     "output_type": "stream",
     "text": [
      "92 67\n"
     ]
    }
   ],
   "source": [
    "# Ação para executar a transformação (lazy evaluation)\n",
    "splitData.count()\n",
    "print(sedanCount, hatchbackCount)"
   ]
  },
  {
   "cell_type": "markdown",
   "id": "6c4c7993",
   "metadata": {},
   "source": [
    "## Partições"
   ]
  },
  {
   "cell_type": "markdown",
   "id": "3d1138f0",
   "metadata": {},
   "source": [
    "Sempre que criamos RDD's, esses objetos são divididos em partições e essas partições são distirbuídas através dos nodes do cluster. Por default, os RDD's são sempre particionados. Essas partições precisam ser configuradas quando se trabalha com grandes clusters."
   ]
  },
  {
   "cell_type": "code",
   "execution_count": 162,
   "id": "331ae34e",
   "metadata": {},
   "outputs": [
    {
     "data": {
      "text/plain": [
       "2"
      ]
     },
     "execution_count": 162,
     "metadata": {},
     "output_type": "execute_result"
    }
   ],
   "source": [
    "fabricantes.getNumPartitions()"
   ]
  },
  {
   "cell_type": "code",
   "execution_count": 163,
   "id": "077aa1be",
   "metadata": {},
   "outputs": [
    {
     "data": {
      "text/plain": [
       "5"
      ]
     },
     "execution_count": 163,
     "metadata": {},
     "output_type": "execute_result"
    }
   ],
   "source": [
    "# Especificando o Número de Partições\n",
    "collData = sc.parallelize([3,5,4,7,4], 3)\n",
    "collData.cache()\n",
    "collData.count()"
   ]
  },
  {
   "cell_type": "code",
   "execution_count": 164,
   "id": "88d97151",
   "metadata": {},
   "outputs": [
    {
     "data": {
      "text/plain": [
       "3"
      ]
     },
     "execution_count": 164,
     "metadata": {},
     "output_type": "execute_result"
    }
   ],
   "source": [
    "collData.getNumPartitions()"
   ]
  },
  {
   "cell_type": "code",
   "execution_count": 165,
   "id": "b89dae51",
   "metadata": {},
   "outputs": [
    {
     "name": "stdout",
     "output_type": "stream",
     "text": [
      "4\n"
     ]
    }
   ],
   "source": [
    "print (sc.defaultParallelism)"
   ]
  },
  {
   "cell_type": "markdown",
   "id": "5c52b517",
   "metadata": {},
   "source": [
    "# Spark Streaming"
   ]
  },
  {
   "cell_type": "markdown",
   "id": "50911a6a",
   "metadata": {},
   "source": [
    "# Capítulo 8.1: Gerando um Streaming de Dados em Tempo Real"
   ]
  },
  {
   "cell_type": "markdown",
   "id": "e356756d",
   "metadata": {},
   "source": [
    "## Simulando um Streaming de Dados TCP/IP na porta 9898 do seu computador local"
   ]
  },
  {
   "cell_type": "markdown",
   "id": "8f28dc0d",
   "metadata": {},
   "source": [
    "Windows: http://mobaxterm.mobatek.net/ . Clique em Start Local Terminal e depois: nc -lk 9898 "
   ]
  },
  {
   "cell_type": "markdown",
   "id": "4f8948a2",
   "metadata": {},
   "source": [
    "Mac/Linux: nc -lk 9898"
   ]
  },
  {
   "cell_type": "code",
   "execution_count": null,
   "id": "44f5e21e",
   "metadata": {},
   "outputs": [],
   "source": [
    "# Importando o StreamingContext\n",
    "from pyspark.streaming import StreamingContext"
   ]
  },
  {
   "cell_type": "code",
   "execution_count": null,
   "id": "1ef96050",
   "metadata": {},
   "outputs": [],
   "source": [
    "# Criando um StreamingContext com intervalo batch de 1 segundo\n",
    "ssc = StreamingContext(sc, 1)"
   ]
  },
  {
   "cell_type": "code",
   "execution_count": null,
   "id": "99a25f47",
   "metadata": {},
   "outputs": [],
   "source": [
    "# Criando um DStream que vai conectar na porta 9898 da sua máquina local\n",
    "linhas = ssc.socketTextStream(\"localhost\", 9898)"
   ]
  },
  {
   "cell_type": "code",
   "execution_count": null,
   "id": "24533c67",
   "metadata": {},
   "outputs": [],
   "source": [
    "type(linhas)"
   ]
  },
  {
   "cell_type": "code",
   "execution_count": null,
   "id": "75d0d69b",
   "metadata": {},
   "outputs": [],
   "source": [
    "# Divide cada linha em palavras\n",
    "palavras = linhas.flatMap(lambda line: line.split(\" \"))"
   ]
  },
  {
   "cell_type": "code",
   "execution_count": null,
   "id": "91d72dfa",
   "metadata": {},
   "outputs": [],
   "source": [
    "type(palavras)"
   ]
  },
  {
   "cell_type": "code",
   "execution_count": null,
   "id": "f865b691",
   "metadata": {},
   "outputs": [],
   "source": [
    "# Conta cada palavra em cada batch\n",
    "pares = palavras.map(lambda palavra: (palavra, 1))\n",
    "contaPalavras = pares.reduceByKey(lambda x, y: x + y)"
   ]
  },
  {
   "cell_type": "code",
   "execution_count": null,
   "id": "235fba36",
   "metadata": {},
   "outputs": [],
   "source": [
    "# Imprime os 10 primeiros elementos de cada rDD gerado no DStream\n",
    "contaPalavras.pprint()"
   ]
  },
  {
   "cell_type": "code",
   "execution_count": null,
   "id": "679ff33f",
   "metadata": {},
   "outputs": [],
   "source": [
    "ssc.start()             # Inicia a coleta e processamento do stream de dados\n",
    "ssc.awaitTermination()  # Aguarda a computação ser finalizada"
   ]
  },
  {
   "cell_type": "code",
   "execution_count": null,
   "id": "e9c56607",
   "metadata": {},
   "outputs": [],
   "source": [
    "ssc.stop()"
   ]
  },
  {
   "cell_type": "markdown",
   "id": "20791262",
   "metadata": {},
   "source": [
    "# Capítulo 8.12.01: Gerando um Streaming de Dados em Tempo Real"
   ]
  },
  {
   "cell_type": "markdown",
   "id": "17f31236",
   "metadata": {},
   "source": [
    "## Spark Streaming - Twitter"
   ]
  },
  {
   "cell_type": "code",
   "execution_count": null,
   "id": "72563ebf",
   "metadata": {},
   "outputs": [],
   "source": [
    "# Pode ser necessário instalar esses pacotes\n",
    "# !pip install requests_oauthlib\n",
    "# !pip install twython\n",
    "# !pip install nltk"
   ]
  },
  {
   "cell_type": "code",
   "execution_count": 1,
   "id": "e08c783a",
   "metadata": {},
   "outputs": [],
   "source": [
    "# Módulos usados\n",
    "from pyspark.streaming import StreamingContext\n",
    "from pyspark import SparkContext\n",
    "from requests_oauthlib import OAuth1Session\n",
    "from operator import add\n",
    "import requests_oauthlib\n",
    "from time import gmtime, strftime\n",
    "import requests\n",
    "import time\n",
    "import string\n",
    "import ast\n",
    "import json\n",
    "#import re"
   ]
  },
  {
   "cell_type": "code",
   "execution_count": 2,
   "id": "6e0461e7",
   "metadata": {},
   "outputs": [],
   "source": [
    "# Pacote NLTK\n",
    "import nltk\n",
    "from nltk.classify import NaiveBayesClassifier\n",
    "from nltk.sentiment import SentimentAnalyzer\n",
    "from nltk.corpus import subjectivity\n",
    "from nltk.corpus import stopwords\n",
    "from nltk.sentiment.util import *"
   ]
  },
  {
   "cell_type": "code",
   "execution_count": 3,
   "id": "0453f55a",
   "metadata": {},
   "outputs": [],
   "source": [
    "# Frequência de update\n",
    "INTERVALO_BATCH = 5"
   ]
  },
  {
   "cell_type": "code",
   "execution_count": 4,
   "id": "33ddba36",
   "metadata": {},
   "outputs": [],
   "source": [
    "# Criando o StreamingContext\n",
    "ssc = StreamingContext(sc, INTERVALO_BATCH)"
   ]
  },
  {
   "cell_type": "markdown",
   "id": "1e4323fd",
   "metadata": {},
   "source": [
    "## Treinando o Classificador de Análise de Sentimento"
   ]
  },
  {
   "cell_type": "markdown",
   "id": "4f72c302",
   "metadata": {},
   "source": [
    "Uma parte essencial da criação de um algoritmo de análise de sentimento (ou qualquer algoritmo de mineração de dados) é ter um conjunto de dados abrangente ou \"Corpus\" para o aprendizado, bem como um conjunto de dados de teste para garantir que a precisão do seu algoritmo atende aos padrões que você espera. Isso também permitirá que você ajuste o seu algoritmo a fim de deduzir melhores (ou mais precisas) características de linguagem natural que você poderia extrair do texto e que vão contribuir para a classificação de sentimento, em vez de usar uma abordagem genérica. Tomaremos como base o dataset de treino fornecido pela Universidade de Michigan, para competições do Kaggle (https://inclass.kaggle.com/c/si650winter11)."
   ]
  },
  {
   "cell_type": "markdown",
   "id": "c00fb65f",
   "metadata": {},
   "source": [
    "Esse dataset contém 1,578,627 tweets classificados e cada linha é marcada como: \n",
    "\n",
    "### 1 para o sentimento positivo \n",
    "### 0 para o sentimento negativo "
   ]
  },
  {
   "cell_type": "code",
   "execution_count": 5,
   "id": "f5041208",
   "metadata": {},
   "outputs": [],
   "source": [
    "# Lendo o arquivo texto e criando um RDD em memória com Spark\n",
    "arquivo = sc.textFile(r\"08.15-Projeto2/dataset_analise_sentimento.csv\")"
   ]
  },
  {
   "cell_type": "code",
   "execution_count": 6,
   "id": "615d87c9",
   "metadata": {},
   "outputs": [],
   "source": [
    "# Removendo o cabeçalho\n",
    "header = arquivo.take(1)[0]\n",
    "dataset = arquivo.filter(lambda line: line != header)"
   ]
  },
  {
   "cell_type": "code",
   "execution_count": 7,
   "id": "d8b81844",
   "metadata": {},
   "outputs": [
    {
     "data": {
      "text/plain": [
       "pyspark.rdd.PipelinedRDD"
      ]
     },
     "execution_count": 7,
     "metadata": {},
     "output_type": "execute_result"
    }
   ],
   "source": [
    "type(dataset)"
   ]
  },
  {
   "cell_type": "code",
   "execution_count": 8,
   "id": "615ad179",
   "metadata": {},
   "outputs": [],
   "source": [
    "# Essa função separa as colunas em cada linha, cria uma tupla e remove a pontuação.\n",
    "def get_row(line):\n",
    "  row = line.split(',')\n",
    "  sentimento = row[1]\n",
    "  tweet = row[3].strip()\n",
    "  translator = str.maketrans({key: None for key in string.punctuation})\n",
    "#translator = re.compile('[%s]' % re.escape(string.punctuation))\n",
    "#tweet = regex.sub('', tweet)\n",
    "  tweet = tweet.translate(translator)\n",
    "  tweet = tweet.split(' ')\n",
    "  tweet_lower = []\n",
    "  for word in tweet:\n",
    "    tweet_lower.append(word.lower())\n",
    "  return (tweet_lower, sentimento)"
   ]
  },
  {
   "cell_type": "code",
   "execution_count": 9,
   "id": "d5979c64",
   "metadata": {},
   "outputs": [],
   "source": [
    "# Aplcia a função a cada linha do dataset\n",
    "dataset_treino = dataset.map(lambda line: get_row(line))"
   ]
  },
  {
   "cell_type": "code",
   "execution_count": 10,
   "id": "4ef1c150",
   "metadata": {},
   "outputs": [],
   "source": [
    "# Cria um objeto SentimentAnalyzer \n",
    "sentiment_analyzer = SentimentAnalyzer()"
   ]
  },
  {
   "cell_type": "code",
   "execution_count": 11,
   "id": "67f1e41d",
   "metadata": {},
   "outputs": [
    {
     "name": "stderr",
     "output_type": "stream",
     "text": [
      "[nltk_data] Downloading package stopwords to\n",
      "[nltk_data]     C:\\Users\\Daniel\\AppData\\Roaming\\nltk_data...\n",
      "[nltk_data]   Package stopwords is already up-to-date!\n"
     ]
    },
    {
     "data": {
      "text/plain": [
       "True"
      ]
     },
     "execution_count": 11,
     "metadata": {},
     "output_type": "execute_result"
    }
   ],
   "source": [
    "# Certifique-se de ter espaço em disco - Aproximadamente 5GB\n",
    "# https://raw.githubusercontent.com/nltk/nltk_data/gh-pages/index.xml\n",
    "# nltk.download()\n",
    "nltk.download(\"stopwords\")"
   ]
  },
  {
   "cell_type": "code",
   "execution_count": 12,
   "id": "b5b8c60b",
   "metadata": {},
   "outputs": [
    {
     "data": {
      "text/html": [
       "<img src=\"08.15-Projeto2\\ntlkdata.png\"/>"
      ],
      "text/plain": [
       "<IPython.core.display.Image object>"
      ]
     },
     "execution_count": 12,
     "metadata": {},
     "output_type": "execute_result"
    }
   ],
   "source": [
    "# Ao instalar tudo, aparece a seguinte tela de navegação:\n",
    "\n",
    "from IPython.display import Image\n",
    "Image(url = r'08.15-Projeto2\\ntlkdata.png')"
   ]
  },
  {
   "cell_type": "code",
   "execution_count": 13,
   "id": "3a1dc974",
   "metadata": {},
   "outputs": [],
   "source": [
    "# Obtém a lista de stopwords em Inglês \n",
    "stopwords_all = []\n",
    "for word in stopwords.words('english'):\n",
    "  stopwords_all.append(word)\n",
    "  stopwords_all.append(word + '_NEG')"
   ]
  },
  {
   "cell_type": "code",
   "execution_count": 14,
   "id": "5d0eebe9",
   "metadata": {},
   "outputs": [],
   "source": [
    "# Obtém 10.000 tweets do dataset de treino e retorna todas as palavras que não são stopwords\n",
    "dataset_treino_amostra = dataset_treino.take(10000)"
   ]
  },
  {
   "cell_type": "code",
   "execution_count": 15,
   "id": "b38f5b66",
   "metadata": {},
   "outputs": [],
   "source": [
    "all_words_neg = sentiment_analyzer.all_words([mark_negation(doc) for doc in dataset_treino_amostra])\n",
    "all_words_neg_nostops = [x for x in all_words_neg if x not in stopwords_all]"
   ]
  },
  {
   "cell_type": "code",
   "execution_count": 16,
   "id": "945e068b",
   "metadata": {},
   "outputs": [],
   "source": [
    "# Cria um unigram e extrai as features\n",
    "unigram_feats = sentiment_analyzer.unigram_word_feats(all_words_neg_nostops, top_n = 200)\n",
    "sentiment_analyzer.add_feat_extractor(extract_unigram_feats, unigrams = unigram_feats)\n",
    "training_set = sentiment_analyzer.apply_features(dataset_treino_amostra)"
   ]
  },
  {
   "cell_type": "code",
   "execution_count": 17,
   "id": "6023ad2e",
   "metadata": {},
   "outputs": [
    {
     "data": {
      "text/plain": [
       "nltk.collections.LazyMap"
      ]
     },
     "execution_count": 17,
     "metadata": {},
     "output_type": "execute_result"
    }
   ],
   "source": [
    "type(training_set)"
   ]
  },
  {
   "cell_type": "code",
   "execution_count": 18,
   "id": "64684bed",
   "metadata": {},
   "outputs": [
    {
     "name": "stdout",
     "output_type": "stream",
     "text": [
      "Training classifier\n"
     ]
    }
   ],
   "source": [
    "# Treinar o modelo\n",
    "trainer = NaiveBayesClassifier.train\n",
    "classifier = sentiment_analyzer.train(trainer, training_set)"
   ]
  },
  {
   "cell_type": "code",
   "execution_count": 19,
   "id": "d3d5a76a",
   "metadata": {},
   "outputs": [],
   "source": [
    "# Testa o classificador em algumas sentenças\n",
    "test_sentence1 = [(['this', 'program', 'is', 'bad'], '')]\n",
    "test_sentence2 = [(['tough', 'day', 'at', 'work', 'today'], '')]\n",
    "test_sentence3 = [(['good', 'wonderful', 'amazing', 'awesome'], '')]\n",
    "test_set = sentiment_analyzer.apply_features(test_sentence1)\n",
    "test_set2 = sentiment_analyzer.apply_features(test_sentence2)\n",
    "test_set3 = sentiment_analyzer.apply_features(test_sentence3)"
   ]
  },
  {
   "cell_type": "code",
   "execution_count": 20,
   "id": "d9b9befd",
   "metadata": {},
   "outputs": [],
   "source": [
    "# Autenticação do Twitter \n",
    "consumer_key = \"apaopGZ2zvfnQPUEu4Dm6OhSs\"\n",
    "consumer_secret = \"sYTenLWQaUxAHlZshizX8ERbjmtvlMvCwUxM9Z1m1prTIrSGNl\"\n",
    "access_token = \"709905344026320896-s4U8M6rCMDz4CqMRMV2CwBJu8KFKfZG\"\n",
    "access_token_secret = \"Jg8WCL0AZFszLXynsDXOSMcHlynKYThGh4UO8nSu1Kokh\""
   ]
  },
  {
   "cell_type": "code",
   "execution_count": 21,
   "id": "826ddbaf",
   "metadata": {},
   "outputs": [],
   "source": [
    "# Especifica a URL termo de busca\n",
    "search_term = 'Trump'\n",
    "sample_url = 'https://stream.twitter.com/1.1/statuses/sample.json'\n",
    "filter_url = 'https://stream.twitter.com/1.1/statuses/filter.json?track='+search_term"
   ]
  },
  {
   "cell_type": "code",
   "execution_count": 22,
   "id": "a98af6fb",
   "metadata": {},
   "outputs": [],
   "source": [
    "# Criando o objeto de atutenticação para o Twitter\n",
    "auth = requests_oauthlib.OAuth1(consumer_key, consumer_secret, access_token, access_token_secret)"
   ]
  },
  {
   "cell_type": "code",
   "execution_count": 23,
   "id": "3e8d6695",
   "metadata": {},
   "outputs": [],
   "source": [
    "# Configurando o Stream\n",
    "rdd = ssc.sparkContext.parallelize([0])\n",
    "stream = ssc.queueStream([], default = rdd)"
   ]
  },
  {
   "cell_type": "code",
   "execution_count": 24,
   "id": "822a6e32",
   "metadata": {},
   "outputs": [
    {
     "data": {
      "text/plain": [
       "pyspark.streaming.dstream.DStream"
      ]
     },
     "execution_count": 24,
     "metadata": {},
     "output_type": "execute_result"
    }
   ],
   "source": [
    "type(stream)"
   ]
  },
  {
   "cell_type": "code",
   "execution_count": 25,
   "id": "ab471b81",
   "metadata": {},
   "outputs": [],
   "source": [
    "# Total de tweets por update\n",
    "NUM_TWEETS = 500 "
   ]
  },
  {
   "cell_type": "code",
   "execution_count": 26,
   "id": "e269aef5",
   "metadata": {},
   "outputs": [],
   "source": [
    "# Essa função conecta ao Twitter e retorna um número específico de Tweets (NUM_TWEETS)\n",
    "def tfunc(t, rdd):\n",
    "  return rdd.flatMap(lambda x: stream_twitter_data())\n",
    "\n",
    "# Função GET conecta a uma url e retorna dados\n",
    "def stream_twitter_data():\n",
    "  response = requests.get(filter_url, auth = auth, stream = True)\n",
    "  print(filter_url, response)\n",
    "  count = 0\n",
    "  for line in response.iter_lines():\n",
    "    try:\n",
    "      if count > NUM_TWEETS:\n",
    "        break\n",
    "      post = json.loads(line.decode('utf-8'))\n",
    "      contents = [post['text']]\n",
    "      count += 1\n",
    "      yield str(contents)\n",
    "    except:\n",
    "      result = False"
   ]
  },
  {
   "cell_type": "code",
   "execution_count": 27,
   "id": "7c4a42e6",
   "metadata": {},
   "outputs": [],
   "source": [
    "stream = stream.transform(tfunc)"
   ]
  },
  {
   "cell_type": "code",
   "execution_count": 28,
   "id": "ce1cc348",
   "metadata": {},
   "outputs": [],
   "source": [
    "coord_stream = stream.map(lambda line: ast.literal_eval(line))"
   ]
  },
  {
   "cell_type": "code",
   "execution_count": 29,
   "id": "57de7b06",
   "metadata": {},
   "outputs": [],
   "source": [
    "# Essa função classifica os tweets, aplicando as features do modelo criado anteriormente\n",
    "def classifica_tweet(tweet):\n",
    "  sentence = [(tweet, '')]\n",
    "  test_set = sentiment_analyzer.apply_features(sentence)\n",
    "  print(tweet, classifier.classify(test_set[0][0]))\n",
    "  return(tweet, classifier.classify(test_set[0][0]))"
   ]
  },
  {
   "cell_type": "code",
   "execution_count": 30,
   "id": "bae647ad",
   "metadata": {},
   "outputs": [],
   "source": [
    "# Essa função retorna o texto do Twitter e remove a pontuação\n",
    "def get_tweet_text(rdd):\n",
    "  for line in rdd:\n",
    "    tweet = line.strip()\n",
    "    translator = str.maketrans({key: None for key in string.punctuation})\n",
    "    tweet = tweet.translate(translator)\n",
    "    tweet = tweet.split(' ')\n",
    "    tweet_lower = []\n",
    "    for word in tweet:\n",
    "      tweet_lower.append(word.lower())\n",
    "    return(classifica_tweet(tweet_lower))"
   ]
  },
  {
   "cell_type": "code",
   "execution_count": 31,
   "id": "05483012",
   "metadata": {},
   "outputs": [],
   "source": [
    "# Cria uma lista vazia para os resultados\n",
    "resultados = []"
   ]
  },
  {
   "cell_type": "code",
   "execution_count": 32,
   "id": "adc4885e",
   "metadata": {},
   "outputs": [],
   "source": [
    "# Essa função salva o resultado dos batches de Tweets junto com o timestamp\n",
    "def output_rdd(rdd):\n",
    "  global resultados\n",
    "  pairs = rdd.map(lambda x: (get_tweet_text(x)[1],1))\n",
    "  counts = pairs.reduceByKey(add)\n",
    "  output = []\n",
    "  for count in counts.collect():\n",
    "    output.append(count)\n",
    "  result = [time.strftime(\"%I:%M:%S\"), output]\n",
    "  resultados.append(result)\n",
    "  print(result)"
   ]
  },
  {
   "cell_type": "code",
   "execution_count": 33,
   "id": "ba24632d",
   "metadata": {},
   "outputs": [],
   "source": [
    "# A função foreachRDD() aplica uma função a cada RDD to streaming de dados\n",
    "coord_stream.foreachRDD(lambda t, rdd: output_rdd(rdd))"
   ]
  },
  {
   "cell_type": "code",
   "execution_count": 34,
   "id": "11a85257",
   "metadata": {},
   "outputs": [
    {
     "name": "stdout",
     "output_type": "stream",
     "text": [
      "['10:19:30', []]\n"
     ]
    }
   ],
   "source": [
    "# Start streaming\n",
    "ssc.start()\n",
    "# ssc.awaitTermination()"
   ]
  },
  {
   "cell_type": "code",
   "execution_count": null,
   "id": "8e90f6fa",
   "metadata": {},
   "outputs": [],
   "source": [
    "cont = True\n",
    "while cont:\n",
    "  if len(resultados) > 5:\n",
    "    cont = False"
   ]
  },
  {
   "cell_type": "code",
   "execution_count": null,
   "id": "5bd93003",
   "metadata": {},
   "outputs": [],
   "source": [
    "# Grava os resultados\n",
    "rdd_save = '/opt/DSA/BigDataAnalytics-Python-Spark/Capitulo08/r'+time.strftime(\"%I%M%S\")\n",
    "resultados_rdd = sc.parallelize(resultados)\n",
    "resultados_rdd.saveAsTextFile(rdd_save)"
   ]
  },
  {
   "cell_type": "code",
   "execution_count": null,
   "id": "a15656b7",
   "metadata": {},
   "outputs": [],
   "source": [
    "# Visualiza os resultados\n",
    "resultados_rdd.collect()"
   ]
  },
  {
   "cell_type": "code",
   "execution_count": null,
   "id": "c52b6edc",
   "metadata": {},
   "outputs": [],
   "source": [
    "# Finaliza o streaming\n",
    "ssc.stop()"
   ]
  },
  {
   "cell_type": "markdown",
   "id": "36415130",
   "metadata": {},
   "source": [
    "# Processamento de Linguagem Natural com Python - NLTK"
   ]
  },
  {
   "cell_type": "markdown",
   "id": "cc43bb3a",
   "metadata": {},
   "source": [
    "## Instalação do pacote NLTK\n",
    "http://www.nltk.org/install.html"
   ]
  },
  {
   "cell_type": "code",
   "execution_count": null,
   "id": "8a075e89",
   "metadata": {},
   "outputs": [],
   "source": [
    "# Instalação do módulo NLTK\n",
    "!pip install nltk"
   ]
  },
  {
   "cell_type": "code",
   "execution_count": 1,
   "id": "633b6865",
   "metadata": {},
   "outputs": [],
   "source": [
    "import nltk"
   ]
  },
  {
   "cell_type": "code",
   "execution_count": null,
   "id": "16e69d1b",
   "metadata": {},
   "outputs": [],
   "source": [
    "# Instalando os arquivos de dados do NLTK\n",
    "nltk.download()"
   ]
  },
  {
   "cell_type": "markdown",
   "id": "f9e564a0",
   "metadata": {},
   "source": [
    "### Leia a definição e execute as células para compreender o código de cada uma e o conceito que está sendo demonstrado"
   ]
  },
  {
   "cell_type": "markdown",
   "id": "d185447e",
   "metadata": {},
   "source": [
    "## Tokenization"
   ]
  },
  {
   "cell_type": "markdown",
   "id": "438c1681",
   "metadata": {},
   "source": [
    "Processo de dividir uma string em listas de pedaços ou \"tokens\". Um token é uma parte inteira. Por exemplos: uma palavra é um token em uma sentença. Uma sentença é um token em um parágrafo."
   ]
  },
  {
   "cell_type": "markdown",
   "id": "6db28da6",
   "metadata": {},
   "source": [
    "### Dividindo um parágrafo em frases"
   ]
  },
  {
   "cell_type": "code",
   "execution_count": null,
   "id": "a851a902",
   "metadata": {},
   "outputs": [],
   "source": [
    "paragrafo = \"Olá. Bom saber que você está aprendendo PLN. Obrigado por estar conosco.\""
   ]
  },
  {
   "cell_type": "code",
   "execution_count": null,
   "id": "b57e38fd",
   "metadata": {},
   "outputs": [],
   "source": [
    "from nltk.tokenize import sent_tokenize"
   ]
  },
  {
   "cell_type": "code",
   "execution_count": null,
   "id": "4da9a355",
   "metadata": {},
   "outputs": [],
   "source": [
    "# Dividindo o parágrafo em frases\n",
    "sent_tokenize(paragrafo)"
   ]
  },
  {
   "cell_type": "code",
   "execution_count": null,
   "id": "e12665a3",
   "metadata": {},
   "outputs": [],
   "source": [
    "import nltk.data"
   ]
  },
  {
   "cell_type": "code",
   "execution_count": null,
   "id": "6154dc06",
   "metadata": {},
   "outputs": [],
   "source": [
    "# Utilizando dados do pacote NLTK\n",
    "tokenizer = nltk.data.load('tokenizers/punkt/english.pickle')"
   ]
  },
  {
   "cell_type": "code",
   "execution_count": null,
   "id": "4a98cbb0",
   "metadata": {},
   "outputs": [],
   "source": [
    "tokenizer.tokenize(paragrafo)"
   ]
  },
  {
   "cell_type": "code",
   "execution_count": null,
   "id": "bf17fb1b",
   "metadata": {},
   "outputs": [],
   "source": [
    "# Dados em espanhol\n",
    "spanish_tokenizer = nltk.data.load('tokenizers/punkt/spanish.pickle')"
   ]
  },
  {
   "cell_type": "code",
   "execution_count": null,
   "id": "523daa2e",
   "metadata": {},
   "outputs": [],
   "source": [
    "spanish_tokenizer.tokenize('Hola amigo. Estoy bien.')"
   ]
  },
  {
   "cell_type": "markdown",
   "id": "a85f35b5",
   "metadata": {},
   "source": [
    "### Dividindo uma frase em palavras"
   ]
  },
  {
   "cell_type": "code",
   "execution_count": null,
   "id": "84cad915",
   "metadata": {},
   "outputs": [],
   "source": [
    "from nltk.tokenize import word_tokenize"
   ]
  },
  {
   "cell_type": "code",
   "execution_count": null,
   "id": "a82c0f19",
   "metadata": {},
   "outputs": [],
   "source": [
    "word_tokenize('Data Science Academy')"
   ]
  },
  {
   "cell_type": "code",
   "execution_count": null,
   "id": "9850005a",
   "metadata": {},
   "outputs": [],
   "source": [
    "from nltk.tokenize import TreebankWordTokenizer"
   ]
  },
  {
   "cell_type": "code",
   "execution_count": null,
   "id": "998833cc",
   "metadata": {},
   "outputs": [],
   "source": [
    "tokenizer = TreebankWordTokenizer()"
   ]
  },
  {
   "cell_type": "code",
   "execution_count": null,
   "id": "121c151d",
   "metadata": {},
   "outputs": [],
   "source": [
    "tokenizer.tokenize('Hello World.')"
   ]
  },
  {
   "cell_type": "code",
   "execution_count": null,
   "id": "3e2fc9e8",
   "metadata": {},
   "outputs": [],
   "source": [
    "word_tokenize(\"can't\")"
   ]
  },
  {
   "cell_type": "code",
   "execution_count": null,
   "id": "e9d207d1",
   "metadata": {},
   "outputs": [],
   "source": [
    "from nltk.tokenize import WordPunctTokenizer"
   ]
  },
  {
   "cell_type": "code",
   "execution_count": null,
   "id": "a810ad77",
   "metadata": {},
   "outputs": [],
   "source": [
    "tokenizer = WordPunctTokenizer()"
   ]
  },
  {
   "cell_type": "code",
   "execution_count": null,
   "id": "3df723c7",
   "metadata": {},
   "outputs": [],
   "source": [
    "tokenizer.tokenize(\"Can't is a contraction.\")"
   ]
  },
  {
   "cell_type": "code",
   "execution_count": null,
   "id": "4792b676",
   "metadata": {},
   "outputs": [],
   "source": [
    "from nltk.tokenize import RegexpTokenizer"
   ]
  },
  {
   "cell_type": "code",
   "execution_count": null,
   "id": "9e3b41ee",
   "metadata": {},
   "outputs": [],
   "source": [
    "tokenizer = RegexpTokenizer(\"[\\w']+\")"
   ]
  },
  {
   "cell_type": "code",
   "execution_count": null,
   "id": "01f4e561",
   "metadata": {},
   "outputs": [],
   "source": [
    "tokenizer.tokenize(\"Can't is a contraction.\")"
   ]
  },
  {
   "cell_type": "code",
   "execution_count": null,
   "id": "64d99056",
   "metadata": {},
   "outputs": [],
   "source": [
    "from nltk.tokenize import regexp_tokenize"
   ]
  },
  {
   "cell_type": "code",
   "execution_count": null,
   "id": "7b385351",
   "metadata": {},
   "outputs": [],
   "source": [
    "regexp_tokenize(\"Can't is a contraction.\", \"[\\w']+\")"
   ]
  },
  {
   "cell_type": "code",
   "execution_count": null,
   "id": "5d314677",
   "metadata": {},
   "outputs": [],
   "source": [
    "tokenizer = RegexpTokenizer('\\s+', gaps = True)"
   ]
  },
  {
   "cell_type": "code",
   "execution_count": null,
   "id": "ecabdd00",
   "metadata": {},
   "outputs": [],
   "source": [
    "tokenizer.tokenize(\"Can't is a contraction.\")"
   ]
  },
  {
   "cell_type": "markdown",
   "id": "819da383",
   "metadata": {},
   "source": [
    "### Treinando um Tokenizer"
   ]
  },
  {
   "cell_type": "code",
   "execution_count": null,
   "id": "bfcb2cd9",
   "metadata": {},
   "outputs": [],
   "source": [
    "from nltk.tokenize import PunktSentenceTokenizer\n",
    "from nltk.corpus import webtext"
   ]
  },
  {
   "cell_type": "code",
   "execution_count": null,
   "id": "36123aef",
   "metadata": {},
   "outputs": [],
   "source": [
    "# /Users/dmpm/nltk_data/corpora/webtext\n",
    "texto = webtext.raw('overheard.txt')"
   ]
  },
  {
   "cell_type": "code",
   "execution_count": null,
   "id": "d368f76d",
   "metadata": {},
   "outputs": [],
   "source": [
    "sent_tokenizer = PunktSentenceTokenizer(texto)"
   ]
  },
  {
   "cell_type": "code",
   "execution_count": null,
   "id": "fa0460eb",
   "metadata": {},
   "outputs": [],
   "source": [
    "sents1 = sent_tokenizer.tokenize(texto)"
   ]
  },
  {
   "cell_type": "code",
   "execution_count": null,
   "id": "db1c4fc5",
   "metadata": {},
   "outputs": [],
   "source": [
    "sents1[0]"
   ]
  },
  {
   "cell_type": "code",
   "execution_count": null,
   "id": "2b9dcecb",
   "metadata": {},
   "outputs": [],
   "source": [
    "from nltk.tokenize import sent_tokenize"
   ]
  },
  {
   "cell_type": "code",
   "execution_count": null,
   "id": "42b8233f",
   "metadata": {},
   "outputs": [],
   "source": [
    "sents2 = sent_tokenize(texto)"
   ]
  },
  {
   "cell_type": "code",
   "execution_count": null,
   "id": "7c578c71",
   "metadata": {},
   "outputs": [],
   "source": [
    "sents2[0]"
   ]
  },
  {
   "cell_type": "code",
   "execution_count": null,
   "id": "46ceddc1",
   "metadata": {},
   "outputs": [],
   "source": [
    "sents1[678]"
   ]
  },
  {
   "cell_type": "code",
   "execution_count": null,
   "id": "89cf6732",
   "metadata": {},
   "outputs": [],
   "source": [
    "sents2[678]"
   ]
  },
  {
   "cell_type": "code",
   "execution_count": null,
   "id": "4af374a4",
   "metadata": {},
   "outputs": [],
   "source": [
    "with open('/Users/dmpm/nltk_data/corpora/webtext/overheard.txt', encoding = 'ISO-8859-2') as f:\n",
    "    texto = f.read()"
   ]
  },
  {
   "cell_type": "code",
   "execution_count": null,
   "id": "09bb7a60",
   "metadata": {},
   "outputs": [],
   "source": [
    "sent_tokenizer = PunktSentenceTokenizer(texto)"
   ]
  },
  {
   "cell_type": "code",
   "execution_count": null,
   "id": "db77abcb",
   "metadata": {},
   "outputs": [],
   "source": [
    "sents = sent_tokenizer.tokenize(texto)"
   ]
  },
  {
   "cell_type": "code",
   "execution_count": null,
   "id": "39a16677",
   "metadata": {},
   "outputs": [],
   "source": [
    "sents[0]"
   ]
  },
  {
   "cell_type": "code",
   "execution_count": null,
   "id": "05d6e2a7",
   "metadata": {},
   "outputs": [],
   "source": [
    "sents[678]"
   ]
  },
  {
   "cell_type": "markdown",
   "id": "223f3582",
   "metadata": {},
   "source": [
    "## Stopwords"
   ]
  },
  {
   "cell_type": "markdown",
   "id": "2b253cad",
   "metadata": {},
   "source": [
    "Stopwords são palavras comuns que normalmente não contribuem para o significado de uma frase, pelo menos com relação ao propósito da informação e do processamento da linguagem natural. São palavras como \"The\" e \"a\" ((em inglês) ou \"O/A\" e \"Um/Uma\" ((em português). Muitos mecanismos de busca filtram estas palavras (stopwords), como forma de economizar espaço em seus índices de pesquisa."
   ]
  },
  {
   "cell_type": "code",
   "execution_count": null,
   "id": "f5dc5f06",
   "metadata": {},
   "outputs": [],
   "source": [
    "from nltk.corpus import stopwords"
   ]
  },
  {
   "cell_type": "code",
   "execution_count": null,
   "id": "b3c44085",
   "metadata": {},
   "outputs": [],
   "source": [
    "english_stops = set(stopwords.words('english'))"
   ]
  },
  {
   "cell_type": "code",
   "execution_count": null,
   "id": "3d20bddb",
   "metadata": {},
   "outputs": [],
   "source": [
    "words = [\"Can't\", 'is', 'a', 'contraction']"
   ]
  },
  {
   "cell_type": "code",
   "execution_count": null,
   "id": "b37622c8",
   "metadata": {},
   "outputs": [],
   "source": [
    "[word for word in words if word not in english_stops]"
   ]
  },
  {
   "cell_type": "code",
   "execution_count": null,
   "id": "6f6ebc1f",
   "metadata": {},
   "outputs": [],
   "source": [
    "portuguese_stops = set(stopwords.words('portuguese'))"
   ]
  },
  {
   "cell_type": "code",
   "execution_count": null,
   "id": "945fdc81",
   "metadata": {},
   "outputs": [],
   "source": [
    "palavras = [\"Aquilo\", 'é', 'um', 'gato']"
   ]
  },
  {
   "cell_type": "code",
   "execution_count": null,
   "id": "5289abd1",
   "metadata": {},
   "outputs": [],
   "source": [
    "[palavra for palavra in palavras if palavra not in portuguese_stops]"
   ]
  },
  {
   "cell_type": "code",
   "execution_count": null,
   "id": "0a0fa8f8",
   "metadata": {},
   "outputs": [],
   "source": [
    "stopwords.fileids()"
   ]
  },
  {
   "cell_type": "code",
   "execution_count": null,
   "id": "0d6b1966",
   "metadata": {},
   "outputs": [],
   "source": [
    "stopwords.words('portuguese')"
   ]
  },
  {
   "cell_type": "markdown",
   "id": "087975a7",
   "metadata": {},
   "source": [
    "### Wordnet"
   ]
  },
  {
   "cell_type": "markdown",
   "id": "9bd8b9ed",
   "metadata": {},
   "source": [
    "WordNet é um banco de dados léxico (em Inglês). É uma espécie de dicionário criado especificamente para processamento de linguagem natural."
   ]
  },
  {
   "cell_type": "code",
   "execution_count": null,
   "id": "1405d1dd",
   "metadata": {},
   "outputs": [],
   "source": [
    "from nltk.corpus import wordnet"
   ]
  },
  {
   "cell_type": "code",
   "execution_count": null,
   "id": "c14329b9",
   "metadata": {},
   "outputs": [],
   "source": [
    "syn = wordnet.synsets('cookbook')[0]"
   ]
  },
  {
   "cell_type": "code",
   "execution_count": null,
   "id": "ca03cac0",
   "metadata": {},
   "outputs": [],
   "source": [
    "syn.name()"
   ]
  },
  {
   "cell_type": "code",
   "execution_count": null,
   "id": "5537a624",
   "metadata": {},
   "outputs": [],
   "source": [
    "syn.definition()"
   ]
  },
  {
   "cell_type": "code",
   "execution_count": null,
   "id": "0acb616a",
   "metadata": {},
   "outputs": [],
   "source": [
    "wordnet.synsets('cooking')[0].examples()"
   ]
  },
  {
   "cell_type": "markdown",
   "id": "9fc428c7",
   "metadata": {},
   "source": [
    "## Collocations"
   ]
  },
  {
   "cell_type": "markdown",
   "id": "5004247a",
   "metadata": {},
   "source": [
    "Collocations são duas ou mais palavras que tendem a aparecer frequentemente juntas, como \"Estados Unidos\" ou \"Rio Grande do Sul\". Essas palavras podem gerar diversas combinações e por isso o contexto também é importante no processamento de linguagem natural."
   ]
  },
  {
   "cell_type": "code",
   "execution_count": null,
   "id": "dcc77683",
   "metadata": {},
   "outputs": [],
   "source": [
    "from nltk.corpus import webtext\n",
    "from nltk.collocations import BigramCollocationFinder\n",
    "from nltk.metrics import BigramAssocMeasures"
   ]
  },
  {
   "cell_type": "code",
   "execution_count": null,
   "id": "bfc04b28",
   "metadata": {},
   "outputs": [],
   "source": [
    "words = [w.lower() for w in webtext.words('grail.txt')]"
   ]
  },
  {
   "cell_type": "code",
   "execution_count": null,
   "id": "339c6885",
   "metadata": {},
   "outputs": [],
   "source": [
    "bcf = BigramCollocationFinder.from_words(words)"
   ]
  },
  {
   "cell_type": "code",
   "execution_count": null,
   "id": "7e7170db",
   "metadata": {},
   "outputs": [],
   "source": [
    "bcf.nbest(BigramAssocMeasures.likelihood_ratio, 4)"
   ]
  },
  {
   "cell_type": "code",
   "execution_count": null,
   "id": "6248fc01",
   "metadata": {},
   "outputs": [],
   "source": [
    "from nltk.corpus import stopwords"
   ]
  },
  {
   "cell_type": "code",
   "execution_count": null,
   "id": "a32ec0f2",
   "metadata": {},
   "outputs": [],
   "source": [
    "stopset = set(stopwords.words('english'))"
   ]
  },
  {
   "cell_type": "code",
   "execution_count": null,
   "id": "03c862e9",
   "metadata": {},
   "outputs": [],
   "source": [
    "filter_stops = lambda w: len(w) < 3 or w in stopset"
   ]
  },
  {
   "cell_type": "code",
   "execution_count": null,
   "id": "c3a24c07",
   "metadata": {},
   "outputs": [],
   "source": [
    "bcf.apply_word_filter(filter_stops)"
   ]
  },
  {
   "cell_type": "code",
   "execution_count": null,
   "id": "55cdb1ce",
   "metadata": {},
   "outputs": [],
   "source": [
    "bcf.nbest(BigramAssocMeasures.likelihood_ratio, 4)"
   ]
  },
  {
   "cell_type": "markdown",
   "id": "c136b95f",
   "metadata": {},
   "source": [
    "## Stemming Words"
   ]
  },
  {
   "cell_type": "markdown",
   "id": "ec918796",
   "metadata": {},
   "source": [
    "Stemming é a técnica de remover sufixos e prefixos de uma palavra, chamada stem. Por exemplo, o stem da palavra cooking é cook. Um bom algoritmo sabe que \"ing\" é um sufixo e pode ser removido. Stemming é muito usado em mecanismos de buscas para indexação de palavras. Ao invés de armazenar todas as formas de uma palavras, um mecamismo de busca armazena apenas o stem da palavra, reduzindo o tamanho do índice e aumentando a performance do processo de busca."
   ]
  },
  {
   "cell_type": "code",
   "execution_count": null,
   "id": "b2ab94ab",
   "metadata": {},
   "outputs": [],
   "source": [
    "from nltk.stem import PorterStemmer"
   ]
  },
  {
   "cell_type": "code",
   "execution_count": null,
   "id": "79283a8d",
   "metadata": {},
   "outputs": [],
   "source": [
    "stemmer = PorterStemmer()"
   ]
  },
  {
   "cell_type": "code",
   "execution_count": null,
   "id": "3845b198",
   "metadata": {},
   "outputs": [],
   "source": [
    "stemmer.stem('cooking')"
   ]
  },
  {
   "cell_type": "code",
   "execution_count": null,
   "id": "5793c834",
   "metadata": {},
   "outputs": [],
   "source": [
    "stemmer.stem('cookery')"
   ]
  },
  {
   "cell_type": "code",
   "execution_count": null,
   "id": "d9009a28",
   "metadata": {},
   "outputs": [],
   "source": [
    "from nltk.stem import LancasterStemmer"
   ]
  },
  {
   "cell_type": "code",
   "execution_count": null,
   "id": "efbedb3f",
   "metadata": {},
   "outputs": [],
   "source": [
    "stemmer = LancasterStemmer()"
   ]
  },
  {
   "cell_type": "code",
   "execution_count": null,
   "id": "e87e9db9",
   "metadata": {},
   "outputs": [],
   "source": [
    "stemmer.stem('cooking')"
   ]
  },
  {
   "cell_type": "code",
   "execution_count": null,
   "id": "a7229028",
   "metadata": {},
   "outputs": [],
   "source": [
    "stemmer.stem('cookery')"
   ]
  },
  {
   "cell_type": "code",
   "execution_count": null,
   "id": "2fd5743a",
   "metadata": {},
   "outputs": [],
   "source": [
    "from nltk.stem import RegexpStemmer"
   ]
  },
  {
   "cell_type": "code",
   "execution_count": null,
   "id": "e8156a7b",
   "metadata": {},
   "outputs": [],
   "source": [
    "stemmer = RegexpStemmer('ing')"
   ]
  },
  {
   "cell_type": "code",
   "execution_count": null,
   "id": "b3e30ac4",
   "metadata": {},
   "outputs": [],
   "source": [
    "stemmer.stem('cooking')"
   ]
  },
  {
   "cell_type": "code",
   "execution_count": null,
   "id": "a54ad2d0",
   "metadata": {},
   "outputs": [],
   "source": [
    "from nltk.stem import SnowballStemmer"
   ]
  },
  {
   "cell_type": "code",
   "execution_count": null,
   "id": "dc1f515a",
   "metadata": {},
   "outputs": [],
   "source": [
    "SnowballStemmer.languages"
   ]
  },
  {
   "cell_type": "code",
   "execution_count": null,
   "id": "e75fd1b6",
   "metadata": {},
   "outputs": [],
   "source": [
    "spanish_stemmer = SnowballStemmer('portuguese')"
   ]
  },
  {
   "cell_type": "code",
   "execution_count": null,
   "id": "ab777845",
   "metadata": {},
   "outputs": [],
   "source": [
    "spanish_stemmer.stem('Tudo bem')"
   ]
  },
  {
   "cell_type": "markdown",
   "id": "8e328277",
   "metadata": {},
   "source": [
    "### Corpus"
   ]
  },
  {
   "cell_type": "markdown",
   "id": "a7704905",
   "metadata": {},
   "source": [
    "Corpus é uma coleção de documentos de texto e Corpora é o plural de Corpus. Esse termo vem da palavra em Latim para corpo (nesse caso, o corpo de um texto). Um Corpus customizado é uma coleção de arquivos de texto organizados em um diretório.\n",
    "\n",
    "Se você for treinar seu próprio modelo como parte de um processo de classificação de texto (como análise de texto), você ter;a que criar seu próprio Corpus e treiná-lo."
   ]
  },
  {
   "cell_type": "code",
   "execution_count": null,
   "id": "bbf57936",
   "metadata": {},
   "outputs": [],
   "source": [
    "from nltk.corpus.reader import WordListCorpusReader"
   ]
  },
  {
   "cell_type": "code",
   "execution_count": null,
   "id": "9d301c3d",
   "metadata": {},
   "outputs": [],
   "source": [
    "# Criando um Corpus (arquivo palavras.txt no mesmo diretório do Jupyter Notebook)\n",
    "reader = WordListCorpusReader('.', ['palavras.txt'])"
   ]
  },
  {
   "cell_type": "code",
   "execution_count": null,
   "id": "f516c0b8",
   "metadata": {},
   "outputs": [],
   "source": [
    "reader.words()"
   ]
  },
  {
   "cell_type": "code",
   "execution_count": null,
   "id": "38151823",
   "metadata": {},
   "outputs": [],
   "source": [
    "reader.fileids()"
   ]
  },
  {
   "cell_type": "code",
   "execution_count": null,
   "id": "5ce8a229",
   "metadata": {},
   "outputs": [],
   "source": [
    "reader.raw()"
   ]
  },
  {
   "cell_type": "code",
   "execution_count": null,
   "id": "5908e30a",
   "metadata": {},
   "outputs": [],
   "source": [
    "from nltk.tokenize import line_tokenize"
   ]
  },
  {
   "cell_type": "code",
   "execution_count": null,
   "id": "b651cfc0",
   "metadata": {},
   "outputs": [],
   "source": [
    "line_tokenize(reader.raw())"
   ]
  },
  {
   "cell_type": "code",
   "execution_count": null,
   "id": "13e57179",
   "metadata": {},
   "outputs": [],
   "source": [
    "from nltk.corpus import brown"
   ]
  },
  {
   "cell_type": "code",
   "execution_count": null,
   "id": "494f1ea4",
   "metadata": {},
   "outputs": [],
   "source": [
    "brown.categories()"
   ]
  },
  {
   "cell_type": "markdown",
   "id": "24a7d78e",
   "metadata": {},
   "source": [
    "# Spark Machine Learning"
   ]
  },
  {
   "cell_type": "markdown",
   "id": "b464f0b7",
   "metadata": {},
   "source": [
    "# Capítulo 9.6: Spark MLLib - Regressão Linear"
   ]
  },
  {
   "cell_type": "markdown",
   "id": "c4e688e4",
   "metadata": {},
   "source": [
    "## <font color='blue'>Spark MLLib - Regressão Linear</font>"
   ]
  },
  {
   "cell_type": "markdown",
   "id": "38861a4b",
   "metadata": {},
   "source": [
    "<strong> Descrição </strong>\n",
    "<ul style=\"list-style-type:square\">\n",
    "  <li>Método para avaliar o relacionamento entre variáveis.</li>\n",
    "  <li>Estima o valor de uma variável dependente a partir dos valores das variáveis independentes.</li>\n",
    "  <li>Usado quando as variáveis dependente e independente são contínuas e possuem alguma correlação.</li>\n",
    "  <li>O R-Square mede quão perto os dados estão da linha de regressão. O valor do R-Squared será entre 0 e 1, sendo que quanto maior o valor, melhor.</li>\n",
    "  <li>Os dados de entrada e de saída são usados na construção do modelo. A equação linear retorna os valores dos coeficientes.</li>\n",
    "  <li>A equação linear representa o modelo.</li>\n",
    "</ul>"
   ]
  },
  {
   "cell_type": "markdown",
   "id": "1417a6ae",
   "metadata": {},
   "source": [
    "<dl>\n",
    "  <dt>Vantagens</dt>\n",
    "  <dd>- Baixo custo</dd>\n",
    "  <dd>- Veloz</dd>\n",
    "  <dd>- Excelente para relações lineares</dd>\n",
    "  <br />\n",
    "  <dt>Desvantagens</dt>\n",
    "  <dd>- Somente variáveis numéricas</dd>\n",
    "  <dd>- Sensível a outliers</dd>\n",
    "  <br />\n",
    "  <dt>Aplicação</dt>\n",
    "  <dd>- Um dos modelos mais antigos e pode ser usado para resolver diversos problemas</dd>\n",
    "</dl>"
   ]
  },
  {
   "cell_type": "markdown",
   "id": "4e8a0231",
   "metadata": {},
   "source": [
    "## Usaremos Regressão Linear para prever os valores de MPG (Miles Per Gallon)"
   ]
  },
  {
   "cell_type": "markdown",
   "id": "9e6d3075",
   "metadata": {},
   "source": [
    "MPG será a variável target e as demais variáveis serão as features (variáveis preditoras)."
   ]
  },
  {
   "cell_type": "code",
   "execution_count": 166,
   "id": "11d9400d",
   "metadata": {},
   "outputs": [],
   "source": [
    "# Spark Session - usada quando se trabalha com Dataframes no Spark\n",
    "spSession = SparkSession.builder.master(\"local\").appName(\"DSA-SparkMLLib\").config(\"spark.some.config.option\", \"session\").getOrCreate()"
   ]
  },
  {
   "cell_type": "code",
   "execution_count": 167,
   "id": "f9e1ee25",
   "metadata": {},
   "outputs": [],
   "source": [
    "from pyspark.sql import Row\n",
    "from pyspark.ml.linalg import Vectors\n",
    "from pyspark.ml.regression import LinearRegression\n",
    "from pyspark.ml.evaluation import RegressionEvaluator"
   ]
  },
  {
   "cell_type": "code",
   "execution_count": 168,
   "id": "476163b2",
   "metadata": {},
   "outputs": [],
   "source": [
    "# Carregando os dados e gerando um RDD\n",
    "carrosRDD = sc.textFile(r\"09.05 Exemplos\\data\\carros.csv\")"
   ]
  },
  {
   "cell_type": "code",
   "execution_count": 169,
   "id": "885da31e",
   "metadata": {},
   "outputs": [
    {
     "data": {
      "text/plain": [
       "09.05 Exemplos\\data\\carros.csv MapPartitionsRDD[344] at textFile at NativeMethodAccessorImpl.java:0"
      ]
     },
     "execution_count": 169,
     "metadata": {},
     "output_type": "execute_result"
    }
   ],
   "source": [
    "# Colocando o RDD em cache. Esse processo otimiza a performance.\n",
    "carrosRDD.cache()"
   ]
  },
  {
   "cell_type": "code",
   "execution_count": 170,
   "id": "f119d73b",
   "metadata": {},
   "outputs": [
    {
     "data": {
      "text/plain": [
       "399"
      ]
     },
     "execution_count": 170,
     "metadata": {},
     "output_type": "execute_result"
    }
   ],
   "source": [
    "carrosRDD.count()"
   ]
  },
  {
   "cell_type": "code",
   "execution_count": 171,
   "id": "0b92ee0f",
   "metadata": {},
   "outputs": [
    {
     "data": {
      "text/plain": [
       "['MPG,CYLINDERS,DISPLACEMENT,HORSEPOWER,WEIGHT,ACCELERATION,MODELYEAR,NAME',\n",
       " '18,8,307,130,3504,12,70,chevrolet chevelle malibu',\n",
       " '15,8,350,165,3693,11.5,70,buick skylark 320',\n",
       " '18,8,318,150,3436,11,70,plymouth satellite',\n",
       " '16,8,304,150,3433,12,70,amc rebel sst']"
      ]
     },
     "execution_count": 171,
     "metadata": {},
     "output_type": "execute_result"
    }
   ],
   "source": [
    "carrosRDD.take(5)"
   ]
  },
  {
   "cell_type": "code",
   "execution_count": 172,
   "id": "99abd5a4",
   "metadata": {},
   "outputs": [
    {
     "data": {
      "text/plain": [
       "398"
      ]
     },
     "execution_count": 172,
     "metadata": {},
     "output_type": "execute_result"
    }
   ],
   "source": [
    "# Removendo a primeira linha do arquivo (cabeçalho)\n",
    "carrosRDD2 = carrosRDD.filter(lambda x: \"DISPLACEMENT\" not in x)\n",
    "carrosRDD2.count()"
   ]
  },
  {
   "cell_type": "markdown",
   "id": "eb51bfef",
   "metadata": {},
   "source": [
    "## Limpeza dos Dados"
   ]
  },
  {
   "cell_type": "code",
   "execution_count": 173,
   "id": "3929e0f3",
   "metadata": {},
   "outputs": [],
   "source": [
    "# Usando um valor padrão para average HP (que será usado para preencher os valores missing)\n",
    "mediaHP = sc.broadcast(75.0)"
   ]
  },
  {
   "cell_type": "code",
   "execution_count": 174,
   "id": "0148372a",
   "metadata": {},
   "outputs": [],
   "source": [
    "# Função para limpeza dos dados\n",
    "def limpaDados( inputStr) :\n",
    "    global mediaHP\n",
    "    attList = inputStr.split(\",\")\n",
    "    \n",
    "    # Substitui o caracter ? por um valor\n",
    "    hpValue = attList[3]\n",
    "    if hpValue == \"?\":\n",
    "        hpValue = mediaHP.value\n",
    "       \n",
    "    # Cria uma linha usando a função Row, limpando e convertendo os dados de string para float\n",
    "    linhas = Row(MPG = float(attList[0]), CYLINDERS = float(attList[1]), DISPLACEMENT = float(attList[2]), \n",
    "                 HORSEPOWER = float(hpValue), WEIGHT = float(attList[4]), ACCELERATION = float(attList[5]), \n",
    "                 MODELYEAR = float(attList[6]), NAME = attList[7]) \n",
    "    return linhas"
   ]
  },
  {
   "cell_type": "code",
   "execution_count": 175,
   "id": "1429edcc",
   "metadata": {},
   "outputs": [
    {
     "data": {
      "text/plain": [
       "[Row(MPG=18.0, CYLINDERS=8.0, DISPLACEMENT=307.0, HORSEPOWER=130.0, WEIGHT=3504.0, ACCELERATION=12.0, MODELYEAR=70.0, NAME='chevrolet chevelle malibu'),\n",
       " Row(MPG=15.0, CYLINDERS=8.0, DISPLACEMENT=350.0, HORSEPOWER=165.0, WEIGHT=3693.0, ACCELERATION=11.5, MODELYEAR=70.0, NAME='buick skylark 320'),\n",
       " Row(MPG=18.0, CYLINDERS=8.0, DISPLACEMENT=318.0, HORSEPOWER=150.0, WEIGHT=3436.0, ACCELERATION=11.0, MODELYEAR=70.0, NAME='plymouth satellite'),\n",
       " Row(MPG=16.0, CYLINDERS=8.0, DISPLACEMENT=304.0, HORSEPOWER=150.0, WEIGHT=3433.0, ACCELERATION=12.0, MODELYEAR=70.0, NAME='amc rebel sst'),\n",
       " Row(MPG=17.0, CYLINDERS=8.0, DISPLACEMENT=302.0, HORSEPOWER=140.0, WEIGHT=3449.0, ACCELERATION=10.5, MODELYEAR=70.0, NAME='ford torino')]"
      ]
     },
     "execution_count": 175,
     "metadata": {},
     "output_type": "execute_result"
    }
   ],
   "source": [
    "# Executa a função no RDD\n",
    "carrosRDD3 = carrosRDD2.map(limpaDados)\n",
    "carrosRDD3.cache()\n",
    "carrosRDD3.take(5)"
   ]
  },
  {
   "cell_type": "markdown",
   "id": "7512ffb7",
   "metadata": {},
   "source": [
    "## Análise Exploratória de Dados"
   ]
  },
  {
   "cell_type": "code",
   "execution_count": 176,
   "id": "59c69ac2",
   "metadata": {},
   "outputs": [],
   "source": [
    "# Cria um Dataframe\n",
    "carrosDF = spSession.createDataFrame(carrosRDD3)"
   ]
  },
  {
   "cell_type": "code",
   "execution_count": 177,
   "id": "410b542f",
   "metadata": {},
   "outputs": [
    {
     "name": "stdout",
     "output_type": "stream",
     "text": [
      "+-------+-----------------+------------------+\n",
      "|summary|              MPG|         CYLINDERS|\n",
      "+-------+-----------------+------------------+\n",
      "|  count|              398|               398|\n",
      "|   mean|23.51457286432161| 5.454773869346734|\n",
      "| stddev|7.815984312565782|1.7010042445332125|\n",
      "|    min|              9.0|               3.0|\n",
      "|    max|             46.6|               8.0|\n",
      "+-------+-----------------+------------------+\n",
      "\n"
     ]
    }
   ],
   "source": [
    "# Estatísticas descritivas\n",
    "carrosDF.select(\"MPG\",\"CYLINDERS\").describe().show()"
   ]
  },
  {
   "cell_type": "code",
   "execution_count": 178,
   "id": "e400ad1d",
   "metadata": {},
   "outputs": [
    {
     "name": "stdout",
     "output_type": "stream",
     "text": [
      "Correlação da variável MPG com  MPG 1.0\n",
      "Correlação da variável MPG com  CYLINDERS -0.7753962854205548\n",
      "Correlação da variável MPG com  DISPLACEMENT -0.8042028248058979\n",
      "Correlação da variável MPG com  HORSEPOWER -0.774704152349872\n",
      "Correlação da variável MPG com  WEIGHT -0.8317409332443347\n",
      "Correlação da variável MPG com  ACCELERATION 0.4202889121016501\n",
      "Correlação da variável MPG com  MODELYEAR 0.5792671330833091\n"
     ]
    }
   ],
   "source": [
    "# Encontrando a correlação entre a variável target com as variáveis preditoras\n",
    "for i in carrosDF.columns:\n",
    "    if not(isinstance(carrosDF.select(i).take(1)[0][0], str)) :\n",
    "        print( \"Correlação da variável MPG com \", i, carrosDF.stat.corr('MPG', i))"
   ]
  },
  {
   "cell_type": "markdown",
   "id": "3298d703",
   "metadata": {},
   "source": [
    "## Pré-Processamento dos Dados"
   ]
  },
  {
   "cell_type": "code",
   "execution_count": 179,
   "id": "c77dcbf7",
   "metadata": {},
   "outputs": [],
   "source": [
    "# Convertendo para um LabeledPoint (target, Vector[features])\n",
    "# Remove colunas não relevantes para o modelo ou com baixa correlação\n",
    "def transformaVar(row) :\n",
    "    obj = (row[\"MPG\"], Vectors.dense([row[\"ACCELERATION\"], row[\"DISPLACEMENT\"], row[\"WEIGHT\"]]))\n",
    "    return obj"
   ]
  },
  {
   "cell_type": "code",
   "execution_count": 180,
   "id": "b5f53f42",
   "metadata": {},
   "outputs": [
    {
     "name": "stdout",
     "output_type": "stream",
     "text": [
      "+-----+-------------------+\n",
      "|label|           features|\n",
      "+-----+-------------------+\n",
      "| 18.0|[12.0,307.0,3504.0]|\n",
      "| 15.0|[11.5,350.0,3693.0]|\n",
      "| 18.0|[11.0,318.0,3436.0]|\n",
      "| 16.0|[12.0,304.0,3433.0]|\n",
      "| 17.0|[10.5,302.0,3449.0]|\n",
      "| 15.0|[10.0,429.0,4341.0]|\n",
      "| 14.0| [9.0,454.0,4354.0]|\n",
      "| 14.0| [8.5,440.0,4312.0]|\n",
      "| 14.0|[10.0,455.0,4425.0]|\n",
      "| 15.0| [8.5,390.0,3850.0]|\n",
      "+-----+-------------------+\n",
      "only showing top 10 rows\n",
      "\n"
     ]
    }
   ],
   "source": [
    "# Utiliza o RDD, aplica a função, converte para Dataframe e aplica a função select()\n",
    "carrosRDD4 = carrosRDD3.map(transformaVar)\n",
    "carrosDF = spSession.createDataFrame(carrosRDD4,[\"label\", \"features\"])\n",
    "carrosDF.select(\"label\",\"features\").show(10)"
   ]
  },
  {
   "cell_type": "code",
   "execution_count": 181,
   "id": "cfb788b5",
   "metadata": {},
   "outputs": [
    {
     "data": {
      "text/plain": [
       "[(18.0, DenseVector([12.0, 307.0, 3504.0])),\n",
       " (15.0, DenseVector([11.5, 350.0, 3693.0])),\n",
       " (18.0, DenseVector([11.0, 318.0, 3436.0])),\n",
       " (16.0, DenseVector([12.0, 304.0, 3433.0])),\n",
       " (17.0, DenseVector([10.5, 302.0, 3449.0]))]"
      ]
     },
     "execution_count": 181,
     "metadata": {},
     "output_type": "execute_result"
    }
   ],
   "source": [
    "carrosRDD4.take(5)"
   ]
  },
  {
   "cell_type": "markdown",
   "id": "fa10c40b",
   "metadata": {},
   "source": [
    "## Machine Learning"
   ]
  },
  {
   "cell_type": "code",
   "execution_count": 182,
   "id": "9e384c3a",
   "metadata": {},
   "outputs": [],
   "source": [
    "# Dados de Treino e de Teste\n",
    "(dados_treino, dados_teste) = carrosDF.randomSplit([0.7, 0.3])"
   ]
  },
  {
   "cell_type": "code",
   "execution_count": 183,
   "id": "86c41cdf",
   "metadata": {},
   "outputs": [
    {
     "data": {
      "text/plain": [
       "266"
      ]
     },
     "execution_count": 183,
     "metadata": {},
     "output_type": "execute_result"
    }
   ],
   "source": [
    "dados_treino.count()"
   ]
  },
  {
   "cell_type": "code",
   "execution_count": 184,
   "id": "440de1ce",
   "metadata": {},
   "outputs": [
    {
     "data": {
      "text/plain": [
       "132"
      ]
     },
     "execution_count": 184,
     "metadata": {},
     "output_type": "execute_result"
    }
   ],
   "source": [
    "dados_teste.count()"
   ]
  },
  {
   "cell_type": "code",
   "execution_count": 185,
   "id": "32da3aa0",
   "metadata": {},
   "outputs": [],
   "source": [
    "# Construindo o modelo com os dados de treino\n",
    "linearReg = LinearRegression(maxIter = 10)\n",
    "modelo = linearReg.fit(dados_treino)"
   ]
  },
  {
   "cell_type": "code",
   "execution_count": 186,
   "id": "5c07a87f",
   "metadata": {},
   "outputs": [
    {
     "name": "stdout",
     "output_type": "stream",
     "text": [
      "LinearRegressionModel: uid=LinearRegression_6791f58f12e0, numFeatures=3\n"
     ]
    }
   ],
   "source": [
    "print(modelo)"
   ]
  },
  {
   "cell_type": "code",
   "execution_count": 187,
   "id": "85216bab",
   "metadata": {},
   "outputs": [
    {
     "name": "stdout",
     "output_type": "stream",
     "text": [
      "Coeficientes: [0.06996117234191926,-0.018423229200621543,-0.005405679887986615]\n",
      "Intercept: 41.79562755776507\n"
     ]
    }
   ],
   "source": [
    "# Imprimindo as métricas\n",
    "print(\"Coeficientes: \" + str(modelo.coefficients))\n",
    "print(\"Intercept: \" + str(modelo.intercept))"
   ]
  },
  {
   "cell_type": "code",
   "execution_count": 188,
   "id": "8e3355a1",
   "metadata": {},
   "outputs": [
    {
     "name": "stdout",
     "output_type": "stream",
     "text": [
      "+------------------+-------------------+\n",
      "|        prediction|           features|\n",
      "+------------------+-------------------+\n",
      "| 11.90957033914897|[18.5,304.0,4732.0]|\n",
      "|11.195508775269957|[14.0,360.0,4615.0]|\n",
      "| 7.419110041821654|[11.0,455.0,4951.0]|\n",
      "|7.9276889073207855|[11.5,429.0,4952.0]|\n",
      "|11.901858175769746|[12.5,350.0,4499.0]|\n",
      "| 8.780585001328113|[12.5,400.0,4906.0]|\n",
      "|15.277735089305573|[11.0,360.0,3821.0]|\n",
      "| 9.610513197235015|[12.0,400.0,4746.0]|\n",
      "| 7.480675321368288|[12.0,400.0,5140.0]|\n",
      "|11.396934067113634|[12.5,400.0,4422.0]|\n",
      "|14.699141184701865|[13.0,350.0,3988.0]|\n",
      "| 14.09370503724736|[13.0,350.0,4100.0]|\n",
      "|12.653587997506264|[13.0,351.0,4363.0]|\n",
      "|10.524801819466443| [9.0,454.0,4354.0]|\n",
      "| 17.43074186057477|[10.0,455.0,3086.0]|\n",
      "|10.192536490560691|[10.0,455.0,4425.0]|\n",
      "|11.561963636798183|[12.0,400.0,4385.0]|\n",
      "|14.704871091219196|[13.0,318.0,4096.0]|\n",
      "|11.099298696609154|[13.5,351.0,4657.0]|\n",
      "|14.267384768916855|[15.5,304.0,4257.0]|\n",
      "+------------------+-------------------+\n",
      "only showing top 20 rows\n",
      "\n"
     ]
    }
   ],
   "source": [
    "# Previsões com dados de teste\n",
    "predictions = modelo.transform(dados_teste)\n",
    "predictions.select(\"prediction\", \"features\").show()"
   ]
  },
  {
   "cell_type": "code",
   "execution_count": 189,
   "id": "95959364",
   "metadata": {},
   "outputs": [
    {
     "data": {
      "text/plain": [
       "0.7126492194724292"
      ]
     },
     "execution_count": 189,
     "metadata": {},
     "output_type": "execute_result"
    }
   ],
   "source": [
    "# Coeficiente de determinação R2\n",
    "avaliador = RegressionEvaluator(predictionCol = \"prediction\", labelCol = \"label\", metricName = \"r2\")\n",
    "avaliador.evaluate(predictions)"
   ]
  },
  {
   "cell_type": "markdown",
   "id": "b52a0731",
   "metadata": {},
   "source": [
    "# Capítulo 9.7: Spark MLLib - Classificação - Decision Tree"
   ]
  },
  {
   "cell_type": "markdown",
   "id": "5eb0080a",
   "metadata": {},
   "source": [
    "## <font color='blue'>Spark MLLib - Classificação - Decision Tree</font>"
   ]
  },
  {
   "cell_type": "markdown",
   "id": "63570dc3",
   "metadata": {},
   "source": [
    "<strong> Descrição </strong>\n",
    "<ul style=\"list-style-type:square\">\n",
    "  <li>Fácil de compreender e fácil de explicar.</li>\n",
    "  <li>Variáveis preditoras são usadas para construir uma árvore que progressivamente prevê valores target.</li>\n",
    "  <li>Dados de treino são usados para construir a árvore de decisão e prever o valor target.</li>\n",
    "  <li>A árvore de decisão se torna um modelo que é usado para fazer previsões com novos dados.</li>\n",
    "</ul>"
   ]
  },
  {
   "cell_type": "markdown",
   "id": "19c757b1",
   "metadata": {},
   "source": [
    "<dl>\n",
    "  <dt>Vantagens</dt>\n",
    "  <dd>- Fácil de interpretar e explicar</dd>\n",
    "  <dd>- Funciona com valores missing</dd>\n",
    "  <dd>- Veloz</dd>\n",
    "  <br />\n",
    "  <dt>Desvantagens</dt>\n",
    "  <dd>- Acurácia limitada</dd>\n",
    "  <dd>- Bias podem ocorrer com frequência</dd>\n",
    "  <dd>- Não funciona bem com muitas variáveis preditoras</dd>\n",
    "  <br />\n",
    "  <dt>Aplicação</dt>\n",
    "  <dd>- Aprovação de crédito</dd>\n",
    "  <dd>- Categorização preliminar</dd>\n",
    "</dl>"
   ]
  },
  {
   "cell_type": "markdown",
   "id": "a27cf669",
   "metadata": {},
   "source": [
    "## Classificar as espécies de flores, listadas no dataset iris"
   ]
  },
  {
   "cell_type": "code",
   "execution_count": 191,
   "id": "b66a3bdf",
   "metadata": {},
   "outputs": [],
   "source": [
    "# Spark Session - usada quando se trabalha com Dataframes no Spark\n",
    "spSession = SparkSession.builder.master(\"local\").appName(\"DSA-SparkMLLib\").config(\"spark.some.config.option\", \"session\").getOrCreate()"
   ]
  },
  {
   "cell_type": "code",
   "execution_count": 192,
   "id": "f5f7f5b1",
   "metadata": {},
   "outputs": [],
   "source": [
    "from pyspark.sql import Row\n",
    "from pyspark.ml.feature import StringIndexer # Converter string em valor numérico\n",
    "from pyspark.ml.linalg import Vectors\n",
    "from pyspark.ml.classification import DecisionTreeClassifier\n",
    "from pyspark.ml.evaluation import MulticlassClassificationEvaluator"
   ]
  },
  {
   "cell_type": "code",
   "execution_count": 193,
   "id": "a059443e",
   "metadata": {},
   "outputs": [],
   "source": [
    "# Carregando os dados e gerando um RDD\n",
    "irisRDD = sc.textFile(r\"09.05 Exemplos\\data\\iris.csv\")"
   ]
  },
  {
   "cell_type": "code",
   "execution_count": 194,
   "id": "ad90550b",
   "metadata": {},
   "outputs": [
    {
     "data": {
      "text/plain": [
       "09.05 Exemplos\\data\\iris.csv MapPartitionsRDD[449] at textFile at NativeMethodAccessorImpl.java:0"
      ]
     },
     "execution_count": 194,
     "metadata": {},
     "output_type": "execute_result"
    }
   ],
   "source": [
    "# Colocando o RDD em cache. Esse processo otimiza a performance.\n",
    "irisRDD.cache()"
   ]
  },
  {
   "cell_type": "code",
   "execution_count": 195,
   "id": "63ba990f",
   "metadata": {},
   "outputs": [
    {
     "data": {
      "text/plain": [
       "151"
      ]
     },
     "execution_count": 195,
     "metadata": {},
     "output_type": "execute_result"
    }
   ],
   "source": [
    "irisRDD.count()"
   ]
  },
  {
   "cell_type": "code",
   "execution_count": 196,
   "id": "e0cd2535",
   "metadata": {},
   "outputs": [
    {
     "data": {
      "text/plain": [
       "['Sepal.Length,Sepal.Width,Petal.Length,Petal.Width,Species',\n",
       " '5.1,3.5,1.4,0.2,setosa',\n",
       " '4.9,3,1.4,0.2,setosa',\n",
       " '4.7,3.2,1.3,0.2,setosa',\n",
       " '4.6,3.1,1.5,0.2,setosa']"
      ]
     },
     "execution_count": 196,
     "metadata": {},
     "output_type": "execute_result"
    }
   ],
   "source": [
    "irisRDD.take(5)"
   ]
  },
  {
   "cell_type": "code",
   "execution_count": 197,
   "id": "bbdf98d4",
   "metadata": {},
   "outputs": [
    {
     "data": {
      "text/plain": [
       "150"
      ]
     },
     "execution_count": 197,
     "metadata": {},
     "output_type": "execute_result"
    }
   ],
   "source": [
    "# Removendo a primeira linha do arquivo (cabeçalho)\n",
    "irisRDD2 = irisRDD.filter(lambda x: \"Sepal\" not in x)\n",
    "irisRDD2.count()"
   ]
  },
  {
   "cell_type": "markdown",
   "id": "5527b2bb",
   "metadata": {},
   "source": [
    "## Limpeza dos Dados"
   ]
  },
  {
   "cell_type": "code",
   "execution_count": 198,
   "id": "9b1a1752",
   "metadata": {},
   "outputs": [],
   "source": [
    "# Separando as colunas\n",
    "irisRDD3 = irisRDD2.map(lambda l: l.split(\",\"))"
   ]
  },
  {
   "cell_type": "code",
   "execution_count": 199,
   "id": "762ebeab",
   "metadata": {},
   "outputs": [],
   "source": [
    "# Mapeando as colunas\n",
    "irisRDD4 = irisRDD3.map(lambda p: Row(SEPAL_LENGTH = float(p[0]), SEPAL_WIDTH = float(p[1]), \n",
    "                                      PETAL_LENGTH = float(p[2]), PETAL_WIDTH = float(p[3]), \n",
    "                                      SPECIES = p[4] ))"
   ]
  },
  {
   "cell_type": "code",
   "execution_count": 200,
   "id": "6dc9ac4b",
   "metadata": {},
   "outputs": [
    {
     "data": {
      "text/plain": [
       "DataFrame[SEPAL_LENGTH: double, SEPAL_WIDTH: double, PETAL_LENGTH: double, PETAL_WIDTH: double, SPECIES: string]"
      ]
     },
     "execution_count": 200,
     "metadata": {},
     "output_type": "execute_result"
    }
   ],
   "source": [
    "# Criando um Dataframe\n",
    "irisDF = spSession.createDataFrame(irisRDD4)\n",
    "irisDF.cache()"
   ]
  },
  {
   "cell_type": "code",
   "execution_count": 201,
   "id": "0754be55",
   "metadata": {},
   "outputs": [
    {
     "data": {
      "text/plain": [
       "[Row(SEPAL_LENGTH=5.1, SEPAL_WIDTH=3.5, PETAL_LENGTH=1.4, PETAL_WIDTH=0.2, SPECIES='setosa'),\n",
       " Row(SEPAL_LENGTH=4.9, SEPAL_WIDTH=3.0, PETAL_LENGTH=1.4, PETAL_WIDTH=0.2, SPECIES='setosa'),\n",
       " Row(SEPAL_LENGTH=4.7, SEPAL_WIDTH=3.2, PETAL_LENGTH=1.3, PETAL_WIDTH=0.2, SPECIES='setosa'),\n",
       " Row(SEPAL_LENGTH=4.6, SEPAL_WIDTH=3.1, PETAL_LENGTH=1.5, PETAL_WIDTH=0.2, SPECIES='setosa'),\n",
       " Row(SEPAL_LENGTH=5.0, SEPAL_WIDTH=3.6, PETAL_LENGTH=1.4, PETAL_WIDTH=0.2, SPECIES='setosa')]"
      ]
     },
     "execution_count": 201,
     "metadata": {},
     "output_type": "execute_result"
    }
   ],
   "source": [
    "irisDF.take(5)"
   ]
  },
  {
   "cell_type": "code",
   "execution_count": 202,
   "id": "7f104e5c",
   "metadata": {},
   "outputs": [],
   "source": [
    "# Criando um índice numérico para a coluna de label target\n",
    "stringIndexer = StringIndexer(inputCol = \"SPECIES\", outputCol = \"IDX_SPECIES\")\n",
    "si_model = stringIndexer.fit(irisDF)\n",
    "irisNormDF = si_model.transform(irisDF)"
   ]
  },
  {
   "cell_type": "code",
   "execution_count": 203,
   "id": "cbb13f0d",
   "metadata": {},
   "outputs": [
    {
     "data": {
      "text/plain": [
       "[Row(SPECIES='setosa', IDX_SPECIES=0.0),\n",
       " Row(SPECIES='virginica', IDX_SPECIES=2.0),\n",
       " Row(SPECIES='versicolor', IDX_SPECIES=1.0)]"
      ]
     },
     "execution_count": 203,
     "metadata": {},
     "output_type": "execute_result"
    }
   ],
   "source": [
    "irisNormDF.select(\"SPECIES\",\"IDX_SPECIES\").distinct().collect()"
   ]
  },
  {
   "cell_type": "markdown",
   "id": "eb29c1d0",
   "metadata": {},
   "source": [
    "## Análise Exploratória de Dados"
   ]
  },
  {
   "cell_type": "code",
   "execution_count": 204,
   "id": "10044f84",
   "metadata": {},
   "outputs": [
    {
     "name": "stdout",
     "output_type": "stream",
     "text": [
      "+-------+------------------+------------------+------------------+------------------+---------+------------------+\n",
      "|summary|      SEPAL_LENGTH|       SEPAL_WIDTH|      PETAL_LENGTH|       PETAL_WIDTH|  SPECIES|       IDX_SPECIES|\n",
      "+-------+------------------+------------------+------------------+------------------+---------+------------------+\n",
      "|  count|               150|               150|               150|               150|      150|               150|\n",
      "|   mean| 5.843333333333332|3.0573333333333337| 3.758000000000001|1.1993333333333331|     null|               1.0|\n",
      "| stddev|0.8280661279778634|0.4358662849366978|1.7652982332594662|0.7622376689603467|     null|0.8192319205190406|\n",
      "|    min|               4.3|               2.0|               1.0|               0.1|   setosa|               0.0|\n",
      "|    max|               7.9|               4.4|               6.9|               2.5|virginica|               2.0|\n",
      "+-------+------------------+------------------+------------------+------------------+---------+------------------+\n",
      "\n"
     ]
    }
   ],
   "source": [
    "# Estatística descritiva\n",
    "irisNormDF.describe().show()"
   ]
  },
  {
   "cell_type": "code",
   "execution_count": 205,
   "id": "084fba78",
   "metadata": {},
   "outputs": [
    {
     "name": "stdout",
     "output_type": "stream",
     "text": [
      "Correlação da variável Species com SEPAL_LENGTH 0.7825612318100814\n",
      "Correlação da variável Species com SEPAL_WIDTH -0.4266575607811231\n",
      "Correlação da variável Species com PETAL_LENGTH 0.9490346990083887\n",
      "Correlação da variável Species com PETAL_WIDTH 0.9565473328764027\n",
      "Correlação da variável Species com IDX_SPECIES 1.0\n"
     ]
    }
   ],
   "source": [
    "# Correlação entre as variáveis\n",
    "for i in irisNormDF.columns:\n",
    "    if not( isinstance(irisNormDF.select(i).take(1)[0][0], str)) :\n",
    "        print( \"Correlação da variável Species com\", i, irisNormDF.stat.corr('IDX_SPECIES', i))"
   ]
  },
  {
   "cell_type": "markdown",
   "id": "e06aa9c4",
   "metadata": {},
   "source": [
    "## Pré-Processamento dos Dados"
   ]
  },
  {
   "cell_type": "code",
   "execution_count": 206,
   "id": "396d749c",
   "metadata": {},
   "outputs": [],
   "source": [
    "# Criando um LabeledPoint (target, Vector[features])\n",
    "# Remove colunas não relevantes para o modelo ou com baixa correlação\n",
    "def transformaVar(row) :\n",
    "    obj = (row[\"SPECIES\"], row[\"IDX_SPECIES\"], Vectors.dense([row[\"SEPAL_LENGTH\"], row[\"SEPAL_WIDTH\"], \n",
    "                                                              row[\"PETAL_LENGTH\"], row[\"PETAL_WIDTH\"]]))\n",
    "    return obj"
   ]
  },
  {
   "cell_type": "code",
   "execution_count": 207,
   "id": "4a3abeb5",
   "metadata": {},
   "outputs": [],
   "source": [
    "irisRDD5 = irisNormDF.rdd.map(transformaVar)"
   ]
  },
  {
   "cell_type": "code",
   "execution_count": 208,
   "id": "bfb235aa",
   "metadata": {},
   "outputs": [
    {
     "data": {
      "text/plain": [
       "[('setosa', 0.0, DenseVector([5.1, 3.5, 1.4, 0.2])),\n",
       " ('setosa', 0.0, DenseVector([4.9, 3.0, 1.4, 0.2])),\n",
       " ('setosa', 0.0, DenseVector([4.7, 3.2, 1.3, 0.2])),\n",
       " ('setosa', 0.0, DenseVector([4.6, 3.1, 1.5, 0.2])),\n",
       " ('setosa', 0.0, DenseVector([5.0, 3.6, 1.4, 0.2]))]"
      ]
     },
     "execution_count": 208,
     "metadata": {},
     "output_type": "execute_result"
    }
   ],
   "source": [
    "irisRDD5.take(5)"
   ]
  },
  {
   "cell_type": "code",
   "execution_count": 209,
   "id": "93ab4cf0",
   "metadata": {},
   "outputs": [
    {
     "name": "stdout",
     "output_type": "stream",
     "text": [
      "+-------+-----+-----------------+\n",
      "|species|label|         features|\n",
      "+-------+-----+-----------------+\n",
      "| setosa|  0.0|[5.1,3.5,1.4,0.2]|\n",
      "| setosa|  0.0|[4.9,3.0,1.4,0.2]|\n",
      "| setosa|  0.0|[4.7,3.2,1.3,0.2]|\n",
      "| setosa|  0.0|[4.6,3.1,1.5,0.2]|\n",
      "| setosa|  0.0|[5.0,3.6,1.4,0.2]|\n",
      "| setosa|  0.0|[5.4,3.9,1.7,0.4]|\n",
      "| setosa|  0.0|[4.6,3.4,1.4,0.3]|\n",
      "| setosa|  0.0|[5.0,3.4,1.5,0.2]|\n",
      "| setosa|  0.0|[4.4,2.9,1.4,0.2]|\n",
      "| setosa|  0.0|[4.9,3.1,1.5,0.1]|\n",
      "+-------+-----+-----------------+\n",
      "only showing top 10 rows\n",
      "\n"
     ]
    },
    {
     "data": {
      "text/plain": [
       "DataFrame[species: string, label: double, features: vector]"
      ]
     },
     "execution_count": 209,
     "metadata": {},
     "output_type": "execute_result"
    }
   ],
   "source": [
    "irisDF = spSession.createDataFrame(irisRDD5,[\"species\", \"label\", \"features\"])\n",
    "irisDF.select(\"species\",\"label\",\"features\").show(10)\n",
    "irisDF.cache()"
   ]
  },
  {
   "cell_type": "markdown",
   "id": "8806c4d5",
   "metadata": {},
   "source": [
    "## Machine Learning"
   ]
  },
  {
   "cell_type": "code",
   "execution_count": 210,
   "id": "3b6b8bcf",
   "metadata": {},
   "outputs": [],
   "source": [
    "# Dados de Treino e de Teste\n",
    "(dados_treino, dados_teste) = irisDF.randomSplit([0.7, 0.3])"
   ]
  },
  {
   "cell_type": "code",
   "execution_count": 211,
   "id": "910e512e",
   "metadata": {},
   "outputs": [
    {
     "data": {
      "text/plain": [
       "96"
      ]
     },
     "execution_count": 211,
     "metadata": {},
     "output_type": "execute_result"
    }
   ],
   "source": [
    "dados_treino.count()"
   ]
  },
  {
   "cell_type": "code",
   "execution_count": 212,
   "id": "f88dd766",
   "metadata": {},
   "outputs": [
    {
     "data": {
      "text/plain": [
       "54"
      ]
     },
     "execution_count": 212,
     "metadata": {},
     "output_type": "execute_result"
    }
   ],
   "source": [
    "dados_teste.count()"
   ]
  },
  {
   "cell_type": "code",
   "execution_count": 213,
   "id": "55edbc67",
   "metadata": {},
   "outputs": [],
   "source": [
    "# Construindo o modelo com os dados de treino\n",
    "dtClassifer = DecisionTreeClassifier(maxDepth = 2, labelCol = \"label\", featuresCol = \"features\")\n",
    "modelo = dtClassifer.fit(dados_treino)\n",
    "\n",
    "#maxDepth: Quantidade de nos dentro da árvore de decisão"
   ]
  },
  {
   "cell_type": "code",
   "execution_count": 214,
   "id": "4bd9b652",
   "metadata": {},
   "outputs": [
    {
     "data": {
      "text/plain": [
       "2"
      ]
     },
     "execution_count": 214,
     "metadata": {},
     "output_type": "execute_result"
    }
   ],
   "source": [
    "modelo.numNodes\n",
    "modelo.depth"
   ]
  },
  {
   "cell_type": "code",
   "execution_count": 215,
   "id": "a6c98e5b",
   "metadata": {},
   "outputs": [
    {
     "data": {
      "text/plain": [
       "[Row(prediction=0.0, species='setosa', label=0.0),\n",
       " Row(prediction=0.0, species='setosa', label=0.0),\n",
       " Row(prediction=0.0, species='setosa', label=0.0),\n",
       " Row(prediction=0.0, species='setosa', label=0.0),\n",
       " Row(prediction=0.0, species='setosa', label=0.0),\n",
       " Row(prediction=0.0, species='setosa', label=0.0),\n",
       " Row(prediction=0.0, species='setosa', label=0.0),\n",
       " Row(prediction=0.0, species='setosa', label=0.0),\n",
       " Row(prediction=0.0, species='setosa', label=0.0),\n",
       " Row(prediction=0.0, species='setosa', label=0.0),\n",
       " Row(prediction=0.0, species='setosa', label=0.0),\n",
       " Row(prediction=0.0, species='setosa', label=0.0),\n",
       " Row(prediction=0.0, species='setosa', label=0.0),\n",
       " Row(prediction=0.0, species='setosa', label=0.0),\n",
       " Row(prediction=0.0, species='setosa', label=0.0),\n",
       " Row(prediction=0.0, species='setosa', label=0.0),\n",
       " Row(prediction=0.0, species='setosa', label=0.0),\n",
       " Row(prediction=1.0, species='versicolor', label=1.0),\n",
       " Row(prediction=1.0, species='versicolor', label=1.0),\n",
       " Row(prediction=1.0, species='versicolor', label=1.0),\n",
       " Row(prediction=1.0, species='versicolor', label=1.0),\n",
       " Row(prediction=1.0, species='versicolor', label=1.0),\n",
       " Row(prediction=1.0, species='versicolor', label=1.0),\n",
       " Row(prediction=1.0, species='versicolor', label=1.0),\n",
       " Row(prediction=1.0, species='versicolor', label=1.0),\n",
       " Row(prediction=1.0, species='versicolor', label=1.0),\n",
       " Row(prediction=1.0, species='versicolor', label=1.0),\n",
       " Row(prediction=1.0, species='versicolor', label=1.0),\n",
       " Row(prediction=1.0, species='versicolor', label=1.0),\n",
       " Row(prediction=1.0, species='versicolor', label=1.0),\n",
       " Row(prediction=1.0, species='versicolor', label=1.0),\n",
       " Row(prediction=1.0, species='versicolor', label=1.0),\n",
       " Row(prediction=1.0, species='versicolor', label=1.0),\n",
       " Row(prediction=1.0, species='versicolor', label=1.0),\n",
       " Row(prediction=2.0, species='virginica', label=2.0),\n",
       " Row(prediction=1.0, species='virginica', label=2.0),\n",
       " Row(prediction=2.0, species='virginica', label=2.0),\n",
       " Row(prediction=2.0, species='virginica', label=2.0),\n",
       " Row(prediction=2.0, species='virginica', label=2.0),\n",
       " Row(prediction=2.0, species='virginica', label=2.0),\n",
       " Row(prediction=2.0, species='virginica', label=2.0),\n",
       " Row(prediction=2.0, species='virginica', label=2.0),\n",
       " Row(prediction=2.0, species='virginica', label=2.0),\n",
       " Row(prediction=2.0, species='virginica', label=2.0),\n",
       " Row(prediction=2.0, species='virginica', label=2.0),\n",
       " Row(prediction=2.0, species='virginica', label=2.0),\n",
       " Row(prediction=2.0, species='virginica', label=2.0),\n",
       " Row(prediction=2.0, species='virginica', label=2.0),\n",
       " Row(prediction=2.0, species='virginica', label=2.0),\n",
       " Row(prediction=1.0, species='virginica', label=2.0),\n",
       " Row(prediction=2.0, species='virginica', label=2.0),\n",
       " Row(prediction=2.0, species='virginica', label=2.0),\n",
       " Row(prediction=2.0, species='virginica', label=2.0),\n",
       " Row(prediction=2.0, species='virginica', label=2.0)]"
      ]
     },
     "execution_count": 215,
     "metadata": {},
     "output_type": "execute_result"
    }
   ],
   "source": [
    "# Previsões com dados de teste\n",
    "previsoes = modelo.transform(dados_teste)\n",
    "previsoes.select(\"prediction\",\"species\",\"label\").collect()"
   ]
  },
  {
   "cell_type": "code",
   "execution_count": 216,
   "id": "c3ae2a92",
   "metadata": {},
   "outputs": [
    {
     "data": {
      "text/plain": [
       "0.9629629629629629"
      ]
     },
     "execution_count": 216,
     "metadata": {},
     "output_type": "execute_result"
    }
   ],
   "source": [
    "# Avaliando a acurácia\n",
    "avaliador = MulticlassClassificationEvaluator(predictionCol = \"prediction\", labelCol = \"label\", metricName = \"accuracy\")\n",
    "avaliador.evaluate(previsoes)"
   ]
  },
  {
   "cell_type": "code",
   "execution_count": 217,
   "id": "a48b38b2",
   "metadata": {},
   "outputs": [
    {
     "name": "stdout",
     "output_type": "stream",
     "text": [
      "+-----+----------+-----+\n",
      "|label|prediction|count|\n",
      "+-----+----------+-----+\n",
      "|  1.0|       1.0|   17|\n",
      "|  2.0|       2.0|   18|\n",
      "|  2.0|       1.0|    2|\n",
      "|  0.0|       0.0|   17|\n",
      "+-----+----------+-----+\n",
      "\n"
     ]
    }
   ],
   "source": [
    "# Resumindo as previsões - Confusion Matrix\n",
    "previsoes.groupBy(\"label\",\"prediction\").count().show()"
   ]
  },
  {
   "cell_type": "markdown",
   "id": "b3c688c0",
   "metadata": {},
   "source": [
    "# Capítulo 9.8: Spark MLLib - Classificação - Random Forest"
   ]
  },
  {
   "cell_type": "markdown",
   "id": "92f7c07c",
   "metadata": {},
   "source": [
    "## <font color='blue'>Spark MLLib - Classificação - Random Forest</font>"
   ]
  },
  {
   "cell_type": "markdown",
   "id": "248f0724",
   "metadata": {},
   "source": [
    "<strong> Descrição </strong>\n",
    "<ul style=\"list-style-type:square\">\n",
    "  <li>Um dos algoritmos mais populares.</li>\n",
    "  <li>É um algoritmo de Método Ensemble.</li>\n",
    "  <li>Um modelo de Random Forest constrói diversos modelos e cada modelo é usado para prever resultados de forma individual. Uma votação é feita pelo Random Forest para escolher o melhor modelo.</li>\n",
    "</ul>"
   ]
  },
  {
   "cell_type": "markdown",
   "id": "bd463932",
   "metadata": {},
   "source": [
    "<dl>\n",
    "  <dt>Vantagens</dt>\n",
    "  <dd>- Normalmente oferece boa acurácia</dd>\n",
    "  <dd>- Eficiente com muitas variáveis preditoras</dd>\n",
    "  <dd>- Funciona muito bem de forma paralelizada</dd>\n",
    "  <dd>- Excelente com valores missing</dd>\n",
    "  <br />\n",
    "  <dt>Desvantagens</dt>\n",
    "  <dd>- Mais lento</dd>\n",
    "  <dd>- Bias podem ocorrer com frequência</dd>\n",
    "  <br />\n",
    "  <dt>Aplicação</dt>\n",
    "  <dd>- Pesquisa científica</dd>\n",
    "  <dd>- Diagnóstico médico</dd>\n",
    "</dl>"
   ]
  },
  {
   "cell_type": "markdown",
   "id": "b71cce97",
   "metadata": {},
   "source": [
    "## Classificar clientes de acordo com a possibilidade de pagar ou não o crédito"
   ]
  },
  {
   "cell_type": "code",
   "execution_count": 218,
   "id": "d036b83b",
   "metadata": {},
   "outputs": [],
   "source": [
    "# Spark Session - usada quando se trabalha com Dataframes no Spark\n",
    "spSession = SparkSession.builder.master(\"local\").appName(\"DSA-SparkMLLib\").config(\"spark.some.config.option\", \"some-value\").getOrCreate()"
   ]
  },
  {
   "cell_type": "code",
   "execution_count": 219,
   "id": "6925d81a",
   "metadata": {},
   "outputs": [],
   "source": [
    "import math\n",
    "from pyspark.ml.linalg import Vectors\n",
    "from pyspark.sql import Row\n",
    "from pyspark.ml.feature import StringIndexer\n",
    "from pyspark.ml.feature import PCA\n",
    "from pyspark.ml.classification import RandomForestClassifier\n",
    "from pyspark.ml.evaluation import MulticlassClassificationEvaluator"
   ]
  },
  {
   "cell_type": "code",
   "execution_count": 220,
   "id": "79b17f3d",
   "metadata": {},
   "outputs": [],
   "source": [
    "# Carregando os dados e gerando um RDD\n",
    "bankRDD = sc.textFile(r\"09.05 Exemplos\\data\\bank.csv\")"
   ]
  },
  {
   "cell_type": "code",
   "execution_count": 221,
   "id": "ccda1d87",
   "metadata": {},
   "outputs": [
    {
     "data": {
      "text/plain": [
       "09.05 Exemplos\\data\\bank.csv MapPartitionsRDD[615] at textFile at NativeMethodAccessorImpl.java:0"
      ]
     },
     "execution_count": 221,
     "metadata": {},
     "output_type": "execute_result"
    }
   ],
   "source": [
    "bankRDD.cache()"
   ]
  },
  {
   "cell_type": "code",
   "execution_count": 222,
   "id": "66f9b12d",
   "metadata": {},
   "outputs": [
    {
     "data": {
      "text/plain": [
       "542"
      ]
     },
     "execution_count": 222,
     "metadata": {},
     "output_type": "execute_result"
    }
   ],
   "source": [
    "bankRDD.count()"
   ]
  },
  {
   "cell_type": "code",
   "execution_count": 223,
   "id": "22fa18b0",
   "metadata": {},
   "outputs": [
    {
     "data": {
      "text/plain": [
       "['\"age\";\"job\";\"marital\";\"education\";\"default\";\"balance\";\"housing\";\"loan\";\"contact\";\"day\";\"month\";\"duration\";\"campaign\";\"pdays\";\"previous\";\"poutcome\";\"y\"',\n",
       " '30;\"unemployed\";\"married\";\"primary\";\"no\";1787;\"no\";\"no\";\"cellular\";19;\"oct\";79;1;-1;0;\"unknown\";\"no\"',\n",
       " '33;\"services\";\"married\";\"secondary\";\"no\";4789;\"yes\";\"yes\";\"cellular\";11;\"may\";220;1;339;4;\"failure\";\"yes\"',\n",
       " '35;\"management\";\"single\";\"tertiary\";\"no\";1350;\"yes\";\"no\";\"cellular\";16;\"apr\";185;1;330;1;\"failure\";\"yes\"',\n",
       " '30;\"management\";\"married\";\"tertiary\";\"no\";1476;\"yes\";\"yes\";\"unknown\";3;\"jun\";199;4;-1;0;\"unknown\";\"yes\"']"
      ]
     },
     "execution_count": 223,
     "metadata": {},
     "output_type": "execute_result"
    }
   ],
   "source": [
    "bankRDD.take(5)"
   ]
  },
  {
   "cell_type": "code",
   "execution_count": 224,
   "id": "9474cd41",
   "metadata": {},
   "outputs": [
    {
     "data": {
      "text/plain": [
       "541"
      ]
     },
     "execution_count": 224,
     "metadata": {},
     "output_type": "execute_result"
    }
   ],
   "source": [
    "# Removendo a primeira linha do arquivo (cabeçalho)\n",
    "firstLine = bankRDD.first()\n",
    "bankRDD2 = bankRDD.filter(lambda x: x != firstLine)\n",
    "bankRDD2.count()"
   ]
  },
  {
   "cell_type": "markdown",
   "id": "6d66f40a",
   "metadata": {},
   "source": [
    "## Limpeza dos Dados"
   ]
  },
  {
   "cell_type": "code",
   "execution_count": 225,
   "id": "6e0d1f8b",
   "metadata": {},
   "outputs": [],
   "source": [
    "# Transformando os dados para valore snuméricos\n",
    "def transformToNumeric( inputStr) :\n",
    "    \n",
    "    attList = inputStr.replace(\"\\\"\",\"\").split(\";\")\n",
    "    \n",
    "    age = float(attList[0])\n",
    "    outcome = 0.0 if attList[16] == \"no\" else 1.0\n",
    "    single = 1.0 if attList[2] == \"single\" else 0.0\n",
    "    married = 1.0 if attList[2] == \"married\" else 0.0\n",
    "    divorced = 1.0 if attList[2] == \"divorced\" else 0.0\n",
    "    primary = 1.0 if attList[3] == \"primary\" else 0.0\n",
    "    secondary = 1.0 if attList[3] == \"secondary\" else 0.0\n",
    "    tertiary = 1.0 if attList[3] == \"tertiary\" else 0.0\n",
    "    default = 0.0 if attList[4] == \"no\" else 1.0\n",
    "    balance = float(attList[5])\n",
    "    loan = 0.0 if attList[7] == \"no\" else 1.0\n",
    "    \n",
    "    # Cria as linhas com os objetos transformados\n",
    "    linhas = Row(OUTCOME = outcome, AGE = age, SINGLE = single, MARRIED = married, DIVORCED = divorced,\n",
    "                 PRIMARY = primary, SECONDARY = secondary, TERTIARY = tertiary, DEFAULT = default, BALANCE = balance,\n",
    "                 LOAN = loan) \n",
    "    return linhas"
   ]
  },
  {
   "cell_type": "code",
   "execution_count": 226,
   "id": "12a3599e",
   "metadata": {},
   "outputs": [
    {
     "data": {
      "text/plain": [
       "[Row(OUTCOME=0.0, AGE=30.0, SINGLE=0.0, MARRIED=1.0, DIVORCED=0.0, PRIMARY=1.0, SECONDARY=0.0, TERTIARY=0.0, DEFAULT=0.0, BALANCE=1787.0, LOAN=0.0),\n",
       " Row(OUTCOME=1.0, AGE=33.0, SINGLE=0.0, MARRIED=1.0, DIVORCED=0.0, PRIMARY=0.0, SECONDARY=1.0, TERTIARY=0.0, DEFAULT=0.0, BALANCE=4789.0, LOAN=1.0),\n",
       " Row(OUTCOME=1.0, AGE=35.0, SINGLE=1.0, MARRIED=0.0, DIVORCED=0.0, PRIMARY=0.0, SECONDARY=0.0, TERTIARY=1.0, DEFAULT=0.0, BALANCE=1350.0, LOAN=0.0),\n",
       " Row(OUTCOME=1.0, AGE=30.0, SINGLE=0.0, MARRIED=1.0, DIVORCED=0.0, PRIMARY=0.0, SECONDARY=0.0, TERTIARY=1.0, DEFAULT=0.0, BALANCE=1476.0, LOAN=1.0),\n",
       " Row(OUTCOME=0.0, AGE=59.0, SINGLE=0.0, MARRIED=1.0, DIVORCED=0.0, PRIMARY=0.0, SECONDARY=1.0, TERTIARY=0.0, DEFAULT=0.0, BALANCE=0.0, LOAN=0.0),\n",
       " Row(OUTCOME=1.0, AGE=35.0, SINGLE=1.0, MARRIED=0.0, DIVORCED=0.0, PRIMARY=0.0, SECONDARY=0.0, TERTIARY=1.0, DEFAULT=0.0, BALANCE=747.0, LOAN=0.0),\n",
       " Row(OUTCOME=1.0, AGE=36.0, SINGLE=0.0, MARRIED=1.0, DIVORCED=0.0, PRIMARY=0.0, SECONDARY=0.0, TERTIARY=1.0, DEFAULT=0.0, BALANCE=307.0, LOAN=0.0),\n",
       " Row(OUTCOME=0.0, AGE=39.0, SINGLE=0.0, MARRIED=1.0, DIVORCED=0.0, PRIMARY=0.0, SECONDARY=1.0, TERTIARY=0.0, DEFAULT=0.0, BALANCE=147.0, LOAN=0.0),\n",
       " Row(OUTCOME=0.0, AGE=41.0, SINGLE=0.0, MARRIED=1.0, DIVORCED=0.0, PRIMARY=0.0, SECONDARY=0.0, TERTIARY=1.0, DEFAULT=0.0, BALANCE=221.0, LOAN=0.0),\n",
       " Row(OUTCOME=1.0, AGE=43.0, SINGLE=0.0, MARRIED=1.0, DIVORCED=0.0, PRIMARY=1.0, SECONDARY=0.0, TERTIARY=0.0, DEFAULT=0.0, BALANCE=-88.0, LOAN=1.0),\n",
       " Row(OUTCOME=0.0, AGE=39.0, SINGLE=0.0, MARRIED=1.0, DIVORCED=0.0, PRIMARY=0.0, SECONDARY=1.0, TERTIARY=0.0, DEFAULT=0.0, BALANCE=9374.0, LOAN=0.0),\n",
       " Row(OUTCOME=0.0, AGE=43.0, SINGLE=0.0, MARRIED=1.0, DIVORCED=0.0, PRIMARY=0.0, SECONDARY=1.0, TERTIARY=0.0, DEFAULT=0.0, BALANCE=264.0, LOAN=0.0),\n",
       " Row(OUTCOME=0.0, AGE=36.0, SINGLE=0.0, MARRIED=1.0, DIVORCED=0.0, PRIMARY=0.0, SECONDARY=0.0, TERTIARY=1.0, DEFAULT=0.0, BALANCE=1109.0, LOAN=0.0),\n",
       " Row(OUTCOME=1.0, AGE=20.0, SINGLE=1.0, MARRIED=0.0, DIVORCED=0.0, PRIMARY=0.0, SECONDARY=1.0, TERTIARY=0.0, DEFAULT=0.0, BALANCE=502.0, LOAN=0.0),\n",
       " Row(OUTCOME=1.0, AGE=31.0, SINGLE=0.0, MARRIED=1.0, DIVORCED=0.0, PRIMARY=0.0, SECONDARY=1.0, TERTIARY=0.0, DEFAULT=0.0, BALANCE=360.0, LOAN=1.0)]"
      ]
     },
     "execution_count": 226,
     "metadata": {},
     "output_type": "execute_result"
    }
   ],
   "source": [
    "# Aplicando a função de limpeza ao conjunto de dados\n",
    "bankRDD3 = bankRDD2.map(transformToNumeric)\n",
    "bankRDD3.collect()[:15]"
   ]
  },
  {
   "cell_type": "markdown",
   "id": "f78fc2f2",
   "metadata": {},
   "source": [
    "## Análise Exploratória de Dados"
   ]
  },
  {
   "cell_type": "code",
   "execution_count": 227,
   "id": "84b2e721",
   "metadata": {},
   "outputs": [],
   "source": [
    "# Transforma para Dataframe\n",
    "bankDF = spSession.createDataFrame(bankRDD3)"
   ]
  },
  {
   "cell_type": "code",
   "execution_count": 228,
   "id": "5c84967d",
   "metadata": {},
   "outputs": [
    {
     "name": "stdout",
     "output_type": "stream",
     "text": [
      "+-------+-------------------+------------------+------------------+------------------+-------------------+------------------+------------------+------------------+--------------------+------------------+-------------------+\n",
      "|summary|            OUTCOME|               AGE|            SINGLE|           MARRIED|           DIVORCED|           PRIMARY|         SECONDARY|          TERTIARY|             DEFAULT|           BALANCE|               LOAN|\n",
      "+-------+-------------------+------------------+------------------+------------------+-------------------+------------------+------------------+------------------+--------------------+------------------+-------------------+\n",
      "|  count|                541|               541|               541|               541|                541|               541|               541|               541|                 541|               541|                541|\n",
      "|   mean| 0.3974121996303142| 41.26987060998152|0.2754158964879852|0.6155268022181146|0.10905730129390019|0.1534195933456562|0.4953789279112754|0.3142329020332717|0.022181146025878003|1444.7818853974122|0.16266173752310537|\n",
      "| stddev|0.48981549262335145|10.555374170161665|0.4471370479760759|0.4869207382098541| 0.3119995822161848| 0.360725025449802|0.5004413742994283|0.4646392600205975|  0.1474086424402979|2423.2722735171924|0.36939832735881994|\n",
      "|    min|                0.0|              19.0|               0.0|               0.0|                0.0|               0.0|               0.0|               0.0|                 0.0|           -1206.0|                0.0|\n",
      "|    max|                1.0|              78.0|               1.0|               1.0|                1.0|               1.0|               1.0|               1.0|                 1.0|           16873.0|                1.0|\n",
      "+-------+-------------------+------------------+------------------+------------------+-------------------+------------------+------------------+------------------+--------------------+------------------+-------------------+\n",
      "\n"
     ]
    }
   ],
   "source": [
    "# Estatística descritiva\n",
    "bankDF.describe().show()"
   ]
  },
  {
   "cell_type": "code",
   "execution_count": 229,
   "id": "f9cc3a10",
   "metadata": {},
   "outputs": [
    {
     "name": "stdout",
     "output_type": "stream",
     "text": [
      "Correlação da variável OUTCOME com OUTCOME 1.0\n",
      "Correlação da variável OUTCOME com AGE -0.1823210432736525\n",
      "Correlação da variável OUTCOME com SINGLE 0.46323284934360515\n",
      "Correlação da variável OUTCOME com MARRIED -0.37532412991335623\n",
      "Correlação da variável OUTCOME com DIVORCED -0.07812659940926987\n",
      "Correlação da variável OUTCOME com PRIMARY -0.12561548832677982\n",
      "Correlação da variável OUTCOME com SECONDARY 0.026392774894072973\n",
      "Correlação da variável OUTCOME com TERTIARY 0.08494840766635618\n",
      "Correlação da variável OUTCOME com DEFAULT -0.04536965206737378\n",
      "Correlação da variável OUTCOME com BALANCE 0.03657486611997681\n",
      "Correlação da variável OUTCOME com LOAN -0.030420586112717318\n"
     ]
    }
   ],
   "source": [
    "# Correlação entre as variáveis\n",
    "for i in bankDF.columns:\n",
    "    if not( isinstance(bankDF.select(i).take(1)[0][0], str)) :\n",
    "        print( \"Correlação da variável OUTCOME com\", i, bankDF.stat.corr('OUTCOME',i))"
   ]
  },
  {
   "cell_type": "markdown",
   "id": "015ea702",
   "metadata": {},
   "source": [
    "## Pré-Processamento dos Dados"
   ]
  },
  {
   "cell_type": "code",
   "execution_count": 230,
   "id": "f18b7fb2",
   "metadata": {},
   "outputs": [],
   "source": [
    "# Criando um LabeledPoint (target, Vector[features])\n",
    "def transformaVar(row) :\n",
    "    obj = (row[\"OUTCOME\"], Vectors.dense([row[\"AGE\"], row[\"BALANCE\"], row[\"DEFAULT\"], row[\"DIVORCED\"], row[\"LOAN\"], \n",
    "                                          row[\"MARRIED\"], row[\"PRIMARY\"], row[\"SECONDARY\"], row[\"SINGLE\"], \n",
    "                                          row[\"TERTIARY\"]]))\n",
    "    return obj"
   ]
  },
  {
   "cell_type": "code",
   "execution_count": 231,
   "id": "92427619",
   "metadata": {},
   "outputs": [],
   "source": [
    "bankRDD4 = bankDF.rdd.map(transformaVar)"
   ]
  },
  {
   "cell_type": "code",
   "execution_count": 232,
   "id": "29497ad6",
   "metadata": {},
   "outputs": [
    {
     "data": {
      "text/plain": [
       "[(0.0, DenseVector([30.0, 1787.0, 0.0, 0.0, 0.0, 1.0, 1.0, 0.0, 0.0, 0.0])),\n",
       " (1.0, DenseVector([33.0, 4789.0, 0.0, 0.0, 1.0, 1.0, 0.0, 1.0, 0.0, 0.0])),\n",
       " (1.0, DenseVector([35.0, 1350.0, 0.0, 0.0, 0.0, 0.0, 0.0, 0.0, 1.0, 1.0])),\n",
       " (1.0, DenseVector([30.0, 1476.0, 0.0, 0.0, 1.0, 1.0, 0.0, 0.0, 0.0, 1.0])),\n",
       " (0.0, DenseVector([59.0, 0.0, 0.0, 0.0, 0.0, 1.0, 0.0, 1.0, 0.0, 0.0])),\n",
       " (1.0, DenseVector([35.0, 747.0, 0.0, 0.0, 0.0, 0.0, 0.0, 0.0, 1.0, 1.0])),\n",
       " (1.0, DenseVector([36.0, 307.0, 0.0, 0.0, 0.0, 1.0, 0.0, 0.0, 0.0, 1.0])),\n",
       " (0.0, DenseVector([39.0, 147.0, 0.0, 0.0, 0.0, 1.0, 0.0, 1.0, 0.0, 0.0])),\n",
       " (0.0, DenseVector([41.0, 221.0, 0.0, 0.0, 0.0, 1.0, 0.0, 0.0, 0.0, 1.0])),\n",
       " (1.0, DenseVector([43.0, -88.0, 0.0, 0.0, 1.0, 1.0, 1.0, 0.0, 0.0, 0.0])),\n",
       " (0.0, DenseVector([39.0, 9374.0, 0.0, 0.0, 0.0, 1.0, 0.0, 1.0, 0.0, 0.0])),\n",
       " (0.0, DenseVector([43.0, 264.0, 0.0, 0.0, 0.0, 1.0, 0.0, 1.0, 0.0, 0.0])),\n",
       " (0.0, DenseVector([36.0, 1109.0, 0.0, 0.0, 0.0, 1.0, 0.0, 0.0, 0.0, 1.0])),\n",
       " (1.0, DenseVector([20.0, 502.0, 0.0, 0.0, 0.0, 0.0, 0.0, 1.0, 1.0, 0.0])),\n",
       " (1.0, DenseVector([31.0, 360.0, 0.0, 0.0, 1.0, 1.0, 0.0, 1.0, 0.0, 0.0])),\n",
       " (0.0, DenseVector([40.0, 194.0, 0.0, 0.0, 1.0, 1.0, 0.0, 0.0, 0.0, 1.0])),\n",
       " (0.0, DenseVector([56.0, 4073.0, 0.0, 0.0, 0.0, 1.0, 0.0, 1.0, 0.0, 0.0])),\n",
       " (1.0, DenseVector([37.0, 2317.0, 0.0, 0.0, 0.0, 0.0, 0.0, 0.0, 1.0, 1.0])),\n",
       " (0.0, DenseVector([25.0, -221.0, 0.0, 0.0, 0.0, 0.0, 1.0, 0.0, 1.0, 0.0])),\n",
       " (1.0, DenseVector([31.0, 132.0, 0.0, 0.0, 0.0, 1.0, 0.0, 1.0, 0.0, 0.0])),\n",
       " (0.0, DenseVector([38.0, 0.0, 0.0, 1.0, 0.0, 0.0, 0.0, 0.0, 0.0, 0.0])),\n",
       " (0.0, DenseVector([42.0, 16.0, 0.0, 1.0, 0.0, 0.0, 0.0, 0.0, 0.0, 1.0])),\n",
       " (0.0, DenseVector([44.0, 106.0, 0.0, 0.0, 0.0, 0.0, 0.0, 1.0, 1.0, 0.0])),\n",
       " (0.0, DenseVector([44.0, 93.0, 0.0, 0.0, 0.0, 1.0, 0.0, 1.0, 0.0, 0.0])),\n",
       " (0.0, DenseVector([26.0, 543.0, 0.0, 0.0, 0.0, 1.0, 0.0, 0.0, 0.0, 1.0])),\n",
       " (0.0, DenseVector([41.0, 5883.0, 0.0, 0.0, 0.0, 1.0, 0.0, 0.0, 0.0, 1.0])),\n",
       " (0.0, DenseVector([55.0, 627.0, 0.0, 0.0, 0.0, 1.0, 1.0, 0.0, 0.0, 0.0])),\n",
       " (1.0, DenseVector([67.0, 696.0, 0.0, 0.0, 0.0, 1.0, 0.0, 0.0, 0.0, 0.0])),\n",
       " (0.0, DenseVector([56.0, 784.0, 0.0, 0.0, 1.0, 1.0, 0.0, 1.0, 0.0, 0.0])),\n",
       " (0.0, DenseVector([53.0, 105.0, 0.0, 0.0, 1.0, 1.0, 0.0, 1.0, 0.0, 0.0])),\n",
       " (1.0, DenseVector([68.0, 4189.0, 0.0, 1.0, 0.0, 0.0, 0.0, 1.0, 0.0, 0.0])),\n",
       " (0.0, DenseVector([31.0, 171.0, 0.0, 0.0, 0.0, 1.0, 0.0, 1.0, 0.0, 0.0])),\n",
       " (0.0, DenseVector([59.0, 42.0, 0.0, 0.0, 0.0, 1.0, 0.0, 1.0, 0.0, 0.0])),\n",
       " (1.0, DenseVector([32.0, 2536.0, 0.0, 0.0, 0.0, 0.0, 0.0, 0.0, 1.0, 1.0])),\n",
       " (1.0, DenseVector([49.0, 1235.0, 0.0, 0.0, 0.0, 1.0, 0.0, 0.0, 0.0, 1.0])),\n",
       " (0.0, DenseVector([42.0, 1811.0, 0.0, 1.0, 0.0, 0.0, 0.0, 1.0, 0.0, 0.0])),\n",
       " (1.0, DenseVector([78.0, 229.0, 0.0, 1.0, 0.0, 0.0, 1.0, 0.0, 0.0, 0.0])),\n",
       " (1.0, DenseVector([32.0, 2089.0, 0.0, 0.0, 0.0, 1.0, 0.0, 1.0, 0.0, 0.0])),\n",
       " (1.0, DenseVector([33.0, 3935.0, 0.0, 0.0, 0.0, 1.0, 0.0, 1.0, 0.0, 0.0])),\n",
       " (1.0, DenseVector([23.0, 363.0, 0.0, 0.0, 0.0, 0.0, 0.0, 0.0, 1.0, 1.0])),\n",
       " (1.0, DenseVector([38.0, 11971.0, 0.0, 0.0, 0.0, 0.0, 0.0, 0.0, 1.0, 1.0])),\n",
       " (0.0, DenseVector([36.0, 553.0, 0.0, 0.0, 0.0, 0.0, 0.0, 0.0, 1.0, 1.0])),\n",
       " (0.0, DenseVector([52.0, 1117.0, 0.0, 0.0, 0.0, 1.0, 0.0, 1.0, 0.0, 0.0])),\n",
       " (0.0, DenseVector([32.0, 396.0, 0.0, 0.0, 0.0, 1.0, 0.0, 0.0, 0.0, 1.0])),\n",
       " (1.0, DenseVector([32.0, 2204.0, 0.0, 0.0, 0.0, 0.0, 0.0, 0.0, 1.0, 1.0])),\n",
       " (1.0, DenseVector([34.0, 872.0, 0.0, 0.0, 0.0, 0.0, 0.0, 0.0, 1.0, 1.0])),\n",
       " (1.0, DenseVector([55.0, 145.0, 0.0, 0.0, 0.0, 1.0, 1.0, 0.0, 0.0, 0.0])),\n",
       " (0.0, DenseVector([26.0, 0.0, 0.0, 0.0, 0.0, 1.0, 1.0, 0.0, 0.0, 0.0])),\n",
       " (1.0, DenseVector([32.0, -849.0, 1.0, 0.0, 1.0, 0.0, 1.0, 0.0, 1.0, 0.0])),\n",
       " (1.0, DenseVector([61.0, 4629.0, 0.0, 0.0, 0.0, 1.0, 0.0, 0.0, 0.0, 0.0])),\n",
       " (1.0, DenseVector([45.0, 844.0, 0.0, 1.0, 0.0, 0.0, 1.0, 0.0, 0.0, 0.0])),\n",
       " (1.0, DenseVector([37.0, 228.0, 0.0, 0.0, 0.0, 0.0, 0.0, 1.0, 1.0, 0.0])),\n",
       " (1.0, DenseVector([38.0, 50.0, 0.0, 0.0, 0.0, 0.0, 0.0, 1.0, 1.0, 0.0])),\n",
       " (1.0, DenseVector([34.0, 1539.0, 0.0, 0.0, 0.0, 1.0, 0.0, 0.0, 0.0, 1.0])),\n",
       " (0.0, DenseVector([53.0, 2231.0, 0.0, 0.0, 0.0, 1.0, 0.0, 1.0, 0.0, 0.0])),\n",
       " (0.0, DenseVector([48.0, 3064.0, 0.0, 0.0, 0.0, 1.0, 0.0, 1.0, 0.0, 0.0])),\n",
       " (0.0, DenseVector([57.0, 82.0, 0.0, 0.0, 1.0, 1.0, 0.0, 1.0, 0.0, 0.0])),\n",
       " (1.0, DenseVector([33.0, 2155.0, 0.0, 0.0, 0.0, 0.0, 0.0, 0.0, 1.0, 1.0])),\n",
       " (1.0, DenseVector([36.0, 101.0, 0.0, 0.0, 1.0, 0.0, 0.0, 1.0, 1.0, 0.0])),\n",
       " (0.0, DenseVector([54.0, 784.0, 0.0, 1.0, 1.0, 0.0, 0.0, 1.0, 0.0, 0.0])),\n",
       " (0.0, DenseVector([41.0, -516.0, 0.0, 0.0, 1.0, 1.0, 1.0, 0.0, 0.0, 0.0])),\n",
       " (0.0, DenseVector([63.0, 415.0, 0.0, 0.0, 0.0, 1.0, 0.0, 1.0, 0.0, 0.0])),\n",
       " (0.0, DenseVector([48.0, 5887.0, 0.0, 0.0, 0.0, 1.0, 0.0, 0.0, 0.0, 1.0])),\n",
       " (0.0, DenseVector([48.0, 1355.0, 0.0, 0.0, 0.0, 1.0, 0.0, 1.0, 0.0, 0.0])),\n",
       " (0.0, DenseVector([56.0, 16873.0, 0.0, 0.0, 0.0, 1.0, 0.0, 1.0, 0.0, 0.0])),\n",
       " (1.0, DenseVector([51.0, 203.0, 0.0, 1.0, 0.0, 0.0, 0.0, 1.0, 0.0, 0.0])),\n",
       " (0.0, DenseVector([31.0, 338.0, 0.0, 0.0, 0.0, 1.0, 0.0, 1.0, 0.0, 0.0])),\n",
       " (0.0, DenseVector([29.0, 444.0, 0.0, 0.0, 0.0, 1.0, 0.0, 1.0, 0.0, 0.0])),\n",
       " (0.0, DenseVector([41.0, 0.0, 0.0, 0.0, 1.0, 1.0, 0.0, 1.0, 0.0, 0.0])),\n",
       " (1.0, DenseVector([32.0, 360.0, 0.0, 0.0, 0.0, 0.0, 0.0, 0.0, 1.0, 1.0])),\n",
       " (1.0, DenseVector([37.0, 0.0, 0.0, 0.0, 0.0, 1.0, 0.0, 0.0, 0.0, 1.0])),\n",
       " (0.0, DenseVector([42.0, 2.0, 1.0, 1.0, 0.0, 0.0, 0.0, 0.0, 0.0, 1.0])),\n",
       " (1.0, DenseVector([31.0, 6248.0, 0.0, 0.0, 0.0, 0.0, 0.0, 0.0, 1.0, 1.0])),\n",
       " (0.0, DenseVector([41.0, 412.0, 0.0, 0.0, 0.0, 1.0, 0.0, 0.0, 0.0, 1.0])),\n",
       " (0.0, DenseVector([56.0, 344.0, 0.0, 0.0, 0.0, 1.0, 0.0, 1.0, 0.0, 0.0])),\n",
       " (0.0, DenseVector([54.0, 3222.0, 0.0, 1.0, 0.0, 0.0, 0.0, 0.0, 0.0, 1.0])),\n",
       " (1.0, DenseVector([41.0, 174.0, 0.0, 1.0, 0.0, 0.0, 0.0, 1.0, 0.0, 0.0])),\n",
       " (1.0, DenseVector([40.0, 591.0, 0.0, 0.0, 1.0, 0.0, 0.0, 1.0, 1.0, 0.0])),\n",
       " (0.0, DenseVector([50.0, 388.0, 0.0, 1.0, 0.0, 0.0, 1.0, 0.0, 0.0, 0.0])),\n",
       " (1.0, DenseVector([40.0, 219.0, 0.0, 0.0, 0.0, 1.0, 0.0, 1.0, 0.0, 0.0])),\n",
       " (1.0, DenseVector([27.0, 451.0, 0.0, 1.0, 0.0, 0.0, 0.0, 1.0, 0.0, 0.0])),\n",
       " (0.0, DenseVector([60.0, 5.0, 0.0, 0.0, 0.0, 1.0, 1.0, 0.0, 0.0, 0.0])),\n",
       " (1.0, DenseVector([28.0, 177.0, 0.0, 0.0, 1.0, 0.0, 0.0, 1.0, 1.0, 0.0])),\n",
       " (1.0, DenseVector([52.0, 657.0, 0.0, 0.0, 0.0, 1.0, 0.0, 1.0, 0.0, 0.0])),\n",
       " (1.0, DenseVector([37.0, 1315.0, 0.0, 0.0, 0.0, 1.0, 0.0, 0.0, 0.0, 1.0])),\n",
       " (0.0, DenseVector([51.0, 1466.0, 0.0, 0.0, 0.0, 1.0, 1.0, 0.0, 0.0, 0.0])),\n",
       " (1.0, DenseVector([41.0, 879.0, 0.0, 0.0, 1.0, 0.0, 0.0, 1.0, 1.0, 0.0])),\n",
       " (1.0, DenseVector([35.0, 293.0, 0.0, 0.0, 0.0, 0.0, 1.0, 0.0, 1.0, 0.0])),\n",
       " (0.0, DenseVector([38.0, 424.0, 0.0, 0.0, 0.0, 1.0, 0.0, 1.0, 0.0, 0.0])),\n",
       " (0.0, DenseVector([34.0, 1831.0, 0.0, 0.0, 0.0, 1.0, 0.0, 1.0, 0.0, 0.0])),\n",
       " (0.0, DenseVector([39.0, 111.0, 0.0, 0.0, 0.0, 1.0, 1.0, 0.0, 0.0, 0.0])),\n",
       " (0.0, DenseVector([34.0, 455.0, 0.0, 0.0, 0.0, 1.0, 1.0, 0.0, 0.0, 0.0])),\n",
       " (1.0, DenseVector([27.0, -195.0, 0.0, 0.0, 0.0, 0.0, 0.0, 1.0, 1.0, 0.0])),\n",
       " (1.0, DenseVector([32.0, 3616.0, 0.0, 0.0, 0.0, 0.0, 0.0, 0.0, 1.0, 1.0])),\n",
       " (0.0, DenseVector([57.0, 14093.0, 0.0, 0.0, 0.0, 1.0, 0.0, 1.0, 0.0, 0.0])),\n",
       " (1.0, DenseVector([41.0, 1567.0, 0.0, 0.0, 0.0, 0.0, 0.0, 0.0, 1.0, 1.0])),\n",
       " (0.0, DenseVector([41.0, 5426.0, 0.0, 0.0, 0.0, 1.0, 0.0, 0.0, 0.0, 1.0])),\n",
       " (1.0, DenseVector([30.0, 261.0, 0.0, 0.0, 0.0, 0.0, 0.0, 0.0, 1.0, 1.0])),\n",
       " (0.0, DenseVector([36.0, 2843.0, 0.0, 1.0, 0.0, 0.0, 0.0, 1.0, 0.0, 0.0])),\n",
       " (1.0, DenseVector([31.0, 406.0, 0.0, 0.0, 0.0, 0.0, 1.0, 0.0, 1.0, 0.0])),\n",
       " (0.0, DenseVector([36.0, 0.0, 0.0, 0.0, 0.0, 1.0, 0.0, 1.0, 0.0, 0.0])),\n",
       " (1.0, DenseVector([38.0, 493.0, 0.0, 0.0, 0.0, 0.0, 0.0, 0.0, 1.0, 1.0])),\n",
       " (0.0, DenseVector([49.0, 5996.0, 0.0, 0.0, 0.0, 1.0, 0.0, 1.0, 0.0, 0.0])),\n",
       " (1.0, DenseVector([57.0, 3777.0, 0.0, 0.0, 0.0, 0.0, 1.0, 0.0, 1.0, 0.0])),\n",
       " (1.0, DenseVector([34.0, 524.0, 0.0, 0.0, 0.0, 0.0, 0.0, 1.0, 1.0, 0.0])),\n",
       " (1.0, DenseVector([32.0, 574.0, 0.0, 0.0, 0.0, 0.0, 0.0, 0.0, 1.0, 1.0])),\n",
       " (0.0, DenseVector([37.0, 427.0, 0.0, 0.0, 1.0, 1.0, 0.0, 1.0, 0.0, 0.0])),\n",
       " (0.0, DenseVector([33.0, 483.0, 0.0, 0.0, 0.0, 1.0, 0.0, 0.0, 0.0, 1.0])),\n",
       " (1.0, DenseVector([56.0, 3391.0, 0.0, 0.0, 0.0, 1.0, 1.0, 0.0, 0.0, 0.0])),\n",
       " (0.0, DenseVector([27.0, 0.0, 0.0, 0.0, 0.0, 1.0, 1.0, 0.0, 0.0, 0.0])),\n",
       " (1.0, DenseVector([21.0, 2488.0, 0.0, 0.0, 0.0, 0.0, 0.0, 1.0, 1.0, 0.0])),\n",
       " (0.0, DenseVector([58.0, 1517.0, 0.0, 0.0, 0.0, 1.0, 0.0, 0.0, 0.0, 1.0])),\n",
       " (0.0, DenseVector([32.0, 217.0, 0.0, 0.0, 1.0, 1.0, 0.0, 1.0, 0.0, 0.0])),\n",
       " (1.0, DenseVector([33.0, 22.0, 0.0, 0.0, 0.0, 0.0, 0.0, 1.0, 1.0, 0.0])),\n",
       " (1.0, DenseVector([25.0, 331.0, 0.0, 0.0, 0.0, 0.0, 0.0, 1.0, 1.0, 0.0])),\n",
       " (1.0, DenseVector([25.0, 505.0, 0.0, 0.0, 1.0, 0.0, 0.0, 1.0, 1.0, 0.0])),\n",
       " (0.0, DenseVector([30.0, 1808.0, 0.0, 0.0, 0.0, 1.0, 0.0, 1.0, 0.0, 0.0])),\n",
       " (1.0, DenseVector([22.0, 4111.0, 0.0, 0.0, 1.0, 0.0, 0.0, 1.0, 1.0, 0.0])),\n",
       " (0.0, DenseVector([39.0, 52.0, 0.0, 0.0, 0.0, 1.0, 1.0, 0.0, 0.0, 0.0])),\n",
       " (0.0, DenseVector([46.0, 25.0, 0.0, 1.0, 0.0, 0.0, 0.0, 0.0, 0.0, 1.0])),\n",
       " (0.0, DenseVector([31.0, 1890.0, 0.0, 1.0, 0.0, 0.0, 0.0, 1.0, 0.0, 0.0])),\n",
       " (0.0, DenseVector([45.0, 419.0, 0.0, 0.0, 0.0, 1.0, 1.0, 0.0, 0.0, 0.0])),\n",
       " (0.0, DenseVector([32.0, 2693.0, 0.0, 0.0, 0.0, 1.0, 0.0, 1.0, 0.0, 0.0])),\n",
       " (0.0, DenseVector([36.0, -231.0, 0.0, 0.0, 1.0, 1.0, 0.0, 1.0, 0.0, 0.0])),\n",
       " (1.0, DenseVector([51.0, -55.0, 1.0, 0.0, 0.0, 0.0, 0.0, 0.0, 1.0, 1.0])),\n",
       " (1.0, DenseVector([34.0, 462.0, 0.0, 0.0, 0.0, 0.0, 0.0, 0.0, 1.0, 1.0])),\n",
       " (1.0, DenseVector([24.0, 119.0, 0.0, 0.0, 0.0, 0.0, 0.0, 1.0, 1.0, 0.0])),\n",
       " (1.0, DenseVector([45.0, 586.0, 0.0, 0.0, 1.0, 0.0, 0.0, 1.0, 1.0, 0.0])),\n",
       " (1.0, DenseVector([32.0, 228.0, 0.0, 0.0, 0.0, 0.0, 0.0, 1.0, 1.0, 0.0])),\n",
       " (1.0, DenseVector([77.0, 4659.0, 0.0, 1.0, 0.0, 0.0, 0.0, 0.0, 0.0, 1.0])),\n",
       " (0.0, DenseVector([41.0, 168.0, 0.0, 0.0, 0.0, 1.0, 1.0, 0.0, 0.0, 0.0])),\n",
       " (0.0, DenseVector([37.0, 0.0, 0.0, 0.0, 0.0, 1.0, 1.0, 0.0, 0.0, 0.0])),\n",
       " (0.0, DenseVector([43.0, -715.0, 1.0, 0.0, 0.0, 1.0, 0.0, 0.0, 0.0, 0.0])),\n",
       " (1.0, DenseVector([48.0, 0.0, 0.0, 0.0, 0.0, 1.0, 0.0, 0.0, 0.0, 0.0])),\n",
       " (1.0, DenseVector([27.0, 769.0, 0.0, 0.0, 0.0, 0.0, 0.0, 1.0, 1.0, 0.0])),\n",
       " (1.0, DenseVector([33.0, 0.0, 0.0, 0.0, 0.0, 0.0, 0.0, 0.0, 1.0, 1.0])),\n",
       " (1.0, DenseVector([29.0, 428.0, 0.0, 0.0, 1.0, 0.0, 0.0, 1.0, 1.0, 0.0])),\n",
       " (1.0, DenseVector([34.0, 0.0, 0.0, 0.0, 0.0, 0.0, 0.0, 0.0, 1.0, 1.0])),\n",
       " (1.0, DenseVector([52.0, -970.0, 0.0, 0.0, 0.0, 1.0, 0.0, 0.0, 0.0, 1.0])),\n",
       " (0.0, DenseVector([60.0, 6313.0, 0.0, 0.0, 0.0, 1.0, 0.0, 0.0, 0.0, 0.0])),\n",
       " (0.0, DenseVector([32.0, 948.0, 0.0, 1.0, 0.0, 0.0, 0.0, 0.0, 0.0, 1.0])),\n",
       " (1.0, DenseVector([32.0, 0.0, 0.0, 0.0, 0.0, 0.0, 0.0, 0.0, 1.0, 1.0])),\n",
       " (0.0, DenseVector([56.0, 1877.0, 0.0, 1.0, 0.0, 0.0, 0.0, 0.0, 0.0, 0.0])),\n",
       " (1.0, DenseVector([31.0, 874.0, 0.0, 0.0, 0.0, 0.0, 0.0, 0.0, 1.0, 1.0])),\n",
       " (0.0, DenseVector([42.0, 323.0, 0.0, 0.0, 1.0, 1.0, 0.0, 1.0, 0.0, 0.0])),\n",
       " (0.0, DenseVector([35.0, 106.0, 0.0, 0.0, 1.0, 1.0, 0.0, 0.0, 0.0, 1.0])),\n",
       " (0.0, DenseVector([56.0, 1906.0, 0.0, 0.0, 1.0, 1.0, 1.0, 0.0, 0.0, 0.0])),\n",
       " (0.0, DenseVector([48.0, 1152.0, 0.0, 0.0, 0.0, 1.0, 0.0, 1.0, 0.0, 0.0])),\n",
       " (1.0, DenseVector([46.0, 179.0, 0.0, 0.0, 0.0, 1.0, 0.0, 1.0, 0.0, 0.0])),\n",
       " (1.0, DenseVector([37.0, 391.0, 0.0, 0.0, 0.0, 0.0, 0.0, 0.0, 1.0, 0.0])),\n",
       " (0.0, DenseVector([41.0, 89.0, 0.0, 0.0, 0.0, 1.0, 0.0, 0.0, 0.0, 0.0])),\n",
       " (1.0, DenseVector([36.0, 442.0, 0.0, 0.0, 1.0, 0.0, 0.0, 0.0, 1.0, 1.0])),\n",
       " (0.0, DenseVector([45.0, -249.0, 1.0, 1.0, 1.0, 0.0, 1.0, 0.0, 0.0, 0.0])),\n",
       " (0.0, DenseVector([55.0, 8104.0, 0.0, 0.0, 0.0, 1.0, 0.0, 1.0, 0.0, 0.0])),\n",
       " (0.0, DenseVector([39.0, 501.0, 0.0, 0.0, 0.0, 1.0, 0.0, 1.0, 0.0, 0.0])),\n",
       " (0.0, DenseVector([35.0, 308.0, 0.0, 1.0, 0.0, 0.0, 0.0, 1.0, 0.0, 0.0])),\n",
       " (1.0, DenseVector([55.0, 602.0, 0.0, 0.0, 0.0, 1.0, 0.0, 1.0, 0.0, 0.0])),\n",
       " (1.0, DenseVector([55.0, 273.0, 0.0, 0.0, 0.0, 1.0, 0.0, 1.0, 0.0, 0.0])),\n",
       " (1.0, DenseVector([27.0, 50.0, 0.0, 0.0, 0.0, 0.0, 0.0, 1.0, 1.0, 0.0])),\n",
       " (0.0, DenseVector([34.0, 1641.0, 0.0, 0.0, 0.0, 1.0, 0.0, 1.0, 0.0, 0.0])),\n",
       " (0.0, DenseVector([34.0, 20.0, 0.0, 0.0, 0.0, 1.0, 0.0, 0.0, 0.0, 1.0])),\n",
       " (1.0, DenseVector([25.0, 4590.0, 0.0, 0.0, 0.0, 0.0, 0.0, 1.0, 1.0, 0.0])),\n",
       " (1.0, DenseVector([41.0, -256.0, 0.0, 0.0, 1.0, 0.0, 0.0, 1.0, 1.0, 0.0])),\n",
       " (0.0, DenseVector([43.0, 978.0, 0.0, 0.0, 1.0, 1.0, 0.0, 1.0, 0.0, 0.0])),\n",
       " (1.0, DenseVector([28.0, 80.0, 0.0, 0.0, 0.0, 0.0, 0.0, 0.0, 1.0, 1.0])),\n",
       " (1.0, DenseVector([31.0, 2104.0, 0.0, 0.0, 0.0, 0.0, 0.0, 1.0, 1.0, 0.0])),\n",
       " (0.0, DenseVector([78.0, 499.0, 0.0, 0.0, 0.0, 1.0, 0.0, 1.0, 0.0, 0.0])),\n",
       " (0.0, DenseVector([45.0, 1269.0, 0.0, 1.0, 0.0, 0.0, 0.0, 1.0, 0.0, 0.0])),\n",
       " (0.0, DenseVector([48.0, 310.0, 0.0, 0.0, 0.0, 1.0, 0.0, 0.0, 0.0, 1.0])),\n",
       " (1.0, DenseVector([32.0, 1143.0, 0.0, 0.0, 1.0, 0.0, 0.0, 1.0, 1.0, 0.0])),\n",
       " (0.0, DenseVector([42.0, 2980.0, 0.0, 0.0, 0.0, 1.0, 0.0, 1.0, 0.0, 0.0])),\n",
       " (1.0, DenseVector([37.0, 37.0, 0.0, 0.0, 0.0, 0.0, 0.0, 0.0, 1.0, 1.0])),\n",
       " (1.0, DenseVector([40.0, 462.0, 0.0, 0.0, 1.0, 0.0, 0.0, 1.0, 1.0, 0.0])),\n",
       " (0.0, DenseVector([32.0, 1031.0, 0.0, 0.0, 0.0, 1.0, 0.0, 1.0, 0.0, 0.0])),\n",
       " (0.0, DenseVector([42.0, 9009.0, 0.0, 0.0, 0.0, 1.0, 0.0, 0.0, 0.0, 1.0])),\n",
       " (0.0, DenseVector([43.0, -465.0, 0.0, 0.0, 1.0, 1.0, 0.0, 1.0, 0.0, 0.0])),\n",
       " (0.0, DenseVector([44.0, 5181.0, 0.0, 0.0, 1.0, 1.0, 0.0, 1.0, 0.0, 0.0])),\n",
       " (1.0, DenseVector([37.0, 176.0, 0.0, 0.0, 0.0, 1.0, 0.0, 1.0, 0.0, 0.0])),\n",
       " (0.0, DenseVector([37.0, 1699.0, 0.0, 0.0, 0.0, 1.0, 0.0, 0.0, 0.0, 0.0])),\n",
       " (1.0, DenseVector([37.0, 0.0, 0.0, 0.0, 0.0, 1.0, 0.0, 0.0, 0.0, 1.0])),\n",
       " (1.0, DenseVector([28.0, 172.0, 0.0, 0.0, 1.0, 0.0, 0.0, 0.0, 1.0, 1.0])),\n",
       " (1.0, DenseVector([32.0, 0.0, 0.0, 0.0, 1.0, 0.0, 0.0, 1.0, 1.0, 0.0])),\n",
       " (1.0, DenseVector([34.0, 6979.0, 0.0, 0.0, 0.0, 0.0, 0.0, 1.0, 1.0, 0.0])),\n",
       " (0.0, DenseVector([40.0, 6.0, 0.0, 1.0, 0.0, 0.0, 0.0, 1.0, 0.0, 0.0])),\n",
       " (0.0, DenseVector([34.0, -62.0, 0.0, 0.0, 0.0, 1.0, 0.0, 1.0, 0.0, 0.0])),\n",
       " (0.0, DenseVector([34.0, 1972.0, 0.0, 0.0, 0.0, 1.0, 0.0, 0.0, 0.0, 1.0])),\n",
       " (0.0, DenseVector([34.0, 899.0, 0.0, 0.0, 0.0, 1.0, 0.0, 0.0, 0.0, 1.0])),\n",
       " (1.0, DenseVector([37.0, 21.0, 0.0, 0.0, 0.0, 0.0, 0.0, 1.0, 1.0, 0.0])),\n",
       " (1.0, DenseVector([36.0, 23.0, 0.0, 0.0, 0.0, 1.0, 0.0, 1.0, 0.0, 0.0])),\n",
       " (1.0, DenseVector([56.0, -1206.0, 0.0, 0.0, 0.0, 1.0, 0.0, 1.0, 0.0, 0.0])),\n",
       " (0.0, DenseVector([49.0, 0.0, 0.0, 0.0, 1.0, 1.0, 1.0, 0.0, 0.0, 0.0])),\n",
       " (0.0, DenseVector([33.0, 215.0, 0.0, 0.0, 0.0, 1.0, 0.0, 1.0, 0.0, 0.0])),\n",
       " (0.0, DenseVector([30.0, 1372.0, 0.0, 0.0, 0.0, 0.0, 0.0, 0.0, 1.0, 1.0])),\n",
       " (0.0, DenseVector([36.0, 1981.0, 0.0, 0.0, 0.0, 1.0, 0.0, 1.0, 0.0, 0.0])),\n",
       " (1.0, DenseVector([23.0, 9216.0, 0.0, 0.0, 0.0, 0.0, 0.0, 1.0, 1.0, 0.0])),\n",
       " (0.0, DenseVector([57.0, 39.0, 0.0, 1.0, 0.0, 0.0, 0.0, 1.0, 0.0, 0.0])),\n",
       " (1.0, DenseVector([27.0, 5563.0, 0.0, 0.0, 0.0, 0.0, 0.0, 1.0, 1.0, 0.0])),\n",
       " (0.0, DenseVector([38.0, 1.0, 0.0, 0.0, 1.0, 1.0, 0.0, 1.0, 0.0, 0.0])),\n",
       " (0.0, DenseVector([42.0, 782.0, 0.0, 0.0, 0.0, 1.0, 0.0, 0.0, 0.0, 1.0])),\n",
       " (1.0, DenseVector([75.0, 3771.0, 0.0, 0.0, 0.0, 1.0, 0.0, 1.0, 0.0, 0.0])),\n",
       " (1.0, DenseVector([34.0, 992.0, 0.0, 0.0, 0.0, 0.0, 0.0, 0.0, 1.0, 1.0])),\n",
       " (0.0, DenseVector([48.0, 1526.0, 0.0, 0.0, 0.0, 1.0, 0.0, 1.0, 0.0, 0.0])),\n",
       " (1.0, DenseVector([35.0, 2658.0, 0.0, 0.0, 0.0, 0.0, 0.0, 0.0, 1.0, 1.0])),\n",
       " (1.0, DenseVector([39.0, 1315.0, 0.0, 1.0, 0.0, 0.0, 0.0, 0.0, 0.0, 1.0])),\n",
       " (1.0, DenseVector([29.0, 455.0, 0.0, 0.0, 0.0, 0.0, 0.0, 0.0, 1.0, 1.0])),\n",
       " (1.0, DenseVector([45.0, 0.0, 0.0, 0.0, 0.0, 0.0, 0.0, 0.0, 1.0, 1.0])),\n",
       " (0.0, DenseVector([42.0, 2030.0, 0.0, 0.0, 1.0, 1.0, 0.0, 1.0, 0.0, 0.0])),\n",
       " (1.0, DenseVector([29.0, 1599.0, 0.0, 0.0, 0.0, 1.0, 0.0, 1.0, 0.0, 0.0])),\n",
       " (1.0, DenseVector([38.0, -196.0, 0.0, 0.0, 0.0, 0.0, 0.0, 1.0, 1.0, 0.0])),\n",
       " (0.0, DenseVector([56.0, 1333.0, 0.0, 0.0, 0.0, 1.0, 0.0, 1.0, 0.0, 0.0])),\n",
       " (1.0, DenseVector([36.0, 9149.0, 0.0, 0.0, 0.0, 0.0, 0.0, 1.0, 1.0, 0.0])),\n",
       " (1.0, DenseVector([25.0, -350.0, 0.0, 0.0, 0.0, 0.0, 0.0, 1.0, 1.0, 0.0])),\n",
       " (1.0, DenseVector([38.0, 432.0, 0.0, 0.0, 0.0, 1.0, 0.0, 0.0, 0.0, 1.0])),\n",
       " (0.0, DenseVector([57.0, 11494.0, 0.0, 0.0, 0.0, 1.0, 0.0, 1.0, 0.0, 0.0])),\n",
       " (0.0, DenseVector([31.0, -253.0, 1.0, 0.0, 0.0, 1.0, 0.0, 0.0, 0.0, 1.0])),\n",
       " (1.0, DenseVector([42.0, 372.0, 0.0, 0.0, 0.0, 1.0, 0.0, 0.0, 0.0, 1.0])),\n",
       " (0.0, DenseVector([45.0, 1410.0, 0.0, 0.0, 0.0, 1.0, 0.0, 1.0, 0.0, 0.0])),\n",
       " (1.0, DenseVector([30.0, 975.0, 0.0, 0.0, 0.0, 1.0, 0.0, 1.0, 0.0, 0.0])),\n",
       " (0.0, DenseVector([49.0, 305.0, 0.0, 0.0, 1.0, 1.0, 1.0, 0.0, 0.0, 0.0])),\n",
       " (0.0, DenseVector([49.0, 400.0, 0.0, 0.0, 0.0, 1.0, 0.0, 1.0, 0.0, 0.0])),\n",
       " (0.0, DenseVector([53.0, -22.0, 0.0, 0.0, 0.0, 1.0, 0.0, 0.0, 0.0, 1.0])),\n",
       " (0.0, DenseVector([37.0, 4030.0, 0.0, 0.0, 0.0, 1.0, 0.0, 1.0, 0.0, 0.0])),\n",
       " (0.0, DenseVector([49.0, 365.0, 0.0, 0.0, 0.0, 1.0, 1.0, 0.0, 0.0, 0.0])),\n",
       " (0.0, DenseVector([41.0, 204.0, 0.0, 0.0, 0.0, 1.0, 1.0, 0.0, 0.0, 0.0])),\n",
       " (0.0, DenseVector([54.0, 1691.0, 0.0, 0.0, 0.0, 1.0, 1.0, 0.0, 0.0, 0.0])),\n",
       " (1.0, DenseVector([32.0, 406.0, 0.0, 0.0, 0.0, 0.0, 0.0, 1.0, 1.0, 0.0])),\n",
       " (0.0, DenseVector([33.0, -204.0, 0.0, 0.0, 0.0, 1.0, 0.0, 1.0, 0.0, 0.0])),\n",
       " (1.0, DenseVector([33.0, 359.0, 0.0, 0.0, 0.0, 1.0, 0.0, 1.0, 0.0, 0.0])),\n",
       " (0.0, DenseVector([36.0, 123.0, 0.0, 0.0, 0.0, 1.0, 1.0, 0.0, 0.0, 0.0])),\n",
       " (1.0, DenseVector([35.0, 0.0, 0.0, 0.0, 1.0, 1.0, 0.0, 0.0, 0.0, 1.0])),\n",
       " (0.0, DenseVector([52.0, 142.0, 0.0, 0.0, 0.0, 1.0, 0.0, 1.0, 0.0, 0.0])),\n",
       " (0.0, DenseVector([40.0, 3571.0, 0.0, 0.0, 0.0, 1.0, 0.0, 0.0, 0.0, 1.0])),\n",
       " (1.0, DenseVector([44.0, 33.0, 0.0, 0.0, 0.0, 0.0, 0.0, 1.0, 1.0, 0.0])),\n",
       " (1.0, DenseVector([45.0, 0.0, 0.0, 0.0, 0.0, 0.0, 0.0, 1.0, 1.0, 0.0])),\n",
       " (0.0, DenseVector([30.0, 3096.0, 0.0, 0.0, 0.0, 0.0, 0.0, 1.0, 1.0, 0.0])),\n",
       " (0.0, DenseVector([48.0, 20.0, 1.0, 1.0, 0.0, 0.0, 0.0, 1.0, 0.0, 0.0])),\n",
       " (1.0, DenseVector([33.0, 3576.0, 0.0, 0.0, 0.0, 1.0, 0.0, 1.0, 0.0, 0.0])),\n",
       " (0.0, DenseVector([57.0, 206.0, 0.0, 0.0, 0.0, 1.0, 0.0, 0.0, 0.0, 0.0])),\n",
       " (0.0, DenseVector([57.0, 7082.0, 0.0, 0.0, 0.0, 1.0, 1.0, 0.0, 0.0, 0.0])),\n",
       " (0.0, DenseVector([51.0, 1634.0, 0.0, 0.0, 0.0, 1.0, 0.0, 0.0, 0.0, 1.0])),\n",
       " (1.0, DenseVector([34.0, 1.0, 0.0, 0.0, 0.0, 0.0, 0.0, 1.0, 1.0, 0.0])),\n",
       " (0.0, DenseVector([50.0, 4012.0, 0.0, 0.0, 0.0, 1.0, 0.0, 0.0, 0.0, 1.0])),\n",
       " (0.0, DenseVector([44.0, 3762.0, 0.0, 0.0, 0.0, 1.0, 0.0, 0.0, 0.0, 1.0])),\n",
       " (0.0, DenseVector([27.0, -247.0, 0.0, 0.0, 1.0, 1.0, 0.0, 1.0, 0.0, 0.0])),\n",
       " (0.0, DenseVector([50.0, 606.0, 0.0, 0.0, 0.0, 1.0, 0.0, 1.0, 0.0, 0.0])),\n",
       " (1.0, DenseVector([36.0, 0.0, 0.0, 0.0, 0.0, 1.0, 0.0, 0.0, 0.0, 1.0])),\n",
       " (0.0, DenseVector([42.0, -189.0, 0.0, 0.0, 0.0, 1.0, 0.0, 1.0, 0.0, 0.0])),\n",
       " (1.0, DenseVector([32.0, 0.0, 0.0, 0.0, 0.0, 0.0, 0.0, 1.0, 1.0, 0.0])),\n",
       " (0.0, DenseVector([42.0, 484.0, 0.0, 0.0, 0.0, 1.0, 0.0, 0.0, 0.0, 1.0])),\n",
       " (1.0, DenseVector([43.0, 0.0, 0.0, 0.0, 1.0, 1.0, 0.0, 1.0, 0.0, 0.0])),\n",
       " (0.0, DenseVector([31.0, 395.0, 0.0, 0.0, 0.0, 1.0, 0.0, 0.0, 0.0, 1.0])),\n",
       " (0.0, DenseVector([32.0, 2349.0, 0.0, 0.0, 0.0, 1.0, 0.0, 0.0, 0.0, 1.0])),\n",
       " (0.0, DenseVector([55.0, 410.0, 0.0, 1.0, 1.0, 0.0, 1.0, 0.0, 0.0, 0.0])),\n",
       " (1.0, DenseVector([58.0, 3401.0, 0.0, 0.0, 0.0, 1.0, 1.0, 0.0, 0.0, 0.0])),\n",
       " (0.0, DenseVector([46.0, 222.0, 0.0, 0.0, 0.0, 1.0, 1.0, 0.0, 0.0, 0.0])),\n",
       " (0.0, DenseVector([55.0, 989.0, 0.0, 0.0, 1.0, 1.0, 0.0, 1.0, 0.0, 0.0])),\n",
       " (0.0, DenseVector([34.0, 415.0, 0.0, 0.0, 1.0, 1.0, 0.0, 0.0, 0.0, 1.0])),\n",
       " (1.0, DenseVector([28.0, 16.0, 0.0, 0.0, 0.0, 0.0, 0.0, 1.0, 1.0, 0.0])),\n",
       " (0.0, DenseVector([42.0, 7190.0, 0.0, 1.0, 0.0, 0.0, 0.0, 0.0, 0.0, 1.0])),\n",
       " (1.0, DenseVector([29.0, 482.0, 0.0, 0.0, 1.0, 0.0, 0.0, 1.0, 1.0, 0.0])),\n",
       " (0.0, DenseVector([54.0, 209.0, 0.0, 0.0, 1.0, 1.0, 0.0, 1.0, 0.0, 0.0])),\n",
       " (1.0, DenseVector([32.0, 0.0, 0.0, 0.0, 0.0, 0.0, 0.0, 1.0, 1.0, 0.0])),\n",
       " (1.0, DenseVector([39.0, 5803.0, 0.0, 0.0, 0.0, 0.0, 0.0, 0.0, 1.0, 1.0])),\n",
       " (0.0, DenseVector([53.0, 624.0, 0.0, 0.0, 1.0, 1.0, 0.0, 0.0, 0.0, 1.0])),\n",
       " (1.0, DenseVector([58.0, 883.0, 0.0, 0.0, 0.0, 1.0, 0.0, 0.0, 0.0, 1.0])),\n",
       " (0.0, DenseVector([40.0, 1516.0, 0.0, 0.0, 1.0, 1.0, 0.0, 1.0, 0.0, 0.0])),\n",
       " (1.0, DenseVector([29.0, 872.0, 0.0, 0.0, 0.0, 0.0, 0.0, 1.0, 1.0, 0.0])),\n",
       " (0.0, DenseVector([33.0, -988.0, 0.0, 0.0, 1.0, 1.0, 0.0, 0.0, 0.0, 1.0])),\n",
       " (1.0, DenseVector([38.0, 902.0, 0.0, 0.0, 0.0, 0.0, 0.0, 1.0, 1.0, 0.0])),\n",
       " (0.0, DenseVector([56.0, 1007.0, 0.0, 1.0, 0.0, 0.0, 0.0, 1.0, 0.0, 0.0])),\n",
       " (1.0, DenseVector([40.0, 0.0, 0.0, 0.0, 0.0, 1.0, 0.0, 1.0, 0.0, 0.0])),\n",
       " (1.0, DenseVector([24.0, 174.0, 0.0, 0.0, 1.0, 0.0, 0.0, 1.0, 1.0, 0.0])),\n",
       " (0.0, DenseVector([46.0, 12186.0, 0.0, 0.0, 0.0, 1.0, 0.0, 1.0, 0.0, 0.0])),\n",
       " (0.0, DenseVector([35.0, 524.0, 0.0, 0.0, 0.0, 1.0, 0.0, 1.0, 0.0, 0.0])),\n",
       " (1.0, DenseVector([35.0, 0.0, 0.0, 0.0, 0.0, 0.0, 0.0, 0.0, 1.0, 1.0])),\n",
       " (0.0, DenseVector([34.0, 4.0, 0.0, 0.0, 0.0, 1.0, 0.0, 1.0, 0.0, 0.0])),\n",
       " (1.0, DenseVector([35.0, 11219.0, 0.0, 0.0, 0.0, 1.0, 0.0, 0.0, 0.0, 1.0])),\n",
       " (1.0, DenseVector([38.0, 0.0, 0.0, 0.0, 0.0, 0.0, 0.0, 0.0, 1.0, 1.0])),\n",
       " (0.0, DenseVector([50.0, 5776.0, 0.0, 0.0, 0.0, 1.0, 1.0, 0.0, 0.0, 0.0])),\n",
       " (0.0, DenseVector([51.0, 37.0, 0.0, 1.0, 0.0, 0.0, 1.0, 0.0, 0.0, 0.0])),\n",
       " (0.0, DenseVector([59.0, 593.0, 0.0, 0.0, 0.0, 1.0, 0.0, 0.0, 0.0, 1.0])),\n",
       " (0.0, DenseVector([32.0, 1148.0, 0.0, 0.0, 0.0, 1.0, 0.0, 1.0, 0.0, 0.0])),\n",
       " (1.0, DenseVector([37.0, 3561.0, 0.0, 0.0, 0.0, 0.0, 0.0, 1.0, 1.0, 0.0])),\n",
       " (0.0, DenseVector([42.0, 63.0, 0.0, 1.0, 0.0, 0.0, 0.0, 1.0, 0.0, 0.0])),\n",
       " (0.0, DenseVector([40.0, 260.0, 0.0, 0.0, 0.0, 1.0, 0.0, 1.0, 0.0, 0.0])),\n",
       " (1.0, DenseVector([28.0, 2269.0, 0.0, 0.0, 0.0, 0.0, 0.0, 0.0, 1.0, 1.0])),\n",
       " (0.0, DenseVector([47.0, 1060.0, 0.0, 0.0, 0.0, 1.0, 0.0, 1.0, 0.0, 0.0])),\n",
       " (0.0, DenseVector([27.0, -220.0, 0.0, 0.0, 0.0, 1.0, 0.0, 1.0, 0.0, 0.0])),\n",
       " (0.0, DenseVector([41.0, 49.0, 0.0, 0.0, 0.0, 1.0, 0.0, 0.0, 0.0, 1.0])),\n",
       " (1.0, DenseVector([34.0, 69.0, 0.0, 0.0, 1.0, 1.0, 0.0, 0.0, 0.0, 1.0])),\n",
       " (1.0, DenseVector([50.0, 4108.0, 0.0, 0.0, 0.0, 1.0, 1.0, 0.0, 0.0, 0.0])),\n",
       " (0.0, DenseVector([47.0, 480.0, 0.0, 0.0, 0.0, 1.0, 0.0, 1.0, 0.0, 0.0])),\n",
       " (0.0, DenseVector([53.0, 4994.0, 0.0, 0.0, 0.0, 1.0, 0.0, 1.0, 0.0, 0.0])),\n",
       " (0.0, DenseVector([53.0, 0.0, 0.0, 1.0, 1.0, 0.0, 0.0, 1.0, 0.0, 0.0])),\n",
       " (0.0, DenseVector([47.0, 3681.0, 0.0, 0.0, 0.0, 1.0, 0.0, 0.0, 0.0, 1.0])),\n",
       " (1.0, DenseVector([49.0, -701.0, 1.0, 1.0, 0.0, 0.0, 0.0, 0.0, 0.0, 0.0])),\n",
       " (0.0, DenseVector([29.0, 451.0, 0.0, 0.0, 0.0, 1.0, 0.0, 0.0, 0.0, 1.0])),\n",
       " (1.0, DenseVector([45.0, -311.0, 0.0, 1.0, 0.0, 0.0, 1.0, 0.0, 0.0, 0.0])),\n",
       " (1.0, DenseVector([38.0, 593.0, 0.0, 0.0, 1.0, 1.0, 0.0, 1.0, 0.0, 0.0])),\n",
       " (1.0, DenseVector([32.0, 759.0, 0.0, 0.0, 0.0, 1.0, 0.0, 1.0, 0.0, 0.0])),\n",
       " (0.0, DenseVector([70.0, 4531.0, 0.0, 1.0, 0.0, 0.0, 1.0, 0.0, 0.0, 0.0])),\n",
       " (1.0, DenseVector([65.0, 1840.0, 0.0, 1.0, 0.0, 0.0, 1.0, 0.0, 0.0, 0.0])),\n",
       " (0.0, DenseVector([56.0, 345.0, 0.0, 0.0, 0.0, 1.0, 0.0, 1.0, 0.0, 0.0])),\n",
       " (0.0, DenseVector([35.0, 1287.0, 0.0, 0.0, 0.0, 1.0, 0.0, 1.0, 0.0, 0.0])),\n",
       " (0.0, DenseVector([56.0, 353.0, 0.0, 0.0, 1.0, 1.0, 0.0, 0.0, 0.0, 0.0])),\n",
       " (0.0, DenseVector([56.0, 205.0, 0.0, 0.0, 1.0, 1.0, 0.0, 1.0, 0.0, 0.0])),\n",
       " (1.0, DenseVector([49.0, 687.0, 0.0, 0.0, 0.0, 1.0, 0.0, 1.0, 0.0, 0.0])),\n",
       " (0.0, DenseVector([38.0, 1147.0, 0.0, 0.0, 1.0, 1.0, 1.0, 0.0, 0.0, 0.0])),\n",
       " (0.0, DenseVector([35.0, 4286.0, 0.0, 0.0, 0.0, 1.0, 0.0, 0.0, 0.0, 1.0])),\n",
       " (0.0, DenseVector([38.0, 605.0, 0.0, 0.0, 0.0, 1.0, 0.0, 0.0, 0.0, 1.0])),\n",
       " (1.0, DenseVector([49.0, 8545.0, 0.0, 0.0, 1.0, 1.0, 0.0, 1.0, 0.0, 0.0])),\n",
       " (0.0, DenseVector([55.0, 559.0, 0.0, 0.0, 0.0, 1.0, 0.0, 0.0, 0.0, 0.0])),\n",
       " (1.0, DenseVector([43.0, 2.0, 0.0, 0.0, 0.0, 0.0, 1.0, 0.0, 1.0, 0.0])),\n",
       " (0.0, DenseVector([43.0, 2.0, 0.0, 0.0, 1.0, 1.0, 0.0, 0.0, 0.0, 1.0])),\n",
       " (1.0, DenseVector([25.0, 760.0, 0.0, 0.0, 0.0, 0.0, 0.0, 0.0, 1.0, 1.0])),\n",
       " (0.0, DenseVector([30.0, 1317.0, 0.0, 0.0, 0.0, 1.0, 1.0, 0.0, 0.0, 0.0])),\n",
       " (0.0, DenseVector([46.0, 182.0, 0.0, 0.0, 0.0, 1.0, 0.0, 1.0, 0.0, 0.0])),\n",
       " (0.0, DenseVector([50.0, 276.0, 0.0, 0.0, 1.0, 1.0, 1.0, 0.0, 0.0, 0.0])),\n",
       " (1.0, DenseVector([35.0, 2971.0, 0.0, 0.0, 0.0, 1.0, 0.0, 1.0, 0.0, 0.0])),\n",
       " (1.0, DenseVector([26.0, 1064.0, 0.0, 0.0, 0.0, 0.0, 0.0, 1.0, 1.0, 0.0])),\n",
       " (0.0, DenseVector([45.0, 1783.0, 0.0, 0.0, 0.0, 1.0, 0.0, 0.0, 0.0, 0.0])),\n",
       " (0.0, DenseVector([37.0, -67.0, 0.0, 0.0, 0.0, 1.0, 0.0, 1.0, 0.0, 0.0])),\n",
       " (1.0, DenseVector([60.0, 179.0, 0.0, 0.0, 1.0, 0.0, 0.0, 0.0, 1.0, 1.0])),\n",
       " (1.0, DenseVector([38.0, 1199.0, 0.0, 0.0, 0.0, 1.0, 0.0, 0.0, 0.0, 1.0])),\n",
       " (0.0, DenseVector([47.0, 214.0, 0.0, 0.0, 1.0, 1.0, 1.0, 0.0, 0.0, 0.0])),\n",
       " (1.0, DenseVector([33.0, 6699.0, 0.0, 0.0, 0.0, 1.0, 0.0, 1.0, 0.0, 0.0])),\n",
       " (0.0, DenseVector([51.0, 1760.0, 0.0, 0.0, 1.0, 1.0, 0.0, 1.0, 0.0, 0.0])),\n",
       " (1.0, DenseVector([35.0, 145.0, 0.0, 0.0, 0.0, 0.0, 0.0, 0.0, 1.0, 1.0])),\n",
       " (1.0, DenseVector([35.0, 978.0, 0.0, 0.0, 0.0, 1.0, 0.0, 1.0, 0.0, 0.0])),\n",
       " (1.0, DenseVector([48.0, 1150.0, 0.0, 0.0, 0.0, 0.0, 0.0, 1.0, 1.0, 0.0])),\n",
       " (0.0, DenseVector([37.0, 121.0, 0.0, 0.0, 0.0, 1.0, 0.0, 1.0, 0.0, 0.0])),\n",
       " (1.0, DenseVector([29.0, 828.0, 0.0, 0.0, 0.0, 0.0, 0.0, 0.0, 1.0, 1.0])),\n",
       " (0.0, DenseVector([34.0, 244.0, 0.0, 0.0, 0.0, 1.0, 0.0, 1.0, 0.0, 0.0])),\n",
       " (1.0, DenseVector([32.0, 228.0, 0.0, 0.0, 0.0, 1.0, 1.0, 0.0, 0.0, 0.0])),\n",
       " (1.0, DenseVector([30.0, 424.0, 0.0, 0.0, 0.0, 0.0, 0.0, 0.0, 1.0, 1.0])),\n",
       " (0.0, DenseVector([47.0, 447.0, 0.0, 1.0, 1.0, 0.0, 0.0, 0.0, 0.0, 1.0])),\n",
       " (0.0, DenseVector([33.0, -195.0, 0.0, 0.0, 0.0, 1.0, 1.0, 0.0, 0.0, 0.0])),\n",
       " (1.0, DenseVector([33.0, 1410.0, 0.0, 0.0, 0.0, 0.0, 0.0, 0.0, 1.0, 1.0])),\n",
       " (0.0, DenseVector([63.0, 1084.0, 0.0, 0.0, 0.0, 1.0, 1.0, 0.0, 0.0, 0.0])),\n",
       " (0.0, DenseVector([51.0, 10924.0, 0.0, 1.0, 0.0, 0.0, 1.0, 0.0, 0.0, 0.0])),\n",
       " (1.0, DenseVector([41.0, 832.0, 0.0, 0.0, 1.0, 1.0, 0.0, 0.0, 0.0, 1.0])),\n",
       " (0.0, DenseVector([56.0, 478.0, 0.0, 0.0, 0.0, 1.0, 0.0, 0.0, 0.0, 1.0])),\n",
       " (1.0, DenseVector([60.0, 0.0, 0.0, 0.0, 1.0, 0.0, 0.0, 0.0, 1.0, 1.0])),\n",
       " (1.0, DenseVector([41.0, 3950.0, 0.0, 0.0, 0.0, 0.0, 0.0, 0.0, 1.0, 1.0])),\n",
       " (1.0, DenseVector([37.0, 504.0, 0.0, 0.0, 0.0, 0.0, 0.0, 0.0, 1.0, 0.0])),\n",
       " (1.0, DenseVector([36.0, 219.0, 0.0, 0.0, 1.0, 0.0, 0.0, 1.0, 1.0, 0.0])),\n",
       " (0.0, DenseVector([57.0, 1602.0, 0.0, 0.0, 0.0, 1.0, 0.0, 0.0, 0.0, 1.0])),\n",
       " (1.0, DenseVector([55.0, 2587.0, 0.0, 0.0, 0.0, 1.0, 1.0, 0.0, 0.0, 0.0])),\n",
       " (0.0, DenseVector([44.0, 0.0, 0.0, 0.0, 1.0, 1.0, 0.0, 1.0, 0.0, 0.0])),\n",
       " (1.0, DenseVector([47.0, 2303.0, 0.0, 0.0, 0.0, 1.0, 0.0, 0.0, 0.0, 1.0])),\n",
       " (0.0, DenseVector([31.0, 1660.0, 0.0, 0.0, 0.0, 1.0, 0.0, 1.0, 0.0, 0.0])),\n",
       " (0.0, DenseVector([35.0, 32.0, 1.0, 0.0, 0.0, 1.0, 0.0, 0.0, 0.0, 1.0])),\n",
       " (0.0, DenseVector([39.0, 278.0, 0.0, 0.0, 1.0, 1.0, 0.0, 0.0, 0.0, 1.0])),\n",
       " (1.0, DenseVector([50.0, 4.0, 0.0, 0.0, 0.0, 1.0, 0.0, 0.0, 0.0, 1.0])),\n",
       " (1.0, DenseVector([29.0, 318.0, 0.0, 0.0, 0.0, 1.0, 0.0, 0.0, 0.0, 1.0])),\n",
       " (1.0, DenseVector([30.0, 209.0, 0.0, 0.0, 0.0, 0.0, 0.0, 1.0, 1.0, 0.0])),\n",
       " (0.0, DenseVector([46.0, 271.0, 0.0, 0.0, 0.0, 1.0, 0.0, 1.0, 0.0, 0.0])),\n",
       " (0.0, DenseVector([27.0, 3196.0, 0.0, 0.0, 0.0, 0.0, 0.0, 0.0, 1.0, 0.0])),\n",
       " (1.0, DenseVector([48.0, 4099.0, 0.0, 1.0, 0.0, 0.0, 0.0, 1.0, 0.0, 0.0])),\n",
       " (1.0, DenseVector([26.0, 2572.0, 0.0, 0.0, 0.0, 0.0, 0.0, 1.0, 1.0, 0.0])),\n",
       " (0.0, DenseVector([36.0, 339.0, 0.0, 0.0, 0.0, 0.0, 0.0, 0.0, 1.0, 1.0])),\n",
       " (0.0, DenseVector([42.0, 0.0, 0.0, 0.0, 1.0, 1.0, 1.0, 0.0, 0.0, 0.0])),\n",
       " (0.0, DenseVector([50.0, 395.0, 0.0, 0.0, 0.0, 1.0, 1.0, 0.0, 0.0, 0.0])),\n",
       " (0.0, DenseVector([49.0, 2039.0, 0.0, 0.0, 0.0, 1.0, 0.0, 1.0, 0.0, 0.0])),\n",
       " (0.0, DenseVector([45.0, 5450.0, 0.0, 0.0, 0.0, 1.0, 0.0, 0.0, 0.0, 1.0])),\n",
       " (1.0, DenseVector([23.0, 780.0, 0.0, 0.0, 0.0, 0.0, 0.0, 1.0, 1.0, 0.0])),\n",
       " (1.0, DenseVector([38.0, 0.0, 0.0, 0.0, 0.0, 0.0, 0.0, 1.0, 1.0, 0.0])),\n",
       " (1.0, DenseVector([32.0, 8436.0, 0.0, 0.0, 0.0, 0.0, 0.0, 0.0, 1.0, 1.0])),\n",
       " (1.0, DenseVector([60.0, 11262.0, 0.0, 0.0, 0.0, 0.0, 1.0, 0.0, 1.0, 0.0])),\n",
       " (1.0, DenseVector([30.0, 946.0, 0.0, 0.0, 0.0, 1.0, 0.0, 1.0, 0.0, 0.0])),\n",
       " (0.0, DenseVector([58.0, 497.0, 0.0, 0.0, 0.0, 1.0, 0.0, 0.0, 0.0, 1.0])),\n",
       " (0.0, DenseVector([60.0, 55.0, 0.0, 0.0, 0.0, 1.0, 1.0, 0.0, 0.0, 0.0])),\n",
       " (0.0, DenseVector([38.0, -140.0, 0.0, 0.0, 0.0, 1.0, 0.0, 1.0, 0.0, 0.0])),\n",
       " (0.0, DenseVector([51.0, -379.0, 0.0, 0.0, 0.0, 1.0, 0.0, 1.0, 0.0, 0.0])),\n",
       " (1.0, DenseVector([42.0, -396.0, 0.0, 0.0, 0.0, 1.0, 0.0, 1.0, 0.0, 0.0])),\n",
       " (1.0, DenseVector([30.0, 0.0, 0.0, 0.0, 0.0, 0.0, 0.0, 1.0, 1.0, 0.0])),\n",
       " (0.0, DenseVector([40.0, 733.0, 0.0, 0.0, 0.0, 1.0, 1.0, 0.0, 0.0, 0.0])),\n",
       " (1.0, DenseVector([37.0, 393.0, 0.0, 0.0, 0.0, 1.0, 0.0, 0.0, 0.0, 1.0])),\n",
       " (0.0, DenseVector([53.0, 7290.0, 0.0, 1.0, 0.0, 0.0, 1.0, 0.0, 0.0, 0.0])),\n",
       " (0.0, DenseVector([27.0, 468.0, 0.0, 0.0, 0.0, 0.0, 0.0, 1.0, 1.0, 0.0])),\n",
       " (1.0, DenseVector([39.0, 0.0, 0.0, 0.0, 0.0, 1.0, 0.0, 1.0, 0.0, 0.0])),\n",
       " (0.0, DenseVector([39.0, 3705.0, 0.0, 0.0, 0.0, 1.0, 1.0, 0.0, 0.0, 0.0])),\n",
       " (1.0, DenseVector([59.0, 9676.0, 0.0, 0.0, 0.0, 1.0, 0.0, 0.0, 0.0, 1.0])),\n",
       " (1.0, DenseVector([37.0, 1328.0, 0.0, 0.0, 0.0, 1.0, 0.0, 1.0, 0.0, 0.0])),\n",
       " (0.0, DenseVector([41.0, 8.0, 0.0, 0.0, 0.0, 1.0, 1.0, 0.0, 0.0, 0.0])),\n",
       " (0.0, DenseVector([45.0, 61.0, 0.0, 0.0, 0.0, 1.0, 1.0, 0.0, 0.0, 0.0])),\n",
       " (0.0, DenseVector([48.0, 6613.0, 0.0, 0.0, 0.0, 1.0, 0.0, 0.0, 0.0, 1.0])),\n",
       " (0.0, DenseVector([48.0, 302.0, 0.0, 0.0, 0.0, 1.0, 0.0, 1.0, 0.0, 0.0])),\n",
       " (0.0, DenseVector([32.0, 1005.0, 0.0, 0.0, 0.0, 1.0, 0.0, 1.0, 0.0, 0.0])),\n",
       " (0.0, DenseVector([35.0, 109.0, 0.0, 0.0, 0.0, 1.0, 0.0, 1.0, 0.0, 0.0])),\n",
       " (1.0, DenseVector([33.0, 1240.0, 0.0, 0.0, 0.0, 0.0, 0.0, 0.0, 1.0, 1.0])),\n",
       " (0.0, DenseVector([28.0, 0.0, 0.0, 0.0, 1.0, 0.0, 1.0, 0.0, 1.0, 0.0])),\n",
       " (0.0, DenseVector([64.0, 2923.0, 0.0, 0.0, 0.0, 1.0, 0.0, 0.0, 0.0, 0.0])),\n",
       " (0.0, DenseVector([35.0, 0.0, 0.0, 0.0, 0.0, 1.0, 0.0, 1.0, 0.0, 0.0])),\n",
       " (1.0, DenseVector([33.0, 43.0, 0.0, 0.0, 0.0, 1.0, 0.0, 1.0, 0.0, 0.0])),\n",
       " (0.0, DenseVector([41.0, 288.0, 0.0, 0.0, 0.0, 1.0, 0.0, 1.0, 0.0, 0.0])),\n",
       " (0.0, DenseVector([34.0, 613.0, 0.0, 0.0, 0.0, 1.0, 0.0, 1.0, 0.0, 0.0])),\n",
       " (0.0, DenseVector([37.0, 6101.0, 0.0, 0.0, 0.0, 0.0, 0.0, 0.0, 1.0, 1.0])),\n",
       " (0.0, DenseVector([38.0, 168.0, 0.0, 0.0, 1.0, 1.0, 1.0, 0.0, 0.0, 0.0])),\n",
       " (0.0, DenseVector([39.0, 7685.0, 0.0, 0.0, 0.0, 1.0, 1.0, 0.0, 0.0, 0.0])),\n",
       " (0.0, DenseVector([35.0, 4515.0, 0.0, 1.0, 0.0, 0.0, 0.0, 0.0, 0.0, 1.0])),\n",
       " (1.0, DenseVector([28.0, 517.0, 0.0, 0.0, 1.0, 0.0, 0.0, 1.0, 1.0, 0.0])),\n",
       " (0.0, DenseVector([27.0, 148.0, 0.0, 0.0, 0.0, 0.0, 0.0, 1.0, 1.0, 0.0])),\n",
       " (0.0, DenseVector([48.0, -285.0, 1.0, 0.0, 1.0, 1.0, 1.0, 0.0, 0.0, 0.0])),\n",
       " (0.0, DenseVector([50.0, 887.0, 0.0, 0.0, 0.0, 1.0, 0.0, 1.0, 0.0, 0.0])),\n",
       " (0.0, DenseVector([45.0, 3098.0, 0.0, 0.0, 0.0, 1.0, 0.0, 1.0, 0.0, 0.0])),\n",
       " (0.0, DenseVector([41.0, 744.0, 0.0, 0.0, 0.0, 1.0, 0.0, 0.0, 0.0, 1.0])),\n",
       " (0.0, DenseVector([39.0, 130.0, 0.0, 0.0, 0.0, 1.0, 0.0, 1.0, 0.0, 0.0])),\n",
       " (1.0, DenseVector([44.0, 438.0, 0.0, 0.0, 0.0, 1.0, 0.0, 1.0, 0.0, 0.0])),\n",
       " (1.0, DenseVector([54.0, 0.0, 0.0, 0.0, 0.0, 1.0, 0.0, 1.0, 0.0, 0.0])),\n",
       " (0.0, DenseVector([49.0, 322.0, 0.0, 0.0, 0.0, 1.0, 0.0, 0.0, 0.0, 1.0])),\n",
       " (0.0, DenseVector([34.0, 186.0, 0.0, 0.0, 0.0, 0.0, 0.0, 1.0, 1.0, 0.0])),\n",
       " (1.0, DenseVector([75.0, 3810.0, 0.0, 1.0, 0.0, 0.0, 0.0, 0.0, 0.0, 1.0])),\n",
       " (0.0, DenseVector([42.0, 0.0, 0.0, 0.0, 0.0, 1.0, 0.0, 0.0, 0.0, 1.0])),\n",
       " (0.0, DenseVector([53.0, 4380.0, 0.0, 0.0, 0.0, 1.0, 0.0, 1.0, 0.0, 0.0])),\n",
       " (1.0, DenseVector([49.0, 755.0, 0.0, 1.0, 0.0, 0.0, 0.0, 0.0, 0.0, 1.0])),\n",
       " (0.0, DenseVector([31.0, 2070.0, 0.0, 0.0, 0.0, 0.0, 0.0, 1.0, 1.0, 0.0])),\n",
       " (0.0, DenseVector([45.0, 999.0, 0.0, 0.0, 0.0, 0.0, 1.0, 0.0, 1.0, 0.0])),\n",
       " (0.0, DenseVector([39.0, 167.0, 0.0, 0.0, 1.0, 1.0, 0.0, 1.0, 0.0, 0.0])),\n",
       " (0.0, DenseVector([46.0, 1322.0, 0.0, 0.0, 1.0, 1.0, 0.0, 1.0, 0.0, 0.0])),\n",
       " (0.0, DenseVector([42.0, 1076.0, 0.0, 1.0, 0.0, 0.0, 0.0, 1.0, 0.0, 0.0])),\n",
       " (1.0, DenseVector([37.0, 502.0, 0.0, 0.0, 0.0, 1.0, 0.0, 0.0, 0.0, 1.0])),\n",
       " (0.0, DenseVector([26.0, 1216.0, 0.0, 0.0, 0.0, 0.0, 0.0, 0.0, 1.0, 1.0])),\n",
       " (1.0, DenseVector([37.0, 876.0, 0.0, 0.0, 0.0, 0.0, 0.0, 0.0, 1.0, 1.0])),\n",
       " (0.0, DenseVector([36.0, 342.0, 0.0, 0.0, 0.0, 0.0, 0.0, 1.0, 1.0, 0.0])),\n",
       " (0.0, DenseVector([29.0, 950.0, 0.0, 0.0, 0.0, 0.0, 1.0, 0.0, 1.0, 0.0])),\n",
       " (0.0, DenseVector([36.0, 973.0, 0.0, 0.0, 1.0, 1.0, 1.0, 0.0, 0.0, 0.0])),\n",
       " (0.0, DenseVector([26.0, 3825.0, 0.0, 0.0, 0.0, 1.0, 0.0, 0.0, 0.0, 1.0])),\n",
       " (0.0, DenseVector([32.0, 2366.0, 0.0, 0.0, 0.0, 1.0, 0.0, 1.0, 0.0, 0.0])),\n",
       " (0.0, DenseVector([40.0, 542.0, 0.0, 0.0, 0.0, 1.0, 0.0, 0.0, 0.0, 1.0])),\n",
       " (0.0, DenseVector([53.0, 995.0, 0.0, 0.0, 0.0, 1.0, 1.0, 0.0, 0.0, 0.0])),\n",
       " (0.0, DenseVector([29.0, 20.0, 0.0, 0.0, 0.0, 1.0, 0.0, 0.0, 0.0, 1.0])),\n",
       " (0.0, DenseVector([34.0, 228.0, 0.0, 0.0, 0.0, 0.0, 0.0, 0.0, 1.0, 1.0])),\n",
       " (1.0, DenseVector([43.0, 130.0, 0.0, 0.0, 0.0, 1.0, 0.0, 1.0, 0.0, 0.0])),\n",
       " (0.0, DenseVector([56.0, 217.0, 0.0, 0.0, 1.0, 1.0, 0.0, 0.0, 0.0, 1.0])),\n",
       " (0.0, DenseVector([55.0, 0.0, 0.0, 1.0, 0.0, 0.0, 0.0, 0.0, 0.0, 1.0])),\n",
       " (0.0, DenseVector([31.0, 259.0, 0.0, 0.0, 0.0, 1.0, 0.0, 0.0, 0.0, 1.0])),\n",
       " (1.0, DenseVector([27.0, 619.0, 0.0, 0.0, 0.0, 0.0, 0.0, 1.0, 1.0, 0.0])),\n",
       " (0.0, DenseVector([36.0, 644.0, 0.0, 0.0, 0.0, 1.0, 0.0, 1.0, 0.0, 0.0])),\n",
       " (0.0, DenseVector([44.0, 22.0, 0.0, 0.0, 0.0, 1.0, 0.0, 0.0, 0.0, 1.0])),\n",
       " (0.0, DenseVector([37.0, 4303.0, 0.0, 1.0, 0.0, 0.0, 0.0, 0.0, 0.0, 1.0])),\n",
       " (0.0, DenseVector([30.0, 239.0, 0.0, 0.0, 0.0, 0.0, 0.0, 1.0, 1.0, 0.0])),\n",
       " (0.0, DenseVector([42.0, 275.0, 0.0, 0.0, 0.0, 0.0, 0.0, 1.0, 1.0, 0.0])),\n",
       " (1.0, DenseVector([30.0, 1221.0, 0.0, 0.0, 0.0, 1.0, 0.0, 0.0, 0.0, 1.0])),\n",
       " (0.0, DenseVector([62.0, 816.0, 0.0, 0.0, 0.0, 1.0, 0.0, 1.0, 0.0, 0.0])),\n",
       " (0.0, DenseVector([24.0, 1222.0, 0.0, 0.0, 0.0, 1.0, 0.0, 1.0, 0.0, 0.0])),\n",
       " (0.0, DenseVector([31.0, 2363.0, 0.0, 0.0, 0.0, 1.0, 0.0, 1.0, 0.0, 0.0])),\n",
       " (0.0, DenseVector([66.0, 2262.0, 0.0, 0.0, 0.0, 1.0, 0.0, 0.0, 0.0, 1.0])),\n",
       " (0.0, DenseVector([47.0, 2.0, 0.0, 0.0, 0.0, 1.0, 0.0, 1.0, 0.0, 0.0])),\n",
       " (0.0, DenseVector([39.0, 2.0, 0.0, 0.0, 0.0, 1.0, 0.0, 0.0, 0.0, 1.0])),\n",
       " (1.0, DenseVector([35.0, 4508.0, 0.0, 0.0, 0.0, 1.0, 0.0, 1.0, 0.0, 0.0])),\n",
       " (0.0, DenseVector([35.0, -402.0, 0.0, 1.0, 0.0, 0.0, 0.0, 1.0, 0.0, 0.0])),\n",
       " (0.0, DenseVector([27.0, 1577.0, 0.0, 0.0, 1.0, 1.0, 0.0, 1.0, 0.0, 0.0])),\n",
       " (0.0, DenseVector([32.0, 34.0, 0.0, 0.0, 0.0, 1.0, 0.0, 1.0, 0.0, 0.0])),\n",
       " (0.0, DenseVector([44.0, 795.0, 0.0, 0.0, 0.0, 1.0, 0.0, 0.0, 0.0, 1.0])),\n",
       " (0.0, DenseVector([42.0, 117.0, 0.0, 0.0, 0.0, 1.0, 0.0, 1.0, 0.0, 0.0])),\n",
       " (1.0, DenseVector([34.0, 5462.0, 0.0, 0.0, 0.0, 0.0, 0.0, 0.0, 1.0, 1.0])),\n",
       " (0.0, DenseVector([25.0, 402.0, 0.0, 0.0, 1.0, 0.0, 0.0, 1.0, 1.0, 0.0])),\n",
       " (0.0, DenseVector([40.0, 641.0, 0.0, 0.0, 0.0, 0.0, 0.0, 1.0, 1.0, 0.0])),\n",
       " (1.0, DenseVector([43.0, 36.0, 0.0, 1.0, 0.0, 0.0, 0.0, 0.0, 0.0, 1.0])),\n",
       " (0.0, DenseVector([55.0, 383.0, 0.0, 0.0, 0.0, 1.0, 0.0, 0.0, 0.0, 1.0])),\n",
       " (0.0, DenseVector([50.0, 283.0, 0.0, 0.0, 0.0, 1.0, 0.0, 1.0, 0.0, 0.0])),\n",
       " (0.0, DenseVector([45.0, 0.0, 0.0, 1.0, 0.0, 0.0, 0.0, 0.0, 0.0, 1.0])),\n",
       " (0.0, DenseVector([35.0, 3102.0, 0.0, 1.0, 0.0, 0.0, 0.0, 1.0, 0.0, 0.0])),\n",
       " (1.0, DenseVector([32.0, 889.0, 0.0, 0.0, 0.0, 1.0, 0.0, 1.0, 0.0, 0.0])),\n",
       " (1.0, DenseVector([59.0, 0.0, 0.0, 0.0, 0.0, 1.0, 0.0, 1.0, 0.0, 0.0])),\n",
       " (0.0, DenseVector([34.0, -370.0, 0.0, 0.0, 0.0, 1.0, 0.0, 1.0, 0.0, 0.0])),\n",
       " (0.0, DenseVector([39.0, -606.0, 0.0, 0.0, 0.0, 1.0, 0.0, 0.0, 0.0, 1.0])),\n",
       " (0.0, DenseVector([40.0, 10378.0, 0.0, 0.0, 0.0, 0.0, 0.0, 1.0, 1.0, 0.0])),\n",
       " (0.0, DenseVector([36.0, 1313.0, 0.0, 0.0, 0.0, 0.0, 1.0, 0.0, 1.0, 0.0])),\n",
       " (0.0, DenseVector([40.0, 8969.0, 0.0, 0.0, 0.0, 1.0, 0.0, 0.0, 0.0, 1.0])),\n",
       " (0.0, DenseVector([55.0, -196.0, 0.0, 0.0, 0.0, 1.0, 0.0, 1.0, 0.0, 0.0])),\n",
       " (0.0, DenseVector([38.0, 15.0, 1.0, 0.0, 0.0, 1.0, 0.0, 1.0, 0.0, 0.0])),\n",
       " (1.0, DenseVector([61.0, 4608.0, 0.0, 0.0, 0.0, 1.0, 0.0, 1.0, 0.0, 0.0])),\n",
       " (0.0, DenseVector([41.0, 666.0, 0.0, 0.0, 0.0, 1.0, 0.0, 0.0, 0.0, 1.0])),\n",
       " (0.0, DenseVector([57.0, 452.0, 0.0, 0.0, 0.0, 1.0, 1.0, 0.0, 0.0, 0.0])),\n",
       " (0.0, DenseVector([48.0, 149.0, 0.0, 0.0, 0.0, 1.0, 0.0, 1.0, 0.0, 0.0])),\n",
       " (1.0, DenseVector([77.0, 7802.0, 0.0, 0.0, 0.0, 1.0, 0.0, 0.0, 0.0, 1.0])),\n",
       " (0.0, DenseVector([35.0, 1453.0, 0.0, 0.0, 0.0, 1.0, 0.0, 1.0, 0.0, 0.0])),\n",
       " (0.0, DenseVector([54.0, 1480.0, 0.0, 0.0, 0.0, 1.0, 0.0, 1.0, 0.0, 0.0])),\n",
       " (0.0, DenseVector([37.0, 715.0, 0.0, 0.0, 0.0, 0.0, 0.0, 0.0, 1.0, 0.0])),\n",
       " (0.0, DenseVector([56.0, 237.0, 0.0, 0.0, 0.0, 0.0, 0.0, 1.0, 1.0, 0.0])),\n",
       " (1.0, DenseVector([40.0, 694.0, 0.0, 0.0, 0.0, 1.0, 0.0, 1.0, 0.0, 0.0])),\n",
       " (0.0, DenseVector([40.0, 0.0, 0.0, 0.0, 0.0, 1.0, 0.0, 0.0, 0.0, 1.0])),\n",
       " (0.0, DenseVector([54.0, 55.0, 0.0, 0.0, 0.0, 1.0, 0.0, 0.0, 0.0, 1.0])),\n",
       " (0.0, DenseVector([55.0, 136.0, 0.0, 0.0, 0.0, 1.0, 1.0, 0.0, 0.0, 0.0])),\n",
       " (0.0, DenseVector([55.0, -404.0, 1.0, 1.0, 0.0, 0.0, 0.0, 1.0, 0.0, 0.0])),\n",
       " (0.0, DenseVector([52.0, 779.0, 0.0, 0.0, 0.0, 1.0, 1.0, 0.0, 0.0, 0.0])),\n",
       " (0.0, DenseVector([55.0, 1187.0, 0.0, 0.0, 0.0, 0.0, 1.0, 0.0, 1.0, 0.0])),\n",
       " (0.0, DenseVector([33.0, 641.0, 0.0, 0.0, 0.0, 1.0, 0.0, 0.0, 0.0, 1.0])),\n",
       " (0.0, DenseVector([52.0, 826.0, 0.0, 0.0, 0.0, 1.0, 0.0, 0.0, 0.0, 0.0])),\n",
       " (0.0, DenseVector([33.0, 991.0, 0.0, 1.0, 0.0, 0.0, 0.0, 1.0, 0.0, 0.0])),\n",
       " (1.0, DenseVector([53.0, 1796.0, 0.0, 0.0, 0.0, 1.0, 0.0, 1.0, 0.0, 0.0])),\n",
       " (1.0, DenseVector([46.0, 22.0, 0.0, 0.0, 0.0, 1.0, 0.0, 1.0, 0.0, 0.0])),\n",
       " (1.0, DenseVector([44.0, 244.0, 0.0, 0.0, 0.0, 0.0, 0.0, 1.0, 1.0, 0.0])),\n",
       " (0.0, DenseVector([48.0, 1328.0, 0.0, 1.0, 0.0, 0.0, 0.0, 0.0, 0.0, 1.0])),\n",
       " (1.0, DenseVector([50.0, 7317.0, 0.0, 0.0, 0.0, 1.0, 0.0, 1.0, 0.0, 0.0])),\n",
       " (0.0, DenseVector([34.0, 4943.0, 0.0, 0.0, 1.0, 0.0, 0.0, 1.0, 1.0, 0.0])),\n",
       " (0.0, DenseVector([38.0, 258.0, 0.0, 0.0, 1.0, 0.0, 0.0, 1.0, 1.0, 0.0])),\n",
       " (0.0, DenseVector([42.0, 515.0, 0.0, 0.0, 0.0, 0.0, 0.0, 0.0, 1.0, 1.0])),\n",
       " (1.0, DenseVector([32.0, 12607.0, 0.0, 0.0, 0.0, 0.0, 0.0, 0.0, 1.0, 1.0])),\n",
       " (0.0, DenseVector([58.0, 2.0, 0.0, 0.0, 1.0, 1.0, 0.0, 1.0, 0.0, 0.0])),\n",
       " (0.0, DenseVector([31.0, 13.0, 0.0, 0.0, 0.0, 1.0, 0.0, 0.0, 0.0, 1.0])),\n",
       " (1.0, DenseVector([19.0, 103.0, 0.0, 0.0, 0.0, 0.0, 1.0, 0.0, 1.0, 0.0])),\n",
       " (0.0, DenseVector([41.0, 3872.0, 0.0, 0.0, 0.0, 1.0, 0.0, 0.0, 0.0, 1.0])),\n",
       " (0.0, DenseVector([31.0, 296.0, 0.0, 0.0, 0.0, 1.0, 0.0, 1.0, 0.0, 0.0])),\n",
       " (0.0, DenseVector([52.0, 217.0, 0.0, 0.0, 1.0, 0.0, 1.0, 0.0, 1.0, 0.0])),\n",
       " (0.0, DenseVector([42.0, 360.0, 0.0, 1.0, 0.0, 0.0, 0.0, 0.0, 0.0, 1.0])),\n",
       " (0.0, DenseVector([41.0, 428.0, 0.0, 0.0, 0.0, 0.0, 0.0, 1.0, 1.0, 0.0])),\n",
       " (1.0, DenseVector([30.0, 315.0, 0.0, 0.0, 0.0, 0.0, 0.0, 1.0, 1.0, 0.0])),\n",
       " (1.0, DenseVector([38.0, 121.0, 0.0, 0.0, 1.0, 1.0, 0.0, 1.0, 0.0, 0.0])),\n",
       " (0.0, DenseVector([32.0, 820.0, 0.0, 0.0, 0.0, 1.0, 0.0, 0.0, 0.0, 1.0])),\n",
       " (1.0, DenseVector([52.0, 195.0, 0.0, 0.0, 0.0, 1.0, 0.0, 1.0, 0.0, 0.0])),\n",
       " (0.0, DenseVector([48.0, 108.0, 0.0, 1.0, 0.0, 0.0, 0.0, 0.0, 0.0, 1.0])),\n",
       " (0.0, DenseVector([36.0, -381.0, 0.0, 0.0, 0.0, 1.0, 0.0, 0.0, 0.0, 1.0])),\n",
       " (1.0, DenseVector([45.0, 757.0, 0.0, 1.0, 0.0, 0.0, 1.0, 0.0, 0.0, 0.0])),\n",
       " (0.0, DenseVector([34.0, 691.0, 0.0, 0.0, 1.0, 1.0, 0.0, 0.0, 0.0, 1.0])),\n",
       " (1.0, DenseVector([36.0, 1925.0, 0.0, 0.0, 0.0, 1.0, 1.0, 0.0, 0.0, 0.0])),\n",
       " (1.0, DenseVector([34.0, 902.0, 0.0, 0.0, 0.0, 1.0, 0.0, 0.0, 0.0, 1.0])),\n",
       " (1.0, DenseVector([61.0, 5207.0, 0.0, 0.0, 0.0, 1.0, 0.0, 1.0, 0.0, 0.0])),\n",
       " (0.0, DenseVector([54.0, 0.0, 0.0, 0.0, 0.0, 1.0, 0.0, 1.0, 0.0, 0.0])),\n",
       " (0.0, DenseVector([50.0, 665.0, 0.0, 0.0, 0.0, 1.0, 0.0, 1.0, 0.0, 0.0])),\n",
       " (1.0, DenseVector([43.0, 738.0, 0.0, 1.0, 0.0, 0.0, 0.0, 1.0, 0.0, 0.0])),\n",
       " (0.0, DenseVector([47.0, 233.0, 0.0, 0.0, 0.0, 1.0, 1.0, 0.0, 0.0, 0.0])),\n",
       " (0.0, DenseVector([45.0, -839.0, 0.0, 0.0, 0.0, 1.0, 0.0, 1.0, 0.0, 0.0])),\n",
       " (0.0, DenseVector([57.0, 5799.0, 0.0, 0.0, 0.0, 1.0, 1.0, 0.0, 0.0, 0.0])),\n",
       " (0.0, DenseVector([27.0, 1033.0, 0.0, 0.0, 0.0, 1.0, 0.0, 1.0, 0.0, 0.0])),\n",
       " (0.0, DenseVector([49.0, 66.0, 0.0, 1.0, 0.0, 0.0, 0.0, 1.0, 0.0, 0.0])),\n",
       " (1.0, DenseVector([43.0, 2567.0, 0.0, 0.0, 0.0, 1.0, 1.0, 0.0, 0.0, 0.0])),\n",
       " (0.0, DenseVector([40.0, 1584.0, 0.0, 0.0, 0.0, 1.0, 0.0, 0.0, 0.0, 1.0])),\n",
       " (0.0, DenseVector([32.0, 182.0, 0.0, 0.0, 0.0, 0.0, 0.0, 1.0, 1.0, 0.0])),\n",
       " (0.0, DenseVector([58.0, 76.0, 0.0, 0.0, 0.0, 1.0, 1.0, 0.0, 0.0, 0.0])),\n",
       " (0.0, DenseVector([34.0, 663.0, 0.0, 0.0, 0.0, 0.0, 0.0, 1.0, 1.0, 0.0])),\n",
       " (0.0, DenseVector([46.0, 3455.0, 0.0, 1.0, 0.0, 0.0, 0.0, 1.0, 0.0, 0.0])),\n",
       " (0.0, DenseVector([29.0, 15.0, 0.0, 0.0, 0.0, 1.0, 0.0, 1.0, 0.0, 0.0])),\n",
       " (0.0, DenseVector([52.0, 1054.0, 0.0, 0.0, 0.0, 1.0, 1.0, 0.0, 0.0, 0.0])),\n",
       " (0.0, DenseVector([45.0, 1529.0, 0.0, 0.0, 0.0, 1.0, 0.0, 0.0, 0.0, 1.0])),\n",
       " (0.0, DenseVector([26.0, 63.0, 0.0, 0.0, 0.0, 0.0, 0.0, 1.0, 1.0, 0.0])),\n",
       " (0.0, DenseVector([40.0, 0.0, 0.0, 0.0, 0.0, 1.0, 0.0, 0.0, 0.0, 1.0])),\n",
       " (0.0, DenseVector([41.0, 920.0, 0.0, 0.0, 1.0, 1.0, 0.0, 1.0, 0.0, 0.0])),\n",
       " (1.0, DenseVector([47.0, 3696.0, 0.0, 0.0, 0.0, 0.0, 0.0, 1.0, 1.0, 0.0]))]"
      ]
     },
     "execution_count": 232,
     "metadata": {},
     "output_type": "execute_result"
    }
   ],
   "source": [
    "bankRDD4.collect()"
   ]
  },
  {
   "cell_type": "code",
   "execution_count": 233,
   "id": "ae82f49d",
   "metadata": {},
   "outputs": [
    {
     "name": "stdout",
     "output_type": "stream",
     "text": [
      "+-----+--------------------+\n",
      "|label|            features|\n",
      "+-----+--------------------+\n",
      "|  0.0|[30.0,1787.0,0.0,...|\n",
      "|  1.0|[33.0,4789.0,0.0,...|\n",
      "|  1.0|[35.0,1350.0,0.0,...|\n",
      "|  1.0|[30.0,1476.0,0.0,...|\n",
      "|  0.0|[59.0,0.0,0.0,0.0...|\n",
      "|  1.0|[35.0,747.0,0.0,0...|\n",
      "|  1.0|[36.0,307.0,0.0,0...|\n",
      "|  0.0|[39.0,147.0,0.0,0...|\n",
      "|  0.0|[41.0,221.0,0.0,0...|\n",
      "|  1.0|[43.0,-88.0,0.0,0...|\n",
      "+-----+--------------------+\n",
      "only showing top 10 rows\n",
      "\n"
     ]
    }
   ],
   "source": [
    "bankDF = spSession.createDataFrame(bankRDD4,[\"label\", \"features\"])\n",
    "bankDF.select(\"label\",\"features\").show(10)"
   ]
  },
  {
   "cell_type": "markdown",
   "id": "fb4da263",
   "metadata": {},
   "source": [
    "## Machine Learning"
   ]
  },
  {
   "cell_type": "code",
   "execution_count": 234,
   "id": "057be1ff",
   "metadata": {},
   "outputs": [
    {
     "name": "stdout",
     "output_type": "stream",
     "text": [
      "+-----+------------------------------------------------------------+\n",
      "|label|pcaFeatures                                                 |\n",
      "+-----+------------------------------------------------------------+\n",
      "|0.0  |[-1787.018897197381,28.86209683775529,-0.06459982604876241] |\n",
      "|1.0  |[-4789.020177138492,29.922562636341947,-0.9830243513096373] |\n",
      "|1.0  |[-1350.022213163262,34.10110809796688,0.8951427168301704]   |\n",
      "|1.0  |[-1476.0189517184556,29.051333993596703,0.3952723868021948] |\n",
      "|0.0  |[-0.037889185366442445,58.9897182000177,-0.7290792383661886]|\n",
      "|1.0  |[-747.0223377634923,34.48829198181773,0.9045654956970108]   |\n",
      "|1.0  |[-307.0230691022592,35.799850539655225,0.5170631523785976]  |\n",
      "|0.0  |[-147.02501216176339,38.90107856650329,-0.8069627548799397] |\n",
      "|0.0  |[-221.0262985348787,40.853633675694944,0.5373036365803221]  |\n",
      "|1.0  |[87.9723868768871,43.062659441151055,-0.0670164287117152]   |\n",
      "|0.0  |[-9374.023105550941,32.97645883799288,-0.9511484606914431]  |\n",
      "|0.0  |[-264.02755731528384,42.82480363981353,-0.7936737710234671] |\n",
      "|0.0  |[-1109.0229033818864,35.28488955317366,0.5045307002207103]  |\n",
      "|1.0  |[-502.012736403296,19.649271797807618,-0.4861599382020708]  |\n",
      "|1.0  |[-360.0198076551079,30.766980637614083,-0.921373229576968]  |\n",
      "|0.0  |[-194.02563994730255,39.8716268180384,0.4530987690401262]   |\n",
      "|0.0  |[-4073.0351205683055,53.37532349166451,-0.8040639317646894] |\n",
      "|1.0  |[-2317.0232980131414,35.47962642487325,0.8875905344623461]  |\n",
      "|0.0  |[220.9838976313296,25.12353896656829,0.3460389024655913]    |\n",
      "|1.0  |[-132.0198766019026,30.91300939738972,-0.8369629258629313]  |\n",
      "+-----+------------------------------------------------------------+\n",
      "only showing top 20 rows\n",
      "\n"
     ]
    }
   ],
   "source": [
    "# Aplicando Redução de Dimensionalidade com PCA\n",
    "bankPCA = PCA(k = 3, inputCol = \"features\", outputCol = \"pcaFeatures\")\n",
    "pcaModel = bankPCA.fit(bankDF)\n",
    "pcaResult = pcaModel.transform(bankDF).select(\"label\",\"pcaFeatures\")\n",
    "pcaResult.show(truncate = False)\n",
    "\n",
    "# k = 3: Número de dimensões\n",
    "# Estamos realizando um agrupamento das 10 variáveis de forma que 3 dimensões expliquem o relacionamento entre estas 10 variáveis.\n",
    "\n",
    "# Todos os atributos estão representados por estas 3 dimensões."
   ]
  },
  {
   "cell_type": "code",
   "execution_count": 235,
   "id": "f5a4078f",
   "metadata": {},
   "outputs": [
    {
     "data": {
      "text/plain": [
       "[Row(label=0.0, pcaFeatures=DenseVector([-1787.0189, 28.8621, -0.0646]), indexed=0.0),\n",
       " Row(label=1.0, pcaFeatures=DenseVector([-4789.0202, 29.9226, -0.983]), indexed=1.0),\n",
       " Row(label=1.0, pcaFeatures=DenseVector([-1350.0222, 34.1011, 0.8951]), indexed=1.0),\n",
       " Row(label=1.0, pcaFeatures=DenseVector([-1476.019, 29.0513, 0.3953]), indexed=1.0),\n",
       " Row(label=0.0, pcaFeatures=DenseVector([-0.0379, 58.9897, -0.7291]), indexed=0.0),\n",
       " Row(label=1.0, pcaFeatures=DenseVector([-747.0223, 34.4883, 0.9046]), indexed=1.0),\n",
       " Row(label=1.0, pcaFeatures=DenseVector([-307.0231, 35.7999, 0.5171]), indexed=1.0),\n",
       " Row(label=0.0, pcaFeatures=DenseVector([-147.025, 38.9011, -0.807]), indexed=0.0),\n",
       " Row(label=0.0, pcaFeatures=DenseVector([-221.0263, 40.8536, 0.5373]), indexed=0.0),\n",
       " Row(label=1.0, pcaFeatures=DenseVector([87.9724, 43.0627, -0.067]), indexed=1.0),\n",
       " Row(label=0.0, pcaFeatures=DenseVector([-9374.0231, 32.9765, -0.9511]), indexed=0.0),\n",
       " Row(label=0.0, pcaFeatures=DenseVector([-264.0276, 42.8248, -0.7937]), indexed=0.0),\n",
       " Row(label=0.0, pcaFeatures=DenseVector([-1109.0229, 35.2849, 0.5045]), indexed=0.0),\n",
       " Row(label=1.0, pcaFeatures=DenseVector([-502.0127, 19.6493, -0.4862]), indexed=1.0),\n",
       " Row(label=1.0, pcaFeatures=DenseVector([-360.0198, 30.767, -0.9214]), indexed=1.0),\n",
       " Row(label=0.0, pcaFeatures=DenseVector([-194.0256, 39.8716, 0.4531]), indexed=0.0),\n",
       " Row(label=0.0, pcaFeatures=DenseVector([-4073.0351, 53.3753, -0.8041]), indexed=0.0),\n",
       " Row(label=1.0, pcaFeatures=DenseVector([-2317.0233, 35.4796, 0.8876]), indexed=1.0),\n",
       " Row(label=0.0, pcaFeatures=DenseVector([220.9839, 25.1235, 0.346]), indexed=0.0),\n",
       " Row(label=1.0, pcaFeatures=DenseVector([-132.0199, 30.913, -0.837]), indexed=1.0),\n",
       " Row(label=0.0, pcaFeatures=DenseVector([-0.0244, 37.9953, 0.2124]), indexed=0.0),\n",
       " Row(label=0.0, pcaFeatures=DenseVector([-16.027, 41.9797, 0.8465]), indexed=0.0),\n",
       " Row(label=0.0, pcaFeatures=DenseVector([-106.0282, 43.8966, -0.3893]), indexed=0.0),\n",
       " Row(label=0.0, pcaFeatures=DenseVector([-93.0282, 43.9343, -0.7872]), indexed=0.0),\n",
       " Row(label=0.0, pcaFeatures=DenseVector([-543.0166, 25.6512, 0.4756]), indexed=0.0),\n",
       " Row(label=0.0, pcaFeatures=DenseVector([-5883.0251, 37.2181, 0.4488]), indexed=0.0),\n",
       " Row(label=0.0, pcaFeatures=DenseVector([-627.0352, 54.5997, 0.048]), indexed=0.0),\n",
       " Row(label=1.0, pcaFeatures=DenseVector([-696.0429, 66.5454, 0.0089]), indexed=1.0),\n",
       " Row(label=0.0, pcaFeatures=DenseVector([-784.0358, 55.4875, -0.8335]), indexed=0.0),\n",
       " Row(label=0.0, pcaFeatures=DenseVector([-105.034, 52.9244, -0.8342]), indexed=0.0),\n",
       " Row(label=1.0, pcaFeatures=DenseVector([-4189.0428, 65.2921, -0.4583]), indexed=1.0),\n",
       " Row(label=0.0, pcaFeatures=DenseVector([-171.0199, 30.888, -0.8376]), indexed=0.0),\n",
       " Row(label=0.0, pcaFeatures=DenseVector([-42.0379, 58.9628, -0.7297]), indexed=0.0),\n",
       " Row(label=1.0, pcaFeatures=DenseVector([-2536.02, 30.3404, 0.8653]), indexed=1.0),\n",
       " Row(label=1.0, pcaFeatures=DenseVector([-1235.0312, 48.2002, 0.5517]), indexed=1.0),\n",
       " Row(label=0.0, pcaFeatures=DenseVector([-1811.0266, 40.8265, -0.5194]), indexed=0.0),\n",
       " Row(label=1.0, pcaFeatures=DenseVector([-229.0501, 77.8434, 0.4434]), indexed=1.0),\n",
       " Row(label=1.0, pcaFeatures=DenseVector([-2089.0201, 30.6561, -0.8638]), indexed=1.0),\n",
       " Row(label=1.0, pcaFeatures=DenseVector([-3935.0204, 30.4705, -0.8888]), indexed=1.0),\n",
       " Row(label=1.0, pcaFeatures=DenseVector([-363.0147, 22.7383, 0.8652]), indexed=1.0),\n",
       " Row(label=1.0, pcaFeatures=DenseVector([-11971.0219, 30.2805, 0.7405]), indexed=1.0),\n",
       " Row(label=0.0, pcaFeatures=DenseVector([-553.023, 35.6126, 0.9114]), indexed=0.0),\n",
       " Row(label=0.0, pcaFeatures=DenseVector([-1117.0332, 51.2745, -0.773]), indexed=0.0),\n",
       " Row(label=0.0, pcaFeatures=DenseVector([-396.0205, 31.7439, 0.5006]), indexed=0.0),\n",
       " Row(label=1.0, pcaFeatures=DenseVector([-2204.0201, 30.5536, 0.8705]), indexed=1.0),\n",
       " Row(label=1.0, pcaFeatures=DenseVector([-872.0217, 33.4083, 0.8988]), indexed=1.0),\n",
       " Row(label=1.0, pcaFeatures=DenseVector([-145.0353, 54.9092, 0.0555]), indexed=1.0),\n",
       " Row(label=0.0, pcaFeatures=DenseVector([-0.0167, 26.0107, -0.0518]), indexed=0.0),\n",
       " Row(label=1.0, pcaFeatures=DenseVector([848.9793, 32.5257, 0.3176]), indexed=1.0),\n",
       " Row(label=1.0, pcaFeatures=DenseVector([-4629.0382, 58.0217, -0.0753]), indexed=1.0),\n",
       " Row(label=1.0, pcaFeatures=DenseVector([-844.0287, 44.458, 0.3091]), indexed=1.0),\n",
       " Row(label=1.0, pcaFeatures=DenseVector([-228.0237, 36.8203, -0.4176]), indexed=1.0),\n",
       " Row(label=1.0, pcaFeatures=DenseVector([-50.0244, 37.9343, -0.4111]), indexed=1.0),\n",
       " Row(label=1.0, pcaFeatures=DenseVector([-1539.0215, 33.0094, 0.4903]), indexed=1.0),\n",
       " Row(label=0.0, pcaFeatures=DenseVector([-2231.0336, 51.5589, -0.7866]), indexed=0.0),\n",
       " Row(label=0.0, pcaFeatures=DenseVector([-3064.0302, 46.0255, -0.8185]), indexed=0.0),\n",
       " Row(label=0.0, pcaFeatures=DenseVector([-82.0366, 56.938, -0.8188]), indexed=0.0),\n",
       " Row(label=1.0, pcaFeatures=DenseVector([-2155.0208, 31.5848, 0.875]), indexed=1.0),\n",
       " Row(label=1.0, pcaFeatures=DenseVector([-101.0231, 35.9025, -0.5003]), indexed=1.0),\n",
       " Row(label=0.0, pcaFeatures=DenseVector([-784.0345, 53.4829, -0.5388]), indexed=0.0),\n",
       " Row(label=0.0, pcaFeatures=DenseVector([515.9736, 41.3381, -0.0679]), indexed=0.0),\n",
       " Row(label=0.0, pcaFeatures=DenseVector([-415.0404, 62.7221, -0.7204]), indexed=0.0),\n",
       " Row(label=0.0, pcaFeatures=DenseVector([-5887.0296, 44.2135, 0.4752]), indexed=0.0),\n",
       " Row(label=0.0, pcaFeatures=DenseVector([-1355.0305, 47.1228, -0.7918]), indexed=0.0),\n",
       " Row(label=0.0, pcaFeatures=DenseVector([-16873.0325, 45.1565, -1.0041]), indexed=0.0),\n",
       " Row(label=1.0, pcaFeatures=DenseVector([-203.0327, 50.8564, -0.4602]), indexed=1.0),\n",
       " Row(label=0.0, pcaFeatures=DenseVector([-338.0198, 30.7807, -0.8402]), indexed=0.0),\n",
       " Row(label=0.0, pcaFeatures=DenseVector([-444.0185, 28.7133, -0.8494]), indexed=0.0),\n",
       " Row(label=0.0, pcaFeatures=DenseVector([-0.0263, 40.9953, -0.878]), indexed=0.0),\n",
       " Row(label=1.0, pcaFeatures=DenseVector([-360.0205, 31.7376, 0.8993]), indexed=1.0),\n",
       " Row(label=1.0, pcaFeatures=DenseVector([-0.0238, 36.9967, 0.5256]), indexed=1.0),\n",
       " Row(label=0.0, pcaFeatures=DenseVector([-2.027, 41.9893, 0.8629]), indexed=0.0),\n",
       " Row(label=1.0, pcaFeatures=DenseVector([-6248.0186, 26.9573, 0.8035]), indexed=1.0),\n",
       " Row(label=0.0, pcaFeatures=DenseVector([-412.0263, 40.731, 0.5343]), indexed=0.0),\n",
       " Row(label=0.0, pcaFeatures=DenseVector([-344.0359, 55.7697, -0.7458]), indexed=0.0),\n",
       " Row(label=0.0, pcaFeatures=DenseVector([-3222.034, 51.9177, 0.8418]), indexed=0.0),\n",
       " Row(label=1.0, pcaFeatures=DenseVector([-174.0263, 40.8779, -0.4976]), indexed=1.0),\n",
       " Row(label=1.0, pcaFeatures=DenseVector([-591.0255, 39.5867, -0.4928]), indexed=1.0),\n",
       " Row(label=0.0, pcaFeatures=DenseVector([-388.032, 49.7494, 0.3351]), indexed=0.0),\n",
       " Row(label=1.0, pcaFeatures=DenseVector([-219.0256, 39.8546, -0.8043]), indexed=1.0),\n",
       " Row(label=1.0, pcaFeatures=DenseVector([-451.0172, 26.7041, -0.5548]), indexed=1.0),\n",
       " Row(label=0.0, pcaFeatures=DenseVector([-5.0385, 59.9977, 0.0766]), indexed=0.0),\n",
       " Row(label=1.0, pcaFeatures=DenseVector([-177.0179, 27.856, -0.5317]), indexed=1.0),\n",
       " Row(label=1.0, pcaFeatures=DenseVector([-657.0333, 51.5699, -0.7658]), indexed=1.0),\n",
       " Row(label=1.0, pcaFeatures=DenseVector([-1315.0235, 36.1523, 0.5051]), indexed=1.0),\n",
       " Row(label=0.0, pcaFeatures=DenseVector([-1466.0325, 50.0622, 0.0198]), indexed=0.0),\n",
       " Row(label=1.0, pcaFeatures=DenseVector([-879.0261, 40.4015, -0.4935]), indexed=1.0),\n",
       " Row(label=1.0, pcaFeatures=DenseVector([-293.0224, 34.7906, 0.3758]), indexed=1.0),\n",
       " Row(label=0.0, pcaFeatures=DenseVector([-424.0243, 37.7235, -0.8151]), indexed=0.0),\n",
       " Row(label=0.0, pcaFeatures=DenseVector([-1831.0215, 32.8212, -0.8522]), indexed=0.0),\n",
       " Row(label=0.0, pcaFeatures=DenseVector([-111.025, 38.9357, -0.0044]), indexed=0.0),\n",
       " Row(label=0.0, pcaFeatures=DenseVector([-455.0217, 33.7162, -0.0287]), indexed=0.0),\n",
       " Row(label=1.0, pcaFeatures=DenseVector([194.9826, 27.0948, -0.4488]), indexed=1.0),\n",
       " Row(label=1.0, pcaFeatures=DenseVector([-3616.0198, 29.647, 0.8484]), indexed=1.0),\n",
       " Row(label=0.0, pcaFeatures=DenseVector([-14093.0337, 47.9412, -0.9569]), indexed=0.0),\n",
       " Row(label=1.0, pcaFeatures=DenseVector([-1567.026, 39.96, 0.9144]), indexed=1.0),\n",
       " Row(label=0.0, pcaFeatures=DenseVector([-5426.0252, 37.5115, 0.456]), indexed=0.0),\n",
       " Row(label=1.0, pcaFeatures=DenseVector([-261.0192, 29.8018, 0.8933]), indexed=1.0),\n",
       " Row(label=0.0, pcaFeatures=DenseVector([-2843.0225, 34.1656, -0.5582]), indexed=0.0),\n",
       " Row(label=1.0, pcaFeatures=DenseVector([-406.0198, 30.7192, 0.3589]), indexed=1.0),\n",
       " Row(label=0.0, pcaFeatures=DenseVector([-0.0231, 35.9963, -0.816]), indexed=0.0),\n",
       " Row(label=1.0, pcaFeatures=DenseVector([-493.0243, 37.6505, 0.9199]), indexed=1.0),\n",
       " Row(label=0.0, pcaFeatures=DenseVector([-5996.0302, 45.1426, -0.8606]), indexed=0.0),\n",
       " Row(label=1.0, pcaFeatures=DenseVector([-3777.0358, 54.5472, 0.4045]), indexed=1.0),\n",
       " Row(label=1.0, pcaFeatures=DenseVector([-524.0217, 33.6311, -0.4336]), indexed=1.0),\n",
       " Row(label=1.0, pcaFeatures=DenseVector([-574.0204, 31.6002, 0.8959]), indexed=1.0),\n",
       " Row(label=0.0, pcaFeatures=DenseVector([-427.0236, 36.7222, -0.8997]), indexed=0.0),\n",
       " Row(label=0.0, pcaFeatures=DenseVector([-483.0211, 32.6877, 0.503]), indexed=0.0),\n",
       " Row(label=1.0, pcaFeatures=DenseVector([-3391.0353, 53.8247, 0.0086]), indexed=1.0),\n",
       " Row(label=0.0, pcaFeatures=DenseVector([-0.0173, 27.0104, -0.048]), indexed=0.0),\n",
       " Row(label=1.0, pcaFeatures=DenseVector([-2488.013, 19.3738, -0.5134]), indexed=1.0),\n",
       " Row(label=0.0, pcaFeatures=DenseVector([-1517.037, 57.0166, 0.5813]), indexed=0.0),\n",
       " Row(label=0.0, pcaFeatures=DenseVector([-217.0205, 31.8585, -0.9154]), indexed=0.0),\n",
       " Row(label=1.0, pcaFeatures=DenseVector([-22.0212, 32.9537, -0.4295]), indexed=1.0),\n",
       " Row(label=1.0, pcaFeatures=DenseVector([-331.016, 24.7576, -0.4646]), indexed=1.0),\n",
       " Row(label=1.0, pcaFeatures=DenseVector([-505.0159, 24.6463, -0.5482]), indexed=1.0),\n",
       " Row(label=0.0, pcaFeatures=DenseVector([-1808.0189, 28.8371, -0.8669]), indexed=0.0),\n",
       " Row(label=1.0, pcaFeatures=DenseVector([-4111.0133, 19.3317, -0.6158]), indexed=1.0),\n",
       " Row(label=0.0, pcaFeatures=DenseVector([-52.025, 38.9735, -0.0035]), indexed=0.0),\n",
       " Row(label=0.0, pcaFeatures=DenseVector([-25.0296, 45.9728, 0.8615]), indexed=0.0),\n",
       " Row(label=0.0, pcaFeatures=DenseVector([-1890.0195, 29.7789, -0.5622]), indexed=0.0),\n",
       " Row(label=0.0, pcaFeatures=DenseVector([-419.0288, 44.7362, 0.0135]), indexed=0.0),\n",
       " Row(label=0.0, pcaFeatures=DenseVector([-2693.02, 30.2683, -0.8732]), indexed=0.0),\n",
       " Row(label=0.0, pcaFeatures=DenseVector([230.9769, 36.145, -0.8932]), indexed=0.0),\n",
       " Row(label=1.0, pcaFeatures=DenseVector([54.9672, 50.9993, 0.9937]), indexed=1.0),\n",
       " Row(label=1.0, pcaFeatures=DenseVector([-462.0218, 33.6716, 0.9052]), indexed=1.0),\n",
       " Row(label=1.0, pcaFeatures=DenseVector([-119.0154, 23.894, -0.4651]), indexed=1.0),\n",
       " Row(label=1.0, pcaFeatures=DenseVector([-586.0288, 44.5885, -0.4738]), indexed=1.0),\n",
       " Row(label=1.0, pcaFeatures=DenseVector([-228.0205, 31.8218, -0.4365]), indexed=1.0),\n",
       " Row(label=1.0, pcaFeatures=DenseVector([-4659.0485, 73.9884, 0.9062]), indexed=1.0),\n",
       " Row(label=0.0, pcaFeatures=DenseVector([-168.0263, 40.8985, 0.0023]), indexed=0.0),\n",
       " Row(label=0.0, pcaFeatures=DenseVector([-0.0238, 37.0075, -0.0102]), indexed=0.0),\n",
       " Row(label=0.0, pcaFeatures=DenseVector([714.9722, 43.4589, -0.0437]), indexed=0.0),\n",
       " Row(label=1.0, pcaFeatures=DenseVector([-0.0308, 47.9977, -0.0521]), indexed=1.0),\n",
       " Row(label=1.0, pcaFeatures=DenseVector([-769.0172, 26.4758, -0.4639]), indexed=1.0),\n",
       " Row(label=1.0, pcaFeatures=DenseVector([-0.0212, 32.9685, 0.9087]), indexed=1.0),\n",
       " Row(label=1.0, pcaFeatures=DenseVector([-428.0185, 28.6946, -0.5318]), indexed=1.0),\n",
       " Row(label=1.0, pcaFeatures=DenseVector([-0.0218, 33.9682, 0.9125]), indexed=1.0),\n",
       " Row(label=1.0, pcaFeatures=DenseVector([969.9664, 52.6152, 0.5975]), indexed=1.0),\n",
       " Row(label=0.0, pcaFeatures=DenseVector([-6313.0372, 55.9407, -0.1054]), indexed=0.0),\n",
       " Row(label=0.0, pcaFeatures=DenseVector([-948.0204, 31.3842, 0.7942]), indexed=0.0),\n",
       " Row(label=1.0, pcaFeatures=DenseVector([-0.0206, 31.9688, 0.9049]), indexed=1.0),\n",
       " Row(label=0.0, pcaFeatures=DenseVector([-1877.0356, 54.785, 0.2511]), indexed=0.0),\n",
       " Row(label=1.0, pcaFeatures=DenseVector([-874.0197, 30.4079, 0.8875]), indexed=1.0),\n",
       " Row(label=0.0, pcaFeatures=DenseVector([-323.0269, 41.7876, -0.8792]), indexed=0.0),\n",
       " Row(label=0.0, pcaFeatures=DenseVector([-106.0224, 34.9296, 0.4356]), indexed=0.0),\n",
       " Row(label=0.0, pcaFeatures=DenseVector([-1906.0356, 54.7786, -0.049]), indexed=0.0),\n",
       " Row(label=0.0, pcaFeatures=DenseVector([-1152.0306, 47.2532, -0.7887]), indexed=0.0),\n",
       " Row(label=1.0, pcaFeatures=DenseVector([-179.0295, 45.8785, -0.781]), indexed=1.0),\n",
       " Row(label=1.0, pcaFeatures=DenseVector([-391.0237, 36.7205, 0.2984]), indexed=1.0),\n",
       " Row(label=0.0, pcaFeatures=DenseVector([-89.0263, 40.9426, -0.0799]), indexed=0.0),\n",
       " Row(label=1.0, pcaFeatures=DenseVector([-442.023, 35.6842, 0.8323]), indexed=1.0),\n",
       " Row(label=0.0, pcaFeatures=DenseVector([248.9711, 45.1608, 0.2614]), indexed=0.0),\n",
       " Row(label=0.0, pcaFeatures=DenseVector([-8104.0336, 49.7873, -0.8708]), indexed=0.0),\n",
       " Row(label=0.0, pcaFeatures=DenseVector([-501.0249, 38.6738, -0.8125]), indexed=0.0),\n",
       " Row(label=0.0, pcaFeatures=DenseVector([-308.0224, 34.7936, -0.5224]), indexed=0.0),\n",
       " Row(label=1.0, pcaFeatures=DenseVector([-602.0352, 54.6043, -0.7536]), indexed=1.0),\n",
       " Row(label=1.0, pcaFeatures=DenseVector([-273.0353, 54.8156, -0.7485]), indexed=1.0),\n",
       " Row(label=1.0, pcaFeatures=DenseVector([-50.0173, 26.9375, -0.4526]), indexed=1.0),\n",
       " Row(label=0.0, pcaFeatures=DenseVector([-1641.0215, 32.9432, -0.8492]), indexed=0.0),\n",
       " Row(label=0.0, pcaFeatures=DenseVector([-20.0218, 33.9847, 0.514]), indexed=0.0),\n",
       " Row(label=1.0, pcaFeatures=DenseVector([-4590.0151, 22.0229, -0.5311]), indexed=1.0),\n",
       " Row(label=1.0, pcaFeatures=DenseVector([255.9736, 41.1303, -0.4758]), indexed=1.0),\n",
       " Row(label=0.0, pcaFeatures=DenseVector([-978.0274, 42.3667, -0.8857]), indexed=0.0),\n",
       " Row(label=1.0, pcaFeatures=DenseVector([-80.018, 27.9186, 0.8885]), indexed=1.0),\n",
       " Row(label=1.0, pcaFeatures=DenseVector([-2104.0195, 29.6175, -0.4696]), indexed=1.0),\n",
       " Row(label=0.0, pcaFeatures=DenseVector([-499.05, 77.6639, -0.6651]), indexed=0.0),\n",
       " Row(label=0.0, pcaFeatures=DenseVector([-1269.0286, 44.1737, -0.4996]), indexed=0.0),\n",
       " Row(label=0.0, pcaFeatures=DenseVector([-310.0308, 47.7945, 0.5624]), indexed=0.0),\n",
       " Row(label=1.0, pcaFeatures=DenseVector([-1143.0203, 31.2346, -0.5317]), indexed=1.0),\n",
       " Row(label=0.0, pcaFeatures=DenseVector([-2980.0264, 40.0812, -0.8399]), indexed=0.0),\n",
       " Row(label=1.0, pcaFeatures=DenseVector([-37.0238, 36.9436, 0.9232]), indexed=1.0),\n",
       " Row(label=1.0, pcaFeatures=DenseVector([-462.0256, 39.6696, -0.4908]), indexed=1.0),\n",
       " Row(label=0.0, pcaFeatures=DenseVector([-1031.0203, 31.3355, -0.8472]), indexed=0.0),\n",
       " Row(label=0.0, pcaFeatures=DenseVector([-9009.0251, 36.2106, 0.4038]), indexed=0.0),\n",
       " Row(label=0.0, pcaFeatures=DenseVector([464.9723, 43.2933, -0.8631]), indexed=0.0),\n",
       " Row(label=0.0, pcaFeatures=DenseVector([-5181.0272, 40.6677, -0.9476]), indexed=0.0),\n",
       " Row(label=1.0, pcaFeatures=DenseVector([-176.0237, 36.883, -0.815]), indexed=1.0),\n",
       " Row(label=0.0, pcaFeatures=DenseVector([-1699.0234, 35.91, -0.1202]), indexed=0.0),\n",
       " Row(label=1.0, pcaFeatures=DenseVector([-0.0238, 36.9967, 0.5256]), indexed=1.0),\n",
       " Row(label=1.0, pcaFeatures=DenseVector([-172.0179, 27.8599, 0.8062]), indexed=1.0),\n",
       " Row(label=1.0, pcaFeatures=DenseVector([-0.0205, 31.9685, -0.5138]), indexed=1.0),\n",
       " Row(label=1.0, pcaFeatures=DenseVector([-6979.0204, 29.4864, -0.5345]), indexed=1.0),\n",
       " Row(label=0.0, pcaFeatures=DenseVector([-6.0257, 39.9861, -0.4987]), indexed=0.0),\n",
       " Row(label=0.0, pcaFeatures=DenseVector([61.9782, 34.0367, -0.8226]), indexed=0.0),\n",
       " Row(label=0.0, pcaFeatures=DenseVector([-1972.0214, 32.7313, 0.4835]), indexed=0.0),\n",
       " Row(label=0.0, pcaFeatures=DenseVector([-899.0217, 33.4203, 0.5003]), indexed=0.0),\n",
       " Row(label=1.0, pcaFeatures=DenseVector([-21.0238, 36.9532, -0.4144]), indexed=1.0),\n",
       " Row(label=1.0, pcaFeatures=DenseVector([-23.0231, 35.9816, -0.8164]), indexed=1.0),\n",
       " Row(label=1.0, pcaFeatures=DenseVector([1205.9638, 56.7649, -0.7216]), indexed=1.0),\n",
       " Row(label=0.0, pcaFeatures=DenseVector([-0.0314, 49.0044, -0.0457]), indexed=0.0),\n",
       " Row(label=0.0, pcaFeatures=DenseVector([-215.0211, 32.8591, -0.8307]), indexed=0.0),\n",
       " Row(label=0.0, pcaFeatures=DenseVector([-1372.019, 29.0884, 0.8759]), indexed=0.0),\n",
       " Row(label=0.0, pcaFeatures=DenseVector([-1981.0227, 34.7243, -0.847]), indexed=0.0),\n",
       " Row(label=1.0, pcaFeatures=DenseVector([-9216.0129, 17.0532, -0.611]), indexed=1.0),\n",
       " Row(label=0.0, pcaFeatures=DenseVector([-39.0366, 56.96, -0.435]), indexed=0.0),\n",
       " Row(label=1.0, pcaFeatures=DenseVector([-5563.0162, 23.3976, -0.5388]), indexed=1.0),\n",
       " Row(label=0.0, pcaFeatures=DenseVector([-1.0244, 37.9955, -0.8893]), indexed=0.0),\n",
       " Row(label=0.0, pcaFeatures=DenseVector([-782.0268, 41.4931, 0.5323]), indexed=0.0),\n",
       " Row(label=1.0, pcaFeatures=DenseVector([-3771.0474, 72.5638, -0.7275]), indexed=1.0),\n",
       " Row(label=1.0, pcaFeatures=DenseVector([-992.0216, 33.3313, 0.897]), indexed=1.0),\n",
       " Row(label=0.0, pcaFeatures=DenseVector([-1526.0305, 47.013, -0.7945]), indexed=0.0),\n",
       " Row(label=1.0, pcaFeatures=DenseVector([-2658.0219, 33.2612, 0.8747]), indexed=1.0),\n",
       " Row(label=1.0, pcaFeatures=DenseVector([-1315.0248, 38.1465, 0.8149]), indexed=1.0),\n",
       " Row(label=1.0, pcaFeatures=DenseVector([-455.0185, 28.6775, 0.8865]), indexed=1.0),\n",
       " Row(label=1.0, pcaFeatures=DenseVector([-0.0289, 44.9651, 0.954]), indexed=1.0),\n",
       " Row(label=0.0, pcaFeatures=DenseVector([-2030.0265, 40.6915, -0.9059]), indexed=0.0),\n",
       " Row(label=1.0, pcaFeatures=DenseVector([-1599.0183, 27.9716, -0.8674]), indexed=1.0),\n",
       " Row(label=1.0, pcaFeatures=DenseVector([195.9756, 38.0923, -0.4072]), indexed=1.0),\n",
       " Row(label=0.0, pcaFeatures=DenseVector([-1333.0357, 55.1347, -0.7612]), indexed=0.0),\n",
       " Row(label=1.0, pcaFeatures=DenseVector([-9149.0212, 30.0925, -0.5608]), indexed=1.0),\n",
       " Row(label=1.0, pcaFeatures=DenseVector([349.9839, 25.1949, -0.4539]), indexed=1.0),\n",
       " Row(label=1.0, pcaFeatures=DenseVector([-432.0243, 37.719, 0.5227]), indexed=1.0),\n",
       " Row(label=0.0, pcaFeatures=DenseVector([-11494.0342, 49.61, -0.9162]), indexed=0.0),\n",
       " Row(label=0.0, pcaFeatures=DenseVector([252.98, 31.1615, 0.523]), indexed=0.0),\n",
       " Row(label=1.0, pcaFeatures=DenseVector([-372.0269, 41.7564, 0.5387]), indexed=1.0),\n",
       " Row(label=0.0, pcaFeatures=DenseVector([-1410.0286, 44.0884, -0.804]), indexed=0.0),\n",
       " Row(label=1.0, pcaFeatures=DenseVector([-975.0191, 29.372, -0.8539]), indexed=1.0),\n",
       " Row(label=0.0, pcaFeatures=DenseVector([-305.0314, 48.8086, -0.0505]), indexed=0.0),\n",
       " Row(label=0.0, pcaFeatures=DenseVector([-400.0314, 48.7358, -0.7731]), indexed=0.0),\n",
       " Row(label=0.0, pcaFeatures=DenseVector([21.9659, 53.0062, 0.5865]), indexed=0.0),\n",
       " Row(label=0.0, pcaFeatures=DenseVector([-4030.0229, 34.4084, -0.8752]), indexed=0.0),\n",
       " Row(label=0.0, pcaFeatures=DenseVector([-365.0314, 48.7697, 0.0294]), indexed=0.0),\n",
       " Row(label=0.0, pcaFeatures=DenseVector([-204.0263, 40.8754, 0.0017]), indexed=0.0),\n",
       " Row(label=0.0, pcaFeatures=DenseVector([-1691.0343, 52.9168, 0.0276]), indexed=0.0),\n",
       " Row(label=1.0, pcaFeatures=DenseVector([-406.0205, 31.7075, -0.4393]), indexed=1.0),\n",
       " Row(label=0.0, pcaFeatures=DenseVector([203.9788, 33.1282, -0.8242]), indexed=0.0),\n",
       " Row(label=1.0, pcaFeatures=DenseVector([-359.0211, 32.7667, -0.833]), indexed=1.0),\n",
       " Row(label=0.0, pcaFeatures=DenseVector([-123.0231, 35.9288, -0.0159]), indexed=0.0),\n",
       " Row(label=1.0, pcaFeatures=DenseVector([-0.0225, 34.9976, 0.4372]), indexed=1.0),\n",
       " Row(label=0.0, pcaFeatures=DenseVector([-142.0334, 51.9006, -0.7578]), indexed=0.0),\n",
       " Row(label=0.0, pcaFeatures=DenseVector([-3571.025, 37.7029, 0.4812]), indexed=0.0),\n",
       " Row(label=1.0, pcaFeatures=DenseVector([-33.0282, 43.9435, -0.3881]), indexed=1.0),\n",
       " Row(label=1.0, pcaFeatures=DenseVector([-0.0289, 44.9644, -0.3838]), indexed=1.0),\n",
       " Row(label=0.0, pcaFeatures=DenseVector([-3096.0186, 27.9808, -0.4889]), indexed=0.0),\n",
       " Row(label=0.0, pcaFeatures=DenseVector([-20.0308, 47.9754, -0.4526]), indexed=0.0),\n",
       " Row(label=1.0, pcaFeatures=DenseVector([-3576.0204, 30.7011, -0.8832]), indexed=1.0),\n",
       " Row(label=0.0, pcaFeatures=DenseVector([-206.0366, 56.8629, -0.0213]), indexed=0.0),\n",
       " Row(label=0.0, pcaFeatures=DenseVector([-7082.0351, 52.4544, -0.0453]), indexed=0.0),\n",
       " Row(label=0.0, pcaFeatures=DenseVector([-1634.0324, 49.9435, 0.553]), indexed=0.0),\n",
       " Row(label=1.0, pcaFeatures=DenseVector([-1.0218, 33.9669, -0.4254]), indexed=1.0),\n",
       " Row(label=0.0, pcaFeatures=DenseVector([-4012.0313, 47.4169, 0.5121]), indexed=0.0),\n",
       " Row(label=0.0, pcaFeatures=DenseVector([-3762.0275, 41.5791, 0.4933]), indexed=0.0),\n",
       " Row(label=0.0, pcaFeatures=DenseVector([246.9826, 27.1579, -0.927]), indexed=0.0),\n",
       " Row(label=0.0, pcaFeatures=DenseVector([-606.032, 49.6032, -0.7726]), indexed=0.0),\n",
       " Row(label=1.0, pcaFeatures=DenseVector([-0.0231, 35.997, 0.5219]), indexed=1.0),\n",
       " Row(label=0.0, pcaFeatures=DenseVector([188.973, 42.116, -0.7904]), indexed=0.0),\n",
       " Row(label=1.0, pcaFeatures=DenseVector([-0.0205, 31.9682, -0.433]), indexed=1.0),\n",
       " Row(label=0.0, pcaFeatures=DenseVector([-484.0269, 41.6845, 0.537]), indexed=0.0),\n",
       " Row(label=1.0, pcaFeatures=DenseVector([-0.0276, 42.9947, -0.8704]), indexed=1.0),\n",
       " Row(label=0.0, pcaFeatures=DenseVector([-395.0198, 30.7448, 0.4968]), indexed=0.0),\n",
       " Row(label=0.0, pcaFeatures=DenseVector([-2349.0201, 30.4898, 0.47]), indexed=0.0),\n",
       " Row(label=0.0, pcaFeatures=DenseVector([-410.0352, 54.7342, 0.2728]), indexed=0.0),\n",
       " Row(label=1.0, pcaFeatures=DenseVector([-3401.0365, 55.8177, 0.016]), indexed=1.0),\n",
       " Row(label=0.0, pcaFeatures=DenseVector([-222.0295, 45.8624, 0.0203]), indexed=0.0),\n",
       " Row(label=0.0, pcaFeatures=DenseVector([-989.0351, 54.3562, -0.8405]), indexed=0.0),\n",
       " Row(label=0.0, pcaFeatures=DenseVector([-415.0217, 33.7314, 0.427]), indexed=0.0),\n",
       " Row(label=1.0, pcaFeatures=DenseVector([-16.018, 27.959, -0.4483]), indexed=1.0),\n",
       " Row(label=0.0, pcaFeatures=DenseVector([-7190.0255, 37.3733, 0.7344]), indexed=0.0),\n",
       " Row(label=1.0, pcaFeatures=DenseVector([-482.0185, 28.6599, -0.5327]), indexed=1.0),\n",
       " Row(label=0.0, pcaFeatures=DenseVector([-209.0346, 53.8573, -0.8321]), indexed=0.0),\n",
       " Row(label=1.0, pcaFeatures=DenseVector([-0.0205, 31.9682, -0.433]), indexed=1.0),\n",
       " Row(label=1.0, pcaFeatures=DenseVector([-5803.0239, 35.2407, 0.8407]), indexed=1.0),\n",
       " Row(label=0.0, pcaFeatures=DenseVector([-624.0339, 52.5918, 0.4955]), indexed=0.0),\n",
       " Row(label=1.0, pcaFeatures=DenseVector([-883.0371, 57.4237, 0.5912]), indexed=1.0),\n",
       " Row(label=0.0, pcaFeatures=DenseVector([-1516.0253, 39.0221, -0.9054]), indexed=0.0),\n",
       " Row(label=1.0, pcaFeatures=DenseVector([-872.0184, 28.4091, -0.4579]), indexed=1.0),\n",
       " Row(label=0.0, pcaFeatures=DenseVector([987.9786, 33.6326, 0.4451]), indexed=0.0),\n",
       " Row(label=1.0, pcaFeatures=DenseVector([-902.0242, 37.3873, -0.4244]), indexed=1.0),\n",
       " Row(label=0.0, pcaFeatures=DenseVector([-1007.0358, 55.3387, -0.4539]), indexed=0.0),\n",
       " Row(label=1.0, pcaFeatures=DenseVector([-0.0257, 39.9952, -0.8009]), indexed=1.0),\n",
       " Row(label=1.0, pcaFeatures=DenseVector([-174.0154, 23.8591, -0.5468]), indexed=1.0),\n",
       " Row(label=0.0, pcaFeatures=DenseVector([-12186.027, 38.1689, -0.9686]), indexed=0.0),\n",
       " Row(label=0.0, pcaFeatures=DenseVector([-524.0224, 34.6602, -0.828]), indexed=0.0),\n",
       " Row(label=1.0, pcaFeatures=DenseVector([-0.0225, 34.9679, 0.9162]), indexed=1.0),\n",
       " Row(label=0.0, pcaFeatures=DenseVector([-4.0218, 33.9943, -0.8236]), indexed=0.0),\n",
       " Row(label=1.0, pcaFeatures=DenseVector([-11219.0202, 27.7936, 0.3428]), indexed=1.0),\n",
       " Row(label=1.0, pcaFeatures=DenseVector([-0.0244, 37.9671, 0.9276]), indexed=1.0),\n",
       " Row(label=0.0, pcaFeatures=DenseVector([-5776.0309, 46.295, -0.0513]), indexed=0.0),\n",
       " Row(label=0.0, pcaFeatures=DenseVector([-37.0328, 50.9745, 0.3444]), indexed=0.0),\n",
       " Row(label=0.0, pcaFeatures=DenseVector([-593.0378, 58.6096, 0.5995]), indexed=0.0),\n",
       " Row(label=0.0, pcaFeatures=DenseVector([-1148.0203, 31.2604, -0.8491]), indexed=0.0),\n",
       " Row(label=1.0, pcaFeatures=DenseVector([-3561.023, 34.6802, -0.4697]), indexed=1.0),\n",
       " Row(label=0.0, pcaFeatures=DenseVector([-63.027, 41.9489, -0.4921]), indexed=0.0),\n",
       " Row(label=0.0, pcaFeatures=DenseVector([-260.0256, 39.8282, -0.8049]), indexed=0.0),\n",
       " Row(label=1.0, pcaFeatures=DenseVector([-2269.0175, 26.513, 0.8543]), indexed=1.0),\n",
       " Row(label=0.0, pcaFeatures=DenseVector([-1060.03, 46.3125, -0.791]), indexed=0.0),\n",
       " Row(label=0.0, pcaFeatures=DenseVector([219.9826, 27.1402, -0.8466]), indexed=0.0),\n",
       " Row(label=0.0, pcaFeatures=DenseVector([-49.0263, 40.9641, 0.54]), indexed=0.0),\n",
       " Row(label=1.0, pcaFeatures=DenseVector([-69.0218, 33.9536, 0.4324]), indexed=1.0),\n",
       " Row(label=1.0, pcaFeatures=DenseVector([-4108.0313, 47.366, -0.0253]), indexed=1.0),\n",
       " Row(label=0.0, pcaFeatures=DenseVector([-480.0301, 46.685, -0.7819]), indexed=0.0),\n",
       " Row(label=0.0, pcaFeatures=DenseVector([-4994.033, 49.7848, -0.8298]), indexed=0.0),\n",
       " Row(label=0.0, pcaFeatures=DenseVector([-0.034, 52.9865, -0.5304]), indexed=0.0),\n",
       " Row(label=0.0, pcaFeatures=DenseVector([-3681.0294, 44.6303, 0.5059]), indexed=0.0),\n",
       " Row(label=1.0, pcaFeatures=DenseVector([700.9684, 49.4429, 0.281]), indexed=1.0),\n",
       " Row(label=0.0, pcaFeatures=DenseVector([-451.0185, 28.7094, 0.4884]), indexed=0.0),\n",
       " Row(label=1.0, pcaFeatures=DenseVector([310.971, 45.1996, 0.3271]), indexed=1.0),\n",
       " Row(label=1.0, pcaFeatures=DenseVector([-593.0243, 37.6154, -0.8986]), indexed=1.0),\n",
       " Row(label=1.0, pcaFeatures=DenseVector([-759.0204, 31.5101, -0.843]), indexed=1.0),\n",
       " Row(label=0.0, pcaFeatures=DenseVector([-4531.044, 67.0834, 0.3459]), indexed=0.0),\n",
       " Row(label=1.0, pcaFeatures=DenseVector([-1840.0414, 63.8127, 0.3691]), indexed=1.0),\n",
       " Row(label=0.0, pcaFeatures=DenseVector([-345.0359, 55.7691, -0.7458]), indexed=0.0),\n",
       " Row(label=0.0, pcaFeatures=DenseVector([-1287.0222, 34.1702, -0.8399]), indexed=0.0),\n",
       " Row(label=0.0, pcaFeatures=DenseVector([-353.0359, 55.7691, -0.1082]), indexed=0.0),\n",
       " Row(label=0.0, pcaFeatures=DenseVector([-205.0359, 55.8593, -0.8245]), indexed=0.0),\n",
       " Row(label=1.0, pcaFeatures=DenseVector([-687.0313, 48.5515, -0.7776]), indexed=1.0),\n",
       " Row(label=0.0, pcaFeatures=DenseVector([-1147.0241, 37.2711, -0.1052]), indexed=0.0),\n",
       " Row(label=0.0, pcaFeatures=DenseVector([-4286.0216, 32.2452, 0.4511]), indexed=0.0),\n",
       " Row(label=0.0, pcaFeatures=DenseVector([-605.0243, 37.6079, 0.52]), indexed=0.0),\n",
       " Row(label=1.0, pcaFeatures=DenseVector([-8545.0297, 43.5063, -0.9812]), indexed=1.0),\n",
       " Row(label=0.0, pcaFeatures=DenseVector([-559.0352, 54.6368, -0.0343]), indexed=0.0),\n",
       " Row(label=1.0, pcaFeatures=DenseVector([-2.0276, 42.9752, 0.4106]), indexed=1.0),\n",
       " Row(label=0.0, pcaFeatures=DenseVector([-2.0276, 42.994, 0.4674]), indexed=0.0),\n",
       " Row(label=1.0, pcaFeatures=DenseVector([-760.0159, 24.4828, 0.8666]), indexed=1.0),\n",
       " Row(label=0.0, pcaFeatures=DenseVector([-1317.019, 29.1639, -0.0573]), indexed=0.0),\n",
       " Row(label=0.0, pcaFeatures=DenseVector([-182.0295, 45.8766, -0.7811]), indexed=0.0),\n",
       " Row(label=0.0, pcaFeatures=DenseVector([-276.032, 49.8269, -0.0462]), indexed=0.0),\n",
       " Row(label=1.0, pcaFeatures=DenseVector([-2971.0219, 33.0889, -0.8662]), indexed=1.0),\n",
       " Row(label=1.0, pcaFeatures=DenseVector([-1064.0165, 25.2867, -0.4723]), indexed=1.0),\n",
       " Row(label=0.0, pcaFeatures=DenseVector([-1783.0285, 43.8537, -0.0913]), indexed=0.0),\n",
       " Row(label=0.0, pcaFeatures=DenseVector([66.9762, 37.0391, -0.8112]), indexed=0.0),\n",
       " Row(label=1.0, pcaFeatures=DenseVector([-179.0385, 59.8462, 0.9271]), indexed=1.0),\n",
       " Row(label=1.0, pcaFeatures=DenseVector([-1199.0242, 37.2265, 0.5107]), indexed=1.0),\n",
       " Row(label=0.0, pcaFeatures=DenseVector([-214.0301, 46.8676, -0.0566]), indexed=0.0),\n",
       " Row(label=1.0, pcaFeatures=DenseVector([-6699.0198, 28.6958, -0.932]), indexed=1.0),\n",
       " Row(label=0.0, pcaFeatures=DenseVector([-1760.0324, 49.8623, -0.8677]), indexed=0.0),\n",
       " Row(label=1.0, pcaFeatures=DenseVector([-145.0225, 34.8748, 0.914]), indexed=1.0),\n",
       " Row(label=1.0, pcaFeatures=DenseVector([-978.0223, 34.3686, -0.8351]), indexed=1.0),\n",
       " Row(label=1.0, pcaFeatures=DenseVector([-1150.0306, 47.2251, -0.3905]), indexed=1.0),\n",
       " Row(label=0.0, pcaFeatures=DenseVector([-121.0237, 36.9183, -0.8141]), indexed=0.0),\n",
       " Row(label=1.0, pcaFeatures=DenseVector([-828.0185, 28.438, 0.8806]), indexed=1.0),\n",
       " Row(label=0.0, pcaFeatures=DenseVector([-244.0218, 33.8402, -0.8274]), indexed=0.0),\n",
       " Row(label=1.0, pcaFeatures=DenseVector([-228.0205, 31.8625, -0.0327]), indexed=1.0),\n",
       " Row(label=1.0, pcaFeatures=DenseVector([-424.0192, 29.6971, 0.8907]), indexed=1.0),\n",
       " Row(label=0.0, pcaFeatures=DenseVector([-447.0301, 46.7019, 0.7778]), indexed=0.0),\n",
       " Row(label=0.0, pcaFeatures=DenseVector([194.9788, 33.1339, -0.0223]), indexed=0.0),\n",
       " Row(label=1.0, pcaFeatures=DenseVector([-1410.0209, 32.0632, 0.8866]), indexed=1.0),\n",
       " Row(label=0.0, pcaFeatures=DenseVector([-1084.0402, 62.304, 0.0711]), indexed=0.0),\n",
       " Row(label=0.0, pcaFeatures=DenseVector([-10924.0305, 43.984, 0.1742]), indexed=0.0),\n",
       " Row(label=1.0, pcaFeatures=DenseVector([-832.0262, 40.4617, 0.4469]), indexed=1.0),\n",
       " Row(label=0.0, pcaFeatures=DenseVector([-478.0359, 55.6843, 0.59]), indexed=0.0),\n",
       " Row(label=1.0, pcaFeatures=DenseVector([-0.0385, 59.9611, 0.9299]), indexed=1.0),\n",
       " Row(label=1.0, pcaFeatures=DenseVector([-3950.0255, 38.4299, 0.8772]), indexed=1.0),\n",
       " Row(label=1.0, pcaFeatures=DenseVector([-504.0237, 36.648, 0.2967]), indexed=1.0),\n",
       " Row(label=1.0, pcaFeatures=DenseVector([-219.0231, 35.8268, -0.5021]), indexed=1.0),\n",
       " Row(label=0.0, pcaFeatures=DenseVector([-1602.0363, 55.9623, 0.5762]), indexed=0.0),\n",
       " Row(label=1.0, pcaFeatures=DenseVector([-2587.0348, 53.3412, 0.0174]), indexed=1.0),\n",
       " Row(label=0.0, pcaFeatures=DenseVector([-0.0282, 43.9944, -0.8666]), indexed=0.0),\n",
       " Row(label=1.0, pcaFeatures=DenseVector([-2303.0297, 45.5151, 0.5274]), indexed=1.0),\n",
       " Row(label=0.0, pcaFeatures=DenseVector([-1660.0196, 29.9319, -0.8608]), indexed=0.0),\n",
       " Row(label=0.0, pcaFeatures=DenseVector([-32.0225, 34.9773, 0.5337]), indexed=0.0),\n",
       " Row(label=0.0, pcaFeatures=DenseVector([-278.025, 38.818, 0.448]), indexed=0.0),\n",
       " Row(label=1.0, pcaFeatures=DenseVector([-4.0321, 49.9904, 0.5747]), indexed=1.0),\n",
       " Row(label=1.0, pcaFeatures=DenseVector([-318.0186, 28.7948, 0.4904]), indexed=1.0),\n",
       " Row(label=1.0, pcaFeatures=DenseVector([-209.0192, 29.8345, -0.4438]), indexed=1.0),\n",
       " Row(label=0.0, pcaFeatures=DenseVector([-271.0295, 45.8194, -0.7824]), indexed=0.0),\n",
       " Row(label=0.0, pcaFeatures=DenseVector([-3196.0167, 24.9223, 0.2168]), indexed=0.0),\n",
       " Row(label=1.0, pcaFeatures=DenseVector([-4099.03, 45.3557, -0.5325]), indexed=1.0),\n",
       " Row(label=1.0, pcaFeatures=DenseVector([-2572.0162, 24.3184, -0.4958]), indexed=1.0),\n",
       " Row(label=0.0, pcaFeatures=DenseVector([-339.0231, 35.75, 0.9147]), indexed=0.0),\n",
       " Row(label=0.0, pcaFeatures=DenseVector([-0.027, 42.0064, -0.0722]), indexed=0.0),\n",
       " Row(label=0.0, pcaFeatures=DenseVector([-395.032, 49.7501, 0.0327]), indexed=0.0),\n",
       " Row(label=0.0, pcaFeatures=DenseVector([-2039.031, 47.6834, -0.7987]), indexed=0.0),\n",
       " Row(label=0.0, pcaFeatures=DenseVector([-5450.0278, 41.495, 0.4707]), indexed=0.0),\n",
       " Row(label=1.0, pcaFeatures=DenseVector([-780.0146, 22.4699, -0.4792]), indexed=1.0),\n",
       " Row(label=1.0, pcaFeatures=DenseVector([-0.0244, 37.9664, -0.4103]), indexed=1.0),\n",
       " Row(label=1.0, pcaFeatures=DenseVector([-8436.0188, 26.5521, 0.7731]), indexed=1.0),\n",
       " Row(label=1.0, pcaFeatures=DenseVector([-11262.0362, 52.7403, 0.2989]), indexed=1.0),\n",
       " Row(label=1.0, pcaFeatures=DenseVector([-946.0191, 29.3906, -0.8535]), indexed=1.0),\n",
       " Row(label=0.0, pcaFeatures=DenseVector([-497.0372, 57.6715, 0.5972]), indexed=0.0),\n",
       " Row(label=0.0, pcaFeatures=DenseVector([-55.0385, 59.9656, 0.0758]), indexed=0.0),\n",
       " Row(label=0.0, pcaFeatures=DenseVector([139.9756, 38.0856, -0.8063]), indexed=0.0),\n",
       " Row(label=0.0, pcaFeatures=DenseVector([378.9672, 51.2354, -0.7534]), indexed=0.0),\n",
       " Row(label=1.0, pcaFeatures=DenseVector([395.9729, 42.2489, -0.7871]), indexed=1.0),\n",
       " Row(label=1.0, pcaFeatures=DenseVector([-0.0193, 29.9687, -0.4405]), indexed=1.0),\n",
       " Row(label=0.0, pcaFeatures=DenseVector([-733.0255, 39.536, -0.0103]), indexed=0.0),\n",
       " Row(label=1.0, pcaFeatures=DenseVector([-393.0237, 36.7443, 0.5195]), indexed=1.0),\n",
       " Row(label=0.0, pcaFeatures=DenseVector([-7290.0325, 48.3168, 0.2386]), indexed=0.0),\n",
       " Row(label=0.0, pcaFeatures=DenseVector([-468.0172, 26.6691, -0.4592]), indexed=0.0),\n",
       " Row(label=1.0, pcaFeatures=DenseVector([-0.025, 38.9955, -0.8047]), indexed=1.0),\n",
       " Row(label=0.0, pcaFeatures=DenseVector([-3705.0243, 36.628, -0.0606]), indexed=0.0),\n",
       " Row(label=1.0, pcaFeatures=DenseVector([-9676.0359, 52.7774, 0.4576]), indexed=1.0),\n",
       " Row(label=1.0, pcaFeatures=DenseVector([-1328.0235, 36.1433, -0.833]), indexed=1.0),\n",
       " Row(label=0.0, pcaFeatures=DenseVector([-8.0263, 41.0012, 0.0048]), indexed=0.0),\n",
       " Row(label=0.0, pcaFeatures=DenseVector([-61.0289, 44.966, 0.0191]), indexed=0.0),\n",
       " Row(label=0.0, pcaFeatures=DenseVector([-6613.0295, 43.7473, 0.4639]), indexed=0.0),\n",
       " Row(label=0.0, pcaFeatures=DenseVector([-302.0308, 47.799, -0.7754]), indexed=0.0),\n",
       " Row(label=0.0, pcaFeatures=DenseVector([-1005.0203, 31.3522, -0.8468]), indexed=0.0),\n",
       " Row(label=0.0, pcaFeatures=DenseVector([-109.0225, 34.9266, -0.8215]), indexed=0.0),\n",
       " Row(label=1.0, pcaFeatures=DenseVector([-1240.021, 32.1723, 0.8893]), indexed=1.0),\n",
       " Row(label=0.0, pcaFeatures=DenseVector([-0.018, 27.9811, 0.2731]), indexed=0.0),\n",
       " Row(label=0.0, pcaFeatures=DenseVector([-2923.0405, 62.1163, -0.0373]), indexed=0.0),\n",
       " Row(label=0.0, pcaFeatures=DenseVector([-0.0225, 34.9966, -0.8198]), indexed=0.0),\n",
       " Row(label=1.0, pcaFeatures=DenseVector([-43.0212, 32.9696, -0.828]), indexed=1.0),\n",
       " Row(label=0.0, pcaFeatures=DenseVector([-288.0263, 40.81, -0.8016]), indexed=0.0),\n",
       " Row(label=0.0, pcaFeatures=DenseVector([-613.0217, 33.6033, -0.8331]), indexed=0.0),\n",
       " Row(label=0.0, pcaFeatures=DenseVector([-6101.0225, 33.0499, 0.8285]), indexed=0.0),\n",
       " Row(label=0.0, pcaFeatures=DenseVector([-168.0243, 37.8997, -0.0899]), indexed=0.0),\n",
       " Row(label=0.0, pcaFeatures=DenseVector([-7685.0235, 34.0724, -0.1228]), indexed=0.0),\n",
       " Row(label=0.0, pcaFeatures=DenseVector([-4515.0216, 32.0929, 0.7498]), indexed=0.0),\n",
       " Row(label=1.0, pcaFeatures=DenseVector([-517.0179, 27.6377, -0.537]), indexed=1.0),\n",
       " Row(label=0.0, pcaFeatures=DenseVector([-148.0173, 26.8746, -0.4542]), indexed=0.0),\n",
       " Row(label=0.0, pcaFeatures=DenseVector([284.9691, 48.1883, -0.0289]), indexed=0.0),\n",
       " Row(label=0.0, pcaFeatures=DenseVector([-887.0319, 49.4228, -0.777]), indexed=0.0),\n",
       " Row(label=0.0, pcaFeatures=DenseVector([-3098.0283, 43.0045, -0.8304]), indexed=0.0),\n",
       " Row(label=0.0, pcaFeatures=DenseVector([-744.0262, 40.5178, 0.5291]), indexed=0.0),\n",
       " Row(label=0.0, pcaFeatures=DenseVector([-130.025, 38.912, -0.8067]), indexed=0.0),\n",
       " Row(label=1.0, pcaFeatures=DenseVector([-438.0282, 43.7128, -0.7926]), indexed=1.0),\n",
       " Row(label=1.0, pcaFeatures=DenseVector([-0.0347, 53.9912, -0.748]), indexed=1.0),\n",
       " Row(label=0.0, pcaFeatures=DenseVector([-322.0314, 48.7865, 0.566]), indexed=0.0),\n",
       " Row(label=0.0, pcaFeatures=DenseVector([-186.0218, 33.8482, -0.4283]), indexed=0.0),\n",
       " Row(label=1.0, pcaFeatures=DenseVector([-3810.0474, 72.5341, 0.912]), indexed=1.0),\n",
       " Row(label=0.0, pcaFeatures=DenseVector([-0.027, 41.9952, 0.5445]), indexed=0.0),\n",
       " Row(label=0.0, pcaFeatures=DenseVector([-4380.0331, 50.1791, -0.8202]), indexed=0.0),\n",
       " Row(label=1.0, pcaFeatures=DenseVector([-755.0313, 48.5032, 0.8614]), indexed=1.0),\n",
       " Row(label=0.0, pcaFeatures=DenseVector([-2070.0195, 29.6393, -0.4691]), indexed=0.0),\n",
       " Row(label=0.0, pcaFeatures=DenseVector([-999.0287, 44.3344, 0.4026]), indexed=0.0),\n",
       " Row(label=0.0, pcaFeatures=DenseVector([-167.025, 38.8886, -0.8881]), indexed=0.0),\n",
       " Row(label=0.0, pcaFeatures=DenseVector([-1322.0292, 45.145, -0.8797]), indexed=0.0),\n",
       " Row(label=0.0, pcaFeatures=DenseVector([-1076.0267, 41.2984, -0.5079]), indexed=0.0),\n",
       " Row(label=1.0, pcaFeatures=DenseVector([-502.0237, 36.6744, 0.5178]), indexed=1.0),\n",
       " Row(label=0.0, pcaFeatures=DenseVector([-1216.0165, 25.1897, 0.8632]), indexed=0.0),\n",
       " Row(label=1.0, pcaFeatures=DenseVector([-876.0236, 36.4049, 0.9101]), indexed=1.0),\n",
       " Row(label=0.0, pcaFeatures=DenseVector([-342.023, 35.7474, -0.4232]), indexed=0.0),\n",
       " Row(label=0.0, pcaFeatures=DenseVector([-950.0184, 28.3705, 0.3429]), indexed=0.0),\n",
       " Row(label=0.0, pcaFeatures=DenseVector([-973.0229, 35.3834, -0.1101]), indexed=0.0),\n",
       " Row(label=0.0, pcaFeatures=DenseVector([-3825.0159, 23.5438, 0.4243]), indexed=0.0),\n",
       " Row(label=0.0, pcaFeatures=DenseVector([-2366.0201, 30.4783, -0.8681]), indexed=0.0),\n",
       " Row(label=0.0, pcaFeatures=DenseVector([-542.0256, 39.6478, 0.5285]), indexed=0.0),\n",
       " Row(label=0.0, pcaFeatures=DenseVector([-995.0338, 52.364, 0.0347]), indexed=0.0),\n",
       " Row(label=0.0, pcaFeatures=DenseVector([-20.0186, 28.9861, 0.4951]), indexed=0.0),\n",
       " Row(label=0.0, pcaFeatures=DenseVector([-228.0218, 33.8218, 0.9089]), indexed=0.0),\n",
       " Row(label=1.0, pcaFeatures=DenseVector([-130.0276, 42.9108, -0.7916]), indexed=1.0),\n",
       " Row(label=0.0, pcaFeatures=DenseVector([-217.0359, 55.8523, 0.5132]), indexed=0.0),\n",
       " Row(label=0.0, pcaFeatures=DenseVector([-0.0353, 54.9862, 0.8959]), indexed=0.0),\n",
       " Row(label=0.0, pcaFeatures=DenseVector([-259.0199, 30.8321, 0.4989]), indexed=0.0),\n",
       " Row(label=1.0, pcaFeatures=DenseVector([-619.0172, 26.5721, -0.4615]), indexed=1.0),\n",
       " Row(label=0.0, pcaFeatures=DenseVector([-644.023, 35.5828, -0.8261]), indexed=0.0),\n",
       " Row(label=0.0, pcaFeatures=DenseVector([-22.0283, 43.9805, 0.5518]), indexed=0.0),\n",
       " Row(label=0.0, pcaFeatures=DenseVector([-4303.0229, 34.2285, 0.7606]), indexed=0.0),\n",
       " Row(label=0.0, pcaFeatures=DenseVector([-239.0192, 29.8153, -0.4443]), indexed=0.0),\n",
       " Row(label=0.0, pcaFeatures=DenseVector([-275.0269, 41.7887, -0.3995]), indexed=0.0),\n",
       " Row(label=1.0, pcaFeatures=DenseVector([-1221.019, 29.2147, 0.4801]), indexed=1.0),\n",
       " Row(label=0.0, pcaFeatures=DenseVector([-816.0396, 61.4649, -0.7305]), indexed=0.0),\n",
       " Row(label=0.0, pcaFeatures=DenseVector([-1222.0152, 23.2151, -0.8805]), indexed=0.0),\n",
       " Row(label=0.0, pcaFeatures=DenseVector([-2363.0194, 29.4805, -0.8718]), indexed=0.0),\n",
       " Row(label=0.0, pcaFeatures=DenseVector([-2262.0419, 64.5359, 0.5999]), indexed=0.0),\n",
       " Row(label=0.0, pcaFeatures=DenseVector([-2.0302, 46.9919, -0.7745]), indexed=0.0),\n",
       " Row(label=0.0, pcaFeatures=DenseVector([-2.0251, 38.9948, 0.5332]), indexed=0.0),\n",
       " Row(label=1.0, pcaFeatures=DenseVector([-4508.0215, 32.102, -0.8902]), indexed=1.0),\n",
       " Row(label=0.0, pcaFeatures=DenseVector([401.9774, 35.2495, -0.5113]), indexed=0.0),\n",
       " Row(label=0.0, pcaFeatures=DenseVector([-1577.017, 25.9867, -0.9555]), indexed=0.0),\n",
       " Row(label=0.0, pcaFeatures=DenseVector([-34.0205, 31.9756, -0.8317]), indexed=0.0),\n",
       " Row(label=0.0, pcaFeatures=DenseVector([-795.0281, 43.4842, 0.5397]), indexed=0.0),\n",
       " Row(label=0.0, pcaFeatures=DenseVector([-117.0269, 41.9195, -0.7952]), indexed=0.0),\n",
       " Row(label=1.0, pcaFeatures=DenseVector([-5462.0207, 30.4611, 0.8271]), indexed=1.0),\n",
       " Row(label=0.0, pcaFeatures=DenseVector([-402.0159, 24.7124, -0.5465]), indexed=0.0),\n",
       " Row(label=0.0, pcaFeatures=DenseVector([-641.0256, 39.5543, -0.4127]), indexed=0.0),\n",
       " Row(label=1.0, pcaFeatures=DenseVector([-36.0276, 42.9666, 0.85]), indexed=1.0),\n",
       " Row(label=0.0, pcaFeatures=DenseVector([-383.0353, 54.7456, 0.5877]), indexed=0.0),\n",
       " Row(label=0.0, pcaFeatures=DenseVector([-283.032, 49.8106, -0.7675]), indexed=0.0),\n",
       " Row(label=0.0, pcaFeatures=DenseVector([-0.0289, 44.9891, 0.8581]), indexed=0.0),\n",
       " Row(label=0.0, pcaFeatures=DenseVector([-3102.0218, 32.9996, -0.566]), indexed=0.0),\n",
       " Row(label=1.0, pcaFeatures=DenseVector([-889.0204, 31.4267, -0.845]), indexed=1.0),\n",
       " Row(label=1.0, pcaFeatures=DenseVector([-0.0379, 58.9897, -0.7291]), indexed=1.0),\n",
       " Row(label=0.0, pcaFeatures=DenseVector([369.9781, 34.2345, -0.8178]), indexed=0.0),\n",
       " Row(label=0.0, pcaFeatures=DenseVector([605.9748, 39.3852, 0.5427]), indexed=0.0),\n",
       " Row(label=0.0, pcaFeatures=DenseVector([-10378.0235, 33.3022, -0.5649]), indexed=0.0),\n",
       " Row(label=0.0, pcaFeatures=DenseVector([-1313.0229, 35.1354, 0.3636]), indexed=0.0),\n",
       " Row(label=0.0, pcaFeatures=DenseVector([-8969.0238, 34.2369, 0.3968]), indexed=0.0),\n",
       " Row(label=0.0, pcaFeatures=DenseVector([195.9646, 55.1167, -0.7411]), indexed=0.0),\n",
       " Row(label=0.0, pcaFeatures=DenseVector([-15.0244, 37.9867, -0.7926]), indexed=0.0),\n",
       " Row(label=1.0, pcaFeatures=DenseVector([-4608.0382, 58.0304, -0.7935]), indexed=1.0),\n",
       " Row(label=0.0, pcaFeatures=DenseVector([-666.0262, 40.5679, 0.5303]), indexed=0.0),\n",
       " Row(label=0.0, pcaFeatures=DenseVector([-452.0365, 56.7115, 0.0583]), indexed=0.0),\n",
       " Row(label=0.0, pcaFeatures=DenseVector([-149.0308, 47.8972, -0.773]), indexed=0.0),\n",
       " Row(label=1.0, pcaFeatures=DenseVector([-7802.0479, 71.9756, 0.5549]), indexed=1.0),\n",
       " Row(label=0.0, pcaFeatures=DenseVector([-1453.0222, 34.0637, -0.8425]), indexed=0.0),\n",
       " Row(label=0.0, pcaFeatures=DenseVector([-1480.0344, 53.0409, -0.7711]), indexed=0.0),\n",
       " Row(label=0.0, pcaFeatures=DenseVector([-715.0236, 36.5125, 0.2934]), indexed=0.0),\n",
       " Row(label=0.0, pcaFeatures=DenseVector([-237.0359, 55.8091, -0.346]), indexed=0.0),\n",
       " Row(label=1.0, pcaFeatures=DenseVector([-694.0255, 39.5496, -0.8117]), indexed=1.0),\n",
       " Row(label=0.0, pcaFeatures=DenseVector([-0.0257, 39.9958, 0.537]), indexed=0.0),\n",
       " Row(label=0.0, pcaFeatures=DenseVector([-55.0347, 53.9565, 0.589]), indexed=0.0),\n",
       " Row(label=0.0, pcaFeatures=DenseVector([-136.0353, 54.915, 0.0557]), indexed=0.0),\n",
       " Row(label=0.0, pcaFeatures=DenseVector([403.9646, 55.2456, -0.4195]), indexed=0.0),\n",
       " Row(label=0.0, pcaFeatures=DenseVector([-779.0332, 51.503, 0.0343]), indexed=0.0),\n",
       " Row(label=0.0, pcaFeatures=DenseVector([-1187.0351, 54.2108, 0.4374]), indexed=0.0),\n",
       " Row(label=0.0, pcaFeatures=DenseVector([-641.0211, 32.5863, 0.5005]), indexed=0.0),\n",
       " Row(label=0.0, pcaFeatures=DenseVector([-826.0332, 51.4662, -0.0498]), indexed=0.0),\n",
       " Row(label=0.0, pcaFeatures=DenseVector([-991.021, 32.3556, -0.5406]), indexed=0.0),\n",
       " Row(label=1.0, pcaFeatures=DenseVector([-1796.0337, 51.8382, -0.7798]), indexed=1.0),\n",
       " Row(label=1.0, pcaFeatures=DenseVector([-22.0295, 45.9793, -0.7786]), indexed=1.0),\n",
       " Row(label=1.0, pcaFeatures=DenseVector([-244.0282, 43.808, -0.3914]), indexed=1.0),\n",
       " Row(label=0.0, pcaFeatures=DenseVector([-1328.0306, 47.1356, 0.8487]), indexed=0.0),\n",
       " Row(label=1.0, pcaFeatures=DenseVector([-7317.0306, 45.2941, -0.8774]), indexed=1.0),\n",
       " Row(label=0.0, pcaFeatures=DenseVector([-4943.0208, 30.7941, -0.5835]), indexed=0.0),\n",
       " Row(label=0.0, pcaFeatures=DenseVector([-258.0243, 37.8011, -0.4952]), indexed=0.0),\n",
       " Row(label=0.0, pcaFeatures=DenseVector([-515.0269, 41.6352, 0.9346]), indexed=0.0),\n",
       " Row(label=1.0, pcaFeatures=DenseVector([-12607.018, 23.8739, 0.7079]), indexed=1.0),\n",
       " Row(label=0.0, pcaFeatures=DenseVector([-2.0372, 57.9891, -0.8137]), indexed=0.0),\n",
       " Row(label=0.0, pcaFeatures=DenseVector([-13.0199, 30.9901, 0.5028]), indexed=0.0),\n",
       " Row(label=1.0, pcaFeatures=DenseVector([-103.0122, 18.9172, 0.3183]), indexed=1.0),\n",
       " Row(label=0.0, pcaFeatures=DenseVector([-3872.0255, 38.5093, 0.4803]), indexed=0.0),\n",
       " Row(label=0.0, pcaFeatures=DenseVector([-296.0198, 30.8077, -0.8395]), indexed=0.0),\n",
       " Row(label=0.0, pcaFeatures=DenseVector([-217.0333, 51.8349, 0.3604]), indexed=0.0),\n",
       " Row(label=0.0, pcaFeatures=DenseVector([-360.0269, 41.7588, 0.8411]), indexed=0.0),\n",
       " Row(label=0.0, pcaFeatures=DenseVector([-428.0262, 40.6908, -0.4056]), indexed=0.0),\n",
       " Row(label=1.0, pcaFeatures=DenseVector([-315.0192, 29.7665, -0.4454]), indexed=1.0),\n",
       " Row(label=1.0, pcaFeatures=DenseVector([-121.0244, 37.9184, -0.8912]), indexed=1.0),\n",
       " Row(label=0.0, pcaFeatures=DenseVector([-820.0204, 31.4716, 0.4939]), indexed=0.0),\n",
       " Row(label=1.0, pcaFeatures=DenseVector([-195.0334, 51.8665, -0.7586]), indexed=1.0),\n",
       " Row(label=0.0, pcaFeatures=DenseVector([-108.0308, 47.9189, 0.8678]), indexed=0.0),\n",
       " Row(label=0.0, pcaFeatures=DenseVector([380.9768, 36.2416, 0.5278]), indexed=0.0),\n",
       " Row(label=1.0, pcaFeatures=DenseVector([-757.0287, 44.5139, 0.3104]), indexed=1.0),\n",
       " Row(label=0.0, pcaFeatures=DenseVector([-691.0217, 33.5542, 0.4227]), indexed=0.0),\n",
       " Row(label=1.0, pcaFeatures=DenseVector([-1925.0227, 34.7718, -0.0441]), indexed=1.0),\n",
       " Row(label=1.0, pcaFeatures=DenseVector([-902.0217, 33.4184, 0.5002]), indexed=1.0),\n",
       " Row(label=1.0, pcaFeatures=DenseVector([-5207.0381, 57.6457, -0.8029]), indexed=1.0),\n",
       " Row(label=0.0, pcaFeatures=DenseVector([-0.0347, 53.9912, -0.748]), indexed=0.0),\n",
       " Row(label=0.0, pcaFeatures=DenseVector([-665.032, 49.5653, -0.7735]), indexed=0.0),\n",
       " Row(label=1.0, pcaFeatures=DenseVector([-738.0275, 42.5152, -0.4988]), indexed=1.0),\n",
       " Row(label=0.0, pcaFeatures=DenseVector([-233.0301, 46.855, 0.0239]), indexed=0.0),\n",
       " Row(label=0.0, pcaFeatures=DenseVector([838.9709, 45.5325, -0.7689]), indexed=0.0),\n",
       " Row(label=0.0, pcaFeatures=DenseVector([-5799.0354, 53.2782, -0.0253]), indexed=0.0),\n",
       " Row(label=0.0, pcaFeatures=DenseVector([-1033.0171, 26.3356, -0.8662]), indexed=0.0),\n",
       " Row(label=0.0, pcaFeatures=DenseVector([-66.0315, 48.945, -0.4657]), indexed=0.0),\n",
       " Row(label=1.0, pcaFeatures=DenseVector([-2567.0271, 41.3575, -0.0277]), indexed=1.0),\n",
       " Row(label=0.0, pcaFeatures=DenseVector([-1584.0254, 38.9787, 0.5122]), indexed=0.0),\n",
       " Row(label=0.0, pcaFeatures=DenseVector([-182.0205, 31.8513, -0.4358]), indexed=0.0),\n",
       " Row(label=0.0, pcaFeatures=DenseVector([-76.0372, 57.9527, 0.068]), indexed=0.0),\n",
       " Row(label=0.0, pcaFeatures=DenseVector([-663.0217, 33.5419, -0.4358]), indexed=0.0),\n",
       " Row(label=0.0, pcaFeatures=DenseVector([-3455.0288, 43.7698, -0.53]), indexed=0.0),\n",
       " Row(label=0.0, pcaFeatures=DenseVector([-15.0186, 28.9887, -0.8427]), indexed=0.0),\n",
       " Row(label=0.0, pcaFeatures=DenseVector([-1054.0332, 51.3264, 0.03]), indexed=0.0),\n",
       " Row(label=0.0, pcaFeatures=DenseVector([-1529.0286, 44.0126, 0.532]), indexed=0.0),\n",
       " Row(label=0.0, pcaFeatures=DenseVector([-63.0167, 25.9294, -0.4566]), indexed=0.0),\n",
       " Row(label=0.0, pcaFeatures=DenseVector([-0.0257, 39.9958, 0.537]), indexed=0.0),\n",
       " Row(label=0.0, pcaFeatures=DenseVector([-920.0261, 40.4045, -0.8923]), indexed=0.0),\n",
       " Row(label=1.0, pcaFeatures=DenseVector([-3696.0294, 44.5907, -0.434]), indexed=1.0)]"
      ]
     },
     "execution_count": 235,
     "metadata": {},
     "output_type": "execute_result"
    }
   ],
   "source": [
    "# Indexação é pré-requisito para Decision Trees\n",
    "stringIndexer = StringIndexer(inputCol = \"label\", outputCol = \"indexed\")\n",
    "si_model = stringIndexer.fit(pcaResult)\n",
    "obj_final = si_model.transform(pcaResult)\n",
    "obj_final.collect()"
   ]
  },
  {
   "cell_type": "code",
   "execution_count": 236,
   "id": "65f7168c",
   "metadata": {},
   "outputs": [],
   "source": [
    "# Dados de Treino e de Teste\n",
    "(dados_treino, dados_teste) = obj_final.randomSplit([0.7, 0.3])"
   ]
  },
  {
   "cell_type": "code",
   "execution_count": 237,
   "id": "e6ba4ca8",
   "metadata": {},
   "outputs": [
    {
     "data": {
      "text/plain": [
       "381"
      ]
     },
     "execution_count": 237,
     "metadata": {},
     "output_type": "execute_result"
    }
   ],
   "source": [
    "dados_treino.count()"
   ]
  },
  {
   "cell_type": "code",
   "execution_count": 238,
   "id": "75e81d1b",
   "metadata": {},
   "outputs": [
    {
     "data": {
      "text/plain": [
       "160"
      ]
     },
     "execution_count": 238,
     "metadata": {},
     "output_type": "execute_result"
    }
   ],
   "source": [
    "dados_teste.count()"
   ]
  },
  {
   "cell_type": "code",
   "execution_count": 239,
   "id": "d6626da3",
   "metadata": {},
   "outputs": [],
   "source": [
    "# Criando o modelo\n",
    "rfClassifer = RandomForestClassifier(labelCol = \"indexed\", featuresCol = \"pcaFeatures\")\n",
    "modelo = rfClassifer.fit(dados_treino)"
   ]
  },
  {
   "cell_type": "code",
   "execution_count": 240,
   "id": "a017daec",
   "metadata": {},
   "outputs": [
    {
     "data": {
      "text/plain": [
       "[Row(prediction=0.0, indexed=0.0, label=0.0, pcaFeatures=DenseVector([-14093.0337, 47.9412, -0.9569])),\n",
       " Row(prediction=0.0, indexed=0.0, label=0.0, pcaFeatures=DenseVector([-9009.0251, 36.2106, 0.4038])),\n",
       " Row(prediction=0.0, indexed=0.0, label=0.0, pcaFeatures=DenseVector([-7082.0351, 52.4544, -0.0453])),\n",
       " Row(prediction=0.0, indexed=0.0, label=0.0, pcaFeatures=DenseVector([-5887.0296, 44.2135, 0.4752])),\n",
       " Row(prediction=0.0, indexed=0.0, label=0.0, pcaFeatures=DenseVector([-3571.025, 37.7029, 0.4812])),\n",
       " Row(prediction=1.0, indexed=0.0, label=0.0, pcaFeatures=DenseVector([-3096.0186, 27.9808, -0.4889])),\n",
       " Row(prediction=0.0, indexed=0.0, label=0.0, pcaFeatures=DenseVector([-2693.02, 30.2683, -0.8732])),\n",
       " Row(prediction=0.0, indexed=0.0, label=0.0, pcaFeatures=DenseVector([-2349.0201, 30.4898, 0.47])),\n",
       " Row(prediction=0.0, indexed=0.0, label=0.0, pcaFeatures=DenseVector([-1808.0189, 28.8371, -0.8669])),\n",
       " Row(prediction=0.0, indexed=0.0, label=0.0, pcaFeatures=DenseVector([-1691.0343, 52.9168, 0.0276])),\n",
       " Row(prediction=0.0, indexed=0.0, label=0.0, pcaFeatures=DenseVector([-1641.0215, 32.9432, -0.8492])),\n",
       " Row(prediction=0.0, indexed=0.0, label=0.0, pcaFeatures=DenseVector([-1526.0305, 47.013, -0.7945])),\n",
       " Row(prediction=0.0, indexed=0.0, label=0.0, pcaFeatures=DenseVector([-1410.0286, 44.0884, -0.804])),\n",
       " Row(prediction=0.0, indexed=0.0, label=0.0, pcaFeatures=DenseVector([-1355.0305, 47.1228, -0.7918])),\n",
       " Row(prediction=0.0, indexed=0.0, label=0.0, pcaFeatures=DenseVector([-1152.0306, 47.2532, -0.7887])),\n",
       " Row(prediction=0.0, indexed=0.0, label=0.0, pcaFeatures=DenseVector([-1109.0229, 35.2849, 0.5045])),\n",
       " Row(prediction=0.0, indexed=0.0, label=0.0, pcaFeatures=DenseVector([-1031.0203, 31.3355, -0.8472])),\n",
       " Row(prediction=0.0, indexed=0.0, label=0.0, pcaFeatures=DenseVector([-948.0204, 31.3842, 0.7942])),\n",
       " Row(prediction=0.0, indexed=0.0, label=0.0, pcaFeatures=DenseVector([-784.0358, 55.4875, -0.8335])),\n",
       " Row(prediction=0.0, indexed=0.0, label=0.0, pcaFeatures=DenseVector([-624.0339, 52.5918, 0.4955])),\n",
       " Row(prediction=0.0, indexed=0.0, label=0.0, pcaFeatures=DenseVector([-606.032, 49.6032, -0.7726])),\n",
       " Row(prediction=1.0, indexed=0.0, label=0.0, pcaFeatures=DenseVector([-543.0166, 25.6512, 0.4756])),\n",
       " Row(prediction=0.0, indexed=0.0, label=0.0, pcaFeatures=DenseVector([-484.0269, 41.6845, 0.537])),\n",
       " Row(prediction=0.0, indexed=0.0, label=0.0, pcaFeatures=DenseVector([-444.0185, 28.7133, -0.8494])),\n",
       " Row(prediction=0.0, indexed=0.0, label=0.0, pcaFeatures=DenseVector([-427.0236, 36.7222, -0.8997])),\n",
       " Row(prediction=0.0, indexed=0.0, label=0.0, pcaFeatures=DenseVector([-415.0217, 33.7314, 0.427])),\n",
       " Row(prediction=0.0, indexed=0.0, label=0.0, pcaFeatures=DenseVector([-400.0314, 48.7358, -0.7731])),\n",
       " Row(prediction=0.0, indexed=0.0, label=0.0, pcaFeatures=DenseVector([-365.0314, 48.7697, 0.0294])),\n",
       " Row(prediction=0.0, indexed=0.0, label=0.0, pcaFeatures=DenseVector([-344.0359, 55.7697, -0.7458])),\n",
       " Row(prediction=0.0, indexed=0.0, label=0.0, pcaFeatures=DenseVector([-323.0269, 41.7876, -0.8792])),\n",
       " Row(prediction=0.0, indexed=0.0, label=0.0, pcaFeatures=DenseVector([-264.0276, 42.8248, -0.7937])),\n",
       " Row(prediction=0.0, indexed=0.0, label=0.0, pcaFeatures=DenseVector([-222.0295, 45.8624, 0.0203])),\n",
       " Row(prediction=0.0, indexed=0.0, label=0.0, pcaFeatures=DenseVector([-209.0346, 53.8573, -0.8321])),\n",
       " Row(prediction=0.0, indexed=0.0, label=0.0, pcaFeatures=DenseVector([-206.0366, 56.8629, -0.0213])),\n",
       " Row(prediction=0.0, indexed=0.0, label=0.0, pcaFeatures=DenseVector([-194.0256, 39.8716, 0.4531])),\n",
       " Row(prediction=0.0, indexed=0.0, label=0.0, pcaFeatures=DenseVector([-147.025, 38.9011, -0.807])),\n",
       " Row(prediction=0.0, indexed=0.0, label=0.0, pcaFeatures=DenseVector([-111.025, 38.9357, -0.0044])),\n",
       " Row(prediction=0.0, indexed=0.0, label=0.0, pcaFeatures=DenseVector([-82.0366, 56.938, -0.8188])),\n",
       " Row(prediction=0.0, indexed=0.0, label=0.0, pcaFeatures=DenseVector([-20.0308, 47.9754, -0.4526])),\n",
       " Row(prediction=0.0, indexed=0.0, label=0.0, pcaFeatures=DenseVector([-20.0218, 33.9847, 0.514])),\n",
       " Row(prediction=0.0, indexed=0.0, label=0.0, pcaFeatures=DenseVector([-16.027, 41.9797, 0.8465])),\n",
       " Row(prediction=0.0, indexed=0.0, label=0.0, pcaFeatures=DenseVector([-0.0379, 58.9897, -0.7291])),\n",
       " Row(prediction=0.0, indexed=0.0, label=0.0, pcaFeatures=DenseVector([-0.0231, 35.9963, -0.816])),\n",
       " Row(prediction=0.0, indexed=0.0, label=0.0, pcaFeatures=DenseVector([-0.0167, 26.0107, -0.0518])),\n",
       " Row(prediction=0.0, indexed=0.0, label=0.0, pcaFeatures=DenseVector([230.9769, 36.145, -0.8932])),\n",
       " Row(prediction=0.0, indexed=0.0, label=0.0, pcaFeatures=DenseVector([515.9736, 41.3381, -0.0679])),\n",
       " Row(prediction=1.0, indexed=1.0, label=1.0, pcaFeatures=DenseVector([-11971.0219, 30.2805, 0.7405])),\n",
       " Row(prediction=1.0, indexed=1.0, label=1.0, pcaFeatures=DenseVector([-6248.0186, 26.9573, 0.8035])),\n",
       " Row(prediction=1.0, indexed=1.0, label=1.0, pcaFeatures=DenseVector([-5563.0162, 23.3976, -0.5388])),\n",
       " Row(prediction=1.0, indexed=1.0, label=1.0, pcaFeatures=DenseVector([-4789.0202, 29.9226, -0.983])),\n",
       " Row(prediction=1.0, indexed=1.0, label=1.0, pcaFeatures=DenseVector([-4659.0485, 73.9884, 0.9062])),\n",
       " Row(prediction=0.0, indexed=1.0, label=1.0, pcaFeatures=DenseVector([-4629.0382, 58.0217, -0.0753])),\n",
       " Row(prediction=0.0, indexed=1.0, label=1.0, pcaFeatures=DenseVector([-3777.0358, 54.5472, 0.4045])),\n",
       " Row(prediction=1.0, indexed=1.0, label=1.0, pcaFeatures=DenseVector([-3616.0198, 29.647, 0.8484])),\n",
       " Row(prediction=0.0, indexed=1.0, label=1.0, pcaFeatures=DenseVector([-3401.0365, 55.8177, 0.016])),\n",
       " Row(prediction=1.0, indexed=1.0, label=1.0, pcaFeatures=DenseVector([-2104.0195, 29.6175, -0.4696])),\n",
       " Row(prediction=0.0, indexed=1.0, label=1.0, pcaFeatures=DenseVector([-1539.0215, 33.0094, 0.4903])),\n",
       " Row(prediction=0.0, indexed=1.0, label=1.0, pcaFeatures=DenseVector([-1476.019, 29.0513, 0.3953])),\n",
       " Row(prediction=0.0, indexed=1.0, label=1.0, pcaFeatures=DenseVector([-1235.0312, 48.2002, 0.5517])),\n",
       " Row(prediction=1.0, indexed=1.0, label=1.0, pcaFeatures=DenseVector([-992.0216, 33.3313, 0.897])),\n",
       " Row(prediction=0.0, indexed=1.0, label=1.0, pcaFeatures=DenseVector([-975.0191, 29.372, -0.8539])),\n",
       " Row(prediction=0.0, indexed=1.0, label=1.0, pcaFeatures=DenseVector([-883.0371, 57.4237, 0.5912])),\n",
       " Row(prediction=0.0, indexed=1.0, label=1.0, pcaFeatures=DenseVector([-879.0261, 40.4015, -0.4935])),\n",
       " Row(prediction=0.0, indexed=1.0, label=1.0, pcaFeatures=DenseVector([-844.0287, 44.458, 0.3091])),\n",
       " Row(prediction=0.0, indexed=1.0, label=1.0, pcaFeatures=DenseVector([-696.0429, 66.5454, 0.0089])),\n",
       " Row(prediction=0.0, indexed=1.0, label=1.0, pcaFeatures=DenseVector([-591.0255, 39.5867, -0.4928])),\n",
       " Row(prediction=0.0, indexed=1.0, label=1.0, pcaFeatures=DenseVector([-524.0217, 33.6311, -0.4336])),\n",
       " Row(prediction=0.0, indexed=1.0, label=1.0, pcaFeatures=DenseVector([-442.023, 35.6842, 0.8323])),\n",
       " Row(prediction=1.0, indexed=1.0, label=1.0, pcaFeatures=DenseVector([-406.0205, 31.7075, -0.4393])),\n",
       " Row(prediction=0.0, indexed=1.0, label=1.0, pcaFeatures=DenseVector([-391.0237, 36.7205, 0.2984])),\n",
       " Row(prediction=0.0, indexed=1.0, label=1.0, pcaFeatures=DenseVector([-372.0269, 41.7564, 0.5387])),\n",
       " Row(prediction=1.0, indexed=1.0, label=1.0, pcaFeatures=DenseVector([-363.0147, 22.7383, 0.8652])),\n",
       " Row(prediction=0.0, indexed=1.0, label=1.0, pcaFeatures=DenseVector([-293.0224, 34.7906, 0.3758])),\n",
       " Row(prediction=0.0, indexed=1.0, label=1.0, pcaFeatures=DenseVector([-203.0327, 50.8564, -0.4602])),\n",
       " Row(prediction=1.0, indexed=1.0, label=1.0, pcaFeatures=DenseVector([-177.0179, 27.856, -0.5317])),\n",
       " Row(prediction=0.0, indexed=1.0, label=1.0, pcaFeatures=DenseVector([-174.0263, 40.8779, -0.4976])),\n",
       " Row(prediction=1.0, indexed=1.0, label=1.0, pcaFeatures=DenseVector([-172.0179, 27.8599, 0.8062])),\n",
       " Row(prediction=1.0, indexed=1.0, label=1.0, pcaFeatures=DenseVector([-119.0154, 23.894, -0.4651])),\n",
       " Row(prediction=1.0, indexed=1.0, label=1.0, pcaFeatures=DenseVector([-50.0244, 37.9343, -0.4111])),\n",
       " Row(prediction=1.0, indexed=1.0, label=1.0, pcaFeatures=DenseVector([-37.0238, 36.9436, 0.9232])),\n",
       " Row(prediction=0.0, indexed=1.0, label=1.0, pcaFeatures=DenseVector([-33.0282, 43.9435, -0.3881])),\n",
       " Row(prediction=0.0, indexed=1.0, label=1.0, pcaFeatures=DenseVector([-0.0276, 42.9947, -0.8704])),\n",
       " Row(prediction=0.0, indexed=1.0, label=1.0, pcaFeatures=DenseVector([-0.0238, 36.9967, 0.5256])),\n",
       " Row(prediction=1.0, indexed=1.0, label=1.0, pcaFeatures=DenseVector([-0.0212, 32.9685, 0.9087])),\n",
       " Row(prediction=1.0, indexed=1.0, label=1.0, pcaFeatures=DenseVector([-0.0206, 31.9688, 0.9049])),\n",
       " Row(prediction=0.0, indexed=1.0, label=1.0, pcaFeatures=DenseVector([87.9724, 43.0627, -0.067])),\n",
       " Row(prediction=0.0, indexed=1.0, label=1.0, pcaFeatures=DenseVector([969.9664, 52.6152, 0.5975])),\n",
       " Row(prediction=0.0, indexed=0.0, label=0.0, pcaFeatures=DenseVector([-12186.027, 38.1689, -0.9686])),\n",
       " Row(prediction=0.0, indexed=0.0, label=0.0, pcaFeatures=DenseVector([-5799.0354, 53.2782, -0.0253])),\n",
       " Row(prediction=0.0, indexed=0.0, label=0.0, pcaFeatures=DenseVector([-5450.0278, 41.495, 0.4707])),\n",
       " Row(prediction=0.0, indexed=0.0, label=0.0, pcaFeatures=DenseVector([-4380.0331, 50.1791, -0.8202])),\n",
       " Row(prediction=0.0, indexed=0.0, label=0.0, pcaFeatures=DenseVector([-4286.0216, 32.2452, 0.4511])),\n",
       " Row(prediction=0.0, indexed=0.0, label=0.0, pcaFeatures=DenseVector([-3705.0243, 36.628, -0.0606])),\n",
       " Row(prediction=0.0, indexed=0.0, label=0.0, pcaFeatures=DenseVector([-3455.0288, 43.7698, -0.53])),\n",
       " Row(prediction=0.0, indexed=0.0, label=0.0, pcaFeatures=DenseVector([-2262.0419, 64.5359, 0.5999])),\n",
       " Row(prediction=0.0, indexed=0.0, label=0.0, pcaFeatures=DenseVector([-1660.0196, 29.9319, -0.8608])),\n",
       " Row(prediction=0.0, indexed=0.0, label=0.0, pcaFeatures=DenseVector([-1480.0344, 53.0409, -0.7711])),\n",
       " Row(prediction=0.0, indexed=0.0, label=0.0, pcaFeatures=DenseVector([-1313.0229, 35.1354, 0.3636])),\n",
       " Row(prediction=0.0, indexed=0.0, label=0.0, pcaFeatures=DenseVector([-1076.0267, 41.2984, -0.5079])),\n",
       " Row(prediction=0.0, indexed=0.0, label=0.0, pcaFeatures=DenseVector([-1060.03, 46.3125, -0.791])),\n",
       " Row(prediction=0.0, indexed=0.0, label=0.0, pcaFeatures=DenseVector([-995.0338, 52.364, 0.0347])),\n",
       " Row(prediction=0.0, indexed=0.0, label=0.0, pcaFeatures=DenseVector([-973.0229, 35.3834, -0.1101])),\n",
       " Row(prediction=0.0, indexed=0.0, label=0.0, pcaFeatures=DenseVector([-887.0319, 49.4228, -0.777])),\n",
       " Row(prediction=0.0, indexed=0.0, label=0.0, pcaFeatures=DenseVector([-816.0396, 61.4649, -0.7305])),\n",
       " Row(prediction=0.0, indexed=0.0, label=0.0, pcaFeatures=DenseVector([-779.0332, 51.503, 0.0343])),\n",
       " Row(prediction=0.0, indexed=0.0, label=0.0, pcaFeatures=DenseVector([-691.0217, 33.5542, 0.4227])),\n",
       " Row(prediction=0.0, indexed=0.0, label=0.0, pcaFeatures=DenseVector([-641.0256, 39.5543, -0.4127])),\n",
       " Row(prediction=0.0, indexed=0.0, label=0.0, pcaFeatures=DenseVector([-605.0243, 37.6079, 0.52])),\n",
       " Row(prediction=0.0, indexed=0.0, label=0.0, pcaFeatures=DenseVector([-452.0365, 56.7115, 0.0583])),\n",
       " Row(prediction=1.0, indexed=0.0, label=0.0, pcaFeatures=DenseVector([-451.0185, 28.7094, 0.4884])),\n",
       " Row(prediction=1.0, indexed=0.0, label=0.0, pcaFeatures=DenseVector([-402.0159, 24.7124, -0.5465])),\n",
       " Row(prediction=0.0, indexed=0.0, label=0.0, pcaFeatures=DenseVector([-288.0263, 40.81, -0.8016])),\n",
       " Row(prediction=0.0, indexed=0.0, label=0.0, pcaFeatures=DenseVector([-283.032, 49.8106, -0.7675])),\n",
       " Row(prediction=0.0, indexed=0.0, label=0.0, pcaFeatures=DenseVector([-278.025, 38.818, 0.448])),\n",
       " Row(prediction=0.0, indexed=0.0, label=0.0, pcaFeatures=DenseVector([-276.032, 49.8269, -0.0462])),\n",
       " Row(prediction=0.0, indexed=0.0, label=0.0, pcaFeatures=DenseVector([-271.0295, 45.8194, -0.7824])),\n",
       " Row(prediction=1.0, indexed=0.0, label=0.0, pcaFeatures=DenseVector([-239.0192, 29.8153, -0.4443])),\n",
       " Row(prediction=0.0, indexed=0.0, label=0.0, pcaFeatures=DenseVector([-217.0359, 55.8523, 0.5132])),\n",
       " Row(prediction=0.0, indexed=0.0, label=0.0, pcaFeatures=DenseVector([-149.0308, 47.8972, -0.773])),\n",
       " Row(prediction=0.0, indexed=0.0, label=0.0, pcaFeatures=DenseVector([-136.0353, 54.915, 0.0557])),\n",
       " Row(prediction=0.0, indexed=0.0, label=0.0, pcaFeatures=DenseVector([-109.0225, 34.9266, -0.8215])),\n",
       " Row(prediction=0.0, indexed=0.0, label=0.0, pcaFeatures=DenseVector([-108.0308, 47.9189, 0.8678])),\n",
       " Row(prediction=0.0, indexed=0.0, label=0.0, pcaFeatures=DenseVector([-76.0372, 57.9527, 0.068])),\n",
       " Row(prediction=1.0, indexed=0.0, label=0.0, pcaFeatures=DenseVector([-63.0167, 25.9294, -0.4566])),\n",
       " Row(prediction=0.0, indexed=0.0, label=0.0, pcaFeatures=DenseVector([-55.0385, 59.9656, 0.0758])),\n",
       " Row(prediction=0.0, indexed=0.0, label=0.0, pcaFeatures=DenseVector([-32.0225, 34.9773, 0.5337])),\n",
       " Row(prediction=1.0, indexed=0.0, label=0.0, pcaFeatures=DenseVector([-20.0186, 28.9861, 0.4951])),\n",
       " Row(prediction=0.0, indexed=0.0, label=0.0, pcaFeatures=DenseVector([-15.0244, 37.9867, -0.7926])),\n",
       " Row(prediction=0.0, indexed=0.0, label=0.0, pcaFeatures=DenseVector([-4.0218, 33.9943, -0.8236])),\n",
       " Row(prediction=0.0, indexed=0.0, label=0.0, pcaFeatures=DenseVector([-2.0276, 42.994, 0.4674])),\n",
       " Row(prediction=0.0, indexed=0.0, label=0.0, pcaFeatures=DenseVector([-0.027, 42.0064, -0.0722])),\n",
       " Row(prediction=0.0, indexed=0.0, label=0.0, pcaFeatures=DenseVector([-0.0257, 39.9958, 0.537])),\n",
       " Row(prediction=0.0, indexed=0.0, label=0.0, pcaFeatures=DenseVector([-0.018, 27.9811, 0.2731])),\n",
       " Row(prediction=0.0, indexed=0.0, label=0.0, pcaFeatures=DenseVector([139.9756, 38.0856, -0.8063])),\n",
       " Row(prediction=0.0, indexed=0.0, label=0.0, pcaFeatures=DenseVector([380.9768, 36.2416, 0.5278])),\n",
       " Row(prediction=1.0, indexed=0.0, label=0.0, pcaFeatures=DenseVector([401.9774, 35.2495, -0.5113])),\n",
       " Row(prediction=1.0, indexed=1.0, label=1.0, pcaFeatures=DenseVector([-11219.0202, 27.7936, 0.3428])),\n",
       " Row(prediction=1.0, indexed=1.0, label=1.0, pcaFeatures=DenseVector([-8436.0188, 26.5521, 0.7731])),\n",
       " Row(prediction=0.0, indexed=1.0, label=1.0, pcaFeatures=DenseVector([-4099.03, 45.3557, -0.5325])),\n",
       " Row(prediction=1.0, indexed=1.0, label=1.0, pcaFeatures=DenseVector([-3950.0255, 38.4299, 0.8772])),\n",
       " Row(prediction=0.0, indexed=1.0, label=1.0, pcaFeatures=DenseVector([-3561.023, 34.6802, -0.4697])),\n",
       " Row(prediction=1.0, indexed=1.0, label=1.0, pcaFeatures=DenseVector([-1064.0165, 25.2867, -0.4723])),\n",
       " Row(prediction=0.0, indexed=1.0, label=1.0, pcaFeatures=DenseVector([-978.0223, 34.3686, -0.8351])),\n",
       " Row(prediction=0.0, indexed=1.0, label=1.0, pcaFeatures=DenseVector([-946.0191, 29.3906, -0.8535])),\n",
       " Row(prediction=0.0, indexed=1.0, label=1.0, pcaFeatures=DenseVector([-889.0204, 31.4267, -0.845])),\n",
       " Row(prediction=0.0, indexed=1.0, label=1.0, pcaFeatures=DenseVector([-738.0275, 42.5152, -0.4988])),\n",
       " Row(prediction=0.0, indexed=1.0, label=1.0, pcaFeatures=DenseVector([-687.0313, 48.5515, -0.7776])),\n",
       " Row(prediction=1.0, indexed=1.0, label=1.0, pcaFeatures=DenseVector([-619.0172, 26.5721, -0.4615])),\n",
       " Row(prediction=1.0, indexed=1.0, label=1.0, pcaFeatures=DenseVector([-517.0179, 27.6377, -0.537])),\n",
       " Row(prediction=0.0, indexed=1.0, label=1.0, pcaFeatures=DenseVector([-228.0205, 31.8625, -0.0327])),\n",
       " Row(prediction=0.0, indexed=1.0, label=1.0, pcaFeatures=DenseVector([-195.0334, 51.8665, -0.7586])),\n",
       " Row(prediction=1.0, indexed=1.0, label=1.0, pcaFeatures=DenseVector([-179.0385, 59.8462, 0.9271])),\n",
       " Row(prediction=0.0, indexed=1.0, label=1.0, pcaFeatures=DenseVector([-130.0276, 42.9108, -0.7916])),\n",
       " Row(prediction=0.0, indexed=1.0, label=1.0, pcaFeatures=DenseVector([-36.0276, 42.9666, 0.85])),\n",
       " Row(prediction=0.0, indexed=1.0, label=1.0, pcaFeatures=DenseVector([-22.0295, 45.9793, -0.7786])),\n",
       " Row(prediction=0.0, indexed=1.0, label=1.0, pcaFeatures=DenseVector([-4.0321, 49.9904, 0.5747])),\n",
       " Row(prediction=1.0, indexed=1.0, label=1.0, pcaFeatures=DenseVector([-0.0385, 59.9611, 0.9299])),\n",
       " Row(prediction=0.0, indexed=1.0, label=1.0, pcaFeatures=DenseVector([-0.025, 38.9955, -0.8047])),\n",
       " Row(prediction=1.0, indexed=1.0, label=1.0, pcaFeatures=DenseVector([-0.0244, 37.9671, 0.9276])),\n",
       " Row(prediction=0.0, indexed=1.0, label=1.0, pcaFeatures=DenseVector([395.9729, 42.2489, -0.7871]))]"
      ]
     },
     "execution_count": 240,
     "metadata": {},
     "output_type": "execute_result"
    }
   ],
   "source": [
    "# Previsões com dados de teste\n",
    "predictions = modelo.transform(dados_teste)\n",
    "predictions.select(\"prediction\", \"indexed\", \"label\", \"pcaFeatures\").collect()"
   ]
  },
  {
   "cell_type": "code",
   "execution_count": 241,
   "id": "5783edd2",
   "metadata": {},
   "outputs": [
    {
     "data": {
      "text/plain": [
       "0.70625"
      ]
     },
     "execution_count": 241,
     "metadata": {},
     "output_type": "execute_result"
    }
   ],
   "source": [
    "# Avaliando a acurácia\n",
    "evaluator = MulticlassClassificationEvaluator(predictionCol = \"prediction\", labelCol = \"indexed\", metricName = \"accuracy\")\n",
    "evaluator.evaluate(predictions) "
   ]
  },
  {
   "cell_type": "code",
   "execution_count": 242,
   "id": "7e5d1ec3",
   "metadata": {},
   "outputs": [
    {
     "name": "stdout",
     "output_type": "stream",
     "text": [
      "+-------+----------+-----+\n",
      "|indexed|prediction|count|\n",
      "+-------+----------+-----+\n",
      "|    1.0|       1.0|   26|\n",
      "|    0.0|       1.0|    8|\n",
      "|    1.0|       0.0|   39|\n",
      "|    0.0|       0.0|   87|\n",
      "+-------+----------+-----+\n",
      "\n"
     ]
    }
   ],
   "source": [
    "# Confusion Matrix\n",
    "predictions.groupBy(\"indexed\", \"prediction\").count().show()"
   ]
  },
  {
   "cell_type": "markdown",
   "id": "4fd1cf93",
   "metadata": {},
   "source": [
    "# Capítulo 9.9: Spark MLLib - Classificação - Nayve Bayes"
   ]
  },
  {
   "cell_type": "markdown",
   "id": "70f37ce6",
   "metadata": {},
   "source": [
    "## <font color='blue'>Spark MLLib - Classificação - Naive Bayes</font>"
   ]
  },
  {
   "cell_type": "markdown",
   "id": "b71f2641",
   "metadata": {},
   "source": [
    "<strong> Descrição </strong>\n",
    "<ul style=\"list-style-type:square\">\n",
    "  <li>Baseado no Teorema de Bayes.</li>\n",
    "  <li>Probabilidade de um Evento A = P(A) é entre 0 e 1.</li>\n",
    "  <li>A probabilidade P(A/B) = P(A intersect B ) * P (A) /P(B).</li>\n",
    "  <li>A variável target se torna o evento A.</li>\n",
    "  <li>O modelo armazena a probabilidade condicional da variável target para cada possível valor das variáveis preditoras.</li>\n",
    "</ul>"
   ]
  },
  {
   "cell_type": "markdown",
   "id": "35b8c117",
   "metadata": {},
   "source": [
    "<dl>\n",
    "  <dt>Vantagens</dt>\n",
    "  <dd>- Rápido e simples</dd>\n",
    "  <dd>- Funciona bem mesmo com valores missing</dd>\n",
    "  <dd>- Provê probabilidades de um resultado</dd>\n",
    "  <dd>- Excelente com variáveis categóricas</dd>\n",
    "  <br />\n",
    "  <dt>Desvantagens</dt>\n",
    "  <dd>- Não funciona bem com muitas variáveis numéricas</dd>\n",
    "  <dd>- Espera que as variáveis preditoras sejam independentes</dd>\n",
    "  <br />\n",
    "  <dt>Aplicação</dt>\n",
    "  <dd>- Filtro de Spam</dd>\n",
    "  <dd>- Diagnóstico médico</dd>\n",
    "  <dd>- Classificação de documentos</dd>\n",
    "</dl>"
   ]
  },
  {
   "cell_type": "markdown",
   "id": "c8aa4605",
   "metadata": {},
   "source": [
    "## Classificação de Spam"
   ]
  },
  {
   "cell_type": "markdown",
   "id": "7ccfa50a",
   "metadata": {},
   "source": [
    "https://archive.ics.uci.edu/ml/datasets/SMS+Spam+Collection"
   ]
  },
  {
   "cell_type": "code",
   "execution_count": 243,
   "id": "82528072",
   "metadata": {},
   "outputs": [],
   "source": [
    "# Spark Session - usada quando se trabalha com Dataframes no Spark\n",
    "spSession = SparkSession.builder.master(\"local\").appName(\"DSA-SparkMLLib\").config(\"spark.some.config.option\", \"session\").getOrCreate()"
   ]
  },
  {
   "cell_type": "code",
   "execution_count": 244,
   "id": "e5fc9d03",
   "metadata": {},
   "outputs": [],
   "source": [
    "from pyspark.ml.classification import NaiveBayes, NaiveBayesModel\n",
    "from pyspark.ml import Pipeline\n",
    "from pyspark.ml.feature import HashingTF, Tokenizer\n",
    "from pyspark.ml.feature import IDF\n",
    "from pyspark.ml.evaluation import MulticlassClassificationEvaluator"
   ]
  },
  {
   "cell_type": "code",
   "execution_count": 245,
   "id": "06ae6252",
   "metadata": {},
   "outputs": [],
   "source": [
    "# Carregando os dados e gerando um RDD\n",
    "spamRDD = sc.textFile(r\"09.05 Exemplos\\data\\SMSSpamCollection.csv\", 2)"
   ]
  },
  {
   "cell_type": "code",
   "execution_count": 246,
   "id": "0a07734e",
   "metadata": {},
   "outputs": [
    {
     "data": {
      "text/plain": [
       "09.05 Exemplos\\data\\SMSSpamCollection.csv MapPartitionsRDD[774] at textFile at NativeMethodAccessorImpl.java:0"
      ]
     },
     "execution_count": 246,
     "metadata": {},
     "output_type": "execute_result"
    }
   ],
   "source": [
    "spamRDD.cache()"
   ]
  },
  {
   "cell_type": "code",
   "execution_count": 247,
   "id": "4a0c797a",
   "metadata": {},
   "outputs": [
    {
     "data": {
      "text/plain": [
       "['ham,Go until jurong point, crazy.. Available only in bugis n great world la e buffet... Cine there got amore wat...,,,,,,,,,',\n",
       " 'ham,Ok lar... Joking wif u oni...,,,,,,,,,,',\n",
       " 'ham,U dun say so early hor... U c already then say...,,,,,,,,,,',\n",
       " \"ham,Nah I don't think he goes to usf, he lives around here though,,,,,,,,,\",\n",
       " 'ham,Even my brother is not like to speak with me. They treat me like aids patent.,,,,,,,,,,',\n",
       " \"ham,As per your request 'Melle Melle (Oru Minnaminunginte Nurungu Vettam)' has been set as your callertune for all Callers. Press *9 to copy your friends Callertune,,,,,,,,,,\",\n",
       " \"ham,I'm gonna be home soon and i don't want to talk about this stuff anymore tonight, k? I've cried enough today.,,,,,,,,,\",\n",
       " \"ham,I've been searching for the right words to thank you for this breather. I promise i wont take your help for granted and will fulfil my promise. You have been wonderful and a blessing at all times.,,,,,,,,,,\",\n",
       " 'ham,I HAVE A DATE ON SUNDAY WITH WILL!!,,,,,,,,,,',\n",
       " \"ham,Oh k...i'm watching here:),,,,,,,,,,\",\n",
       " 'ham,Eh u remember how 2 spell his name... Yes i did. He v naughty make until i v wet.,,,,,,,,,,',\n",
       " 'ham,Fine if that\\x92s the way u feel. That\\x92s the way its gota b,,,,,,,,,,',\n",
       " 'ham,Is that seriously how you spell his name?,,,,,,,,,,',\n",
       " 'ham,I‘m going to try for 2 months ha ha only joking,,,,,,,,,,',\n",
       " 'ham,So ü pay first lar... Then when is da stock comin...,,,,,,,,,,',\n",
       " 'ham,Aft i finish my lunch then i go str down lor. Ard 3 smth lor. U finish ur lunch already?,,,,,,,,,,',\n",
       " 'ham,Ffffffffff. Alright no way I can meet up with you sooner?,,,,,,,,,,',\n",
       " \"ham,Just forced myself to eat a slice. I'm really not hungry tho. This sucks. Mark is getting worried. He knows I'm sick when I turn down pizza. Lol,,,,,,,,,,\",\n",
       " 'ham,Lol your always so convincing.,,,,,,,,,,',\n",
       " \"ham,Did you catch the bus ? Are you frying an egg ? Did you make a tea? Are you eating your mom's left over dinner ? Do you feel my Love ?,,,,,,,,,,\",\n",
       " \"ham,I'm back &amp; we're packing the car now, I'll let you know if there's room,,,,,,,,,\",\n",
       " 'ham,Ahhh. Work. I vaguely remember that! What does it feel like? Lol,,,,,,,,,,',\n",
       " \"ham,Wait that's still not all that clear, were you not sure about me being sarcastic or that that's why x doesn't want to live with us,,,,,,,,,\",\n",
       " \"ham,Yeah he got in at 2 and was v apologetic. n had fallen out and she was actin like spoilt child and he got caught up in that. Till 2! But we won't go there! Not doing too badly cheers. You? ,,,,,,,,,,\",\n",
       " 'ham,K tell me anything about you.,,,,,,,,,,',\n",
       " 'ham,For fear of fainting with the of all that housework you just did? Quick have a cuppa,,,,,,,,,,',\n",
       " 'ham,Yup... Ok i go home look at the timings then i msg ü again... Xuhui going to learn on 2nd may too but her lesson is at 8am,,,,,,,,,,',\n",
       " \"ham,Oops, I'll let you know when my roommate's done,,,,,,,,,\",\n",
       " 'ham,I see the letter B on my car,,,,,,,,,,',\n",
       " 'ham,Anything lor... U decide...,,,,,,,,,,',\n",
       " \"ham,Hello! How's you and how did saturday go? I was just texting to see if you'd decided to do anything tomo. Not that i'm trying to invite myself or anything!,,,,,,,,,,\",\n",
       " 'ham,Pls go ahead with watts. I just wanted to be sure. Do have a great weekend. Abiola,,,,,,,,,,',\n",
       " 'ham,Did I forget to tell you ? I want you , I need you, I crave you ... But most of all ... I love you my sweet Arabian steed ... Mmmmmm ... Yummy,,,,,,,,',\n",
       " 'ham,WHO ARE YOU SEEING?,,,,,,,,,,',\n",
       " 'ham,Great! I hope you like your man well endowed. I am  &lt;#&gt;  inches...,,,,,,,,,,',\n",
       " 'ham,No calls..messages..missed calls,,,,,,,,,,',\n",
       " \"ham,Didn't you get hep b immunisation in nigeria.,,,,,,,,,,\",\n",
       " 'ham,Fair enough, anything going on?,,,,,,,,,',\n",
       " \"ham,Yeah hopefully, if tyler can't do it I could maybe ask around a bit,,,,,,,,,\",\n",
       " \"ham,U don't know how stubborn I am. I didn't even want to go to the hospital. I kept telling Mark I'm not a weak sucker. Hospitals are for weak suckers.,,,,,,,,,,\",\n",
       " 'ham,What you thinked about me. First time you saw me in class.,,,,,,,,,,',\n",
       " 'ham,A gram usually runs like  &lt;#&gt; , a half eighth is smarter though and gets you almost a whole second gram for  &lt;#&gt;,,,,,,,,,',\n",
       " \"ham,K fyi x has a ride early tomorrow morning but he's crashing at our place tonight,,,,,,,,,,\",\n",
       " 'ham,Wow. I never realized that you were so embarassed by your accomodations. I thought you liked it,\" since i was doing the best i could and you always seemed so happy about \"\"the cave\"\". I\\'m sorry I didn\\'t and don\\'t have more to give. I\\'m sorry i offered. I\\'m sorry your room was so embarassing.\",,,,,,,,,',\n",
       " 'ham,Do you know what Mallika Sherawat did yesterday? Find out now @  &lt;URL&gt;,,,,,,,,,,',\n",
       " \"ham,Sorry, I'll call later in meeting.,,,,,,,,,\",\n",
       " 'ham,Tell where you reached,,,,,,,,,,',\n",
       " 'ham,Yes..gauti and sehwag out of odi series.,,,,,,,,,,',\n",
       " \"ham,Your gonna have to pick up a $1 burger for yourself on your way home. I can't even move. Pain is killing me.,,,,,,,,,,\",\n",
       " 'ham,Ha ha ha good joke. Girls are situation seekers.,,,,,,,,,,',\n",
       " 'ham,Its a part of checking IQ,,,,,,,,,,',\n",
       " 'ham,Sorry my roommates took forever, it ok if I come by now?,,,,,,,,,',\n",
       " 'ham,Ok lar i double check wif da hair dresser already he said wun cut v short. He said will cut until i look nice.,,,,,,,,,,',\n",
       " 'ham,\"Today is \"\"song dedicated day..\"\" Which song will u dedicate for me? Send this to all ur valuable frnds but first rply me...\",,,,,,,,,,',\n",
       " 'ham,I plane to give on this month end.,,,,,,,,,,',\n",
       " 'ham,Wah lucky man... Then can save money... Hee...,,,,,,,,,,',\n",
       " 'ham,Finished class where are you.,,,,,,,,,,',\n",
       " 'ham,HI BABE IM AT HOME NOW WANNA DO SOMETHING? XX,,,,,,,,,,',\n",
       " 'ham,K..k:)where are you?how did you performed?,,,,,,,,,,',\n",
       " 'ham,U can call me now...,,,,,,,,,,',\n",
       " 'ham,I am waiting machan. Call me once you free.,,,,,,,,,,',\n",
       " 'ham,Thats cool. i am a gentleman and will treat you with dignity and respect.,,,,,,,,,,',\n",
       " 'ham,I like you peoples very much:) but am very shy pa.,,,,,,,,,,',\n",
       " 'ham,Does not operate after  &lt;#&gt;  or what,,,,,,,,,,',\n",
       " \"ham,Its not the same here. Still looking for a job. How much do Ta's earn there.,,,,,,,,,,\",\n",
       " \"ham,Sorry, I'll call later,,,,,,,,,\",\n",
       " 'ham,K. Did you call me just now ah? ,,,,,,,,,,',\n",
       " 'ham,Ok i am on the way to home hi hi,,,,,,,,,,',\n",
       " 'ham,You will be in the place of that man,,,,,,,,,,',\n",
       " 'ham,Yup next stop.,,,,,,,,,,',\n",
       " \"ham,I call you later, don't have network. If urgnt, sms me.,,,,,,,,\",\n",
       " \"ham,For real when u getting on yo? I only need 2 more tickets and one more jacket and I'm done. I already used all my multis.,,,,,,,,,,\",\n",
       " \"ham,Yes I started to send requests to make it but pain came back so I'm back in bed. Double coins at the factory too. I gotta cash in all my nitros.,,,,,,,,,,\",\n",
       " \"ham,I'm really not up to it still tonight babe,,,,,,,,,,\",\n",
       " 'ham,Ela kano.,il download, come wen ur free..,,,,,,,,',\n",
       " 'ham,Yeah do! Don‘t stand to close tho- you‘ll catch something!,,,,,,,,,,',\n",
       " \"ham,Sorry to be a pain. Is it ok if we meet another night? I spent late afternoon in casualty and that means i haven't done any of y stuff42moro and that includes all my time sheets and that. Sorry. ,,,,,,,,,,\",\n",
       " 'ham,Smile in Pleasure Smile in Pain Smile when trouble pours like Rain Smile when sum1 Hurts U Smile becoz SOMEONE still Loves to see u Smiling!!,,,,,,,,,,',\n",
       " 'ham,Havent planning to buy later. I check already lido only got 530 show in e afternoon. U finish work already?,,,,,,,,,,',\n",
       " 'ham,Watching telugu movie..wat abt u?,,,,,,,,,,',\n",
       " 'ham,i see. When we finish we have loads of loans to pay,,,,,,,,,,',\n",
       " 'ham,\"Hi. Wk been ok - on hols now! Yes on for a bit of a run. Forgot that i have hairdressers appointment at four so need to get home n shower beforehand. Does that cause prob for u?\"\"\",,,,,,,,,,',\n",
       " 'ham,I see a cup of coffee animation,,,,,,,,,,',\n",
       " \"ham,Please don't text me anymore. I have nothing else to say.,,,,,,,,,,\",\n",
       " 'ham,Okay name ur price as long as its legal! Wen can I pick them up? Y u ave x ams xx,,,,,,,,,,',\n",
       " \"ham,I'm still looking for a car to buy. And have not gone 4the driving test yet.,,,,,,,,,,\",\n",
       " \"ham,As per your request 'Melle Melle (Oru Minnaminunginte Nurungu Vettam)' has been set as your callertune for all Callers. Press *9 to copy your friends Callertune,,,,,,,,,,\",\n",
       " \"ham,wow. You're right! I didn't mean to do that. I guess once i gave up on boston men and changed my search location to nyc, something changed. Cuz on my signin page it still says boston.,,,,,,,,,\",\n",
       " 'ham,Umma my life and vava umma love you lot dear,,,,,,,,,,',\n",
       " 'ham,Thanks a lot for your wishes on my birthday. Thanks you for making my birthday truly memorable.,,,,,,,,,,',\n",
       " \"ham,Aight, I'll hit you up when I get some cash,,,,,,,,,\",\n",
       " \"ham,How would my ip address test that considering my computer isn't a minecraft server,,,,,,,,,,\",\n",
       " 'ham,I know! Grumpy old people. My mom was like you better not be lying. Then again I am always the one to play jokes...,,,,,,,,,,',\n",
       " \"ham,Dont worry. I guess he's busy.,,,,,,,,,,\",\n",
       " 'ham,What is the plural of the noun research?,,,,,,,,,,',\n",
       " 'ham,Going for dinner.msg you after.,,,,,,,,,,',\n",
       " \"ham,I'm ok wif it cos i like 2 try new things. But i scared u dun like mah. Cos u said not too loud.,,,,,,,,,,\",\n",
       " \"ham,Wa, ur openin sentence very formal... Anyway, i'm fine too, juz tt i'm eatin too much n puttin on weight...Haha... So anythin special happened?,,,,,,,\",\n",
       " \"ham,As I entered my cabin my PA said, '' Happy B'day Boss !!''. I felt special. She askd me 4 lunch. After lunch she invited me to her apartment. We went there.,,,,,,,,,\",\n",
       " 'ham,Goodo! Yes we must speak friday - egg-potato ratio for tortilla needed! ,,,,,,,,,,',\n",
       " \"ham,Hmm...my uncle just informed me that he's paying the school directly. So pls buy food.,,,,,,,,,,\",\n",
       " 'ham,here is my new address -apples&pairs&all that malarky,,,,,,,,,,',\n",
       " 'ham,I am going to sao mu today. Will be done only at 12 ,,,,,,,,,,',\n",
       " \"ham,Ü predict wat time ü'll finish buying?,,,,,,,,,,\",\n",
       " 'ham,Good stuff, will do.,,,,,,,,,',\n",
       " \"ham,Just so that you know,yetunde hasn't sent money yet. I just sent her a text not to bother sending. So its over, you dont have to involve yourself in anything. I shouldn't have imposed anything on you in the first place so for that, i apologise.,,,,,,,\",\n",
       " 'ham,Are you there in room.,,,,,,,,,,',\n",
       " 'ham,HEY GIRL. HOW R U? HOPE U R WELL ME AN DEL R BAK! AGAIN LONG TIME NO C! GIVE ME A CALL SUM TIME FROM LUCYxx,,,,,,,,,,',\n",
       " 'ham,K..k:)how much does it cost?,,,,,,,,,,',\n",
       " \"ham,I'm home.,,,,,,,,,,\",\n",
       " 'ham,Dear, will call Tmorrow.pls accomodate.,,,,,,,,,',\n",
       " 'ham,First answer my question.,,,,,,,,,,',\n",
       " \"ham,I only haf msn. It's yijue@hotmail.com,,,,,,,,,,\",\n",
       " 'ham,He is there. You call and meet him,,,,,,,,,,',\n",
       " 'ham,No no. I will check all rooms befor activities,,,,,,,,,,',\n",
       " 'ham,Got c... I lazy to type... I forgot ü in lect... I saw a pouch but like not v nice...,,,,,,,,,,',\n",
       " \"ham,K, text me when you're on the way,,,,,,,,,\",\n",
       " 'ham,Sir, Waiting for your mail.,,,,,,,,,',\n",
       " 'ham,\"A swt thought: \"\"Nver get tired of doing little things 4 lovable persons..\"\" Coz..somtimes those little things occupy d biggest part in their Hearts.. Gud ni8\",,,,,,,,,,',\n",
       " 'ham,I know you are. Can you pls open the back?,,,,,,,,,,',\n",
       " 'ham,Yes see ya not on the dot,,,,,,,,,,',\n",
       " 'ham,Whats the staff name who is taking class for us?,,,,,,,,,,',\n",
       " 'ham,Ummma.will call after check in.our life will begin from qatar so pls pray very hard.,,,,,,,,,,',\n",
       " 'ham,K..i deleted my contact that why?,,,,,,,,,,',\n",
       " 'ham,Sindu got job in birla soft ..,,,,,,,,,,',\n",
       " \"ham,The wine is flowing and i'm i have nevering..,,,,,,,,,,\",\n",
       " 'ham,Yup i thk cine is better cos no need 2 go down 2 plaza mah.,,,,,,,,,,',\n",
       " 'ham,Ok... Ur typical reply...,,,,,,,,,,',\n",
       " \"ham,As per your request 'Melle Melle (Oru Minnaminunginte Nurungu Vettam)' has been set as your callertune for all Callers. Press *9 to copy your friends Callertune,,,,,,,,,,\",\n",
       " 'ham,You are everywhere dirt, on the floor, the windows, even on my shirt. And sometimes when i open my mouth, you are all that comes flowing out. I dream of my world without you, then half my chores are out too. A time of joy for me, lots of tv shows i.ll see. But i guess like all things you just must exist, like rain, hail and mist, and when my time here is done, you and i become one.',\n",
       " 'ham,Aaooooright are you at work?,,,,,,,,,,',\n",
       " \"ham,I'm leaving my house now...,,,,,,,,,,\",\n",
       " 'ham,Hello, my love. What are you doing? Did you get to that interview today? Are you you happy? Are you being a good boy? Do you think of me?Are you missing me ?,,,,,,,,,',\n",
       " \"ham,Keep yourself safe for me because I need you and I miss you already and I envy everyone that see's you in real life,,,,,,,,,,\",\n",
       " 'ham,New car and house for my parents.:)i have only new job in hand:),,,,,,,,,,',\n",
       " \"ham,I'm so in love with you. I'm excited each day i spend with you. You make me so happy.,,,,,,,,,,\",\n",
       " 'ham,I place all ur points on e cultures module already.,,,,,,,,,,',\n",
       " \"ham,Hi frnd, which is best way to avoid missunderstding wit our beloved one's?,,,,,,,,,\",\n",
       " 'ham,Great escape. I fancy the bridge but needs her lager. See you tomo ,,,,,,,,,,',\n",
       " 'ham,Yes :)it completely in out of form:)clark also utter waste.,,,,,,,,,,',\n",
       " 'ham,Sir, I need AXIS BANK account no and bank address.,,,,,,,,,',\n",
       " 'ham,Hmmm.. Thk sure got time to hop ard... Ya, can go 4 free abt... Muz call u to discuss liao... ,,,,,,,,,',\n",
       " 'ham,What time you coming down later? ,,,,,,,,,,',\n",
       " 'ham,Bloody hell, cant believe you forgot my surname Mr . Ill give u a clue, its spanish and begins with m... ,,,,,,,,',\n",
       " \"ham,Well, i'm gonna finish my bath now. Have a good...fine night.,,,,,,,,,\",\n",
       " \"ham,Let me know when you've got the money so carlos can make the call,,,,,,,,,,\",\n",
       " 'ham,U still going to the mall?,,,,,,,,,,',\n",
       " \"ham,Turns out my friends are staying for the whole show and won't be back til ~ &lt;#&gt; , so feel free to go ahead and smoke that $ &lt;#&gt;  worth,,,,,,,,,\",\n",
       " 'ham,Text her. If she doesnt reply let me know so i can have her log in,,,,,,,,,,',\n",
       " \"ham,Hi! You just spoke to MANEESHA V. We'd like to know if you were satisfied with the experience. Reply Toll Free with Yes or No.,,,,,,,,,,\",\n",
       " 'ham,You lifted my hopes with the offer of money. I am in need. Especially when the end of the month approaches and it hurts my studying. Anyways have a gr8 weekend,,,,,,,,,,',\n",
       " 'ham,Lol no. U can trust me.,,,,,,,,,,',\n",
       " 'ham,ok. I am a gentleman and will treat you with dignity and respect.,,,,,,,,,,',\n",
       " 'ham,He will, you guys close?,,,,,,,,,',\n",
       " 'ham,Going on nothing great.bye,,,,,,,,,,',\n",
       " \"ham,Hello handsome ! Are you finding that job ? Not being lazy ? Working towards getting back that net for mummy ? Where's my boytoy now ? Does he miss me ?,,,,,,,,,,\",\n",
       " 'ham,Haha awesome, be there in a minute,,,,,,,,,',\n",
       " 'ham,Have you got Xmas radio times. If not i will get it now,,,,,,,,,,',\n",
       " 'ham,I jus reached home. I go bathe first. But my sis using net tell u when she finishes k...,,,,,,,,,,',\n",
       " \"ham,I'm sorry. I've joined the league of people that dont keep in touch. You mean a great deal to me. You have been a friend at all times even at great personal cost. Do have a great week.|,,,,,,,,,,\",\n",
       " 'ham,Hi :)finally i completed the course:),,,,,,,,,,',\n",
       " 'ham,It will stop on itself. I however suggest she stays with someone that will be able to give ors for every stool.,,,,,,,,,,',\n",
       " \"ham,How are you doing? Hope you've settled in for the new school year. Just wishin you a gr8 day,,,,,,,,,,\",\n",
       " 'ham,Gud mrng dear hav a nice day,,,,,,,,,,',\n",
       " 'ham,Did u got that persons story,,,,,,,,,,',\n",
       " 'ham,is your hamster dead? Hey so tmr i meet you at 1pm orchard mrt? ,,,,,,,,,,',\n",
       " 'ham,Hi its Kate how is your evening? I hope i can see you tomorrow for a bit but i have to bloody babyjontet! Txt back if u can. :) xxx,,,,,,,,,,',\n",
       " 'ham,Found it, ENC  &lt;#&gt; , where you at?,,,,,,,,',\n",
       " 'ham,I sent you  &lt;#&gt;  bucks,,,,,,,,,,',\n",
       " 'ham,Hello darlin ive finished college now so txt me when u finish if u can love Kate xxx,,,,,,,,,,',\n",
       " 'ham,Your account has been refilled successfully by INR  &lt;DECIMAL&gt; . Your KeralaCircle prepaid account balance is Rs  &lt;DECIMAL&gt; . Your Transaction ID is KR &lt;#&gt; .,,,,,,,,,,',\n",
       " 'ham,Goodmorning sleeping ga.,,,,,,,,,,',\n",
       " 'ham,U call me alter at 11 ok.,,,,,,,,,,',\n",
       " 'ham,Ü say until like dat i dun buy ericsson oso cannot oredi lar...,,,,,,,,,,',\n",
       " \"ham,As I entered my cabin my PA said, '' Happy B'day Boss !!''. I felt special. She askd me 4 lunch. After lunch she invited me to her apartment. We went there.,,,,,,,,,\",\n",
       " 'ham,Aight yo, dats straight dogg,,,,,,,,,',\n",
       " 'ham,You please give us connection today itself before  &lt;DECIMAL&gt;  or refund the bill,,,,,,,,,,',\n",
       " 'ham,Both :) i shoot big loads so get ready!,,,,,,,,,,',\n",
       " \"ham,What's up bruv, hope you had a great break. Do have a rewarding semester.,,,,,,,,,\",\n",
       " 'ham,Home so we can always chat,,,,,,,,,,',\n",
       " 'ham,K:)k:)good:)study well.,,,,,,,,,,',\n",
       " 'ham,Yup... How ü noe leh...,,,,,,,,,,',\n",
       " 'ham,Sounds great! Are you home now?,,,,,,,,,,',\n",
       " 'ham,Finally the match heading towards draw as your prediction.,,,,,,,,,,',\n",
       " \"ham,Tired. I haven't slept well the past few nights.,,,,,,,,,,\",\n",
       " 'ham,Easy ah?sen got selected means its good..,,,,,,,,,,',\n",
       " 'ham,I have to take exam with march 3,,,,,,,,,,',\n",
       " \"ham,Yeah you should. I think you can use your gt atm now to register. Not sure but if there's anyway i can help let me know. But when you do be sure you are ready.,,,,,,,,,,\",\n",
       " 'ham,Ok no prob. Take ur time.,,,,,,,,,,',\n",
       " 'ham,There is os called ubandu which will run without installing in hard disk...you can use that os to copy the important files in system and give it to repair shop..,,,,,,,,,,',\n",
       " \"ham,Sorry, I'll call later,,,,,,,,,\",\n",
       " 'ham,U say leh... Of course nothing happen lar. Not say v romantic jus a bit only lor. I thk e nite scenery not so nice leh.,,,,,,,,,,',\n",
       " 'ham,Would really appreciate if you call me. Just need someone to talk to.,,,,,,,,,,',\n",
       " 'ham,Hey company elama po mudyadhu.,,,,,,,,,,',\n",
       " 'ham,Life is more strict than teacher... Bcoz Teacher teaches lesson &amp; then conducts exam, But Life first conducts Exam &amp; then teaches Lessons. Happy morning. . .,,,,,,,,,',\n",
       " 'ham,Dear good morning now only i am up,,,,,,,,,,',\n",
       " 'ham,Get down in gandhipuram and walk to cross cut road. Right side &lt;#&gt; street road and turn at first right.,,,,,,,,,,',\n",
       " 'ham,Dear we are going to our rubber place,,,,,,,,,,',\n",
       " \"ham,Sorry battery died, yeah I'm here,,,,,,,,,\",\n",
       " 'ham,Yes:)here tv is always available in work place..,,,,,,,,,,',\n",
       " 'ham,I have printed it oh. So  &lt;#&gt;  come upstairs,,,,,,,,,,',\n",
       " 'ham,Or ill be a little closer like at the bus stop on the same street,,,,,,,,,,',\n",
       " 'ham,Where are you?when wil you reach here?,,,,,,,,,,',\n",
       " \"ham,New Theory: Argument wins d SITUATION, but loses the PERSON. So dont argue with ur friends just.. . . . kick them &amp; say, I'm always correct.!,,,,,,,,\",\n",
       " 'ham,Tomarrow final hearing on my laptop case so i cant.,,,,,,,,,,',\n",
       " 'ham,PLEASSSSSSSEEEEEE TEL ME V AVENT DONE SPORTSx,,,,,,,,,,',\n",
       " 'ham,Okay. No no, just shining on. That was meant to be signing, but that sounds better.,,,,,,,,',\n",
       " \"ham,Although i told u dat i'm into baig face watches now but i really like e watch u gave cos it's fr u. Thanx 4 everything dat u've done today, i'm touched...,,,,,,,,,\",\n",
       " \"ham,U don't remember that old commercial?,,,,,,,,,,\",\n",
       " \"ham,Too late. I said i have the website. I didn't i have or dont have the slippers,,,,,,,,,,\",\n",
       " 'ham,I asked you to call him now ok,,,,,,,,,,',\n",
       " 'ham,Kallis wont bat in 2nd innings.,,,,,,,,,,',\n",
       " 'ham,It didnt work again oh. Ok goodnight then. I.ll fix and have it ready by the time you wake up. You are very dearly missed have a good night sleep.,,,,,,,,,,',\n",
       " 'ham,Ranjith cal drpd Deeraj and deepak 5min hold,,,,,,,,,,',\n",
       " 'ham,Wen ur lovable bcums angry wid u, dnt take it seriously.. Coz being angry is d most childish n true way of showing deep affection, care n luv!.. kettoda manda... Have nice day da.,,,,,,,,',\n",
       " 'ham,What you doing?how are you?,,,,,,,,,,',\n",
       " 'ham,Ups which is 3days also, and the shipping company that takes 2wks. The other way is usps which takes a week but when it gets to lag you may have to bribe nipost to get your stuff.,,,,,,,,,',\n",
       " \"ham,I'm back, lemme know when you're ready,,,,,,,,,\",\n",
       " \"ham,Don't necessarily expect it to be done before you get back though because I'm just now headin out,,,,,,,,,,\",\n",
       " 'ham,Mmm so yummy babe ... Nice jolt to the suzy,,,,,,,,,,',\n",
       " 'ham,Where are you lover ? I need you ...,,,,,,,,,,',\n",
       " 'ham,I‘m parked next to a MINI!!!! When are you coming in today do you think?,,,,,,,,,,',\n",
       " 'ham,Yup,,,,,,,,,,',\n",
       " \"ham,Anyway i'm going shopping on my own now. Cos my sis not done yet. Dun disturb u liao.,,,,,,,,,,\",\n",
       " 'ham,MY NO. IN LUTON 0125698789 RING ME IF UR AROUND! H*,,,,,,,,,,',\n",
       " 'ham,Why you Dint come with us.,,,,,,,,,,',\n",
       " 'ham,Same. Wana plan a trip sometme then,,,,,,,,,,',\n",
       " 'ham,Not sure yet, still trying to get a hold of him,,,,,,,,,',\n",
       " 'ham,The evo. I just had to download flash. Jealous?,,,,,,,,,,',\n",
       " \"ham,Come to mu, we're sorting out our narcotics situation,,,,,,,,,\",\n",
       " 'ham,Night has ended for another day, morning has come in a special way. May you smile like the sunny rays and leaves your worries at the blue blue bay.,,,,,,,,,',\n",
       " 'ham,Usf I guess, might as well take 1 car,,,,,,,,,',\n",
       " 'ham,No objection. My bf not coming.,,,,,,,,,,',\n",
       " 'ham,Thanx...,,,,,,,,,,',\n",
       " 'ham,Tell rob to mack his gf in the theater,,,,,,,,,,',\n",
       " \"ham,Awesome, I'll see you in a bit,,,,,,,,,\",\n",
       " 'ham,Just sent it. So what type of food do you like?,,,,,,,,,,',\n",
       " 'ham,All done? All handed in? Celebrations in full swing yet?,,,,,,,,,,',\n",
       " 'ham,You got called a tool?,,,,,,,,,,',\n",
       " 'ham,\"Wen u miss someone, the person is definitely special for u..... But if the person is so special, why to miss them, just Keep-in-touch gdeve..\",,,,,,,,,,',\n",
       " 'ham,Ok. I asked for money how far,,,,,,,,,,',\n",
       " 'ham,Okie...,,,,,,,,,,',\n",
       " \"ham,Yeah I think my usual guy's still passed out from last night, if you get ahold of anybody let me know and I'll throw down,,,,,,,,,\",\n",
       " 'ham,K, I might come by tonight then if my class lets out early,,,,,,,,,',\n",
       " 'ham,Ok..,,,,,,,,,,',\n",
       " 'ham,hi baby im cruisin with my girl friend what r u up 2? give me a call in and hour at home if thats alright or fone me on this fone now love jenny xxx,,,,,,,,,,',\n",
       " 'ham,My life Means a lot to me, Not because I love my life, But because I love the people in my life, The world calls them friends, I call them my World:-).. Ge:-)..,,,,,,',\n",
       " 'ham,Dear,shall mail tonite.busy in the street,shall update you tonite.things are looking ok.varunnathu edukkukayee raksha ollu.but a good one in real sense.,,,,,,,,',\n",
       " 'ham,Hey you told your name to gautham ah?,,,,,,,,,,',\n",
       " 'ham,Haf u found him? I feel so stupid da v cam was working.,,,,,,,,,,',\n",
       " 'ham,Oops. 4 got that bit.,,,,,,,,,,',\n",
       " 'ham,Are you this much buzy,,,,,,,,,,',\n",
       " 'ham,I accidentally deleted the message. Resend please.,,,,,,,,,,',\n",
       " \"ham,Unless it's a situation where YOU GO GURL would be more appropriate,,,,,,,,,,\",\n",
       " 'ham,Hurt me... Tease me... Make me cry... But in the end of my life when i die plz keep one rose on my grave and say STUPID I MISS U.. HAVE A NICE DAY BSLVYL,,,,,,,,,,',\n",
       " 'ham,I cant pick the phone right now. Pls send a message,,,,,,,,,,',\n",
       " \"ham,Need a coffee run tomo?Can't believe it's that time of week already,,,,,,,,,,\",\n",
       " 'ham,Awesome, I remember the last time we got somebody high for the first time with diesel :V,,,,,,,,,',\n",
       " 'ham,Shit that is really shocking and scary, cant imagine for a second. Def up for night out. Do u think there is somewhere i could crash for night, save on taxi?,,,,,,,,',\n",
       " 'ham,Oh and by the way you do have more food in your fridge! Want to go out for a meal tonight? ,,,,,,,,,,',\n",
       " 'ham,He is a womdarfull actor,,,,,,,,,,',\n",
       " 'ham,Yup... From what i remb... I think should be can book... ,,,,,,,,,,',\n",
       " 'ham,Jos ask if u wana meet up?,,,,,,,,,,',\n",
       " \"ham,Lol yes. Our friendship is hanging on a thread cause u won't buy stuff.,,,,,,,,,,\",\n",
       " \"ham,Where are the garage keys? They aren't on the bookshelf,,,,,,,,,,\",\n",
       " 'ham,Today is ACCEPT DAY..U Accept me as? Brother Sister Lover Dear1 Best1 Clos1 Lvblefrnd Jstfrnd Cutefrnd Lifpartnr Belovd Swtheart Bstfrnd No rply means enemy,,,,,,,,,,',\n",
       " \"ham,He says he'll give me a call when his friend's got the money but that he's definitely buying before the end of the week,,,,,,,,,,\",\n",
       " 'ham,Hi the way I was with u 2day, is the normal way&this is the real me. UR unique&I hope I know u 4 the rest of mylife. Hope u find wot was lost.,,,,,,,,,',\n",
       " 'ham,You made my day. Do have a great day too.,,,,,,,,,,',\n",
       " 'ham,K.k:)advance happy pongal.,,,,,,,,,,',\n",
       " 'ham,Hmmm... Guess we can go 4 kb n power yoga... Haha, dunno we can tahan power yoga anot... Thk got lo oso, forgot liao...,,,,,,,,',\n",
       " \"ham,Not really dude, have no friends i'm afraid :(,,,,,,,,,\",\n",
       " 'ham,Coffee cake, i guess...,,,,,,,,,',\n",
       " 'ham,Merry Christmas to you too babe, i love ya *kisses*,,,,,,,,,',\n",
       " 'ham,Hey... Why dont we just go watch x men and have lunch... Haha ,,,,,,,,,,',\n",
       " 'ham,cud u tell ppl im gona b a bit l8 cos 2 buses hav gon past cos they were full & im still waitin 4 1. Pete x,,,,,,,,,,',\n",
       " \"ham,That would be great. We'll be at the Guild. Could meet on Bristol road or somewhere - will get in touch over weekend. Our plans take flight! Have a good week,,,,,,,,,,\",\n",
       " 'ham,No problem. How are you doing?,,,,,,,,,,',\n",
       " 'ham,No calls..messages..missed calls,,,,,,,,,,',\n",
       " 'ham,Hi da:)how is the todays class?,,,,,,,,,,',\n",
       " \"ham,I'd say that's a good sign but, well, you know my track record at reading women,,,,,,,,\",\n",
       " \"ham,Cool, text me when you're parked,,,,,,,,,\",\n",
       " \"ham,I'm reading the text i just sent you. Its meant to be a joke. So read it in that light,,,,,,,,,,\",\n",
       " 'ham,K.k:)apo k.good movie.,,,,,,,,,,',\n",
       " 'ham,Maybe i could get book out tomo then return it immediately ..? Or something.,,,,,,,,,,',\n",
       " \"ham,Any chance you might have had with me evaporated as soon as you violated my privacy by stealing my phone number from your employer's paperwork. Not cool at all. Please do not contact me again or I will report you to your supervisor.,,,,,,,,,,\",\n",
       " 'ham,Ta-Daaaaa! I am home babe, are you still up ?,,,,,,,,,',\n",
       " 'ham,Cool. So how come you havent been wined and dined before?,,,,,,,,,,',\n",
       " 'ham,Just sleeping..and surfing,,,,,,,,,,',\n",
       " \"ham,Sorry, I'll call later,,,,,,,,,\",\n",
       " 'ham,U calling me right? Call my hand phone...,,,,,,,,,,',\n",
       " \"ham,Ok that's great thanx a lot.,,,,,,,,,,\",\n",
       " 'ham,I take it the post has come then! You must have 1000s of texts now! Happy reading. My one from wiv hello caroline at the end is my favourite. Bless him,,,,,,,,,,',\n",
       " 'ham,Where u been hiding stranger?,,,,,,,,,,',\n",
       " 'ham,Am not interested to do like that.,,,,,,,,,,',\n",
       " 'ham,My sister cleared two round in birla soft yesterday.,,,,,,,,,,',\n",
       " 'ham,Gudnite....tc...practice going on,,,,,,,,,,',\n",
       " 'ham,Dis is yijue. I jus saw ur mail. In case huiming havent sent u my num. Dis is my num.,,,,,,,,,,',\n",
       " 'ham,One small prestige problem now.,,,,,,,,,,',\n",
       " 'ham,Just checking in on you. Really do miss seeing Jeremiah. Do have a great month,,,,,,,,,,',\n",
       " \"ham,Nah can't help you there, I've never had an iphone,,,,,,,,,\",\n",
       " \"ham,If you're not in my car in an hour and a half I'm going apeshit,,,,,,,,,,\",\n",
       " \"ham,TODAY is Sorry day.! If ever i was angry with you, if ever i misbehaved or hurt you? plz plz JUST SLAP URSELF Bcoz, Its ur fault, I'm basically GOOD,,,,,,,\",\n",
       " 'ham,Yo you guys ever figure out how much we need for alcohol? Jay and I are trying to figure out how much we can safely spend on weed,,,,,,,,,,',\n",
       " 'ham,&lt;#&gt; ISH MINUTES WAS 5 MINUTES AGO. WTF.,,,,,,,,,,',\n",
       " 'ham,Thank You for calling.Forgot to say Happy Onam to you Sirji.I am fine here and remembered you when i met an insurance person.Meet You in Qatar Insha Allah.Rakhesh, ex Tata AIG who joined TISSCO,Tayseer.,,,,,,,,',\n",
       " \"ham,I'm an actor. When i work, i work in the evening and sleep late. Since i'm unemployed at the moment, i ALWAYS sleep late. When you're unemployed, every day is saturday.,,,,,,,\",\n",
       " 'ham,Hello! Just got here, st andrews-boy its a long way! Its cold. I will keep you posted,,,,,,,,,',\n",
       " 'ham,Ha ha cool cool chikku chikku:-):-DB-),,,,,,,,,,',\n",
       " 'ham,Oh ok no prob..,,,,,,,,,,',\n",
       " \"ham,Check audrey's status right now,,,,,,,,,,\",\n",
       " 'ham,Busy here. Trying to finish for new year. I am looking forward to finally meeting you...,,,,,,,,,,',\n",
       " 'ham,Good afternoon sunshine! How dawns that day ? Are we refreshed and happy to be alive? Do we breathe in the air and smile ? I think of you, my love ... As always,,,,,,,,,',\n",
       " 'ham,Well i know Z will take care of me. So no worries.,,,,,,,,,,',\n",
       " 'ham,Wat uniform? In where get?,,,,,,,,,,',\n",
       " \"ham,Cool, text me when you're ready,,,,,,,,,\",\n",
       " 'ham,Hello my boytoy ... Geeee I miss you already and I just woke up. I wish you were here in bed with me, cuddling me. I love you ...,,,,,,,,,',\n",
       " 'ham,I will spoil you in bed as well :),,,,,,,,,,',\n",
       " \"ham,I'm going for bath will msg you next  &lt;#&gt;  min..,,,,,,,,,,\",\n",
       " 'ham,I cant keep talking to people if am not sure i can pay them if they agree to price. So pls tell me what you want to really buy and how much you are willing to pay,,,,,,,,,,',\n",
       " 'ham,Can you say what happen,,,,,,,,,,',\n",
       " \"ham,You could have seen me..i did't recognise you Face.:),,,,,,,,,,\",\n",
       " \"ham,Well there's not a lot of things happening in Lindsay on New years *sighs* Some bars in Ptbo and the blue heron has something going,,,,,,,,,,\",\n",
       " 'ham,Keep my payasam there if rinu brings,,,,,,,,,,',\n",
       " 'ham,I taught that Ranjith sir called me. So only i sms like that. Becaus hes verifying about project. Prabu told today so only pa dont mistake me..,,,,,,,,,,',\n",
       " \"ham,I guess that's why you re worried. You must know that there's a way the body repairs itself. And i'm quite sure you shouldn't worry. We'll take it slow. First the tests, they will guide when your ovulation is then just relax. Nothing you've said is a reason to worry but i.ll keep on followin you up.,,,,,,,,,\",\n",
       " 'ham,Yeah sure, give me a couple minutes to track down my wallet,,,,,,,,,',\n",
       " 'ham,Hey leave it. not a big deal:-) take care.,,,,,,,,,,',\n",
       " 'ham,Hey i will be late ah... Meet you at 945+,,,,,,,,,,',\n",
       " 'ham,It took Mr owl 3 licks,,,,,,,,,,',\n",
       " 'ham,Customer place i will call you.,,,,,,,,,,',\n",
       " 'ham,Mm that time you dont like fun,,,,,,,,,,',\n",
       " 'ham,Yup having my lunch buffet now.. U eat already?,,,,,,,,,,',\n",
       " 'ham,Huh so late... Fr dinner?,,,,,,,,,,',\n",
       " 'ham,Hey so this sat are we going for the intro pilates only? Or the kickboxing too? ,,,,,,,,,,',\n",
       " 'ham,Morning only i can ok.,,,,,,,,,,',\n",
       " 'ham,Yes i think so. I am in office but my lap is in room i think thats on for the last few days. I didnt shut that down,,,,,,,,,,',\n",
       " 'ham,Pick you up bout 7.30ish? What time are  and that going?,,,,,,,,,,',\n",
       " 'ham,From here after The performance award is calculated every two month.not for current one month period..,,,,,,,,,,',\n",
       " 'ham,Was actually sleeping and still might when u call back. So a text is gr8. You rock sis. Will send u a text wen i wake.,,,,,,,,,,',\n",
       " \"ham,You are always putting your business out there. You put pictures of your ass on facebook. You are one of the most open people i've ever met. Why would i think a picture of your room would hurt you, make you feel violated.,,,,,,,,,\",\n",
       " 'ham,Good evening Sir, Al Salam Wahleykkum.sharing a happy news.By the grace of God, i got an offer from Tayseer,TISSCO and i joined.Hope you are fine.Inshah Allah,meet you sometime.Rakhesh,visitor from India.,,,,,',\n",
       " 'ham,Hmmm...k...but i want to change the field quickly da:-)i wanna get system administrator or network administrator..,,,,,,,,,,',\n",
       " 'ham,Dear how is chechi. Did you talk to her,,,,,,,,,,',\n",
       " 'ham,The hair cream has not been shipped.,,,,,,,,,,',\n",
       " \"ham,None of that's happening til you get here though,,,,,,,,,,\",\n",
       " 'ham,Yep, the great loxahatchee xmas tree burning of  &lt;#&gt;  starts in an hour,,,,,,,,,',\n",
       " 'ham,Haha get used to driving to usf man, I know a lot of stoners,,,,,,,,,',\n",
       " \"ham,All was well until slightly disastrous class this pm with my fav darlings! Hope day off ok. Coffee wld be good as can't stay late tomorrow. Same time + place as always?,,,,,,,,,,\",\n",
       " 'ham,Hello! Good week? Fancy a drink or something later?,,,,,,,,,,',\n",
       " 'ham,Headin towards busetop,,,,,,,,,,',\n",
       " 'ham,Message:some text missing* Sender:Name Missing* *Number Missing *Sent:Date missing *Missing U a lot thats y everything is missing sent via fullonsms.com,,,,,,,,,,',\n",
       " 'ham,Come by our room at some point so we can iron out the plan for this weekend,,,,,,,,,,',\n",
       " 'ham,Cos i want it to be your thing,,,,,,,,,,',\n",
       " \"ham,Okies... I'll go yan jiu too... We can skip ard oso, go cine den go mrt one, blah blah blah... ,,,,,,,,\",\n",
       " 'ham,Bring home some Wendy =D,,,,,,,,,,',\n",
       " 'ham,Whatsup there. Dont u want to sleep,,,,,,,,,,',\n",
       " 'ham,Alright i have a new goal now,,,,,,,,,,',\n",
       " \"ham,Alright, I'll head out in a few minutes, text me where to meet you,,,,,,,,\",\n",
       " \"ham,Yes:)from last week itself i'm taking live call.,,,,,,,,,,\",\n",
       " 'ham,Siva is in hostel aha:-.,,,,,,,,,,',\n",
       " 'ham,Send this to ur friends and receive something about ur voice..... How is my speaking expression? 1.childish 2.naughty 3.Sentiment 4.rowdy 5.ful of attitude 6.romantic 7.shy 8.Attractive 9.funny  &lt;#&gt; .irritating  &lt;#&gt; .lovable. reply me..,,,,,,,,,,',\n",
       " \"ham,Ok. She'll be ok. I guess,,,,,,,,,,\",\n",
       " 'ham,aathi..where are you dear..,,,,,,,,,,',\n",
       " 'ham,Any pain on urination any thing else?,,,,,,,,,,',\n",
       " 'ham,7 at esplanade.. Do ü mind giving me a lift cos i got no car today..,,,,,,,,,,',\n",
       " 'ham,I wnt to buy a BMW car urgently..its vry urgent.but hv a shortage of  &lt;#&gt; Lacs.there is no source to arng dis amt. &lt;#&gt; lacs..thats my prob,,,,,,,,,,',\n",
       " 'ham,At home watching tv lor.,,,,,,,,,,',\n",
       " 'ham,Does she usually take fifteen fucking minutes to respond to a yes or no question,,,,,,,,,,',\n",
       " 'ham,Booked ticket for pongal?,,,,,,,,,,',\n",
       " \"ham,You available now? I'm like right around hillsborough &amp;  &lt;#&gt; th,,,,,,,,,,\",\n",
       " 'ham,The message sent is askin for  &lt;#&gt; dollars. Shoul i pay  &lt;#&gt;  or  &lt;#&gt; ?,,,,,,,,,,',\n",
       " \"ham,Ask g or iouri, I've told the story like ten times already,,,,,,,,,\",\n",
       " 'ham,How long does applebees fucking take,,,,,,,,,,',\n",
       " 'ham,Hi hope u get this txt~journey hasnt been gd,now about 50 mins late I think.,,,,,,,,,',\n",
       " 'ham,But i have to. I like to have love and arrange.,,,,,,,,,,',\n",
       " 'ham,Yes..he is really great..bhaji told kallis best cricketer after sachin in world:).very tough to get out.,,,,,,,,,,',\n",
       " 'ham,You were supposed to wake ME up &gt;:(,,,,,,,,,,',\n",
       " 'ham,Oic... I saw him too but i tot he din c me... I found a group liao...,,,,,,,,,,',\n",
       " \"ham,Sorry, I'll call later,,,,,,,,,\",\n",
       " 'ham,\"HEY HEY WERETHE MONKEESPEOPLE SAY WE MONKEYAROUND! HOWDY GORGEOUS, HOWU DOIN? FOUNDURSELF A JOBYET SAUSAGE?LOVE JEN XXX\",,,,,,,,,,',\n",
       " \"ham,Sorry, my battery died, I can come by but I'm only getting a gram for now, where's your place?,,,,,,,\",\n",
       " 'ham,Well done, blimey, exercise, yeah, i kinda remember wot that is, hmm. ,,,,,',\n",
       " 'ham,I wont get concentration dear you know you are my mind and everything :-),,,,,,,,,,',\n",
       " 'ham,LOL ... Have you made plans for new years?,,,,,,,,,,',\n",
       " 'ham,10 min later k...,,,,,,,,,,',\n",
       " 'ham,hanks lotsly!,,,,,,,,,,',\n",
       " 'ham,Thanks for this hope you had a good day today,,,,,,,,,,',\n",
       " 'ham,K:)k:)what are detail you want to transfer?acc no enough?,,,,,,,,,,',\n",
       " 'ham,Ok i will tell her to stay out. Yeah its been tough but we are optimistic things will improve this month.,,,,,,,,,,',\n",
       " 'ham,Si si. I think ill go make those oreo truffles.,,,,,,,,,,',\n",
       " 'ham,LOOK AT AMY URE A BEAUTIFUL, INTELLIGENT WOMAN AND I LIKE U A LOT. I KNOW U DON\\x92T LIKE ME LIKE THAT SO DON\\x92T WORRY.,,,,,,,,,',\n",
       " \"ham,I hope you that's the result of being consistently intelligent and kind. Start asking him about practicum links and keep your ears open and all the best. ttyl,,,,,,,,,,\",\n",
       " 'ham,1.20 that call cost. Which i guess isnt bad. Miss ya, need ya, want ya, love ya,,,,,,,',\n",
       " 'ham,Going thru a very different feeling.wavering decisions and coping up with the same is the same individual.time will heal everything i believe.,,,,,,,,,,',\n",
       " 'ham,Where did u go? My phone is gonna die you have to stay in here,,,,,,,,,,',\n",
       " 'ham,Great. Never been better. Each day gives even more reasons to thank God,,,,,,,,,,',\n",
       " \"ham,Sorry, I'll call later ok bye,,,,,,,,,\",\n",
       " 'ham,Ok i am on the way to railway,,,,,,,,,,',\n",
       " 'ham,great princess! I love giving and receiving oral. Doggy style is my fave position. How about you? I enjoy making love  &lt;#&gt;  times per night :),,,,,,,,,,',\n",
       " \"ham,They don't put that stuff on the roads to keep it from getting slippery over there?,,,,,,,,,,\",\n",
       " 'ham,When are you going to ride your bike?,,,,,,,,,,',\n",
       " \"ham,Yup, no need. I'll jus wait 4 e rain 2 stop.,,,,,,,,,\",\n",
       " 'ham,There are many company. Tell me the language.,,,,,,,,,,',\n",
       " 'ham,How long has it been since you screamed, princess?,,,,,,,,,',\n",
       " 'ham,Nothing. I meant that once the money enters your account here, the bank will remove its flat rate. Someone transfered  &lt;#&gt;  to my account and  &lt;#&gt; dollars got removed. So the banks differ and charges also differ.be sure you trust the 9ja person you are sending account details to cos...,,,,,,,,,',\n",
       " \"ham,Nice line said by a broken heart- Plz don't cum 1 more times infront of me... Other wise once again I ll trust U... Good 9t:),,,,,,,,,,\",\n",
       " \"ham,Ok I'm gonna head up to usf in like fifteen minutes,,,,,,,,,,\",\n",
       " 'ham,Love you aathi..love u lot..,,,,,,,,,,',\n",
       " 'ham,Tension ah?what machi?any problem?,,,,,,,,,,',\n",
       " \"ham,K, can I pick up another 8th when you're done?,,,,,,,,,\",\n",
       " \"ham,When're you guys getting back? G said you were thinking about not staying for mcr,,,,,,,,,,\",\n",
       " 'ham,Almost there, see u in a sec,,,,,,,,,',\n",
       " 'ham,Yo carlos, a few friends are already asking me about you, you working at all this weekend?,,,,,,,,',\n",
       " 'ham,Watching tv lor...,,,,,,,,,,',\n",
       " 'ham,Thank you baby! I cant wait to taste the real thing...,,,,,,,,,,',\n",
       " 'ham,You should change your fb to jaykwon thuglyfe falconerf,,,,,,,,,,',\n",
       " 'ham,If we win its really no 1 side for long time.,,,,,,,,,,',\n",
       " 'ham,Dear reached railway. What happen to you,,,,,,,,,,',\n",
       " 'ham,Depends on quality. If you want the type i sent boye, faded glory, then about 6. If you want ralphs maybe 2,,,,,,,,',\n",
       " \"ham,I think i've fixed it can you send a test message?,,,,,,,,,,\",\n",
       " \"ham,Sorry man my account's dry or I would, if you want we could trade back half or I could buy some shit with my credit card,,,,,,,,,\",\n",
       " \"ham,Sorry,in meeting I'll call later,,,,,,,,,\",\n",
       " 'ham,What class of  &lt;#&gt;  reunion?,,,,,,,,,,',\n",
       " 'ham,Are you free now?can i call now?,,,,,,,,,,',\n",
       " 'ham,Got meh... When?,,,,,,,,,,',\n",
       " 'ham,Nope... Think i will go for it on monday... Sorry i replied so late,,,,,,,,,,',\n",
       " 'ham,Some of them told accenture is not confirm. Is it true.,,,,,,,,,,',\n",
       " 'ham,Kate jackson rec center before 7ish, right?,,,,,,,,,',\n",
       " 'ham,Dear i have reache room,,,,,,,,,,',\n",
       " 'ham,Fighting with the world is easy, u either win or lose bt fightng with some1 who is close to u is dificult if u lose - u lose if u win - u still lose.,,,,,,,,,',\n",
       " 'ham,When can ü come out?,,,,,,,,,,',\n",
       " 'ham,Check with nuerologist.,,,,,,,,,,',\n",
       " 'ham,Lolnice. I went from a fish to ..water.?,,,,,,,,,,',\n",
       " \"ham,No it's waiting in e car dat's bored wat. Cos wait outside got nothing 2 do. At home can do my stuff or watch tv wat.,,,,,,,,,,\",\n",
       " 'ham,Maybe westshore or hyde park village, the place near my house?,,,,,,,,,',\n",
       " \"ham,You should know now. So how's anthony. Are you bringing money. I've school fees to pay and rent and stuff like that. Thats why i need your help. A friend in need....|,,,,,,,,,,\",\n",
       " \"ham,What's the significance?,,,,,,,,,,\",\n",
       " 'ham,Your opinion about me? 1. Over 2. Jada 3. Kusruthi 4. Lovable 5. Silent 6. Spl character 7. Not matured 8. Stylish 9. Simple Pls reply..,,,,,,,,,,',\n",
       " \"ham,8 at the latest, g's still there if you can scrounge up some ammo and want to give the new ak a try,,,,,,,,,\",\n",
       " \"ham,Prabha..i'm soryda..realy..frm heart i'm sory,,,,,,,,,,\",\n",
       " 'ham,Lol ok your forgiven :),,,,,,,,,,',\n",
       " 'ham,No..jst change tat only..,,,,,,,,,,',\n",
       " 'ham,S:)no competition for him.,,,,,,,,,,',\n",
       " 'ham,That way transport is less problematic than on sat night. By the way, if u want to ask  n  to join my bday, feel free. But need to know definite nos as booking on fri. ,,,,,,,,',\n",
       " \"ham,Usually the person is unconscious that's in children but in adults they may just behave abnormally. I.ll call you now,,,,,,,,,,\",\n",
       " \"ham,But that's on ebay it might be less elsewhere.,,,,,,,,,,\",\n",
       " 'ham,Shall i come to get pickle,,,,,,,,,,',\n",
       " 'ham,Were gonna go get some tacos,,,,,,,,,,',\n",
       " \"ham,That's very rude, you on campus?,,,,,,,,,\",\n",
       " \"ham,Hi i won't b ard 4 christmas. But do enjoy n merry x'mas.,,,,,,,,,,\",\n",
       " 'ham,Yes! How is a pretty lady like you single?,,,,,,,,,,',\n",
       " \"ham,Jay says that you're a double-faggot,,,,,,,,,,\",\n",
       " 'ham,What Today-sunday..sunday is holiday..so no work..,,,,,,,,,,',\n",
       " 'ham,Gudnite....tc...practice going on,,,,,,,,,,',\n",
       " \"ham,I'll be late...,,,,,,,,,,\",\n",
       " \"ham,I've not called you in a while. This is hoping it was l8r malaria and that you know that we miss you guys. I miss Bani big, so pls give her my love especially. Have a great day.,,,,,,,,,\",\n",
       " 'ham,Good afternoon, my love! How goes that day ? I hope maybe you got some leads on a job. I think of you, boytoy and send you a passionate kiss from across the sea,,,,,,,,',\n",
       " 'ham,Probably gonna be here for a while, see you later tonight &lt;),,,,,,,,,',\n",
       " \"ham,Or maybe my fat fingers just press all these buttons and it doesn't know what to do.,,,,,,,,,,\",\n",
       " 'ham,Ummmmmaah Many many happy returns of d day my dear sweet heart.. HAPPY BIRTHDAY dear,,,,,,,,,,',\n",
       " 'ham,I am in tirupur da, once you started from office call me.,,,,,,,,,',\n",
       " \"ham,A famous quote : when you develop the ability to listen to 'anything' unconditionally without losing your temper or self confidence, it means you are ......... 'MARRIED',,,,,,,,,\",\n",
       " 'ham,But am going to college pa. What to do. are else ill come there it self. Pa.,,,,,,,,,,',\n",
       " 'ham,4 oclock at mine. Just to bash out a flat plan.,,,,,,,,,,',\n",
       " \"ham,This girl does not stay in bed. This girl doesn't need recovery time. Id rather pass out while having fun then be cooped up in bed,,,,,,,,,,\",\n",
       " 'ham,Then any special there?,,,,,,,,,,',\n",
       " \"ham,I know but you need to get hotel now. I just got my invitation but i had to apologise. Cali is to sweet for me to come to some english bloke's weddin,,,,,,,,,,\",\n",
       " 'ham,Sorry that took so long, omw now,,,,,,,,,',\n",
       " 'ham,Wait  &lt;#&gt;  min..,,,,,,,,,,',\n",
       " \"ham,Ok give me 5 minutes I think I see her. BTW you're my alibi. You were cutting my hair the whole time.,,,,,,,,,,\",\n",
       " 'ham,Imagine you finally get to sink into that bath after I have put you through your paces, maybe even having you eat me for a while before I left ... But also imagine the feel of that cage on your cock surrounded by the bath water, reminding you always who owns you ... Enjoy, my cuck,,,,,,,',\n",
       " \"ham,Hurry up, I've been weed-deficient for like three days,,,,,,,,,\",\n",
       " \"ham,Sure, if I get an acknowledgement from you that it's astoundingly tactless and generally faggy to demand a blood oath fo,,,,,,,,,\",\n",
       " \"ham,Ok. Every night take a warm bath drink a cup of milk and you'll see a work of magic. You still need to loose weight. Just so that you know,,,,,,,,,,\",\n",
       " 'ham,I‘ll have a look at the frying pan in case it‘s cheap or a book perhaps. No that‘s silly a frying pan isn‘t likely to be a book,,,,,,,,,,',\n",
       " 'ham,O. Well uv causes mutations. Sunscreen is like essential thesedays,,,,,,,,,,',\n",
       " 'ham,Having lunch:)you are not in online?why?,,,,,,,,,,',\n",
       " 'ham,I know that my friend already told that.,,,,,,,,,,',\n",
       " 'ham,Hi Princess! Thank you for the pics. You are very pretty. How are you?,,,,,,,,,,',\n",
       " 'ham,Aiyo... U always c our ex one... I dunno abt mei, she haven reply... First time u reply so fast... Y so lucky not workin huh, got bao by ur sugardad ah...gee.. ,,,,,,,,',\n",
       " \"ham,Hi msg me:)i'm in office..,,,,,,,,,,\",\n",
       " \"ham,Thanx 4 e brownie it's v nice...,,,,,,,,,,\",\n",
       " 'ham,Geeeee ... I love you so much I can barely stand it,,,,,,,,,,',\n",
       " \"ham,Fuck babe ... I miss you already, you know ? Can't you let me send you some money towards your net ? I need you ... I want you ... I crave you ...,,,,,,,,,\",\n",
       " 'ham,Ill call u 2mrw at ninish, with my address that icky American freek wont stop callin me 2 bad Jen k eh?,,,,,,,,,',\n",
       " 'ham,Oooh bed ridden ey? What are YOU thinking of?,,,,,,,,,,',\n",
       " 'ham,So anyways, you can just go to your gym or whatever, my love *smiles* I hope your ok and having a good day babe ... I miss you so much already,,,,,,,,',\n",
       " 'ham,Love it! Daddy will make you scream with pleasure! I am going to slap your ass with my dick!,,,,,,,,,,',\n",
       " 'ham,WOT U WANNA DO THEN MISSY?,,,,,,,,,,',\n",
       " 'ham,Yar lor wait 4 my mum 2 finish sch then have lunch lor... I whole morning stay at home clean my room now my room quite clean... Hee...,,,,,,,,,,',\n",
       " 'ham,Do you know where my lab goggles went,,,,,,,,,,',\n",
       " 'ham,Can you open the door?,,,,,,,,,,',\n",
       " 'ham,Waiting for your call.,,,,,,,,,,',\n",
       " 'ham,Nope i waiting in sch 4 daddy... ,,,,,,,,,,',\n",
       " \"ham,I'm tired of arguing with you about this week after week. Do what you want and from now on, i'll do the same.,,,,,,,,,\",\n",
       " 'ham,Ü wait 4 me in sch i finish ard 5..,,,,,,,,,,',\n",
       " 'ham,Arngd marriage is while u r walkin unfortuntly a snake bites u. bt love marriage is dancing in frnt of d snake &amp; sayin Bite me, bite me.,,,,,,,,,',\n",
       " 'ham,Huh so early.. Then ü having dinner outside izzit?,,,,,,,,,,',\n",
       " 'ham,Ok anyway no need to change with what you said,,,,,,,,,,',\n",
       " \"spam,Free entry in 2 a wkly comp to win FA Cup final tkts 21st May 2005. Text FA to 87121 to receive entry question(std txt rate)T&C's apply 08452810075over18's,,,,,,,,,,\",\n",
       " \"spam,FreeMsg Hey there darling it's been 3 week's now and no word back! I'd like some fun you up for it still? Tb ok! XxX std chgs to send, £1.50 to rcv,,,,,,,,,\",\n",
       " 'spam,WINNER!! As a valued network customer you have been selected to receivea £900 prize reward! To claim call 09061701461. Claim code KL341. Valid 12 hours only.,,,,,,,,,,',\n",
       " 'spam,Had your mobile 11 months or more? U R entitled to Update to the latest colour mobiles with camera for Free! Call The Mobile Update Co FREE on 08002986030,,,,,,,,,,',\n",
       " 'spam,SIX chances to win CASH! From 100 to 20,000 pounds txt> CSH11 and send to 87575. Cost 150p/day, 6days, 16+ TsandCs apply Reply HL 4 info,,,,,,,',\n",
       " 'spam,URGENT! You have won a 1 week FREE membership in our £100,000 Prize Jackpot! Txt the word: CLAIM to No: 81010 T&C www.dbuk.net LCCLTD POBOX 4403LDNW1A7RW18,,,,,,,,,',\n",
       " 'spam,XXXMobileMovieClub: To use your credit, click the WAP link in the next txt message or click here>> http://wap. xxxmobilemovieclub.com?n=QJKGIGHJJGCBL,,,,,,,,,',\n",
       " 'spam,England v Macedonia - dont miss the goals/team news. Txt ur national team to 87077 eg ENGLAND to 87077 Try:WALES, SCOTLAND 4txt/ú1.20 POBOXox36504W45WQ 16+,,,,,,,,,',\n",
       " 'spam,Thanks for your subscription to Ringtone UK your mobile will be charged £5/month Please confirm by replying YES or NO. If you reply NO you will not be charged,,,,,,,,,,',\n",
       " 'spam,07732584351 - Rodger Burns - MSG = We tried to call you re your reply to our sms for a free nokia mobile + free camcorder. Please call now 08000930705 for delivery tomorrow,,,,,,,,,,',\n",
       " 'spam,SMS. ac Sptv: The New Jersey Devils and the Detroit Red Wings play Ice Hockey. Correct or Incorrect? End? Reply END SPTV,,,,,,,,,,',\n",
       " 'spam,Congrats! 1 year special cinema pass for 2 is yours. call 09061209465 now! C Suprman V, Matrix3, StarWars3, etc all 4 FREE! bx420-ip4-5we. 150pm. Dont miss out! ,,,,,,,',\n",
       " 'spam,As a valued customer, I am pleased to advise you that following recent review of your Mob No. you are awarded with a £1500 Bonus Prize, call 09066364589,,,,,,,,',\n",
       " 'spam,Urgent UR awarded a complimentary trip to EuroDisinc Trav, Aco&Entry41 Or £1000. To claim txt DIS to 87121 18+6*£1.50(moreFrmMob. ShrAcomOrSglSuplt)10, LS1 3AJ,,,,,,,,',\n",
       " 'spam,\"Did you hear about the new \"\"Divorce Barbie\"\"? It comes with all of Ken\\'s stuff!\",,,,,,,,,,',\n",
       " 'spam,Please call our customer service representative on 0800 169 6031 between 10am-9pm as you have WON a guaranteed £1000 cash or £5000 prize!,,,,,,,,,,',\n",
       " 'spam,\"Your free ringtone is waiting to be collected. Simply text the password \"\"MIX\"\" to 85069 to verify. Get Usher and Britney. FML\", PO Box 5249, MK17 92H. 450Ppw 16,,,,,,,,',\n",
       " 'spam,GENT! We are trying to contact you. Last weekends draw shows that you won a £1000 prize GUARANTEED. Call 09064012160. Claim Code K52. Valid 12hrs only. 150ppm,,,,,,,,,,',\n",
       " 'spam,You are a winner U have been specially selected 2 receive £1000 or a 4* holiday (flights inc) speak to a live operator 2 claim 0871277810910p/min (18+) ,,,,,,,,,,',\n",
       " 'spam,PRIVATE! Your 2004 Account Statement for 07742676969 shows 786 unredeemed Bonus Points. To claim call 08719180248 Identifier Code: 45239 Expires,,,,,,,,,,',\n",
       " 'spam,URGENT! Your Mobile No. was awarded £2000 Bonus Caller Prize on 5/9/03 This is our final try to contact U! Call from Landline 09064019788 BOX42WR29C, 150PPM,,,,,,,,,',\n",
       " 'spam,Todays Voda numbers ending 7548 are selected to receive a $350 award. If you have a match please call 08712300220 quoting claim code 4041 standard rates app,,,,,,,,,,',\n",
       " 'spam,Sunshine Quiz Wkly Q! Win a top Sony DVD player if u know which country the Algarve is in? Txt ansr to 82277. £1.50 SP:Tyrone,,,,,,,,,,',\n",
       " \"spam,Want 2 get laid tonight? Want real Dogging locations sent direct 2 ur mob? Join the UK's largest Dogging Network bt Txting GRAVEL to 69888! Nt. ec2a. 31p.msg@150p,,,,,,,,,,\",\n",
       " \"spam,You'll not rcv any more msgs from the chat svc. For FREE Hardcore services text GO to: 69988 If u get nothing u must Age Verify with yr network & try again,,,,,,,,,,\",\n",
       " \"spam,FreeMsg Why haven't you replied to my text? I'm Randy, sexy, female and live local. Luv to hear from u. Netcollex Ltd 08700621170150p per msg reply Stop to end,,,,,,,,\",\n",
       " 'spam,Customer service annoncement. You have a New Years delivery waiting for you. Please call 07046744435 now to arrange delivery,,,,,,,,,,',\n",
       " 'spam,You are a winner U have been specially selected 2 receive £1000 cash or a 4* holiday (flights inc) speak to a live operator 2 claim 0871277810810,,,,,,,,,,',\n",
       " 'spam,-PLS STOP bootydelious (32/F) is inviting you to be her friend. Reply YES-434 or NO-434 See her: www.SMS.ac/u/bootydelious STOP? Send STOP FRND to 62468,,,,,,,,,,',\n",
       " 'spam,BangBabes Ur order is on the way. U SHOULD receive a Service Msg 2 download UR content. If U do not, GoTo wap. bangb. tv on UR mobile internet/service menu,,,,,,,,,',\n",
       " 'spam,URGENT! We are trying to contact you. Last weekends draw shows that you have won a £900 prize GUARANTEED. Call 09061701939. Claim code S89. Valid 12hrs only,,,,,,,,,,',\n",
       " 'spam,Please call our customer service representative on FREEPHONE 0808 145 4742 between 9am-11pm as you have WON a guaranteed £1000 cash or £5000 prize!,,,,,,,,,,',\n",
       " 'spam,Are you unique enough? Find out from 30th August. www.areyouunique.co.uk,,,,,,,,,,',\n",
       " 'spam,500 New Mobiles from 2004, MUST GO! Txt: NOKIA to No: 89545 & collect yours today!From ONLY £1 www.4-tc.biz 2optout 087187262701.50gbp/mtmsg18,,,,,,,,,',\n",
       " 'spam,Will u meet ur dream partner soon? Is ur career off 2 a flyng start? 2 find out free, txt HORO followed by ur star sign, e. g. HORO ARIES,,,,,,,,',\n",
       " 'spam,Text & meet someone sexy today. U can find a date or even flirt its up to U. Join 4 just 10p. REPLY with NAME & AGE eg Sam 25. 18 -msg recd@thirtyeight pence,,,,,,,,,,',\n",
       " 'spam,U 447801259231 have a secret admirer who is looking 2 make contact with U-find out who they R*reveal who thinks UR so special-call on 09058094597,,,,,,,,,,',\n",
       " 'spam,Congratulations ur awarded 500 of CD vouchers or 125gift guaranteed & Free entry 2 100 wkly draw txt MUSIC to 87066 TnCs www.Ldew.com1win150ppmx3age16,,,,,,,,,,',\n",
       " 'spam,We tried to contact you re your reply to our offer of a Video Handset? 750 anytime networks mins? UNLIMITED TEXT? Camcorder? Reply or call 08000930705 NOW,,,,,,,,,,',\n",
       " 'spam,Hey I am really horny want to chat or see me naked text hot to 69698 text charged at 150pm to unsubscribe text stop 69698,,,,,,,,,,',\n",
       " 'spam,Ur ringtone service has changed! 25 Free credits! Go to club4mobiles.com to choose content now! Stop? txt CLUB STOP to 87070. 150p/wk Club4 PO Box1146 MK45 2WT,,,,,,,,,,',\n",
       " 'spam,Ringtone Club: Get the UK singles chart on your mobile each week and choose any top quality ringtone! This message is free of charge.,,,,,,,,,,',\n",
       " 'spam,HMV BONUS SPECIAL 500 pounds of genuine HMV vouchers to be won. Just answer 4 easy questions. Play Now! Send HMV to 86688 More info:www.100percent-real.com,,,,,,,,,,',\n",
       " \"spam,T-Mobile customer you may now claim your FREE CAMERA PHONE upgrade & a pay & go sim card for your loyalty. Call on 0845 021 3680.Offer ends 28thFeb.T&C's apply,,,,,,,,,,\",\n",
       " 'spam,SMS. ac Blind Date 4U!: Rodds1 is 21/m from Aberdeen, United Kingdom. Check Him out http://img. sms. ac/W/icmb3cktz8r7!-4 no Blind Dates send HIDE,,,,,,,,,',\n",
       " 'spam,TheMob> Check out our newest selection of content, Games, Tones, Gossip, babes and sport, Keep your mobile fit and funky text WAP to 82468,,,,,',\n",
       " 'spam,Think ur smart ? Win £200 this week in our weekly quiz, text PLAY to 85222 now!T&Cs WinnersClub PO BOX 84, M26 3UZ. 16+. GBP1.50/week,,,,,,,,',\n",
       " 'spam,December only! Had your mobile 11mths+? You are entitled to update to the latest colour camera mobile for Free! Call The Mobile Update Co FREE on 08002986906,,,,,,,,,,',\n",
       " 'spam,Call Germany for only 1 pence per minute! Call from a fixed line via access number 0844 861 85 85. No prepayment. Direct access!,,,,,,,,,,',\n",
       " 'spam,Valentines Day Special! Win over £1000 in our quiz and take your partner on the trip of a lifetime! Send GO to 83600 now. 150p/msg rcvd. CustCare:08718720201.,,,,,,,,,,',\n",
       " 'spam,Fancy a shag? I do.Interested? sextextuk.com txt XXUK SUZY to 69876. Txts cost 1.50 per msg. TnCs on website. X,,,,,,,,,,',\n",
       " 'spam,Congratulations ur awarded 500 of CD vouchers or 125gift guaranteed & Free entry 2 100 wkly draw txt MUSIC to 87066 TnCs www.Ldew.com1win150ppmx3age16,,,,,,,,,,',\n",
       " 'spam,Ur cash-balance is currently 500 pounds - to maximize ur cash-in now send CASH to 86688 only 150p/msg. CC: 08708800282 HG/Suite342/2Lands Row/W1J6HL,,,,,,,,,,',\n",
       " 'spam,Update_Now - Xmas Offer! Latest Motorola, SonyEricsson & Nokia & FREE Bluetooth! Double Mins & 1000 Txt on Orange. Call MobileUpd8 on 08000839402 or call2optout/F4Q=,,,,,,,,,',\n",
       " 'spam,Here is your discount code RP176781. To stop further messages reply stop. www.regalportfolio.co.uk. Customer Services 08717205546,,,,,,,,,,',\n",
       " 'spam,Thanks for your Ringtone Order, Reference T91. You will be charged GBP 4 per week. You can unsubscribe at anytime by calling customer services on 09057039994,,,,,,,,,',\n",
       " 'spam,Double mins and txts 4 6months FREE Bluetooth on Orange. Available on Sony, Nokia Motorola phones. Call MobileUpd8 on 08000839402 or call2optout/N9DX,,,,,,,,,',\n",
       " 'spam,4mths half price Orange line rental & latest camera phones 4 FREE. Had your phone 11mths ? Call MobilesDirect free on 08000938767 to update now! or2stoptxt,,,,,,,,,,',\n",
       " 'spam,FREE RINGTONE text FIRST to 87131 for a poly or text GET to 87131 for a true tone! Help? 0845 2814032 16 after 1st free, tones are 3x£150pw to e£nd txt stop,,,,,,,,,',\n",
       " 'spam,100 dating service cal;l 09064012103 box334sk38ch,,,,,,,,,,',\n",
       " 'spam,FREE entry into our £250 weekly competition just text the word WIN to 80086 NOW. 18 T&C www.txttowin.co.uk,,,,,,,,,,',\n",
       " 'spam,Send a logo 2 ur lover - 2 names joined by a heart. Txt LOVE NAME1 NAME2 MOBNO eg LOVE ADAM EVE 07123456789 to 87077 Yahoo! POBox36504W45WQ TxtNO 4 no ads 150p,,,,,,,,,,',\n",
       " 'spam,Someone has contacted our dating service and entered your phone because they fancy you! To find out who it is call from a landline 09111032124 . PoBox12n146tf150p,,,,,,,,,,',\n",
       " 'spam,URGENT! Your Mobile number has been awarded with a £2000 prize GUARANTEED. Call 09058094455 from land line. Claim 3030. Valid 12hrs only,,,,,,,,,,',\n",
       " 'spam,Congrats! Nokia 3650 video camera phone is your Call 09066382422 Calls cost 150ppm Ave call 3mins vary from mobiles 16+ Close 300603 post BCM4284 Ldn WC1N3XX,,,,,,,,,,',\n",
       " \"spam,Loan for any purpose £500 - £75,000. Homeowners + Tenants welcome. Have you been previously refused? We can still help. Call Free 0800 1956669 or text back 'help',,,,,,,,,\",\n",
       " \"spam,UpgrdCentre Orange customer, you may now claim your FREE CAMERA PHONE upgrade for your loyalty. Call now on 0207 153 9153. Offer ends 26th July. T&C's apply. Opt-out available,,,,,,,,,\",\n",
       " 'spam,okmail: Dear Dave this is your final notice to collect your 4* Tenerife Holiday or #5000 CASH award! Call 09061743806 from landline. TCs SAE Box326 CW25WX 150ppm,,,,,,,,,,',\n",
       " \"spam,Want 2 get laid tonight? Want real Dogging locations sent direct 2 ur Mob? Join the UK's largest Dogging Network by txting MOAN to 69888Nyt. ec2a. 31p.msg@150p,,,,,,,,,,\",\n",
       " 'spam,FREE MESSAGE Activate your 500 FREE Text Messages by replying to this message with the word FREE For terms & conditions, visit www.07781482378.com,,,,,,,,,',\n",
       " 'spam,Congrats! 1 year special cinema pass for 2 is yours. call 09061209465 now! C Suprman V, Matrix3, StarWars3, etc all 4 FREE! bx420-ip4-5we. 150pm. Dont miss out!,,,,,,,',\n",
       " \"spam,+123 Congratulations - in this week's competition draw u have won the £1450 prize to claim just call 09050002311 b4280703. T&Cs/stop SMS 08718727868. Over 18 only 150ppm,,,,,,,,,,\",\n",
       " 'spam,You are guaranteed the latest Nokia Phone, a 40GB iPod MP3 player or a £500 prize! Txt word: COLLECT to No: 83355! IBHltd LdnW15H 150p/Mtmsgrcvd18+,,,,,,,,,',\n",
       " 'spam,Boltblue tones for 150p Reply POLY# or MONO# eg POLY3 1. Cha Cha Slide 2. Yeah 3. Slow Jamz 6. Toxic 8. Come With Me or STOP 4 more tones txt MORE,,,,,,,,,,',\n",
       " 'spam,Your credits have been topped up for http://www.bubbletext.com Your renewal Pin is tgxxrz,,,,,,,,,,',\n",
       " 'spam,URGENT!: Your Mobile No. was awarded a £2,000 Bonus Caller Prize on 02/09/03! This is our 2nd attempt to contact YOU! Call 0871-872-9755 BOX95QU,,,,,,,,,',\n",
       " \"spam,Today's Offer! Claim ur £150 worth of discount vouchers! Text YES to 85023 now! SavaMob, member offers mobile! T Cs 08717898035. £3.00 Sub. 16 . Unsub reply X,,,,,,,,,\",\n",
       " 'spam,You will recieve your tone within the next 24hrs. For Terms and conditions please see Channel U Teletext Pg 750,,,,,,,,,,',\n",
       " 'spam,PRIVATE! Your 2003 Account Statement for 07815296484 shows 800 un-redeemed S.I.M. points. Call 08718738001 Identifier Code 41782 Expires 18/11/04 ,,,,,,,,,,',\n",
       " 'spam,from www.Applausestore.com MonthlySubscription@50p/msg max6/month T&CsC web age16 2stop txt stop,,,,,,,,,,',\n",
       " 'spam,GENT! We are trying to contact you. Last weekends draw shows that you won a £1000 prize GUARANTEED. Call 09064012160. Claim Code K52. Valid 12hrs only. 150ppm ,,,,,,,,,,',\n",
       " 'spam,You have won ?1,000 cash or a ?2,000 prize! To claim, call09050000327,,,,,,,',\n",
       " 'spam,our mobile number has won £5000, to claim calls us back or ring the claims hot line on 09050005321.,,,,,,,,,',\n",
       " 'spam,We tried to contact you re your reply to our offer of 750 mins 150 textand a new video phone call 08002988890 now or reply for free delivery tomorrow,,,,,,,,,,',\n",
       " \"spam,For ur chance to win a £250 wkly shopping spree TXT: SHOP to 80878. T's&C's www.txt-2-shop.com custcare 08715705022, 1x150p/wk,,,,,,,,,\",\n",
       " 'spam,You have been specially selected to receive a 2000 pound award! Call 08712402050 BEFORE the lines close. Cost 10ppm. 16+. T&Cs apply. AG Promo,,,,,,,,,,',\n",
       " 'spam,PRIVATE! Your 2003 Account Statement for 07753741225 shows 800 un-redeemed S. I. M. points. Call 08715203677 Identifier Code: 42478 Expires 24/10/04,,,,,,,,,,',\n",
       " 'spam,You have an important customer service announcement. Call FREEPHONE 0800 542 0825 now!,,,,,,,,,,',\n",
       " 'spam,XCLUSIVE@CLUBSAISAI 2MOROW 28/5 SOIREE SPECIALE ZOUK WITH NICHOLS FROM PARIS.FREE ROSES 2 ALL LADIES !!! info: 07946746291/07880867867 ,,,,,,,,,,',\n",
       " 'spam,22 days to kick off! For Euro2004 U will be kept up to date with the latest news and results daily. To be removed send GET TXT STOP to 83222,,,,,,,,,,',\n",
       " 'spam,New TEXTBUDDY Chat 2 horny guys in ur area 4 just 25p Free 2 receive Search postcode or at gaytextbuddy.com. TXT ONE name to 89693,,,,,,,,,,',\n",
       " 'spam,Todays Vodafone numbers ending with 4882 are selected to a receive a £350 award. If your number matches call 09064019014 to receive your £350 award.,,,,,,,,,,',\n",
       " 'spam,Dear Voucher Holder, 2 claim this weeks offer, at your PC go to http://www.e-tlp.co.uk/expressoffer Ts&Cs apply.2 stop texts txt STOP to 80062.,,,,,,,,',\n",
       " 'spam,PRIVATE! Your 2003 Account Statement for shows 800 un-redeemed S. I. M. points. Call 08715203694 Identifier Code: 40533 Expires 31/10/04,,,,,,,,,,',\n",
       " 'spam,You have won ?1,000 cash or a ?2,000 prize! To claim, call09050000327. T&C: RSTM, SW7 3SS. 150ppm,,,,,,',\n",
       " 'spam,88800 and 89034 are premium phone services call 08718711108,,,,,,,,,,',\n",
       " 'spam,\"SMS. ac sun0819 posts HELLO:\"\"You seem cool\",\" wanted to say hi. HI!!!\"\" Stop? Send STOP to 62468\",,,,,,,,,',\n",
       " 'spam,Get ur 1st RINGTONE FREE NOW! Reply to this msg with TONE. Gr8 TOP 20 tones to your phone every week just £1.50 per wk 2 opt out send STOP 08452810071 16,,,,,,,,,,',\n",
       " \"spam,Hi I'm sue. I am 20 years old and work as a lapdancer. I love sex. Text me live - I'm i my bedroom now. text SUE to 89555. By TextOperator G2 1DA 150ppmsg 18+,,,,,,,,,,\",\n",
       " 'spam,<Forwarded from 448712404000>Please CALL 08712404000 immediately as there is an urgent message waiting for you.,,,,,,,,,,',\n",
       " 'spam,To review and KEEP the fantastic Nokia N-Gage game deck with Club Nokia, go 2 www.cnupdates.com/newsletter. unsubscribe from alerts reply with the word OUT,,,,,,,,,',\n",
       " 'spam,4mths half price Orange line rental & latest camera phones 4 FREE. Had your phone 11mths+? Call MobilesDirect free on 08000938767 to update now! or2stoptxt T&Cs,,,,,,,,,,',\n",
       " 'spam,08714712388 between 10am-7pm Cost 10p,,,,,,,,,,',\n",
       " 'spam,+449071512431 URGENT! This is the 2nd attempt to contact U!U have WON £1250 CALL 09071512433 b4 050703 T&CsBCM4235WC1N3XX. callcost 150ppm mobilesvary. max£7. 50,,,,,,,,,,',\n",
       " 'spam,You have WON a guaranteed £1000 cash or a £2000 prize. To claim yr prize call our customer service representative on 08714712394 between 10am-7pm,,,,,,,,,,',\n",
       " 'spam,Email AlertFrom: Jeri StewartSize: 2KBSubject: Low-cost prescripiton drvgsTo listen to email call 123,,,,,,,,,,',\n",
       " 'spam,Hi. Customer Loyalty Offer:The NEW Nokia6650 Mobile from ONLY £10 at TXTAUCTION! Txt word: START to No: 81151 & get yours Now! 4T&Ctxt TC 150p/MTmsg,,,,,,,,,,',\n",
       " 'spam,U are subscribed to the best Mobile Content Service in the UK for £3 per 10 days until you send STOP to 82324. Helpline 08706091795,,,,,,,,,,',\n",
       " \"spam,Do you realize that in about 40 years, we'll have thousands of old ladies running around with tattoos?,,,,,,,,,\",\n",
       " 'spam,You have an important customer service announcement from PREMIER.,,,,,,,,,,',\n",
       " 'spam,Romantic Paris. 2 nights, 2 flights from £79 Book now 4 next year. Call 08704439680Ts&Cs apply.,,,,,,,,,',\n",
       " 'spam,Urgent Ur £500 guaranteed award is still unclaimed! Call 09066368327 NOW closingdate04/09/02 claimcode M39M51 £1.50pmmorefrommobile2Bremoved-MobyPOBox734LS27YF,,,,,,,,,,',\n",
       " 'spam,UR awarded a City Break and could WIN a £200 Summer Shopping spree every WK. Txt STORE to 88039 . SkilGme. TsCs087147403231Winawk!Age16 £1.50perWKsub,,,,,,,,,,',\n",
       " 'spam,You have an important customer service announcement from PREMIER. Call FREEPHONE 0800 542 0578 now!,,,,,,,,,,',\n",
       " 'spam,Ever thought about living a good life with a perfect partner? Just txt back NAME and AGE to join the mobile community. (100p/SMS),,,,,,,,,,',\n",
       " 'spam,5 Free Top Polyphonic Tones call 087018728737, National Rate. Get a toppoly tune sent every week, just text SUBPOLY to 81618, £3 per pole. UnSub 08718727870.,,,,,,,',\n",
       " \"spam,Orange customer, you may now claim your FREE CAMERA PHONE upgrade for your loyalty. Call now on 0207 153 9996. Offer ends 14thMarch. T&C's apply. Opt-out availa,,,,,,,,,\",\n",
       " 'spam,Last Chance! Claim ur £150 worth of discount vouchers today! Text SHOP to 85023 now! SavaMob, offers mobile! T Cs SavaMob POBOX84, M263UZ. £3.00 Sub. 16,,,,,,,,',\n",
       " 'spam,FREE for 1st week! No1 Nokia tone 4 ur mobile every week just txt NOKIA to 8077 Get txting and tell ur mates. www.getzed.co.uk POBox 36504 W45WQ 16+ norm150p/tone,,,,,,,,,,',\n",
       " 'spam,You have won a guaranteed £200 award or even £1000 cashto claim UR award call free on 08000407165 (18+) 2 stop getstop on 88222 PHP. RG21 4JX,,,,,,,,,,',\n",
       " 'spam,Congratulations ur awarded either £500 of CD gift vouchers & Free entry 2 our £100 weekly draw txt MUSIC to 87066 TnCs www.Ldew.com1win150ppmx3age16,,,,,,,,,,',\n",
       " 'spam,U were outbid by simonwatson5120 on the Shinco DVD Plyr. 2 bid again, visit sms. ac/smsrewards 2 end bid notifications, reply END OUT,,,,,,,,',\n",
       " 'spam,SMSSERVICES. for yourinclusive text credits, pls goto www.comuk.net login= 3qxj9 unsubscribe with STOP, no extra charge. help 08702840625.COMUK. 220-CM2 9AE,,,,,,,,',\n",
       " \"spam,25p 4 alfie Moon's Children in need song on ur mob. Tell ur m8s. Txt Tone charity to 8007 for Nokias or Poly charity for polys: zed 08701417012 profit 2 charity.,,,,,,,,,,\",\n",
       " 'spam,U have a secret admirer. REVEAL who thinks U R So special. Call 09065174042. To opt out Reply REVEAL STOP. 1.50 per msg recd. Cust care 07821230901,,,,,,,,,,',\n",
       " 'spam,Dear Voucher Holder, To claim this weeks offer, at you PC please go to http://www.e-tlp.co.uk/expressoffer Ts&Cs apply. To stop texts, txt STOP to 80062,,,,,,,',\n",
       " 'spam,Do you want 750 anytime any network mins 150 text and a NEW VIDEO phone for only five pounds per week call 08002888812 or reply for delivery tomorrow,,,,,,,,,,',\n",
       " 'spam,We tried to contact you re our offer of New Video Phone 750 anytime any network mins HALF PRICE Rental camcorder call 08000930705 or reply for delivery Wed,,,,,,,,,,',\n",
       " 'spam,Last chance 2 claim ur £150 worth of discount vouchers-Text YES to 85023 now!SavaMob-member offers mobile T Cs 08717898035. £3.00 Sub. 16 . Remove txt X or STOP,,,,,,,,,,',\n",
       " 'spam,Urgent! call 09066350750 from your landline. Your complimentary 4* Ibiza Holiday or 10,000 cash await collection SAE T&Cs PO BOX 434 SK3 8WP 150 ppm 18+ ,,,,,,,,,',\n",
       " \"spam,Today's Offer! Claim ur £150 worth of discount vouchers! Text YES to 85023 now! SavaMob, member offers mobile! T Cs 08717898035. £3.00 Sub. 16 . Unsub reply X,,,,,,,,,\",\n",
       " 'spam,Talk sexy!! Make new friends or fall in love in the worlds most discreet text dating service. Just text VIP to 83110 and see who you could meet.,,,,,,,,,,',\n",
       " 'spam,Congratulations ur awarded either a yrs supply of CDs from Virgin Records or a Mystery Gift GUARANTEED Call 09061104283 Ts&Cs www.smsco.net £1.50pm approx 3mins,,,,,,,,,,',\n",
       " 'spam,PRIVATE! Your 2003 Account Statement for 07808 XXXXXX shows 800 un-redeemed S. I. M. points. Call 08719899217 Identifier Code: 41685 Expires 07/11/04,,,,,,,,,,',\n",
       " 'spam,Hello. We need some posh birds and chaps to user trial prods for champneys. Can i put you down? I need your address and dob asap. Ta r,,,,,,,,,,',\n",
       " 'spam,What do U want for Xmas? How about 100 free text messages & a new video phone with half price line rental? Call free now on 0800 0721072 to find out more!,,,,,,,,,,',\n",
       " 'spam,Shop till u Drop, IS IT YOU, either 10K, 5K, £500 Cash or £100 Travel voucher, Call now, 09064011000. NTT PO Box CR01327BT fixedline Cost 150ppm mobile vary,,,,',\n",
       " 'spam,Sunshine Quiz Wkly Q! Win a top Sony DVD player if u know which country Liverpool played in mid week? Txt ansr to 82277. £1.50 SP:Tyrone,,,,,,,,,,',\n",
       " 'spam,U have a secret admirer who is looking 2 make contact with U-find out who they R*reveal who thinks UR so special-call on 09058094565,,,,,,,,,,',\n",
       " 'spam,U have a Secret Admirer who is looking 2 make contact with U-find out who they R*reveal who thinks UR so special-call on 09065171142-stopsms-08,,,,,,,,,,',\n",
       " 'spam,Reminder: You have not downloaded the content you have already paid for. Goto http://doit. mymoby. tv/ to collect your content.,,,,,,,,,,',\n",
       " 'spam,\"Your free ringtone is waiting to be collected. Simply text the password \"\"MIX\"\" to 85069 to verify. Get Usher and Britney. FML\", PO Box 5249, MK17 92H. 450Ppw 16,,,,,,,,',\n",
       " 'spam,all the lastest from Stereophonics, Marley, Dizzee Racal, Libertines and The Strokes! Win Nookii games with Flirt!! Click TheMob WAP Bookmark or text WAP to 82468,,,,,,,',\n",
       " 'spam,January Male Sale! Hot Gay chat now cheaper, call 08709222922. National rate from 1.5p/min cheap to 7.8p/min peak! To stop texts call 08712460324 (10p/min),,,,,,,,,',\n",
       " 'spam,money!!! you r a lucky winner ! 2 claim your prize text money 2 88600 over £1million to give away ! ppt150x3+normal text rate box403 w1t1jy,,,,,,,,,,',\n",
       " 'spam,Dear Matthew please call 09063440451 from a landline, your complimentary 4*Lux Tenerife holiday or £1000 CASH await collection. ppm150 SAE T&Cs Box334 SK38XH.,,,,,,,,,',\n",
       " 'spam,Urgent! call 09061749602 from Landline. Your complimentary 4* Tenerife Holiday or £10,000 cash await collection SAE T&Cs BOX 528 HP20 1YF 150ppm 18+,,,,,,,,,',\n",
       " 'spam,How about getting in touch with folks waiting for company? Just txt back your NAME and AGE to opt in! Enjoy the community (150p/SMS),,,,,,,,,,',\n",
       " 'spam,Ur cash-balance is currently 500 pounds - to maximize ur cash-in now send GO to 86688 only 150p/msg. CC: 08718720201 PO BOX 114/14 TCR/W1,,,,,,,,,,',\n",
       " 'spam,Filthy stories and GIRLS waiting for your,,,,,,,,,,',\n",
       " 'spam,URGENT! We are trying to contact U. Todays draw shows that you have won a £800 prize GUARANTEED. Call 09050001808 from land line. Claim M95. Valid12hrs only,,,,,,,,,,',\n",
       " 'spam,Congrats! 2 mobile 3G Videophones R yours. call 09063458130 now! videochat wid your mates, play java games, Dload polyPH music, noline rentl.,,,,,,,',\n",
       " 'spam,Please call our customer service representative on FREEPHONE 0808 145 4742 between 9am-11pm as you have WON a guaranteed £1000 cash or £5000 prize!,,,,,,,,,,',\n",
       " 'spam,Panasonic & BluetoothHdset FREE. Nokia FREE. Motorola FREE & DoubleMins & DoubleTxt on Orange contract. Call MobileUpd8 on 08000839402 or call 2optout,,,,,,,,,,',\n",
       " 'spam,FREE for 1st week! No1 Nokia tone 4 ur mob every week just txt NOKIA to 8007 Get txting and tell ur mates www.getzed.co.uk POBox 36504 W45WQ norm150p/tone 16+,,,,,,,,,,',\n",
       " 'spam,Guess what! Somebody you know secretly fancies you! Wanna find out who it is? Give us a call on 09065394514 From Landline DATEBox1282EssexCM61XN 150p/min 18,,,,,,,,,,',\n",
       " 'spam,We know someone who you know that fancies you. Call 09058097218 to find out who. POBox 6, LS15HB 150p,,,,,,,,,',\n",
       " \"spam,1000's flirting NOW! Txt GIRL or BLOKE & ur NAME & AGE, eg GIRL ZOE 18 to 8007 to join and get chatting!,,,,,,,,,\",\n",
       " 'spam,18 days to Euro2004 kickoff! U will be kept informed of all the latest news and results daily. Unsubscribe send GET EURO STOP to 83222.,,,,,,,,,,',\n",
       " 'spam,EASTENDERS TV Quiz. What FLOWER does DOT compare herself to? D= VIOLET E= TULIP F= LILY txt D E or F to 84025 NOW 4 chance 2 WIN £100 Cash WKENT/150P16+,,,,,,,,,,',\n",
       " 'spam,We have new local dates in your area - Lots of new people registered in YOUR AREA. Reply DATE to start now! 18 only www.flirtparty.us REPLYS150,,,,,,,,,,',\n",
       " 'spam,Someone U know has asked our dating service 2 contact you! Cant Guess who? CALL 09058091854 NOW all will be revealed. PO BOX385 M6 6WU,,,,,,,,,,',\n",
       " 'spam,URGENT! We are trying to contact U. Todays draw shows that you have won a £800 prize GUARANTEED. Call 09050003091 from land line. Claim C52. Valid12hrs only,,,,,,,,,,',\n",
       " \"spam,Dear U've been invited to XCHAT. This is our final attempt to contact u! Txt CHAT to 86688,,,,,,,,,,\",\n",
       " 'spam,You are awarded a SiPix Digital Camera! call 09061221061 from landline. Delivery within 28days. T Cs Box177. M221BP. 2yr warranty. 150ppm. 16 . p p£3.99,,,,,,,,,,',\n",
       " 'spam,WIN URGENT! Your mobile number has been awarded with a £2000 prize GUARANTEED call 09061790121 from land line. claim 3030 valid 12hrs only 150ppm ,,,,,,,,,,',\n",
       " 'spam,Dear Subscriber ur draw 4 £100 gift voucher will b entered on receipt of a correct ans. When was Elvis Presleys Birthday? TXT answer to 80062,,,,,,,,,,',\n",
       " 'spam,Message Important information for O2 user. Today is your lucky day! 2 find out why log onto http://www.urawinner.com there is a fantastic surprise awaiting you,,,,,,,,,,',\n",
       " 'spam,449050000301 You have won a £2,000 price! To claim, call 09050000301.,,,,,,,,',\n",
       " \"spam,Bored of speed dating? Try SPEEDCHAT, txt SPEEDCHAT to 80155, if you don't like em txt SWAP and get a new chatter! Chat80155 POBox36504W45WQ 150p/msg rcd 16,,,,,,,,\",\n",
       " 'spam,Do you want 750 anytime any network mins 150 text and a NEW video phone for only five pounds per week call 08000776320 now or reply for delivery Tomorrow,,,,,,,,,,',\n",
       " 'spam,For taking part in our mobile survey yesterday! You can now have 500 texts 2 use however you wish. 2 get txts just send TXT to 80160 T&C www.txt43.com 1.50p,,,,,,,,,,',\n",
       " 'spam,Ur HMV Quiz cash-balance is currently £500 - to maximize ur cash-in now send HMV1 to 86688 only 150p/msg,,,,,,,,,,',\n",
       " 'spam,Dont forget you can place as many FREE Requests with 1stchoice.co.uk as you wish. For more Information call 08707808226.,,,,,,,,,,',\n",
       " \"spam,I don't know u and u don't know me. Send CHAT to 86688 now and let's find each other! Only 150p/Msg rcvd. HG/Suite342/2Lands/Row/W1J6HL LDN. 18 years or over.,,,,,,,,,,\",\n",
       " 'spam,Thank you, winner notified by sms. Good Luck! No future marketing reply STOP to 84122 customer services 08450542832,,,,,,,,,',\n",
       " \"spam,1000's of girls many local 2 u who r virgins 2 this & r ready 2 4fil ur every sexual need. Can u 4fil theirs? text CUTE to 69911(£1.50p. m),,,,,,,,,,\",\n",
       " \"spam,Free entry in 2 a wkly comp to win FA Cup final tkts 21st May 2005. Text FA to 87121 to receive entry question(std txt rate)T&C's apply 08452810075over18's,,,,,,,,,,\",\n",
       " 'spam,Got what it takes 2 take part in the WRC Rally in Oz? U can with Lucozade Energy! Text RALLY LE to 61200 (25p), see packs or lucozade.co.uk/wrc & itcould be u!,,,,,,,,,',\n",
       " 'spam,Sex up ur mobile with a FREE sexy pic of Jordan! Just text BABE to 88600. Then every wk get a sexy celeb! PocketBabe.co.uk 4 more pics. 16 £3/wk 087016248,,,,,,,,,,',\n",
       " 'spam,You have 1 new voicemail. Please call 08719181503,,,,,,,,,,',\n",
       " 'spam,WIN a year supply of CDs 4 a store of ur choice worth £500 & enter our £100 Weekly draw txt MUSIC to 87066 Ts&Cs www.Ldew.com.subs16+1win150ppmx3,,,,,,,,,,',\n",
       " 'spam,As a SIM subscriber, you are selected to receive a Bonus! Get it delivered to your door, Txt the word OK to No: 88600 to claim. 150p/msg, EXP. 30Apr,,,,,,,',\n",
       " 'spam,You have 1 new voicemail. Please call 08719181513.,,,,,,,,,,',\n",
       " 'spam,No. 1 Nokia Tone 4 ur mob every week! Just txt NOK to 87021. 1st Tone FREE ! so get txtin now and tell ur friends. 150p/tone. 16 reply HL 4info,,,,,,,,,,',\n",
       " 'spam,You are a winner U have been specially selected 2 receive £1000 cash or a 4* holiday (flights inc) speak to a live operator 2 claim 0871277810810,,,,,,,,,,',\n",
       " 'spam,Reply with your name and address and YOU WILL RECEIVE BY POST a weeks completely free accommodation at various global locations www.phb1.com ph:08700435505150p,,,,,,,,,,',\n",
       " 'spam,FREE entry into our £250 weekly comp just send the word ENTER to 84128 NOW. 18 T&C www.textcomp.com cust care 08712405020.,,,,,,,,,,',\n",
       " 'spam,Please CALL 08712402779 immediately as there is an urgent message waiting for you,,,,,,,,,,',\n",
       " 'spam,Hungry gay guys feeling hungry and up 4 it, now. Call 08718730555 just 10p/min. To stop texts call 08712460324 (10p/min),,,,,,,,,',\n",
       " 'spam,Can U get 2 phone NOW? I wanna chat 2 set up meet Call me NOW on 09096102316 U can cum here 2moro Luv JANE xx Calls£1/minmoremobsEMSPOBox45PO139WA,,,,,,,,,,',\n",
       " \"spam,network operator. The service is free. For T & C's visit 80488.biz,,,,,,,,,,\",\n",
       " 'spam,Enjoy the jamster videosound gold club with your credits for 2 new videosounds+2 logos+musicnews! get more fun from jamster.co.uk! 16+only Help? call: 09701213186 ,,,,,,,,,,',\n",
       " 'spam,Get 3 Lions England tone, reply lionm 4 mono or lionp 4 poly. 4 more go 2 www.ringtones.co.uk, the original n best. Tones 3GBP network operator rates apply,,,,,,,,',\n",
       " 'spam,Win the newest “Harry Potter and the Order of the Phoenix (Book 5) reply HARRY, answer 5 questions - chance to be the first among readers!,,,,,,,,,',\n",
       " \"spam,Ur balance is now £500. Ur next question is: Who sang 'Uptown Girl' in the 80's ? 2 answer txt ur ANSWER to 83600. Good luck!,,,,,,,,,,\",\n",
       " \"spam,FREE2DAY sexy St George's Day pic of Jordan!Txt PIC to 89080 dont miss out, then every wk a saucy celeb!4 more pics c PocketBabe.co.uk 0870241182716 £3/wk,,,,,,,,,\",\n",
       " 'spam,HOT LIVE FANTASIES call now 08707509020 Just 20p per min NTT Ltd, PO Box 1327 Croydon CR9 5WB 0870..k,,,,,,,,,',\n",
       " 'spam,Bears Pic Nick, and Tom, Pete and ... Dick. In fact, all types try gay chat with photo upload call 08718730666 (10p/min). 2 stop texts call 08712460324,,,,,,,',\n",
       " 'spam,500 New Mobiles from 2004, MUST GO! Txt: NOKIA to No: 89545 & collect yours today!From ONLY £1 www.4-tc.biz 2optout 087187262701.50gbp/mtmsg18 TXTAUCTION,,,,,,,,,',\n",
       " 'spam,Double Mins & Double Txt & 1/2 price Linerental on Latest Orange Bluetooth mobiles. Call MobileUpd8 for the very latest offers. 08000839402 or call2optout/LF56,,,,,,,,,,',\n",
       " 'spam,No. 1 Nokia Tone 4 ur mob every week! Just txt NOK to 87021. 1st Tone FREE ! so get txtin now and tell ur friends. 150p/tone. 16 reply HL 4info,,,,,,,,,,',\n",
       " 'spam,URGENT, IMPORTANT INFORMATION FOR O2 USER. TODAY IS YOUR LUCKY DAY! 2 FIND OUT WHY LOG ONTO HTTP://WWW.URAWINNER.COM THERE IS A FANTASTIC SURPRISE AWAITING FOR YOU,,,,,,,,,',\n",
       " \"spam,Dear U've been invited to XCHAT. This is our final attempt to contact u! Txt CHAT to 86688 150p/MsgrcvdHG/Suite342/2Lands/Row/W1J6HL LDN 18 yrs,,,,,,,,,,\",\n",
       " 'spam,Congratulations ur awarded either £500 of CD gift vouchers & Free entry 2 our £100 weekly draw txt MUSIC to 87066 TnCs www.Ldew.com 1 win150ppmx3age16,,,,,,,,,,',\n",
       " 'spam,For sale - arsenal dartboard. Good condition but no doubles or trebles!,,,,,,,,,,',\n",
       " 'spam,Free 1st week entry 2 TEXTPOD 4 a chance 2 win 40GB iPod or £250 cash every wk. Txt POD to 84128 Ts&Cs www.textpod.net custcare 08712405020.,,,,,,,,,,',\n",
       " 'spam,As a registered optin subscriber ur draw 4 £100 gift voucher will be entered on receipt of a correct ans to 80062 Whats No1 in the BBC charts,,,,,,,,,,',\n",
       " 'spam,Summers finally here! Fancy a chat or flirt with sexy singles in yr area? To get MATCHED up just reply SUMMER now. Free 2 Join. OptOut txt STOP Help08714742804,,,,,,,,,,',\n",
       " 'spam,CLAIRE here am havin borin time & am now alone U wanna cum over 2nite? Chat now 09099725823 hope 2 C U Luv CLAIRE xx Calls£1/minmoremobsEMSPOBox45PO139WA,,,,,,,,,,',\n",
       " 'spam,Bought one ringtone and now getting texts costing 3 pound offering more tones etc,,,,,,,,,,',\n",
       " 'spam,09066362231 URGENT! Your mobile No 07xxxxxxxxx won a £2,000 bonus caller prize on 02/06/03! this is the 2nd attempt to reach YOU! call 09066362231 ASAP!,,,,,,,,,',\n",
       " 'spam,YOU 07801543489 are guaranteed the latests Nokia Phone, a 40GB iPod MP3 player or a £500 prize! Txt word:COLLECT to No:83355! TC-LLC NY-USA 150p/Mt msgrcvd18+,,,,,,,,,',\n",
       " 'spam,Hi its LUCY Hubby at meetins all day Fri & I will B alone at hotel U fancy cumin over? Pls leave msg 2day 09099726395 Lucy x Calls£1/minMobsmoreLKPOBOX177HP51FL,,,,,,,,,,',\n",
       " 'spam,Your account has been credited with 500 FREE Text Messages. To activate, just txt the word: CREDIT to No: 80488 T&Cs www.80488.biz,,,,,,,,,',\n",
       " 'spam,SMS. ac JSco: Energy is high, but u may not know where 2channel it. 2day ur leadership skills r strong. Psychic? Reply ANS w/question. End? Reply END JSCO,,,,,,,,,',\n",
       " 'spam,HOT LIVE FANTASIES call now 08707509020 Just 20p per min NTT Ltd, PO Box 1327 Croydon CR9 5WB 0870 is a national rate call,,,,,,,,,',\n",
       " 'spam,Thanks for the Vote. Now sing along with the stars with Karaoke on your mobile. For a FREE link just reply with SING now.,,,,,,,,,,',\n",
       " 'spam,Our brand new mobile music service is now live. The free music player will arrive shortly. Just install on your phone to browse content from the top artists.,,,,,,,,,,',\n",
       " 'spam,URGENT! Your Mobile No was awarded a £2,000 Bonus Caller Prize on 1/08/03! This is our 2nd attempt to contact YOU! Call 0871-4719-523 BOX95QU BT National Rate,,,,,,,,,',\n",
       " 'spam,You have won a Nokia 7250i. This is what you get when you win our FREE auction. To take part send Nokia to 86021 now. HG/Suite342/2Lands Row/W1JHL 16+,,,,,,,,,,',\n",
       " \"spam,Hello from Orange. For 1 month's free access to games, news and sport, plus 10 free texts and 20 photo messages, reply YES. Terms apply: www.orange.co.uk/ow,,,,,,,\",\n",
       " 'spam,Ur cash-balance is currently 500 pounds - to maximize ur cash-in now send GO to 86688 only 150p/msg. CC 08718720201 HG/Suite342/2Lands Row/W1J6HL,,,,,,,,,,',\n",
       " 'spam,SMS AUCTION - A BRAND NEW Nokia 7250 is up 4 auction today! Auction is FREE 2 join & take part! Txt NOKIA to 86021 now! HG/Suite342/2Lands Row/W1J6HL,,,,,,,,,,',\n",
       " 'spam,PRIVATE! Your 2003 Account Statement for shows 800 un-redeemed S. I. M. points. Call 08719899230 Identifier Code: 41685 Expires 07/11/04,,,,,,,,,,',\n",
       " 'spam,As a Registered Subscriber yr draw 4 a £100 gift voucher will b entered on receipt of a correct ans. When are the next olympics. Txt ans to 80062,,,,,,,,,,',\n",
       " 'spam,URGENT! Your Mobile number has been awarded with a £2000 prize GUARANTEED. Call 09061790121 from land line. Claim 3030. Valid 12hrs only 150ppm,,,,,,,,,,',\n",
       " 'spam,RT-KIng Pro Video Club>> Need help? info@ringtoneking.co.uk or call 08701237397 You must be 16+ Club credits redeemable at www.ringtoneking.co.uk! Enjoy!,,,,,,,,,,',\n",
       " 'spam,U have a secret admirer who is looking 2 make contact with U-find out who they R*reveal who thinks UR so special-call on 09058094599,,,,,,,,,,',\n",
       " \"spam,500 free text msgs. Just text ok to 80488 and we'll credit your account,,,,,,,,,,\",\n",
       " 'spam,You have been selected to stay in 1 of 250 top British hotels - FOR NOTHING! Holiday Worth £350! To Claim, Call London 02072069400. Bx 526, SW73SS,,,,,,,,',\n",
       " 'spam,Eerie Nokia tones 4u, rply TONE TITLE to 8007 eg TONE DRACULA to 8007 Titles: GHOST, ADDAMSFA, MUNSTERS, EXORCIST, TWILIGHT www.getzed.co.uk POBox36504W45WQ 150p,,,,,',\n",
       " 'spam,0A$NETWORKS allow companies to bill for SMS,\" so they are responsible for their \"\"suppliers\"\"\", just as a shop has to give a guarantee on what they sell. B. G.,,,,,,,,',\n",
       " 'spam,FreeMsg:Feelin kinda lnly hope u like 2 keep me company! Jst got a cam moby wanna c my pic?Txt or reply DATE to 82242 Msg150p 2rcv Hlp 08712317606 stop to 82242,,,,,,,,,,',\n",
       " \"spam,For ur chance to win a £250 cash every wk TXT: ACTION to 80608. T's&C's www.movietrivia.tv custcare 08712405022, 1x150p/wk,,,,,,,,,\",\n",
       " 'spam,RGENT! This is the 2nd attempt to contact U!U have WON £1250 CALL 09071512433 b4 050703 T&CsBCM4235WC1N3XX. callcost 150ppm mobilesvary. max£7. 50,,,,,,,,,,',\n",
       " 'spam,Hi if ur lookin 4 saucy daytime fun wiv busty married woman Am free all next week Chat now 2 sort time 09099726429 JANINExx Calls£1/minMobsmoreLKPOBOX177HP51FL,,,,,,,,,,',\n",
       " 'spam,URGENT! We are trying to contact U. Todays draw shows that you have won a £800 prize GUARANTEED. Call 09050001295 from land line. Claim A21. Valid 12hrs only,,,,,,,,,,',\n",
       " 'spam,Monthly password for wap. mobsi.com is 391784. Use your wap phone not PC.,,,,,,,,,,',\n",
       " 'spam,todays vodafone numbers ending with 0089(my last four digits) are selected to received a £350 award. If your number matches please call 09063442151 to claim your £350 award,,,,,,,,,,',\n",
       " 'spam,Free Top ringtone -sub to weekly ringtone-get 1st week free-send SUBPOLY to 81618-?3 per week-stop sms-08718727870,,,,,,,,,,',\n",
       " 'spam,Sunshine Quiz Wkly Q! Win a top Sony DVD player if u know which country the Algarve is in? Txt ansr to 82277. £1.50 SP:Tyrone,,,,,,,,,,',\n",
       " 'spam,Free msg. Sorry, a service you ordered from 81303 could not be delivered as you do not have sufficient credit. Please top up to receive the service.,,,,,,,,,',\n",
       " \"spam,Hard LIVE 121 chat just 60p/min. Choose your girl and connect LIVE. Call 09094646899 now! Cheap Chat UK's biggest live service. VU BCM1896WC1N3XX,,,,,,,,,,\",\n",
       " 'spam,WOW! The Boys R Back. TAKE THAT 2007 UK Tour. Win VIP Tickets & pre-book with VIP Club. Txt CLUB to 81303. Trackmarque Ltd info@vipclub4u.,,,,,,,,,,',\n",
       " 'spam,Hi, this is Mandy Sullivan calling from HOTMIX FM...you are chosen to receive £5000.00 in our Easter Prize draw.....Please telephone 09041940223 to claim before 29/03/05 or your prize will be transferred to someone else....,,,,,,,,,',\n",
       " 'spam,UR GOING 2 BAHAMAS! CallFREEFONE 08081560665 and speak to a live operator to claim either Bahamas cruise of£2000 CASH 18+only. To opt out txt X to 07786200117,,,,,,,,,,',\n",
       " 'spam,Someone has conacted our dating service and entered your phone because they fancy you!To find out who it is call from landline 09111030116. PoBox12n146tf15,,,,,,,,,,',\n",
       " 'spam,Hi 07734396839 IBH Customer Loyalty Offer: The NEW NOKIA6600 Mobile from ONLY £10 at TXTAUCTION!Txt word:START to No:81151 & get Yours Now!4T&,,,,,,,,,,',\n",
       " 'spam,SMS AUCTION You have won a Nokia 7250i. This is what you get when you win our FREE auction. To take part send Nokia to 86021 now. HG/Suite342/2Lands Row/W1JHL 16+,,,,,,,,,,',\n",
       " 'spam,Call FREEPHONE 0800 542 0578 now!,,,,,,,,,,',\n",
       " 'spam,Buy Space Invaders 4 a chance 2 win orig Arcade Game console. Press 0 for Games Arcade (std WAP charge) See o2.co.uk/games 4 Terms + settings. No purchase,,,,,,,,,,',\n",
       " \"spam,Loan for any purpose £500 - £75,000. Homeowners + Tenants welcome. Have you been previously refused? We can still help. Call Free 0800 1956669 or text back 'help',,,,,,,,,\",\n",
       " 'spam,BIG BROTHER ALERT! The computer has selected u for 10k cash or #150 voucher. Call 09064018838. NTT PO Box CRO1327 18+ BT Landline Cost 150ppm mobiles vary,,,,,,,,,,',\n",
       " 'spam,WIN: We have a winner! Mr. T. Foley won an iPod! More exciting prizes soon, so keep an eye on ur mobile or visit www.win-82050.co.uk,,,,,,,,,',\n",
       " 'spam,Todays Voda numbers ending 1225 are selected to receive a £50award. If you have a match please call 08712300220 quoting claim code 3100 standard rates app ,,,,,,,,,,',\n",
       " 'spam,Hottest pics straight to your phone!! See me getting Wet and Wanting, just for you xx Text PICS to 89555 now! txt costs 150p textoperator g696ga 18 XxX,,,,,,,,,',\n",
       " 'spam,Hack Chat. Get backdoor entry into 121 chat rooms at a fraction of the cost. Reply NEO69 or call 09050280520, to subscribe 25p pm. DPS, Bcm box 8027 Ldn, wc1n3xx,,,,,,,',\n",
       " \"spam,FREE NOKIA Or Motorola with upto 12mths 1/2price linerental, 500 FREE x-net mins&100txt/mth FREE B'tooth*. Call Mobileupd8 on 08001950382 or call 2optout/D3WV,,,,,,,,,\",\n",
       " 'spam,This is the 2nd time we have tried 2 contact u. U have won the 750 Pound prize. 2 claim is easy, call 08718726970 NOW! Only 10p per min. BT-national-rate ,,,,,,,,,',\n",
       " 'spam,You have WON a guaranteed £1000 cash or a £2000 prize.To claim yr prize call our customer service representative on,,,,,,,,,,',\n",
       " 'spam,Would you like to see my XXX pics they are so hot they were nearly banned in the uk!,,,,,,,,,,',\n",
       " 'spam,HMV BONUS SPECIAL 500 pounds of genuine HMV vouchers to be won. Just answer 4 easy questions. Play Now! Send HMV to 86688 More info:www.100percent-real.com,,,,,,,,,,',\n",
       " 'spam,U have a secret admirer who is looking 2 make contact with U-find out who they R*reveal who thinks UR so special-call on 09058094594,,,,,,,,,,',\n",
       " \"spam,Dear 0776xxxxxxx U've been invited to XCHAT. This is our final attempt to contact u! Txt CHAT to 86688 150p/MsgrcvdHG/Suite342/2Lands/Row/W1J6HL LDN 18yrs ,,,,,,,,,,\",\n",
       " 'spam,Urgent! Please call 09061743811 from landline. Your ABTA complimentary 4* Tenerife Holiday or £5000 cash await collection SAE T&Cs Box 326 CW25WX 150ppm,,,,,,,,,,',\n",
       " 'spam,CALL 09090900040 & LISTEN TO EXTREME DIRTY LIVE CHAT GOING ON IN THE OFFICE RIGHT NOW TOTAL PRIVACY NO ONE KNOWS YOUR [sic] LISTENING 60P MIN 24/7MP 0870753331018+,,,,,,,,,,',\n",
       " 'spam,FreeMsg Hey U, i just got 1 of these video/pic fones, reply WILD to this txt & ill send U my pics, hurry up Im so bored at work xxx (18 150p/rcvd STOP2stop),,,,,,,',\n",
       " \"spam,Free entry in 2 a weekly comp for a chance to win an ipod. Txt POD to 80182 to get entry (std txt rate) T&C's apply 08452810073 for details 18+,,,,,,,,,,\",\n",
       " 'spam,New TEXTBUDDY Chat 2 horny guys in ur area 4 just 25p Free 2 receive Search postcode or at gaytextbuddy.com. TXT ONE name to 89693. 08715500022 rpl Stop 2 cnl,,,,,,,,,,',\n",
       " 'spam,Call from 08702490080 - tells u 2 call 09066358152 to claim £5000 prize. U have 2 enter all ur mobile & personal details @ the prompts. Careful!,,,,,,,,,,',\n",
       " 'spam,Free 1st week entry 2 TEXTPOD 4 a chance 2 win 40GB iPod or £250 cash every wk. Txt VPOD to 81303 Ts&Cs www.textpod.net custcare 08712405020.,,,,,,,,,,',\n",
       " \"spam,More people are dogging in your area now. Call 09090204448 and join like minded guys. Why not arrange 1 yourself. There's 1 this evening. A£1.50 minAPN LS278BB,,,,,,,,,,\",\n",
       " 'spam,WELL DONE! Your 4* Costa Del Sol Holiday or £5000 await collection. Call 09050090044 Now toClaim. SAE, TCs, POBox334, Stockport, SK38xh, Cost£1.50/pm, Max10mins,,,,',\n",
       " 'spam,Guess what! Somebody you know secretly fancies you! Wanna find out who it is? Give us a call on 09065394973 from Landline DATEBox1282EssexCM61XN 150p/min 18,,,,,,,,,,',\n",
       " 'spam,it to 80488. Your 500 free text messages are valid until 31 December 2005.,,,,,,,,,,',\n",
       " 'spam,You have won a guaranteed £200 award or even £1000 cashto claim UR award call free on 08000407165 (18+) 2 stop getstop on 88222 PHP,,,,,,,,,,',\n",
       " 'spam,Reply to win £100 weekly! Where will the 2006 FIFA World Cup be held? Send STOP to 87239 to end service,,,,,,,,,,',\n",
       " 'spam,Urgent! Please call 09061743810 from landline. Your ABTA complimentary 4* Tenerife Holiday or #5000 cash await collection SAE T&Cs Box 326 CW25WX 150 ppm,,,,,,,,,,',\n",
       " 'spam,Free tones Hope you enjoyed your new content. text stop to 61610 to unsubscribe. help:08712400602450p Provided by tones2you.co.uk,,,,,,,,,,',\n",
       " 'spam,TheMob>Yo yo yo-Here comes a new selection of hot downloads for our members to get for FREE! Just click & open the next link sent to ur fone...,,,,,,,,,,',\n",
       " 'spam,Great News! Call FREEFONE 08006344447 to claim your guaranteed £1000 CASH or £2000 gift. Speak to a live operator NOW!,,,,,,,,,,',\n",
       " 'spam,U can WIN £100 of Music Gift Vouchers every week starting NOW Txt the word DRAW to 87066 TsCs www.ldew.com SkillGame,1Winaweek, age16.150ppermessSubscription,,,,,,,,',\n",
       " 'spam,4mths half price Orange line rental & latest camera phones 4 FREE. Had your phone 11mths ? Call MobilesDirect free on 08000938767 to update now! or2stoptxt,,,,,,,,,,',\n",
       " 'spam,Call 09094100151 to use ur mins! Calls cast 10p/min (mob vary). Service provided by AOM, just GBP5/month. AOM Box61,M60 1ER until u stop. Ages 18+ only!,,,,,,,,',\n",
       " 'spam,URGENT! Your mobile No *********** WON a £2,000 Bonus Caller Prize on 02/06/03! This is the 2nd attempt to reach YOU! Call 09066362220 ASAP! BOX97N7QP, 150ppm,,,,,,,,',\n",
       " 'spam,Eerie Nokia tones 4u, rply TONE TITLE to 8007 eg TONE DRACULA to 8007 Titles: GHOST, ADDAMSFA, MUNSTERS, EXORCIST, TWILIGHT www.getzed.co.uk POBox36504W45WQ 150p ,,,,,',\n",
       " 'spam,Sexy Singles are waiting for you! Text your AGE followed by your GENDER as wither M or F E.G.23F. For gay men text your AGE followed by a G. e.g.23G.,,,,,,,,,,',\n",
       " 'spam,FreeMsg: Claim ur 250 SMS messages-Text OK to 84025 now!Use web2mobile 2 ur mates etc. Join Txt250.com for 1.50p/wk. T&C BOX139, LA32WU. 16 . Remove txtX or stop,,,,,,,,,',\n",
       " 'spam,85233 FREE>Ringtone!Reply REAL,,,,,,,,,,',\n",
       " 'spam,Well done ENGLAND! Get the official poly ringtone or colour flag on yer mobile! text TONE or FLAG to 84199 NOW! Opt-out txt ENG STOP. Box39822 W111WX £1.50,,,,,,,,,,',\n",
       " 'spam,Final Chance! Claim ur £150 worth of discount vouchers today! Text YES to 85023 now! SavaMob, member offers mobile! T Cs SavaMob POBOX84, M263UZ. £3.00 Subs 16,,,,,,,,',\n",
       " 'spam,PRIVATE! Your 2004 Account Statement for 07742676969 shows 786 unredeemed Bonus Points. To claim call 08719180248 Identifier Code: 45239 Expires,,,,,,,,,,',\n",
       " 'spam,SMS SERVICES. for your inclusive text credits, pls goto www.comuk.net login= ***** unsubscribe with STOP. no extra charge. help:08700469649. PO BOX420. IP4 5WE,,,,,,,,,',\n",
       " \"spam,FREE2DAY sexy St George's Day pic of Jordan!Txt PIC to 89080 dont miss out, then every wk a saucy celeb!4 more pics c PocketBabe.co.uk 0870241182716 £3/wk,,,,,,,,,\",\n",
       " 'spam,You are a winner you have been specially selected to receive £1000 cash or a £2000 award. Speak to a live operator to claim call 087123002209am-7pm. Cost 10p,,,,,,,,,,',\n",
       " 'spam,Sunshine Hols. To claim ur med holiday send a stamped self address envelope to Drinks on Us UK, PO Box 113, Bray, Wicklow, Eire. Quiz Starts Saturday! Unsub Stop,,,,,,',\n",
       " 'spam,U can WIN £100 of Music Gift Vouchers every week starting NOW Txt the word DRAW to 87066 TsCs www.Idew.com SkillGame, 1Winaweek, age16. 150ppermessSubscription,,,,,,,,',\n",
       " \"spam,+123 Congratulations - in this week's competition draw u have won the £1450 prize to claim just call 09050002311 b4280703. T&Cs/stop SMS 08718727868. Over 18 only 150ppm,,,,,,,,,,\",\n",
       " 'spam,Your B4U voucher w/c 27/03 is MARSMS. Log onto www.B4Utele.com for discount credit. To opt out reply stop. Customer care call 08717168528,,,,,,,,,,',\n",
       " \"spam,FreeMsg: Hey - I'm Buffy. 25 and love to satisfy men. Home alone feeling randy. Reply 2 C my PIX! QlynnBV Help08700621170150p a msg Send stop to stop txts,,,,,,,,,,\",\n",
       " 'spam,Sunshine Hols. To claim ur med holiday send a stamped self address envelope to Drinks on Us UK, PO Box 113, Bray, Wicklow, Eire. Quiz Starts Saturday! Unsub Stop,,,,,,',\n",
       " 'spam,FREE for 1st week! No1 Nokia tone 4 ur mob every week just txt NOKIA to 87077 Get txting and tell ur mates. zed POBox 36504 W45WQ norm150p/tone 16+,,,,,,,,,,',\n",
       " 'spam,Shop till u Drop, IS IT YOU, either 10K, 5K, £500 Cash or £100 Travel voucher, Call now, 09064011000. NTT PO Box CR01327BT fixedline Cost 150ppm mobile vary,,,,',\n",
       " 'spam,FREE camera phones with linerental from 4.49/month with 750 cross ntwk mins. 1/2 price txt bundle deals also avble. Call 08001950382 or call2optout/J MF,,,,,,,,,,',\n",
       " 'spam,URGENT! Your mobile No 07xxxxxxxxx won a £2,000 bonus caller prize on 02/06/03! this is the 2nd attempt to reach YOU! call 09066362231 ASAP! BOX97N7QP, 150PPM,,,,,,,,',\n",
       " 'spam,URGENT!! Your 4* Costa Del Sol Holiday or £5000 await collection. Call 09050090044 Now toClaim. SAE, TC s, POBox334, Stockport, SK38xh, Cost£1.50/pm, Max10mins,,,,',\n",
       " 'spam,You have WON a guaranteed £1000 cash or a £2000 prize. To claim yr prize call our customer service representative on 08714712379 between 10am-7pm Cost 10p,,,,,,,,,,',\n",
       " 'spam,Thanks for your ringtone order, ref number K718. Your mobile will be charged £4.50. Should your tone not arrive please call customer services on 09065069120,,,,,,,,,',\n",
       " \"spam,Hi ya babe x u 4goten bout me?' scammers getting smart..Though this is a regular vodafone no, if you respond you get further prem rate msg/subscription. Other nos used also. Beware!,,,,,,,,,\",\n",
       " 'spam,Back 2 work 2morro half term over! Can U C me 2nite 4 some sexy passion B4 I have 2 go back? Chat NOW 09099726481 Luv DENA Calls £1/minMobsmoreLKPOBOX177HP51FL,,,,,,,,,,',\n",
       " 'spam,Thanks for your ringtone order, ref number R836. Your mobile will be charged £4.50. Should your tone not arrive please call customer services on 09065069154,,,,,,,,,',\n",
       " 'spam,SplashMobile: Choose from 1000s of gr8 tones each wk! This is a subscrition service with weekly tones costing 300p. U have one credit - kick back and ENJOY,,,,,,,,,,',\n",
       " 'spam,Not heard from U4 a while. Call 4 rude chat private line 01223585334 to cum. Wan 2C pics of me gettin shagged then text PIX to 8552. 2End send STOP 8552 SAM xxx,,,,,,,,,,',\n",
       " 'spam,<Forwarded from 88877>FREE entry into our £250 weekly comp just send the word ENTER to 88877 NOW. 18 T&C www.textcomp.com,,,,,,,,,,',\n",
       " 'spam,88066 FROM 88066 LOST 3POUND HELP,,,,,,,,,,',\n",
       " 'spam,Had your mobile 11mths ? Update for FREE to Oranges latest colour camera mobiles & unlimited weekend calls. Call Mobile Upd8 on freefone 08000839402 or 2StopTx,,,,,,,,,,',\n",
       " 'spam,You have 1 new message. Please call 08718738034.,,,,,,,,,,',\n",
       " 'spam,<Forwarded from 21870000>Hi - this is your Mailbox Messaging SMS alert. You have 4 messages. You have 21 matches. Please call back on 09056242159 to retrieve your messages and matches,,,,,,,,,,',\n",
       " 'spam,Congrats! 1 year special cinema pass for 2 is yours. call 09061209465 now! C Suprman V, Matrix3, StarWars3, etc all 4 FREE! bx420-ip4-5we. 150pm. Dont miss out!,,,,,,,',\n",
       " 'spam,WIN a year supply of CDs 4 a store of ur choice worth £500 & enter our £100 Weekly draw txt MUSIC to 87066 Ts&Cs www.Ldew.com.subs16+1win150ppmx3,,,,,,,,,,',\n",
       " 'spam,Moby Pub Quiz.Win a £100 High Street prize if u know who the new Duchess of Cornwall will be? Txt her first name to 82277.unsub STOP £1.50 008704050406 SP Arrow,,,,,,,,,,',\n",
       " 'spam,You have won a Nokia 7250i. This is what you get when you win our FREE auction. To take part send Nokia to 86021 now. HG/Suite342/2Lands Row/W1JHL 16+ ,,,,,,,,,,',\n",
       " 'spam,Congratulations! Thanks to a good friend U have WON the £2,000 Xmas prize. 2 claim is easy, just call 08718726971 NOW! Only 10p per minute. BT-national-rate.,,,,,,,,',\n",
       " 'spam,tddnewsletter@emc1.co.uk (More games from TheDailyDraw) Dear Helen, Dozens of Free Games - with great prizesWith..,,,,,,,,,',\n",
       " 'spam,URGENT! Your mobile number *************** WON a £2000 Bonus Caller prize on 10/06/03! This is the 2nd attempt to reach you! Call 09066368753 ASAP! Box 97N7QP, 150ppm,,,,,,,,,',\n",
       " 'spam,Double your mins & txts on Orange or 1/2 price linerental - Motorola and SonyEricsson with B/Tooth FREE-Nokia FREE Call MobileUpd8 on 08000839402 or2optout/HV9D,,,,,,,,,,',\n",
       " 'spam,Download as many ringtones as u like no restrictions, 1000s 2 choose. U can even send 2 yr buddys. Txt Sir to 80082 £3 ,,,,,,,,,',\n",
       " 'spam,Please CALL 08712402902 immediately as there is an urgent message waiting for you.,,,,,,,,,,',\n",
       " 'spam,Spook up your mob with a Halloween collection of a logo & pic message plus a free eerie tone, txt CARD SPOOK to 8007 zed 08701417012150p per logo/pic,,,,,,,,,',\n",
       " 'spam,Fantasy Football is back on your TV. Go to Sky Gamestar on Sky Active and play £250k Dream Team. Scoring starts on Saturday, so register now!SKY OPT OUT to 88088,,,,,,,,,',\n",
       " 'spam,Tone Club: Your subs has now expired 2 re-sub reply MONOC 4 monos or POLYC 4 polys 1 weekly @ 150p per week Txt STOP 2 stop This msg free Stream 0871212025016,,,,,,,,,,',\n",
       " 'spam,XMAS Prize draws! We are trying to contact U. Todays draw shows that you have won a £2000 prize GUARANTEED. Call 09058094565 from land line. Valid 12hrs only,,,,,,,,,,',\n",
       " 'spam,YES! The only place in town to meet exciting adult singles is now in the UK. Txt CHAT to 86688 now! 150p/Msg.,,,,,,,,,,',\n",
       " 'spam,Someone has contacted our dating service and entered your phone becausethey fancy you! To find out who it is call from a landline 09058098002. PoBox1, W14RG 150p,,,,,,,,,',\n",
       " 'spam,Babe: U want me dont u baby! Im nasty and have a thing 4 filthyguys. Fancy a rude time with a sexy bitch. How about we go slo n hard! Txt XXX SLO(4msgs),,,,,,,,,,',\n",
       " \"spam,I don't know u and u don't know me. Send CHAT to 86688 now and let's find each other! Only 150p/Msg rcvd. HG/Suite342/2Lands/Row/W1J6HL LDN. 18 years or over.,,,,,,,,,,\",\n",
       " 'spam,SMS SERVICES For your inclusive text credits pls gotto www.comuk.net login 3qxj9 unsubscribe with STOP no extra charge help 08702840625 comuk.220cm2 9AE,,,,,,,,,,',\n",
       " 'spam,Valentines Day Special! Win over £1000 in our quiz and take your partner on the trip of a lifetime! Send GO to 83600 now. 150p/msg rcvd. CustCare:08718720201,,,,,,,,,,',\n",
       " \"spam,Guess who am I?This is the first time I created a web page WWW.ASJESUS.COM read all I wrote. I'm waiting for your opinions. I want to be your friend 1/1,,,,,,,,,,\",\n",
       " \"spam,For ur chance to win £250 cash every wk TXT: PLAY to 83370. T's&C's www.music-trivia.net custcare 08715705022, 1x150p/wk.,,,,,,,,,\",\n",
       " 'spam,Final Chance! Claim ur £150 worth of discount vouchers today! Text YES to 85023 now! SavaMob, member offers mobile! T Cs SavaMob POBOX84, M263UZ. £3.00 Subs 16,,,,,,,,',\n",
       " 'spam,Sppok up ur mob with a Halloween collection of nokia logo&pic message plus a FREE eerie tone, txt CARD SPOOK to 8007,,,,,,,,,',\n",
       " 'spam,Urgent! call 09066612661 from landline. Your complementary 4* Tenerife Holiday or £10,000 cash await collection SAE T&Cs PO Box 3 WA14 2PX 150ppm 18+ Sender: Hol Offer,,,,,,,,,',\n",
       " 'spam,WINNER! As a valued network customer you hvae been selected to receive a £900 reward! To collect call 09061701444. Valid 24 hours only. ACL03530150PM,,,,,,,,,,',\n",
       " 'spam,U have won a nokia 6230 plus a free digital camera. This is what u get when u win our FREE auction. To take part send NOKIA to 83383 now. POBOX114/14TCR/W1 16,,,,,,,,,,',\n",
       " 'spam,FREE entry into our £250 weekly comp just send the word WIN to 80086 NOW. 18 T&C www.txttowin.co.uk,,,,,,,,,,',\n",
       " 'spam,Text82228>> Get more ringtones, logos and games from www.txt82228.com. Questions: info@txt82228.co.uk,,,,,,,,,',\n",
       " 'spam,FreeMSG You have been awarded a FREE mini DIGITAL CAMERA, just reply SNAP to collect your prize! (quizclub Opt out? Stop 80122300p/wk SP:RWM Ph:08704050406),,,,,,,,,',\n",
       " 'spam,This message is brought to you by GMW Ltd. and is not connected to the,,,,,,,,,,',\n",
       " 'spam,Congrats 2 mobile 3G Videophones R yours. call 09063458130 now! videochat wid ur mates, play java games, Dload polypH music, noline rentl. bx420. ip4. 5we. 150p,,,,,,,',\n",
       " 'spam,Your next amazing xxx PICSFREE1 video will be sent to you enjoy! If one vid is not enough for 2day text back the keyword PICSFREE1 to get the next video.,,,,,,,,,,',\n",
       " 'spam,U are subscribed to the best Mobile Content Service in the UK for £3 per ten days until you send STOP to 83435. Helpline 08706091795.,,,,,,,,,,',\n",
       " 'spam,3 FREE TAROT TEXTS! Find out about your love life now! TRY 3 FOR FREE! Text CHANCE to 85555 16 only! After 3 Free, Msgs £1.50 each,,,,,,,,,',\n",
       " \"spam,Join the UK's horniest Dogging service and u can have sex 2nite!. Just sign up and follow the instructions. Txt ENTRY to 69888 now! Nyt.EC2A.3LP.msg@150p,,,,,,,,,,\",\n",
       " 'spam,Sunshine Quiz Wkly Q! Win a top Sony DVD player if u know which country Liverpool played in mid week? Txt ansr to 82277. £1.50 SP:Tyrone,,,,,,,,,,',\n",
       " 'spam,Knock Knock Txt whose there to 80082 to enter r weekly draw 4 a £250 gift voucher 4 a store of yr choice. T&Cs www.tkls.com age16 to stoptxtstop£1.50/week,,,,,,,,,,',\n",
       " 'spam,<Forwarded from 21870000>Hi - this is your Mailbox Messaging SMS alert. You have 40 matches. Please call back on 09056242159 to retrieve your messages and matches cc100p/min,,,,,,,,,,',\n",
       " 'spam,\"FREE RING TONE just text \"\"POLYS\"\" to 87131. Then every week get a new tone. 0870737910216yrs only £1.50/wk.\",,,,,,,,,,',\n",
       " 'spam,URGENT! Your mobile No 077xxx WON a £2,000 Bonus Caller Prize on 02/06/03! This is the 2nd attempt to reach YOU! Call 09066362206 ASAP! BOX97N7QP, 150ppm,,,,,,,,',\n",
       " 'spam,You are guaranteed the latest Nokia Phone, a 40GB iPod MP3 player or a £500 prize! Txt word: COLLECT to No: 83355! IBHltd LdnW15H 150p/Mtmsgrcvd18,,,,,,,,,',\n",
       " 'spam,Hello darling how are you today? I would love to have a chat, why dont you tell me what you look like and what you are in to sexy?,,,,,,,,,',\n",
       " 'spam,8007 FREE for 1st week! No1 Nokia tone 4 ur mob every week just txt NOKIA to 8007 Get txting and tell ur mates www.getzed.co.uk POBox 36504 W4 5WQ norm 150p/tone 16+,,,,,,,,,,',\n",
       " \"spam,Wanna get laid 2nite? Want real Dogging locations sent direct to ur mobile? Join the UK's largest Dogging Network. Txt PARK to 69696 now! Nyt. ec2a. 3lp £1.50/msg,,,,,,,,,,\",\n",
       " 'spam,we tried to contact you re your response to our offer of a new nokia fone and camcorder hit reply or call 08000930705 for delivery,,,,,,,,,,',\n",
       " 'spam,New Tones This week include: 1)McFly-All Ab.., 2) Sara Jorge-Shock.. 3) Will Smith-Switch.. To order follow instructions on next message,,,,,,,,,',\n",
       " 'spam,URGENT! We are trying to contact U. Todays draw shows that you have won a £800 prize GUARANTEED. Call 09050003091 from land line. Claim C52. Valid 12hrs only,,,,,,,,,,',\n",
       " 'spam,sports fans - get the latest sports news str* 2 ur mobile 1 wk FREE PLUS a FREE TONE Txt SPORT ON to 8007 www.getzed.co.uk 0870141701216+ norm 4txt/120p ,,,,,,,,,,',\n",
       " 'spam,Urgent Urgent! We have 800 FREE flights to Europe to give away, call B4 10th Sept & take a friend 4 FREE. Call now to claim on 09050000555. BA128NNFWFLY150ppm,,,,,,,,,',\n",
       " 'spam,FROM 88066 LOST £12 HELP,,,,,,,,,,',\n",
       " 'spam,FreeMsg: Fancy a flirt? Reply DATE now & join the UKs fastest growing mobile dating service. Msgs rcvd just 25p to optout txt stop to 83021. Reply DATE now!,,,,,,,,,,',\n",
       " 'spam,Great NEW Offer - DOUBLE Mins & DOUBLE Txt on best Orange tariffs AND get latest camera phones 4 FREE! Call MobileUpd8 free on 08000839402 NOW! or 2stoptxt T&Cs,,,,,,,,,,',\n",
       " 'spam,Hope you enjoyed your new content. text stop to 61610 to unsubscribe. help:08712400602450p Provided by tones2you.co.uk,,,,,,,,,,',\n",
       " 'spam,18 days to Euro2004 kickoff! U will be kept informed of all the latest news and results daily. Unsubscribe send GET EURO STOP to 83222.,,,,,,,,,,',\n",
       " 'spam,Urgent Please call 09066612661 from landline. £5000 cash or a luxury 4* Canary Islands Holiday await collection. T&Cs SAE award. 20M12AQ. 150ppm. 16+ “,,,,,,,,,,',\n",
       " 'spam,Urgent! Please call 09066612661 from your landline, your complimentary 4* Lux Costa Del Sol holiday or £1000 CASH await collection. ppm 150 SAE T&Cs James 28, EH74RR,,,,,,,,',\n",
       " \"spam,I don't know u and u don't know me. Send CHAT to 86688 now and let's find each other! Only 150p/Msg rcvd. HG/Suite342/2Lands/Row/W1J6HL LDN. 18 years or over.,,,,,,,,,,\",\n",
       " 'spam,Married local women looking for discreet action now! 5 real matches instantly to your phone. Text MATCH to 69969 Msg cost 150p 2 stop txt stop BCMSFWC1N3XX,,,,,,,,,,',\n",
       " 'spam,Burger King - Wanna play footy at a top stadium? Get 2 Burger King before 1st Sept and go Large or Super with Coca-Cola and walk out a winner,,,,,,,,,,',\n",
       " 'spam,How come it takes so little time for a child who is afraid of the dark to become a teenager who wants to stay out all night?,,,,,,,,,,',\n",
       " \"spam,For ur chance to win a £250 cash every wk TXT: ACTION to 80608. T's&C's www.movietrivia.tv custcare 08712405022, 1x150p/wk.,,,,,,,,,\",\n",
       " 'spam,U’ve Bin Awarded £50 to Play 4 Instant Cash. Call 08715203028 To Claim. EVERY 9th Player Wins Min £50-£500. OptOut 08718727870,,,,,,,,,,',\n",
       " 'spam,FreeMsg>FAV XMAS TONES!Reply REAL,,,,,,,,,,',\n",
       " 'spam,December only! Had your mobile 11mths+? You are entitled to update to the latest colour camera mobile for Free! Call The Mobile Update Co FREE on 08002986906 ,,,,,,,,,,',\n",
       " 'spam,Gr8 Poly tones 4 ALL mobs direct 2u rply with POLY TITLE to 8007 eg POLY BREATHE1 Titles: CRAZYIN, SLEEPINGWITH, FINEST, YMCA :getzed.co.uk POBox365O4W45WQ 300p,,,,,,,',\n",
       " \"spam,INTERFLORA - \\x93It's not too late to order Interflora flowers for christmas call 0800 505060 to place your order before Midnight tomorrow.,,,,,,,,,,\",\n",
       " 'spam,ROMCAPspam Everyone around should be responding well to your presence since you are so warm and outgoing. You are bringing in a real breath of sunshine.,,,,,,,,,,',\n",
       " 'spam,Congratulations - Thanks to a good friend U have WON the £2,000 Xmas prize. 2 claim is easy, just call 08712103738 NOW! Only 10p per minute. BT-national-rate,,,,,,,,',\n",
       " 'spam,Send a logo 2 ur lover - 2 names joined by a heart. Txt LOVE NAME1 NAME2 MOBNO eg LOVE ADAM EVE 07123456789 to 87077 Yahoo! POBox36504W45WQ TxtNO 4 no ads 150p.,,,,,,,,,,',\n",
       " \"spam,You've won tkts to the EURO2004 CUP FINAL or £800 CASH, to collect CALL 09058099801 b4190604, POBOX 7876150ppm,,,,,,,,\",\n",
       " \"spam,Free-message: Jamster!Get the crazy frog sound now! For poly text MAD1, for real text MAD2 to 88888. 6 crazy sounds for just 3 GBP/week! 16+only! T&C's apply,,,,,,,,,\",\n",
       " 'spam,YOUR CHANCE TO BE ON A REALITY FANTASY SHOW call now = 08707509020 Just 20p per min NTT Ltd, PO Box 1327 Croydon CR9 5WB 0870 is a national = rate call,,,,,,,,,',\n",
       " 'spam,Adult 18 Content Your video will be with you shortly,,,,,,,,,,',\n",
       " 'spam,YOUR CHANCE TO BE ON A REALITY FANTASY SHOW call now = 08707509020 Just 20p per min NTT Ltd, PO Box 1327 Croydon CR9 5WB 0870 is a national = rate call.,,,,,,,,,',\n",
       " 'spam,Hey Boys. Want hot XXX pics sent direct 2 ur phone? Txt PORN to 69855, 24Hrs free and then just 50p per day. To stop text STOPBCM SF WC1N3XX,,,,,,,,,',\n",
       " 'spam,Last Chance! Claim ur £150 worth of discount vouchers today! Text SHOP to 85023 now! SavaMob, offers mobile! T Cs SavaMob POBOX84, M263UZ. £3.00 Sub. 16,,,,,,,,',\n",
       " 'spam,pdate_Now - Double mins and 1000 txts on Orange tariffs. Latest Motorola, SonyEricsson & Nokia & Bluetooth FREE! Call MobileUpd8 on 08000839402 or call2optout/!YHL,,,,,,,,,',\n",
       " 'spam,Ur cash-balance is currently 500 pounds - to maximize ur cash-in now send CASH to 86688 only 150p/msg. CC: 08718720201 PO BOX 114/14 TCR/W1,,,,,,,,,,',\n",
       " 'spam,URGENT! Your Mobile number has been awarded with a £2000 prize GUARANTEED. Call 09058094454 from land line. Claim 3030. Valid 12hrs only,,,,,,,,,,',\n",
       " 'spam,Sorry! U can not unsubscribe yet. THE MOB offer package has a min term of 54 weeks> pls resubmit request after expiry. Reply THEMOB HELP 4 more info,,,,,,,,,,',\n",
       " 'spam,You have 1 new message. Please call 08712400200.,,,,,,,,,,',\n",
       " 'spam,We currently have a message awaiting your collection. To collect your message just call 08718723815.,,,,,,,,,,',\n",
       " 'spam,URGENT! Your mobile was awarded a £1,500 Bonus Caller Prize on 27/6/03. Our final attempt 2 contact U! Call 08714714011,,,,,,,,,',\n",
       " 'spam,U have a secret admirer. REVEAL who thinks U R So special. Call 09065174042. To opt out Reply REVEAL STOP. 1.50 per msg recd. Cust care 07821230901,,,,,,,,,,',\n",
       " \"spam,Do you ever notice that when you're driving, anyone going slower than you is an idiot and everyone driving faster than you is a maniac?,,,,,,,,,\",\n",
       " 'spam,Xmas Offer! Latest Motorola, SonyEricsson & Nokia & FREE Bluetooth or DVD! Double Mins & 1000 Txt on Orange. Call MobileUpd8 on 08000839402 or call2optout/4QF2,,,,,,,,,',\n",
       " 'spam,Reply to win £100 weekly! What professional sport does Tiger Woods play? Send STOP to 87239 to end service,,,,,,,,,,',\n",
       " 'spam,No 1 POLYPHONIC tone 4 ur mob every week! Just txt PT2 to 87575. 1st Tone FREE ! so get txtin now and tell ur friends. 150p/tone. 16 reply HL 4info,,,,,,,,,,',\n",
       " 'spam,HOT LIVE FANTASIES call now 08707509020 Just 20p per min NTT Ltd, PO Box 1327 Croydon CR9 5WB 0870 is a national rate call,,,,,,,,,',\n",
       " 'spam,This message is free. Welcome to the new & improved Sex & Dogging club! To unsubscribe from this service reply STOP. msgs@150p 18+only,,,,,,,,,,',\n",
       " \"spam,You've won tkts to the EURO2004 CUP FINAL or £800 CASH, to collect CALL 09058099801 b4190604, POBOX 7876150ppm,,,,,,,,\",\n",
       " \"spam,Loan for any purpose £500 - £75,000. Homeowners + Tenants welcome. Have you been previously refused? We can still help. Call Free 0800 1956669 or text back 'help',,,,,,,,,\",\n",
       " 'spam,Update_Now - 12Mths Half Price Orange line rental: 400mins...Call MobileUpd8 on 08000839402 or call2optout=J5Q,,,,,,,,,,',\n",
       " 'spam,FREE UNLIMITED HARDCORE PORN direct 2 your mobile Txt PORN to 69200 & get FREE access for 24 hrs then chrgd@50p per day txt Stop 2exit. This msg is free,,,,,,,,,,',\n",
       " 'spam,EASTENDERS TV Quiz. What FLOWER does DOT compare herself to? D= VIOLET E= TULIP F= LILY txt D E or F to 84025 NOW 4 chance 2 WIN £100 Cash WKENT/150P16+,,,,,,,,,,',\n",
       " 'spam,You are now unsubscribed all services. Get tons of sexy babes or hunks straight to your phone! go to http://gotbabes.co.uk. No subscriptions.,,,,,,,,,,',\n",
       " 'spam,Hi babe its Jordan, how r u? Im home from abroad and lonely, text me back if u wanna chat xxSP visionsms.com Text stop to stopCost 150p 08712400603,,,,,,,,',\n",
       " 'spam,Get a brand new mobile phone by being an agent of The Mob! Plus loads more goodies! For more info just text MAT to 87021.,,,,,,,,,,',\n",
       " 'spam,LORD OF THE RINGS:RETURN OF THE KING in store NOW!REPLY LOTR by 2 June 4 Chance 2 WIN LOTR soundtrack CDs StdTxtRate. Reply STOP to end txts,,,,,,,,,,',\n",
       " 'spam,Good Luck! Draw takes place 28th Feb 06. Good Luck! For removal send STOP to 87239 customer services 08708034412,,,,,,,,,,',\n",
       " \"spam,Free entry in 2 a weekly comp for a chance to win an ipod. Txt POD to 80182 to get entry (std txt rate) T&C's apply 08452810073 for details 18+,,,,,,,,,,\",\n",
       " 'spam,1st wk FREE! Gr8 tones str8 2 u each wk. Txt NOKIA ON to 8007 for Classic Nokia tones or HIT ON to 8007 for Polys. Nokia/150p Poly/200p 16+,,,,,,,,,,',\n",
       " \"spam,LookAtMe!: Thanks for your purchase of a video clip from LookAtMe!, you've been charged 35p. Think you can do better? Why not send a video in a MMSto 32323.,,,,,,,,,\",\n",
       " 'spam,sexy sexy cum and text me im wet and warm and ready for some porn! u up for some fun? THIS MSG IS FREE RECD MSGS 150P INC VAT 2 CANCEL TEXT STOP,,,,,,,,,,',\n",
       " \"spam,Hard LIVE 121 chat just 60p/min. Choose your girl and connect LIVE. Call 09094646899 now! Cheap Chat UK's biggest live service. VU BCM1896WC1N3XX,,,,,,,,,,\",\n",
       " 'spam,Not heard from U4 a while. Call 4 rude chat private line 01223585334 to cum. Wan 2C pics of me gettin shagged then text PIX to 8552. 2End send STOP 8552 SAM xxx,,,,,,,,,,',\n",
       " 'spam,This is the 2nd time we have tried to contact u. U have won the £1450 prize to claim just call 09053750005 b4 310303. T&Cs/stop SMS 08718725756. 140ppm,,,,,,,,,,',\n",
       " 'spam,HOT LIVE FANTASIES call now 08707509020 Just 20p per min NTT Ltd, PO Box 1327 Croydon CR9 5WB 0870..k,,,,,,,,,',\n",
       " 'spam,Dear Voucher Holder, To claim this weeks offer, at you PC please go to http://www.e-tlp.co.uk/reward. Ts&Cs apply.,,,,,,,,',\n",
       " 'spam,UR GOING 2 BAHAMAS! CallFREEFONE 08081560665 and speak to a live operator to claim either Bahamas cruise of£2000 CASH 18+only. To opt out txt X to 07786200117,,,,,,,,,,',\n",
       " 'spam,This is the 2nd time we have tried 2 contact u. U have won the 750 Pound prize. 2 claim is easy, call 08712101358 NOW! Only 10p per min. BT-national-rate,,,,,,,,,',\n",
       " 'spam,UR awarded a City Break and could WIN a £200 Summer Shopping spree every WK. Txt STORE to 88039.SkilGme.TsCs087147403231Winawk!Age16+£1.50perWKsub,,,,,,,,,,',\n",
       " 'spam,URGENT! We are trying to contact U. Todays draw shows that you have won a £2000 prize GUARANTEED. Call 09066358361 from land line. Claim Y87. Valid 12hrs only,,,,,,,,,,',\n",
       " 'spam,Thanks for your ringtone order, reference number X29. Your mobile will be charged 4.50. Should your tone not arrive please call customer services 09065989180,,,,,,,,,',\n",
       " 'spam,SIX chances to win CASH! From 100 to 20,000 pounds txt> CSH11 and send to 87575. Cost 150p/day, 6days, 16+ TsandCs apply Reply HL 4 info,,,,,,,',\n",
       " 'spam,Ur cash-balance is currently 500 pounds - to maximize ur cash-in now send COLLECT to 83600 only 150p/msg. CC: 08718720201 PO BOX 114/14 TCR/W1,,,,,,,,,,',\n",
       " 'spam,Congratulations! Thanks to a good friend U have WON the £2,000 Xmas prize. 2 claim is easy, just call 08718726978 NOW! Only 10p per minute. BT-national-rate,,,,,,,,',\n",
       " 'spam,44 7732584351, Do you want a New Nokia 3510i colour phone DeliveredTomorrow? With 300 free minutes to any mobile + 100 free texts + Free Camcorder reply or call 08000930705.,,,,,,,,,',\n",
       " 'spam,You have 1 new voicemail. Please call 08719181513.,,,,,,,,,,',\n",
       " 'spam,Someone U know has asked our dating service 2 contact you! Cant Guess who? CALL 09058097189 NOW all will be revealed. POBox 6, LS15HB 150p ,,,,,,,,,',\n",
       " 'spam,Camera - You are awarded a SiPix Digital Camera! call 09061221066 fromm landline. Delivery within 28 days,,,,,,,,,,',\n",
       " 'spam,Todays Voda numbers ending 5226 are selected to receive a ?350 award. If you hava a match please call 08712300220 quoting claim code 1131 standard rates app ,,,,,,,,,,',\n",
       " 'spam,This message is free. Welcome to the new & improved Sex & Dogging club! To unsubscribe from this service reply STOP. msgs@150p 18 only,,,,,,,,,,',\n",
       " \"spam,RCT' THNQ Adrian for U text. Rgds Vatian,,,,,,,,,,\",\n",
       " 'spam,FREE MESSAGE Activate your 500 FREE Text Messages by replying to this message with the word FREE For terms & conditions, visit www.07781482378.com,,,,,,,,,',\n",
       " 'spam,You are being contacted by our dating service by someone you know! To find out who it is, call from a land line 09050000928. PoBox45W2TG150P,,,,,,,,,',\n",
       " \"spam,Sorry I missed your call let's talk when you have the time. I'm on 07090201529,,,,,,,,,,\",\n",
       " 'spam,complimentary 4 STAR Ibiza Holiday or £10,000 cash needs your URGENT collection. 09066364349 NOW from Landline not to lose out! Box434SK38WP150PPM18+,,,,,,,,,',\n",
       " 'spam,FREE MSG:We billed your mobile number by mistake from shortcode 83332.Please call 08081263000 to have charges refunded.This call will be free from a BT landline,,,,,,,,,,',\n",
       " 'spam,Please CALL 08712402972 immediately as there is an urgent message waiting for you,,,,,,,,,,',\n",
       " 'spam,URGENT! Your Mobile number has been awarded with a £2000 Bonus Caller Prize. Call 09058095201 from land line. Valid 12hrs only,,,,,,,,,,',\n",
       " 'spam,As a valued customer, I am pleased to advise you that following recent review of your Mob No. you are awarded with a £1500 Bonus Prize, call 09066364589,,,,,,,,',\n",
       " 'spam,Do you want a New Nokia 3510i colour phone DeliveredTomorrow? With 300 free minutes to any mobile + 100 free texts + Free Camcorder reply or call 08000930705,,,,,,,,,,',\n",
       " \"spam,LIFE has never been this much fun and great until you came in. You made it truly special for me. I won't forget you! enjoy @ one gbp/sms,,,,,,,,,,\",\n",
       " 'spam,Do you want a new Video phone? 600 anytime any network mins 400 Inclusive Video calls AND downloads 5 per week Free delTOMORROW call 08002888812 or reply NOW,,,,,,,,,,',\n",
       " 'spam,As a valued customer, I am pleased to advise you that following recent review of your Mob No. you are awarded with a £1500 Bonus Prize, call 09066368470,,,,,,,,',\n",
       " 'spam,Welcome! Please reply with your AGE and GENDER to begin. e.g 24M,,,,,,,,,,',\n",
       " 'spam,Freemsg: 1-month unlimited free calls! Activate SmartCall Txt: CALL to No: 68866. Subscriptn3gbp/wk unlimited calls Help: 08448714184 Stop?txt stop landlineonly,,,,,,,,,,',\n",
       " 'spam,Had your mobile 10 mths? Update to latest Orange camera/video phones for FREE. Save £s with Free texts/weekend calls. Text YES for a callback orno to opt out,,,,,,,,,,',\n",
       " 'spam,Am new 2 club & dont fink we met yet Will B gr8 2 C U Please leave msg 2day wiv ur area 09099726553 reply promised CARLIE x Calls£1/minMobsmore LKPOBOX177HP51FL,,,,,,,,,,',\n",
       " 'spam,Camera - You are awarded a SiPix Digital Camera! call 09061221066 fromm landline. Delivery within 28 days.,,,,,,,,,,',\n",
       " \"spam,Get a FREE mobile video player FREE movie. To collect text GO to 89105. Its free! Extra films can be ordered t's and c's apply. 18 yrs only,,,,,,,,,,\",\n",
       " 'spam,Save money on wedding lingerie at www.bridal.petticoatdreams.co.uk Choose from a superb selection with national delivery. Brought to you by WeddingFriend,,,,,,,,,,',\n",
       " 'spam,Not heard from U4 a while. Call me now am here all night with just my knickers on. Make me beg for it like U did last time 01223585236 XX Luv Nikiyu4.net,,,,,,,,,,',\n",
       " 'spam,Bloomberg -Message center +447797706009 Why wait? Apply for your future http://careers. bloomberg.com,,,,,,,,,,',\n",
       " 'spam,URGENT! We are trying to contact U. Todays draw shows that you have won a £800 prize GUARANTEED. Call 09050001808 from land line. Claim M95. Valid12hrs only,,,,,,,,,,',\n",
       " 'spam,Do you want a NEW video phone750 anytime any network mins 150 text for only five pounds per week call 08000776320 now or reply for delivery tomorrow,,,,,,,,,,',\n",
       " 'spam,You are being contacted by our dating service by someone you know! To find out who it is, call from a land line 09050000878. PoBox45W2TG150P,,,,,,,,,',\n",
       " 'spam,Wan2 win a Meet+Greet with Westlife 4 U or a m8? They are currently on what tour? 1)Unbreakable, 2)Untamed, 3)Unkempt. Text 1,2 or 3 to 83049. Cost 50p +std text,,,,,,,',\n",
       " 'spam,Dorothy@kiefer.com (Bank of Granite issues Strong-Buy) EXPLOSIVE PICK FOR OUR MEMBERS *****UP OVER 300% *********** Nasdaq Symbol CDGT That is a $5.00 per..,,,,,,,,,,',\n",
       " 'spam,You are a £1000 winner or Guaranteed Caller Prize, this is our Final attempt to contact you! To Claim Call 09071517866 Now! 150ppmPOBox10183BhamB64XE,,,,,,,,,',\n",
       " \"spam,Xmas & New Years Eve tickets are now on sale from the club, during the day from 10am till 8pm, and on Thurs, Fri & Sat night this week. They're selling fast!,,,,,,,\",\n",
       " \"spam,Rock yr chik. Get 100's of filthy films &XXX pics on yr phone now. rply FILTH to 69669. Saristar Ltd, E14 9YT 08701752560. 450p per 5 days. Stop2 cancel,,,,,,,,,\",\n",
       " 'spam,From next month get upto 50% More Calls 4 Ur standard network charge 2 activate Call 9061100010 C Wire3.net 1st4Terms PoBox84 M26 3UZ Cost £1.50 min MobcudB more,,,,,,,,,,',\n",
       " 'spam,URGENT! We are trying to contact U Todays draw shows that you have won a £800 prize GUARANTEED. Call 09050000460 from land line. Claim J89. po box245c2150pm,,,,,,,,,,',\n",
       " 'spam,Text BANNEDUK to 89555 to see! cost 150p textoperator g696ga 18+ XXX,,,,,,,,,,',\n",
       " 'spam,Auction round 4. The highest bid is now £54. Next maximum bid is £71. To bid, send BIDS e. g. 10 (to bid £10) to 83383. Good luck.,,,,,,,,,',\n",
       " \"spam,Collect your VALENTINE'S weekend to PARIS inc Flight & Hotel + £200 Prize guaranteed! Text: PARIS to No: 69101. www.rtf.sphosting.com,,,,,,,,,,\",\n",
       " 'spam,Customer Loyalty Offer:The NEW Nokia6650 Mobile from ONLY £10 at TXTAUCTION! Txt word: START to No: 81151 & get yours Now! 4T&Ctxt TC 150p/MTmsg,,,,,,,,,,',\n",
       " \"spam,You won't believe it but it's true. It's Incredible Txts! Reply G now to learn truly amazing things that will blow your mind. From O2FWD only 18p/txt,,,,,,,,,,\",\n",
       " 'spam,Hi 07734396839 IBH Customer Loyalty Offer: The NEW NOKIA6600 Mobile from ONLY £10 at TXTAUCTION!Txt word:START to No:81151 & get Yours Now!4T&,,,,,,,,,,',\n",
       " 'spam,I am hot n horny and willing I live local to you - text a reply to hear strt back from me 150p per msg Netcollex LtdHelpDesk: 02085076972 reply Stop to end,,,,,,,,,,',\n",
       " 'spam,Do you want a New Nokia 3510i Colour Phone Delivered Tomorrow? With 200 FREE minutes to any mobile + 100 FREE text + FREE camcorder Reply or Call 08000930705,,,,,,,,,,',\n",
       " \"spam,Congratulations YOU'VE Won. You're a Winner in our August £1000 Prize Draw. Call 09066660100 NOW. Prize Code 2309.,,,,,,,,,,\",\n",
       " \"spam,8007 25p 4 Alfie Moon's Children in Need song on ur mob. Tell ur m8s. Txt TONE CHARITY to 8007 for nokias or POLY CHARITY for polys :zed 08701417012 profit 2 charity ,,,,,,,,,,\",\n",
       " 'spam,Get the official ENGLAND poly ringtone or colour flag on yer mobile for tonights game! Text TONE or FLAG to 84199. Optout txt ENG STOP Box39822 W111WX £1.50,,,,,,,,,,',\n",
       " 'spam,Customer service announcement. We recently tried to make a delivery to you but were unable to do so, please call 07090298926 to re-schedule. Ref:9307622,,,,,,,,,',\n",
       " 'spam,\"You can stop further club tones by replying \"\"STOP MIX\"\" See my-tone.com/enjoy. html for terms. Club tones cost GBP4.50/week. MFL\", PO Box 1146 MK45 2WT (2/3),,,,,,,,,',\n",
       " 'spam,wamma get laid?want real doggin locations sent direct to your mobile? join the UKs largest dogging network. txt dogs to 69696 now!nyt. ec2a. 3lp £1.50/msg.,,,,,,,,,,',\n",
       " 'spam,You have won a Nokia 7250i. This is what you get when you win our FREE auction. To take part send Nokia to 86021 now. HG/Suite342/2Lands Row/W1JHL 16+,,,,,,,,,,',\n",
       " 'spam,Promotion Number: 8714714 - UR awarded a City Break and could WIN a £200 Summer Shopping spree every WK. Txt STORE to 88039 . SkilGme. TsCs087147403231Winawk!Age16 £1.50perWKsub,,,,,,,,,,',\n",
       " 'spam,You are a winner you have been specially selected to receive £1000 cash or a £2000 award. Speak to a live operator to claim call 087147123779am-7pm. Cost 10p,,,,,,,,,,',\n",
       " 'spam,Free Top ringtone -sub to weekly ringtone-get 1st week free-send SUBPOLY to 81618-?3 per week-stop sms-08718727870,,,,,,,,,,',\n",
       " 'spam,Thanks for your ringtone order, reference number X49. Your mobile will be charged 4.50. Should your tone not arrive please call customer services 09065989182. From: [colour=red]text[/colour]TXTstar,,,,,,,,,',\n",
       " 'spam,Hi there, 2nights ur lucky night! Uve been invited 2 XCHAT, the Uks wildest chat! Txt CHAT to 86688 now! 150p/MsgrcvdHG/Suite342/2Lands/Row/W1J6HL LDN 18yrs,,,,,,,,',\n",
       " 'spam,2/2 146tf150p,,,,,,,,,,',\n",
       " 'spam,Dear Voucher Holder 2 claim your 1st class airport lounge passes when using Your holiday voucher call 08704439680. When booking quote 1st class x 2,,,,,,,,,,',\n",
       " 'spam,Bloomberg -Message center +447797706009 Why wait? Apply for your future http://careers. bloomberg.com,,,,,,,,,,',\n",
       " 'spam,YES! The only place in town to meet exciting adult singles is now in the UK. Txt CHAT to 86688 now! 150p/Msg.,,,,,,,,,,',\n",
       " 'spam,FREE for 1st week! No1 Nokia tone 4 ur mob every week just txt NOKIA to 8007 Get txting and tell ur mates www.getzed.co.uk POBox 36504 W45WQ norm150p/tone 16+,,,,,,,,,,']"
      ]
     },
     "execution_count": 247,
     "metadata": {},
     "output_type": "execute_result"
    }
   ],
   "source": [
    "spamRDD.collect()"
   ]
  },
  {
   "cell_type": "markdown",
   "id": "b8439b8a",
   "metadata": {},
   "source": [
    "## Pré-Processamento dos Dados"
   ]
  },
  {
   "cell_type": "code",
   "execution_count": 248,
   "id": "090c0355",
   "metadata": {},
   "outputs": [],
   "source": [
    "def TransformToVector(inputStr):\n",
    "    attList = inputStr.split(\",\")\n",
    "    smsType = 0.0 if attList[0] == \"ham\" else 1.0\n",
    "    return [smsType, attList[1]]"
   ]
  },
  {
   "cell_type": "code",
   "execution_count": 249,
   "id": "825c5750",
   "metadata": {},
   "outputs": [
    {
     "name": "stdout",
     "output_type": "stream",
     "text": [
      "+-----+--------------------+\n",
      "|label|             message|\n",
      "+-----+--------------------+\n",
      "|  0.0|Go until jurong p...|\n",
      "|  0.0|Ok lar... Joking ...|\n",
      "|  0.0|U dun say so earl...|\n",
      "|  0.0|Nah I don't think...|\n",
      "|  0.0|Even my brother i...|\n",
      "|  0.0|As per your reque...|\n",
      "|  0.0|I'm gonna be home...|\n",
      "|  0.0|I've been searchi...|\n",
      "|  0.0|I HAVE A DATE ON ...|\n",
      "|  0.0|Oh k...i'm watchi...|\n",
      "|  0.0|Eh u remember how...|\n",
      "|  0.0|Fine if thats th...|\n",
      "|  0.0|Is that seriously...|\n",
      "|  0.0|I‘m going to try ...|\n",
      "|  0.0|So ü pay first la...|\n",
      "|  0.0|Aft i finish my l...|\n",
      "|  0.0|Ffffffffff. Alrig...|\n",
      "|  0.0|Just forced mysel...|\n",
      "|  0.0|Lol your always s...|\n",
      "|  0.0|Did you catch the...|\n",
      "+-----+--------------------+\n",
      "only showing top 20 rows\n",
      "\n"
     ]
    }
   ],
   "source": [
    "spamRDD2 = spamRDD.map(TransformToVector)\n",
    "spamDF = spSession.createDataFrame(spamRDD2, [\"label\", \"message\"])\n",
    "spamDF.cache()\n",
    "spamDF.select(\"label\", \"message\").show()"
   ]
  },
  {
   "cell_type": "markdown",
   "id": "1497d277",
   "metadata": {},
   "source": [
    "## Machine Learning"
   ]
  },
  {
   "cell_type": "code",
   "execution_count": 250,
   "id": "ce4f96bc",
   "metadata": {},
   "outputs": [],
   "source": [
    "# Dados de Treino e de Teste\n",
    "(dados_treino, dados_teste) = spamDF.randomSplit([0.7, 0.3])"
   ]
  },
  {
   "cell_type": "code",
   "execution_count": 251,
   "id": "5b4e7e54",
   "metadata": {},
   "outputs": [
    {
     "data": {
      "text/plain": [
       "731"
      ]
     },
     "execution_count": 251,
     "metadata": {},
     "output_type": "execute_result"
    }
   ],
   "source": [
    "dados_treino.count()"
   ]
  },
  {
   "cell_type": "code",
   "execution_count": 252,
   "id": "da721c12",
   "metadata": {},
   "outputs": [
    {
     "data": {
      "text/plain": [
       "269"
      ]
     },
     "execution_count": 252,
     "metadata": {},
     "output_type": "execute_result"
    }
   ],
   "source": [
    "dados_teste.count()"
   ]
  },
  {
   "cell_type": "code",
   "execution_count": 253,
   "id": "65b21396",
   "metadata": {},
   "outputs": [],
   "source": [
    "# Divisão em palavras e aplicação do TF-IDF \n",
    "tokenizer = Tokenizer(inputCol = \"message\", outputCol = \"words\")\n",
    "hashingTF = HashingTF(inputCol = tokenizer.getOutputCol(), outputCol = \"tempfeatures\")\n",
    "idf = IDF(inputCol = hashingTF.getOutputCol(), outputCol = \"features\")\n",
    "nbClassifier = NaiveBayes()"
   ]
  },
  {
   "cell_type": "code",
   "execution_count": 254,
   "id": "956b214d",
   "metadata": {},
   "outputs": [],
   "source": [
    "# Criação do Pipeline\n",
    "pipeline = Pipeline(stages = [tokenizer, hashingTF, idf, nbClassifier])"
   ]
  },
  {
   "cell_type": "code",
   "execution_count": 255,
   "id": "66da42e7",
   "metadata": {},
   "outputs": [],
   "source": [
    "# Criação do modelo com o Pipeline\n",
    "modelo = pipeline.fit(dados_treino)"
   ]
  },
  {
   "cell_type": "code",
   "execution_count": 256,
   "id": "3f4161f5",
   "metadata": {},
   "outputs": [
    {
     "data": {
      "text/plain": [
       "[Row(prediction=0.0, label=0.0),\n",
       " Row(prediction=1.0, label=0.0),\n",
       " Row(prediction=1.0, label=0.0),\n",
       " Row(prediction=1.0, label=0.0),\n",
       " Row(prediction=0.0, label=0.0),\n",
       " Row(prediction=0.0, label=0.0),\n",
       " Row(prediction=0.0, label=0.0),\n",
       " Row(prediction=0.0, label=0.0),\n",
       " Row(prediction=1.0, label=0.0),\n",
       " Row(prediction=1.0, label=0.0),\n",
       " Row(prediction=0.0, label=0.0),\n",
       " Row(prediction=0.0, label=0.0),\n",
       " Row(prediction=0.0, label=0.0),\n",
       " Row(prediction=0.0, label=0.0),\n",
       " Row(prediction=0.0, label=0.0),\n",
       " Row(prediction=0.0, label=0.0),\n",
       " Row(prediction=0.0, label=0.0),\n",
       " Row(prediction=0.0, label=0.0),\n",
       " Row(prediction=0.0, label=0.0),\n",
       " Row(prediction=0.0, label=0.0),\n",
       " Row(prediction=0.0, label=0.0),\n",
       " Row(prediction=0.0, label=0.0),\n",
       " Row(prediction=0.0, label=0.0),\n",
       " Row(prediction=1.0, label=0.0),\n",
       " Row(prediction=1.0, label=0.0),\n",
       " Row(prediction=1.0, label=0.0),\n",
       " Row(prediction=1.0, label=0.0),\n",
       " Row(prediction=0.0, label=0.0),\n",
       " Row(prediction=0.0, label=0.0),\n",
       " Row(prediction=0.0, label=0.0),\n",
       " Row(prediction=0.0, label=0.0),\n",
       " Row(prediction=0.0, label=0.0),\n",
       " Row(prediction=0.0, label=0.0),\n",
       " Row(prediction=1.0, label=0.0),\n",
       " Row(prediction=0.0, label=0.0),\n",
       " Row(prediction=0.0, label=0.0),\n",
       " Row(prediction=0.0, label=0.0),\n",
       " Row(prediction=0.0, label=0.0),\n",
       " Row(prediction=0.0, label=0.0),\n",
       " Row(prediction=0.0, label=0.0),\n",
       " Row(prediction=0.0, label=0.0),\n",
       " Row(prediction=0.0, label=0.0),\n",
       " Row(prediction=0.0, label=0.0),\n",
       " Row(prediction=1.0, label=0.0),\n",
       " Row(prediction=1.0, label=0.0),\n",
       " Row(prediction=1.0, label=0.0),\n",
       " Row(prediction=0.0, label=0.0),\n",
       " Row(prediction=0.0, label=0.0),\n",
       " Row(prediction=0.0, label=0.0),\n",
       " Row(prediction=0.0, label=0.0),\n",
       " Row(prediction=0.0, label=0.0),\n",
       " Row(prediction=0.0, label=0.0),\n",
       " Row(prediction=0.0, label=0.0),\n",
       " Row(prediction=0.0, label=0.0),\n",
       " Row(prediction=0.0, label=0.0),\n",
       " Row(prediction=0.0, label=0.0),\n",
       " Row(prediction=0.0, label=0.0),\n",
       " Row(prediction=0.0, label=0.0),\n",
       " Row(prediction=1.0, label=0.0),\n",
       " Row(prediction=0.0, label=0.0),\n",
       " Row(prediction=0.0, label=0.0),\n",
       " Row(prediction=0.0, label=0.0),\n",
       " Row(prediction=0.0, label=0.0),\n",
       " Row(prediction=1.0, label=0.0),\n",
       " Row(prediction=0.0, label=0.0),\n",
       " Row(prediction=0.0, label=0.0),\n",
       " Row(prediction=0.0, label=0.0),\n",
       " Row(prediction=0.0, label=0.0),\n",
       " Row(prediction=1.0, label=0.0),\n",
       " Row(prediction=0.0, label=0.0),\n",
       " Row(prediction=0.0, label=0.0),\n",
       " Row(prediction=0.0, label=0.0),\n",
       " Row(prediction=0.0, label=0.0),\n",
       " Row(prediction=1.0, label=0.0),\n",
       " Row(prediction=0.0, label=0.0),\n",
       " Row(prediction=1.0, label=0.0),\n",
       " Row(prediction=0.0, label=0.0),\n",
       " Row(prediction=1.0, label=0.0),\n",
       " Row(prediction=0.0, label=0.0),\n",
       " Row(prediction=1.0, label=0.0),\n",
       " Row(prediction=0.0, label=0.0),\n",
       " Row(prediction=0.0, label=0.0),\n",
       " Row(prediction=0.0, label=0.0),\n",
       " Row(prediction=0.0, label=0.0),\n",
       " Row(prediction=0.0, label=0.0),\n",
       " Row(prediction=0.0, label=0.0),\n",
       " Row(prediction=0.0, label=0.0),\n",
       " Row(prediction=0.0, label=0.0),\n",
       " Row(prediction=1.0, label=0.0),\n",
       " Row(prediction=1.0, label=0.0),\n",
       " Row(prediction=0.0, label=0.0),\n",
       " Row(prediction=0.0, label=0.0),\n",
       " Row(prediction=0.0, label=0.0),\n",
       " Row(prediction=0.0, label=0.0),\n",
       " Row(prediction=0.0, label=0.0),\n",
       " Row(prediction=0.0, label=0.0),\n",
       " Row(prediction=0.0, label=0.0),\n",
       " Row(prediction=0.0, label=0.0),\n",
       " Row(prediction=0.0, label=0.0),\n",
       " Row(prediction=0.0, label=0.0),\n",
       " Row(prediction=0.0, label=0.0),\n",
       " Row(prediction=0.0, label=0.0),\n",
       " Row(prediction=1.0, label=0.0),\n",
       " Row(prediction=1.0, label=0.0),\n",
       " Row(prediction=0.0, label=0.0),\n",
       " Row(prediction=0.0, label=0.0),\n",
       " Row(prediction=0.0, label=0.0),\n",
       " Row(prediction=0.0, label=0.0),\n",
       " Row(prediction=0.0, label=0.0),\n",
       " Row(prediction=1.0, label=0.0),\n",
       " Row(prediction=0.0, label=0.0),\n",
       " Row(prediction=0.0, label=0.0),\n",
       " Row(prediction=0.0, label=0.0),\n",
       " Row(prediction=0.0, label=0.0),\n",
       " Row(prediction=0.0, label=0.0),\n",
       " Row(prediction=0.0, label=0.0),\n",
       " Row(prediction=0.0, label=0.0),\n",
       " Row(prediction=0.0, label=0.0),\n",
       " Row(prediction=0.0, label=0.0),\n",
       " Row(prediction=0.0, label=0.0),\n",
       " Row(prediction=0.0, label=0.0),\n",
       " Row(prediction=0.0, label=0.0),\n",
       " Row(prediction=0.0, label=0.0),\n",
       " Row(prediction=0.0, label=0.0),\n",
       " Row(prediction=0.0, label=0.0),\n",
       " Row(prediction=0.0, label=0.0),\n",
       " Row(prediction=0.0, label=0.0),\n",
       " Row(prediction=0.0, label=0.0),\n",
       " Row(prediction=0.0, label=0.0),\n",
       " Row(prediction=0.0, label=0.0),\n",
       " Row(prediction=0.0, label=0.0),\n",
       " Row(prediction=0.0, label=0.0),\n",
       " Row(prediction=0.0, label=0.0),\n",
       " Row(prediction=1.0, label=1.0),\n",
       " Row(prediction=1.0, label=1.0),\n",
       " Row(prediction=1.0, label=1.0),\n",
       " Row(prediction=1.0, label=1.0),\n",
       " Row(prediction=1.0, label=1.0),\n",
       " Row(prediction=1.0, label=1.0),\n",
       " Row(prediction=1.0, label=1.0),\n",
       " Row(prediction=1.0, label=1.0),\n",
       " Row(prediction=1.0, label=1.0),\n",
       " Row(prediction=1.0, label=1.0),\n",
       " Row(prediction=1.0, label=1.0),\n",
       " Row(prediction=1.0, label=1.0),\n",
       " Row(prediction=1.0, label=1.0),\n",
       " Row(prediction=1.0, label=1.0),\n",
       " Row(prediction=1.0, label=1.0),\n",
       " Row(prediction=1.0, label=1.0),\n",
       " Row(prediction=1.0, label=1.0),\n",
       " Row(prediction=1.0, label=1.0),\n",
       " Row(prediction=1.0, label=1.0),\n",
       " Row(prediction=1.0, label=1.0),\n",
       " Row(prediction=1.0, label=1.0),\n",
       " Row(prediction=1.0, label=1.0),\n",
       " Row(prediction=1.0, label=1.0),\n",
       " Row(prediction=1.0, label=1.0),\n",
       " Row(prediction=1.0, label=1.0),\n",
       " Row(prediction=1.0, label=1.0),\n",
       " Row(prediction=1.0, label=1.0),\n",
       " Row(prediction=1.0, label=1.0),\n",
       " Row(prediction=1.0, label=1.0),\n",
       " Row(prediction=1.0, label=1.0),\n",
       " Row(prediction=1.0, label=1.0),\n",
       " Row(prediction=1.0, label=1.0),\n",
       " Row(prediction=1.0, label=1.0),\n",
       " Row(prediction=1.0, label=1.0),\n",
       " Row(prediction=1.0, label=1.0),\n",
       " Row(prediction=1.0, label=1.0),\n",
       " Row(prediction=1.0, label=1.0),\n",
       " Row(prediction=1.0, label=1.0),\n",
       " Row(prediction=1.0, label=1.0),\n",
       " Row(prediction=1.0, label=1.0),\n",
       " Row(prediction=1.0, label=1.0),\n",
       " Row(prediction=1.0, label=1.0),\n",
       " Row(prediction=1.0, label=1.0),\n",
       " Row(prediction=1.0, label=1.0),\n",
       " Row(prediction=1.0, label=1.0),\n",
       " Row(prediction=1.0, label=1.0),\n",
       " Row(prediction=1.0, label=1.0),\n",
       " Row(prediction=1.0, label=1.0),\n",
       " Row(prediction=1.0, label=1.0),\n",
       " Row(prediction=1.0, label=1.0),\n",
       " Row(prediction=1.0, label=1.0),\n",
       " Row(prediction=1.0, label=1.0),\n",
       " Row(prediction=1.0, label=1.0),\n",
       " Row(prediction=1.0, label=1.0),\n",
       " Row(prediction=1.0, label=1.0),\n",
       " Row(prediction=1.0, label=1.0),\n",
       " Row(prediction=1.0, label=1.0),\n",
       " Row(prediction=1.0, label=1.0),\n",
       " Row(prediction=1.0, label=1.0),\n",
       " Row(prediction=1.0, label=1.0),\n",
       " Row(prediction=1.0, label=1.0),\n",
       " Row(prediction=1.0, label=1.0),\n",
       " Row(prediction=1.0, label=1.0),\n",
       " Row(prediction=1.0, label=1.0),\n",
       " Row(prediction=1.0, label=1.0),\n",
       " Row(prediction=1.0, label=1.0),\n",
       " Row(prediction=1.0, label=1.0),\n",
       " Row(prediction=1.0, label=1.0),\n",
       " Row(prediction=1.0, label=1.0),\n",
       " Row(prediction=1.0, label=1.0),\n",
       " Row(prediction=1.0, label=1.0),\n",
       " Row(prediction=1.0, label=1.0),\n",
       " Row(prediction=1.0, label=1.0),\n",
       " Row(prediction=1.0, label=1.0),\n",
       " Row(prediction=1.0, label=1.0),\n",
       " Row(prediction=1.0, label=1.0),\n",
       " Row(prediction=1.0, label=1.0),\n",
       " Row(prediction=1.0, label=1.0),\n",
       " Row(prediction=1.0, label=1.0),\n",
       " Row(prediction=1.0, label=1.0),\n",
       " Row(prediction=1.0, label=1.0),\n",
       " Row(prediction=1.0, label=1.0),\n",
       " Row(prediction=1.0, label=1.0),\n",
       " Row(prediction=1.0, label=1.0),\n",
       " Row(prediction=1.0, label=1.0),\n",
       " Row(prediction=1.0, label=1.0),\n",
       " Row(prediction=1.0, label=1.0),\n",
       " Row(prediction=0.0, label=1.0),\n",
       " Row(prediction=1.0, label=1.0),\n",
       " Row(prediction=1.0, label=1.0),\n",
       " Row(prediction=1.0, label=1.0),\n",
       " Row(prediction=1.0, label=1.0),\n",
       " Row(prediction=1.0, label=1.0),\n",
       " Row(prediction=1.0, label=1.0),\n",
       " Row(prediction=1.0, label=1.0),\n",
       " Row(prediction=1.0, label=1.0),\n",
       " Row(prediction=1.0, label=1.0),\n",
       " Row(prediction=1.0, label=1.0),\n",
       " Row(prediction=1.0, label=1.0),\n",
       " Row(prediction=1.0, label=1.0),\n",
       " Row(prediction=1.0, label=1.0),\n",
       " Row(prediction=1.0, label=1.0),\n",
       " Row(prediction=1.0, label=1.0),\n",
       " Row(prediction=1.0, label=1.0),\n",
       " Row(prediction=1.0, label=1.0),\n",
       " Row(prediction=1.0, label=1.0),\n",
       " Row(prediction=1.0, label=1.0),\n",
       " Row(prediction=1.0, label=1.0),\n",
       " Row(prediction=1.0, label=1.0),\n",
       " Row(prediction=1.0, label=1.0),\n",
       " Row(prediction=1.0, label=1.0),\n",
       " Row(prediction=1.0, label=1.0),\n",
       " Row(prediction=1.0, label=1.0),\n",
       " Row(prediction=1.0, label=1.0),\n",
       " Row(prediction=1.0, label=1.0),\n",
       " Row(prediction=1.0, label=1.0),\n",
       " Row(prediction=1.0, label=1.0),\n",
       " Row(prediction=1.0, label=1.0),\n",
       " Row(prediction=1.0, label=1.0),\n",
       " Row(prediction=1.0, label=1.0),\n",
       " Row(prediction=1.0, label=1.0),\n",
       " Row(prediction=1.0, label=1.0),\n",
       " Row(prediction=1.0, label=1.0),\n",
       " Row(prediction=1.0, label=1.0),\n",
       " Row(prediction=1.0, label=1.0),\n",
       " Row(prediction=1.0, label=1.0),\n",
       " Row(prediction=1.0, label=1.0),\n",
       " Row(prediction=1.0, label=1.0),\n",
       " Row(prediction=0.0, label=1.0),\n",
       " Row(prediction=1.0, label=1.0),\n",
       " Row(prediction=1.0, label=1.0),\n",
       " Row(prediction=1.0, label=1.0),\n",
       " Row(prediction=1.0, label=1.0),\n",
       " Row(prediction=1.0, label=1.0),\n",
       " Row(prediction=1.0, label=1.0),\n",
       " Row(prediction=1.0, label=1.0)]"
      ]
     },
     "execution_count": 256,
     "metadata": {},
     "output_type": "execute_result"
    }
   ],
   "source": [
    "# Previsões nos dados de teste\n",
    "previsoes = modelo.transform(dados_teste)\n",
    "previsoes.select(\"prediction\", \"label\").collect()"
   ]
  },
  {
   "cell_type": "code",
   "execution_count": 257,
   "id": "5aa927cc",
   "metadata": {},
   "outputs": [
    {
     "data": {
      "text/plain": [
       "0.8996282527881041"
      ]
     },
     "execution_count": 257,
     "metadata": {},
     "output_type": "execute_result"
    }
   ],
   "source": [
    "# Avaliando a acurácia\n",
    "avaliador = MulticlassClassificationEvaluator(predictionCol = \"prediction\", labelCol = \"label\", metricName = \"accuracy\")\n",
    "avaliador.evaluate(previsoes)"
   ]
  },
  {
   "cell_type": "code",
   "execution_count": 258,
   "id": "b9d3f687",
   "metadata": {},
   "outputs": [
    {
     "name": "stdout",
     "output_type": "stream",
     "text": [
      "+-----+----------+-----+\n",
      "|label|prediction|count|\n",
      "+-----+----------+-----+\n",
      "|  1.0|       1.0|  134|\n",
      "|  0.0|       1.0|   25|\n",
      "|  1.0|       0.0|    2|\n",
      "|  0.0|       0.0|  108|\n",
      "+-----+----------+-----+\n",
      "\n"
     ]
    }
   ],
   "source": [
    "# Resumindo as previsões - Confusion Matrix\n",
    "previsoes.groupBy(\"label\",\"prediction\").count().show()"
   ]
  },
  {
   "cell_type": "markdown",
   "id": "15cf8e5a",
   "metadata": {},
   "source": [
    "# Capítulo 9.10: Spark MLLib - Clustering - K Means"
   ]
  },
  {
   "cell_type": "markdown",
   "id": "e60c43f2",
   "metadata": {},
   "source": [
    "## <font color='blue'>Spark MLLib - Clustering - K-Means</font>"
   ]
  },
  {
   "cell_type": "markdown",
   "id": "11fe13b7",
   "metadata": {},
   "source": [
    "<strong> Descrição </strong>\n",
    "<ul style=\"list-style-type:square\">\n",
    "  <li>Algoritmo Não Supervisionado.</li>\n",
    "  <li>Agrupamento de Dados por Similaridade.</li>\n",
    "  <li>Particiona os dados em um número \"k\" de clusters, sendo que cada observação pertense a apenas um cluster.</li>\n",
    "  <li>A clusterização é feita medindo a distância entre os pontos de dados e agrupando-os.</li>\n",
    "  <li>Múltiplas medidas de distância podem ser usadas, como distância Euclidiana e distância Manhattan.</li>\n",
    "</ul>"
   ]
  },
  {
   "cell_type": "markdown",
   "id": "3cd8d7e8",
   "metadata": {},
   "source": [
    "<dl>\n",
    "  <dt>Vantagens</dt>\n",
    "  <dd>- Veloz</dd>\n",
    "  <dd>- Eficiente quando se tem muitas variáveis</dd>\n",
    "  <br />\n",
    "  <dt>Desvantagens</dt>\n",
    "  <dd>- O valor de K precisa ser conhecido</dd>\n",
    "  <dd>- O valor inicial de k tem influência nos clusters criados</dd>\n",
    "  <br />\n",
    "  <dt>Aplicação</dt>\n",
    "  <dd>- Agrupamento preliminar antes de se aplicar técnicas de classificação</dd>\n",
    "  <dd>- Clusterização geográfica</dd>\n",
    "</dl>"
   ]
  },
  {
   "cell_type": "markdown",
   "id": "3b941827",
   "metadata": {},
   "source": [
    "## Agrupando automóveis"
   ]
  },
  {
   "cell_type": "code",
   "execution_count": 259,
   "id": "4233450e",
   "metadata": {},
   "outputs": [],
   "source": [
    "# Spark Session - usada quando se trabalha com Dataframes no Spark\n",
    "spSession = SparkSession.builder.master(\"local\").appName(\"DSA-SparkMLLib\").config(\"spark.some.config.option\", \"session\").getOrCreate()"
   ]
  },
  {
   "cell_type": "code",
   "execution_count": 260,
   "id": "d6a692c0",
   "metadata": {},
   "outputs": [],
   "source": [
    "import math\n",
    "from pyspark.sql import Row\n",
    "from pyspark.ml.linalg import Vectors\n",
    "from pyspark.ml.clustering import KMeans\n",
    "import pandas as pd\n",
    "import matplotlib.pylab as plt\n",
    "%matplotlib inline"
   ]
  },
  {
   "cell_type": "code",
   "execution_count": 261,
   "id": "687b6ec7",
   "metadata": {},
   "outputs": [
    {
     "data": {
      "text/plain": [
       "09.05 Exemplos\\data\\carros2.csv MapPartitionsRDD[843] at textFile at NativeMethodAccessorImpl.java:0"
      ]
     },
     "execution_count": 261,
     "metadata": {},
     "output_type": "execute_result"
    }
   ],
   "source": [
    "# Carregando os dados e gerando um RDD\n",
    "carrosRDD = sc.textFile(r\"09.05 Exemplos\\data\\carros2.csv\")\n",
    "carrosRDD.cache()"
   ]
  },
  {
   "cell_type": "code",
   "execution_count": 262,
   "id": "692b6355",
   "metadata": {},
   "outputs": [
    {
     "data": {
      "text/plain": [
       "197"
      ]
     },
     "execution_count": 262,
     "metadata": {},
     "output_type": "execute_result"
    }
   ],
   "source": [
    "# Removendo a primeira linha do arquivo (cabeçalho)\n",
    "primeiraLinha = carrosRDD.first()\n",
    "carrosRDD2 = carrosRDD.filter(lambda x: x != primeiraLinha)\n",
    "carrosRDD2.count()"
   ]
  },
  {
   "cell_type": "code",
   "execution_count": 263,
   "id": "faf53b4a",
   "metadata": {},
   "outputs": [
    {
     "data": {
      "text/plain": [
       "['subaru,gas,std,two,hatchback,fwd,four,69,4900,31,36,5118',\n",
       " 'chevrolet,gas,std,two,hatchback,fwd,three,48,5100,47,53,5151',\n",
       " 'mazda,gas,std,two,hatchback,fwd,four,68,5000,30,31,5195',\n",
       " 'toyota,gas,std,two,hatchback,fwd,four,62,4800,35,39,5348',\n",
       " 'mitsubishi,gas,std,two,hatchback,fwd,four,68,5500,37,41,5389']"
      ]
     },
     "execution_count": 263,
     "metadata": {},
     "output_type": "execute_result"
    }
   ],
   "source": [
    "carrosRDD2.take(5)"
   ]
  },
  {
   "cell_type": "code",
   "execution_count": 264,
   "id": "2df37047",
   "metadata": {},
   "outputs": [],
   "source": [
    "# Convertendo e limpando os dados\n",
    "def transformToNumeric( inputStr) :\n",
    "    attList = inputStr.split(\",\")\n",
    "\n",
    "    doors = 1.0 if attList[3] == \"two\" else 2.0\n",
    "    body = 1.0 if attList[4] == \"sedan\" else 2.0 \n",
    "       \n",
    "    linhas = Row(DOORS = doors, BODY = float(body), HP = float(attList[7]), RPM = float(attList[8]),\n",
    "                 MPG = float(attList[9]))\n",
    "    return linhas"
   ]
  },
  {
   "cell_type": "code",
   "execution_count": 265,
   "id": "3193f8c6",
   "metadata": {},
   "outputs": [
    {
     "data": {
      "text/plain": [
       "[Row(DOORS=1.0, BODY=2.0, HP=69.0, RPM=4900.0, MPG=31.0),\n",
       " Row(DOORS=1.0, BODY=2.0, HP=48.0, RPM=5100.0, MPG=47.0),\n",
       " Row(DOORS=1.0, BODY=2.0, HP=68.0, RPM=5000.0, MPG=30.0),\n",
       " Row(DOORS=1.0, BODY=2.0, HP=62.0, RPM=4800.0, MPG=35.0),\n",
       " Row(DOORS=1.0, BODY=2.0, HP=68.0, RPM=5500.0, MPG=37.0)]"
      ]
     },
     "execution_count": 265,
     "metadata": {},
     "output_type": "execute_result"
    }
   ],
   "source": [
    "# Aplicando a função\n",
    "carrosRDD3 = carrosRDD2.map(transformToNumeric) # Aplica função e cria novo RDD\n",
    "carrosRDD3.persist() # Manter em memória\n",
    "carrosRDD3.take(5) # Mostrar as 5 primeiras linhas"
   ]
  },
  {
   "cell_type": "code",
   "execution_count": 266,
   "id": "c0920d8a",
   "metadata": {},
   "outputs": [
    {
     "name": "stdout",
     "output_type": "stream",
     "text": [
      "+-----+----+----+------+----+\n",
      "|DOORS|BODY|  HP|   RPM| MPG|\n",
      "+-----+----+----+------+----+\n",
      "|  1.0| 2.0|69.0|4900.0|31.0|\n",
      "|  1.0| 2.0|48.0|5100.0|47.0|\n",
      "|  1.0| 2.0|68.0|5000.0|30.0|\n",
      "|  1.0| 2.0|62.0|4800.0|35.0|\n",
      "|  1.0| 2.0|68.0|5500.0|37.0|\n",
      "|  1.0| 2.0|60.0|5500.0|38.0|\n",
      "|  1.0| 1.0|69.0|5200.0|31.0|\n",
      "|  1.0| 2.0|68.0|5500.0|37.0|\n",
      "|  1.0| 2.0|68.0|5500.0|37.0|\n",
      "|  1.0| 2.0|68.0|5000.0|31.0|\n",
      "|  1.0| 2.0|68.0|5500.0|31.0|\n",
      "|  2.0| 2.0|68.0|5500.0|31.0|\n",
      "|  2.0| 2.0|68.0|5500.0|31.0|\n",
      "|  1.0| 2.0|70.0|5400.0|38.0|\n",
      "|  1.0| 2.0|62.0|4800.0|31.0|\n",
      "|  1.0| 2.0|68.0|5500.0|31.0|\n",
      "|  1.0| 2.0|58.0|4800.0|49.0|\n",
      "|  2.0| 2.0|62.0|4800.0|31.0|\n",
      "|  1.0| 2.0|76.0|6000.0|30.0|\n",
      "|  2.0| 1.0|70.0|5400.0|38.0|\n",
      "+-----+----+----+------+----+\n",
      "only showing top 20 rows\n",
      "\n"
     ]
    }
   ],
   "source": [
    "# Criando um Dataframe\n",
    "carrosDF = spSession.createDataFrame(carrosRDD3)\n",
    "carrosDF.show()"
   ]
  },
  {
   "cell_type": "code",
   "execution_count": 267,
   "id": "d077786c",
   "metadata": {},
   "outputs": [],
   "source": [
    "# Sumarizando os dados e extraindo a média e o desvio padrão\n",
    "# Convertendo dataframe spark em dataframe pandas para usar iloc\n",
    "estats = carrosDF.describe().toPandas()\n",
    "medias = estats.iloc[1,1:5].values.tolist()\n",
    "desvios = estats.iloc[2,1:5].values.tolist()"
   ]
  },
  {
   "cell_type": "code",
   "execution_count": 269,
   "id": "9d762ad3",
   "metadata": {},
   "outputs": [],
   "source": [
    "# Colocando a média e o desvio padrão e variáves do tipo Broadcast\n",
    "# Broadcast: Garante que o valor das variáveis será sempre o mesmo independente do node\n",
    "bc_media = sc.broadcast(medias)\n",
    "bc_desvio = sc.broadcast(desvios)"
   ]
  },
  {
   "cell_type": "code",
   "execution_count": 270,
   "id": "2aca4b3f",
   "metadata": {},
   "outputs": [],
   "source": [
    "# Função para centralizar e aplicar escala aos dados. Cada valor será subtraído da média então dividido pelo desvio padrão\n",
    "def centerAndScale(inRow) :\n",
    "    global bc_media\n",
    "    global bc_desvio\n",
    "    \n",
    "    meanArray = bc_media.value\n",
    "    stdArray = bc_desvio.value\n",
    "\n",
    "    retArray = []\n",
    "    \n",
    "    for i in range(len(meanArray)):\n",
    "        retArray.append( (float(inRow[i]) - float(meanArray[i])) / float(stdArray[i]) )\n",
    "    return Vectors.dense(retArray)"
   ]
  },
  {
   "cell_type": "code",
   "execution_count": 271,
   "id": "879ea4d2",
   "metadata": {},
   "outputs": [
    {
     "data": {
      "text/plain": [
       "[DenseVector([-1.145, 0.9337, -0.9194, -0.4532]),\n",
       " DenseVector([-1.145, 0.9337, -1.4773, -0.0375]),\n",
       " DenseVector([-1.145, 0.9337, -0.9459, -0.2453]),\n",
       " DenseVector([-1.145, 0.9337, -1.1053, -0.6611]),\n",
       " DenseVector([-1.145, 0.9337, -0.9459, 0.7941]),\n",
       " DenseVector([-1.145, 0.9337, -1.1585, 0.7941]),\n",
       " DenseVector([-1.145, -1.0656, -0.9194, 0.1704]),\n",
       " DenseVector([-1.145, 0.9337, -0.9459, 0.7941]),\n",
       " DenseVector([-1.145, 0.9337, -0.9459, 0.7941]),\n",
       " DenseVector([-1.145, 0.9337, -0.9459, -0.2453]),\n",
       " DenseVector([-1.145, 0.9337, -0.9459, 0.7941]),\n",
       " DenseVector([0.869, 0.9337, -0.9459, 0.7941]),\n",
       " DenseVector([0.869, 0.9337, -0.9459, 0.7941]),\n",
       " DenseVector([-1.145, 0.9337, -0.8928, 0.5862]),\n",
       " DenseVector([-1.145, 0.9337, -1.1053, -0.6611]),\n",
       " DenseVector([-1.145, 0.9337, -0.9459, 0.7941]),\n",
       " DenseVector([-1.145, 0.9337, -1.2116, -0.6611]),\n",
       " DenseVector([0.869, 0.9337, -1.1053, -0.6611]),\n",
       " DenseVector([-1.145, 0.9337, -0.7334, 1.8335]),\n",
       " DenseVector([0.869, -1.0656, -0.8928, 0.5862]),\n",
       " DenseVector([-1.145, -1.0656, -0.9194, 0.1704]),\n",
       " DenseVector([-1.145, 0.9337, -0.9459, 0.7941]),\n",
       " DenseVector([0.869, -1.0656, -0.9459, 0.7941]),\n",
       " DenseVector([0.869, -1.0656, -0.9459, 0.7941]),\n",
       " DenseVector([0.869, -1.0656, -0.9459, -0.2453]),\n",
       " DenseVector([0.869, -1.0656, -0.6802, -0.6611]),\n",
       " DenseVector([-1.145, 0.9337, -0.9459, -0.2453]),\n",
       " DenseVector([0.869, -1.0656, -0.9194, 0.1704]),\n",
       " DenseVector([-1.145, 0.9337, -0.7334, 1.8335]),\n",
       " DenseVector([0.869, 0.9337, -1.1053, -0.6611]),\n",
       " DenseVector([0.869, -1.0656, -0.8928, -0.6611]),\n",
       " DenseVector([0.869, -1.0656, -0.4146, -0.2453]),\n",
       " DenseVector([-1.145, 0.9337, -0.8131, -1.4927]),\n",
       " DenseVector([-1.145, -1.0656, -1.2913, -0.6611]),\n",
       " DenseVector([0.869, -1.0656, -0.574, -0.6611]),\n",
       " DenseVector([-1.145, 0.9337, -0.7334, 1.8335]),\n",
       " DenseVector([0.869, 0.9337, -0.8928, -0.6611]),\n",
       " DenseVector([0.869, -1.0656, -0.7334, 1.8335]),\n",
       " DenseVector([0.869, 0.9337, -0.7334, 1.8335]),\n",
       " DenseVector([-1.145, -1.0656, -0.9194, 0.1704]),\n",
       " DenseVector([0.869, 0.9337, -0.9194, 0.1704]),\n",
       " DenseVector([0.869, -1.0656, -0.9459, -0.2453]),\n",
       " DenseVector([0.869, 0.9337, -0.574, -0.6611]),\n",
       " DenseVector([0.869, -1.0656, -0.9194, 0.1704]),\n",
       " DenseVector([-1.145, 0.9337, -0.8131, -1.4927]),\n",
       " DenseVector([0.869, -1.0656, -0.9459, 0.7941]),\n",
       " DenseVector([0.869, -1.0656, -0.9459, 0.7941]),\n",
       " DenseVector([-1.145, 0.9337, -0.0426, 0.7941]),\n",
       " DenseVector([0.869, -1.0656, -0.8928, -0.6611]),\n",
       " DenseVector([0.869, -1.0656, -0.574, -1.4927]),\n",
       " DenseVector([-1.145, -1.0656, -1.371, -0.6611]),\n",
       " DenseVector([0.869, 0.9337, -1.2647, -1.2848]),\n",
       " DenseVector([-1.145, 0.9337, -0.9194, 0.1704]),\n",
       " DenseVector([-1.145, 0.9337, -0.4677, 1.4177]),\n",
       " DenseVector([0.869, 0.9337, -1.1053, -0.6611]),\n",
       " DenseVector([0.869, -1.0656, -1.2647, -1.2848]),\n",
       " DenseVector([-1.145, 0.9337, -0.0426, 0.7941]),\n",
       " DenseVector([-1.145, 0.9337, -0.0426, 0.7941]),\n",
       " DenseVector([-1.145, -1.0656, -0.4943, 0.2744]),\n",
       " DenseVector([0.869, -1.0656, -1.371, -0.6611]),\n",
       " DenseVector([0.869, 0.9337, -0.9194, 0.1704]),\n",
       " DenseVector([0.869, 0.9337, -0.574, -0.6611]),\n",
       " DenseVector([-1.145, -1.0656, -0.8928, -0.6611]),\n",
       " DenseVector([0.869, -1.0656, -0.4146, -0.2453]),\n",
       " DenseVector([0.869, -1.0656, -0.4943, 0.2744]),\n",
       " DenseVector([-1.145, 0.9337, -0.8928, -0.6611]),\n",
       " DenseVector([-1.145, 0.9337, -0.9194, 0.1704]),\n",
       " DenseVector([0.869, 0.9337, -0.8928, -0.6611]),\n",
       " DenseVector([-1.145, 0.9337, 0.3293, -0.6611]),\n",
       " DenseVector([0.869, -1.0656, -0.5208, -0.6611]),\n",
       " DenseVector([0.869, -1.0656, -0.4943, 0.2744]),\n",
       " DenseVector([-1.145, 0.9337, -0.4146, -0.2453]),\n",
       " DenseVector([0.869, 0.9337, -1.1053, -0.6611]),\n",
       " DenseVector([0.869, -1.0656, -0.4677, 1.4177]),\n",
       " DenseVector([-1.145, 0.9337, -0.5208, -0.6611]),\n",
       " DenseVector([0.869, 0.9337, -0.4146, -0.2453]),\n",
       " DenseVector([0.869, 0.9337, -0.4146, -0.2453]),\n",
       " DenseVector([0.869, -1.0656, -0.3083, -1.9084]),\n",
       " DenseVector([0.869, 0.9337, -0.1755, 0.1704]),\n",
       " DenseVector([-1.145, 0.9337, -0.4677, 1.4177]),\n",
       " DenseVector([0.869, -1.0656, -0.574, -0.6611]),\n",
       " DenseVector([0.869, -1.0656, -0.8928, -0.6611]),\n",
       " DenseVector([0.869, -1.0656, 0.3293, 0.7941]),\n",
       " DenseVector([0.869, -1.0656, 0.3293, 0.7941]),\n",
       " DenseVector([-1.145, -1.0656, 0.2231, 3.0808]),\n",
       " DenseVector([0.869, -1.0656, -0.9459, -1.2848]),\n",
       " DenseVector([-1.145, 0.9337, 0.2231, 3.0808]),\n",
       " DenseVector([0.869, -1.0656, -0.1755, 0.1704]),\n",
       " DenseVector([-1.145, 0.9337, 0.3293, -0.6611]),\n",
       " DenseVector([-1.145, 0.9337, 0.3293, 0.7941]),\n",
       " DenseVector([0.869, -1.0656, -0.2552, 0.1704]),\n",
       " DenseVector([-1.145, 0.9337, -0.3614, 0.7941]),\n",
       " DenseVector([0.869, 0.9337, -0.3083, -1.9084]),\n",
       " DenseVector([-1.145, 0.9337, 0.3293, -0.6611]),\n",
       " DenseVector([0.869, -1.0656, -0.0958, 0.7941]),\n",
       " DenseVector([0.869, 0.9337, -0.2552, 0.1704]),\n",
       " DenseVector([0.869, -1.0656, -0.5208, -0.6611]),\n",
       " DenseVector([0.869, -1.0656, -0.4677, 1.4177]),\n",
       " DenseVector([-1.145, -1.0656, -0.0958, 0.7941]),\n",
       " DenseVector([-1.145, 0.9337, -0.5208, -0.6611]),\n",
       " DenseVector([0.869, -1.0656, -0.8131, -1.2848]),\n",
       " DenseVector([0.869, -1.0656, -0.3083, -1.9084]),\n",
       " DenseVector([-1.145, 0.9337, -0.0692, 1.8335]),\n",
       " DenseVector([-1.145, 0.9337, -0.3614, -0.2453]),\n",
       " DenseVector([-1.145, 0.9337, 0.3293, -0.6611]),\n",
       " DenseVector([0.869, 0.9337, -0.5208, -0.6611]),\n",
       " DenseVector([0.869, 0.9337, -0.3083, -1.9084]),\n",
       " DenseVector([0.869, -1.0656, 0.1965, -0.6611]),\n",
       " DenseVector([-1.145, 0.9337, 0.3293, -0.6611]),\n",
       " DenseVector([-1.145, 0.9337, -0.3614, 0.7941]),\n",
       " DenseVector([0.869, 0.9337, 0.1965, -0.6611]),\n",
       " DenseVector([-1.145, 0.9337, -0.0692, 1.8335]),\n",
       " DenseVector([-1.145, 0.9337, 0.1699, 0.2744]),\n",
       " DenseVector([0.869, -1.0656, -0.1755, -0.2453]),\n",
       " DenseVector([0.869, -1.0656, 0.1699, 0.2744]),\n",
       " DenseVector([0.869, 0.9337, -0.4146, 0.7941]),\n",
       " DenseVector([0.869, 0.9337, -0.1755, -0.2453]),\n",
       " DenseVector([-1.145, 0.9337, 1.0998, -0.2453]),\n",
       " DenseVector([-1.145, 0.9337, 1.0998, -0.2453]),\n",
       " DenseVector([0.869, -1.0656, 0.2762, 0.5862]),\n",
       " DenseVector([0.869, -1.0656, -0.0692, 1.4177]),\n",
       " DenseVector([-1.145, 0.9337, 1.0998, -0.2453]),\n",
       " DenseVector([0.869, -1.0656, -0.2286, -2.0124]),\n",
       " DenseVector([0.869, -1.0656, 0.1699, 0.7941]),\n",
       " DenseVector([0.869, 0.9337, 0.2762, 0.5862]),\n",
       " DenseVector([-1.145, 0.9337, 0.1965, -0.2453]),\n",
       " DenseVector([0.869, -1.0656, 1.2858, 0.1704]),\n",
       " DenseVector([0.869, -1.0656, 1.2858, 0.1704]),\n",
       " DenseVector([-1.145, 0.9337, -0.0692, 1.8335]),\n",
       " DenseVector([0.869, -1.0656, -0.9459, -1.2848]),\n",
       " DenseVector([0.869, 0.9337, -0.2286, -2.0124]),\n",
       " DenseVector([0.869, -1.0656, -0.0426, 0.7941]),\n",
       " DenseVector([0.869, 0.9337, 1.2858, 0.1704]),\n",
       " DenseVector([-1.145, 0.9337, 1.0998, -0.2453]),\n",
       " DenseVector([-1.145, 0.9337, 1.0998, -0.2453]),\n",
       " DenseVector([-1.145, 0.9337, 0.1699, 0.2744]),\n",
       " DenseVector([-1.145, -1.0656, 0.1699, 0.7941]),\n",
       " DenseVector([0.869, -1.0656, 0.1699, 0.2744]),\n",
       " DenseVector([0.869, -1.0656, -0.2286, -0.2453]),\n",
       " DenseVector([-1.145, 0.9337, 0.8341, 1.8335]),\n",
       " DenseVector([0.869, -1.0656, 1.3921, 0.1704]),\n",
       " DenseVector([0.869, 0.9337, 1.3921, 0.1704]),\n",
       " DenseVector([0.869, -1.0656, 0.2762, 0.5862]),\n",
       " DenseVector([-1.145, 0.9337, 1.5249, 0.1704]),\n",
       " DenseVector([-1.145, -1.0656, -0.0692, 1.4177]),\n",
       " DenseVector([-1.145, 0.9337, 0.1965, -0.2453]),\n",
       " DenseVector([-1.145, 0.9337, 1.3389, -0.2453]),\n",
       " DenseVector([-1.145, 0.9337, 1.8969, -0.2453]),\n",
       " DenseVector([0.869, 0.9337, 0.2762, 0.5862]),\n",
       " DenseVector([-1.145, 0.9337, 1.5249, 0.1704]),\n",
       " DenseVector([0.869, -1.0656, -0.1755, -0.2453]),\n",
       " DenseVector([0.869, 0.9337, -0.2286, -0.2453]),\n",
       " DenseVector([0.869, -1.0656, 0.2762, 0.5862]),\n",
       " DenseVector([0.869, -1.0656, -0.2286, -2.0124]),\n",
       " DenseVector([0.869, -1.0656, -0.0692, 1.4177]),\n",
       " DenseVector([0.869, 0.9337, -0.2286, -2.0124]),\n",
       " DenseVector([-1.145, 0.9337, 1.4983, 0.1704]),\n",
       " DenseVector([0.869, -1.0656, 0.3028, 0.7941]),\n",
       " DenseVector([-1.145, 0.9337, 0.3293, -0.6611]),\n",
       " DenseVector([0.869, -1.0656, 0.1699, 0.7941]),\n",
       " DenseVector([0.869, -1.0656, -0.2286, -2.0124]),\n",
       " DenseVector([0.869, -1.0656, 1.0201, 1.002]),\n",
       " DenseVector([-1.145, 0.9337, 1.4983, 0.7941]),\n",
       " DenseVector([0.869, -1.0656, 0.4356, -0.2453]),\n",
       " DenseVector([0.869, -1.0656, -0.8397, -1.9084]),\n",
       " DenseVector([-1.145, 0.9337, 1.4983, 0.1704]),\n",
       " DenseVector([0.869, -1.0656, 1.5515, -0.0375]),\n",
       " DenseVector([0.869, -1.0656, 1.4983, 0.7941]),\n",
       " DenseVector([0.869, 0.9337, 0.1699, 0.7941]),\n",
       " DenseVector([0.869, 0.9337, 1.5515, -0.0375]),\n",
       " DenseVector([0.869, -1.0656, 1.4983, 0.3783]),\n",
       " DenseVector([-1.145, 0.9337, 2.5611, 0.1704]),\n",
       " DenseVector([-1.145, -1.0656, 0.4622, -1.8045]),\n",
       " DenseVector([0.869, -1.0656, 0.4622, -1.8045]),\n",
       " DenseVector([0.869, -1.0656, 0.8076, 0.7941]),\n",
       " DenseVector([-1.145, 0.9337, 1.0467, 0.7941]),\n",
       " DenseVector([0.869, -1.0656, 0.0637, -0.6611]),\n",
       " DenseVector([0.869, -1.0656, 0.2762, 0.5862]),\n",
       " DenseVector([0.869, -1.0656, 0.967, 0.7941]),\n",
       " DenseVector([0.869, -1.0656, 0.4622, -1.8045]),\n",
       " DenseVector([0.869, -1.0656, 0.5153, -1.5966]),\n",
       " DenseVector([-1.145, 0.9337, 0.5153, -1.5966]),\n",
       " DenseVector([0.869, 0.9337, 0.5153, -1.5966]),\n",
       " DenseVector([0.869, -1.0656, 2.0828, 0.5862]),\n",
       " DenseVector([0.869, -1.0656, 0.5153, -1.5966]),\n",
       " DenseVector([0.869, -1.0656, 1.9234, -0.7651]),\n",
       " DenseVector([-1.145, 0.9337, 2.747, 1.6256]),\n",
       " DenseVector([-1.145, 0.9337, 2.747, 1.6256]),\n",
       " DenseVector([0.869, -1.0656, 1.3655, -0.7651]),\n",
       " DenseVector([-1.145, 0.9337, 1.3655, -0.7651]),\n",
       " DenseVector([0.869, -1.0656, 1.9234, -0.7651]),\n",
       " DenseVector([-1.145, -1.0656, 4.2083, -0.2453]),\n",
       " DenseVector([0.869, -1.0656, 2.0828, 0.5862]),\n",
       " DenseVector([-1.145, 0.9337, 2.747, 1.6256]),\n",
       " DenseVector([0.869, -1.0656, 2.136, -1.2848]),\n",
       " DenseVector([-1.145, -1.0656, 2.0828, 0.5862]),\n",
       " DenseVector([-1.145, 0.9337, 2.136, -1.2848])]"
      ]
     },
     "execution_count": 271,
     "metadata": {},
     "output_type": "execute_result"
    }
   ],
   "source": [
    "carrosRDD4 = carrosDF.rdd.map(centerAndScale)\n",
    "carrosRDD4.collect()"
   ]
  },
  {
   "cell_type": "code",
   "execution_count": 272,
   "id": "1ec445cf",
   "metadata": {},
   "outputs": [
    {
     "name": "stdout",
     "output_type": "stream",
     "text": [
      "+--------------------+\n",
      "|            features|\n",
      "+--------------------+\n",
      "|[-1.1449709581789...|\n",
      "|[-1.1449709581789...|\n",
      "|[-1.1449709581789...|\n",
      "|[-1.1449709581789...|\n",
      "|[-1.1449709581789...|\n",
      "|[-1.1449709581789...|\n",
      "|[-1.1449709581789...|\n",
      "|[-1.1449709581789...|\n",
      "|[-1.1449709581789...|\n",
      "|[-1.1449709581789...|\n",
      "+--------------------+\n",
      "only showing top 10 rows\n",
      "\n"
     ]
    }
   ],
   "source": [
    "# Criando um Dataframe\n",
    "carrosRDD5 = carrosRDD4.map( lambda f:Row(features = f))\n",
    "carrosDF = spSession.createDataFrame(carrosRDD5)\n",
    "carrosDF.select(\"features\").show(10)"
   ]
  },
  {
   "cell_type": "code",
   "execution_count": 273,
   "id": "9ea11111",
   "metadata": {},
   "outputs": [],
   "source": [
    "# Criando o modelo\n",
    "kmeans = KMeans(k = 3, seed = 1) # K: Númeor de clusters que serão utilizados\n",
    "modelo = kmeans.fit(carrosDF)"
   ]
  },
  {
   "cell_type": "code",
   "execution_count": 274,
   "id": "7fa65027",
   "metadata": {},
   "outputs": [
    {
     "name": "stdout",
     "output_type": "stream",
     "text": [
      "+--------------------+----------+\n",
      "|            features|prediction|\n",
      "+--------------------+----------+\n",
      "|[-1.1449709581789...|         0|\n",
      "|[-1.1449709581789...|         0|\n",
      "|[-1.1449709581789...|         0|\n",
      "|[-1.1449709581789...|         0|\n",
      "|[-1.1449709581789...|         0|\n",
      "|[-1.1449709581789...|         0|\n",
      "|[-1.1449709581789...|         0|\n",
      "|[-1.1449709581789...|         0|\n",
      "|[-1.1449709581789...|         0|\n",
      "|[-1.1449709581789...|         0|\n",
      "|[-1.1449709581789...|         0|\n",
      "|[0.86895117361793...|         0|\n",
      "|[0.86895117361793...|         0|\n",
      "|[-1.1449709581789...|         0|\n",
      "|[-1.1449709581789...|         0|\n",
      "|[-1.1449709581789...|         0|\n",
      "|[-1.1449709581789...|         0|\n",
      "|[0.86895117361793...|         0|\n",
      "|[-1.1449709581789...|         0|\n",
      "|[0.86895117361793...|         1|\n",
      "+--------------------+----------+\n",
      "only showing top 20 rows\n",
      "\n"
     ]
    }
   ],
   "source": [
    "# Previsões\n",
    "previsoes = modelo.transform(carrosDF)\n",
    "previsoes.show()"
   ]
  },
  {
   "cell_type": "code",
   "execution_count": 275,
   "id": "5af017f2",
   "metadata": {},
   "outputs": [],
   "source": [
    "# Tratamento de Valores\n",
    "def unstripData(instr) :\n",
    "    return (instr[\"prediction\"], instr[\"features\"][0], instr[\"features\"][1], instr[\"features\"][2], instr[\"features\"][3])"
   ]
  },
  {
   "cell_type": "code",
   "execution_count": 276,
   "id": "efe97b0d",
   "metadata": {},
   "outputs": [],
   "source": [
    "carrosRDD6 = previsoes.rdd.map(unstripData)\n",
    "predList = carrosRDD6.collect()\n",
    "predPd = pd.DataFrame(predList)"
   ]
  },
  {
   "cell_type": "code",
   "execution_count": 277,
   "id": "67629520",
   "metadata": {},
   "outputs": [
    {
     "data": {
      "text/plain": [
       "<matplotlib.collections.PathCollection at 0x2508f47f880>"
      ]
     },
     "execution_count": 277,
     "metadata": {},
     "output_type": "execute_result"
    },
    {
     "data": {
      "image/png": "[encoded data removed]",
      "text/plain": [
       "<Figure size 432x288 with 1 Axes>"
      ]
     },
     "metadata": {
      "needs_background": "light"
     },
     "output_type": "display_data"
    }
   ],
   "source": [
    "# Gráfico com o resultados dos clusters criados\n",
    "plt.cla()\n",
    "plt.scatter(predPd[3], predPd[4], c = predPd[0])"
   ]
  },
  {
   "cell_type": "markdown",
   "id": "4758f04a",
   "metadata": {},
   "source": [
    "# Capítulo 9.11: Spark MLLib - Sistema de Recomendação"
   ]
  },
  {
   "cell_type": "markdown",
   "id": "41dd117e",
   "metadata": {},
   "source": [
    "## <font color='blue'>Spark MLLib - Sistema de Recomendação</font>"
   ]
  },
  {
   "cell_type": "markdown",
   "id": "01cef91b",
   "metadata": {},
   "source": [
    "<strong> Descrição </strong>\n",
    "<ul style=\"list-style-type:square\">\n",
    "  <li>Também chamado de filtros colaborativos.</li>\n",
    "  <li>Analisa dados passados para compreender comportamentos de pessoas/entidades.</li>\n",
    "  <li>A recomendação é feita por similaridade de comportamento.</li>\n",
    "  <li>Recomendação baseada em usuários ou items.</li>\n",
    "  <li>Algoritmos de Recomendação esperam receber os dados em um formato específico: [user_ID, item_ID, score].</li>\n",
    "  <li>Score, também chamado rating, indica a preferência de um usuário sobre um item. Podem ser valores booleanos, ratings ou mesmo volume de vendas.</li>\n",
    "</ul>"
   ]
  },
  {
   "cell_type": "code",
   "execution_count": 278,
   "id": "d229a2c0",
   "metadata": {},
   "outputs": [],
   "source": [
    "# Spark Session - usada quando se trabalha com Dataframes no Spark\n",
    "spSession = SparkSession.builder.master(\"local\").appName(\"DSA-SparkMLLib\").config(\"spark.some.config.option\", \"session\").getOrCreate()"
   ]
  },
  {
   "cell_type": "code",
   "execution_count": 279,
   "id": "1720bd81",
   "metadata": {},
   "outputs": [],
   "source": [
    "from pyspark.ml.recommendation import ALS"
   ]
  },
  {
   "cell_type": "code",
   "execution_count": 280,
   "id": "ed0a3ffc",
   "metadata": {},
   "outputs": [
    {
     "data": {
      "text/plain": [
       "['1001,9001,10',\n",
       " '1001,9002,1',\n",
       " '1001,9003,9',\n",
       " '1002,9001,3',\n",
       " '1002,9002,5',\n",
       " '1002,9003,1',\n",
       " '1002,9004,10',\n",
       " '1003,9001,2',\n",
       " '1003,9002,6',\n",
       " '1003,9003,2',\n",
       " '1003,9004,9',\n",
       " '1003,9005,10',\n",
       " '1003,9006,8',\n",
       " '1003,9007,9',\n",
       " '1004,9001,9',\n",
       " '1004,9002,2',\n",
       " '1004,9003,8',\n",
       " '1004,9004,3',\n",
       " '1004,9010,10',\n",
       " '1004,9011,9',\n",
       " '1004,9012,8',\n",
       " '1005,9001,8',\n",
       " '1005,9002,3',\n",
       " '1005,9003,7',\n",
       " '1005,9004,1',\n",
       " '1005,9010,9',\n",
       " '1005,9011,10',\n",
       " '1005,9012,9',\n",
       " '1005,9013,8',\n",
       " '1005,9014,1',\n",
       " '1005,9015,1',\n",
       " '1006,9001,7',\n",
       " '1006,9002,4',\n",
       " '1006,9003,8',\n",
       " '1006,9004,1',\n",
       " '1006,9010,7',\n",
       " '1006,9011,6',\n",
       " '1006,9012,9']"
      ]
     },
     "execution_count": 280,
     "metadata": {},
     "output_type": "execute_result"
    }
   ],
   "source": [
    "# Carrega os dados no formato ALS (user, item, rating)\n",
    "ratingsRDD = sc.textFile(r\"09.11 Spark MLLib - Sistema de Recomendação\\user-item.txt\")\n",
    "ratingsRDD.collect()"
   ]
  },
  {
   "cell_type": "code",
   "execution_count": 282,
   "id": "842d0689",
   "metadata": {},
   "outputs": [],
   "source": [
    "# Convertendo as strings\n",
    "ratingsRDD2 = ratingsRDD.map(lambda l: l.split(',')).map(lambda l:(int(l[0]), int(l[1]), float(l[2])))"
   ]
  },
  {
   "cell_type": "code",
   "execution_count": 283,
   "id": "a2ab8960",
   "metadata": {},
   "outputs": [],
   "source": [
    "# Criando um Dataframe\n",
    "ratingsDF = spSession.createDataFrame(ratingsRDD2, [\"user\", \"item\", \"rating\"])"
   ]
  },
  {
   "cell_type": "code",
   "execution_count": 284,
   "id": "075c0a4a",
   "metadata": {},
   "outputs": [
    {
     "name": "stdout",
     "output_type": "stream",
     "text": [
      "+----+----+------+\n",
      "|user|item|rating|\n",
      "+----+----+------+\n",
      "|1001|9001|  10.0|\n",
      "|1001|9002|   1.0|\n",
      "|1001|9003|   9.0|\n",
      "|1002|9001|   3.0|\n",
      "|1002|9002|   5.0|\n",
      "|1002|9003|   1.0|\n",
      "|1002|9004|  10.0|\n",
      "|1003|9001|   2.0|\n",
      "|1003|9002|   6.0|\n",
      "|1003|9003|   2.0|\n",
      "|1003|9004|   9.0|\n",
      "|1003|9005|  10.0|\n",
      "|1003|9006|   8.0|\n",
      "|1003|9007|   9.0|\n",
      "|1004|9001|   9.0|\n",
      "|1004|9002|   2.0|\n",
      "|1004|9003|   8.0|\n",
      "|1004|9004|   3.0|\n",
      "|1004|9010|  10.0|\n",
      "|1004|9011|   9.0|\n",
      "+----+----+------+\n",
      "only showing top 20 rows\n",
      "\n"
     ]
    }
   ],
   "source": [
    "ratingsDF.show()"
   ]
  },
  {
   "cell_type": "code",
   "execution_count": 285,
   "id": "971a9477",
   "metadata": {},
   "outputs": [],
   "source": [
    "# Construindo o modelo\n",
    "# ALS = Alternating Least Squares --> Algoritmo para sistema de recomendação, que otimiza a loss function \n",
    "# e funciona muito bem em ambientes paralelizados\n",
    "als = ALS(rank = 10, maxIter = 5)\n",
    "modelo = als.fit(ratingsDF)"
   ]
  },
  {
   "cell_type": "code",
   "execution_count": 286,
   "id": "4393370c",
   "metadata": {
    "scrolled": true
   },
   "outputs": [
    {
     "data": {
      "text/plain": [
       "[Row(id=1001, features=[-1.020338773727417, 0.15884457528591156, 0.43435177206993103, 0.42108067870140076, -0.08316300064325333, -0.22315619885921478, 0.43449509143829346, -0.016361376270651817, -0.09652017056941986, 1.2523633241653442]),\n",
       " Row(id=1002, features=[-0.7278647422790527, -0.3039030432701111, -1.4372807741165161, 0.4101669490337372, -0.20219333469867706, 0.30689162015914917, 0.2394382208585739, -0.31496909260749817, -0.42265287041664124, -0.5618031024932861]),\n",
       " Row(id=1003, features=[-0.2754066288471222, -0.02016931213438511, -1.2622171640396118, 0.6222057938575745, -0.3387295603752136, 0.6792862415313721, -0.059917986392974854, 0.23600462079048157, -0.24518680572509766, -0.4790261387825012]),\n",
       " Row(id=1004, features=[-1.1808589696884155, -0.198384091258049, 0.1094837412238121, 0.714041531085968, -0.03430582955479622, -0.05891014635562897, 0.40418773889541626, -0.05229669436812401, -0.19879166781902313, 0.6823390126228333]),\n",
       " Row(id=1005, features=[-0.520517110824585, 0.5383255481719971, -0.4068520665168762, 0.03908100724220276, -0.347207635641098, -0.015325088985264301, 0.27017906308174133, 0.025252632796764374, -0.2160266637802124, 1.1690857410430908]),\n",
       " Row(id=1006, features=[-0.1496032029390335, 0.5460834503173828, 0.15998083353042603, 0.9113137722015381, -0.38128462433815, 0.7204729318618774, -0.14817678928375244, 0.9232698678970337, 0.2015027403831482, 0.7099640369415283])]"
      ]
     },
     "execution_count": 286,
     "metadata": {},
     "output_type": "execute_result"
    }
   ],
   "source": [
    "# Visualizando o Affinity Score\n",
    "modelo.userFactors.orderBy(\"id\").collect()"
   ]
  },
  {
   "cell_type": "code",
   "execution_count": 287,
   "id": "afb4f67e",
   "metadata": {},
   "outputs": [],
   "source": [
    "# Criando um dataset de teste com usuários e items para rating\n",
    "testeDF = spSession.createDataFrame([(1001, 9003),(1001,9004),(1001,9005)], [\"user\", \"item\"])"
   ]
  },
  {
   "cell_type": "code",
   "execution_count": 288,
   "id": "d397c2b8",
   "metadata": {},
   "outputs": [
    {
     "data": {
      "text/plain": [
       "[Row(user=1001, item=9004, prediction=-0.6660881042480469),\n",
       " Row(user=1001, item=9005, prediction=-2.7070765495300293),\n",
       " Row(user=1001, item=9003, prediction=9.008316993713379)]"
      ]
     },
     "execution_count": 288,
     "metadata": {},
     "output_type": "execute_result"
    }
   ],
   "source": [
    "# Previsões  \n",
    "# Quanto maior o Affinity Score, maior a probabilidade do usuário aceitar uma recomendação\n",
    "previsoes = (modelo.transform(testeDF).collect())\n",
    "previsoes"
   ]
  },
  {
   "cell_type": "code",
   "execution_count": null,
   "id": "131a3423",
   "metadata": {},
   "outputs": [],
   "source": []
  }
 ],
 "metadata": {
  "kernelspec": {
   "display_name": "Python 3 (ipykernel)",
   "language": "python",
   "name": "python3"
  },
  "language_info": {
   "codemirror_mode": {
    "name": "ipython",
    "version": 3
   },
   "file_extension": ".py",
   "mimetype": "text/x-python",
   "name": "python",
   "nbconvert_exporter": "python",
   "pygments_lexer": "ipython3",
   "version": "3.9.7"
  }
 },
 "nbformat": 4,
 "nbformat_minor": 5
}
