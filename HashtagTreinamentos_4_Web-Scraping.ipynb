{
 "cells": [
  {
   "cell_type": "markdown",
   "id": "69aa1ec5",
   "metadata": {},
   "source": [
    "# Hashtag Treinamentos - Web-Scraping"
   ]
  },
  {
   "cell_type": "markdown",
   "id": "a6d08880",
   "metadata": {},
   "source": [
    "# - Módulo 24: Integração Python - Web (Introdução Web-Scraping com Selenium)"
   ]
  },
  {
   "cell_type": "markdown",
   "id": "ee0f538f",
   "metadata": {},
   "source": [
    "## Instalação\n",
    "\n",
    "Para a instalar a biblioteca do Selenium abra o prompt do anaconda e execute o comando:"
   ]
  },
  {
   "cell_type": "raw",
   "id": "f9e053e5",
   "metadata": {},
   "source": [
    "pip install --upgrade selenium"
   ]
  },
  {
   "cell_type": "markdown",
   "id": "4b82b690",
   "metadata": {},
   "source": [
    "Para fazer scraping use o Chrome! Eu sei que cada um tem uma preferência: Firefox, Edge, Safari, Opera GX, Brave. Ou às vezes o TI não homologa o Chrome para usar no computador da empresa. Mas baixa o Chrome, conversa com o TI para ele liberar porque em termos de compatibilidade com os sites da Internet o Chrome é o melhor navegador. Boa parte das coisas funcionam de igual nos outros navegadores. Mas tem um detalhe ou outro que pode te prender horas e você não teria que bater tanta cabeça para resolver. Portanto, usem o Chrome.\n",
    "\n",
    "Se não tiver o Chrome faça o download aqui: https://www.google.com/chrome/\n",
    "\n",
    "Tendo instalado, abra o Google Chrome e acesse a ULR chrome://settings/help. Lá podemos ver a versão do seu Google Chrome.\n",
    "\n"
   ]
  },
  {
   "cell_type": "markdown",
   "id": "3dfcb058",
   "metadata": {},
   "source": [
    "O número sublinhado em vermelho é o que mais importa. Se o número for 98 você vai ter que achar um chromedriver 98. Se for 97, vai ter que achar um chromedriver 97. Se for 9999 vai ter que achar um chromedriver 9999.\n",
    "\n",
    "Acesse https://chromedriver.chromium.org/downloads e baixe a versão compatível com o seu navegador. Se não houver um chromedriver da versão exata da sua, pegue uma versão que tenha pelo menos o primeiro número igual."
   ]
  },
  {
   "cell_type": "markdown",
   "id": "de8f0712",
   "metadata": {},
   "source": [
    "Se você usa qualquer distribuição Linux, pode ser Ubuntu, Fedora, Debian, Open SUSE, qualquer distribuiçao que seja. Vai baixar a versão chromedriver_linux64.zip, se tiver um Mac da linha mais nova M1 vai baixar chromedriver_mac64_m1.zip, se tiver um Mac da linha antiga chromedriver_mac64.zip e se tiver Windows, mesmo que seja 64 bits, vai baixar a versão chromedriver_win32.zip.\n",
    "\n",
    "Descompacte o arquivo .zip e cole na pasta do anaconda3.\n",
    "\n",
    "Tendo feito isso podemos abrir o chromedriver da seguinte forma:"
   ]
  },
  {
   "cell_type": "code",
   "execution_count": 7,
   "id": "69619c1b",
   "metadata": {},
   "outputs": [],
   "source": [
    "from selenium import webdriver\n",
    "\n",
    "navegador = webdriver.Chrome()"
   ]
  },
  {
   "cell_type": "markdown",
   "id": "6c748f26",
   "metadata": {},
   "source": [
    "Se uma nova janela do Chrome foi aberta, quer dizer que o selenium e o chromedriver estão funcionando corretamente.\n",
    "\n",
    "Se houver um erro:\n",
    "\n",
    "Isso quer dizer que o arquivo não está no local correto ou o selenium não está identificando ele.\n",
    "\n",
    "Para ambos os casos vamos contornar o erro da seguinte forma:\n",
    " "
   ]
  },
  {
   "cell_type": "code",
   "execution_count": null,
   "id": "fe07eb7f",
   "metadata": {},
   "outputs": [],
   "source": [
    "from selenium import webdriver\n",
    "from selenium.webdriver.chrome.service import Service\n",
    "\n",
    "servico = Service(r'C:\\\\Users\\\\Downloads\\\\chromedriver.exe')\n",
    "\n",
    "# Lembre-se que se você usa Linux ou Mac o arquivo do chromedriver não possui .exe no final\n",
    "driver = webdriver.Chrome(service=servico)"
   ]
  },
  {
   "cell_type": "markdown",
   "id": "155b82ce",
   "metadata": {},
   "source": [
    "Se você tiver um problema como esse:\n",
    "\n",
    "Quer dizer que você está usando uma versão antiga do selenium, você precisa instalar a última versão do selenium. Abra o prompt do anaconda e rode o comando:"
   ]
  },
  {
   "cell_type": "raw",
   "id": "6ba74e80",
   "metadata": {},
   "source": [
    "pip install --upgrade selenium"
   ]
  },
  {
   "cell_type": "markdown",
   "id": "757598fb",
   "metadata": {},
   "source": [
    "Clique em Kernel > Restart\n",
    "\n",
    "Se mesmo assim continuar tendo problemas, acesse a página https://github.com/SeleniumHQ/selenium\n",
    "\n",
    "Veja a aba da direita:\n",
    "\n",
    "Essa versão que deverá ser instalada.\n",
    "\n",
    "Abra o prompt do anaconda e rode o comando:"
   ]
  },
  {
   "cell_type": "raw",
   "id": "d43f3ac7",
   "metadata": {},
   "source": [
    "pip install selenium==número_da_versão>"
   ]
  },
  {
   "cell_type": "markdown",
   "id": "26b60689",
   "metadata": {},
   "source": [
    "No caso do exemplo podemos fazer:"
   ]
  },
  {
   "cell_type": "raw",
   "id": "c498e3d8",
   "metadata": {},
   "source": [
    "pip install selenium==4.1.0"
   ]
  },
  {
   "cell_type": "markdown",
   "id": "f921c585",
   "metadata": {},
   "source": [
    "Clique em Kernel > Restart e refaça o procedimento"
   ]
  },
  {
   "cell_type": "markdown",
   "id": "13c53b2e",
   "metadata": {},
   "source": [
    "#### Alternativa\n",
    "- Uma alternativa que surgiu recentemente é usar o webdriver-manager, uma outra biblioteca que faz o gerenciamento do seu chromedriver para você. Nesse caso, precisamos primeiro instalar o webdriver-manager"
   ]
  },
  {
   "cell_type": "raw",
   "id": "56d0e0c0",
   "metadata": {},
   "source": [
    "pip install webdriver-manager"
   ]
  },
  {
   "cell_type": "markdown",
   "id": "04d5ae3d",
   "metadata": {},
   "source": [
    "- Em seguida, importamos o ChromeDriverManager e usamos ele no Serviço do nosso Selenium, assim:"
   ]
  },
  {
   "cell_type": "code",
   "execution_count": 8,
   "id": "0bf6a6c8",
   "metadata": {},
   "outputs": [
    {
     "name": "stderr",
     "output_type": "stream",
     "text": [
      "\n",
      "\n",
      "====== WebDriver manager ======\n",
      "Current google-chrome version is 101.0.4951\n",
      "Get LATEST chromedriver version for 101.0.4951 google-chrome\n",
      "There is no [win32] chromedriver for browser 101.0.4951 in cache\n",
      "Trying to download new driver from https://chromedriver.storage.googleapis.com/101.0.4951.41/chromedriver_win32.zip\n",
      "Driver has been saved in cache [C:\\Users\\Daniel\\.wdm\\drivers\\chromedriver\\win32\\101.0.4951.41]\n"
     ]
    }
   ],
   "source": [
    "from selenium import webdriver\n",
    "from selenium.webdriver.chrome.service import Service\n",
    "from webdriver_manager.chrome import ChromeDriverManager\n",
    "\n",
    "servico = Service(ChromeDriverManager().install())\n",
    "navegador = webdriver.Chrome(service=servico)"
   ]
  },
  {
   "cell_type": "markdown",
   "id": "f134f5d5",
   "metadata": {},
   "source": [
    "## Acessando Páginas Web"
   ]
  },
  {
   "cell_type": "code",
   "execution_count": 10,
   "id": "1d2325e4",
   "metadata": {},
   "outputs": [
    {
     "name": "stderr",
     "output_type": "stream",
     "text": [
      "\n",
      "\n",
      "====== WebDriver manager ======\n",
      "Current google-chrome version is 101.0.4951\n",
      "Get LATEST chromedriver version for 101.0.4951 google-chrome\n",
      "Driver [C:\\Users\\Daniel\\.wdm\\drivers\\chromedriver\\win32\\101.0.4951.41\\chromedriver.exe] found in cache\n"
     ]
    }
   ],
   "source": [
    "from selenium import webdriver\n",
    "from selenium.webdriver.chrome.service import Service\n",
    "from webdriver_manager.chrome import ChromeDriverManager\n",
    "\n",
    "servico = Service(ChromeDriverManager().install())\n",
    "navegador = webdriver.Chrome(service=servico)"
   ]
  },
  {
   "cell_type": "code",
   "execution_count": 11,
   "id": "e5150434",
   "metadata": {},
   "outputs": [],
   "source": [
    "navegador.get(\"https://www.globo.com/\")"
   ]
  },
  {
   "cell_type": "code",
   "execution_count": 12,
   "id": "2792e8b9",
   "metadata": {},
   "outputs": [],
   "source": [
    "navegador.get(r\"C:\\Users\\Daniel\\Documents\\Arquivos Técnicos\\Arquivos\\Programação\\_Cursos\\Python Impressionador - Hashtag Treinamento\\24.Integração Python - Web (Introdução Web-Scraping com Selenium)  ------ATUALIZADO\\MATERIAL DE APOIO\\03\\Pagina Hashtag.html\")"
   ]
  },
  {
   "cell_type": "markdown",
   "id": "d4eb64f4",
   "metadata": {},
   "source": [
    "## Métodos de Seleção do Selenium"
   ]
  },
  {
   "cell_type": "markdown",
   "id": "825caae3",
   "metadata": {},
   "source": [
    "from selenium import webdriver\n",
    "from selenium.webdriver.chrome.service import Service\n",
    "from webdriver_manager.chrome import ChromeDriverManager\n",
    "\n",
    "servico = Service(ChromeDriverManager().install())\n",
    "navegador = webdriver.Chrome(service=servico)"
   ]
  },
  {
   "cell_type": "code",
   "execution_count": 15,
   "id": "bb4b0c16",
   "metadata": {},
   "outputs": [
    {
     "name": "stdout",
     "output_type": "stream",
     "text": [
      "C:\\Users\\Daniel\\Documents\\Arquivos Técnicos\\Arquivos\\Programação\\_Cursos\\Python Impressionador - Hashtag Treinamento\n"
     ]
    }
   ],
   "source": [
    "import os\n",
    "\n",
    "caminho = os.getcwd()\n",
    "#print(caminho)\n",
    "\n",
    "arquivo = caminho + r\"\\24.Integração Python - Web (Introdução Web-Scraping com Selenium)  ------ATUALIZADO\\MATERIAL DE APOIO\\04\\Pagina Hashtag.html\"\n",
    "navegador.get(arquivo)"
   ]
  },
  {
   "cell_type": "code",
   "execution_count": 16,
   "id": "28dfe020",
   "metadata": {},
   "outputs": [],
   "source": [
    "from selenium.webdriver.common.by import By\n",
    "\n",
    "navegador.find_element(By.ID, 'fullname').send_keys(\"Daniel\")\n",
    "navegador.find_element(By.ID, 'email').send_keys(\"drumondsantos@gmail.com\")\n",
    "navegador.find_element(By.ID, '_form_176_submit').click()"
   ]
  },
  {
   "cell_type": "markdown",
   "id": "865dce41",
   "metadata": {},
   "source": [
    "## Seleção por Class Name e XPATH"
   ]
  },
  {
   "cell_type": "code",
   "execution_count": null,
   "id": "eeedd543",
   "metadata": {},
   "outputs": [],
   "source": [
    "from selenium.webdriver.common.by import By\n",
    "\n",
    "# navegador.find_element(By.CLASS_NAME, 'custom-logo').click()\n",
    "navegador.find_element(By.XPATH, '//*[@id=\"header\"]/div/div/div[1]/a/img').click()"
   ]
  },
  {
   "cell_type": "markdown",
   "id": "56d28659",
   "metadata": {},
   "source": [
    "## Outras formas de selecionar um elemento no Selenium"
   ]
  },
  {
   "cell_type": "markdown",
   "id": "79f69bb1",
   "metadata": {},
   "source": [
    "#### Documentação Selenium:\n",
    "\n",
    "- https://selenium-python.readthedocs.io/locating-elements.html"
   ]
  },
  {
   "cell_type": "markdown",
   "id": "ed28b731",
   "metadata": {},
   "source": [
    "### Selecionar pela tag\n",
    "\n",
    "- Vamos selecionar o título"
   ]
  },
  {
   "cell_type": "code",
   "execution_count": 17,
   "id": "6d227cab",
   "metadata": {},
   "outputs": [
    {
     "name": "stdout",
     "output_type": "stream",
     "text": [
      "Todos os Cursos da Hashtag Treinamentos\n"
     ]
    }
   ],
   "source": [
    "from selenium.webdriver.common.by import By\n",
    "\n",
    "titulo = navegador.find_element(By.TAG_NAME, 'h2').text\n",
    "print(titulo)"
   ]
  },
  {
   "cell_type": "markdown",
   "id": "44e96085",
   "metadata": {},
   "source": [
    "### Selecionar pelo Partial Link Text (ou LINK_TEXT)\n",
    "- Quero conseguir pegar o número de whatsapp de contato"
   ]
  },
  {
   "cell_type": "code",
   "execution_count": 18,
   "id": "92687e93",
   "metadata": {},
   "outputs": [
    {
     "name": "stdout",
     "output_type": "stream",
     "text": [
      "(21) 99865-8852 (WhatsApp)\n"
     ]
    }
   ],
   "source": [
    "numero_whatsapp = navegador.find_element(By.PARTIAL_LINK_TEXT, 'WhatsApp').text\n",
    "print(numero_whatsapp)"
   ]
  },
  {
   "cell_type": "markdown",
   "id": "3d2f78d2",
   "metadata": {},
   "source": [
    "### Selecionar pelo name\n",
    "- Preencher o formulário"
   ]
  },
  {
   "cell_type": "code",
   "execution_count": 19,
   "id": "e9f546b2",
   "metadata": {},
   "outputs": [],
   "source": [
    "navegador.find_element(By.NAME, 'email').send_keys(\"galo@gmail.com\")"
   ]
  },
  {
   "cell_type": "markdown",
   "id": "7c234c22",
   "metadata": {},
   "source": [
    "### Selecionar pelo CSS Selector\n",
    "- Parecido com o XPATH, acaba não usando tanto, mas caso queira, tem uma referência aqui:\n",
    "https://saucelabs.com/resources/articles/selenium-tips-css-selectors"
   ]
  },
  {
   "cell_type": "markdown",
   "id": "37ae7647",
   "metadata": {},
   "source": [
    "## Selecionando vários elementos de uma vez"
   ]
  },
  {
   "cell_type": "markdown",
   "id": "2df802f0",
   "metadata": {},
   "source": [
    "- Vamos selecionar pelo find_elements\n",
    "- Vamos clicar no item Blog do menu"
   ]
  },
  {
   "cell_type": "code",
   "execution_count": null,
   "id": "3daafecc",
   "metadata": {},
   "outputs": [],
   "source": [
    "# Se você escolhe um item que existe em mais de um elemento da página, o selenium escolhe o primeiro que aparece por padrão\n",
    "\n",
    "lista_elementos = navegador.find_element(By.CLASS_NAME, 'nav-link').click()\n",
    "for elemento in lista_elementos:\n",
    "    if \"blog\" in element.text.lower():\n",
    "        elemento.click()\n",
    "        break\n",
    "        \n",
    "# break finaliza o for. Necessário para Selenium"
   ]
  },
  {
   "cell_type": "markdown",
   "id": "9ca210b2",
   "metadata": {},
   "source": [
    "## Pegando atributos ou texto de um elemento"
   ]
  },
  {
   "cell_type": "code",
   "execution_count": 20,
   "id": "c00a909b",
   "metadata": {},
   "outputs": [
    {
     "name": "stderr",
     "output_type": "stream",
     "text": [
      "\n",
      "\n",
      "====== WebDriver manager ======\n",
      "Current google-chrome version is 101.0.4951\n",
      "Get LATEST chromedriver version for 101.0.4951 google-chrome\n",
      "Trying to download new driver from https://chromedriver.storage.googleapis.com/101.0.4951.41/chromedriver_win32.zip\n",
      "Driver has been saved in cache [C:\\Users\\Daniel\\.wdm\\drivers\\chromedriver\\win32\\101.0.4951.41]\n"
     ]
    }
   ],
   "source": [
    "from selenium import webdriver\n",
    "from selenium.webdriver.chrome.service import Service\n",
    "from webdriver_manager.chrome import ChromeDriverManager\n",
    "from selenium.webdriver.common.by import By\n",
    "\n",
    "servico = Service(ChromeDriverManager().install())\n",
    "navegador = webdriver.Chrome(service=servico)"
   ]
  },
  {
   "cell_type": "code",
   "execution_count": 21,
   "id": "bcdae146",
   "metadata": {},
   "outputs": [],
   "source": [
    "navegador.get(\"https://www.hashtagtreinamentos.com/\")"
   ]
  },
  {
   "cell_type": "markdown",
   "id": "753d0c68",
   "metadata": {},
   "source": [
    "#### Pegar informações de um elemento\n",
    "\n",
    "- texto\n",
    "- atributos"
   ]
  },
  {
   "cell_type": "markdown",
   "id": "7313c844",
   "metadata": {},
   "source": [
    "##### Ex1: Link do Whatsapp"
   ]
  },
  {
   "cell_type": "code",
   "execution_count": 23,
   "id": "25390ab0",
   "metadata": {},
   "outputs": [
    {
     "name": "stdout",
     "output_type": "stream",
     "text": [
      "(21) 99865-8852 (WhatsApp)\n",
      "https://api.whatsapp.com/send?phone=5521998658852&text=Ol%C3%A1%2C%20gostaria%20de%20tirar%20uma%20d%C3%BAvida%20%20sobre%20o%20curso%20online\n"
     ]
    }
   ],
   "source": [
    "texto1 = navegador.find_element(By.XPATH, '/html/body/footer/div/div[1]/div[2]/div/a[2]').text\n",
    "print(texto1)\n",
    "\n",
    "texto = navegador.find_element(By.XPATH, '/html/body/footer/div/div[1]/div[2]/div/a[2]').get_attribute('href')\n",
    "print(texto)"
   ]
  },
  {
   "cell_type": "markdown",
   "id": "89da5d7d",
   "metadata": {},
   "source": [
    "##### Ex2: Imagens dos cursos"
   ]
  },
  {
   "cell_type": "code",
   "execution_count": 27,
   "id": "cda994de",
   "metadata": {},
   "outputs": [
    {
     "name": "stdout",
     "output_type": "stream",
     "text": [
      "https://www.hashtagtreinamentos.com/aula1-curso-basico-de-power-apps\n"
     ]
    }
   ],
   "source": [
    "link = navegador.find_element(By.XPATH, '/html/body/section[6]/div/div/div/div[2]/div/div[1]/a').get_attribute('href')\n",
    "print(link)"
   ]
  },
  {
   "cell_type": "markdown",
   "id": "c77b0172",
   "metadata": {},
   "source": [
    "## Coletando Informações de Elementos dentro de Elementos"
   ]
  },
  {
   "cell_type": "markdown",
   "id": "898a0259",
   "metadata": {},
   "source": [
    "#### Pegar todos os links das imagens"
   ]
  },
  {
   "cell_type": "code",
   "execution_count": null,
   "id": "4fdd23c0",
   "metadata": {},
   "outputs": [],
   "source": [
    "lista_elementos = navegador.find_element(By.TAG_NAME, 'figure') #lista de figures\n",
    "for elemento in lista_elementos:\n",
    "    try:\n",
    "        link = elemento.find_element(By.TAG_NAME, 'a').get_attribute('href')\n",
    "        print(link)\n",
    "    except:\n",
    "        continue"
   ]
  },
  {
   "cell_type": "markdown",
   "id": "472f471e",
   "metadata": {},
   "source": [
    "## Preenchendo formulários com o Selenium (botões e caixas de seleção)"
   ]
  },
  {
   "cell_type": "markdown",
   "id": "f08106f9",
   "metadata": {},
   "source": [
    "from selenium import webdriver\n",
    "from selenium.webdriver.chrome.service import Service\n",
    "from webdriver_manager.chrome import ChromeDriverManager\n",
    "from selenium.webdriver.common.by import By\n",
    "\n",
    "servico = Service(ChromeDriverManager().install())\n",
    "navegador = webdriver.Chrome(service=servico)"
   ]
  },
  {
   "cell_type": "code",
   "execution_count": 1,
   "id": "7f2e7c3e",
   "metadata": {},
   "outputs": [
    {
     "name": "stderr",
     "output_type": "stream",
     "text": [
      "\n",
      "\n",
      "====== WebDriver manager ======\n",
      "Current google-chrome version is 101.0.4951\n",
      "Get LATEST chromedriver version for 101.0.4951 google-chrome\n",
      "Trying to download new driver from https://chromedriver.storage.googleapis.com/101.0.4951.41/chromedriver_win32.zip\n",
      "Driver has been saved in cache [C:\\Users\\Daniel\\.wdm\\drivers\\chromedriver\\win32\\101.0.4951.41]\n"
     ]
    }
   ],
   "source": [
    "from selenium import webdriver\n",
    "from selenium.webdriver.chrome.service import Service\n",
    "from webdriver_manager.chrome import ChromeDriverManager\n",
    "from selenium.webdriver.common.by import By\n",
    "\n",
    "servico = Service(ChromeDriverManager().install())\n",
    "navegador = webdriver.Chrome(service=servico)"
   ]
  },
  {
   "cell_type": "code",
   "execution_count": 2,
   "id": "9d00f808",
   "metadata": {},
   "outputs": [],
   "source": [
    "import os\n",
    "\n",
    "caminho = os.getcwd()\n",
    "arquivo = caminho + r\"\\formulario.html\"\n",
    "navegador.get(arquivo)"
   ]
  },
  {
   "cell_type": "markdown",
   "id": "10861875",
   "metadata": {},
   "source": [
    "#### Botão Padrão (clicar em botão)"
   ]
  },
  {
   "cell_type": "code",
   "execution_count": 3,
   "id": "babd00ed",
   "metadata": {},
   "outputs": [],
   "source": [
    "navegador.find_element(By.XPATH, '/html/body/form/input[1]').click()\n",
    "\n",
    "alerta = navegador.switch_to.alert\n",
    "alerta.accept()\n",
    "\n"
   ]
  },
  {
   "cell_type": "markdown",
   "id": "bd077b5b",
   "metadata": {},
   "source": [
    "#### Dica, esteja sempre atento ao atributo \\\"value\\\" dos inputs, ele pode te ajudar\n",
    "\n",
    "- .text\n",
    "- .get_attribute(\"value\")\n",
    "- .is_selected"
   ]
  },
  {
   "cell_type": "markdown",
   "id": "da40cb6b",
   "metadata": {},
   "source": [
    "#### Botão de Seleção estilo Checkbox (clicar no botão)"
   ]
  },
  {
   "cell_type": "code",
   "execution_count": 6,
   "id": "722cee3a",
   "metadata": {},
   "outputs": [],
   "source": [
    "# Clicar no botão\n",
    "navegador.find_element(By.XPATH, '/html/body/form/input[3]').click()"
   ]
  },
  {
   "cell_type": "code",
   "execution_count": 7,
   "id": "6ac80c06",
   "metadata": {},
   "outputs": [
    {
     "name": "stdout",
     "output_type": "stream",
     "text": [
      "True\n"
     ]
    }
   ],
   "source": [
    "# Verificar o valor do botão\n",
    "value = navegador.find_element(By.XPATH, '/html/body/form/input[3]').is_selected()\n",
    "print(value)"
   ]
  },
  {
   "cell_type": "markdown",
   "id": "14f3c4c7",
   "metadata": {},
   "source": [
    "#### Botão de Seleção de Cores (enviar valor)"
   ]
  },
  {
   "cell_type": "code",
   "execution_count": 11,
   "id": "d47701f3",
   "metadata": {},
   "outputs": [],
   "source": [
    "# Preencher a cor HEX #2143E8\n",
    "navegador.find_element(By.XPATH, '/html/body/form/input[4]').send_keys('#2143E8')"
   ]
  },
  {
   "cell_type": "code",
   "execution_count": 12,
   "id": "0ef73ffb",
   "metadata": {},
   "outputs": [
    {
     "name": "stdout",
     "output_type": "stream",
     "text": [
      "#2143e8\n"
     ]
    }
   ],
   "source": [
    "# Verificar qual cor foi selecionada\n",
    "valor = navegador.find_element(By.XPATH, '/html/body/form/input[4]').get_attribute('value')\n",
    "print(valor)"
   ]
  },
  {
   "cell_type": "markdown",
   "id": "f01c402f",
   "metadata": {},
   "source": [
    "#### Botão de Datas (enviar valor)"
   ]
  },
  {
   "cell_type": "code",
   "execution_count": 13,
   "id": "27806d55",
   "metadata": {},
   "outputs": [],
   "source": [
    "# Preencher o valor\n",
    "navegador.find_element(By.XPATH, '/html/body/form/input[6]').send_keys('08/09/1989')"
   ]
  },
  {
   "cell_type": "code",
   "execution_count": 14,
   "id": "c0c4d4d8",
   "metadata": {},
   "outputs": [
    {
     "name": "stdout",
     "output_type": "stream",
     "text": [
      "1989-09-08\n"
     ]
    }
   ],
   "source": [
    "# Verificar o valor\n",
    "valor = navegador.find_element(By.XPATH, '/html/body/form/input[6]').get_attribute('value')\n",
    "print(valor)"
   ]
  },
  {
   "cell_type": "markdown",
   "id": "0f228b30",
   "metadata": {},
   "source": [
    "#### Botão de Datas com Horas (enviar valor)"
   ]
  },
  {
   "cell_type": "code",
   "execution_count": 15,
   "id": "da5c5e42",
   "metadata": {},
   "outputs": [],
   "source": [
    "# Permite apertar teclas do teclado\n",
    "from selenium.webdriver.common.keys import Keys\n",
    "\n",
    "# Preenchendo o valor\n",
    "navegador.find_element(By.XPATH, '/html/body/form/input[7]').send_keys('08/09/1989', Keys.TAB, '22:00')"
   ]
  },
  {
   "cell_type": "code",
   "execution_count": 16,
   "id": "cbca4a0e",
   "metadata": {},
   "outputs": [
    {
     "name": "stdout",
     "output_type": "stream",
     "text": [
      "1989-09-08T22:00\n"
     ]
    }
   ],
   "source": [
    "# Verificar o valor\n",
    "valor = navegador.find_element(By.XPATH, '/html/body/form/input[7]').get_attribute('value')\n",
    "print(valor)"
   ]
  },
  {
   "cell_type": "markdown",
   "id": "26d06fa2",
   "metadata": {},
   "source": [
    "#### Botão para selecionar o arquivo (enviar valor com caminho completo)"
   ]
  },
  {
   "cell_type": "code",
   "execution_count": 19,
   "id": "e0b55710",
   "metadata": {},
   "outputs": [],
   "source": [
    "# Preenchendo o valor\n",
    "\n",
    "caminho = os.getcwd()\n",
    "arquivo = caminho + r\"\\formulario.html\"\n",
    "\n",
    "navegador.find_element(By.XPATH, '/html/body/form/input[8]').send_keys(arquivo)"
   ]
  },
  {
   "cell_type": "code",
   "execution_count": 20,
   "id": "1c8eb21f",
   "metadata": {},
   "outputs": [
    {
     "name": "stdout",
     "output_type": "stream",
     "text": [
      "C:\\fakepath\\formulario.html\n"
     ]
    }
   ],
   "source": [
    "# Verificar o valor\n",
    "valor = navegador.find_element(By.XPATH, '/html/body/form/input[8]').get_attribute('value')\n",
    "print(valor)"
   ]
  },
  {
   "cell_type": "markdown",
   "id": "097ec12a",
   "metadata": {},
   "source": [
    "#### Botão para selecionar mês e ano (enviar valor)"
   ]
  },
  {
   "cell_type": "code",
   "execution_count": 24,
   "id": "f11e4e10",
   "metadata": {},
   "outputs": [],
   "source": [
    "# Preenchendo o valor\n",
    "navegador.find_element(By.XPATH, '/html/body/form/input[9]').send_keys('março', Keys.TAB, '2020')"
   ]
  },
  {
   "cell_type": "code",
   "execution_count": 25,
   "id": "8cff0daa",
   "metadata": {},
   "outputs": [
    {
     "name": "stdout",
     "output_type": "stream",
     "text": [
      "2020-03\n"
     ]
    }
   ],
   "source": [
    "# Verificar o valor\n",
    "print(navegador.find_element(By.XPATH, '/html/body/form/input[9]').get_attribute('value'))"
   ]
  },
  {
   "cell_type": "markdown",
   "id": "8c720f6f",
   "metadata": {},
   "source": [
    "#### Campos Numéricos"
   ]
  },
  {
   "cell_type": "code",
   "execution_count": 27,
   "id": "35860976",
   "metadata": {},
   "outputs": [],
   "source": [
    "navegador.find_element(By.XPATH, '/html/body/form/input[10]').clear()\n",
    "navegador.find_element(By.XPATH, '/html/body/form/input[10]').send_keys(12345)"
   ]
  },
  {
   "cell_type": "markdown",
   "id": "c1751cdb",
   "metadata": {},
   "source": [
    "#### Campos de Senha"
   ]
  },
  {
   "cell_type": "code",
   "execution_count": 28,
   "id": "204ba6d9",
   "metadata": {},
   "outputs": [],
   "source": [
    "navegador.find_element(By.XPATH, '/html/body/form/input[11]').send_keys('SenhaBolada222')"
   ]
  },
  {
   "cell_type": "code",
   "execution_count": 30,
   "id": "025cc258",
   "metadata": {},
   "outputs": [
    {
     "name": "stdout",
     "output_type": "stream",
     "text": [
      "SenhaBolada222\n"
     ]
    }
   ],
   "source": [
    "# Verificar o valor\n",
    "print(navegador.find_element(By.XPATH, '/html/body/form/input[11]').get_attribute('value'))"
   ]
  },
  {
   "cell_type": "markdown",
   "id": "c8f51b7d",
   "metadata": {},
   "source": [
    "#### RadioButtons (botões que só consegue marcar 1)"
   ]
  },
  {
   "cell_type": "code",
   "execution_count": 33,
   "id": "c9712ade",
   "metadata": {},
   "outputs": [],
   "source": [
    "navegador.find_element(By.XPATH, '/html/body/form/input[12]').click()"
   ]
  },
  {
   "cell_type": "code",
   "execution_count": 34,
   "id": "0e2e80d1",
   "metadata": {},
   "outputs": [
    {
     "data": {
      "text/plain": [
       "True"
      ]
     },
     "execution_count": 34,
     "metadata": {},
     "output_type": "execute_result"
    }
   ],
   "source": [
    "# Verificar se está selecionado\n",
    "navegador.find_element(By.XPATH, '/html/body/form/input[12]').is_selected()"
   ]
  },
  {
   "cell_type": "markdown",
   "id": "1894af6c",
   "metadata": {},
   "source": [
    "#### Slider (enviar valor)"
   ]
  },
  {
   "cell_type": "code",
   "execution_count": 45,
   "id": "725bd5a5",
   "metadata": {},
   "outputs": [],
   "source": [
    "navegador.find_element(By.XPATH, '/html/body/form/input[15]').clear()\n",
    "\n",
    "# Após limpar, veja que o padrão do slider é na posição 50"
   ]
  },
  {
   "cell_type": "code",
   "execution_count": 46,
   "id": "8755e049",
   "metadata": {},
   "outputs": [
    {
     "name": "stdout",
     "output_type": "stream",
     "text": [
      "99\n"
     ]
    }
   ],
   "source": [
    "navegador.find_element(By.XPATH, '/html/body/form/input[15]').get_attribute('value')\n",
    "\n",
    "for i in range(49):\n",
    "    navegador.find_element(By.XPATH, '/html/body/form/input[15]').send_keys(Keys.RIGHT)\n",
    "    valor = navegador.find_element(By.XPATH, '/html/body/form/input[15]').get_attribute('value')\n",
    "print(valor)"
   ]
  },
  {
   "cell_type": "markdown",
   "id": "266b8f45",
   "metadata": {},
   "source": [
    "#### Caixa de Texto"
   ]
  },
  {
   "cell_type": "code",
   "execution_count": 8,
   "id": "e1ed36fc",
   "metadata": {},
   "outputs": [],
   "source": [
    "#preencher\n",
    "navegador.find_element(By.XPATH, '/html/body/form/input[16]').send_keys('Vasco')"
   ]
  },
  {
   "cell_type": "code",
   "execution_count": 9,
   "id": "8d433a0a",
   "metadata": {},
   "outputs": [
    {
     "name": "stdout",
     "output_type": "stream",
     "text": [
      "Vasco\n"
     ]
    }
   ],
   "source": [
    "valor = navegador.find_element(By.XPATH, '/html/body/form/input[16]').get_attribute('value')\n",
    "print(valor)"
   ]
  },
  {
   "cell_type": "markdown",
   "id": "cb9e2ec0",
   "metadata": {},
   "source": [
    "#### Caixa de Horas"
   ]
  },
  {
   "cell_type": "code",
   "execution_count": 35,
   "id": "ac579a78",
   "metadata": {},
   "outputs": [],
   "source": [
    "navegador.find_element(By.XPATH, '/html/body/form/input[17]').send_keys('21:30')"
   ]
  },
  {
   "cell_type": "markdown",
   "id": "780a3f2e",
   "metadata": {},
   "source": [
    "#### Caixa de Data Personalizada (Semanal)"
   ]
  },
  {
   "cell_type": "code",
   "execution_count": 36,
   "id": "fb2a859d",
   "metadata": {},
   "outputs": [
    {
     "data": {
      "text/plain": [
       "'2022-W13'"
      ]
     },
     "execution_count": 36,
     "metadata": {},
     "output_type": "execute_result"
    }
   ],
   "source": [
    "navegador.find_element(By.XPATH, '/html/body/form/input[18]').send_keys('13', '2022')\n",
    "navegador.find_element(By.XPATH, '/html/body/form/input[18]').get_attribute('value')"
   ]
  },
  {
   "cell_type": "markdown",
   "id": "fb84bd59",
   "metadata": {},
   "source": [
    "#### Blocos de texto (enviar valor)"
   ]
  },
  {
   "cell_type": "code",
   "execution_count": 37,
   "id": "6ead8df5",
   "metadata": {},
   "outputs": [],
   "source": [
    "navegador.find_element(By.XPATH, '//*[@id=\\\"story\\\"]').clear()\n",
    "navegador.find_element(By.XPATH, '//*[@id=\\\"story\\\"]').send_keys('Olá', Keys.ENTER, 'Este é um teste com a biblioteca Selenium!', Keys.ENTER, 'Esta dando certo.', Keys.ENTER, 'Show')"
   ]
  },
  {
   "cell_type": "markdown",
   "id": "7bc1df38",
   "metadata": {},
   "source": [
    "#### Selecionando itens de uma lista"
   ]
  },
  {
   "cell_type": "code",
   "execution_count": 47,
   "id": "40698528",
   "metadata": {},
   "outputs": [],
   "source": [
    "# enviando o valor\n",
    "navegador.find_element(By.XPATH, '/html/body/form/select[1]').send_keys('C')"
   ]
  },
  {
   "cell_type": "code",
   "execution_count": 50,
   "id": "3caca9f2",
   "metadata": {},
   "outputs": [],
   "source": [
    "# selecionando manualmente\n",
    "\n",
    "import time\n",
    "navegador.find_element(By.XPATH, '/html/body/form/select[1]').click()\n",
    "time.sleep(0.5)\n",
    "navegador.find_element(By.XPATH, '/html/body/form/select[1]/option[3]').click()"
   ]
  },
  {
   "cell_type": "code",
   "execution_count": 54,
   "id": "47fd6db4",
   "metadata": {},
   "outputs": [],
   "source": [
    "# com o select\n",
    "\n",
    "from selenium.webdriver.support.select import Select\n",
    "elemento = navegador.find_element(By.TAG_NAME, 'select')\n",
    "elemento_select = Select(elemento)\n",
    "elemento_select.select_by_visible_text('B')"
   ]
  },
  {
   "cell_type": "code",
   "execution_count": 60,
   "id": "3b83bea5",
   "metadata": {},
   "outputs": [
    {
     "name": "stdout",
     "output_type": "stream",
     "text": [
      "b\n",
      "B\n"
     ]
    }
   ],
   "source": [
    "# Ver seleção\n",
    "\n",
    "valores = elemento_select.all_selected_options\n",
    "print(valores[0].get_attribute(\"value\")) # valor declarado no código\n",
    "print(valores[0].get_attribute(\"text\")) # texto visível"
   ]
  },
  {
   "cell_type": "markdown",
   "id": "590140cf",
   "metadata": {},
   "source": [
    "## Exercício - Automatizar Emissão de Nota Fiscal"
   ]
  },
  {
   "cell_type": "code",
   "execution_count": 70,
   "id": "26f3f58e",
   "metadata": {},
   "outputs": [
    {
     "name": "stderr",
     "output_type": "stream",
     "text": [
      "\n",
      "\n",
      "====== WebDriver manager ======\n",
      "Current google-chrome version is 101.0.4951\n",
      "Get LATEST chromedriver version for 101.0.4951 google-chrome\n",
      "Driver [C:\\Users\\Daniel\\.wdm\\drivers\\chromedriver\\win32\\101.0.4951.41\\chromedriver.exe] found in cache\n"
     ]
    }
   ],
   "source": [
    "from selenium import webdriver\n",
    "from selenium.webdriver.chrome.service import Service\n",
    "from webdriver_manager.chrome import ChromeDriverManager\n",
    "from selenium.webdriver.common.by import By\n",
    "\n",
    "# Notificação de download Google Chrome\n",
    "options = webdriver.ChromeOptions()\n",
    "options.add_experimental_option(\"prefs\", {\n",
    "  \"download.default_directory\": r\"C:\\Users\\Daniel\\Downloads\",\n",
    "  \"download.prompt_for_download\": False,\n",
    "  \"download.directory_upgrade\": True,\n",
    "  \"safebrowsing.enabled\": True\n",
    "})\n",
    "\n",
    "servico = Service(ChromeDriverManager().install())\n",
    "navegador = webdriver.Chrome(service=servico, options=options)"
   ]
  },
  {
   "cell_type": "code",
   "execution_count": 71,
   "id": "625f9b16",
   "metadata": {},
   "outputs": [],
   "source": [
    "# entrar na página de login (no nosso caso é login.html)\n",
    "import os\n",
    "\n",
    "caminho = os.getcwd()\n",
    "arquivo = caminho + r\"\\24.Integração Python - Web (Introdução Web-Scraping com Selenium)  ------ATUALIZADO\\MATERIAL DE APOIO\\18\\login.html\"\n",
    "navegador.get(arquivo)"
   ]
  },
  {
   "cell_type": "code",
   "execution_count": 72,
   "id": "2af89212",
   "metadata": {},
   "outputs": [],
   "source": [
    "# preencher o login e a senha\n",
    "navegador.find_element(By.XPATH, '/html/body/div/form/input[1]').send_keys(\"daniel@gmail.com\")\n",
    "navegador.find_element(By.XPATH, '/html/body/div/form/input[2]').send_keys(\"123456789\")\n",
    "# clicar no botao de fazer login\n",
    "navegador.find_element(By.XPATH, '/html/body/div/form/button').click()"
   ]
  },
  {
   "cell_type": "code",
   "execution_count": 73,
   "id": "61d20501",
   "metadata": {},
   "outputs": [
    {
     "data": {
      "text/html": [
       "<div>\n",
       "<style scoped>\n",
       "    .dataframe tbody tr th:only-of-type {\n",
       "        vertical-align: middle;\n",
       "    }\n",
       "\n",
       "    .dataframe tbody tr th {\n",
       "        vertical-align: top;\n",
       "    }\n",
       "\n",
       "    .dataframe thead th {\n",
       "        text-align: right;\n",
       "    }\n",
       "</style>\n",
       "<table border=\"1\" class=\"dataframe\">\n",
       "  <thead>\n",
       "    <tr style=\"text-align: right;\">\n",
       "      <th></th>\n",
       "      <th>Cliente</th>\n",
       "      <th>CPF/CNPJ</th>\n",
       "      <th>CEP</th>\n",
       "      <th>Endereço</th>\n",
       "      <th>Bairro</th>\n",
       "      <th>Municipio</th>\n",
       "      <th>UF</th>\n",
       "      <th>Inscricao Estadual</th>\n",
       "      <th>Descrição</th>\n",
       "      <th>Quantidade</th>\n",
       "      <th>Valor Unitario</th>\n",
       "      <th>Valor Total</th>\n",
       "    </tr>\n",
       "  </thead>\n",
       "  <tbody>\n",
       "    <tr>\n",
       "      <th>0</th>\n",
       "      <td>Valentina Márcia Melissa da Cunha</td>\n",
       "      <td>25379574076</td>\n",
       "      <td>73402036</td>\n",
       "      <td>Módulo Módulo 12</td>\n",
       "      <td>Estância Mestre D'Armas V (Planaltina)</td>\n",
       "      <td>Brasília</td>\n",
       "      <td>DF</td>\n",
       "      <td>213873</td>\n",
       "      <td>Nota referente aos serviços prestados/produtos...</td>\n",
       "      <td>3</td>\n",
       "      <td>273</td>\n",
       "      <td>819</td>\n",
       "    </tr>\n",
       "    <tr>\n",
       "      <th>1</th>\n",
       "      <td>Lara Benedita Josefa Drumond</td>\n",
       "      <td>30227643160</td>\n",
       "      <td>78730170</td>\n",
       "      <td>Avenida Manoel de Araújo Piau</td>\n",
       "      <td>Jardim Belo Panorama</td>\n",
       "      <td>Rondonópolis</td>\n",
       "      <td>MT</td>\n",
       "      <td>194139</td>\n",
       "      <td>Nota referente aos serviços prestados/produtos...</td>\n",
       "      <td>6</td>\n",
       "      <td>730</td>\n",
       "      <td>4380</td>\n",
       "    </tr>\n",
       "    <tr>\n",
       "      <th>2</th>\n",
       "      <td>Silvana Melissa da Paz</td>\n",
       "      <td>36636402806</td>\n",
       "      <td>69308220</td>\n",
       "      <td>Rua Madre Rosa</td>\n",
       "      <td>Treze de Setembro</td>\n",
       "      <td>Boa Vista</td>\n",
       "      <td>RR</td>\n",
       "      <td>203703</td>\n",
       "      <td>Nota referente aos serviços prestados/produtos...</td>\n",
       "      <td>2</td>\n",
       "      <td>389</td>\n",
       "      <td>778</td>\n",
       "    </tr>\n",
       "    <tr>\n",
       "      <th>3</th>\n",
       "      <td>Pietro Diego César Monteiro</td>\n",
       "      <td>51701896486</td>\n",
       "      <td>60182541</td>\n",
       "      <td>Rua Sousa Bandeira</td>\n",
       "      <td>Antônio Diogo</td>\n",
       "      <td>Fortaleza</td>\n",
       "      <td>CE</td>\n",
       "      <td>326342</td>\n",
       "      <td>Nota referente aos serviços prestados/produtos...</td>\n",
       "      <td>2</td>\n",
       "      <td>652</td>\n",
       "      <td>1304</td>\n",
       "    </tr>\n",
       "    <tr>\n",
       "      <th>4</th>\n",
       "      <td>Tomás Gabriel Alves</td>\n",
       "      <td>59992546980</td>\n",
       "      <td>96830690</td>\n",
       "      <td>Rua Capitão Francisco Cândido de Castro Menezes</td>\n",
       "      <td>Aliança</td>\n",
       "      <td>Santa Cruz do Sul</td>\n",
       "      <td>RS</td>\n",
       "      <td>549783</td>\n",
       "      <td>Nota referente aos serviços prestados/produtos...</td>\n",
       "      <td>9</td>\n",
       "      <td>533</td>\n",
       "      <td>4797</td>\n",
       "    </tr>\n",
       "    <tr>\n",
       "      <th>5</th>\n",
       "      <td>Rodrigo Manoel Nunes</td>\n",
       "      <td>83916914545</td>\n",
       "      <td>60345640</td>\n",
       "      <td>Travessa João Rodrigues</td>\n",
       "      <td>Vila Velha</td>\n",
       "      <td>Fortaleza</td>\n",
       "      <td>CE</td>\n",
       "      <td>554821</td>\n",
       "      <td>Nota referente aos serviços prestados/produtos...</td>\n",
       "      <td>6</td>\n",
       "      <td>440</td>\n",
       "      <td>2640</td>\n",
       "    </tr>\n",
       "    <tr>\n",
       "      <th>6</th>\n",
       "      <td>Lúcia Allana Pires</td>\n",
       "      <td>74029234607</td>\n",
       "      <td>68909823</td>\n",
       "      <td>Avenida Hermes Monteiro da Silva</td>\n",
       "      <td>Novo Horizonte</td>\n",
       "      <td>Macapá</td>\n",
       "      <td>AP</td>\n",
       "      <td>396745</td>\n",
       "      <td>Nota referente aos serviços prestados/produtos...</td>\n",
       "      <td>8</td>\n",
       "      <td>466</td>\n",
       "      <td>3728</td>\n",
       "    </tr>\n",
       "    <tr>\n",
       "      <th>7</th>\n",
       "      <td>Kaique Lucca Mendes</td>\n",
       "      <td>72386991504</td>\n",
       "      <td>41340080</td>\n",
       "      <td>Caminho 20-Setor 02</td>\n",
       "      <td>Cajazeiras</td>\n",
       "      <td>Salvador</td>\n",
       "      <td>BA</td>\n",
       "      <td>338595</td>\n",
       "      <td>Nota referente aos serviços prestados/produtos...</td>\n",
       "      <td>5</td>\n",
       "      <td>488</td>\n",
       "      <td>2440</td>\n",
       "    </tr>\n",
       "    <tr>\n",
       "      <th>8</th>\n",
       "      <td>Guilherme Yago Manoel Teixeira</td>\n",
       "      <td>31373115190</td>\n",
       "      <td>40290635</td>\n",
       "      <td>2ª Travessa da China</td>\n",
       "      <td>Acupe de Brotas</td>\n",
       "      <td>Salvador</td>\n",
       "      <td>BA</td>\n",
       "      <td>248303</td>\n",
       "      <td>Nota referente aos serviços prestados/produtos...</td>\n",
       "      <td>2</td>\n",
       "      <td>725</td>\n",
       "      <td>1450</td>\n",
       "    </tr>\n",
       "    <tr>\n",
       "      <th>9</th>\n",
       "      <td>Lavínia Clarice Luciana Silva</td>\n",
       "      <td>54617353127</td>\n",
       "      <td>73813530</td>\n",
       "      <td>Travessa 13</td>\n",
       "      <td>Formosinha</td>\n",
       "      <td>Formosa</td>\n",
       "      <td>GO</td>\n",
       "      <td>253537</td>\n",
       "      <td>Nota referente aos serviços prestados/produtos...</td>\n",
       "      <td>4</td>\n",
       "      <td>794</td>\n",
       "      <td>3176</td>\n",
       "    </tr>\n",
       "    <tr>\n",
       "      <th>10</th>\n",
       "      <td>Pietro Davi Silveira</td>\n",
       "      <td>81065601808</td>\n",
       "      <td>57061660</td>\n",
       "      <td>Rua João Batista</td>\n",
       "      <td>Tabuleiro do Martins</td>\n",
       "      <td>Maceió</td>\n",
       "      <td>AL</td>\n",
       "      <td>153307</td>\n",
       "      <td>Nota referente aos serviços prestados/produtos...</td>\n",
       "      <td>7</td>\n",
       "      <td>420</td>\n",
       "      <td>2940</td>\n",
       "    </tr>\n",
       "    <tr>\n",
       "      <th>11</th>\n",
       "      <td>Thiago Tiago Renato Almeida</td>\n",
       "      <td>19491985108</td>\n",
       "      <td>78155160</td>\n",
       "      <td>Rua Paulo Afonso</td>\n",
       "      <td>São Marcos</td>\n",
       "      <td>Várzea Grande</td>\n",
       "      <td>MT</td>\n",
       "      <td>213601</td>\n",
       "      <td>Nota referente aos serviços prestados/produtos...</td>\n",
       "      <td>3</td>\n",
       "      <td>343</td>\n",
       "      <td>1029</td>\n",
       "    </tr>\n",
       "    <tr>\n",
       "      <th>12</th>\n",
       "      <td>Alice Gabrielly Galvão</td>\n",
       "      <td>35156879470</td>\n",
       "      <td>68928111</td>\n",
       "      <td>Travessa I</td>\n",
       "      <td>Paraíso</td>\n",
       "      <td>Santana</td>\n",
       "      <td>AP</td>\n",
       "      <td>534596</td>\n",
       "      <td>Nota referente aos serviços prestados/produtos...</td>\n",
       "      <td>2</td>\n",
       "      <td>976</td>\n",
       "      <td>1952</td>\n",
       "    </tr>\n",
       "    <tr>\n",
       "      <th>13</th>\n",
       "      <td>Mateus Vitor da Silva</td>\n",
       "      <td>11373151641</td>\n",
       "      <td>41290380</td>\n",
       "      <td>Travessa Santo Antônio</td>\n",
       "      <td>Pirajá</td>\n",
       "      <td>Salvador</td>\n",
       "      <td>BA</td>\n",
       "      <td>623260</td>\n",
       "      <td>Nota referente aos serviços prestados/produtos...</td>\n",
       "      <td>5</td>\n",
       "      <td>633</td>\n",
       "      <td>3165</td>\n",
       "    </tr>\n",
       "    <tr>\n",
       "      <th>14</th>\n",
       "      <td>Luana Pietra Luciana Peixoto</td>\n",
       "      <td>79087727810</td>\n",
       "      <td>52051140</td>\n",
       "      <td>Rua Treinador Cláudio Coutinho</td>\n",
       "      <td>Tamarineira</td>\n",
       "      <td>Recife</td>\n",
       "      <td>PE</td>\n",
       "      <td>637467</td>\n",
       "      <td>Nota referente aos serviços prestados/produtos...</td>\n",
       "      <td>10</td>\n",
       "      <td>141</td>\n",
       "      <td>1410</td>\n",
       "    </tr>\n",
       "    <tr>\n",
       "      <th>15</th>\n",
       "      <td>Diogo Luan Novaes</td>\n",
       "      <td>26602467182</td>\n",
       "      <td>33822508</td>\n",
       "      <td>Rua Existente</td>\n",
       "      <td>Vereda</td>\n",
       "      <td>Ribeirão das Neves</td>\n",
       "      <td>MG</td>\n",
       "      <td>644472</td>\n",
       "      <td>Nota referente aos serviços prestados/produtos...</td>\n",
       "      <td>4</td>\n",
       "      <td>778</td>\n",
       "      <td>3112</td>\n",
       "    </tr>\n",
       "    <tr>\n",
       "      <th>16</th>\n",
       "      <td>Emanuel Arthur Guilherme Almada</td>\n",
       "      <td>42907367188</td>\n",
       "      <td>81170646</td>\n",
       "      <td>Rua Osmar Lipinski</td>\n",
       "      <td>Cidade Industrial</td>\n",
       "      <td>Curitiba</td>\n",
       "      <td>PR</td>\n",
       "      <td>937283</td>\n",
       "      <td>Nota referente aos serviços prestados/produtos...</td>\n",
       "      <td>2</td>\n",
       "      <td>784</td>\n",
       "      <td>1568</td>\n",
       "    </tr>\n",
       "    <tr>\n",
       "      <th>17</th>\n",
       "      <td>Murilo César Nascimento</td>\n",
       "      <td>71419355414</td>\n",
       "      <td>59104267</td>\n",
       "      <td>4ª Travessa Santo Inácio de Loyola</td>\n",
       "      <td>Igapó</td>\n",
       "      <td>Natal</td>\n",
       "      <td>RN</td>\n",
       "      <td>480621</td>\n",
       "      <td>Nota referente aos serviços prestados/produtos...</td>\n",
       "      <td>10</td>\n",
       "      <td>436</td>\n",
       "      <td>4360</td>\n",
       "    </tr>\n",
       "    <tr>\n",
       "      <th>18</th>\n",
       "      <td>Jennifer Vanessa Amanda dos Santos</td>\n",
       "      <td>49037173802</td>\n",
       "      <td>35900776</td>\n",
       "      <td>Rua B</td>\n",
       "      <td>Vila Salica</td>\n",
       "      <td>Itabira</td>\n",
       "      <td>MG</td>\n",
       "      <td>755781</td>\n",
       "      <td>Nota referente aos serviços prestados/produtos...</td>\n",
       "      <td>6</td>\n",
       "      <td>679</td>\n",
       "      <td>4074</td>\n",
       "    </tr>\n",
       "    <tr>\n",
       "      <th>19</th>\n",
       "      <td>Márcio Diogo Cauã Freitas</td>\n",
       "      <td>72002560641</td>\n",
       "      <td>56316635</td>\n",
       "      <td>Avenida Frei Damião</td>\n",
       "      <td>João de Deus</td>\n",
       "      <td>Petrolina</td>\n",
       "      <td>PE</td>\n",
       "      <td>653384</td>\n",
       "      <td>Nota referente aos serviços prestados/produtos...</td>\n",
       "      <td>1</td>\n",
       "      <td>405</td>\n",
       "      <td>405</td>\n",
       "    </tr>\n",
       "    <tr>\n",
       "      <th>20</th>\n",
       "      <td>Kauê Carlos Duarte</td>\n",
       "      <td>32488154695</td>\n",
       "      <td>4015012</td>\n",
       "      <td>Rua Joaquim Távora</td>\n",
       "      <td>Vila Mariana</td>\n",
       "      <td>São Paulo</td>\n",
       "      <td>SP</td>\n",
       "      <td>578486</td>\n",
       "      <td>Nota referente aos serviços prestados/produtos...</td>\n",
       "      <td>5</td>\n",
       "      <td>134</td>\n",
       "      <td>670</td>\n",
       "    </tr>\n",
       "    <tr>\n",
       "      <th>21</th>\n",
       "      <td>Mateus Manoel Vieira</td>\n",
       "      <td>87420032610</td>\n",
       "      <td>67146037</td>\n",
       "      <td>Quadra Trinta e Sete</td>\n",
       "      <td>Maguari</td>\n",
       "      <td>Ananindeua</td>\n",
       "      <td>PA</td>\n",
       "      <td>849023</td>\n",
       "      <td>Nota referente aos serviços prestados/produtos...</td>\n",
       "      <td>8</td>\n",
       "      <td>854</td>\n",
       "      <td>6832</td>\n",
       "    </tr>\n",
       "    <tr>\n",
       "      <th>22</th>\n",
       "      <td>Lúcia Lara Sueli Barros</td>\n",
       "      <td>67866395853</td>\n",
       "      <td>69902738</td>\n",
       "      <td>Rua Nobre</td>\n",
       "      <td>Chico Mendes</td>\n",
       "      <td>Rio Branco</td>\n",
       "      <td>AC</td>\n",
       "      <td>214145</td>\n",
       "      <td>Nota referente aos serviços prestados/produtos...</td>\n",
       "      <td>9</td>\n",
       "      <td>212</td>\n",
       "      <td>1908</td>\n",
       "    </tr>\n",
       "    <tr>\n",
       "      <th>23</th>\n",
       "      <td>Isabella Heloise Moraes</td>\n",
       "      <td>51545705372</td>\n",
       "      <td>60767370</td>\n",
       "      <td>Rua F</td>\n",
       "      <td>Mondubim</td>\n",
       "      <td>Fortaleza</td>\n",
       "      <td>CE</td>\n",
       "      <td>290348</td>\n",
       "      <td>Nota referente aos serviços prestados/produtos...</td>\n",
       "      <td>6</td>\n",
       "      <td>470</td>\n",
       "      <td>2820</td>\n",
       "    </tr>\n",
       "    <tr>\n",
       "      <th>24</th>\n",
       "      <td>Manuela Hadassa Nair de Paula</td>\n",
       "      <td>78550813729</td>\n",
       "      <td>72270418</td>\n",
       "      <td>Quadra QNQ 4 Conjunto 18</td>\n",
       "      <td>Ceilândia Norte (Ceilândia)</td>\n",
       "      <td>Brasília</td>\n",
       "      <td>DF</td>\n",
       "      <td>191108</td>\n",
       "      <td>Nota referente aos serviços prestados/produtos...</td>\n",
       "      <td>9</td>\n",
       "      <td>912</td>\n",
       "      <td>8208</td>\n",
       "    </tr>\n",
       "    <tr>\n",
       "      <th>25</th>\n",
       "      <td>Gustavo Diego Gabriel da Conceição</td>\n",
       "      <td>92100026100</td>\n",
       "      <td>72320569</td>\n",
       "      <td>Quadra QN 414 Conjunto I</td>\n",
       "      <td>Samambaia Norte (Samambaia)</td>\n",
       "      <td>Brasília</td>\n",
       "      <td>DF</td>\n",
       "      <td>193798</td>\n",
       "      <td>Nota referente aos serviços prestados/produtos...</td>\n",
       "      <td>2</td>\n",
       "      <td>557</td>\n",
       "      <td>1114</td>\n",
       "    </tr>\n",
       "    <tr>\n",
       "      <th>26</th>\n",
       "      <td>Sarah Alícia Fernandes</td>\n",
       "      <td>59408458435</td>\n",
       "      <td>78015245</td>\n",
       "      <td>Rua João Barbosa Farias</td>\n",
       "      <td>Dom Aquino</td>\n",
       "      <td>Cuiabá</td>\n",
       "      <td>MT</td>\n",
       "      <td>796878</td>\n",
       "      <td>Nota referente aos serviços prestados/produtos...</td>\n",
       "      <td>4</td>\n",
       "      <td>951</td>\n",
       "      <td>3804</td>\n",
       "    </tr>\n",
       "    <tr>\n",
       "      <th>27</th>\n",
       "      <td>Heitor Marcos Lucca das Neves</td>\n",
       "      <td>54121182677</td>\n",
       "      <td>72502607</td>\n",
       "      <td>Quadra QR 402 Conjunto G</td>\n",
       "      <td>Santa Maria</td>\n",
       "      <td>Brasília</td>\n",
       "      <td>DF</td>\n",
       "      <td>723821</td>\n",
       "      <td>Nota referente aos serviços prestados/produtos...</td>\n",
       "      <td>7</td>\n",
       "      <td>564</td>\n",
       "      <td>3948</td>\n",
       "    </tr>\n",
       "    <tr>\n",
       "      <th>28</th>\n",
       "      <td>Eduarda Malu Luciana Figueiredo</td>\n",
       "      <td>10266544088</td>\n",
       "      <td>37705032</td>\n",
       "      <td>Rua Newton Romanelli</td>\n",
       "      <td>Jardim das Hortênsias</td>\n",
       "      <td>Poços de Caldas</td>\n",
       "      <td>MG</td>\n",
       "      <td>312345</td>\n",
       "      <td>Nota referente aos serviços prestados/produtos...</td>\n",
       "      <td>7</td>\n",
       "      <td>937</td>\n",
       "      <td>6559</td>\n",
       "    </tr>\n",
       "    <tr>\n",
       "      <th>29</th>\n",
       "      <td>Thiago Theo Alexandre Brito</td>\n",
       "      <td>45146212775</td>\n",
       "      <td>69151240</td>\n",
       "      <td>Rua Marechal Castelo Branco</td>\n",
       "      <td>Centro</td>\n",
       "      <td>Parintins</td>\n",
       "      <td>AM</td>\n",
       "      <td>994124</td>\n",
       "      <td>Nota referente aos serviços prestados/produtos...</td>\n",
       "      <td>1</td>\n",
       "      <td>617</td>\n",
       "      <td>617</td>\n",
       "    </tr>\n",
       "  </tbody>\n",
       "</table>\n",
       "</div>"
      ],
      "text/plain": [
       "                               Cliente     CPF/CNPJ       CEP  \\\n",
       "0    Valentina Márcia Melissa da Cunha  25379574076  73402036   \n",
       "1         Lara Benedita Josefa Drumond  30227643160  78730170   \n",
       "2               Silvana Melissa da Paz  36636402806  69308220   \n",
       "3          Pietro Diego César Monteiro  51701896486  60182541   \n",
       "4                  Tomás Gabriel Alves  59992546980  96830690   \n",
       "5                 Rodrigo Manoel Nunes  83916914545  60345640   \n",
       "6                   Lúcia Allana Pires  74029234607  68909823   \n",
       "7                  Kaique Lucca Mendes  72386991504  41340080   \n",
       "8       Guilherme Yago Manoel Teixeira  31373115190  40290635   \n",
       "9        Lavínia Clarice Luciana Silva  54617353127  73813530   \n",
       "10                Pietro Davi Silveira  81065601808  57061660   \n",
       "11         Thiago Tiago Renato Almeida  19491985108  78155160   \n",
       "12              Alice Gabrielly Galvão  35156879470  68928111   \n",
       "13               Mateus Vitor da Silva  11373151641  41290380   \n",
       "14        Luana Pietra Luciana Peixoto  79087727810  52051140   \n",
       "15                   Diogo Luan Novaes  26602467182  33822508   \n",
       "16     Emanuel Arthur Guilherme Almada  42907367188  81170646   \n",
       "17             Murilo César Nascimento  71419355414  59104267   \n",
       "18  Jennifer Vanessa Amanda dos Santos  49037173802  35900776   \n",
       "19           Márcio Diogo Cauã Freitas  72002560641  56316635   \n",
       "20                  Kauê Carlos Duarte  32488154695   4015012   \n",
       "21                Mateus Manoel Vieira  87420032610  67146037   \n",
       "22             Lúcia Lara Sueli Barros  67866395853  69902738   \n",
       "23             Isabella Heloise Moraes  51545705372  60767370   \n",
       "24       Manuela Hadassa Nair de Paula  78550813729  72270418   \n",
       "25  Gustavo Diego Gabriel da Conceição  92100026100  72320569   \n",
       "26              Sarah Alícia Fernandes  59408458435  78015245   \n",
       "27       Heitor Marcos Lucca das Neves  54121182677  72502607   \n",
       "28     Eduarda Malu Luciana Figueiredo  10266544088  37705032   \n",
       "29         Thiago Theo Alexandre Brito  45146212775  69151240   \n",
       "\n",
       "                                           Endereço  \\\n",
       "0                                  Módulo Módulo 12   \n",
       "1                     Avenida Manoel de Araújo Piau   \n",
       "2                                    Rua Madre Rosa   \n",
       "3                                Rua Sousa Bandeira   \n",
       "4   Rua Capitão Francisco Cândido de Castro Menezes   \n",
       "5                           Travessa João Rodrigues   \n",
       "6                  Avenida Hermes Monteiro da Silva   \n",
       "7                               Caminho 20-Setor 02   \n",
       "8                              2ª Travessa da China   \n",
       "9                                       Travessa 13   \n",
       "10                                 Rua João Batista   \n",
       "11                                 Rua Paulo Afonso   \n",
       "12                                       Travessa I   \n",
       "13                           Travessa Santo Antônio   \n",
       "14                   Rua Treinador Cláudio Coutinho   \n",
       "15                                    Rua Existente   \n",
       "16                               Rua Osmar Lipinski   \n",
       "17               4ª Travessa Santo Inácio de Loyola   \n",
       "18                                            Rua B   \n",
       "19                              Avenida Frei Damião   \n",
       "20                               Rua Joaquim Távora   \n",
       "21                             Quadra Trinta e Sete   \n",
       "22                                        Rua Nobre   \n",
       "23                                            Rua F   \n",
       "24                         Quadra QNQ 4 Conjunto 18   \n",
       "25                         Quadra QN 414 Conjunto I   \n",
       "26                          Rua João Barbosa Farias   \n",
       "27                         Quadra QR 402 Conjunto G   \n",
       "28                             Rua Newton Romanelli   \n",
       "29                      Rua Marechal Castelo Branco   \n",
       "\n",
       "                                    Bairro           Municipio  UF  \\\n",
       "0   Estância Mestre D'Armas V (Planaltina)            Brasília  DF   \n",
       "1                     Jardim Belo Panorama        Rondonópolis  MT   \n",
       "2                        Treze de Setembro           Boa Vista  RR   \n",
       "3                            Antônio Diogo           Fortaleza  CE   \n",
       "4                                  Aliança   Santa Cruz do Sul  RS   \n",
       "5                               Vila Velha           Fortaleza  CE   \n",
       "6                           Novo Horizonte              Macapá  AP   \n",
       "7                               Cajazeiras            Salvador  BA   \n",
       "8                          Acupe de Brotas            Salvador  BA   \n",
       "9                               Formosinha             Formosa  GO   \n",
       "10                    Tabuleiro do Martins              Maceió  AL   \n",
       "11                              São Marcos       Várzea Grande  MT   \n",
       "12                                 Paraíso             Santana  AP   \n",
       "13                                  Pirajá            Salvador  BA   \n",
       "14                             Tamarineira              Recife  PE   \n",
       "15                                  Vereda  Ribeirão das Neves  MG   \n",
       "16                       Cidade Industrial            Curitiba  PR   \n",
       "17                                   Igapó               Natal  RN   \n",
       "18                             Vila Salica             Itabira  MG   \n",
       "19                            João de Deus           Petrolina  PE   \n",
       "20                            Vila Mariana           São Paulo  SP   \n",
       "21                                 Maguari          Ananindeua  PA   \n",
       "22                            Chico Mendes          Rio Branco  AC   \n",
       "23                                Mondubim           Fortaleza  CE   \n",
       "24             Ceilândia Norte (Ceilândia)            Brasília  DF   \n",
       "25             Samambaia Norte (Samambaia)            Brasília  DF   \n",
       "26                              Dom Aquino              Cuiabá  MT   \n",
       "27                             Santa Maria            Brasília  DF   \n",
       "28                   Jardim das Hortênsias     Poços de Caldas  MG   \n",
       "29                                  Centro           Parintins  AM   \n",
       "\n",
       "    Inscricao Estadual                                          Descrição  \\\n",
       "0               213873  Nota referente aos serviços prestados/produtos...   \n",
       "1               194139  Nota referente aos serviços prestados/produtos...   \n",
       "2               203703  Nota referente aos serviços prestados/produtos...   \n",
       "3               326342  Nota referente aos serviços prestados/produtos...   \n",
       "4               549783  Nota referente aos serviços prestados/produtos...   \n",
       "5               554821  Nota referente aos serviços prestados/produtos...   \n",
       "6               396745  Nota referente aos serviços prestados/produtos...   \n",
       "7               338595  Nota referente aos serviços prestados/produtos...   \n",
       "8               248303  Nota referente aos serviços prestados/produtos...   \n",
       "9               253537  Nota referente aos serviços prestados/produtos...   \n",
       "10              153307  Nota referente aos serviços prestados/produtos...   \n",
       "11              213601  Nota referente aos serviços prestados/produtos...   \n",
       "12              534596  Nota referente aos serviços prestados/produtos...   \n",
       "13              623260  Nota referente aos serviços prestados/produtos...   \n",
       "14              637467  Nota referente aos serviços prestados/produtos...   \n",
       "15              644472  Nota referente aos serviços prestados/produtos...   \n",
       "16              937283  Nota referente aos serviços prestados/produtos...   \n",
       "17              480621  Nota referente aos serviços prestados/produtos...   \n",
       "18              755781  Nota referente aos serviços prestados/produtos...   \n",
       "19              653384  Nota referente aos serviços prestados/produtos...   \n",
       "20              578486  Nota referente aos serviços prestados/produtos...   \n",
       "21              849023  Nota referente aos serviços prestados/produtos...   \n",
       "22              214145  Nota referente aos serviços prestados/produtos...   \n",
       "23              290348  Nota referente aos serviços prestados/produtos...   \n",
       "24              191108  Nota referente aos serviços prestados/produtos...   \n",
       "25              193798  Nota referente aos serviços prestados/produtos...   \n",
       "26              796878  Nota referente aos serviços prestados/produtos...   \n",
       "27              723821  Nota referente aos serviços prestados/produtos...   \n",
       "28              312345  Nota referente aos serviços prestados/produtos...   \n",
       "29              994124  Nota referente aos serviços prestados/produtos...   \n",
       "\n",
       "    Quantidade  Valor Unitario  Valor Total  \n",
       "0            3             273          819  \n",
       "1            6             730         4380  \n",
       "2            2             389          778  \n",
       "3            2             652         1304  \n",
       "4            9             533         4797  \n",
       "5            6             440         2640  \n",
       "6            8             466         3728  \n",
       "7            5             488         2440  \n",
       "8            2             725         1450  \n",
       "9            4             794         3176  \n",
       "10           7             420         2940  \n",
       "11           3             343         1029  \n",
       "12           2             976         1952  \n",
       "13           5             633         3165  \n",
       "14          10             141         1410  \n",
       "15           4             778         3112  \n",
       "16           2             784         1568  \n",
       "17          10             436         4360  \n",
       "18           6             679         4074  \n",
       "19           1             405          405  \n",
       "20           5             134          670  \n",
       "21           8             854         6832  \n",
       "22           9             212         1908  \n",
       "23           6             470         2820  \n",
       "24           9             912         8208  \n",
       "25           2             557         1114  \n",
       "26           4             951         3804  \n",
       "27           7             564         3948  \n",
       "28           7             937         6559  \n",
       "29           1             617          617  "
      ]
     },
     "metadata": {},
     "output_type": "display_data"
    }
   ],
   "source": [
    "# importar a base de clientes\n",
    "import pandas as pd\n",
    "\n",
    "tabela = pd.read_excel(caminho + r\"\\24.Integração Python - Web (Introdução Web-Scraping com Selenium)  ------ATUALIZADO\\MATERIAL DE APOIO\\18\\NotasEmitir.xlsx\") \n",
    "display(tabela)"
   ]
  },
  {
   "cell_type": "code",
   "execution_count": 74,
   "id": "914c5a26",
   "metadata": {},
   "outputs": [],
   "source": [
    "# para cada cliente - rodar o processo de emissao de nota fiscal\n",
    "\n",
    "for linha in tabela.index:\n",
    "# tabela.index: Passa a percorrer as linhas e não colnas\n",
    "\n",
    "    # preencher os dados da NF\n",
    "    \n",
    "    # nome/razao social\n",
    "    navegador.find_element(By.NAME, 'nome').send_keys(tabela.loc[linha, \"Cliente\"])\n",
    "\n",
    "    # endereco\n",
    "    navegador.find_element(By.NAME, 'endereco').send_keys(tabela.loc[linha, \"Endereço\"])\n",
    "\n",
    "    # bairro\n",
    "    navegador.find_element(By.NAME, 'bairro').send_keys(tabela.loc[linha, \"Bairro\"])\n",
    "\n",
    "    # municipio\n",
    "    navegador.find_element(By.NAME, 'municipio').send_keys(tabela.loc[linha, \"Municipio\"])\n",
    "\n",
    "    # cep\n",
    "    navegador.find_element(By.NAME, 'cep').send_keys(str(tabela.loc[linha, \"CEP\"]))\n",
    "    \n",
    "    # UF\n",
    "    navegador.find_element(By.NAME, 'uf').send_keys(tabela.loc[linha, \"UF\"])\n",
    "    \n",
    "    # CPF/CNPJ\n",
    "    navegador.find_element(By.NAME, 'cnpj').send_keys(str(tabela.loc[linha, \"CPF/CNPJ\"]))\n",
    "\n",
    "    # Inscricao estadual\n",
    "    navegador.find_element(By.NAME, 'inscricao').send_keys(str(tabela.loc[linha, \"Inscricao Estadual\"]))\n",
    "\n",
    "    # descrição\n",
    "    texto = tabela.loc[linha, \"Descrição\"]\n",
    "    navegador.find_element(By.NAME, 'descricao').send_keys(texto)\n",
    "\n",
    "    # quantidade\n",
    "    navegador.find_element(By.NAME, 'quantidade').send_keys(str(tabela.loc[linha, \"Quantidade\"]))\n",
    "\n",
    "    # valor unitario\n",
    "    navegador.find_element(By.NAME, 'valor_unitario').send_keys(str(tabela.loc[linha, \"Valor Unitario\"]))\n",
    "\n",
    "    # valor total\n",
    "    navegador.find_element(By.NAME, 'total').send_keys(str(tabela.loc[linha, \"Valor Total\"]))\n",
    "    \n",
    "    # clicar em emitir nota fiscal\n",
    "    navegador.find_element(By.CLASS_NAME, 'registerbtn').click()\n",
    "    \n",
    "    # recarregar a página para limpar o formulário\n",
    "    navegador.refresh()"
   ]
  },
  {
   "cell_type": "code",
   "execution_count": null,
   "id": "20a9e6ff",
   "metadata": {},
   "outputs": [],
   "source": [
    "navegador.quit()"
   ]
  },
  {
   "cell_type": "markdown",
   "id": "7b40cd50",
   "metadata": {},
   "source": [
    "## ActionChains e Dropdowns Especiais"
   ]
  },
  {
   "cell_type": "code",
   "execution_count": 77,
   "id": "e9a65e36",
   "metadata": {},
   "outputs": [
    {
     "name": "stderr",
     "output_type": "stream",
     "text": [
      "\n",
      "\n",
      "====== WebDriver manager ======\n",
      "Current google-chrome version is 101.0.4951\n",
      "Get LATEST chromedriver version for 101.0.4951 google-chrome\n",
      "Driver [C:\\Users\\Daniel\\.wdm\\drivers\\chromedriver\\win32\\101.0.4951.41\\chromedriver.exe] found in cache\n"
     ]
    }
   ],
   "source": [
    "from selenium import webdriver\n",
    "from selenium.webdriver.chrome.service import Service\n",
    "from webdriver_manager.chrome import ChromeDriverManager\n",
    "from selenium.webdriver.common.by import By\n",
    "\n",
    "servico = Service(ChromeDriverManager().install())\n",
    "navegador = webdriver.Chrome(service=servico)"
   ]
  },
  {
   "cell_type": "code",
   "execution_count": 78,
   "id": "0b051723",
   "metadata": {},
   "outputs": [],
   "source": [
    "import os\n",
    "\n",
    "caminho = os.getcwd()\n",
    "arquivo = caminho + r\"\\24.Integração Python - Web (Introdução Web-Scraping com Selenium)  ------ATUALIZADO\\MATERIAL DE APOIO\\21\\Pagina Hashtag.html\"\n",
    "navegador.get(arquivo)"
   ]
  },
  {
   "cell_type": "markdown",
   "id": "59d09b97",
   "metadata": {},
   "source": [
    "#### Dropdown diferente em um site real"
   ]
  },
  {
   "cell_type": "code",
   "execution_count": 81,
   "id": "e94f3131",
   "metadata": {},
   "outputs": [
    {
     "name": "stdout",
     "output_type": "stream",
     "text": [
      "https://www.hashtagtreinamentos.com/curso-sql\n"
     ]
    }
   ],
   "source": [
    "link = navegador.find_element(By.XPATH, '//*[@id=\"menu-item-17042\"]/a').get_attribute('href')\n",
    "navegador.get(link)\n",
    "print(link)"
   ]
  },
  {
   "cell_type": "markdown",
   "id": "e5491f4b",
   "metadata": {},
   "source": [
    "### ActionChains\n",
    "\n",
    "Link com a referência: https://www.selenium.dev/pt-br/documentation/webdriver/actions_api/mouse/"
   ]
  },
  {
   "cell_type": "code",
   "execution_count": 80,
   "id": "bdfad3a1",
   "metadata": {},
   "outputs": [],
   "source": [
    "# ActionChains simula a ação do mouse na página\n",
    "\n",
    "from selenium.webdriver import ActionChains\n",
    "\n",
    "menu = navegador.find_element(By.XPATH, '//*[@id=\"menu-item-dropdown-16313\"]')\n",
    "item = navegador.find_element(By.XPATH, '//*[@id=\"menu-item-17042\"]/a')\n",
    "\n",
    "# colocar o mouse em cima do menu\n",
    "ActionChains(navegador).move_to_element(menu).perform()\n",
    "\n",
    "# clicar no item\n",
    "item.click()"
   ]
  },
  {
   "cell_type": "markdown",
   "id": "15681ada",
   "metadata": {},
   "source": [
    "## Alertas no Selenium"
   ]
  },
  {
   "cell_type": "code",
   "execution_count": 83,
   "id": "768bf97e",
   "metadata": {},
   "outputs": [
    {
     "name": "stderr",
     "output_type": "stream",
     "text": [
      "\n",
      "\n",
      "====== WebDriver manager ======\n",
      "Current google-chrome version is 101.0.4951\n",
      "Get LATEST chromedriver version for 101.0.4951 google-chrome\n",
      "Driver [C:\\Users\\Daniel\\.wdm\\drivers\\chromedriver\\win32\\101.0.4951.41\\chromedriver.exe] found in cache\n"
     ]
    }
   ],
   "source": [
    "from selenium import webdriver\n",
    "from selenium.webdriver.chrome.service import Service\n",
    "from webdriver_manager.chrome import ChromeDriverManager\n",
    "from selenium.webdriver.common.by import By\n",
    "\n",
    "servico = Service(ChromeDriverManager().install())\n",
    "navegador = webdriver.Chrome(service=servico)"
   ]
  },
  {
   "cell_type": "code",
   "execution_count": 84,
   "id": "76252d6a",
   "metadata": {},
   "outputs": [],
   "source": [
    "import os\n",
    "\n",
    "caminho = os.getcwd()\n",
    "arquivo = caminho + r\"\\24.Integração Python - Web (Introdução Web-Scraping com Selenium)  ------ATUALIZADO\\MATERIAL DE APOIO\\22\\alertas.html\"\n",
    "navegador.get(arquivo)"
   ]
  },
  {
   "cell_type": "markdown",
   "id": "df2f88a9",
   "metadata": {},
   "source": [
    "#### Alertas Básicos"
   ]
  },
  {
   "cell_type": "code",
   "execution_count": null,
   "id": "f98e05f9",
   "metadata": {},
   "outputs": [],
   "source": [
    "# selecionar um alerta\n",
    "navegador.find_element(By.XPATH, '/html/body/div[1]/input').click()"
   ]
  },
  {
   "cell_type": "code",
   "execution_count": null,
   "id": "f5768fbe",
   "metadata": {},
   "outputs": [],
   "source": [
    "# forma simples\n",
    "# alerta = navegador.switch_to.alert\n",
    "# alerta.accept()\n",
    "\n",
    "# forma \"completa\"\n",
    "from selenium.webdriver.common.alert import Alert\n",
    "\n",
    "alerta = Alert(navegador)\n",
    "alerta.accept()"
   ]
  },
  {
   "cell_type": "markdown",
   "id": "c3c83bb6",
   "metadata": {},
   "source": [
    "#### Alertas de Confirmação"
   ]
  },
  {
   "cell_type": "code",
   "execution_count": null,
   "id": "c1a922a7",
   "metadata": {},
   "outputs": [],
   "source": [
    "navegador.find_element(By.XPATH, '/html/body/div[2]/input').click()\n",
    "\n",
    "alerta = Alert(navegador)\n",
    "\n",
    "# aceitar\n",
    "alerta.accept()\n",
    "\n",
    "# cancelar\n",
    "alerta.dismiss()"
   ]
  },
  {
   "cell_type": "markdown",
   "id": "4fafc7a6",
   "metadata": {},
   "source": [
    "#### Pegar o texto do alerta"
   ]
  },
  {
   "cell_type": "code",
   "execution_count": null,
   "id": "d7631cb5",
   "metadata": {},
   "outputs": [],
   "source": [
    "# navegador.find_element(By.XPATH, '/html/body/div[2]/input').click()\n",
    "\n",
    "alerta = Alert(navegador)\n",
    "texto = alerta.text\n",
    "print(texto)"
   ]
  },
  {
   "cell_type": "markdown",
   "id": "3491f921",
   "metadata": {},
   "source": [
    "#### Alertas de Input"
   ]
  },
  {
   "cell_type": "code",
   "execution_count": null,
   "id": "c557b9e0",
   "metadata": {},
   "outputs": [],
   "source": [
    "navegador.find_element(By.XPATH, '/html/body/div[3]/button').click()\n",
    "\n",
    "alerta = Alert(navegador)"
   ]
  },
  {
   "cell_type": "code",
   "execution_count": null,
   "id": "eb117e23",
   "metadata": {},
   "outputs": [],
   "source": [
    "alerta.send_keys('123123') # lembre que ele funciona, apesar de não aparecer"
   ]
  },
  {
   "cell_type": "code",
   "execution_count": null,
   "id": "39e6fba0",
   "metadata": {},
   "outputs": [],
   "source": [
    "alerta.accept()"
   ]
  },
  {
   "cell_type": "markdown",
   "id": "e9b2689f",
   "metadata": {},
   "source": [
    "## Trabalhando com Diferentes Abas e Janelas"
   ]
  },
  {
   "cell_type": "code",
   "execution_count": 90,
   "id": "7025ea27",
   "metadata": {},
   "outputs": [
    {
     "name": "stderr",
     "output_type": "stream",
     "text": [
      "\n",
      "\n",
      "====== WebDriver manager ======\n",
      "Current google-chrome version is 101.0.4951\n",
      "Get LATEST chromedriver version for 101.0.4951 google-chrome\n",
      "Driver [C:\\Users\\Daniel\\.wdm\\drivers\\chromedriver\\win32\\101.0.4951.41\\chromedriver.exe] found in cache\n"
     ]
    }
   ],
   "source": [
    "from selenium import webdriver\n",
    "from selenium.webdriver.chrome.service import Service\n",
    "from webdriver_manager.chrome import ChromeDriverManager\n",
    "from selenium.webdriver.common.by import By\n",
    "\n",
    "servico = Service(ChromeDriverManager().install())\n",
    "navegador = webdriver.Chrome(service=servico)"
   ]
  },
  {
   "cell_type": "code",
   "execution_count": 91,
   "id": "42951c27",
   "metadata": {},
   "outputs": [],
   "source": [
    "import os\n",
    "\n",
    "caminho = os.getcwd()\n",
    "arquivo = caminho + r\"\\24.Integração Python - Web (Introdução Web-Scraping com Selenium)  ------ATUALIZADO\\MATERIAL DE APOIO\\23\\Pagina Hashtag.html\"\n",
    "navegador.get(arquivo)"
   ]
  },
  {
   "cell_type": "markdown",
   "id": "8b703d91",
   "metadata": {},
   "source": [
    "#### Botão que abre outra janela"
   ]
  },
  {
   "cell_type": "code",
   "execution_count": 92,
   "id": "d43686ee",
   "metadata": {},
   "outputs": [],
   "source": [
    "navegador.find_element(By.XPATH, '/html/body/section[2]/div/div[4]/figure/a/img').click()"
   ]
  },
  {
   "cell_type": "code",
   "execution_count": 88,
   "id": "a5819179",
   "metadata": {},
   "outputs": [],
   "source": [
    "# preenchendo o formulario\n",
    "\n",
    "navegador.find_element(By.ID, 'fullname').send_keys(\"Daniel\")"
   ]
  },
  {
   "cell_type": "markdown",
   "id": "60d2ae12",
   "metadata": {},
   "source": [
    "### Outra aba"
   ]
  },
  {
   "cell_type": "code",
   "execution_count": 95,
   "id": "e3b010d5",
   "metadata": {},
   "outputs": [],
   "source": [
    "# Mudando para a nova aba do navegador aberta\n",
    "aba_original = navegador.window_handles[0]\n",
    "nova_aba = navegador.window_handles[1]\n",
    "navegador.switch_to.window(nova_aba)\n",
    "navegador.find_element(By.ID, 'fullname').send_keys(\"Daniel Aqui\")"
   ]
  },
  {
   "cell_type": "code",
   "execution_count": 96,
   "id": "cf90424a",
   "metadata": {},
   "outputs": [],
   "source": [
    "navegador.find_element(By.ID, 'email').send_keys(\"daniel@gmail.com\")"
   ]
  },
  {
   "cell_type": "code",
   "execution_count": 97,
   "id": "c007a040",
   "metadata": {},
   "outputs": [],
   "source": [
    "# Retornando para a aba original\n",
    "navegador.switch_to.window(aba_original)"
   ]
  },
  {
   "cell_type": "markdown",
   "id": "844733ff",
   "metadata": {},
   "source": [
    "### Identificar qual aba é qual item da lista do window_handles"
   ]
  },
  {
   "cell_type": "code",
   "execution_count": 98,
   "id": "85cb4043",
   "metadata": {},
   "outputs": [
    {
     "name": "stdout",
     "output_type": "stream",
     "text": [
      "Todos os Cursos Hashtag Treinamentos\n",
      "Curso de Excel Online Avançado, Completo e Com Certificado!\n"
     ]
    }
   ],
   "source": [
    "# ver os titulos de todas as abas\n",
    "for aba in navegador.window_handles:\n",
    "    navegador.switch_to.window(aba)\n",
    "    print(navegador.title)"
   ]
  },
  {
   "cell_type": "markdown",
   "id": "cbb4603d",
   "metadata": {},
   "source": [
    "### Outra janela"
   ]
  },
  {
   "cell_type": "code",
   "execution_count": 100,
   "id": "8c54b7b1",
   "metadata": {},
   "outputs": [
    {
     "name": "stdout",
     "output_type": "stream",
     "text": [
      "2\n"
     ]
    }
   ],
   "source": [
    "# Ver quantidade de abas\n",
    "abas = navegador.window_handles\n",
    "print(len(abas))\n",
    "\n",
    "# Mudando seleção entre as abas\n",
    "nova_janela = navegador.window_handles[1]\n",
    "navegador.switch_to.window(nova_janela)"
   ]
  },
  {
   "cell_type": "code",
   "execution_count": 101,
   "id": "075aee17",
   "metadata": {},
   "outputs": [],
   "source": [
    "# Preenchendo os dados desta aba selecionada\n",
    "navegador.find_element(By.ID, 'fullname').send_keys(\"Daniel\")\n",
    "navegador.find_element(By.ID, 'email').send_keys(\"daniel@gmail.com\")"
   ]
  },
  {
   "cell_type": "code",
   "execution_count": 102,
   "id": "05f70d53",
   "metadata": {},
   "outputs": [],
   "source": [
    "# fechar a aba atualmente selecionada\n",
    "navegador.close()\n"
   ]
  },
  {
   "cell_type": "code",
   "execution_count": 103,
   "id": "9735255d",
   "metadata": {},
   "outputs": [],
   "source": [
    "# fechar todas as abas (navegador inteiro)\n",
    "navegador.quit()"
   ]
  },
  {
   "cell_type": "markdown",
   "id": "ac20c8d5",
   "metadata": {},
   "source": [
    "## Como esperar uma informação carregar na tela"
   ]
  },
  {
   "cell_type": "markdown",
   "id": "c129bb34",
   "metadata": {},
   "source": [
    "### Esperar o Elemento carregar\n",
    "\n",
    "2 métodos:\n",
    "\n",
    "- WebDriverWait + ExpectedConditions (EC)\n",
    "    - Nativo do Selenium, menos linhas de código\n",
    "    - Já vi dar bug e mais chatinho de lembrar\n",
    "- Loop de espera\n",
    "    - Criação de uma espera \"manual\"\n",
    "    - Nunca abandona"
   ]
  },
  {
   "cell_type": "code",
   "execution_count": 104,
   "id": "213ec475",
   "metadata": {},
   "outputs": [
    {
     "name": "stdout",
     "output_type": "stream",
     "text": [
      "Fechou\n"
     ]
    },
    {
     "name": "stderr",
     "output_type": "stream",
     "text": [
      "C:\\Users\\Daniel\\AppData\\Local\\Temp/ipykernel_17628/1234063524.py:7: DeprecationWarning: find_element_by_class_name is deprecated. Please use find_element(by=By.CLASS_NAME, value=name) instead\n",
      "  driver.find_element_by_class_name(\"eicon-close\").click()\n"
     ]
    }
   ],
   "source": [
    "from selenium import webdriver\n",
    "import time\n",
    "\n",
    "driver = webdriver.Chrome()\n",
    "driver.get(\"https://hashtagtreinamentos.com\")\n",
    "time.sleep(15)\n",
    "driver.find_element_by_class_name(\"eicon-close\").click() # Fechar o pop-up após 15 seg\n",
    "print(\"Fechou\")"
   ]
  },
  {
   "cell_type": "code",
   "execution_count": 105,
   "id": "e2a9c702",
   "metadata": {},
   "outputs": [
    {
     "name": "stdout",
     "output_type": "stream",
     "text": [
      "Fechou\n"
     ]
    }
   ],
   "source": [
    "# WebDriverWait e EC\n",
    "from selenium.webdriver.common.by import By\n",
    "from selenium.webdriver.support.ui import WebDriverWait\n",
    "from selenium.webdriver.support import expected_conditions as EC\n",
    "\n",
    "driver = webdriver.Chrome()\n",
    "driver.get(\"https://hashtagtreinamentos.com\")\n",
    "\n",
    "elemento = WebDriverWait(driver, 30).until(EC.presence_of_element_located((By.CLASS_NAME, \"eicon-close\")))\n",
    "time.sleep(1)\n",
    "elemento.click()\n",
    "\n",
    "print(\"Fechou\")"
   ]
  },
  {
   "cell_type": "code",
   "execution_count": 106,
   "id": "97b73619",
   "metadata": {},
   "outputs": [
    {
     "name": "stderr",
     "output_type": "stream",
     "text": [
      "C:\\Users\\Daniel\\AppData\\Local\\Temp/ipykernel_17628/314697770.py:5: DeprecationWarning: find_elements_by_class_name is deprecated. Please use find_elements(by=By.CLASS_NAME, value=name) instead\n",
      "  while len(driver.find_elements_by_class_name(\"eicon-close\")) == 0:\n"
     ]
    },
    {
     "name": "stdout",
     "output_type": "stream",
     "text": [
      "Fechou\n"
     ]
    },
    {
     "name": "stderr",
     "output_type": "stream",
     "text": [
      "C:\\Users\\Daniel\\AppData\\Local\\Temp/ipykernel_17628/314697770.py:8: DeprecationWarning: find_element_by_class_name is deprecated. Please use find_element(by=By.CLASS_NAME, value=name) instead\n",
      "  driver.find_element_by_class_name(\"eicon-close\").click()\n"
     ]
    }
   ],
   "source": [
    "# loop\n",
    "driver = webdriver.Chrome()\n",
    "driver.get(\"https://hashtagtreinamentos.com\")\n",
    "\n",
    "while len(driver.find_elements_by_class_name(\"eicon-close\")) == 0:\n",
    "    time.sleep(1)\n",
    "time.sleep(1)\n",
    "driver.find_element_by_class_name(\"eicon-close\").click()\n",
    "\n",
    "print(\"Fechou\")"
   ]
  },
  {
   "cell_type": "markdown",
   "id": "6ed28713",
   "metadata": {},
   "source": [
    "## Exercício - Processo de Consulta em sites"
   ]
  },
  {
   "cell_type": "code",
   "execution_count": 110,
   "id": "29db1aa1",
   "metadata": {},
   "outputs": [
    {
     "name": "stderr",
     "output_type": "stream",
     "text": [
      "\n",
      "\n",
      "====== WebDriver manager ======\n",
      "Current google-chrome version is 101.0.4951\n",
      "Get LATEST chromedriver version for 101.0.4951 google-chrome\n",
      "Driver [C:\\Users\\Daniel\\.wdm\\drivers\\chromedriver\\win32\\101.0.4951.41\\chromedriver.exe] found in cache\n"
     ]
    }
   ],
   "source": [
    "# criar o navegador\n",
    "from selenium import webdriver\n",
    "from selenium.webdriver.chrome.service import Service\n",
    "from webdriver_manager.chrome import ChromeDriverManager\n",
    "from selenium.webdriver.common.by import By\n",
    "\n",
    "servico = Service(ChromeDriverManager().install())\n",
    "navegador = webdriver.Chrome(service=servico)"
   ]
  },
  {
   "cell_type": "code",
   "execution_count": 114,
   "id": "7429785d",
   "metadata": {},
   "outputs": [],
   "source": [
    "# abrir a página index (entrar no site da busca jurídica)\n",
    "import os\n",
    "\n",
    "caminho = os.getcwd()\n",
    "arquivo = caminho + r\"\\24.Integração Python - Web (Introdução Web-Scraping com Selenium)  ------ATUALIZADO\\MATERIAL DE APOIO\\25\\index.html\"\n",
    "navegador.get(arquivo)"
   ]
  },
  {
   "cell_type": "code",
   "execution_count": 112,
   "id": "dff53069",
   "metadata": {},
   "outputs": [
    {
     "data": {
      "text/html": [
       "<div>\n",
       "<style scoped>\n",
       "    .dataframe tbody tr th:only-of-type {\n",
       "        vertical-align: middle;\n",
       "    }\n",
       "\n",
       "    .dataframe tbody tr th {\n",
       "        vertical-align: top;\n",
       "    }\n",
       "\n",
       "    .dataframe thead th {\n",
       "        text-align: right;\n",
       "    }\n",
       "</style>\n",
       "<table border=\"1\" class=\"dataframe\">\n",
       "  <thead>\n",
       "    <tr style=\"text-align: right;\">\n",
       "      <th></th>\n",
       "      <th>Nome</th>\n",
       "      <th>Advogado</th>\n",
       "      <th>Processo</th>\n",
       "      <th>Cidade</th>\n",
       "      <th>Status</th>\n",
       "    </tr>\n",
       "  </thead>\n",
       "  <tbody>\n",
       "    <tr>\n",
       "      <th>0</th>\n",
       "      <td>Lira</td>\n",
       "      <td>Alon Lawyer</td>\n",
       "      <td>PC6592</td>\n",
       "      <td>Distrito Federal</td>\n",
       "      <td>NaN</td>\n",
       "    </tr>\n",
       "    <tr>\n",
       "      <th>1</th>\n",
       "      <td>João</td>\n",
       "      <td>Lawyer Alon</td>\n",
       "      <td>EB3792</td>\n",
       "      <td>Rio de Janeiro</td>\n",
       "      <td>NaN</td>\n",
       "    </tr>\n",
       "    <tr>\n",
       "      <th>2</th>\n",
       "      <td>Amanda</td>\n",
       "      <td>Amanda mesmo</td>\n",
       "      <td>MM1043</td>\n",
       "      <td>Rio de Janeiro</td>\n",
       "      <td>NaN</td>\n",
       "    </tr>\n",
       "    <tr>\n",
       "      <th>3</th>\n",
       "      <td>Carol</td>\n",
       "      <td>Amanda</td>\n",
       "      <td>PC5197</td>\n",
       "      <td>São Paulo</td>\n",
       "      <td>NaN</td>\n",
       "    </tr>\n",
       "  </tbody>\n",
       "</table>\n",
       "</div>"
      ],
      "text/plain": [
       "     Nome      Advogado Processo            Cidade  Status\n",
       "0    Lira   Alon Lawyer   PC6592  Distrito Federal     NaN\n",
       "1    João   Lawyer Alon   EB3792    Rio de Janeiro     NaN\n",
       "2  Amanda  Amanda mesmo   MM1043    Rio de Janeiro     NaN\n",
       "3   Carol        Amanda   PC5197         São Paulo     NaN"
      ]
     },
     "metadata": {},
     "output_type": "display_data"
    }
   ],
   "source": [
    "# importar a base de dados\n",
    "import pandas as pd\n",
    "\n",
    "tabela = pd.read_excel(caminho + r\"\\24.Integração Python - Web (Introdução Web-Scraping com Selenium)  ------ATUALIZADO\\MATERIAL DE APOIO\\24\\Processos.xlsx\")\n",
    "display(tabela)"
   ]
  },
  {
   "cell_type": "code",
   "execution_count": 115,
   "id": "80a0e223",
   "metadata": {},
   "outputs": [],
   "source": [
    "from selenium.webdriver import ActionChains\n",
    "import time\n",
    "\n",
    "for linha in tabela.index:\n",
    "\n",
    "    # para cada processo (linha da tabela)\n",
    "    navegador.get(arquivo)\n",
    "\n",
    "    # abrir a lista de cidades\n",
    "    botao = navegador.find_element(By.CLASS_NAME, 'dropdown-menu')\n",
    "    ActionChains(navegador).move_to_element(botao).perform()\n",
    "    \n",
    "    cidade = tabela.loc[linha, \"Cidade\"]\n",
    "    \n",
    "    # selecionando o cidade\n",
    "    navegador.find_element(By.PARTIAL_LINK_TEXT, cidade).click()\n",
    "    \n",
    "    # mudar para a nova aba\n",
    "    aba_original = navegador.window_handles[0]\n",
    "    indice = 1 + linha\n",
    "    nova_aba = navegador.window_handles[indice]\n",
    "    \n",
    "    navegador.switch_to.window(nova_aba)\n",
    "    \n",
    "    # preencher o formulário com os dados de busca\n",
    "    navegador.find_element(By.ID, 'nome').send_keys(tabela.loc[linha, \"Nome\"])\n",
    "    navegador.find_element(By.ID, 'advogado').send_keys(tabela.loc[linha, \"Advogado\"])\n",
    "    navegador.find_element(By.ID, 'numero').send_keys(tabela.loc[linha, \"Processo\"])\n",
    "\n",
    "    # clicar em pesquisar\n",
    "    navegador.find_element(By.CLASS_NAME, 'registerbtn').click()\n",
    "    \n",
    "    # confirmar a pesquisa\n",
    "    alerta = navegador.switch_to.alert\n",
    "    alerta.accept()\n",
    "    \n",
    "    # esperar o resultado da pesquisa e agir de acordo com o resultado\n",
    "    while True:\n",
    "        try:\n",
    "            alerta = navegador.switch_to.alert\n",
    "            break\n",
    "        except:\n",
    "            time.sleep(1)\n",
    "    texto_alerta = alerta.text\n",
    "\n",
    "    if \"Processo encontrado com sucesso\" in texto_alerta:\n",
    "        alerta.accept()\n",
    "        tabela.loc[linha, \"Status\"] = \"Encontrado\"\n",
    "    else:\n",
    "        tabela.loc[linha, \"Status\"] = \"Não encontrado\"\n",
    "        alerta.accept()"
   ]
  },
  {
   "cell_type": "code",
   "execution_count": 116,
   "id": "0b531110",
   "metadata": {},
   "outputs": [
    {
     "data": {
      "text/html": [
       "<div>\n",
       "<style scoped>\n",
       "    .dataframe tbody tr th:only-of-type {\n",
       "        vertical-align: middle;\n",
       "    }\n",
       "\n",
       "    .dataframe tbody tr th {\n",
       "        vertical-align: top;\n",
       "    }\n",
       "\n",
       "    .dataframe thead th {\n",
       "        text-align: right;\n",
       "    }\n",
       "</style>\n",
       "<table border=\"1\" class=\"dataframe\">\n",
       "  <thead>\n",
       "    <tr style=\"text-align: right;\">\n",
       "      <th></th>\n",
       "      <th>Nome</th>\n",
       "      <th>Advogado</th>\n",
       "      <th>Processo</th>\n",
       "      <th>Cidade</th>\n",
       "      <th>Status</th>\n",
       "    </tr>\n",
       "  </thead>\n",
       "  <tbody>\n",
       "    <tr>\n",
       "      <th>0</th>\n",
       "      <td>Lira</td>\n",
       "      <td>Alon Lawyer</td>\n",
       "      <td>PC6592</td>\n",
       "      <td>Distrito Federal</td>\n",
       "      <td>Encontrado</td>\n",
       "    </tr>\n",
       "    <tr>\n",
       "      <th>1</th>\n",
       "      <td>João</td>\n",
       "      <td>Lawyer Alon</td>\n",
       "      <td>EB3792</td>\n",
       "      <td>Rio de Janeiro</td>\n",
       "      <td>Não encontrado</td>\n",
       "    </tr>\n",
       "    <tr>\n",
       "      <th>2</th>\n",
       "      <td>Amanda</td>\n",
       "      <td>Amanda mesmo</td>\n",
       "      <td>MM1043</td>\n",
       "      <td>Rio de Janeiro</td>\n",
       "      <td>Encontrado</td>\n",
       "    </tr>\n",
       "    <tr>\n",
       "      <th>3</th>\n",
       "      <td>Carol</td>\n",
       "      <td>Amanda</td>\n",
       "      <td>PC5197</td>\n",
       "      <td>São Paulo</td>\n",
       "      <td>Encontrado</td>\n",
       "    </tr>\n",
       "  </tbody>\n",
       "</table>\n",
       "</div>"
      ],
      "text/plain": [
       "     Nome      Advogado Processo            Cidade          Status\n",
       "0    Lira   Alon Lawyer   PC6592  Distrito Federal      Encontrado\n",
       "1    João   Lawyer Alon   EB3792    Rio de Janeiro  Não encontrado\n",
       "2  Amanda  Amanda mesmo   MM1043    Rio de Janeiro      Encontrado\n",
       "3   Carol        Amanda   PC5197         São Paulo      Encontrado"
      ]
     },
     "metadata": {},
     "output_type": "display_data"
    }
   ],
   "source": [
    "navegador.quit()\n",
    "display(tabela)\n",
    "\n",
    "tabela.to_excel(\"Processos Atualizado.xlsx\")"
   ]
  },
  {
   "cell_type": "markdown",
   "id": "dee0f528",
   "metadata": {},
   "source": [
    "# Desafio - Rotina de Baixar uma Planilha da Web\n",
    "\n",
    "- Imagine que você trabalhe no Mercado Financeiro e tem que todo dia/semana baixar uma planilha com as cotações do dólar\n",
    "- Usaremos o site investing.com para baixar esses dados\n",
    "- O link onde ficam esses dados é: https://br.investing.com/currencies/usd-brl-historical-data\n",
    "- Escolhemos o site investing.com porque ele é cheio de coisinha chata que vai obrigar a gente a fazer um código completo\n",
    "- Crie uma conta no site antes de começar, é gratuito"
   ]
  },
  {
   "cell_type": "code",
   "execution_count": null,
   "id": "5afdc20d",
   "metadata": {},
   "outputs": [],
   "source": [
    "from selenium import webdriver\n",
    "import time\n",
    "from selenium.webdriver.common.keys import Keys\n",
    "\n",
    "driver = webdriver.Chrome()\n",
    "driver.get('https://br.investing.com/currencies/usd-brl-historical-data')\n",
    "time.sleep(2)\n",
    "driver.find_element_by_id('onetrust-accept-btn-handler').click()\n",
    "driver.find_element_by_class_name('downloadBlueIcon').click()\n",
    "driver.find_element_by_id('loginFormUser_email').send_keys('drumondsantos@gmail.com')\n",
    "driver.find_element_by_id('loginForm_password').send_keys('********')\n",
    "elementos = driver.find_elements_by_css_selector('a.orange')\n",
    "#print(len(elementos))\n",
    "elementos[-1].click()\n",
    "time.sleep(5)\n",
    "driver.find_element_by_class_name('downloadBlueIcon').click()"
   ]
  },
  {
   "cell_type": "markdown",
   "id": "11161ef1",
   "metadata": {},
   "source": [
    "# DESAFIO: Enviar mensagem para várias pessoas ou grupos automaticamente"
   ]
  },
  {
   "cell_type": "markdown",
   "id": "d1c38d7d",
   "metadata": {},
   "source": [
    "### Cuidados!\n",
    "\n",
    "1. Whatsapp não gosta de nenhum tipo de automação\n",
    "2. Isso pode dar merda, já to avisando\n",
    "3. Isso não é o uso da API oficial do Whatsapp, o próprio whatsapp tem uma API oficial. Se o seu objetivo é fazer envio em massa ou criar aqueles robozinhos que respondem automaticamente no whatsapp, então use a API oficial\n",
    "4. Meu objetivo é 100% educacional"
   ]
  },
  {
   "cell_type": "markdown",
   "id": "f96bf895",
   "metadata": {},
   "source": [
    "### Dito isso, bora automatizar o envio de mensagens no Whatsapp\n",
    "\n",
    "- Vamos usar o Selenium (vídeo da configuração na descrição)\n",
    "- Temos 1 ferramenta muito boa alternativas:\n",
    "    - Usar o wa.me (mais fácil, mais seguro, mas mais demorado)"
   ]
  },
  {
   "cell_type": "code",
   "execution_count": 137,
   "id": "b43e7f69",
   "metadata": {},
   "outputs": [],
   "source": [
    "import os\n",
    "\n",
    "caminho = os.getcwd()\n",
    "arquivo = caminho + r\"\\24.Integração Python - Web (Introdução Web-Scraping com Selenium)  ------ATUALIZADO\\MATERIAL DE APOIO\\29\\Enviar.xlsx\""
   ]
  },
  {
   "cell_type": "code",
   "execution_count": 141,
   "id": "754678e7",
   "metadata": {},
   "outputs": [
    {
     "data": {
      "text/html": [
       "<div>\n",
       "<style scoped>\n",
       "    .dataframe tbody tr th:only-of-type {\n",
       "        vertical-align: middle;\n",
       "    }\n",
       "\n",
       "    .dataframe tbody tr th {\n",
       "        vertical-align: top;\n",
       "    }\n",
       "\n",
       "    .dataframe thead th {\n",
       "        text-align: right;\n",
       "    }\n",
       "</style>\n",
       "<table border=\"1\" class=\"dataframe\">\n",
       "  <thead>\n",
       "    <tr style=\"text-align: right;\">\n",
       "      <th></th>\n",
       "      <th>Pessoa</th>\n",
       "      <th>Número</th>\n",
       "      <th>Mensagem</th>\n",
       "    </tr>\n",
       "  </thead>\n",
       "  <tbody>\n",
       "    <tr>\n",
       "      <th>0</th>\n",
       "      <td>Daniel 01</td>\n",
       "      <td>5521999999999</td>\n",
       "      <td>Oi, teste 01</td>\n",
       "    </tr>\n",
       "    <tr>\n",
       "      <th>1</th>\n",
       "      <td>Daniel 02</td>\n",
       "      <td>5521999999999</td>\n",
       "      <td>Oi, teste 02</td>\n",
       "    </tr>\n",
       "    <tr>\n",
       "      <th>2</th>\n",
       "      <td>Daniel 03</td>\n",
       "      <td>5521999999999</td>\n",
       "      <td>Oi, teste 03</td>\n",
       "    </tr>\n",
       "  </tbody>\n",
       "</table>\n",
       "</div>"
      ],
      "text/plain": [
       "      Pessoa         Número      Mensagem\n",
       "0  Daniel 01  5521999999999  Oi, teste 01\n",
       "1  Daniel 02  5521999999999  Oi, teste 02\n",
       "2  Daniel 03  5521999999999  Oi, teste 03"
      ]
     },
     "metadata": {},
     "output_type": "display_data"
    }
   ],
   "source": [
    "import pandas as pd\n",
    "\n",
    "contatos_df = pd.read_excel(arquivo)\n",
    "display(contatos_df)"
   ]
  },
  {
   "cell_type": "code",
   "execution_count": null,
   "id": "6720bea1",
   "metadata": {},
   "outputs": [],
   "source": [
    "from selenium import webdriver\n",
    "from selenium.webdriver.common.keys import Keys\n",
    "import time\n",
    "import urllib # Biblioteca de codificação de URL\n",
    "\n",
    "navegador = webdriver.Chrome()\n",
    "navegador.get(\"https://web.whatsapp.com/\")\n",
    "\n",
    "while len(navegador.find_elements_by_id(\"side\")) < 1:\n",
    "    time.sleep(1)\n",
    "\n",
    "# já estamos com o login feito no whatsapp web\n",
    "for i, mensagem in enumerate(contatos_df['Mensagem']):\n",
    "    pessoa = contatos_df.loc[i, \"Pessoa\"]\n",
    "    numero = contatos_df.loc[i, \"Número\"]\n",
    "    texto = urllib.parse.quote(f\"Oi {pessoa}! {mensagem}\")\n",
    "    link = f\"https://web.whatsapp.com/send?phone={numero}&text={texto}\"\n",
    "    navegador.get(link)\n",
    "    while len(navegador.find_elements_by_id(\"side\")) < 1:\n",
    "        time.sleep(1)\n",
    "    navegador.find_element_by_xpath('//*[@id=\"main\"]/footer/div[1]/div[2]/div/div[2]').send_keys(Keys.ENTER)\n",
    "    time.sleep(10)"
   ]
  },
  {
   "cell_type": "markdown",
   "id": "4058e722",
   "metadata": {},
   "source": [
    "# DESAFIO: Executar Comandos Javascript - Extrair Links Youtube"
   ]
  },
  {
   "cell_type": "markdown",
   "id": "1ddcd1e6",
   "metadata": {},
   "source": [
    "### Executar Comandos Javascript (Scroll da tela)\n",
    "\n",
    "- Você consegue, por meio do Selenium, executar comandos javascript no seu navegador\n",
    "- Isso é essencial para dar scroll na tela, por exemplo, caso seja necessário, como no youtube"
   ]
  },
  {
   "cell_type": "code",
   "execution_count": null,
   "id": "8984aa3f",
   "metadata": {},
   "outputs": [],
   "source": [
    "# Quero pegar uma lista de pelo menos 50 vídeos de Python no Youtube\n",
    "\n",
    "from selenium import webdriver\n",
    "from selenium.webdriver.common.keys import Keys\n",
    "import time\n",
    "\n",
    "driver = webdriver.Chrome()\n",
    "driver.get(\"https://www.youtube.com/\")\n",
    "\n",
    "time.sleep(3)\n",
    "driver.find_element_by_id(\"search\").send_keys(\"python\")\n",
    "driver.find_element_by_id(\"search\").send_keys(Keys.ENTER)\n",
    "time.sleep(2)\n",
    "\n",
    "# dar um scroll na página\n",
    "for i in range(15):\n",
    "    scroll = 4000 * i\n",
    "    driver.execute_script(f\"window.scroll(0, {scroll});\")\n",
    "    time.sleep(3)\n",
    "\n",
    "lista_videos = driver.find_elements_by_id(\"thumbnail\")\n",
    "\n",
    "for video in lista_videos:\n",
    "    print(video.get_attribute(\"href\"))"
   ]
  },
  {
   "cell_type": "markdown",
   "id": "0ebe6994",
   "metadata": {},
   "source": [
    "# Trabalhando com iFrames"
   ]
  },
  {
   "cell_type": "markdown",
   "id": "83de4e2c",
   "metadata": {},
   "source": [
    "### iFrames - Páginas dentro de Páginas\n",
    "\n",
    "- Às vezes, você vai fazer tudo certo no Selenium e aparentemente não vai funcionar o seu código\n",
    "- Possivelmente o elemento que você está tentando selecionar está dentro de um iframe"
   ]
  },
  {
   "cell_type": "code",
   "execution_count": 167,
   "id": "a90eecfe",
   "metadata": {},
   "outputs": [
    {
     "name": "stderr",
     "output_type": "stream",
     "text": [
      "C:\\Users\\Daniel\\AppData\\Local\\Temp/ipykernel_17628/4041008686.py:13: DeprecationWarning: find_element_by_tag_name is deprecated. Please use find_element(by=By.TAG_NAME, value=name) instead\n",
      "  iframe = driver.find_element_by_tag_name(\"iframe\")\n",
      "C:\\Users\\Daniel\\AppData\\Local\\Temp/ipykernel_17628/4041008686.py:16: DeprecationWarning: find_element_by_tag_name is deprecated. Please use find_element(by=By.TAG_NAME, value=name) instead\n",
      "  iframe = driver.find_element_by_tag_name(\"iframe\")\n",
      "C:\\Users\\Daniel\\AppData\\Local\\Temp/ipykernel_17628/4041008686.py:19: DeprecationWarning: find_element_by_xpath is deprecated. Please use find_element(by=By.XPATH, value=xpath) instead\n",
      "  texto = driver.find_element_by_xpath('//*[@id=\"pvExplorationHost\"]/div/div/exploration/div/explore-canvas/div/div[2]/div/div[2]/div[2]/visual-container-repeat/visual-container[19]/transform/div/div[3]/div/visual-modern/div/div/div[2]/div[1]/div[4]/div/div[1]/div[9]/div[1]').text\n"
     ]
    },
    {
     "name": "stdout",
     "output_type": "stream",
     "text": [
      "1,67\n"
     ]
    }
   ],
   "source": [
    "# Queremos pegar o pontos por jogo mandante da 1ª linha da tabela\n",
    "\n",
    "link = \"https://pbdatatrader.com.br/jogosdodia\"\n",
    "\n",
    "# Normalmente:\n",
    "from selenium import webdriver\n",
    "import time\n",
    "\n",
    "driver = webdriver.Chrome()\n",
    "driver.get(link)\n",
    "time.sleep(7)\n",
    "\n",
    "iframe = driver.find_element_by_tag_name(\"iframe\")\n",
    "driver.switch_to.frame(iframe)\n",
    "\n",
    "iframe = driver.find_element_by_tag_name(\"iframe\")\n",
    "driver.switch_to.frame(iframe)\n",
    "\n",
    "texto = driver.find_element_by_xpath('//*[@id=\"pvExplorationHost\"]/div/div/exploration/div/explore-canvas/div/div[2]/div/div[2]/div[2]/visual-container-repeat/visual-container[19]/transform/div/div[3]/div/visual-modern/div/div/div[2]/div[1]/div[4]/div/div[1]/div[9]/div[1]').text\n",
    "print(texto)"
   ]
  },
  {
   "cell_type": "code",
   "execution_count": null,
   "id": "94c6699e",
   "metadata": {},
   "outputs": [],
   "source": [
    "driver.switch_to.default_content()"
   ]
  },
  {
   "cell_type": "markdown",
   "id": "ebd4fa49",
   "metadata": {},
   "source": [
    "# Desafio Exceções - Caos no Selenium"
   ]
  },
  {
   "cell_type": "markdown",
   "id": "ee02c48d",
   "metadata": {},
   "source": [
    "### Entrando no site dos jogos do dia"
   ]
  },
  {
   "cell_type": "code",
   "execution_count": 181,
   "id": "3d696b5e",
   "metadata": {},
   "outputs": [],
   "source": [
    "from selenium import webdriver\n",
    "import time\n",
    "\n",
    "link = \"https://pbdatatrader.com.br/jogosdodia\"\n",
    "\n",
    "driver = webdriver.Chrome()\n",
    "driver.get(link)"
   ]
  },
  {
   "cell_type": "markdown",
   "id": "1c423cd2",
   "metadata": {},
   "source": [
    "### Esperando a página carregar e entrando nos iframes"
   ]
  },
  {
   "cell_type": "code",
   "execution_count": 182,
   "id": "be554c9e",
   "metadata": {
    "scrolled": false
   },
   "outputs": [
    {
     "name": "stderr",
     "output_type": "stream",
     "text": [
      "C:\\Users\\Daniel\\AppData\\Local\\Temp/ipykernel_17628/3633488752.py:1: DeprecationWarning: find_elements_by_tag_name is deprecated. Please use find_elements(by=By.TAG_NAME, value=name) instead\n",
      "  while len(driver.find_elements_by_tag_name(\"iframe\")) == 0:\n",
      "C:\\Users\\Daniel\\AppData\\Local\\Temp/ipykernel_17628/3633488752.py:5: DeprecationWarning: find_element_by_tag_name is deprecated. Please use find_element(by=By.TAG_NAME, value=name) instead\n",
      "  meu_iframe = driver.find_element_by_tag_name(\"iframe\")\n",
      "C:\\Users\\Daniel\\AppData\\Local\\Temp/ipykernel_17628/3633488752.py:9: DeprecationWarning: find_element_by_tag_name is deprecated. Please use find_element(by=By.TAG_NAME, value=name) instead\n",
      "  meu_iframe = driver.find_element_by_tag_name(\"iframe\")\n",
      "C:\\Users\\Daniel\\AppData\\Local\\Temp/ipykernel_17628/3633488752.py:12: DeprecationWarning: find_element_by_class_name is deprecated. Please use find_element(by=By.CLASS_NAME, value=name) instead\n",
      "  tabela = driver.find_element_by_class_name(\"innerContainer\")\n"
     ]
    },
    {
     "name": "stdout",
     "output_type": "stream",
     "text": [
      "['Data', 'Hora', 'País', 'Campeonato', 'Mandante', 'Visitante', 'Pontos por Jogo Mandante', 'Pontos por Jogo Visitante', 'Média de Gols do Confronto', '% BTTS', '% Over 0.5 FT']\n",
      "['23/05/2022', '23/05/2022', '26/05/2022', '23/05/2022', '25/05/2022', '24/05/2022', '24/05/2022', '23/05/2022', '23/05/2022', '23/05/2022', '25/05/2022', '25/05/2022', '25/05/2022', '25/05/2022', '24/05/2022', '27/05/2022', '23/05/2022', '23/05/2022', '25/05/2022', '23/05/2022', '11:00', '11:00', '13:00', '14:00', '07:00', '13:30', '14:30', '15:35', '20:00', '13:30', '19:00', '07:30', '07:30', '07:00', '11:00', '14:30', '15:00', '15:00', '07:00', '20:00', 'Tunisia', 'Tunisia', 'Ivory Coast', 'Mali', 'Japan', 'Egypt', 'South Africa', 'Argentina', 'Brazil', 'Egypt', 'Brazil', 'Japan', 'Japan', 'Japan', 'Paraguay', 'South Africa', 'Saudi Arabia', 'Saudi Arabia', 'Japan', 'Brazil', 'Ligue 1', 'Ligue 1', 'Ivory Coast Ligue 1', 'Première Division', 'J2 League', 'Egyptian Premier League', 'Premier Soccer League', 'Prim B Nacional', 'Serie B', 'Egyptian Premier League', 'Serie B', 'J1 League', 'J2 League', 'J2 League', 'Division Intermedia', 'Premier Soccer League', 'First Division', 'First Division', 'J2 League', 'Serie C', 'Zarzis', 'Hammam-Sousse', 'San-Pédro', 'Djoliba', 'Tochigi', 'ENPPI', 'Orlando Pirates', 'Deportivo Riestra', 'Sport Recife', 'Pharco', 'Londrina', 'Nagoya Grampus', 'Ventforet Kofu', 'V-Varen Nagasaki', 'Guaraní de Trinidad', 'Real Kings', 'Al Akhdoud', 'Al Quadisiya', 'Oita Trinita', 'Ypiranga Erechim', 'Olympique Béja', 'Métlaoui', \"Racing d'Abidjan\", 'ASKO', 'Machida Zelvia', 'Ghazl El Mehalla', 'Maritzburg United', 'Temperley', 'CRB', 'El Gounah', 'Operário PR', 'Avispa Fukuoka', 'Tokushima Vortis', 'JEF United', 'Fernando de la Mora', 'Orlando Pirates', 'Al Shoalah', 'Najran', 'Blaublitz Akita', 'Remo', '0,88', '1,18', '1,67', '1,92', '1,11', '1,10', '1,71', '1,71', '3,00', '1,70', '2,00', '1,71', '1,50', '1,38', '1,00', '2,31', '1,50', '1,72', '1,11', '2,00', '1,29', '1,24', '1,56', '1,39', '1,53', '1,26', '1,07', '0,87', '0,88', '0,94', '1,50', '1,29', '1,24', '1,18', '1,25', '1,48', '1,22', '1,39', '1,41', '1,67', '1,50', '1,80', '1,56', '1,75', '1,85', '2,00', '1,97', '2,14', '1,92', '2,23', '2,13', '1,84', '1,88', '2,01', '2,17', '1,81', '2,00', '1,97', '2,22', '2,00', '24', '50', '28', '38', '47', '40', '54', '36', '13', '37', '63', '37', '51', '57', '38', '42', '50', '39', '52', '33', '82', '89', '78', '79', '83', '75', '79', '86', '100', '95', '88', '92', '88', '94', '100', '77', '84', '81', '89', '100', '41', '59', '45', '63', '60', '60', '64', '64', '54', '54', '88', '60', '69', '63', '67', '50', '56', '64', '58', '67', '24', '32', '22', '17', '36', '35', '36', '29', '25', '37', '25', '16', '19', '32', '25', '31', '42', '45', '35', '33', '3', '6', '6', '4', '7', '20', '11', '29', '13', '21', '13', '9', '7', '7', '25', '12', '17', '9', '24', '0', '0', '0', '6', '4', '0', '10', '7', '7', '0', '16', '0', '9', '7', '7', '0', '8', '3', '0', '12', '0', '56', '50', '22', '46', '66', '50', '54', '79', '50', '48', '75', '68', '57', '63', '0', '46', '62', '59', '41', '84', '15', '24', '11', '13', '18', '20', '22', '43', '25', '16', '25', '22', '25', '19', '0', '23', '31', '23', '35', '33', '59', '68', '33', '67', '71', '65', '61', '50', '75', '74', '63', '47', '75', '69', '0', '58', '64', '70', '71', '67', '18', '24', '28', '29', '24', '40', '36', '29', '42', '32', '38', '31', '26', '44', '0', '27', '25', '31', '36', '17', '47', '46', '19', '47', '41', '45', '65', '71', '75', '54', '50', '60', '63', '63', '50', '64', '54', '45', '71', '33', '23/05/2022', '23/05/2022', '23/05/2022', '23/05/2022', '23/05/2022', '26/05/2022', '23/05/2022', '23/05/2022', '23/05/2022', '25/05/2022', '25/05/2022', '26/05/2022', '23/05/2022', '23/05/2022', '29/05/2022', '26/05/2022', '28/05/2022', '23/05/2022', '23/05/2022', '23/05/2022', '07:00', '15:00', '15:00', '20:30', '15:00', '19:00', '15:00', '14:30', '11:00', '07:30', '07:00', '13:30', '15:00', '10:00', '15:30', '16:00', '07:00', '13:30', '20:15', '15:45', 'Ethiopia', 'Saudi Arabia', 'Saudi Arabia', 'Argentina', 'Saudi Arabia', 'Brazil', 'Saudi Arabia', 'Romania', 'Uzbekistan', 'South Korea', 'South Korea', 'Egypt', 'Saudi Arabia', 'South Africa', 'Italy', 'Egypt', 'Kenya', 'Chile', 'Brazil', 'Republic of Ireland', 'Ethiopia Premier League', 'First Division', 'First Division', 'Torneo Federal A', 'First Division', 'Serie B', 'First Division', 'Liga I', 'Uzbekistan Super League', 'Korean FA Cup', 'Korean FA Cup', 'Egyptian Premier League', 'First Division', 'Premier Soccer League', 'Serie B', 'Egyptian Premier League', 'Kenyan Premier League', 'Primera B', 'Serie D', 'Premier Division', 'Hadiya Hosaena', 'Al Nahdha', 'Hajer', 'Racing Córdoba', 'Al Adalh', 'Vasco da Gama', 'Al-Kawkab', 'Argeș', 'Qizilqum', 'FC Seoul', 'Pohang Steelers', 'Al Masry', 'Bisha', 'Real Kings', 'Pisa', 'Pyramids FC', 'Nairobi City Stars', 'Barnechea', 'Trem', 'Sligo Rovers', 'Wolkite Ketema', 'Al Kholood', 'Jeddah', 'Sarmiento Resistencia', 'Ohod', 'Brusque', 'Al-Ain', 'Voluntari', 'Surkhon', 'Jeju United', 'Seongnam', 'National Bank of Egypt', 'Al Draih', 'Mamelodi Sundowns', 'Monza', 'Coca-Cola', 'Gor Mahia', 'Deportes Temuco', 'Humaitá', 'Derry City', '1,25', '1,28', '2,00', '2,50', '1,67', '2,50', '0,67', '1,26', '1,80', '1,00', '3,00', '1,10', '0,72', '2,31', '3,50', '2,11', '1,33', '1,50', '0,67', '1,25', '1,21', '1,44', '1,28', '1,78', '1,56', '1,25', '1,19', '1,41', '0,75', '3,00', '3,00', '1,37', '1,08', '2,14', '3,66', '1,79', '1,60', '1,21', '0,80', '1,88', '2,88', '2,14', '2,00', '1,62', '2,42', '1,88', '2,12', '2,06', '2,45', '1,50', '3,00', '2,35', '2,17', '1,96', '4,74', '2,31', '1,87', '2,73', '3,42', '2,44', '58', '42', '45', '12', '59', '38', '42', '32', '43', '0', '0', '60', '42', '37', '102', '26', '42', '70', '59', '57', '92', '95', '86', '100', '97', '100', '92', '84', '75', '0', '0', '95', '81', '86', '176', '85', '80', '93', '100', '94', '63', '64', '72', '48', '75', '50', '61', '53', '75', '50', '50', '70', '67', '55', '140', '53', '66', '77', '100', '69', '50', '31', '36', '25', '42', '25', '31', '37', '53', '50', '50', '35', '42', '30', '78', '53', '35', '38', '59', '44', '33', '23', '6', '13', '14', '13', '17', '19', '33', '0', '50', '30', '20', '11', '46', '21', '7', '24', '59', '32', '25', '3', '0', '7', '9', '0', '12', '11', '10', '0', '50', '5', '9', '8', '24', '21', '0', '16', '25', '7', '71', '56', '61', '53', '67', '75', '64', '58', '53', '0', '50', '70', '59', '48', '146', '58', '46', '69', '59', '76', '34', '11', '17', '24', '33', '13', '28', '16', '0', '0', '0', '40', '28', '15', '56', '36', '17', '40', '25', '32', '71', '86', '75', '48', '81', '63', '56', '61', '75', '50', '100', '70', '67', '74', '148', '74', '62', '85', '100', '76', '50', '33', '36', '19', '31', '25', '25', '40', '63', '50', '50', '30', '34', '37', '74', '32', '27', '40', '84', '44', '38', '46', '50', '57', '49', '88', '30', '50', '55', '100', '50', '50', '53', '65', '128', '59', '56', '54', '75', '69']\n"
     ]
    }
   ],
   "source": [
    "while len(driver.find_elements_by_tag_name(\"iframe\")) == 0:\n",
    "    time.sleep(1)\n",
    "\n",
    "#entrando no 1º iframe\n",
    "meu_iframe = driver.find_element_by_tag_name(\"iframe\")\n",
    "driver.switch_to.frame(meu_iframe)\n",
    "\n",
    "# entrando no 2º iframe\n",
    "meu_iframe = driver.find_element_by_tag_name(\"iframe\")\n",
    "driver.switch_to.frame(meu_iframe)\n",
    "\n",
    "tabela = driver.find_element_by_class_name(\"innerContainer\")\n",
    "texto = tabela.text\n",
    "#print(texto)\n",
    "\n",
    "lista_texto = texto.split(\"\\n\")\n",
    "lista_colunas = lista_texto[:11]\n",
    "lista_valores = lista_texto[11:]\n",
    "print(lista_colunas)\n",
    "print(lista_valores)"
   ]
  },
  {
   "cell_type": "markdown",
   "id": "4fee5f71",
   "metadata": {},
   "source": [
    "### Organizando a Tabela"
   ]
  },
  {
   "cell_type": "code",
   "execution_count": 183,
   "id": "5968ccbe",
   "metadata": {},
   "outputs": [
    {
     "data": {
      "text/html": [
       "<div>\n",
       "<style scoped>\n",
       "    .dataframe tbody tr th:only-of-type {\n",
       "        vertical-align: middle;\n",
       "    }\n",
       "\n",
       "    .dataframe tbody tr th {\n",
       "        vertical-align: top;\n",
       "    }\n",
       "\n",
       "    .dataframe thead th {\n",
       "        text-align: right;\n",
       "    }\n",
       "</style>\n",
       "<table border=\"1\" class=\"dataframe\">\n",
       "  <thead>\n",
       "    <tr style=\"text-align: right;\">\n",
       "      <th></th>\n",
       "      <th>Data</th>\n",
       "      <th>Hora</th>\n",
       "      <th>País</th>\n",
       "      <th>Campeonato</th>\n",
       "      <th>Mandante</th>\n",
       "      <th>Visitante</th>\n",
       "      <th>Pontos por Jogo Mandante</th>\n",
       "      <th>Pontos por Jogo Visitante</th>\n",
       "      <th>Média de Gols do Confronto</th>\n",
       "      <th>% BTTS</th>\n",
       "      <th>% Over 0.5 FT</th>\n",
       "    </tr>\n",
       "  </thead>\n",
       "  <tbody>\n",
       "    <tr>\n",
       "      <th>0</th>\n",
       "      <td>23/05/2022</td>\n",
       "      <td>11:00</td>\n",
       "      <td>Tunisia</td>\n",
       "      <td>Ligue 1</td>\n",
       "      <td>Zarzis</td>\n",
       "      <td>Olympique Béja</td>\n",
       "      <td>0,88</td>\n",
       "      <td>1,29</td>\n",
       "      <td>1,50</td>\n",
       "      <td>24</td>\n",
       "      <td>82</td>\n",
       "    </tr>\n",
       "    <tr>\n",
       "      <th>1</th>\n",
       "      <td>23/05/2022</td>\n",
       "      <td>11:00</td>\n",
       "      <td>Tunisia</td>\n",
       "      <td>Ligue 1</td>\n",
       "      <td>Hammam-Sousse</td>\n",
       "      <td>Métlaoui</td>\n",
       "      <td>1,18</td>\n",
       "      <td>1,24</td>\n",
       "      <td>1,80</td>\n",
       "      <td>50</td>\n",
       "      <td>89</td>\n",
       "    </tr>\n",
       "    <tr>\n",
       "      <th>2</th>\n",
       "      <td>26/05/2022</td>\n",
       "      <td>13:00</td>\n",
       "      <td>Ivory Coast</td>\n",
       "      <td>Ivory Coast Ligue 1</td>\n",
       "      <td>San-Pédro</td>\n",
       "      <td>Racing d'Abidjan</td>\n",
       "      <td>1,67</td>\n",
       "      <td>1,56</td>\n",
       "      <td>1,56</td>\n",
       "      <td>28</td>\n",
       "      <td>78</td>\n",
       "    </tr>\n",
       "    <tr>\n",
       "      <th>3</th>\n",
       "      <td>23/05/2022</td>\n",
       "      <td>14:00</td>\n",
       "      <td>Mali</td>\n",
       "      <td>Première Division</td>\n",
       "      <td>Djoliba</td>\n",
       "      <td>ASKO</td>\n",
       "      <td>1,92</td>\n",
       "      <td>1,39</td>\n",
       "      <td>1,75</td>\n",
       "      <td>38</td>\n",
       "      <td>79</td>\n",
       "    </tr>\n",
       "    <tr>\n",
       "      <th>4</th>\n",
       "      <td>25/05/2022</td>\n",
       "      <td>07:00</td>\n",
       "      <td>Japan</td>\n",
       "      <td>J2 League</td>\n",
       "      <td>Tochigi</td>\n",
       "      <td>Machida Zelvia</td>\n",
       "      <td>1,11</td>\n",
       "      <td>1,53</td>\n",
       "      <td>1,85</td>\n",
       "      <td>47</td>\n",
       "      <td>83</td>\n",
       "    </tr>\n",
       "    <tr>\n",
       "      <th>5</th>\n",
       "      <td>24/05/2022</td>\n",
       "      <td>13:30</td>\n",
       "      <td>Egypt</td>\n",
       "      <td>Egyptian Premier League</td>\n",
       "      <td>ENPPI</td>\n",
       "      <td>Ghazl El Mehalla</td>\n",
       "      <td>1,10</td>\n",
       "      <td>1,26</td>\n",
       "      <td>2,00</td>\n",
       "      <td>40</td>\n",
       "      <td>75</td>\n",
       "    </tr>\n",
       "    <tr>\n",
       "      <th>6</th>\n",
       "      <td>24/05/2022</td>\n",
       "      <td>14:30</td>\n",
       "      <td>South Africa</td>\n",
       "      <td>Premier Soccer League</td>\n",
       "      <td>Orlando Pirates</td>\n",
       "      <td>Maritzburg United</td>\n",
       "      <td>1,71</td>\n",
       "      <td>1,07</td>\n",
       "      <td>1,97</td>\n",
       "      <td>54</td>\n",
       "      <td>79</td>\n",
       "    </tr>\n",
       "    <tr>\n",
       "      <th>7</th>\n",
       "      <td>23/05/2022</td>\n",
       "      <td>15:35</td>\n",
       "      <td>Argentina</td>\n",
       "      <td>Prim B Nacional</td>\n",
       "      <td>Deportivo Riestra</td>\n",
       "      <td>Temperley</td>\n",
       "      <td>1,71</td>\n",
       "      <td>0,87</td>\n",
       "      <td>2,14</td>\n",
       "      <td>36</td>\n",
       "      <td>86</td>\n",
       "    </tr>\n",
       "    <tr>\n",
       "      <th>8</th>\n",
       "      <td>23/05/2022</td>\n",
       "      <td>20:00</td>\n",
       "      <td>Brazil</td>\n",
       "      <td>Serie B</td>\n",
       "      <td>Sport Recife</td>\n",
       "      <td>CRB</td>\n",
       "      <td>3,00</td>\n",
       "      <td>0,88</td>\n",
       "      <td>1,92</td>\n",
       "      <td>13</td>\n",
       "      <td>100</td>\n",
       "    </tr>\n",
       "    <tr>\n",
       "      <th>9</th>\n",
       "      <td>23/05/2022</td>\n",
       "      <td>13:30</td>\n",
       "      <td>Egypt</td>\n",
       "      <td>Egyptian Premier League</td>\n",
       "      <td>Pharco</td>\n",
       "      <td>El Gounah</td>\n",
       "      <td>1,70</td>\n",
       "      <td>0,94</td>\n",
       "      <td>2,23</td>\n",
       "      <td>37</td>\n",
       "      <td>95</td>\n",
       "    </tr>\n",
       "    <tr>\n",
       "      <th>10</th>\n",
       "      <td>25/05/2022</td>\n",
       "      <td>19:00</td>\n",
       "      <td>Brazil</td>\n",
       "      <td>Serie B</td>\n",
       "      <td>Londrina</td>\n",
       "      <td>Operário PR</td>\n",
       "      <td>2,00</td>\n",
       "      <td>1,50</td>\n",
       "      <td>2,13</td>\n",
       "      <td>63</td>\n",
       "      <td>88</td>\n",
       "    </tr>\n",
       "    <tr>\n",
       "      <th>11</th>\n",
       "      <td>25/05/2022</td>\n",
       "      <td>07:30</td>\n",
       "      <td>Japan</td>\n",
       "      <td>J1 League</td>\n",
       "      <td>Nagoya Grampus</td>\n",
       "      <td>Avispa Fukuoka</td>\n",
       "      <td>1,71</td>\n",
       "      <td>1,29</td>\n",
       "      <td>1,84</td>\n",
       "      <td>37</td>\n",
       "      <td>92</td>\n",
       "    </tr>\n",
       "    <tr>\n",
       "      <th>12</th>\n",
       "      <td>25/05/2022</td>\n",
       "      <td>07:30</td>\n",
       "      <td>Japan</td>\n",
       "      <td>J2 League</td>\n",
       "      <td>Ventforet Kofu</td>\n",
       "      <td>Tokushima Vortis</td>\n",
       "      <td>1,50</td>\n",
       "      <td>1,24</td>\n",
       "      <td>1,88</td>\n",
       "      <td>51</td>\n",
       "      <td>88</td>\n",
       "    </tr>\n",
       "    <tr>\n",
       "      <th>13</th>\n",
       "      <td>25/05/2022</td>\n",
       "      <td>07:00</td>\n",
       "      <td>Japan</td>\n",
       "      <td>J2 League</td>\n",
       "      <td>V-Varen Nagasaki</td>\n",
       "      <td>JEF United</td>\n",
       "      <td>1,38</td>\n",
       "      <td>1,18</td>\n",
       "      <td>2,01</td>\n",
       "      <td>57</td>\n",
       "      <td>94</td>\n",
       "    </tr>\n",
       "    <tr>\n",
       "      <th>14</th>\n",
       "      <td>24/05/2022</td>\n",
       "      <td>11:00</td>\n",
       "      <td>Paraguay</td>\n",
       "      <td>Division Intermedia</td>\n",
       "      <td>Guaraní de Trinidad</td>\n",
       "      <td>Fernando de la Mora</td>\n",
       "      <td>1,00</td>\n",
       "      <td>1,25</td>\n",
       "      <td>2,17</td>\n",
       "      <td>38</td>\n",
       "      <td>100</td>\n",
       "    </tr>\n",
       "    <tr>\n",
       "      <th>15</th>\n",
       "      <td>27/05/2022</td>\n",
       "      <td>14:30</td>\n",
       "      <td>South Africa</td>\n",
       "      <td>Premier Soccer League</td>\n",
       "      <td>Real Kings</td>\n",
       "      <td>Orlando Pirates</td>\n",
       "      <td>2,31</td>\n",
       "      <td>1,48</td>\n",
       "      <td>1,81</td>\n",
       "      <td>42</td>\n",
       "      <td>77</td>\n",
       "    </tr>\n",
       "    <tr>\n",
       "      <th>16</th>\n",
       "      <td>23/05/2022</td>\n",
       "      <td>15:00</td>\n",
       "      <td>Saudi Arabia</td>\n",
       "      <td>First Division</td>\n",
       "      <td>Al Akhdoud</td>\n",
       "      <td>Al Shoalah</td>\n",
       "      <td>1,50</td>\n",
       "      <td>1,22</td>\n",
       "      <td>2,00</td>\n",
       "      <td>50</td>\n",
       "      <td>84</td>\n",
       "    </tr>\n",
       "    <tr>\n",
       "      <th>17</th>\n",
       "      <td>23/05/2022</td>\n",
       "      <td>15:00</td>\n",
       "      <td>Saudi Arabia</td>\n",
       "      <td>First Division</td>\n",
       "      <td>Al Quadisiya</td>\n",
       "      <td>Najran</td>\n",
       "      <td>1,72</td>\n",
       "      <td>1,39</td>\n",
       "      <td>1,97</td>\n",
       "      <td>39</td>\n",
       "      <td>81</td>\n",
       "    </tr>\n",
       "    <tr>\n",
       "      <th>18</th>\n",
       "      <td>25/05/2022</td>\n",
       "      <td>07:00</td>\n",
       "      <td>Japan</td>\n",
       "      <td>J2 League</td>\n",
       "      <td>Oita Trinita</td>\n",
       "      <td>Blaublitz Akita</td>\n",
       "      <td>1,11</td>\n",
       "      <td>1,41</td>\n",
       "      <td>2,22</td>\n",
       "      <td>52</td>\n",
       "      <td>89</td>\n",
       "    </tr>\n",
       "    <tr>\n",
       "      <th>19</th>\n",
       "      <td>23/05/2022</td>\n",
       "      <td>20:00</td>\n",
       "      <td>Brazil</td>\n",
       "      <td>Serie C</td>\n",
       "      <td>Ypiranga Erechim</td>\n",
       "      <td>Remo</td>\n",
       "      <td>2,00</td>\n",
       "      <td>1,67</td>\n",
       "      <td>2,00</td>\n",
       "      <td>33</td>\n",
       "      <td>100</td>\n",
       "    </tr>\n",
       "  </tbody>\n",
       "</table>\n",
       "</div>"
      ],
      "text/plain": [
       "          Data   Hora          País               Campeonato  \\\n",
       "0   23/05/2022  11:00       Tunisia                  Ligue 1   \n",
       "1   23/05/2022  11:00       Tunisia                  Ligue 1   \n",
       "2   26/05/2022  13:00   Ivory Coast      Ivory Coast Ligue 1   \n",
       "3   23/05/2022  14:00          Mali        Première Division   \n",
       "4   25/05/2022  07:00         Japan                J2 League   \n",
       "5   24/05/2022  13:30         Egypt  Egyptian Premier League   \n",
       "6   24/05/2022  14:30  South Africa    Premier Soccer League   \n",
       "7   23/05/2022  15:35     Argentina          Prim B Nacional   \n",
       "8   23/05/2022  20:00        Brazil                  Serie B   \n",
       "9   23/05/2022  13:30         Egypt  Egyptian Premier League   \n",
       "10  25/05/2022  19:00        Brazil                  Serie B   \n",
       "11  25/05/2022  07:30         Japan                J1 League   \n",
       "12  25/05/2022  07:30         Japan                J2 League   \n",
       "13  25/05/2022  07:00         Japan                J2 League   \n",
       "14  24/05/2022  11:00      Paraguay      Division Intermedia   \n",
       "15  27/05/2022  14:30  South Africa    Premier Soccer League   \n",
       "16  23/05/2022  15:00  Saudi Arabia           First Division   \n",
       "17  23/05/2022  15:00  Saudi Arabia           First Division   \n",
       "18  25/05/2022  07:00         Japan                J2 League   \n",
       "19  23/05/2022  20:00        Brazil                  Serie C   \n",
       "\n",
       "               Mandante            Visitante Pontos por Jogo Mandante  \\\n",
       "0                Zarzis       Olympique Béja                     0,88   \n",
       "1         Hammam-Sousse             Métlaoui                     1,18   \n",
       "2             San-Pédro     Racing d'Abidjan                     1,67   \n",
       "3               Djoliba                 ASKO                     1,92   \n",
       "4               Tochigi       Machida Zelvia                     1,11   \n",
       "5                 ENPPI     Ghazl El Mehalla                     1,10   \n",
       "6       Orlando Pirates    Maritzburg United                     1,71   \n",
       "7     Deportivo Riestra            Temperley                     1,71   \n",
       "8          Sport Recife                  CRB                     3,00   \n",
       "9                Pharco            El Gounah                     1,70   \n",
       "10             Londrina          Operário PR                     2,00   \n",
       "11       Nagoya Grampus       Avispa Fukuoka                     1,71   \n",
       "12       Ventforet Kofu     Tokushima Vortis                     1,50   \n",
       "13     V-Varen Nagasaki           JEF United                     1,38   \n",
       "14  Guaraní de Trinidad  Fernando de la Mora                     1,00   \n",
       "15           Real Kings      Orlando Pirates                     2,31   \n",
       "16           Al Akhdoud           Al Shoalah                     1,50   \n",
       "17         Al Quadisiya               Najran                     1,72   \n",
       "18         Oita Trinita      Blaublitz Akita                     1,11   \n",
       "19     Ypiranga Erechim                 Remo                     2,00   \n",
       "\n",
       "   Pontos por Jogo Visitante Média de Gols do Confronto % BTTS % Over 0.5 FT  \n",
       "0                       1,29                       1,50     24            82  \n",
       "1                       1,24                       1,80     50            89  \n",
       "2                       1,56                       1,56     28            78  \n",
       "3                       1,39                       1,75     38            79  \n",
       "4                       1,53                       1,85     47            83  \n",
       "5                       1,26                       2,00     40            75  \n",
       "6                       1,07                       1,97     54            79  \n",
       "7                       0,87                       2,14     36            86  \n",
       "8                       0,88                       1,92     13           100  \n",
       "9                       0,94                       2,23     37            95  \n",
       "10                      1,50                       2,13     63            88  \n",
       "11                      1,29                       1,84     37            92  \n",
       "12                      1,24                       1,88     51            88  \n",
       "13                      1,18                       2,01     57            94  \n",
       "14                      1,25                       2,17     38           100  \n",
       "15                      1,48                       1,81     42            77  \n",
       "16                      1,22                       2,00     50            84  \n",
       "17                      1,39                       1,97     39            81  \n",
       "18                      1,41                       2,22     52            89  \n",
       "19                      1,67                       2,00     33           100  "
      ]
     },
     "metadata": {},
     "output_type": "display_data"
    }
   ],
   "source": [
    "import pandas as pd\n",
    "\n",
    "# dic = {\"Data\": [11/07/2021, 11/07/2021], \"Hora\": [12:00, 13:00, 12:00]}\"\n",
    "\n",
    "dic = {}\n",
    "for coluna in lista_colunas:\n",
    "    dic[coluna] = []\n",
    "    for i in range(20):\n",
    "        dic[coluna].append(lista_valores[i])\n",
    "    lista_valores = lista_valores[20:]\n",
    "\n",
    "tabela_df = pd.DataFrame.from_dict(dic)\n",
    "display(tabela_df)"
   ]
  },
  {
   "cell_type": "code",
   "execution_count": null,
   "id": "6ee46a62",
   "metadata": {},
   "outputs": [],
   "source": [
    "### Implementando o scroll\n",
    "for i in range(200):\n",
    "    posicao_scroll = 250 * i\n",
    "    driver.execute_script(f\"document.getElementsByClassName('bodyCells')[0].scroll(0, {posicao_scroll})\")\n",
    "\n",
    "# o que eu quero que aconteça a cada scroll\n",
    "# ler a tabela da página\n",
    "    tabela = driver.find_element_by_class_name(\"innerContainer\")\n",
    "    texto = tabela.text\n",
    "\n",
    "#separar valores e colunas\n",
    "    lista_texto = texto.split(\"\\n\")\n",
    "    lista_colunas = lista_texto[:11]\n",
    "    lista_valores = lista_texto[11:]\n",
    "\n",
    "# criar um dicionario auxiliar\n",
    "    dic = {}\n",
    "    for coluna in lista_colunas:\n",
    "        dic[coluna] = []\n",
    "        for i in range(20):\n",
    "            dic[coluna].append(lista_valores[i])\n",
    "        lista_valores = lista_valores[20:]\n",
    "\n",
    "# criar a tabela python\n",
    "    tabela_temporaria = pd.DataFrame.from_dict(dic)\n",
    "    tabela_df = tabela_df.append(tabela_temporaria, ignore_index = True)\n",
    "\n",
    "# Remover Duplicatas\n",
    "tabela_df = tabela_df.drop_duplicates()\n",
    "\n",
    "# exibir a minha tabela_df / \n",
    "display(tabela_df)\n",
    "\n",
    "# Armazenar a tabela_df em excel\n",
    "tabela_df.to_excel(\"Tabela Dados Jogos.xlsx\", index=False)"
   ]
  },
  {
   "cell_type": "markdown",
   "id": "fb9689e8",
   "metadata": {},
   "source": [
    "# Mentoria 02: Automação"
   ]
  },
  {
   "cell_type": "markdown",
   "id": "eeac2871",
   "metadata": {},
   "source": [
    "## Passo 01: Iniciando o Navegador no site que queremos"
   ]
  },
  {
   "cell_type": "code",
   "execution_count": 185,
   "id": "77db4f7a",
   "metadata": {},
   "outputs": [],
   "source": [
    "from selenium import webdriver\n",
    "from selenium.webdriver.common.keys import Keys\n",
    "import time\n",
    "\n",
    "link = \"https://www.kaggle.com/sakshigoyal7/credit-card-customers\"\n",
    "\n",
    "driver = webdriver.Chrome()\n",
    "driver.get(link)"
   ]
  },
  {
   "cell_type": "markdown",
   "id": "114b92d3",
   "metadata": {},
   "source": [
    "## Passo 02: Fazer o download do arquivo"
   ]
  },
  {
   "cell_type": "code",
   "execution_count": 217,
   "id": "f3ee7dfc",
   "metadata": {},
   "outputs": [],
   "source": [
    "driver.find_element(By.CLASS_NAME, 'sc-gXfVKN').click() # Botão Download\n",
    "\n",
    "time.sleep(2)\n",
    "driver.find_element(By.XPATH,'//*[@id=\"site-container\"]/div[1]/div/form/div[2]/div/div[2]/a/li/div/span').click() # Login com email\n",
    "\n",
    "time.sleep(1)\n",
    "driver.find_elements(By.CSS_SELECTOR,\"input.mdc-text-field__input\")[0].send_keys('drumondsantos@gmail.com') # Login\n",
    "driver.find_elements(By.CSS_SELECTOR,\"input.mdc-text-field__input\")[1].send_keys('******') # Senha\n",
    "driver.find_element(By.CLASS_NAME, 'sc-gXfVKN').click() # Botão Login\n",
    "\n",
    "time.sleep(2)\n",
    "driver.find_element(By.CLASS_NAME, 'sc-gXfVKN').click() # Botão Download"
   ]
  },
  {
   "cell_type": "markdown",
   "id": "cc4b8441",
   "metadata": {},
   "source": [
    "## Passo 03: Unzipar o arquivo (Extrair da pasta zip)"
   ]
  },
  {
   "cell_type": "code",
   "execution_count": 219,
   "id": "edf08e82",
   "metadata": {},
   "outputs": [],
   "source": [
    "import zipfile\n",
    "\n",
    "path_to_zip_file = (r\"C:\\Users\\Daniel\\Downloads\\archive.zip\")\n",
    "directory_to_extract_to = (r\"C:\\Users\\Daniel\\Downloads\")\n",
    "\n",
    "with zipfile.ZipFile(path_to_zip_file, 'r') as zip_ref:\n",
    "    zip_ref.extractall(directory_to_extract_to)"
   ]
  },
  {
   "cell_type": "markdown",
   "id": "f2c9217e",
   "metadata": {},
   "source": [
    "## Passo 04: Importar o arquivo pro nosso computador com o pandas"
   ]
  },
  {
   "cell_type": "code",
   "execution_count": 220,
   "id": "38e54090",
   "metadata": {},
   "outputs": [
    {
     "data": {
      "text/html": [
       "<div>\n",
       "<style scoped>\n",
       "    .dataframe tbody tr th:only-of-type {\n",
       "        vertical-align: middle;\n",
       "    }\n",
       "\n",
       "    .dataframe tbody tr th {\n",
       "        vertical-align: top;\n",
       "    }\n",
       "\n",
       "    .dataframe thead th {\n",
       "        text-align: right;\n",
       "    }\n",
       "</style>\n",
       "<table border=\"1\" class=\"dataframe\">\n",
       "  <thead>\n",
       "    <tr style=\"text-align: right;\">\n",
       "      <th></th>\n",
       "      <th>CLIENTNUM</th>\n",
       "      <th>Attrition_Flag</th>\n",
       "      <th>Customer_Age</th>\n",
       "      <th>Gender</th>\n",
       "      <th>Dependent_count</th>\n",
       "      <th>Education_Level</th>\n",
       "      <th>Marital_Status</th>\n",
       "      <th>Income_Category</th>\n",
       "      <th>Card_Category</th>\n",
       "      <th>Months_on_book</th>\n",
       "      <th>...</th>\n",
       "      <th>Credit_Limit</th>\n",
       "      <th>Total_Revolving_Bal</th>\n",
       "      <th>Avg_Open_To_Buy</th>\n",
       "      <th>Total_Amt_Chng_Q4_Q1</th>\n",
       "      <th>Total_Trans_Amt</th>\n",
       "      <th>Total_Trans_Ct</th>\n",
       "      <th>Total_Ct_Chng_Q4_Q1</th>\n",
       "      <th>Avg_Utilization_Ratio</th>\n",
       "      <th>Naive_Bayes_Classifier_Attrition_Flag_Card_Category_Contacts_Count_12_mon_Dependent_count_Education_Level_Months_Inactive_12_mon_1</th>\n",
       "      <th>Naive_Bayes_Classifier_Attrition_Flag_Card_Category_Contacts_Count_12_mon_Dependent_count_Education_Level_Months_Inactive_12_mon_2</th>\n",
       "    </tr>\n",
       "  </thead>\n",
       "  <tbody>\n",
       "    <tr>\n",
       "      <th>0</th>\n",
       "      <td>768805383</td>\n",
       "      <td>Existing Customer</td>\n",
       "      <td>45</td>\n",
       "      <td>M</td>\n",
       "      <td>3</td>\n",
       "      <td>High School</td>\n",
       "      <td>Married</td>\n",
       "      <td>$60K - $80K</td>\n",
       "      <td>Blue</td>\n",
       "      <td>39</td>\n",
       "      <td>...</td>\n",
       "      <td>12691.0</td>\n",
       "      <td>777</td>\n",
       "      <td>11914.0</td>\n",
       "      <td>1.335</td>\n",
       "      <td>1144</td>\n",
       "      <td>42</td>\n",
       "      <td>1.625</td>\n",
       "      <td>0.061</td>\n",
       "      <td>0.000093</td>\n",
       "      <td>0.999910</td>\n",
       "    </tr>\n",
       "    <tr>\n",
       "      <th>1</th>\n",
       "      <td>818770008</td>\n",
       "      <td>Existing Customer</td>\n",
       "      <td>49</td>\n",
       "      <td>F</td>\n",
       "      <td>5</td>\n",
       "      <td>Graduate</td>\n",
       "      <td>Single</td>\n",
       "      <td>Less than $40K</td>\n",
       "      <td>Blue</td>\n",
       "      <td>44</td>\n",
       "      <td>...</td>\n",
       "      <td>8256.0</td>\n",
       "      <td>864</td>\n",
       "      <td>7392.0</td>\n",
       "      <td>1.541</td>\n",
       "      <td>1291</td>\n",
       "      <td>33</td>\n",
       "      <td>3.714</td>\n",
       "      <td>0.105</td>\n",
       "      <td>0.000057</td>\n",
       "      <td>0.999940</td>\n",
       "    </tr>\n",
       "    <tr>\n",
       "      <th>2</th>\n",
       "      <td>713982108</td>\n",
       "      <td>Existing Customer</td>\n",
       "      <td>51</td>\n",
       "      <td>M</td>\n",
       "      <td>3</td>\n",
       "      <td>Graduate</td>\n",
       "      <td>Married</td>\n",
       "      <td>$80K - $120K</td>\n",
       "      <td>Blue</td>\n",
       "      <td>36</td>\n",
       "      <td>...</td>\n",
       "      <td>3418.0</td>\n",
       "      <td>0</td>\n",
       "      <td>3418.0</td>\n",
       "      <td>2.594</td>\n",
       "      <td>1887</td>\n",
       "      <td>20</td>\n",
       "      <td>2.333</td>\n",
       "      <td>0.000</td>\n",
       "      <td>0.000021</td>\n",
       "      <td>0.999980</td>\n",
       "    </tr>\n",
       "    <tr>\n",
       "      <th>3</th>\n",
       "      <td>769911858</td>\n",
       "      <td>Existing Customer</td>\n",
       "      <td>40</td>\n",
       "      <td>F</td>\n",
       "      <td>4</td>\n",
       "      <td>High School</td>\n",
       "      <td>Unknown</td>\n",
       "      <td>Less than $40K</td>\n",
       "      <td>Blue</td>\n",
       "      <td>34</td>\n",
       "      <td>...</td>\n",
       "      <td>3313.0</td>\n",
       "      <td>2517</td>\n",
       "      <td>796.0</td>\n",
       "      <td>1.405</td>\n",
       "      <td>1171</td>\n",
       "      <td>20</td>\n",
       "      <td>2.333</td>\n",
       "      <td>0.760</td>\n",
       "      <td>0.000134</td>\n",
       "      <td>0.999870</td>\n",
       "    </tr>\n",
       "    <tr>\n",
       "      <th>4</th>\n",
       "      <td>709106358</td>\n",
       "      <td>Existing Customer</td>\n",
       "      <td>40</td>\n",
       "      <td>M</td>\n",
       "      <td>3</td>\n",
       "      <td>Uneducated</td>\n",
       "      <td>Married</td>\n",
       "      <td>$60K - $80K</td>\n",
       "      <td>Blue</td>\n",
       "      <td>21</td>\n",
       "      <td>...</td>\n",
       "      <td>4716.0</td>\n",
       "      <td>0</td>\n",
       "      <td>4716.0</td>\n",
       "      <td>2.175</td>\n",
       "      <td>816</td>\n",
       "      <td>28</td>\n",
       "      <td>2.500</td>\n",
       "      <td>0.000</td>\n",
       "      <td>0.000022</td>\n",
       "      <td>0.999980</td>\n",
       "    </tr>\n",
       "    <tr>\n",
       "      <th>...</th>\n",
       "      <td>...</td>\n",
       "      <td>...</td>\n",
       "      <td>...</td>\n",
       "      <td>...</td>\n",
       "      <td>...</td>\n",
       "      <td>...</td>\n",
       "      <td>...</td>\n",
       "      <td>...</td>\n",
       "      <td>...</td>\n",
       "      <td>...</td>\n",
       "      <td>...</td>\n",
       "      <td>...</td>\n",
       "      <td>...</td>\n",
       "      <td>...</td>\n",
       "      <td>...</td>\n",
       "      <td>...</td>\n",
       "      <td>...</td>\n",
       "      <td>...</td>\n",
       "      <td>...</td>\n",
       "      <td>...</td>\n",
       "      <td>...</td>\n",
       "    </tr>\n",
       "    <tr>\n",
       "      <th>10122</th>\n",
       "      <td>772366833</td>\n",
       "      <td>Existing Customer</td>\n",
       "      <td>50</td>\n",
       "      <td>M</td>\n",
       "      <td>2</td>\n",
       "      <td>Graduate</td>\n",
       "      <td>Single</td>\n",
       "      <td>$40K - $60K</td>\n",
       "      <td>Blue</td>\n",
       "      <td>40</td>\n",
       "      <td>...</td>\n",
       "      <td>4003.0</td>\n",
       "      <td>1851</td>\n",
       "      <td>2152.0</td>\n",
       "      <td>0.703</td>\n",
       "      <td>15476</td>\n",
       "      <td>117</td>\n",
       "      <td>0.857</td>\n",
       "      <td>0.462</td>\n",
       "      <td>0.000191</td>\n",
       "      <td>0.999810</td>\n",
       "    </tr>\n",
       "    <tr>\n",
       "      <th>10123</th>\n",
       "      <td>710638233</td>\n",
       "      <td>Attrited Customer</td>\n",
       "      <td>41</td>\n",
       "      <td>M</td>\n",
       "      <td>2</td>\n",
       "      <td>Unknown</td>\n",
       "      <td>Divorced</td>\n",
       "      <td>$40K - $60K</td>\n",
       "      <td>Blue</td>\n",
       "      <td>25</td>\n",
       "      <td>...</td>\n",
       "      <td>4277.0</td>\n",
       "      <td>2186</td>\n",
       "      <td>2091.0</td>\n",
       "      <td>0.804</td>\n",
       "      <td>8764</td>\n",
       "      <td>69</td>\n",
       "      <td>0.683</td>\n",
       "      <td>0.511</td>\n",
       "      <td>0.995270</td>\n",
       "      <td>0.004729</td>\n",
       "    </tr>\n",
       "    <tr>\n",
       "      <th>10124</th>\n",
       "      <td>716506083</td>\n",
       "      <td>Attrited Customer</td>\n",
       "      <td>44</td>\n",
       "      <td>F</td>\n",
       "      <td>1</td>\n",
       "      <td>High School</td>\n",
       "      <td>Married</td>\n",
       "      <td>Less than $40K</td>\n",
       "      <td>Blue</td>\n",
       "      <td>36</td>\n",
       "      <td>...</td>\n",
       "      <td>5409.0</td>\n",
       "      <td>0</td>\n",
       "      <td>5409.0</td>\n",
       "      <td>0.819</td>\n",
       "      <td>10291</td>\n",
       "      <td>60</td>\n",
       "      <td>0.818</td>\n",
       "      <td>0.000</td>\n",
       "      <td>0.997880</td>\n",
       "      <td>0.002118</td>\n",
       "    </tr>\n",
       "    <tr>\n",
       "      <th>10125</th>\n",
       "      <td>717406983</td>\n",
       "      <td>Attrited Customer</td>\n",
       "      <td>30</td>\n",
       "      <td>M</td>\n",
       "      <td>2</td>\n",
       "      <td>Graduate</td>\n",
       "      <td>Unknown</td>\n",
       "      <td>$40K - $60K</td>\n",
       "      <td>Blue</td>\n",
       "      <td>36</td>\n",
       "      <td>...</td>\n",
       "      <td>5281.0</td>\n",
       "      <td>0</td>\n",
       "      <td>5281.0</td>\n",
       "      <td>0.535</td>\n",
       "      <td>8395</td>\n",
       "      <td>62</td>\n",
       "      <td>0.722</td>\n",
       "      <td>0.000</td>\n",
       "      <td>0.996710</td>\n",
       "      <td>0.003294</td>\n",
       "    </tr>\n",
       "    <tr>\n",
       "      <th>10126</th>\n",
       "      <td>714337233</td>\n",
       "      <td>Attrited Customer</td>\n",
       "      <td>43</td>\n",
       "      <td>F</td>\n",
       "      <td>2</td>\n",
       "      <td>Graduate</td>\n",
       "      <td>Married</td>\n",
       "      <td>Less than $40K</td>\n",
       "      <td>Silver</td>\n",
       "      <td>25</td>\n",
       "      <td>...</td>\n",
       "      <td>10388.0</td>\n",
       "      <td>1961</td>\n",
       "      <td>8427.0</td>\n",
       "      <td>0.703</td>\n",
       "      <td>10294</td>\n",
       "      <td>61</td>\n",
       "      <td>0.649</td>\n",
       "      <td>0.189</td>\n",
       "      <td>0.996620</td>\n",
       "      <td>0.003377</td>\n",
       "    </tr>\n",
       "  </tbody>\n",
       "</table>\n",
       "<p>10127 rows × 23 columns</p>\n",
       "</div>"
      ],
      "text/plain": [
       "       CLIENTNUM     Attrition_Flag  Customer_Age Gender  Dependent_count  \\\n",
       "0      768805383  Existing Customer            45      M                3   \n",
       "1      818770008  Existing Customer            49      F                5   \n",
       "2      713982108  Existing Customer            51      M                3   \n",
       "3      769911858  Existing Customer            40      F                4   \n",
       "4      709106358  Existing Customer            40      M                3   \n",
       "...          ...                ...           ...    ...              ...   \n",
       "10122  772366833  Existing Customer            50      M                2   \n",
       "10123  710638233  Attrited Customer            41      M                2   \n",
       "10124  716506083  Attrited Customer            44      F                1   \n",
       "10125  717406983  Attrited Customer            30      M                2   \n",
       "10126  714337233  Attrited Customer            43      F                2   \n",
       "\n",
       "      Education_Level Marital_Status Income_Category Card_Category  \\\n",
       "0         High School        Married     $60K - $80K          Blue   \n",
       "1            Graduate         Single  Less than $40K          Blue   \n",
       "2            Graduate        Married    $80K - $120K          Blue   \n",
       "3         High School        Unknown  Less than $40K          Blue   \n",
       "4          Uneducated        Married     $60K - $80K          Blue   \n",
       "...               ...            ...             ...           ...   \n",
       "10122        Graduate         Single     $40K - $60K          Blue   \n",
       "10123         Unknown       Divorced     $40K - $60K          Blue   \n",
       "10124     High School        Married  Less than $40K          Blue   \n",
       "10125        Graduate        Unknown     $40K - $60K          Blue   \n",
       "10126        Graduate        Married  Less than $40K        Silver   \n",
       "\n",
       "       Months_on_book  ...  Credit_Limit  Total_Revolving_Bal  \\\n",
       "0                  39  ...       12691.0                  777   \n",
       "1                  44  ...        8256.0                  864   \n",
       "2                  36  ...        3418.0                    0   \n",
       "3                  34  ...        3313.0                 2517   \n",
       "4                  21  ...        4716.0                    0   \n",
       "...               ...  ...           ...                  ...   \n",
       "10122              40  ...        4003.0                 1851   \n",
       "10123              25  ...        4277.0                 2186   \n",
       "10124              36  ...        5409.0                    0   \n",
       "10125              36  ...        5281.0                    0   \n",
       "10126              25  ...       10388.0                 1961   \n",
       "\n",
       "       Avg_Open_To_Buy  Total_Amt_Chng_Q4_Q1  Total_Trans_Amt  Total_Trans_Ct  \\\n",
       "0              11914.0                 1.335             1144              42   \n",
       "1               7392.0                 1.541             1291              33   \n",
       "2               3418.0                 2.594             1887              20   \n",
       "3                796.0                 1.405             1171              20   \n",
       "4               4716.0                 2.175              816              28   \n",
       "...                ...                   ...              ...             ...   \n",
       "10122           2152.0                 0.703            15476             117   \n",
       "10123           2091.0                 0.804             8764              69   \n",
       "10124           5409.0                 0.819            10291              60   \n",
       "10125           5281.0                 0.535             8395              62   \n",
       "10126           8427.0                 0.703            10294              61   \n",
       "\n",
       "       Total_Ct_Chng_Q4_Q1  Avg_Utilization_Ratio  \\\n",
       "0                    1.625                  0.061   \n",
       "1                    3.714                  0.105   \n",
       "2                    2.333                  0.000   \n",
       "3                    2.333                  0.760   \n",
       "4                    2.500                  0.000   \n",
       "...                    ...                    ...   \n",
       "10122                0.857                  0.462   \n",
       "10123                0.683                  0.511   \n",
       "10124                0.818                  0.000   \n",
       "10125                0.722                  0.000   \n",
       "10126                0.649                  0.189   \n",
       "\n",
       "       Naive_Bayes_Classifier_Attrition_Flag_Card_Category_Contacts_Count_12_mon_Dependent_count_Education_Level_Months_Inactive_12_mon_1  \\\n",
       "0                                               0.000093                                                                                    \n",
       "1                                               0.000057                                                                                    \n",
       "2                                               0.000021                                                                                    \n",
       "3                                               0.000134                                                                                    \n",
       "4                                               0.000022                                                                                    \n",
       "...                                                  ...                                                                                    \n",
       "10122                                           0.000191                                                                                    \n",
       "10123                                           0.995270                                                                                    \n",
       "10124                                           0.997880                                                                                    \n",
       "10125                                           0.996710                                                                                    \n",
       "10126                                           0.996620                                                                                    \n",
       "\n",
       "       Naive_Bayes_Classifier_Attrition_Flag_Card_Category_Contacts_Count_12_mon_Dependent_count_Education_Level_Months_Inactive_12_mon_2  \n",
       "0                                               0.999910                                                                                   \n",
       "1                                               0.999940                                                                                   \n",
       "2                                               0.999980                                                                                   \n",
       "3                                               0.999870                                                                                   \n",
       "4                                               0.999980                                                                                   \n",
       "...                                                  ...                                                                                   \n",
       "10122                                           0.999810                                                                                   \n",
       "10123                                           0.004729                                                                                   \n",
       "10124                                           0.002118                                                                                   \n",
       "10125                                           0.003294                                                                                   \n",
       "10126                                           0.003377                                                                                   \n",
       "\n",
       "[10127 rows x 23 columns]"
      ]
     },
     "metadata": {},
     "output_type": "display_data"
    }
   ],
   "source": [
    "import pandas as pd\n",
    "\n",
    "clientes_df = pd.read_csv(r\"C:\\Users\\Daniel\\Downloads\\BankChurners.csv\")\n",
    "display(clientes_df)"
   ]
  },
  {
   "cell_type": "markdown",
   "id": "adf2d665",
   "metadata": {},
   "source": [
    "## Passo 05: Calcular os indicadores para enviar para a diretoria"
   ]
  },
  {
   "cell_type": "markdown",
   "id": "210c5ebd",
   "metadata": {},
   "source": [
    "- 1) Quantos clientes ativos e quantos clientes em disputa temos?"
   ]
  },
  {
   "cell_type": "code",
   "execution_count": 225,
   "id": "82bcbd15",
   "metadata": {},
   "outputs": [
    {
     "name": "stdout",
     "output_type": "stream",
     "text": [
      "Attrition_Flag\n",
      "Attrited Customer    1627\n",
      "Existing Customer    8500\n"
     ]
    }
   ],
   "source": [
    "resumo_status = clientes_df.groupby(\"Attrition_Flag\")[\"Attrition_Flag\"].count()\n",
    "print(resumo_status.to_string())\n",
    "\n",
    "# .to_string(): Remove o excesso de texto quando se tem 1 coluna exibindo por display"
   ]
  },
  {
   "cell_type": "markdown",
   "id": "2bce046f",
   "metadata": {},
   "source": [
    "- 2) Dos clientes ativos, como está a distribuição por tipo de cartão."
   ]
  },
  {
   "cell_type": "code",
   "execution_count": 228,
   "id": "14134c3c",
   "metadata": {},
   "outputs": [
    {
     "data": {
      "text/html": [
       "<div>\n",
       "<style scoped>\n",
       "    .dataframe tbody tr th:only-of-type {\n",
       "        vertical-align: middle;\n",
       "    }\n",
       "\n",
       "    .dataframe tbody tr th {\n",
       "        vertical-align: top;\n",
       "    }\n",
       "\n",
       "    .dataframe thead th {\n",
       "        text-align: right;\n",
       "    }\n",
       "</style>\n",
       "<table border=\"1\" class=\"dataframe\">\n",
       "  <thead>\n",
       "    <tr style=\"text-align: right;\">\n",
       "      <th></th>\n",
       "      <th>Attrition_Flag</th>\n",
       "      <th>Card_Category</th>\n",
       "    </tr>\n",
       "  </thead>\n",
       "  <tbody>\n",
       "    <tr>\n",
       "      <th>0</th>\n",
       "      <td>Existing Customer</td>\n",
       "      <td>Blue</td>\n",
       "    </tr>\n",
       "    <tr>\n",
       "      <th>1</th>\n",
       "      <td>Existing Customer</td>\n",
       "      <td>Blue</td>\n",
       "    </tr>\n",
       "    <tr>\n",
       "      <th>2</th>\n",
       "      <td>Existing Customer</td>\n",
       "      <td>Blue</td>\n",
       "    </tr>\n",
       "    <tr>\n",
       "      <th>3</th>\n",
       "      <td>Existing Customer</td>\n",
       "      <td>Blue</td>\n",
       "    </tr>\n",
       "    <tr>\n",
       "      <th>4</th>\n",
       "      <td>Existing Customer</td>\n",
       "      <td>Blue</td>\n",
       "    </tr>\n",
       "    <tr>\n",
       "      <th>...</th>\n",
       "      <td>...</td>\n",
       "      <td>...</td>\n",
       "    </tr>\n",
       "    <tr>\n",
       "      <th>10116</th>\n",
       "      <td>Existing Customer</td>\n",
       "      <td>Blue</td>\n",
       "    </tr>\n",
       "    <tr>\n",
       "      <th>10117</th>\n",
       "      <td>Existing Customer</td>\n",
       "      <td>Blue</td>\n",
       "    </tr>\n",
       "    <tr>\n",
       "      <th>10120</th>\n",
       "      <td>Existing Customer</td>\n",
       "      <td>Blue</td>\n",
       "    </tr>\n",
       "    <tr>\n",
       "      <th>10121</th>\n",
       "      <td>Existing Customer</td>\n",
       "      <td>Blue</td>\n",
       "    </tr>\n",
       "    <tr>\n",
       "      <th>10122</th>\n",
       "      <td>Existing Customer</td>\n",
       "      <td>Blue</td>\n",
       "    </tr>\n",
       "  </tbody>\n",
       "</table>\n",
       "<p>8500 rows × 2 columns</p>\n",
       "</div>"
      ],
      "text/plain": [
       "          Attrition_Flag Card_Category\n",
       "0      Existing Customer          Blue\n",
       "1      Existing Customer          Blue\n",
       "2      Existing Customer          Blue\n",
       "3      Existing Customer          Blue\n",
       "4      Existing Customer          Blue\n",
       "...                  ...           ...\n",
       "10116  Existing Customer          Blue\n",
       "10117  Existing Customer          Blue\n",
       "10120  Existing Customer          Blue\n",
       "10121  Existing Customer          Blue\n",
       "10122  Existing Customer          Blue\n",
       "\n",
       "[8500 rows x 2 columns]"
      ]
     },
     "metadata": {},
     "output_type": "display_data"
    }
   ],
   "source": [
    "# clientes_ativos = clientes_df.loc[linha, [coluna 1, coluna 2]]\n",
    "clientes_ativos = clientes_df.loc[clientes_df[\"Attrition_Flag\"] == \"Existing Customer\", [\"Attrition_Flag\", \"Card_Category\"]]\n",
    "display(clientes_ativos)"
   ]
  },
  {
   "cell_type": "code",
   "execution_count": 242,
   "id": "da248cc2",
   "metadata": {},
   "outputs": [
    {
     "name": "stdout",
     "output_type": "stream",
     "text": [
      "Categoria do Cartão - Existing Customers\n",
      "Blue        7917\n",
      "Gold          95\n",
      "Platinum      15\n",
      "Silver       473\n",
      "Clientes Totais: 8500\n"
     ]
    }
   ],
   "source": [
    "resumo_cartoes = clientes_ativos.groupby(\"Card_Category\")[\"Card_Category\"].count()\n",
    "resumo_cartoes.index.names = ['Categoria do Cartão - Existing Customers']\n",
    "print(resumo_cartoes.to_string())\n",
    "print('Clientes Totais: {}'.format(clientes_ativos['Card_Category'].count()))"
   ]
  },
  {
   "cell_type": "markdown",
   "id": "253b45de",
   "metadata": {},
   "source": [
    "- 3) Qual o tempo médio de permanência e o limite de crédito médio dos nossos clientes (totais e ex-clientes)?"
   ]
  },
  {
   "cell_type": "code",
   "execution_count": 243,
   "id": "08bef815",
   "metadata": {},
   "outputs": [
    {
     "name": "stdout",
     "output_type": "stream",
     "text": [
      "Tempo Médio: 35.9\n"
     ]
    }
   ],
   "source": [
    "tempo_medio = clientes_df[\"Months_on_book\"].mean()\n",
    "print(f'Tempo Médio: {tempo_medio:.1f}')"
   ]
  },
  {
   "cell_type": "code",
   "execution_count": 247,
   "id": "6e1f3a7e",
   "metadata": {},
   "outputs": [
    {
     "name": "stdout",
     "output_type": "stream",
     "text": [
      "Limite de crédito médio (todos os clientes): R$ 8631.95\n"
     ]
    }
   ],
   "source": [
    "credito_medio = clientes_df[\"Credit_Limit\"].mean()\n",
    "print(f'Limite de crédito médio (todos os clientes): R$ {credito_medio:.2f}')"
   ]
  },
  {
   "cell_type": "code",
   "execution_count": 254,
   "id": "f309b1d5",
   "metadata": {},
   "outputs": [
    {
     "data": {
      "text/html": [
       "<div>\n",
       "<style scoped>\n",
       "    .dataframe tbody tr th:only-of-type {\n",
       "        vertical-align: middle;\n",
       "    }\n",
       "\n",
       "    .dataframe tbody tr th {\n",
       "        vertical-align: top;\n",
       "    }\n",
       "\n",
       "    .dataframe thead th {\n",
       "        text-align: right;\n",
       "    }\n",
       "</style>\n",
       "<table border=\"1\" class=\"dataframe\">\n",
       "  <thead>\n",
       "    <tr style=\"text-align: right;\">\n",
       "      <th></th>\n",
       "      <th>Attrition_Flag</th>\n",
       "      <th>Credit_Limit</th>\n",
       "    </tr>\n",
       "  </thead>\n",
       "  <tbody>\n",
       "    <tr>\n",
       "      <th>21</th>\n",
       "      <td>Attrited Customer</td>\n",
       "      <td>1438.3</td>\n",
       "    </tr>\n",
       "    <tr>\n",
       "      <th>39</th>\n",
       "      <td>Attrited Customer</td>\n",
       "      <td>7882.0</td>\n",
       "    </tr>\n",
       "    <tr>\n",
       "      <th>51</th>\n",
       "      <td>Attrited Customer</td>\n",
       "      <td>1438.3</td>\n",
       "    </tr>\n",
       "    <tr>\n",
       "      <th>54</th>\n",
       "      <td>Attrited Customer</td>\n",
       "      <td>15769.0</td>\n",
       "    </tr>\n",
       "    <tr>\n",
       "      <th>61</th>\n",
       "      <td>Attrited Customer</td>\n",
       "      <td>34516.0</td>\n",
       "    </tr>\n",
       "    <tr>\n",
       "      <th>...</th>\n",
       "      <td>...</td>\n",
       "      <td>...</td>\n",
       "    </tr>\n",
       "    <tr>\n",
       "      <th>10119</th>\n",
       "      <td>Attrited Customer</td>\n",
       "      <td>14657.0</td>\n",
       "    </tr>\n",
       "    <tr>\n",
       "      <th>10123</th>\n",
       "      <td>Attrited Customer</td>\n",
       "      <td>4277.0</td>\n",
       "    </tr>\n",
       "    <tr>\n",
       "      <th>10124</th>\n",
       "      <td>Attrited Customer</td>\n",
       "      <td>5409.0</td>\n",
       "    </tr>\n",
       "    <tr>\n",
       "      <th>10125</th>\n",
       "      <td>Attrited Customer</td>\n",
       "      <td>5281.0</td>\n",
       "    </tr>\n",
       "    <tr>\n",
       "      <th>10126</th>\n",
       "      <td>Attrited Customer</td>\n",
       "      <td>10388.0</td>\n",
       "    </tr>\n",
       "  </tbody>\n",
       "</table>\n",
       "<p>1627 rows × 2 columns</p>\n",
       "</div>"
      ],
      "text/plain": [
       "          Attrition_Flag  Credit_Limit\n",
       "21     Attrited Customer        1438.3\n",
       "39     Attrited Customer        7882.0\n",
       "51     Attrited Customer        1438.3\n",
       "54     Attrited Customer       15769.0\n",
       "61     Attrited Customer       34516.0\n",
       "...                  ...           ...\n",
       "10119  Attrited Customer       14657.0\n",
       "10123  Attrited Customer        4277.0\n",
       "10124  Attrited Customer        5409.0\n",
       "10125  Attrited Customer        5281.0\n",
       "10126  Attrited Customer       10388.0\n",
       "\n",
       "[1627 rows x 2 columns]"
      ]
     },
     "metadata": {},
     "output_type": "display_data"
    },
    {
     "name": "stdout",
     "output_type": "stream",
     "text": [
      "Limite de crédito médio (ex clientes): R$ 8136.04\n"
     ]
    }
   ],
   "source": [
    "# Filtrando Tabela de Limite de Crédito de Ex Clientes:\n",
    "\n",
    "# clientes_ativos = clientes_df.loc[linha, [coluna 1, coluna 2]]\n",
    "credito_medio_ex = clientes_df.loc[clientes_df[\"Attrition_Flag\"] == \"Attrited Customer\", [\"Attrition_Flag\", \"Credit_Limit\"]]\n",
    "display(credito_medio_ex)\n",
    "\n",
    "# Média de Limite de Crédito para ex clientes:\n",
    "ex_clientes = credito_medio_ex[\"Credit_Limit\"].mean()\n",
    "print(f'Limite de crédito médio (ex clientes): R$ {ex_clientes:.2f}')"
   ]
  },
  {
   "cell_type": "markdown",
   "id": "26c21a59",
   "metadata": {},
   "source": [
    "## Passo 06: Enviar e-mail para a coordenação"
   ]
  },
  {
   "cell_type": "code",
   "execution_count": null,
   "id": "0fcf15ad",
   "metadata": {},
   "outputs": [],
   "source": [
    "import win32com.client as win32\n",
    "\n",
    "outlook = win32.Dispatch('outlook.application')\n",
    "mail = outlook.CreateItem(0)\n",
    "\n",
    "mail.To = 'To address'\n",
    "mail.Subject = 'Message subject'\n",
    "mail.Body = f'''\n",
    "Boa tarde!\n",
    "\n",
    "Está descrito o tempo médio de permanência e o limite de crédito médio dos nossos clientes: {tempo_medio:.2f} e R${credito_medio:.2f}\n",
    "\n",
    "Qualquer dúvida estou a disposição.\n",
    "\n",
    "Atenciosamente,\n",
    "Daniel D.\n",
    "'''\n",
    "\n",
    "mail.HTMLBody = '<h2>HTML Message body</h2>' #this field is optional\n",
    "\n",
    "# Anexos: To attach a file to the email (optional)\n",
    "attachment  = \"Path to the attachment\"\n",
    "mail.Attachments.Add(attachment)\n",
    "\n",
    "mail.Send()"
   ]
  },
  {
   "cell_type": "code",
   "execution_count": null,
   "id": "807980c3",
   "metadata": {},
   "outputs": [],
   "source": []
  }
 ],
 "metadata": {
  "kernelspec": {
   "display_name": "Python 3 (ipykernel)",
   "language": "python",
   "name": "python3"
  },
  "language_info": {
   "codemirror_mode": {
    "name": "ipython",
    "version": 3
   },
   "file_extension": ".py",
   "mimetype": "text/x-python",
   "name": "python",
   "nbconvert_exporter": "python",
   "pygments_lexer": "ipython3",
   "version": "3.9.7"
  }
 },
 "nbformat": 4,
 "nbformat_minor": 5
}
