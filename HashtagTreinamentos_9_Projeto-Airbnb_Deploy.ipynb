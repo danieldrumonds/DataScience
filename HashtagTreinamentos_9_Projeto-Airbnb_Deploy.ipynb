{
 "cells": [
  {
   "cell_type": "markdown",
   "metadata": {},
   "source": [
    "# Hashtag Treinamentos - Deploy: Projeto Airbnb"
   ]
  },
  {
   "cell_type": "markdown",
   "metadata": {},
   "source": [
    "## Deploy do Projeto\n",
    "\n",
    "- Passo 01 -> Criar arquivo Modelo (joblib)<br>\n",
    "<br>\n",
    "- Passo 02 -> Escolher a forma de Deploy:\n",
    "\t- Arquivo Executável + Tkinter\n",
    "\t- Deploy em um Microsite (Flask)\n",
    "\t- Deploy apenas para uso direto (Streamlit)<br>\n",
    "<br>\n",
    "- Passo 03 -> Outro arquivo Python (pode ser Jupyter ou PyCharm)<br>\n",
    "<br>\n",
    "- Passo 04 -> Importar streamlit e criar código<br>\n",
    "<br>\n",
    "- Passo 05 -> Atribuir ao botão o carregamento do modelo<br>\n",
    "<br>\n",
    "- Passo 06 -> Deploy feito"
   ]
  },
  {
   "cell_type": "code",
   "execution_count": 3,
   "metadata": {},
   "outputs": [],
   "source": [
    "import pandas as pd\n",
    "import streamlit as st #Biblioteca para criação de interface com o usuário\n",
    "import joblib\n",
    "\n",
    "import warnings\n",
    "warnings.filterwarnings('ignore')"
   ]
  },
  {
   "cell_type": "code",
   "execution_count": 4,
   "metadata": {},
   "outputs": [],
   "source": [
    "# Arquivo gerado na aula anterior:\n",
    "caminho = (r'C:\\Users\\Daniel\\Documents\\Arquivos Técnicos\\Arquivos\\Programação\\_Cursos\\Python Impressionador - Hashtag Treinamento\\33.Projeto 3 - Ciência de Dados - Aplicação de Mercado de Trabalho\\MATERIAL DE APOIO')\n",
    "#modelo = joblib.load(caminho + '\\modelo.joblib')"
   ]
  },
  {
   "cell_type": "code",
   "execution_count": 5,
   "metadata": {},
   "outputs": [],
   "source": [
    "# Características para o usuário preencher\n",
    "# Valores Numéricos:\n",
    "x_numericos = {'latitude': 0, 'longitude': 0, 'accommodates': 0, 'bathrooms': 0, 'bedrooms': 0, 'beds': 0, 'extra_people': 0,\n",
    "               'minimum_nights': 0, 'ano': 0, 'mes': 0, 'n_amenities': 0, 'host_listings_count': 0}\n",
    "\n",
    "# Valores True or False:\n",
    "x_tf = {'host_is_superhost': 0, 'instant_bookable': 0}\n",
    "\n",
    "# Valores Listas:\n",
    "x_listas = {'property_type': ['Apartment', 'Bed and breakfast', 'Condominium', 'Guest suite', 'Guesthouse', 'Hostel', 'House', 'Loft', 'Outros', 'Serviced apartment'],\n",
    "            'room_type': ['Entire home/apt', 'Hotel room', 'Private room', 'Shared room'],\n",
    "            'cancelation_policy': ['flexible', 'moderate', 'strict', 'strict_14_with_grace_period']\n",
    "            }"
   ]
  },
  {
   "cell_type": "code",
   "execution_count": 7,
   "metadata": {},
   "outputs": [
    {
     "name": "stdout",
     "output_type": "stream",
     "text": [
      "{'property_type_Apartment': 0, 'property_type_Bed and breakfast': 0, 'property_type_Condominium': 0, 'property_type_Guest suite': 0, 'property_type_Guesthouse': 0, 'property_type_Hostel': 0, 'property_type_House': 0, 'property_type_Loft': 0, 'property_type_Outros': 0, 'property_type_Serviced apartment': 0, 'room_type_Entire home/apt': 0, 'room_type_Hotel room': 0, 'room_type_Private room': 0, 'room_type_Shared room': 0, 'cancelation_policy_flexible': 0, 'cancelation_policy_moderate': 0, 'cancelation_policy_strict': 0, 'cancelation_policy_strict_14_with_grace_period': 0}\n"
     ]
    }
   ],
   "source": [
    "dicionario = {}\n",
    "for item in x_listas:\n",
    "    # item é a chave do dicionário\n",
    "    for valor in x_listas[item]:\n",
    "        # x_listas[item] são os valores do dicionário\n",
    "        dicionario[f'{item}_{valor}'] = 0\n",
    "print(dicionario)"
   ]
  },
  {
   "cell_type": "code",
   "execution_count": null,
   "metadata": {},
   "outputs": [],
   "source": [
    "for item in x_numericos:\n",
    "    if item == 'latitude' or item == 'longitude':\n",
    "        valor = st.number_input(f'{item}', step=0.00001, value=0.0, format=\"%.5f\") #%.5f Formatação com 5 casas decimais   \n",
    "    elif item == 'extra_people':\n",
    "        valor = st.number_input(f'{item}', step=0.01, value=0.0)\n",
    "    else:\n",
    "        valor = st.number_input(f'{item}', step=1, value=0)\n",
    "    x_numericos[item] = valor\n",
    "\n",
    "for item in x_tf:\n",
    "    valor = st.selectbox(f'{item}', ('Sim', 'Não'))\n",
    "    if valor == \"Sim\":\n",
    "        x_tf[item] = 1\n",
    "    else:\n",
    "        x_tf[item] = 0\n",
    "    \n",
    "    \n",
    "for item in x_listas:\n",
    "    valor = st.selectbox(f'{item}', x_listas[item])\n",
    "    dicionario[f'{item}_{valor}'] = 1\n",
    "    \n",
    "botao = st.button('Prever Valor do Imóvel')\n",
    "\n",
    "if botao:\n",
    "    dicionario.update(x_numericos)\n",
    "    dicionario.update(x_tf)\n",
    "    valores_x = pd.DataFrame(dicionario, index=[0])\n",
    "    modelo = joblib.load(caminho + '\\modelo.joblib')\n",
    "    preco = modelo.predict(valores_x)\n",
    "    st.write(preco[0])"
   ]
  }
 ],
 "metadata": {
  "kernelspec": {
   "display_name": "Python 3 (ipykernel)",
   "language": "python",
   "name": "python3"
  },
  "language_info": {
   "codemirror_mode": {
    "name": "ipython",
    "version": 3
   },
   "file_extension": ".py",
   "mimetype": "text/x-python",
   "name": "python",
   "nbconvert_exporter": "python",
   "pygments_lexer": "ipython3",
   "version": "3.9.7"
  }
 },
 "nbformat": 4,
 "nbformat_minor": 4
}
