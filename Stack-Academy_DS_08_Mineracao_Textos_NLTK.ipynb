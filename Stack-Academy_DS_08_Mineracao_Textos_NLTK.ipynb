{
 "cells": [
  {
   "cell_type": "markdown",
   "id": "04e3ae9a",
   "metadata": {},
   "source": [
    "# Stack Academy - Data Science do Zero"
   ]
  },
  {
   "cell_type": "markdown",
   "id": "838dd2f1",
   "metadata": {},
   "source": [
    "# Módulo 08 - Mineração de Textos e Natural Language Processing"
   ]
  },
  {
   "cell_type": "markdown",
   "id": "b03420a8",
   "metadata": {},
   "source": [
    "# 8.2 - Trabalhando com Strings, Manipulação de Caracteres"
   ]
  },
  {
   "cell_type": "code",
   "execution_count": 90,
   "id": "ce5dc009",
   "metadata": {},
   "outputs": [],
   "source": [
    "import warnings\n",
    "warnings.filterwarnings('ignore')\n",
    "\n",
    "caminho = r'C:\\Users\\Daniel\\Documents\\Arquivos Técnicos\\Arquivos\\Programação\\_Cursos\\Stack Academy\\#2.Data Science do Zero\\Módulo 08 - Mineração de Textos e Natural Language Processing\\materiais_apoio'"
   ]
  },
  {
   "cell_type": "code",
   "execution_count": 4,
   "id": "4c8e278b",
   "metadata": {},
   "outputs": [],
   "source": [
    "import nltk\n",
    "import re\n",
    "from nltk.corpus import wordnet"
   ]
  },
  {
   "cell_type": "markdown",
   "id": "660e4591",
   "metadata": {},
   "source": [
    "**Operações com Python**"
   ]
  },
  {
   "cell_type": "code",
   "execution_count": 5,
   "id": "f32b9aff",
   "metadata": {},
   "outputs": [
    {
     "data": {
      "text/plain": [
       "'Python eh uma linguagem fenomenal'"
      ]
     },
     "execution_count": 5,
     "metadata": {},
     "output_type": "execute_result"
    }
   ],
   "source": [
    "frase = 'Python eh uma linguagem fenomenal'\n",
    "frase"
   ]
  },
  {
   "cell_type": "code",
   "execution_count": 6,
   "id": "9404fc5d",
   "metadata": {},
   "outputs": [],
   "source": [
    "frase2 = ' para qualquer cientista de dados'"
   ]
  },
  {
   "cell_type": "code",
   "execution_count": 8,
   "id": "cbad1a5a",
   "metadata": {},
   "outputs": [
    {
     "data": {
      "text/plain": [
       "str"
      ]
     },
     "execution_count": 8,
     "metadata": {},
     "output_type": "execute_result"
    }
   ],
   "source": [
    "type(frase)"
   ]
  },
  {
   "cell_type": "code",
   "execution_count": 7,
   "id": "cd497e78",
   "metadata": {},
   "outputs": [
    {
     "data": {
      "text/plain": [
       "'Python eh uma linguagem fenomenal para qualquer cientista de dados'"
      ]
     },
     "execution_count": 7,
     "metadata": {},
     "output_type": "execute_result"
    }
   ],
   "source": [
    "frase + frase2"
   ]
  },
  {
   "cell_type": "code",
   "execution_count": 9,
   "id": "a15c1635",
   "metadata": {},
   "outputs": [
    {
     "data": {
      "text/plain": [
       "['Segunda', 'Terça', 'Quarta', 'Quinta', 'Sexta', 'Sábado']"
      ]
     },
     "execution_count": 9,
     "metadata": {},
     "output_type": "execute_result"
    }
   ],
   "source": [
    "['Segunda','Terça','Quarta'] + ['Quinta','Sexta','Sábado']"
   ]
  },
  {
   "cell_type": "code",
   "execution_count": 10,
   "id": "f24e7776",
   "metadata": {},
   "outputs": [
    {
     "data": {
      "text/plain": [
       "['Segunda', 'Terça', 'Quarta', 'Quinta-feira']"
      ]
     },
     "execution_count": 10,
     "metadata": {},
     "output_type": "execute_result"
    }
   ],
   "source": [
    "lista = ['Segunda','Terça','Quarta']\n",
    "lista.append('Quinta-feira')\n",
    "lista"
   ]
  },
  {
   "cell_type": "code",
   "execution_count": 13,
   "id": "1c7d0244",
   "metadata": {},
   "outputs": [
    {
     "data": {
      "text/plain": [
       "'Python eh uma linguagem'"
      ]
     },
     "execution_count": 13,
     "metadata": {},
     "output_type": "execute_result"
    }
   ],
   "source": [
    "frase[0:23]"
   ]
  },
  {
   "cell_type": "code",
   "execution_count": 16,
   "id": "fcc6971f",
   "metadata": {},
   "outputs": [
    {
     "data": {
      "text/plain": [
       "['Quarta', 'Quinta-feira']"
      ]
     },
     "execution_count": 16,
     "metadata": {},
     "output_type": "execute_result"
    }
   ],
   "source": [
    "lista[2:4]"
   ]
  },
  {
   "cell_type": "markdown",
   "id": "65c8c1d4",
   "metadata": {},
   "source": [
    "**Objeto String**"
   ]
  },
  {
   "cell_type": "code",
   "execution_count": 17,
   "id": "298a1f91",
   "metadata": {},
   "outputs": [
    {
     "data": {
      "text/plain": [
       "4"
      ]
     },
     "execution_count": 17,
     "metadata": {},
     "output_type": "execute_result"
    }
   ],
   "source": [
    "len(lista)"
   ]
  },
  {
   "cell_type": "code",
   "execution_count": 22,
   "id": "cb624e3b",
   "metadata": {},
   "outputs": [],
   "source": [
    "frase2='Deus Salve a Rainha'"
   ]
  },
  {
   "cell_type": "code",
   "execution_count": 23,
   "id": "6c35e90f",
   "metadata": {},
   "outputs": [
    {
     "data": {
      "text/plain": [
       "'deus salve a rainha'"
      ]
     },
     "execution_count": 23,
     "metadata": {},
     "output_type": "execute_result"
    }
   ],
   "source": [
    "frase2 = frase2.lower()\n",
    "frase2"
   ]
  },
  {
   "cell_type": "code",
   "execution_count": 24,
   "id": "bb56543a",
   "metadata": {},
   "outputs": [
    {
     "data": {
      "text/plain": [
       "'DEUS SALVE A RAINHA'"
      ]
     },
     "execution_count": 24,
     "metadata": {},
     "output_type": "execute_result"
    }
   ],
   "source": [
    "frase2 = frase2.upper()\n",
    "frase2"
   ]
  },
  {
   "cell_type": "code",
   "execution_count": 25,
   "id": "7eee1eab",
   "metadata": {},
   "outputs": [
    {
     "data": {
      "text/plain": [
       "1"
      ]
     },
     "execution_count": 25,
     "metadata": {},
     "output_type": "execute_result"
    }
   ],
   "source": [
    "frase2.count('RAINHA')"
   ]
  },
  {
   "cell_type": "code",
   "execution_count": 26,
   "id": "ae32e307",
   "metadata": {},
   "outputs": [
    {
     "data": {
      "text/plain": [
       "19"
      ]
     },
     "execution_count": 26,
     "metadata": {},
     "output_type": "execute_result"
    }
   ],
   "source": [
    "len(frase2)"
   ]
  },
  {
   "cell_type": "markdown",
   "id": "4399a8d5",
   "metadata": {},
   "source": [
    "# 8.3 - Trabalhando com Strings, Concatenação de Listas e Expressões Regulares"
   ]
  },
  {
   "cell_type": "markdown",
   "id": "2b511568",
   "metadata": {},
   "source": [
    "**Varrer Strings**"
   ]
  },
  {
   "cell_type": "code",
   "execution_count": 28,
   "id": "a20c39a6",
   "metadata": {},
   "outputs": [
    {
     "data": {
      "text/plain": [
       "13"
      ]
     },
     "execution_count": 28,
     "metadata": {},
     "output_type": "execute_result"
    }
   ],
   "source": [
    "frase2.index('RAINHA')"
   ]
  },
  {
   "cell_type": "code",
   "execution_count": 30,
   "id": "5b7fee99",
   "metadata": {},
   "outputs": [
    {
     "data": {
      "text/plain": [
       "'RAINHA'"
      ]
     },
     "execution_count": 30,
     "metadata": {},
     "output_type": "execute_result"
    }
   ],
   "source": [
    "frase2[13:35]"
   ]
  },
  {
   "cell_type": "markdown",
   "id": "8e804578",
   "metadata": {},
   "source": [
    "**Join**"
   ]
  },
  {
   "cell_type": "code",
   "execution_count": 31,
   "id": "19b6167c",
   "metadata": {},
   "outputs": [
    {
     "data": {
      "text/plain": [
       "'hot dog'"
      ]
     },
     "execution_count": 31,
     "metadata": {},
     "output_type": "execute_result"
    }
   ],
   "source": [
    "lista = ['hot','dog']\n",
    "' '.join(lista)"
   ]
  },
  {
   "cell_type": "markdown",
   "id": "c0e67cfc",
   "metadata": {},
   "source": [
    "**Expressões Regulares**"
   ]
  },
  {
   "cell_type": "code",
   "execution_count": 36,
   "id": "19429bbb",
   "metadata": {},
   "outputs": [
    {
     "data": {
      "text/plain": [
       "'O numero da nossa casa ##, apto # ###'"
      ]
     },
     "execution_count": 36,
     "metadata": {},
     "output_type": "execute_result"
    }
   ],
   "source": [
    "texto = 'O numero da nossa casa 56, apto - 306'\n",
    "re.sub('[-|0-9]','#', texto)"
   ]
  },
  {
   "cell_type": "code",
   "execution_count": 37,
   "id": "047d76aa",
   "metadata": {},
   "outputs": [
    {
     "data": {
      "text/plain": [
       "'im back baby Data Science '"
      ]
     },
     "execution_count": 37,
     "metadata": {},
     "output_type": "execute_result"
    }
   ],
   "source": [
    "texto = \"i'm back baby!!!, Data Science ??;;;()\"\n",
    "re.sub(r'[-./?!,\":;()\\']','',texto)"
   ]
  },
  {
   "cell_type": "markdown",
   "id": "2e823098",
   "metadata": {},
   "source": [
    "# 8.5 - Instalando o NLTK, Baixando base de dados de corpus, Tokenation, Freqüência de tokens"
   ]
  },
  {
   "cell_type": "markdown",
   "id": "0411f769",
   "metadata": {},
   "source": [
    "**Trabalhando com a NLTK**"
   ]
  },
  {
   "cell_type": "code",
   "execution_count": null,
   "id": "4d72a9ff",
   "metadata": {},
   "outputs": [],
   "source": [
    "!pip install nltk"
   ]
  },
  {
   "cell_type": "markdown",
   "id": "fbf65588",
   "metadata": {},
   "source": [
    "**Faça o download da base de dados do NLTK**"
   ]
  },
  {
   "cell_type": "markdown",
   "id": "01ed4308",
   "metadata": {},
   "source": [
    "* Abra o terminal\n",
    "* Abra o console Python\n",
    "* importe a biblioteca **NLTK**\n",
    "* execute o comando **nltk.download()**"
   ]
  },
  {
   "cell_type": "code",
   "execution_count": 38,
   "id": "891aa17f",
   "metadata": {},
   "outputs": [
    {
     "data": {
      "text/plain": [
       "['Python', 'eh', 'uma', 'linguagem', 'fenomenal']"
      ]
     },
     "execution_count": 38,
     "metadata": {},
     "output_type": "execute_result"
    }
   ],
   "source": [
    "# Tokenização de palavras\n",
    "\n",
    "frase = 'Python eh uma linguagem fenomenal'\n",
    "\n",
    "palavras = nltk.word_tokenize(frase)\n",
    "palavras"
   ]
  },
  {
   "cell_type": "code",
   "execution_count": 39,
   "id": "563bb687",
   "metadata": {},
   "outputs": [
    {
     "data": {
      "text/plain": [
       "list"
      ]
     },
     "execution_count": 39,
     "metadata": {},
     "output_type": "execute_result"
    }
   ],
   "source": [
    "type(palavras)"
   ]
  },
  {
   "cell_type": "code",
   "execution_count": 40,
   "id": "cef75bed",
   "metadata": {},
   "outputs": [
    {
     "data": {
      "text/plain": [
       "FreqDist({'six': 3, 'Iron Maiden': 2, 'the': 1, 'Best': 1, 'forever': 1})"
      ]
     },
     "execution_count": 40,
     "metadata": {},
     "output_type": "execute_result"
    }
   ],
   "source": [
    "# Frequencia de palavras\n",
    "\n",
    "from nltk import FreqDist\n",
    "\n",
    "frequencia = FreqDist(['six','six','six','Iron Maiden','the','Best','Iron Maiden','forever'])\n",
    "frequencia"
   ]
  },
  {
   "cell_type": "code",
   "execution_count": 41,
   "id": "98b12f4f",
   "metadata": {},
   "outputs": [
    {
     "name": "stdout",
     "output_type": "stream",
     "text": [
      "dict_values([3, 2, 1, 1, 1])\n"
     ]
    }
   ],
   "source": [
    "print (frequencia.values())"
   ]
  },
  {
   "cell_type": "code",
   "execution_count": 42,
   "id": "2df49d69",
   "metadata": {},
   "outputs": [
    {
     "data": {
      "text/plain": [
       "'six'"
      ]
     },
     "execution_count": 42,
     "metadata": {},
     "output_type": "execute_result"
    }
   ],
   "source": [
    "frequencia.max()"
   ]
  },
  {
   "cell_type": "code",
   "execution_count": 43,
   "id": "bf1fb8c7",
   "metadata": {},
   "outputs": [
    {
     "data": {
      "text/plain": [
       "dict_items([('six', 3), ('Iron Maiden', 2), ('the', 1), ('Best', 1), ('forever', 1)])"
      ]
     },
     "execution_count": 43,
     "metadata": {},
     "output_type": "execute_result"
    }
   ],
   "source": [
    "frequencia.items()"
   ]
  },
  {
   "cell_type": "markdown",
   "id": "cbf8598c",
   "metadata": {},
   "source": [
    "**Plota a Frequencia das palavras na Frase**"
   ]
  },
  {
   "cell_type": "code",
   "execution_count": 45,
   "id": "21c0c952",
   "metadata": {},
   "outputs": [
    {
     "data": {
      "image/png": "[encoded data removed]",
      "text/plain": [
       "<Figure size 432x288 with 1 Axes>"
      ]
     },
     "metadata": {
      "needs_background": "light"
     },
     "output_type": "display_data"
    }
   ],
   "source": [
    "%matplotlib inline\n",
    "\n",
    "import numpy as np\n",
    "import matplotlib.pyplot as plt\n",
    "\n",
    "palavras = frequencia.keys()\n",
    "y_pos = np.arange(len(palavras))\n",
    "contagem = frequencia.values()\n",
    "\n",
    "plt.bar(y_pos, contagem, align='center', alpha=0.5)\n",
    "plt.xticks(y_pos, palavras)\n",
    "plt.ylabel('Frequencia')\n",
    "plt.title('Frequencia das palavras na frase')\n",
    "\n",
    "plt.show()"
   ]
  },
  {
   "cell_type": "markdown",
   "id": "eac52c00",
   "metadata": {},
   "source": [
    "# 8.6 - Conhecendo a Técnica de Stemming e Aplicando esse Recurso nos Dados"
   ]
  },
  {
   "cell_type": "markdown",
   "id": "3f70612f",
   "metadata": {},
   "source": [
    "**Pre Processing**"
   ]
  },
  {
   "cell_type": "markdown",
   "id": "f8872274",
   "metadata": {},
   "source": [
    "## Stemming"
   ]
  },
  {
   "cell_type": "markdown",
   "id": "56f12dd6",
   "metadata": {},
   "source": [
    "* Reduz a palavra na sua forma radical\n",
    "* Usado para fazer pré-processamento de dados"
   ]
  },
  {
   "cell_type": "code",
   "execution_count": 46,
   "id": "61514a4c",
   "metadata": {},
   "outputs": [],
   "source": [
    "# Stemming em Portugues\n",
    "# Instanciando Stemming\n",
    "stemmer = nltk.stem.RSLPStemmer()"
   ]
  },
  {
   "cell_type": "code",
   "execution_count": 47,
   "id": "58fd8e13",
   "metadata": {},
   "outputs": [
    {
     "data": {
      "text/plain": [
       "'trabalh'"
      ]
     },
     "execution_count": 47,
     "metadata": {},
     "output_type": "execute_result"
    }
   ],
   "source": [
    "stemmer.stem('Trabalhou')"
   ]
  },
  {
   "cell_type": "code",
   "execution_count": 48,
   "id": "2c3c4e84",
   "metadata": {},
   "outputs": [
    {
     "data": {
      "text/plain": [
       "'trabalh'"
      ]
     },
     "execution_count": 48,
     "metadata": {},
     "output_type": "execute_result"
    }
   ],
   "source": [
    "stemmer.stem('Trabalhava')"
   ]
  },
  {
   "cell_type": "code",
   "execution_count": 49,
   "id": "913233d3",
   "metadata": {},
   "outputs": [
    {
     "data": {
      "text/plain": [
       "'trabalh'"
      ]
     },
     "execution_count": 49,
     "metadata": {},
     "output_type": "execute_result"
    }
   ],
   "source": [
    "stemmer.stem('Trabalha')"
   ]
  },
  {
   "cell_type": "code",
   "execution_count": 50,
   "id": "8dae3dd8",
   "metadata": {},
   "outputs": [
    {
     "data": {
      "text/plain": [
       "'carr'"
      ]
     },
     "execution_count": 50,
     "metadata": {},
     "output_type": "execute_result"
    }
   ],
   "source": [
    "stemmer.stem('Carro')"
   ]
  },
  {
   "cell_type": "code",
   "execution_count": 51,
   "id": "ccfb6a4e",
   "metadata": {},
   "outputs": [
    {
     "data": {
      "text/plain": [
       "'corr'"
      ]
     },
     "execution_count": 51,
     "metadata": {},
     "output_type": "execute_result"
    }
   ],
   "source": [
    "stemmer.stem('correu')"
   ]
  },
  {
   "cell_type": "code",
   "execution_count": 52,
   "id": "5027f139",
   "metadata": {},
   "outputs": [
    {
     "data": {
      "text/plain": [
       "'corr'"
      ]
     },
     "execution_count": 52,
     "metadata": {},
     "output_type": "execute_result"
    }
   ],
   "source": [
    "stemmer.stem('corrida')"
   ]
  },
  {
   "cell_type": "code",
   "execution_count": 53,
   "id": "84edd857",
   "metadata": {},
   "outputs": [],
   "source": [
    "#Stemming em Ingles\n",
    "stemmer = nltk.stem.SnowballStemmer(\"english\")"
   ]
  },
  {
   "cell_type": "code",
   "execution_count": 54,
   "id": "9c22fe2e",
   "metadata": {},
   "outputs": [
    {
     "data": {
      "text/plain": [
       "'run'"
      ]
     },
     "execution_count": 54,
     "metadata": {},
     "output_type": "execute_result"
    }
   ],
   "source": [
    "stemmer.stem('running')"
   ]
  },
  {
   "cell_type": "code",
   "execution_count": 55,
   "id": "2b03f223",
   "metadata": {},
   "outputs": [
    {
     "data": {
      "text/plain": [
       "'run'"
      ]
     },
     "execution_count": 55,
     "metadata": {},
     "output_type": "execute_result"
    }
   ],
   "source": [
    "stemmer.stem('run')"
   ]
  },
  {
   "cell_type": "code",
   "execution_count": 56,
   "id": "10f1904e",
   "metadata": {},
   "outputs": [
    {
     "data": {
      "text/plain": [
       "'have'"
      ]
     },
     "execution_count": 56,
     "metadata": {},
     "output_type": "execute_result"
    }
   ],
   "source": [
    "stemmer.stem('have')"
   ]
  },
  {
   "cell_type": "code",
   "execution_count": 57,
   "id": "6b01f18b",
   "metadata": {},
   "outputs": [
    {
     "data": {
      "text/plain": [
       "'have'"
      ]
     },
     "execution_count": 57,
     "metadata": {},
     "output_type": "execute_result"
    }
   ],
   "source": [
    "stemmer.stem('having')"
   ]
  },
  {
   "cell_type": "markdown",
   "id": "17eb39e0",
   "metadata": {},
   "source": [
    "**Função para aplicar Stemming**"
   ]
  },
  {
   "cell_type": "code",
   "execution_count": 58,
   "id": "f890a7ba",
   "metadata": {},
   "outputs": [],
   "source": [
    "def Stemming(instancia):\n",
    "    stemmer = nltk.stem.RSLPStemmer()\n",
    "    palavras=[]\n",
    "    for w in instancia.split():\n",
    "        palavras.append(stemmer.stem(w))\n",
    "    return (\" \".join(palavras))"
   ]
  },
  {
   "cell_type": "code",
   "execution_count": 59,
   "id": "b0301170",
   "metadata": {},
   "outputs": [
    {
     "data": {
      "text/plain": [
       "'ele trabalh frequ no projet de criaca de nov produt'"
      ]
     },
     "execution_count": 59,
     "metadata": {},
     "output_type": "execute_result"
    }
   ],
   "source": [
    "Stemming('Ele trabalhava frequentemente no projeto de criacao de novos produtos')"
   ]
  },
  {
   "cell_type": "markdown",
   "id": "ad2285c1",
   "metadata": {},
   "source": [
    "# 8.7 - Conhecendo a técnica de Lemmatization e Stopwords e aplicando esses Recursos nos Dados"
   ]
  },
  {
   "cell_type": "markdown",
   "id": "9f7f45f0",
   "metadata": {},
   "source": [
    "## Lemmatization"
   ]
  },
  {
   "cell_type": "markdown",
   "id": "64a1a352",
   "metadata": {},
   "source": [
    "* Desflexiona uma palavra para determinar o seu 'Lemma'\n",
    "* Técnica usada para fazer pré-processamento de dados."
   ]
  },
  {
   "cell_type": "code",
   "execution_count": 60,
   "id": "884d3b00",
   "metadata": {},
   "outputs": [],
   "source": [
    "from nltk.stem import WordNetLemmatizer"
   ]
  },
  {
   "cell_type": "code",
   "execution_count": 61,
   "id": "80b4adc5",
   "metadata": {},
   "outputs": [],
   "source": [
    "# Instanciando\n",
    "lemmatizer = WordNetLemmatizer()"
   ]
  },
  {
   "cell_type": "code",
   "execution_count": 62,
   "id": "a0c2653b",
   "metadata": {},
   "outputs": [
    {
     "name": "stdout",
     "output_type": "stream",
     "text": [
      "cat\n"
     ]
    }
   ],
   "source": [
    "print (lemmatizer.lemmatize(\"cats\"))"
   ]
  },
  {
   "cell_type": "code",
   "execution_count": 63,
   "id": "0196919f",
   "metadata": {},
   "outputs": [
    {
     "data": {
      "text/plain": [
       "'be'"
      ]
     },
     "execution_count": 63,
     "metadata": {},
     "output_type": "execute_result"
    }
   ],
   "source": [
    "# Busca um lemma para 'is' do tipo verbo\n",
    "lemmatizer.lemmatize('is', pos='v')"
   ]
  },
  {
   "cell_type": "code",
   "execution_count": 64,
   "id": "5288564c",
   "metadata": {},
   "outputs": [
    {
     "data": {
      "text/plain": [
       "'be'"
      ]
     },
     "execution_count": 64,
     "metadata": {},
     "output_type": "execute_result"
    }
   ],
   "source": [
    "lemmatizer.lemmatize('are', pos='v')"
   ]
  },
  {
   "cell_type": "code",
   "execution_count": 65,
   "id": "96dd205e",
   "metadata": {},
   "outputs": [
    {
     "name": "stdout",
     "output_type": "stream",
     "text": [
      "good\n"
     ]
    }
   ],
   "source": [
    "# Busca um adjetivo para 'better'\n",
    "print (lemmatizer.lemmatize(\"better\", pos=\"a\"))"
   ]
  },
  {
   "cell_type": "code",
   "execution_count": 66,
   "id": "9d2738d4",
   "metadata": {},
   "outputs": [
    {
     "name": "stdout",
     "output_type": "stream",
     "text": [
      "best\n"
     ]
    }
   ],
   "source": [
    "print (lemmatizer.lemmatize(\"best\", pos=\"a\"))"
   ]
  },
  {
   "cell_type": "code",
   "execution_count": 67,
   "id": "eeccd4be",
   "metadata": {},
   "outputs": [
    {
     "name": "stdout",
     "output_type": "stream",
     "text": [
      "running\n"
     ]
    }
   ],
   "source": [
    "print (lemmatizer.lemmatize(\"running\", pos=\"n\"))"
   ]
  },
  {
   "cell_type": "code",
   "execution_count": 68,
   "id": "16dbcf34",
   "metadata": {},
   "outputs": [
    {
     "name": "stdout",
     "output_type": "stream",
     "text": [
      "run\n"
     ]
    }
   ],
   "source": [
    "print (lemmatizer.lemmatize(\"running\", pos=\"v\"))"
   ]
  },
  {
   "cell_type": "code",
   "execution_count": 69,
   "id": "e84e8dbe",
   "metadata": {},
   "outputs": [
    {
     "name": "stdout",
     "output_type": "stream",
     "text": [
      "running\n"
     ]
    }
   ],
   "source": [
    "print (lemmatizer.lemmatize(\"running\", pos=\"a\"))"
   ]
  },
  {
   "cell_type": "markdown",
   "id": "8a91f994",
   "metadata": {},
   "source": [
    "## Stopwords"
   ]
  },
  {
   "cell_type": "markdown",
   "id": "51ac368b",
   "metadata": {},
   "source": [
    "* Palavras ou termos que são muito usadas mas normalmente não tem nenhum significado como artigos: 'é','o','a'\n",
    "* Técnica usada para pré-processamento de dados"
   ]
  },
  {
   "cell_type": "code",
   "execution_count": 70,
   "id": "9c4b989b",
   "metadata": {},
   "outputs": [],
   "source": [
    "stopwords = nltk.corpus.stopwords.words('portuguese')"
   ]
  },
  {
   "cell_type": "code",
   "execution_count": 71,
   "id": "bacfd019",
   "metadata": {},
   "outputs": [
    {
     "data": {
      "text/plain": [
       "['de',\n",
       " 'a',\n",
       " 'o',\n",
       " 'que',\n",
       " 'e',\n",
       " 'é',\n",
       " 'do',\n",
       " 'da',\n",
       " 'em',\n",
       " 'um',\n",
       " 'para',\n",
       " 'com',\n",
       " 'não',\n",
       " 'uma',\n",
       " 'os',\n",
       " 'no',\n",
       " 'se',\n",
       " 'na',\n",
       " 'por',\n",
       " 'mais',\n",
       " 'as',\n",
       " 'dos',\n",
       " 'como',\n",
       " 'mas',\n",
       " 'ao',\n",
       " 'ele',\n",
       " 'das',\n",
       " 'à',\n",
       " 'seu',\n",
       " 'sua',\n",
       " 'ou',\n",
       " 'quando',\n",
       " 'muito',\n",
       " 'nos',\n",
       " 'já',\n",
       " 'eu',\n",
       " 'também',\n",
       " 'só',\n",
       " 'pelo',\n",
       " 'pela',\n",
       " 'até',\n",
       " 'isso',\n",
       " 'ela',\n",
       " 'entre',\n",
       " 'depois',\n",
       " 'sem',\n",
       " 'mesmo',\n",
       " 'aos',\n",
       " 'seus',\n",
       " 'quem',\n",
       " 'nas',\n",
       " 'me',\n",
       " 'esse',\n",
       " 'eles',\n",
       " 'você',\n",
       " 'essa',\n",
       " 'num',\n",
       " 'nem',\n",
       " 'suas',\n",
       " 'meu',\n",
       " 'às',\n",
       " 'minha',\n",
       " 'numa',\n",
       " 'pelos',\n",
       " 'elas',\n",
       " 'qual',\n",
       " 'nós',\n",
       " 'lhe',\n",
       " 'deles',\n",
       " 'essas',\n",
       " 'esses',\n",
       " 'pelas',\n",
       " 'este',\n",
       " 'dele',\n",
       " 'tu',\n",
       " 'te',\n",
       " 'vocês',\n",
       " 'vos',\n",
       " 'lhes',\n",
       " 'meus',\n",
       " 'minhas',\n",
       " 'teu',\n",
       " 'tua',\n",
       " 'teus',\n",
       " 'tuas',\n",
       " 'nosso',\n",
       " 'nossa',\n",
       " 'nossos',\n",
       " 'nossas',\n",
       " 'dela',\n",
       " 'delas',\n",
       " 'esta',\n",
       " 'estes',\n",
       " 'estas',\n",
       " 'aquele',\n",
       " 'aquela',\n",
       " 'aqueles',\n",
       " 'aquelas',\n",
       " 'isto',\n",
       " 'aquilo',\n",
       " 'estou',\n",
       " 'está',\n",
       " 'estamos',\n",
       " 'estão',\n",
       " 'estive',\n",
       " 'esteve',\n",
       " 'estivemos',\n",
       " 'estiveram',\n",
       " 'estava',\n",
       " 'estávamos',\n",
       " 'estavam',\n",
       " 'estivera',\n",
       " 'estivéramos',\n",
       " 'esteja',\n",
       " 'estejamos',\n",
       " 'estejam',\n",
       " 'estivesse',\n",
       " 'estivéssemos',\n",
       " 'estivessem',\n",
       " 'estiver',\n",
       " 'estivermos',\n",
       " 'estiverem',\n",
       " 'hei',\n",
       " 'há',\n",
       " 'havemos',\n",
       " 'hão',\n",
       " 'houve',\n",
       " 'houvemos',\n",
       " 'houveram',\n",
       " 'houvera',\n",
       " 'houvéramos',\n",
       " 'haja',\n",
       " 'hajamos',\n",
       " 'hajam',\n",
       " 'houvesse',\n",
       " 'houvéssemos',\n",
       " 'houvessem',\n",
       " 'houver',\n",
       " 'houvermos',\n",
       " 'houverem',\n",
       " 'houverei',\n",
       " 'houverá',\n",
       " 'houveremos',\n",
       " 'houverão',\n",
       " 'houveria',\n",
       " 'houveríamos',\n",
       " 'houveriam',\n",
       " 'sou',\n",
       " 'somos',\n",
       " 'são',\n",
       " 'era',\n",
       " 'éramos',\n",
       " 'eram',\n",
       " 'fui',\n",
       " 'foi',\n",
       " 'fomos',\n",
       " 'foram',\n",
       " 'fora',\n",
       " 'fôramos',\n",
       " 'seja',\n",
       " 'sejamos',\n",
       " 'sejam',\n",
       " 'fosse',\n",
       " 'fôssemos',\n",
       " 'fossem',\n",
       " 'for',\n",
       " 'formos',\n",
       " 'forem',\n",
       " 'serei',\n",
       " 'será',\n",
       " 'seremos',\n",
       " 'serão',\n",
       " 'seria',\n",
       " 'seríamos',\n",
       " 'seriam',\n",
       " 'tenho',\n",
       " 'tem',\n",
       " 'temos',\n",
       " 'tém',\n",
       " 'tinha',\n",
       " 'tínhamos',\n",
       " 'tinham',\n",
       " 'tive',\n",
       " 'teve',\n",
       " 'tivemos',\n",
       " 'tiveram',\n",
       " 'tivera',\n",
       " 'tivéramos',\n",
       " 'tenha',\n",
       " 'tenhamos',\n",
       " 'tenham',\n",
       " 'tivesse',\n",
       " 'tivéssemos',\n",
       " 'tivessem',\n",
       " 'tiver',\n",
       " 'tivermos',\n",
       " 'tiverem',\n",
       " 'terei',\n",
       " 'terá',\n",
       " 'teremos',\n",
       " 'terão',\n",
       " 'teria',\n",
       " 'teríamos',\n",
       " 'teriam']"
      ]
     },
     "execution_count": 71,
     "metadata": {},
     "output_type": "execute_result"
    }
   ],
   "source": [
    "stopwords"
   ]
  },
  {
   "cell_type": "code",
   "execution_count": 72,
   "id": "2ffd07e1",
   "metadata": {},
   "outputs": [],
   "source": [
    "def RemoviStopWords(instancia):\n",
    "    instancia = instancia.lower()\n",
    "    stopwords = set(nltk.corpus.stopwords.words('portuguese'))\n",
    "    palavras = [i for i in instancia.split() if not i in stopwords]\n",
    "    return (\" \".join(palavras))"
   ]
  },
  {
   "cell_type": "code",
   "execution_count": 73,
   "id": "be3c2e3a",
   "metadata": {},
   "outputs": [],
   "source": [
    "sentenca1 = 'Ola mundo, estou trabalhando com textos com o artigo do minerando dados'"
   ]
  },
  {
   "cell_type": "code",
   "execution_count": 74,
   "id": "1fd845a4",
   "metadata": {},
   "outputs": [
    {
     "data": {
      "text/plain": [
       "'ola mundo, trabalhando textos artigo minerando dados'"
      ]
     },
     "execution_count": 74,
     "metadata": {},
     "output_type": "execute_result"
    }
   ],
   "source": [
    "RemoviStopWords(sentenca1)"
   ]
  },
  {
   "cell_type": "code",
   "execution_count": 75,
   "id": "a5e54de1",
   "metadata": {},
   "outputs": [],
   "source": [
    "sentenca2 = 'Seu trabalho de NLP será super interessante com as aulas de Mineração de Textos'"
   ]
  },
  {
   "cell_type": "code",
   "execution_count": 76,
   "id": "44d6075b",
   "metadata": {},
   "outputs": [
    {
     "data": {
      "text/plain": [
       "'trabalho nlp super interessante aulas mineração textos'"
      ]
     },
     "execution_count": 76,
     "metadata": {},
     "output_type": "execute_result"
    }
   ],
   "source": [
    "RemoviStopWords(sentenca2)"
   ]
  },
  {
   "cell_type": "markdown",
   "id": "abf9ae5b",
   "metadata": {},
   "source": [
    "**Importante**: Use com moderação e sempre teste os resultados."
   ]
  },
  {
   "cell_type": "markdown",
   "id": "5ffbfddd",
   "metadata": {},
   "source": [
    "# 8.8 - Conhecendo a técnica de Part of Speech e aplicando essa Técnica utilizando a NLTK"
   ]
  },
  {
   "cell_type": "markdown",
   "id": "3f69cabb",
   "metadata": {},
   "source": [
    "## Part of Speech"
   ]
  },
  {
   "cell_type": "markdown",
   "id": "e0e7de86",
   "metadata": {},
   "source": [
    "* Part of Speech: Na tradução literal seria: *Partes da Fala*.\n",
    "* Consistem em identificar a **função gramatical** das palavras em um texto.\n",
    "* A função gramatical muda conforme é empregada a palavra no texto."
   ]
  },
  {
   "cell_type": "code",
   "execution_count": 77,
   "id": "74789016",
   "metadata": {},
   "outputs": [
    {
     "data": {
      "text/plain": [
       "[('O', 'NNP'),\n",
       " ('blog', 'NN'),\n",
       " ('Minerando', 'NNP'),\n",
       " ('Dados', 'NNP'),\n",
       " ('é', 'NNP'),\n",
       " ('muito', 'NN'),\n",
       " ('bom', 'NN')]"
      ]
     },
     "execution_count": 77,
     "metadata": {},
     "output_type": "execute_result"
    }
   ],
   "source": [
    "text = nltk.word_tokenize('O blog Minerando Dados é muito bom')\n",
    "nltk.pos_tag(text)\n",
    "\n",
    "# NNP: Substantivo Próprio\n",
    "# NN: Substantivo Comum"
   ]
  },
  {
   "cell_type": "code",
   "execution_count": null,
   "id": "b3ee0c8c",
   "metadata": {},
   "outputs": [],
   "source": [
    "nltk.help.upenn_tagset('NNP')"
   ]
  },
  {
   "cell_type": "code",
   "execution_count": 79,
   "id": "7becf715",
   "metadata": {},
   "outputs": [
    {
     "data": {
      "text/plain": [
       "[('João', 'NNP'),\n",
       " ('Comprou', 'NNP'),\n",
       " ('um', 'JJ'),\n",
       " ('presente', 'NN'),\n",
       " ('muito', 'FW'),\n",
       " ('legal', 'JJ')]"
      ]
     },
     "execution_count": 79,
     "metadata": {},
     "output_type": "execute_result"
    }
   ],
   "source": [
    "text = nltk.word_tokenize('João Comprou um presente muito legal')\n",
    "nltk.pos_tag(text)\n",
    "\n",
    "# NNP: Substantivo Próprio\n",
    "# NN: Substantivo Comum\n",
    "# JJ: Adjetivo ou numeral ordinal\n",
    "# FW: Palavra estrangeira"
   ]
  },
  {
   "cell_type": "code",
   "execution_count": null,
   "id": "72ad4687",
   "metadata": {},
   "outputs": [],
   "source": [
    "nltk.help.upenn_tagset('JJ')"
   ]
  },
  {
   "cell_type": "code",
   "execution_count": null,
   "id": "85af5757",
   "metadata": {},
   "outputs": [],
   "source": [
    "nltk.help.upenn_tagset('N')"
   ]
  },
  {
   "cell_type": "code",
   "execution_count": null,
   "id": "0a844515",
   "metadata": {},
   "outputs": [],
   "source": [
    "nltk.help.upenn_tagset('VB')"
   ]
  },
  {
   "cell_type": "code",
   "execution_count": 81,
   "id": "9f057d03",
   "metadata": {},
   "outputs": [
    {
     "data": {
      "text/plain": [
       "[('My', 'PRP$'),\n",
       " ('print', 'NN'),\n",
       " ('is', 'VBZ'),\n",
       " ('very', 'RB'),\n",
       " ('good', 'JJ')]"
      ]
     },
     "execution_count": 81,
     "metadata": {},
     "output_type": "execute_result"
    }
   ],
   "source": [
    "text = nltk.word_tokenize(\"My print is very good\")\n",
    "nltk.pos_tag(text)\n",
    "\n",
    "# NNP: Substantivo Próprio\n",
    "# NN: Substantivo Comum\n",
    "# JJ: Adjetivo ou numeral ordinal\n",
    "# FW: Palavra estrangeira\n",
    "# PRP$: Pronome Possessivo\n",
    "# VBZ: Verbo\n",
    "# RB: Adverbio"
   ]
  },
  {
   "cell_type": "code",
   "execution_count": null,
   "id": "6c799cc3",
   "metadata": {},
   "outputs": [],
   "source": [
    "nltk.help.upenn_tagset('DT')"
   ]
  },
  {
   "cell_type": "code",
   "execution_count": 82,
   "id": "7461fa67",
   "metadata": {},
   "outputs": [
    {
     "data": {
      "text/plain": [
       "[('Hi', 'NNP'),\n",
       " (',', ','),\n",
       " ('my', 'PRP$'),\n",
       " ('name', 'NN'),\n",
       " ('is', 'VBZ'),\n",
       " ('Rodrigo', 'NNP'),\n",
       " (',', ','),\n",
       " ('I', 'PRP'),\n",
       " ('want', 'VBP'),\n",
       " ('to', 'TO'),\n",
       " ('print', 'VB'),\n",
       " ('the', 'DT'),\n",
       " ('outstanding', 'JJ'),\n",
       " ('invoice', 'NN')]"
      ]
     },
     "execution_count": 82,
     "metadata": {},
     "output_type": "execute_result"
    }
   ],
   "source": [
    "text = nltk.word_tokenize(\"Hi, my name is Rodrigo, I want to print the outstanding invoice\")\n",
    "nltk.pos_tag(text)\n",
    "\n",
    "# NNP: Substantivo Próprio\n",
    "# NN: Substantivo Comum\n",
    "# JJ: Adjetivo ou numeral ordinal\n",
    "# FW: Palavra estrangeira\n",
    "# PRP$: Pronome Possessivo\n",
    "# PRP: Pronome Pessoal\n",
    "# VBZ: Verbo\n",
    "# VBP: Verbo, Presente Tense\n",
    "# RB: Adverbio\n",
    "# TO: Preposição\n",
    "# DT: Determiner"
   ]
  },
  {
   "cell_type": "markdown",
   "id": "52e8a973",
   "metadata": {},
   "source": [
    "* Part of Speech é uma técnica dificil devido as funções gramaticais de cada idioma.\n",
    "* Existem projetos que utilizam Machine Learning para implementar POS."
   ]
  },
  {
   "cell_type": "markdown",
   "id": "af7eda27",
   "metadata": {},
   "source": [
    "# 8.9 - Conhecendo o Dicionário Wordnet, Utilizando synsets, hyponyms, hypernyms, part_meronyms"
   ]
  },
  {
   "cell_type": "markdown",
   "id": "b2a10875",
   "metadata": {},
   "source": [
    "## Trabalhando com Wordnet"
   ]
  },
  {
   "cell_type": "markdown",
   "id": "1ddd101f",
   "metadata": {},
   "source": [
    "* O Wordnet é um grande banco de dados léxico de substantivos, verbos, adjetivos e advérbios.\n",
    "* Essas palavras são agrupadas em conjuntos de sinônimos, cada um expressando um **conceito distinto**.\n",
    "* Os sinônimos são interligados pelo seu significado semântico conceitual e suas relações léxicas.\n",
    "* O Wordnet é uma grande rede de **conceitos interligados** e é amplamente utilizada em pesquisas no mundo todo.\n",
    "* O NLTK contém uma interface de acesso ao Wordnet.\n",
    "\n",
    "**Obs:** \n",
    "* Existem diversas variações do Wordnet para outros idiomas. \n",
    "* Para português ainda existem poucas iniciativas"
   ]
  },
  {
   "cell_type": "markdown",
   "id": "bfeec2a1",
   "metadata": {},
   "source": [
    "**Consulta um sinônimo para a palavra '*bike*'**"
   ]
  },
  {
   "cell_type": "code",
   "execution_count": 83,
   "id": "7742d008",
   "metadata": {},
   "outputs": [],
   "source": [
    "from nltk.corpus import wordnet"
   ]
  },
  {
   "cell_type": "code",
   "execution_count": 84,
   "id": "fbe05e18",
   "metadata": {},
   "outputs": [
    {
     "data": {
      "text/plain": [
       "[Synset('motorcycle.n.01'), Synset('bicycle.n.01'), Synset('bicycle.v.01')]"
      ]
     },
     "execution_count": 84,
     "metadata": {},
     "output_type": "execute_result"
    }
   ],
   "source": [
    "wordnet.synsets('bike')"
   ]
  },
  {
   "cell_type": "markdown",
   "id": "5f2c2573",
   "metadata": {},
   "source": [
    "**Definicoes da palavra 'bike'**"
   ]
  },
  {
   "cell_type": "code",
   "execution_count": 85,
   "id": "750b04fd",
   "metadata": {},
   "outputs": [
    {
     "data": {
      "text/plain": [
       "'a wheeled vehicle that has two wheels and is moved by foot pedals'"
      ]
     },
     "execution_count": 85,
     "metadata": {},
     "output_type": "execute_result"
    }
   ],
   "source": [
    "wordnet.synset('bicycle.n.01').definition()"
   ]
  },
  {
   "cell_type": "code",
   "execution_count": null,
   "id": "5dc9203e",
   "metadata": {},
   "outputs": [],
   "source": [
    "# \" veículo de rodas que tem duas rodas e é movido por pedais\""
   ]
  },
  {
   "cell_type": "code",
   "execution_count": 86,
   "id": "6431fcd0",
   "metadata": {},
   "outputs": [
    {
     "data": {
      "text/plain": [
       "'a motor vehicle with two wheels and a strong frame'"
      ]
     },
     "execution_count": 86,
     "metadata": {},
     "output_type": "execute_result"
    }
   ],
   "source": [
    "wordnet.synset('motorcycle.n.01').definition()"
   ]
  },
  {
   "cell_type": "code",
   "execution_count": null,
   "id": "089df9e3",
   "metadata": {},
   "outputs": [],
   "source": [
    "# \" veículo a motor com duas rodas e um quadro forte\""
   ]
  },
  {
   "cell_type": "markdown",
   "id": "f55d11f2",
   "metadata": {},
   "source": [
    "**Consulta hierarquia de termos**"
   ]
  },
  {
   "cell_type": "code",
   "execution_count": 87,
   "id": "737fb31f",
   "metadata": {},
   "outputs": [
    {
     "data": {
      "text/plain": [
       "[Synset('bicycle-built-for-two.n.01'),\n",
       " Synset('mountain_bike.n.01'),\n",
       " Synset('ordinary.n.04'),\n",
       " Synset('push-bike.n.01'),\n",
       " Synset('safety_bicycle.n.01'),\n",
       " Synset('velocipede.n.01')]"
      ]
     },
     "execution_count": 87,
     "metadata": {},
     "output_type": "execute_result"
    }
   ],
   "source": [
    "# Hiponimos da palavra 'bicycle'.\n",
    "# Conceitos mais especificos.\n",
    "wordnet.synset('bicycle.n.01').hyponyms()"
   ]
  },
  {
   "cell_type": "code",
   "execution_count": 88,
   "id": "50d98644",
   "metadata": {},
   "outputs": [
    {
     "data": {
      "text/plain": [
       "[Synset('wheeled_vehicle.n.01')]"
      ]
     },
     "execution_count": 88,
     "metadata": {},
     "output_type": "execute_result"
    }
   ],
   "source": [
    "# Hiperonimos da palavra 'bicycle'\n",
    "# Conceitos mais genericos\n",
    "wordnet.synset('bicycle.n.01').hypernyms()"
   ]
  },
  {
   "cell_type": "code",
   "execution_count": 89,
   "id": "c0aaf1c7",
   "metadata": {},
   "outputs": [
    {
     "data": {
      "text/plain": [
       "[Synset('bicycle_seat.n.01'),\n",
       " Synset('bicycle_wheel.n.01'),\n",
       " Synset('chain.n.03'),\n",
       " Synset('coaster_brake.n.01'),\n",
       " Synset('handlebar.n.01'),\n",
       " Synset('kickstand.n.01'),\n",
       " Synset('mudguard.n.01'),\n",
       " Synset('pedal.n.02'),\n",
       " Synset('sprocket.n.02')]"
      ]
     },
     "execution_count": 89,
     "metadata": {},
     "output_type": "execute_result"
    }
   ],
   "source": [
    "# Meronyms da palavra 'bicycle'\n",
    "# Conceitos partes de outros conceitos\n",
    "wordnet.synset('bicycle.n.01').part_meronyms()"
   ]
  },
  {
   "cell_type": "markdown",
   "id": "76b1f966",
   "metadata": {},
   "source": [
    "# 8.10 - Conhecendo e trabalhando com o corpus da NLTK, frequência de tokens"
   ]
  },
  {
   "cell_type": "markdown",
   "id": "08c68310",
   "metadata": {},
   "source": [
    "## NLTK - Text Mining"
   ]
  },
  {
   "cell_type": "markdown",
   "id": "52ac16c5",
   "metadata": {},
   "source": [
    "* Exploraremos recursos da nltk\n",
    "* Recursos para trabalhar com NLP\n",
    "* Abordaremos as features da biblioteca com corpus da própria nltk.\n",
    "* Aplicaremos a NLTK em uma base de dados real"
   ]
  },
  {
   "cell_type": "markdown",
   "id": "aa3153ad",
   "metadata": {},
   "source": [
    "**Importe a Biblioteca NLTK**"
   ]
  },
  {
   "cell_type": "code",
   "execution_count": 91,
   "id": "c74ada4d",
   "metadata": {},
   "outputs": [],
   "source": [
    "import nltk"
   ]
  },
  {
   "cell_type": "markdown",
   "id": "3049a55d",
   "metadata": {},
   "source": [
    "**Faça download da base de corpus da nltk**"
   ]
  },
  {
   "cell_type": "code",
   "execution_count": null,
   "id": "ca765cf7",
   "metadata": {},
   "outputs": [],
   "source": [
    "# nltk.download()"
   ]
  },
  {
   "cell_type": "code",
   "execution_count": 92,
   "id": "8a2dbda2",
   "metadata": {},
   "outputs": [
    {
     "data": {
      "image/jpeg": "[encoded data removed]",
      "text/plain": [
       "<IPython.core.display.Image object>"
      ]
     },
     "execution_count": 92,
     "metadata": {},
     "output_type": "execute_result"
    }
   ],
   "source": [
    "from IPython.display import Image\n",
    "Image(caminho + r'\\nltk-downloader.jpg')"
   ]
  },
  {
   "cell_type": "markdown",
   "id": "5f8834cf",
   "metadata": {},
   "source": [
    "**Importe o corpus brown e imprime suas categorias**"
   ]
  },
  {
   "cell_type": "markdown",
   "id": "2b0b9ee7",
   "metadata": {},
   "source": [
    "* Corpus dataset com milhares de palavras de várias categorias"
   ]
  },
  {
   "cell_type": "code",
   "execution_count": 93,
   "id": "136a91f3",
   "metadata": {},
   "outputs": [],
   "source": [
    "from nltk.corpus import brown"
   ]
  },
  {
   "cell_type": "code",
   "execution_count": 94,
   "id": "18f6a157",
   "metadata": {},
   "outputs": [
    {
     "data": {
      "text/plain": [
       "['adventure',\n",
       " 'belles_lettres',\n",
       " 'editorial',\n",
       " 'fiction',\n",
       " 'government',\n",
       " 'hobbies',\n",
       " 'humor',\n",
       " 'learned',\n",
       " 'lore',\n",
       " 'mystery',\n",
       " 'news',\n",
       " 'religion',\n",
       " 'reviews',\n",
       " 'romance',\n",
       " 'science_fiction']"
      ]
     },
     "execution_count": 94,
     "metadata": {},
     "output_type": "execute_result"
    }
   ],
   "source": [
    "brown.categories()"
   ]
  },
  {
   "cell_type": "code",
   "execution_count": 97,
   "id": "30cc2195",
   "metadata": {},
   "outputs": [
    {
     "data": {
      "text/plain": [
       "['The', 'Fulton', 'County', 'Grand', 'Jury', 'said', ...]"
      ]
     },
     "execution_count": 97,
     "metadata": {},
     "output_type": "execute_result"
    }
   ],
   "source": [
    "brown.words()"
   ]
  },
  {
   "cell_type": "code",
   "execution_count": 95,
   "id": "7986cc11",
   "metadata": {},
   "outputs": [
    {
     "data": {
      "text/plain": [
       "1161192"
      ]
     },
     "execution_count": 95,
     "metadata": {},
     "output_type": "execute_result"
    }
   ],
   "source": [
    "len(brown.words())"
   ]
  },
  {
   "cell_type": "code",
   "execution_count": 96,
   "id": "02faffa5",
   "metadata": {},
   "outputs": [
    {
     "data": {
      "text/plain": [
       "100554"
      ]
     },
     "execution_count": 96,
     "metadata": {},
     "output_type": "execute_result"
    }
   ],
   "source": [
    "len(brown.words(categories='news'))"
   ]
  },
  {
   "cell_type": "markdown",
   "id": "1aba9984",
   "metadata": {},
   "source": [
    "**Visualizando sentenças da categoria romance**"
   ]
  },
  {
   "cell_type": "code",
   "execution_count": 98,
   "id": "fb51e2cd",
   "metadata": {},
   "outputs": [
    {
     "data": {
      "text/plain": [
       "[['They', 'neither', 'liked', 'nor', 'disliked', 'the', 'Old', 'Man', '.'], ['To', 'them', 'he', 'could', 'have', 'been', 'the', 'broken', 'bell', 'in', 'the', 'church', 'tower', 'which', 'rang', 'before', 'and', 'after', 'Mass', ',', 'and', 'at', 'noon', ',', 'and', 'at', 'six', 'each', 'evening', '--', 'its', 'tone', ',', 'repetitive', ',', 'monotonous', ',', 'never', 'breaking', 'the', 'boredom', 'of', 'the', 'streets', '.'], ...]"
      ]
     },
     "execution_count": 98,
     "metadata": {},
     "output_type": "execute_result"
    }
   ],
   "source": [
    "brown.sents(categories=['romance'])"
   ]
  },
  {
   "cell_type": "markdown",
   "id": "80606b67",
   "metadata": {},
   "source": [
    "**Quantidade de sentenças da categoria**"
   ]
  },
  {
   "cell_type": "code",
   "execution_count": 99,
   "id": "e686697e",
   "metadata": {},
   "outputs": [
    {
     "data": {
      "text/plain": [
       "4431"
      ]
     },
     "execution_count": 99,
     "metadata": {},
     "output_type": "execute_result"
    }
   ],
   "source": [
    "len(brown.sents(categories=['romance']))"
   ]
  },
  {
   "cell_type": "markdown",
   "id": "95297c34",
   "metadata": {},
   "source": [
    "**Obtem as palavras do corpus**"
   ]
  },
  {
   "cell_type": "code",
   "execution_count": 100,
   "id": "51aa1b44",
   "metadata": {},
   "outputs": [
    {
     "data": {
      "text/plain": [
       "['The', 'Fulton', 'County', 'Grand', 'Jury', 'said', ...]"
      ]
     },
     "execution_count": 100,
     "metadata": {},
     "output_type": "execute_result"
    }
   ],
   "source": [
    "brown.words()"
   ]
  },
  {
   "cell_type": "code",
   "execution_count": 101,
   "id": "ecd058d5",
   "metadata": {},
   "outputs": [],
   "source": [
    "# Obtem as palavras do corpus romance\n",
    "palavras = brown.words(categories=['romance'])"
   ]
  },
  {
   "cell_type": "code",
   "execution_count": 102,
   "id": "5231f6b6",
   "metadata": {},
   "outputs": [
    {
     "data": {
      "text/plain": [
       "70022"
      ]
     },
     "execution_count": 102,
     "metadata": {},
     "output_type": "execute_result"
    }
   ],
   "source": [
    "len(palavras)"
   ]
  },
  {
   "cell_type": "markdown",
   "id": "6f047ed7",
   "metadata": {},
   "source": [
    "**Obter a frequencia de palavras**"
   ]
  },
  {
   "cell_type": "code",
   "execution_count": 103,
   "id": "02ee6ebc",
   "metadata": {},
   "outputs": [],
   "source": [
    "# Obtem a frequencia de cada palavra\n",
    "fdist = nltk.FreqDist(p.lower() for p in palavras)"
   ]
  },
  {
   "cell_type": "code",
   "execution_count": 117,
   "id": "8aa3c5da",
   "metadata": {},
   "outputs": [
    {
     "data": {
      "text/plain": [
       "FreqDist({',': 3899, '.': 3736, 'the': 2988, 'and': 1905, 'to': 1517, 'a': 1383, 'of': 1202, 'he': 1068, '``': 1045, \"''\": 1044, ...})"
      ]
     },
     "execution_count": 117,
     "metadata": {},
     "output_type": "execute_result"
    }
   ],
   "source": [
    "fdist"
   ]
  },
  {
   "cell_type": "code",
   "execution_count": 119,
   "id": "b3b6033c",
   "metadata": {},
   "outputs": [
    {
     "data": {
      "text/plain": [
       "[(',', 3899),\n",
       " ('.', 3736),\n",
       " ('the', 2988),\n",
       " ('and', 1905),\n",
       " ('to', 1517),\n",
       " ('a', 1383),\n",
       " ('of', 1202),\n",
       " ('he', 1068),\n",
       " ('``', 1045),\n",
       " (\"''\", 1044)]"
      ]
     },
     "execution_count": 119,
     "metadata": {},
     "output_type": "execute_result"
    }
   ],
   "source": [
    "fdist.most_common(10)"
   ]
  },
  {
   "cell_type": "markdown",
   "id": "51a9394f",
   "metadata": {},
   "source": [
    "# 8.11 - Trabalhando com NLTK- métodos count, percentual de frequencia, similaridade de contexto, collocations, concordance"
   ]
  },
  {
   "cell_type": "markdown",
   "id": "71618803",
   "metadata": {},
   "source": [
    "**Palavras ordenadas por ordem alfabética**"
   ]
  },
  {
   "cell_type": "code",
   "execution_count": 120,
   "id": "3ec09ba9",
   "metadata": {},
   "outputs": [
    {
     "data": {
      "text/plain": [
       "['!',\n",
       " '&',\n",
       " \"'\",\n",
       " \"''\",\n",
       " \"'ello\",\n",
       " \"'em\",\n",
       " \"'most\",\n",
       " '(',\n",
       " ')',\n",
       " ',',\n",
       " '--',\n",
       " '.',\n",
       " '10',\n",
       " '141',\n",
       " '160',\n",
       " '1935',\n",
       " '1936',\n",
       " '1938',\n",
       " '1940',\n",
       " '1944',\n",
       " '230',\n",
       " '3',\n",
       " '4000-plus',\n",
       " \"6'\",\n",
       " ':',\n",
       " ';',\n",
       " '?',\n",
       " 'A',\n",
       " \"A's\",\n",
       " 'A-Z',\n",
       " \"A-Z's\",\n",
       " 'A.M.',\n",
       " 'A40-AjK',\n",
       " 'AA',\n",
       " 'Abernathy',\n",
       " 'Abernathys',\n",
       " 'About',\n",
       " 'Above',\n",
       " 'Abruptly',\n",
       " 'Absolution',\n",
       " 'Acala',\n",
       " 'Across',\n",
       " 'Acting',\n",
       " 'Actually',\n",
       " 'Adam',\n",
       " 'Adams',\n",
       " 'Adele',\n",
       " 'Adelia',\n",
       " 'Adrien',\n",
       " 'African']"
      ]
     },
     "execution_count": 120,
     "metadata": {},
     "output_type": "execute_result"
    }
   ],
   "source": [
    "# Imprime as 50 primeiras palavras\n",
    "sorted(set(palavras))[:50]"
   ]
  },
  {
   "cell_type": "markdown",
   "id": "a48ef769",
   "metadata": {},
   "source": [
    "**Obtem a frequencia de uma palavra no corpus**"
   ]
  },
  {
   "cell_type": "code",
   "execution_count": 121,
   "id": "188a65c4",
   "metadata": {},
   "outputs": [
    {
     "data": {
      "text/plain": [
       "32"
      ]
     },
     "execution_count": 121,
     "metadata": {},
     "output_type": "execute_result"
    }
   ],
   "source": [
    "palavras.count(\"love\")"
   ]
  },
  {
   "cell_type": "code",
   "execution_count": 122,
   "id": "5480dd78",
   "metadata": {},
   "outputs": [
    {
     "data": {
      "text/plain": [
       "9"
      ]
     },
     "execution_count": 122,
     "metadata": {},
     "output_type": "execute_result"
    }
   ],
   "source": [
    "palavras.count(\"hate\")"
   ]
  },
  {
   "cell_type": "markdown",
   "id": "3463855a",
   "metadata": {},
   "source": [
    "**Descobrindo a frequencia em percentual de uma palavra no texto**"
   ]
  },
  {
   "cell_type": "code",
   "execution_count": 123,
   "id": "e06df148",
   "metadata": {},
   "outputs": [],
   "source": [
    "def palavra_percentual(freq, dataset):\n",
    "    total = len(dataset)\n",
    "    return 100 * freq / total"
   ]
  },
  {
   "cell_type": "code",
   "execution_count": 124,
   "id": "1d1d714b",
   "metadata": {},
   "outputs": [
    {
     "data": {
      "text/plain": [
       "0.04569992288138014"
      ]
     },
     "execution_count": 124,
     "metadata": {},
     "output_type": "execute_result"
    }
   ],
   "source": [
    "palavra_percentual(palavras.count('love'), palavras)"
   ]
  },
  {
   "cell_type": "markdown",
   "id": "ef7f81e5",
   "metadata": {},
   "source": [
    "**Transforma palavras em objeto texto**\n",
    "* Para isso deve-se passar uma lista de palavras para essa classe"
   ]
  },
  {
   "cell_type": "code",
   "execution_count": 125,
   "id": "3ac59024",
   "metadata": {},
   "outputs": [],
   "source": [
    "palavras = nltk.Text(palavras)"
   ]
  },
  {
   "cell_type": "code",
   "execution_count": 126,
   "id": "8d85b594",
   "metadata": {},
   "outputs": [
    {
     "data": {
      "text/plain": [
       "nltk.text.Text"
      ]
     },
     "execution_count": 126,
     "metadata": {},
     "output_type": "execute_result"
    }
   ],
   "source": [
    "type(palavras)"
   ]
  },
  {
   "cell_type": "markdown",
   "id": "ece1a362",
   "metadata": {},
   "source": [
    "**Imprime palavras similares**"
   ]
  },
  {
   "cell_type": "code",
   "execution_count": null,
   "id": "2b615080",
   "metadata": {},
   "outputs": [],
   "source": [
    "# Imprime as palavras mais similares por contexto."
   ]
  },
  {
   "cell_type": "code",
   "execution_count": 128,
   "id": "c7be3fdf",
   "metadata": {},
   "outputs": [
    {
     "name": "stdout",
     "output_type": "stream",
     "text": [
      "see that it place know tell want help understand telling\n"
     ]
    }
   ],
   "source": [
    "palavras.similar('love', num=10)"
   ]
  },
  {
   "cell_type": "markdown",
   "id": "4644e9d7",
   "metadata": {},
   "source": [
    "**Conjuntos de Palavras empregadas similarmente**"
   ]
  },
  {
   "cell_type": "code",
   "execution_count": 129,
   "id": "148c589a",
   "metadata": {},
   "outputs": [
    {
     "name": "stdout",
     "output_type": "stream",
     "text": [
      "New York; Old Man; Mike Deegan; Cousin Elec; Lucille Warren; old man;\n",
      "Poor John; Cousin Emma; Gratt Shafer; I've got; Mrs. Kirby; could see;\n",
      "Eddie Lee; Hanford College; young men; Miss Jen; Mr. Willis; Early\n",
      "Spring; Mrs. Salter; Gertrude Parker\n"
     ]
    }
   ],
   "source": [
    "palavras.collocations()"
   ]
  },
  {
   "cell_type": "markdown",
   "id": "aa239997",
   "metadata": {},
   "source": [
    "**Concordancia das palavras**"
   ]
  },
  {
   "cell_type": "code",
   "execution_count": null,
   "id": "4dcc5d28",
   "metadata": {},
   "outputs": [],
   "source": [
    "# Contexto na qual a palavra aparece"
   ]
  },
  {
   "cell_type": "code",
   "execution_count": 130,
   "id": "5cc96cd1",
   "metadata": {},
   "outputs": [
    {
     "name": "stdout",
     "output_type": "stream",
     "text": [
      "Displaying 25 of 36 matches:\n",
      "yards in which no one knew privacy . Love and hatred and fear were one here , \n",
      "l leave you '' . `` Sounds like real love '' , Owen said . `` It sort of bring\n",
      " to satisfy any egotist . It was for love that he had served the Navy . To hav\n",
      "rved the Navy . To have someday that love returned was what he had lived for .\n",
      "is not having the only man you could love , whether he drives a bread truck or\n",
      " you can stay alive and hate him and love him and want him even if it means yo\n",
      "e him , not even with God . If it is love , you don't . And I'll take you with\n",
      "her woman , the one that never could love him the way you do , the one who got\n",
      "ts women under stress indulge in . I love you , I hate you , I feel like killi\n",
      " myself , and in the same sequence I love you I think you're the most wonderfu\n",
      "t , I can understand that by now and love them still , because everyone must j\n",
      " of women in towns , dispossessed of love , hanging on to makeshifts , and alt\n",
      "d like the tails of sage hens making love . Walitzee whitened his leggings wit\n",
      "said , jollying Lucy a little . `` I love you . Susan ready '' ? ? Lucy listen\n",
      "e said , and the single word mingled love and exasperation in an equal blend .\n",
      "g gave her as a token of his undying love . `` You going to marry the King '' \n",
      " the aqua-lung I could swim better , love my woman better . I chuckled aloud ,\n",
      "anger in her . We undressed and made love with the comfortable acceptance I ha\n",
      " Sue baby '' , he'd said . Much as I love you -- well , a guy's a guy and Luci\n",
      "arren . But it didn't seem fair . My love for Johnnie was young and clean -- h\n",
      "oved me and wanted me . But the only love I was giving him was the pure kind .\n",
      ", we both knew we were hopelessly in love . Yet even then we did nothing much \n",
      "hnnie and I had been innocent in our love , and that was the way I wanted to k\n",
      " darkness , begging this man to make love to me . `` Love me , Johnnie '' . ``\n",
      "ing this man to make love to me . `` Love me , Johnnie '' . `` I will , kitten\n"
     ]
    }
   ],
   "source": [
    "palavras.concordance('love')"
   ]
  },
  {
   "cell_type": "markdown",
   "id": "bcd7f200",
   "metadata": {},
   "source": [
    "**Empregabilidade comuns das palavras**"
   ]
  },
  {
   "cell_type": "code",
   "execution_count": 131,
   "id": "175634ae",
   "metadata": {},
   "outputs": [
    {
     "name": "stdout",
     "output_type": "stream",
     "text": [
      "i_you and_him\n"
     ]
    }
   ],
   "source": [
    "palavras.common_contexts(['love','hate'])"
   ]
  },
  {
   "cell_type": "markdown",
   "id": "632e349c",
   "metadata": {},
   "source": [
    "**Disperção Léxica de palavras no dataset**"
   ]
  },
  {
   "cell_type": "code",
   "execution_count": 138,
   "id": "ceef1a50",
   "metadata": {},
   "outputs": [
    {
     "data": {
      "image/png": "[encoded data removed]",
      "text/plain": [
       "<Figure size 432x288 with 1 Axes>"
      ]
     },
     "metadata": {
      "needs_background": "light"
     },
     "output_type": "display_data"
    }
   ],
   "source": [
    "%matplotlib inline\n",
    "palavras.dispersion_plot([\"love\", \"hate\",\"man\", \"car\", \",\", \"friend\"])"
   ]
  },
  {
   "cell_type": "markdown",
   "id": "9fc8e976",
   "metadata": {},
   "source": [
    "# 8.12 - Aplicando a NLTK em uma base de dados em Português com de dados do Twitter"
   ]
  },
  {
   "cell_type": "markdown",
   "id": "85b902d8",
   "metadata": {},
   "source": [
    "## Aplicando NLTK em uma base de dados real"
   ]
  },
  {
   "cell_type": "markdown",
   "id": "c41b931f",
   "metadata": {},
   "source": [
    "* Usaremos uma base de dados real de tweets sobre o governo de Minas Gerais\n",
    "* O twitter é um serviço muito utilizado por empresas para análises\n",
    "* Trabalhar com o idioma portugues ainda é um desafio"
   ]
  },
  {
   "cell_type": "code",
   "execution_count": 140,
   "id": "611d9313",
   "metadata": {},
   "outputs": [
    {
     "data": {
      "image/png": "[encoded data removed]",
      "text/plain": [
       "<IPython.core.display.Image object>"
      ]
     },
     "execution_count": 140,
     "metadata": {
      "image/png": {
       "height": 400,
       "width": 600
      }
     },
     "output_type": "execute_result"
    }
   ],
   "source": [
    "from IPython.display import Image\n",
    "Image(caminho + r'\\twitter_5.png',width=600, height=400)"
   ]
  },
  {
   "cell_type": "markdown",
   "id": "0a718b1e",
   "metadata": {},
   "source": [
    "**Ler a base de dados**"
   ]
  },
  {
   "cell_type": "code",
   "execution_count": 141,
   "id": "cf8fe83e",
   "metadata": {},
   "outputs": [],
   "source": [
    "import pandas as pd"
   ]
  },
  {
   "cell_type": "code",
   "execution_count": 142,
   "id": "a13ed8d0",
   "metadata": {},
   "outputs": [],
   "source": [
    "tweets = pd.read_csv(caminho + r'\\Tweets_Mg.csv')"
   ]
  },
  {
   "cell_type": "code",
   "execution_count": 143,
   "id": "8d1c3129",
   "metadata": {},
   "outputs": [
    {
     "data": {
      "text/html": [
       "<div>\n",
       "<style scoped>\n",
       "    .dataframe tbody tr th:only-of-type {\n",
       "        vertical-align: middle;\n",
       "    }\n",
       "\n",
       "    .dataframe tbody tr th {\n",
       "        vertical-align: top;\n",
       "    }\n",
       "\n",
       "    .dataframe thead th {\n",
       "        text-align: right;\n",
       "    }\n",
       "</style>\n",
       "<table border=\"1\" class=\"dataframe\">\n",
       "  <thead>\n",
       "    <tr style=\"text-align: right;\">\n",
       "      <th></th>\n",
       "      <th>Unnamed: 0</th>\n",
       "      <th>Created At</th>\n",
       "      <th>Text</th>\n",
       "      <th>Geo Coordinates.latitude</th>\n",
       "      <th>Geo Coordinates.longitude</th>\n",
       "      <th>User Location</th>\n",
       "      <th>Username</th>\n",
       "      <th>User Screen Name</th>\n",
       "      <th>Retweet Count</th>\n",
       "      <th>Classificacao</th>\n",
       "      <th>...</th>\n",
       "      <th>Unnamed: 15</th>\n",
       "      <th>Unnamed: 16</th>\n",
       "      <th>Unnamed: 17</th>\n",
       "      <th>Unnamed: 18</th>\n",
       "      <th>Unnamed: 19</th>\n",
       "      <th>Unnamed: 20</th>\n",
       "      <th>Unnamed: 21</th>\n",
       "      <th>Unnamed: 22</th>\n",
       "      <th>Unnamed: 23</th>\n",
       "      <th>Unnamed: 24</th>\n",
       "    </tr>\n",
       "  </thead>\n",
       "  <tbody>\n",
       "    <tr>\n",
       "      <th>0</th>\n",
       "      <td>0</td>\n",
       "      <td>Sun Jan 08 01:22:05 +0000 2017</td>\n",
       "      <td>���⛪ @ Catedral de Santo Antônio - Governador ...</td>\n",
       "      <td>NaN</td>\n",
       "      <td>NaN</td>\n",
       "      <td>Brasil</td>\n",
       "      <td>Leonardo C Schneider</td>\n",
       "      <td>LeoCSchneider</td>\n",
       "      <td>0</td>\n",
       "      <td>Neutro</td>\n",
       "      <td>...</td>\n",
       "      <td>NaN</td>\n",
       "      <td>NaN</td>\n",
       "      <td>NaN</td>\n",
       "      <td>NaN</td>\n",
       "      <td>NaN</td>\n",
       "      <td>NaN</td>\n",
       "      <td>NaN</td>\n",
       "      <td>NaN</td>\n",
       "      <td>NaN</td>\n",
       "      <td>NaN</td>\n",
       "    </tr>\n",
       "    <tr>\n",
       "      <th>1</th>\n",
       "      <td>1</td>\n",
       "      <td>Sun Jan 08 01:49:01 +0000 2017</td>\n",
       "      <td>� @ Governador Valadares, Minas Gerais https:/...</td>\n",
       "      <td>-41.9333</td>\n",
       "      <td>-18.85</td>\n",
       "      <td>NaN</td>\n",
       "      <td>Wândell</td>\n",
       "      <td>klefnews</td>\n",
       "      <td>0</td>\n",
       "      <td>Neutro</td>\n",
       "      <td>...</td>\n",
       "      <td>NaN</td>\n",
       "      <td>NaN</td>\n",
       "      <td>NaN</td>\n",
       "      <td>NaN</td>\n",
       "      <td>NaN</td>\n",
       "      <td>NaN</td>\n",
       "      <td>NaN</td>\n",
       "      <td>NaN</td>\n",
       "      <td>NaN</td>\n",
       "      <td>NaN</td>\n",
       "    </tr>\n",
       "    <tr>\n",
       "      <th>2</th>\n",
       "      <td>2</td>\n",
       "      <td>Sun Jan 08 01:01:46 +0000 2017</td>\n",
       "      <td>�� @ Governador Valadares, Minas Gerais https:...</td>\n",
       "      <td>-41.9333</td>\n",
       "      <td>-18.85</td>\n",
       "      <td>NaN</td>\n",
       "      <td>Wândell</td>\n",
       "      <td>klefnews</td>\n",
       "      <td>0</td>\n",
       "      <td>Neutro</td>\n",
       "      <td>...</td>\n",
       "      <td>NaN</td>\n",
       "      <td>NaN</td>\n",
       "      <td>NaN</td>\n",
       "      <td>NaN</td>\n",
       "      <td>NaN</td>\n",
       "      <td>NaN</td>\n",
       "      <td>NaN</td>\n",
       "      <td>NaN</td>\n",
       "      <td>NaN</td>\n",
       "      <td>NaN</td>\n",
       "    </tr>\n",
       "    <tr>\n",
       "      <th>3</th>\n",
       "      <td>3</td>\n",
       "      <td>Wed Jan 04 21:43:51 +0000 2017</td>\n",
       "      <td>��� https://t.co/BnDsO34qK0</td>\n",
       "      <td>NaN</td>\n",
       "      <td>NaN</td>\n",
       "      <td>NaN</td>\n",
       "      <td>Ana estudando</td>\n",
       "      <td>estudandoconcur</td>\n",
       "      <td>0</td>\n",
       "      <td>Neutro</td>\n",
       "      <td>...</td>\n",
       "      <td>NaN</td>\n",
       "      <td>NaN</td>\n",
       "      <td>NaN</td>\n",
       "      <td>NaN</td>\n",
       "      <td>NaN</td>\n",
       "      <td>NaN</td>\n",
       "      <td>NaN</td>\n",
       "      <td>NaN</td>\n",
       "      <td>NaN</td>\n",
       "      <td>NaN</td>\n",
       "    </tr>\n",
       "    <tr>\n",
       "      <th>4</th>\n",
       "      <td>4</td>\n",
       "      <td>Mon Jan 09 15:08:21 +0000 2017</td>\n",
       "      <td>��� PSOL vai questionar aumento de vereadores ...</td>\n",
       "      <td>NaN</td>\n",
       "      <td>NaN</td>\n",
       "      <td>NaN</td>\n",
       "      <td>Emily</td>\n",
       "      <td>Milly777</td>\n",
       "      <td>0</td>\n",
       "      <td>Negativo</td>\n",
       "      <td>...</td>\n",
       "      <td>NaN</td>\n",
       "      <td>NaN</td>\n",
       "      <td>NaN</td>\n",
       "      <td>NaN</td>\n",
       "      <td>NaN</td>\n",
       "      <td>NaN</td>\n",
       "      <td>NaN</td>\n",
       "      <td>NaN</td>\n",
       "      <td>NaN</td>\n",
       "      <td>NaN</td>\n",
       "    </tr>\n",
       "  </tbody>\n",
       "</table>\n",
       "<p>5 rows × 26 columns</p>\n",
       "</div>"
      ],
      "text/plain": [
       "   Unnamed: 0                      Created At  \\\n",
       "0           0  Sun Jan 08 01:22:05 +0000 2017   \n",
       "1           1  Sun Jan 08 01:49:01 +0000 2017   \n",
       "2           2  Sun Jan 08 01:01:46 +0000 2017   \n",
       "3           3  Wed Jan 04 21:43:51 +0000 2017   \n",
       "4           4  Mon Jan 09 15:08:21 +0000 2017   \n",
       "\n",
       "                                                Text  \\\n",
       "0  ���⛪ @ Catedral de Santo Antônio - Governador ...   \n",
       "1  � @ Governador Valadares, Minas Gerais https:/...   \n",
       "2  �� @ Governador Valadares, Minas Gerais https:...   \n",
       "3                        ��� https://t.co/BnDsO34qK0   \n",
       "4  ��� PSOL vai questionar aumento de vereadores ...   \n",
       "\n",
       "   Geo Coordinates.latitude  Geo Coordinates.longitude User Location  \\\n",
       "0                       NaN                        NaN        Brasil   \n",
       "1                  -41.9333                     -18.85           NaN   \n",
       "2                  -41.9333                     -18.85           NaN   \n",
       "3                       NaN                        NaN           NaN   \n",
       "4                       NaN                        NaN           NaN   \n",
       "\n",
       "               Username User Screen Name  Retweet Count Classificacao  ...  \\\n",
       "0  Leonardo C Schneider    LeoCSchneider              0        Neutro  ...   \n",
       "1               Wândell         klefnews              0        Neutro  ...   \n",
       "2               Wândell         klefnews              0        Neutro  ...   \n",
       "3         Ana estudando  estudandoconcur              0        Neutro  ...   \n",
       "4                 Emily         Milly777              0      Negativo  ...   \n",
       "\n",
       "  Unnamed: 15  Unnamed: 16  Unnamed: 17  Unnamed: 18  Unnamed: 19  \\\n",
       "0         NaN          NaN          NaN          NaN          NaN   \n",
       "1         NaN          NaN          NaN          NaN          NaN   \n",
       "2         NaN          NaN          NaN          NaN          NaN   \n",
       "3         NaN          NaN          NaN          NaN          NaN   \n",
       "4         NaN          NaN          NaN          NaN          NaN   \n",
       "\n",
       "   Unnamed: 20  Unnamed: 21  Unnamed: 22  Unnamed: 23  Unnamed: 24  \n",
       "0          NaN          NaN          NaN          NaN          NaN  \n",
       "1          NaN          NaN          NaN          NaN          NaN  \n",
       "2          NaN          NaN          NaN          NaN          NaN  \n",
       "3          NaN          NaN          NaN          NaN          NaN  \n",
       "4          NaN          NaN          NaN          NaN          NaN  \n",
       "\n",
       "[5 rows x 26 columns]"
      ]
     },
     "execution_count": 143,
     "metadata": {},
     "output_type": "execute_result"
    }
   ],
   "source": [
    "tweets.head()"
   ]
  },
  {
   "cell_type": "code",
   "execution_count": 144,
   "id": "03d07864",
   "metadata": {},
   "outputs": [
    {
     "data": {
      "text/plain": [
       "0     ���⛪ @ Catedral de Santo Antônio - Governador ...\n",
       "1     � @ Governador Valadares, Minas Gerais https:/...\n",
       "2     �� @ Governador Valadares, Minas Gerais https:...\n",
       "3                           ��� https://t.co/BnDsO34qK0\n",
       "4     ��� PSOL vai questionar aumento de vereadores ...\n",
       "5     \" bom é bandido morto\"\\nDeputado Cabo Júlio é ...\n",
       "6     \"..E 25% dos mineiros dizem não torcer para ti...\n",
       "7     \"A gigantesca barba do mal\" em destaque no cad...\n",
       "8     \"BB e governo de Minas travam disputa sobre de...\n",
       "9     \"com vcs bh fica pequena!\" Belo Horizonte (pro...\n",
       "10    \"Daí a gente visita governador valadares\"\\n\"Qu...\n",
       "11    \"É bonita e é bonita...\" \\n#latergram #ibituru...\n",
       "12    \"erro desconhecido\" é mato! Aliás, é da secret...\n",
       "13    \"La La Land: Cantando Estações\" arrasa no Glob...\n",
       "14    \"La La Land: Cantando Estações\" arrasa no Glob...\n",
       "15    \"Los abusos, aun en el estado más sólido, son ...\n",
       "16    \"Mesmo sem muito dinheiro no caixa o governo d...\n",
       "17    \"Modelo de segurança será o nosso legado\", diz...\n",
       "18    \"Modelo de segurança será o nosso legado\", diz...\n",
       "19    \"Modelo de segurança será o nosso legado\", diz...\n",
       "Name: Text, dtype: object"
      ]
     },
     "execution_count": 144,
     "metadata": {},
     "output_type": "execute_result"
    }
   ],
   "source": [
    "tweets.Text.head(20)"
   ]
  },
  {
   "cell_type": "code",
   "execution_count": 145,
   "id": "abe8d1a9",
   "metadata": {},
   "outputs": [
    {
     "data": {
      "text/plain": [
       "Unnamed: 0                   8199\n",
       "Created At                   8199\n",
       "Text                         8199\n",
       "Geo Coordinates.latitude      104\n",
       "Geo Coordinates.longitude     104\n",
       "User Location                5489\n",
       "Username                     8199\n",
       "User Screen Name             8199\n",
       "Retweet Count                8199\n",
       "Classificacao                8199\n",
       "Observação                      1\n",
       "Unnamed: 10                     0\n",
       "Unnamed: 11                     0\n",
       "Unnamed: 12                     0\n",
       "Unnamed: 13                     0\n",
       "Unnamed: 14                     0\n",
       "Unnamed: 15                     0\n",
       "Unnamed: 16                     0\n",
       "Unnamed: 17                     0\n",
       "Unnamed: 18                     0\n",
       "Unnamed: 19                     0\n",
       "Unnamed: 20                     0\n",
       "Unnamed: 21                     0\n",
       "Unnamed: 22                     0\n",
       "Unnamed: 23                     0\n",
       "Unnamed: 24                     0\n",
       "dtype: int64"
      ]
     },
     "execution_count": 145,
     "metadata": {},
     "output_type": "execute_result"
    }
   ],
   "source": [
    "tweets.count()"
   ]
  },
  {
   "cell_type": "markdown",
   "id": "c0dead25",
   "metadata": {},
   "source": [
    "**Tokenization dos tweets**"
   ]
  },
  {
   "cell_type": "markdown",
   "id": "9048cc7e",
   "metadata": {},
   "source": [
    "* Tokenização é a capacidade de reconhecer palavras e sentenças em uma frase ou texto.\n",
    "* Existem diversos tipos de tokenizadores.\n",
    "* Conheça o domínio na qual voce está trabalhando."
   ]
  },
  {
   "cell_type": "code",
   "execution_count": 146,
   "id": "72fa36e1",
   "metadata": {},
   "outputs": [
    {
     "data": {
      "text/plain": [
       "['RT',\n",
       " '@',\n",
       " 'rodrigofs10',\n",
       " 'I',\n",
       " 'like',\n",
       " 'very',\n",
       " 'Loooooot',\n",
       " 'this',\n",
       " 'movieee',\n",
       " '!',\n",
       " '!',\n",
       " ',',\n",
       " 'thanks',\n",
       " ';',\n",
       " ')',\n",
       " ':',\n",
       " ')',\n",
       " ':',\n",
       " '-',\n",
       " ')']"
      ]
     },
     "execution_count": 146,
     "metadata": {},
     "output_type": "execute_result"
    }
   ],
   "source": [
    "from nltk.tokenize import word_tokenize\n",
    "word_tokenize(\"RT @rodrigofs10 I like very Loooooot this movieee!!, thanks ;) :) :-)\")"
   ]
  },
  {
   "cell_type": "code",
   "execution_count": 147,
   "id": "db6ef6ff",
   "metadata": {},
   "outputs": [],
   "source": [
    "from nltk.tokenize import TweetTokenizer"
   ]
  },
  {
   "cell_type": "code",
   "execution_count": 148,
   "id": "7fcebd58",
   "metadata": {},
   "outputs": [],
   "source": [
    "# Instanciando objeto\n",
    "tweet_tokenize = TweetTokenizer()"
   ]
  },
  {
   "cell_type": "code",
   "execution_count": 149,
   "id": "08278ca7",
   "metadata": {},
   "outputs": [
    {
     "data": {
      "text/plain": [
       "['RT',\n",
       " '@rodrigofs10',\n",
       " 'I',\n",
       " 'like',\n",
       " 'very',\n",
       " 'Loooooot',\n",
       " 'this',\n",
       " 'movieee',\n",
       " '!',\n",
       " '!',\n",
       " ',',\n",
       " 'thanks',\n",
       " ';)',\n",
       " ':)',\n",
       " ':-)']"
      ]
     },
     "execution_count": 149,
     "metadata": {},
     "output_type": "execute_result"
    }
   ],
   "source": [
    "tweet_tokenize.tokenize(\"RT @rodrigofs10 I like very Loooooot this movieee!!, thanks ;) :) :-)\")"
   ]
  },
  {
   "cell_type": "code",
   "execution_count": 150,
   "id": "10e9ade0",
   "metadata": {},
   "outputs": [
    {
     "name": "stdout",
     "output_type": "stream",
     "text": [
      "Tweet: ���⛪ @ Catedral de Santo Antônio - Governador Valadares/MG https://t.co/JSbKamIqUJ\n",
      "Tokens: ['�', '�', '�', '⛪', '@', 'Catedral', 'de', 'Santo', 'Antônio', '-', 'Governador', 'Valadares', '/', 'MG', 'https://t.co/JSbKamIqUJ']\n",
      "Tweet: � @ Governador Valadares, Minas Gerais https://t.co/B3ThIDJCSf\n",
      "Tokens: ['�', '@', 'Governador', 'Valadares', ',', 'Minas', 'Gerais', 'https://t.co/B3ThIDJCSf']\n",
      "Tweet: �� @ Governador Valadares, Minas Gerais https://t.co/dPkgzVR2Qw\n",
      "Tokens: ['�', '�', '@', 'Governador', 'Valadares', ',', 'Minas', 'Gerais', 'https://t.co/dPkgzVR2Qw']\n",
      "Tweet: ��� https://t.co/BnDsO34qK0\n",
      "Tokens: ['�', '�', '�', 'https://t.co/BnDsO34qK0']\n",
      "Tweet: ��� PSOL vai questionar aumento de vereadores e prefeito de BH na Justiça - Politica - Estado de Minas https://t.co/DMg7BGsek5\n",
      "Tokens: ['�', '�', '�', 'PSOL', 'vai', 'questionar', 'aumento', 'de', 'vereadores', 'e', 'prefeito', 'de', 'BH', 'na', 'Justiça', '-', 'Politica', '-', 'Estado', 'de', 'Minas', 'https://t.co/DMg7BGsek5']\n",
      "Tweet: \" bom é bandido morto\"\n",
      "Deputado Cabo Júlio é condenado e fica inelegível por 10 anos - Politica - Estado de Minas https://t.co/3GfAqvrFHS\n",
      "Tokens: ['\"', 'bom', 'é', 'bandido', 'morto', '\"', 'Deputado', 'Cabo', 'Júlio', 'é', 'condenado', 'e', 'fica', 'inelegível', 'por', '10', 'anos', '-', 'Politica', '-', 'Estado', 'de', 'Minas', 'https://t.co/3GfAqvrFHS']\n",
      "Tweet: \"..E 25% dos mineiros dizem não torcer para time nenhum,mesmo dentro de um estado com Atlético-MG e Cruzeiro. Pq?..\" https://t.co/fN5evlLQsR\n",
      "Tokens: ['\"', '..', 'E', '25', '%', 'dos', 'mineiros', 'dizem', 'não', 'torcer', 'para', 'time', 'nenhum', ',', 'mesmo', 'dentro', 'de', 'um', 'estado', 'com', 'Atlético-MG', 'e', 'Cruzeiro', '.', 'Pq', '?', '..', '\"', 'https://t.co/fN5evlLQsR']\n",
      "Tweet: \"A gigantesca barba do mal\" em destaque no caderno Cultura do Estado de Minas. https://t.co/PxNurIkTlw\n",
      "Tokens: ['\"', 'A', 'gigantesca', 'barba', 'do', 'mal', '\"', 'em', 'destaque', 'no', 'caderno', 'Cultura', 'do', 'Estado', 'de', 'Minas', '.', 'https://t.co/PxNurIkTlw']\n",
      "Tweet: \"BB e governo de Minas travam disputa sobre depósitos judiciais\" https://t.co/CnMu2A2Qo5\n",
      "Tokens: ['\"', 'BB', 'e', 'governo', 'de', 'Minas', 'travam', 'disputa', 'sobre', 'depósitos', 'judiciais', '\"', 'https://t.co/CnMu2A2Qo5']\n",
      "Tweet: \"com vcs bh fica pequena!\" Belo Horizonte (pron. [bɛloɾiˈzõntʃi][10]) é a capital do estado de MG, com uma área de aproximadamente 331 km²\n",
      "Tokens: ['\"', 'com', 'vcs', 'bh', 'fica', 'pequena', '!', '\"', 'Belo', 'Horizonte', '(', 'pron', '.', '[', 'bɛloɾiˈzõntʃi', ']', '[', '10', ']', ')', 'é', 'a', 'capital', 'do', 'estado', 'de', 'MG', ',', 'com', 'uma', 'área', 'de', 'aproximadamente', '331', 'km', '²']\n",
      "Tweet: \"Daí a gente visita governador valadares\"\n",
      "\"Que lugar eh esse mãe?\"\n",
      "\"MG, a gente tem uns parente la\"\n",
      "\n",
      "MANO onde q eu NÃO tenho parente\n",
      "Tokens: ['\"', 'Daí', 'a', 'gente', 'visita', 'governador', 'valadares', '\"', '\"', 'Que', 'lugar', 'eh', 'esse', 'mãe', '?', '\"', '\"', 'MG', ',', 'a', 'gente', 'tem', 'uns', 'parente', 'la', '\"', 'MANO', 'onde', 'q', 'eu', 'NÃO', 'tenho', 'parente']\n",
      "Tweet: \"É bonita e é bonita...\" \n",
      "#latergram #ibituruna #home @ Governador Valadares, Minas Gerais https://t.co/y12TtNqpnH\n",
      "Tokens: ['\"', 'É', 'bonita', 'e', 'é', 'bonita', '...', '\"', '#latergram', '#ibituruna', '#home', '@', 'Governador', 'Valadares', ',', 'Minas', 'Gerais', 'https://t.co/y12TtNqpnH']\n",
      "Tweet: \"erro desconhecido\" é mato! Aliás, é da secretaria estadual de fazenda que tá assim... MG não precisa de dinheiro não, Governador?\n",
      "Tokens: ['\"', 'erro', 'desconhecido', '\"', 'é', 'mato', '!', 'Aliás', ',', 'é', 'da', 'secretaria', 'estadual', 'de', 'fazenda', 'que', 'tá', 'assim', '...', 'MG', 'não', 'precisa', 'de', 'dinheiro', 'não', ',', 'Governador', '?']\n",
      "Tweet: \"La La Land: Cantando Estações\" arrasa no Globo de Ouro - Estado de Minas https://t.co/aQ0NG1bp5f https://t.co/aY3qlrVnTE\n",
      "Tokens: ['\"', 'La', 'La', 'Land', ':', 'Cantando', 'Estações', '\"', 'arrasa', 'no', 'Globo', 'de', 'Ouro', '-', 'Estado', 'de', 'Minas', 'https://t.co/aQ0NG1bp5f', 'https://t.co/aY3qlrVnTE']\n",
      "Tweet: \"La La Land: Cantando Estações\" arrasa no Globo de Ouro - Estado de Minas https://t.co/qRI9DCiicc\n",
      "Tokens: ['\"', 'La', 'La', 'Land', ':', 'Cantando', 'Estações', '\"', 'arrasa', 'no', 'Globo', 'de', 'Ouro', '-', 'Estado', 'de', 'Minas', 'https://t.co/qRI9DCiicc']\n",
      "Tweet: \"Los abusos, aun en el estado más sólido, son minas sordas que tarde o temprano estallan\" Joseph Sanial-Dubay\n",
      "Tokens: ['\"', 'Los', 'abusos', ',', 'aun', 'en', 'el', 'estado', 'más', 'sólido', ',', 'son', 'minas', 'sordas', 'que', 'tarde', 'o', 'temprano', 'estallan', '\"', 'Joseph', 'Sanial-Dubay']\n",
      "Tweet: \"Mesmo sem muito dinheiro no caixa o governo de Minas Gerais compra 2 (DOIS) helicópteros.\" Dois... Helicópteros... Minas Gerais... #2017 s1\n",
      "Tokens: ['\"', 'Mesmo', 'sem', 'muito', 'dinheiro', 'no', 'caixa', 'o', 'governo', 'de', 'Minas', 'Gerais', 'compra', '2', '(', 'DOIS', ')', 'helicópteros', '.', '\"', 'Dois', '...', 'Helicópteros', '...', 'Minas', 'Gerais', '...', '#2017', 's1']\n",
      "Tweet: \"Modelo de segurança será o nosso legado\", diz Cláudio Beato - Politica - Estado de Minas https://t.co/1MqOJo7Nnf\n",
      "Tokens: ['\"', 'Modelo', 'de', 'segurança', 'será', 'o', 'nosso', 'legado', '\"', ',', 'diz', 'Cláudio', 'Beato', '-', 'Politica', '-', 'Estado', 'de', 'Minas', 'https://t.co/1MqOJo7Nnf']\n",
      "Tweet: \"Modelo de segurança será o nosso legado\", diz Cláudio Beato - Politica - Estado de Minas https://t.co/kA09mEn4xN\n",
      "Tokens: ['\"', 'Modelo', 'de', 'segurança', 'será', 'o', 'nosso', 'legado', '\"', ',', 'diz', 'Cláudio', 'Beato', '-', 'Politica', '-', 'Estado', 'de', 'Minas', 'https://t.co/kA09mEn4xN']\n",
      "Tweet: \"Modelo de segurança será o nosso legado\", diz Cláudio Beato - Politica - Estado de Minas https://t.co/S97Khxldiu\n",
      "Tokens: ['\"', 'Modelo', 'de', 'segurança', 'será', 'o', 'nosso', 'legado', '\"', ',', 'diz', 'Cláudio', 'Beato', '-', 'Politica', '-', 'Estado', 'de', 'Minas', 'https://t.co/S97Khxldiu']\n",
      "Tweet: \"O governo de Minas Gerais não comentou o assunto. \"\n",
      "\n",
      "https://t.co/SNYMRfQ737\n",
      "Tokens: ['\"', 'O', 'governo', 'de', 'Minas', 'Gerais', 'não', 'comentou', 'o', 'assunto', '.', '\"', 'https://t.co/SNYMRfQ737']\n",
      "Tweet: \"O governo federal publicou no dia 27 de dezembro de 2016, a Medida Provisória 764/16 que permite a diferenciação... https://t.co/0DlDpZ9WGz\n",
      "Tokens: ['\"', 'O', 'governo', 'federal', 'publicou', 'no', 'dia', '27', 'de', 'dezembro', 'de', '2016', ',', 'a', 'Medida', 'Provisória', '764/16', 'que', 'permite', 'a', 'diferenciação', '...', 'https://t.co/0DlDpZ9WGz']\n",
      "Tweet: \"Polícia Federal acaba de divulgar que encontrou provas no apartamento do Lula, mas só até a 4ª série.\" Jornal Estado de Minas\n",
      "Tokens: ['\"', 'Polícia', 'Federal', 'acaba', 'de', 'divulgar', 'que', 'encontrou', 'provas', 'no', 'apartamento', 'do', 'Lula', ',', 'mas', 'só', 'até', 'a', '4ª', 'série', '.', '\"', 'Jornal', 'Estado', 'de', 'Minas']\n",
      "Tweet: \"Praia da Estação\" lota neste sábado de verão em BH - Gerais - Estado de Minas https://t.co/DpG3CNfZBb\n",
      "Tokens: ['\"', 'Praia', 'da', 'Estação', '\"', 'lota', 'neste', 'sábado', 'de', 'verão', 'em', 'BH', '-', 'Gerais', '-', 'Estado', 'de', 'Minas', 'https://t.co/DpG3CNfZBb']\n",
      "Tweet: \"Representando mais uma ferramenta de monitoramento da educação da rede estadual em Minas, a Secretaria de Estado... https://t.co/brsfBqHXlQ\n",
      "Tokens: ['\"', 'Representando', 'mais', 'uma', 'ferramenta', 'de', 'monitoramento', 'da', 'educação', 'da', 'rede', 'estadual', 'em', 'Minas', ',', 'a', 'Secretaria', 'de', 'Estado', '...', 'https://t.co/brsfBqHXlQ']\n",
      "Tweet: \"uso de aeronave pertencente ao  Estado de MG, em domingo, p/ fins pessoais,  em claro desvio de finalidade\" - https://t.co/WEfv5iLyju\n",
      "Tokens: ['\"', 'uso', 'de', 'aeronave', 'pertencente', 'ao', 'Estado', 'de', 'MG', ',', 'em', 'domingo', ',', 'p', '/', 'fins', 'pessoais', ',', 'em', 'claro', 'desvio', 'de', 'finalidade', '\"', '-', 'https://t.co/WEfv5iLyju']\n",
      "Tweet: \"vou postar umas curiosidades sobre o corpo humano\"\n",
      "\n",
      "*o Japão é menor que o estado de minas gerais* ????¿¿¿.?¿\n",
      "Tokens: ['\"', 'vou', 'postar', 'umas', 'curiosidades', 'sobre', 'o', 'corpo', 'humano', '\"', '*', 'o', 'Japão', 'é', 'menor', 'que', 'o', 'estado', 'de', 'minas', 'gerais', '*', '?', '?', '?', '¿', '¿', '¿', '.', '?', '¿']\n",
      "Tweet: #ACORDAMINAS!!!\n",
      "\n",
      "O governador Fernando Pimentel, depois de ser flagrado usando um helicóptero do Estado de MG... https://t.co/bedW4w4jij\n",
      "Tokens: ['#ACORDAMINAS', '!', '!', '!', 'O', 'governador', 'Fernando', 'Pimentel', ',', 'depois', 'de', 'ser', 'flagrado', 'usando', 'um', 'helicóptero', 'do', 'Estado', 'de', 'MG', '...', 'https://t.co/bedW4w4jij']\n",
      "Tweet: #ACORDAMINAS!!!!\n",
      "\n",
      "O povo mineiro tem que da um pé na bunda  desse  canalha... https://t.co/ZKZNVmyXbg\n",
      "Tokens: ['#ACORDAMINAS', '!', '!', '!', 'O', 'povo', 'mineiro', 'tem', 'que', 'da', 'um', 'pé', 'na', 'bunda', 'desse', 'canalha', '...', 'https://t.co/ZKZNVmyXbg']\n",
      "Tweet: #Alerta - Nome da CEEE é utilizado em golpe no Estado. https://t.co/i5ndsWhXR4 https://t.co/yaEM6s3Z2f\n",
      "Tokens: ['#Alerta', '-', 'Nome', 'da', 'CEEE', 'é', 'utilizado', 'em', 'golpe', 'no', 'Estado', '.', 'https://t.co/i5ndsWhXR4', 'https://t.co/yaEM6s3Z2f']\n",
      "Tweet: #beta #betalab #mg Afiliada da Globo: Apresentador no AM é demitido após criticar governador… https://t.co/hlH8ITxXig\n",
      "Tokens: ['#beta', '#betalab', '#mg', 'Afiliada', 'da', 'Globo', ':', 'Apresentador', 'no', 'AM', 'é', 'demitido', 'após', 'criticar', 'governador', '…', 'https://t.co/hlH8ITxXig']\n",
      "Tweet: #beta #betalab #mg Caos nos presídios: AM pede apoio à União seis dias após massacre https://t.co/GRv0HkrX3T… https://t.co/YJy2RcSfWZ\n",
      "Tokens: ['#beta', '#betalab', '#mg', 'Caos', 'nos', 'presídios', ':', 'AM', 'pede', 'apoio', 'à', 'União', 'seis', 'dias', 'após', 'massacre', 'https://t.co/GRv0HkrX3T…', 'https://t.co/YJy2RcSfWZ']\n",
      "Tweet: #beta #betalab #mg Caos nos presídios: Temer e Cármen Lúcia se reúnem para debater crise https://t.co/e34RNvtU7v… https://t.co/8xKwPTOv4C\n",
      "Tokens: ['#beta', '#betalab', '#mg', 'Caos', 'nos', 'presídios', ':', 'Temer', 'e', 'Cármen', 'Lúcia', 'se', 'reúnem', 'para', 'debater', 'crise', 'https://t.co/e34RNvtU7v…', 'https://t.co/8xKwPTOv4C']\n",
      "Tweet: #beta #betalab #mg Crise carcerária: Governo de Roraima pede Força Nacional a Temer https://t.co/wLslS1T6ZI… https://t.co/NK4c5IhNUg\n",
      "Tokens: ['#beta', '#betalab', '#mg', 'Crise', 'carcerária', ':', 'Governo', 'de', 'Roraima', 'pede', 'Força', 'Nacional', 'a', 'Temer', 'https://t.co/wLslS1T6ZI…', 'https://t.co/NK4c5IhNUg']\n",
      "Tweet: #beta #betalab #mg Crise carcerária: Secretário de SP diz haver guerra de facções no país https://t.co/RSf2Tk1VmX… https://t.co/Sonel0f8Xq\n",
      "Tokens: ['#beta', '#betalab', '#mg', 'Crise', 'carcerária', ':', 'Secretário', 'de', 'SP', 'diz', 'haver', 'guerra', 'de', 'facções', 'no', 'país', 'https://t.co/RSf2Tk1VmX…', 'https://t.co/Sonel0f8Xq']\n",
      "Tweet: #beta #betalab #mg Crise política no DF se agrava: Rollemberg exonera vice-governador de cargo… https://t.co/idJfAELeW4 #timbeta #rt #brasil\n",
      "Tokens: ['#beta', '#betalab', '#mg', 'Crise', 'política', 'no', 'DF', 'se', 'agrava', ':', 'Rollemberg', 'exonera', 'vice-governador', 'de', 'cargo', '…', 'https://t.co/idJfAELeW4', '#timbeta', '#rt', '#brasil']\n",
      "Tweet: #beta #betalab #mg Escalada de violência nos presídios: AM pede apoio da Força Nacional;… https://t.co/ysX8TXSm50… https://t.co/NAly4Uxb5h\n",
      "Tokens: ['#beta', '#betalab', '#mg', 'Escalada', 'de', 'violência', 'nos', 'presídios', ':', 'AM', 'pede', 'apoio', 'da', 'Força', 'Nacional', ';', '…', 'https://t.co/ysX8TXSm50…', 'https://t.co/NAly4Uxb5h']\n",
      "Tweet: #beta #betalab #mg Escalada de violência: Crime organizado no Brasil é disputado por 27… https://t.co/loRe3EfGaF… https://t.co/sSY5liKfMl\n",
      "Tokens: ['#beta', '#betalab', '#mg', 'Escalada', 'de', 'violência', ':', 'Crime', 'organizado', 'no', 'Brasil', 'é', 'disputado', 'por', '27', '…', 'https://t.co/loRe3EfGaF…', 'https://t.co/sSY5liKfMl']\n",
      "Tweet: #beta #betalab #mg Estado afirma não ter sido notificado: Apesar de decisão judicial, reajuste…… https://t.co/IMG9Vxs4nK\n",
      "Tokens: ['#beta', '#betalab', '#mg', 'Estado', 'afirma', 'não', 'ter', 'sido', 'notificado', ':', 'Apesar', 'de', 'decisão', 'judicial', ',', 'reajuste', '…', '…', 'https://t.co/IMG9Vxs4nK']\n",
      "Tweet: #beta #betalab #mg Estado de espírito do paulistano: \"Voz\" do trânsito, buzina reflete pressa,…… https://t.co/hvLy03lyt3\n",
      "Tokens: ['#beta', '#betalab', '#mg', 'Estado', 'de', 'espírito', 'do', 'paulistano', ':', '\"', 'Voz', '\"', 'do', 'trânsito', ',', 'buzina', 'reflete', 'pressa', ',', '…', '…', 'https://t.co/hvLy03lyt3']\n",
      "Tweet: #beta #betalab #mg Estados falidos: Parte do PMDB quer barrar vetos de Temer na negociação de…… https://t.co/h9KQvBYlYV\n",
      "Tokens: ['#beta', '#betalab', '#mg', 'Estados', 'falidos', ':', 'Parte', 'do', 'PMDB', 'quer', 'barrar', 'vetos', 'de', 'Temer', 'na', 'negociação', 'de', '…', '…', 'https://t.co/h9KQvBYlYV']\n",
      "Tweet: #beta #betalab #mg Ex-ministro e outros: Servidores da era PT se mantêm em cargos estratégicos… https://t.co/Q2Nor97ngg #timbeta #rt #brasil\n",
      "Tokens: ['#beta', '#betalab', '#mg', 'Ex-ministro', 'e', 'outros', ':', 'Servidores', 'da', 'era', 'PT', 'se', 'mantêm', 'em', 'cargos', 'estratégicos', '…', 'https://t.co/Q2Nor97ngg', '#timbeta', '#rt', '#brasil']\n",
      "Tweet: #beta #betalab #mg Ex-presidente da Câmara: Justiça suíça vê 'indícios concretos' contra… https://t.co/fwuwi8S4oD… https://t.co/w1W2SaN172\n",
      "Tokens: ['#beta', '#betalab', '#mg', 'Ex-presidente', 'da', 'Câmara', ':', 'Justiça', 'suíça', 'vê', \"'\", 'indícios', 'concretos', \"'\", 'contra', '…', 'https://t.co/fwuwi8S4oD…', 'https://t.co/w1W2SaN172']\n",
      "Tweet: #beta #betalab #mg Governo em calamidade financeira: BB avisa Justiça que Minas não tem… https://t.co/CdXt0cvcuY… https://t.co/s8un5iFnQS\n",
      "Tokens: ['#beta', '#betalab', '#mg', 'Governo', 'em', 'calamidade', 'financeira', ':', 'BB', 'avisa', 'Justiça', 'que', 'Minas', 'não', 'tem', '…', 'https://t.co/CdXt0cvcuY…', 'https://t.co/s8un5iFnQS']\n",
      "Tweet: #beta #betalab #mg Mais sobre o massacre: PF: Facção tinha 'cela de comando' dentro da prisão… https://t.co/W3Cr89L0dk\n",
      "Tokens: ['#beta', '#betalab', '#mg', 'Mais', 'sobre', 'o', 'massacre', ':', 'PF', ':', 'Facção', 'tinha', \"'\", 'cela', 'de', 'comando', \"'\", 'dentro', 'da', 'prisão', '…', 'https://t.co/W3Cr89L0dk']\n",
      "Tweet: #beta #betalab #mg Marketing e veto a medidas de Paes: De doação de sangue a capoeira: a 1ª…… https://t.co/xPnt6omym6\n",
      "Tokens: ['#beta', '#betalab', '#mg', 'Marketing', 'e', 'veto', 'a', 'medidas', 'de', 'Paes', ':', 'De', 'doação', 'de', 'sangue', 'a', 'capoeira', ':', 'a', '1ª', '…', '…', 'https://t.co/xPnt6omym6']\n",
      "Tweet: #beta #betalab #mg Massacre em presídio de Manaus: Governo do AM rebate ministro da Justiça e… https://t.co/MaBb4airMU #timbeta #rt #brasil\n",
      "Tokens: ['#beta', '#betalab', '#mg', 'Massacre', 'em', 'presídio', 'de', 'Manaus', ':', 'Governo', 'do', 'AM', 'rebate', 'ministro', 'da', 'Justiça', 'e', '…', 'https://t.co/MaBb4airMU', '#timbeta', '#rt', '#brasil']\n",
      "Tweet: #beta #betalab #mg Mudanças propostas pelo governo: Reforma libera trabalhar 12 horas alguns…… https://t.co/eIDgx5Ak3n\n",
      "Tokens: ['#beta', '#betalab', '#mg', 'Mudanças', 'propostas', 'pelo', 'governo', ':', 'Reforma', 'libera', 'trabalhar', '12', 'horas', 'alguns', '…', '…', 'https://t.co/eIDgx5Ak3n']\n",
      "Tweet: #beta #betalab #mg Muitas páginas de investigação: \"QG\" da Lava Jato reúne mais de 30 milhões…… https://t.co/pQF48BKPMr\n",
      "Tokens: ['#beta', '#betalab', '#mg', 'Muitas', 'páginas', 'de', 'investigação', ':', '\"', 'QG', '\"', 'da', 'Lava', 'Jato', 'reúne', 'mais', 'de', '30', 'milhões', '…', '…', 'https://t.co/pQF48BKPMr']\n",
      "Tweet: #beta #betalab #mg Nos últimos dois anos: Governo pagou R$ 2,4 bi a alvos da Lava Jato https://t.co/KN8C0LcReb… https://t.co/GDQVhjO1Hc\n",
      "Tokens: ['#beta', '#betalab', '#mg', 'Nos', 'últimos', 'dois', 'anos', ':', 'Governo', 'pagou', 'R', '$', '2,4', 'bi', 'a', 'alvos', 'da', 'Lava', 'Jato', 'https://t.co/KN8C0LcReb…', 'https://t.co/GDQVhjO1Hc']\n"
     ]
    }
   ],
   "source": [
    "tweet_tokenize = TweetTokenizer()\n",
    "for t in tweets.Text.head(50).items():\n",
    "    print (\"Tweet:\", t[1])\n",
    "    print (\"Tokens:\", tweet_tokenize.tokenize(t[1]))"
   ]
  },
  {
   "cell_type": "markdown",
   "id": "60b0fce8",
   "metadata": {},
   "source": [
    "* Gera uma lista de palavras a partir dos tokens ou termos da base de dados."
   ]
  },
  {
   "cell_type": "code",
   "execution_count": 151,
   "id": "90c28eb8",
   "metadata": {},
   "outputs": [
    {
     "data": {
      "text/plain": [
       "['���⛪',\n",
       " '@',\n",
       " 'Catedral',\n",
       " 'de',\n",
       " 'Santo',\n",
       " 'Antônio',\n",
       " '-',\n",
       " 'Governador',\n",
       " 'Valadares/MG',\n",
       " 'https://t.co/JSbKamIqUJ',\n",
       " '�',\n",
       " '@',\n",
       " 'Governador',\n",
       " 'Valadares,',\n",
       " 'Minas',\n",
       " 'Gerais',\n",
       " 'https://t.co/B3ThIDJCSf',\n",
       " '��',\n",
       " '@',\n",
       " 'Governador',\n",
       " 'Valadares,',\n",
       " 'Minas',\n",
       " 'Gerais',\n",
       " 'https://t.co/dPkgzVR2Qw',\n",
       " '���',\n",
       " 'https://t.co/BnDsO34qK0',\n",
       " '���',\n",
       " 'PSOL',\n",
       " 'vai',\n",
       " 'questionar',\n",
       " 'aumento',\n",
       " 'de',\n",
       " 'vereadores',\n",
       " 'e',\n",
       " 'prefeito',\n",
       " 'de',\n",
       " 'BH',\n",
       " 'na',\n",
       " 'Justiça',\n",
       " '-',\n",
       " 'Politica',\n",
       " '-',\n",
       " 'Estado',\n",
       " 'de',\n",
       " 'Minas',\n",
       " 'https://t.co/DMg7BGsek5',\n",
       " '\"',\n",
       " 'bom',\n",
       " 'é',\n",
       " 'bandido']"
      ]
     },
     "execution_count": 151,
     "metadata": {},
     "output_type": "execute_result"
    }
   ],
   "source": [
    "from functools import reduce\n",
    "import operator\n",
    "\n",
    "list_palavras = []\n",
    "\n",
    "for t in tweets.Text.items():\n",
    "    list_palavras.append(t[1].split())\n",
    "\n",
    "# Reduz a lista de listas em apenas uma lista única de elementos.\n",
    "list_palavras = reduce(operator.concat, list_palavras)\n",
    "list_palavras[:50]"
   ]
  },
  {
   "cell_type": "code",
   "execution_count": 152,
   "id": "ddcb7fe8",
   "metadata": {},
   "outputs": [
    {
     "data": {
      "text/plain": [
       "132341"
      ]
     },
     "execution_count": 152,
     "metadata": {},
     "output_type": "execute_result"
    }
   ],
   "source": [
    "len(list_palavras)"
   ]
  },
  {
   "cell_type": "markdown",
   "id": "45d037be",
   "metadata": {},
   "source": [
    "**Gera um objeto do tipo *nltk.Text* a partir da lista de palavras.**"
   ]
  },
  {
   "cell_type": "code",
   "execution_count": 153,
   "id": "0f97ac82",
   "metadata": {},
   "outputs": [],
   "source": [
    "import nltk"
   ]
  },
  {
   "cell_type": "code",
   "execution_count": 154,
   "id": "25f561b8",
   "metadata": {},
   "outputs": [],
   "source": [
    "tweets_text_nltk = nltk.Text(list_palavras)"
   ]
  },
  {
   "cell_type": "markdown",
   "id": "9180cbdb",
   "metadata": {},
   "source": [
    "**Imprime tokens**"
   ]
  },
  {
   "cell_type": "code",
   "execution_count": 155,
   "id": "55154441",
   "metadata": {},
   "outputs": [
    {
     "data": {
      "text/plain": [
       "['���⛪',\n",
       " '@',\n",
       " 'Catedral',\n",
       " 'de',\n",
       " 'Santo',\n",
       " 'Antônio',\n",
       " '-',\n",
       " 'Governador',\n",
       " 'Valadares/MG',\n",
       " 'https://t.co/JSbKamIqUJ',\n",
       " '�',\n",
       " '@',\n",
       " 'Governador',\n",
       " 'Valadares,',\n",
       " 'Minas',\n",
       " 'Gerais',\n",
       " 'https://t.co/B3ThIDJCSf',\n",
       " '��',\n",
       " '@',\n",
       " 'Governador',\n",
       " 'Valadares,',\n",
       " 'Minas',\n",
       " 'Gerais',\n",
       " 'https://t.co/dPkgzVR2Qw',\n",
       " '���',\n",
       " 'https://t.co/BnDsO34qK0',\n",
       " '���',\n",
       " 'PSOL',\n",
       " 'vai',\n",
       " 'questionar',\n",
       " 'aumento',\n",
       " 'de',\n",
       " 'vereadores',\n",
       " 'e',\n",
       " 'prefeito',\n",
       " 'de',\n",
       " 'BH',\n",
       " 'na',\n",
       " 'Justiça',\n",
       " '-',\n",
       " 'Politica',\n",
       " '-',\n",
       " 'Estado',\n",
       " 'de',\n",
       " 'Minas',\n",
       " 'https://t.co/DMg7BGsek5',\n",
       " '\"',\n",
       " 'bom',\n",
       " 'é',\n",
       " 'bandido',\n",
       " 'morto\"',\n",
       " 'Deputado',\n",
       " 'Cabo',\n",
       " 'Júlio',\n",
       " 'é',\n",
       " 'condenado',\n",
       " 'e',\n",
       " 'fica',\n",
       " 'inelegível',\n",
       " 'por',\n",
       " '10',\n",
       " 'anos',\n",
       " '-',\n",
       " 'Politica',\n",
       " '-',\n",
       " 'Estado',\n",
       " 'de',\n",
       " 'Minas',\n",
       " 'https://t.co/3GfAqvrFHS',\n",
       " '\"..E',\n",
       " '25%',\n",
       " 'dos',\n",
       " 'mineiros',\n",
       " 'dizem',\n",
       " 'não',\n",
       " 'torcer',\n",
       " 'para',\n",
       " 'time',\n",
       " 'nenhum,mesmo',\n",
       " 'dentro',\n",
       " 'de',\n",
       " 'um',\n",
       " 'estado',\n",
       " 'com',\n",
       " 'Atlético-MG',\n",
       " 'e',\n",
       " 'Cruzeiro.',\n",
       " 'Pq?..\"',\n",
       " 'https://t.co/fN5evlLQsR',\n",
       " '\"A',\n",
       " 'gigantesca',\n",
       " 'barba',\n",
       " 'do',\n",
       " 'mal\"',\n",
       " 'em',\n",
       " 'destaque',\n",
       " 'no',\n",
       " 'caderno',\n",
       " 'Cultura',\n",
       " 'do',\n",
       " 'Estado',\n",
       " 'de',\n",
       " 'Minas.',\n",
       " 'https://t.co/PxNurIkTlw',\n",
       " '\"BB',\n",
       " 'e',\n",
       " 'governo',\n",
       " 'de',\n",
       " 'Minas',\n",
       " 'travam',\n",
       " 'disputa',\n",
       " 'sobre',\n",
       " 'depósitos',\n",
       " 'judiciais\"',\n",
       " 'https://t.co/CnMu2A2Qo5',\n",
       " '\"com',\n",
       " 'vcs',\n",
       " 'bh',\n",
       " 'fica',\n",
       " 'pequena!\"',\n",
       " 'Belo',\n",
       " 'Horizonte',\n",
       " '(pron.',\n",
       " '[bɛloɾiˈzõntʃi][10])',\n",
       " 'é',\n",
       " 'a',\n",
       " 'capital',\n",
       " 'do',\n",
       " 'estado',\n",
       " 'de',\n",
       " 'MG,',\n",
       " 'com',\n",
       " 'uma',\n",
       " 'área',\n",
       " 'de',\n",
       " 'aproximadamente',\n",
       " '331',\n",
       " 'km²',\n",
       " '\"Daí',\n",
       " 'a',\n",
       " 'gente',\n",
       " 'visita',\n",
       " 'governador',\n",
       " 'valadares\"',\n",
       " '\"Que',\n",
       " 'lugar',\n",
       " 'eh',\n",
       " 'esse',\n",
       " 'mãe?\"',\n",
       " '\"MG,',\n",
       " 'a',\n",
       " 'gente',\n",
       " 'tem',\n",
       " 'uns',\n",
       " 'parente',\n",
       " 'la\"',\n",
       " 'MANO',\n",
       " 'onde',\n",
       " 'q',\n",
       " 'eu',\n",
       " 'NÃO',\n",
       " 'tenho',\n",
       " 'parente',\n",
       " '\"É',\n",
       " 'bonita',\n",
       " 'e',\n",
       " 'é',\n",
       " 'bonita...\"',\n",
       " '#latergram',\n",
       " '#ibituruna',\n",
       " '#home',\n",
       " '@',\n",
       " 'Governador',\n",
       " 'Valadares,',\n",
       " 'Minas',\n",
       " 'Gerais',\n",
       " 'https://t.co/y12TtNqpnH',\n",
       " '\"erro',\n",
       " 'desconhecido\"',\n",
       " 'é',\n",
       " 'mato!',\n",
       " 'Aliás,',\n",
       " 'é',\n",
       " 'da',\n",
       " 'secretaria',\n",
       " 'estadual',\n",
       " 'de',\n",
       " 'fazenda',\n",
       " 'que',\n",
       " 'tá',\n",
       " 'assim...',\n",
       " 'MG',\n",
       " 'não',\n",
       " 'precisa',\n",
       " 'de',\n",
       " 'dinheiro',\n",
       " 'não,',\n",
       " 'Governador?',\n",
       " '\"La',\n",
       " 'La',\n",
       " 'Land:',\n",
       " 'Cantando',\n",
       " 'Estações\"',\n",
       " 'arrasa',\n",
       " 'no',\n",
       " 'Globo',\n",
       " 'de',\n",
       " 'Ouro',\n",
       " '-',\n",
       " 'Estado',\n",
       " 'de',\n",
       " 'Minas',\n",
       " 'https://t.co/aQ0NG1bp5f',\n",
       " 'https://t.co/aY3qlrVnTE',\n",
       " '\"La',\n",
       " 'La',\n",
       " 'Land:',\n",
       " 'Cantando',\n",
       " 'Estações\"',\n",
       " 'arrasa',\n",
       " 'no',\n",
       " 'Globo',\n",
       " 'de',\n",
       " 'Ouro',\n",
       " '-',\n",
       " 'Estado',\n",
       " 'de',\n",
       " 'Minas',\n",
       " 'https://t.co/qRI9DCiicc',\n",
       " '\"Los',\n",
       " 'abusos,',\n",
       " 'aun',\n",
       " 'en',\n",
       " 'el',\n",
       " 'estado',\n",
       " 'más',\n",
       " 'sólido,',\n",
       " 'son',\n",
       " 'minas',\n",
       " 'sordas',\n",
       " 'que',\n",
       " 'tarde',\n",
       " 'o',\n",
       " 'temprano',\n",
       " 'estallan\"',\n",
       " 'Joseph',\n",
       " 'Sanial-Dubay',\n",
       " '\"Mesmo',\n",
       " 'sem',\n",
       " 'muito',\n",
       " 'dinheiro',\n",
       " 'no',\n",
       " 'caixa',\n",
       " 'o',\n",
       " 'governo',\n",
       " 'de',\n",
       " 'Minas',\n",
       " 'Gerais',\n",
       " 'compra',\n",
       " '2',\n",
       " '(DOIS)',\n",
       " 'helicópteros.\"',\n",
       " 'Dois...',\n",
       " 'Helicópteros...',\n",
       " 'Minas',\n",
       " 'Gerais...',\n",
       " '#2017',\n",
       " 's1',\n",
       " '\"Modelo',\n",
       " 'de',\n",
       " 'segurança',\n",
       " 'será',\n",
       " 'o',\n",
       " 'nosso',\n",
       " 'legado\",',\n",
       " 'diz',\n",
       " 'Cláudio',\n",
       " 'Beato',\n",
       " '-',\n",
       " 'Politica',\n",
       " '-',\n",
       " 'Estado',\n",
       " 'de',\n",
       " 'Minas',\n",
       " 'https://t.co/1MqOJo7Nnf',\n",
       " '\"Modelo',\n",
       " 'de',\n",
       " 'segurança',\n",
       " 'será',\n",
       " 'o',\n",
       " 'nosso',\n",
       " 'legado\",',\n",
       " 'diz',\n",
       " 'Cláudio',\n",
       " 'Beato',\n",
       " '-',\n",
       " 'Politica',\n",
       " '-',\n",
       " 'Estado',\n",
       " 'de',\n",
       " 'Minas',\n",
       " 'https://t.co/kA09mEn4xN',\n",
       " '\"Modelo',\n",
       " 'de',\n",
       " 'segurança',\n",
       " 'será',\n",
       " 'o',\n",
       " 'nosso',\n",
       " 'legado\",',\n",
       " 'diz',\n",
       " 'Cláudio',\n",
       " 'Beato',\n",
       " '-',\n",
       " 'Politica',\n",
       " '-',\n",
       " 'Estado',\n",
       " 'de',\n",
       " 'Minas',\n",
       " 'https://t.co/S97Khxldiu',\n",
       " '\"O',\n",
       " 'governo',\n",
       " 'de',\n",
       " 'Minas',\n",
       " 'Gerais',\n",
       " 'não',\n",
       " 'comentou',\n",
       " 'o',\n",
       " 'assunto.',\n",
       " '\"',\n",
       " 'https://t.co/SNYMRfQ737',\n",
       " '\"O',\n",
       " 'governo',\n",
       " 'federal',\n",
       " 'publicou',\n",
       " 'no',\n",
       " 'dia',\n",
       " '27',\n",
       " 'de',\n",
       " 'dezembro',\n",
       " 'de',\n",
       " '2016,',\n",
       " 'a',\n",
       " 'Medida',\n",
       " 'Provisória',\n",
       " '764/16',\n",
       " 'que',\n",
       " 'permite',\n",
       " 'a',\n",
       " 'diferenciação...',\n",
       " 'https://t.co/0DlDpZ9WGz',\n",
       " '\"Polícia',\n",
       " 'Federal',\n",
       " 'acaba',\n",
       " 'de',\n",
       " 'divulgar',\n",
       " 'que',\n",
       " 'encontrou',\n",
       " 'provas',\n",
       " 'no',\n",
       " 'apartamento',\n",
       " 'do',\n",
       " 'Lula,',\n",
       " 'mas',\n",
       " 'só',\n",
       " 'até',\n",
       " 'a',\n",
       " '4ª',\n",
       " 'série.\"',\n",
       " 'Jornal',\n",
       " 'Estado',\n",
       " 'de',\n",
       " 'Minas',\n",
       " '\"Praia',\n",
       " 'da',\n",
       " 'Estação\"',\n",
       " 'lota',\n",
       " 'neste',\n",
       " 'sábado',\n",
       " 'de',\n",
       " 'verão',\n",
       " 'em',\n",
       " 'BH',\n",
       " '-',\n",
       " 'Gerais',\n",
       " '-',\n",
       " 'Estado',\n",
       " 'de',\n",
       " 'Minas',\n",
       " 'https://t.co/DpG3CNfZBb',\n",
       " '\"Representando',\n",
       " 'mais',\n",
       " 'uma',\n",
       " 'ferramenta',\n",
       " 'de',\n",
       " 'monitoramento',\n",
       " 'da',\n",
       " 'educação',\n",
       " 'da',\n",
       " 'rede',\n",
       " 'estadual',\n",
       " 'em',\n",
       " 'Minas,',\n",
       " 'a',\n",
       " 'Secretaria',\n",
       " 'de',\n",
       " 'Estado...',\n",
       " 'https://t.co/brsfBqHXlQ',\n",
       " '\"uso',\n",
       " 'de',\n",
       " 'aeronave',\n",
       " 'pertencente',\n",
       " 'ao',\n",
       " 'Estado',\n",
       " 'de',\n",
       " 'MG,',\n",
       " 'em',\n",
       " 'domingo,',\n",
       " 'p/',\n",
       " 'fins',\n",
       " 'pessoais,',\n",
       " 'em',\n",
       " 'claro',\n",
       " 'desvio',\n",
       " 'de',\n",
       " 'finalidade\"',\n",
       " '-',\n",
       " 'https://t.co/WEfv5iLyju',\n",
       " '\"vou',\n",
       " 'postar',\n",
       " 'umas',\n",
       " 'curiosidades',\n",
       " 'sobre',\n",
       " 'o',\n",
       " 'corpo',\n",
       " 'humano\"',\n",
       " '*o',\n",
       " 'Japão',\n",
       " 'é',\n",
       " 'menor',\n",
       " 'que',\n",
       " 'o',\n",
       " 'estado',\n",
       " 'de',\n",
       " 'minas',\n",
       " 'gerais*',\n",
       " '????¿¿¿.?¿',\n",
       " '#ACORDAMINAS!!!',\n",
       " 'O',\n",
       " 'governador',\n",
       " 'Fernando',\n",
       " 'Pimentel,',\n",
       " 'depois',\n",
       " 'de',\n",
       " 'ser',\n",
       " 'flagrado',\n",
       " 'usando',\n",
       " 'um',\n",
       " 'helicóptero',\n",
       " 'do',\n",
       " 'Estado',\n",
       " 'de',\n",
       " 'MG...',\n",
       " 'https://t.co/bedW4w4jij',\n",
       " '#ACORDAMINAS!!!!',\n",
       " 'O',\n",
       " 'povo',\n",
       " 'mineiro',\n",
       " 'tem',\n",
       " 'que',\n",
       " 'da',\n",
       " 'um',\n",
       " 'pé',\n",
       " 'na',\n",
       " 'bunda',\n",
       " 'desse',\n",
       " 'canalha...',\n",
       " 'https://t.co/ZKZNVmyXbg',\n",
       " '#Alerta',\n",
       " '-',\n",
       " 'Nome',\n",
       " 'da',\n",
       " 'CEEE',\n",
       " 'é',\n",
       " 'utilizado',\n",
       " 'em',\n",
       " 'golpe',\n",
       " 'no',\n",
       " 'Estado.',\n",
       " 'https://t.co/i5ndsWhXR4',\n",
       " 'https://t.co/yaEM6s3Z2f',\n",
       " '#beta',\n",
       " '#betalab',\n",
       " '#mg',\n",
       " 'Afiliada',\n",
       " 'da',\n",
       " 'Globo:',\n",
       " 'Apresentador',\n",
       " 'no',\n",
       " 'AM',\n",
       " 'é',\n",
       " 'demitido',\n",
       " 'após',\n",
       " 'criticar',\n",
       " 'governador…',\n",
       " 'https://t.co/hlH8ITxXig',\n",
       " '#beta',\n",
       " '#betalab',\n",
       " '#mg',\n",
       " 'Caos',\n",
       " 'nos',\n",
       " 'presídios:',\n",
       " 'AM',\n",
       " 'pede',\n",
       " 'apoio',\n",
       " 'à',\n",
       " 'União',\n",
       " 'seis',\n",
       " 'dias',\n",
       " 'após',\n",
       " 'massacre',\n",
       " 'https://t.co/GRv0HkrX3T…',\n",
       " 'https://t.co/YJy2RcSfWZ',\n",
       " '#beta',\n",
       " '#betalab',\n",
       " '#mg',\n",
       " 'Caos',\n",
       " 'nos',\n",
       " 'presídios:',\n",
       " 'Temer',\n",
       " 'e',\n",
       " 'Cármen',\n",
       " 'Lúcia',\n",
       " 'se',\n",
       " 'reúnem',\n",
       " 'para',\n",
       " 'debater',\n",
       " 'crise',\n",
       " 'https://t.co/e34RNvtU7v…',\n",
       " 'https://t.co/8xKwPTOv4C',\n",
       " '#beta',\n",
       " '#betalab',\n",
       " '#mg',\n",
       " 'Crise',\n",
       " 'carcerária:',\n",
       " 'Governo',\n",
       " 'de',\n",
       " 'Roraima',\n",
       " 'pede',\n",
       " 'Força',\n",
       " 'Nacional',\n",
       " 'a',\n",
       " 'Temer',\n",
       " 'https://t.co/wLslS1T6ZI…',\n",
       " 'https://t.co/NK4c5IhNUg',\n",
       " '#beta',\n",
       " '#betalab',\n",
       " '#mg',\n",
       " 'Crise',\n",
       " 'carcerária:',\n",
       " 'Secretário',\n",
       " 'de',\n",
       " 'SP',\n",
       " 'diz',\n",
       " 'haver',\n",
       " 'guerra',\n",
       " 'de',\n",
       " 'facções',\n",
       " 'no',\n",
       " 'país',\n",
       " 'https://t.co/RSf2Tk1VmX…',\n",
       " 'https://t.co/Sonel0f8Xq',\n",
       " '#beta',\n",
       " '#betalab',\n",
       " '#mg',\n",
       " 'Crise',\n",
       " 'política',\n",
       " 'no',\n",
       " 'DF',\n",
       " 'se',\n",
       " 'agrava:',\n",
       " 'Rollemberg',\n",
       " 'exonera',\n",
       " 'vice-governador',\n",
       " 'de',\n",
       " 'cargo…',\n",
       " 'https://t.co/idJfAELeW4',\n",
       " '#timbeta',\n",
       " '#rt',\n",
       " '#brasil',\n",
       " '#beta',\n",
       " '#betalab',\n",
       " '#mg',\n",
       " 'Escalada',\n",
       " 'de',\n",
       " 'violência',\n",
       " 'nos',\n",
       " 'presídios:',\n",
       " 'AM',\n",
       " 'pede',\n",
       " 'apoio',\n",
       " 'da',\n",
       " 'Força',\n",
       " 'Nacional;…',\n",
       " 'https://t.co/ysX8TXSm50…',\n",
       " 'https://t.co/NAly4Uxb5h',\n",
       " '#beta',\n",
       " '#betalab',\n",
       " '#mg',\n",
       " 'Escalada',\n",
       " 'de',\n",
       " 'violência:',\n",
       " 'Crime',\n",
       " 'organizado',\n",
       " 'no',\n",
       " 'Brasil',\n",
       " 'é',\n",
       " 'disputado',\n",
       " 'por',\n",
       " '27…',\n",
       " 'https://t.co/loRe3EfGaF…',\n",
       " 'https://t.co/sSY5liKfMl',\n",
       " '#beta',\n",
       " '#betalab',\n",
       " '#mg',\n",
       " 'Estado',\n",
       " 'afirma',\n",
       " 'não',\n",
       " 'ter',\n",
       " 'sido',\n",
       " 'notificado:',\n",
       " 'Apesar',\n",
       " 'de',\n",
       " 'decisão',\n",
       " 'judicial,',\n",
       " 'reajuste……',\n",
       " 'https://t.co/IMG9Vxs4nK',\n",
       " '#beta',\n",
       " '#betalab',\n",
       " '#mg',\n",
       " 'Estado',\n",
       " 'de',\n",
       " 'espírito',\n",
       " 'do',\n",
       " 'paulistano:',\n",
       " '\"Voz\"',\n",
       " 'do',\n",
       " 'trânsito,',\n",
       " 'buzina',\n",
       " 'reflete',\n",
       " 'pressa,……',\n",
       " 'https://t.co/hvLy03lyt3',\n",
       " '#beta',\n",
       " '#betalab',\n",
       " '#mg',\n",
       " 'Estados',\n",
       " 'falidos:',\n",
       " 'Parte',\n",
       " 'do',\n",
       " 'PMDB',\n",
       " 'quer',\n",
       " 'barrar',\n",
       " 'vetos',\n",
       " 'de',\n",
       " 'Temer',\n",
       " 'na',\n",
       " 'negociação',\n",
       " 'de……',\n",
       " 'https://t.co/h9KQvBYlYV',\n",
       " '#beta',\n",
       " '#betalab',\n",
       " '#mg',\n",
       " 'Ex-ministro',\n",
       " 'e',\n",
       " 'outros:',\n",
       " 'Servidores',\n",
       " 'da',\n",
       " 'era',\n",
       " 'PT',\n",
       " 'se',\n",
       " 'mantêm',\n",
       " 'em',\n",
       " 'cargos',\n",
       " 'estratégicos…',\n",
       " 'https://t.co/Q2Nor97ngg',\n",
       " '#timbeta',\n",
       " '#rt',\n",
       " '#brasil',\n",
       " '#beta',\n",
       " '#betalab',\n",
       " '#mg',\n",
       " 'Ex-presidente',\n",
       " 'da',\n",
       " 'Câmara:',\n",
       " 'Justiça',\n",
       " 'suíça',\n",
       " 'vê',\n",
       " \"'indícios\",\n",
       " \"concretos'\",\n",
       " 'contra…',\n",
       " 'https://t.co/fwuwi8S4oD…',\n",
       " 'https://t.co/w1W2SaN172',\n",
       " '#beta',\n",
       " '#betalab',\n",
       " '#mg',\n",
       " 'Governo',\n",
       " 'em',\n",
       " 'calamidade',\n",
       " 'financeira:',\n",
       " 'BB',\n",
       " 'avisa',\n",
       " 'Justiça',\n",
       " 'que',\n",
       " 'Minas',\n",
       " 'não',\n",
       " 'tem…',\n",
       " 'https://t.co/CdXt0cvcuY…',\n",
       " 'https://t.co/s8un5iFnQS',\n",
       " '#beta',\n",
       " '#betalab',\n",
       " '#mg',\n",
       " 'Mais',\n",
       " 'sobre',\n",
       " 'o',\n",
       " 'massacre:',\n",
       " 'PF:',\n",
       " 'Facção',\n",
       " 'tinha',\n",
       " \"'cela\",\n",
       " 'de',\n",
       " \"comando'\",\n",
       " 'dentro',\n",
       " 'da',\n",
       " 'prisão…',\n",
       " 'https://t.co/W3Cr89L0dk',\n",
       " '#beta',\n",
       " '#betalab',\n",
       " '#mg',\n",
       " 'Marketing',\n",
       " 'e',\n",
       " 'veto',\n",
       " 'a',\n",
       " 'medidas',\n",
       " 'de',\n",
       " 'Paes:',\n",
       " 'De',\n",
       " 'doação',\n",
       " 'de',\n",
       " 'sangue',\n",
       " 'a',\n",
       " 'capoeira:',\n",
       " 'a',\n",
       " '1ª……',\n",
       " 'https://t.co/xPnt6omym6',\n",
       " '#beta',\n",
       " '#betalab',\n",
       " '#mg',\n",
       " 'Massacre',\n",
       " 'em',\n",
       " 'presídio',\n",
       " 'de',\n",
       " 'Manaus:',\n",
       " 'Governo',\n",
       " 'do',\n",
       " 'AM',\n",
       " 'rebate',\n",
       " 'ministro',\n",
       " 'da',\n",
       " 'Justiça',\n",
       " 'e…',\n",
       " 'https://t.co/MaBb4airMU',\n",
       " '#timbeta',\n",
       " '#rt',\n",
       " '#brasil',\n",
       " '#beta',\n",
       " '#betalab',\n",
       " '#mg',\n",
       " 'Mudanças',\n",
       " 'propostas',\n",
       " 'pelo',\n",
       " 'governo:',\n",
       " 'Reforma',\n",
       " 'libera',\n",
       " 'trabalhar',\n",
       " '12',\n",
       " 'horas',\n",
       " 'alguns……',\n",
       " 'https://t.co/eIDgx5Ak3n',\n",
       " '#beta',\n",
       " '#betalab',\n",
       " '#mg',\n",
       " 'Muitas',\n",
       " 'páginas',\n",
       " 'de',\n",
       " 'investigação:',\n",
       " '\"QG\"',\n",
       " 'da',\n",
       " 'Lava',\n",
       " 'Jato',\n",
       " 'reúne',\n",
       " 'mais',\n",
       " 'de',\n",
       " '30',\n",
       " 'milhões……',\n",
       " 'https://t.co/pQF48BKPMr',\n",
       " '#beta',\n",
       " '#betalab',\n",
       " '#mg',\n",
       " 'Nos',\n",
       " 'últimos',\n",
       " 'dois',\n",
       " 'anos:',\n",
       " 'Governo',\n",
       " 'pagou',\n",
       " 'R$',\n",
       " '2,4',\n",
       " 'bi',\n",
       " 'a',\n",
       " 'alvos',\n",
       " 'da',\n",
       " 'Lava',\n",
       " 'Jato',\n",
       " 'https://t.co/KN8C0LcReb…',\n",
       " 'https://t.co/GDQVhjO1Hc',\n",
       " '#beta',\n",
       " '#betalab',\n",
       " '#mg',\n",
       " 'Nova',\n",
       " 'chacina',\n",
       " 'em',\n",
       " 'presídio:',\n",
       " 'PCC',\n",
       " 'matou',\n",
       " 'presos',\n",
       " 'sem',\n",
       " 'facção,',\n",
       " 'diz',\n",
       " 'governo',\n",
       " 'de',\n",
       " 'RR',\n",
       " 'https://t.co/e17QVKbWVV…',\n",
       " 'https://t.co/HJinQ9Y8aT',\n",
       " '#beta',\n",
       " '#betalab',\n",
       " '#mg',\n",
       " 'Onda',\n",
       " 'de',\n",
       " 'violência',\n",
       " 'nos',\n",
       " 'presídios:',\n",
       " 'Governo',\n",
       " 'de',\n",
       " 'Roraima',\n",
       " 'divulga',\n",
       " 'lista',\n",
       " 'oficial……',\n",
       " 'https://t.co/HLcGf3UtCx',\n",
       " '#beta',\n",
       " '#betalab',\n",
       " '#mg',\n",
       " 'Pede',\n",
       " 'respeito',\n",
       " 'aos',\n",
       " 'direitos',\n",
       " 'dos',\n",
       " 'detentos:',\n",
       " 'Defensoria',\n",
       " 'Pública',\n",
       " 'da',\n",
       " 'União',\n",
       " 'vai',\n",
       " 'ao……',\n",
       " 'https://t.co/kKbLNKRXfi',\n",
       " '#beta',\n",
       " '#betalab',\n",
       " '#mg',\n",
       " 'Pedido',\n",
       " 'ao',\n",
       " 'STF',\n",
       " 'irritou',\n",
       " 'Meirelles:',\n",
       " 'Governo',\n",
       " 'ameaça',\n",
       " 'suspender',\n",
       " 'aval',\n",
       " 'para…',\n",
       " 'https://t.co/cHJbFIKAOY…',\n",
       " 'https://t.co/uSTdKS5mCn',\n",
       " '#beta',\n",
       " '#betalab',\n",
       " '#mg',\n",
       " 'Reforma',\n",
       " 'no',\n",
       " 'poder',\n",
       " 'da',\n",
       " 'Venezuela:',\n",
       " 'Maduro',\n",
       " 'nomeia',\n",
       " 'novo',\n",
       " 'vice-presidente',\n",
       " 'e',\n",
       " 'troca……',\n",
       " 'https://t.co/BPMWBODUM2',\n",
       " '#beta',\n",
       " '#betalab',\n",
       " '#mg',\n",
       " 'Revista',\n",
       " 'encontra',\n",
       " 'armas',\n",
       " 'e',\n",
       " 'drogas:',\n",
       " 'Rifle,',\n",
       " '42',\n",
       " 'facas',\n",
       " 'e',\n",
       " 'roteador',\n",
       " 'são',\n",
       " 'achados',\n",
       " 'em……',\n",
       " 'https://t.co/TlIOyQeKb0',\n",
       " '#beta',\n",
       " '#betalab',\n",
       " '#mg',\n",
       " 'Rio',\n",
       " 'reforçou',\n",
       " 'Operação',\n",
       " 'Praia:',\n",
       " 'Sábado',\n",
       " 'de',\n",
       " 'calor',\n",
       " 'tem',\n",
       " 'confusão',\n",
       " 'e',\n",
       " 'roubo',\n",
       " 'nas…',\n",
       " 'https://t.co/TwU41FTyfq…',\n",
       " 'https://t.co/fSPlWFWWVo',\n",
       " '#beta',\n",
       " '#betalab',\n",
       " '#mg',\n",
       " 'Segundo',\n",
       " 'agentes',\n",
       " 'penitenciários:',\n",
       " 'Presídios',\n",
       " 'do',\n",
       " 'RJ',\n",
       " 'estão',\n",
       " 'em',\n",
       " 'alerta',\n",
       " 'desde…',\n",
       " 'https://t.co/jODEM3J6Y4…',\n",
       " 'https://t.co/gLMfJEuCNS',\n",
       " '#beta',\n",
       " '#betalab',\n",
       " '#mg',\n",
       " \"'Tinha\",\n",
       " 'que',\n",
       " 'matar',\n",
       " \"mais':\",\n",
       " 'Secretário',\n",
       " 'de',\n",
       " 'Temer',\n",
       " 'deixa',\n",
       " 'cargo',\n",
       " 'após',\n",
       " 'dizer',\n",
       " 'que…',\n",
       " 'https://t.co/ZZm1TCutjz…',\n",
       " 'https://t.co/OoJJ3GcokW',\n",
       " '#beta',\n",
       " '#betalab',\n",
       " '#mg',\n",
       " 'UOL',\n",
       " 'Confere',\n",
       " 'a',\n",
       " 'crise',\n",
       " 'prisional:',\n",
       " 'Gestão',\n",
       " 'privada',\n",
       " 'de',\n",
       " 'presídio',\n",
       " 'não',\n",
       " 'exime…',\n",
       " 'https://t.co/dj5fy2PIwi…',\n",
       " 'https://t.co/wCmH4Qhxt7',\n",
       " '#beta',\n",
       " '#betalab',\n",
       " '#mg',\n",
       " 'UOL',\n",
       " 'Confere:',\n",
       " 'Governo',\n",
       " 'Temer',\n",
       " 'distorce',\n",
       " 'dados',\n",
       " 'econômicos',\n",
       " 'em',\n",
       " 'propaganda',\n",
       " 'de',\n",
       " '120……',\n",
       " 'https://t.co/w4dzb3AgfT',\n",
       " '#BRASILestáCHEIOdeMAMÃEsouFODA',\n",
       " ...]"
      ]
     },
     "execution_count": 155,
     "metadata": {},
     "output_type": "execute_result"
    }
   ],
   "source": [
    "tweets_text_nltk.tokens"
   ]
  },
  {
   "cell_type": "code",
   "execution_count": 156,
   "id": "d74ac691",
   "metadata": {},
   "outputs": [
    {
     "data": {
      "text/plain": [
       "132341"
      ]
     },
     "execution_count": 156,
     "metadata": {},
     "output_type": "execute_result"
    }
   ],
   "source": [
    "len(list_palavras)"
   ]
  },
  {
   "cell_type": "markdown",
   "id": "5abe4453",
   "metadata": {},
   "source": [
    "**Encontrando a frequencia do token 'Minas' e 'Pimental'**"
   ]
  },
  {
   "cell_type": "code",
   "execution_count": 157,
   "id": "664e6a04",
   "metadata": {},
   "outputs": [
    {
     "data": {
      "text/plain": [
       "2626"
      ]
     },
     "execution_count": 157,
     "metadata": {},
     "output_type": "execute_result"
    }
   ],
   "source": [
    "tweets_text_nltk.count('Minas')"
   ]
  },
  {
   "cell_type": "code",
   "execution_count": 158,
   "id": "120d21ec",
   "metadata": {},
   "outputs": [
    {
     "data": {
      "text/plain": [
       "418"
      ]
     },
     "execution_count": 158,
     "metadata": {},
     "output_type": "execute_result"
    }
   ],
   "source": [
    "tweets_text_nltk.count('Pimentel')"
   ]
  },
  {
   "cell_type": "code",
   "execution_count": 159,
   "id": "9e922b6f",
   "metadata": {},
   "outputs": [
    {
     "data": {
      "text/plain": [
       "1.9842679139495696"
      ]
     },
     "execution_count": 159,
     "metadata": {},
     "output_type": "execute_result"
    }
   ],
   "source": [
    "palavra_percentual(list_palavras.count('Minas'), list_palavras)"
   ]
  },
  {
   "cell_type": "code",
   "execution_count": 160,
   "id": "4b5d9e3b",
   "metadata": {},
   "outputs": [
    {
     "data": {
      "text/plain": [
       "0.3158507189759787"
      ]
     },
     "execution_count": 160,
     "metadata": {},
     "output_type": "execute_result"
    }
   ],
   "source": [
    "palavra_percentual(list_palavras.count('Pimentel'), list_palavras)"
   ]
  },
  {
   "cell_type": "markdown",
   "id": "a6b99eb5",
   "metadata": {},
   "source": [
    "**Similaridade de palavras por contextos**"
   ]
  },
  {
   "cell_type": "code",
   "execution_count": 161,
   "id": "43dbdde3",
   "metadata": {},
   "outputs": [
    {
     "name": "stdout",
     "output_type": "stream",
     "text": [
      "mg rt drogas roubo estado o fora bh pimentel anos que governo sp\n",
      "manaus um calamidade casos segurança temer presídio\n"
     ]
    }
   ],
   "source": [
    "tweets_text_nltk.similar('Minas')"
   ]
  },
  {
   "cell_type": "code",
   "execution_count": 170,
   "id": "aad28495",
   "metadata": {},
   "outputs": [
    {
     "name": "stdout",
     "output_type": "stream",
     "text": [
      "minas governo estado anos presídio governador e bh justiça do cultura\n",
      "gente dezembro mais educação fernando helicóptero escalada crime\n",
      "espírito\n"
     ]
    }
   ],
   "source": [
    "tweets_text_nltk.similar('saúde')"
   ]
  },
  {
   "cell_type": "code",
   "execution_count": 163,
   "id": "3c794303",
   "metadata": {},
   "outputs": [
    {
     "name": "stdout",
     "output_type": "stream",
     "text": [
      "minas rt governador estado mg o que fora drogas e anos mas calamidade\n",
      "né resolver ensino gerais é com em\n"
     ]
    }
   ],
   "source": [
    "tweets_text_nltk.similar('Pimentel')"
   ]
  },
  {
   "cell_type": "code",
   "execution_count": 164,
   "id": "d031e042",
   "metadata": {},
   "outputs": [
    {
     "data": {
      "text/plain": [
       "'���⛪ @ Catedral de Santo Antônio - Governador Valadares/MG https://t.co/JSbKamIqUJ'"
      ]
     },
     "execution_count": 164,
     "metadata": {},
     "output_type": "execute_result"
    }
   ],
   "source": [
    "tweets.Text.values[0]"
   ]
  },
  {
   "cell_type": "markdown",
   "id": "c9824951",
   "metadata": {},
   "source": [
    "**Conjuntos de Palavras empregadas similarmente**"
   ]
  },
  {
   "cell_type": "code",
   "execution_count": 171,
   "id": "f9c6a619",
   "metadata": {},
   "outputs": [
    {
     "name": "stdout",
     "output_type": "stream",
     "text": [
      "dois helicópteros; febre amarela; Minas Gerais; calamidade\n",
      "financeira,; compra mais; helicópteros!!A cara; @AnaPaulaVolei: Mais;\n",
      "estado. htt…; avisa Justiça; calamidade financeira; canalhice ainda;\n",
      "mais dois; são maiores; tem recursos; três anos,; Com três; conta\n",
      "judicial; anos, presídio; presídio privado; 21,8 milhões:\n"
     ]
    }
   ],
   "source": [
    "tweets_text_nltk.collocations()"
   ]
  },
  {
   "cell_type": "code",
   "execution_count": 172,
   "id": "e0551c04",
   "metadata": {},
   "outputs": [],
   "source": [
    "# Obtem a frequencia de cada palavra\n",
    "fdist = nltk.FreqDist(p.lower() for p in list_palavras)"
   ]
  },
  {
   "cell_type": "code",
   "execution_count": 173,
   "id": "c35289c8",
   "metadata": {},
   "outputs": [
    {
     "data": {
      "text/plain": [
       "[('de', 8624),\n",
       " ('em', 4478),\n",
       " ('rt', 3080),\n",
       " ('minas', 2945),\n",
       " ('e', 2269),\n",
       " ('estado', 2120),\n",
       " ('mg', 2004),\n",
       " ('-', 1937),\n",
       " ('a', 1889),\n",
       " ('governo', 1775),\n",
       " ('o', 1737),\n",
       " ('do', 1477),\n",
       " ('é', 1289),\n",
       " ('que', 1230),\n",
       " ('mais', 1157),\n",
       " ('gerais', 980),\n",
       " ('drogas', 917),\n",
       " ('com', 913),\n",
       " ('compra', 886),\n",
       " ('calamidade', 882)]"
      ]
     },
     "execution_count": 173,
     "metadata": {},
     "output_type": "execute_result"
    }
   ],
   "source": [
    "fdist.most_common(20)"
   ]
  },
  {
   "cell_type": "markdown",
   "id": "05512fdb",
   "metadata": {},
   "source": [
    "**Removendo Stopwords**"
   ]
  },
  {
   "cell_type": "code",
   "execution_count": 174,
   "id": "c35efba5",
   "metadata": {},
   "outputs": [],
   "source": [
    "# Define a lista de Stopwords\n",
    "stopwords = set(nltk.corpus.stopwords.words('portuguese'))"
   ]
  },
  {
   "cell_type": "code",
   "execution_count": 175,
   "id": "6057da77",
   "metadata": {},
   "outputs": [
    {
     "data": {
      "text/plain": [
       "{'a',\n",
       " 'ao',\n",
       " 'aos',\n",
       " 'aquela',\n",
       " 'aquelas',\n",
       " 'aquele',\n",
       " 'aqueles',\n",
       " 'aquilo',\n",
       " 'as',\n",
       " 'até',\n",
       " 'com',\n",
       " 'como',\n",
       " 'da',\n",
       " 'das',\n",
       " 'de',\n",
       " 'dela',\n",
       " 'delas',\n",
       " 'dele',\n",
       " 'deles',\n",
       " 'depois',\n",
       " 'do',\n",
       " 'dos',\n",
       " 'e',\n",
       " 'ela',\n",
       " 'elas',\n",
       " 'ele',\n",
       " 'eles',\n",
       " 'em',\n",
       " 'entre',\n",
       " 'era',\n",
       " 'eram',\n",
       " 'essa',\n",
       " 'essas',\n",
       " 'esse',\n",
       " 'esses',\n",
       " 'esta',\n",
       " 'estamos',\n",
       " 'estas',\n",
       " 'estava',\n",
       " 'estavam',\n",
       " 'este',\n",
       " 'esteja',\n",
       " 'estejam',\n",
       " 'estejamos',\n",
       " 'estes',\n",
       " 'esteve',\n",
       " 'estive',\n",
       " 'estivemos',\n",
       " 'estiver',\n",
       " 'estivera',\n",
       " 'estiveram',\n",
       " 'estiverem',\n",
       " 'estivermos',\n",
       " 'estivesse',\n",
       " 'estivessem',\n",
       " 'estivéramos',\n",
       " 'estivéssemos',\n",
       " 'estou',\n",
       " 'está',\n",
       " 'estávamos',\n",
       " 'estão',\n",
       " 'eu',\n",
       " 'foi',\n",
       " 'fomos',\n",
       " 'for',\n",
       " 'fora',\n",
       " 'foram',\n",
       " 'forem',\n",
       " 'formos',\n",
       " 'fosse',\n",
       " 'fossem',\n",
       " 'fui',\n",
       " 'fôramos',\n",
       " 'fôssemos',\n",
       " 'haja',\n",
       " 'hajam',\n",
       " 'hajamos',\n",
       " 'havemos',\n",
       " 'hei',\n",
       " 'houve',\n",
       " 'houvemos',\n",
       " 'houver',\n",
       " 'houvera',\n",
       " 'houveram',\n",
       " 'houverei',\n",
       " 'houverem',\n",
       " 'houveremos',\n",
       " 'houveria',\n",
       " 'houveriam',\n",
       " 'houvermos',\n",
       " 'houverá',\n",
       " 'houverão',\n",
       " 'houveríamos',\n",
       " 'houvesse',\n",
       " 'houvessem',\n",
       " 'houvéramos',\n",
       " 'houvéssemos',\n",
       " 'há',\n",
       " 'hão',\n",
       " 'isso',\n",
       " 'isto',\n",
       " 'já',\n",
       " 'lhe',\n",
       " 'lhes',\n",
       " 'mais',\n",
       " 'mas',\n",
       " 'me',\n",
       " 'mesmo',\n",
       " 'meu',\n",
       " 'meus',\n",
       " 'minha',\n",
       " 'minhas',\n",
       " 'muito',\n",
       " 'na',\n",
       " 'nas',\n",
       " 'nem',\n",
       " 'no',\n",
       " 'nos',\n",
       " 'nossa',\n",
       " 'nossas',\n",
       " 'nosso',\n",
       " 'nossos',\n",
       " 'num',\n",
       " 'numa',\n",
       " 'não',\n",
       " 'nós',\n",
       " 'o',\n",
       " 'os',\n",
       " 'ou',\n",
       " 'para',\n",
       " 'pela',\n",
       " 'pelas',\n",
       " 'pelo',\n",
       " 'pelos',\n",
       " 'por',\n",
       " 'qual',\n",
       " 'quando',\n",
       " 'que',\n",
       " 'quem',\n",
       " 'se',\n",
       " 'seja',\n",
       " 'sejam',\n",
       " 'sejamos',\n",
       " 'sem',\n",
       " 'serei',\n",
       " 'seremos',\n",
       " 'seria',\n",
       " 'seriam',\n",
       " 'será',\n",
       " 'serão',\n",
       " 'seríamos',\n",
       " 'seu',\n",
       " 'seus',\n",
       " 'somos',\n",
       " 'sou',\n",
       " 'sua',\n",
       " 'suas',\n",
       " 'são',\n",
       " 'só',\n",
       " 'também',\n",
       " 'te',\n",
       " 'tem',\n",
       " 'temos',\n",
       " 'tenha',\n",
       " 'tenham',\n",
       " 'tenhamos',\n",
       " 'tenho',\n",
       " 'terei',\n",
       " 'teremos',\n",
       " 'teria',\n",
       " 'teriam',\n",
       " 'terá',\n",
       " 'terão',\n",
       " 'teríamos',\n",
       " 'teu',\n",
       " 'teus',\n",
       " 'teve',\n",
       " 'tinha',\n",
       " 'tinham',\n",
       " 'tive',\n",
       " 'tivemos',\n",
       " 'tiver',\n",
       " 'tivera',\n",
       " 'tiveram',\n",
       " 'tiverem',\n",
       " 'tivermos',\n",
       " 'tivesse',\n",
       " 'tivessem',\n",
       " 'tivéramos',\n",
       " 'tivéssemos',\n",
       " 'tu',\n",
       " 'tua',\n",
       " 'tuas',\n",
       " 'tém',\n",
       " 'tínhamos',\n",
       " 'um',\n",
       " 'uma',\n",
       " 'você',\n",
       " 'vocês',\n",
       " 'vos',\n",
       " 'à',\n",
       " 'às',\n",
       " 'é',\n",
       " 'éramos'}"
      ]
     },
     "execution_count": 175,
     "metadata": {},
     "output_type": "execute_result"
    }
   ],
   "source": [
    "# lista de stopwords\n",
    "stopwords"
   ]
  },
  {
   "cell_type": "markdown",
   "id": "e1f013ca",
   "metadata": {},
   "source": [
    "**Remove stopwords da lista de palavras**"
   ]
  },
  {
   "cell_type": "code",
   "execution_count": 176,
   "id": "223a629b",
   "metadata": {},
   "outputs": [
    {
     "name": "stdout",
     "output_type": "stream",
     "text": [
      "['���⛪', '@', 'catedral', 'santo', 'antônio', '-', 'governador', 'valadares/mg', 'https://t.co/jsbkamiquj', '�', '@', 'governador', 'valadares,', 'minas', 'gerais', 'https://t.co/b3thidjcsf', '��', '@', 'governador', 'valadares,', 'minas', 'gerais', 'https://t.co/dpkgzvr2qw', '���', 'https://t.co/bndso34qk0', '���', 'psol', 'vai', 'questionar', 'aumento', 'vereadores', 'prefeito', 'bh', 'justiça', '-', 'politica', '-', 'estado', 'minas', 'https://t.co/dmg7bgsek5', '\"', 'bom', 'bandido', 'morto\"', 'deputado', 'cabo', 'júlio', 'condenado', 'fica', 'inelegível']\n"
     ]
    }
   ],
   "source": [
    "list_palavras = [i.lower() for i in list_palavras if not i.lower() in stopwords]\n",
    "\n",
    "print (list_palavras[:50])"
   ]
  },
  {
   "cell_type": "code",
   "execution_count": 177,
   "id": "3cf6be2f",
   "metadata": {},
   "outputs": [
    {
     "data": {
      "text/plain": [
       "97023"
      ]
     },
     "execution_count": 177,
     "metadata": {},
     "output_type": "execute_result"
    }
   ],
   "source": [
    "len(list_palavras)"
   ]
  },
  {
   "cell_type": "code",
   "execution_count": 178,
   "id": "c3a380d8",
   "metadata": {},
   "outputs": [],
   "source": [
    "# Obtem a frequencia de cada palavra\n",
    "fdist = nltk.FreqDist(p.lower() for p in list_palavras)"
   ]
  },
  {
   "cell_type": "code",
   "execution_count": 181,
   "id": "12b4f3d8",
   "metadata": {},
   "outputs": [
    {
     "data": {
      "text/plain": [
       "[('rt', 3080),\n",
       " ('minas', 2945),\n",
       " ('estado', 2120),\n",
       " ('mg', 2004),\n",
       " ('-', 1937),\n",
       " ('governo', 1775),\n",
       " ('gerais', 980),\n",
       " ('drogas', 917),\n",
       " ('compra', 886),\n",
       " ('calamidade', 882)]"
      ]
     },
     "execution_count": 181,
     "metadata": {},
     "output_type": "execute_result"
    }
   ],
   "source": [
    "fdist.most_common(10)"
   ]
  },
  {
   "cell_type": "markdown",
   "id": "773b141d",
   "metadata": {},
   "source": [
    "# 8.15 - Entendendo e trabalhando com Bigrams e Trigrams usando a NLTK"
   ]
  },
  {
   "cell_type": "markdown",
   "id": "31a711f6",
   "metadata": {},
   "source": [
    "## Trabalhando com Bigrams e Trigrams"
   ]
  },
  {
   "cell_type": "markdown",
   "id": "cc29d1c0",
   "metadata": {},
   "source": [
    "* **n-grams** é uma sequencia continua de n itens para uma amostra de texto ou fala.\n",
    "* **Unigram** palavras únicas\n",
    "\n",
    "* **Bigrams** são pares de palavras.\n",
    "* **Trigrams** são trio de palavras.\n",
    "* **Palavas** juntas são também conhecidas como **Colocações**\n",
    "\n",
    "* Unigramns normalmente **não contém** muita informação quando se comparado com bigramns e trigrams.\n",
    "* Quanto mais palavras mais **contexto** sobre a estrutura da linguagem.\n",
    "* Você deve avaliar o uso de n-gramns levando isso em consideração no seu projeto."
   ]
  },
  {
   "cell_type": "code",
   "execution_count": 182,
   "id": "a13a4e4a",
   "metadata": {},
   "outputs": [],
   "source": [
    "import nltk\n",
    "from nltk import bigrams, trigrams"
   ]
  },
  {
   "cell_type": "markdown",
   "id": "d8b13b34",
   "metadata": {},
   "source": [
    "**Visualizando trigramns**"
   ]
  },
  {
   "cell_type": "code",
   "execution_count": 183,
   "id": "0fe4ebe7",
   "metadata": {},
   "outputs": [
    {
     "data": {
      "text/plain": [
       "[('O rato', 'roeu'),\n",
       " ('roeu', 'roupa'),\n",
       " ('roupa', 'do rei'),\n",
       " ('do rei', 'de roma')]"
      ]
     },
     "execution_count": 183,
     "metadata": {},
     "output_type": "execute_result"
    }
   ],
   "source": [
    "list(bigrams(['O rato', 'roeu', 'roupa', 'do rei', 'de roma']))"
   ]
  },
  {
   "cell_type": "markdown",
   "id": "de33d434",
   "metadata": {},
   "source": [
    "**Visualizando trigramns**"
   ]
  },
  {
   "cell_type": "code",
   "execution_count": 184,
   "id": "2434e9b6",
   "metadata": {},
   "outputs": [
    {
     "data": {
      "text/plain": [
       "[('O rato', 'roeu', 'roupa'),\n",
       " ('roeu', 'roupa', 'do rei'),\n",
       " ('roupa', 'do rei', 'de roma')]"
      ]
     },
     "execution_count": 184,
     "metadata": {},
     "output_type": "execute_result"
    }
   ],
   "source": [
    "list(trigrams(['O rato', 'roeu', 'roupa', 'do rei', 'de roma']))"
   ]
  },
  {
   "cell_type": "markdown",
   "id": "0f69b81e",
   "metadata": {},
   "source": [
    "**Imprimindo bigramns com a base de tweets**"
   ]
  },
  {
   "cell_type": "code",
   "execution_count": 186,
   "id": "f0ec7568",
   "metadata": {},
   "outputs": [
    {
     "name": "stdout",
     "output_type": "stream",
     "text": [
      "[('���⛪', '@'), ('@', 'catedral'), ('catedral', 'santo'), ('santo', 'antônio'), ('antônio', '-'), ('-', 'governador'), ('governador', 'valadares/mg'), ('valadares/mg', 'https://t.co/jsbkamiquj'), ('https://t.co/jsbkamiquj', '�'), ('�', '@'), ('@', 'governador'), ('governador', 'valadares,'), ('valadares,', 'minas'), ('minas', 'gerais'), ('gerais', 'https://t.co/b3thidjcsf'), ('https://t.co/b3thidjcsf', '��'), ('��', '@'), ('@', 'governador'), ('governador', 'valadares,'), ('valadares,', 'minas'), ('minas', 'gerais'), ('gerais', 'https://t.co/dpkgzvr2qw'), ('https://t.co/dpkgzvr2qw', '���'), ('���', 'https://t.co/bndso34qk0'), ('https://t.co/bndso34qk0', '���'), ('���', 'psol'), ('psol', 'vai'), ('vai', 'questionar'), ('questionar', 'aumento'), ('aumento', 'vereadores'), ('vereadores', 'prefeito'), ('prefeito', 'bh'), ('bh', 'justiça'), ('justiça', '-'), ('-', 'politica'), ('politica', '-'), ('-', 'estado'), ('estado', 'minas'), ('minas', 'https://t.co/dmg7bgsek5'), ('https://t.co/dmg7bgsek5', '\"'), ('\"', 'bom'), ('bom', 'bandido'), ('bandido', 'morto\"'), ('morto\"', 'deputado'), ('deputado', 'cabo'), ('cabo', 'júlio'), ('júlio', 'condenado'), ('condenado', 'fica'), ('fica', 'inelegível')]\n"
     ]
    }
   ],
   "source": [
    "print (list(nltk.bigrams(list_palavras[:50])))"
   ]
  },
  {
   "cell_type": "markdown",
   "id": "db8f9157",
   "metadata": {},
   "source": [
    "**Imprimindo trigramns com a base de tweets**"
   ]
  },
  {
   "cell_type": "code",
   "execution_count": 187,
   "id": "8a98a680",
   "metadata": {},
   "outputs": [
    {
     "name": "stdout",
     "output_type": "stream",
     "text": [
      "[('���⛪', '@', 'catedral'), ('@', 'catedral', 'santo'), ('catedral', 'santo', 'antônio'), ('santo', 'antônio', '-'), ('antônio', '-', 'governador'), ('-', 'governador', 'valadares/mg'), ('governador', 'valadares/mg', 'https://t.co/jsbkamiquj'), ('valadares/mg', 'https://t.co/jsbkamiquj', '�'), ('https://t.co/jsbkamiquj', '�', '@'), ('�', '@', 'governador'), ('@', 'governador', 'valadares,'), ('governador', 'valadares,', 'minas'), ('valadares,', 'minas', 'gerais'), ('minas', 'gerais', 'https://t.co/b3thidjcsf'), ('gerais', 'https://t.co/b3thidjcsf', '��'), ('https://t.co/b3thidjcsf', '��', '@'), ('��', '@', 'governador'), ('@', 'governador', 'valadares,'), ('governador', 'valadares,', 'minas'), ('valadares,', 'minas', 'gerais'), ('minas', 'gerais', 'https://t.co/dpkgzvr2qw'), ('gerais', 'https://t.co/dpkgzvr2qw', '���'), ('https://t.co/dpkgzvr2qw', '���', 'https://t.co/bndso34qk0'), ('���', 'https://t.co/bndso34qk0', '���'), ('https://t.co/bndso34qk0', '���', 'psol'), ('���', 'psol', 'vai'), ('psol', 'vai', 'questionar'), ('vai', 'questionar', 'aumento'), ('questionar', 'aumento', 'vereadores'), ('aumento', 'vereadores', 'prefeito'), ('vereadores', 'prefeito', 'bh'), ('prefeito', 'bh', 'justiça'), ('bh', 'justiça', '-'), ('justiça', '-', 'politica'), ('-', 'politica', '-'), ('politica', '-', 'estado'), ('-', 'estado', 'minas'), ('estado', 'minas', 'https://t.co/dmg7bgsek5'), ('minas', 'https://t.co/dmg7bgsek5', '\"'), ('https://t.co/dmg7bgsek5', '\"', 'bom'), ('\"', 'bom', 'bandido'), ('bom', 'bandido', 'morto\"'), ('bandido', 'morto\"', 'deputado'), ('morto\"', 'deputado', 'cabo'), ('deputado', 'cabo', 'júlio'), ('cabo', 'júlio', 'condenado'), ('júlio', 'condenado', 'fica'), ('condenado', 'fica', 'inelegível')]\n"
     ]
    }
   ],
   "source": [
    "print (list(nltk.trigrams(list_palavras[:50])))"
   ]
  },
  {
   "cell_type": "markdown",
   "id": "210d23a6",
   "metadata": {},
   "source": [
    "# 8.16 - Textblob: Tradução de Sentenças, correção de textos, bigrams, trigrams, análise de sentimentos e classificadores"
   ]
  },
  {
   "cell_type": "markdown",
   "id": "af43d8da",
   "metadata": {},
   "source": [
    "## NLTK - Text Mining"
   ]
  },
  {
   "cell_type": "markdown",
   "id": "3bcc672e",
   "metadata": {},
   "source": [
    "* Exploraremos recursos da nltk\n",
    "* Manipulação de textos de recursos para trabalho com NLP"
   ]
  },
  {
   "cell_type": "code",
   "execution_count": 189,
   "id": "8c65b2f2",
   "metadata": {},
   "outputs": [],
   "source": [
    "import nltk\n",
    "from nltk.tokenize import word_tokenize, sent_tokenize"
   ]
  },
  {
   "cell_type": "code",
   "execution_count": 190,
   "id": "0496c9ce",
   "metadata": {},
   "outputs": [],
   "source": [
    "texto = \"A casa era feita de Papel. Pablo ganhou na megasena. A baleia é azul\""
   ]
  },
  {
   "cell_type": "markdown",
   "id": "3a6b8264",
   "metadata": {},
   "source": [
    "**Tokenization da frase**"
   ]
  },
  {
   "cell_type": "code",
   "execution_count": 191,
   "id": "89cf9891",
   "metadata": {},
   "outputs": [
    {
     "data": {
      "text/plain": [
       "['A',\n",
       " 'casa',\n",
       " 'era',\n",
       " 'feita',\n",
       " 'de',\n",
       " 'Papel',\n",
       " '.',\n",
       " 'Pablo',\n",
       " 'ganhou',\n",
       " 'na',\n",
       " 'megasena',\n",
       " '.',\n",
       " 'A',\n",
       " 'baleia',\n",
       " 'é',\n",
       " 'azul']"
      ]
     },
     "execution_count": 191,
     "metadata": {},
     "output_type": "execute_result"
    }
   ],
   "source": [
    "word_tokenize(texto)"
   ]
  },
  {
   "cell_type": "markdown",
   "id": "79129de0",
   "metadata": {},
   "source": [
    "**Detectando sentenças**"
   ]
  },
  {
   "cell_type": "code",
   "execution_count": 192,
   "id": "d26a18c7",
   "metadata": {},
   "outputs": [
    {
     "data": {
      "text/plain": [
       "['A casa era feita de Papel.', 'Pablo ganhou na megasena.', 'A baleia é azul']"
      ]
     },
     "execution_count": 192,
     "metadata": {},
     "output_type": "execute_result"
    }
   ],
   "source": [
    "sent_tokenize(texto)"
   ]
  },
  {
   "cell_type": "markdown",
   "id": "655b9389",
   "metadata": {},
   "source": [
    "## Trabalhando com a TextBlob"
   ]
  },
  {
   "cell_type": "markdown",
   "id": "d4192843",
   "metadata": {},
   "source": [
    "* Extensão da NLTK para trabalhos com NLP.\n",
    "* Fácil usabilidade garantindo uma interface mais amigável.\n",
    "* Documentação rica.\n",
    "* Maior integrações com outros serviços e produtos."
   ]
  },
  {
   "cell_type": "markdown",
   "id": "9f3edc0a",
   "metadata": {},
   "source": [
    "**Instala a biblioteca**"
   ]
  },
  {
   "cell_type": "code",
   "execution_count": null,
   "id": "4f48e484",
   "metadata": {},
   "outputs": [],
   "source": [
    "!pip install textblob"
   ]
  },
  {
   "cell_type": "markdown",
   "id": "b9d0f1b7",
   "metadata": {},
   "source": [
    "**Baixando bases de dados utilizadas pela NLTK**"
   ]
  },
  {
   "cell_type": "code",
   "execution_count": null,
   "id": "a04a76a6",
   "metadata": {},
   "outputs": [],
   "source": [
    "!python -m textblob.download_corpora"
   ]
  },
  {
   "cell_type": "markdown",
   "id": "1b300f44",
   "metadata": {},
   "source": [
    "**Baixa apenas poucos dados para o minimo necessário**"
   ]
  },
  {
   "cell_type": "code",
   "execution_count": null,
   "id": "e8817f4f",
   "metadata": {},
   "outputs": [],
   "source": [
    "# !python -m textblob.download_corpora lite"
   ]
  },
  {
   "cell_type": "code",
   "execution_count": 193,
   "id": "9ef6072f",
   "metadata": {},
   "outputs": [],
   "source": [
    "from textblob import TextBlob"
   ]
  },
  {
   "cell_type": "code",
   "execution_count": 194,
   "id": "7a4f7503",
   "metadata": {},
   "outputs": [],
   "source": [
    "frases = TextBlob(\"Python é uma ótima linguagem para Data Science. Minerando Dados a sua comunidade\")"
   ]
  },
  {
   "cell_type": "code",
   "execution_count": 195,
   "id": "b76ba358",
   "metadata": {},
   "outputs": [
    {
     "data": {
      "text/plain": [
       "WordList(['Python', 'é', 'uma', 'ótima', 'linguagem', 'para', 'Data', 'Science', '.', 'Minerando', 'Dados', 'a', 'sua', 'comunidade'])"
      ]
     },
     "execution_count": 195,
     "metadata": {},
     "output_type": "execute_result"
    }
   ],
   "source": [
    "frases.tokens"
   ]
  },
  {
   "cell_type": "markdown",
   "id": "aa880231",
   "metadata": {},
   "source": [
    "**Detectando Sentenças**"
   ]
  },
  {
   "cell_type": "code",
   "execution_count": 196,
   "id": "3cf7c104",
   "metadata": {},
   "outputs": [
    {
     "data": {
      "text/plain": [
       "[Sentence(\"Python é uma ótima linguagem para Data Science.\"),\n",
       " Sentence(\"Minerando Dados a sua comunidade\")]"
      ]
     },
     "execution_count": 196,
     "metadata": {},
     "output_type": "execute_result"
    }
   ],
   "source": [
    "frases.sentences"
   ]
  },
  {
   "cell_type": "markdown",
   "id": "9ef3f2fd",
   "metadata": {},
   "source": [
    "**Traduzindo sentenças**"
   ]
  },
  {
   "cell_type": "markdown",
   "id": "4e1683fe",
   "metadata": {},
   "source": [
    "* Detecção automática de idioma"
   ]
  },
  {
   "cell_type": "code",
   "execution_count": null,
   "id": "4942145c",
   "metadata": {},
   "outputs": [],
   "source": [
    "frases.detect_language()"
   ]
  },
  {
   "cell_type": "code",
   "execution_count": null,
   "id": "2b87ab74",
   "metadata": {},
   "outputs": [],
   "source": [
    "frases.translate(to='en')"
   ]
  },
  {
   "cell_type": "markdown",
   "id": "2c6ec330",
   "metadata": {},
   "source": [
    "* Explicitamente informando o idioma"
   ]
  },
  {
   "cell_type": "code",
   "execution_count": null,
   "id": "aa5f633d",
   "metadata": {},
   "outputs": [],
   "source": [
    "frases.translate(from_lang='pt',to='en')"
   ]
  },
  {
   "cell_type": "markdown",
   "id": "53256e29",
   "metadata": {},
   "source": [
    "**Traduzindo sentenças para espanhol**"
   ]
  },
  {
   "cell_type": "code",
   "execution_count": null,
   "id": "4219ee91",
   "metadata": {},
   "outputs": [],
   "source": [
    "frases.translate(from_lang='pt',to='es')"
   ]
  },
  {
   "cell_type": "markdown",
   "id": "ccb04745",
   "metadata": {},
   "source": [
    "**Correção automática**"
   ]
  },
  {
   "cell_type": "code",
   "execution_count": 198,
   "id": "66fb1b19",
   "metadata": {},
   "outputs": [],
   "source": [
    "frase = TextBlob('Eu tenhu que sair daqu hoji')"
   ]
  },
  {
   "cell_type": "code",
   "execution_count": 199,
   "id": "e1ac8f1c",
   "metadata": {},
   "outputs": [
    {
     "data": {
      "text/plain": [
       "TextBlob(\"U ten que said day how\")"
      ]
     },
     "execution_count": 199,
     "metadata": {},
     "output_type": "execute_result"
    }
   ],
   "source": [
    "frase.correct()"
   ]
  },
  {
   "cell_type": "markdown",
   "id": "636f78f5",
   "metadata": {},
   "source": [
    "**Corrigindo frases em Ingless**"
   ]
  },
  {
   "cell_type": "code",
   "execution_count": 201,
   "id": "d1ef4d72",
   "metadata": {},
   "outputs": [],
   "source": [
    "frase = TextBlob('I havv othyr idea, ok !! comi on')"
   ]
  },
  {
   "cell_type": "code",
   "execution_count": 202,
   "id": "13c7dce4",
   "metadata": {},
   "outputs": [
    {
     "data": {
      "text/plain": [
       "TextBlob(\"I have other idea, ok !! come on\")"
      ]
     },
     "execution_count": 202,
     "metadata": {},
     "output_type": "execute_result"
    }
   ],
   "source": [
    "frase.correct()"
   ]
  },
  {
   "cell_type": "markdown",
   "id": "d990aa4c",
   "metadata": {},
   "source": [
    "**Trabalhando com n-grams**"
   ]
  },
  {
   "cell_type": "markdown",
   "id": "535f1038",
   "metadata": {},
   "source": [
    "* Bigram"
   ]
  },
  {
   "cell_type": "code",
   "execution_count": 203,
   "id": "e99d7e5f",
   "metadata": {},
   "outputs": [
    {
     "data": {
      "text/plain": [
       "[WordList(['Python', 'is']),\n",
       " WordList(['is', 'a']),\n",
       " WordList(['a', 'great']),\n",
       " WordList(['great', 'language']),\n",
       " WordList(['language', 'for']),\n",
       " WordList(['for', 'Data']),\n",
       " WordList(['Data', 'Science'])]"
      ]
     },
     "execution_count": 203,
     "metadata": {},
     "output_type": "execute_result"
    }
   ],
   "source": [
    "frase = TextBlob(\"Python is a great language for Data Science\")\n",
    "frase.ngrams(n=2)"
   ]
  },
  {
   "cell_type": "markdown",
   "id": "fe68f185",
   "metadata": {},
   "source": [
    "* Trigram"
   ]
  },
  {
   "cell_type": "code",
   "execution_count": 204,
   "id": "ddfa2902",
   "metadata": {},
   "outputs": [
    {
     "data": {
      "text/plain": [
       "[WordList(['Python', 'is', 'a']),\n",
       " WordList(['is', 'a', 'great']),\n",
       " WordList(['a', 'great', 'language']),\n",
       " WordList(['great', 'language', 'for']),\n",
       " WordList(['language', 'for', 'Data']),\n",
       " WordList(['for', 'Data', 'Science'])]"
      ]
     },
     "execution_count": 204,
     "metadata": {},
     "output_type": "execute_result"
    }
   ],
   "source": [
    "frase = TextBlob(\"Python is a great language for Data Science\")\n",
    "frase.ngrams(n=3)"
   ]
  },
  {
   "cell_type": "markdown",
   "id": "7d322cf6",
   "metadata": {},
   "source": [
    "* Fourgram"
   ]
  },
  {
   "cell_type": "code",
   "execution_count": 205,
   "id": "b830cd25",
   "metadata": {},
   "outputs": [
    {
     "data": {
      "text/plain": [
       "[WordList(['Python', 'is', 'a', 'great']),\n",
       " WordList(['is', 'a', 'great', 'language']),\n",
       " WordList(['a', 'great', 'language', 'for']),\n",
       " WordList(['great', 'language', 'for', 'Data']),\n",
       " WordList(['language', 'for', 'Data', 'Science'])]"
      ]
     },
     "execution_count": 205,
     "metadata": {},
     "output_type": "execute_result"
    }
   ],
   "source": [
    "frase = TextBlob(\"Python is a great language for Data Science\")\n",
    "frase.ngrams(n=4)"
   ]
  },
  {
   "cell_type": "markdown",
   "id": "1a245c2f",
   "metadata": {},
   "source": [
    "## Análise de Sentimentos"
   ]
  },
  {
   "cell_type": "markdown",
   "id": "7ebe929d",
   "metadata": {},
   "source": [
    "* Análise de sentimentos usando a biblioteca **Pattern**.\n",
    "* Por padrão o textblob utiliza base léxica.\n",
    "* É possível alterar o classificador para utilizar Machine Learning."
   ]
  },
  {
   "cell_type": "code",
   "execution_count": 206,
   "id": "c7567ec2",
   "metadata": {},
   "outputs": [],
   "source": [
    "frase = TextBlob(\"Python é uma ótima linguagem\")"
   ]
  },
  {
   "cell_type": "code",
   "execution_count": 207,
   "id": "945bc01d",
   "metadata": {},
   "outputs": [
    {
     "data": {
      "text/plain": [
       "Sentiment(polarity=0.0, subjectivity=0.0)"
      ]
     },
     "execution_count": 207,
     "metadata": {},
     "output_type": "execute_result"
    }
   ],
   "source": [
    "frase.sentiment\n",
    "\n",
    "# Biblioteca com limitações para  o idioma português"
   ]
  },
  {
   "cell_type": "code",
   "execution_count": 208,
   "id": "7d426d62",
   "metadata": {},
   "outputs": [],
   "source": [
    "frase = TextBlob(\"Python is a great language for Data Science\")"
   ]
  },
  {
   "cell_type": "code",
   "execution_count": 209,
   "id": "dcd2874f",
   "metadata": {},
   "outputs": [
    {
     "data": {
      "text/plain": [
       "Sentiment(polarity=0.8, subjectivity=0.75)"
      ]
     },
     "execution_count": 209,
     "metadata": {},
     "output_type": "execute_result"
    }
   ],
   "source": [
    "frase.sentiment"
   ]
  },
  {
   "cell_type": "code",
   "execution_count": 210,
   "id": "228b06de",
   "metadata": {},
   "outputs": [
    {
     "data": {
      "text/plain": [
       "Sentiment(polarity=-1.0, subjectivity=1.0)"
      ]
     },
     "execution_count": 210,
     "metadata": {},
     "output_type": "execute_result"
    }
   ],
   "source": [
    "frase = TextBlob(\"Python is a terrible language!\")\n",
    "frase.sentiment"
   ]
  },
  {
   "cell_type": "markdown",
   "id": "b23c978b",
   "metadata": {},
   "source": [
    "* Alterando o Classificador utilizado para Análise de Sentimentos"
   ]
  },
  {
   "cell_type": "code",
   "execution_count": 211,
   "id": "dbb3206f",
   "metadata": {},
   "outputs": [],
   "source": [
    "from textblob.sentiments import NaiveBayesAnalyzer"
   ]
  },
  {
   "cell_type": "code",
   "execution_count": 212,
   "id": "d6ddebe8",
   "metadata": {},
   "outputs": [
    {
     "data": {
      "text/plain": [
       "Sentiment(classification='pos', p_pos=0.6635684561319586, p_neg=0.33643154386804197)"
      ]
     },
     "execution_count": 212,
     "metadata": {},
     "output_type": "execute_result"
    }
   ],
   "source": [
    "frase = TextBlob(\"Python is a great language for Data Science\", analyzer=NaiveBayesAnalyzer())\n",
    "frase.sentiment"
   ]
  },
  {
   "cell_type": "markdown",
   "id": "59d07973",
   "metadata": {},
   "source": [
    "# 8.17 - Criando um Classificador de Notícias usando biblioteca Textblob"
   ]
  },
  {
   "cell_type": "markdown",
   "id": "98ade9c6",
   "metadata": {},
   "source": [
    "## Classificando documentos usando Textblob"
   ]
  },
  {
   "cell_type": "markdown",
   "id": "51edff32",
   "metadata": {},
   "source": [
    "**Importando a Biblioteca**"
   ]
  },
  {
   "cell_type": "code",
   "execution_count": 213,
   "id": "e504abb5",
   "metadata": {},
   "outputs": [],
   "source": [
    "from textblob import TextBlob"
   ]
  },
  {
   "cell_type": "markdown",
   "id": "4bb273ca",
   "metadata": {},
   "source": [
    "* Criando um modelo para classificar frases.\n",
    "* Base de dados em português."
   ]
  },
  {
   "cell_type": "markdown",
   "id": "9d00af67",
   "metadata": {},
   "source": [
    "**Ler a base de dados de noticias**"
   ]
  },
  {
   "cell_type": "code",
   "execution_count": 214,
   "id": "9c826383",
   "metadata": {},
   "outputs": [],
   "source": [
    "news = pd.read_csv(caminho + r'\\news.csv', sep=';', header=None)"
   ]
  },
  {
   "cell_type": "code",
   "execution_count": 215,
   "id": "632c6b55",
   "metadata": {},
   "outputs": [
    {
     "data": {
      "text/html": [
       "<div>\n",
       "<style scoped>\n",
       "    .dataframe tbody tr th:only-of-type {\n",
       "        vertical-align: middle;\n",
       "    }\n",
       "\n",
       "    .dataframe tbody tr th {\n",
       "        vertical-align: top;\n",
       "    }\n",
       "\n",
       "    .dataframe thead th {\n",
       "        text-align: right;\n",
       "    }\n",
       "</style>\n",
       "<table border=\"1\" class=\"dataframe\">\n",
       "  <thead>\n",
       "    <tr style=\"text-align: right;\">\n",
       "      <th></th>\n",
       "      <th>0</th>\n",
       "      <th>1</th>\n",
       "    </tr>\n",
       "  </thead>\n",
       "  <tbody>\n",
       "    <tr>\n",
       "      <th>0</th>\n",
       "      <td>O capitão américa aparece sobrevoando São Paul...</td>\n",
       "      <td>verdadeiro</td>\n",
       "    </tr>\n",
       "    <tr>\n",
       "      <th>1</th>\n",
       "      <td>A polarização da população gera guerra civil</td>\n",
       "      <td>fake_news</td>\n",
       "    </tr>\n",
       "    <tr>\n",
       "      <th>2</th>\n",
       "      <td>O Chaves se pronuncia e diz está indignado com...</td>\n",
       "      <td>verdadeiro</td>\n",
       "    </tr>\n",
       "    <tr>\n",
       "      <th>3</th>\n",
       "      <td>Morte do precidenciavel X por acidente de aviao</td>\n",
       "      <td>verdadeiro</td>\n",
       "    </tr>\n",
       "    <tr>\n",
       "      <th>4</th>\n",
       "      <td>Monumento de Brasilia é atacado por manifestan...</td>\n",
       "      <td>fake_news</td>\n",
       "    </tr>\n",
       "  </tbody>\n",
       "</table>\n",
       "</div>"
      ],
      "text/plain": [
       "                                                   0           1\n",
       "0  O capitão américa aparece sobrevoando São Paul...  verdadeiro\n",
       "1       A polarização da população gera guerra civil   fake_news\n",
       "2  O Chaves se pronuncia e diz está indignado com...  verdadeiro\n",
       "3    Morte do precidenciavel X por acidente de aviao  verdadeiro\n",
       "4  Monumento de Brasilia é atacado por manifestan...   fake_news"
      ]
     },
     "execution_count": 215,
     "metadata": {},
     "output_type": "execute_result"
    }
   ],
   "source": [
    "news.head()"
   ]
  },
  {
   "cell_type": "code",
   "execution_count": 216,
   "id": "6517e071",
   "metadata": {},
   "outputs": [
    {
     "data": {
      "text/plain": [
       "array([['O capitão américa aparece sobrevoando São Paulo e diz que irá se candidatar',\n",
       "        'verdadeiro'],\n",
       "       ['A polarização da população gera guerra civil', 'fake_news'],\n",
       "       ['O Chaves se pronuncia e diz está indignado com tanta mentira.',\n",
       "        'verdadeiro'],\n",
       "       ['Morte do precidenciavel X por acidente de aviao', 'verdadeiro'],\n",
       "       ['Monumento de Brasilia é atacado por manifestantes e eleicoes seráo canceladas',\n",
       "        'fake_news'],\n",
       "       ['Novo presidente se diz confiante para governar o pais',\n",
       "        'verdadeiro'],\n",
       "       ['Jair Bolsonaro sobe no ranking de rejeicao no nordeste',\n",
       "        'verdadeiro'],\n",
       "       ['Haddad melhora nas pesquisas apos apoio de Lula', 'verdadeiro'],\n",
       "       ['Disputa no segundo turno está cada vez mais acirrada entre os extremos',\n",
       "        'verdadeiro'],\n",
       "       ['Amoedo declara apoio ao PT', 'fake_news'],\n",
       "       ['Manifestantes em Sao Paulo param avenida pedem intervençao militar!',\n",
       "        'fake_news'],\n",
       "       ['Padre Marcelo Rossi diz que irá se candidatar a presidencia',\n",
       "        'fake_news'],\n",
       "       ['Ex presidente Lula consegue habeas Corpus e pode ser candidato',\n",
       "        'fake_news'],\n",
       "       ['Presidente temmer declara apoio ao partido NOVO', 'fake_news'],\n",
       "       ['Mourao declara que é contra o 13 salario e adiantamento de férias de funcionários',\n",
       "        'verdadeiro']], dtype=object)"
      ]
     },
     "execution_count": 216,
     "metadata": {},
     "output_type": "execute_result"
    }
   ],
   "source": [
    "news.values"
   ]
  },
  {
   "cell_type": "markdown",
   "id": "696af81f",
   "metadata": {},
   "source": [
    "**Importa o classificador NaiveBayes**"
   ]
  },
  {
   "cell_type": "code",
   "execution_count": 217,
   "id": "295cd7a7",
   "metadata": {},
   "outputs": [],
   "source": [
    "from textblob.classifiers import NaiveBayesClassifier"
   ]
  },
  {
   "cell_type": "markdown",
   "id": "ef495f98",
   "metadata": {},
   "source": [
    "**Treina o classificador**"
   ]
  },
  {
   "cell_type": "code",
   "execution_count": 218,
   "id": "4c5ffe60",
   "metadata": {},
   "outputs": [],
   "source": [
    "clf = NaiveBayesClassifier(news.values, format=\"csv\")"
   ]
  },
  {
   "cell_type": "code",
   "execution_count": 219,
   "id": "fc19d820",
   "metadata": {},
   "outputs": [
    {
     "data": {
      "text/plain": [
       "{'contains(Chaves)': False,\n",
       " 'contains(da)': False,\n",
       " 'contains(ao)': False,\n",
       " 'contains(ranking)': False,\n",
       " 'contains(civil)': False,\n",
       " 'contains(confiante)': False,\n",
       " 'contains(PT)': False,\n",
       " 'contains(eleicoes)': False,\n",
       " 'contains(é)': False,\n",
       " 'contains(governar)': False,\n",
       " 'contains(os)': False,\n",
       " 'contains(Novo)': False,\n",
       " 'contains(que)': False,\n",
       " 'contains(pronuncia)': False,\n",
       " 'contains(e)': False,\n",
       " 'contains(apoio)': True,\n",
       " 'contains(intervençao)': False,\n",
       " 'contains(entre)': False,\n",
       " 'contains(Paulo)': False,\n",
       " 'contains(canceladas)': False,\n",
       " 'contains(pedem)': False,\n",
       " 'contains(Bolsonaro)': False,\n",
       " 'contains(apos)': False,\n",
       " 'contains(aviao)': False,\n",
       " 'contains(salario)': False,\n",
       " 'contains(seráo)': False,\n",
       " 'contains(o)': False,\n",
       " 'contains(Padre)': False,\n",
       " 'contains(funcionários)': False,\n",
       " 'contains(nordeste)': False,\n",
       " 'contains(presidente)': False,\n",
       " 'contains(ser)': False,\n",
       " 'contains(segundo)': False,\n",
       " 'contains(Morte)': False,\n",
       " 'contains(cada)': False,\n",
       " 'contains(Ex)': False,\n",
       " 'contains(param)': False,\n",
       " 'contains(Presidente)': False,\n",
       " 'contains(consegue)': False,\n",
       " 'contains(contra)': False,\n",
       " 'contains(capitão)': False,\n",
       " 'contains(O)': False,\n",
       " 'contains(candidato)': False,\n",
       " 'contains(Mourao)': False,\n",
       " 'contains(Jair)': False,\n",
       " 'contains(por)': False,\n",
       " 'contains(melhora)': False,\n",
       " 'contains(no)': False,\n",
       " 'contains(Rossi)': False,\n",
       " 'contains(nas)': False,\n",
       " 'contains(rejeicao)': False,\n",
       " 'contains(NOVO)': False,\n",
       " 'contains(acidente)': False,\n",
       " 'contains(A)': False,\n",
       " 'contains(candidatar)': False,\n",
       " 'contains(vez)': False,\n",
       " 'contains(com)': False,\n",
       " 'contains(sobrevoando)': False,\n",
       " 'contains(em)': False,\n",
       " 'contains(avenida)': False,\n",
       " 'contains(américa)': False,\n",
       " 'contains(se)': False,\n",
       " 'contains(Monumento)': False,\n",
       " 'contains(guerra)': False,\n",
       " 'contains(adiantamento)': False,\n",
       " 'contains(do)': False,\n",
       " 'contains(gera)': False,\n",
       " 'contains(turno)': False,\n",
       " 'contains(mais)': False,\n",
       " 'contains(Corpus)': False,\n",
       " 'contains(pais)': False,\n",
       " 'contains(presidencia)': False,\n",
       " 'contains(diz)': False,\n",
       " 'contains(militar)': False,\n",
       " 'contains(de)': False,\n",
       " 'contains(a)': False,\n",
       " 'contains(férias)': False,\n",
       " 'contains(população)': False,\n",
       " 'contains(Manifestantes)': False,\n",
       " 'contains(13)': False,\n",
       " 'contains(Brasilia)': False,\n",
       " 'contains(precidenciavel)': False,\n",
       " 'contains(indignado)': False,\n",
       " 'contains(mentira)': False,\n",
       " 'contains(temmer)': False,\n",
       " 'contains(extremos)': False,\n",
       " 'contains(irá)': False,\n",
       " 'contains(Amoedo)': False,\n",
       " 'contains(partido)': False,\n",
       " 'contains(tanta)': False,\n",
       " 'contains(atacado)': False,\n",
       " 'contains(está)': False,\n",
       " 'contains(Disputa)': False,\n",
       " 'contains(pode)': False,\n",
       " 'contains(pesquisas)': False,\n",
       " 'contains(Haddad)': False,\n",
       " 'contains(Lula)': False,\n",
       " 'contains(Marcelo)': False,\n",
       " 'contains(polarização)': False,\n",
       " 'contains(manifestantes)': False,\n",
       " 'contains(habeas)': False,\n",
       " 'contains(São)': False,\n",
       " 'contains(X)': False,\n",
       " 'contains(para)': False,\n",
       " 'contains(acirrada)': False,\n",
       " 'contains(aparece)': False,\n",
       " 'contains(declara)': True,\n",
       " 'contains(Sao)': False,\n",
       " 'contains(sobe)': False}"
      ]
     },
     "execution_count": 219,
     "metadata": {},
     "output_type": "execute_result"
    }
   ],
   "source": [
    "# modelagem do tipo bag of words\n",
    "clf.extract_features('Chuva declara apoio aos baixinhos')"
   ]
  },
  {
   "cell_type": "code",
   "execution_count": 220,
   "id": "d4d64615",
   "metadata": {},
   "outputs": [
    {
     "data": {
      "text/plain": [
       "'fake_news'"
      ]
     },
     "execution_count": 220,
     "metadata": {},
     "output_type": "execute_result"
    }
   ],
   "source": [
    "clf.classify('Xuxa declara apoio aos baixinhos')"
   ]
  },
  {
   "cell_type": "code",
   "execution_count": 221,
   "id": "561b0c38",
   "metadata": {},
   "outputs": [
    {
     "data": {
      "text/plain": [
       "'fake_news'"
      ]
     },
     "execution_count": 221,
     "metadata": {},
     "output_type": "execute_result"
    }
   ],
   "source": [
    "clf.classify('Presidente Temmer declara apoio a candidato do PSDB')"
   ]
  },
  {
   "cell_type": "code",
   "execution_count": 222,
   "id": "4e94db0a",
   "metadata": {},
   "outputs": [
    {
     "data": {
      "text/plain": [
       "'verdadeiro'"
      ]
     },
     "execution_count": 222,
     "metadata": {},
     "output_type": "execute_result"
    }
   ],
   "source": [
    "clf.classify('Disputa entre presidenciais sera mesmo no segundo turno')"
   ]
  },
  {
   "cell_type": "markdown",
   "id": "8159452a",
   "metadata": {},
   "source": [
    "**Distribuicao das Probabilidades**"
   ]
  },
  {
   "cell_type": "code",
   "execution_count": 223,
   "id": "444e1640",
   "metadata": {},
   "outputs": [],
   "source": [
    "dist_prob = clf.prob_classify('Padre Marcelo Rossi se pronuncia e diz que irá se candidatar')"
   ]
  },
  {
   "cell_type": "code",
   "execution_count": 224,
   "id": "21f82859",
   "metadata": {},
   "outputs": [
    {
     "data": {
      "text/plain": [
       "0.8336538270304833"
      ]
     },
     "execution_count": 224,
     "metadata": {},
     "output_type": "execute_result"
    }
   ],
   "source": [
    "dist_prob.prob('fake_news')"
   ]
  },
  {
   "cell_type": "code",
   "execution_count": 225,
   "id": "b8feb573",
   "metadata": {},
   "outputs": [
    {
     "data": {
      "text/plain": [
       "0.16634617296951504"
      ]
     },
     "execution_count": 225,
     "metadata": {},
     "output_type": "execute_result"
    }
   ],
   "source": [
    "dist_prob.prob('verdadeiro')"
   ]
  },
  {
   "cell_type": "code",
   "execution_count": 226,
   "id": "1d5a8c12",
   "metadata": {},
   "outputs": [
    {
     "data": {
      "text/plain": [
       "'fake_news'"
      ]
     },
     "execution_count": 226,
     "metadata": {},
     "output_type": "execute_result"
    }
   ],
   "source": [
    "dist_prob.max()"
   ]
  },
  {
   "cell_type": "markdown",
   "id": "34f3c924",
   "metadata": {},
   "source": [
    "**Avaliando o classificador usando um conjunto de validação**"
   ]
  },
  {
   "cell_type": "code",
   "execution_count": 227,
   "id": "1010c794",
   "metadata": {},
   "outputs": [],
   "source": [
    "validacao = [\n",
    "     ('O governo temmer propoe reforma trabalhista', 'verdadeiro'),\n",
    "     ('Capitão america é visto em campanha eleitoral do partido NOVO', 'fake_news'),\n",
    "     (\"Lula é solto essa madrugada\", 'fake_news'),\n",
    "     (\"Jair Bolsonaro melhora nas pesquisas após atentado.\", 'verdadeiro')\n",
    "]"
   ]
  },
  {
   "cell_type": "markdown",
   "id": "d79fb94f",
   "metadata": {},
   "source": [
    "**Visualizando a Acurácia do Modelo**"
   ]
  },
  {
   "cell_type": "code",
   "execution_count": 228,
   "id": "945db989",
   "metadata": {},
   "outputs": [
    {
     "data": {
      "text/plain": [
       "0.75"
      ]
     },
     "execution_count": 228,
     "metadata": {},
     "output_type": "execute_result"
    }
   ],
   "source": [
    "clf.accuracy(validacao)"
   ]
  },
  {
   "cell_type": "code",
   "execution_count": 229,
   "id": "b2658b7f",
   "metadata": {},
   "outputs": [
    {
     "name": "stdout",
     "output_type": "stream",
     "text": [
      "O governo temmer propoe reforma trabalhista fake_news\n",
      "Capitão america é visto em campanha eleitoral do partido NOVO fake_news\n",
      "Lula é solto essa madrugada fake_news\n",
      "Jair Bolsonaro melhora nas pesquisas após atentado. verdadeiro\n"
     ]
    }
   ],
   "source": [
    "for i in validacao:\n",
    "    print (i[0], clf.classify(i[0]))"
   ]
  },
  {
   "cell_type": "code",
   "execution_count": 231,
   "id": "405b5667",
   "metadata": {},
   "outputs": [
    {
     "name": "stdout",
     "output_type": "stream",
     "text": [
      "Most Informative Features\n",
      "            contains(de) = True           verdad : fake_n =      2.7 : 1.0\n",
      "           contains(diz) = True           verdad : fake_n =      2.1 : 1.0\n",
      "            contains(se) = True           verdad : fake_n =      2.1 : 1.0\n",
      "         contains(apoio) = True           fake_n : verdad =      1.9 : 1.0\n",
      "       contains(declara) = True           fake_n : verdad =      1.9 : 1.0\n",
      "            contains(de) = False          fake_n : verdad =      1.6 : 1.0\n",
      "           contains(que) = True           verdad : fake_n =      1.5 : 1.0\n",
      "            contains(ao) = False          verdad : fake_n =      1.4 : 1.0\n",
      "           contains(diz) = False          fake_n : verdad =      1.3 : 1.0\n",
      "            contains(se) = False          fake_n : verdad =      1.3 : 1.0\n",
      "None\n"
     ]
    }
   ],
   "source": [
    "# Features mais informativas\n",
    "print (clf.show_informative_features(10))"
   ]
  },
  {
   "cell_type": "markdown",
   "id": "2a80c9b1",
   "metadata": {},
   "source": [
    "# 8.19 - Trabalhando com Similaridades de Strings usando a biblioteca Fuzzywuzzy"
   ]
  },
  {
   "cell_type": "markdown",
   "id": "b3abd4d8",
   "metadata": {},
   "source": [
    "## Similaridade de Strings"
   ]
  },
  {
   "cell_type": "markdown",
   "id": "6e525fba",
   "metadata": {},
   "source": [
    "Aplicações:<BR>\n",
    "    * Data Cleaning<BR>\n",
    "    * Correção de digitação<BR>\n",
    "    * Tradução de idiomas"
   ]
  },
  {
   "cell_type": "markdown",
   "id": "a3150d46",
   "metadata": {},
   "source": [
    "FuzzyWuzzy - Levenshtein_distance - https://en.wikipedia.org/wiki/Levenshtein_distance"
   ]
  },
  {
   "cell_type": "code",
   "execution_count": null,
   "id": "8dca360c",
   "metadata": {},
   "outputs": [],
   "source": [
    "!pip install fuzzywuzzy"
   ]
  },
  {
   "cell_type": "code",
   "execution_count": null,
   "id": "2a70ee1b",
   "metadata": {},
   "outputs": [],
   "source": [
    "!pip install fuzzywuzzy[speedup]"
   ]
  },
  {
   "cell_type": "markdown",
   "id": "abaee1a5",
   "metadata": {},
   "source": [
    "**Importa a biblitoteca**"
   ]
  },
  {
   "cell_type": "code",
   "execution_count": 232,
   "id": "d270ce36",
   "metadata": {},
   "outputs": [],
   "source": [
    "from fuzzywuzzy import fuzz\n",
    "from fuzzywuzzy import process"
   ]
  },
  {
   "cell_type": "code",
   "execution_count": null,
   "id": "e0475bdc",
   "metadata": {},
   "outputs": [],
   "source": [
    "!pip install python-Levenshtein"
   ]
  },
  {
   "cell_type": "markdown",
   "id": "565cff53",
   "metadata": {},
   "source": [
    "**Aplicando a fuzzywuzzy em duas strings**"
   ]
  },
  {
   "cell_type": "code",
   "execution_count": 233,
   "id": "f2f8ea99",
   "metadata": {},
   "outputs": [
    {
     "data": {
      "text/plain": [
       "100"
      ]
     },
     "execution_count": 233,
     "metadata": {},
     "output_type": "execute_result"
    }
   ],
   "source": [
    "s1 = 'Doença Cardiovascular'\n",
    "s2 = 'Doença Cardiovascular'\n",
    "fuzz.ratio(s1,s2)"
   ]
  },
  {
   "cell_type": "code",
   "execution_count": 234,
   "id": "8f77f741",
   "metadata": {},
   "outputs": [
    {
     "data": {
      "text/plain": [
       "98"
      ]
     },
     "execution_count": 234,
     "metadata": {},
     "output_type": "execute_result"
    }
   ],
   "source": [
    "s1 = 'Doença Cardiovascular'\n",
    "s2 = 'Doença Cardiovasculhar'\n",
    "fuzz.ratio(s1,s2)"
   ]
  },
  {
   "cell_type": "markdown",
   "id": "75211968",
   "metadata": {},
   "source": [
    "**Letras maiusculas e minúsculas**"
   ]
  },
  {
   "cell_type": "code",
   "execution_count": 235,
   "id": "8321940e",
   "metadata": {},
   "outputs": [
    {
     "data": {
      "text/plain": [
       "95"
      ]
     },
     "execution_count": 235,
     "metadata": {},
     "output_type": "execute_result"
    }
   ],
   "source": [
    "s1 = 'Doença Cardiovascular'\n",
    "s2 = 'doença Cardiovascular'\n",
    "fuzz.ratio(s1,s2)"
   ]
  },
  {
   "cell_type": "markdown",
   "id": "81f9ca90",
   "metadata": {},
   "source": [
    "**Pontuação ou outros caracteres influenciam no score**"
   ]
  },
  {
   "cell_type": "code",
   "execution_count": 236,
   "id": "d01e99d9",
   "metadata": {},
   "outputs": [
    {
     "data": {
      "text/plain": [
       "95"
      ]
     },
     "execution_count": 236,
     "metadata": {},
     "output_type": "execute_result"
    }
   ],
   "source": [
    "s1 = 'Doença Cardiovascular'\n",
    "s2 = 'Doença Cardiovascular!!'\n",
    "fuzz.ratio(s1,s2)"
   ]
  },
  {
   "cell_type": "markdown",
   "id": "5fa99244",
   "metadata": {},
   "source": [
    "## Similaridade Parcial"
   ]
  },
  {
   "cell_type": "markdown",
   "id": "545fc0d0",
   "metadata": {},
   "source": [
    "* Similaridade parcial busca apenas a string em questão e descarta o resto.\n",
    "* Extremamente útil para trabalhar com dados coletados da web."
   ]
  },
  {
   "cell_type": "code",
   "execution_count": 237,
   "id": "fe617ccc",
   "metadata": {},
   "outputs": [
    {
     "data": {
      "text/plain": [
       "68"
      ]
     },
     "execution_count": 237,
     "metadata": {},
     "output_type": "execute_result"
    }
   ],
   "source": [
    "# Consultando o score usando o método ratio\n",
    "s1 = 'Doença Cardiovascular'\n",
    "s2 = '###$$%$!Doença Cardiovascular#$#%#ˆˆˆˆˆ!!'\n",
    "fuzz.ratio(s1,s2)"
   ]
  },
  {
   "cell_type": "code",
   "execution_count": 238,
   "id": "264a30d5",
   "metadata": {},
   "outputs": [
    {
     "data": {
      "text/plain": [
       "100"
      ]
     },
     "execution_count": 238,
     "metadata": {},
     "output_type": "execute_result"
    }
   ],
   "source": [
    "# Consultando o score usando o método partial\n",
    "s1 = 'Doença Cardiovascular'\n",
    "s2 = '###$$%$!Doença Cardiovascular#$#%#ˆˆˆˆˆ!!'\n",
    "fuzz.partial_ratio(s1,s2)"
   ]
  },
  {
   "cell_type": "code",
   "execution_count": 239,
   "id": "7132f02f",
   "metadata": {},
   "outputs": [
    {
     "data": {
      "text/plain": [
       "95"
      ]
     },
     "execution_count": 239,
     "metadata": {},
     "output_type": "execute_result"
    }
   ],
   "source": [
    "# Consultando o score usando o método partial\n",
    "# alteração nas strings\n",
    "s1 = 'Doença Cardiovascular'\n",
    "s2 = '###$$%$!Doença Cardiovasculhar#$#%#ˆˆˆˆˆ!!'\n",
    "fuzz.partial_ratio(s1,s2)"
   ]
  },
  {
   "cell_type": "markdown",
   "id": "ac1280b6",
   "metadata": {},
   "source": [
    "**Ordem de caracteres diferentes?**"
   ]
  },
  {
   "cell_type": "code",
   "execution_count": 240,
   "id": "b5f89fce",
   "metadata": {},
   "outputs": [
    {
     "data": {
      "text/plain": [
       "67"
      ]
     },
     "execution_count": 240,
     "metadata": {},
     "output_type": "execute_result"
    }
   ],
   "source": [
    "# Consultando o score usando o método partial\n",
    "# alteração nas strings\n",
    "s1 = 'Doença Cardiovascular'\n",
    "s2 = 'Cardiovascular Doença'\n",
    "fuzz.partial_ratio(s1,s2)"
   ]
  },
  {
   "cell_type": "markdown",
   "id": "b3ede556",
   "metadata": {},
   "source": [
    "* Função **partial_token_sort_ratio()** separa os tokens por espaço e ordena por ordem alfabética.\n",
    "* Coloca as strings em letras minúsculas.\n",
    "* Considera apenas as strings consultadas."
   ]
  },
  {
   "cell_type": "code",
   "execution_count": 241,
   "id": "7e67850e",
   "metadata": {},
   "outputs": [
    {
     "data": {
      "text/plain": [
       "100"
      ]
     },
     "execution_count": 241,
     "metadata": {},
     "output_type": "execute_result"
    }
   ],
   "source": [
    "# Consultando o score usando o método partial\n",
    "# alteração nas strings\n",
    "s1 = 'Doença Cardiovascular'\n",
    "s2 = 'Cardiovascular Doença'\n",
    "fuzz.partial_token_sort_ratio(s1,s2)"
   ]
  },
  {
   "cell_type": "code",
   "execution_count": 242,
   "id": "30acc2ad",
   "metadata": {},
   "outputs": [
    {
     "data": {
      "text/plain": [
       "100"
      ]
     },
     "execution_count": 242,
     "metadata": {},
     "output_type": "execute_result"
    }
   ],
   "source": [
    "# Consultando o score usando o método partial\n",
    "# Alteração nas strings\n",
    "s1 = 'Doença Cardiovascular'\n",
    "s2 = 'cardiovascular doença'\n",
    "fuzz.partial_token_sort_ratio(s1,s2)"
   ]
  },
  {
   "cell_type": "code",
   "execution_count": 243,
   "id": "17ca3bb5",
   "metadata": {},
   "outputs": [
    {
     "data": {
      "text/plain": [
       "100"
      ]
     },
     "execution_count": 243,
     "metadata": {},
     "output_type": "execute_result"
    }
   ],
   "source": [
    "# Consultando o score usando o método partial\n",
    "# alteração nas strings\n",
    "s1 = 'Doença Cardiovascular'\n",
    "s2 = '%%%%%cardiovascular doença&&&&****@@@'\n",
    "fuzz.partial_token_sort_ratio(s1,s2)"
   ]
  },
  {
   "cell_type": "markdown",
   "id": "2ad086e4",
   "metadata": {},
   "source": [
    "## Processando uma Lista de Strings"
   ]
  },
  {
   "cell_type": "markdown",
   "id": "00546d67",
   "metadata": {},
   "source": [
    "* Aplicar o fuzzywuzzy para corrigir strings em uma base de dados"
   ]
  },
  {
   "cell_type": "code",
   "execution_count": 244,
   "id": "7ff692bb",
   "metadata": {},
   "outputs": [],
   "source": [
    "from fuzzywuzzy import process"
   ]
  },
  {
   "cell_type": "markdown",
   "id": "fdf9242e",
   "metadata": {},
   "source": [
    "**Cria lista de strings**"
   ]
  },
  {
   "cell_type": "code",
   "execution_count": 245,
   "id": "6b77926a",
   "metadata": {},
   "outputs": [],
   "source": [
    "lista = ['Doença Cardiovascular.','doença cardiovascular!!', 'Doenca Cardiovascular', 'Doenc. Cardio']"
   ]
  },
  {
   "cell_type": "code",
   "execution_count": 246,
   "id": "b0041b9a",
   "metadata": {},
   "outputs": [
    {
     "data": {
      "text/plain": [
       "['Doença Cardiovascular.',\n",
       " 'doença cardiovascular!!',\n",
       " 'Doenca Cardiovascular',\n",
       " 'Doenc. Cardio']"
      ]
     },
     "execution_count": 246,
     "metadata": {},
     "output_type": "execute_result"
    }
   ],
   "source": [
    "lista"
   ]
  },
  {
   "cell_type": "markdown",
   "id": "d472ba37",
   "metadata": {},
   "source": [
    "**Extrai os scores de similaridades com uma string em questão**"
   ]
  },
  {
   "cell_type": "code",
   "execution_count": 247,
   "id": "8e0dadf8",
   "metadata": {},
   "outputs": [
    {
     "data": {
      "text/plain": [
       "[('Doença Cardiovascular.', 100),\n",
       " ('doença cardiovascular!!', 100),\n",
       " ('Doenca Cardiovascular', 95),\n",
       " ('Doenc. Cardio', 85)]"
      ]
     },
     "execution_count": 247,
     "metadata": {},
     "output_type": "execute_result"
    }
   ],
   "source": [
    "process.extract('Doença Cardiovascular', lista, scorer=fuzz.partial_ratio)"
   ]
  },
  {
   "cell_type": "markdown",
   "id": "e821d162",
   "metadata": {},
   "source": [
    "**Limitando o retorno**"
   ]
  },
  {
   "cell_type": "code",
   "execution_count": 248,
   "id": "e9ad9653",
   "metadata": {},
   "outputs": [
    {
     "data": {
      "text/plain": [
       "[('Doença Cardiovascular.', 100), ('doença cardiovascular!!', 100)]"
      ]
     },
     "execution_count": 248,
     "metadata": {},
     "output_type": "execute_result"
    }
   ],
   "source": [
    "process.extract('Doença Cardiovascular', lista, scorer=fuzz.partial_ratio,limit=2)\n",
    "\n",
    "# limit=2 - Retorna as 2 primeiras"
   ]
  },
  {
   "cell_type": "markdown",
   "id": "1d8804c0",
   "metadata": {},
   "source": [
    "**Retorna apenas uma string com um score acima de 95**"
   ]
  },
  {
   "cell_type": "code",
   "execution_count": 249,
   "id": "78a9ae14",
   "metadata": {},
   "outputs": [
    {
     "data": {
      "text/plain": [
       "('Doença Cardiovascular.', 100)"
      ]
     },
     "execution_count": 249,
     "metadata": {},
     "output_type": "execute_result"
    }
   ],
   "source": [
    "# Método extractOne\n",
    "process.extractOne('Doença Cardiovascular', lista, scorer=fuzz.partial_ratio, score_cutoff=95)\n",
    "\n",
    "# score_cutoff=95 - Retorna a string com score acima de 95%"
   ]
  },
  {
   "cell_type": "markdown",
   "id": "9c011d81",
   "metadata": {},
   "source": [
    "## Data Cleaning em um DataFrame"
   ]
  },
  {
   "cell_type": "markdown",
   "id": "fd85664f",
   "metadata": {},
   "source": [
    "* Aplicar o fuzzywuzzy em uma base de dados\n",
    "* Medir a similaridade de strings e fazer **Data Cleaning**"
   ]
  },
  {
   "cell_type": "code",
   "execution_count": 250,
   "id": "6ce8ea1f",
   "metadata": {},
   "outputs": [],
   "source": [
    "import pandas as pd\n",
    "from collections import OrderedDict"
   ]
  },
  {
   "cell_type": "code",
   "execution_count": 251,
   "id": "bbdf7bff",
   "metadata": {},
   "outputs": [],
   "source": [
    "data = OrderedDict(\n",
    "    {\n",
    "        'codigo_produto': [10 , 11, 12, 13, 14],\n",
    "        'descrição': ['iphone 6ss', 'iphone 6s', 'iphoni 6s', 'ipone 6s','Iphone 6s,,,,']\n",
    "        \n",
    "    })"
   ]
  },
  {
   "cell_type": "code",
   "execution_count": 252,
   "id": "29764966",
   "metadata": {},
   "outputs": [
    {
     "data": {
      "text/plain": [
       "OrderedDict([('codigo_produto', [10, 11, 12, 13, 14]),\n",
       "             ('descrição',\n",
       "              ['iphone 6ss',\n",
       "               'iphone 6s',\n",
       "               'iphoni 6s',\n",
       "               'ipone 6s',\n",
       "               'Iphone 6s,,,,'])])"
      ]
     },
     "execution_count": 252,
     "metadata": {},
     "output_type": "execute_result"
    }
   ],
   "source": [
    "data"
   ]
  },
  {
   "cell_type": "code",
   "execution_count": 253,
   "id": "e3f8e9dd",
   "metadata": {},
   "outputs": [],
   "source": [
    "dataset = pd.DataFrame(data)"
   ]
  },
  {
   "cell_type": "code",
   "execution_count": 280,
   "id": "47b1e2ae",
   "metadata": {},
   "outputs": [
    {
     "data": {
      "text/html": [
       "<div>\n",
       "<style scoped>\n",
       "    .dataframe tbody tr th:only-of-type {\n",
       "        vertical-align: middle;\n",
       "    }\n",
       "\n",
       "    .dataframe tbody tr th {\n",
       "        vertical-align: top;\n",
       "    }\n",
       "\n",
       "    .dataframe thead th {\n",
       "        text-align: right;\n",
       "    }\n",
       "</style>\n",
       "<table border=\"1\" class=\"dataframe\">\n",
       "  <thead>\n",
       "    <tr style=\"text-align: right;\">\n",
       "      <th></th>\n",
       "      <th>codigo_produto</th>\n",
       "      <th>descrição</th>\n",
       "    </tr>\n",
       "  </thead>\n",
       "  <tbody>\n",
       "    <tr>\n",
       "      <th>0</th>\n",
       "      <td>10</td>\n",
       "      <td>iphone 6ss</td>\n",
       "    </tr>\n",
       "    <tr>\n",
       "      <th>1</th>\n",
       "      <td>11</td>\n",
       "      <td>iphone 6s</td>\n",
       "    </tr>\n",
       "    <tr>\n",
       "      <th>2</th>\n",
       "      <td>12</td>\n",
       "      <td>iphoni 6s</td>\n",
       "    </tr>\n",
       "    <tr>\n",
       "      <th>3</th>\n",
       "      <td>13</td>\n",
       "      <td>ipone 6s</td>\n",
       "    </tr>\n",
       "    <tr>\n",
       "      <th>4</th>\n",
       "      <td>14</td>\n",
       "      <td>Iphone 6s,,,,</td>\n",
       "    </tr>\n",
       "  </tbody>\n",
       "</table>\n",
       "</div>"
      ],
      "text/plain": [
       "   codigo_produto      descrição\n",
       "0              10     iphone 6ss\n",
       "1              11      iphone 6s\n",
       "2              12      iphoni 6s\n",
       "3              13       ipone 6s\n",
       "4              14  Iphone 6s,,,,"
      ]
     },
     "execution_count": 280,
     "metadata": {},
     "output_type": "execute_result"
    }
   ],
   "source": [
    "dataset"
   ]
  },
  {
   "cell_type": "code",
   "execution_count": 281,
   "id": "2f4b6e25",
   "metadata": {},
   "outputs": [
    {
     "data": {
      "text/plain": [
       "[('iphone 6s', 100),\n",
       " ('Iphone 6s,,,,', 100),\n",
       " ('iphone 6ss', 95),\n",
       " ('ipone 6s', 94),\n",
       " ('iphoni 6s', 89)]"
      ]
     },
     "execution_count": 281,
     "metadata": {},
     "output_type": "execute_result"
    }
   ],
   "source": [
    "# Teste com scorer=fuzz.ratio\n",
    "list_dataset = list(dataset.descrição)\n",
    "process.extract('iphone 6s', list_dataset, scorer=fuzz.ratio)"
   ]
  },
  {
   "cell_type": "code",
   "execution_count": 255,
   "id": "99f98759",
   "metadata": {},
   "outputs": [
    {
     "data": {
      "text/plain": [
       "('iphone 6s', 100, 1)"
      ]
     },
     "execution_count": 255,
     "metadata": {},
     "output_type": "execute_result"
    }
   ],
   "source": [
    "process.extractOne('Iphone 6s', choices=dataset.descrição, scorer=fuzz.ratio, score_cutoff=95)"
   ]
  },
  {
   "cell_type": "markdown",
   "id": "cdba1ed8",
   "metadata": {},
   "source": [
    "**Função que aplica o Fuzzy**"
   ]
  },
  {
   "cell_type": "code",
   "execution_count": 282,
   "id": "0eca4e7a",
   "metadata": {},
   "outputs": [],
   "source": [
    "def AplicaFuzzy(query, dados, metodo_ratio, score_corte):\n",
    "    return process.extractOne(query, choices=dados, scorer=metodo_ratio, score_cutoff=score_corte)"
   ]
  },
  {
   "cell_type": "markdown",
   "id": "dd32a9fa",
   "metadata": {},
   "source": [
    "**Testa a função**"
   ]
  },
  {
   "cell_type": "code",
   "execution_count": 283,
   "id": "e39e7888",
   "metadata": {},
   "outputs": [
    {
     "data": {
      "text/plain": [
       "('iphone 6s', 100, 1)"
      ]
     },
     "execution_count": 283,
     "metadata": {},
     "output_type": "execute_result"
    }
   ],
   "source": [
    "AplicaFuzzy('Iphone 6s', dataset.descrição, fuzz.ratio, 90)"
   ]
  },
  {
   "cell_type": "markdown",
   "id": "687b47ff",
   "metadata": {},
   "source": [
    "**Criando uma nova coluna no Dataset a partir das string similares**"
   ]
  },
  {
   "cell_type": "code",
   "execution_count": 287,
   "id": "ed73a2f9",
   "metadata": {},
   "outputs": [],
   "source": [
    "dataset['descrição2'] = AplicaFuzzy('Iphone 6s', dataset.descrição, fuzz.ratio, 95)[0]"
   ]
  },
  {
   "cell_type": "code",
   "execution_count": 288,
   "id": "f60bda24",
   "metadata": {},
   "outputs": [
    {
     "data": {
      "text/html": [
       "<div>\n",
       "<style scoped>\n",
       "    .dataframe tbody tr th:only-of-type {\n",
       "        vertical-align: middle;\n",
       "    }\n",
       "\n",
       "    .dataframe tbody tr th {\n",
       "        vertical-align: top;\n",
       "    }\n",
       "\n",
       "    .dataframe thead th {\n",
       "        text-align: right;\n",
       "    }\n",
       "</style>\n",
       "<table border=\"1\" class=\"dataframe\">\n",
       "  <thead>\n",
       "    <tr style=\"text-align: right;\">\n",
       "      <th></th>\n",
       "      <th>codigo_produto</th>\n",
       "      <th>descrição</th>\n",
       "      <th>descrição2</th>\n",
       "    </tr>\n",
       "  </thead>\n",
       "  <tbody>\n",
       "    <tr>\n",
       "      <th>0</th>\n",
       "      <td>10</td>\n",
       "      <td>iphone 6ss</td>\n",
       "      <td>iphone 6s</td>\n",
       "    </tr>\n",
       "    <tr>\n",
       "      <th>1</th>\n",
       "      <td>11</td>\n",
       "      <td>iphone 6s</td>\n",
       "      <td>iphone 6s</td>\n",
       "    </tr>\n",
       "    <tr>\n",
       "      <th>2</th>\n",
       "      <td>12</td>\n",
       "      <td>iphoni 6s</td>\n",
       "      <td>iphone 6s</td>\n",
       "    </tr>\n",
       "    <tr>\n",
       "      <th>3</th>\n",
       "      <td>13</td>\n",
       "      <td>ipone 6s</td>\n",
       "      <td>iphone 6s</td>\n",
       "    </tr>\n",
       "    <tr>\n",
       "      <th>4</th>\n",
       "      <td>14</td>\n",
       "      <td>Iphone 6s,,,,</td>\n",
       "      <td>iphone 6s</td>\n",
       "    </tr>\n",
       "  </tbody>\n",
       "</table>\n",
       "</div>"
      ],
      "text/plain": [
       "   codigo_produto      descrição descrição2\n",
       "0              10     iphone 6ss  iphone 6s\n",
       "1              11      iphone 6s  iphone 6s\n",
       "2              12      iphoni 6s  iphone 6s\n",
       "3              13       ipone 6s  iphone 6s\n",
       "4              14  Iphone 6s,,,,  iphone 6s"
      ]
     },
     "execution_count": 288,
     "metadata": {},
     "output_type": "execute_result"
    }
   ],
   "source": [
    "dataset"
   ]
  },
  {
   "cell_type": "markdown",
   "id": "bba3246f",
   "metadata": {},
   "source": [
    "# 8.24 - Utilizando o dicionário léxico SentilexPT em tarefas de análise de sentimentos"
   ]
  },
  {
   "cell_type": "markdown",
   "id": "44c5c1e2",
   "metadata": {},
   "source": [
    "## Dicionários com Léxicos"
   ]
  },
  {
   "cell_type": "markdown",
   "id": "c5b66b7c",
   "metadata": {},
   "source": [
    "* Os léxicos são bancos de dados criados manualmente ou de forma automatizada.\n",
    "* A vantagem dos léxicos é que você não precisa rotular dados para treinamento.\n",
    "* A maior desvantagem é que os léxicos são limitados a idioma e tamanho da base de dados.\n",
    "* Existem léxicos voltados para áreas específicas como: **Linguística, Psicologia, Direito**.\n",
    "* Você pode criar um léxico para o seu projeto, caso necessário."
   ]
  },
  {
   "cell_type": "markdown",
   "id": "a838f033",
   "metadata": {},
   "source": [
    "**SentilexPT**"
   ]
  },
  {
   "cell_type": "markdown",
   "id": "a6653738",
   "metadata": {},
   "source": [
    "* O SentilexPT é um léxico para o idioma Português que está disponivel para pesquisa e desenvolvimento.\n",
    "* Este possui **6531** adjetivos com informações de polaridade, alvo do sentimento e método de atribuição de polaridade.\n",
    "* Conheça o projeto no site oficial http://xldb.fc.ul.pt/wiki/SentiLex-PT01"
   ]
  },
  {
   "cell_type": "markdown",
   "id": "f52cb528",
   "metadata": {},
   "source": [
    "**Análise de Sentimentos - Aplicações:**"
   ]
  },
  {
   "cell_type": "markdown",
   "id": "6c8aa867",
   "metadata": {},
   "source": [
    "* Descobrir o Humor da Web com relação a sua marca ou algum produto.\n",
    "* Automatizar a classificação quanto a opiniões positivas ou negativas.\n",
    "* Empresas de call centers estão usando Análise de Sentimentos para analisar ligações telefônicas entre atendentes e clientes.\n",
    "* Políticos que querem em saber sobre o Humor da web sobre seus pronunciamentos ou acontecimentos que os envolve."
   ]
  },
  {
   "cell_type": "markdown",
   "id": "bfe98e03",
   "metadata": {},
   "source": [
    "**Ler o arquivo de léxico**"
   ]
  },
  {
   "cell_type": "code",
   "execution_count": 295,
   "id": "b78ebbc2",
   "metadata": {},
   "outputs": [],
   "source": [
    "sentilexpt = open(caminho + r'\\SentiLex-PT01\\SentiLex-lem-PT01.txt','r', encoding='utf-8')\n",
    "\n",
    "#às vezes precisaremos mudar o encoding. Possiveis valores para testar:\n",
    "#encoding='latin1', encoding='ISO-8859-1', encoding='utf-8' ou então encoding='cp1252'"
   ]
  },
  {
   "cell_type": "markdown",
   "id": "b74914e8",
   "metadata": {},
   "source": [
    "**Construindo um Dicionário de Palavras e Polaridades**"
   ]
  },
  {
   "cell_type": "code",
   "execution_count": 296,
   "id": "90f6a916",
   "metadata": {},
   "outputs": [],
   "source": [
    "dic_palavra_polaridade = {}\n",
    "for i in sentilexpt.readlines():\n",
    "    pos_ponto = i.find('.')            # obtem a posiçãodo caracter ponto\n",
    "    palavra = (i[:pos_ponto])          # Pega a palavra\n",
    "    pol_pos = i.find('POL')            # obtem a posição do inicio da string POL\n",
    "    polaridade = (i[pol_pos+4:pol_pos+6]).replace(';','')         # obtem a polaridade da palavra\n",
    "    dic_palavra_polaridade[palavra] = polaridade                 # atualiza o dicionario com a palavra a polaridade"
   ]
  },
  {
   "cell_type": "markdown",
   "id": "9d3284cc",
   "metadata": {},
   "source": [
    "**Imprimindo o dicionário construído**"
   ]
  },
  {
   "cell_type": "code",
   "execution_count": 297,
   "id": "5f972d22",
   "metadata": {},
   "outputs": [
    {
     "name": "stdout",
     "output_type": "stream",
     "text": [
      "{'\\ufeffabafado': '-1', 'abafante': '-1', 'abaixado': '-1', 'abalado': '-1', 'abalizado': '1', 'abandalhado': '-1', 'abandonado': '-1', 'abarcante': '-1', 'abarrotado': '-1', 'abastado': '1', 'abastecido': '0', 'abatido': '-1', 'abelhudo': '-1', 'abençoado': '1', 'aberrante': '-1', 'aberrativo': '-1', 'aberto': '1', 'abespinhado': '-1', 'abestalhado': '-1', 'abilolado': '-1', 'abismado': '-1', 'abismal': '-1', 'abjecto': '-1', 'abjeto': '-1', 'abnegado': '1', 'abobado': '-1', 'abobalhado': '-1', 'abolicionista': '0', 'abolido': '-1', 'abominador': '-1', 'abominando': '-1', 'abominável': '-1', 'abonado': '1', 'abonatório': '1', 'abonecado': '0', 'aborígene': '-1', 'aborrecido': '-1', 'abortado': '-1', 'abraçado': '1', 'abrangente': '-1', 'abrangido': '-1', 'abrasileirado': '0', 'abrigado': '0', 'abrilhantado': '1', 'abrupto': '-1', 'abrutalhado': '-1', 'absentista': '-1', 'absolutista': '0', 'absoluto': '0', 'absolvido': '0', 'absorto': '-1', 'absorvente': '1', 'abstémico': '1', 'abstémio': '1', 'abstencionista': '0', 'abstinente': '0', 'abstraccionista': '0', 'abstracto': '-1', 'abstraído': '-1', 'abstrato': '-1', 'abstruso': '-1', 'absurdo': '-1', 'abúlico': '-1', 'aburguesado': '0', 'abusado': '-1', 'abusador': '-1', 'abusivo': '-1', 'acabado': '-1', 'acabadote': '-1', 'acabrunhado': '-1', 'acaciano': '-1', 'académico': '-1', 'acadêmico': '0', 'acalorado': '0', 'açambarcador': '-1', 'acanhado': '-1', 'acarinhado': '-1', 'acatado': '1', 'acatador': '0', 'acautelado': '0', 'accionado': '-1', 'acéfalo': '-1', 'aceitável': '1', 'aceite': '0', 'aceito': '0', 'acelerado': '0', 'acentuado': '0', 'acerado': '-1', 'acerbo': '-1', 'acérrimo': '-1', 'acertado': '1', 'aceso': '0', 'acessível': '1', 'achacado': '-1', 'achado': '0', 'achatado': '-1', 'achegado': '1', 'achinesado': '0', 'acidentado': '-1', 'aciganado': '-1', 'acintoso': '-1', 'acirrado': '-1', 'aclamado': '0', 'acobardado': '-1', 'acobertado': '-1', 'acobreado': '0', 'acocado': '-1', 'açoitado': '-1', 'acolhedor': '1', 'acolhido': '0', 'acomodadiço': '-1', 'acomodado': '-1', 'acomodatício': '0', 'acompanhado': '0', 'acompanhador': '0', 'acompanhante': '0', 'aconchegado': '1', 'acoplado': '-1', 'acordado': '0', 'acorde': '1', 'acorrentado': '-1', 'acossado': '-1', 'acostumado': '0', 'açougueiro': '-1', 'acre': '-1', 'acreditado': '1', 'acreditável': '0', 'acrescentado': '1', 'acriançado': '-1', 'acrisolado': '0', 'acrítico': '-1', 'activo': '1', 'actualista': '0', 'açucarado': '-1', 'aculturado': '-1', 'acurado': '1', 'acusado': '-1', 'acutilante': '-1', 'agudo': '0', 'adâmico': '-1', 'adaptado': '0', 'adaptável': '1', 'adepto': '1', 'adequado': '1', 'aderente': '1', 'adestrado': '1', 'adicional': '0', 'adicto': '1', 'adido': '-1', 'adiposo': '-1', 'adjacente': '0', 'adjunto': '-1', 'administrado': '0', 'administrador': '1', 'admirado': '-1', 'admirando': '-1', 'admirável': '1', 'admitido': '0', 'admoestador': '-1', 'adoentado': '-1', 'adorado': '1', 'adorando': '1', 'adorável': '1', 'adormecido': '-1', 'adornado': '-1', 'adotado': '-1', 'adstrito': '-1', 'adubado': '1', 'adulador': '-1', 'adulterado': '0', 'adulterador': '-1', 'adulterino': '-1', 'adultero': '-1', 'adúltero': '-1', 'adulto': '0', 'adventício': '-1', 'adventista': '0', 'adversário': '-1', 'adverso': '-1', 'advertido': '1', 'aéreo': '-1', 'afamado': '1', 'afanado': '-1', 'afásico': '-1', 'afastado': '-1', 'afável': '1', 'afectado': '-1', 'afectivo': '1', 'afecto': '0', 'afectuoso': '1', 'afeiçoado': '1', 'afeito': '0', 'afeminado': '-1', 'aferido': '0', 'aferrado': '0', 'afetado': '-1', 'afetuoso': '1', 'afiado': '-1', 'afidalgado': '0', 'afilado': '0', 'afilhado': '0', 'afim': '-1', 'afinado': '1', 'afincado': '0', 'afirmativo': '1', 'afixo': '1', 'afligido': '-1', 'aflitivo': '-1', 'aflito': '-1', 'afluente': '1', 'afobado': '-1', 'afogado': '-1', 'afogueado': '0', 'afoito': '1', 'afortunado': '1', 'afrancesado': '0', 'afrontado': '-1', 'afrontoso': '-1', 'afundado': '-1', 'agachado': '-1', 'agarotado': '-1', 'agarrado': '-1', 'agasalhado': '0', 'agastadiço': '-1', 'agastado': '-1', 'agigantado': '-1', 'ágil': '1', 'agiota': '-1', 'agitado': '-1', 'agitador': '-1', 'aglomerado': '0', 'aglutinante': '-1', 'agnóstico': '0', 'agoirento': '-1', 'agoniado': '-1', 'agoniante': '-1', 'agonizante': '-1', 'agoureiro': '-1', 'agourento': '-1', 'agraciado': '0', 'agradado': '1', 'agradável': '1', 'agradecido': '-1', 'agravado': '-1', 'agre': '-1', 'agregado': '0', 'agressivo': '-1', 'agressor': '-1', 'agreste': '-1', 'agricultor': '-1', 'agrilhoado': '-1', 'agrosseirado': '-1', 'agrupado': '-1', 'aguado': '-1', 'aguardado': '0', 'aguçado': '-1', 'aguerrido': '0', 'airoso': '1', 'ajanotado': '0', 'ajoelhado': '-1', 'ajoujado': '-1', 'ajudado': '1', 'ajudante': '-1', 'ajuizado': '1', 'ajustado': '-1', 'alado': '1', 'alapado': '-1', 'alarmante': '-1', 'alarmista': '-1', 'alarve': '-1', 'albigense': '0', 'albino': '-1', 'alcandorado': '0', 'alcoólatra': '-1', 'alcoólico': '-1', 'alcoolizado': '-1', 'alcunhado': '0', 'aldeão': '-1', 'aldrabão': '-1', 'alegado': '-1', 'alegre': '1', 'alegrete': '0', 'alegrote': '0', 'aleijado': '-1', 'aleivoso': '-1', 'alentado': '1', 'alentador': '1', 'alérgico': '0', 'alerta': '1', 'alfabetizado': '0', 'algarvio': '-1', 'algemado': '-1', 'alheado': '-1', 'alheio': '-1', 'aliado': '0', 'alicerçado': '1', 'aliciado': '-1', 'alienado': '-1', 'alienígena': '-1', 'aligeirado': '0', 'alimentado': '0', 'alinhado': '1', 'alinhavado': '-1', 'alistado': '-1', 'aliviado': '0', 'almo': '1', 'almóada': '0', 'almorávida': '0', 'aloirado': '0', 'alourado': '0', 'alquebrado': '-1', 'altamente': '1', 'altaneiro': '-1', 'alteroso': '0', 'altivo': '-1', 'alto': '0', 'altruísta': '1', 'altruístico': '1', 'aluado': '-1', 'alucinado': '-1', 'alucinante': '1', 'alumbrado': '-1', 'alumiado': '1', 'alvejado': '0', 'alvissareiro': '0', 'alvo': '1', 'alvoraçado': '-1', 'alvoroçado': '-1', 'amachucado': '-1', 'amado': '1', 'amador': '0', 'amadurecido': '1', 'amaldiçoado': '-1', 'amalucado': '-1', 'amamentado': '0', 'amaneirado': '-1', 'amante': '1', 'amarantino': '-1', 'amarelado': '-1', 'amarelo': '-1', 'amargado': '-1', 'amargo': '-1', 'amargurado': '-1', 'amaricado': '-1', 'amarrado': '-1', 'amassado': '-1', 'amável': '1', 'ambicioso': '0', 'ambidestro': '0', 'ambidextro': '0', 'ambíguo': '-1', 'ambrosiano': '0', 'ambulante': '-1', 'ameaçador': '-1', 'ameaçante': '-1', 'amedrontado': '-1', 'amedrontador': '-1', 'ameno': '1', 'americanista': '0', 'americanófilo': '0', 'americanófobo': '-1', 'amestrado': '1', 'amigalhaço': '1', 'amigalhão': '1', 'amigável': '1', 'amigo': '1', 'amigo da onça': '-1', 'amigo da pinga': '-1', 'amigo dos copos': '-1', 'amistoso': '1', 'amnésico': '-1', 'amontado': '-1', 'amontoado': '-1', 'amoral': '-1', 'amoralista': '-1', 'amorável': '1', 'amorfo': '-1', 'amoroso': '1', 'amortecido': '-1', 'amotinado': '-1', 'amparado': '-1', 'amputado': '-1', 'amuado': '-1', 'anabaptista': '0', 'anacrónico': '-1', 'anacrônico': '-1', 'anafado': '-1', 'analfabeto': '-1', 'analisador': '0', 'analista': '0', 'análogo': '-1', 'anão': '-1', 'anárquico': '-1', 'anarquista': '-1', 'ancestral': '-1', 'ancião': '0', 'ancorado': '-1', 'andado': '-1', 'andante': '-1', 'andarilho': '0', 'andejo': '-1', 'andrajoso': '-1', 'anedótico': '-1', 'anémico': '-1', 'anêmico': '-1', 'anestesiado': '-1', 'anexado': '0', 'anexionista': '0', 'anexo': '-1', 'angelical': '1', 'angélico': '1', 'angelita': '0', 'anglicano': '0', 'anglófilo': '0', 'anglófobo': '-1', 'anguloso': '-1', 'angustiado': '-1', 'angustiante': '-1', 'animado': '1', 'animador': '1', 'animal': '-1', 'animista': '0', 'animoso': '1', 'aniquilado': '-1', 'anjinho': '-1', 'anódino': '-1', 'anómalo': '-1', 'anónimo': '-1', 'anoréctico': '-1', 'anormal': '-1', 'ansioso': '-1', 'antagónico': '-1', 'antagonista': '-1', 'antepassado': '0', 'anticonformista': '-1', 'antidemocrata': '-1', 'antidesportista': '-1', 'antidogmático': '1', 'antifascista': '1', 'antifederalista': '0', 'antigo': '-1', 'antiliberal': '-1', 'antiliberalista': '-1', 'antimilitarista': '0', 'antinatural': '-1', 'antinazista': '1', 'antinómico': '-1', 'antipapista': '0', 'antipartidário': '0', 'antipático': '-1', 'antipatriota': '-1', 'antipolítico': '-1', 'antiquado': '-1', 'anti-republicano': '-1', 'antisocial': '-1', 'antoniano': '0', 'antonino': '0', 'antropófago': '-1', 'anunciador': '-1', 'apadrinhado': '0', 'apagado': '-1', 'apaixonado': '0', 'apaixonante': '1', 'apalavrado': '0', 'apalermado': '-1', 'apalhaçado': '-1', 'apalpado': '-1', 'apancado': '-1', 'apanhado': '-1', 'apaniguado': '-1', 'aparentado': '-1', 'aparente': '-1', 'aparolado': '-1', 'apartado': '-1', 'aparvalhado': '-1', 'apatetado': '-1', 'apático': '-1', 'apatriota': '-1', 'apavorado': '-1', 'apavorante': '-1', 'apaziguador': '1', 'apeado': '-1', 'apedantado': '-1', 'apedrejado': '-1', 'apegado': '-1', 'apelativo': '1', 'apele': '0', 'apelidado': '0', 'aperaltado': '-1', 'aperfeiçoado': '0', 'aperreado': '-1', 'apessoado': '1', 'apetecível': '-1', 'apetitoso': '0', 'aplaudido': '-1', 'aplicado': '1', 'apocalíptico': '-1', 'apócrifo': '-1', 'apoderado': '1', 'apoiado': '-1', 'apolíneo': '1', 'apologético': '0', 'apologista': '1', 'apontado': '-1', 'apopléctico': '-1', 'apoquentado': '-1', 'apoquentador': '-1', 'aposentado': '0', 'apostado': '1', 'apóstata': '-1', 'aposto': '1', 'apoteótico': '0', 'aprazível': '1', 'apreciado': '1', 'apreciador': '1', 'apreciável': '1', 'apreendido': '-1', 'apreensivo': '-1', 'apresentado': '-1', 'apresentável': '1', 'apressado': '0', 'aprimorado': '1', 'apriorista': '-1', 'aprisionado': '-1', 'aprofundado': '1', 'aprontado': '0', 'apropriado': '1', 'aprovado': '1', 'aproveitador': '-1', 'aproveitável': '1', 'aprumado': '1', 'apto': '1', 'apunhalado': '-1', 'apupado': '0', 'apurado': '1', 'aquietador': '-1', 'árabe': '0', 'arbitrário': '-1', 'arcaico': '-1', 'ardente': '1', 'ardido': '1', 'ardiloso': '-1', 'ardoroso': '0', 'árduo': '-1', 'arfante': '-1', 'argivo': '-1', 'arguido': '0', 'arguto': '0', 'ariano': '0', 'árido': '-1', 'arisco': '-1', 'aristocrata': '0', 'aristocrático': '1', 'aristotélico': '0', 'armado': '0', 'arnaz': '1', 'arquejante': '-1', 'arqueológico': '-1', 'arraigado': '-1', 'arrancado': '0', 'arranhado': '-1', 'arranjado': '1', 'arrasado': '-1', 'arrasador': '0', 'arrasante': '0', 'arrastadeiro': '-1', 'arrastado': '-1', 'arrazoado': '1', 'arrebatado': '0', 'arrebatador': '0', 'arrebentado': '-1', 'arrebitado': '-1', 'arrecadado': '-1', 'arredado': '-1', 'arredio': '-1', 'arredondado': '-1', 'arreliado': '-1', 'arreliador': '-1', 'arremessado': '0', 'arrenegado': '-1', 'arrependido': '-1', 'arrepiado': '-1', 'arrepiante': '-1', 'arretado': '1', 'arrevesado': '-1', 'arriscado': '-1', 'arrivista': '-1', 'arrogante': '-1', 'arrojado': '1', 'arrolado': '-1', 'arrozeiro': '0', 'arruaceiro': '-1', 'arrufado': '-1', 'arruinado': '-1', 'arruivado': '0', 'arrumado': '1', 'arteiro': '-1', 'arteriosclerótico': '-1', 'articulado': '-1', 'artificial': '-1', 'artificioso': '-1', 'artista': '0', 'artístico': '1', 'ascético': '0', 'aselha': '-1', 'asfixiante': '-1', 'asiático': '-1', 'asilado': '-1', 'asneirento': '-1', 'asno': '-1', 'áspero': '-1', 'aspirante': '0', 'asqueroso': '-1', 'assalariado': '-1', 'assaloiado': '-1', 'assaltado': '0', 'assaltante': '-1', 'assanhadiço': '-1', 'assanhado': '-1', 'assarapantado': '-1', 'assassinado': '1', 'assassino': '-1', 'assaz': '0', 'asseado': '1', 'assediado': '-1', 'assediador': '-1', 'assegurado': '1', 'assentado': '1', 'assente': '1', 'assertivo': '1', 'assessor': '-1', 'assexuado': '0', 'assexual': '0', 'assíduo': '1', 'assimétrico': '-1', 'assimilado': '0', 'assinado': '0', 'assinalado': '1', 'assinalável': '1', 'assinante': '1', 'assisado': '1', 'assistente': '-1', 'assistido': '-1', 'assoberbado': '-1', 'assobiado': '0', 'associado': '-1', 'assolado': '-1', 'assolador': '-1', 'assomadiço': '-1', 'assombrado': '-1', 'assombroso': '1', 'assumido': '-1', 'assustadiço': '-1', 'assustado': '-1', 'assustador': '-1', 'asténico': '-1', 'astucioso': '-1', 'astuto': '-1', 'atabalhoado': '-1', 'atacado': '0', 'atacante': '-1', 'atado': '-1', 'atafulhado': '-1', 'atamancado': '-1', 'atarantado': '-1', 'atarefado': '0', 'atarracado': '-1', 'atascado': '0', 'ateado': '-1', 'atemorizado': '-1', 'atencioso': '1', 'atento': '1', 'aterrado': '-1', 'aterrador': '-1', 'aterrorizado': '-1', 'aterrorizador': '-1', 'ateu': '-1', 'atiçado': '0', 'atilado': '1', 'atinado': '1', 'atingido': '-1', 'atiradiço': '0', 'ativado': '0', 'ativo': '1', 'atleta': '1', 'atlético': '1', 'atolado': '0', 'atoleimado': '-1', 'atónito': '-1', 'atônito': '-1', 'atordoado': '-1', 'atordoador': '-1', 'atormentado': '-1', 'atormentador': '-1', 'atracado': '-1', 'atractivo': '1', 'atraente': '1', 'atraiçoado': '-1', 'atraído': '-1', 'atrapalhado': '-1', 'atrasado': '-1', 'atrasado mental': '-1', 'atrativo': '1', 'atravessadiço': '-1', 'atravessado': '-1', 'atreito': '-1', 'atrelado': '1', 'atrevido': '0', 'atrevidote': '0', 'atribulado': '-1', 'atroador': '-1', 'atrofiado': '-1', 'atrofiante': '-1', 'atropelado': '-1', 'atroz': '-1', 'atulhado': '-1', 'aturdido': '-1', 'audacioso': '0', 'audaz': '0', 'áureo': '1', 'ausente': '-1', 'auspicioso': '1', 'austero': '-1', 'autarca': '0', 'autêntico': '1', 'autista': '-1', 'autoconfiante': '1', 'autocrata': '0', 'autóctone': '0', 'autodestrutivo': '-1', 'autodidacta': '1', 'autonomista': '1', 'autónomo': '1', 'autônomo': '0', 'autoritário': '-1', 'autorizado': '1', 'autosuficiente': '1', 'auxiliado': '0', 'auxiliar': '-1', 'avançado': '1', 'avantajado': '0', 'avarento': '-1', 'avariado': '-1', 'avaro': '-1', 'avassalador': '-1', 'avassalante': '-1', 'aveludado': '1', 'avençado': '0', 'aventurado': '0', 'aventureiro': '0', 'aventuroso': '0', 'averiguador': '0', 'avermelhado': '0', 'averroísta': '0', 'averso': '-1', 'avesso': '-1', 'ávido': '-1', 'aviltado': '-1', 'aviltador': '-1', 'aviltante': '-1', 'avinagrado': '-1', 'avinhado': '-1', 'avisado': '1', 'avulso': '-1', 'axiomático': '1', 'azafamado': '-1', 'azambrado': '-1', 'azarado': '-1', 'azarento': '-1', 'azedo': '-1', 'azeiteiro': '-1', 'azelha': '-1', 'azoinante': '-1', 'azougado': '-1', 'azul': '-1', 'babaca': '-1', 'babado': '-1', 'babão': '-1', 'babilónico': '1', 'baboso': '-1', 'bacano': '1', 'baço para espelho': '-1', 'bacoco': '-1', 'baconiano': '0', 'badalhoco': '-1', 'baderneiro': '-1', 'bagaceiro': '-1', 'bagunceiro': '-1', 'bairrista': '0', 'baita': '1', 'baixote': '-1', 'bajulador': '-1', 'balbuciante': '-1', 'balofo': '-1', 'bambo': '-1', 'banal': '-1', 'banana': '-1', 'bandido': '-1', 'banhado': '0', 'banido': '-1', 'banzado': '-1', 'baralhado': '-1', 'barateiro': '0', 'barato': '-1', 'barbado': '0', 'bárbaro': '-1', 'barbeado': '0', 'barbilongo': '0', 'barbudo': '0', 'barrado': '-1', 'barraqueiro': '-1', 'barrigana': '-1', 'barrigudo': '-1', 'barroco': '-1', 'barulhento': '-1', 'baselga': '-1', 'básico': '-1', 'bastardo': '-1', 'basto': '0', 'batalhador': '1', 'batalhante': '1', 'batateiro': '0', 'batatudo': '-1', 'batido': '-1', 'batoteiro': '-1', 'batuta': '1', 'bazófio': '-1', 'beatificado': '-1', 'beato': '-1', 'bêbado': '-1', 'bêbedo': '-1', 'bebedor': '-1', 'beberrão': '-1', 'bebido': '-1', 'bebum': '-1', 'beiçudo': '-1', 'beijado': '-1', 'beijoqueiro': '0', 'belfo': '-1', 'belicista': '-1', 'bélico': '-1', 'belicoso': '-1', 'beligerante': '0', 'belo': '1', 'bem ataviado': '0', 'bem constituído': '0', 'bem disposto': '1', 'bem vestido': '1', 'bem-amado': '1', 'bem-apessoado': '1', 'bem-aventurado': '1', 'bem-colocado': '1', 'bem-comportado': '1', 'bem-criado': '1', 'bem-educado': '1', 'bem-encarado': '1', 'bem-falante': '1', 'bem-formado': '1', 'bem-humorado': '1', 'bem-intencionado': '1', 'bem-mandado': '0', 'bem-pago': '0', 'bem-parecido': '1', 'bem-pensante': '1', 'bem-posto': '1', 'bem-sucedido': '1', 'bem-vindo': '1', 'bendito': '1', 'beneditino': '0', 'beneficiado': '0', 'beneficiário': '0', 'benéfico': '1', 'benemérito': '1', 'benevolente': '1', 'benévolo': '1', 'benêvolo': '1', 'benfazejo': '1', 'benfeitor': '1', 'benfiquista': '0', 'benigno': '1', 'benquisto': '1', 'bera': '-1', 'bernardo': '-1', 'besta': '-1', 'bestial': '0', 'bestificado': '-1', 'bexiguento': '-1', 'bibliómano': '0', 'bígamo': '0', 'bilingue': '0', 'bilioso': '-1', 'biltre': '-1', 'bimbo': '-1', 'biqueiro': '-1', 'birrento': '-1', 'biruta': '-1', 'bisbilhoteiro': '-1', 'bisonho': '-1', 'bissexual': '0', 'bizarro': '-1', 'blasfemador': '-1', 'blasfemo': '-1', 'blindado': '0', 'bloqueado': '-1', 'boateiro': '-1', 'bobo': '-1', 'boboca': '-1', 'boçal': '-1', 'bochechudo': '-1', 'bocó': '-1', 'boémio': '-1', 'boêmio': '-1', 'bojudo': '-1', 'bolachudo': '-1', 'bolchevique': '0', 'bolchevista': '0', 'bolorento': '-1', 'bom': '1', 'bom aluno': '1', 'bombástico': '-1', 'bombeado': '-1', 'bom-samaritano': '1', 'bonachão': '-1', 'bonacheirão': '0', 'bonacheiro': '0', 'bonapartista': '0', 'bondoso': '1', 'bonito': '1', 'boquiaberto': '-1', 'borbulhento': '-1', 'borguista': '-1', 'borracho': '-1', 'borrachudo': '-1', 'borrado': '-1', 'borralheiro': '0', 'boto': '-1', 'botocudo': '-1', 'brabo': '0', 'braçal': '0', 'braceiro': '1', 'branco': '-1', 'brando': '0', 'bravateador': '-1', 'bravo': '0', 'brega': '-1', 'brejeiro': '-1', 'brejeirote': '-1', 'breve': '1', 'brigador': '-1', 'brigante': '-1', 'brigão': '-1', 'briguento': '-1', 'brilhante': '1', 'brincalhão': '0', 'brioso': '1', 'britânico': '0', 'broeiro': '0', 'bronco': '-1', 'bronzeado': '0', 'brônzeo': '0', 'brotado': '0', 'brunido': '0', 'bruno': '-1', 'brusco': '-1', 'brutal': '-1', 'bruto': '-1', 'bucha': '-1', 'bucólico': '0', 'budista': '0', 'bufo': '-1', 'bulhão': '-1', 'bulhento': '-1', 'buliçoso': '-1', 'burguês': '-1', 'burlado': '-1', 'burlador': '-1', 'burlão': '-1', 'burlesco': '-1', 'burlista': '-1', 'burocrático': '0', 'burro': '-1', 'cabeça dura': '-1', 'cabeçudo': '-1', 'cabeludo': '0', 'cabisbaixo': '-1', 'caboclo': '-1', 'cabotino': '-1', 'cabralino': '0', 'cabrão': '-1', 'cabrito': '0', 'cábula': '-1', 'caçado': '-1', 'cacete': '-1', 'caceteiro': '-1', 'cachaceiro': '-1', 'cadastrado': '-1', 'cadavérico': '-1', 'cadaveroso': '-1', 'cadelo': '-1', 'cadente': '-1', 'caduco': '-1', 'cafeeiro': '0', 'cafezeiro': '0', 'cafona': '-1', 'cafuzo': '0', 'cagão': '-1', 'cagarola': '-1', 'cagativo': '-1', 'caguinchas': '-1', 'caído': '-1', 'caipira': '-1', 'calaceiro': '-1', 'calado': '0', 'calão': '-1', 'calcado': '-1', 'calculista': '-1', 'calejado': '0', 'calhandreiro': '-1', 'calhorda': '-1', 'cálido': '0', 'calino': '-1', 'calipígio': '1', 'calmante': '1', 'calmo': '1', 'caloroso': '1', 'caloteiro': '-1', 'caluniado': '-1', 'caluniador': '-1', 'calvinista': '0', 'calvo': '0', 'camarada': '1', 'cambaleante': '-1', 'camelo': '-1', 'caminhante': '-1', 'caminheiro': '0', 'camoniano': '0', 'campestre': '-1', 'camponês': '-1', 'campónio': '-1', 'canalha': '-1', 'canalizado': '0', 'canceroso': '-1', 'cândido': '0', 'candongueiro': '-1', 'cangalheiro': '-1', 'canhenho': '0', 'canhestro': '-1', 'canho': '0', 'canhoto': '0', 'canibal': '-1', 'canino': '-1', 'canonizado': '0', 'cansado': '-1', 'cansativo': '-1', 'cão': '-1', 'caótico': '-1', 'capacitado': '1', 'capaz': '1', 'capcioso': '-1', 'capenga': '-1', 'capital': '-1', 'capitalista': '1', 'capitoso': '-1', 'caprichoso': '-1', 'caquéctico': '-1', 'caquético': '-1', 'característico': '1', 'caramuleiro': '0', 'caraterístico': '0', 'carbonizado': '-1', 'carcomido': '-1', 'cardeal': '-1', 'careca': '0', 'carecido': '-1', 'careiro': '-1', 'carenciado': '-1', 'carente': '-1', 'caricato': '-1', 'caricioso': '1', 'caridoso': '1', 'carinhoso': '1', 'carismático': '1', 'caritativo': '1', 'carnal': '0', 'carnavalesco': '-1', 'carniceiro': '-1', 'carnívoro': '-1', 'carnudo': '-1', 'caro': '0', 'carola': '1', 'carrancudo': '-1', 'carregado': '-1', 'cartista': '0', 'casadeiro': '0', 'casado': '0', 'casadoiro': '0', 'casamenteiro': '0', 'caseiro': '0', 'casmurro': '-1', 'casquilho': '-1', 'cassado': '0', 'casso': '-1', 'castiço': '1', 'castigado': '-1', 'castigador': '-1', 'casto': '1', 'castrador': '-1', 'cátaro': '0', 'catastrófico': '-1', 'categorial': '-1', 'categórico': '0', 'categorizado': '1', 'catinguento': '-1', 'catita': '0', 'cativante': '1', 'cativo': '-1', 'católico': '0', 'caturra': '-1', 'caucasiano': '-1', 'caudaloso': '0', 'causado': '1', 'causador': '-1', 'causticante': '-1', 'cáustico': '-1', 'cauteloso': '1', 'cauto': '1', 'cavalheiresco': '1', 'cavalheiro': '1', 'cavaqueador': '0', 'cavaquista': '0', 'cavernícola': '-1', 'cavernoso': '-1', 'caviloso': '-1', 'cavo': '-1', 'cedido': '-1', 'cego': '-1', 'cegueta': '-1', 'celebrado': '0', 'célebre': '1', 'celerado': '-1', 'celeste': '1', 'celestial': '1', 'censor': '0', 'censurado': '-1', 'censurador': '0', 'central': '-1', 'centralista': '0', 'centralizado': '-1', 'centralizador': '0', 'centrista': '0', 'cepo': '-1', 'céptico': '0', 'cercado': '-1', 'cérceo': '-1', 'cerebral': '0', 'cerebrino': '0', 'cerimonial': '0', 'cerimonioso': '0', 'cerrado': '0', 'certeiro': '1', 'certificado': '1', 'certo': '1', 'certo nas contas': '1', 'cesarista': '0', 'cético': '0', 'chalaceiro': '-1', 'chalado': '-1', 'chamado': '0', 'chamativo': '1', 'chanfrado': '-1', 'chantagista': '-1', 'chapado': '-1', 'charlatão': '-1', 'charmoso': '1', 'chateado': '-1', 'chato': '-1', 'chauvinista': '-1', 'chazeiro': '0', 'chefiado': '0', 'chegado': '1', 'cheio': '0', 'cheio de nove horas': '-1', 'cheiroso': '1', 'chibante': '-1', 'chicaneiro': '-1', 'chico esperto': '-1', 'chicoteador': '-1', 'chifrudo': '-1', 'chinfrim': '-1', 'chinfrineiro': '-1', 'chique': '1', 'chistoso': '0', 'chocalheiro': '-1', 'chocante': '0', 'chocarreiro': '-1', 'chocho': '-1', 'choco': '-1', 'choné': '-1', 'choramingão': '-1', 'choramingas': '-1', 'chorão': '-1', 'choroso': '-1', 'chulo': '-1', 'chumbado': '-1', 'chunga': '-1', 'chupado': '-1', 'chupador': '-1', 'chupista': '-1', 'ciceroniano': '0', 'cidadão': '0', 'ciente': '1', 'cigano': '-1', 'cilíndrico': '-1', 'cinéfilo': '0', 'cingido': '1', 'cínico': '-1', 'cinza': '0', 'cinzento': '0', 'cioso': '-1', 'circular': '-1', 'circuncidado': '0', 'circunciso': '0', 'circunscrito': '-1', 'circunspecto': '1', 'circunstanciado': '1', 'circunstancial': '0', 'circunstante': '0', 'cismado': '-1', 'cismático': '-1', 'cisterciense': '0', 'citadino': '0', 'citado': '-1', 'ciumento': '-1', 'cívico': '1', 'civilista': '0', 'civilizado': '1', 'clamoroso': '-1', 'clandestino': '-1', 'clarificado': '0', 'clarificador': '1', 'clarista': '0', 'clarividente': '1', 'claro': '1', 'clássico': '1', 'claudicante': '-1', 'clemente': '1', 'cleptomaníaco': '-1', 'cleptómano': '-1', 'clericalista': '0', 'coadjuvante': '0', 'coagido': '-1', 'coartado': '-1', 'cobarde': '-1', 'cobardola': '-1', 'cobardolas': '-1', 'coberto': '-1', 'cobiçado': '0', 'cobiçoso': '-1', 'cocainómano': '-1', 'codificado': '0', 'coercivo': '-1', 'coerente': '1', 'coeso': '1', 'coevo': '1', 'cogitabundo': '-1', 'cogitativo': '-1', 'cognominado': '0', 'coio': '-1', 'coitado': '-1', 'colaboracionista': '-1', 'colado': '-1', 'colante': '1', 'colectado': '-1', 'colectivista': '0', 'colérico': '-1', 'colhido': '-1', 'colocado': '0', 'colonialista': '0', 'coloquial': '0', 'colorido': '0', 'colossal': '0', 'colunável': '0', 'comandante': '0', 'combalido': '-1', 'combatente': '0', 'combativo': '0', 'combinado': '0', 'comedido': '1', 'comedor': '-1', 'comemorado': '-1', 'comentador': '0', 'comentarista': '0', 'comercial': '-1', 'comerciante': '-1', 'comezinho': '0', 'comichento': '-1', 'comichoso': '-1', 'cómico': '0', 'cômico': '-1', 'comido': '-1', 'comilão': '-1', 'comodista': '-1', 'cômodo': '1', 'comovedor': '0', 'comovente': '0', 'comovido': '-1', 'compacto': '-1', 'companheiro': '1', 'comparado': '0', 'comparável': '-1', 'comparsa': '-1', 'compassivo': '1', 'compelido': '-1', 'compenetrado': '0', 'competente': '1', 'competitivo': '0', 'compincha': '1', 'complacente': '1', 'completo': '0', 'complexado': '-1', 'complexo': '-1', 'complicado': '-1', 'comportado': '-1', 'compósito': '0', 'composto': '1', 'comprado': '0', 'compreensível': '1', 'compreensivo': '1', 'comprido': '-1', 'comprometedor': '-1', 'comprometido': '0', 'compromissado': '0', 'compulsivo': '-1', 'compungido': '-1', 'computado': '0', 'comtiano': '0', 'comum': '-1', 'comuna': '-1', 'comunalista': '0', 'comunicativo': '1', 'comunista': '0', 'concebível': '1', 'conceituado': '1', 'conceituoso': '-1', 'concentrado': '-1', 'conceptista': '0', 'conceptualista': '0', 'concernente': '1', 'concertado': '1', 'concho': '-1', 'conciliador': '1', 'conciso': '1', 'concludente': '1', 'concordante': '1', 'concorrente': '-1', 'concorrido': '1', 'concreto': '1', 'concupiscente': '0', 'condenado': '-1', 'condenável': '-1', 'condensado': '0', 'condescendente': '0', 'condicionado': '0', 'condicional': '0', 'condimentado': '1', 'condoído': '-1', 'condoreiro': '-1', 'condutor': '0', 'conduzido': '-1', 'confiado': '0', 'confiante': '1', 'confiável': '1', 'confinado': '0', 'conflituoso': '-1', 'conformado': '-1', 'conformista': '-1', 'confortador': '1', 'confortante': '1', 'confortável': '0', 'confrangedor': '-1', 'confrontado': '-1', 'confundido': '-1', 'confuso': '-1', 'congelado': '-1', 'congestionado': '-1', 'conglomerado': '0', 'congregado': '-1', 'congressista': '0', 'congruente': '1', 'côngruo': '-1', 'conhecedor': '1', 'conhecido': '1', 'conivente': '-1', 'conjugado': '0', 'conjunto': '-1', 'conluiado': '-1', 'conquistador': '0', 'consagrado': '1', 'consciencial': '0', 'consciencioso': '1', 'consciente': '1', 'cônscio': '1', 'conscrito': '0', 'conselheiro': '0', 'consentâneo': '1', 'consequente': '1', 'consertado': '1', 'conservado': '1', 'conservador': '0', 'considerado': '1', 'considerativo': '1', 'considerável': '1', 'consistente': '1', 'consoante': '-1', 'consolado': '0', 'conspícuo': '1', 'conspirador': '-1', 'conspirativo': '-1', 'constante': '1', 'consternado': '-1', 'consternador': '-1', 'constipado': '-1', 'constituído': '1', 'constitutivo': '0', 'constrangedor': '-1', 'constrangido': '-1', 'construtivo': '1', 'consumado': '1', 'consumido': '-1', 'consumidor': '-1', 'consumista': '-1', 'contactável': '0', 'contado': '-1', 'contagiado': '-1', 'contagiante': '-1', 'contagioso': '-1', 'contaminado': '0', 'contemplador': '0', 'contemplativo': '0', 'contemporâneo': '1', 'contemporizador': '0', 'contemporizante': '0', 'contendedor': '-1', 'contendente': '-1', 'contente': '1', 'contestado': '-1', 'contestador': '-1', 'contestante': '-1', 'contido': '-1', 'contíguo': '-1', 'continente': '1', 'contingente': '-1', 'continuador': '0', 'contornado': '-1', 'contracto': '-1', 'contraditório': '-1', 'contraído': '-1', 'contranaturo': '-1', 'contraposto': '-1', 'contrariado': '-1', 'contratado': '0', 'contribuidor': '0', 'contribuinte': '0', 'contristado': '-1', 'contrito': '-1', 'controlado': '1', 'controlador': '-1', 'controverso': '-1', 'controvertido': '-1', 'contumaz': '-1', 'contundente': '-1', 'contundido': '-1', 'contuso': '-1', 'convencido': '0', 'convencionado': '-1', 'convencional': '-1', 'conversadeiro': '0', 'conversado': '0', 'conversador': '0', 'converso': '0', 'convertido': '0', 'convicto': '0', 'convidativo': '1', 'convincente': '1', 'convivente': '1', 'convulsivo': '-1', 'cooperador': '1', 'cooperante': '1', 'cooperativista': '0', 'copto': '0', 'coquete': '-1', 'corado': '0', 'corajoso': '1', 'corcovado': '-1', 'corcunda': '-1', 'cordato': '1', 'cordeiro': '0', 'cordial': '1', 'cornudo': '-1', 'cornuto': '-1', 'corporal': '-1', 'corporativista': '0', 'corpulento': '0', 'correcto': '1', 'correto': '1', 'corrido': '-1', 'corriqueiro': '-1', 'corrompido': '-1', 'corrosivo': '-1', 'corruptível': '-1', 'corruptivo': '-1', 'corrupto': '-1', 'corruptor': '-1', 'cortado': '-1', 'cortejado': '0', 'cortês': '1', 'cortesão': '1', 'coruja': '0', 'coscuvilheiro': '-1', 'cósmico': '0', 'cosmopolita': '1', 'cosmopolítico': '1', 'costumado': '0', 'costumeiro': '1', 'cotado': '1', 'covarde': '-1', 'coxo': '-1', 'crápula': '-1', 'crapuloso': '-1', 'craque': '1', 'crasso': '-1', 'cravado': '-1', 'cravejado': '-1', 'credível': '1', 'credor': '1', 'crédulo': '0', 'crente': '0', 'crescido': '1', 'crescidote': '0', 'cretino': '-1', 'cretinóide': '-1', 'criacionista': '0', 'criador': '1', 'criativo': '1', 'criminoso': '-1', 'crioulo': '0', 'críptico': '-1', 'cris': '-1', 'crisólogo': '1', 'crisóstomo': '1', 'crispado': '-1', 'cristalino': '1', 'cristão': '0', 'criterioso': '1', 'criticável': '-1', 'criticista': '0', 'crítico': '0', 'crivado': '-1', 'crível': '1', 'cromo': '-1', 'crônico': '0', 'cru': '-1', 'crucial': '0', 'crucificador': '-1', 'cruel': '-1', 'cruzado': '-1', 'cubista': '0', 'cuidado': '1', 'cuidadoso': '1', 'culpado': '-1', 'culposo': '-1', 'cultivado': '1', 'culto': '1', 'cúmplice': '0', 'cumpridor': '1', 'curado': '1', 'curandeiro': '-1', 'curativo': '0', 'curial': '1', 'curioso': '0', 'curtido': '1', 'curto': '0', 'curto de vistas': '-1', 'curvado': '-1', 'curvilíneo': '-1', 'curvo': '-1', 'cuspido': '-1', 'custoso': '0', 'czarista': '0', 'dadaísta': '0', 'dadivoso': '1', 'dado': '0', 'daltónico': '-1', 'danado': '-1', 'danificado': '-1', 'danoso': '-1', 'dardejante': '0', 'darwinista': '0', 'deambulante': '-1', 'debandado': '-1', 'debatido': '-1', 'débil': '-1', 'debilitado': '-1', 'debochado': '-1', 'decadente': '-1', 'decadentista': '-1', 'decaído': '-1', 'decantado': '-1', 'decente': '1', 'decepado': '-1', 'decepcionado': '-1', 'decepcionante': '-1', 'decidido': '1', 'decisivo': '0', 'declarado': '0', 'decorado': '-1', 'decoroso': '1', 'decrépito': '-1', 'dedicado': '1', 'deduzido': '0', 'defeituoso': '-1', 'defensor': '1', 'deferente': '1', 'deferido': '1', 'defeso': '-1', 'defesso': '-1', 'deficiente': '-1', 'definhado': '-1', 'definido': '0', 'deformado': '-1', 'defunto': '-1', 'degenerado': '-1', 'degradado': '-1', 'degradante': '-1', 'degredado': '-1', 'deicida': '-1', 'deísta': '0', 'deitado': '-1', 'deixado': '0', 'delambido': '-1', 'delegado': '-1', 'deleitado': '-1', 'deleitoso': '1', 'deletério': '-1', 'delgado': '0', 'deliberado': '1', 'delicado': '1', 'deliciado': '-1', 'delicioso': '1', 'delimitado': '-1', 'delineado': '-1', 'delinquente': '-1', 'delirante': '-1', 'delituoso': '-1', 'demagógico': '-1', 'demagogo': '-1', 'demarcado': '-1', 'demente': '-1', 'demérito': '-1', 'demitido': '-1', 'democrata': '0', 'democrata-cristão': '0', 'democrático': '1', 'démodé': '-1', 'demolidor': '-1', 'demoníaco': '-1', 'demonstrativo': '1', 'demorado': '-1', 'denegrido': '-1', 'dengoso': '-1', 'denodado': '1', 'denominado': '1', 'denso': '-1', 'depauperado': '-1', 'depenado': '-1', 'dependente': '-1', 'dependurado': '-1', 'depilado': '0', 'deplorável': '-1', 'deportado': '-1', 'deposto': '-1', 'depravado': '-1', 'depravador': '-1', 'depreciado': '-1', 'depreciativo': '-1', 'depressivo': '-1', 'depressor': '-1', 'deprimente': '-1', 'deprimido': '-1', 'depurado': '0', 'deputado': '0', 'derivado': '-1', 'derramado': '-1', 'derreado': '-1', 'derretido': '-1', 'derrotado': '-1', 'derrotista': '-1', 'derrubado': '-1', 'desabafado': '1', 'desabitado': '-1', 'desabonado': '-1', 'desabrido': '-1', 'desabrigado': '-1', 'desabusado': '-1', 'desacompanhado': '-1', 'desacordado': '-1', 'desacreditado': '-1', 'desactualizado': '-1', 'desadaptado': '-1', 'desafectado': '1', 'desafecto': '-1', 'desafeto': '-1', 'desafiado': '-1', 'desafiador': '0', 'desafiante': '0', 'desafinado': '-1', 'desafogado': '1', 'desaforado': '-1', 'desaforido': '-1', 'desafortunado': '-1', 'desagradado': '-1', 'desagradável': '-1', 'desagradecido': '-1', 'desairoso': '-1', 'desajeitado': '-1', 'desajustado': '-1', 'desalentado': '-1', 'desalinhado': '-1', 'desalmado': '-1', 'desalojado': '-1', 'desamparado': '-1', 'desanimado': '-1', 'desanimador': '-1', 'desapaixonado': '-1', 'desaparafusado': '-1', 'desaparecido': '-1', 'desaparelhado': '-1', 'desapegado': '-1', 'desapiedado': '-1', 'desapontado': '-1', 'desapontador': '-1', 'desapossado': '-1', 'desapropriado': '-1', 'desaprovador': '-1', 'desaproveitado': '-1', 'desarmado': '-1', 'desarmante': '1', 'desarranjado': '-1', 'desarrazoado': '-1', 'desarrumado': '-1', 'desarticulado': '-1', 'desassisado': '-1', 'desassombrado': '0', 'desassossegado': '-1', 'desastrado': '-1', 'desastroso': '-1', 'desatado': '0', 'desatento': '-1', 'desatinado': '-1', 'desaustinado': '-1', 'desavergonhado': '-1', 'desavisado': '-1', 'desbaratado': '-1', 'desbaratador': '-1', 'desbocado': '-1', 'desbotado': '-1', 'desbragado': '-1', 'desbravador': '0', 'descabelado': '-1', 'descabido': '-1', 'descadeirado': '-1', 'descalço': '-1', 'descamisado': '-1', 'descansado': '0', 'descarado': '-1', 'descarnado': '-1', 'descasado': '0', 'descascado': '-1', 'descautelado': '-1', 'descendente': '-1', 'descente': '0', 'descerimonioso': '1', 'descerrado': '-1', 'desclassificado': '-1', 'descoberto': '1', 'descobridor': '0', 'descolado': '0', 'descomedido': '-1', 'descomplexado': '1', 'descomposto': '0', 'descomprometido': '0', 'descompromissado': '0', 'descomunal': '-1', 'desconcentrado': '-1', 'desconcertado': '-1', 'desconexo': '-1', 'desconfiado': '-1', 'desconfortável': '-1', 'desconhecedor': '-1', 'desconhecido': '-1', 'desconsiderado': '0', 'desconsolado': '-1', 'descontente': '-1', 'descontínuo': '-1', 'descontraído': '1', 'descontrolado': '-1', 'descoordenado': '-1', 'descorado': '-1', 'descoroçoado': '-1', 'descortês': '-1', 'descrente': '0', 'descrito': '-1', 'descuidado': '-1', 'desculpado': '0', 'desculpável': '0', 'desdenhoso': '-1', 'desdentado': '-1', 'desdito': '-1', 'desditoso': '-1', 'desejado': '0', 'desejável': '1', 'desejoso': '-1', 'deselegante': '-1', 'desembaraçado': '1', 'desemparelhado': '-1', 'desempenado': '1', 'desempregado': '-1', 'desencadeado': '0', 'desencalhado': '0', 'desencaminhado': '-1', 'desencaminhador': '-1', 'desencantado': '0', 'desencontrado': '-1', 'desenganado': '1', 'desengonçado': '-1', 'desengraçado': '-1', 'desenrascado': '1', 'desenterrado': '1', 'desenvencilhado': '1', 'desenvolto': '1', 'desenvolvido': '1', 'desenxabido': '-1', 'desequilibrado': '-1', 'deserto': '-1', 'desertor': '-1', 'desesperado': '-1', 'desesperançado': '-1', 'desestabilizador': '-1', 'desfalcado': '0', 'desfalecido': '-1', 'desfavorável': '-1', 'desfavorecido': '-1', 'desfeito': '-1', 'desfigurado': '-1', 'desfolhado': '0', 'desfrutado': '1', 'desgarrado': '-1', 'desgastado': '-1', 'desgastante': '0', 'desgostoso': '-1', 'desgovernado': '-1', 'desgraçado': '-1', 'desgracioso': '-1', 'desgrenhado': '-1', 'designado': '-1', 'designador': '1', 'designativo': '1', 'desigual': '-1', 'desiludido': '-1', 'desimpedido': '0', 'desinfeliz': '-1', 'desinformado': '-1', 'desinibido': '1', 'desinstruído': '-1', 'desinteressado': '-1', 'desinteressante': '-1', 'deslambido': '-1', 'deslavado': '-1', 'desleal': '-1', 'desleixado': '-1', 'desligado': '-1', 'deslocado': '-1', 'deslumbrado': '-1', 'deslumbrante': '1', 'desmaiado': '-1', 'desmanchado': '-1', 'desmantelado': '-1', 'desmarcado': '-1', 'desmazelado': '-1', 'desmedido': '-1', 'desmembrado': '0', 'desmemoriado': '-1', 'desmentido': '-1', 'desmesurado': '-1', 'desmiolado': '-1', 'desmontado': '-1', 'desmoralizado': '-1', 'desmoralizador': '-1', 'desmotivado': '-1', 'desmotivador': '-1', 'desnaturado': '-1', 'desnaturalizado': '0', 'desnorteado': '-1', 'desnudado': '0', 'desnudo': '0', 'desobediente': '-1', 'desobrigado': '0', 'desocupado': '-1', 'desolado': '-1', 'desolador': '-1', 'desolhado': '-1', 'desonesto': '-1', 'desonrado': '-1', 'desonroso': '-1', 'desoprimido': '0', 'desordeiro': '-1', 'desordenado': '-1', 'desorganizado': '-1', 'desorientado': '-1', 'despachado': '1', 'despassarado': '-1', 'despedaçado': '0', 'despedido': '0', 'despegado': '0', 'despeitado': '-1', 'despeitorado': '-1', 'despejado': '-1', 'despenteado': '-1', 'despercebido': '-1', 'desperdiçado': '-1', 'desperdiçador': '-1', 'desperto': '1', 'despesista': '-1', 'despido': '0', 'despirocado': '-1', 'despistado': '-1', 'despojado': '0', 'despótico': '-1', 'despregado': '-1', 'desprendido': '0', 'despreocupado': '0', 'despreparado': '0', 'despretensioso': '1', 'desprevenido': '-1', 'desprezado': '-1', 'desprezável': '-1', 'desprezível': '-1', 'desprimoroso': '-1', 'desproporcionado': '-1', 'despropositado': '-1', 'desprotegido': '-1', 'desprovido': '0', 'despudorado': '-1', 'desqualificado': '-1', 'desquitado': '0', 'desregrado': '-1', 'desregulado': '-1', 'desremediado': '-1', 'desrespeitado': '-1', 'desrespeitador': '-1', 'desrespeitoso': '-1', 'dessexuado': '0', 'destabilizador': '-1', 'destacado': '-1', 'destampado': '-1', 'destapado': '-1', 'destemido': '1', 'destemperado': '-1', 'desterrado': '-1', 'destinado': '1', 'destituído': '0', 'destoante': '-1', 'destorcido': '1', 'destrambelhado': '-1', 'destratado': '-1', 'destravado': '-1', 'destro': '0', 'destroçado': '-1', 'destruído': '-1', 'destruidor': '-1', 'destrutivo': '-1', 'destrutor': '-1', 'desumano': '-1', 'desunido': '0', 'desusado': '-1', 'desvairado': '-1', 'desvalido': '-1', 'desvanecido': '0', 'desvariado': '-1', 'desvelado': '1', 'desvendado': '0', 'desventurado': '-1', 'desventuroso': '-1', 'desviado': '0', 'desvirtuado': '-1', 'desvitalizado': '-1', 'detalhado': '1', 'deteriorado': '-1', 'determinado': '1', 'determinante': '-1', 'determinista': '0', 'detestado': '-1', 'detestável': '-1', 'detido': '-1', 'detrator': '-1', 'deturpado': '-1', 'devaneador': '-1', 'devassado': '-1', 'devasso': '-1', 'devastado': '-1', 'devastador': '-1', 'devorador': '-1', 'devotado': '0', 'devoto': '0', 'devoto de Baco': '-1', 'dextrímano': '0', 'diabólico': '-1', 'diáfano': '1', 'dialogante': '1', 'diamante': '-1', 'difamado': '-1', 'difamador': '-1', 'difamatório': '-1', 'diferençado': '0', 'diferenciado': '1', 'diferente': '0', 'difícil': '-1', 'difundido': '-1', 'difuso': '-1', 'digno': '1', 'digno de confiança': '1', 'digressionista': '-1', 'digressivo': '-1', 'dilacerado': '-1', 'dilatado': '0', 'diletante': '0', 'diligente': '1', 'diminuído': '-1', 'diminuto': '0', 'dinâmico': '1', 'dinamizador': '1', 'diplomado': '0', 'diplomático': '1', 'directo': '0', 'director': '0', 'direito': '1', 'direito de contas': '1', 'direto': '-1', 'diretor': '1', 'dirigente': '1', 'dirigido': '0', 'disciplinado': '1', 'disciplinador': '0', 'díscolo': '-1', 'discordante': '-1', 'discreto': '1', 'discricionário': '-1', 'discriminado': '-1', 'discriminador': '-1', 'discursivo': '0', 'discutido': '-1', 'disfarçado': '-1', 'disforme': '-1', 'disléxico': '-1', 'disparatado': '-1', 'dispensado': '0', 'dispensável': '-1', 'dispersivo': '-1', 'disperso': '-1', 'displicente': '-1', 'disponível': '0', 'disposto': '1', 'disputado': '-1', 'disseminado': '-1', 'dissidente': '-1', 'dissimulado': '-1', 'dissipado': '-1', 'dissipador': '-1', 'dissoluto': '-1', 'dissolvente': '-1', 'dissolvido': '-1', 'distanciado': '-1', 'distante': '-1', 'distinguido': '0', 'distintivo': '0', 'distinto': '1', 'distorcido': '-1', 'distraído': '-1', 'ditador': '-1', 'ditoso': '1', 'divagador': '-1', 'divagante': '-1', 'diversificado': '-1', 'divertido': '1', 'dividido': '0', 'divinal': '1', 'divino': '1', 'divo': '0', 'divorciado': '0', 'divulgador': '0', 'dizimado': '-1', 'dobradiço': '0', 'dobrado': '-1', 'doce': '1', 'dócil': '1', 'documentado': '1', 'doente': '-1', 'doentio': '-1', 'dogmático': '-1', 'dogmatista': '-1', 'doidivanas': '-1', 'doido': '-1', 'doido de todo': '-1', 'doido varrido': '-1', 'dolente': '-1', 'dolorido': '-1', 'doloso': '-1', 'domado': '0', 'domesticado': '1', 'doméstico': '0', 'domiciliado': '0', 'dominado': '-1', 'dominador': '0', 'dominante': '1', 'domingueiro': '0', 'dominicano': '0', 'domínico': '0', 'donairoso': '1', 'donatista': '0', 'donzel': '0', 'dopado': '-1', 'dorido': '-1', 'dormente': '-1', 'dorminhoco': '-1', 'dotado': '1', 'doudo': '-1', 'dourado': '0', 'douto': '1', 'doutrinado': '1', 'doutrinador': '0', 'draconiano': '-1', 'dramático': '-1', 'drástico': '-1', 'drogado': '-1', 'dromomaníaco': '-1', 'dualista': '0', 'dúbio': '-1', 'dubitativo': '-1', 'dublado': '-1', 'duplicado': '-1', 'dúplice': '-1', 'durázio': '1', 'duro': '-1', 'duro da mioleira': '-1', 'duro de ouvido': '-1', 'duvidoso': '-1', 'ébrio': '0', 'ecléctico': '1', 'ecológico': '1', 'económico': '1', 'econômico': '1', 'economizador': '1', 'edificante': '1', 'edipiano': '0', 'educado': '1', 'educador': '0', 'educativo': '1', 'educável': '0', 'efémero': '-1', 'efêmero': '-1', 'efeminado': '-1', 'efervescente': '-1', 'efetivo': '1', 'eficaz': '1', 'eficiente': '1', 'efusivo': '1', 'egocêntrico': '0', 'egoísta': '-1', 'egotista': '-1', 'egrégio': '1', 'elástico': '1', 'electrizante': '1', 'elegante': '1', 'elegíaco': '-1', 'elegido': '0', 'elegível': '0', 'eleiçoeiro': '0', 'eleito': '0', 'elevado': '0', 'elitista': '-1', 'elogiado': '-1', 'elogioso': '1', 'eloquente': '1', 'elucidativo': '1', 'emaciado': '-1', 'emancipado': '0', 'emaranhado': '-1', 'embaçado': '-1', 'embaciado': '-1', 'embaraçado': '-1', 'embasbacado': '-1', 'embatucado': '-1', 'embebido': '0', 'embeiçado': '0', 'embevecido': '-1', 'embirrante': '-1', 'embirrento': '-1', 'emblemático': '1', 'embotado': '-1', 'embriagado': '-1', 'embrulhado': '-1', 'embruxado': '-1', 'embuçado': '-1', 'embuchado': '-1', 'emburrado': '-1', 'embusteiro': '-1', 'embutido': '0', 'emérito': '1', 'emigrado': '-1', 'emigrante': '-1', 'eminente': '1', 'emissário': '-1', 'emocionado': '-1', 'emocional': '0', 'emocionante': '-1', 'emotivo': '0', 'empacotado': '-1', 'empáfio': '-1', 'empalidecido': '-1', 'empalmado': '-1', 'empanturrado': '-1', 'empapado': '0', 'empapuçado': '-1', 'emparedado': '0', 'empatado': '-1', 'empedernido': '-1', 'empenhado': '1', 'emperrado': '-1', 'empertigado': '-1', 'empinado': '0', 'empírico': '0', 'empirista': '0', 'empobrecido': '-1', 'empoeirado': '-1', 'empolado': '-1', 'empoleirado': '0', 'empolgado': '1', 'empolgante': '0', 'emporcalhado': '-1', 'empreendedor': '1', 'empregado': '0', 'emproado': '-1', 'empurrado': '-1', 'emulador': '-1', 'êmulo': '-1', 'enaltecido': '0', 'enamorado': '1', 'encabeçado': '-1', 'encabulado': '-1', 'encaixado': '0', 'encalacrado': '-1', 'encalhado': '-1', 'encamado': '-1', 'encaminhado': '1', 'encanado': '-1', 'encanecido': '0', 'encantado': '0', 'encantador': '1', 'encapotado': '0', 'encapuçado': '0', 'encarado': '0', 'encarapinhado': '1', 'encarapuçado': '0', 'encarcerado': '-1', 'encarnado': '0', 'encarniçado': '-1', 'encarrapitado': '0', 'encarregado': '0', 'encartado': '0', 'encasacado': '0', 'encavacado': '-1', 'encenado': '0', 'encetado': '-1', 'enchapelado': '0', 'encharcado': '0', 'enciumado': '-1', 'enclausurado': '-1', 'encoberto': '-1', 'encolerizado': '-1', 'encolhido': '-1', 'encontrado': '-1', 'encorajado': '1', 'encorajador': '1', 'encorpado': '0', 'encostado': '0', 'encovado': '-1', 'encruado': '-1', 'encurralado': '-1', 'encurvado': '-1', 'endemoniado': '-1', 'endemoninhado': '-1', 'endiabrado': '-1', 'endinheirado': '1', 'endividado': '-1', 'endurecido': '-1', 'enérgico': '1', 'enervado': '-1', 'enervante': '-1', 'enfadado': '-1', 'enfadonho': '-1', 'enfardador': '-1', 'enfarpelado': '0', 'enfarruscado': '0', 'enfartado': '-1', 'enfastiado': '-1', 'enfastiante': '-1', 'enfático': '0', 'enfatuado': '-1', 'enfeitado': '0', 'enfeitiçado': '-1', 'enfermiço': '-1', 'enfezado': '-1', 'enfiado': '-1', 'enfraquecido': '-1', 'enfrascado': '-1', 'enfrentado': '0', 'enfronhado': '1', 'enfunado': '-1', 'enfurecido': '-1', 'engaiolado': '-1', 'enganado': '-1', 'enganador': '-1', 'enganoso': '-1', 'engarrafado': '-1', 'engasgado': '-1', 'engatado': '-1', 'engenhoso': '0', 'englobado': '0', 'engodado': '-1', 'engolfado': '-1', 'engolido': '-1', 'engraçado': '1', 'engravatado': '0', 'engripado': '0', 'engrupido': '-1', 'enigmático': '-1', 'enjeitado': '-1', 'enjoado': '-1', 'enlaçado': '-1', 'enlameado': '0', 'enleado': '-1', 'enlevado': '-1', 'enlouquecido': '-1', 'enlutado': '-1', 'enófilo': '0', 'enojado': '-1', 'enorme': '0', 'enrabichado': '0', 'enraivecido': '-1', 'enraizado': '1', 'enrascado': '-1', 'enredado': '-1', 'enregelado': '-1', 'enresinado': '-1', 'enrijecido': '-1', 'enriquecido': '1', 'enrodilhador': '-1', 'enrolado': '-1', 'enroupado': '0', 'enrubescido': '0', 'enrugado': '-1', 'ensacado': '-1', 'ensaiado': '-1', 'ensanguentado': '-1', 'ensangüentado': '-1', 'ensimesmado': '-1', 'ensinado': '0', 'ensolarado': '1', 'ensonado': '0', 'ensopado': '0', 'ensurdecedor': '-1', 'entalado': '-1', 'entaramelado': '-1', 'enteado': '-1', 'entediado': '-1', 'entediante': '-1', 'entendido': '1', 'enternecedor': '1', 'enternecido': '1', 'enterrado': '0', 'entoado': '1', 'entontecido': '-1', 'entornado': '-1', 'entorpecido': '-1', 'entortado': '-1', 'entradote': '0', 'entrançado': '0', 'entranhado': '1', 'entrecortado': '-1', 'entregador': '-1', 'entregue': '0', 'entremeado': '-1', 'entretecido': '-1', 'entretido': '-1', 'entrevado': '-1', 'entristecido': '-1', 'entroncado': '0', 'entubado': '-1', 'entulhado': '-1', 'entusiasmado': '0', 'entusiasmante': '1', 'entusiasta': '1', 'entusiástico': '1', 'enumerado': '0', 'envaidecido': '-1', 'envelhecido': '-1', 'envenenador': '-1', 'envergado': '-1', 'envergonhado': '-1', 'enviado': '0', 'enviesado': '-1', 'envinagrado': '-1', 'envolto': '-1', 'envolvente': '0', 'envolvido': '-1', 'enxerido': '-1', 'enxofrado': '-1', 'enxovalhado': '-1', 'enxuto': '1', 'épico': '1', 'epicurista': '0', 'epigramático': '-1', 'epilético': '-1', 'equânime': '1', 'equilibrado': '1', 'equipado': '0', 'equitativo': '1', 'eqüitativo': '1', 'equivalente': '0', 'equivocado': '-1', 'equívoco': '-1', 'erecto': '0', 'ereto': '-1', 'ermo': '-1', 'erótico': '0', 'erotomaníaco': '-1', 'errado': '-1', 'errante': '-1', 'errático': '-1', 'erróneo': '0', 'erudito': '1', 'esbaforido': '-1', 'esbanjado': '-1', 'esbanjador': '-1', 'esbatido': '-1', 'esbelto': '1', 'esboçado': '-1', 'esborratado': '-1', 'esbulhado': '0', 'esburacado': '0', 'escabelado': '-1', 'escabroso': '-1', 'escaldado': '-1', 'escaldante': '-1', 'escalvado': '0', 'escamado': '-1', 'escamoso': '-1', 'escamoteado': '0', 'escancarado': '-1', 'escandaloso': '-1', 'escangalhado': '-1', 'escanhoado': '0', 'escanifrado': '-1', 'escanzelado': '-1', 'escapadiço': '-1', 'escape': '-1', 'escapo': '-1', 'escarnecedor': '-1', 'escarnecido': '-1', 'escarninho': '-1', 'escarranchado': '0', 'escarrapachado': '-1', 'escavacado': '-1', 'escaveirado': '-1', 'esclarecedor': '1', 'esclarecido': '1', 'esclerosado': '-1', 'esclerótico': '-1', 'escolado': '0', 'escolarizado': '1', 'escolástico': '0', 'escolhido': '0', 'escondido': '-1', 'esconso': '-1', 'escorado': '1', 'escoriado': '-1', 'escorraçado': '-1', 'escorregadio': '-1', 'escorreito': '1', 'escoteiro': '0', 'escrachado': '-1', 'escravizado': '-1', 'escravo': '1', 'escrupuloso': '1', 'esculachado': '-1', 'esculpido': '-1', 'escultural': '1', 'escuro': '-1', 'escusado': '-1', 'escuso': '-1', 'escutista': '0', 'esdrúxulo': '-1', 'esfaimado': '-1', 'esfalfado': '-1', 'esfarrapado': '-1', 'esférico': '-1', 'esfíngico': '-1', 'esfomeado': '-1', 'esforçado': '1', 'esfuziante': '1', 'esgalgado': '-1', 'esganado': '-1', 'esganiçado': '-1', 'esgazeado': '-1', 'esgotado': '-1', 'esgotante': '-1', 'esgrouviado': '-1', 'esguedelhado': '-1', 'esguio': '0', 'esmagado': '-1', 'esmagador': '0', 'esmerado': '1', 'esmiuçado': '1', 'esmoler': '1', 'esmorecido': '-1', 'esotérico': '0', 'espadaúdo': '0', 'espalhado': '-1', 'espalhafatoso': '-1', 'espalmado': '-1', 'espampanante': '-1', 'espancado': '-1', 'espantado': '-1', 'espantoso': '0', 'esparramado': '-1', 'espartano': '0', 'espatifado': '-1', 'espaventoso': '0', 'espavorido': '-1', 'especado': '-1', 'especial': '1', 'especialista': '0', 'especioso': '0', 'espectacular': '1', 'espectador': '0', 'espectral': '1', 'esperado': '1', 'esperançado': '1', 'esperançoso': '1', 'espertalhão': '-1', 'esperto': '0', 'espetacular': '1', 'espetaculoso': '0', 'espetado': '-1', 'espevitado': '0', 'espezinhado': '-1', 'espigado': '0', 'espigadote': '0', 'espinhento': '-1', 'espinhoso': '-1', 'espiritista': '0', 'espiritual': '0', 'espiritualista': '0', 'espirituoso': '1', 'esplendente': '1', 'esplêndido': '1', 'esplendoroso': '1', 'espoliado': '0', 'espontâneo': '1', 'espremido': '-1', 'espúrio': '-1', 'esquálido': '-1', 'esquecediço': '-1', 'esquecido': '-1', 'esquelético': '-1', 'esquentado': '-1', 'esquerdino': '0', 'esquerdista': '0', 'esquerdo': '0', 'esquerdóide': '-1', 'esquinado': '-1', 'esquisito': '-1', 'esquivo': '-1', 'esquizofrénico': '-1', 'esquizóide': '-1', 'essénio': '0', 'estabanado': '-1', 'estabelecido': '-1', 'estacado': '-1', 'estacionado': '-1', 'estafado': '-1', 'estagnado': '-1', 'estalado': '-1', 'estalinista': '0', 'estampado': '-1', 'estancado': '-1', 'estanhado': '-1', 'estapafúrdio': '-1', 'estarola': '-1', 'estarrecido': '-1', 'estatelado': '-1', 'estático': '0', 'estavanado': '-1', 'estável': '1', 'estendido': '-1', 'estentóreo': '0', 'estentórico': '0', 'estereotipado': '-1', 'estéril': '-1', 'esticado': '-1', 'estigmatizado': '-1', 'estilhaçado': '0', 'estilizado': '-1', 'estiloso': '-1', 'estimado': '1', 'estimável': '1', 'estimulado': '0', 'estimulante': '0', 'estirado': '-1', 'estóico': '-1', 'estoirado': '-1', 'estonteado': '-1', 'estonteante': '-1', 'estourado': '-1', 'estouvado': '-1', 'estrábico': '-1', 'estragado': '-1', 'estrambólico': '-1', 'estrambótico': '-1', 'estrangeirado': '-1', 'estrangeiro': '-1', 'estrangulado': '-1', 'estranho': '-1', 'estreante': '-1', 'estreito': '0', 'estremunhado': '-1', 'estrénuo': '1', 'estribado': '1', 'estricto': '1', 'estridente': '-1', 'estrito': '-1', 'estroina': '-1', 'estropiado': '-1', 'estruturado': '0', 'estudado': '0', 'estudioso': '1', 'estulto': '-1', 'estupefaciente': '-1', 'estupefacto': '-1', 'estupefato': '-1', 'estupendo': '1', 'estúpido': '-1', 'estuporado': '-1', 'estuprado': '-1', 'esvaziado': '-1', 'etéreo': '1', 'eterno': '1', 'etilizado': '-1', 'eufónico': '1', 'eufórico': '1', 'eugenista': '0', 'eunuco': '-1', 'eurocéptico': '0', 'europeísta': '0', 'europeizado': '0', 'evaporado': '-1', 'evasivo': '-1', 'exacerbado': '-1', 'exagerado': '-1', 'exalado': '-1', 'exaltado': '-1', 'examinado': '-1', 'exangue': '-1', 'exasperado': '-1', 'exato': '1', 'exausto': '-1', 'excelente': '1', 'excelso': '1', 'excêntrico': '0', 'excepcional': '1', 'excessivo': '-1', 'excitado': '0', 'excitante': '1', 'excitável': '0', 'excluído': '-1', 'excomungado': '-1', 'execrado': '-1', 'execrável': '-1', 'executado': '-1', 'executável': '0', 'executivo': '1', 'executor': '1', 'exemplar': '1', 'exercitado': '-1', 'exibicionista': '-1', 'exibido': '-1', 'exigente': '0', 'exíguo': '0', 'exilado': '-1', 'eximido': '-1', 'exímio': '1', 'existencialista': '0', 'exonerado': '-1', 'exotérico': '-1', 'exótico': '-1', 'expansionista': '0', 'expansivo': '1', 'expatriado': '-1', 'expedido': '0', 'expeditivo': '1', 'expedito': '1', 'expelido': '-1', 'experiente': '1', 'experimentado': '1', 'experto': '1', 'expirado': '-1', 'explicado': '1', 'explicativo': '0', 'explícito': '0', 'explorado': '1', 'explorador': '-1', 'explosivo': '-1', 'exposto': '0', 'expressionista': '0', 'expressivo': '1', 'expropriado': '-1', 'expulso': '-1', 'expurgado': '-1', 'extasiado': '0', 'extático': '-1', 'extemporâneo': '-1', 'extensivo': '-1', 'extenso': '0', 'extenuado': '-1', 'extenuante': '-1', 'extraído': '-1', 'extraordinário': '1', 'extravagante': '-1', 'extraviado': '-1', 'extremado': '1', 'extremista': '-1', 'extremo': '-1', 'extremoso': '1', 'extrovertido': '1', 'exuberante': '0', 'exultante': '1', 'exumado': '1', 'fabricado': '1', 'fabricante': '0', 'fabuloso': '1', 'façanhudo': '-1', 'faccioso': '-1', 'faceiro': '1', 'faceto': '1', 'fácil': '0', 'facínora': '-1', 'facinoroso': '-1', 'factível': '0', 'factual': '1', 'facundo': '0', 'fadado': '-1', 'fadigado': '-1', 'falacioso': '-1', 'falado': '1', 'falador': '0', 'falansteriano': '0', 'falante': '1', 'falecido': '0', 'falhado': '-1', 'falho': '-1', 'falido': '-1', 'falível': '-1', 'falseta': '-1', 'falsificado': '1', 'falso': '-1', 'falto': '-1', 'faltoso': '-1', 'famélico': '-1', 'famigerado': '0', 'familiar': '0', 'familiarizado': '-1', 'faminto': '-1', 'famoso': '1', 'fanático': '-1', 'fanfarrão': '-1', 'fanho': '-1', 'fanhoso': '-1', 'fantasiado': '-1', 'fantasioso': '1', 'fantasista': '-1', 'fantasmagórico': '0', 'fantástico': '1', 'fareleiro': '-1', 'farfalhudo': '0', 'farisaico': '-1', 'fariseu': '-1', 'farrista': '-1', 'farronqueiro': '-1', 'farsante': '-1', 'farsista': '-1', 'farsola': '-1', 'farto': '0', 'fascinado': '-1', 'fascinante': '1', 'fascista': '-1', 'fastidioso': '-1', 'fatal': '-1', 'fatalista': '-1', 'fatigado': '-1', 'fatigante': '-1', 'fátuo': '-1', 'favorável': '1', 'favorecido': '1', 'febril': '-1', 'fechado': '-1', 'fecundo': '1', 'federalista': '0', 'fedorento': '-1', 'feio': '-1', 'feiticeiro': '1', 'feiticista': '-1', 'feitiço': '-1', 'feito': '1', 'felino': '-1', 'feliz': '1', 'felizardo': '1', 'femeeiro': '-1', 'feniano': '0', 'fenomenal': '1', 'ferido': '-1', 'ferino': '-1', 'fermentado': '1', 'fero': '-1', 'feroz': '-1', 'ferrado': '-1', 'ferrenho': '-1', 'férreo': '-1', 'fértil': '1', 'fertilizado': '0', 'fervoroso': '0', 'fescenino': '-1', 'festeiro': '0', 'festejado': '-1', 'festivo': '1', 'fetichista': '-1', 'feudalista': '0', 'fiador': '1', 'fiável': '1', 'ficcional': '1', 'ficcionista': '0', 'fictício': '-1', 'fidalgo': '0', 'fidedigno': '1', 'fiel': '1', 'figadal': '0', 'figurado': '-1', 'figurista': '0', 'filadelfo': '0', 'filantrópico': '1', 'filantropo': '1', 'filho': '0', 'filho da puta': '-1', 'filosofante': '0', 'filosófico': '0', 'filósofo': '0', 'finado': '-1', 'finalista': '0', 'fincado': '-1', 'fingido': '-1', 'fingidor': '-1', 'finito': '-1', 'finlandês': '0', 'fino': '0', 'finório': '-1', 'firmado': '-1', 'firme': '1', 'fiscal': '0', 'fiscalizado': '1', 'fisgado': '-1', 'fisicista': '0', 'físico': '-1', 'fissurado': '-1', 'fiteiro': '-1', 'fitinhas': '-1', 'fitófago': '0', 'fiúza': '-1', 'fixado': '-1', 'fixe': '1', 'fixista': '0', 'fixo': '0', 'flácido': '0', 'flagelado': '-1', 'flagelante': '-1', 'flamante': '0', 'flamejante': '0', 'flatulento': '-1', 'flébil': '-1', 'fleumático': '0', 'flexível': '1', 'florescente': '1', 'fluente': '1', 'fluido': '1', 'fodido': '-1', 'fofo': '1', 'fofoqueiro': '-1', 'fogoso': '0', 'foito': '0', 'folclórico': '0', 'foleiro': '-1', 'folgado': '-1', 'folgazão': '0', 'folião': '0', 'fomentador': '0', 'foragido': '-1', 'forasteiro': '0', 'forçado': '-1', 'forçoso': '1', 'forjado': '1', 'formado': '0', 'formador': '0', 'formal': '0', 'formalista': '0', 'formidável': '1', 'formoso': '1', 'fornicador': '-1', 'fornido': '1', 'forrado': '0', 'forreta': '-1', 'forro': '1', 'fortalecido': '1', 'forte': '1', 'fortificado': '1', 'fortuito': '-1', 'fosco': '-1', 'fotogénico': '1', 'fotografado': '0', 'fracalhote': '-1', 'fracassado': '-1', 'fraco': '-1', 'fracote': '-1', 'frágil': '-1', 'fragilizado': '-1', 'fragmentado': '-1', 'franciscano': '0', 'franco': '1', 'francófilo': '0', 'francófobo': '-1', 'franquista': '0', 'franzino': '-1', 'fraternal': '1', 'fraterno': '1', 'fraturado': '-1', 'fraudulento': '-1', 'fremente': '0', 'frenético': '-1', 'frequentador': '-1', 'frequente': '-1', 'freqüente': '1', 'frescalhote': '1', 'fresco': '0', 'frígido': '-1', 'frio': '-1', 'friorento': '0', 'frisado': '0', 'frito': '-1', 'frívolo': '-1', 'frontal': '1', 'fronteiriço': '-1', 'frouxo': '-1', 'frugal': '1', 'fruste': '-1', 'frustrado': '-1', 'fruteiro': '0', 'fugaz': '0', 'fugidio': '-1', 'fugido': '-1', 'fugitivo': '-1', 'fujão': '-1', 'fulcral': '-1', 'fulgurante': '0', 'fulminante': '-1', 'fulo': '-1', 'fumador': '0', 'fumante': '0', 'funcional': '1', 'funcionalista': '0', 'fundador': '0', 'fundamentado': '1', 'fundamentalista': '-1', 'fundido': '-1', 'funesto': '-1', 'furão': '0', 'furibundo': '-1', 'furioso': '-1', 'furtivo': '-1', 'fusionista': '0', 'fútil': '-1', 'futurista': '0', 'gabaritado': '1', 'gabarola': '-1', 'gabarolas': '-1', 'gabiru': '-1', 'gadelhudo': '-1', 'gafo': '-1', 'gagá': '-1', 'gago': '-1', 'gaiato': '0', 'gaiteiro': '-1', 'galante': '1', 'galanteador': '0', 'galardoado': '0', 'galdério': '-1', 'galhardo': '1', 'galhofeiro': '0', 'ganancioso': '-1', 'gandulo': '-1', 'ganzado': '-1', 'garantido': '1', 'garboso': '1', 'garganeiro': '-1', 'garibaldino': '0', 'garoto': '-1', 'garrido': '0', 'gaseado': '-1', 'gastador': '-1', 'gasto': '-1', 'gastrónomo': '0', 'gateiro': '0', 'gatuno': '-1', 'gaudério': '-1', 'gay': '0', 'gelado': '-1', 'gélido': '-1', 'gémeo': '-1', 'gêmeo': '-1', 'geminado': '-1', 'generalista': '0', 'generalizado': '-1', 'generalizador': '0', 'genérico': '-1', 'generoso': '1', 'genial': '1', 'génio': '1', 'genioso': '-1', 'gentil': '1', 'gentio': '0', 'genuíno': '1', 'gerador': '0', 'gerente': '0', 'germanófilo': '0', 'germanófobo': '-1', 'gigante': '0', 'gigantesco': '0', 'gingão': '-1', 'giro': '0', 'girondino': '0', 'glabro': '0', 'glamoroso': '1', 'glorificado': '1', 'glorioso': '1', 'glutão': '-1', 'gnóstico': '0', 'goliardo': '-1', 'golpeado': '-1', 'gorado': '-1', 'gordanchudo': '-1', 'gordo': '-1', 'gorducho': '-1', 'gordurento': '-1', 'gorduroso': '-1', 'gostável': '1', 'gostoso': '1', 'governado': '1', 'governista': '0', 'gozado': '1', 'gozador': '-1', 'grácil': '1', 'gracioso': '1', 'graduado': '0', 'grafomaníaco': '-1', 'grafómano': '-1', 'grandalhão': '0', 'grande': '1', 'grandiloquente': '1', 'grandíloquo': '1', 'grandioso': '1', 'grandote': '0', 'grasso': '-1', 'grato': '1', 'graúdo': '1', 'grave': '1', 'grazina': '-1', 'grego': '-1', 'grimpo': '1', 'gringo': '-1', 'gripado': '0', 'grisalho': '0', 'gritante': '-1', 'grosseirão': '-1', 'grosseiro': '-1', 'grosso': '-1', 'grotesco': '-1', 'grudento': '-1', 'grulhento': '0', 'guapo': '1', 'guardado': '-1', 'guerreiro': '0', 'guia': '0', 'guiado': '0', 'guicho': '0', 'guindado': '-1', 'guloso': '-1', 'guterrista': '0', 'hábil': '0', 'habilidoso': '1', 'habilitado': '1', 'habitante': '0', 'habituado': '-1', 'harmónico': '1', 'harmônico': '1', 'harmonioso': '1', 'harto': '0', 'hebraico': '0', 'hebraizante': '0', 'hebreu': '0', 'hediondo': '-1', 'hedonista': '0', 'hegeliano': '0', 'helénico': '-1', 'hercúleo': '1', 'herege': '-1', 'herético': '-1', 'hermafrodita': '0', 'hermafrodito': '0', 'hermético': '-1', 'herodiano': '-1', 'heróico': '1', 'heroinómano': '-1', 'hesitante': '-1', 'heteróclito': '-1', 'heterodoxo': '-1', 'heterogéneo': '0', 'heterogêneo': '0', 'heterossexual': '0', 'hidratado': '0', 'hidrófobo': '-1', 'higiénico': '1', 'higiênico': '0', 'hílare': '1', 'hilariante': '0', 'hindu': '0', 'hiperactivo': '0', 'hiperbólico': '-1', 'hiperconservador': '-1', 'hipercrítico': '-1', 'hiperculto': '1', 'hiperdotado': '1', 'hipersensível': '-1', 'hipnótico': '-1', 'hipnotizado': '-1', 'hipnotizável': '-1', 'hipocondríaco': '-1', 'hipócrita': '-1', 'hipotético': '-1', 'hirsuto': '-1', 'hirto': '0', 'histérico': '-1', 'histórico': '1', 'histriónico': '-1', 'hodierno': '1', 'homeopático': '-1', 'homérico': '1', 'homicida': '-1', 'homiziado': '-1', 'homogéneo': '1', 'homossexual': '0', 'honesto': '1', 'honorário': '1', 'honorável': '1', 'honrado': '1', 'honroso': '1', 'horrendo': '-1', 'hórrido': '-1', 'horrífico': '-1', 'horripilante': '-1', 'horrível': '-1', 'horroroso': '-1', 'hospedado': '-1', 'hóspede': '-1', 'hospedeiro': '1', 'hospitaleiro': '1', 'hostil': '-1', 'humanista': '0', 'humanitário': '1', 'humano': '1', 'humilde': '0', 'humilhado': '-1', 'humorista': '-1', 'humoroso': '-1', 'içado': '-1', 'ictiófago': '0', 'ideal': '1', 'idealista': '0', 'idealizado': '-1', 'idêntico': '-1', 'idílico': '0', 'idiota': '-1', 'idólatra': '0', 'idolatrado': '1', 'idóneo': '1', 'idôneo': '1', 'idoso': '0', 'ignaro': '-1', 'ignóbil': '-1', 'ignominioso': '-1', 'ignorado': '-1', 'ignorante': '-1', 'ignoto': '-1', 'igual': '0', 'igualitário': '0', 'ilegal': '-1', 'ilegítimo': '-1', 'ilegível': '-1', 'ileso': '1', 'iletrado': '-1', 'ilhado': '-1', 'ilibado': '1', 'iliberal': '-1', 'iliterato': '-1', 'ilógico': '-1', 'iludido': '-1', 'iluminado': '1', 'iluminista': '0', 'ilusório': '-1', 'ilustrado': '1', 'ilustrativo': '0', 'ilustre': '1', 'imaculado': '1', 'imaculável': '0', 'imagético': '1', 'imaginado': '-1', 'imaginário': '1', 'imaginativo': '0', 'imaginoso': '0', 'imanente': '1', 'imantado': '1', 'imaterial': '0', 'imaturo': '-1', 'imbatível': '1', 'imbecil': '-1', 'imberbe': '0', 'imbuído': '0', 'imediatista': '0', 'imediato': '1', 'imerecido': '-1', 'imergido': '0', 'imerso': '-1', 'iminente': '0', 'imisericordioso': '-1', 'imitado': '-1', 'imitador': '0', 'imitativo': '0', 'imobilizado': '0', 'imoderado': '-1', 'imodesto': '-1', 'imolado': '1', 'imoral': '-1', 'imorigerado': '-1', 'imortal': '1', 'imortalizado': '1', 'imóvel': '0', 'impaciente': '-1', 'impacto': '-1', 'impagável': '1', 'impante': '0', 'ímpar': '1', 'imparável': '0', 'imparcial': '0', 'impassível': '0', 'impatriota': '-1', 'impávido': '1', 'impávido e sereno': '0', 'impecável': '1', 'impecunioso': '-1', 'impedido': '0', 'impelido': '-1', 'impenetrável': '-1', 'impenitente': '-1', 'imperativo': '-1', 'imperceptível': '-1', 'imperdoável': '-1', 'imperfeito': '-1', 'imperial': '-1', 'imperialista': '-1', 'imperioso': '-1', 'imperito': '-1', 'impermanente': '-1', 'imperscrutável': '-1', 'impertérrito': '1', 'impertinente': '-1', 'imperturbado': '1', 'imperturbável': '1', 'impessoal': '-1', 'impetuoso': '-1', 'impiedoso': '-1', 'ímpio': '-1', 'implacável': '-1', 'implantado': '0', 'implicado': '0', 'implicante': '-1', 'implicativo': '-1', 'implícito': '-1', 'implorante': '0', 'implorativo': '0', 'impoluto': '1', 'imponderado': '-1', 'imponente': '0', 'impontual': '-1', 'impopular': '-1', 'importante': '1', 'importunado': '-1', 'importuno': '-1', 'impossível': '0', 'imposto': '-1', 'impostor': '-1', 'impotente': '-1', 'impreciso': '-1', 'impregnado': '-1', 'impressionado': '0', 'impressionante': '0', 'impressionável': '0', 'impressionista': '0', 'imprestável': '-1', 'imprevidente': '-1', 'imprevisível': '0', 'improcedente': '-1', 'improducente': '-1', 'improdutivo': '-1', 'improvisado': '-1', 'improvisador': '0', 'imprudente': '-1', 'impúbere': '0', 'impudente': '-1', 'impudico': '-1', 'impugnado': '-1', 'impulsionado': '-1', 'impulsivo': '-1', 'impuro': '-1', 'imputado': '-1', 'imundo': '-1', 'imune': '-1', 'imutável': '0', 'inabalável': '0', 'inábil': '-1', 'inabitado': '-1', 'inabordável': '-1', 'inacabado': '-1', 'inaceitável': '-1', 'inacessível': '-1', 'inacreditável': '0', 'inactivo': '-1', 'inadaptado': '-1', 'inadequado': '-1', 'inadiável': '-1', 'inadmissível': '-1', 'inalcançável': '-1', 'inalterado': '0', 'inalterável': '1', 'inamovível': '-1', 'inanimado': '-1', 'inânime': '-1', 'inapagável': '0', 'inaplicado': '-1', 'inapreciável': '-1', 'inapresentável': '-1', 'inapto': '-1', 'inatacável': '1', 'inatingível': '-1', 'inativo': '-1', 'inaudito': '1', 'inautêntico': '-1', 'incandescente': '-1', 'incansável': '1', 'incapaz': '-1', 'incaracterístico': '-1', 'incauto': '-1', 'incendiado': '-1', 'incendiário': '-1', 'incensador': '-1', 'incensurável': '1', 'incentivo': '-1', 'incerto': '-1', 'incessante': '0', 'inchado': '-1', 'incipiente': '-1', 'incisivo': '0', 'incitado': '1', 'incivil': '-1', 'incivilizado': '-1', 'inclemente': '-1', 'inclinado': '-1', 'ínclito': '1', 'incluído': '-1', 'inclusivo': '0', 'incluso': '-1', 'incoercível': '0', 'incoerente': '-1', 'incógnito': '0', 'incognoscível': '-1', 'incólume': '1', 'incomodado': '-1', 'incomodativo': '-1', 'incómodo': '-1', 'incômodo': '-1', 'incomparável': '1', 'incompatível': '-1', 'incompetente': '-1', 'incompleto': '-1', 'incompreensível': '-1', 'incomum': '0', 'incomunicável': '0', 'inconcebível': '1', 'inconciliável': '-1', 'inconcluso': '-1', 'inconcusso': '1', 'inconfessável': '-1', 'inconfidente': '-1', 'inconformado': '0', 'inconfundível': '0', 'incongruente': '-1', 'inconsciente': '-1', 'inconsequente': '-1', 'inconseqüente': '-1', 'inconsiderado': '-1', 'inconsistente': '-1', 'inconsolado': '-1', 'inconsolável': '-1', 'inconstante': '-1', 'incontactável': '0', 'incontestável': '1', 'incontinente': '-1', 'incontrariável': '-1', 'incontrolado': '-1', 'incontroverso': '1', 'inconveniente': '-1', 'inconversável': '-1', 'incorporado': '-1', 'incorrecto': '-1', 'incorrigível': '-1', 'incorruptível': '1', 'incorrupto': '1', 'incrédulo': '0', 'incriminado': '0', 'incriticável': '1', 'incrível': '0', 'inculto': '-1', 'incumbido': '0', 'incumpridor': '-1', 'incurável': '-1', 'incurso': '0', 'indecente': '-1', 'indecifrável': '-1', 'indeciso': '-1', 'indecoroso': '-1', 'indefectível': '1', 'indefenso': '-1', 'indeferido': '-1', 'indefeso': '-1', 'indefinido': '-1', 'indelével': '0', 'indelicado': '-1', 'indemnizado': '1', 'independente': '0', 'independentista': '0', 'inderrotável': '1', 'inderrubável': '1', 'indescritível': '0', 'indesculpável': '-1', 'indesejado': '-1', 'indesejável': '-1', 'indestituível': '0', 'indestronável': '0', 'indestrutível': '1', 'indeterminado': '-1', 'indicado': '1', 'indicador': '0', 'indiciado': '-1', 'indiferente': '-1', 'indígena': '-1', 'indigente': '-1', 'indigesto': '-1', 'indigitado': '-1', 'indigitável': '-1', 'indignado': '-1', 'indigno': '-1', 'índio': '-1', 'indirecto': '-1', 'indireto': '-1', 'indisciplinado': '-1', 'indiscreto': '-1', 'indiscutível': '1', 'indispensável': '0', 'indisposto': '-1', 'indissociável': '0', 'indistinto': '-1', 'inditoso': '-1', 'individualista': '-1', 'indivíduo': '-1', 'indivisível': '0', 'indiviso': '-1', 'indócil': '-1', 'indolente': '-1', 'indomável': '0', 'indominável': '-1', 'indómito': '-1', 'indubitável': '1', 'indulgente': '1', 'industrialista': '0', 'industrioso': '0', 'induzido': '-1', 'inebriado': '-1', 'inebriante': '-1', 'inefável': '-1', 'ineficaz': '-1', 'ineficiente': '-1', 'inelegível': '-1', 'inelutável': '1', 'inenarrável': '-1', 'inepto': '-1', 'inequívoco': '1', 'inerente': '0', 'inerme': '-1', 'inerte': '-1', 'inescrutável': '-1', 'inesgotável': '0', 'inesperado': '0', 'inesquecível': '0', 'inestimável': '1', 'inevitável': '1', 'inexacto': '-1', 'inexcedível': '1', 'inexistente': '-1', 'inexorável': '-1', 'inexperiente': '-1', 'inexperto': '-1', 'inexplicável': '-1', 'inexplícito': '-1', 'inexpressivo': '-1', 'inexprimível': '-1', 'infalível': '1', 'infamado': '-1', 'infamante': '-1', 'infame': '-1', 'infantil': '-1', 'infatigável': '1', 'infectado': '-1', 'infecundo': '-1', 'infeliz': '-1', 'infernal': '-1', 'infértil': '-1', 'infetado': '-1', 'infiel': '-1', 'ínfimo': '-1', 'inflacionista': '0', 'inflado': '-1', 'inflamado': '-1', 'inflexível': '-1', 'influenciado': '-1', 'influenciável': '-1', 'influente': '1', 'informado': '1', 'informador': '0', 'informal': '0', 'informante': '0', 'informe': '-1', 'infortunado': '-1', 'infrene': '-1', 'infrutífero': '-1', 'infundado': '-1', 'ingénuo': '0', 'ingênuo': '-1', 'inglês': '0', 'inglesado': '0', 'ingrato': '-1', 'inibido': '-1', 'iniciado': '-1', 'iniciador': '-1', 'inidóneo': '-1', 'inigualável': '0', 'inimaginável': '1', 'inimigo': '-1', 'inimitável': '0', 'ininteligível': '-1', 'ininterrupto': '0', 'iníquo': '-1', 'injuriado': '-1', 'injuriante': '-1', 'injurioso': '-1', 'injustiçado': '0', 'injusto': '-1', 'inocente': '0', 'inócuo': '0', 'inofensivo': '0', 'inopinado': '0', 'inoportuno': '-1', 'inóspito': '-1', 'inovador': '1', 'inqualificado': '-1', 'inqualificável': '-1', 'inquebrantável': '-1', 'inquestionável': '1', 'inquietante': '-1', 'inquieto': '-1', 'insaciado': '-1', 'insaciável': '0', 'insano': '-1', 'insatisfatório': '-1', 'insatisfeito': '-1', 'inscrito': '0', 'inseguro': '-1', 'insensato': '-1', 'insensível': '-1', 'inseparável': '0', 'inserido': '-1', 'insidioso': '-1', 'insigne': '1', 'insignificante': '-1', 'insincero': '-1', 'insinuador': '-1', 'insinuante': '0', 'insinuativo': '-1', 'insinuoso': '-1', 'insípido': '-1', 'insipiente': '-1', 'insistente': '0', 'insistido': '-1', 'ínsito': '-1', 'insociável': '-1', 'insofrido': '-1', 'insolente': '-1', 'insólito': '-1', 'insondado': '-1', 'insondável': '-1', 'insonso': '-1', 'insosso': '-1', 'inspirado': '1', 'inspirador': '1', 'instalado': '-1', 'instantâneo': '0', 'instável': '-1', 'instigado': '-1', 'instintivo': '0', 'instituído': '0', 'instruído': '1', 'instrutivo': '1', 'insubmisso': '-1', 'insubordinado': '-1', 'insubornável': '1', 'insubstituível': '0', 'insuficiente': '-1', 'insulso': '-1', 'insultado': '-1', 'insultuoso': '-1', 'insuperável': '1', 'insuportável': '-1', 'insurgente': '-1', 'insurrecto': '-1', 'insurreto': '-1', 'insusceptível': '-1', 'insuspeito': '1', 'intacto': '0', 'integrado': '-1', 'integralista': '0', 'integrante': '-1', 'integrista': '-1', 'íntegro': '1', 'inteiriço': '-1', 'inteiro': '-1', 'intelectual': '0', 'intelectualista': '0', 'intelectualóide': '-1', 'inteligente': '1', 'intemerato': '1', 'intemperado': '-1', 'intempestivo': '-1', 'intencionado': '-1', 'intencional': '0', 'intenso': '0', 'intercalado': '0', 'interceptado': '-1', 'intercessor': '0', 'interdito': '-1', 'interessado': '1', 'interessante': '1', 'interesseiro': '-1', 'interino': '-1', 'intermediário': '0', 'internacionalista': '0', 'internado': '-1', 'interpretativo': '0', 'interrogador': '0', 'interrogativo': '-1', 'interrogatório': '-1', 'interrompido': '-1', 'intervencionista': '0', 'interveniente': '0', 'interventor': '0', 'intestino': '0', 'intimidado': '-1', 'intimidador': '-1', 'intimidante': '-1', 'intimidativo': '-1', 'intimidatório': '-1', 'íntimo': '1', 'intimorato': '1', 'intocado': '0', 'intocável': '0', 'intolerante': '-1', 'intolerável': '-1', 'intragável': '-1', 'intranquilo': '-1', 'intransigente': '-1', 'intransitável': '-1', 'intratável': '-1', 'intrépido': '0', 'intrépido e sereno': '0', 'intrigante': '-1', 'intriguista': '-1', 'intrincado': '0', 'intrometido': '-1', 'introspectivo': '0', 'introvertido': '-1', 'intruso': '-1', 'intuitivo': '0', 'inumano': '-1', 'inundado': '0', 'inusitado': '0', 'inusual': '0', 'inútil': '-1', 'inutilizado': '-1', 'invalidado': '0', 'inválido': '-1', 'invariável': '0', 'invasivo': '-1', 'invasor': '-1', 'invectivo': '-1', 'invejado': '0', 'invejável': '-1', 'invejoso': '-1', 'invencível': '1', 'inventado': '1', 'inventariado': '0', 'inventivo': '0', 'inventor': '0', 'invernante': '0', 'invertido': '-1', 'investigado': '0', 'investigador': '0', 'inveterado': '-1', 'inviável': '-1', 'inviolável': '0', 'invisível': '-1', 'invisual': '-1', 'invocado': '-1', 'invulgar': '0', 'invulnerável': '1', 'iracundo': '-1', 'irado': '-1', 'irascível': '-1', 'irmão': '-1', 'irónico': '-1', 'irônico': '-1', 'irracional': '-1', 'irreal': '1', 'irrealista': '-1', 'irrealizável': '-1', 'irreconhecível': '0', 'irrecuperável': '0', 'irredentista': '0', 'irredutível': '-1', 'irrefreável': '0', 'irrefutável': '1', 'irregular': '-1', 'irrelevante': '-1', 'irreligioso': '-1', 'irremovível': '-1', 'irreparável': '0', 'irrepreensível': '1', 'irreprimível': '0', 'irrequieto': '-1', 'irresistível': '1', 'irresoluto': '-1', 'irrespeitoso': '-1', 'irresponsável': '-1', 'irretocável': '-1', 'irreverencioso': '-1', 'irreverente': '-1', 'irrevogável': '-1', 'irridente': '-1', 'irrisório': '-1', 'irritadiço': '-1', 'irritado': '-1', 'irritante': '-1', 'irritativo': '-1', 'irritável': '-1', 'isento': '0', 'islâmico': '0', 'islamita': '0', 'ismaelita': '0', 'isolado': '-1', 'israelita': '0', 'itinerante': '-1', 'jacobino': '0', 'jactante': '-1', 'jalofo': '-1', 'janota': '0', 'javardo': '-1', 'jeca': '-1', 'jeitoso': '1', 'jeremias': '-1', 'jerónimo': '0', 'jocoso': '0', 'jogado': '-1', 'jovem': '0', 'jovial': '1', 'jubilado': '0', 'jubiloso': '1', 'judaico': '0', 'judaizante': '0', 'judeu': '0', 'judicativo': '-1', 'judicioso': '0', 'judio': '0', 'julgado': '1', 'jurado': '-1', 'jururu': '-1', 'justaposto': '-1', 'justiceiro': '1', 'justificado': '1', 'justificativo': '0', 'justificável': '1', 'justo': '1', 'kafkiano': '-1', 'kantiano': '0', 'laborioso': '0', 'labrego': '-1', 'labroste': '-1', 'labutador': '1', 'lacónico': '-1', 'lacónio': '-1', 'lacrado': '-1', 'lacrimoso': '-1', 'ladino': '-1', 'ladro': '-1', 'laical': '-1', 'laico': '-1', 'lambão': '-1', 'lambareiro': '-1', 'lambeiro': '-1', 'lambuzado': '-1', 'lamecha': '-1', 'lamentável': '-1', 'lamentoso': '-1', 'lampeiro': '-1', 'lamuriante': '-1', 'lamuriento': '-1', 'lamurioso': '-1', 'lancinante': '-1', 'langoroso': '-1', 'languescente': '-1', 'lânguido': '-1', 'laparoto': '-1', 'lapidado': '0', 'lapuz': '-1', 'largo': '-1', 'lascivo': '0', 'lastimável': '-1', 'lastimoso': '-1', 'latente': '-1', 'lateral': '-1', 'lato': '-1', 'laudativo': '1', 'laudatório': '1', 'laureado': '-1', 'lavadiço': '0', 'lavado': '1', 'lavrado': '1', 'lavrador': '-1', 'laxista': '-1', 'lazarento': '-1', 'lãzudo': '-1', 'leal': '1', 'ledo': '1', 'legal': '1', 'legalizado': '-1', 'legendário': '1', 'legitimista': '0', 'legítimo': '1', 'leigo': '-1', 'lelo': '-1', 'lembrado': '0', 'lendário': '1', 'leninista': '0', 'lenitivo': '1', 'lento': '-1', 'leonino': '-1', 'lépido': '0', 'leproso': '-1', 'lerdo': '-1', 'lesado': '-1', 'lesbiana': '0', 'lésbica': '0', 'lesionado': '-1', 'lesivo': '-1', 'leso': '-1', 'lestes': '1', 'lesto': '1', 'letal': '-1', 'letárgico': '-1', 'letrado': '1', 'levado': '-1', 'levado da breca': '-1', 'levado das maleitas': '-1', 'levado do diabo': '-1', 'levantado': '-1', 'leve': '0', 'leviano': '-1', 'lhano': '1', 'liberal': '0', 'liberal-conservador': '0', 'liberal-democrata': '0', 'liberalista': '0', 'libertado': '0', 'libertador': '0', 'libertário': '-1', 'libertino': '-1', 'liberto': '0', 'libidinoso': '-1', 'licenciado': '0', 'licencioso': '-1', 'lícito': '1', 'líder': '0', 'lídimo': '1', 'lido': '1', 'ligado': '-1', 'ligeiro': '0', 'liliputiano': '-1', 'limitado': '-1', 'límpido': '1', 'limpo': '1', 'lindo': '1', 'linear': '0', 'lingrinhas': '-1', 'linguareiro': '-1', 'linguarudo': '-1', 'liquidado': '1', 'lírico': '-1', 'liró': '0', 'liso': '0', 'lisonjeador': '1', 'lisonjeiro': '1', 'literato': '-1', 'lítico': '1', 'lívido': '-1', 'livre': '0', 'lógico': '1', 'logrativo': '-1', 'loiro': '0', 'longânime': '1', 'longânimo': '1', 'longe': '-1', 'longínquo': '-1', 'loquaz': '0', 'lorpa': '-1', 'lotado': '-1', 'louco': '-1', 'louro': '0', 'louvado': '-1', 'louvaminheiro': '-1', 'louvável': '1', 'lúbrico': '0', 'lúcido': '1', 'ludibriado': '-1', 'ludibriante': '-1', 'ludibrioso': '-1', 'lúgubre': '-1', 'luminoso': '1', 'lunático': '-1', 'lusco': '-1', 'lusófilo': '0', 'lusófobo': '-1', 'lustrado': '0', 'lustroso': '0', 'lutador': '1', 'luterano': '0', 'lutuoso': '-1', 'luxuoso': '1', 'luxuriante': '0', 'luxurioso': '0', 'luzido': '0', 'macabeu': '0', 'macabro': '-1', 'macaco': '-1', 'maçado': '-1', 'maçador': '-1', 'macambúzio': '-1', 'macanjo': '-1', 'macareno': '-1', 'macavenco': '-1', 'machista': '-1', 'macho': '0', 'machucado': '-1', 'maciço': '0', 'macilento': '-1', 'macio': '0', 'macróbio': '0', 'maçudo': '-1', 'maculado': '-1', 'madraço': '-1', 'madrasta': '-1', 'madrugador': '0', 'maduro': '1', 'mafioso': '-1', 'magano': '-1', 'magistral': '1', 'magnânimo': '1', 'magnético': '1', 'magnificente': '1', 'magnífico': '1', 'mago': '1', 'magoado': '-1', 'magrelo': '0', 'magricela': '0', 'magro': '0', 'maior': '-1', 'maior e vacinado': '0', 'maioral': '-1', 'majestático': '1', 'majestoso': '1', 'major': '0', 'malabarista': '-1', 'mal-afamado': '-1', 'mal-afeiçoado': '-1', 'mal-afortunado': '-1', 'mal-agradecido': '-1', 'mal-amado': '-1', 'malandreco': '-1', 'malandro': '-1', 'malcheiroso': '-1', 'mal-cheiroso': '-1', 'mal-comportado': '-1', 'malcriado': '-1', 'maldisposto': '-1', 'maldito': '-1', 'maldizente': '-1', 'maldoso': '-1', 'maleável': '1', 'maledicente': '-1', 'maleducado': '-1', 'maléfico': '-1', 'malencarado': '-1', 'mal-encarado': '-1', 'malevolente': '-1', 'malévolo': '-1', 'malfadado': '-1', 'malfazejo': '-1', 'malfeito': '-1', 'mal-feito': '-1', 'malfeitor': '-1', 'malformado': '-1', 'malhado': '-1', 'mal-humorado': '-1', 'malicioso': '-1', 'maligno': '-1', 'mal-intencionado': '-1', 'malogrado': '-1', 'mal-pago': '-1', 'malquisto': '-1', 'malsão': '-1', 'malsucedido': '-1', 'malthusiano': '0', 'maltrapilho': '-1', 'maltratado': '-1', 'maluco': '-1', 'malvado': '-1', 'mal-vestido': '-1', 'malvisto': '-1', 'mamalhudo': '-1', 'mamífero': '-1', 'mamudo': '-1', 'manancial': '0', 'mancebo': '0', 'manchado': '-1', 'manco': '-1', 'mancomunado': '-1', 'mandado': '0', 'mandão': '-1', 'mandingueiro': '1', 'mandrião': '-1', 'maneirista': '-1', 'maneiro': '1', 'maneta': '-1', 'manhoso': '-1', 'maníaco': '-1', 'maníaco-depressivo': '-1', 'manietado': '-1', 'manifesto': '0', 'maninho': '-1', 'manipulado': '-1', 'manipulador': '-1', 'manipulável': '-1', 'maniqueísta': '0', 'maniqueu': '0', 'manita': '-1', 'mano': '0', 'manobrado': '-1', 'manso': '0', 'manteigueiro': '-1', 'mantido': '0', 'maoísta': '0', 'maometano': '0', 'maquiavélico': '-1', 'maquiavelista': '-1', 'maquilhado': '0', 'maquinado': '-1', 'maquinal': '0', 'marau': '-1', 'maravilhado': '-1', 'maravilhoso': '1', 'marcado': '1', 'marcante': '-1', 'marcelista': '0', 'marginal': '-1', 'marginalizado': '-1', 'marialva': '-1', 'mariano': '0', 'maricão': '-1', 'maricas': '-1', 'mariola': '-1', 'marioneta': '-1', 'mariquinhas': '-1', 'marital': '0', 'marmanjo': '0', 'maronita': '0', 'maroto': '-1', 'marralheiro': '-1', 'marrano': '-1', 'marrão': '-1', 'marreco': '-1', 'marxista': '0', 'mascarado': '-1', 'masculino': '1', 'másculo': '1', 'masochista': '-1', 'masoquista': '-1', 'massudo': '-1', 'mastodôntico': '0', 'matador': '-1', 'mate': '-1', 'material': '0', 'materialista': '-1', 'maternal': '0', 'matias': '-1', 'matinal': '0', 'matreiro': '-1', 'matutino': '0', 'matuto': '-1', 'mau': '-1', 'mau aluno': '-1', 'mau pagador': '-1', 'mauritano': '0', 'mavioso': '1', 'mavórcio': '-1', 'mazombo': '-1', 'mazorro': '-1', 'mecanicista': '0', 'medianeiro': '0', 'mediano': '0', 'mediático': '0', 'mediato': '-1', 'médio': '0', 'medíocre': '-1', 'meditabundo': '-1', 'meditado': '-1', 'meditador': '0', 'meditativo': '0', 'medonho': '-1', 'medrado': '1', 'medricas': '-1', 'medroso': '-1', 'mefistofélico': '-1', 'megalomaníaco': '-1', 'megalómano': '-1', 'megalômano': '-1', 'meigo': '1', 'meio-apalermado': '-1', 'meio-doido': '-1', 'meio-morto': '-1', 'melado': '-1', 'melancólico': '-1', 'melhor': '0', 'melífluo': '1', 'melindrado': '-1', 'melindroso': '-1', 'melódico': '1', 'melodioso': '1', 'melodramático': '-1', 'melómano': '-1', 'meloso': '0', 'memorando': '1', 'memorável': '1', 'memorioso': '1', 'mencionado': '-1', 'mendaz': '-1', 'mendicante': '-1', 'menineiro': '0', 'menino': '0', 'menosprezável': '-1', 'mensageiro': '-1', 'mental': '0', 'mentecapto': '-1', 'mentiroso': '-1', 'mentiroso compulsivo': '-1', 'mentiroso inveterado': '-1', 'mercante': '-1', 'mercantil': '-1', 'mercantilista': '-1', 'mercenário': '-1', 'merecedor': '1', 'merecido': '1', 'merencório': '-1', 'mergulhado': '-1', 'meritório': '1', 'mesquinho': '-1', 'mestiço': '-1', 'mestra': '0', 'mestre': '0', 'mesurado': '1', 'metafísico': '-1', 'metafórico': '0', 'metediço': '-1', 'meticuloso': '0', 'metido': '-1', 'metódico': '1', 'metodista': '0', 'mexeriqueiro': '-1', 'mexido': '1', 'migalheiro': '-1', 'miguelista': '0', 'mijão': '-1', 'milagreiro': '0', 'milagroso': '1', 'milionário': '0', 'militar': '0', 'militarista': '0', 'mimado': '-1', 'mimalho': '-1', 'mimoso': '1', 'minado': '-1', 'minguado': '-1', 'minimalista': '0', 'mínimo': '-1', 'minorado': '0', 'minucioso': '1', 'minúsculo': '-1', 'míope': '-1', 'mirabolante': '-1', 'mirolho': '-1', 'mirrado': '-1', 'misantropo': '-1', 'miserabilista': '-1', 'miserando': '-1', 'miserável': '-1', 'misericordioso': '1', 'mísero': '-1', 'misseiro': '0', 'misterioso': '0', 'místico': '0', 'misto': '-1', 'misturado': '-1', 'mítico': '1', 'mitológico': '1', 'mitómano': '-1', 'mitrado': '1', 'miudinho': '-1', 'miúdo': '0', 'mocado': '-1', 'moçárabe': '0', 'mociço': '1', 'moço': '0', 'modal': '0', 'modelado': '1', 'modelar': '1', 'moderado': '1', 'modernaço': '1', 'modernista': '0', 'moderno': '1', 'modesto': '1', 'modificado': '0', 'modorrento': '-1', 'modorro': '-1', 'moedor': '-1', 'mofino': '-1', 'moído': '-1', 'moinante': '-1', 'moldado': '-1', 'moldável': '1', 'mole': '-1', 'molenga': '-1', 'molengão': '-1', 'moleque': '-1', 'molestado': '-1', 'molhado': '0', 'molieresco': '-1', 'momentâneo': '0', 'monárquico': '0', 'monarquista': '0', 'mongolóide': '-1', 'mono': '-1', 'monocórdico': '-1', 'monógamo': '0', 'monomaníaco': '-1', 'monopolista': '-1', 'monopolizado': '-1', 'monopolizador': '-1', 'monoteísta': '0', 'monótono': '-1', 'monstruoso': '-1', 'montado': '0', 'montês': '-1', 'moquenco': '-1', 'morador': '0', 'moralista': '-1', 'moralizador': '0', 'moralizante': '0', 'mórbido': '-1', 'morboso': '-1', 'mordaz': '-1', 'mordente': '-1', 'mordido': '-1', 'moreno': '0', 'morfinómano': '-1', 'moribundo': '-1', 'morigerado': '1', 'morno': '-1', 'moroso': '-1', 'mortal': '0', 'mortiço': '-1', 'mortífero': '-1', 'mortificado': '-1', 'morto': '-1', 'mostrado': '0', 'mostrador': '0', 'motivado': '1', 'motivador': '1', 'motivante': '0', 'mouro': '0', 'movido': '0', 'movimentado': '1', 'muçulmano': '0', 'mudado': '0', 'mudo': '-1', 'mula': '-1', 'mulato': '0', 'mulherengo': '-1', 'multifacetado': '0', 'multilíngue': '0', 'multíparo': '0', 'multíplice': '0', 'mundano': '-1', 'mundo': '1', 'municipalista': '0', 'munido': '0', 'munificente': '1', 'murado': '-1', 'murcho': '-1', 'murmurante': '-1', 'musculado': '1', 'musculoso': '1', 'musical': '1', 'músico': '1', 'mutável': '-1', 'mutilado': '-1', 'mutualista': '0', 'nabo': '-1', 'nacional-comunista': '0', 'nacionalista': '0', 'nado': '0', 'naïf': '0', 'namoradeiro': '0', 'namoradiço': '0', 'namorado': '1', 'namorador': '0', 'nanico': '-1', 'napoleónico': '0', 'narcisista': '-1', 'narcótico': '-1', 'narcotizado': '-1', 'narigudo': '-1', 'narrado': '-1', 'nascente': '-1', 'nascido': '0', 'nativista': '0', 'nativo': '0', 'nato': '0', 'natural': '1', 'naturalizado': '0', 'naturista': '0', 'nauseado': '-1', 'nauseante': '-1', 'navegado': '1', 'nazi': '-1', 'nazista': '-1', 'nebuloso': '-1', 'necessário': '1', 'necessitado': '-1', 'necrófago': '-1', 'necrófilo': '-1', 'nédio': '-1', 'nefando': '-1', 'nefasto': '-1', 'nefelibata': '-1', 'negaceiro': '-1', 'negado': '-1', 'negativo': '-1', 'negligente': '-1', 'negregado': '-1', 'negro': '0', 'negróide': '-1', 'neocolonialista': '0', 'neodarwinista': '0', 'neomalthusiano': '0', 'neonazi': '0', 'neoplatónico': '0', 'nervoso': '-1', 'néscio': '-1', 'nestoriano': '0', 'neurasténico': '-1', 'neurótico': '-1', 'neutral': '0', 'neutro': '0', 'niilista': '0', 'ninheiro': '-1', 'niquento': '-1', 'nítido': '1', 'nobre': '1', 'nocivo': '-1', 'noctâmbulo': '0', 'noctívago': '0', 'nojento': '-1', 'nómada': '-1', 'nomeado': '1', 'nominalista': '0', 'normal': '1', 'norteado': '0', 'nostálgico': '0', 'notado': '1', 'notável': '1', 'noto': '0', 'notório': '0', 'novato': '0', 'novel': '0', 'noveleiro': '-1', 'noviço': '-1', 'novidadeiro': '-1', 'novo': '0', 'nu': '0', 'nubente': '0', 'núbil': '0', 'nulo': '-1', 'numeroso': '-1', 'nutrido': '0', 'obcecado': '-1', 'obcecante': '-1', 'obediente': '0', 'obeso': '-1', 'objectivo': '1', 'oblíquo': '-1', 'obreiro': '0', 'obrigado': '-1', 'obsceno': '-1', 'obscurecido': '-1', 'obscuro': '-1', 'obsequiador': '0', 'obsequioso': '0', 'observado': '1', 'observador': '1', 'observante': '1', 'obsessivo': '-1', 'obsoleto': '-1', 'obstinado': '-1', 'obstrucionista': '-1', 'obtuso': '-1', 'óbvio': '0', 'ocidentalizado': '0', 'ocioso': '-1', 'oco': '-1', 'ocultado': '0', 'ocultista': '0', 'oculto': '-1', 'ocupado': '0', 'odiado': '-1', 'odiável': '-1', 'odiento': '-1', 'odioso': '-1', 'ofegante': '-1', 'ofendido': '-1', 'ofensivo': '-1', 'oferecido': '-1', 'ofertado': '-1', 'oficial': '0', 'oficializado': '0', 'ofuscado': '-1', 'oleoso': '-1', 'olhado': '1', 'olheirento': '-1', 'oligofrénico': '-1', 'omisso': '-1', 'omitido': '-1', 'omnipotente': '1', 'omnipresente': '1', 'omnisciente': '1', 'omnívoro': '0', 'ondulado': '0', 'ondulante': '-1', 'onerado': '-1', 'onipotente': '0', 'onipresente': '0', 'onisciente': '0', 'onzeneiro': '-1', 'opaco': '-1', 'operado': '1', 'operante': '1', 'operário': '0', 'operativo': '1', 'operatório': '1', 'operoso': '1', 'opinante': '0', 'opinativo': '0', 'opiniático': '-1', 'opiómano': '-1', 'opíparo': '1', 'oponente': '-1', 'oportunista': '-1', 'oportuno': '1', 'oposicionista': '0', 'opositor': '-1', 'oposto': '-1', 'opressivo': '-1', 'opresso': '-1', 'opressor': '-1', 'oprimente': '-1', 'oprimido': '-1', 'optimista': '1', 'óptimo': '1', 'opulento': '-1', 'oratoriano': '0', 'ordeiro': '1', 'ordenado': '1', 'ordinário': '-1', 'orelhudo': '-1', 'órfão': '0', 'orgânico': '-1', 'organizado': '1', 'organizador': '0', 'orgulhoso': '-1', 'orientador': '0', 'originado': '0', 'original': '1', 'originário': '-1', 'oriundo': '-1', 'orleanista': '0', 'ornado': '0', 'ortodoxo': '0', 'orvalhado': '-1', 'oscilante': '-1', 'ossudo': '-1', 'ostensivo': '-1', 'ostentativo': '-1', 'ostentoso': '-1', 'otimista': '-1', 'ótimo': '1', 'ousado': '0', 'outorgado': '1', 'ouvido': '0', 'oxítono': '-1', 'pacato': '1', 'pachola': '-1', 'pachorrento': '0', 'paciente': '1', 'pacificador': '1', 'pacífico': '1', 'pacóvio': '-1', 'padecedor': '0', 'padecente': '0', 'padroeiro': '1', 'pagão': '0', 'pago': '1', 'pagodeiro': '0', 'palaciano': '0', 'paladino': '0', 'palavroso': '-1', 'palerma': '-1', 'palhaço': '-1', 'paliativo': '1', 'pálido': '-1', 'palpável': '1', 'palpitante': '0', 'palrador': '0', 'palreiro': '0', 'panal': '-1', 'panasca': '-1', 'pançudo': '-1', 'pândego': '0', 'pando': '-1', 'panegírico': '0', 'panema': '-1', 'pangermânico': '0', 'pantafaçudo': '-1', 'pantanoso': '0', 'panteísta': '0', 'pantemineiro': '-1', 'papalvo': '-1', 'papão': '-1', 'papista': '-1', 'par': '0', 'paradigmático': '0', 'parado': '-1', 'paradoxal': '-1', 'paradoxo': '-1', 'paralisado': '-1', 'paralítico': '-1', 'paranóico': '-1', 'parasita': '-1', 'parasito': '-1', 'parceiro': '0', 'parcimonioso': '1', 'parco': '1', 'pardo': '-1', 'parecido': '-1', 'parente': '-1', 'parido': '-1', 'parlamentar': '-1', 'parlamentarista': '0', 'parnasiano': '0', 'parolo': '-1', 'parracho': '-1', 'parrudo': '-1', 'participante': '0', 'participativo': '1', 'partícipe': '0', 'particular': '1', 'particularista': '0', 'partidário': '1', 'partidarista': '-1', 'partido': '-1', 'parvalhão': '-1', 'parvo': '-1', 'parvónio': '-1', 'pascácio': '-1', 'pasmado': '-1', 'pasmo': '-1', 'paspalhão': '-1', 'paspalho': '-1', 'passadista': '-1', 'passado': '-1', 'passageiro': '0', 'passável': '1', 'passeador': '0', 'passeante': '0', 'passeiro': '-1', 'passível': '-1', 'passivo': '-1', 'passo': '-1', 'pastel': '1', 'pastoral': '-1', 'pastoso': '1', 'pastrano': '-1', 'pataqueiro': '-1', 'patarata': '-1', 'patau': '-1', 'patego': '-1', 'patente': '0', 'paternal': '1', 'paternalista': '0', 'pateta': '-1', 'patético': '-1', 'patibular': '-1', 'patife': '-1', 'patola': '-1', 'patriarcal': '1', 'patriota': '1', 'patrioteiro': '-1', 'patriótico': '1', 'patudo': '-1', 'patusco': '-1', 'pausado': '0', 'pautado': '1', 'pavoroso': '-1', 'pecador': '-1', 'pechoso': '-1', 'peco': '-1', 'peculiar': '0', 'pedante': '-1', 'pedestre': '0', 'pedinte': '-1', 'pedrado': '-1', 'pedrista': '0', 'pegajoso': '-1', 'peganhento': '-1', 'peguilhento': '-1', 'pegureiro': '-1', 'peitado': '-1', 'peitudo': '0', 'pejado': '-1', 'pelado': '0', 'pelintra': '-1', 'peludo': '0', 'penalizado': '-1', 'pencudo': '-1', 'pendente': '1', 'pendido': '-1', 'pendurado': '-1', 'peneirento': '-1', 'penetra': '-1', 'penetrado': '0', 'penetrante': '1', 'penhorado': '1', 'penitente': '0', 'penoso': '-1', 'pensado': '-1', 'pensador': '0', 'pensativo': '0', 'penso': '-1', 'pequenino': '0', 'pequeno': '0', 'pequenote': '0', 'pequerrucho': '0', 'percebido': '0', 'perceptível': '1', 'perceptivo': '1', 'perdedor': '-1', 'perdido': '-1', 'perdoado': '0', 'perdoador': '0', 'perdoável': '0', 'perdulário': '-1', 'perecedor': '-1', 'perecível': '-1', 'peregrino': '1', 'peremptório': '0', 'perene': '1', 'perfeito': '1', 'pérfido': '-1', 'perfilhado': '0', 'perfumado': '1', 'perfurado': '0', 'perguntador': '0', 'perigoso': '-1', 'peripatético': '0', 'perito': '1', 'permanente': '0', 'permeável': '1', 'permissivo': '0', 'pernalto': '0', 'pernão': '0', 'perneta': '-1', 'pernicioso': '-1', 'pernilongo': '0', 'pernóstico': '-1', 'pernudo': '0', 'perpendicular': '1', 'perpetuado': '0', 'perplexo': '-1', 'perro': '-1', 'perscrutador': '1', 'perseguido': '-1', 'perseverante': '1', 'persistente': '1', 'pessoal': '0', 'personalista': '0', 'perspectivista': '0', 'perspicaz': '1', 'perspícuo': '1', 'persuadido': '-1', 'persuasivo': '1', 'persuasor': '0', 'persuasório': '0', 'pertencente': '1', 'pertinaz': '-1', 'pertinente': '1', 'perturbado': '-1', 'perturbador': '-1', 'perturbante': '-1', 'perverso': '-1', 'pervertedor': '-1', 'pervertido': '-1', 'pesadão': '-1', 'pesado': '0', 'pesadote': '0', 'pesaroso': '-1', 'pescoçudo': '0', 'pesporrente': '-1', 'pesquisador': '0', 'pessimista': '-1', 'péssimo': '-1', 'pessoalista': '0', 'pestanejante': '0', 'pestanudo': '0', 'petiz': '0', 'petrarquista': '0', 'pétreo': '-1', 'petrificado': '-1', 'petrificante': '-1', 'petulante': '-1', 'pezudo': '0', 'picaço': '-1', 'picado': '-1', 'picante': '-1', 'pícaro': '-1', 'pictórico': '0', 'picuinhas': '-1', 'piedoso': '1', 'piegas': '-1', 'pífio': '-1', 'pigmeu': '-1', 'pilífero': '0', 'piloso': '0', 'pimpão': '0', 'pindérico': '-1', 'pinguço': '-1', 'pinoca': '-1', 'pintado': '1', 'pintalegrete': '0', 'pio': '1', 'piolhoso': '-1', 'pioneiro': '0', 'pior': '-1', 'pipi': '-1', 'pirado': '-1', 'piramidal': '1', 'piranga': '-1', 'pirangueiro': '-1', 'piromaníaco': '-1', 'pirómano': '-1', 'piroso': '-1', 'pisado': '-1', 'pisco': '-1', 'pitónico': '-1', 'pitoresco': '1', 'pitosga': '-1', 'plácido': '1', 'plaino': '-1', 'planeado': '-1', 'planejado': '0', 'plangente': '-1', 'planificado': '0', 'plano': '0', 'plantado': '-1', 'plasmado': '1', 'plástico': '0', 'platónico': '0', 'plausível': '1', 'plebeu': '-1', 'pleno': '1', 'pluralista': '0', 'plurilingue': '0', 'pobre': '-1', 'pobre coitado': '-1', 'pobre de espírito': '-1', 'pobre e mal agradecido': '-1', 'pobretana': '-1', 'pobretão': '-1', 'pobrete': '-1', 'poderoso': '0', 'podre': '-1', 'poeta': '0', 'poético': '0', 'polémico': '-1', 'polemista': '-1', 'poliandra': '0', 'policial': '-1', 'polido': '0', 'polígamo': '0', 'poliglota': '1', 'politeísta': '0', 'politicante': '-1', 'político': '0', 'politiqueiro': '-1', 'polivalente': '1', 'poltrão': '-1', 'pombalista': '0', 'pomposo': '0', 'ponderado': '1', 'ponderoso': '1', 'ponteiro': '-1', 'pontual': '1', 'pontudo': '-1', 'pop': '-1', 'popular': '1', 'populista': '-1', 'porcalhão': '-1', 'porcino': '-1', 'porco': '-1', 'porfiado': '-1', 'pormenorizado': '1', 'pornográfico': '-1', 'poroso': '0', 'porqueiro': '0', 'porreiro': '1', 'portador': '0', 'portentoso': '1', 'portista': '0', 'positivista': '0', 'positivo': '1', 'possante': '1', 'possessivo': '-1', 'possesso': '-1', 'possibilista': '0', 'possidónio': '-1', 'possuído': '-1', 'possuidor': '-1', 'postergado': '0', 'postiço': '-1', 'posto': '-1', 'potente': '1', 'poupado': '1', 'pousado': '-1', 'pragmático': '1', 'pragmatista': '0', 'praticante': '-1', 'prático': '1', 'prazenteiro': '1', 'precatado': '1', 'precavido': '1', 'precioso': '1', 'precipitado': '-1', 'precisado': '-1', 'preciso': '1', 'preclaro': '1', 'precoce': '-1', 'preconceituoso': '-1', 'precursor': '-1', 'predestinado': '0', 'predilecto': '0', 'predisposto': '-1', 'preeminente': '1', 'preferido': '0', 'pregado': '-1', 'preguiçoso': '-1', 'prejudicado': '-1', 'prejudicial': '-1', 'prematuro': '0', 'premeditado': '-1', 'premente': '-1', 'premiado': '1', 'premido': '0', 'prendado': '1', 'prenhe': '0', 'preocupado': '0', 'preparado': '1', 'preponderante': '-1', 'prepotente': '-1', 'presbíope': '-1', 'presbiterano': '0', 'presciente': '1', 'prescrito': '-1', 'presente': '1', 'preservado': '1', 'presidencialista': '0', 'presidente': '0', 'presidiário': '-1', 'preso': '-1', 'pressuroso': '0', 'prestante': '1', 'prestativo': '1', 'prestável': '1', 'preste': '1', 'prestes': '1', 'prestigiado': '1', 'prestigiante': '1', 'prestigioso': '1', 'prestimoso': '1', 'presto': '1', 'presumido': '-1', 'presumível': '0', 'presunçoso': '-1', 'presuntivo': '1', 'pretendente': '0', 'pretendido': '1', 'pretensioso': '-1', 'pretenso': '-1', 'preto': '-1', 'prevenido': '1', 'previdente': '1', 'previsível': '-1', 'prezado': '1', 'prezável': '1', 'primário': '-1', 'primaz': '-1', 'primeiro': '-1', 'primitivo': '-1', 'primo': '-1', 'primogénito': '0', 'primoroso': '1', 'principal': '-1', 'principiante': '-1', 'prisioneiro': '-1', 'privilegiado': '0', 'probabilista': '0', 'problemático': '-1', 'probo': '1', 'procedente': '1', 'processado': '0', 'procriador': '1', 'prodigioso': '1', 'pródigo': '-1', 'produtivo': '1', 'produtor': '0', 'produzido': '1', 'proeminente': '1', 'profanador': '-1', 'profano': '-1', 'professo': '0', 'proficiente': '1', 'profícuo': '1', 'profissional': '1', 'profundo': '0', 'profuso': '-1', 'prognóstico': '-1', 'progressista': '1', 'progressivo': '1', 'proibitivo': '-1', 'projetado': '0', 'prolífero': '1', 'prolífico': '1', 'prolixo': '-1', 'prolongado': '-1', 'prometedor': '1', 'prometido': '0', 'promíscuo': '-1', 'promissor': '1', 'promitente': '1', 'pronóstico': '-1', 'pronto': '1', 'pronunciado': '0', 'propenso': '0', 'propício': '1', 'proporcional': '1', 'propositado': '-1', 'proposital': '-1', 'proprietário': '0', 'próprio': '1', 'prosaico': '-1', 'proscrito': '-1', 'prosista': '-1', 'próspero': '1', 'prostituído': '-1', 'prostituto': '-1', 'prostrado': '-1', 'proteccionista': '0', 'protector': '1', 'protegido': '-1', 'protervo': '-1', 'protestante': '0', 'protestativo': '0', 'protetor': '1', 'provado': '0', 'provável': '1', 'provecto': '0', 'proveitoso': '1', 'proveniente': '-1', 'providencial': '1', 'providencialista': '0', 'providente': '1', 'provido': '0', 'provinciano': '-1', 'provindo': '0', 'provocador': '-1', 'provocante': '-1', 'provocativo': '-1', 'provocatório': '-1', 'provocável': '-1', 'próximo': '-1', 'prudente': '1', 'pseudo-intelectual': '-1', 'psicopata': '-1', 'psicótico': '-1', 'púbere': '0', 'pubescente': '0', 'publicado': '0', 'público': '0', 'pudendo': '0', 'pudibundo': '0', 'pudico': '0', 'púdico': '1', 'pueril': '-1', 'pugnaz': '0', 'pujante': '1', 'pulcro': '1', 'pulha': '-1', 'pulverizado': '-1', 'pundonoroso': '1', 'pungente': '0', 'purificado': '0', 'purista': '0', 'puritano': '-1', 'puro': '1', 'purpurino': '-1', 'púrrio': '-1', 'pusilânime': '-1', 'puta': '-1', 'putativo': '1', 'puto': '-1', 'putrefato': '-1', 'pútrido': '-1', 'puxadinho': '-1', 'puxado': '-1', 'quadrado': '-1', 'quadrúpede': '-1', 'qualificado': '1', 'quarentão': '0', 'quebrado': '-1', 'quebrantado': '-1', 'quebrável': '-1', 'quedo': '0', 'queimado': '-1', 'queixinhas': '-1', 'queixoso': '-1', 'queixudo': '-1', 'quente': '0', 'queque': '-1', 'querido': '1', 'querubínico': '1', 'questionado': '-1', 'questionável': '-1', 'quezilento': '-1', 'quieto': '0', 'quimérico': '1', 'quisto': '1', 'quitado': '-1', 'quixotesco': '-1', 'rabelaisiano': '-1', 'rabeta': '-1', 'rabicho': '-1', 'rabigo': '0', 'rabino': '-1', 'rabudo': '-1', 'rabugento': '-1', 'rábula': '-1', 'rabulista': '-1', 'racional': '1', 'racionalista': '0', 'racista': '-1', 'radiante': '1', 'radicado': '0', 'radical': '0', 'radicalista': '-1', 'radioso': '1', 'raivento': '-1', 'raivoso': '-1', 'ralado': '-1', 'ralador': '-1', 'ralhão': '-1', 'ralheta': '-1', 'rameloso': '-1', 'rancoroso': '-1', 'rançoso': '-1', 'ranheta': '-1', 'ranhoso': '-1', 'ranzinza': '-1', 'rapace': '-1', 'rapado': '0', 'rapaz': '0', 'rápido': '1', 'rapioqueiro': '-1', 'raposeiro': '-1', 'raposino': '-1', 'raptado': '0', 'raquítico': '-1', 'raro': '1', 'rasca': '-1', 'rasgado': '0', 'raso': '-1', 'rasteiro': '-1', 'rastejante': '-1', 'ratado': '-1', 'ratificado': '1', 'rato': '0', 'razoável': '1', 'reaccionário': '-1', 'reacionário': '-1', 'reactivo': '-1', 'real': '1', 'realçado': '-1', 'realista': '1', 'realizado': '1', 'rebaixado': '-1', 'rebarbativo': '-1', 'rebatido': '0', 'rebelado': '-1', 'rebelde': '-1', 'rebolião': '0', 'reboludo': '0', 'rebuscado': '-1', 'recalcado': '-1', 'recalcitrante': '-1', 'recapturado': '0', 'recatado': '1', 'recenseado': '0', 'receoso': '-1', 'receptível': '1', 'receptivo': '1', 'rechaçado': '0', 'recheado': '1', 'rechonchudo': '-1', 'reclinado': '-1', 'recluso': '-1', 'recolhido': '0', 'recolocado': '0', 'recomendado': '0', 'recomendável': '1', 'recompensado': '0', 'recomposto': '1', 'reconciliador': '1', 'reconfortado': '1', 'reconfortante': '0', 'reconstituído': '0', 'recordado': '0', 'recostado': '-1', 'recreativo': '1', 'recriminador': '-1', 'recrutado': '0', 'rectilíneo': '1', 'recto': '1', 'recuperado': '1', 'recuperável': '1', 'recusado': '-1', 'redentor': '0', 'redentorista': '0', 'redimível': '0', 'redivivo': '1', 'redondo': '-1', 'reducionista': '-1', 'redundante': '-1', 'redutor': '-1', 'reduzido': '-1', 'reelegível': '1', 'reestruturado': '0', 'refalsado': '-1', 'refeito': '1', 'referente': '1', 'referido': '-1', 'refilão': '-1', 'refinado': '0', 'reflectido': '1', 'reflectivo': '1', 'refletido': '1', 'refletivo': '1', 'reflexivo': '1', 'reflexo': '-1', 'reforçado': '1', 'reformado': '0', 'reformista': '0', 'refractário': '-1', 'refrescado': '0', 'refrescante': '1', 'refugiado': '-1', 'refulgente': '1', 'refutado': '-1', 'regalado': '1', 'regatão': '-1', 'regateador': '-1', 'regateiro': '-1', 'regelado': '-1', 'regenerado': '1', 'regenerável': '1', 'régio': '1', 'regionalista': '0', 'regrado': '1', 'regressado': '0', 'regulado': '1', 'regular': '1', 'reinadio': '1', 'reinante': '1', 'reincidente': '-1', 'reiterado': '1', 'reiterativo': '-1', 'reivindicador': '0', 'reivindicativo': '0', 'rejeitado': '-1', 'rejuvenescido': '1', 'relacionado': '-1', 'relambório': '-1', 'relapso': '-1', 'relatado': '0', 'relativista': '0', 'relaxado': '-1', 'reles': '-1', 'relevante': '1', 'religioso': '0', 'relutante': '-1', 'remansado': '0', 'remansoso': '0', 'remediado': '0', 'remelado': '-1', 'remeloso': '-1', 'remendado': '-1', 'remendão': '-1', 'remendeiro': '-1', 'remisso': '-1', 'remoçado': '1', 'remontado': '1', 'remunerado': '1', 'renascentista': '0', 'rendido': '-1', 'renegado': '-1', 'renitente': '0', 'renomado': '1', 'renomeado': '1', 'renovado': '1', 'rente': '0', 'repassado': '-1', 'repelente': '-1', 'repelido': '-1', 'repentino': '-1', 'repentinoso': '-1', 'repentista': '0', 'repetente': '-1', 'repetido': '1', 'repetidor': '-1', 'repetitivo': '-1', 'repimpado': '0', 'repleto': '1', 'replicador': '-1', 'repolhudo': '0', 'reportado': '1', 'reposto': '1', 'repousado': '0', 'repreendido': '1', 'repreensível': '-1', 'representado': '0', 'representante': '0', 'representativo': '1', 'represo': '-1', 'repressivo': '-1', 'repressor': '-1', 'reprimido': '-1', 'reprovado': '-1', 'reprovador': '-1', 'reprovável': '-1', 'reptante': '-1', 'réptil': '-1', 'republicano': '0', 'repudiado': '0', 'repugnante': '-1', 'repulsivo': '-1', 'repulso': '-1', 'reputado': '1', 'requebrado': '-1', 'requintado': '1', 'reservado': '0', 'resfriado': '-1', 'resgatado': '0', 'resguardado': '-1', 'residente': '0', 'resignado': '-1', 'resistente': '0', 'resmungão': '-1', 'resoluto': '1', 'resolvido': '1', 'respeitado': '1', 'respeitador': '1', 'respeitável': '1', 'respeitoso': '1', 'respingão': '-1', 'respondão': '-1', 'respondedor': '-1', 'responsabilizável': '0', 'responsável': '1', 'ressabiado': '-1', 'ressabido': '1', 'ressaltado': '1', 'ressarcido': '1', 'ressentido': '-1', 'ressequido': '-1', 'ressonador': '0', 'ressonante': '-1', 'ressuscitado': '1', 'restabelecido': '1', 'restaurado': '1', 'restringido': '-1', 'restritivo': '0', 'restrito': '0', 'resultante': '0', 'resumido': '0', 'retalhado': '0', 'retardado': '-1', 'reticente': '-1', 'retido': '0', 'retirado': '0', 'reto': '1', 'retorcido': '-1', 'retórico': '-1', 'retornado': '0', 'retorto': '-1', 'retracto': '-1', 'retraído': '-1', 'retratado': '1', 'retrógrado': '-1', 'retrospectivo': '0', 'retumbante': '-1', 'réu': '-1', 'reunido': '-1', 'revanchista': '0', 'revel': '-1', 'revelado': '1', 'revelho': '-1', 'reverenciado': '1', 'reverenciador': '0', 'reverencioso': '0', 'reverendo': '1', 'reverente': '0', 'revestido': '0', 'revigorado': '1', 'revoltado': '-1', 'revoltante': '-1', 'revoltoso': '-1', 'revolucionado': '-1', 'revolucionário': '0', 'rezina': '-1', 'rezingão': '-1', 'ribaldeiro': '-1', 'ribaldo': '-1', 'ricaço': '0', 'ricalhaço': '0', 'rico': '1', 'ridente': '1', 'ridicularizado': '0', 'ridicularizador': '-1', 'ridicularizante': '-1', 'ridículo': '-1', 'rígido': '0', 'rigorista': '0', 'rigoroso': '1', 'rijo': '1', 'riscado': '-1', 'risível': '-1', 'risonho': '1', 'ríspido': '-1', 'ritual': '0', 'rival': '-1', 'roberto': '-1', 'robustecido': '1', 'robusto': '1', 'rodado': '-1', 'rodeado': '0', 'roedor': '-1', 'rogativo': '0', 'rolê': '-1', 'rolho': '-1', 'roliço': '-1', 'romanesco': '0', 'romântico': '0', 'rompido': '-1', 'roncador': '0', 'roncante': '0', 'roncão': '0', 'ronceiro': '-1', 'rosado': '0', 'rotativista': '0', 'rotineiro': '0', 'roto': '0', 'rotundo': '-1', 'roubado': '-1', 'rouco': '-1', 'roufenho': '-1', 'roxo': '-1', 'rúbeo': '0', 'rubicundo': '0', 'ruborescido': '0', 'ruborizado': '0', 'rubro': '0', 'ruço': '0', 'rude': '-1', 'rudimentar': '-1', 'ruidoso': '-1', 'ruim': '-1', 'ruinoso': '-1', 'ruivo': '0', 'russófilo': '0', 'russófobo': '-1', 'rústico': '-1', 'sabe': '1', 'sabedor': '1', 'sabichão': '0', 'sabido': '0', 'sábio': '1', 'sacado': '-1', 'sacana': '-1', 'saciado': '0', 'sacramentado': '0', 'sagrado': '1', 'sacrificado': '1', 'sacrificador': '0', 'sacrílego': '-1', 'sacrista': '-1', 'sacrossanto': '0', 'sacudido': '1', 'sádico': '-1', 'sadio': '1', 'sadista': '-1', 'safado': '-1', 'sáfaro': '-1', 'sáfio': '-1', 'safo': '0', 'sagaz': '1', 'sage': '1', 'saído': '1', 'salazarista': '-1', 'salesiano': '0', 'salientado': '0', 'saliente': '-1', 'saloio': '-1', 'saltão': '0', 'saltitante': '-1', 'salutar': '1', 'salvável': '0', 'salvo': '0', 'samaritano': '0', 'sanado': '1', 'sancionado': '0', 'sandeu': '-1', 'sangrento': '-1', 'sanguinário': '-1', 'sangüinário': '-1', 'sanguíneo': '-1', 'sangüíneo': '-1', 'sanguinolento': '-1', 'sanhudo': '-1', 'santificado': '0', 'santo': '1', 'são': '1', 'sapeca': '-1', 'sapiente': '1', 'sapudo': '-1', 'sarado': '1', 'sarcástico': '-1', 'sardanapalesco': '-1', 'sardento': '0', 'sardo': '0', 'sardónico': '-1', 'sarnento': '-1', 'sarnoso': '-1', 'sarraceno': '0', 'satânico': '-1', 'satírico': '-1', 'satisfeito': '1', 'saturado': '-1', 'saturante': '-1', 'saudável': '1', 'saudoso': '-1', 'sebento': '-1', 'seboso': '-1', 'secante': '-1', 'seco': '-1', 'sectário': '-1', 'secular': '-1', 'secularista': '0', 'secundário': '-1', 'sedentário': '-1', 'sedente': '-1', 'sedento': '-1', 'sedicioso': '-1', 'sedoso': '0', 'sedutor': '1', 'seduzido': '-1', 'segregado': '-1', 'seguidor': '1', 'seguinte': '0', 'segurado': '0', 'seguro': '1', 'selado': '-1', 'seleccionado': '1', 'selectivo': '0', 'selecto': '1', 'selvagem': '-1', 'selvático': '-1', 'sem carácter': '-1', 'semelhante': '-1', 'semibárbaro': '-1', 'semicivilizado': '-1', 'semiconsciente': '-1', 'semidivino': '1', 'semierudito': '0', 'semilouco': '-1', 'semimorto': '-1', 'seminal': '1', 'seminu': '-1', 'semivivo': '-1', 'sem-sabor': '-1', 'sem-sal': '-1', 'senhor do seu nariz': '0', 'senil': '-1', 'sensaborão': '-1', 'sensacional': '1', 'sensacionalista': '-1', 'sensato': '1', 'sensibilizado': '-1', 'sensibilizante': '-1', 'sensitivo': '0', 'sensível': '1', 'sensual': '1', 'sensualista': '0', 'sentenciado': '-1', 'sentencioso': '-1', 'sentido': '-1', 'sentimental': '0', 'sentimentalista': '0', 'separado': '0', 'separatista': '0', 'sepultado': '0', 'sequaz': '1', 'seqüestrado': '0', 'sequestrável': '-1', 'sequioso': '-1', 'seráfico': '0', 'serelepe': '-1', 'sereno': '1', 'sério': '0', 'serôdio': '-1', 'sertanejo': '-1', 'servente': '0', 'serviçal': '0', 'servido': '-1', 'servil': '-1', 'servo': '0', 'setembrista': '0', 'setuagenário': '0', 'severo': '-1', 'sevo': '-1', 'sexagenário': '0', 'sexista': '0', 'sexuado': '0', 'sexual': '0', 'sexualizado': '0', 'sexy': '1', 'sibilino': '-1', 'sifilítico': '-1', 'significativo': '1', 'silencioso': '0', 'silente': '0', 'simbólico': '0', 'simbolista': '0', 'simétrico': '1', 'similar': '0', 'símile': '0', 'símio': '-1', 'simoniano': '0', 'simpático': '1', 'simpatizante': '1', 'simples': '1', 'simplificador': '0', 'simplista': '-1', 'simplório': '-1', 'simulado': '-1', 'sincero': '1', 'sindicalista': '0', 'sindicalizado': '0', 'singelo': '0', 'singular': '0', 'sinistro': '-1', 'sintético': '0', 'sintoísta': '0', 'sinuoso': '-1', 'sistemático': '1', 'sistêmico': '1', 'sisudo': '-1', 'sitiado': '-1', 'situado': '-1', 'snob': '-1', 'snobe': '-1', 'só': '-1', 'soberano': '0', 'soberbo': '1', 'sobranceiro': '0', 'sobrealimentado': '-1', 'sobrecarregado': '-1', 'sobredotado': '1', 'sobrenatural': '1', 'sobressaltado': '-1', 'sóbrio': '1', 'social': '1', 'social-democrata': '0', 'socialista': '0', 'sociável': '1', 'sócio': '-1', 'sociologista': '0', 'socorrido': '0', 'soez': '-1', 'sofista': '-1', 'sofisticado': '1', 'sofredor': '-1', 'sôfrego': '-1', 'sofrido': '-1', 'sofrível': '0', 'soldado': '0', 'solene': '0', 'solenizado': '-1', 'solerte': '-1', 'solícito': '1', 'solidário': '1', 'sólido': '0', 'solitário': '-1', 'solteiro': '0', 'solto': '-1', 'soluçante': '-1', 'solucionado': '1', 'solucionista': '0', 'sombreado': '-1', 'sombrio': '-1', 'sonâmbulo': '-1', 'sonante': '1', 'sonhado': '-1', 'sonhador': '0', 'sonolento': '-1', 'sonso': '-1', 'sopeiro': '-1', 'sórdido': '-1', 'sorna': '-1', 'sorrateiro': '-1', 'sorrelfo': '-1', 'sorridente': '1', 'sorteado': '-1', 'sorumbático': '-1', 'sossegado': '1', 'soturno': '-1', 'sovado': '-1', 'sovina': '-1', 'sozinho': '-1', 'sportinguista': '0', 'stressado': '-1', 'suado': '0', 'suarento': '0', 'suave': '1', 'suavizado': '-1', 'subalterno': '-1', 'subdividido': '0', 'subentendido': '-1', 'subjectivo': '0', 'subjetivo': '0', 'subjugado': '-1', 'subjugador': '-1', 'subjugante': '-1', 'sublimado': '0', 'sublime': '1', 'submergido': '-1', 'submerso': '-1', 'submetido': '-1', 'submisso': '-1', 'subordinado': '0', 'subordinador': '0', 'subordinante': '-1', 'subornado': '-1', 'subornador': '-1', 'subornável': '-1', 'subscrito': '0', 'subsequente': '0', 'subserviente': '-1', 'subsidiado': '0', 'subsidiário': '-1', 'substancialista': '0', 'subtil': '0', 'subversivo': '-1', 'subversor': '-1', 'sucessor': '0', 'sucinto': '0', 'súdito': '-1', 'suficiente': '1', 'sufocado': '-1', 'sufocador': '-1', 'sufocante': '-1', 'sufragâneo': '-1', 'sufragista': '0', 'sugestionável': '-1', 'sugestivo': '0', 'suicida': '-1', 'suíno': '-1', 'sujeito': '-1', 'sujo': '-1', 'sumário': '0', 'sumido': '-1', 'sumptuoso': '1', 'superconfiante': '1', 'superdefensivo': '-1', 'superdotado': '1', 'superelegante': '1', 'superexigente': '0', 'superficial': '-1', 'supérfluo': '-1', 'superintendente': '1', 'superior': '1', 'superlotado': '-1', 'superprotector': '0', 'supersensível': '-1', 'supersticioso': '-1', 'supimpa': '1', 'supino': '0', 'suplantado': '-1', 'suplementar': '0', 'suportável': '1', 'suposto': '-1', 'supranumerário': '-1', 'supremo': '1', 'suprimido': '-1', 'surdo': '0', 'surgido': '0', 'surpreendente': '1', 'surpreendido': '-1', 'surpreso': '-1', 'surrado': '-1', 'surreal': '-1', 'surrealista': '-1', 'surto': '0', 'susceptível': '-1', 'suscetível': '-1', 'suspeito': '-1', 'suspenso': '-1', 'suspicaz': '-1', 'suspirante': '0', 'suspiroso': '0', 'sussurrante': '0', 'sustado': '0', 'sustentado': '0', 'sutil': '0', 'tabagista': '-1', 'tablóide': '-1', 'tabu': '0', 'tacanho': '-1', 'tachado': '-1', 'tácito': '-1', 'taciturno': '-1', 'taful': '0', 'tagarela': '-1', 'talentoso': '1', 'talhado': '1', 'talibã': '0', 'taludo': '0', 'tamanco': '-1', 'tamaninho': '-1', 'tangível': '1', 'tanso': '-1', 'tapado': '-1', 'tarado': '-1', 'tarado sexual': '-1', 'tarasco': '-1', 'tardíloquo': '-1', 'tardio': '-1', 'tardo': '-1', 'tareco': '-1', 'tarimbeiro': '-1', 'tarouco': '-1', 'tartamudo': '-1', 'tartufo': '-1', 'tato': '-1', 'tatuado': '0', 'taxativo': '-1', 'taylorista': '0', 'teatral': '-1', 'tecnicista': '0', 'técnico': '1', 'tedioso': '-1', 'teimoso': '-1', 'teísta': '0', 'telegráfico': '0', 'telhudo': '-1', 'temerário': '0', 'temeroso': '-1', 'temido': '-1', 'temível': '-1', 'temoroso': '-1', 'temperado': '1', 'temperamental': '-1', 'temperante': '0', 'tempestivo': '-1', 'tempestuoso': '-1', 'temporal': '-1', 'temporão': '-1', 'temporário': '-1', 'temporizador': '1', 'temudo': '-1', 'tenaz': '0', 'tendencioso': '-1', 'tenebroso': '-1', 'tenro': '-1', 'tenso': '-1', 'tentado': '-1', 'tentador': '-1', 'ténue': '-1', 'tênue': '0', 'teórico': '0', 'terminante': '0', 'terno': '1', 'ternurento': '1', 'terráqueo': '0', 'terrenho': '-1', 'terreno': '0', 'terrestre': '0', 'terrificante': '-1', 'terrífico': '-1', 'terrível': '-1', 'terrorífico': '-1', 'terrorista': '-1', 'terso': '0', 'teso': '-1', 'testo': '1', 'testudo': '-1', 'tetro': '-1', 'tétrico': '-1', 'tíbio': '-1', 'tido': '1', 'tigre': '-1', 'tigrino': '-1', 'tímido': '-1', 'timorato': '0', 'tinhoso': '-1', 'típico': '0', 'tirado': '-1', 'tirânico': '-1', 'tirano': '-1', 'tiririca': '-1', 'tiritante': '-1', 'tísico': '-1', 'tisnado': '0', 'titilante': '0', 'titubeante': '-1', 'titular': '1', 'tocado': '-1', 'tocador': '-1', 'tocante': '0', 'todo-poderoso': '0', 'toldado': '-1', 'toleirão': '-1', 'tolerante': '1', 'tolerável': '1', 'tolhido': '-1', 'tolo': '-1', 'tomado': '0', 'tombado': '-1', 'tomista': '0', 'tonante': '0', 'tonificado': '1', 'tontinho': '-1', 'tonto': '-1', 'torcedor': '0', 'torcido': '-1', 'tormentoso': '-1', 'torneado': '-1', 'torpe': '-1', 'torso': '-1', 'torto': '-1', 'tortuoso': '-1', 'torturado': '-1', 'torturador': '-1', 'torturante': '-1', 'torvo': '-1', 'tosco': '-1', 'total': '0', 'totó': '-1', 'tóxico': '-1', 'toxicodependente': '-1', 'toxicómano': '-1', 'trabalhadeira': '1', 'trabalhado': '-1', 'trabalhador': '1', 'trabalhista': '0', 'trabalhoso': '-1', 'tradicional': '1', 'tradicionalista': '0', 'traficante': '-1', 'trafulha': '-1', 'tragável': '1', 'trágico': '-1', 'traiçoeiro': '-1', 'traído': '-1', 'traidor': '-1', 'trajado': '0', 'tramado': '-1', 'trampolineiro': '-1', 'tramposo': '-1', 'trangalhadanças': '-1', 'tranquilizador': '1', 'tranquilizante': '1', 'tranquilo': '1', 'tranqüilo': '1', 'transcendental': '-1', 'transcendentalista': '0', 'transcendente': '1', 'transeunte': '0', 'transexual': '0', 'transfigurado': '0', 'transformado': '0', 'transformista': '0', 'transido': '-1', 'transigente': '-1', 'transitório': '-1', 'translúcido': '1', 'transmissível': '-1', 'transparente': '1', 'transpassado': '-1', 'transpirado': '0', 'transplantado': '0', 'transportado': '-1', 'transposto': '-1', 'transtornado': '-1', 'transversal': '-1', 'transviado': '-1', 'trapaceiro': '-1', 'trapacento': '-1', 'trapalhão': '-1', 'trapista': '0', 'traquejado': '1', 'traquina': '-1', 'traquinas': '-1', 'traspassado': '-1', 'tratado': '1', 'tratante': '-1', 'tratável': '1', 'trauliteiro': '-1', 'travado': '-1', 'travesso': '-1', 'travestido': '-1', 'treinado': '1', 'tremebundo': '-1', 'tremelicas': '-1', 'tremendo': '-1', 'tremente': '-1', 'tremido': '-1', 'trémulo': '-1', 'trêmulo': '-1', 'trepador': '0', 'tresloucado': '-1', 'tresmalhado': '-1', 'trespassado': '-1', 'trevoso': '-1', 'tributário': '1', 'trigueiro': '0', 'trilhado': '1', 'trincado': '-1', 'trintão': '0', 'trio': '0', 'triste': '-1', 'tristonho': '-1', 'triturado': '-1', 'triunfador': '1', 'triunfalista': '0', 'triunfante': '1', 'trivial': '-1', 'trocado': '-1', 'trocador': '0', 'trocista': '-1', 'troglodita': '-1', 'troliteiro': '-1', 'trombudo': '-1', 'tronco': '-1', 'troncudo': '0', 'trôpego': '-1', 'tropical': '1', 'trotskista': '0', 'truanesco': '-1', 'trucidante': '-1', 'truculento': '-1', 'truncado': '-1', 'tumultuado': '-1', 'tumultuário': '-1', 'tumultuoso': '-1', 'turbador': '-1', 'turbulento': '-1', 'túrgido': '-1', 'turrão': '-1', 'tutelado': '0', 'ubíquo': '1', 'ufano': '0', 'ultraconservador': '0', 'ultrajado': '-1', 'ultrajante': '-1', 'ultraliberal': '0', 'ultramontano': '0', 'ultranacionalista': '0', 'ultrapassado': '-1', 'unanimista': '0', 'unário': '1', 'único': '1', 'unido': '-1', 'unificador': '1', 'uniforme': '0', 'uniformizador': '1', 'unionista': '0', 'unitário': '0', 'unitarista': '0', 'universal': '0', 'universalista': '0', 'universalizado': '0', 'unívoco': '1', 'uno': '0', 'untuoso': '-1', 'urbanita': '0', 'urbano': '0', 'urinado': '-1', 'usado': '-1', 'usual': '1', 'usurário': '-1', 'usurpador': '-1', 'útil': '1', 'utilitário': '1', 'utilitarista': '0', 'utópico': '0', 'utopista': '0', 'uxoricida': '-1', 'vacilante': '0', 'vacinado': '0', 'vadio': '-1', 'vagabundo': '-1', 'vagamundo': '-1', 'vagaroso': '-1', 'vago': '-1', 'vaiado': '0', 'vaidoso': '-1', 'valentão': '0', 'valente': '1', 'valetudinário': '-1', 'valido': '0', 'válido': '1', 'valioso': '1', 'valoroso': '1', 'vandálico': '-1', 'vândalo': '-1', 'vanguardeiro': '1', 'vanguardista': '0', 'vantajoso': '1', 'vão': '-1', 'vaporoso': '0', 'varado': '-1', 'varela': '-1', 'variado': '-1', 'variegado': '-1', 'varonil': '1', 'varrido': '-1', 'vassalo': '-1', 'vasto': '0', 'vaticanista': '0', 'vazio': '-1', 'vedado': '-1', 'veemente': '0', 'velado': '-1', 'veleiro': '0', 'velejador': '0', 'velhaco': '-1', 'velho': '0', 'velho e relho': '-1', 'velhote': '0', 'veloso': '0', 'veloz': '1', 'venal': '-1', 'vencedor': '1', 'vencido': '-1', 'vencível': '-1', 'vendedor': '-1', 'vendido': '-1', 'venenoso': '-1', 'venerado': '1', 'venerando': '1', 'venerável': '1', 'ventrudo': '-1', 'venturoso': '1', 'vero': '1', 'veraz': '1', 'verdadeiro': '1', 'vergado': '-1', 'vergonhoso': '-1', 'verídico': '1', 'vermelho': '-1', 'vermelhusco': '-1', 'vernáculo': '1', 'verosímil': '1', 'verosimilhante': '1', 'verossímil': '1', 'verrinoso': '-1', 'versado': '1', 'versátil': '1', 'vertical': '1', 'vertido': '-1', 'vesgo': '-1', 'vestido': '0', 'veterano': '0', 'vetusto': '0', 'vexado': '-1', 'viajado': '1', 'viajante': '0', 'vibrante': '0', 'vicentino': '0', 'vicentista': '0', 'viciado': '-1', 'vicioso': '-1', 'viçoso': '1', 'videirinho': '-1', 'videiro': '0', 'vidente': '1', 'vidrado': '-1', 'vigarista': '-1', 'vígaro': '-1', 'vigiado': '0', 'vígil': '1', 'vigilante': '1', 'vigoroso': '1', 'vil': '-1', 'vilão': '-1', 'vinagrento': '-1', 'vincado': '-1', 'vinculado': '0', 'vindicativo': '0', 'vindo': '-1', 'vingativo': '-1', 'vinolento': '-1', 'violado': '-1', 'violentado': '-1', 'violento': '-1', 'violeta': '-1', 'viperino': '-1', 'vira-casacas': '-1', 'virado': '-1', 'virgem': '0', 'virginal': '0', 'viril': '1', 'virtuoso': '1', 'virulento': '-1', 'visado': '-1', 'visceral': '-1', 'viscoso': '-1', 'visionário': '1', 'visível': '0', 'visto': '1', 'vistoso': '1', 'visual': '1', 'vital': '-1', 'vitalista': '0', 'vitalizador': '1', 'vítima': '-1', 'vitorioso': '1', 'viúvo': '0', 'vivaço': '1', 'vivaz': '1', 'vivedor': '1', 'vivido': '1', 'vívido': '0', 'vivificador': '1', 'vivificante': '0', 'vivo': '1', 'vizinho': '0', 'voador': '1', 'vociferador': '-1', 'vociferante': '-1', 'volante': '-1', 'volátil': '-1', 'voltado': '-1', 'volumoso': '0', 'voluntarioso': '-1', 'voluntarista': '0', 'voluptuoso': '0', 'volúvel': '-1', 'vomitado': '-1', 'vorace': '-1', 'voraz': '-1', 'vulgar': '-1', 'vulgarizado': '-1', 'vulgarizador': '-1', 'vulnerável': '-1', 'vultoso': '-1', 'wagneriano': '0', 'xenófilo': '1', 'xenófobo': '-1', 'xexé': '-1', 'xiita': '0', 'zaino': '-1', 'zangado': '-1', 'zargo': '0', 'zarolho': '-1', 'zelador': '0', 'zeloso': '1', 'zelote': '-1', 'zombeteiro': '-1', 'zonzo': '-1', 'zote': '-1', 'zumbidor': '-1'}\n"
     ]
    }
   ],
   "source": [
    "print (dic_palavra_polaridade)"
   ]
  },
  {
   "cell_type": "markdown",
   "id": "968ea9e4",
   "metadata": {},
   "source": [
    "**Consultando a polaridade de algumas palavras**"
   ]
  },
  {
   "cell_type": "code",
   "execution_count": 298,
   "id": "0676b154",
   "metadata": {},
   "outputs": [
    {
     "name": "stdout",
     "output_type": "stream",
     "text": [
      "-1\n"
     ]
    }
   ],
   "source": [
    "print (dic_palavra_polaridade.get('abusivo'))"
   ]
  },
  {
   "cell_type": "code",
   "execution_count": 299,
   "id": "7b2d348b",
   "metadata": {},
   "outputs": [
    {
     "name": "stdout",
     "output_type": "stream",
     "text": [
      "1\n"
     ]
    }
   ],
   "source": [
    "print (dic_palavra_polaridade.get('sorridente'))"
   ]
  },
  {
   "cell_type": "code",
   "execution_count": 300,
   "id": "a47a90ce",
   "metadata": {},
   "outputs": [
    {
     "name": "stdout",
     "output_type": "stream",
     "text": [
      "0\n"
     ]
    }
   ],
   "source": [
    "print (dic_palavra_polaridade.get('liberal'))"
   ]
  },
  {
   "cell_type": "code",
   "execution_count": 304,
   "id": "015da023",
   "metadata": {},
   "outputs": [
    {
     "name": "stdout",
     "output_type": "stream",
     "text": [
      "-1\n"
     ]
    }
   ],
   "source": [
    "print (dic_palavra_polaridade.get('cansado'))"
   ]
  },
  {
   "cell_type": "markdown",
   "id": "268bcb87",
   "metadata": {},
   "source": [
    "## Processando Frases - Bases de Dados"
   ]
  },
  {
   "cell_type": "code",
   "execution_count": 305,
   "id": "29e271ae",
   "metadata": {},
   "outputs": [],
   "source": [
    "def Score_sentimento(frase):\n",
    "    frase = frase.lower()                     # coloca toda a frase em minusculo\n",
    "    l_sentimento = []                         # cria uma lista vazia\n",
    "    for p in frase.split():\n",
    "        l_sentimento.append(int(dic_palavra_polaridade.get(p, 0)))      # para cada palavra obtem a polaridade\n",
    "    print (l_sentimento)                                              # imprime a lista de polaridades\n",
    "    score = sum(l_sentimento)                                           # soma todos os valores da lista\n",
    "    if score > 0:\n",
    "        return 'Positivo, Score:{}'.format(score)                       # se maior que 0 retorna 'positivo'\n",
    "    elif score == 0:\n",
    "        return 'Neutro, Score:{}'.format(score)                         # se igual a 0 retorna 'neutro'\n",
    "    else:\n",
    "        return 'Negativo, Score:{}'.format(score)                     # se menor que 0 retorna 'negativo'"
   ]
  },
  {
   "cell_type": "markdown",
   "id": "f31cf9ee",
   "metadata": {},
   "source": [
    "**Usando a função Score_sentimento**"
   ]
  },
  {
   "cell_type": "code",
   "execution_count": 306,
   "id": "ad647e10",
   "metadata": {},
   "outputs": [
    {
     "name": "stdout",
     "output_type": "stream",
     "text": [
      "[0, 0, 0, 1, 0, 0, -1, 0, 0, 0]\n"
     ]
    },
    {
     "data": {
      "text/plain": [
       "'Neutro, Score:0'"
      ]
     },
     "execution_count": 306,
     "metadata": {},
     "output_type": "execute_result"
    }
   ],
   "source": [
    "Score_sentimento('Eu estou muito feliz hoje, porém, triste com a politica')"
   ]
  },
  {
   "cell_type": "code",
   "execution_count": 307,
   "id": "4bd90ff8",
   "metadata": {},
   "outputs": [
    {
     "data": {
      "text/plain": [
       "'1'"
      ]
     },
     "execution_count": 307,
     "metadata": {},
     "output_type": "execute_result"
    }
   ],
   "source": [
    "dic_palavra_polaridade.get('feliz')"
   ]
  },
  {
   "cell_type": "code",
   "execution_count": 308,
   "id": "2198dee7",
   "metadata": {},
   "outputs": [
    {
     "name": "stdout",
     "output_type": "stream",
     "text": [
      "[0, 0, 1, 0, 0, 1, 0, 0, 0, 0, 0]\n"
     ]
    },
    {
     "data": {
      "text/plain": [
       "'Positivo, Score:2'"
      ]
     },
     "execution_count": 308,
     "metadata": {},
     "output_type": "execute_result"
    }
   ],
   "source": [
    "Score_sentimento('Estou Muito Feliz hoje, super animado com o trabalho novo! :)')"
   ]
  },
  {
   "cell_type": "code",
   "execution_count": 309,
   "id": "f5149a2d",
   "metadata": {},
   "outputs": [
    {
     "data": {
      "text/plain": [
       "'1'"
      ]
     },
     "execution_count": 309,
     "metadata": {},
     "output_type": "execute_result"
    }
   ],
   "source": [
    "dic_palavra_polaridade.get('animado')"
   ]
  },
  {
   "cell_type": "code",
   "execution_count": 310,
   "id": "0d144fd9",
   "metadata": {},
   "outputs": [
    {
     "name": "stdout",
     "output_type": "stream",
     "text": [
      "[0, 0, 0, -1, 0, 0, 0]\n"
     ]
    },
    {
     "data": {
      "text/plain": [
       "'Negativo, Score:-1'"
      ]
     },
     "execution_count": 310,
     "metadata": {},
     "output_type": "execute_result"
    }
   ],
   "source": [
    "Score_sentimento('Estou muito triste, desanimado com algumas coisas')"
   ]
  },
  {
   "cell_type": "code",
   "execution_count": 313,
   "id": "57380509",
   "metadata": {},
   "outputs": [
    {
     "data": {
      "text/plain": [
       "'-1'"
      ]
     },
     "execution_count": 313,
     "metadata": {},
     "output_type": "execute_result"
    }
   ],
   "source": [
    "dic_palavra_polaridade.get('triste')"
   ]
  },
  {
   "cell_type": "markdown",
   "id": "72b3ab7c",
   "metadata": {},
   "source": [
    "# 8.25 - Criando um modelo de machine learning para tarefas de análise de sentimentos"
   ]
  },
  {
   "cell_type": "markdown",
   "id": "38b7b5f9",
   "metadata": {},
   "source": [
    "## Análise de Sentimentos usando Machine Learning"
   ]
  },
  {
   "cell_type": "markdown",
   "id": "d199eca4",
   "metadata": {},
   "source": [
    "* Criando modelos para análise de sentimentos de tweets\n",
    "* Teste com Modelo usando tag de negações\n",
    "* Teste com Modelo usando Bigrams"
   ]
  },
  {
   "cell_type": "code",
   "execution_count": 314,
   "id": "85228a12",
   "metadata": {},
   "outputs": [],
   "source": [
    "from nltk import word_tokenize\n",
    "import nltk\n",
    "import re\n",
    "import pandas as pd\n",
    "from sklearn.feature_extraction.text import CountVectorizer\n",
    "from sklearn.naive_bayes import MultinomialNB\n",
    "from sklearn import metrics\n",
    "from sklearn.model_selection import cross_val_predict"
   ]
  },
  {
   "cell_type": "markdown",
   "id": "2acbebde",
   "metadata": {},
   "source": [
    "**Ler arquivo de dados e conta a quantidade de linhas**"
   ]
  },
  {
   "cell_type": "code",
   "execution_count": 315,
   "id": "5e90eb38",
   "metadata": {},
   "outputs": [],
   "source": [
    "dataset = pd.read_csv(caminho + r'\\Tweets_Mg.csv', encoding='utf-8')"
   ]
  },
  {
   "cell_type": "markdown",
   "id": "64410c58",
   "metadata": {},
   "source": [
    "**Exibe as 50 primeiras lihas de tweets**"
   ]
  },
  {
   "cell_type": "code",
   "execution_count": 317,
   "id": "2c07d895",
   "metadata": {},
   "outputs": [
    {
     "data": {
      "text/plain": [
       "0     ���⛪ @ Catedral de Santo Antônio - Governador ...\n",
       "1     � @ Governador Valadares, Minas Gerais https:/...\n",
       "2     �� @ Governador Valadares, Minas Gerais https:...\n",
       "3                           ��� https://t.co/BnDsO34qK0\n",
       "4     ��� PSOL vai questionar aumento de vereadores ...\n",
       "5     \" bom é bandido morto\"\\nDeputado Cabo Júlio é ...\n",
       "6     \"..E 25% dos mineiros dizem não torcer para ti...\n",
       "7     \"A gigantesca barba do mal\" em destaque no cad...\n",
       "8     \"BB e governo de Minas travam disputa sobre de...\n",
       "9     \"com vcs bh fica pequena!\" Belo Horizonte (pro...\n",
       "10    \"Daí a gente visita governador valadares\"\\n\"Qu...\n",
       "11    \"É bonita e é bonita...\" \\n#latergram #ibituru...\n",
       "12    \"erro desconhecido\" é mato! Aliás, é da secret...\n",
       "13    \"La La Land: Cantando Estações\" arrasa no Glob...\n",
       "14    \"La La Land: Cantando Estações\" arrasa no Glob...\n",
       "Name: Text, dtype: object"
      ]
     },
     "execution_count": 317,
     "metadata": {},
     "output_type": "execute_result"
    }
   ],
   "source": [
    "dataset.Text.head(15)"
   ]
  },
  {
   "cell_type": "markdown",
   "id": "402f678c",
   "metadata": {},
   "source": [
    "**Conta a quantidade de linhas de tweets neutros, positivos e negativos**"
   ]
  },
  {
   "cell_type": "code",
   "execution_count": 318,
   "id": "67e7b561",
   "metadata": {},
   "outputs": [
    {
     "data": {
      "text/plain": [
       "Unnamed: 0                   2453\n",
       "Created At                   2453\n",
       "Text                         2453\n",
       "Geo Coordinates.latitude      102\n",
       "Geo Coordinates.longitude     102\n",
       "User Location                1712\n",
       "Username                     2453\n",
       "User Screen Name             2453\n",
       "Retweet Count                2453\n",
       "Classificacao                2453\n",
       "Observação                      0\n",
       "Unnamed: 10                     0\n",
       "Unnamed: 11                     0\n",
       "Unnamed: 12                     0\n",
       "Unnamed: 13                     0\n",
       "Unnamed: 14                     0\n",
       "Unnamed: 15                     0\n",
       "Unnamed: 16                     0\n",
       "Unnamed: 17                     0\n",
       "Unnamed: 18                     0\n",
       "Unnamed: 19                     0\n",
       "Unnamed: 20                     0\n",
       "Unnamed: 21                     0\n",
       "Unnamed: 22                     0\n",
       "Unnamed: 23                     0\n",
       "Unnamed: 24                     0\n",
       "dtype: int64"
      ]
     },
     "execution_count": 318,
     "metadata": {},
     "output_type": "execute_result"
    }
   ],
   "source": [
    "dataset[dataset.Classificacao=='Neutro'].count()"
   ]
  },
  {
   "cell_type": "code",
   "execution_count": 319,
   "id": "57d51cb8",
   "metadata": {},
   "outputs": [
    {
     "data": {
      "text/plain": [
       "Unnamed: 0                   3300\n",
       "Created At                   3300\n",
       "Text                         3300\n",
       "Geo Coordinates.latitude        1\n",
       "Geo Coordinates.longitude       1\n",
       "User Location                2118\n",
       "Username                     3300\n",
       "User Screen Name             3300\n",
       "Retweet Count                3300\n",
       "Classificacao                3300\n",
       "Observação                      1\n",
       "Unnamed: 10                     0\n",
       "Unnamed: 11                     0\n",
       "Unnamed: 12                     0\n",
       "Unnamed: 13                     0\n",
       "Unnamed: 14                     0\n",
       "Unnamed: 15                     0\n",
       "Unnamed: 16                     0\n",
       "Unnamed: 17                     0\n",
       "Unnamed: 18                     0\n",
       "Unnamed: 19                     0\n",
       "Unnamed: 20                     0\n",
       "Unnamed: 21                     0\n",
       "Unnamed: 22                     0\n",
       "Unnamed: 23                     0\n",
       "Unnamed: 24                     0\n",
       "dtype: int64"
      ]
     },
     "execution_count": 319,
     "metadata": {},
     "output_type": "execute_result"
    }
   ],
   "source": [
    "dataset[dataset.Classificacao=='Positivo'].count()"
   ]
  },
  {
   "cell_type": "code",
   "execution_count": 320,
   "id": "5b65dbba",
   "metadata": {},
   "outputs": [
    {
     "data": {
      "text/plain": [
       "Unnamed: 0                   2446\n",
       "Created At                   2446\n",
       "Text                         2446\n",
       "Geo Coordinates.latitude        1\n",
       "Geo Coordinates.longitude       1\n",
       "User Location                1659\n",
       "Username                     2446\n",
       "User Screen Name             2446\n",
       "Retweet Count                2446\n",
       "Classificacao                2446\n",
       "Observação                      0\n",
       "Unnamed: 10                     0\n",
       "Unnamed: 11                     0\n",
       "Unnamed: 12                     0\n",
       "Unnamed: 13                     0\n",
       "Unnamed: 14                     0\n",
       "Unnamed: 15                     0\n",
       "Unnamed: 16                     0\n",
       "Unnamed: 17                     0\n",
       "Unnamed: 18                     0\n",
       "Unnamed: 19                     0\n",
       "Unnamed: 20                     0\n",
       "Unnamed: 21                     0\n",
       "Unnamed: 22                     0\n",
       "Unnamed: 23                     0\n",
       "Unnamed: 24                     0\n",
       "dtype: int64"
      ]
     },
     "execution_count": 320,
     "metadata": {},
     "output_type": "execute_result"
    }
   ],
   "source": [
    "dataset[dataset.Classificacao=='Negativo'].count()"
   ]
  },
  {
   "cell_type": "code",
   "execution_count": 321,
   "id": "344241bf",
   "metadata": {},
   "outputs": [
    {
     "data": {
      "text/plain": [
       "<AxesSubplot:>"
      ]
     },
     "execution_count": 321,
     "metadata": {},
     "output_type": "execute_result"
    },
    {
     "data": {
      "image/png": "[encoded data removed]",
      "text/plain": [
       "<Figure size 432x288 with 1 Axes>"
      ]
     },
     "metadata": {
      "needs_background": "light"
     },
     "output_type": "display_data"
    }
   ],
   "source": [
    "%matplotlib inline\n",
    "dataset.Classificacao.value_counts().plot(kind='bar')"
   ]
  },
  {
   "cell_type": "code",
   "execution_count": 322,
   "id": "b547de88",
   "metadata": {},
   "outputs": [
    {
     "data": {
      "text/plain": [
       "Unnamed: 0                   8199\n",
       "Created At                   8199\n",
       "Text                         8199\n",
       "Geo Coordinates.latitude      104\n",
       "Geo Coordinates.longitude     104\n",
       "User Location                5489\n",
       "Username                     8199\n",
       "User Screen Name             8199\n",
       "Retweet Count                8199\n",
       "Classificacao                8199\n",
       "Observação                      1\n",
       "Unnamed: 10                     0\n",
       "Unnamed: 11                     0\n",
       "Unnamed: 12                     0\n",
       "Unnamed: 13                     0\n",
       "Unnamed: 14                     0\n",
       "Unnamed: 15                     0\n",
       "Unnamed: 16                     0\n",
       "Unnamed: 17                     0\n",
       "Unnamed: 18                     0\n",
       "Unnamed: 19                     0\n",
       "Unnamed: 20                     0\n",
       "Unnamed: 21                     0\n",
       "Unnamed: 22                     0\n",
       "Unnamed: 23                     0\n",
       "Unnamed: 24                     0\n",
       "dtype: int64"
      ]
     },
     "execution_count": 322,
     "metadata": {},
     "output_type": "execute_result"
    }
   ],
   "source": [
    "dataset.count()"
   ]
  },
  {
   "cell_type": "markdown",
   "id": "db7cdcc6",
   "metadata": {},
   "source": [
    "## Pre-Processamento dos Dados"
   ]
  },
  {
   "cell_type": "markdown",
   "id": "bf8f7e9e",
   "metadata": {},
   "source": [
    "* Remove linhas duplicadas na base de dados\n",
    "    - Problema na coleta dos dados.\n",
    "* Remove Stopwords\n",
    "* Faz Stemming nos dados\n",
    "* Remove caracteres indesejados como links, pontuação etc."
   ]
  },
  {
   "cell_type": "code",
   "execution_count": 323,
   "id": "21c30383",
   "metadata": {},
   "outputs": [],
   "source": [
    "# Remove linhas duplicadas\n",
    "dataset.drop_duplicates(['Text'], inplace=True)"
   ]
  },
  {
   "cell_type": "code",
   "execution_count": 324,
   "id": "e0e3f11f",
   "metadata": {},
   "outputs": [
    {
     "data": {
      "text/plain": [
       "5765"
      ]
     },
     "execution_count": 324,
     "metadata": {},
     "output_type": "execute_result"
    }
   ],
   "source": [
    "dataset.Text.count()"
   ]
  },
  {
   "cell_type": "code",
   "execution_count": 326,
   "id": "339a4dda",
   "metadata": {},
   "outputs": [],
   "source": [
    "# Remove colunas vazias\n",
    "dataset.dropna(axis= 1, inplace=True)"
   ]
  },
  {
   "cell_type": "code",
   "execution_count": 338,
   "id": "8d458761",
   "metadata": {},
   "outputs": [],
   "source": [
    "# Remove coluna \"Unnamed: 0\"\n",
    "dataset.drop([\"Unnamed: 0\"], axis= 1, inplace=True)"
   ]
  },
  {
   "cell_type": "code",
   "execution_count": 339,
   "id": "b9ed7a66",
   "metadata": {},
   "outputs": [
    {
     "data": {
      "text/html": [
       "<div>\n",
       "<style scoped>\n",
       "    .dataframe tbody tr th:only-of-type {\n",
       "        vertical-align: middle;\n",
       "    }\n",
       "\n",
       "    .dataframe tbody tr th {\n",
       "        vertical-align: top;\n",
       "    }\n",
       "\n",
       "    .dataframe thead th {\n",
       "        text-align: right;\n",
       "    }\n",
       "</style>\n",
       "<table border=\"1\" class=\"dataframe\">\n",
       "  <thead>\n",
       "    <tr style=\"text-align: right;\">\n",
       "      <th></th>\n",
       "      <th>Created At</th>\n",
       "      <th>Text</th>\n",
       "      <th>Username</th>\n",
       "      <th>User Screen Name</th>\n",
       "      <th>Retweet Count</th>\n",
       "      <th>Classificacao</th>\n",
       "    </tr>\n",
       "  </thead>\n",
       "  <tbody>\n",
       "    <tr>\n",
       "      <th>0</th>\n",
       "      <td>Sun Jan 08 01:22:05 +0000 2017</td>\n",
       "      <td>���⛪ @ Catedral de Santo Antônio - Governador ...</td>\n",
       "      <td>Leonardo C Schneider</td>\n",
       "      <td>LeoCSchneider</td>\n",
       "      <td>0</td>\n",
       "      <td>Neutro</td>\n",
       "    </tr>\n",
       "    <tr>\n",
       "      <th>1</th>\n",
       "      <td>Sun Jan 08 01:49:01 +0000 2017</td>\n",
       "      <td>� @ Governador Valadares, Minas Gerais https:/...</td>\n",
       "      <td>Wândell</td>\n",
       "      <td>klefnews</td>\n",
       "      <td>0</td>\n",
       "      <td>Neutro</td>\n",
       "    </tr>\n",
       "    <tr>\n",
       "      <th>2</th>\n",
       "      <td>Sun Jan 08 01:01:46 +0000 2017</td>\n",
       "      <td>�� @ Governador Valadares, Minas Gerais https:...</td>\n",
       "      <td>Wândell</td>\n",
       "      <td>klefnews</td>\n",
       "      <td>0</td>\n",
       "      <td>Neutro</td>\n",
       "    </tr>\n",
       "    <tr>\n",
       "      <th>3</th>\n",
       "      <td>Wed Jan 04 21:43:51 +0000 2017</td>\n",
       "      <td>��� https://t.co/BnDsO34qK0</td>\n",
       "      <td>Ana estudando</td>\n",
       "      <td>estudandoconcur</td>\n",
       "      <td>0</td>\n",
       "      <td>Neutro</td>\n",
       "    </tr>\n",
       "    <tr>\n",
       "      <th>4</th>\n",
       "      <td>Mon Jan 09 15:08:21 +0000 2017</td>\n",
       "      <td>��� PSOL vai questionar aumento de vereadores ...</td>\n",
       "      <td>Emily</td>\n",
       "      <td>Milly777</td>\n",
       "      <td>0</td>\n",
       "      <td>Negativo</td>\n",
       "    </tr>\n",
       "  </tbody>\n",
       "</table>\n",
       "</div>"
      ],
      "text/plain": [
       "                       Created At  \\\n",
       "0  Sun Jan 08 01:22:05 +0000 2017   \n",
       "1  Sun Jan 08 01:49:01 +0000 2017   \n",
       "2  Sun Jan 08 01:01:46 +0000 2017   \n",
       "3  Wed Jan 04 21:43:51 +0000 2017   \n",
       "4  Mon Jan 09 15:08:21 +0000 2017   \n",
       "\n",
       "                                                Text              Username  \\\n",
       "0  ���⛪ @ Catedral de Santo Antônio - Governador ...  Leonardo C Schneider   \n",
       "1  � @ Governador Valadares, Minas Gerais https:/...               Wândell   \n",
       "2  �� @ Governador Valadares, Minas Gerais https:...               Wândell   \n",
       "3                        ��� https://t.co/BnDsO34qK0         Ana estudando   \n",
       "4  ��� PSOL vai questionar aumento de vereadores ...                 Emily   \n",
       "\n",
       "  User Screen Name  Retweet Count Classificacao  \n",
       "0    LeoCSchneider              0        Neutro  \n",
       "1         klefnews              0        Neutro  \n",
       "2         klefnews              0        Neutro  \n",
       "3  estudandoconcur              0        Neutro  \n",
       "4         Milly777              0      Negativo  "
      ]
     },
     "execution_count": 339,
     "metadata": {},
     "output_type": "execute_result"
    }
   ],
   "source": [
    "dataset.head(5)"
   ]
  },
  {
   "cell_type": "markdown",
   "id": "a0f88bc8",
   "metadata": {},
   "source": [
    "## Separando tweets e suas Classes"
   ]
  },
  {
   "cell_type": "code",
   "execution_count": 340,
   "id": "454df8fe",
   "metadata": {},
   "outputs": [],
   "source": [
    "tweets = dataset['Text']\n",
    "classes = dataset['Classificacao']"
   ]
  },
  {
   "cell_type": "markdown",
   "id": "9543130d",
   "metadata": {},
   "source": [
    "**Instala bibliotecas e baixa a base de dados**"
   ]
  },
  {
   "cell_type": "code",
   "execution_count": null,
   "id": "4fed1d63",
   "metadata": {},
   "outputs": [],
   "source": [
    "import nltk\n",
    "nltk.download('stopwords')\n",
    "nltk.download('rslp')"
   ]
  },
  {
   "cell_type": "markdown",
   "id": "8a452c6a",
   "metadata": {},
   "source": [
    "**Funções de Pre-processamento de dados**"
   ]
  },
  {
   "cell_type": "code",
   "execution_count": 343,
   "id": "6333f74a",
   "metadata": {},
   "outputs": [],
   "source": [
    "# StopWords: Palavras ou termos que são muito usadas mas normalmente não tem nenhum significado\n",
    "\n",
    "def RemoveStopWords(instancia):\n",
    "    stopwords = set(nltk.corpus.stopwords.words('portuguese'))\n",
    "    palavras = [i for i in instancia.split() if not i in stopwords]\n",
    "    return (\" \".join(palavras))"
   ]
  },
  {
   "cell_type": "code",
   "execution_count": null,
   "id": "a99cfd69",
   "metadata": {},
   "outputs": [],
   "source": [
    "# Stemming: reduz uma palavra ao seu radical\n",
    "\n",
    "def Stemming(instancia):\n",
    "    stemmer = nltk.stem.RSLPStemmer()\n",
    "    palavras = []\n",
    "    for w in instancia.split():\n",
    "        palavras.append(stemmer.stem(w))\n",
    "    return (\" \".join(palavras))"
   ]
  },
  {
   "cell_type": "code",
   "execution_count": 346,
   "id": "965745b4",
   "metadata": {},
   "outputs": [],
   "source": [
    "# Remove links, pontos, virgulas,ponto e virgulas dos tweets\n",
    "\n",
    "def Limpeza_dados(instancia):\n",
    "    instancia = re.sub(r\"http\\S+\", \"\", instancia).lower().replace('.','').replace(';','').replace('-','').replace(':','').replace(')','').replace('(','')\n",
    "    return (instancia)"
   ]
  },
  {
   "cell_type": "markdown",
   "id": "43424eda",
   "metadata": {},
   "source": [
    "**Entenda como funciona cada função**"
   ]
  },
  {
   "cell_type": "code",
   "execution_count": 344,
   "id": "9188994c",
   "metadata": {},
   "outputs": [
    {
     "data": {
      "text/plain": [
       "'Eu gosto partido, votaria novamente nesse governante!'"
      ]
     },
     "execution_count": 344,
     "metadata": {},
     "output_type": "execute_result"
    }
   ],
   "source": [
    "RemoveStopWords('Eu não gosto do partido, e também não votaria novamente nesse governante!')"
   ]
  },
  {
   "cell_type": "code",
   "execution_count": 345,
   "id": "63505959",
   "metadata": {},
   "outputs": [
    {
     "data": {
      "text/plain": [
       "'eu não gost do partido, e também não vot nov ness governante!'"
      ]
     },
     "execution_count": 345,
     "metadata": {},
     "output_type": "execute_result"
    }
   ],
   "source": [
    "Stemming('Eu não gosto do partido, e também não votaria novamente nesse governante!')"
   ]
  },
  {
   "cell_type": "code",
   "execution_count": 347,
   "id": "061c8700",
   "metadata": {},
   "outputs": [
    {
     "data": {
      "text/plain": [
       "'assita aqui o video do governador falando sobre a cemig   '"
      ]
     },
     "execution_count": 347,
     "metadata": {},
     "output_type": "execute_result"
    }
   ],
   "source": [
    "Limpeza_dados('Assita aqui o video do Governador falando sobre a CEMIG https://www.uol.com.br :) ;)')"
   ]
  },
  {
   "cell_type": "markdown",
   "id": "0bc79c41",
   "metadata": {},
   "source": [
    "**Aplica as 3 funções de Pre-processamento nos dados**"
   ]
  },
  {
   "cell_type": "code",
   "execution_count": 348,
   "id": "287a5ba1",
   "metadata": {},
   "outputs": [],
   "source": [
    "def Preprocessing(instancia):\n",
    "    stemmer = nltk.stem.RSLPStemmer()\n",
    "    instancia = re.sub(r\"http\\S+\", \"\", instancia).lower().replace('.','').replace(';','').replace('-','').replace(':','').replace(')','')\n",
    "    stopwords = set(nltk.corpus.stopwords.words('portuguese'))\n",
    "    palavras = [stemmer.stem(i) for i in instancia.split() if not i in stopwords]\n",
    "    return (\" \".join(palavras))\n",
    "\n",
    "# Aplica a função em todos os dados:\n",
    "tweets = [Preprocessing(i) for i in tweets]"
   ]
  },
  {
   "cell_type": "code",
   "execution_count": 349,
   "id": "e359d3c7",
   "metadata": {},
   "outputs": [
    {
     "data": {
      "text/plain": [
       "'gost partido, vot nov ness govern assit vide aqu'"
      ]
     },
     "execution_count": 349,
     "metadata": {},
     "output_type": "execute_result"
    }
   ],
   "source": [
    "Preprocessing('Eu não gosto do partido, e também não votaria novamente nesse governante. Assita o video aqui https:// :)')"
   ]
  },
  {
   "cell_type": "markdown",
   "id": "d95e939b",
   "metadata": {},
   "source": [
    "**Visualize os dados e veja como ficou após o pré-processamento**"
   ]
  },
  {
   "cell_type": "code",
   "execution_count": 350,
   "id": "a3315c17",
   "metadata": {},
   "outputs": [
    {
     "data": {
      "text/plain": [
       "['���⛪ @ catedr sant antôni govern valadares/mg',\n",
       " '� @ govern valadares, min geral',\n",
       " '�� @ govern valadares, min geral',\n",
       " '���',\n",
       " '��� psol vai quest aument vere prefeit bh justiç poli est min',\n",
       " '\" bom band morto\" deput cab júli conden fic ineleg 10 ano poli est min',\n",
       " '\"e 25% min diz torc tim nenhum,mesm dentr est atléticomg cruz pq?\"',\n",
       " '\"a gigantesc barb mal\" destaqu cadern cult est min',\n",
       " '\"bb govern min tr disput sobr depósit judiciais\"',\n",
       " '\"com vc bh fic pequena!\" bel horizont (pron [bɛloɾiˈzõntʃi][10] capit est mg, áre aproximad 331 km²',\n",
       " '\"daí gent visit govern valadares\" \"qu lug eh mãe?\" \"mg, gent um parent la\" man ond q parent',\n",
       " '\"é bonit bonita\" #latergr #ibiturun #hom @ govern valadares, min geral',\n",
       " '\"err desconhecido\" mato! aliás, secret estad fazend tá assim mg precis dinh não, governador?',\n",
       " '\"la la land cant estações\" arras glob our est min',\n",
       " '\"la la land cant estações\" arras glob our est min',\n",
       " '\"lo abusos, aun en el est má sólido, son min sord tard tempr estallan\" joseph sanialdubay',\n",
       " '\"mesm dinh caix govern min geral compr 2 (doil helicópteros\" doi helicópter min geral #2017 s1',\n",
       " '\"model seguranç legado\", diz cláudi beat poli est min',\n",
       " '\"model seguranç legado\", diz cláudi beat poli est min',\n",
       " '\"model seguranç legado\", diz cláudi beat poli est min',\n",
       " '\"o govern min geral coment assunt \"',\n",
       " '\"o govern feder public dia 27 dezembr 2016, med provisór 764/16 permit diferenci',\n",
       " '\"políc feder acab divulg encontr prov apart lula, 4ª série\" jorn est min',\n",
       " '\"pra estação\" lot nest sáb ver bh geral est min',\n",
       " '\"represent ferrament monitor educ red estad minas, secret est',\n",
       " '\"us aeronav pertenc est mg, domingo, p/ fim pessoais, clar desvi finalidade\"',\n",
       " '\"vou post uma curios sobr corp humano\" *o jap men est min gerais* ????¿¿¿?¿',\n",
       " '#acordaminas!!! govern fern pimentel, ser flagr us helicópter est mg',\n",
       " '#acordaminas!!!! pov min pé bund dess canalh',\n",
       " '#alert nom cee utiliz golp est',\n",
       " '#bet #betalab #mg afili glob apresent am demit após critic governador…',\n",
       " '#bet #betalab #mg cao presídi am ped apoi uni seil dia após massacr',\n",
       " '#bet #betalab #mg cao presídi tem cármen lúc reún debat cris',\n",
       " '#bet #betalab #mg cris carcerár govern rora ped forç nacion tem',\n",
       " '#bet #betalab #mg cris carcerár secret sp diz hav guerr facç país',\n",
       " '#bet #betalab #mg cris polít df agrav rollemberg exon vicegovern cargo… #timbet #rt #brasil',\n",
       " '#bet #betalab #mg escal viol presídi am ped apoi forç nacional…',\n",
       " '#bet #betalab #mg escal viol crim organiz brasil disput 27…',\n",
       " '#bet #betalab #mg est afirm ter sid notific apes decis judicial, reajuste……',\n",
       " '#bet #betalab #mg est espírit paulist \"voz\" trânsito, buzin reflet pressa,……',\n",
       " '#bet #betalab #mg est fal part pmdb qu barr vet tem negoci de……',\n",
       " '#bet #betalab #mg exministr outr serv pt mantêm carg estratégicos… #timbet #rt #brasil',\n",
       " \"#bet #betalab #mg expresid câm justiç suíç vê 'indíci concretos' contra…\",\n",
       " '#bet #betalab #mg govern calam financ bb avis justiç min tem…',\n",
       " \"#bet #betalab #mg sobr massacr pf facç 'cel comando' dentr prisão…\",\n",
       " '#bet #betalab #mg marketing vet med pae doaç sang capoe 1ª……',\n",
       " '#bet #betalab #mg massacr presídi manau govern am rebat ministr justiç e… #timbet #rt #brasil',\n",
       " '#bet #betalab #mg mudanç propost govern reform lib trabalh 12 hor alguns……',\n",
       " '#bet #betalab #mg muit págin investig \"qg\" lav jat reún 30 milhões……',\n",
       " '#bet #betalab #mg últ doi ano govern pag r$ 2,4 bi alv lav jat']"
      ]
     },
     "execution_count": 350,
     "metadata": {},
     "output_type": "execute_result"
    }
   ],
   "source": [
    "tweets[:50]"
   ]
  },
  {
   "cell_type": "markdown",
   "id": "9807c771",
   "metadata": {},
   "source": [
    "## Criando o modelo"
   ]
  },
  {
   "cell_type": "markdown",
   "id": "d690b8c9",
   "metadata": {},
   "source": [
    "**Instancia o objeto que faz a vetorização dos dados de texto**"
   ]
  },
  {
   "cell_type": "code",
   "execution_count": 351,
   "id": "93d31514",
   "metadata": {},
   "outputs": [],
   "source": [
    "vectorizer = CountVectorizer(analyzer=\"word\")"
   ]
  },
  {
   "cell_type": "markdown",
   "id": "236027c1",
   "metadata": {},
   "source": [
    "**Aplica o vetorizador nos dados de texto**"
   ]
  },
  {
   "cell_type": "code",
   "execution_count": 352,
   "id": "d890da34",
   "metadata": {},
   "outputs": [
    {
     "data": {
      "text/plain": [
       "scipy.sparse.csr.csr_matrix"
      ]
     },
     "execution_count": 352,
     "metadata": {},
     "output_type": "execute_result"
    }
   ],
   "source": [
    "freq_tweets = vectorizer.fit_transform(tweets)\n",
    "type(freq_tweets)"
   ]
  },
  {
   "cell_type": "code",
   "execution_count": 353,
   "id": "174523e1",
   "metadata": {},
   "outputs": [
    {
     "data": {
      "text/plain": [
       "MultinomialNB()"
      ]
     },
     "execution_count": 353,
     "metadata": {},
     "output_type": "execute_result"
    }
   ],
   "source": [
    "modelo = MultinomialNB()\n",
    "modelo.fit(freq_tweets,classes)"
   ]
  },
  {
   "cell_type": "markdown",
   "id": "b7b29baa",
   "metadata": {},
   "source": [
    "**Formato (Linhas, Colunas) da matriz**"
   ]
  },
  {
   "cell_type": "code",
   "execution_count": 354,
   "id": "2df18975",
   "metadata": {},
   "outputs": [
    {
     "data": {
      "text/plain": [
       "(5765, 5903)"
      ]
     },
     "execution_count": 354,
     "metadata": {},
     "output_type": "execute_result"
    }
   ],
   "source": [
    "freq_tweets.shape"
   ]
  },
  {
   "cell_type": "markdown",
   "id": "6f78bb8a",
   "metadata": {},
   "source": [
    "**Matriz**"
   ]
  },
  {
   "cell_type": "code",
   "execution_count": 355,
   "id": "70ed3fbd",
   "metadata": {},
   "outputs": [
    {
     "data": {
      "text/plain": [
       "array([[0, 0, 0, ..., 0, 0, 0],\n",
       "       [0, 0, 0, ..., 0, 0, 0],\n",
       "       [0, 0, 0, ..., 0, 0, 0],\n",
       "       ...,\n",
       "       [0, 0, 0, ..., 0, 0, 0],\n",
       "       [0, 0, 0, ..., 0, 0, 0],\n",
       "       [0, 0, 0, ..., 0, 0, 0]], dtype=int64)"
      ]
     },
     "execution_count": 355,
     "metadata": {},
     "output_type": "execute_result"
    }
   ],
   "source": [
    "freq_tweets.A"
   ]
  },
  {
   "cell_type": "markdown",
   "id": "ab4586e2",
   "metadata": {},
   "source": [
    "**Testando o modelo com algumas instâncias simples**"
   ]
  },
  {
   "cell_type": "code",
   "execution_count": 356,
   "id": "01e7b9b6",
   "metadata": {},
   "outputs": [],
   "source": [
    "# defina instâncias de teste dentro de uma lista\n",
    "testes = ['Esse governo está no início, vamos ver o que vai dar',\n",
    "          'Estou muito feliz com o governo de Minas esse ano',\n",
    "          'O estado de Minas Gerais decretou calamidade financeira!!!',\n",
    "          'A segurança desse país está deixando a desejar',\n",
    "          'O governador de Minas é mais uma vez do PT']"
   ]
  },
  {
   "cell_type": "markdown",
   "id": "a2a57eaf",
   "metadata": {},
   "source": [
    "**Aplica a função de Pré-processamento nos dados**"
   ]
  },
  {
   "cell_type": "code",
   "execution_count": 357,
   "id": "c41ec595",
   "metadata": {},
   "outputs": [],
   "source": [
    "testes = [Preprocessing(i) for i in testes]"
   ]
  },
  {
   "cell_type": "code",
   "execution_count": 358,
   "id": "4460570b",
   "metadata": {},
   "outputs": [],
   "source": [
    "# Transforma os dados de teste em vetores de palavras.\n",
    "freq_testes = vectorizer.transform(testes)"
   ]
  },
  {
   "cell_type": "code",
   "execution_count": 359,
   "id": "8a58c340",
   "metadata": {},
   "outputs": [
    {
     "name": "stdout",
     "output_type": "stream",
     "text": [
      "govern início, vam ver vai dar, Neutro\n",
      "feliz govern min ano, Neutro\n",
      "est min geral decret calam financeira!!!, Negativo\n",
      "seguranç dess país deix desej, Neutro\n",
      "govern min vez pt, Negativo\n"
     ]
    }
   ],
   "source": [
    "# Fazendo a classificação com o modelo treinado.\n",
    "for t, c in zip (testes,modelo.predict(freq_testes)):\n",
    "    print (t +\", \"+ c)"
   ]
  },
  {
   "cell_type": "code",
   "execution_count": 360,
   "id": "347dda52",
   "metadata": {},
   "outputs": [
    {
     "name": "stdout",
     "output_type": "stream",
     "text": [
      "['Negativo' 'Neutro' 'Positivo']\n"
     ]
    },
    {
     "data": {
      "text/plain": [
       "array([[0.12, 0.88, 0.  ],\n",
       "       [0.02, 0.96, 0.02],\n",
       "       [1.  , 0.  , 0.  ],\n",
       "       [0.01, 0.98, 0.01],\n",
       "       [0.67, 0.32, 0.  ]])"
      ]
     },
     "execution_count": 360,
     "metadata": {},
     "output_type": "execute_result"
    }
   ],
   "source": [
    "# Probabilidades de cada classe\n",
    "print (modelo.classes_)\n",
    "modelo.predict_proba(freq_testes).round(2)"
   ]
  },
  {
   "cell_type": "markdown",
   "id": "0c18f6bb",
   "metadata": {},
   "source": [
    "## Função de Tags de Negações"
   ]
  },
  {
   "cell_type": "markdown",
   "id": "d649086f",
   "metadata": {},
   "source": [
    "* Acrescenta uma tag _NEG encontrada após um 'não'.\n",
    "* Objetivo é dar mais peso para o modelo identificar uma inversão de sentimento da frase.\n",
    "* Exemplos: \n",
    "    - Eu gosto de cachorros, positivo.\n",
    "    - Eu **não** gosto de cachorros, negativo."
   ]
  },
  {
   "cell_type": "code",
   "execution_count": 361,
   "id": "318bfdba",
   "metadata": {},
   "outputs": [],
   "source": [
    "def marque_negacao(texto):\n",
    "    negacoes = ['não','not']\n",
    "    negacao_detectada = False\n",
    "    resultado = []\n",
    "    palavras = texto.split()\n",
    "    for p in palavras:\n",
    "        p = p.lower()\n",
    "        if negacao_detectada == True:\n",
    "            p = p + '_NEG'\n",
    "        if p in negacoes:\n",
    "            negacao_detectada = True\n",
    "        resultado.append(p)\n",
    "    return (\" \".join(resultado))"
   ]
  },
  {
   "cell_type": "markdown",
   "id": "56ca74ad",
   "metadata": {},
   "source": [
    "**Exemplos de utilização da tag de negações**"
   ]
  },
  {
   "cell_type": "code",
   "execution_count": 362,
   "id": "1c6007c0",
   "metadata": {},
   "outputs": [
    {
     "data": {
      "text/plain": [
       "'eu gosto do partido, votaria novamente nesse governante!'"
      ]
     },
     "execution_count": 362,
     "metadata": {},
     "output_type": "execute_result"
    }
   ],
   "source": [
    "marque_negacao('Eu gosto do partido, votaria novamente nesse governante!')"
   ]
  },
  {
   "cell_type": "code",
   "execution_count": 363,
   "id": "0e047530",
   "metadata": {},
   "outputs": [
    {
     "data": {
      "text/plain": [
       "'eu não gosto_NEG do_NEG partido,_NEG e_NEG também_NEG não_NEG votaria_NEG novamente_NEG nesse_NEG governante!_NEG'"
      ]
     },
     "execution_count": 363,
     "metadata": {},
     "output_type": "execute_result"
    }
   ],
   "source": [
    "marque_negacao('Eu Não gosto do partido, e também não votaria novamente nesse governante!')"
   ]
  },
  {
   "cell_type": "markdown",
   "id": "bac5dd77",
   "metadata": {},
   "source": [
    "## Criando modelos com Pipelines"
   ]
  },
  {
   "cell_type": "markdown",
   "id": "797dde73",
   "metadata": {},
   "source": [
    "* Pipelines são interessantes para reduzir código e automatizar fluxos"
   ]
  },
  {
   "cell_type": "code",
   "execution_count": 364,
   "id": "db4629be",
   "metadata": {},
   "outputs": [],
   "source": [
    "from sklearn.pipeline import Pipeline"
   ]
  },
  {
   "cell_type": "code",
   "execution_count": 365,
   "id": "f2f9312d",
   "metadata": {},
   "outputs": [],
   "source": [
    "pipeline_simples = Pipeline([\n",
    "  ('counts', CountVectorizer()),\n",
    "  ('classifier', MultinomialNB())\n",
    "])"
   ]
  },
  {
   "cell_type": "markdown",
   "id": "14c53d41",
   "metadata": {},
   "source": [
    "* Pipeline que atribui tag de negacoes nas palavras"
   ]
  },
  {
   "cell_type": "code",
   "execution_count": 366,
   "id": "a9fee84a",
   "metadata": {},
   "outputs": [],
   "source": [
    "pipeline_negacoes = Pipeline([\n",
    "  ('counts', CountVectorizer(tokenizer=lambda text: marque_negacao(text))),\n",
    "  ('classifier', MultinomialNB())\n",
    "])"
   ]
  },
  {
   "cell_type": "code",
   "execution_count": 367,
   "id": "c79a280f",
   "metadata": {},
   "outputs": [
    {
     "data": {
      "text/plain": [
       "Pipeline(steps=[('counts', CountVectorizer()), ('classifier', MultinomialNB())])"
      ]
     },
     "execution_count": 367,
     "metadata": {},
     "output_type": "execute_result"
    }
   ],
   "source": [
    "pipeline_simples.fit(tweets,classes)"
   ]
  },
  {
   "cell_type": "code",
   "execution_count": 368,
   "id": "ec3fd032",
   "metadata": {},
   "outputs": [
    {
     "data": {
      "text/plain": [
       "[('counts', CountVectorizer()), ('classifier', MultinomialNB())]"
      ]
     },
     "execution_count": 368,
     "metadata": {},
     "output_type": "execute_result"
    }
   ],
   "source": [
    "pipeline_simples.steps"
   ]
  },
  {
   "cell_type": "markdown",
   "id": "655b3d96",
   "metadata": {},
   "source": [
    "* Gera o modelo de negações"
   ]
  },
  {
   "cell_type": "code",
   "execution_count": 369,
   "id": "33cccd32",
   "metadata": {},
   "outputs": [
    {
     "data": {
      "text/plain": [
       "Pipeline(steps=[('counts',\n",
       "                 CountVectorizer(tokenizer=<function <lambda> at 0x000001B6A7C21940>)),\n",
       "                ('classifier', MultinomialNB())])"
      ]
     },
     "execution_count": 369,
     "metadata": {},
     "output_type": "execute_result"
    }
   ],
   "source": [
    "pipeline_negacoes.fit(tweets,classes)"
   ]
  },
  {
   "cell_type": "markdown",
   "id": "d7dd5814",
   "metadata": {},
   "source": [
    "* Etapas do pipeline"
   ]
  },
  {
   "cell_type": "code",
   "execution_count": 370,
   "id": "15a1fb25",
   "metadata": {},
   "outputs": [
    {
     "data": {
      "text/plain": [
       "[('counts',\n",
       "  CountVectorizer(tokenizer=<function <lambda> at 0x000001B6A7C21940>)),\n",
       " ('classifier', MultinomialNB())]"
      ]
     },
     "execution_count": 370,
     "metadata": {},
     "output_type": "execute_result"
    }
   ],
   "source": [
    "pipeline_negacoes.steps"
   ]
  },
  {
   "cell_type": "markdown",
   "id": "e27a415c",
   "metadata": {},
   "source": [
    "## Validando os Modelos com Validação Cruzada"
   ]
  },
  {
   "cell_type": "markdown",
   "id": "e42ee685",
   "metadata": {},
   "source": [
    "* Fazendo o cross validation do modelo"
   ]
  },
  {
   "cell_type": "code",
   "execution_count": 371,
   "id": "25d91080",
   "metadata": {},
   "outputs": [],
   "source": [
    "resultados = cross_val_predict(pipeline_simples, tweets, classes, cv=10)"
   ]
  },
  {
   "cell_type": "markdown",
   "id": "08e609cb",
   "metadata": {},
   "source": [
    "* Medindo a acurácia média do modelo"
   ]
  },
  {
   "cell_type": "code",
   "execution_count": 372,
   "id": "a1fd0baf",
   "metadata": {},
   "outputs": [
    {
     "data": {
      "text/plain": [
       "0.8631396357328708"
      ]
     },
     "execution_count": 372,
     "metadata": {},
     "output_type": "execute_result"
    }
   ],
   "source": [
    "metrics.accuracy_score(classes,resultados)"
   ]
  },
  {
   "cell_type": "markdown",
   "id": "ac183148",
   "metadata": {},
   "source": [
    "* Medidas de validação do modelo"
   ]
  },
  {
   "cell_type": "code",
   "execution_count": null,
   "id": "eeacf117",
   "metadata": {},
   "outputs": [],
   "source": [
    "sentimento=['Positivo','Negativo','Neutro']\n",
    "print (metrics.classification_report(classes,resultados,sentimento))"
   ]
  },
  {
   "cell_type": "markdown",
   "id": "30024b8c",
   "metadata": {},
   "source": [
    "* Matriz de confusão"
   ]
  },
  {
   "cell_type": "code",
   "execution_count": 374,
   "id": "c6682277",
   "metadata": {},
   "outputs": [
    {
     "name": "stdout",
     "output_type": "stream",
     "text": [
      "Predito   Negativo  Neutro  Positivo   All\n",
      "Real                                      \n",
      "Negativo       852      91         8   951\n",
      "Neutro         196    1674       104  1974\n",
      "Positivo        64     326      2450  2840\n",
      "All           1112    2091      2562  5765\n"
     ]
    }
   ],
   "source": [
    "print (pd.crosstab(classes, resultados, rownames=['Real'], colnames=['Predito'], margins=True))"
   ]
  },
  {
   "cell_type": "markdown",
   "id": "3a09be60",
   "metadata": {},
   "source": [
    "## Modelo com a Tag de Negações"
   ]
  },
  {
   "cell_type": "code",
   "execution_count": 375,
   "id": "3a15f0ec",
   "metadata": {},
   "outputs": [],
   "source": [
    "resultados = cross_val_predict(pipeline_negacoes, tweets, classes, cv=10)"
   ]
  },
  {
   "cell_type": "markdown",
   "id": "afece40a",
   "metadata": {},
   "source": [
    "* Medindo a acurácia média do modelo"
   ]
  },
  {
   "cell_type": "code",
   "execution_count": 376,
   "id": "62c72e3a",
   "metadata": {},
   "outputs": [
    {
     "data": {
      "text/plain": [
       "0.6993928881179532"
      ]
     },
     "execution_count": 376,
     "metadata": {},
     "output_type": "execute_result"
    }
   ],
   "source": [
    "metrics.accuracy_score(classes,resultados)"
   ]
  },
  {
   "cell_type": "code",
   "execution_count": null,
   "id": "a538a79a",
   "metadata": {},
   "outputs": [],
   "source": [
    "sentimento=['Positivo','Negativo','Neutro']\n",
    "print (metrics.classification_report(classes,resultados,sentimento))"
   ]
  },
  {
   "cell_type": "markdown",
   "id": "f21f2f09",
   "metadata": {},
   "source": [
    "* Matriz de confusão"
   ]
  },
  {
   "cell_type": "code",
   "execution_count": 378,
   "id": "b883dc33",
   "metadata": {},
   "outputs": [
    {
     "name": "stdout",
     "output_type": "stream",
     "text": [
      "Predito   Negativo  Neutro  Positivo   All\n",
      "Real                                      \n",
      "Negativo       502     170       279   951\n",
      "Neutro         149    1169       656  1974\n",
      "Positivo       113     366      2361  2840\n",
      "All            764    1705      3296  5765\n"
     ]
    }
   ],
   "source": [
    "print (pd.crosstab(classes, resultados, rownames=['Real'], colnames=['Predito'], margins=True))"
   ]
  },
  {
   "cell_type": "markdown",
   "id": "43ada5e4",
   "metadata": {},
   "source": [
    "## Avaliando modelo com Bigrams"
   ]
  },
  {
   "cell_type": "code",
   "execution_count": 380,
   "id": "c6c46b3f",
   "metadata": {},
   "outputs": [
    {
     "data": {
      "text/plain": [
       "MultinomialNB()"
      ]
     },
     "execution_count": 380,
     "metadata": {},
     "output_type": "execute_result"
    }
   ],
   "source": [
    "vectorizer = CountVectorizer(ngram_range=(1,2))\n",
    "freq_tweets = vectorizer.fit_transform(tweets)\n",
    "modelo = MultinomialNB()\n",
    "modelo.fit(freq_tweets,classes)"
   ]
  },
  {
   "cell_type": "code",
   "execution_count": 381,
   "id": "e568b29e",
   "metadata": {},
   "outputs": [],
   "source": [
    "resultados = cross_val_predict(modelo, freq_tweets, classes, cv=10)"
   ]
  },
  {
   "cell_type": "code",
   "execution_count": 382,
   "id": "1234bf48",
   "metadata": {},
   "outputs": [
    {
     "data": {
      "text/plain": [
       "0.8659150043365135"
      ]
     },
     "execution_count": 382,
     "metadata": {},
     "output_type": "execute_result"
    }
   ],
   "source": [
    "metrics.accuracy_score(classes,resultados)"
   ]
  },
  {
   "cell_type": "code",
   "execution_count": null,
   "id": "2bc711ff",
   "metadata": {},
   "outputs": [],
   "source": [
    "sentimento=['Positivo','Negativo','Neutro']\n",
    "print (metrics.classification_report(classes,resultados,sentimento))"
   ]
  },
  {
   "cell_type": "code",
   "execution_count": 384,
   "id": "13d170f9",
   "metadata": {},
   "outputs": [
    {
     "name": "stdout",
     "output_type": "stream",
     "text": [
      "Predito   Negativo  Neutro  Positivo   All\n",
      "Real                                      \n",
      "Negativo       889      59         3   951\n",
      "Neutro         264    1621        89  1974\n",
      "Positivo       118     240      2482  2840\n",
      "All           1271    1920      2574  5765\n"
     ]
    }
   ],
   "source": [
    "print (pd.crosstab(classes, resultados, rownames=['Real'], colnames=['Predito'], margins=True))"
   ]
  },
  {
   "cell_type": "markdown",
   "id": "857b0796",
   "metadata": {},
   "source": [
    "## Considerações Finais"
   ]
  },
  {
   "cell_type": "markdown",
   "id": "f631717d",
   "metadata": {},
   "source": [
    "* Considere aumentar a quantidade de dados de treino.\n",
    "* Pela sua simplicidade o Naive Bayes pode ser usado perfeitamente como um algoritmo de Baseline.\n",
    "* Considere alterar os parâmetros do algoritmo."
   ]
  },
  {
   "cell_type": "code",
   "execution_count": null,
   "id": "2d61bcd7",
   "metadata": {},
   "outputs": [],
   "source": []
  }
 ],
 "metadata": {
  "kernelspec": {
   "display_name": "Python 3 (ipykernel)",
   "language": "python",
   "name": "python3"
  },
  "language_info": {
   "codemirror_mode": {
    "name": "ipython",
    "version": 3
   },
   "file_extension": ".py",
   "mimetype": "text/x-python",
   "name": "python",
   "nbconvert_exporter": "python",
   "pygments_lexer": "ipython3",
   "version": "3.9.7"
  }
 },
 "nbformat": 4,
 "nbformat_minor": 5
}
