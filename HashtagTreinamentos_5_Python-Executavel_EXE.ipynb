{
 "cells": [
  {
   "cell_type": "markdown",
   "id": "69aa1ec5",
   "metadata": {},
   "source": [
    "# Hashtag Treinamentos - Executável EXE"
   ]
  },
  {
   "cell_type": "markdown",
   "id": "a0fe5dc3",
   "metadata": {},
   "source": [
    "# - Módulo 30: Transformando Python em exe"
   ]
  },
  {
   "cell_type": "markdown",
   "id": "5ebb5d70",
   "metadata": {},
   "source": [
    "## Transformando Códigos em Python para Executáveis\n",
    "\n",
    "### Objetivo:\n",
    "\n",
    "Os arquivos do jupyter que temos até aqui no curso são scripts que podemos usar para rodar códigos e fazer diversas tarefas.\n",
    "\n",
    "Mas, algumas vezes, não seremos nós que iremos rodar os códigos e também não necessariamente o computador que vai executar o código não necessariamente tem python instalado.\n",
    "\n",
    "Por isso, podemos transformar esses códigos em arquivos .exe (executáveis que funcionam em qualquer computador).\n",
    "\n",
    "### Cuidados\n",
    "\n",
    "Para códigos simples, basta fazermos a conversão de python para executável, mas em muitos códigos, temos que pensar se precisamos fazer alguma adaptação.\n",
    "\n",
    "Ex: Se o nosso código abre algum arquivo do nosso computador, temos que tornar essa ação de abrir o arquivo algo que funcione em qualquer computador. \n",
    "\n",
    "Sempre precisamos olhar o código e pensar: ele funcionaria em qualquer computador? Tem alguma coisa aqui nele que impede de funcionar no computador de outro pessoa? Se necessário, fazemos as adaptações. Vamos aprender como.\n",
    "\n",
    "### Funcionamento:\n",
    "\n",
    "- Passo 1 - Seu código deve estar funcionando sem erros no jupyter\n",
    "\n",
    "- Passo 2 - Transformar o código jupyter em scripts python padrão (extensão .py). Seu código deve estar funcionando nesse formato também.\n",
    "\n",
    "- Passo 3 - Usar uma biblioteca de conversão (pyinstaller ou auto-py-to-exe) para transformar o código em executável.\n",
    "\n",
    "- Passo 4 - Testar e adaptar o que for necessário."
   ]
  },
  {
   "cell_type": "code",
   "execution_count": null,
   "id": "6195a0c7",
   "metadata": {},
   "outputs": [],
   "source": [
    "print('Daniel')"
   ]
  },
  {
   "cell_type": "markdown",
   "id": "9f4b0d3b",
   "metadata": {},
   "source": [
    "# Python para exe com códigos simples\n",
    "\n",
    "### Códigos que não interagem com outros arquivos ou ferramentas do computador\n",
    "\n",
    "Usaremos a biblioteca pyinstaller\n",
    "\n",
    "- Passo 1 - Instalar o pyinstaller\n",
    "\n",
    "- Passo 2 - Executar o pyinstaller\n",
    "\n",
    "pyinstaller -w nome_do_programa.py"
   ]
  },
  {
   "cell_type": "code",
   "execution_count": null,
   "id": "a1575a34",
   "metadata": {},
   "outputs": [],
   "source": [
    "#rodar o código de um programa que fazemos durante o curso que funcione. Exemplo o do outlook de enviar email\n",
    "from twilio.rest import Client\n",
    "\n",
    "account_sid = 'AC274236461c28f62d429961289af45b82'\n",
    "token = '6a2d1ea365d3674c749ce4cb7367d823'\n",
    "\n",
    "client = Client(account_sid, token)\n",
    "\n",
    "remetente = '+18126153399'\n",
    "destino = '+5521979253355'\n",
    "\n",
    "message = client.messages.create(\n",
    "    to=destino, \n",
    "    from_=remetente,\n",
    "    body=\"Teste Aula 01 EXE Daniel!\")\n",
    "\n",
    "print(message.sid)"
   ]
  },
  {
   "cell_type": "markdown",
   "id": "5bbec59c",
   "metadata": {},
   "source": [
    "### Atenção no resultado\n",
    "\n",
    "Repare que o programa final vai ficar extremamente pesado.\n",
    "\n",
    "Isso porque o pyinstaller vai incluir todas as bibliotecas que temos instaladas no programa final, para garantir que ele vai funcionar.\n",
    "\n",
    "Para evitar isso, precisaremos criar um ambiente virtual exclusivo para esse programa, vamos ver na prática como funciona na próxima aula"
   ]
  },
  {
   "cell_type": "markdown",
   "id": "db54c22f",
   "metadata": {},
   "source": [
    "### Observações Úteis\n",
    "\n",
    "- Se o nome do seu arquivo .py tiver mais de uma palavra, na hora de testar, coloque o nome dele entre aspas duplas.<br>Ex:  python \"Gabarito - SMS.py\"\n",
    "- Se o seu antivírus verificar o pyinstaller, não precisa se preocupar, é normal e tá tudo certo\n",
    "- Provavelmente a 1ª vez que você rodar o seu programa, o antivírus vai verificar ele também\n",
    "- A pasta dist é o que pode ser distribuído. Você pode compactar ela em um zip e mandar para quem você quiser"
   ]
  },
  {
   "cell_type": "markdown",
   "id": "fefd2705",
   "metadata": {},
   "source": [
    "# Diminuindo o tamanho do executável final - Ambiente Virtual\n",
    "\n",
    "### Objetivo\n",
    "\n",
    "Para diminuir o tamanho do arquivo a ser distribuído no final, vamos criar um ambiente virtual para garantir que teremos apenas as bibliotecas importantes.\n",
    "\n",
    "- Passo 1: Garantir que o código está funcionando\n",
    "- Passo 2: Criar o ambiente virtual\n",
    "- Passo 3: Executar o nosso código por dentro do ambiente virtual\n",
    "- Passo 4: Identificar erros e instalar bibliotecas que faltam, apenas as que o programa pede.\n",
    "- Passo 5: Instalar o pyinstaller e transformar em executável o programa Python"
   ]
  },
  {
   "cell_type": "code",
   "execution_count": null,
   "id": "8082f1f8",
   "metadata": {},
   "outputs": [],
   "source": [
    "#rodar o código de um programa que fazemos durante o curso que funcione. Exemplo o do outlook de enviar email\n",
    "from twilio.rest import Client\n",
    "\n",
    "account_sid = 'AC274236461c28f62d429961289af45b82'\n",
    "token = '6a2d1ea365d3674c749ce4cb7367d823'\n",
    "\n",
    "client = Client(account_sid, token)\n",
    "\n",
    "remetente = '+18126153399'\n",
    "destino = '+5521972793356'\n",
    "\n",
    "message = client.messages.create(\n",
    "    to=destino, \n",
    "    from_=remetente,\n",
    "    body=\"Teste Aula 02 EXE Daniel!\")\n",
    "\n",
    "print(message.sid)"
   ]
  },
  {
   "cell_type": "markdown",
   "id": "1978c189",
   "metadata": {},
   "source": [
    "# Python para executável em programas mais complexos\n",
    "\n",
    "### Objetivo:\n",
    "\n",
    "Muitas vezes nossos códigos puxam informações de outros arquivos ou, no caso de webscraping, usam outros arquivos como o chromedriver.exe para funcionar.\n",
    "\n",
    "Nesses casos, precisamos não só tomar alguns cuidados, mas também adaptar o nosso código para funcionar.\n",
    "\n",
    "### O que usaremos:\n",
    "\n",
    "- auto-py-to-exe para transformar o arquivo python em executável\n",
    "- pathlib ou os para adaptar todos os \"caminhos dos arquivos\"\n",
    "- Alternativamente, podemos usar o tkinter para permitir a gente escolher manualmente o arquivo, independente do computador que vamos rodar o programa\n",
    "\n",
    "Vamos ver como isso funciona na prática\n",
    "\n",
    "- Referências Úteis:\n",
    "    1. https://dev.to/eshleron/how-to-convert-py-to-exe-step-by-step-guide-3cfi\n",
    "    2. https://pypi.org/project/auto-py-to-exe/"
   ]
  },
  {
   "cell_type": "markdown",
   "id": "a6115f14",
   "metadata": {},
   "source": [
    "# > Passo a Passo - Pyinstaller\n",
    "\n",
    "### Criando ambiente virtual\n",
    "\n",
    "(Assim, o exe usara apenas as bibliotecas que realmente precisam para executar o seu programa)"
   ]
  },
  {
   "cell_type": "raw",
   "id": "264f19d4",
   "metadata": {},
   "source": [
    "- Acessar prompt Anaconda:\n",
    "conda create -n NOME_PROGRAMA.py python\n",
    "\n",
    "- Ativar o ambiente virtual:\n",
    "conda activate NOME_PROGRAMA.py\n",
    "\n",
    "- Caminhe até a pasta do arquivo:\n",
    "cd Downloads\n",
    "\n",
    "- Execute o programa:\n",
    "python NOME_PROGRAMA.py\n",
    "\n",
    "O ambiente virtual informará as únicas bibliotecas necessárias para instalação, já que o ambiente virtual está vazio.\n",
    "\n",
    "- Instale o pyinstaller para transformar o arquivo em um executável exe\n",
    "pip install pyinstaller\n",
    "\n",
    "- Transforme o arquivo em um executável exe\n",
    "pyinstaller -w NOME_PROGRAMA.py"
   ]
  },
  {
   "cell_type": "markdown",
   "id": "e6989495",
   "metadata": {},
   "source": [
    "# > Passo a Passo - auto-py-to-exe"
   ]
  },
  {
   "cell_type": "raw",
   "id": "d06c5382",
   "metadata": {},
   "source": [
    "- Acessar prompt Anaconda:\n",
    "- Instalar biblioteca auto-py-to-exe\n",
    "pip install auto-py-to-exe\n",
    "\n",
    "- Executar o programa:\n",
    "auto-py-to-exe\n",
    "\n",
    "- Por dentro do auto-py-to-exe:\n",
    "1) Selecione o script que irá transformar em executável (salvo em .py)\n",
    "2) Selecione: Um arquivo (somente) / Um diretório (pasta)\n",
    "3) Selecione: Console Based\n",
    "4) Selecione os arquivos externos necessários: Additional Files > Add Files > chromedriver.exe\n",
    "5) Selecione: Advanced > debug > imports\n",
    "6) Clique em: Convert .PY TO .EXE"
   ]
  },
  {
   "cell_type": "markdown",
   "id": "ea43efa2",
   "metadata": {},
   "source": [
    "# Como pegar os links de vídeos do youtube"
   ]
  },
  {
   "cell_type": "markdown",
   "id": "d1e22892",
   "metadata": {},
   "source": [
    "### Importações"
   ]
  },
  {
   "cell_type": "code",
   "execution_count": 2,
   "id": "f9a3e495",
   "metadata": {},
   "outputs": [],
   "source": [
    "#importar bibliotecas\n",
    "import time, urllib\n",
    "from IPython.display import display\n",
    "from selenium import webdriver \n",
    "import pandas as pd \n",
    "import numpy as np\n",
    "from selenium.webdriver.common.by import By \n",
    "from selenium.webdriver.support.ui import WebDriverWait \n",
    "from selenium.webdriver.support import expected_conditions as EC\n",
    "from selenium.webdriver.common.keys import Keys\n",
    "from selenium.common.exceptions import StaleElementReferenceException\n",
    "from tkinter import *\n",
    "import tkinter.filedialog\n",
    "from tkinter import messagebox"
   ]
  },
  {
   "cell_type": "markdown",
   "id": "5def2b92",
   "metadata": {},
   "source": [
    "### Pegando o arquivo em Excel do nosso computador "
   ]
  },
  {
   "cell_type": "code",
   "execution_count": 3,
   "id": "d69f1d7c",
   "metadata": {},
   "outputs": [
    {
     "data": {
      "text/html": [
       "<div>\n",
       "<style scoped>\n",
       "    .dataframe tbody tr th:only-of-type {\n",
       "        vertical-align: middle;\n",
       "    }\n",
       "\n",
       "    .dataframe tbody tr th {\n",
       "        vertical-align: top;\n",
       "    }\n",
       "\n",
       "    .dataframe thead th {\n",
       "        text-align: right;\n",
       "    }\n",
       "</style>\n",
       "<table border=\"1\" class=\"dataframe\">\n",
       "  <thead>\n",
       "    <tr style=\"text-align: right;\">\n",
       "      <th></th>\n",
       "      <th>Canais</th>\n",
       "    </tr>\n",
       "  </thead>\n",
       "  <tbody>\n",
       "    <tr>\n",
       "      <th>0</th>\n",
       "      <td>https://www.youtube.com/c/C%C3%B3digoQuantFina...</td>\n",
       "    </tr>\n",
       "    <tr>\n",
       "      <th>1</th>\n",
       "      <td>https://www.youtube.com/c/Matemateca</td>\n",
       "    </tr>\n",
       "  </tbody>\n",
       "</table>\n",
       "</div>"
      ],
      "text/plain": [
       "                                              Canais\n",
       "0  https://www.youtube.com/c/C%C3%B3digoQuantFina...\n",
       "1               https://www.youtube.com/c/Matemateca"
      ]
     },
     "metadata": {},
     "output_type": "display_data"
    }
   ],
   "source": [
    "# Criando uma janela para seleção do arquivo (com Tkinter)\n",
    "root= Tk()\n",
    "arquivo = tkinter.filedialog.askopenfilename(title = \"Selecione o Arquivo csv com Canais e Keywords\")\n",
    "root.destroy()\n",
    "\n",
    "# .askopenfilename: Método padrão para abrir a janela\n",
    "# .destroy(): para fechar a janela após a execução\n",
    "\n",
    "#ler csv\n",
    "buscas_df = pd.read_excel(arquivo)\n",
    "display(buscas_df.head())"
   ]
  },
  {
   "cell_type": "markdown",
   "id": "715bd26c",
   "metadata": {},
   "source": [
    "### Pegandos os links no youtube "
   ]
  },
  {
   "cell_type": "code",
   "execution_count": 4,
   "id": "5c35d27e",
   "metadata": {},
   "outputs": [
    {
     "name": "stdout",
     "output_type": "stream",
     "text": [
      "Pegamos 70 vídeos do Canal https://www.youtube.com/c/C%C3%B3digoQuantFinan%C3%A7asQuantitativas\n",
      "Pegamos 252 vídeos do Canal https://www.youtube.com/c/Matemateca\n"
     ]
    }
   ],
   "source": [
    "buscas_canais = buscas_df['Canais'].unique()\n",
    "# ler videos de todas as buscas\n",
    "driver = webdriver.Chrome() \n",
    "\n",
    "hrefs = []\n",
    "delay = 5\n",
    " \n",
    "# pegando os itens dos canais\n",
    "for canal in buscas_canais:\n",
    "    if canal is np.nan:\n",
    "        break\n",
    "    hrefs.append(canal)\n",
    "    driver.get(canal)\n",
    "    myElem = WebDriverWait(driver, delay).until(EC.presence_of_element_located((By.CLASS_NAME, 'tp-yt-paper-tab')))\n",
    "    time.sleep(2)\n",
    "    tab = driver.find_elements(By.CLASS_NAME, 'tp-yt-paper-tab')[1].click()\n",
    "    time.sleep(2)\n",
    "    altura = 0\n",
    "    nova_altura = 1\n",
    "    while nova_altura > altura:\n",
    "            altura = driver.execute_script(\"return document.documentElement.scrollHeight\")\n",
    "            driver.execute_script(\"window.scrollTo(0, \" + str(altura) + \");\")\n",
    "            time.sleep(3)\n",
    "            nova_altura = driver.execute_script(\"return document.documentElement.scrollHeight\")\n",
    "    videos = driver.find_elements(By.ID, 'thumbnail')\n",
    "    try:\n",
    "        for video in videos:\n",
    "            meu_link = video.get_attribute('href')\n",
    "            if meu_link:\n",
    "                if not 'googleadservices' in meu_link: \n",
    "                    hrefs.append(meu_link)\n",
    "    except StaleElementReferenceException:\n",
    "        time.sleep(2)\n",
    "        videos = driver.find_elements(By.ID, 'thumbnail')\n",
    "        for video in videos:\n",
    "            meu_link = video.get_attribute('href')\n",
    "            if meu_link:\n",
    "                if not 'googleadservices' in meu_link: \n",
    "                    hrefs.append(meu_link)\n",
    "    print('Pegamos {} vídeos do Canal {}'.format(len(videos), canal))\n",
    "\n",
    "driver.quit()"
   ]
  },
  {
   "cell_type": "markdown",
   "id": "cdb0adfc",
   "metadata": {},
   "source": [
    "### Gerando arquivo final "
   ]
  },
  {
   "cell_type": "code",
   "execution_count": 5,
   "id": "a3948ae3",
   "metadata": {},
   "outputs": [],
   "source": [
    "#salvando o resultado em um csv\n",
    "hrefs_df = pd.DataFrame(hrefs)\n",
    "hrefs_df.to_csv(r'Canais Prontos.csv', sep=',', encoding='utf-8')\n",
    "\n",
    "# Criando uma mensagem de finalização da execução do programa\n",
    "root= Tk()\n",
    "messagebox.showinfo(\"Programa Finalizado com Sucesso\", \"Seu arquivo csv foi gerado com sucesso na pasta do Programa\")\n",
    "root.destroy()"
   ]
  },
  {
   "cell_type": "code",
   "execution_count": null,
   "id": "6e70899d",
   "metadata": {},
   "outputs": [],
   "source": []
  }
 ],
 "metadata": {
  "kernelspec": {
   "display_name": "Python 3 (ipykernel)",
   "language": "python",
   "name": "python3"
  },
  "language_info": {
   "codemirror_mode": {
    "name": "ipython",
    "version": 3
   },
   "file_extension": ".py",
   "mimetype": "text/x-python",
   "name": "python",
   "nbconvert_exporter": "python",
   "pygments_lexer": "ipython3",
   "version": "3.9.7"
  }
 },
 "nbformat": 4,
 "nbformat_minor": 5
}
