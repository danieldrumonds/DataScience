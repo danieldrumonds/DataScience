{
 "cells": [
  {
   "cell_type": "markdown",
   "id": "e942071c",
   "metadata": {},
   "source": [
    "# ASIMOV - Python para DS e ML - Starter"
   ]
  },
  {
   "cell_type": "markdown",
   "id": "9861968c",
   "metadata": {},
   "source": [
    "## Python Starter - Fundamentos da Linguagem"
   ]
  },
  {
   "cell_type": "markdown",
   "id": "dd0975e4",
   "metadata": {},
   "source": [
    "# Capítulo 1.3.1 a 1.3.8: \n",
    "- Números,\n",
    "- Variáveis,\n",
    "- Strings e Indexação,\n",
    "- Listas,\n",
    "- Dicionários,\n",
    "- Tuplas."
   ]
  },
  {
   "cell_type": "markdown",
   "id": "b03e79dd",
   "metadata": {},
   "source": [
    "# Capítulo 1.3.9: Set e Booleanos"
   ]
  },
  {
   "cell_type": "code",
   "execution_count": 1,
   "id": "2a86a5e3",
   "metadata": {},
   "outputs": [],
   "source": [
    "import warnings\n",
    "warnings.filterwarnings('ignore')\n",
    "\n",
    "import matplotlib.pyplot as plt\n",
    "%matplotlib inline"
   ]
  },
  {
   "cell_type": "markdown",
   "id": "8150c03e",
   "metadata": {},
   "source": [
    "### Sets\n",
    "Os conjuntos são uma coleção não ordenada de elementos únicos. Podemos construí-los usando a função set(). \n",
    "Avançemos e façamos um conjunto para ver como funciona"
   ]
  },
  {
   "cell_type": "code",
   "execution_count": 2,
   "id": "664b3581",
   "metadata": {},
   "outputs": [],
   "source": [
    "x = set()"
   ]
  },
  {
   "cell_type": "code",
   "execution_count": 3,
   "id": "29f24f24",
   "metadata": {},
   "outputs": [],
   "source": [
    "# Adicionamos elementos com o método add().\n",
    "x.add(1)"
   ]
  },
  {
   "cell_type": "code",
   "execution_count": 4,
   "id": "f1dac577",
   "metadata": {},
   "outputs": [
    {
     "data": {
      "text/plain": [
       "{1}"
      ]
     },
     "execution_count": 4,
     "metadata": {},
     "output_type": "execute_result"
    }
   ],
   "source": [
    "x"
   ]
  },
  {
   "cell_type": "markdown",
   "id": "b1b6d782",
   "metadata": {},
   "source": [
    "Observe os colchetes. Isso não indica um dicionário! Embora você possa montar analogias como um set sendo um dicionário com apenas chaves.<BR>\n",
    "Sabemos que um conjunto tem apenas entradas únicas."
   ]
  },
  {
   "cell_type": "code",
   "execution_count": 5,
   "id": "8868f372",
   "metadata": {},
   "outputs": [],
   "source": [
    "# Adiciona um elemento novo\n",
    "x.add(2)"
   ]
  },
  {
   "cell_type": "code",
   "execution_count": 6,
   "id": "0c4f0f20",
   "metadata": {},
   "outputs": [
    {
     "data": {
      "text/plain": [
       "{1, 2}"
      ]
     },
     "execution_count": 6,
     "metadata": {},
     "output_type": "execute_result"
    }
   ],
   "source": [
    "x"
   ]
  },
  {
   "cell_type": "code",
   "execution_count": 7,
   "id": "653a5fd5",
   "metadata": {},
   "outputs": [],
   "source": [
    "# Adiciona o mesmo elemento\n",
    "x.add(1)"
   ]
  },
  {
   "cell_type": "code",
   "execution_count": 8,
   "id": "59906d70",
   "metadata": {},
   "outputs": [
    {
     "data": {
      "text/plain": [
       "{1, 2}"
      ]
     },
     "execution_count": 8,
     "metadata": {},
     "output_type": "execute_result"
    }
   ],
   "source": [
    "x"
   ]
  },
  {
   "cell_type": "markdown",
   "id": "f00fca77",
   "metadata": {},
   "source": [
    "Observe como ele não colocará mais 1 lá. Isso porque um conjunto apenas se ocupa de elementos exclusivos! <BR>\n",
    "Podemos transformar uma lista com múltiplos elementos repetidos para um conjunto para obter os elementos exclusivos."
   ]
  },
  {
   "cell_type": "code",
   "execution_count": 9,
   "id": "27905075",
   "metadata": {},
   "outputs": [],
   "source": [
    "# Cria uma lista com elementos repetidos\n",
    "l = [1,1,2,2,3,4,5,6,1,1]"
   ]
  },
  {
   "cell_type": "code",
   "execution_count": 10,
   "id": "91511404",
   "metadata": {},
   "outputs": [
    {
     "data": {
      "text/plain": [
       "{1, 2, 3, 4, 5, 6}"
      ]
     },
     "execution_count": 10,
     "metadata": {},
     "output_type": "execute_result"
    }
   ],
   "source": [
    "# Transforma em um set com elementos únicos\n",
    "set(l)"
   ]
  },
  {
   "cell_type": "markdown",
   "id": "ae162098",
   "metadata": {},
   "source": [
    "### Booleanos\n",
    "O Python possui também Booleanos (com True e False predefinidas que são basicamente apenas os números inteiros 1 e 0).<BR>\n",
    "Ele também possui um objeto reservado chamado None."
   ]
  },
  {
   "cell_type": "code",
   "execution_count": 11,
   "id": "37940830",
   "metadata": {},
   "outputs": [],
   "source": [
    "# Define um objeto como True\n",
    "a = True"
   ]
  },
  {
   "cell_type": "code",
   "execution_count": 12,
   "id": "1d95ff7c",
   "metadata": {},
   "outputs": [
    {
     "data": {
      "text/plain": [
       "True"
      ]
     },
     "execution_count": 12,
     "metadata": {},
     "output_type": "execute_result"
    }
   ],
   "source": [
    "a"
   ]
  },
  {
   "cell_type": "code",
   "execution_count": 13,
   "id": "3181b84d",
   "metadata": {},
   "outputs": [
    {
     "data": {
      "text/plain": [
       "False"
      ]
     },
     "execution_count": 13,
     "metadata": {},
     "output_type": "execute_result"
    }
   ],
   "source": [
    "# O output é boleano\n",
    "1 > 2"
   ]
  },
  {
   "cell_type": "markdown",
   "id": "1ec87bf8",
   "metadata": {},
   "source": [
    "# Capítulo 1.3.12: Exercício 1 - Estruturas de Dados"
   ]
  },
  {
   "cell_type": "markdown",
   "id": "968b9e8e",
   "metadata": {},
   "source": [
    "### Exercício 1\n",
    "Utilizando o built-in method input(), crie um programa que receba a altura e o peso de uma pessoa e imprima na tela o IMC da mesma."
   ]
  },
  {
   "cell_type": "code",
   "execution_count": 49,
   "id": "9be202aa",
   "metadata": {},
   "outputs": [
    {
     "name": "stdout",
     "output_type": "stream",
     "text": [
      "Digite a sua altura: 1.73\n",
      "Digite o seu peso: 107\n",
      "O seu IMC é: 35.75\n"
     ]
    }
   ],
   "source": [
    "altura = float(input(\"Digite a sua altura: \"))\n",
    "peso = float(input(\"Digite o seu peso: \"))\n",
    "\n",
    "IMC = peso / (altura**2)\n",
    "print(\"O seu IMC é: {:.2f}\".format(IMC))"
   ]
  },
  {
   "cell_type": "markdown",
   "id": "969026a2",
   "metadata": {},
   "source": [
    "### Exercício 2 \n",
    "Escreva um programa que pergunte o nome completo do usuário e cumprimente o mesmo pelo primeiro nome."
   ]
  },
  {
   "cell_type": "code",
   "execution_count": 51,
   "id": "546c647d",
   "metadata": {},
   "outputs": [
    {
     "name": "stdout",
     "output_type": "stream",
     "text": [
      "Informe o seu completo: Daniel Drumond Santos\n",
      "Oi Daniel, seja bem vindo!!!\n"
     ]
    }
   ],
   "source": [
    "nome = input(\"Informe o seu completo: \")\n",
    "primeiro_nome = nome.split()[0]\n",
    "\n",
    "print(\"Oi {}, seja bem vindo!!!\".format(primeiro_nome))"
   ]
  },
  {
   "cell_type": "markdown",
   "id": "cde3151e",
   "metadata": {},
   "source": [
    "### Exercício 3\n",
    "Desenho um código que extraia o domínio de um e-mail informado."
   ]
  },
  {
   "cell_type": "code",
   "execution_count": 50,
   "id": "e97dd06a",
   "metadata": {},
   "outputs": [
    {
     "name": "stdout",
     "output_type": "stream",
     "text": [
      "Informe o e-mail: drumondsantos@gmail.com\n",
      "O domínio do e-mail é: gmail.com\n"
     ]
    }
   ],
   "source": [
    "email = input(\"Informe o e-mail: \")\n",
    "dominio = email.split(\"@\")[-1]\n",
    "\n",
    "print(\"O domínio do e-mail é: {}\".format(dominio))"
   ]
  },
  {
   "cell_type": "markdown",
   "id": "273f7087",
   "metadata": {},
   "source": [
    "### Exercício 4 \n",
    "Faça um programa para uma loja de tintas. A pessoa informa a área em m2 que deseja pintar, e o script calculará a quantidade de latas de tinta que a pessoa deve comprar e o valor. Considere que cada litro de tinta pinta 3m2, que cada lata contém 18L e que custa R$ 80."
   ]
  },
  {
   "cell_type": "code",
   "execution_count": 71,
   "id": "9f1daf63",
   "metadata": {},
   "outputs": [
    {
     "name": "stdout",
     "output_type": "stream",
     "text": [
      "Informe a área a ser pintada em m2: 100\n",
      "Você precisa de 2 latas para pintar 100.00 m2. O valor final da compra é de: R$ 160.00\n"
     ]
    }
   ],
   "source": [
    "area = float(input(\"Informe a área a ser pintada em m2: \"))\n",
    "volume = area / 3\n",
    "qtd_latas = round(volume / 18)\n",
    "\n",
    "preco = qtd_latas * 80\n",
    "\n",
    "print(\"Você precisa de {} latas para pintar {:.2f} m2. O valor final da compra é de: R$ {:.2f}\".format(qtd_latas, area, preco))"
   ]
  },
  {
   "cell_type": "markdown",
   "id": "493fd4e1",
   "metadata": {},
   "source": [
    "### Exercício 5\n",
    "Faça um Programa que pergunte quanto você ganha por hora e o número de horas trabalhadas no mês. Calcule e mostre o total do seu salário no referido mês, sabendo-se que são descontados 11% para o Imposto de Renda, 8% para o INSS e 5% para o sindicato, faça um programa que nos dê:\n",
    "1. Salário bruto.\n",
    "2. Quanto pagou ao INSS.\n",
    "3. Quanto pagou ao sindicato.\n",
    "4. O salário líquido."
   ]
  },
  {
   "cell_type": "code",
   "execution_count": 72,
   "id": "1599e186",
   "metadata": {},
   "outputs": [
    {
     "name": "stdout",
     "output_type": "stream",
     "text": [
      "Informe o valor da sua hora: 125\n",
      "Informe a quantidade de horas trabalhadas no mês: 200\n",
      "Salário Bruto: R$ 25000.00\n",
      "Valor do INSS: R$ 2000.00\n",
      "Valor do Sindicato: R$ 1250.00\n",
      ">>> Salário Líquido: R$ 19000.00\n"
     ]
    }
   ],
   "source": [
    "valor_hora = float(input(\"Informe o valor da sua hora: \"))\n",
    "horas_mes = float(input(\"Informe a quantidade de horas trabalhadas no mês: \"))\n",
    "\n",
    "salario_bruto = valor_hora * horas_mes\n",
    "INSS = salario_bruto * 0.08\n",
    "sindicato = salario_bruto * 0.05\n",
    "IR = salario_bruto * 0.11\n",
    "\n",
    "salario_liquido = salario_bruto - INSS - sindicato - IR\n",
    "\n",
    "print(\"Salário Bruto: R$ {:.2f}\".format(salario_bruto))\n",
    "print(\"Valor do INSS: R$ {:.2f}\".format(INSS))\n",
    "print(\"Valor do Sindicato: R$ {:.2f}\".format(sindicato))\n",
    "print(\">>> Salário Líquido: R$ {:.2f}\".format(salario_liquido))"
   ]
  },
  {
   "cell_type": "markdown",
   "id": "90ebee14",
   "metadata": {},
   "source": [
    "# Capítulo 1.3.14: If, Elif e Else"
   ]
  },
  {
   "cell_type": "code",
   "execution_count": 74,
   "id": "c090a926",
   "metadata": {},
   "outputs": [
    {
     "name": "stdout",
     "output_type": "stream",
     "text": [
      "It was true!\n"
     ]
    }
   ],
   "source": [
    "if True:\n",
    "    print('It was true!')"
   ]
  },
  {
   "cell_type": "code",
   "execution_count": 75,
   "id": "f0721cbf",
   "metadata": {},
   "outputs": [
    {
     "name": "stdout",
     "output_type": "stream",
     "text": [
      "I will be printed in any case where x is not true\n"
     ]
    }
   ],
   "source": [
    "x = False\n",
    "\n",
    "if x:\n",
    "    print('x was True!')\n",
    "else:\n",
    "    print('I will be printed in any case where x is not true')"
   ]
  },
  {
   "cell_type": "code",
   "execution_count": 76,
   "id": "9607ba29",
   "metadata": {},
   "outputs": [
    {
     "name": "stdout",
     "output_type": "stream",
     "text": [
      "Welcome to the bank!\n"
     ]
    }
   ],
   "source": [
    "loc = 'Bank'\n",
    "\n",
    "if loc == 'Auto Shop':\n",
    "    print('Welcome to the Auto Shop!')\n",
    "elif loc == 'Bank':\n",
    "    print('Welcome to the bank!')\n",
    "else:\n",
    "    print(\"Where are you?\")"
   ]
  },
  {
   "cell_type": "code",
   "execution_count": 77,
   "id": "54913a11",
   "metadata": {},
   "outputs": [
    {
     "name": "stdout",
     "output_type": "stream",
     "text": [
      "Welcome Sammy!\n"
     ]
    }
   ],
   "source": [
    "person = 'Sammy'\n",
    "\n",
    "if person == 'Sammy':\n",
    "    print('Welcome Sammy!')\n",
    "else:\n",
    "    print(\"Welcome, what's your name?\")"
   ]
  },
  {
   "cell_type": "code",
   "execution_count": 78,
   "id": "20d618e2",
   "metadata": {},
   "outputs": [
    {
     "name": "stdout",
     "output_type": "stream",
     "text": [
      "Welcome George!\n"
     ]
    }
   ],
   "source": [
    "person = 'George'\n",
    "\n",
    "if person == 'Sammy':\n",
    "    print('Welcome Sammy!')\n",
    "elif person =='George':\n",
    "    print(\"Welcome George!\")\n",
    "else:\n",
    "    print(\"Welcome, what's your name?\")"
   ]
  },
  {
   "cell_type": "markdown",
   "id": "a81f07ee",
   "metadata": {},
   "source": [
    "# Capítulo 1.3.15: Range"
   ]
  },
  {
   "cell_type": "markdown",
   "id": "107ccd3e",
   "metadata": {},
   "source": [
    "**range()** nos permite criar uma lista de números que variam de um ponto de partida até um ponto final."
   ]
  },
  {
   "cell_type": "code",
   "execution_count": 79,
   "id": "68e5be47",
   "metadata": {},
   "outputs": [
    {
     "data": {
      "text/plain": [
       "range(0, 10)"
      ]
     },
     "execution_count": 79,
     "metadata": {},
     "output_type": "execute_result"
    }
   ],
   "source": [
    "range(0,10)"
   ]
  },
  {
   "cell_type": "code",
   "execution_count": 80,
   "id": "aaa93a17",
   "metadata": {},
   "outputs": [
    {
     "data": {
      "text/plain": [
       "range"
      ]
     },
     "execution_count": 80,
     "metadata": {},
     "output_type": "execute_result"
    }
   ],
   "source": [
    "x = range(0,10)\n",
    "type(x)"
   ]
  },
  {
   "cell_type": "code",
   "execution_count": 85,
   "id": "4dbc1190",
   "metadata": {},
   "outputs": [
    {
     "data": {
      "text/plain": [
       "range(0, 20)"
      ]
     },
     "execution_count": 85,
     "metadata": {},
     "output_type": "execute_result"
    }
   ],
   "source": [
    "start = 0 # Por padrão\n",
    "stop = 20\n",
    "\n",
    "x = range(start,stop)\n",
    "x"
   ]
  },
  {
   "cell_type": "code",
   "execution_count": 86,
   "id": "f475a68b",
   "metadata": {},
   "outputs": [
    {
     "data": {
      "text/plain": [
       "[0, 1, 2, 3, 4, 5, 6, 7, 8, 9, 10, 11, 12, 13, 14, 15, 16, 17, 18, 19]"
      ]
     },
     "execution_count": 86,
     "metadata": {},
     "output_type": "execute_result"
    }
   ],
   "source": [
    "list(x)"
   ]
  },
  {
   "cell_type": "code",
   "execution_count": 88,
   "id": "53aab89d",
   "metadata": {},
   "outputs": [
    {
     "data": {
      "text/plain": [
       "range(0, 20, 2)"
      ]
     },
     "execution_count": 88,
     "metadata": {},
     "output_type": "execute_result"
    }
   ],
   "source": [
    "x1 = range(start,stop,2)\n",
    "x1"
   ]
  },
  {
   "cell_type": "code",
   "execution_count": 89,
   "id": "1f3e9828",
   "metadata": {},
   "outputs": [
    {
     "data": {
      "text/plain": [
       "[0, 2, 4, 6, 8, 10, 12, 14, 16, 18]"
      ]
     },
     "execution_count": 89,
     "metadata": {},
     "output_type": "execute_result"
    }
   ],
   "source": [
    "list(x1)"
   ]
  },
  {
   "cell_type": "markdown",
   "id": "6bb39d22",
   "metadata": {},
   "source": [
    "# Capítulo 1.3.16: For"
   ]
  },
  {
   "cell_type": "markdown",
   "id": "0cf967c9",
   "metadata": {},
   "source": [
    "Um loop **for** atua como um iterador em Python, ele passa por itens que estão em uma sequência ou qualquer outro item iterável."
   ]
  },
  {
   "cell_type": "code",
   "execution_count": 90,
   "id": "00bea092",
   "metadata": {},
   "outputs": [],
   "source": [
    "# Iterando através de uma lista\n",
    "l = [1,2,3,4,5,6,7,8,9,10]"
   ]
  },
  {
   "cell_type": "code",
   "execution_count": 91,
   "id": "c894d74c",
   "metadata": {},
   "outputs": [
    {
     "name": "stdout",
     "output_type": "stream",
     "text": [
      "1\n",
      "2\n",
      "3\n",
      "4\n",
      "5\n",
      "6\n",
      "7\n",
      "8\n",
      "9\n",
      "10\n"
     ]
    }
   ],
   "source": [
    "for num in l:\n",
    "    print(num)"
   ]
  },
  {
   "cell_type": "code",
   "execution_count": 92,
   "id": "dbfe7855",
   "metadata": {},
   "outputs": [
    {
     "name": "stdout",
     "output_type": "stream",
     "text": [
      "2\n",
      "4\n",
      "6\n",
      "8\n",
      "10\n"
     ]
    }
   ],
   "source": [
    "for num in l:\n",
    "    if num % 2 == 0:\n",
    "        print(num)"
   ]
  },
  {
   "cell_type": "code",
   "execution_count": 96,
   "id": "1fb88c55",
   "metadata": {},
   "outputs": [
    {
     "name": "stdout",
     "output_type": "stream",
     "text": [
      "1 é impar\n",
      "2 é par\n",
      "3 é impar\n",
      "4 é par\n",
      "5 é impar\n",
      "6 é par\n",
      "7 é impar\n",
      "8 é par\n",
      "9 é impar\n",
      "10 é par\n"
     ]
    }
   ],
   "source": [
    "for num in l:\n",
    "    if num % 2 == 0:\n",
    "        print(\"{} é par\".format(num))\n",
    "    else:\n",
    "        print(\"{} é impar\".format(num))"
   ]
  },
  {
   "cell_type": "markdown",
   "id": "d6e072d6",
   "metadata": {},
   "source": [
    "### For para Listas"
   ]
  },
  {
   "cell_type": "code",
   "execution_count": 97,
   "id": "a73b723c",
   "metadata": {},
   "outputs": [
    {
     "name": "stdout",
     "output_type": "stream",
     "text": [
      "1\n",
      "3\n",
      "6\n",
      "10\n",
      "15\n",
      "21\n",
      "28\n",
      "36\n",
      "45\n",
      "55\n"
     ]
    }
   ],
   "source": [
    "list_sum = 0\n",
    "\n",
    "for num in l:\n",
    "    list_sum = list_sum + num\n",
    "    print(list_sum)"
   ]
  },
  {
   "cell_type": "code",
   "execution_count": 98,
   "id": "a93805da",
   "metadata": {},
   "outputs": [
    {
     "name": "stdout",
     "output_type": "stream",
     "text": [
      "1\n",
      "3\n",
      "6\n",
      "10\n",
      "15\n",
      "21\n",
      "28\n",
      "36\n",
      "45\n",
      "55\n"
     ]
    }
   ],
   "source": [
    "# Outra notação:\n",
    "\n",
    "list_sum = 0\n",
    "\n",
    "for num in l:\n",
    "    list_sum += num\n",
    "    print(list_sum)"
   ]
  },
  {
   "cell_type": "markdown",
   "id": "58de1e54",
   "metadata": {},
   "source": [
    "### For com Strings"
   ]
  },
  {
   "cell_type": "code",
   "execution_count": 101,
   "id": "f6c4cacc",
   "metadata": {},
   "outputs": [
    {
     "name": "stdout",
     "output_type": "stream",
     "text": [
      "T\n",
      "h\n",
      "i\n",
      "s\n",
      " \n",
      "i\n",
      "s\n",
      " \n",
      "a\n",
      " \n",
      "s\n",
      "t\n",
      "r\n",
      "i\n",
      "n\n",
      "g\n"
     ]
    }
   ],
   "source": [
    "for letter in 'This is a string':\n",
    "    print(letter)"
   ]
  },
  {
   "cell_type": "markdown",
   "id": "8b2ff455",
   "metadata": {},
   "source": [
    "### For com Tuplas"
   ]
  },
  {
   "cell_type": "code",
   "execution_count": 102,
   "id": "f5104f17",
   "metadata": {},
   "outputs": [
    {
     "name": "stdout",
     "output_type": "stream",
     "text": [
      "1\n",
      "2\n",
      "3\n",
      "4\n",
      "5\n"
     ]
    }
   ],
   "source": [
    "tup = (1,2,3,4,5)\n",
    "\n",
    "for t in tup:\n",
    "    print(t)"
   ]
  },
  {
   "cell_type": "markdown",
   "id": "70949826",
   "metadata": {},
   "source": [
    "Se você está **iterando** através de uma seqüência que contém **tuplas**, o item pode realmente ser a própria tupla.<BR>\n",
    "Este é um exemplo de **desembalagem de tuplas**.<BR>\n",
    "Durante o for, estaremos **desembalando a tupla dentro de uma seqüência** e podemos acessar os itens individuais dentro dessa tupla!"
   ]
  },
  {
   "cell_type": "code",
   "execution_count": 103,
   "id": "c5edfdc3",
   "metadata": {},
   "outputs": [],
   "source": [
    "l = [(2,4),(6,8),(10,12)]"
   ]
  },
  {
   "cell_type": "code",
   "execution_count": 104,
   "id": "efd2a55d",
   "metadata": {},
   "outputs": [
    {
     "name": "stdout",
     "output_type": "stream",
     "text": [
      "(2, 4)\n",
      "(6, 8)\n",
      "(10, 12)\n"
     ]
    }
   ],
   "source": [
    "for tup in l:\n",
    "    print(tup)"
   ]
  },
  {
   "cell_type": "code",
   "execution_count": 105,
   "id": "771e1f66",
   "metadata": {},
   "outputs": [
    {
     "name": "stdout",
     "output_type": "stream",
     "text": [
      "2\n",
      "6\n",
      "10\n"
     ]
    }
   ],
   "source": [
    "# Agora desembalando\n",
    "for (t1,t2) in l:\n",
    "    print(t1)"
   ]
  },
  {
   "cell_type": "markdown",
   "id": "1cdf2685",
   "metadata": {},
   "source": [
    "### For com Dicionários"
   ]
  },
  {
   "cell_type": "code",
   "execution_count": 106,
   "id": "7e07ef79",
   "metadata": {},
   "outputs": [
    {
     "name": "stdout",
     "output_type": "stream",
     "text": [
      "k1\n",
      "k2\n",
      "k3\n"
     ]
    }
   ],
   "source": [
    "d = {'k1':1,'k2':2,'k3':3}\n",
    "\n",
    "for item in d:\n",
    "    print(item)"
   ]
  },
  {
   "cell_type": "markdown",
   "id": "1e0e83e1",
   "metadata": {},
   "source": [
    "### items()\n",
    "Você deve usar .items() para iterar através das chaves e valores de um dicionário."
   ]
  },
  {
   "cell_type": "code",
   "execution_count": 112,
   "id": "eccd3852",
   "metadata": {},
   "outputs": [
    {
     "name": "stdout",
     "output_type": "stream",
     "text": [
      "Chave: k1\n",
      "Valor: 1\n",
      "Chave: k2\n",
      "Valor: 2\n",
      "Chave: k3\n",
      "Valor: 3\n"
     ]
    }
   ],
   "source": [
    "for k,v in d.items():\n",
    "    print(\"Chave: {}\".format(k))\n",
    "    print(\"Valor: {}\".format(v))"
   ]
  },
  {
   "cell_type": "markdown",
   "id": "1a12b1a3",
   "metadata": {},
   "source": [
    "# Capítulo 1.3.17: While"
   ]
  },
  {
   "cell_type": "markdown",
   "id": "6927ba8b",
   "metadata": {},
   "source": [
    "- A instrução while em Python é uma das formas mais gerais de executar iterações. \n",
    "- Uma instrução **while** executará repetidamente uma única declaração ou grupo de instruções, desde que a condição seja verdadeira.\n",
    "\n",
    "A razão pela qual é chamado de \"loop\" é porque **as instruções de código são roteadas repetidamente até que a condição não seja mais atendida.**"
   ]
  },
  {
   "cell_type": "code",
   "execution_count": 126,
   "id": "1e420b9b",
   "metadata": {},
   "outputs": [
    {
     "name": "stdout",
     "output_type": "stream",
     "text": [
      "x = 0\n",
      "x ainda é menor que 10, adicionando 1 + x\n",
      "---------------\n",
      "x = 1\n",
      "x ainda é menor que 10, adicionando 1 + x\n",
      "---------------\n",
      "x = 2\n",
      "x ainda é menor que 10, adicionando 1 + x\n",
      "---------------\n",
      "x = 3\n",
      "x ainda é menor que 10, adicionando 1 + x\n",
      "---------------\n",
      "x = 4\n",
      "x ainda é menor que 10, adicionando 1 + x\n",
      "---------------\n",
      "x = 5\n",
      "x ainda é menor que 10, adicionando 1 + x\n",
      "---------------\n",
      "x = 6\n",
      "x ainda é menor que 10, adicionando 1 + x\n",
      "---------------\n",
      "x = 7\n",
      "x ainda é menor que 10, adicionando 1 + x\n",
      "---------------\n",
      "x = 8\n",
      "x ainda é menor que 10, adicionando 1 + x\n",
      "---------------\n",
      "x = 9\n",
      "x ainda é menor que 10, adicionando 1 + x\n",
      "---------------\n",
      "x agora é 10\n"
     ]
    }
   ],
   "source": [
    "x = 0\n",
    "\n",
    "while x < 10:\n",
    "    print('x =', x)\n",
    "    print('x ainda é menor que 10, adicionando 1 + x')\n",
    "    x += 1\n",
    "    print('-' * 15)\n",
    "else:\n",
    "    print('x agora é 10')"
   ]
  },
  {
   "cell_type": "markdown",
   "id": "bccf90dd",
   "metadata": {},
   "source": [
    "### break, continue, pass\n",
    "Podemos usar as declarações break, continue e pass em nossos loops para adicionar funcionalidades adicionais para vários casos. As três declarações são definidas por:<BR>\n",
    "- **break:** Parar o loop\n",
    "- **continue:** Vai para o próximo loop\n",
    "- **pass:** Não faz nada"
   ]
  },
  {
   "cell_type": "code",
   "execution_count": 132,
   "id": "9c3e28aa",
   "metadata": {},
   "outputs": [
    {
     "name": "stdout",
     "output_type": "stream",
     "text": [
      "x = 0\n",
      "x ainda é menor que 10, adicionando 1 + x\n",
      "---------------\n",
      "continue ...\n",
      "x = 1\n",
      "x ainda é menor que 10, adicionando 1 + x\n",
      "---------------\n",
      "continue ...\n",
      "x = 2\n",
      "x ainda é menor que 10, adicionando 1 + x\n",
      "---------------\n",
      "Marcamos que x = 3 nesta posição!\n",
      "x = 3\n",
      "x ainda é menor que 10, adicionando 1 + x\n",
      "---------------\n",
      "continue ...\n",
      "x = 4\n",
      "x ainda é menor que 10, adicionando 1 + x\n",
      "---------------\n",
      "continue ...\n",
      "x = 5\n",
      "x ainda é menor que 10, adicionando 1 + x\n",
      "---------------\n",
      "continue ...\n",
      "x = 6\n",
      "x ainda é menor que 10, adicionando 1 + x\n",
      "---------------\n",
      "continue ...\n",
      "x = 7\n",
      "x ainda é menor que 10, adicionando 1 + x\n",
      "---------------\n",
      "continue ...\n",
      "x = 8\n",
      "x ainda é menor que 10, adicionando 1 + x\n",
      "---------------\n",
      "continue ...\n",
      "x = 9\n",
      "x ainda é menor que 10, adicionando 1 + x\n",
      "---------------\n",
      "OK\n"
     ]
    }
   ],
   "source": [
    "x = 0\n",
    "\n",
    "while x < 10:\n",
    "    print('x =', x)\n",
    "    print('x ainda é menor que 10, adicionando 1 + x')\n",
    "    x+=1\n",
    "    print('-' * 15)\n",
    "    if x == 3:\n",
    "        print('Marcamos que x = 3 nesta posição!')\n",
    "    elif x == 10:\n",
    "        print('OK')\n",
    "    else:\n",
    "        print('continue ...')\n",
    "        continue"
   ]
  },
  {
   "cell_type": "code",
   "execution_count": 134,
   "id": "f9412847",
   "metadata": {},
   "outputs": [
    {
     "name": "stdout",
     "output_type": "stream",
     "text": [
      "x = 0\n",
      "ainda é menor que 10, adicionando 1 + x\n",
      "---------------\n",
      "continue ...\n",
      "x = 1\n",
      "ainda é menor que 10, adicionando 1 + x\n",
      "---------------\n",
      "continue ...\n",
      "x = 2\n",
      "ainda é menor que 10, adicionando 1 + x\n",
      "---------------\n",
      "continue ...\n",
      "x = 3\n",
      "ainda é menor que 10, adicionando 1 + x\n",
      "---------------\n",
      "continue ...\n",
      "x = 4\n",
      "ainda é menor que 10, adicionando 1 + x\n",
      "---------------\n",
      "continue ...\n",
      "x = 5\n",
      "ainda é menor que 10, adicionando 1 + x\n",
      "---------------\n",
      "continue ...\n",
      "x = 6\n",
      "ainda é menor que 10, adicionando 1 + x\n",
      "---------------\n",
      "Break pois x = 7\n"
     ]
    }
   ],
   "source": [
    "x = 0\n",
    "\n",
    "while x < 10:\n",
    "    print('x =',x)\n",
    "    print('ainda é menor que 10, adicionando 1 + x')\n",
    "    x += 1\n",
    "    print('-' * 15)\n",
    "    if x == 7:\n",
    "        print('Break pois x = 7')\n",
    "        break\n",
    "    else:\n",
    "        print('continue ...')\n",
    "        continue"
   ]
  },
  {
   "cell_type": "markdown",
   "id": "77f8f0f1",
   "metadata": {},
   "source": [
    "# Capítulo 1.3.18: List Comprehension"
   ]
  },
  {
   "cell_type": "code",
   "execution_count": 136,
   "id": "3d784c33",
   "metadata": {},
   "outputs": [
    {
     "data": {
      "text/plain": [
       "['w', 'o', 'r', 'd']"
      ]
     },
     "execution_count": 136,
     "metadata": {},
     "output_type": "execute_result"
    }
   ],
   "source": [
    "# Pega todas as letras em uma string\n",
    "lst = [x for x in 'word']\n",
    "lst"
   ]
  },
  {
   "cell_type": "code",
   "execution_count": 138,
   "id": "51a38f89",
   "metadata": {},
   "outputs": [
    {
     "data": {
      "text/plain": [
       "[0, 1, 4, 9, 16, 25, 36, 49, 64, 81, 100]"
      ]
     },
     "execution_count": 138,
     "metadata": {},
     "output_type": "execute_result"
    }
   ],
   "source": [
    "# Eleva o quadrado itens no range e o transformam em lista\n",
    "lst = [x**2 for x in range(0,11)]\n",
    "lst"
   ]
  },
  {
   "cell_type": "code",
   "execution_count": 139,
   "id": "c3105f43",
   "metadata": {},
   "outputs": [
    {
     "data": {
      "text/plain": [
       "[0, 2, 4, 6, 8, 10]"
      ]
     },
     "execution_count": 139,
     "metadata": {},
     "output_type": "execute_result"
    }
   ],
   "source": [
    "# Cria uma lista de números pares, utilizando para isso o if\n",
    "lst = [x for x in range(11) if x % 2 == 0]\n",
    "lst"
   ]
  },
  {
   "cell_type": "code",
   "execution_count": 140,
   "id": "1049a56a",
   "metadata": {},
   "outputs": [
    {
     "data": {
      "text/plain": [
       "[32.0, 50.0, 68.18, 94.1]"
      ]
     },
     "execution_count": 140,
     "metadata": {},
     "output_type": "execute_result"
    }
   ],
   "source": [
    "# Converte Celsius para Fahrenheit\n",
    "celsius = [0,10,20.1,34.5]\n",
    "\n",
    "fahrenheit = [ ((float(9)/5)*temp + 32) for temp in celsius]\n",
    "fahrenheit"
   ]
  },
  {
   "cell_type": "code",
   "execution_count": 141,
   "id": "4c5d9732",
   "metadata": {},
   "outputs": [
    {
     "data": {
      "text/plain": [
       "[0, 1, 16, 81, 256, 625, 1296, 2401, 4096, 6561, 10000]"
      ]
     },
     "execution_count": 141,
     "metadata": {},
     "output_type": "execute_result"
    }
   ],
   "source": [
    "lst = [ x**2 for x in [x**2 for x in range(11)]]\n",
    "lst"
   ]
  },
  {
   "cell_type": "markdown",
   "id": "987b6b98",
   "metadata": {},
   "source": [
    "# Capítulo 1.3.19: Funções"
   ]
  },
  {
   "cell_type": "markdown",
   "id": "76818152",
   "metadata": {},
   "source": [
    "Em um nível mais fundamental, as funções nos permitem não ter que repetidamente escrever o mesmo código repetidas vezes."
   ]
  },
  {
   "cell_type": "markdown",
   "id": "255bf1d6",
   "metadata": {},
   "source": [
    "## def"
   ]
  },
  {
   "cell_type": "code",
   "execution_count": null,
   "id": "3ccadb45",
   "metadata": {},
   "outputs": [],
   "source": [
    "def name_of_function(arg1,arg2):\n",
    "    '''\n",
    "    A documentação da função ficará aqui\n",
    "    '''\n",
    "    # Faça coisas aqui\n",
    "    return # retorne o resultado desejado aqui"
   ]
  },
  {
   "cell_type": "code",
   "execution_count": 142,
   "id": "0ca461b5",
   "metadata": {},
   "outputs": [],
   "source": [
    "def say_hello():\n",
    "    print('hello')"
   ]
  },
  {
   "cell_type": "code",
   "execution_count": 143,
   "id": "31ea28a9",
   "metadata": {},
   "outputs": [
    {
     "name": "stdout",
     "output_type": "stream",
     "text": [
      "hello\n"
     ]
    }
   ],
   "source": [
    "say_hello()"
   ]
  },
  {
   "cell_type": "code",
   "execution_count": 147,
   "id": "370db5c6",
   "metadata": {},
   "outputs": [],
   "source": [
    "def greeting(name):\n",
    "    print('Hello, %s!!!' %name)"
   ]
  },
  {
   "cell_type": "code",
   "execution_count": 148,
   "id": "4e32c096",
   "metadata": {},
   "outputs": [
    {
     "name": "stdout",
     "output_type": "stream",
     "text": [
      "Hello, Daniel!!!\n"
     ]
    }
   ],
   "source": [
    "greeting('Daniel')"
   ]
  },
  {
   "cell_type": "markdown",
   "id": "0e0fde0d",
   "metadata": {},
   "source": [
    "### Usando o return"
   ]
  },
  {
   "cell_type": "code",
   "execution_count": 149,
   "id": "ff9638e2",
   "metadata": {},
   "outputs": [],
   "source": [
    "def add_num(num1,num2):\n",
    "    return num1 + num2"
   ]
  },
  {
   "cell_type": "code",
   "execution_count": 150,
   "id": "da91b197",
   "metadata": {},
   "outputs": [
    {
     "data": {
      "text/plain": [
       "30"
      ]
     },
     "execution_count": 150,
     "metadata": {},
     "output_type": "execute_result"
    }
   ],
   "source": [
    "add_num(10,20)"
   ]
  },
  {
   "cell_type": "code",
   "execution_count": 153,
   "id": "1f974609",
   "metadata": {},
   "outputs": [],
   "source": [
    "result = add_num(10,20)"
   ]
  },
  {
   "cell_type": "code",
   "execution_count": 154,
   "id": "438c3b91",
   "metadata": {},
   "outputs": [
    {
     "name": "stdout",
     "output_type": "stream",
     "text": [
      "30\n"
     ]
    }
   ],
   "source": [
    "print(result)"
   ]
  },
  {
   "cell_type": "markdown",
   "id": "330e308f",
   "metadata": {},
   "source": [
    "Note que, porque não declaramos tipos de variáveis em Python, esta função pode ser usada para adicionar números ou seqüências em conjunto!"
   ]
  },
  {
   "cell_type": "code",
   "execution_count": 156,
   "id": "9c7dce91",
   "metadata": {},
   "outputs": [
    {
     "data": {
      "text/plain": [
       "'onetwo'"
      ]
     },
     "execution_count": 156,
     "metadata": {},
     "output_type": "execute_result"
    }
   ],
   "source": [
    "add_num('one','two')"
   ]
  },
  {
   "cell_type": "code",
   "execution_count": 161,
   "id": "c02c3b2a",
   "metadata": {},
   "outputs": [],
   "source": [
    "# Método para checar se é primo\n",
    "def is_prime(num):\n",
    "    for n in range(2,num):\n",
    "        if num % n == 0:\n",
    "            print('Não primo!')\n",
    "            break\n",
    "    else: # Se o módulo nunca for zero, é primo\n",
    "        print('É primo!')"
   ]
  },
  {
   "cell_type": "code",
   "execution_count": 162,
   "id": "549ea773",
   "metadata": {},
   "outputs": [
    {
     "name": "stdout",
     "output_type": "stream",
     "text": [
      "É primo!\n",
      "Não primo!\n",
      "Não primo!\n"
     ]
    }
   ],
   "source": [
    "is_prime(7)\n",
    "is_prime(15)\n",
    "is_prime(16)"
   ]
  },
  {
   "cell_type": "code",
   "execution_count": 164,
   "id": "ab41e644",
   "metadata": {},
   "outputs": [],
   "source": [
    "# Melhor método para checar primos\n",
    "import math\n",
    "\n",
    "def is_prime(num):\n",
    "    if num % 2 == 0 and num > 2:\n",
    "        return False\n",
    "    for i in range(3, int(math.sqrt(num)) + 1, 2):\n",
    "        if num % i == 0:\n",
    "            return False\n",
    "    return True"
   ]
  },
  {
   "cell_type": "code",
   "execution_count": 167,
   "id": "8f33298b",
   "metadata": {},
   "outputs": [
    {
     "data": {
      "text/plain": [
       "True"
      ]
     },
     "execution_count": 167,
     "metadata": {},
     "output_type": "execute_result"
    }
   ],
   "source": [
    "is_prime(7)"
   ]
  },
  {
   "cell_type": "code",
   "execution_count": 168,
   "id": "3e6d1046",
   "metadata": {},
   "outputs": [
    {
     "data": {
      "text/plain": [
       "False"
      ]
     },
     "execution_count": 168,
     "metadata": {},
     "output_type": "execute_result"
    }
   ],
   "source": [
    "is_prime(15)"
   ]
  },
  {
   "cell_type": "code",
   "execution_count": 169,
   "id": "68fa9efb",
   "metadata": {},
   "outputs": [
    {
     "data": {
      "text/plain": [
       "False"
      ]
     },
     "execution_count": 169,
     "metadata": {},
     "output_type": "execute_result"
    }
   ],
   "source": [
    "is_prime(16)"
   ]
  },
  {
   "cell_type": "markdown",
   "id": "48431f48",
   "metadata": {},
   "source": [
    "# Capítulo 1.3.20: Lambda"
   ]
  },
  {
   "cell_type": "code",
   "execution_count": 170,
   "id": "c915cf98",
   "metadata": {},
   "outputs": [],
   "source": [
    "def elevar_quadrado(x):\n",
    "    return x ** 2"
   ]
  },
  {
   "cell_type": "code",
   "execution_count": 171,
   "id": "fda0a30e",
   "metadata": {},
   "outputs": [
    {
     "data": {
      "text/plain": [
       "100"
      ]
     },
     "execution_count": 171,
     "metadata": {},
     "output_type": "execute_result"
    }
   ],
   "source": [
    "elevar_quadrado(10)"
   ]
  },
  {
   "cell_type": "code",
   "execution_count": 172,
   "id": "339c7313",
   "metadata": {},
   "outputs": [],
   "source": [
    "elevar_quadrado_lambda = lambda x: x ** 2"
   ]
  },
  {
   "cell_type": "code",
   "execution_count": 173,
   "id": "f3d14723",
   "metadata": {},
   "outputs": [
    {
     "data": {
      "text/plain": [
       "100"
      ]
     },
     "execution_count": 173,
     "metadata": {},
     "output_type": "execute_result"
    }
   ],
   "source": [
    "elevar_quadrado_lambda(10)"
   ]
  },
  {
   "cell_type": "markdown",
   "id": "7de126e7",
   "metadata": {},
   "source": [
    "# Capítulo 1.3.20.1: Métodos"
   ]
  },
  {
   "cell_type": "markdown",
   "id": "e9e962dc",
   "metadata": {},
   "source": [
    "Os métodos são essencialmente funções incorporadas em objetos."
   ]
  },
  {
   "cell_type": "markdown",
   "id": "39aebdbd",
   "metadata": {},
   "source": [
    "Vamos dar uma rápida olhada em um exemplo dos vários métodos que uma lista possui:\n",
    "- append\n",
    "- count\n",
    "- extend\n",
    "- insert\n",
    "- pop\n",
    "- remove\n",
    "- reverse\n",
    "- sort"
   ]
  },
  {
   "cell_type": "code",
   "execution_count": 177,
   "id": "c78f4457",
   "metadata": {},
   "outputs": [],
   "source": [
    "# Cria uma simples lista\n",
    "l = [1,2,3,4,5]"
   ]
  },
  {
   "cell_type": "code",
   "execution_count": 178,
   "id": "23dc6caa",
   "metadata": {},
   "outputs": [
    {
     "data": {
      "text/plain": [
       "[1, 2, 3, 4, 5, 6]"
      ]
     },
     "execution_count": 178,
     "metadata": {},
     "output_type": "execute_result"
    }
   ],
   "source": [
    "# append() nos permite adicionar elementos ao final de uma lista:\n",
    "l.append(6)\n",
    "l"
   ]
  },
  {
   "cell_type": "code",
   "execution_count": 180,
   "id": "0b9cea80",
   "metadata": {},
   "outputs": [
    {
     "data": {
      "text/plain": [
       "1"
      ]
     },
     "execution_count": 180,
     "metadata": {},
     "output_type": "execute_result"
    }
   ],
   "source": [
    "# Conta quantas vezes o 2 aparece na lista\n",
    "l.count(2)"
   ]
  },
  {
   "cell_type": "code",
   "execution_count": 181,
   "id": "5b0eea8f",
   "metadata": {},
   "outputs": [
    {
     "name": "stdout",
     "output_type": "stream",
     "text": [
      "Help on built-in function count:\n",
      "\n",
      "count(value, /) method of builtins.list instance\n",
      "    Return number of occurrences of value.\n",
      "\n"
     ]
    }
   ],
   "source": [
    "help(l.count)"
   ]
  },
  {
   "cell_type": "markdown",
   "id": "3eb4b0e1",
   "metadata": {},
   "source": [
    "# Capítulo 1.3.20.2: Map"
   ]
  },
  {
   "cell_type": "markdown",
   "id": "6791d5a2",
   "metadata": {},
   "source": [
    "**map ()** é uma função que leva em dois argumentos: uma função e uma seqüência iterable.\n",
    "\n",
    "Na forma:<BR>\n",
    "map(função, sequência)\n",
    "    \n",
    "**.map()** aplica a função a todos os elementos da seqüência.<BR>\n",
    "Retorna uma nova lista com os elementos alterados por função."
   ]
  },
  {
   "cell_type": "code",
   "execution_count": 182,
   "id": "c0eb4679",
   "metadata": {},
   "outputs": [],
   "source": [
    "temp = [0, 22.5, 40, 100]\n",
    "\n",
    "def fahrenheit(T):\n",
    "    return ((float(9)/5) * T + 32)\n",
    "\n",
    "def celsius(T):\n",
    "    return (float(5)/9) * (T - 32)"
   ]
  },
  {
   "cell_type": "code",
   "execution_count": 183,
   "id": "81556992",
   "metadata": {},
   "outputs": [
    {
     "data": {
      "text/plain": [
       "[32.0, 72.5, 104.0, 212.0]"
      ]
     },
     "execution_count": 183,
     "metadata": {},
     "output_type": "execute_result"
    }
   ],
   "source": [
    "F_temps = list(map(fahrenheit, temp))\n",
    "F_temps"
   ]
  },
  {
   "cell_type": "code",
   "execution_count": 186,
   "id": "93d28de2",
   "metadata": {},
   "outputs": [
    {
     "data": {
      "text/plain": [
       "[-17.77777777777778, -5.277777777777778, 4.444444444444445, 37.77777777777778]"
      ]
     },
     "execution_count": 186,
     "metadata": {},
     "output_type": "execute_result"
    }
   ],
   "source": [
    "C_temps = list(map(celsius, temp))\n",
    "C_temps"
   ]
  },
  {
   "cell_type": "code",
   "execution_count": 185,
   "id": "d52c534b",
   "metadata": {},
   "outputs": [
    {
     "data": {
      "text/plain": [
       "[-17.77777777777778, -5.277777777777778, 4.444444444444445, 37.77777777777778]"
      ]
     },
     "execution_count": 185,
     "metadata": {},
     "output_type": "execute_result"
    }
   ],
   "source": [
    "# Usando Lambda\n",
    "list(map(lambda x: (5.0/9)*(x - 32), temp))"
   ]
  },
  {
   "cell_type": "markdown",
   "id": "1ee3205f",
   "metadata": {},
   "source": [
    "map() pode ser aplicado a mais de um iterable.<BR>\n",
    "Os iteráveis devem ter o mesmo comprimento."
   ]
  },
  {
   "cell_type": "code",
   "execution_count": 187,
   "id": "b8cd33a2",
   "metadata": {},
   "outputs": [
    {
     "data": {
      "text/plain": [
       "[6, 8, 10, 12]"
      ]
     },
     "execution_count": 187,
     "metadata": {},
     "output_type": "execute_result"
    }
   ],
   "source": [
    "caixa_01 = [1,2,3,4]\n",
    "caixa_02 = [5,6,7,8]\n",
    "caixa_03 = [9,10,11,12]\n",
    "\n",
    "list(map(lambda x, y: x + y, caixa_01, caixa_02))"
   ]
  },
  {
   "cell_type": "code",
   "execution_count": 188,
   "id": "cacd84c5",
   "metadata": {},
   "outputs": [
    {
     "data": {
      "text/plain": [
       "[15, 18, 21, 24]"
      ]
     },
     "execution_count": 188,
     "metadata": {},
     "output_type": "execute_result"
    }
   ],
   "source": [
    "list(map(lambda x, y, z: x + y + z, caixa_01, caixa_02, caixa_03))"
   ]
  },
  {
   "cell_type": "markdown",
   "id": "94d55c7d",
   "metadata": {},
   "source": [
    "# Capítulo 1.3.20.3: Reduce"
   ]
  },
  {
   "cell_type": "markdown",
   "id": "7e5b092a",
   "metadata": {},
   "source": [
    "A função **reduce(função, sequência)** aplica continuamente a função à sequência.<BR>\n",
    "Em seguida, ele retorna um único valor."
   ]
  },
  {
   "cell_type": "markdown",
   "id": "fe4c8107",
   "metadata": {},
   "source": [
    "Para seq = [s1, s2, s3, ..., sn], a função reduce (função, seqüência) funciona assim:\n",
    "\n",
    "- Os dois primeiros elementos de seq serão aplicados à função, isto é, **func(s1,s2)**\n",
    "- A lista em que a reduce() funciona parece assim: **[função (s1, s2), s3, ..., sn]**\n",
    "- No próximo passo, a função será aplicada no resultado anterior e no terceiro elemento: **função(função (s1, s2), s3)**\n",
    "- A lista parece agora: **[função (função (s1, s2), s3), ..., sn]**\n",
    "- Continua assim até apenas um elemento ser deixado."
   ]
  },
  {
   "cell_type": "code",
   "execution_count": null,
   "id": "82772ab5",
   "metadata": {},
   "outputs": [],
   "source": [
    "lst = [47, 11, 42, 13]\n",
    "\n",
    "reduce(lambda x, y: x + y, lst)"
   ]
  },
  {
   "cell_type": "code",
   "execution_count": null,
   "id": "56515a1a",
   "metadata": {},
   "outputs": [],
   "source": [
    "max_find = lambda a,b: a if (a > b) else b\n",
    "\n",
    "reduce(max_find, lst)"
   ]
  },
  {
   "cell_type": "markdown",
   "id": "05ad4ad1",
   "metadata": {},
   "source": [
    "# Capítulo 1.3.22: Exercício 2 - Operadores de Comparação e Laços"
   ]
  },
  {
   "cell_type": "markdown",
   "id": "ae10c698",
   "metadata": {},
   "source": [
    "### Exercício 1\n",
    "Faça um programa para a leitura de duas notas parciais de um aluno. O programa deve calcular a média alcançada por aluno e apresentar:\n",
    "- A mensagem \"Aprovado\", se a média alcançada for maior ou igual a 7;\n",
    "- A mensagem \"Reprovado\", se a média for menor do que 7;\n",
    "- A mensagem \"Aprovado com Distinção\", se a média for igual a 10."
   ]
  },
  {
   "cell_type": "code",
   "execution_count": 202,
   "id": "945a2bdf",
   "metadata": {},
   "outputs": [
    {
     "name": "stdout",
     "output_type": "stream",
     "text": [
      "Informe a primeira nota: 10\n",
      "Informe a segunda nota: 5\n",
      "---------------\n",
      "Sua média foi de: 7.50\n",
      "Aprovado!\n"
     ]
    }
   ],
   "source": [
    "nota01 = int(input(\"Informe a primeira nota: \"))\n",
    "nota02 = int(input(\"Informe a segunda nota: \"))\n",
    "\n",
    "media = (nota01 + nota02) / 2\n",
    "\n",
    "print(\"-\" * 15)\n",
    "print(\"Sua média foi de: {:.2f}\".format(media))\n",
    "\n",
    "if media == 10:\n",
    "    print(\"Aprovado com Distinção!!!\")\n",
    "elif media >= 7:\n",
    "    print(\"Aprovado!\")\n",
    "else:\n",
    "    print(\"Reprovado!\")"
   ]
  },
  {
   "cell_type": "markdown",
   "id": "8f6f941c",
   "metadata": {},
   "source": [
    "### Exercício 2\n",
    "Escreva um script que leia três números e mostre o maior e o menor deles."
   ]
  },
  {
   "cell_type": "code",
   "execution_count": 208,
   "id": "892645be",
   "metadata": {},
   "outputs": [
    {
     "name": "stdout",
     "output_type": "stream",
     "text": [
      "Informe o 1º número: 5\n",
      "Informe o 2º número: 77\n",
      "Informe o 3º número: 99\n",
      "---------------\n",
      "Lista de Números: ['5', '77', '99']\n",
      "Maior Número: 99\n",
      "Menor Número: 5\n"
     ]
    }
   ],
   "source": [
    "lst = []\n",
    "\n",
    "for i in range(3):\n",
    "    i += 1\n",
    "    numero = input(\"Informe o {}º número: \".format(i))\n",
    "    lst.append(numero)\n",
    "\n",
    "lst.sort()\n",
    "\n",
    "print(\"-\" * 15)\n",
    "\n",
    "print(\"Lista de Números: {}\".format(lst))\n",
    "print(\"Maior Número: {}\".format(lst[-1]))\n",
    "print(\"Menor Número: {}\".format(lst[0]))"
   ]
  },
  {
   "cell_type": "markdown",
   "id": "dd3379b8",
   "metadata": {},
   "source": [
    "### Exercício 3 \n",
    "Nome na vertical em escada. \n",
    "\n",
    "F<br>\n",
    "FU<br>\n",
    "FUL<br>\n",
    "FULA<br>\n",
    "FULAN<br>\n",
    "FULANO<br>"
   ]
  },
  {
   "cell_type": "code",
   "execution_count": 211,
   "id": "c260cd65",
   "metadata": {},
   "outputs": [
    {
     "name": "stdout",
     "output_type": "stream",
     "text": [
      "Informe o nome: Daniel\n",
      "\n",
      "D\n",
      "Da\n",
      "Dan\n",
      "Dani\n",
      "Danie\n",
      "Daniel\n"
     ]
    }
   ],
   "source": [
    "nome = input(\"Informe o nome: \")\n",
    "\n",
    "for i in range(len(nome) + 1):\n",
    "    print(nome[:i])"
   ]
  },
  {
   "cell_type": "markdown",
   "id": "27393ca0",
   "metadata": {},
   "source": [
    "### Exercício 4\n",
    "A série de Fibonacci é formada pela seqüência 1,1,2,3,5,8,13,21,34,55,... (o próximo termo, a partir do terceiro, é sempre gerado a partir do somatório dos últimos dois). Faça um programa capaz de gerar a série até o n−ésimo termo (onde o valor n deve ser inserido pelo usuário)."
   ]
  },
  {
   "cell_type": "code",
   "execution_count": 214,
   "id": "322998e0",
   "metadata": {},
   "outputs": [
    {
     "name": "stdout",
     "output_type": "stream",
     "text": [
      "Qual o tamanho da sequência de fibonacci você deseja ver?15\n",
      "1\n",
      "1\n",
      "2\n",
      "3\n",
      "5\n",
      "8\n",
      "13\n",
      "21\n",
      "34\n",
      "55\n",
      "89\n",
      "144\n",
      "233\n",
      "377\n",
      "610\n",
      "987\n",
      "1597\n"
     ]
    }
   ],
   "source": [
    "n = int(input(\"Qual o tamanho da sequência de fibonacci você deseja ver?\"))\n",
    "\n",
    "v0 = 0\n",
    "v1 = 1\n",
    "v = 1\n",
    "\n",
    "print(1)\n",
    "for i in range(n + 1):\n",
    "    print(v)\n",
    "    v0 = v1\n",
    "    v1 = v\n",
    "    v = v1 + v0"
   ]
  },
  {
   "cell_type": "markdown",
   "id": "f8a331a9",
   "metadata": {},
   "source": [
    "### Exercício 5\n",
    "Faça um programa que leia e valide as seguintes informações:\n",
    "- Nome: maior que 3 caracteres;\n",
    "- Idade: entre 0 e 150;\n",
    "- Salário: maior que zero;\n",
    "- Sexo: 'f' ou 'm';\n",
    "- Estado Civil: 's', 'c', 'v', 'd';"
   ]
  },
  {
   "cell_type": "code",
   "execution_count": 218,
   "id": "4ffed94c",
   "metadata": {},
   "outputs": [
    {
     "name": "stdout",
     "output_type": "stream",
     "text": [
      "Informe o nome: Daniel\n",
      "Informe a idade: 32\n",
      "Informe o salário: 20000\n",
      "Informe o sexo: [M, F]M\n",
      "Informe o estado civil [S, C, V, D]: S\n"
     ]
    }
   ],
   "source": [
    "nome = input(\"Informe o nome: \")\n",
    "while len(nome) <= 3:\n",
    "    print(\"O nome deve conter mais de 3 caracteres.\")\n",
    "    nome = input(\"Informe o nome:\")\n",
    "    \n",
    "idade = int(input(\"Informe a idade: \"))\n",
    "while (idade <= 0) or (idade >= 150):\n",
    "    print(\"A idade deve estar entre 0 e 150\")\n",
    "    idade = int(input(\"Informe a idade: \"))\n",
    "    \n",
    "salario = int(input(\"Informe o salário: \"))\n",
    "while (salario <= 0):\n",
    "    print(\"O salário deve ser maior que zero.\")\n",
    "    salario = int(input(\"Informe o salário: \"))\n",
    "    \n",
    "sexo = input(\"Informe o sexo: [M, F]\")\n",
    "while sexo not in [\"M\", \"F\"]:\n",
    "    print(\"O sexo deve ser 'M' ou 'F'\")\n",
    "    sexo = input(\"Informe o sexo: \")\n",
    "\n",
    "estado_civil = input(\"Informe o estado civil [S, C, V, D]: \")\n",
    "while estado_civil not in ['S', 'C', 'V', 'D']:\n",
    "    print(\"O estado civil deve ser S, C, V, D.\")\n",
    "    estado_civil = input(\"Informe o estado civil: \")"
   ]
  },
  {
   "cell_type": "markdown",
   "id": "6e5fe41d",
   "metadata": {},
   "source": [
    "### Exercício 6\n",
    "Faça um programa que peça um número inteiro e determine se ele é ou não um número primo.<BR>\n",
    "Um número primo é aquele que é divisível somente por ele mesmo e por 1.<BR>\n",
    "\n",
    "Dica: Utilize o operador aritmético `%`, que retorna o resto da divisão de dois números."
   ]
  },
  {
   "cell_type": "code",
   "execution_count": 220,
   "id": "feda9958",
   "metadata": {},
   "outputs": [
    {
     "name": "stdout",
     "output_type": "stream",
     "text": [
      "Informe um número: 15\n",
      "Não é primo!\n"
     ]
    }
   ],
   "source": [
    "n_primo = int(input(\"Informe um número: \"))\n",
    "\n",
    "check = 0\n",
    "\n",
    "for i in range(2, n_primo):\n",
    "    if n_primo % i == 0:\n",
    "        check = 1\n",
    "        break\n",
    "    \n",
    "if check == 0:\n",
    "    print(\"É primo!\")\n",
    "else:\n",
    "    print(\"Não é primo!\")"
   ]
  },
  {
   "cell_type": "markdown",
   "id": "79d6801a",
   "metadata": {},
   "source": [
    "## Python Starter - Projeto - Calculadora e Software de Gestão"
   ]
  },
  {
   "cell_type": "markdown",
   "id": "a258788f",
   "metadata": {},
   "source": [
    "# Capítulo 1.4.1: Calculadora"
   ]
  },
  {
   "cell_type": "code",
   "execution_count": 244,
   "id": "5f936e51",
   "metadata": {},
   "outputs": [
    {
     "name": "stdout",
     "output_type": "stream",
     "text": [
      "\n",
      "    0 : Soma\n",
      "    1 : Subtração\n",
      "    2 : Multiplicação\n",
      "    3 : Divisão\n",
      "    4 : Exponenciação\n",
      "\n",
      "    Escolha a operação que deseja realizar: 0\n",
      "===============\n",
      "Qual o primeiro valor? 10\n",
      "Qual o segundo valor? 5\n",
      "===============\n",
      ">>> Soma (+)\n",
      "10.00 + 5.00 = 15.00\n",
      "---------------\n",
      "Deseja realizar outra operação? [0 - SIM, 1 - NÃO] 0\n",
      "\n",
      "    0 : Soma\n",
      "    1 : Subtração\n",
      "    2 : Multiplicação\n",
      "    3 : Divisão\n",
      "    4 : Exponenciação\n",
      "\n",
      "    Escolha a operação que deseja realizar: 2\n",
      "===============\n",
      "Qual o primeiro valor? 10\n",
      "Qual o segundo valor? 4\n",
      "===============\n",
      ">>> Multiplicação (*)\n",
      "10.00 * 4.00 = 40.00\n",
      "---------------\n",
      "Deseja realizar outra operação? [0 - SIM, 1 - NÃO] 1\n"
     ]
    }
   ],
   "source": [
    "import os\n",
    "\n",
    "while True:\n",
    "    os.system(\"clear\")\n",
    "    \n",
    "    operacao = int(input('''\n",
    "    0 : Soma\n",
    "    1 : Subtração\n",
    "    2 : Multiplicação\n",
    "    3 : Divisão\n",
    "    4 : Exponenciação\n",
    "\n",
    "    Escolha a operação que deseja realizar: '''))\n",
    "\n",
    "    print(\"=\" * 15)\n",
    "\n",
    "    x = int(input(\"Qual o primeiro valor? \"))\n",
    "    y = int(input(\"Qual o segundo valor? \"))\n",
    "    \n",
    "    print(\"=\" * 15)\n",
    "    \n",
    "    if operacao == 0:\n",
    "        print(\">>> Soma (+)\")\n",
    "        print(\"{:.2f} + {:.2f} = {:.2f}\".format(x, y, x + y))\n",
    "    elif operacao == 1:\n",
    "        print(\">>> Subtração (-)\")\n",
    "        print(\"{:.2f} - {:.2f} = {:.2f}\".format(x, y, x - y))\n",
    "    elif operacao == 2:\n",
    "        print(\">>> Multiplicação (*)\")\n",
    "        print(\"{:.2f} * {:.2f} = {:.2f}\".format(x, y, x * y))\n",
    "    elif operacao == 3:\n",
    "        print(\">>> Divisão (/)\")\n",
    "        print(\"{:.2f} / {:.2f} = {:.2f}\".format(x, y, x / y))\n",
    "    else:\n",
    "        print(\">>> Exponenciação (^)\")\n",
    "        print(\"{:.2f} ** {:.2f} = {:.2f}\".format(x, y, x ** y))\n",
    "    \n",
    "    print(\"-\" * 15)\n",
    "    \n",
    "    segue = int(input(\"Deseja realizar outra operação? [0 - SIM, 1 - NÃO] \"))\n",
    "    \n",
    "    if segue == 1:\n",
    "        break"
   ]
  },
  {
   "cell_type": "markdown",
   "id": "9df54d9c",
   "metadata": {},
   "source": [
    "# Capítulo 1.4.3: Software de Gestão"
   ]
  },
  {
   "cell_type": "code",
   "execution_count": 266,
   "id": "49ca4cd6",
   "metadata": {},
   "outputs": [
    {
     "name": "stdout",
     "output_type": "stream",
     "text": [
      "===========\n",
      "Bem-vindo a Locadora de Carros!\n",
      "===========\n",
      "\n",
      "    0 - Mostrar portifólio\n",
      "    1 - Alugar um carro\n",
      "    2 - Devolver um carro\n",
      "\n",
      "    O que deseja fazer? \n",
      "    1\n",
      "===========\n",
      "[ ALUGAR ] Veja nosso portfólio:\n",
      "===========\n",
      "\n",
      "\n",
      "[0] Chevrolet Tracker - R$ 120 /dia.\n",
      "[1] Chevrolet Onix - R$ 90 /dia.\n",
      "[2] Chevrolet Spin - R$ 150 /dia.\n",
      "[3] Hyundai HB20 - R$ 85 /dia.\n",
      "[4] Hyundai Tucson - R$ 120 /dia.\n",
      "[5] Fiat Uno - R$ 60 /dia.\n",
      "[6] Fiat Mobi - R$ 70 /dia.\n",
      "[7] Fiat Pulse - R$ 130 /dia.\n",
      "===========\n",
      "Escolha o código do carro: 0\n",
      "Por quantos dias deseja alugar o carro? 10\n",
      "Você escolheu a Chevrolet Tracker por 10 dias.\n",
      "O aluguel total é de R$ 1200.00. Deseja alugar?  \n",
      "     \n",
      "        \"0 - SIM | 1 - NÃO 0\n",
      "Parabêns, você alugou a Chevrolet Tracker por 10 dias.\n",
      "\n",
      "===========\n",
      "0 para CONTINUAR | 1 para SAIR1\n"
     ]
    }
   ],
   "source": [
    "import os\n",
    "\n",
    "carros = [\n",
    "        (\"Chevrolet Tracker\", 120), \n",
    "        (\"Chevrolet Onix\", 90), \n",
    "        (\"Chevrolet Spin\", 150),\n",
    "        (\"Hyundai HB20\", 85), \n",
    "        (\"Hyundai Tucson\", 120), \n",
    "        (\"Fiat Uno\", 60), \n",
    "        (\"Fiat Mobi\", 70), \n",
    "        (\"Fiat Pulse\", 130)\n",
    "        ]\n",
    "\n",
    "lst_carros_alugados = []\n",
    "\n",
    "def mostrar_lista_de_carros(lista_de_carros):\n",
    "    for i, car in enumerate(lista_de_carros):\n",
    "        print(\"[{}] {} - R$ {} /dia.\".format(i, car[0], car[1]))\n",
    "\n",
    "while True:\n",
    "    os.system(\"cls\")\n",
    "    print(\"===========\")\n",
    "    print(\"Bem-vindo a Locadora de Carros!\")\n",
    "    print(\"===========\")\n",
    "\n",
    "    servico = int(input('''\n",
    "    0 - Mostrar portifólio\n",
    "    1 - Alugar um carro\n",
    "    2 - Devolver um carro\n",
    "\n",
    "    O que deseja fazer? \n",
    "    '''))\n",
    "\n",
    "    os.system(\"cls\")\n",
    "    if servico == 0:\n",
    "        mostrar_lista_de_carros(carros)\n",
    "\n",
    "    elif servico == 1:\n",
    "        print(\"===========\")\n",
    "        print(\"[ ALUGAR ] Veja nosso portfólio:\")\n",
    "        print(\"===========\")\n",
    "        print(\"\\n\")\n",
    "        mostrar_lista_de_carros(carros)\n",
    "        print(\"===========\")\n",
    "        \n",
    "        cod_carro = int(input(\"Escolha o código do carro: \"))        \n",
    "        dias_aluguel = int(input(\"Por quantos dias deseja alugar o carro? \"))\n",
    "        aluguel_total = carros[cod_carro][1] * dias_aluguel\n",
    "        \n",
    "        os.system(\"clear\")\n",
    "        print(\"Você escolheu a {} por {} dias.\".format(carros[cod_carro][0], dias_aluguel))\n",
    "        \n",
    "        confirma_aluguel = int(input('''O aluguel total é de R$ {:.2f}. Deseja alugar?  \\n     \n",
    "        \"0 - SIM | 1 - NÃO '''.format(aluguel_total)))      \n",
    "\n",
    "        if confirma_aluguel == 0:\n",
    "            print(\"Parabêns, você alugou a {} por {} dias.\".format(carros[cod_carro][0], dias_aluguel))\n",
    "            lst_carros_alugados.append(carros.pop(cod_carro))\n",
    "            \n",
    "    elif servico == 2:\n",
    "        if len(lst_carros_alugados) == 0:\n",
    "            print(\"Não há carros para devolver.\")         \n",
    "        else:\n",
    "            print(\"===========\")\n",
    "            print(\"[ DEVOLVER ] Segue a lista de carros alugados. Qual deseja devolver? \")\n",
    "            print(\"===========\")\n",
    "            print(\"\\n\")\n",
    "            mostrar_lista_de_carros(lst_carros_alugados)\n",
    "        \n",
    "            cod_carro_devolver = int(input(\"Escolha o código do carro que deseja devolver? \"))\n",
    "        \n",
    "            if confirma_aluguel == 0:\n",
    "                print(\"Obrigado por devolver o carro {}\".format(lst_carros_alugados[cod_carro_devolver][0]))        \n",
    "                carros.append(lst_carros_alugados.pop(cod_carro_devolver))        \n",
    "        \n",
    "    print(\"\")\n",
    "    print(\"===========\")\n",
    "    menu = int(input(\"0 para CONTINUAR | 1 para SAIR\"))\n",
    "    if menu == 1:\n",
    "        break"
   ]
  },
  {
   "cell_type": "markdown",
   "id": "9580448d",
   "metadata": {},
   "source": [
    "## Python Starter - Gerenciamento de Erros e Depuração de Código"
   ]
  },
  {
   "cell_type": "markdown",
   "id": "13364ba0",
   "metadata": {},
   "source": [
    "# Capítulo 1.5.2: Importação de Módulos e pdb"
   ]
  },
  {
   "cell_type": "markdown",
   "id": "442456a0",
   "metadata": {},
   "source": [
    "### Verificar bibliotecas instaladas no Python"
   ]
  },
  {
   "cell_type": "code",
   "execution_count": 267,
   "id": "3e323bd3",
   "metadata": {},
   "outputs": [
    {
     "name": "stdout",
     "output_type": "stream",
     "text": [
      "absl-py==1.0.0\n",
      "alabaster @ file:///home/ktietz/src/ci/alabaster_1611921544520/work\n",
      "altair==4.2.0\n",
      "altgraph==0.17.2\n",
      "anaconda-client @ file:///C:/ci/anaconda-client_1635342725944/work\n",
      "anaconda-navigator==2.1.1\n",
      "anaconda-project @ file:///tmp/build/80754af9/anaconda-project_1626085644852/work\n",
      "anyio @ file:///C:/ci/anyio_1620153135622/work/dist\n",
      "appdirs==1.4.4\n",
      "argh==0.26.2\n",
      "argon2-cffi @ file:///C:/ci/argon2-cffi_1613037869401/work\n",
      "arrow @ file:///C:/ci/arrow_1617738834352/work\n",
      "asn1crypto @ file:///tmp/build/80754af9/asn1crypto_1596577642040/work\n",
      "astroid @ file:///C:/ci/astroid_1628063282661/work\n",
      "astropy @ file:///C:/ci/astropy_1629829318700/work\n",
      "astunparse==1.6.3\n",
      "async-generator @ file:///home/ktietz/src/ci/async_generator_1611927993394/work\n",
      "atomicwrites==1.4.0\n",
      "attrs @ file:///opt/conda/conda-bld/attrs_1642510447205/work\n",
      "auto-py-to-exe==2.20.0\n",
      "Automat==20.2.0\n",
      "autopep8 @ file:///tmp/build/80754af9/autopep8_1620866417880/work\n",
      "aws-lambda-builders==1.17.0\n",
      "aws-sam-cli==1.52.0\n",
      "aws-sam-translator==1.46.0\n",
      "Babel @ file:///tmp/build/80754af9/babel_1620871417480/work\n",
      "backcall @ file:///home/ktietz/src/ci/backcall_1611930011877/work\n",
      "backports.functools-lru-cache @ file:///tmp/build/80754af9/backports.functools_lru_cache_1618170165463/work\n",
      "backports.shutil-get-terminal-size @ file:///tmp/build/80754af9/backports.shutil_get_terminal_size_1608222128777/work\n",
      "backports.tempfile @ file:///home/linux1/recipes/ci/backports.tempfile_1610991236607/work\n",
      "backports.weakref==1.0.post1\n",
      "bcrypt @ file:///C:/ci/bcrypt_1607022693089/work\n",
      "beautifulsoup4 @ file:///tmp/build/80754af9/beautifulsoup4_1631874778482/work\n",
      "binaryornot @ file:///tmp/build/80754af9/binaryornot_1617751525010/work\n",
      "bitarray @ file:///C:/ci/bitarray_1629133068652/work\n",
      "bkcharts==0.2\n",
      "black==19.10b0\n",
      "bleach @ file:///tmp/build/80754af9/bleach_1628110601003/work\n",
      "blinker==1.4\n",
      "bokeh @ file:///C:/ci/bokeh_1635306491714/work\n",
      "boto==2.49.0\n",
      "boto3==1.24.11\n",
      "botocore==1.27.11\n",
      "bottle==0.12.19\n",
      "bottle-websocket==0.2.9\n",
      "Bottleneck @ file:///C:/ci/bottleneck_1607557040328/work\n",
      "brewer2mpl==1.4.1\n",
      "brotlipy==0.7.0\n",
      "CacheControl==0.12.10\n",
      "cached-property @ file:///tmp/build/80754af9/cached-property_1600785575025/work\n",
      "cachetools==4.2.4\n",
      "cachy==0.3.0\n",
      "certifi @ file:///C:/Windows/TEMP/abs_e9b7158a-aa56-4a5b-87b6-c00d295b01fanefpc8_o/croots/recipe/certifi_1655968940823/work/certifi\n",
      "cffi @ file:///C:/ci/cffi_1625831756778/work\n",
      "chardet @ file:///C:/ci/chardet_1607706937985/work\n",
      "charset-normalizer @ file:///tmp/build/80754af9/charset-normalizer_1630003229654/work\n",
      "chart-studio==1.1.0\n",
      "chevron==0.14.0\n",
      "cirq==0.13.1\n",
      "cirq-aqt==0.13.1\n",
      "cirq-core==0.13.1\n",
      "cirq-google==0.13.1\n",
      "cirq-ionq==0.13.1\n",
      "cirq-pasqal==0.13.1\n",
      "cirq-rigetti==0.13.1\n",
      "cirq-web==0.13.1\n",
      "cleo==0.8.1\n",
      "click==7.1.2\n",
      "clikit==0.6.2\n",
      "cloudpickle @ file:///tmp/build/80754af9/cloudpickle_1632508026186/work\n",
      "clyent==1.2.2\n",
      "colorama @ file:///tmp/build/80754af9/colorama_1607707115595/work\n",
      "colorlover==0.3.0\n",
      "comtypes==1.1.10\n",
      "conda==4.13.0\n",
      "conda-build==3.21.6\n",
      "conda-content-trust @ file:///tmp/build/80754af9/conda-content-trust_1617045594566/work\n",
      "conda-pack @ file:///tmp/build/80754af9/conda-pack_1611163042455/work\n",
      "conda-package-handling @ file:///C:/ci/conda-package-handling_1618262410900/work\n",
      "conda-repo-cli @ file:///tmp/build/80754af9/conda-repo-cli_1620168426516/work\n",
      "conda-token @ file:///tmp/build/80754af9/conda-token_1620076980546/work\n",
      "conda-verify==3.4.2\n",
      "constantly==15.1.0\n",
      "contextlib2 @ file:///Users/ktietz/demo/mc3/conda-bld/contextlib2_1630668244042/work\n",
      "convertdate==2.4.0\n",
      "cookiecutter==1.7.3\n",
      "crashtest==0.3.1\n",
      "cryptography @ file:///C:/ci/cryptography_1633520531101/work\n",
      "cssselect==1.1.0\n",
      "cssutils==2.4.0\n",
      "cufflinks==0.17.3\n",
      "cycler==0.10.0\n",
      "Cython @ file:///C:/ci/cython_1647850559892/work\n",
      "cytoolz==0.11.0\n",
      "daal4py==2021.3.0\n",
      "dask==2021.10.0\n",
      "dateparser==1.1.1\n",
      "debugpy @ file:///C:/ci/debugpy_1629222819322/work\n",
      "decorator @ file:///tmp/build/80754af9/decorator_1632776554403/work\n",
      "defusedxml @ file:///tmp/build/80754af9/defusedxml_1615228127516/work\n",
      "Delorean==1.0.0\n",
      "diff-match-patch @ file:///Users/ktietz/demo/mc3/conda-bld/diff-match-patch_1630511840874/work\n",
      "distlib==0.3.4\n",
      "distributed @ file:///C:/ci/distributed_1635968318313/work\n",
      "distro==1.7.0\n",
      "dm-sonnet==1.23\n",
      "docker==4.2.2\n",
      "docutils @ file:///C:/ci/docutils_1620828264669/work\n",
      "duet==0.2.3\n",
      "easydict==1.8\n",
      "Eel==0.12.4\n",
      "entrypoints==0.3\n",
      "ephem==4.1.3\n",
      "et-xmlfile==1.1.0\n",
      "fastcache @ file:///C:/ci/fastcache_1607571310570/work\n",
      "filelock @ file:///tmp/build/80754af9/filelock_1635402558181/work\n",
      "flake8 @ file:///tmp/build/80754af9/flake8_1620776156532/work\n",
      "flashtext==2.7\n",
      "Flask @ file:///home/ktietz/src/ci/flask_1611932660458/work\n",
      "Flask-MySQL==1.5.2\n",
      "flatbuffers==2.0\n",
      "fonttools==4.25.0\n",
      "fsspec @ file:///tmp/build/80754af9/fsspec_1636116461911/work\n",
      "future @ file:///C:/ci/future_1607568713721/work\n",
      "fuzzywuzzy==0.18.0\n",
      "gast==0.5.3\n",
      "gensim==4.1.2\n",
      "gevent @ file:///C:/ci/gevent_1628273776273/work\n",
      "gevent-websocket==0.10.1\n",
      "ggplot==0.11.5\n",
      "gitdb==4.0.9\n",
      "GitPython==3.1.27\n",
      "glob2 @ file:///home/linux1/recipes/ci/glob2_1610991677669/work\n",
      "google-api-core==1.31.5\n",
      "google-api-python-client==2.49.0\n",
      "google-auth==1.35.0\n",
      "google-auth-httplib2==0.1.0\n",
      "google-auth-oauthlib==0.4.6\n",
      "google-pasta==0.2.0\n",
      "googleapis-common-protos==1.55.0\n",
      "graphviz==0.20\n",
      "greenlet @ file:///C:/ci/greenlet_1628888275363/work\n",
      "grpcio==1.44.0\n",
      "h11==0.9.0\n",
      "h2==3.2.0\n",
      "h5py @ file:///C:/ci/h5py_1622088609188/work\n",
      "HeapDict @ file:///Users/ktietz/demo/mc3/conda-bld/heapdict_1630598515714/work\n",
      "hijri-converter==2.2.4\n",
      "holidays==0.14.2\n",
      "hpack==3.0.0\n",
      "html5lib @ file:///Users/ktietz/demo/mc3/conda-bld/html5lib_1629144453894/work\n",
      "htmlmin==0.1.12\n",
      "httpcore==0.11.1\n",
      "httplib2==0.20.4\n",
      "httpx==0.15.5\n",
      "humanize==4.0.0\n",
      "hyperframe==5.2.0\n",
      "hyperlink==21.0.0\n",
      "idna==2.10\n",
      "imagecodecs @ file:///C:/ci/imagecodecs_1635511087451/work\n",
      "ImageHash==4.2.1\n",
      "imageio @ file:///tmp/build/80754af9/imageio_1617700267927/work\n",
      "imagesize @ file:///Users/ktietz/demo/mc3/conda-bld/imagesize_1628863108022/work\n",
      "imap-tools==0.55.0\n",
      "imbalanced-learn==0.9.1\n",
      "imblearn==0.0\n",
      "imdb-sqlite==0.1.3\n",
      "importlib-metadata @ file:///C:/ci/importlib-metadata_1631916826748/work\n",
      "incremental==21.3.0\n",
      "inflection==0.5.1\n",
      "iniconfig @ file:///home/linux1/recipes/ci/iniconfig_1610983019677/work\n",
      "intervaltree @ file:///Users/ktietz/demo/mc3/conda-bld/intervaltree_1630511889664/work\n",
      "ipykernel @ file:///C:/ci/ipykernel_1633545585502/work/dist/ipykernel-6.4.1-py3-none-any.whl\n",
      "ipython @ file:///C:/ci/ipython_1635944283918/work\n",
      "ipython-genutils @ file:///tmp/build/80754af9/ipython_genutils_1606773439826/work\n",
      "ipywidgets @ file:///tmp/build/80754af9/ipywidgets_1634143127070/work\n",
      "iso8601==0.1.16\n",
      "isort @ file:///tmp/build/80754af9/isort_1628603791788/work\n",
      "itemadapter==0.4.0\n",
      "itemloaders==1.0.4\n",
      "itsdangerous @ file:///tmp/build/80754af9/itsdangerous_1621432558163/work\n",
      "jdcal @ file:///Users/ktietz/demo/mc3/conda-bld/jdcal_1630584345063/work\n",
      "jedi @ file:///C:/ci/jedi_1611341083684/work\n",
      "Jinja2 @ file:///tmp/build/80754af9/jinja2_1612213139570/work\n",
      "jinja2-time @ file:///tmp/build/80754af9/jinja2-time_1617751524098/work\n",
      "jmespath==0.10.0\n",
      "joblib @ file:///tmp/build/80754af9/joblib_1635411271373/work\n",
      "json5 @ file:///tmp/build/80754af9/json5_1624432770122/work\n",
      "jsonschema @ file:///Users/ktietz/demo/mc3/conda-bld/jsonschema_1630511932244/work\n",
      "jupyter @ file:///C:/ci/jupyter_1607685287094/work\n",
      "jupyter-client @ file:///tmp/build/80754af9/jupyter_client_1616770841739/work\n",
      "jupyter-console @ file:///tmp/build/80754af9/jupyter_console_1616615302928/work\n",
      "jupyter-core @ file:///C:/ci/jupyter_core_1633420716440/work\n",
      "jupyter-server @ file:///C:/ci/jupyter_server_1616084298419/work\n",
      "jupyter-ui-poll==0.2.1\n",
      "jupyterlab @ file:///tmp/build/80754af9/jupyterlab_1635799997693/work\n",
      "jupyterlab-pygments @ file:///tmp/build/80754af9/jupyterlab_pygments_1601490720602/work\n",
      "jupyterlab-server @ file:///tmp/build/80754af9/jupyterlab_server_1633419203660/work\n",
      "jupyterlab-widgets @ file:///tmp/build/80754af9/jupyterlab_widgets_1609884341231/work\n",
      "keras==2.8.0\n",
      "Keras-Preprocessing==1.1.2\n",
      "keyboard==0.13.5\n",
      "keyring @ file:///C:/ci/keyring_1629321702436/work\n",
      "Kivy==2.0.0\n",
      "kivy-deps.angle==0.3.2\n",
      "kivy-deps.glew==0.3.1\n",
      "kivy-deps.sdl2==0.3.1\n",
      "Kivy-Garden==0.1.4\n",
      "kiwisolver @ file:///C:/ci/kiwisolver_1612282555033/work\n",
      "korean-lunar-calendar==0.2.1\n",
      "lark==0.11.3\n",
      "lazy-object-proxy @ file:///C:/ci/lazy-object-proxy_1616529288960/work\n",
      "libarchive-c @ file:///tmp/build/80754af9/python-libarchive-c_1617780486945/work\n",
      "libclang==13.0.0\n",
      "llvmlite==0.37.0\n",
      "locket==0.2.1\n",
      "lockfile==0.12.2\n",
      "luminoth==0.2.3\n",
      "lxml @ file:///C:/ci/lxml_1616443418777/work\n",
      "mahotas==1.4.12\n",
      "Markdown==3.3.6\n",
      "MarkupSafe==2.0.1\n",
      "matplotlib==3.5.1\n",
      "matplotlib-inline @ file:///tmp/build/80754af9/matplotlib-inline_1628242447089/work\n",
      "mccabe==0.6.1\n",
      "menuinst @ file:///C:/ci/menuinst_1631733438520/work\n",
      "missingno==0.5.1\n",
      "mistune @ file:///C:/ci/mistune_1607359457024/work\n",
      "mkl-fft==1.3.1\n",
      "mkl-random @ file:///C:/ci/mkl_random_1626186184308/work\n"
     ]
    },
    {
     "name": "stdout",
     "output_type": "stream",
     "text": [
      "mkl-service==2.4.0\n",
      "mlxtend==0.20.0\n",
      "mock @ file:///tmp/build/80754af9/mock_1607622725907/work\n",
      "more-itertools @ file:///tmp/build/80754af9/more-itertools_1635423142362/work\n",
      "MouseInfo==0.1.3\n",
      "mpmath==1.2.1\n",
      "msal==1.17.0\n",
      "msgpack @ file:///C:/ci/msgpack-python_1652329316214/work\n",
      "mtcnn==0.1.1\n",
      "multimethod==1.8\n",
      "multipledispatch @ file:///C:/ci/multipledispatch_1607574329826/work\n",
      "munkres==1.1.4\n",
      "mypy-extensions==0.4.3\n",
      "navigator-updater==0.2.1\n",
      "nbclassic @ file:///tmp/build/80754af9/nbclassic_1616085367084/work\n",
      "nbclient @ file:///tmp/build/80754af9/nbclient_1614364831625/work\n",
      "nbconvert @ file:///C:/ci/nbconvert_1624479160025/work\n",
      "nbformat @ file:///tmp/build/80754af9/nbformat_1617383369282/work\n",
      "nest-asyncio @ file:///tmp/build/80754af9/nest-asyncio_1613680548246/work\n",
      "networkx @ file:///tmp/build/80754af9/networkx_1633639043937/work\n",
      "nltk==3.6.5\n",
      "nose @ file:///tmp/build/80754af9/nose_1606773131901/work\n",
      "notebook @ file:///C:/ci/notebook_1635393701545/work\n",
      "numba @ file:///C:/ci/numba_1635186062888/work\n",
      "numexpr @ file:///C:/ci/numexpr_1618856728739/work\n",
      "numpy @ file:///C:/ci/numpy_and_numpy_base_1626271900803/work\n",
      "numpydoc @ file:///tmp/build/80754af9/numpydoc_1605117425582/work\n",
      "oauthlib==3.2.0\n",
      "olefile @ file:///Users/ktietz/demo/mc3/conda-bld/olefile_1629805411829/work\n",
      "opencv-python==4.5.5.62\n",
      "openpyxl @ file:///tmp/build/80754af9/openpyxl_1632777717936/work\n",
      "opt-einsum==3.3.0\n",
      "outcome==1.1.0\n",
      "packaging @ file:///tmp/build/80754af9/packaging_1637314298585/work\n",
      "pandas @ file:///C:/ci/pandas_1635506685681/work\n",
      "pandas-datareader==0.10.0\n",
      "pandas-profiling==3.2.0\n",
      "pandocfilters @ file:///C:/ci/pandocfilters_1605114832805/work\n",
      "paramiko @ file:///tmp/build/80754af9/paramiko_1598886428689/work\n",
      "parsel==1.6.0\n",
      "parso @ file:///tmp/build/80754af9/parso_1617223946239/work\n",
      "partd @ file:///tmp/build/80754af9/partd_1618000087440/work\n",
      "pastel==0.2.1\n",
      "path @ file:///C:/ci/path_1624287837534/work\n",
      "pathlib==1.0.1\n",
      "pathlib2 @ file:///C:/ci/pathlib2_1625585796814/work\n",
      "pathspec==0.7.0\n",
      "patsy==0.5.2\n",
      "pefile==2021.9.3\n",
      "pep8==1.7.1\n",
      "pexpect @ file:///tmp/build/80754af9/pexpect_1605563209008/work\n",
      "phik==0.12.2\n",
      "pickleshare @ file:///tmp/build/80754af9/pickleshare_1606932040724/work\n",
      "pikepdf==5.1.2\n",
      "Pillow==8.4.0\n",
      "pkginfo==1.7.1\n",
      "platformdirs==2.5.1\n",
      "plotly==5.6.0\n",
      "pluggy @ file:///C:/ci/pluggy_1615976440052/work\n",
      "ply==3.11\n",
      "poetry==1.1.13\n",
      "poetry-core==1.0.7\n",
      "powerbiclient==1.0.0\n",
      "poyo @ file:///tmp/build/80754af9/poyo_1617751526755/work\n",
      "premailer==3.10.0\n",
      "priority==1.3.0\n",
      "prometheus-client @ file:///tmp/build/80754af9/prometheus_client_1623189609245/work\n",
      "prompt-toolkit @ file:///tmp/build/80754af9/prompt-toolkit_1633440160888/work\n",
      "Protego==0.2.1\n",
      "protobuf==3.19.4\n",
      "psutil @ file:///C:/ci/psutil_1612298199233/work\n",
      "ptyprocess @ file:///tmp/build/80754af9/ptyprocess_1609355006118/work/dist/ptyprocess-0.7.0-py2.py3-none-any.whl\n",
      "py @ file:///tmp/build/80754af9/py_1607971587848/work\n",
      "py4j==0.10.9.3\n",
      "pyarrow==8.0.0\n",
      "pyasn1==0.4.8\n",
      "pyasn1-modules==0.2.8\n",
      "PyAutoGUI==0.9.53\n",
      "pycodestyle @ file:///tmp/build/80754af9/pycodestyle_1615748559966/work\n",
      "pycosat==0.6.3\n",
      "pycountry==22.3.5\n",
      "pycparser @ file:///tmp/build/80754af9/pycparser_1594388511720/work\n",
      "pycurl==7.44.1\n",
      "pydantic==1.8.2\n",
      "pydeck==0.7.1\n",
      "PyDispatcher==2.0.5\n",
      "pydocstyle @ file:///tmp/build/80754af9/pydocstyle_1621600989141/work\n",
      "pydot==1.4.2\n",
      "pyerfa @ file:///C:/ci/pyerfa_1621560974055/work\n",
      "pyflakes @ file:///tmp/build/80754af9/pyflakes_1617200973297/work\n",
      "pygame==2.1.2\n",
      "PyGetWindow==0.0.9\n",
      "Pygments @ file:///tmp/build/80754af9/pygments_1629234116488/work\n",
      "pyinstaller==5.1\n",
      "pyinstaller-hooks-contrib==2022.5\n",
      "PyJWT==2.4.0\n",
      "pylev==1.4.0\n",
      "pylint @ file:///C:/ci/pylint_1627536884966/work\n",
      "pyls-spyder==0.4.0\n",
      "PyMeeus==0.5.11\n",
      "pymongo==4.1.0\n",
      "Pympler==1.0.1\n",
      "PyMsgBox==1.0.9\n",
      "PyMySQL==1.0.2\n",
      "PyNaCl @ file:///C:/ci/pynacl_1607612759007/work\n",
      "pyodbc===4.0.0-unsupported\n",
      "pyOpenSSL @ file:///tmp/build/80754af9/pyopenssl_1635333100036/work\n",
      "pyparsing @ file:///tmp/build/80754af9/pyparsing_1635766073266/work\n",
      "PyPDF2==1.27.9\n",
      "pyperclip==1.8.2\n",
      "pypiwin32==223\n",
      "PyQt5==5.15.6\n",
      "PyQt5-Qt5==5.15.2\n",
      "PyQt5-sip==12.9.1\n",
      "PyQtWebEngine==5.15.5\n",
      "PyQtWebEngine-Qt5==5.15.2\n",
      "pyquil==3.0.1\n",
      "pyreadline==2.1\n",
      "PyRect==0.1.4\n",
      "pyrsistent @ file:///C:/ci/pyrsistent_1636093225342/work\n",
      "PyScreeze==0.1.28\n",
      "PySocks @ file:///C:/ci/pysocks_1605307512533/work\n",
      "pyspark==3.2.1\n",
      "pytest==6.2.4\n",
      "python-dateutil @ file:///tmp/build/80754af9/python-dateutil_1626374649649/work\n",
      "python-lsp-black @ file:///tmp/build/80754af9/python-lsp-black_1634232156041/work\n",
      "python-lsp-jsonrpc==1.0.0\n",
      "python-lsp-server==1.2.4\n",
      "python-rapidjson==1.6\n",
      "python-slugify @ file:///tmp/build/80754af9/python-slugify_1620405669636/work\n",
      "pytil==7.0.0\n",
      "pytweening==1.0.4\n",
      "pytz==2021.3\n",
      "pytz-deprecation-shim==0.1.0.post0\n",
      "PyWavelets @ file:///C:/ci/pywavelets_1607645631519/work\n",
      "pywin32==228\n",
      "pywin32-ctypes @ file:///C:/ci/pywin32-ctypes_1607553594546/work\n",
      "pywinpty @ file:///C:/ci/pywinpty_1607419945780/work\n",
      "PyYAML==5.4.1\n",
      "pyzmq @ file:///C:/ci/pyzmq_1628276105793/work\n",
      "qcs-api-client==0.8.0\n",
      "QDarkStyle @ file:///tmp/build/80754af9/qdarkstyle_1617386714626/work\n",
      "qstylizer @ file:///tmp/build/80754af9/qstylizer_1617713584600/work/dist/qstylizer-0.1.10-py2.py3-none-any.whl\n",
      "QtAwesome @ file:///tmp/build/80754af9/qtawesome_1615991616277/work\n",
      "qtconsole @ file:///tmp/build/80754af9/qtconsole_1632739723211/work\n",
      "QtPy @ file:///tmp/build/80754af9/qtpy_1629397026935/work\n",
      "queuelib==1.6.2\n",
      "regex==2021.9.30\n",
      "requests==2.25.1\n",
      "requests-oauthlib==1.3.1\n",
      "requests-toolbelt==0.9.1\n",
      "retry==0.9.2\n",
      "retrying==1.3.3\n",
      "rfc3339==6.2\n",
      "rfc3986==1.5.0\n",
      "rope @ file:///tmp/build/80754af9/rope_1623703006312/work\n",
      "rpcq==3.9.2\n",
      "rsa==4.8\n",
      "Rtree @ file:///C:/ci/rtree_1618421015405/work\n",
      "ruamel-yaml-conda @ file:///C:/ci/ruamel_yaml_1616016898638/work\n",
      "ruamel.yaml==0.17.21\n",
      "ruamel.yaml.clib==0.2.6\n",
      "s3transfer==0.6.0\n",
      "scikit-image==0.18.3\n",
      "scikit-learn==1.1.1\n",
      "scikit-learn-intelex==2021.20210714.120553\n",
      "scikit-video==1.1.11\n",
      "scipy @ file:///C:/ci/scipy_1630606917240/work\n",
      "Scrapy==2.5.1\n",
      "seaborn @ file:///tmp/build/80754af9/seaborn_1629307859561/work\n",
      "selenium==4.1.5\n",
      "semver==2.13.0\n",
      "Send2Trash @ file:///tmp/build/80754af9/send2trash_1632406701022/work\n",
      "serverlessrepo==0.1.10\n",
      "service-identity==21.1.0\n",
      "setuptools-git==1.2\n",
      "shellingham==1.4.0\n",
      "simplegeneric==0.8.1\n",
      "singledispatch @ file:///tmp/build/80754af9/singledispatch_1629321204894/work\n",
      "sip==4.19.13\n",
      "six @ file:///tmp/build/80754af9/six_1623709665295/work\n",
      "sklearn==0.0\n",
      "smart-open==5.2.1\n",
      "smmap==5.0.0\n",
      "sniffio @ file:///C:/ci/sniffio_1614030527509/work\n",
      "snowballstemmer @ file:///tmp/build/80754af9/snowballstemmer_1611258885636/work\n",
      "sortedcollections @ file:///tmp/build/80754af9/sortedcollections_1611172717284/work\n",
      "sortedcontainers @ file:///tmp/build/80754af9/sortedcontainers_1623949099177/work\n",
      "soupsieve @ file:///tmp/build/80754af9/soupsieve_1616183228191/work\n",
      "Sphinx==4.2.0\n",
      "sphinxcontrib-applehelp @ file:///home/ktietz/src/ci/sphinxcontrib-applehelp_1611920841464/work\n",
      "sphinxcontrib-devhelp @ file:///home/ktietz/src/ci/sphinxcontrib-devhelp_1611920923094/work\n",
      "sphinxcontrib-htmlhelp @ file:///tmp/build/80754af9/sphinxcontrib-htmlhelp_1623945626792/work\n",
      "sphinxcontrib-jsmath @ file:///home/ktietz/src/ci/sphinxcontrib-jsmath_1611920942228/work\n",
      "sphinxcontrib-qthelp @ file:///home/ktietz/src/ci/sphinxcontrib-qthelp_1611921055322/work\n",
      "sphinxcontrib-serializinghtml @ file:///tmp/build/80754af9/sphinxcontrib-serializinghtml_1624451540180/work\n",
      "sphinxcontrib-websupport @ file:///tmp/build/80754af9/sphinxcontrib-websupport_1597081412696/work\n",
      "spyder @ file:///C:/ci/spyder_1636480369575/work\n",
      "spyder-kernels @ file:///C:/ci/spyder-kernels_1634237096710/work\n",
      "SQLAlchemy @ file:///C:/ci/sqlalchemy_1626948551162/work\n",
      "statsmodels==0.12.2\n",
      "streamlit==1.9.0\n",
      "sympy @ file:///C:/ci/sympy_1635219088507/work\n",
      "tables==3.6.1\n",
      "tabula-py==2.3.0\n",
      "tabulate==0.8.9\n",
      "tangled-up-in-unicode==0.2.0\n",
      "TBB==0.2\n",
      "tblib @ file:///Users/ktietz/demo/mc3/conda-bld/tblib_1629402031467/work\n",
      "tenacity==8.0.1\n",
      "tensorboard==2.8.0\n",
      "tensorboard-data-server==0.6.1\n",
      "tensorboard-plugin-wit==1.8.1\n",
      "tensorflow==2.8.0\n",
      "tensorflow-io-gcs-filesystem==0.24.0\n",
      "termcolor==1.1.0\n",
      "terminado==0.9.4\n",
      "testpath @ file:///tmp/build/80754af9/testpath_1624638946665/work\n",
      "text-unidecode @ file:///Users/ktietz/demo/mc3/conda-bld/text-unidecode_1629401354553/work\n",
      "textblob==0.17.1\n",
      "textdistance @ file:///tmp/build/80754af9/textdistance_1612461398012/work\n",
      "tf-estimator-nightly==2.8.0.dev2021122109\n",
      "threadpoolctl @ file:///Users/ktietz/demo/mc3/conda-bld/threadpoolctl_1629802263681/work\n",
      "three-merge @ file:///tmp/build/80754af9/three-merge_1607553261110/work\n",
      "tifffile @ file:///tmp/build/80754af9/tifffile_1627275862826/work\n",
      "tinycss @ file:///tmp/build/80754af9/tinycss_1617713798712/work\n",
      "tk==0.1.0\n",
      "tkcalendar==1.6.1\n",
      "toml @ file:///tmp/build/80754af9/toml_1616166611790/work\n",
      "tomlkit==0.7.2\n",
      "toolz @ file:///home/linux1/recipes/ci/toolz_1610987900194/work\n",
      "tornado @ file:///C:/ci/tornado_1606924294691/work\n",
      "tqdm @ file:///tmp/build/80754af9/tqdm_1635330843403/work\n",
      "traitlets @ file:///tmp/build/80754af9/traitlets_1632522747050/work\n",
      "trio==0.20.0\n",
      "trio-websocket==0.9.2\n",
      "twilio==7.9.1\n",
      "Twisted==22.1.0\n",
      "twisted-iocpsupport==1.0.2\n",
      "twython==3.9.1\n",
      "typed-ast @ file:///C:/ci/typed-ast_1624953797214/work\n",
      "typing-extensions==3.10.0.0\n",
      "tzdata==2021.5\n",
      "tzlocal==3.0\n",
      "ujson @ file:///C:/ci/ujson_1611259568517/work\n",
      "unicodecsv==0.14.1\n",
      "Unidecode @ file:///tmp/build/80754af9/unidecode_1614712377438/work\n",
      "uritemplate==4.1.1\n",
      "urllib3==1.26.7\n",
      "validators==0.19.0\n",
      "virtualenv==20.13.1\n",
      "visions==0.7.4\n",
      "w3lib==1.22.0\n",
      "watchdog==2.1.2\n",
      "wcwidth @ file:///Users/ktietz/demo/mc3/conda-bld/wcwidth_1629357192024/work\n",
      "webdriver-manager==3.5.4\n",
      "webencodings==0.5.1\n",
      "websocket-client==1.3.2\n",
      "Werkzeug @ file:///tmp/build/80754af9/werkzeug_1635505089296/work\n",
      "whichcraft @ file:///tmp/build/80754af9/whichcraft_1617751293875/work\n",
      "widgetsnbextension @ file:///C:/ci/widgetsnbextension_1607531582688/work\n",
      "win-inet-pton @ file:///C:/ci/win_inet_pton_1605306162074/work\n",
      "win-unicode-console==0.5\n",
      "wincertstore==0.2\n",
      "wrapt @ file:///C:/ci/wrapt_1607574570428/work\n",
      "wsproto==1.0.0\n",
      "wxPython==4.1.1\n",
      "xgboost==1.6.1\n",
      "xlrd @ file:///tmp/build/80754af9/xlrd_1608072521494/work\n",
      "XlsxWriter @ file:///tmp/build/80754af9/xlsxwriter_1628603415431/work\n",
      "xlwings==0.24.9\n",
      "xlwt==1.3.0\n",
      "xmltodict @ file:///Users/ktietz/demo/mc3/conda-bld/xmltodict_1629301980723/work\n",
      "yagmail==0.15.277\n",
      "yapf @ file:///tmp/build/80754af9/yapf_1615749224965/work\n",
      "zict==2.0.0\n",
      "zipp @ file:///tmp/build/80754af9/zipp_1633618647012/work\n",
      "zope.event==4.5.0\n",
      "zope.interface @ file:///C:/ci/zope.interface_1625036252485/work\n"
     ]
    }
   ],
   "source": [
    "!pip freeze"
   ]
  },
  {
   "cell_type": "markdown",
   "id": "8eaabb35",
   "metadata": {},
   "source": [
    "## Python Debugger"
   ]
  },
  {
   "cell_type": "markdown",
   "id": "6a06703f",
   "metadata": {},
   "source": [
    "Você provavelmente usou uma variedade de instruções de impressão para tentar encontrar erros em seu código.<BR>\n",
    "Uma maneira melhor de fazer isso é usando o módulo de depuração incorporado do Python (pdb).\n",
    "\n",
    "- O módulo pdb implementa um ambiente de depuração interativo para programas Python."
   ]
  },
  {
   "cell_type": "markdown",
   "id": "8cec3264",
   "metadata": {},
   "source": [
    "#### Aqui vamos criar um erro de propósito, tentando adicionar uma lista a um número inteiro"
   ]
  },
  {
   "cell_type": "code",
   "execution_count": 268,
   "id": "09dec0ae",
   "metadata": {},
   "outputs": [
    {
     "name": "stdout",
     "output_type": "stream",
     "text": [
      "5\n"
     ]
    },
    {
     "ename": "TypeError",
     "evalue": "unsupported operand type(s) for +: 'int' and 'list'",
     "output_type": "error",
     "traceback": [
      "\u001b[1;31m---------------------------------------------------------------------------\u001b[0m",
      "\u001b[1;31mTypeError\u001b[0m                                 Traceback (most recent call last)",
      "\u001b[1;32m~\\AppData\\Local\\Temp/ipykernel_19132/2257702024.py\u001b[0m in \u001b[0;36m<module>\u001b[1;34m\u001b[0m\n\u001b[0;32m      6\u001b[0m \u001b[0mprint\u001b[0m\u001b[1;33m(\u001b[0m\u001b[0mresult\u001b[0m\u001b[1;33m)\u001b[0m\u001b[1;33m\u001b[0m\u001b[1;33m\u001b[0m\u001b[0m\n\u001b[0;32m      7\u001b[0m \u001b[1;33m\u001b[0m\u001b[0m\n\u001b[1;32m----> 8\u001b[1;33m \u001b[0mresult2\u001b[0m \u001b[1;33m=\u001b[0m \u001b[0my\u001b[0m \u001b[1;33m+\u001b[0m \u001b[0mx\u001b[0m\u001b[1;33m\u001b[0m\u001b[1;33m\u001b[0m\u001b[0m\n\u001b[0m\u001b[0;32m      9\u001b[0m \u001b[0mprint\u001b[0m\u001b[1;33m(\u001b[0m\u001b[0mresult2\u001b[0m\u001b[1;33m)\u001b[0m\u001b[1;33m\u001b[0m\u001b[1;33m\u001b[0m\u001b[0m\n",
      "\u001b[1;31mTypeError\u001b[0m: unsupported operand type(s) for +: 'int' and 'list'"
     ]
    }
   ],
   "source": [
    "x = [1,3,4]\n",
    "y = 2\n",
    "z = 3\n",
    "\n",
    "result = y + z\n",
    "print(result)\n",
    "\n",
    "result2 = y + x\n",
    "print(result2)"
   ]
  },
  {
   "cell_type": "markdown",
   "id": "45bb728c",
   "metadata": {},
   "source": [
    "**Vamos implementar um set_trace() usando o módulo pdb.**<BR>\n",
    "Isso nos permitirá basicamente pausar o código no ponto do rastreamento e verificar se algo está errado.\n",
    "    \n",
    "**Comandos:**\n",
    "- c -> Continue\n",
    "- q -> Quit (Encerrar)"
   ]
  },
  {
   "cell_type": "code",
   "execution_count": null,
   "id": "c5adcb8a",
   "metadata": {},
   "outputs": [],
   "source": [
    "import pdb\n",
    "x = [1,3,4]\n",
    "y = 2\n",
    "z = 3\n",
    "\n",
    "result = y + z\n",
    "print(result)\n",
    "\n",
    "# Usa o método set_trace() para pausar o código neste ponto.\n",
    "pdb.set_trace()\n",
    "result2 = y + x\n",
    "\n",
    "print(result2)"
   ]
  },
  {
   "cell_type": "markdown",
   "id": "466a53d4",
   "metadata": {},
   "source": [
    "# Capítulo 1.5.3: Try, Except e Finally"
   ]
  },
  {
   "cell_type": "markdown",
   "id": "0216f7d2",
   "metadata": {},
   "source": [
    "### try e except\n",
    "\n",
    "O código que pode causar uma exceção ocorre é colocado no **bloco try** e o tratamento da exceção é implementado no do bloco de código **except**.<BR>\n",
    "O formulário de sintaxe é:\n",
    "    \n",
    "**try**:<BR>\n",
    "    Você tenta fazer algo aqui...<BR>\n",
    "    ...<BR>\n",
    "**except Exception I**:<BR>\n",
    "    Se causar a ExceptionI, roda isso.<BR>\n",
    "**except Exception II**:<BR>\n",
    "    Se causar a Exception II, roda isso.<BR>\n",
    "    ...<BR>\n",
    "**else**:<BR>\n",
    "    Se não causar excessões, roda isso."
   ]
  },
  {
   "cell_type": "code",
   "execution_count": 272,
   "id": "950ea250",
   "metadata": {},
   "outputs": [
    {
     "ename": "TypeError",
     "evalue": "can only concatenate list (not \"int\") to list",
     "output_type": "error",
     "traceback": [
      "\u001b[1;31m---------------------------------------------------------------------------\u001b[0m",
      "\u001b[1;31mTypeError\u001b[0m                                 Traceback (most recent call last)",
      "\u001b[1;32m~\\AppData\\Local\\Temp/ipykernel_19132/3164430973.py\u001b[0m in \u001b[0;36m<module>\u001b[1;34m\u001b[0m\n\u001b[0;32m      2\u001b[0m \u001b[0my\u001b[0m \u001b[1;33m=\u001b[0m \u001b[1;36m1\u001b[0m\u001b[1;33m\u001b[0m\u001b[1;33m\u001b[0m\u001b[0m\n\u001b[0;32m      3\u001b[0m \u001b[1;33m\u001b[0m\u001b[0m\n\u001b[1;32m----> 4\u001b[1;33m \u001b[0mx\u001b[0m \u001b[1;33m+\u001b[0m \u001b[0my\u001b[0m\u001b[1;33m\u001b[0m\u001b[1;33m\u001b[0m\u001b[0m\n\u001b[0m",
      "\u001b[1;31mTypeError\u001b[0m: can only concatenate list (not \"int\") to list"
     ]
    }
   ],
   "source": [
    "x = [1, 2, 3]\n",
    "y = 1\n",
    "\n",
    "x + y"
   ]
  },
  {
   "cell_type": "code",
   "execution_count": 274,
   "id": "2c3453c6",
   "metadata": {},
   "outputs": [
    {
     "name": "stdout",
     "output_type": "stream",
     "text": [
      "Erro\n",
      "Olá\n"
     ]
    }
   ],
   "source": [
    "# Usando Except:\n",
    "\n",
    "x = [1, 2, 3]\n",
    "y = 1\n",
    "\n",
    "try: # Tente executar estas linhas\n",
    "    x + y\n",
    "    x = 1\n",
    "    y = 1\n",
    "except: # Caso ocorra algum problema, rode as linhas abaixo\n",
    "    print(\"Erro\")\n",
    "    \n",
    "print(\"Olá\")"
   ]
  },
  {
   "cell_type": "code",
   "execution_count": 275,
   "id": "3c6dc4ff",
   "metadata": {},
   "outputs": [
    {
     "name": "stdout",
     "output_type": "stream",
     "text": [
      "Erro can only concatenate list (not \"int\") to list\n",
      "Olá\n"
     ]
    }
   ],
   "source": [
    "# Usando Except Exception:\n",
    "\n",
    "x = [1, 2, 3]\n",
    "y = 1\n",
    "\n",
    "try: # Tente executar estas linhas\n",
    "    x + y\n",
    "    x = 1\n",
    "    y = 1\n",
    "\n",
    "# Caso ocorra algum problema, rode as linhas abaixo:\n",
    "# except Exception as e: Print do erro\n",
    "except Exception as e: \n",
    "    print(\"Erro {}\".format(e))\n",
    "    \n",
    "print(\"Olá\")"
   ]
  },
  {
   "cell_type": "code",
   "execution_count": 276,
   "id": "b5423924",
   "metadata": {},
   "outputs": [
    {
     "name": "stdout",
     "output_type": "stream",
     "text": [
      "Erro can only concatenate list (not \"int\") to list\n",
      "Testando Finally!!!\n"
     ]
    }
   ],
   "source": [
    "# Usando Finally - Todo código é executado independênte do erro:\n",
    "\n",
    "x = [1, 2, 3]\n",
    "y = 1\n",
    "\n",
    "try: # Tente executar estas linhas\n",
    "    x + y\n",
    "    x = 1\n",
    "    y = 1\n",
    "\n",
    "# Caso ocorra algum problema, rode as linhas abaixo:\n",
    "# except Exception as e: Print do erro\n",
    "except Exception as e: \n",
    "    print(\"Erro {}\".format(e))\n",
    "finally:\n",
    "    print(\"Testando Finally!!!\")"
   ]
  },
  {
   "cell_type": "markdown",
   "id": "869c4d20",
   "metadata": {},
   "source": [
    "- Se removessemos a linha com erro, somente o Finally iria ser executado"
   ]
  },
  {
   "cell_type": "markdown",
   "id": "3ef35214",
   "metadata": {},
   "source": [
    "# Capítulo 1.5.4: Logging"
   ]
  },
  {
   "cell_type": "markdown",
   "id": "cc05c444",
   "metadata": {},
   "source": [
    "Logging é o processo de registrar eventos que ocorrem ao longo da execução de um software.<BR>\n",
    "\n",
    "É uma ferramenta importantíssima para qualquer programador, permitindo a ele obter um profundo conhecimento sobre o funcionamento de seu código, localizar bugs e otimizar seu script."
   ]
  },
  {
   "cell_type": "code",
   "execution_count": 277,
   "id": "db3d2249",
   "metadata": {},
   "outputs": [],
   "source": [
    "# Importando a biblioteca\n",
    "import logging"
   ]
  },
  {
   "cell_type": "markdown",
   "id": "f7c01ed4",
   "metadata": {},
   "source": [
    "Para a configuração básica, você pode usar o método **basicConfig**(** kwargs) para configurar o logging:\n",
    "\n",
    "Alguns dos parâmetros comumente usados para o **basicConfig()**:\n",
    "- **level**: O logger raiz será definido para o nível de loggin especificado.\n",
    "- **filename**: especifica o nome do arquivo.\n",
    "- **filemode**: Se o nome do arquivo for fornecido, o arquivo é aberto neste modo. O padrão é a , o que significa anexar.\n",
    "- **format**: este é o formato da mensagem de registro."
   ]
  },
  {
   "cell_type": "markdown",
   "id": "4c8aa2e4",
   "metadata": {},
   "source": [
    "Para registrar em um arquivo ao invés do console, podemos usar os parametros filename e filemode , e você pode decidir o formato da mensagem usando format.\n",
    "\n",
    "**filemode='w'**<BR>\n",
    "filemode é definido como w , o que significa que o arquivo de log é aberto no “modo de gravação” cada vez que basicConfig() é chamado.<BR>\n",
    "    \n",
    "**format**<BR>\n",
    "A variável format pode receber uma string com atributos LogRecord em qualquer arranjo que você quiser."
   ]
  },
  {
   "cell_type": "code",
   "execution_count": 300,
   "id": "39dece70",
   "metadata": {},
   "outputs": [],
   "source": [
    "LOG_FORMAT = '%(levelname)s - %(asctime)s - %(message)s - %(process)d'"
   ]
  },
  {
   "cell_type": "code",
   "execution_count": 301,
   "id": "a4d517e5",
   "metadata": {},
   "outputs": [],
   "source": [
    "logging.basicConfig(filename=\"app.log\", level=logging.DEBUG, filemode='w', format=LOG_FORMAT)"
   ]
  },
  {
   "cell_type": "markdown",
   "id": "83748135",
   "metadata": {},
   "source": [
    "Para registrarmos nossos logs, primeiramente instanciamos um objeto responsável por manipular estes registros através do método **logging.getLogger**. \n",
    "Através destes objetos, podemos criar formas para nosso programa lidar diferentes tipos de logs."
   ]
  },
  {
   "cell_type": "code",
   "execution_count": 302,
   "id": "c4cb4532",
   "metadata": {},
   "outputs": [],
   "source": [
    "log = logging.getLogger()"
   ]
  },
  {
   "cell_type": "markdown",
   "id": "e5e34743",
   "metadata": {},
   "source": [
    "#### Níveis de logging:\n",
    "\n",
    "Se você definir o nível de log para INFO, ele incluirá as mensagens INFO, WARNING, ERROR e CRITICAL.<BR>\n",
    "As mensagens NOTSET e DEBUG não serão incluídas aqui.<BR>\n",
    "\n",
    "- **CRITICAL**  50\n",
    "- **ERROR**  40\n",
    "- **WARNING**  30\n",
    "- **INFO**  20\n",
    "- **DEBUG**  10\n",
    "- **NOTSET**  0<BR>\n",
    "    \n",
    "Podemos registar eventos de cada um destes níveis, simplismente chamando a função log.nivel() apropriada, por exemplo:<BR>\n",
    "\n",
    "- **log.critical**(\"Registra um log do nível info\")\n",
    "- **log.error**(\"Registra um log do nível error\")\n",
    "- **log.warning**(\"Registra um log do nível warning\")\n",
    "- **log.info**(\"Registra um log do nível info\")\n",
    "- **log.debug**(\"Registra um log do nível debug\")"
   ]
  },
  {
   "cell_type": "code",
   "execution_count": 303,
   "id": "231f5c74",
   "metadata": {},
   "outputs": [],
   "source": [
    "log.info(\"Registra um log do nível info\")"
   ]
  },
  {
   "cell_type": "code",
   "execution_count": 304,
   "id": "f3e0de87",
   "metadata": {},
   "outputs": [
    {
     "data": {
      "text/plain": [
       "30"
      ]
     },
     "execution_count": 304,
     "metadata": {},
     "output_type": "execute_result"
    }
   ],
   "source": [
    "log.level"
   ]
  },
  {
   "cell_type": "markdown",
   "id": "607df15d",
   "metadata": {},
   "source": [
    "- Usando o parâmetro **level**, você pode definir o nível de mensagens de log que deseja registrar.<BR>\n",
    "- Isso pode ser feito passando uma das constantes disponíveis na classe, e isso permitiria que todas as chamadas de registro em ou acima desse nível fossem registradas."
   ]
  },
  {
   "cell_type": "code",
   "execution_count": 306,
   "id": "cc2e3fa3",
   "metadata": {},
   "outputs": [
    {
     "data": {
      "text/plain": [
       "30"
      ]
     },
     "execution_count": 306,
     "metadata": {},
     "output_type": "execute_result"
    }
   ],
   "source": [
    "import logging\n",
    "LOG_FORMAT = '%(levelname)s - %(asctime)s - %(message)s - %(process)d'\n",
    "\n",
    "logging.basicConfig(filename=\"app.log1\", level=logging.DEBUG, filemode='w', format=LOG_FORMAT)\n",
    "log = logging.getLogger()\n",
    "log.info(\"Inicio de Execução\")\n",
    "log.critical(\"Erro Grave\")\n",
    "log.error(\"Houve um erro de execução!\")\n",
    "log.level"
   ]
  },
  {
   "cell_type": "markdown",
   "id": "9760683b",
   "metadata": {},
   "source": [
    "# Capítulo 1.5.5: Projeto Pedra, Papel e Tesoura"
   ]
  },
  {
   "cell_type": "code",
   "execution_count": 340,
   "id": "547a5542",
   "metadata": {},
   "outputs": [
    {
     "name": "stdout",
     "output_type": "stream",
     "text": [
      "========================\n",
      "Bem vindo ao jogo de Papel, Pedra ou Tesoura\n",
      "========================\n",
      "\n",
      "\n",
      "PLACAR:\n",
      "Você: 0\n",
      "Computador: 0\n",
      "\n",
      "\n",
      "Escolha seu lance:\n",
      "0 - Papel | 1 - Pedra | 2 - Tesoura1\n",
      "========================\n",
      "Sua jogada: PEDRA\n",
      "Jogada do computador: TESOURA\n",
      "Você Venceu!\n",
      "========================\n",
      "Jogar novamente? 0 - SIM | 1 - NÃO 1\n"
     ]
    }
   ],
   "source": [
    "import os\n",
    "import random\n",
    "\n",
    "ieu = 0\n",
    "icomp = 0\n",
    "\n",
    "def jogada_feita(meu_lance, computador):\n",
    "    print(\"========================\")\n",
    "    print(\"Sua jogada: {}\".format(meu_lance))\n",
    "    print(\"Jogada do computador: {}\".format(computador))\n",
    "    \n",
    "while True:\n",
    "    os.system(\"cls\")\n",
    "    print(\"========================\")\n",
    "    print(\"Bem vindo ao jogo de Papel, Pedra ou Tesoura\")\n",
    "    print(\"========================\")\n",
    "    \n",
    "    print(\"\\n\")\n",
    "    \n",
    "    print(\"PLACAR:\")\n",
    "    print(\"Você: {}\".format(ieu))\n",
    "    print(\"Computador: {}\".format(icomp))\n",
    "    \n",
    "    print(\"\\n\")\n",
    "    \n",
    "    print(\"Escolha seu lance:\")\n",
    "    meu_lance = int(input(\"0 - Papel | 1 - Pedra | 2 - Tesoura\"))\n",
    "    \n",
    "    if meu_lance == 0:\n",
    "        meu_lance = 'PAPEL'\n",
    "        computador = random.choice(['PEDRA', 'PAPEL', 'TESOURA'])\n",
    "        jogada_feita(meu_lance, computador)\n",
    "        if meu_lance == 'PAPEL' and computador == 'PEDRA':\n",
    "            print(\"Você Venceu!\")\n",
    "            ieu += 1\n",
    "        elif meu_lance == 'PAPEL' and computador == 'TESOURA':\n",
    "            print(\"Você Perdeu!\")\n",
    "            icomp += 1\n",
    "        elif meu_lance == 'PAPEL' and computador == 'PAPEL':\n",
    "            print(\"Empate!\")\n",
    "            ieu += 1\n",
    "            icomp += 1\n",
    "        print(\"========================\")\n",
    "\n",
    "    elif meu_lance == 1:\n",
    "        meu_lance = 'PEDRA'\n",
    "        computador = random.choice(['PEDRA', 'PAPEL', 'TESOURA'])\n",
    "        jogada_feita(meu_lance, computador)\n",
    "        if meu_lance == 'PEDRA' and computador == 'TESOURA':\n",
    "            print(\"Você Venceu!\")\n",
    "            ieu += 1\n",
    "        elif meu_lance == 'PEDRA' and computador == 'PAPEL':\n",
    "            print(\"Você Perdeu!\")\n",
    "            icomp += 1\n",
    "        elif meu_lance == 'PEDRA' and computador == 'PEDRA':\n",
    "            print(\"Empate!\")\n",
    "            ieu += 1\n",
    "            icomp += 1\n",
    "        print(\"========================\")\n",
    "        \n",
    "    elif meu_lance == 2:\n",
    "        meu_lance = 'TESOURA'\n",
    "        computador = random.choice(['PEDRA', 'PAPEL', 'TESOURA'])\n",
    "        jogada_feita(meu_lance, computador)\n",
    "        if meu_lance == 'TESOURA' and computador == 'PEDRA':\n",
    "            print(\"Você Perdeu!\")\n",
    "            icomp += 1\n",
    "        elif meu_lance == 'TESOURA' and computador == 'PAPEL':\n",
    "            print(\"Você Venceu!\")\n",
    "            ieu += 1\n",
    "        elif meu_lance == 'TESOURA' and computador == 'TESOURA':\n",
    "            print(\"Empate!\")\n",
    "            ieu += 1\n",
    "            icomp += 1\n",
    "        print(\"========================\")\n",
    "\n",
    "    jogar = int(input(\"Jogar novamente? 0 - SIM | 1 - NÃO \"))\n",
    "    if jogar == 1:\n",
    "        break"
   ]
  },
  {
   "cell_type": "markdown",
   "id": "413c0660",
   "metadata": {},
   "source": [
    "## Python Starter - Programação Orientada a Objetos"
   ]
  },
  {
   "cell_type": "markdown",
   "id": "510779ba",
   "metadata": {},
   "source": [
    "# Capítulo 1.6.2: Objetos e Classes no Python"
   ]
  },
  {
   "cell_type": "markdown",
   "id": "2796529a",
   "metadata": {},
   "source": [
    "### Exemplo:\n",
    "\n",
    "#### Classe Lista:"
   ]
  },
  {
   "cell_type": "markdown",
   "id": "f7ac53d3",
   "metadata": {},
   "source": [
    "#### Objeto:"
   ]
  },
  {
   "cell_type": "code",
   "execution_count": 341,
   "id": "b482c98b",
   "metadata": {},
   "outputs": [],
   "source": [
    "# Lista\n",
    "# Ao criarmos uma lista, criamos um objeto que deriva da classe lista\n",
    "l = [1, 2, 3]"
   ]
  },
  {
   "cell_type": "code",
   "execution_count": 342,
   "id": "a3c6132e",
   "metadata": {},
   "outputs": [
    {
     "name": "stdout",
     "output_type": "stream",
     "text": [
      "<class 'list'>\n"
     ]
    }
   ],
   "source": [
    "print(type(l))"
   ]
  },
  {
   "cell_type": "markdown",
   "id": "8f877a2a",
   "metadata": {},
   "source": [
    "#### Método:"
   ]
  },
  {
   "cell_type": "code",
   "execution_count": 343,
   "id": "625fcdf4",
   "metadata": {},
   "outputs": [
    {
     "data": {
      "text/plain": [
       "[1, 2, 3, 4]"
      ]
     },
     "execution_count": 343,
     "metadata": {},
     "output_type": "execute_result"
    }
   ],
   "source": [
    "l.append(4)\n",
    "l\n",
    "\n",
    "# Append é um método que só existe dentro da classe lista"
   ]
  },
  {
   "cell_type": "markdown",
   "id": "09d96817",
   "metadata": {},
   "source": [
    "### Criando uma nova Classe"
   ]
  },
  {
   "cell_type": "code",
   "execution_count": 346,
   "id": "c15b1acc",
   "metadata": {},
   "outputs": [],
   "source": [
    "class Exemplo:\n",
    "    pass"
   ]
  },
  {
   "cell_type": "markdown",
   "id": "7b3599d4",
   "metadata": {},
   "source": [
    "#### Objeto ou Instância (sinônimos):"
   ]
  },
  {
   "cell_type": "code",
   "execution_count": 347,
   "id": "6a3014e0",
   "metadata": {},
   "outputs": [],
   "source": [
    "x = Exemplo()"
   ]
  },
  {
   "cell_type": "code",
   "execution_count": 349,
   "id": "b1dd1a7c",
   "metadata": {},
   "outputs": [
    {
     "name": "stdout",
     "output_type": "stream",
     "text": [
      "<class '__main__.Exemplo'>\n"
     ]
    }
   ],
   "source": [
    "print(type(x))"
   ]
  },
  {
   "cell_type": "markdown",
   "id": "fb141940",
   "metadata": {},
   "source": [
    "# Capítulo 1.6.3: Criando Classes e Métodos"
   ]
  },
  {
   "cell_type": "markdown",
   "id": "dce69d4e",
   "metadata": {},
   "source": [
    "#### Classe Cachorro:"
   ]
  },
  {
   "cell_type": "code",
   "execution_count": 355,
   "id": "81c24c59",
   "metadata": {},
   "outputs": [],
   "source": [
    "class Dog:\n",
    "    def __init__(self, raca): # Método init sempre é executado ao instanciar a classe\n",
    "        self.idade = 10\n",
    "        self.raca = raca"
   ]
  },
  {
   "cell_type": "code",
   "execution_count": 359,
   "id": "cb9ff536",
   "metadata": {},
   "outputs": [],
   "source": [
    "dog = Dog(\"Labrador\")\n",
    "dog2 = Dog(\"Huskie\")\n",
    "\n",
    "dog2.idade = 18"
   ]
  },
  {
   "cell_type": "code",
   "execution_count": 360,
   "id": "70cc9a61",
   "metadata": {},
   "outputs": [
    {
     "name": "stdout",
     "output_type": "stream",
     "text": [
      "10\n",
      "Labrador\n"
     ]
    }
   ],
   "source": [
    "print(dog.idade)\n",
    "print(dog.raca)"
   ]
  },
  {
   "cell_type": "code",
   "execution_count": 361,
   "id": "0d3516f1",
   "metadata": {},
   "outputs": [
    {
     "name": "stdout",
     "output_type": "stream",
     "text": [
      "18\n",
      "Huskie\n"
     ]
    }
   ],
   "source": [
    "print(dog2.idade)\n",
    "print(dog2.raca)"
   ]
  },
  {
   "cell_type": "markdown",
   "id": "83e5e338",
   "metadata": {},
   "source": [
    "#### Classe Círculo:"
   ]
  },
  {
   "cell_type": "code",
   "execution_count": 398,
   "id": "d1e31aa8",
   "metadata": {},
   "outputs": [],
   "source": [
    "class Circle:\n",
    "    def __init__(self, raio=1): # Se o usuário não informar o raio, será = 1\n",
    "        self.raio = raio\n",
    "    \n",
    "    def calc_area(self):\n",
    "        return self.raio * self.raio * 3.14\n",
    "    \n",
    "    def retorna_circ(self):\n",
    "        return 2 * 3.14 * self.raio"
   ]
  },
  {
   "cell_type": "code",
   "execution_count": 399,
   "id": "add1cfed",
   "metadata": {},
   "outputs": [],
   "source": [
    "c1 = Circle()\n",
    "c2 = Circle(5)"
   ]
  },
  {
   "cell_type": "code",
   "execution_count": 400,
   "id": "cb5b57b4",
   "metadata": {},
   "outputs": [
    {
     "data": {
      "text/plain": [
       "1"
      ]
     },
     "execution_count": 400,
     "metadata": {},
     "output_type": "execute_result"
    }
   ],
   "source": [
    "c1.raio"
   ]
  },
  {
   "cell_type": "code",
   "execution_count": 401,
   "id": "9a79a539",
   "metadata": {},
   "outputs": [
    {
     "data": {
      "text/plain": [
       "3.14"
      ]
     },
     "execution_count": 401,
     "metadata": {},
     "output_type": "execute_result"
    }
   ],
   "source": [
    "c1.calc_area()"
   ]
  },
  {
   "cell_type": "code",
   "execution_count": 402,
   "id": "51e7ac00",
   "metadata": {},
   "outputs": [
    {
     "data": {
      "text/plain": [
       "6.28"
      ]
     },
     "execution_count": 402,
     "metadata": {},
     "output_type": "execute_result"
    }
   ],
   "source": [
    "c1.retorna_circ()"
   ]
  },
  {
   "cell_type": "code",
   "execution_count": 403,
   "id": "802f21b5",
   "metadata": {},
   "outputs": [
    {
     "data": {
      "text/plain": [
       "5"
      ]
     },
     "execution_count": 403,
     "metadata": {},
     "output_type": "execute_result"
    }
   ],
   "source": [
    "c2.raio"
   ]
  },
  {
   "cell_type": "code",
   "execution_count": 404,
   "id": "bf7e9b6b",
   "metadata": {},
   "outputs": [
    {
     "data": {
      "text/plain": [
       "78.5"
      ]
     },
     "execution_count": 404,
     "metadata": {},
     "output_type": "execute_result"
    }
   ],
   "source": [
    "c2.calc_area()"
   ]
  },
  {
   "cell_type": "code",
   "execution_count": 405,
   "id": "4bb9fb27",
   "metadata": {},
   "outputs": [
    {
     "data": {
      "text/plain": [
       "31.400000000000002"
      ]
     },
     "execution_count": 405,
     "metadata": {},
     "output_type": "execute_result"
    }
   ],
   "source": [
    "c2.retorna_circ()"
   ]
  },
  {
   "cell_type": "markdown",
   "id": "1f3a3c7d",
   "metadata": {},
   "source": [
    "# Capítulo 1.6.4: Herança e Métodos Especiais"
   ]
  },
  {
   "cell_type": "code",
   "execution_count": 420,
   "id": "52f1f136",
   "metadata": {},
   "outputs": [],
   "source": [
    "class Animal:\n",
    "    def __init__(self):\n",
    "        print(\"Animal Criado\")\n",
    "\n",
    "    def vacina(self):\n",
    "        print(\"Vacinado\")\n",
    "        \n",
    "    def comer(self):\n",
    "        print(\"Comendo\")\n",
    "\n",
    "# Sobrescrevendo um método que precisa ser alterado após a herança\n",
    "class Gato(Animal):\n",
    "    def __init__(self):\n",
    "        Animal.__init__(self)\n",
    "        print(\"Um Gato foi Criado\")\n",
    "        \n",
    "    def vacina(self):\n",
    "        print(\"Gato Vacinado\")"
   ]
  },
  {
   "cell_type": "code",
   "execution_count": 423,
   "id": "883482db",
   "metadata": {},
   "outputs": [
    {
     "name": "stdout",
     "output_type": "stream",
     "text": [
      "Animal Criado\n",
      "-------------\n",
      "Animal Criado\n",
      "Um Gato foi Criado\n"
     ]
    }
   ],
   "source": [
    "animal = Animal()\n",
    "\n",
    "print(\"-------------\")\n",
    "\n",
    "cat = Gato()"
   ]
  },
  {
   "cell_type": "code",
   "execution_count": 417,
   "id": "f92a6904",
   "metadata": {},
   "outputs": [
    {
     "name": "stdout",
     "output_type": "stream",
     "text": [
      "Vacinado\n"
     ]
    }
   ],
   "source": [
    "animal.vacina()"
   ]
  },
  {
   "cell_type": "code",
   "execution_count": 418,
   "id": "7d748a70",
   "metadata": {},
   "outputs": [
    {
     "name": "stdout",
     "output_type": "stream",
     "text": [
      "Gato Vacinado\n"
     ]
    }
   ],
   "source": [
    "cat.vacina()"
   ]
  },
  {
   "cell_type": "code",
   "execution_count": null,
   "id": "bffe8d94",
   "metadata": {},
   "outputs": [],
   "source": []
  }
 ],
 "metadata": {
  "kernelspec": {
   "display_name": "Python 3 (ipykernel)",
   "language": "python",
   "name": "python3"
  },
  "language_info": {
   "codemirror_mode": {
    "name": "ipython",
    "version": 3
   },
   "file_extension": ".py",
   "mimetype": "text/x-python",
   "name": "python",
   "nbconvert_exporter": "python",
   "pygments_lexer": "ipython3",
   "version": "3.9.7"
  }
 },
 "nbformat": 4,
 "nbformat_minor": 5
}
