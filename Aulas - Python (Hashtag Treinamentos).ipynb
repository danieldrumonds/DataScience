{
 "cells": [
  {
   "cell_type": "markdown",
   "id": "3b2dd68c",
   "metadata": {},
   "source": [
    "# Aulas Python Impressionador - Bloco 04"
   ]
  },
  {
   "cell_type": "markdown",
   "id": "abdd707d",
   "metadata": {},
   "source": [
    "## Função Print"
   ]
  },
  {
   "cell_type": "code",
   "execution_count": 16,
   "id": "896d3a96",
   "metadata": {},
   "outputs": [
    {
     "name": "stdout",
     "output_type": "stream",
     "text": [
      "Meu nome é Daniel\n"
     ]
    }
   ],
   "source": [
    "print('Meu nome é Daniel')"
   ]
  },
  {
   "cell_type": "markdown",
   "id": "0ffa4af9",
   "metadata": {},
   "source": [
    "## Concatenar"
   ]
  },
  {
   "cell_type": "code",
   "execution_count": 25,
   "id": "4c014cdb",
   "metadata": {},
   "outputs": [
    {
     "name": "stdout",
     "output_type": "stream",
     "text": [
      "Meu nome é Daniel\n"
     ]
    }
   ],
   "source": [
    "print('Meu nome é ' + 'Daniel')"
   ]
  },
  {
   "cell_type": "markdown",
   "id": "a4f3c080",
   "metadata": {},
   "source": [
    "## IN: Verifica se um texto está contido dentro de outro"
   ]
  },
  {
   "cell_type": "code",
   "execution_count": 24,
   "id": "5f0becb4",
   "metadata": {},
   "outputs": [
    {
     "name": "stdout",
     "output_type": "stream",
     "text": [
      "False\n",
      "True\n",
      "True\n"
     ]
    }
   ],
   "source": [
    "print('Meu nome é ' in 'Daniel')\n",
    "print('Dan' in 'Daniel')\n",
    "print('Daniel ' in 'Daniel é meu professor!')"
   ]
  },
  {
   "cell_type": "markdown",
   "id": "2838f97e",
   "metadata": {},
   "source": [
    "## Variáveis"
   ]
  },
  {
   "cell_type": "code",
   "execution_count": 32,
   "id": "69210fd3",
   "metadata": {},
   "outputs": [
    {
     "name": "stdout",
     "output_type": "stream",
     "text": [
      "Daniel\n",
      "1500\n"
     ]
    }
   ],
   "source": [
    "qtd_vendas = 1500\n",
    "nome = 'Daniel'\n",
    "\n",
    "print(nome)\n",
    "print(qtd_vendas)\n",
    "# A variável qtd_vendas RECEBE 1500"
   ]
  },
  {
   "cell_type": "markdown",
   "id": "be2a2699",
   "metadata": {},
   "source": [
    "## INPUT: Solicitar Dados ao Usuário"
   ]
  },
  {
   "cell_type": "code",
   "execution_count": 37,
   "id": "e9fed1b7",
   "metadata": {},
   "outputs": [
    {
     "name": "stdout",
     "output_type": "stream",
     "text": [
      "Qual é o seu primeiro nome? Daniel\n",
      "Qual o seu sobrenome? Drumond\n",
      "Daniel Drumond\n"
     ]
    }
   ],
   "source": [
    "nome = input('Qual é o seu primeiro nome? ')\n",
    "sobrenome = input('Qual o seu sobrenome? ')\n",
    "print(nome + ' ' + sobrenome)"
   ]
  },
  {
   "cell_type": "markdown",
   "id": "33871978",
   "metadata": {},
   "source": [
    "# Aulas Python Impressionador - Bloco 05"
   ]
  },
  {
   "cell_type": "markdown",
   "id": "e283112f",
   "metadata": {},
   "source": [
    "## Tipos de Variáveis"
   ]
  },
  {
   "cell_type": "markdown",
   "id": "ac688b8c",
   "metadata": {},
   "source": [
    "int -> inteiro\n",
    "string -> texto\n",
    "float -> números com casas decimais\n",
    "bool ou boolean -> True ou False"
   ]
  },
  {
   "cell_type": "code",
   "execution_count": 38,
   "id": "442295fa",
   "metadata": {},
   "outputs": [
    {
     "data": {
      "text/plain": [
       "int"
      ]
     },
     "execution_count": 38,
     "metadata": {},
     "output_type": "execute_result"
    }
   ],
   "source": [
    "faturamento = 1000\n",
    "type(faturamento)"
   ]
  },
  {
   "cell_type": "code",
   "execution_count": 39,
   "id": "a9a8eb68",
   "metadata": {},
   "outputs": [
    {
     "data": {
      "text/plain": [
       "float"
      ]
     },
     "execution_count": 39,
     "metadata": {},
     "output_type": "execute_result"
    }
   ],
   "source": [
    "faturamento = 1000.00\n",
    "type(faturamento)"
   ]
  },
  {
   "cell_type": "code",
   "execution_count": 40,
   "id": "e5f6b78c",
   "metadata": {},
   "outputs": [
    {
     "data": {
      "text/plain": [
       "str"
      ]
     },
     "execution_count": 40,
     "metadata": {},
     "output_type": "execute_result"
    }
   ],
   "source": [
    "faturamento = '1.000'\n",
    "type(faturamento)"
   ]
  },
  {
   "cell_type": "code",
   "execution_count": 41,
   "id": "509e83ff",
   "metadata": {},
   "outputs": [
    {
     "data": {
      "text/plain": [
       "bool"
      ]
     },
     "execution_count": 41,
     "metadata": {},
     "output_type": "execute_result"
    }
   ],
   "source": [
    "ganha_bonus = True\n",
    "type(ganha_bonus)"
   ]
  },
  {
   "cell_type": "markdown",
   "id": "616be3cb",
   "metadata": {},
   "source": [
    "## Concatenar"
   ]
  },
  {
   "cell_type": "code",
   "execution_count": 51,
   "id": "80e8d343",
   "metadata": {},
   "outputs": [
    {
     "name": "stdout",
     "output_type": "stream",
     "text": [
      "O faturamento da loja foi: R$1000 reais\n",
      "O custo da loja foi: R$505 reais\n",
      "O lucro da loja foi: R$495 reais\n"
     ]
    }
   ],
   "source": [
    "faturamento = 1000\n",
    "custo = 505\n",
    "lucro = faturamento - custo\n",
    "\n",
    "print('O faturamento da loja foi: R$' + str(faturamento) + ' reais')\n",
    "print('O custo da loja foi: R$' + str(custo) + ' reais')\n",
    "print('O lucro da loja foi: R$' + str(lucro) + ' reais')\n",
    "# str: Transforma a variável declarada em string"
   ]
  },
  {
   "cell_type": "markdown",
   "id": "016ff1b8",
   "metadata": {},
   "source": [
    "## Método Format"
   ]
  },
  {
   "cell_type": "code",
   "execution_count": 62,
   "id": "801246b6",
   "metadata": {},
   "outputs": [
    {
     "name": "stdout",
     "output_type": "stream",
     "text": [
      "O faturamento da loja foi: 2000. O custo da loja foi: 500. Assim, o lucro da loja foi 1500.\n"
     ]
    }
   ],
   "source": [
    "faturamento = 2000\n",
    "custo = 500\n",
    "lucro = faturamento - custo\n",
    "\n",
    "print('O faturamento da loja foi: {}. O custo da loja foi: {}. Assim, o lucro da loja foi {}.'\n",
    "      .format(faturamento, custo, lucro))"
   ]
  },
  {
   "cell_type": "markdown",
   "id": "e43cdf8e",
   "metadata": {},
   "source": [
    "# Aulas Python Impressionador - Bloco 06"
   ]
  },
  {
   "cell_type": "markdown",
   "id": "21bfe902",
   "metadata": {},
   "source": [
    "## Condições IF"
   ]
  },
  {
   "cell_type": "markdown",
   "id": "34f6e928",
   "metadata": {},
   "source": [
    "Exemplo:\n",
    "Digamos que você trabalha na Amazon (que tem centenas de milhares, se não milhões de produtos) e está analisando o resultado de vendas dos produtos.\n",
    "\n",
    "Você precisa criar um programa que vai analisar o resultado de vendas dos produtos da Amazon em um mês. Para simplificar vamos pensar em um único produto: um Iphone.\n",
    "\n",
    "Meta de Vendas do Iphone = 50.000 unidades<br>\n",
    "Quantidade vendida no Mês = 65.300 unidades\n",
    "\n",
    "O seu programa deve avisar (usaremos o print por enquanto) caso o produto tenha batido a meta do mês. Então devemos fazer:\n",
    "\n",
    "- Caso o produto tenha batido a meta, devemos exibir a mensagem: Batemos a meta de vendas de Iphone, vendemos {} unidades. \n",
    "- Se ele não bateu a meta do mês, devemos exibir a mensagem: Infelizmente não batemos a meta, vendemos {} unidades. A meta era de {} unidades."
   ]
  },
  {
   "cell_type": "code",
   "execution_count": 6,
   "id": "8d40743b",
   "metadata": {},
   "outputs": [
    {
     "name": "stdout",
     "output_type": "stream",
     "text": [
      "Infelizmente não batemos a meta, vendemos 5300 unidades. A meta era de 50000 unidades.\n"
     ]
    }
   ],
   "source": [
    "meta = 50000\n",
    "qtd_vendida = 5300\n",
    "\n",
    "if qtd_vendida > meta:\n",
    "    print('Batemos a meta de vendas de Iphone, vendemos {} unidades.'.format(qtd_vendida))\n",
    "else:\n",
    "    print('Infelizmente não batemos a meta, vendemos {} unidades. A meta era de {} unidades.'.format(qtd_vendida, meta))"
   ]
  },
  {
   "cell_type": "markdown",
   "id": "fcfbb8ca",
   "metadata": {},
   "source": [
    "Exemplo:\n",
    "Vamos fazer um novo exemplo abaixo:\n",
    " \n",
    "Digamos que você precisa criar um programa para um fundo de investimentos conseguir avaliar o resultado de uma carteira de ações e o quanto de taxa deverá ser pago.\n",
    "\n",
    "A regra desse fundo de investimentos é:\n",
    "- O fundo se compromete a entregar no mínimo 5% de retorno ao ano.\n",
    "- Caso o fundo não consiga entregar os 5% de retorno, ele não pode cobrar taxa dos seus investidores.\n",
    "- Caso o fundo consiga entregar mais de 5% de retorno, ele irá cobrar 2% de taxa dos seus investidores.\n",
    "- Caso o fundo consiga mais de 20% de retorno, ele irá cobrar 4% de taxa dos seus investidores."
   ]
  },
  {
   "cell_type": "code",
   "execution_count": 33,
   "id": "03c97eea",
   "metadata": {},
   "outputs": [
    {
     "name": "stdout",
     "output_type": "stream",
     "text": [
      "Você irá pagar 4% de taxa que equivale a 48.04. O investimento obteve mais de 20% de retorno\n"
     ]
    }
   ],
   "source": [
    "meta_1 = 0.05\n",
    "meta_2 = 0.20\n",
    "valor_invest = 1000\n",
    "valor_final = 1200\n",
    "\n",
    "if (valor_final / valor_invest)-1 > meta_1:\n",
    "    if (valor_final / valor_invest)-1 > meta_2:\n",
    "        taxa = valor_final * 0.04\n",
    "        print('Você irá pagar 4% de taxa que equivale a {}. O investimento obteve mais de 20% de retorno'.format(taxa))\n",
    "    else:\n",
    "        taxa = valor_final * 0.02\n",
    "        print('Você irá pagar 2% de taxa que equivale a {}. O investimento obteve mais de 5% de retorno'.format(taxa))\n",
    "else:\n",
    "    print('Você não irá pagar taxa alguma. O fundo não entregou no mínimo 5% de retorno.')"
   ]
  },
  {
   "cell_type": "markdown",
   "id": "812cc4dd",
   "metadata": {},
   "source": [
    "## Condições ELIF\n",
    "\n",
    "E se temos mais do que um caso de sim e não?\n",
    "\n",
    "Usamos o elif da seguinte forma:\n",
    "\n",
    "#### if condição:\n",
    "o que fazer se a condição 1 for verdadeira<br>\n",
    "\n",
    "#### elif condição_2:\n",
    "o que fazer se a condição 1 for falsa e a condição 2 for verdadeira<br>\n",
    "\n",
    "#### else:\n",
    "o que fazer se a condição 1 e a condição 2 forem falsas"
   ]
  },
  {
   "cell_type": "markdown",
   "id": "805c2e32",
   "metadata": {},
   "source": [
    "### Exemplo:\n",
    "Vamos criar um programa para analisar o bônus dos funcionários de uma empresa<br>\n",
    "(pode parecer simples, mas uma empresa como a Amazon tem 900.000 funcionários).\n",
    "\n",
    "Para os cargos de vendedores, a regra do bônus é de acordo com a meta de vendas da pessoa:\n",
    "\n",
    "- Se ela vendeu abaixo da meta dela, ela não ganha bônus.\n",
    "\n",
    "- Se ela vendeu acima da meta dela, ela ganha como bônus 3% do valor que ela vendeu.\n",
    "\n",
    "- Se ela vendeu mais do que o dobro da meta dela, ela ganha como bônus 7% do valor que ela vendeu.\n",
    "\n",
    "Vamos criar um programa para avaliar uma pessoa que tinha como meta de vendas 20.000 reais e calcular o bônus dela \n",
    "de acordo com o valor de vendas que ela tiver."
   ]
  },
  {
   "cell_type": "code",
   "execution_count": 40,
   "id": "2124411b",
   "metadata": {},
   "outputs": [
    {
     "name": "stdout",
     "output_type": "stream",
     "text": [
      "Você bateu a meta, receberá 3% de bonus que é igual a: 750.0.\n"
     ]
    }
   ],
   "source": [
    "meta = 20000\n",
    "vendas = 25000\n",
    "\n",
    "if vendas > (2* meta):\n",
    "    bonus = vendas * 0.07\n",
    "    print('Você alcançou o dobro da meta, receberá 7% de bonus que é igual a: {}.'.format(bonus))\n",
    "elif vendas > meta:\n",
    "    bonus = vendas * 0.03\n",
    "    print('Você bateu a meta, receberá 3% de bonus que é igual a: {}.'.format(bonus))\n",
    "else:\n",
    "    print('Você não bateu a meta.')"
   ]
  },
  {
   "cell_type": "markdown",
   "id": "2d6dc181",
   "metadata": {},
   "source": [
    "## Comparadores"
   ]
  },
  {
   "cell_type": "raw",
   "id": "5beb7146",
   "metadata": {},
   "source": [
    "==    igual\n",
    "!=    diferente\n",
    ">     maior que (>= maior ou igual)\n",
    "<     menor que (<= menor ou igual)\n",
    "in    texto existe dentro de outro texto \n",
    "not   verifica o contrário da comparação\n",
    "\n",
    "Obs: Se em alguma condição você não quiser fazer nada, você pode simplesmente escrever: pass"
   ]
  },
  {
   "cell_type": "code",
   "execution_count": 43,
   "id": "65064f0a",
   "metadata": {},
   "outputs": [
    {
     "name": "stdout",
     "output_type": "stream",
     "text": [
      "Programa 3\n",
      "Insira seu e-mail:drumondsantos@gmail.com\n"
     ]
    }
   ],
   "source": [
    "print('Programa 3')\n",
    "email_usuario = input('Insira seu e-mail:')\n",
    "if not '@' in email_usuario:\n",
    "    print('Email Inválido')\n",
    "else:\n",
    "    pass"
   ]
  },
  {
   "cell_type": "markdown",
   "id": "ccd4f07d",
   "metadata": {},
   "source": [
    "### Exercícios com if"
   ]
  },
  {
   "cell_type": "markdown",
   "id": "b918faac",
   "metadata": {},
   "source": [
    "### 1. Cálculo de Bônus\n",
    "\n",
    "- Crie um programa que calcule e dê um print no bônus que os funcionários devem receber segundo a regra:\n",
    "\n",
    "A meta é 1000 vendas.<br> \n",
    "Se o valor de vendas for maior ou igual a meta, o valor do bônus do funcionário é 10% do valor de vendas.<br>\n",
    "Caso contrário o valor de bônus do funcionário é 0.<br>\n",
    "Print o bônus dos 3 funcionários"
   ]
  },
  {
   "cell_type": "code",
   "execution_count": 50,
   "id": "586ba672",
   "metadata": {},
   "outputs": [
    {
     "name": "stdout",
     "output_type": "stream",
     "text": [
      "Funcionario 1, seu bônus é 100.0.\n",
      "Funcionario 2, seu bônus é 0.\n",
      "Funcionario 3, seu bônus é 270.0.\n"
     ]
    }
   ],
   "source": [
    "vendas_funcionario1 = 1000\n",
    "vendas_funcionario2 = 770\n",
    "vendas_funcionario3 = 2700\n",
    "meta = 1000\n",
    "\n",
    "if vendas_funcionario1 >= meta:\n",
    "    bonus = vendas_funcionario1 * 0.10\n",
    "else:\n",
    "    bonus = 0\n",
    "print('Funcionario 1, seu bônus é {}.'.format(bonus))\n",
    "\n",
    "if vendas_funcionario2 >= meta:\n",
    "    bonus = vendas_funcionario2 * 0.10\n",
    "else:\n",
    "    bonus = 0\n",
    "print('Funcionario 2, seu bônus é {}.'.format(bonus))\n",
    "\n",
    "if vendas_funcionario3 >= meta:\n",
    "    bonus = vendas_funcionario3 * 0.10\n",
    "else:\n",
    "    bonus = 0\n",
    "print('Funcionario 3, seu bônus é {}.'.format(bonus))"
   ]
  },
  {
   "cell_type": "markdown",
   "id": "e74eb706",
   "metadata": {},
   "source": [
    "### 2. Cálculo de bônus com uma nova regra"
   ]
  },
  {
   "cell_type": "markdown",
   "id": "608139ab",
   "metadata": {},
   "source": [
    "- Agora, crie um novo código que calcule e dê um print no bônus dos funcionários novamente.<br>\n",
    "Porém há uma nova regra nesse 2º caso:\n",
    "\n",
    "A meta é 1000 vendas<br>\n",
    "Agora, os funcionários que venderem muito acima da meta ganham mais bônus do que os outros. Então o bônus é definido da seguinte forma:<br>\n",
    "\n",
    "- Se vendas funcionário for maior ou igual a 2000, então o bônus é de 15% sobre o valor de vendas\n",
    "- Se vendas funcionário for menor do que 2000 e maior ou igual a 1000, então o bônus é de 10% sobre o valor de vendas\n",
    "- Se vendas funcionário for menos do que 1000 então o bônus do funcionário é de 0.\n",
    "\n",
    "Use as mesmas variáveis de vendas_funcionários"
   ]
  },
  {
   "cell_type": "code",
   "execution_count": 55,
   "id": "a99929bb",
   "metadata": {},
   "outputs": [
    {
     "name": "stdout",
     "output_type": "stream",
     "text": [
      "Funcionario 1, seu bônus é 100.0.\n",
      "Funcionario 2, seu bônus é 0.\n",
      "Funcionario 3, seu bônus é 405.0.\n"
     ]
    }
   ],
   "source": [
    "vendas_funcionario1 = 1000\n",
    "vendas_funcionario2 = 770\n",
    "vendas_funcionario3 = 2700\n",
    "\n",
    "if vendas_funcionario1 >= 2000:\n",
    "    bonus = vendas_funcionario1 * 0.15\n",
    "elif vendas_funcionario1 >= 1000:\n",
    "    bonus = vendas_funcionario1 * 0.10 \n",
    "else:\n",
    "    bonus = 0\n",
    "print('Funcionario 1, seu bônus é {}.'.format(bonus))\n",
    "\n",
    "if vendas_funcionario2 >= 2000:\n",
    "    bonus = vendas_funcionario2 * 0.15\n",
    "elif vendas_funcionario2 < 2000 and vendas_funcionario2 >= 1000:\n",
    "    bonus = vendas_funcionario2 * 0.10 \n",
    "else:\n",
    "    bonus = 0\n",
    "print('Funcionario 2, seu bônus é {}.'.format(bonus))\n",
    "\n",
    "if vendas_funcionario3 >= 2000:\n",
    "    bonus = vendas_funcionario3 * 0.15\n",
    "elif vendas_funcionario2 < 2000 and vendas_funcionario2 >= 1000:\n",
    "    bonus = vendas_funcionario3 * 0.10 \n",
    "else:\n",
    "    bonus = 0\n",
    "print('Funcionario 3, seu bônus é {}.'.format(bonus))"
   ]
  },
  {
   "cell_type": "markdown",
   "id": "4397ea81",
   "metadata": {},
   "source": [
    "# Comparações Contraintuitivas\n",
    "\n",
    "Existem algumas comparações no Python que não são tão intuitivas quando vemos pela primeira vez, mas que são muito usadas, principalmente por programadores mais experientes.\n",
    "\n",
    "É bom sabermos alguns exemplos e buscar sempre entender o que aquela comparação está buscando verificar.\n",
    "\n",
    "### Exemplo 1:\n",
    "\n",
    "Digamos que você está construindo um sistema de controle de vendas e precisa de algumas informações para fazer o cálculo do resultado da loja no fim de um mês."
   ]
  },
  {
   "cell_type": "code",
   "execution_count": 58,
   "id": "0e196d99",
   "metadata": {},
   "outputs": [
    {
     "name": "stdout",
     "output_type": "stream",
     "text": [
      "Qual foi o faturamento da loja nesse mês?\n",
      "Qual foi o custo da loja nesse mês?\n",
      "Preencha o faturamento e o custo corretamente.\n"
     ]
    }
   ],
   "source": [
    "faturamento = input('Qual foi o faturamento da loja nesse mês?')\n",
    "custo = input('Qual foi o custo da loja nesse mês?')\n",
    "\n",
    "if faturamento == '' or custo == '':\n",
    "    print('Preencha o faturamento e o custo corretamente.')\n",
    "else:\n",
    "    lucro = int(faturamento) - int(custo)\n",
    "    print(\"O lucro da loja foi de {} reais\".format(lucro))"
   ]
  },
  {
   "cell_type": "code",
   "execution_count": 61,
   "id": "0a750c51",
   "metadata": {},
   "outputs": [
    {
     "name": "stdout",
     "output_type": "stream",
     "text": [
      "Qual foi o faturamento da loja nesse mês?5\n",
      "Qual foi o custo da loja nesse mês?\n",
      "Preencha o faturamento e o custo corretamente.\n"
     ]
    }
   ],
   "source": [
    "faturamento = input('Qual foi o faturamento da loja nesse mês?')\n",
    "custo = input('Qual foi o custo da loja nesse mês?')\n",
    "\n",
    "if faturamento and custo:\n",
    "    lucro = int(faturamento) - int(custo)\n",
    "    print(\"O lucro da loja foi de {} reais\".format(lucro))\n",
    "# Dessa forma verifica se os camposestão preenchidos.\n",
    "else:\n",
    "    print('Preencha o faturamento e o custo corretamente.')"
   ]
  },
  {
   "cell_type": "markdown",
   "id": "68030ba8",
   "metadata": {},
   "source": [
    "## 1. Criando um mini sistema de controle de estoque\n",
    "\n",
    "- Crie um sistema para ser usado pelo time de controle de estoque de um centro de distribuição.\n",
    "- Imagine que ao fim de todo dia, o time conta quantas unidades de produto existem no estoque. Se tivermos um estoque abaixo do estoque permitido para aquela categoria do produto, o time deve ser avisado (print) para fazer um novo pedido daquele produto.\n",
    "- Cada categoria de produto tem um estoque mínimo diferente, segundo a regra abaixo:\n",
    "\n",
    "- alimentos -> Estoque mínimo: 50\n",
    "- bebidas -> Estoque mínimo: 75\n",
    "- limpeza -> Estoque mínimo: 30\n",
    "\n",
    "Para isso vamos criar um programa que pede 3 inputs do usuário: nome do produto, categoria e quantidade atual em estoque.\n",
    "\n",
    "Se o produto tiver abaixo do estoque mínimo da categoria dele, o programa deve printar a mensagem \"Solicitar {produto} à equipe de compras, temos apenas {unidades} em estoque\"\n",
    "\n",
    "Exemplo: Se o usuário preenche os inputs com: bebidas, dolly, 90, o programa não deve exibir nenhuma mensagem.<br>\n",
    "Agora, se o usuário preenche os inputs com: bebidas, guaraná, 60, o programa deve exibir a mensagem \"Solicitar guaraná à equipe de compras, temos apenas 60 unidades em estoque.\n",
    "\n",
    "Obs: lembre de usar o int() para transformar o número inserido pelo usuário no input de string para int.<br>\n",
    "Obs2: Caso o usuário não preencha alguma das 3 informações, o programa deve exibir uma mensagem para avisá-lo de preencher corretamente."
   ]
  },
  {
   "cell_type": "code",
   "execution_count": 88,
   "id": "574aa532",
   "metadata": {},
   "outputs": [
    {
     "name": "stdout",
     "output_type": "stream",
     "text": [
      "Informe o nome do produto: jau\n",
      "Informe a categoria do produto: alimentos | bebidas | limpeza alimentos\n",
      "Informe a quantidade disponível no estoque: 44\n",
      "Solicitar jau à equipe de compras, temos apenas 44 em estoque.\n"
     ]
    }
   ],
   "source": [
    "produto = input('Informe o nome do produto: ')\n",
    "categoria = input('Informe a categoria do produto: alimentos | bebidas | limpeza ')\n",
    "estoque = input('Informe a quantidade disponível no estoque: ')\n",
    "\n",
    "if produto and categoria and estoque:\n",
    "    estoque = int(estoque)\n",
    "    if categoria == 'bebidas':\n",
    "        if estoque < 75:\n",
    "            print('Solicitar {} à equipe de compras, temos apenas {} em estoque.'.format(produto,estoque))\n",
    "    elif categoria == 'limpeza':\n",
    "        if estoque < 30:\n",
    "            print('Solicitar {} à equipe de compras, temos apenas {} em estoque.'.format(produto,estoque))\n",
    "    else:\n",
    "        if estoque < 50:\n",
    "            print('Solicitar {} à equipe de compras, temos apenas {} em estoque.'.format(produto,estoque))\n",
    "else:\n",
    "    print('Preencha corretamente as informações')"
   ]
  },
  {
   "cell_type": "code",
   "execution_count": 102,
   "id": "c9112893",
   "metadata": {},
   "outputs": [
    {
     "name": "stdout",
     "output_type": "stream",
     "text": [
      "Informe o nome do produto: fffff\n",
      "Informe a categoria do produto: alimentos | bebidas | limpeza limpeza\n",
      "Informe a quantidade disponível no estoque: 5\n",
      "Solicitar fffff à equipe de compras, temos apenas 5 em estoque.\n"
     ]
    }
   ],
   "source": [
    "produto = input('Informe o nome do produto: ')\n",
    "categoria = input('Informe a categoria do produto: alimentos | bebidas | limpeza ')\n",
    "estoque = input('Informe a quantidade disponível no estoque: ')\n",
    "\n",
    "if produto and categoria and estoque:\n",
    "    estoque = int(estoque)\n",
    "    if categoria == 'bebidas' and estoque < 75:\n",
    "        pass\n",
    "    elif categoria == 'limpeza' and estoque < 30:\n",
    "        pass\n",
    "    elif categoria == 'alimentos' and estoque < 50:\n",
    "        pass\n",
    "    print('Solicitar {} à equipe de compras, temos apenas {} em estoque.'.format(produto,estoque))\n",
    "else:\n",
    "    print('Preencha corretamente as informações')"
   ]
  },
  {
   "cell_type": "markdown",
   "id": "9792e748",
   "metadata": {},
   "source": [
    "# Aulas Python Impressionador - Bloco 07"
   ]
  },
  {
   "cell_type": "markdown",
   "id": "0dbc18e5",
   "metadata": {},
   "source": [
    "## Indice e Tamanho de String"
   ]
  },
  {
   "cell_type": "raw",
   "id": "b75ee430",
   "metadata": {},
   "source": [
    "0 1 2 3 4 5 6 7 8 9 10 11 12 13\n",
    "l i r a @ g m a i l  .  c  o m\n",
    "\n",
    "Pegar um item de uma string: texto[índice]\n",
    "Pegar o tamanho de um texto: len(texto)\n",
    "\n",
    "-14 -13 -12 -11 -10 -9 -8 -7 -6 -5 -4 -3 -2 -1\n",
    "  l   i   r   a   @  g  m  a  i  l  .  c  o  m\n",
    "  0   1   2   3   4  5  6  7  8  9 10 11 12 13\n",
    "  \n",
    "Para pegar um texto de trás para frente: texto[índice] -> onde índice é negativo\n",
    "Para pegar o pedaço de um texto use : (dois pontos). texto[:indice] ou texto[indice:] ou ainda texto[indice:indice]"
   ]
  },
  {
   "cell_type": "code",
   "execution_count": 119,
   "id": "9a1f1022",
   "metadata": {},
   "outputs": [
    {
     "name": "stdout",
     "output_type": "stream",
     "text": [
      "23\n",
      "21\n",
      "d\n",
      "drumondsantos\n",
      "Daniel\n",
      "s\n",
      "Daniel Drumond San\n"
     ]
    }
   ],
   "source": [
    "email = 'drumondsantos@gmail.com'\n",
    "nome = 'Daniel Drumond Santos'\n",
    "\n",
    "print(len(email))\n",
    "print(len(nome))\n",
    "print(email[0])\n",
    "print(email[0:13])\n",
    "print(nome[0:6])\n",
    "print(nome[-1])\n",
    "print(nome[:-3])"
   ]
  },
  {
   "cell_type": "markdown",
   "id": "1ded58cc",
   "metadata": {},
   "source": [
    "### Exercício"
   ]
  },
  {
   "cell_type": "code",
   "execution_count": 124,
   "id": "057bc11e",
   "metadata": {},
   "outputs": [
    {
     "name": "stdout",
     "output_type": "stream",
     "text": [
      "Tamanho do e-mail 23 caracteres\n",
      "Primeiro Caractere: d\n",
      "Último Caractere: m\n",
      "Servidor do email: gmail\n"
     ]
    }
   ],
   "source": [
    "print('Tamanho do e-mail ' + str(len(email)) + ' caracteres')\n",
    "print('Primeiro Caractere: ' + email[0])\n",
    "print('Último Caractere: ' + email[-1])\n",
    "print('Servidor do email: ' + email[14:19])"
   ]
  },
  {
   "cell_type": "markdown",
   "id": "6593d262",
   "metadata": {},
   "source": [
    "# Operações com String\n",
    "\n",
    "str -> transforma número em string<br>\n",
    "in -> verifica se um texto está contido dentro do outro<br>\n",
    "operador + -> concatenar string<br>\n",
    "format e {} -> substitui valores<br>\n",
    "%s -> substitui textos<br>\n",
    "%d -> substitui números decimais<br>\n",
    "\n",
    "Vamos deixar uma cartilha para download"
   ]
  },
  {
   "cell_type": "code",
   "execution_count": 127,
   "id": "0b508577",
   "metadata": {},
   "outputs": [
    {
     "name": "stdout",
     "output_type": "stream",
     "text": [
      "O faturamento foi de: 1000\n",
      "O faturamento foi de: 1000. O custo foi de: 500. O lucro foi de: 500.\n",
      "True\n",
      "False\n"
     ]
    }
   ],
   "source": [
    "faturamento = 1000\n",
    "custo = 500\n",
    "lucro = faturamento - custo\n",
    "\n",
    "# Uso do Format\n",
    "print('O faturamento foi de: {}'.format(faturamento))\n",
    "\n",
    "# Uso do %s e %d\n",
    "print ('O faturamento foi de: %d. O custo foi de: %d. O lucro foi de: %d.' % (faturamento, custo, lucro))\n",
    "\n",
    "# Uso do in (mais exercícios práticos nas próximas aulas)\n",
    "print('@' in 'lira@gmail.com')\n",
    "print('@' in 'lira.gmail.com')"
   ]
  },
  {
   "cell_type": "markdown",
   "id": "e08dd5a1",
   "metadata": {},
   "source": [
    "# \"Fórmulas\" de Texto - Métodos de String\n",
    "\n",
    "## Estrutura:\n",
    "\n",
    "- Normalmente usamos a estrutura texto.método() para fazer as modificações que queremos\n",
    "- Alguns métodos pedem \"argumentos\", que são informações que temos que passar para a fórmula (método) para ela funcionar. Esses argumentos são passados dentro do parênteses\n",
    "\n",
    "## Como usar:\n",
    "\n",
    "Não decore os métodos, os que você for mais usando com o tempo você vai decorar o que precisar.\n",
    "\n",
    "Mas a dica é: use essa lista para consulta e busque entender como os métodos funcionam e suas aplicações, para poder consultar e usar quando precisar."
   ]
  },
  {
   "cell_type": "markdown",
   "id": "0991e548",
   "metadata": {},
   "source": [
    "#### capitalize() -> Coloca a 1ª letra Maiúscula"
   ]
  },
  {
   "cell_type": "raw",
   "id": "564e774f",
   "metadata": {},
   "source": [
    "    Uso: \n",
    "        texto = 'lira'\n",
    "        print(texto.capitalize())\n",
    "    Resultado: \n",
    "        'Lira'"
   ]
  },
  {
   "cell_type": "markdown",
   "id": "aea45ea2",
   "metadata": {},
   "source": [
    "#### casefold() -> Transforma todas as letras em minúsculas (existe lower() mas o casefold é melhor normalmente)"
   ]
  },
  {
   "cell_type": "raw",
   "id": "d556d239",
   "metadata": {},
   "source": [
    "    Uso: \n",
    "        texto = 'Lira'\n",
    "        print(texto.casefold())\n",
    "    Resultado: \n",
    "        'lira'"
   ]
  },
  {
   "cell_type": "markdown",
   "id": "3edfce21",
   "metadata": {},
   "source": [
    "#### count() -> Quantidade de vezes que um valor aparece na string"
   ]
  },
  {
   "cell_type": "raw",
   "id": "390ccc6b",
   "metadata": {},
   "source": [
    "    Uso:\n",
    "        texto = 'lira@yahoo.com.br'\n",
    "        print(texto.count('.'))\n",
    "    Resultado:\n",
    "        2"
   ]
  },
  {
   "cell_type": "markdown",
   "id": "0ebb9759",
   "metadata": {},
   "source": [
    "#### endswith() -> Verifica se o texto termina com um valor específico e dá como resposta True ou False"
   ]
  },
  {
   "cell_type": "raw",
   "id": "9c67f3aa",
   "metadata": {},
   "source": [
    "    Uso:\n",
    "        texto = 'lira@gmail.com'\n",
    "        print(texto.endswith('gmail.com'))\n",
    "    Resultado:\n",
    "        True"
   ]
  },
  {
   "cell_type": "markdown",
   "id": "5d9cf559",
   "metadata": {},
   "source": [
    "#### find() -> Procura um texto dentro de outro texto e dá como resposta a posição do texto encontrado"
   ]
  },
  {
   "cell_type": "raw",
   "id": "6d185b4e",
   "metadata": {},
   "source": [
    "    Uso:\n",
    "        texto = 'lira@gmail.com'\n",
    "        print(texto.find('@'))\n",
    "    Resultado:\n",
    "        4\n",
    "    Obs: lembrando como funciona a posição nas strings, então o @ está na posição 4\n",
    "    l i r a @ g m a i l  .  c  o  m\n",
    "    0 1 2 3 4 5 6 7 8 9 10 11 12 13"
   ]
  },
  {
   "cell_type": "markdown",
   "id": "25c6c7e1",
   "metadata": {},
   "source": [
    "#### format() -> Formata uma string de acordo com os valores passados. Já usamos bastante ao longo do programa."
   ]
  },
  {
   "cell_type": "raw",
   "id": "13729754",
   "metadata": {},
   "source": [
    "    Uso:\n",
    "        faturamento = 1000\n",
    "        print('O faturamento da loja foi de {} reais'.format(faturamento))\n",
    "    Resultado:\n",
    "        'O faturamento da loja foi de 1000 reais'"
   ]
  },
  {
   "cell_type": "markdown",
   "id": "78544bdf",
   "metadata": {},
   "source": [
    "#### isalnum() -> Verifica se um texto é todo feito com caracteres alfanuméricos (letras e números) -> letras com acento ou ç são considerados letras para essa função."
   ]
  },
  {
   "cell_type": "raw",
   "id": "f34476b9",
   "metadata": {},
   "source": [
    "    Uso:\n",
    "        texto = 'João123'\n",
    "        print(texto.isalnum())\n",
    "    Resultado:\n",
    "        True\n",
    "    Obs: se o texto fosse 'Jo~ao' ou então 'Joao#' o resultado seria False "
   ]
  },
  {
   "cell_type": "markdown",
   "id": "6ddb579e",
   "metadata": {},
   "source": [
    "#### isalpha() -> Verifica se um texto é todo feito de letras."
   ]
  },
  {
   "cell_type": "raw",
   "id": "bca7ca40",
   "metadata": {},
   "source": [
    "    Uso:\n",
    "        texto = 'João'\n",
    "        print(texto.isalpha())\n",
    "    Resultado:\n",
    "        True\n",
    "    Obs: nesse caso se o texto fosse 'Joao123' o resultado seria False, porque 123 não são letras."
   ]
  },
  {
   "cell_type": "markdown",
   "id": "c39634d2",
   "metadata": {},
   "source": [
    "#### isnumeric() -> Verifica se um texto é todo feito por números."
   ]
  },
  {
   "cell_type": "raw",
   "id": "8692fbd1",
   "metadata": {},
   "source": [
    "    Uso:\n",
    "        texto = '123'\n",
    "        print(texto.isnumeric())\n",
    "    Resultado:\n",
    "        True\n",
    "    Obs: existem os métodos isdigit() e isdecimal() que tem variações pontuais em caracteres especiais tipo textos com frações e potências, mas para 99% dos casos eles não vão ser necessários."
   ]
  },
  {
   "cell_type": "markdown",
   "id": "9cb92e62",
   "metadata": {},
   "source": [
    "#### replace() -> Substitui um texto por um outro texto em uma string."
   ]
  },
  {
   "cell_type": "raw",
   "id": "a07a9f20",
   "metadata": {},
   "source": [
    "    Uso:\n",
    "        texto = '1000.00'\n",
    "        print(texto.replace('.', ','))\n",
    "    Resultado\n",
    "        '1000,00'\n",
    "    Obs: o replace precisa de 2 argumentos para funcionar. O 1º é o texto que você quer trocar. O 2º é o texto que você quer colocar no lugar daquele texto que você está tirando."
   ]
  },
  {
   "cell_type": "markdown",
   "id": "aa582eb5",
   "metadata": {},
   "source": [
    "#### split() -> Separa uma string de acordo com um delimitador em vários textos diferentes."
   ]
  },
  {
   "cell_type": "raw",
   "id": "00de0fea",
   "metadata": {},
   "source": [
    "    Uso:\n",
    "        texto = 'lira@gmail.com'\n",
    "        print(texto.split('@'))\n",
    "    Resultado:\n",
    "        ['lira', 'gmail.com']"
   ]
  },
  {
   "cell_type": "markdown",
   "id": "e1816a21",
   "metadata": {},
   "source": [
    "#### splitlines() -> separa um texto em vários textos de acordo com os \"enters\" do texto"
   ]
  },
  {
   "cell_type": "raw",
   "id": "401c4baf",
   "metadata": {},
   "source": [
    "    Uso:\n",
    "        texto = '''Olá, bom dia\n",
    "        Venho por meio desse e-mail lhe informar o faturamento da loja no dia de hoje.\n",
    "        Faturamento = R$2.500,00\n",
    "        '''\n",
    "        print(texto.splitlines())\n",
    "    Resultado:\n",
    "        ['Olá, bom dia', 'Venho por meio desse e-mail lhe informar o faturamento da loja no dia de hoje.', 'Faturamento = R$2.500,00']"
   ]
  },
  {
   "cell_type": "markdown",
   "id": "b4e7dd8d",
   "metadata": {},
   "source": [
    "#### startswith() -> Verifica se a string começa com determinado texto"
   ]
  },
  {
   "cell_type": "raw",
   "id": "1380d833",
   "metadata": {},
   "source": [
    "    Uso:\n",
    "        texto = 'BEB123453'\n",
    "        print(texto.startswith('BEB'))\n",
    "    Resultado:\n",
    "        True"
   ]
  },
  {
   "cell_type": "markdown",
   "id": "8640200f",
   "metadata": {},
   "source": [
    "#### strip() -> Retira caracteres indesejados dos textos. Por padrão, retira espaços \"extras\" no início e no final"
   ]
  },
  {
   "cell_type": "raw",
   "id": "4f153680",
   "metadata": {},
   "source": [
    "    Uso:\n",
    "        texto = ' BEB123453 '\n",
    "        print(texto.strip())\n",
    "    Resultado:\n",
    "        'BEB123453'"
   ]
  },
  {
   "cell_type": "markdown",
   "id": "1a7e22b7",
   "metadata": {},
   "source": [
    "#### title() -> Coloca a 1ª letra de cada palavra em maiúscula"
   ]
  },
  {
   "cell_type": "raw",
   "id": "06a66b5d",
   "metadata": {},
   "source": [
    "    Uso:\n",
    "        texto = 'joão paulo lira'\n",
    "        print(texto.title())\n",
    "    Resultado:\n",
    "        'João Paulo Lira'"
   ]
  },
  {
   "cell_type": "markdown",
   "id": "d78a27a2",
   "metadata": {},
   "source": [
    "#### upper() -> Coloca o texto todo em letra maiúscula"
   ]
  },
  {
   "cell_type": "raw",
   "id": "7ed06373",
   "metadata": {},
   "source": [
    "    Uso:\n",
    "        texto = 'beb12343'\n",
    "        print(texto.upper())\n",
    "    Resultado:\n",
    "        'BEB12343'"
   ]
  },
  {
   "cell_type": "markdown",
   "id": "cd2cb365",
   "metadata": {},
   "source": [
    "# Exercícios\n",
    "\n",
    "## 1. Cadastro de CPF\n",
    "\n",
    "Crie um programa para cadastro de CPF de clientes que recebe o CPF em um input box apenas com números.\n",
    "\n",
    "Ex: 'Insira seu CPF (digite apenas números)'\n",
    "\n",
    "Caso o usuário digite algo diferente de números ou digite menos de 11 caracteres (tamanho do CPF brasileiro), o programa deve exibir uma mensagem de \"Digite seu CPF corretamente e digite apenas números\""
   ]
  },
  {
   "cell_type": "code",
   "execution_count": 138,
   "id": "f6f7ecba",
   "metadata": {},
   "outputs": [
    {
     "name": "stdout",
     "output_type": "stream",
     "text": [
      "Insira seu CPF (digite apenas números): 55555555555\n",
      "55555555555\n"
     ]
    }
   ],
   "source": [
    "CPF = input('Insira seu CPF (digite apenas números): ')\n",
    "    \n",
    "if CPF.isnumeric() and len(CPF) == 11:\n",
    "    print(CPF)\n",
    "else:\n",
    "    print('Digite seu CPF corretamente e digite apenas números')"
   ]
  },
  {
   "cell_type": "markdown",
   "id": "fd63125f",
   "metadata": {},
   "source": [
    "## 2. Melhorando nosso Cadastro de CPF\n",
    "\n",
    "Agora, além das validações anteriores, vamos criar um input que permita que o usuário insira pontos, traços e inclusive espaços vazios.\n",
    "\n",
    "Nosso programa deve \"tratar\" o que o usuário inserir para padronizar o CPF dele em apenas números.\n",
    "\n",
    "A verificação de tamanho do CPF com 11 caracteres continua válida, mas ela só deve ser feita depois de retirar todos os pontos, traços e espaços do CPF que o cliente inserir e, uma vez retirados pontos, traços e espaços, devem sobrar apenas números no CPF. Qualquer outro caractere deve ser considerado inválido.\n",
    "\n",
    "No final, nosso programa deve exibir uma mensagem para o usuário, caso ele tenha inserido o CPF inválido ou então apenas deve printar o CPF correto já só com número."
   ]
  },
  {
   "cell_type": "code",
   "execution_count": 150,
   "id": "a98a804e",
   "metadata": {},
   "outputs": [
    {
     "name": "stdout",
     "output_type": "stream",
     "text": [
      "Insira seu CPF:   10586303693     \n",
      "10586303693\n"
     ]
    }
   ],
   "source": [
    "CPF = input('Insira seu CPF: ')\n",
    "\n",
    "# Tratando os dados\n",
    "CPF = CPF.strip()\n",
    "CPF = CPF.replace('-', '')\n",
    "CPF = CPF.replace('.', '')\n",
    "\n",
    "if CPF.isnumeric() and len(CPF) == 11:\n",
    "    print(CPF)\n",
    "else:\n",
    "    print('Digite seu CPF corretamente e digite apenas números')"
   ]
  },
  {
   "cell_type": "markdown",
   "id": "405eba74",
   "metadata": {},
   "source": [
    "## 3. Cadastro de e-mails\n",
    "\n",
    "- A Hashtag sempre se comunica com seus clientes por e-mail. Para isso, a gente tem em cada página um cadastro de nome e e-mail. Nesse cadastro, nosso sistema verifica se o e-mail que a pessoa inseriu é um e-mail válido, verificando se ele tem '@' e se depois do '@' tem algum ponto, afinal:\n",
    "\n",
    "- liragmail.com NÃO é um e-mail válido\n",
    "- lira@gmail NÃO é um e-mail válido\n",
    "- lira@gmail.com é um e-mail válido\n",
    "\n",
    "Crie um programa que permita o cadastro de nome e e-mail de uma pessoa (por meio de inputs) e que verifique:\n",
    "1. Se nome e e-mail foram preenchidos, caso contrário ele deve avisar para preencher todos os dados corretamente\n",
    "2. Se o e-mail contém '@' e se depois do '@' existe algum '.', caso contrário ele deve exibir uma mensagem de e-mail inválido\n",
    "\n",
    "Obs: Pode te ajudar lembrar do método .find da aula de Métodos de String. Você pode testar o que ele dá como resposta caso ele não encontre um item dentro da string"
   ]
  },
  {
   "cell_type": "code",
   "execution_count": 17,
   "id": "a1653d0d",
   "metadata": {},
   "outputs": [
    {
     "name": "stdout",
     "output_type": "stream",
     "text": [
      "Informe o nome: d\n",
      "Informe o e-mail: dgmail.com\n",
      "Preencher todos os dados corretamente.\n"
     ]
    }
   ],
   "source": [
    "nome = input('Informe o nome: ')\n",
    "email = input('Informe o e-mail: ')\n",
    "\n",
    "if nome and email:\n",
    "    pos_arroba = email.find('@')\n",
    "    servidor = email[pos_arroba:]\n",
    "    if pos_arroba != -1 and '.' in servidor:\n",
    "        print('Nome cadastrado: {}. E-mail cadastrado: {}.'.format(nome,email))\n",
    "    else:\n",
    "        print('Preencher todos os dados corretamente.')\n",
    "else:\n",
    "    print('Preencher todos os dados corretamente.')"
   ]
  },
  {
   "cell_type": "code",
   "execution_count": 14,
   "id": "c3c6076b",
   "metadata": {},
   "outputs": [
    {
     "name": "stdout",
     "output_type": "stream",
     "text": [
      "Informe o nome: s\n",
      "Informe o e-mail: d@mcom\n",
      "E-mail Inválido.\n"
     ]
    }
   ],
   "source": [
    "nome = input('Informe o nome: ')\n",
    "email = input('Informe o e-mail: ')\n",
    "\n",
    "if nome and email:\n",
    "    pos_arroba = email.find('@')\n",
    "    if pos_arroba != -1 and email.find('.') > pos_arroba:\n",
    "        print('Nome cadastrado: {}. E-mail cadastrado: {}.'.format(nome,email))\n",
    "    else:\n",
    "        print('E-mail Inválido.')\n",
    "else:\n",
    "    print('Preencher todos os dados corretamente.')"
   ]
  },
  {
   "cell_type": "markdown",
   "id": "dcd8095f",
   "metadata": {},
   "source": [
    "# Aulas Python Impressionador - Bloco 08"
   ]
  },
  {
   "cell_type": "markdown",
   "id": "b62d423c",
   "metadata": {},
   "source": [
    "# Listas em Python\n",
    "\n",
    "## Estrutura:\n",
    "\n",
    "lista = [valor, valor, valor, valor, ...]\n",
    "\n",
    "- Lista é um dos objetos mais importantes de Python, por isso vamos trabalhar bastante neles\n",
    "- Quando importamos uma base de dados para o Python, normalmente ele é lido como uma \"lista\" ou como alguma \"variação de lista\"\n",
    "- Listas em Python foram feitas para serem homogêneas, apesar de aceitarem valores heterogêneos\n",
    "- Exemplos de Lista:\n",
    "\n",
    "Listas de Produtos de uma Loja:"
   ]
  },
  {
   "cell_type": "code",
   "execution_count": 18,
   "id": "280a79c2",
   "metadata": {},
   "outputs": [
    {
     "name": "stdout",
     "output_type": "stream",
     "text": [
      "['tv', 'celular', 'mouse', 'teclado', 'tablet']\n"
     ]
    }
   ],
   "source": [
    "produtos = ['tv', 'celular', 'mouse', 'teclado', 'tablet']\n",
    "print(produtos)"
   ]
  },
  {
   "cell_type": "code",
   "execution_count": 24,
   "id": "5824cf0b",
   "metadata": {},
   "outputs": [],
   "source": [
    "vendas = [1000, 1500, 350, 270, 900]"
   ]
  },
  {
   "cell_type": "raw",
   "id": "eb26f01a",
   "metadata": {},
   "source": [
    "produtos = ['tv', 'celular', 'mouse', 'teclado', 'tablet']\n",
    "              0 ,      1   ,    2   ,     3    ,     4   \n",
    "vendas = [  1000,    1500  ,   350  ,    270   ,    900  ]"
   ]
  },
  {
   "cell_type": "markdown",
   "id": "ea9159f3",
   "metadata": {},
   "source": [
    "### Para substituir um valor de uma lista você pode fazer:\n",
    "lista[i] = novo_valor"
   ]
  },
  {
   "cell_type": "code",
   "execution_count": 25,
   "id": "16d53318",
   "metadata": {},
   "outputs": [
    {
     "name": "stdout",
     "output_type": "stream",
     "text": [
      "['tv', 'celular', 'Cachorro', 'teclado', 'tablet']\n",
      "tv\n",
      "celular\n",
      "Cachorro\n",
      "As vendas do produto tablet foram de 900 uniades.\n"
     ]
    }
   ],
   "source": [
    "produtos[2] = 'Cachorro'\n",
    "print(produtos)\n",
    "\n",
    "print(produtos[0])\n",
    "print(produtos[1])\n",
    "print(produtos[2])\n",
    "\n",
    "print('As vendas do produto {} foram de {} uniades.'.format(produtos[4],vendas[4]))"
   ]
  },
  {
   "cell_type": "markdown",
   "id": "0b3eafef",
   "metadata": {},
   "source": [
    "# Como descobrir o índice de um item de uma lista?\n",
    "\n",
    "i = lista.index('item')"
   ]
  },
  {
   "cell_type": "code",
   "execution_count": 27,
   "id": "6a45b108",
   "metadata": {},
   "outputs": [
    {
     "name": "stdout",
     "output_type": "stream",
     "text": [
      "5\n",
      "geladeira\n",
      "180\n"
     ]
    }
   ],
   "source": [
    "produtos = ['tv', 'celular', 'tablet', 'mouse', 'teclado', 'geladeira', 'forno']\n",
    "estoque = [100, 150, 100, 120, 70, 180, 80]\n",
    "\n",
    "i = produtos.index('geladeira')\n",
    "print(i)\n",
    "\n",
    "print(produtos[i])\n",
    "print(estoque[i])"
   ]
  },
  {
   "cell_type": "raw",
   "id": "6b3654b0",
   "metadata": {},
   "source": [
    "Crie um programa para fazer uma consulta de estoque. O usuário do programa deve inserir o nome do produto e, caso ele não exista na lista, ele deve ser avisado. Caso exista, o programa deve dizer a quantidade de unidades em estoque do produto"
   ]
  },
  {
   "cell_type": "code",
   "execution_count": 33,
   "id": "02fc34c8",
   "metadata": {},
   "outputs": [
    {
     "name": "stdout",
     "output_type": "stream",
     "text": [
      "Insira o nome do produto: ddd\n",
      "O produto ddd não existe na lista.\n"
     ]
    }
   ],
   "source": [
    "item_busca = input('Insira o nome do produto: ')\n",
    "\n",
    "if item_busca in produtos:\n",
    "    i = produtos.index(item_busca)\n",
    "    print('O produto {} tem {} unidades em estoque.'.format(produtos[i],estoque[i]))\n",
    "else:\n",
    "    print('O produto {} não existe na lista.'.format(item_busca))"
   ]
  },
  {
   "cell_type": "markdown",
   "id": "1c85917f",
   "metadata": {},
   "source": [
    "## Adicionar e Remover itens de uma lista\n",
    "\n",
    "Adicionar:<br>\n",
    "lista.append(item)\n",
    "\n",
    "Remover:<br>\n",
    "item_removido = lista.pop(indice)<br>\n",
    "lista.remove(item)\n",
    "\n",
    "Digamos que você está construindo o controle de produtos da Apple.<br>\n",
    "E a Apple lançou o IPhone 11 e irá tirar dos seus estoques o IPhone X"
   ]
  },
  {
   "cell_type": "code",
   "execution_count": 37,
   "id": "10924e87",
   "metadata": {},
   "outputs": [
    {
     "name": "stdout",
     "output_type": "stream",
     "text": [
      "['apple tv', 'mac', 'iphone x', 'IPad', 'apple watch', 'mac book', 'airpods', 'iphone 11']\n",
      "['apple tv', 'mac', 'IPad', 'apple watch', 'mac book', 'airpods', 'iphone 11']\n"
     ]
    }
   ],
   "source": [
    "produtos = ['apple tv', 'mac', 'iphone x', 'IPad', 'apple watch', 'mac book', 'airpods']\n",
    "\n",
    "# Adicionar o iphone 11\n",
    "produtos.append('iphone 11')\n",
    "print(produtos)\n",
    "\n",
    "# Remover o iphone x\n",
    "produtos.remove('iphone x')\n",
    "print(produtos)"
   ]
  },
  {
   "cell_type": "markdown",
   "id": "86705267",
   "metadata": {},
   "source": [
    "#### Existem 2 formas de tratar o erro:\n",
    "\n",
    "1. Criar um if para evitar que ele aconteça\n",
    "\n",
    "2. Esperar que ele possa acontecer e tratar caso o erro aconteça com:"
   ]
  },
  {
   "cell_type": "code",
   "execution_count": null,
   "id": "55251f2d",
   "metadata": {},
   "outputs": [],
   "source": [
    "try:\n",
    "    tentar fazer\n",
    "except:\n",
    "    caso dê errado"
   ]
  },
  {
   "cell_type": "code",
   "execution_count": 41,
   "id": "9b286c44",
   "metadata": {},
   "outputs": [
    {
     "name": "stdout",
     "output_type": "stream",
     "text": [
      "['apple tv', 'mac', 'apple watch', 'mac book', 'airpods', 'iphone 11']\n"
     ]
    }
   ],
   "source": [
    "try:\n",
    "    produtos.remove('IPad')\n",
    "    print(produtos)\n",
    "except:\n",
    "    print('Produto não encontrado na lista')"
   ]
  },
  {
   "cell_type": "markdown",
   "id": "1c057814",
   "metadata": {},
   "source": [
    "## Algumas Funções Básicas de Lista\n",
    "\n",
    "### Tamanho da Lista\n",
    "\n",
    "tamanho = len(lista)"
   ]
  },
  {
   "cell_type": "code",
   "execution_count": 50,
   "id": "7f1fd88e",
   "metadata": {},
   "outputs": [
    {
     "name": "stdout",
     "output_type": "stream",
     "text": [
      "7\n",
      "7\n"
     ]
    }
   ],
   "source": [
    "produtos = ['apple tv', 'mac', 'iphone x', 'IPad', 'apple watch', 'mac book', 'airpods']\n",
    "\n",
    "tamanho = len(produtos)\n",
    "print(tamanho)\n",
    "print(len(produtos))\n"
   ]
  },
  {
   "cell_type": "markdown",
   "id": "35d5b1f6",
   "metadata": {},
   "source": [
    "## Maior e Menor Valor\n",
    "\n",
    "maior = max(lista)\n",
    "\n",
    "menor = min(lista)"
   ]
  },
  {
   "cell_type": "code",
   "execution_count": 54,
   "id": "7467f09e",
   "metadata": {},
   "outputs": [
    {
     "name": "stdout",
     "output_type": "stream",
     "text": [
      "O maior valor é: 15000, já o menor valor é: 100.\n",
      "O maior valor é: 15000, já o menor valor é: 100.\n"
     ]
    }
   ],
   "source": [
    "vendas = [1000, 1500, 15000, 270, 900, 100, 1200]\n",
    "\n",
    "maior = max(vendas)\n",
    "menor = min(vendas)\n",
    "\n",
    "print('O maior valor é: {}, já o menor valor é: {}.'.format(maior,menor))\n",
    "print('O maior valor é: {}, já o menor valor é: {}.'.format(max(vendas),min(vendas)))"
   ]
  },
  {
   "cell_type": "code",
   "execution_count": 57,
   "id": "eeef78b4",
   "metadata": {},
   "outputs": [
    {
     "name": "stdout",
     "output_type": "stream",
     "text": [
      "O produto mais vendido teve 15000 vendas e foi o: iphone x\n",
      "O produto menos vendido teve 100 vendas e foi o: mac book\n"
     ]
    }
   ],
   "source": [
    "# Qual o produto mais e menos vendido corresponde a estes valores?\n",
    "i = vendas.index(maior)\n",
    "j = vendas.index(menor)\n",
    "\n",
    "print('O produto mais vendido teve {} vendas e foi o: {}'.format(maior,produtos[i]))\n",
    "print('O produto menos vendido teve {} vendas e foi o: {}'.format(menor,produtos[j]))"
   ]
  },
  {
   "cell_type": "markdown",
   "id": "a0512d87",
   "metadata": {},
   "source": [
    "## Juntar Listas, Ordenar e Cuidados Especiais\n",
    "\n",
    "### 2 formas:\n",
    "\n",
    "- lista1.extend(lista2)\n",
    "- lista_nova = lista1 + lista2\n",
    "\n",
    "Obs: o Método .append não junta listas, mas adiciona um valor no final da lista"
   ]
  },
  {
   "cell_type": "code",
   "execution_count": 60,
   "id": "14279288",
   "metadata": {},
   "outputs": [
    {
     "name": "stdout",
     "output_type": "stream",
     "text": [
      "['apple tv', 'mac', 'iphone x', 'iphone 11', 'IPad', 'apple watch', 'mac book', 'airpods', 'iphone 12', 'ioculos']\n"
     ]
    }
   ],
   "source": [
    "produtos = ['apple tv', 'mac', 'iphone x', 'iphone 11', 'IPad', 'apple watch', 'mac book', 'airpods']\n",
    "novos_produtos = ['iphone 12', 'ioculos']\n",
    "\n",
    "produtos.extend(novos_produtos)\n",
    "print(produtos)"
   ]
  },
  {
   "cell_type": "markdown",
   "id": "e54171eb",
   "metadata": {},
   "source": [
    "### Cuidado:\n",
    "\n",
    "- [1] + [2] não é a mesma coisa que 1 + 2, então cuidado sempre com o formato dos valores na hora de fazer operações."
   ]
  },
  {
   "cell_type": "code",
   "execution_count": 63,
   "id": "52007bf4",
   "metadata": {},
   "outputs": [
    {
     "name": "stdout",
     "output_type": "stream",
     "text": [
      "35000\n",
      "35000\n"
     ]
    }
   ],
   "source": [
    "vendas = [1000, 1500, 15000, 20000, 270, 900, 100, 1200]\n",
    "vendas_iphonex = [15000]\n",
    "vendas_iphone11 = [20000]\n",
    "\n",
    "total_iphone = vendas[2] + vendas[3]\n",
    "print(total_iphone)\n",
    "\n",
    "total_iphone_lista = vendas_iphonex[0] + vendas_iphone11[0]\n",
    "print(total_iphone_lista)"
   ]
  },
  {
   "cell_type": "markdown",
   "id": "e7ee25af",
   "metadata": {},
   "source": [
    "### Ordenar listas\n",
    "\n",
    "Ordenar em ordem alfabética.<br>\n",
    "Python faz diferença em letras maiúsculas e minúsculas.\n",
    "\n",
    "lista.sort()"
   ]
  },
  {
   "cell_type": "code",
   "execution_count": 71,
   "id": "eaea9aff",
   "metadata": {},
   "outputs": [
    {
     "name": "stdout",
     "output_type": "stream",
     "text": [
      "['IPad', 'airpods', 'apple tv', 'apple watch', 'ioculos', 'iphone 11', 'iphone 12', 'iphone x', 'mac', 'mac book']\n",
      "[100, 270, 900, 1000, 1200, 1500, 15000, 20000]\n",
      "['mac book', 'mac', 'iphone x', 'iphone 12', 'iphone 11', 'ioculos', 'apple watch', 'apple tv', 'airpods', 'IPad']\n",
      "[20000, 15000, 1500, 1200, 1000, 900, 270, 100]\n"
     ]
    }
   ],
   "source": [
    "produtos.sort()\n",
    "print(produtos)\n",
    "\n",
    "vendas.sort()\n",
    "print(vendas)\n",
    "\n",
    "produtos.sort(reverse=True)\n",
    "print(produtos)\n",
    "\n",
    "vendas.sort(reverse=True)\n",
    "print(vendas)"
   ]
  },
  {
   "cell_type": "markdown",
   "id": "3c7a8316",
   "metadata": {},
   "source": [
    "## Print de Listas\n",
    "\n",
    "2 Opções:\n",
    "- print \"normal\"\n",
    "- método join -> 'Delimitador'.join(lista)"
   ]
  },
  {
   "cell_type": "code",
   "execution_count": 75,
   "id": "12a2c720",
   "metadata": {},
   "outputs": [
    {
     "name": "stdout",
     "output_type": "stream",
     "text": [
      "['apple tv', 'mac', 'iphone x', 'iphone 11', 'IPad', 'apple watch', 'mac book', 'airpods']\n",
      "apple tv | mac | iphone x | iphone 11 | IPad | apple watch | mac book | airpods\n",
      "apple tv\n",
      "mac\n",
      "iphone x\n",
      "iphone 11\n",
      "IPad\n",
      "apple watch\n",
      "mac book\n",
      "airpods\n"
     ]
    }
   ],
   "source": [
    "produtos = ['apple tv', 'mac', 'iphone x', 'iphone 11', 'IPad', 'apple watch', 'mac book', 'airpods']\n",
    "print(produtos)\n",
    "\n",
    "print(' | '.join(produtos))\n",
    "print('\\n'.join(produtos)) # Caracter do ENTER (para exibir 1 item em cada linha)"
   ]
  },
  {
   "cell_type": "markdown",
   "id": "8bb85298",
   "metadata": {},
   "source": [
    "Lembrando do método split de strings:\n",
    "\n",
    "lista = texto.split(separador)"
   ]
  },
  {
   "cell_type": "code",
   "execution_count": 78,
   "id": "8c20d7b5",
   "metadata": {},
   "outputs": [
    {
     "name": "stdout",
     "output_type": "stream",
     "text": [
      "['apple tv', 'mac', 'iphone x', 'iphone 11', 'IPad', 'apple watch', 'mac book', 'airpods']\n"
     ]
    }
   ],
   "source": [
    "produtos = 'apple tv, mac, iphone x, iphone 11, IPad, apple watch, mac book, airpods'\n",
    "\n",
    "# Criar uma lista\n",
    "\n",
    "lista = produtos.split(', ') # Remove o que esta entre aspas e substitue por virgula.\n",
    "print(lista)"
   ]
  },
  {
   "cell_type": "markdown",
   "id": "c4f40bf0",
   "metadata": {},
   "source": [
    "## Exercícios\n",
    "\n",
    "### 1. Faturamento do Melhor e do Pior Mês do Ano\n",
    "\n",
    "Qual foi o valor de vendas do melhor mês do Ano?\n",
    "E valor do pior mês do ano?"
   ]
  },
  {
   "cell_type": "code",
   "execution_count": 99,
   "id": "7ad2225f",
   "metadata": {},
   "outputs": [
    {
     "name": "stdout",
     "output_type": "stream",
     "text": [
      "As vendas do melhor mês (nov): R$ 49,051.00\n",
      "As vendas do pior mês (dez): R$ 9,650.00\n"
     ]
    }
   ],
   "source": [
    "meses = ['jan', 'fev', 'mar', 'abr', 'mai', 'jun', 'jul', 'ago', 'set', 'out', 'nov', 'dez']\n",
    "vendas_1sem = [25000, 29000, 22200, 17750, 15870, 19900]\n",
    "vendas_2sem = [19850, 20120, 17540, 15555, 49051, 9650]\n",
    "\n",
    "vendas_total = vendas_1sem + vendas_2sem\n",
    "\n",
    "melhor = max(vendas_total)\n",
    "pior = min(vendas_total)\n",
    "\n",
    "i = vendas_total.index(melhor)\n",
    "j = vendas_total.index(pior)\n",
    "\n",
    "print('As vendas do melhor mês ({}): R$ {:,.2f}'.format(meses[i],melhor))\n",
    "print('As vendas do pior mês ({}): R$ {:,.2f}'.format(meses[j],pior))"
   ]
  },
  {
   "cell_type": "markdown",
   "id": "98cbc50c",
   "metadata": {},
   "source": [
    "## 2. Continuação\n",
    "\n",
    "Agora relacione as duas listas para printar 'O melhor mês do ano foi {} com {} vendas' e o mesmo para o pior mês do ano.\n",
    "\n",
    "Calcule também o faturamento total do Ano e quanto que o melhor mês representou do faturamento total.\n",
    "\n",
    "Obs: Para o faturamento total, pode usar a função sum(lista) que soma todos os itens de uma lista"
   ]
  },
  {
   "cell_type": "code",
   "execution_count": 131,
   "id": "ac774a37",
   "metadata": {},
   "outputs": [
    {
     "name": "stdout",
     "output_type": "stream",
     "text": [
      "O faturamento total do ano foi de: R$ 261,486.00\n",
      "O melhor mês (nov) representou 18.76% do faturamento total do ano\n"
     ]
    }
   ],
   "source": [
    "meses = ['jan', 'fev', 'mar', 'abr', 'mai', 'jun', 'jul', 'ago', 'set', 'out', 'nov', 'dez']\n",
    "vendas_1sem = [25000, 29000, 22200, 17750, 15870, 19900]\n",
    "vendas_2sem = [19850, 20120, 17540, 15555, 49051, 9650]\n",
    "\n",
    "vendas_total = vendas_1sem + vendas_2sem\n",
    "\n",
    "total_ano = sum(vendas_total)\n",
    "print('O faturamento total do ano foi de: R$ {:,.2f}'.format(total_ano))\n",
    "\n",
    "melhor = max(vendas_total)\n",
    "i = vendas_total.index(melhor)\n",
    "percentual = melhor / total_ano\n",
    "\n",
    "print('O melhor mês ({}) representou {:.2%} do faturamento total do ano'.format(meses[i],percentual))"
   ]
  },
  {
   "cell_type": "markdown",
   "id": "a4529eeb",
   "metadata": {},
   "source": [
    "## 3. Crie uma lista com o top 3 valores de vendas do ano (sem fazer \"no olho\")\n",
    "\n",
    "Dica: o método remove retira um item da lista."
   ]
  },
  {
   "cell_type": "code",
   "execution_count": 138,
   "id": "ef557716",
   "metadata": {},
   "outputs": [
    {
     "name": "stdout",
     "output_type": "stream",
     "text": [
      "[49051, 29000, 25000]\n",
      "Top 3 = R$ 49,051.00, R$ 29,000.00, R$ 25,000.00.\n"
     ]
    }
   ],
   "source": [
    "meses = ['jan', 'fev', 'mar', 'abr', 'mai', 'jun', 'jul', 'ago', 'set', 'out', 'nov', 'dez']\n",
    "vendas_1sem = [25000, 29000, 22200, 17750, 15870, 19900]\n",
    "vendas_2sem = [19850, 20120, 17540, 15555, 49051, 9650]\n",
    "\n",
    "vendas_total = vendas_1sem + vendas_2sem\n",
    "\n",
    "top3 = []\n",
    "\n",
    "melhor = max(vendas_total)\n",
    "top3.append(melhor)\n",
    "\n",
    "vendas_total.remove(melhor)\n",
    "melhor1 = max(vendas_total)\n",
    "top3.append(melhor1)\n",
    "\n",
    "vendas_total.remove(melhor1)\n",
    "melhor2 = max(vendas_total)\n",
    "top3.append(melhor2)\n",
    "\n",
    "print(top3)\n",
    "print('Top 3 = R$ {:,.2f}, R$ {:,.2f}, R$ {:,.2f}.'.format(melhor,melhor1,melhor2))"
   ]
  },
  {
   "cell_type": "markdown",
   "id": "f594a65d",
   "metadata": {},
   "source": [
    "## Alterações de Variáveis\n",
    "\n",
    "Estrutura:\n",
    "\n",
    "- variavel = variavel + outro_valor\n",
    "\n",
    "ou então\n",
    "\n",
    "- variavel += outro_valor"
   ]
  },
  {
   "cell_type": "code",
   "execution_count": 145,
   "id": "c34f2f2b",
   "metadata": {},
   "outputs": [
    {
     "name": "stdout",
     "output_type": "stream",
     "text": [
      "['mac', 'iphone', 'Ipad']\n"
     ]
    }
   ],
   "source": [
    "lista = ['mac', 'iphone']\n",
    "vendas = [100, 200]\n",
    "#adicionando IPad na lista\n",
    "\n",
    "#lista.append('Ipad') ou\n",
    "\n",
    "lista = lista + ['Ipad']\n",
    "print(lista)"
   ]
  },
  {
   "cell_type": "code",
   "execution_count": 147,
   "id": "bd6c7b9f",
   "metadata": {},
   "outputs": [
    {
     "name": "stdout",
     "output_type": "stream",
     "text": [
      "800\n"
     ]
    }
   ],
   "source": [
    "soma_vendas = 300\n",
    "\n",
    "#adicionando na soma a quantidade de IPad\n",
    "soma_vendas = 300 + 500\n",
    "print(soma_vendas)"
   ]
  },
  {
   "cell_type": "code",
   "execution_count": 149,
   "id": "f096c7ac",
   "metadata": {},
   "outputs": [
    {
     "name": "stdout",
     "output_type": "stream",
     "text": [
      "Esse mês vendemos um total de 800 produtos, sendo:\n",
      "100 unidades de mac\n",
      "200 unidades de iphone\n",
      "500 unidades de Ipad\n"
     ]
    }
   ],
   "source": [
    "email = 'Esse mês vendemos um total de {} produtos, sendo:\\n{} unidades de {}\\n{} unidades de {}'.format(soma_vendas, vendas[0], lista[0], vendas[1], lista[1])\n",
    "\n",
    "#adicionando no fim do texto o Ipad\n",
    "email = email + '\\n{} unidades de Ipad'.format(500)\n",
    "print(email)"
   ]
  },
  {
   "cell_type": "markdown",
   "id": "fb50b44e",
   "metadata": {},
   "source": [
    "## Copiar e \"Igualdade\" de Listas\n",
    "\n",
    "### Estrutura:\n",
    "\n",
    "- Quando fazemos:<br>\n",
    "lista2 = lista1<br>\n",
    "não estamos criando uma lista nova, mas estamos atribuindo outra variável à mesma lista.\n",
    "\n",
    "- Se quisermos copiar lista devemos fazer<br>\n",
    "lista2 = lista1.copy()<br>\n",
    "ou entao<br>\n",
    "lista2 = lista1[:]\n",
    "\n",
    "Para entender bem isso, vamos ver na prática:"
   ]
  },
  {
   "cell_type": "code",
   "execution_count": 151,
   "id": "7f6c2929",
   "metadata": {},
   "outputs": [
    {
     "name": "stdout",
     "output_type": "stream",
     "text": [
      "['ipad', 'iphone 11', 'apple tv']\n",
      "['ipad', 'iphone 11', 'apple tv']\n"
     ]
    }
   ],
   "source": [
    "lista = ['ipad', 'iphone x', 'apple tv']\n",
    "lista2 = lista \n",
    "# A variável lista 2 aponta para o mesmo lugar da lista. Não se cria uma nova lista aqui neste caso.\n",
    "\n",
    "lista[1] = 'iphone 11'\n",
    "\n",
    "print(lista)\n",
    "print(lista2)"
   ]
  },
  {
   "cell_type": "markdown",
   "id": "7b40837e",
   "metadata": {},
   "source": [
    "### Agora copiando:"
   ]
  },
  {
   "cell_type": "code",
   "execution_count": 152,
   "id": "0908cea2",
   "metadata": {},
   "outputs": [
    {
     "name": "stdout",
     "output_type": "stream",
     "text": [
      "['ipad', 'iphone 11', 'apple tv']\n",
      "['ipad', 'iphone x', 'apple tv']\n"
     ]
    }
   ],
   "source": [
    "lista = ['ipad', 'iphone x', 'apple tv']\n",
    "lista2 = lista.copy()\n",
    "\n",
    "lista[1] = 'iphone 11'\n",
    "\n",
    "print(lista)\n",
    "print(lista2)"
   ]
  },
  {
   "cell_type": "markdown",
   "id": "d90e9d2c",
   "metadata": {},
   "source": [
    "## Listas de Listas\n",
    "\n",
    "### Estrutura:\n",
    "\n",
    "Cada item de uma lista pode ser qualquer tipo de variável. Inclusive, uma lista.\n",
    "\n",
    "Quando dentro de uma lista temos cada item como sendo uma outra lista, temos uma \"nested list\", ou seja, uma lista de listas.\n",
    "\n",
    "Todas as regras de lista e tudo que vimos até agora funciona exatamente igual, mas vamos ver como isso funciona na prática"
   ]
  },
  {
   "cell_type": "code",
   "execution_count": 156,
   "id": "3b876916",
   "metadata": {},
   "outputs": [],
   "source": [
    "vendedores = ['Lira', 'João', 'Diego', 'Alon']\n",
    "produtos = ['ipad', 'iphone']\n",
    "vendas = [[100, 200], [300, 500], [50, 1000], [900, 10]]"
   ]
  },
  {
   "cell_type": "markdown",
   "id": "44f26633",
   "metadata": {},
   "source": [
    "- Quanto João vendeu de IPad?\n",
    "- Quanto Diego vendeu de IPhone\n",
    "- Qual o total de vendas de IPhone?"
   ]
  },
  {
   "cell_type": "code",
   "execution_count": 163,
   "id": "ffeaa0ff",
   "metadata": {},
   "outputs": [
    {
     "name": "stdout",
     "output_type": "stream",
     "text": [
      "João - Ipad: 300\n",
      "Diego - Iphone: 1000\n",
      "Vendas Totais - Iphone: 1710\n"
     ]
    }
   ],
   "source": [
    "vendas_ipad_joao = vendas[1][0]\n",
    "print('João - Ipad: {}'.format(vendas_ipad_joao))\n",
    "\n",
    "vendas_iphone_diego = vendas[2][1]\n",
    "print('Diego - Iphone: {}'.format(vendas_iphone_diego))\n",
    "\n",
    "vendas_iphone_total = vendas[0][1] + vendas[1][1] + vendas[2][1] + vendas[3][1]\n",
    "print('Vendas Totais - Iphone: {}'.format(vendas_iphone_total))"
   ]
  },
  {
   "cell_type": "markdown",
   "id": "2af20a9a",
   "metadata": {},
   "source": [
    "- E se Lira na verdade fez apenas 50 vendas de IPhone, como eu modifico na minha lista o valor de vendas dele?"
   ]
  },
  {
   "cell_type": "code",
   "execution_count": 164,
   "id": "9c39967a",
   "metadata": {},
   "outputs": [
    {
     "name": "stdout",
     "output_type": "stream",
     "text": [
      "[[100, 50], [300, 500], [50, 1000], [900, 10]]\n"
     ]
    }
   ],
   "source": [
    "vendas[0][1] = 50\n",
    "print(vendas)"
   ]
  },
  {
   "cell_type": "markdown",
   "id": "79d22994",
   "metadata": {},
   "source": [
    "- E se agora eu tenho um novo produto 'mac', como eu adiciono as vendas em cada um dos vendedores?"
   ]
  },
  {
   "cell_type": "code",
   "execution_count": 168,
   "id": "18171e43",
   "metadata": {},
   "outputs": [
    {
     "name": "stdout",
     "output_type": "stream",
     "text": [
      "['ipad', 'iphone', 'mac', 'mac', 'mac']\n",
      "[[100, 50, 10, 10, 10], [300, 500, 15, 15], [50, 1000, 6, 6], [900, 10, 70, 70]]\n"
     ]
    }
   ],
   "source": [
    "produtos.append('mac')\n",
    "\n",
    "vendas_mac = [10, 15, 6, 70]\n",
    "\n",
    "vendas[0].append(vendas_mac[0])\n",
    "vendas[1].append(vendas_mac[1])\n",
    "vendas[2].append(vendas_mac[2])\n",
    "vendas[3].append(vendas_mac[3])\n",
    "\n",
    "print(produtos)\n",
    "print(vendas)"
   ]
  },
  {
   "cell_type": "markdown",
   "id": "3e628634",
   "metadata": {},
   "source": [
    "## Exercícios\n",
    "\n",
    "## 1. Mudança de Carga Tributária\n",
    "\n",
    "- Reformas e mudanças de cargas tributárias são bem comuns no Brasil.\n",
    "\n",
    "Digamos que você trabalhe em uma empresa de ecommerce\n",
    "\n",
    "No Brasil, o imposto sobre livros é zerado. De um ano para o outro, o governo criou um novo imposto que incide em 10% sobre o valor dos livros e agora você precisa alterar o registro dos preços dos livros da empresa para garantir que esse imposto vai ser repassado para o preço final do produto.\n",
    "\n",
    "Crie um código que recalcule o valor do livro da sua lista de produtos e ajuste na tabela.\n",
    "\n",
    "Além disso, calcule qual vai ser o impacto financeiro da criação desse imposto para a empresa (ou seja, quanto que o imposto vai aumentar de custo para a empresa)\n",
    "\n",
    "Obs: para facilitar, colocamos apenas 1 livro na lista, mas em breve vamos aprender um for que vai adaptar esse cenário para qualquer quantidade de livros na sua lista.\n",
    "\n",
    "Obs2: Seu código deve funcionar mesmo que não haja livros na lista de produtos da empresa"
   ]
  },
  {
   "cell_type": "code",
   "execution_count": 9,
   "id": "1bdb5773",
   "metadata": {},
   "outputs": [
    {
     "name": "stdout",
     "output_type": "stream",
     "text": [
      "[50000, 44.0]\n",
      "O acréscimo de imposto foi de: R$ 200,000.00\n"
     ]
    }
   ],
   "source": [
    "produtos = ['computador', 'livro', 'tablet', 'celular', 'tv', 'ar condicionado', 'alexa', 'máquina de café', 'kindle']\n",
    "\n",
    "#cada item da lista dos produtos corresponde a quantidade de vendas no mês e preço, nessa ordem\n",
    "produtos_ecommerce = [\n",
    "    [10000, 2500],\n",
    "    [50000, 40],\n",
    "    [7000, 1200],\n",
    "    [20000, 1500],\n",
    "    [5800, 1300],\n",
    "    [7200, 2500],\n",
    "    [200, 800],\n",
    "    [3300, 700],\n",
    "    [1900, 400]\n",
    "]\n",
    "\n",
    "if 'livro' in produtos:\n",
    "    i_livro = produtos.index('livro')\n",
    "    total_antigo = produtos_ecommerce[i_livro][0] * produtos_ecommerce[i_livro][1]\n",
    "    produtos_ecommerce[i_livro][1] = produtos_ecommerce[i_livro][1] * 1.1\n",
    "    novo_total = produtos_ecommerce[i_livro][0] * produtos_ecommerce[i_livro][1]\n",
    "    print(produtos_ecommerce[i_livro])\n",
    "    print('O acréscimo de imposto foi de: R$ {:,.2f}'.format(novo_total - total_antigo))\n",
    "else:\n",
    "    print('Não tem livros no momento')"
   ]
  },
  {
   "cell_type": "markdown",
   "id": "adf31298",
   "metadata": {},
   "source": [
    "## Format - Aula de Consulta\n",
    "\n",
    "### Como usar o format para criar formatações personalizadas em prints e textos."
   ]
  },
  {
   "cell_type": "raw",
   "id": "acd77f2e",
   "metadata": {},
   "source": [
    ":<\t\tAlinha o texto à esquerda (se tiver espaço na tela para isso)\n",
    ":>\t\tAlinha o texto à direita (se tiver espaço na tela para isso)\n",
    ":^\t\tAlinha o texto ao centro (se tiver espaço na tela para isso)\n",
    ":+\t\tColoca o sinal sempre na frente do número (independente se é positivo ou negativo)\n",
    ":,\t\tColoca a vírgula como separador de milhar\n",
    ":_\t\tColoca o _ como separador de milhar\n",
    ":e\t\tFormato Científico\n",
    ":f\t\tNúmero com quantidade fixa de casas decimais\n",
    ":x\t\tFormato HEX minúscula (para cores)\n",
    ":X\t\tFormato HEX maiúscula (para cores)\n",
    ":%\t\tFormato Percentual"
   ]
  },
  {
   "cell_type": "markdown",
   "id": "e4baf169",
   "metadata": {},
   "source": [
    "- Exemplo de Alinhamento"
   ]
  },
  {
   "cell_type": "code",
   "execution_count": null,
   "id": "a7208002",
   "metadata": {},
   "outputs": [],
   "source": [
    "email = 'lira@gmail.com'\n",
    "print('Meu e-mail não é {:^50}, show?'.format(email))"
   ]
  },
  {
   "cell_type": "markdown",
   "id": "5f81f151",
   "metadata": {},
   "source": [
    "- Exemplo de Edição de Sinal"
   ]
  },
  {
   "cell_type": "code",
   "execution_count": null,
   "id": "43a086a2",
   "metadata": {},
   "outputs": [],
   "source": [
    "custo = 500\n",
    "faturamento = 270\n",
    "lucro = faturamento - custo\n",
    "print('Faturamento foi {:+} e lucro foi {:+}'.format(faturamento, lucro))"
   ]
  },
  {
   "cell_type": "markdown",
   "id": "9bd628c0",
   "metadata": {},
   "source": [
    "- Exemplo de Separador de Milhar"
   ]
  },
  {
   "cell_type": "code",
   "execution_count": null,
   "id": "eb45e473",
   "metadata": {},
   "outputs": [],
   "source": [
    "custo = 5000\n",
    "faturamento = 2700\n",
    "lucro = faturamento - custo\n",
    "print('Faturamento foi {:+,} e lucro foi {:+,}'.format(faturamento, lucro))"
   ]
  },
  {
   "cell_type": "markdown",
   "id": "24195e41",
   "metadata": {},
   "source": [
    "- Formato com casas Decimais fixas"
   ]
  },
  {
   "cell_type": "code",
   "execution_count": null,
   "id": "79f8524f",
   "metadata": {},
   "outputs": [],
   "source": [
    "custo = 500\n",
    "faturamento = 270\n",
    "lucro = faturamento - custo\n",
    "print('Faturamento foi {:.2f} e lucro foi {:.1f}'.format(faturamento, lucro))"
   ]
  },
  {
   "cell_type": "markdown",
   "id": "e174f975",
   "metadata": {},
   "source": [
    "- Formato Percentual"
   ]
  },
  {
   "cell_type": "code",
   "execution_count": null,
   "id": "aef682c4",
   "metadata": {},
   "outputs": [],
   "source": [
    "custo = 500\n",
    "faturamento = 1300\n",
    "lucro = faturamento - custo\n",
    "margem = lucro / faturamento\n",
    "print('Margem de lucro foi de {:.2%}'.format(margem))"
   ]
  },
  {
   "cell_type": "markdown",
   "id": "db67e0e6",
   "metadata": {},
   "source": [
    "- Formato Moeda -> Combinação de Formatos\n",
    "\n",
    "Existem módulos/bibliotecas que vão facilitar isso, caso a gente queira, mas vamos ver como usar módulos mais a frente do curso. Por enquanto, se você precisar, pode fazer substituições em string"
   ]
  },
  {
   "cell_type": "code",
   "execution_count": null,
   "id": "1f6caf26",
   "metadata": {},
   "outputs": [],
   "source": [
    "custo = 5000\n",
    "faturamento = 27000\n",
    "lucro = faturamento - custo\n",
    "print('Faturamento foi R${:,.2f} e lucro foi R${:,.2f}'.format(faturamento, lucro))\n",
    "\n",
    "#transformando no formato brasileiro\n",
    "lucro_texto = 'R${:_.2f}'.format(lucro)\n",
    "print(lucro_texto.replace('.', ',').replace('_', '.'))"
   ]
  },
  {
   "cell_type": "markdown",
   "id": "2c1a5ebb",
   "metadata": {},
   "source": [
    "- Função round() para arredondar números, caso seja necessário"
   ]
  },
  {
   "cell_type": "code",
   "execution_count": null,
   "id": "415f580b",
   "metadata": {},
   "outputs": [],
   "source": [
    "imposto = 0.15758\n",
    "preco = 100\n",
    "valor_imposto = round(preco * imposto, 1)\n",
    "print('Imposto sobre o preço é de {}'.format(valor_imposto))"
   ]
  },
  {
   "cell_type": "markdown",
   "id": "1065fc62",
   "metadata": {},
   "source": [
    "## Caracteres Especiais dentro de Texto\n",
    "\n",
    "Alguns caracteres como o 'enter' tem um código específico no Python para serem usados. Os principais são:"
   ]
  },
  {
   "cell_type": "code",
   "execution_count": null,
   "id": "ece3ec7a",
   "metadata": {},
   "outputs": [],
   "source": [
    "\\\"  Aspas Duplas\n",
    "\\'\tAspas Simples\t\n",
    "\\\\\tContra Barra\n",
    "\\n\tNova Linha\t\t\n",
    "\\t\tTab\t"
   ]
  },
  {
   "cell_type": "markdown",
   "id": "16421a73",
   "metadata": {},
   "source": [
    "## Métodos Específicos de Lista em Python"
   ]
  },
  {
   "cell_type": "markdown",
   "id": "524a9cc4",
   "metadata": {},
   "source": [
    "- list.append(valor)<br>\n",
    "Adiciona um valor ao final de uma lista"
   ]
  },
  {
   "cell_type": "markdown",
   "id": "da9d1189",
   "metadata": {},
   "source": [
    "Uso:\n",
    "    vendas = [150, 320]\n",
    "    vendas.append(110)\n",
    "Resultado:\n",
    "    vendas = [150, 320, 110]"
   ]
  },
  {
   "cell_type": "markdown",
   "id": "2597c364",
   "metadata": {},
   "source": [
    "- list.extend(lista2)<br>\n",
    "Adiciona todos os valores da lista2 na lista original"
   ]
  },
  {
   "cell_type": "markdown",
   "id": "644b6ece",
   "metadata": {},
   "source": [
    "Uso:\n",
    "    vendas = [150, 320, 110, 450, 390, 370]\n",
    "    vendas_2semestre = [440, 470, 900, 1000, 1100, 1050]\n",
    "    vendas.extend(vendas_2semestre)\n",
    "Resultado:\n",
    "    vendas = [150, 320, 110, 450, 390, 370, 440, 470, 900, 1000, 1100, 1050]"
   ]
  },
  {
   "cell_type": "markdown",
   "id": "cc216943",
   "metadata": {},
   "source": [
    "- list.insert(posicao, valor)<br>\n",
    "Adiciona um valor em uma posição específica em uma lista. Não é recomendado usar a não ser que seja realmente necessário inserir em uma posição específica, porque o método append é mais eficiente."
   ]
  },
  {
   "cell_type": "markdown",
   "id": "36e5004a",
   "metadata": {},
   "source": [
    "Uso:\n",
    "    vendas = [150, 320]\n",
    "    vendas.insert(1, 110)\n",
    "Resultado:\n",
    "    vendas = [150, 110, 320]\n",
    "Obs:\n",
    "    Compare com o caso do list.append para ver a diferença"
   ]
  },
  {
   "cell_type": "markdown",
   "id": "64650f9b",
   "metadata": {},
   "source": [
    "- list.remove(valor)<br>\n",
    "Remove o valor da lista (apenas a 1ª ocorrência, então caso haja 2 vezes o valor na lista, apenas a 1ª será removida). Além disso, dá um erro caso valor não exista dentro da lista."
   ]
  },
  {
   "cell_type": "markdown",
   "id": "60f61419",
   "metadata": {},
   "source": [
    "Uso:\n",
    "    vendedores = ['João', 'Julia', 'Maria', 'Ana', 'Paulo', 'Marcus']\n",
    "    vendedores.remove('Maria')\n",
    "Resultado:\n",
    "    vendedores = ['João', 'Julia', 'Ana', 'Paulo', 'Marcus']"
   ]
  },
  {
   "cell_type": "markdown",
   "id": "3e547fc1",
   "metadata": {},
   "source": [
    "- list.pop(posicao)<br>\n",
    "Remove o item que está na posicao (índice) passado. Além disso, esse item é dado como resultado do pop, portanto pode ser armazenado em uma variável ou usado para outra coisa na mesma linha de código."
   ]
  },
  {
   "cell_type": "markdown",
   "id": "0c92f84a",
   "metadata": {},
   "source": [
    "Uso:<br>\n",
    "    vendedores = ['João', 'Julia', 'Maria', 'Ana', 'Paulo', 'Marcus']<br>\n",
    "    vendedores.pop(2)<br>\n",
    "Resultado:<br>\n",
    "    vendedores = ['João', 'Julia', 'Ana', 'Paulo', 'Marcus']"
   ]
  },
  {
   "cell_type": "markdown",
   "id": "d8941b37",
   "metadata": {},
   "source": [
    "- list.clear()<br>\n",
    "Remove todos os itens de uma lista"
   ]
  },
  {
   "cell_type": "markdown",
   "id": "74ec938e",
   "metadata": {},
   "source": [
    "Uso:\n",
    "    vendedores = ['João', 'Julia', 'Maria', 'Ana', 'Paulo', 'Marcus']\n",
    "    vendedores.clear()\n",
    "Resultado:\n",
    "    vendedores = []"
   ]
  },
  {
   "cell_type": "markdown",
   "id": "767c77f3",
   "metadata": {},
   "source": [
    "- list.index(valor)<br>\n",
    "Retorna a posição do valor dentro da lista (em qual índice está o valor). Dá erro caso não haja o valor dentro da lista."
   ]
  },
  {
   "cell_type": "markdown",
   "id": "e42893f5",
   "metadata": {},
   "source": [
    "Uso:\n",
    "    vendedores = ['João', 'Julia', 'Maria', 'Ana', 'Paulo', 'Marcus']\n",
    "    posicao_Joao = vendedores.index('João')\n",
    "Resultado:\n",
    "    posicao_Joao = 0"
   ]
  },
  {
   "cell_type": "markdown",
   "id": "fed8b80f",
   "metadata": {},
   "source": [
    "- list.count(valor)<br>\n",
    "Retorna a quantidade de vezes que o valor aparece na lista"
   ]
  },
  {
   "cell_type": "markdown",
   "id": "206e7e4c",
   "metadata": {},
   "source": [
    "Uso:\n",
    "    vendedores = ['João', 'Julia', 'Maria', 'Ana', 'Paulo', 'Marcus', 'João']\n",
    "    qtde_Joao = vendedores.count('João')\n",
    "Resultado:\n",
    "    qtde_Joao = 2"
   ]
  },
  {
   "cell_type": "markdown",
   "id": "cafca461",
   "metadata": {},
   "source": [
    "- list.sort(reverse=False)<br>\n",
    "Ordena os valores da lista em ordem crescente, ou alfabética, (reverse=False) ou decrescente (reverse=True)."
   ]
  },
  {
   "cell_type": "markdown",
   "id": "f21d3bff",
   "metadata": {},
   "source": [
    "Uso:\n",
    "    vendas = [150, 300, 190, 480]\n",
    "    vendas.sort(reverse=True)\n",
    "Resultado:\n",
    "    vendas = [480, 300, 190, 150]"
   ]
  },
  {
   "cell_type": "markdown",
   "id": "4e9247ed",
   "metadata": {},
   "source": [
    "- list.reverse()<br>\n",
    "Inverte a ordem dos elementos de uma lista."
   ]
  },
  {
   "cell_type": "markdown",
   "id": "118f79ab",
   "metadata": {},
   "source": [
    "Uso:\n",
    "    vendas = [150, 300, 190, 480]\n",
    "    vendas.reverse()\n",
    "Resultado:\n",
    "    vendas = [480, 190, 300, 150]"
   ]
  },
  {
   "cell_type": "markdown",
   "id": "3f6ae1a7",
   "metadata": {},
   "source": [
    "- list.copy()<br>\n",
    "Cria uma cópia da lista original. Outra opção é fazer lista2 = lista1[:]"
   ]
  },
  {
   "cell_type": "markdown",
   "id": "708c9b83",
   "metadata": {},
   "source": [
    "Uso:\n",
    "    vendas = [150, 300, 190, 480]\n",
    "    vendas2 = vendas.copy()\n",
    "Resultado:\n",
    "    vendas2 = [150, 300, 190, 480]"
   ]
  },
  {
   "cell_type": "markdown",
   "id": "ca514ea7",
   "metadata": {},
   "source": [
    "# Aulas Python Impressionador - Bloco 10"
   ]
  },
  {
   "cell_type": "markdown",
   "id": "00c62d3a",
   "metadata": {},
   "source": [
    "## Estrutura de Repetição: for\n",
    "\n",
    "### Funcionamento:"
   ]
  },
  {
   "cell_type": "raw",
   "id": "74adabcc",
   "metadata": {},
   "source": [
    "for i in range(n):\n",
    "    repetir código n vezes"
   ]
  },
  {
   "cell_type": "code",
   "execution_count": 12,
   "id": "e8473273",
   "metadata": {},
   "outputs": [
    {
     "name": "stdout",
     "output_type": "stream",
     "text": [
      "0\n",
      "1\n",
      "2\n",
      "3\n",
      "4\n"
     ]
    }
   ],
   "source": [
    "for i in range(5):\n",
    "    print(i)"
   ]
  },
  {
   "cell_type": "markdown",
   "id": "94800117",
   "metadata": {},
   "source": [
    "- Imagine que você está construindo uma automação para enviar todo dia por e-mail um resumo da produção de uma fábrica. Construa um código que exiba a quantidade produzida de cada os produto nesse \"e-mail\""
   ]
  },
  {
   "cell_type": "code",
   "execution_count": 16,
   "id": "05445295",
   "metadata": {},
   "outputs": [
    {
     "name": "stdout",
     "output_type": "stream",
     "text": [
      "15000 unidades produzidas de coca\n",
      "12000 unidades produzidas de pepsi\n",
      "13000 unidades produzidas de guarana\n",
      "5000 unidades produzidas de sprite\n",
      "250 unidades produzidas de fanta\n"
     ]
    }
   ],
   "source": [
    "produtos = ['coca', 'pepsi', 'guarana', 'sprite', 'fanta']\n",
    "producao = [15000, 12000, 13000, 5000, 250]\n",
    "\n",
    "tamanho = len(produtos)\n",
    "for i in range(tamanho):\n",
    "    print('{} unidades produzidas de {}'.format(producao[i],produtos[i]))"
   ]
  },
  {
   "cell_type": "markdown",
   "id": "75eada67",
   "metadata": {},
   "source": [
    "## For \"each\"\n",
    "\n",
    "### Estrutura:\n",
    "\n",
    "O for no Python consegue percorrer uma lista e a cada \"loop\" retornar o valor do item."
   ]
  },
  {
   "cell_type": "raw",
   "id": "67b95c70",
   "metadata": {},
   "source": [
    "for i in range(5):\n",
    "    print(i)\n",
    "    \n",
    "range(5) é na verdade uma lista do tipo: [0, 1, 2, 3, 4]"
   ]
  },
  {
   "cell_type": "markdown",
   "id": "687d27ed",
   "metadata": {},
   "source": [
    "### Usando para listas:"
   ]
  },
  {
   "cell_type": "raw",
   "id": "217a078a",
   "metadata": {},
   "source": [
    "for item in lista:\n",
    "    print(item)\n",
    "    \n",
    "ou então para string:\n",
    "\n",
    "for ch in texto:\n",
    "    print(ch)"
   ]
  },
  {
   "cell_type": "code",
   "execution_count": 21,
   "id": "92cc4edc",
   "metadata": {},
   "outputs": [
    {
     "name": "stdout",
     "output_type": "stream",
     "text": [
      "O produto é: coca\n",
      "O produto é: pepsi\n",
      "O produto é: guarana\n",
      "O produto é: sprite\n",
      "O produto é: fanta\n",
      "l\n",
      "i\n",
      "r\n",
      "a\n",
      "@\n",
      "g\n",
      "m\n",
      "a\n",
      "i\n",
      "l\n",
      ".\n",
      "c\n",
      "o\n",
      "m\n"
     ]
    }
   ],
   "source": [
    "produtos = ['coca', 'pepsi', 'guarana', 'sprite', 'fanta']\n",
    "texto = 'lira@gmail.com'\n",
    "\n",
    "for item in produtos:\n",
    "    print('O produto é: {}'.format(item))\n",
    "    \n",
    "for ch in texto:\n",
    "    print(ch)"
   ]
  },
  {
   "cell_type": "markdown",
   "id": "8cb94bc3",
   "metadata": {},
   "source": [
    "## for + if\n",
    "\n",
    "### Estrutura:"
   ]
  },
  {
   "cell_type": "raw",
   "id": "0d2d3926",
   "metadata": {},
   "source": [
    "for item in lista:\n",
    "    if condicao:\n",
    "        faça alguma coisa\n",
    "    else:\n",
    "        outra coisa"
   ]
  },
  {
   "cell_type": "markdown",
   "id": "aa2e20a2",
   "metadata": {},
   "source": [
    "Digamos que a gente esteja analisando a meta de vendas de vários funcionários de uma empresa. A meta de vendas é de 1000 reais em 1 dia.\n",
    "\n",
    "Temos uma lista com as vendas de todos os funcionários e quero calcular qual o % de pessoas que bateram a meta."
   ]
  },
  {
   "cell_type": "code",
   "execution_count": 26,
   "id": "06d12a3a",
   "metadata": {},
   "outputs": [
    {
     "name": "stdout",
     "output_type": "stream",
     "text": [
      "O percentual de pessoas que bateram a meta foi de: 26.09%\n"
     ]
    }
   ],
   "source": [
    "vendas = [1200, 300, 800, 1500, 1900, 2750, 400, 20, 23, 70, 90, 80, 1100, 999, 900, 880, 870, 50, 1111, 120, 300, 450, 800]\n",
    "meta = 1000\n",
    "\n",
    "qtd_bateu_meta = 0\n",
    "\n",
    "for valor in vendas:\n",
    "    if valor >= meta:\n",
    "        qtd_bateu_meta += 1\n",
    "\n",
    "qtd_funcionarios = len(vendas)\n",
    " \n",
    "print('O percentual de pessoas que bateram a meta foi de: {:.2%}'.format(qtd_bateu_meta / qtd_funcionarios))"
   ]
  },
  {
   "cell_type": "markdown",
   "id": "41561ed8",
   "metadata": {},
   "source": [
    "## Enumerate\n",
    "\n",
    "### Estrutura:\n",
    "\n",
    "O enumerate permite que você percorra uma lista e ao mesmo tempo tenha em uma variável o índice daquele item.\n",
    "\n",
    "- for normalmente"
   ]
  },
  {
   "cell_type": "raw",
   "id": "d071b823",
   "metadata": {},
   "source": [
    "for item in lista:\n",
    "    resto do código"
   ]
  },
  {
   "cell_type": "code",
   "execution_count": 27,
   "id": "5dbad425",
   "metadata": {},
   "outputs": [
    {
     "name": "stdout",
     "output_type": "stream",
     "text": [
      "Maria\n",
      "José\n",
      "Antônio\n",
      "João\n",
      "Francisco\n",
      "Ana\n",
      "Luiz\n",
      "Paulo\n",
      "Carlos\n",
      "Manoel\n",
      "Pedro\n",
      "Francisca\n",
      "Marcos\n",
      "Raimundo\n",
      "Sebastião\n",
      "Antônia\n",
      "Marcelo\n",
      "Jorge\n",
      "Márcia\n",
      "Geraldo\n",
      "Adriana\n",
      "Sandra\n",
      "Luis\n"
     ]
    }
   ],
   "source": [
    "funcionarios = ['Maria', 'José', 'Antônio', 'João', 'Francisco', 'Ana', 'Luiz', 'Paulo', 'Carlos', 'Manoel', 'Pedro', 'Francisca', 'Marcos', 'Raimundo', 'Sebastião', 'Antônia', 'Marcelo', 'Jorge', 'Márcia', 'Geraldo', 'Adriana', 'Sandra', 'Luis']\n",
    "for funcionario in funcionarios:\n",
    "    print(funcionario)"
   ]
  },
  {
   "cell_type": "raw",
   "id": "f5508716",
   "metadata": {},
   "source": [
    "for i, item in enumerate(lista):\n",
    "    resto do código"
   ]
  },
  {
   "cell_type": "code",
   "execution_count": 28,
   "id": "b5653cc8",
   "metadata": {},
   "outputs": [
    {
     "name": "stdout",
     "output_type": "stream",
     "text": [
      "0 é o funcionário Maria\n",
      "1 é o funcionário José\n",
      "2 é o funcionário Antônio\n",
      "3 é o funcionário João\n",
      "4 é o funcionário Francisco\n",
      "5 é o funcionário Ana\n",
      "6 é o funcionário Luiz\n",
      "7 é o funcionário Paulo\n",
      "8 é o funcionário Carlos\n",
      "9 é o funcionário Manoel\n",
      "10 é o funcionário Pedro\n",
      "11 é o funcionário Francisca\n",
      "12 é o funcionário Marcos\n",
      "13 é o funcionário Raimundo\n",
      "14 é o funcionário Sebastião\n",
      "15 é o funcionário Antônia\n",
      "16 é o funcionário Marcelo\n",
      "17 é o funcionário Jorge\n",
      "18 é o funcionário Márcia\n",
      "19 é o funcionário Geraldo\n",
      "20 é o funcionário Adriana\n",
      "21 é o funcionário Sandra\n",
      "22 é o funcionário Luis\n"
     ]
    }
   ],
   "source": [
    "funcionarios = ['Maria', 'José', 'Antônio', 'João', 'Francisco', 'Ana', 'Luiz', 'Paulo', 'Carlos', 'Manoel', 'Pedro', 'Francisca', 'Marcos', 'Raimundo', 'Sebastião', 'Antônia', 'Marcelo', 'Jorge', 'Márcia', 'Geraldo', 'Adriana', 'Sandra', 'Luis']\n",
    "\n",
    "for i, funcionario in enumerate(funcionarios):\n",
    "    print('{} é o funcionário {}'.format(i, funcionario))"
   ]
  },
  {
   "cell_type": "markdown",
   "id": "36c1f98c",
   "metadata": {},
   "source": [
    "### Exemplo Prático\n",
    "\n",
    "Vamos pegar um exemplo de nível mínimo de estoque. Em uma fábrica você tem vários produtos e não pode deixar que os produtos fiquem em falta. Para isso, foi definido uma quantidade mínima de estoque que os produtos precisam ter:\n",
    "\n",
    "Identifique quais produtos estão abaixo do nível mínimo de estoque."
   ]
  },
  {
   "cell_type": "code",
   "execution_count": 51,
   "id": "633d4855",
   "metadata": {},
   "outputs": [
    {
     "name": "stdout",
     "output_type": "stream",
     "text": [
      "Os produtos abaixo do nível mínimo de estoque são:\n",
      "- dolly: com estoque de 20 unidades;\n",
      "- red bull: com estoque de 23 unidades;\n"
     ]
    }
   ],
   "source": [
    "estoque = [1200, 300, 800, 1500, 1900, 2750, 400, 20, 23, 70, 90, 80, 1100, 999, 900, 880, 870, 50, 1111, 120, 300, 450, 800]\n",
    "produtos = ['coca', 'pepsi', 'guarana', 'skol', 'brahma', 'agua', 'del valle', 'dolly', 'red bull', 'cachaça', 'vinho tinto', 'vodka', 'vinho branco', 'tequila', 'champagne', 'gin', 'guaracamp', 'matte', 'leite de castanha', 'leite', 'jurupinga', 'sprite', 'fanta']\n",
    "nivel_minimo = 50\n",
    "\n",
    "print('Os produtos abaixo do nível mínimo de estoque são:')\n",
    "\n",
    "for i, qtd_estoque in enumerate(estoque):\n",
    "    if qtd_estoque < nivel_minimo:\n",
    "\n",
    "        print('- {}: com estoque de {} unidades;'.format(produtos[i],qtd_estoque))"
   ]
  },
  {
   "cell_type": "markdown",
   "id": "c7691dd8",
   "metadata": {},
   "source": [
    "## Exercícios\n",
    "\n",
    "### 1. Criando um Registro de Hóspedes\n",
    "\n",
    "Digamos que você está criando o sistema para registrar a chegada de hóspedes em um hotel. No hotel, os hóspedes podem ter quartos com 1, 2, 3 e 4 pessoas. Seu sistema deve conseguir:\n",
    "\n",
    "1. Identificar quantas pessoas o hóspede que acabou de chegar vai ter no quarto (perguntando por meio de input)\n",
    "2. De acordo com a quantidade de pessoas do hóspede, ele deve fazer um for para perguntar o cpf e o nome de cada pessoa, a fim de registrá-la no quarto (2 inputs para cada pessoa, 1 para o cpf e outro para o nome)\n",
    "3. O seu programa então deve gerar uma lista com todas as pessoas que ficarão no quarto em que cada item dessa lista é o nome da pessoa e o cpf da pessoa, assim:"
   ]
  },
  {
   "cell_type": "raw",
   "id": "b8993c24",
   "metadata": {},
   "source": [
    "quarto = [\n",
    "    ['João', 'cpf:00000000000'],\n",
    "    ['Julia', 'cpf:11111111111'],\n",
    "    ['Marcus', 'cpf:22222222222'],\n",
    "    ['Maria', 'cpf:33333333333'],\n",
    "]"
   ]
  },
  {
   "cell_type": "markdown",
   "id": "dafd3b92",
   "metadata": {},
   "source": [
    "- Para simplificar, não vamos nos preocupar com possibilidades de \"tentar colocar mais de 1 hóspede, digitar o cpf errado, etc. Nosso objetivo é treinar a criação de uma rotina de cadastro"
   ]
  },
  {
   "cell_type": "code",
   "execution_count": 85,
   "id": "1997cf01",
   "metadata": {},
   "outputs": [
    {
     "name": "stdout",
     "output_type": "stream",
     "text": [
      "Informe a quantidade de pessoas no quarto: 1\n",
      "Informe o nome do hóspede: s\n",
      "Informe o CPF do hóspede: 1\n",
      "[['1: s', 'CPF: 1']]\n"
     ]
    }
   ],
   "source": [
    "qtd_pessoas = int(input('Informe a quantidade de pessoas no quarto: '))\n",
    "# A resposta de todo input vem como uma string, precisa transformar em inteiro sempre que houver números\n",
    "\n",
    "quarto = []\n",
    "\n",
    "for i in range(qtd_pessoas):\n",
    "    nome = input('Informe o nome do hóspede: ')\n",
    "    cpf = input('Informe o CPF do hóspede: ')\n",
    "    contador = i + 1\n",
    "    hospede = ['{}: {}'.format(contador,nome), 'CPF: {}'.format(cpf)]\n",
    "    quarto.append(hospede)\n",
    "print(quarto)"
   ]
  },
  {
   "cell_type": "markdown",
   "id": "67281df4",
   "metadata": {},
   "source": [
    "## 2. Análise de Vendas\n",
    "\n",
    "Nesse exercício vamos fazer uma \"análise simples\" de atingimento de Meta.\n",
    "\n",
    "Temos uma lista com os vendedores e os valores de vendas e queremos identificar (printar) quais os vendedores que bateram a meta e qual foi o valor que eles venderam."
   ]
  },
  {
   "cell_type": "code",
   "execution_count": 84,
   "id": "39cc976e",
   "metadata": {},
   "outputs": [
    {
     "name": "stdout",
     "output_type": "stream",
     "text": [
      "O Vendedor João bateu a meta. Fez 15000 vendas.\n",
      "O Vendedor Julia bateu a meta. Fez 27000 vendas.\n",
      "O Vendedor Ana bateu a meta. Fez 10300 vendas.\n"
     ]
    }
   ],
   "source": [
    "meta = 10000\n",
    "vendas = [\n",
    "    ['João', 15000],\n",
    "    ['Julia', 27000],\n",
    "    ['Marcus', 9900],\n",
    "    ['Maria', 3750],\n",
    "    ['Ana', 10300],\n",
    "    ['Alon', 7870],\n",
    "]\n",
    "\n",
    "for item in vendas:\n",
    "    if item[1] >= meta:\n",
    "        print('O Vendedor {} bateu a meta. Fez {} vendas.'.format(item[0],item[1]))"
   ]
  },
  {
   "cell_type": "markdown",
   "id": "c0ca99c6",
   "metadata": {},
   "source": [
    "## 3. Comparação com Ano Anterior\n",
    "\n",
    "Digamos que você está analisando as vendas de produtos de um ecommerce e quer identificar quais produtos tiveram no ano de 2020 mais vendas do que no ano de 2019, para reportar isso para a diretoria.\n",
    "\n",
    "Sua resposta pode ser um print de cada produto, qual foi a venda de 2019, a venda de 2020 e o % de crescimento de 2020 para 2019.\n",
    "\n",
    "Lembrando, para calcular o % de crescimento de um produto de um ano para o outro, podemos fazer: (vendas_produto2020/vendas_produto2019 - 1)\n",
    "\n",
    "Dica: lembre do enumerate, ele pode facilitar seu \"for\""
   ]
  },
  {
   "cell_type": "code",
   "execution_count": 90,
   "id": "1d3e8c74",
   "metadata": {},
   "outputs": [
    {
     "name": "stdout",
     "output_type": "stream",
     "text": [
      "Produto: iphone | Venda 2019: R$ 558,147.00 | Venda 2020: R$ 951,642.00 | Crescimento 20/19: 70.50%\n",
      "Produto: tv | Venda 2019: R$ 405,252.00 | Venda 2020: R$ 787,604.00 | Crescimento 20/19: 94.35%\n",
      "Produto: máquina de café | Venda 2019: R$ 718,654.00 | Venda 2020: R$ 867,660.00 | Crescimento 20/19: 20.73%\n",
      "Produto: notebook dell | Venda 2019: R$ 422,760.00 | Venda 2020: R$ 694,913.00 | Crescimento 20/19: 64.38%\n",
      "Produto: notebook hp | Venda 2019: R$ 154,753.00 | Venda 2020: R$ 539,704.00 | Crescimento 20/19: 248.75%\n",
      "Produto: microsoft surface | Venda 2019: R$ 438,508.00 | Venda 2020: R$ 667,179.00 | Crescimento 20/19: 52.15%\n",
      "Produto: webcam | Venda 2019: R$ 237,467.00 | Venda 2020: R$ 295,633.00 | Crescimento 20/19: 24.49%\n",
      "Produto: caixa de som | Venda 2019: R$ 489,705.00 | Venda 2020: R$ 725,316.00 | Crescimento 20/19: 48.11%\n",
      "Produto: microfone | Venda 2019: R$ 328,311.00 | Venda 2020: R$ 644,622.00 | Crescimento 20/19: 96.34%\n",
      "Produto: câmera canon | Venda 2019: R$ 591,120.00 | Venda 2020: R$ 994,303.00 | Crescimento 20/19: 68.21%\n"
     ]
    }
   ],
   "source": [
    "produtos = ['iphone', 'galaxy', 'ipad', 'tv', 'máquina de café', 'kindle', 'geladeira', 'adega', 'notebook dell', 'notebook hp', 'notebook asus', 'microsoft surface', 'webcam', 'caixa de som', 'microfone', 'câmera canon']\n",
    "vendas2019 = [558147,712350,573823,405252,718654,531580,973139,892292,422760,154753,887061,438508,237467,489705,328311,591120]\n",
    "vendas2020 = [951642,244295,26964,787604,867660,78830,710331,646016,694913,539704,324831,667179,295633,725316,644622,994303]\n",
    "\n",
    "#seu código aqui\n",
    "\n",
    "for i, produto in enumerate(produtos):\n",
    "    if vendas2020[i] > vendas2019[i]:\n",
    "        crescimento = vendas2020[i] / vendas2019[i] - 1\n",
    "        print('Produto: {} | Venda 2019: R$ {:,.2f} | Venda 2020: R$ {:,.2f} | Crescimento 20/19: {:.2%}'.format(produto, vendas2019[i], vendas2020[i], crescimento))"
   ]
  },
  {
   "cell_type": "markdown",
   "id": "4ab0e79f",
   "metadata": {},
   "source": [
    "## For dentro de For\n",
    "\n",
    "Quando temos listas dentro de listas, às vezes precisamos fazer um \"for dentro de for\""
   ]
  },
  {
   "cell_type": "raw",
   "id": "0127893a",
   "metadata": {},
   "source": [
    "for item in lista: \n",
    "    for item2 in lista2:\n",
    "        codigo aqui"
   ]
  },
  {
   "cell_type": "markdown",
   "id": "9bd6ae27",
   "metadata": {},
   "source": [
    "Vamos pegar um exemplo de nível mínimo de estoque. Em uma fábrica você tem vários produtos e não pode deixar que os produtos fiquem em falta. Para isso, foi definido uma quantidade mínima de estoque que os produtos precisam ter:\n",
    "\n",
    "Identifique quais fábricas tem algum produto abaixo do nível de estoque\n",
    "\n",
    "- Agora ao invés de analisar o estoque de apenas 1 fábrica, vamos analisar o estoque de várias fábricas"
   ]
  },
  {
   "cell_type": "code",
   "execution_count": 106,
   "id": "60ce6d39",
   "metadata": {},
   "outputs": [
    {
     "name": "stdout",
     "output_type": "stream",
     "text": [
      "['Lira Manufacturing', 'Fábrica Hashtag', 'Python Manufaturas']\n"
     ]
    }
   ],
   "source": [
    "estoque = [\n",
    "    [294, 125, 269, 208, 783, 852, 259, 371, 47, 102, 386, 87, 685, 686, 697, 941, 163, 631, 7, 714, 218, 670, 453],\n",
    "    [648, 816, 310, 555, 992, 643, 226, 319, 501, 23, 239, 42, 372, 441, 126, 645, 927, 911, 761, 445, 974, 2, 549],\n",
    "    [832, 683, 784, 449, 977, 705, 198, 937, 729, 327, 339, 10, 975, 310, 95, 689, 137, 795, 211, 538, 933, 751, 522],\n",
    "    [837, 168, 570, 397, 53, 297, 966, 714, 72, 737, 259, 629, 625, 469, 922, 305, 782, 243, 841, 848, 372, 621, 362],\n",
    "    [429, 242, 53, 985, 406, 186, 198, 50, 501, 870, 781, 632, 781, 105, 644, 509, 401, 88, 961, 765, 422, 340, 654],\n",
    "]\n",
    "fabricas = ['Lira Manufacturing', 'Fábrica Hashtag', 'Python Manufaturas', 'Produções e Cia', 'Manufatura e Cia']\n",
    "nivel_minimo = 50\n",
    "\n",
    "fabrica_abaixo_nivel = []\n",
    "\n",
    "for i, fabrica in enumerate(fabricas): \n",
    "    for item in estoque[i]:\n",
    "        if item < nivel_minimo:\n",
    "            if fabricas[i] in fabrica_abaixo_nivel:\n",
    "                pass\n",
    "            else:\n",
    "                fabrica_abaixo_nivel.append(fabricas[i])\n",
    "\n",
    "print(fabrica_abaixo_nivel)"
   ]
  },
  {
   "cell_type": "markdown",
   "id": "035fc946",
   "metadata": {},
   "source": [
    "## Exercícios\n",
    "\n",
    "### 1. Calculando % de uma lista\n",
    "\n",
    "Faremos algo parecido com \"filtrar\" uma lista. Mais pra frente no curso aprenderemos outras formas de fazer isso, mas com o nosso conhecimentoa atual já conseguimos resolver o desafio.\n",
    "\n",
    "Digamos que a gente tenha uma lista de vendedores e ao invés de saber todos os vendedores que bateram a meta, eu quero conseguir calcular o % de vendedores que bateram a meta. Ou seja, se temos 10 vendedores e 3 bateram a meta, temos 30% dos vendedores que bateram a meta."
   ]
  },
  {
   "cell_type": "code",
   "execution_count": 139,
   "id": "5c19424b",
   "metadata": {},
   "outputs": [
    {
     "name": "stdout",
     "output_type": "stream",
     "text": [
      "Percentual equipe vendedores que bateram a meta: 50.00%\n"
     ]
    }
   ],
   "source": [
    "meta = 10000\n",
    "c = [\n",
    "    ['João', 15000],\n",
    "    ['Julia', 27000],\n",
    "    ['Marcus', 9900],\n",
    "    ['Maria', 3750],\n",
    "    ['Ana', 10300],\n",
    "    ['Alon', 7870],\n",
    "]\n",
    "\n",
    "# Forma 01:\n",
    "\n",
    "qtd_meta_vendedores = 0\n",
    "\n",
    "for venda in vendas:\n",
    "    if venda[1] >= meta:\n",
    "        qtd_meta_vendedores += 1\n",
    "\n",
    "print('Percentual equipe vendedores que bateram a meta: {:.2%}'.format(qtd_meta_vendedores / len(vendas)))"
   ]
  },
  {
   "cell_type": "markdown",
   "id": "506e8807",
   "metadata": {},
   "source": [
    "- Vamos resolver de 2 formas:\n",
    "    1. Criando uma lista auxiliar apenas com os vendedores que bateram a meta\n",
    "    2. Fazendo o cálculo diretamente na lista que já temos"
   ]
  },
  {
   "cell_type": "code",
   "execution_count": 132,
   "id": "6857c569",
   "metadata": {},
   "outputs": [
    {
     "name": "stdout",
     "output_type": "stream",
     "text": [
      "[['João', 15000], ['Julia', 27000], ['Ana', 10300]]\n",
      "Percentual equipe vendedores que bateram a meta: 50.00%\n"
     ]
    }
   ],
   "source": [
    "# Forma 02:\n",
    "acima_meta = []\n",
    "\n",
    "for venda in vendas:\n",
    "    if venda[1] >= meta:\n",
    "        acima_meta.append(venda)\n",
    "print(acima_meta)\n",
    "print('Percentual equipe vendedores que bateram a meta: {:.2%}'.format(len(acima_meta) / len(vendas)))"
   ]
  },
  {
   "cell_type": "markdown",
   "id": "11433b8a",
   "metadata": {},
   "source": [
    "### Quem foi o vendedor que mais vendeu?"
   ]
  },
  {
   "cell_type": "code",
   "execution_count": 145,
   "id": "03f70407",
   "metadata": {},
   "outputs": [
    {
     "name": "stdout",
     "output_type": "stream",
     "text": [
      "Melhor Vendedor(a): Julia\n"
     ]
    }
   ],
   "source": [
    "melhor_vendedor = ''\n",
    "maior_vendas = 0\n",
    "\n",
    "for venda in vendas:\n",
    "    if venda[1] >= maior_vendas:\n",
    "        maior_vendas = venda[1]\n",
    "        melhor_vendedor = venda[0]\n",
    "\n",
    "print('Melhor Vendedor(a): {}'.format(melhor_vendedor))"
   ]
  },
  {
   "cell_type": "markdown",
   "id": "4e240b13",
   "metadata": {},
   "source": [
    "### Formas de interromper um for\n",
    "\n",
    "#### 2 Opções:\n",
    "\n",
    "- break -> interrompe e finaliza o for\n",
    "- continue -> interrompe e vai para o próximo item do for"
   ]
  },
  {
   "cell_type": "code",
   "execution_count": 147,
   "id": "22ffd180",
   "metadata": {},
   "outputs": [],
   "source": [
    "vendas = [100, 150, 1500, 2000, 120]"
   ]
  },
  {
   "cell_type": "markdown",
   "id": "d0fe955f",
   "metadata": {},
   "source": [
    "- Caso 1: Se todas as vendas forem acima da meta, a loja ganha bônus"
   ]
  },
  {
   "cell_type": "code",
   "execution_count": 149,
   "id": "c52e277e",
   "metadata": {},
   "outputs": [
    {
     "name": "stdout",
     "output_type": "stream",
     "text": [
      "A loja não ganha bonus!\n"
     ]
    }
   ],
   "source": [
    "meta = 110\n",
    "\n",
    "for venda in vendas:\n",
    "    if venda < meta:\n",
    "        print('A loja não ganha bonus!')\n",
    "        break"
   ]
  },
  {
   "cell_type": "markdown",
   "id": "a3ee1b68",
   "metadata": {},
   "source": [
    "- Caso 2: Exiba quem bateu a meta"
   ]
  },
  {
   "cell_type": "code",
   "execution_count": 159,
   "id": "ca6918d4",
   "metadata": {},
   "outputs": [
    {
     "name": "stdout",
     "output_type": "stream",
     "text": [
      "150\n",
      "1500\n",
      "2000\n"
     ]
    }
   ],
   "source": [
    "vendedores = ['João', 'Julia', 'Ana', 'José', 'Maria']\n",
    "meta = 130\n",
    "\n",
    "for venda in vendas:\n",
    "    if venda < meta:\n",
    "        continue\n",
    "    print(venda)"
   ]
  },
  {
   "cell_type": "markdown",
   "id": "77d5bcef",
   "metadata": {},
   "source": [
    "# Aulas Python Impressionador - Bloco 11"
   ]
  },
  {
   "cell_type": "markdown",
   "id": "883241a6",
   "metadata": {},
   "source": [
    "## Estrutura while:\n",
    "\n",
    "### Funcionamento:\n",
    "\n",
    "Usamos o while quando queremos repetir um código de forma indeterminada até uma condição se tornar verdadeira/falsa.\n",
    "\n",
    "A lógica é: enquanto a condição for verdadeira, o while executa o código. Assim que ela terminar de ser verdadeira, o código \"sai\" do while."
   ]
  },
  {
   "cell_type": "raw",
   "id": "c76bf0e3",
   "metadata": {},
   "source": [
    "while condicao:\n",
    "    repete esse código"
   ]
  },
  {
   "cell_type": "markdown",
   "id": "357d8325",
   "metadata": {},
   "source": [
    "- Exemplo: Quando criamos automações na internet\n",
    "- Exemplo2: Crie um programa que funcione como o registro de vendas de uma empresa.\n",
    "\n",
    "Nele, a pessoa deve inserir o nome do produto e o produto deve ser adicionado na lista de venda. Enquanto o usuário não encerrar o programa, significa que ele está registrando novos produtos, então o programa deve permitir e entrada de quantos produtos o usuário quiser.\n"
   ]
  },
  {
   "cell_type": "code",
   "execution_count": 1,
   "id": "d644ad9e",
   "metadata": {},
   "outputs": [
    {
     "name": "stdout",
     "output_type": "stream",
     "text": [
      "Registre um produto. Para cancelar o registro de um novo produto, basta apertar enter com a caixa vazia1\n",
      "Registre um produto. Para cancelar o registro de um novo produto, basta apertar enter com a caixa vazia2\n",
      "Registre um produto. Para cancelar o registro de um novo produto, basta apertar enter com a caixa vazia3\n",
      "Registre um produto. Para cancelar o registro de um novo produto, basta apertar enter com a caixa vazia4\n",
      "Registre um produto. Para cancelar o registro de um novo produto, basta apertar enter com a caixa vazia5\n",
      "Registre um produto. Para cancelar o registro de um novo produto, basta apertar enter com a caixa vazia6\n",
      "Registre um produto. Para cancelar o registro de um novo produto, basta apertar enter com a caixa vazia7\n",
      "Registre um produto. Para cancelar o registro de um novo produto, basta apertar enter com a caixa vazia\n",
      "Registro Finalizado. As vendas cadastradas foram: ['1', '2', '3', '4', '5', '6', '7']\n"
     ]
    }
   ],
   "source": [
    "venda = input('Registre um produto. Para cancelar o registro de um novo produto, basta apertar enter com a caixa vazia')\n",
    "vendas = []\n",
    "\n",
    "#crie aqui o programa\n",
    "while venda != '':\n",
    "    vendas.append(venda)\n",
    "    venda = input('Registre um produto. Para cancelar o registro de um novo produto, basta apertar enter com a caixa vazia')\n",
    "\n",
    "print('Registro Finalizado. As vendas cadastradas foram: {}'.format(vendas))"
   ]
  },
  {
   "cell_type": "markdown",
   "id": "4e719b14",
   "metadata": {},
   "source": [
    "## Cuidado com o while -> Loop Infinito\n",
    "\n",
    "Sempre que for usar o comando while, lembre-se de ter certeza que o programa vai terminar em algum momento\n",
    "\n",
    "### Exemplo\n",
    "\n",
    "Digamos que temos uma lista de vendedores e as quantidades vendidas e queremos identificar todos os vendedores que bateram a meta de 50 vendas."
   ]
  },
  {
   "cell_type": "code",
   "execution_count": 3,
   "id": "6067e2c9",
   "metadata": {},
   "outputs": [
    {
     "name": "stdout",
     "output_type": "stream",
     "text": [
      "Maria bateu a meta: 941\n",
      "José bateu a meta: 852\n",
      "Antônio bateu a meta: 783\n",
      "João bateu a meta: 714\n",
      "Francisco bateu a meta: 697\n",
      "Ana bateu a meta: 686\n",
      "Luiz bateu a meta: 685\n",
      "Paulo bateu a meta: 670\n",
      "Carlos bateu a meta: 631\n",
      "Manoel bateu a meta: 453\n",
      "Pedro bateu a meta: 386\n",
      "Francisca bateu a meta: 371\n",
      "Marcos bateu a meta: 294\n",
      "Raimundo bateu a meta: 269\n",
      "Sebastião bateu a meta: 259\n",
      "Antônia bateu a meta: 218\n",
      "Marcelo bateu a meta: 208\n",
      "Jorge bateu a meta: 163\n",
      "Márcia bateu a meta: 125\n",
      "Geraldo bateu a meta: 102\n",
      "Adriana bateu a meta: 87\n"
     ]
    }
   ],
   "source": [
    "vendas = [941, 852, 783, 714, 697, 686, 685, 670, 631, 453, 386, 371, 294, 269, 259, 218, 208, 163, 125, 102, 87, 47, 7]\n",
    "vendedores = ['Maria', 'José', 'Antônio', 'João', 'Francisco', 'Ana', 'Luiz', 'Paulo', 'Carlos', 'Manoel', 'Pedro', 'Francisca', 'Marcos', 'Raimundo', 'Sebastião', 'Antônia', 'Marcelo', 'Jorge', 'Márcia', 'Geraldo', 'Adriana', 'Sandra', 'Luis']\n",
    "meta = 50\n",
    "\n",
    "i = 0\n",
    "\n",
    "while vendas[i] > meta:\n",
    "    print('{} bateu a meta: {}'.format(vendedores[i],vendas[i]))\n",
    "    i = i + 1\n",
    "    \n",
    "    "
   ]
  },
  {
   "cell_type": "markdown",
   "id": "721e15f6",
   "metadata": {},
   "source": [
    "## Exercícios\n",
    "\n",
    "### 1. Input até o usuário parar\n",
    "\n",
    "Vamos criar um sistema de vendas. Nosso programa deve registrar os produtos e as quantidades (2 inputs) e adicionar em uma lista.\n",
    "\n",
    "O programa deve continuar rodando até o input ser vazio, ou seja, o usuário apertar enter sem digitar nenhum produto ou quantidade.\n",
    "\n",
    "Ao final do programa, ele deve printar todos os produtos e quantidades vendidas.\n",
    "\n",
    "Obs: Caso queira, para o print ficar mais visual, pode usar o join para cada item ser printado em uma linha.\n",
    "Sugestão para sua lista de produtos vendidos:"
   ]
  },
  {
   "cell_type": "raw",
   "id": "ec304f03",
   "metadata": {},
   "source": [
    "vendas = [\n",
    "    ['maçã', 5],\n",
    "    ['banana', 15],\n",
    "    ['azeite', 1],\n",
    "    ['vinho', 3],\n",
    "]"
   ]
  },
  {
   "cell_type": "code",
   "execution_count": 14,
   "id": "8911bb6f",
   "metadata": {},
   "outputs": [
    {
     "name": "stdout",
     "output_type": "stream",
     "text": [
      "Registre o produto: a\n",
      "Registre a quantidade: 1\n",
      "Registre o produto: w\n",
      "Registre a quantidade: 2\n",
      "Registre o produto: e\n",
      "Registre a quantidade: 3\n",
      "Registre o produto: r\n",
      "Registre a quantidade: 4\n",
      "Registre o produto: \n",
      "Registre a quantidade: \n",
      "[['a', 1], ['w', '2'], ['e', '3'], ['r', '4']]\n"
     ]
    }
   ],
   "source": [
    "# Forma 01:\n",
    "produto = input('Registre o produto: ')\n",
    "quantidade = int(input('Registre a quantidade: '))\n",
    "\n",
    "vendas = []\n",
    "\n",
    "while produto != '' or quantidade != '':\n",
    "    vendas.append([produto, quantidade]) # Para adicionar vários itens em uma lista usa colchete []\n",
    "    produto = input('Registre o produto: ')\n",
    "    quantidade = input('Registre a quantidade: ')\n",
    "\n",
    "print(vendas)"
   ]
  },
  {
   "cell_type": "code",
   "execution_count": null,
   "id": "6eaa1920",
   "metadata": {},
   "outputs": [],
   "source": [
    "# Forma 02:\n",
    "\n",
    "vendas = []\n",
    "\n",
    "while True:\n",
    "    produto = input('Registre o produto: ')\n",
    "    if not produto:\n",
    "        break\n",
    "    vendas.append([produto, quantidade]) # Para adicionar vários itens em uma lista usa colchete []\n",
    "    quantidade = input('Registre a quantidade: ')\n",
    "\n",
    "print(vendas)"
   ]
  },
  {
   "cell_type": "markdown",
   "id": "e0cd2af8",
   "metadata": {},
   "source": [
    "# Aulas Python Impressionador - Bloco 12"
   ]
  },
  {
   "cell_type": "markdown",
   "id": "bfb32037",
   "metadata": {},
   "source": [
    "## Tuplas\n",
    "\n",
    "### Estrutura:\n",
    "\n",
    "tupla = (valor, valor, valor, ...)\n",
    "\n",
    "### Diferença\n",
    "\n",
    "Parece uma lista, mas é imutável.\n",
    "\n",
    "### Vantagens:\n",
    "\n",
    "- Mais eficiente (em termos de performance)\n",
    "- Protege a base de dados (por ser imutável)\n",
    "- Muito usado para dados heterogêneos\n",
    "\n",
    "### Criando tuplas"
   ]
  },
  {
   "cell_type": "code",
   "execution_count": 25,
   "id": "c9cde58a",
   "metadata": {},
   "outputs": [],
   "source": [
    "vendas = ('Lira', '25/08/2020', '15/02/1994', 2000, 'Estagiário')"
   ]
  },
  {
   "cell_type": "markdown",
   "id": "5560d5e3",
   "metadata": {},
   "source": [
    "### Acessando o valor de uma tupla"
   ]
  },
  {
   "cell_type": "code",
   "execution_count": 27,
   "id": "fdc9a890",
   "metadata": {},
   "outputs": [
    {
     "name": "stdout",
     "output_type": "stream",
     "text": [
      "Estagiário\n"
     ]
    }
   ],
   "source": [
    "nome = vendas[0]\n",
    "data_contratacao = vendas[1]\n",
    "data_nascimento = vendas[2]\n",
    "salario = vendas[3]\n",
    "cargo = vendas[4]\n",
    "\n",
    "# Outra forma de acessar a TUPLA\n",
    "nome, data_contratacao, data_nascimento, salario, cargo = vendas\n",
    "print(cargo)"
   ]
  },
  {
   "cell_type": "markdown",
   "id": "e65ac815",
   "metadata": {},
   "source": [
    "- O enumerate que vínhamos usando até agora, na verdade, cria uma tupla para a gente. Vamos ver na prática:"
   ]
  },
  {
   "cell_type": "code",
   "execution_count": 22,
   "id": "a13c21ea",
   "metadata": {},
   "outputs": [
    {
     "name": "stdout",
     "output_type": "stream",
     "text": [
      "João vendeu 1000 unidades\n",
      "Lira vendeu 2000 unidades\n",
      "Ana vendeu 300 unidades\n",
      "Maria vendeu 300 unidades\n",
      "Paula vendeu 150 unidades\n"
     ]
    }
   ],
   "source": [
    "vendas = [1000, 2000, 300, 300, 150]\n",
    "funcionarios = ['João', 'Lira', 'Ana', 'Maria', 'Paula']\n",
    "\n",
    "for i, venda in enumerate(vendas):\n",
    "        print('{} vendeu {} unidades'.format(funcionarios[i], venda))"
   ]
  },
  {
   "cell_type": "markdown",
   "id": "9596d4d1",
   "metadata": {},
   "source": [
    "## Aplicação de Tupla - Lista de Tuplas\n",
    "\n",
    "### Estrutura:\n",
    "\n",
    "Além de casos como o do enumerate, em que usamos uma função para transformar itens em tuplas porque isso ajuda o nosso código, temos também listas de tuplas como algo comum dentro do Python."
   ]
  },
  {
   "cell_type": "raw",
   "id": "10a8ce42",
   "metadata": {},
   "source": [
    "lista = [\n",
    "    tupla1,\n",
    "    tupla2,\n",
    "    tupla3,\n",
    "    ]\n",
    "    \n",
    "ou seja\n",
    "\n",
    "lista = [\n",
    "    (valor1, valor2, valor3),\n",
    "    (valor4, valor5, valor6),\n",
    "    (valor7, valor8, valor9),\n",
    "    ]"
   ]
  },
  {
   "cell_type": "markdown",
   "id": "b402bd52",
   "metadata": {},
   "source": [
    "### Exemplo:\n",
    "\n",
    "Digamos que você está analisando as vendas do Banco de Dados de um e-commerce.\n",
    "\n",
    "Em um determinado dia, você extraiu as vendas do Banco de Dados e elas vieram nesse formato:"
   ]
  },
  {
   "cell_type": "code",
   "execution_count": 42,
   "id": "3cdcaa85",
   "metadata": {},
   "outputs": [],
   "source": [
    "vendas = [\n",
    "    ('20/08/2020', 'iphone x', 'azul', '128gb', 350, 4000),\n",
    "    ('20/08/2020', 'iphone x', 'prata', '128gb', 1500, 4000),\n",
    "    ('20/08/2020', 'ipad', 'prata', '256gb', 127, 6000),\n",
    "    ('20/08/2020', 'ipad', 'prata', '128gb', 981, 5000),\n",
    "    ('21/08/2020', 'iphone x', 'azul', '128gb', 397, 4000),\n",
    "    ('21/08/2020', 'iphone x', 'prata', '128gb', 1017, 4000),\n",
    "    ('21/08/2020', 'ipad', 'prata', '256gb', 50, 6000),\n",
    "    ('21/08/2020', 'ipad', 'prata', '128gb', 4000, 5000),\n",
    "]"
   ]
  },
  {
   "cell_type": "markdown",
   "id": "45a37880",
   "metadata": {},
   "source": [
    "- Qual foi o faturamento de IPhone no dia 20/08/2020?"
   ]
  },
  {
   "cell_type": "code",
   "execution_count": 36,
   "id": "c269c629",
   "metadata": {},
   "outputs": [
    {
     "name": "stdout",
     "output_type": "stream",
     "text": [
      "R$ 7,400,000.00\n"
     ]
    }
   ],
   "source": [
    "faturamento = 0\n",
    "\n",
    "for item in vendas:\n",
    "    data, produto, cor, capacidade, unidades, valor_unitario = item\n",
    "    \n",
    "    if produto == 'iphone x' and data == '20/08/2020':\n",
    "        faturamento += unidades * valor_unitario\n",
    "\n",
    "print('R$ {:,.2f}'.format(faturamento))"
   ]
  },
  {
   "cell_type": "markdown",
   "id": "ca46d8b3",
   "metadata": {},
   "source": [
    "- Qual foi o produto mais vendido (em unidades) no dia 21/08/2020?"
   ]
  },
  {
   "cell_type": "code",
   "execution_count": 43,
   "id": "c8f73bbf",
   "metadata": {},
   "outputs": [
    {
     "name": "stdout",
     "output_type": "stream",
     "text": [
      "Produto mais vendido: Poney com 4000 unidades.\n"
     ]
    }
   ],
   "source": [
    "qtd_mais_vendido = 0\n",
    "produto_mais_vendido = ''\n",
    "\n",
    "for item in vendas:\n",
    "    data, produto, cor, capacidade, unidades, valor_unitario = item\n",
    "    \n",
    "    if data == '21/08/2020':\n",
    "        if unidades >= qtd_mais_vendido:\n",
    "            qtd_mais_vendido = unidades\n",
    "            produto_mais_vendido = produto\n",
    "\n",
    "print('Produto mais vendido: {} com {} unidades.'.format(produto_mais_vendido,qtd_mais_vendido))"
   ]
  },
  {
   "cell_type": "markdown",
   "id": "62e60123",
   "metadata": {},
   "source": [
    "## Exercícios\n",
    "\n",
    "São exercícios bem parecidos com os que fizemos com listas. Mas na tupla, podemos não só trabalhar com índices, mas fazer o \"unpacking\" das tuplas, o que pode facilitar nossos códigos.\n",
    "\n",
    "### 1. Análise de Vendas\n",
    "\n",
    "Nesse exercício vamos fazer uma \"análise simples\" de atingimento de Meta.\n",
    "\n",
    "Temos uma lista com os vendedores e os valores de vendas e queremos identificar (printar) quais os vendedores que bateram a meta e qual foi o valor que eles venderam."
   ]
  },
  {
   "cell_type": "code",
   "execution_count": 53,
   "id": "2ce3feb7",
   "metadata": {},
   "outputs": [
    {
     "name": "stdout",
     "output_type": "stream",
     "text": [
      "Vendedores que bateram a meta: ['João', 'Julia', 'Ana']\n",
      "Vendedor bateu a meta: João. Vendeu 15000 unidades\n",
      "Vendedor bateu a meta: Julia. Vendeu 27000 unidades\n",
      "Vendedor bateu a meta: Ana. Vendeu 10300 unidades\n"
     ]
    }
   ],
   "source": [
    "meta = 10000\n",
    "vendas = [\n",
    "    ('João', 15000),\n",
    "    ('Julia', 27000),\n",
    "    ('Marcus', 9900),\n",
    "    ('Maria', 3750),\n",
    "    ('Ana', 10300),\n",
    "    ('Alon', 7870),\n",
    "]\n",
    "\n",
    "\n",
    "lista_bateu_meta = []\n",
    "\n",
    "for item in vendas:\n",
    "    vendedores, valores = item\n",
    "    if valores >= meta:\n",
    "        lista_bateu_meta.append(vendedores)\n",
    "print('Vendedores que bateram a meta: {}'.format(lista_bateu_meta))\n",
    "\n",
    "# Outra Forma:\n",
    "\n",
    "for vendedor, qtd in vendas:\n",
    "    if qtd >= meta:\n",
    "        print('Vendedor bateu a meta: {}. Vendeu {} unidades'.format(vendedor,qtd))"
   ]
  },
  {
   "cell_type": "markdown",
   "id": "b0b10cdb",
   "metadata": {},
   "source": [
    "## 2. Comparação com Ano Anterior\n",
    "\n",
    "Digamos que você está analisando as vendas de produtos de um ecommerce e quer identificar quais produtos tiveram no ano de 2020 mais vendas do que no ano de 2019, para reportar isso para a diretoria.\n",
    "\n",
    "Sua resposta pode ser um print de cada produto, qual foi a venda de 2019, a venda de 2020 e o % de crescimento de 2020 para 2019.\n",
    "\n",
    "Lembrando, para calcular o % de crescimento de um produto de um ano para o outro, podemos fazer: (vendas_produto2020/vendas_produto2019 - 1)\n",
    "\n",
    "A lógica da tupla é: (produto, vendas2019, vendas2020)"
   ]
  },
  {
   "cell_type": "code",
   "execution_count": 55,
   "id": "5c5cc055",
   "metadata": {},
   "outputs": [
    {
     "name": "stdout",
     "output_type": "stream",
     "text": [
      " iphone | Vendas 2019: R$ 558,147.00 | Vendas 2020: R$ 951,642.00 | Crescimento: 70.50%\n",
      " tv | Vendas 2019: R$ 405,252.00 | Vendas 2020: R$ 787,604.00 | Crescimento: 94.35%\n",
      " máquina de café | Vendas 2019: R$ 718,654.00 | Vendas 2020: R$ 867,660.00 | Crescimento: 20.73%\n",
      " notebook dell | Vendas 2019: R$ 422,760.00 | Vendas 2020: R$ 694,913.00 | Crescimento: 64.38%\n",
      " notebook hp | Vendas 2019: R$ 154,753.00 | Vendas 2020: R$ 539,704.00 | Crescimento: 248.75%\n",
      " microsoft surface | Vendas 2019: R$ 438,508.00 | Vendas 2020: R$ 667,179.00 | Crescimento: 52.15%\n",
      " webcam | Vendas 2019: R$ 237,467.00 | Vendas 2020: R$ 295,633.00 | Crescimento: 24.49%\n",
      " caixa de som | Vendas 2019: R$ 489,705.00 | Vendas 2020: R$ 725,316.00 | Crescimento: 48.11%\n",
      " microfone | Vendas 2019: R$ 328,311.00 | Vendas 2020: R$ 644,622.00 | Crescimento: 96.34%\n",
      " câmera canon | Vendas 2019: R$ 591,120.00 | Vendas 2020: R$ 994,303.00 | Crescimento: 68.21%\n"
     ]
    }
   ],
   "source": [
    "vendas_produtos = [('iphone', 558147, 951642), ('galaxy', 712350, 244295), ('ipad', 573823, 26964), ('tv', 405252, 787604), ('máquina de café', 718654, 867660), ('kindle', 531580, 78830), ('geladeira', 973139, 710331), ('adega', 892292, 646016), ('notebook dell', 422760, 694913), ('notebook hp', 154753, 539704), ('notebook asus', 887061, 324831), ('microsoft surface', 438508, 667179), ('webcam', 237467, 295633), ('caixa de som', 489705, 725316), ('microfone', 328311, 644622), ('câmera canon', 591120, 994303)]\n",
    "\n",
    "for produto, vendas2019, vendas2020 in vendas_produtos:\n",
    "    if vendas2020 > vendas2019:\n",
    "        crescimento = (vendas2020 / vendas2019) - 1\n",
    "        print(' {} | Vendas 2019: R$ {:,.2f} | Vendas 2020: R$ {:,.2f} | Crescimento: {:.2%}'\n",
    "              .format(produto,vendas2019, vendas2020, crescimento))"
   ]
  },
  {
   "cell_type": "markdown",
   "id": "7c1b816c",
   "metadata": {},
   "source": [
    "# Aulas Python Impressionador - Bloco 13"
   ]
  },
  {
   "cell_type": "markdown",
   "id": "0f43f5bf",
   "metadata": {},
   "source": [
    "## Dicionários em Python\n",
    "\n",
    "### Estrutura:\n",
    "\n",
    "dicionario = {chave: valor, chave: valor, chave: valor, chave: valor ...}\n",
    "\n",
    "### Vantagens e Desvantagens\n",
    "\n",
    "- Não devem ser usados para pegar itens em uma determinada ordem\n",
    "- Podem ter valores heterogêneos (vários tipos de valores dentro de um mesmo dicionário: inteiros, strings, listas, etc)\n",
    "- Chaves são únicas obrigatoriamente\n",
    "- Mais intuitivos de trabalhar"
   ]
  },
  {
   "cell_type": "code",
   "execution_count": 57,
   "id": "4fabe137",
   "metadata": {},
   "outputs": [],
   "source": [
    "mais_vendidos = {'tecnologia': 'iphone', 'refrigeracao': 'ar consul 12000 btu', 'livros': 'o alquimista', 'eletrodoméstico': 'geladeira', 'lazer': 'prancha surf'}\n",
    "\n",
    "vendas_tecnologia = {'iphone': 15000, 'samsung galaxy': 12000, 'tv samsung': 10000, 'ps5': 14300, 'tablet': 1720, 'ipad': 1000, 'tv philco': 2500, 'notebook hp': 1000, 'notebook dell': 17000, 'notebook asus': 2450}\n",
    "\n",
    "# Exemplo:\n",
    "qtd_iphone = vendas_tecnologia['ps5']\n",
    "print(qtd_iphone)"
   ]
  },
  {
   "cell_type": "markdown",
   "id": "a9effd92",
   "metadata": {},
   "source": [
    "- Qual foi o item mais vendido nas categorias 'livros' e 'lazer'?\n",
    "- Quanto foi vendido de 'notebook asus' e de 'ipad'?"
   ]
  },
  {
   "cell_type": "code",
   "execution_count": 64,
   "id": "4421073b",
   "metadata": {},
   "outputs": [
    {
     "name": "stdout",
     "output_type": "stream",
     "text": [
      "Item mais vendido: o alquimista\n",
      "Item mais vendido: prancha surf\n",
      "Notebook Asus: 2450 vendas.\n",
      "Ipad: 1000 vendas.\n"
     ]
    }
   ],
   "source": [
    "livros = mais_vendidos['livros']\n",
    "lazer = mais_vendidos['lazer']\n",
    "print('Item mais vendido: {}'.format(livros))\n",
    "print('Item mais vendido: {}'.format(lazer))\n",
    "\n",
    "qtd_notebook = vendas_tecnologia['notebook asus']\n",
    "qtd_ipad = vendas_tecnologia['ipad']\n",
    "print('Notebook Asus: {} vendas.'.format(qtd_notebook))\n",
    "print('Ipad: {} vendas.'.format(qtd_ipad))"
   ]
  },
  {
   "cell_type": "markdown",
   "id": "644eb198",
   "metadata": {},
   "source": [
    "## Não confie na ordem dos dicionários, use as chaves\n",
    "\n",
    "### Python Versões Antigas x Versões Novas\n",
    "\n",
    "- Dicionários eram \"sem ordem\". Atualmente tem ordem, mas o certo é usar as chaves\n",
    "- 2 formas de pegar um valor:\n",
    "    - dicionario[chave]\n",
    "    - .get(chave)"
   ]
  },
  {
   "cell_type": "code",
   "execution_count": 67,
   "id": "5c03b209",
   "metadata": {},
   "outputs": [],
   "source": [
    "mais_vendidos = {'tecnologia': 'iphone', 'refrigeracao': 'ar consul 12000 btu', 'livros': 'o alquimista', 'eletrodoméstico': 'geladeira', 'lazer': 'prancha surf'}\n",
    "\n",
    "vendas_tecnologia = {'iphone': 15000, 'samsung galaxy': 12000, 'tv samsung': 10000, 'ps5': 14300, 'tablet': 1720, 'ipad': 1000, 'tv philco': 2500, 'notebook hp': 1000, 'notebook dell': 17000, 'notebook asus': 2450}"
   ]
  },
  {
   "cell_type": "markdown",
   "id": "b19f5939",
   "metadata": {},
   "source": [
    "- Qual foi o item mais vendido nas categorias 'livros' e 'lazer'?\n",
    "- Quanto foi vendido de 'notebook asus' e de 'ipad'?"
   ]
  },
  {
   "cell_type": "code",
   "execution_count": 77,
   "id": "574fc6d6",
   "metadata": {},
   "outputs": [
    {
     "name": "stdout",
     "output_type": "stream",
     "text": [
      "o alquimista\n",
      "prancha surf\n",
      "o alquimista\n",
      "prancha surf\n",
      "2450\n",
      "1000\n",
      "None\n"
     ]
    },
    {
     "ename": "KeyError",
     "evalue": "'livrosss'",
     "output_type": "error",
     "traceback": [
      "\u001b[1;31m---------------------------------------------------------------------------\u001b[0m",
      "\u001b[1;31mKeyError\u001b[0m                                  Traceback (most recent call last)",
      "\u001b[1;32m~\\AppData\\Local\\Temp/ipykernel_48944/157143727.py\u001b[0m in \u001b[0;36m<module>\u001b[1;34m\u001b[0m\n\u001b[0;32m     11\u001b[0m \u001b[1;31m# Diferença entre as buscas: Procurando com termo escrito errado ou inexistente:\u001b[0m\u001b[1;33m\u001b[0m\u001b[1;33m\u001b[0m\u001b[0m\n\u001b[0;32m     12\u001b[0m \u001b[0mprint\u001b[0m\u001b[1;33m(\u001b[0m\u001b[0mvendas_tecnologia\u001b[0m\u001b[1;33m.\u001b[0m\u001b[0mget\u001b[0m\u001b[1;33m(\u001b[0m\u001b[1;34m'ipadsss'\u001b[0m\u001b[1;33m)\u001b[0m\u001b[1;33m)\u001b[0m\u001b[1;33m\u001b[0m\u001b[1;33m\u001b[0m\u001b[0m\n\u001b[1;32m---> 13\u001b[1;33m \u001b[0mprint\u001b[0m\u001b[1;33m(\u001b[0m\u001b[0mmais_vendidos\u001b[0m\u001b[1;33m[\u001b[0m\u001b[1;34m'livrosss'\u001b[0m\u001b[1;33m]\u001b[0m\u001b[1;33m)\u001b[0m\u001b[1;33m\u001b[0m\u001b[1;33m\u001b[0m\u001b[0m\n\u001b[0m",
      "\u001b[1;31mKeyError\u001b[0m: 'livrosss'"
     ]
    }
   ],
   "source": [
    "# respondendo com a chave, igual a aula anterior\n",
    "print(mais_vendidos['livros'])\n",
    "print(mais_vendidos['lazer'])\n",
    "\n",
    "# respondendo com o método get\n",
    "print(mais_vendidos.get('livros'))\n",
    "print(mais_vendidos.get('lazer'))\n",
    "print(vendas_tecnologia.get('notebook asus'))\n",
    "print(vendas_tecnologia.get('ipad'))\n",
    "\n",
    "# Diferença entre as buscas: Procurando com termo escrito errado ou inexistente:\n",
    "print(vendas_tecnologia.get('ipadsss'))\n",
    "print(mais_vendidos['livrosss'])"
   ]
  },
  {
   "cell_type": "markdown",
   "id": "039ddfd9",
   "metadata": {},
   "source": [
    "### Verificar se item está no dicionário:\n",
    "\n",
    "- if\n",
    "- .get(chave) = None\n",
    "\n",
    "Se tentarmos procurar as vendas de \"copo\" na lista de vendas tecnologia, o que acontece?"
   ]
  },
  {
   "cell_type": "code",
   "execution_count": 78,
   "id": "926d056d",
   "metadata": {},
   "outputs": [
    {
     "name": "stdout",
     "output_type": "stream",
     "text": [
      "Copo não está dentro do dicionário.\n"
     ]
    }
   ],
   "source": [
    "if 'copo' in vendas_tecnologia:\n",
    "    print(vendas_tecnologia['copo'])\n",
    "else:\n",
    "    print('Copo não está dentro da lista de produtos de tecnologia.')"
   ]
  },
  {
   "cell_type": "code",
   "execution_count": 80,
   "id": "2cfa291b",
   "metadata": {},
   "outputs": [
    {
     "name": "stdout",
     "output_type": "stream",
     "text": [
      "Copo não está dentro da lista de produtos de tecnologia.\n"
     ]
    }
   ],
   "source": [
    "if vendas_tecnologia.get('copo') == None:\n",
    "    print('Copo não está dentro da lista de produtos de tecnologia.')\n",
    "else:\n",
    "    print(vendas_tecnologia.get('copo'))"
   ]
  },
  {
   "cell_type": "markdown",
   "id": "402b737a",
   "metadata": {},
   "source": [
    "## Adicionar, Remover e Modificar Itens no Dicionário\n",
    "\n",
    "### Estrutura:\n",
    "\n",
    "- Adicionar itens:"
   ]
  },
  {
   "cell_type": "raw",
   "id": "a064758b",
   "metadata": {},
   "source": [
    "dicionario = {}\n",
    "\n",
    "dicionario[chave] = valor\n",
    "\n",
    "outra opção:\n",
    "\n",
    "dicionario.update({chave: valor, chave: valor})"
   ]
  },
  {
   "cell_type": "code",
   "execution_count": 85,
   "id": "7ff815b1",
   "metadata": {},
   "outputs": [
    {
     "name": "stdout",
     "output_type": "stream",
     "text": [
      "{'janeiro': 100000, 'fevereiro': 120000, 'março': 90000}\n",
      "{'janeiro': 100000, 'fevereiro': 120000, 'março': 90000, 'abril': 88000}\n",
      "{'janeiro': 100000, 'fevereiro': 120000, 'março': 90000, 'abril': 88000, 'maio': 89000, 'junho': 120000}\n",
      "{'janeiro': 88000, 'fevereiro': 120000, 'março': 90000, 'abril': 88000, 'maio': 89000, 'junho': 120000}\n"
     ]
    }
   ],
   "source": [
    "lucro_1tri = {'janeiro': 100000, 'fevereiro': 120000, 'março': 90000}\n",
    "lucro_2tri = {'abril': 88000, 'maio': 89000, 'junho': 120000}\n",
    "#adicionando 1 item\n",
    "print(lucro_1tri)\n",
    "\n",
    "lucro_1tri['abril'] = 88000\n",
    "print(lucro_1tri)\n",
    "\n",
    "#adicionando vários itens ou um dicionário a outro\n",
    "lucro_1tri.update({'abril': 88000, 'maio': 89000, 'junho': 120000})\n",
    "print(lucro_1tri)\n",
    "\n",
    "#adicionando um item já existente (manualmente ou pelo update)\n",
    "lucro_1tri['janeiro'] = 88000\n",
    "print(lucro_1tri)"
   ]
  },
  {
   "cell_type": "markdown",
   "id": "63fb026f",
   "metadata": {},
   "source": [
    "- Modificar itens:\n",
    "\n",
    "Da mesma forma que adicionamos 1 valor, caso essa chave já exista o item é apenas modificado.\n",
    "\n",
    "dicionario[chave] = valor\n",
    "\n",
    "Vamos modificar o lucro de fevereiro:<br>\n",
    "(Lembrando: caso o item não exista, ele vai criar o item no dicionário)"
   ]
  },
  {
   "cell_type": "code",
   "execution_count": 86,
   "id": "858b4862",
   "metadata": {},
   "outputs": [
    {
     "name": "stdout",
     "output_type": "stream",
     "text": [
      "{'janeiro': 88000, 'fevereiro': 85000, 'março': 90000, 'abril': 88000, 'maio': 89000, 'junho': 120000}\n"
     ]
    }
   ],
   "source": [
    "lucro_fev = 85000\n",
    "\n",
    "lucro_1tri['fevereiro'] = 85000\n",
    "print(lucro_1tri)"
   ]
  },
  {
   "cell_type": "markdown",
   "id": "027ee49e",
   "metadata": {},
   "source": [
    "- Remover itens:\n",
    "\n",
    "del dicionario[chave]\n",
    "\n",
    "ou então\n",
    "\n",
    "valor = dicionario.pop(chave)\n",
    "\n",
    "mas cuidado com:\n",
    "\n",
    "del dicionario<br>    ->    que é diferente de dicionario.clear()"
   ]
  },
  {
   "cell_type": "code",
   "execution_count": 99,
   "id": "455a86e4",
   "metadata": {},
   "outputs": [
    {
     "name": "stdout",
     "output_type": "stream",
     "text": [
      "{}\n"
     ]
    }
   ],
   "source": [
    "#removendo o mês de junho\n",
    "del lucro_1tri['maio']\n",
    "print(lucro_1tri)\n",
    "\n",
    "# Pode armazenar a variavel excluída usa POP:\n",
    "lucro_abril = lucro_1tri.pop('abril')\n",
    "print(lucro_abril)\n",
    "print(lucro_1tri)\n",
    "\n",
    "# Limpar o dicionário\n",
    "lucro_1tri.clear()\n",
    "print(lucro_1tri)\n",
    "\n",
    "#obs: o del também funciona para listas, caso queira usar\n",
    "#del lista[i]\n",
    "funcionarios = ['João', 'Lira', 'Maria', 'Ana', 'Paula']"
   ]
  },
  {
   "cell_type": "markdown",
   "id": "6e202a93",
   "metadata": {},
   "source": [
    "## For nos Dicionarios\n",
    "\n",
    "### Estrutura:"
   ]
  },
  {
   "cell_type": "raw",
   "id": "1c92cd4d",
   "metadata": {},
   "source": [
    "for chave in dicionario:\n",
    "    faça alguma coisa"
   ]
  },
  {
   "cell_type": "code",
   "execution_count": 101,
   "id": "977a3633",
   "metadata": {},
   "outputs": [
    {
     "name": "stdout",
     "output_type": "stream",
     "text": [
      "iphone: 15000 unidades. \n",
      "samsung galaxy: 12000 unidades. \n",
      "tv samsung: 10000 unidades. \n",
      "ps5: 14300 unidades. \n",
      "tablet: 1720 unidades. \n",
      "ipad: 1000 unidades. \n",
      "tv philco: 2500 unidades. \n",
      "notebook hp: 1000 unidades. \n",
      "notebook dell: 17000 unidades. \n",
      "notebook asus: 2450 unidades. \n"
     ]
    }
   ],
   "source": [
    "vendas_tecnologia = {'iphone': 15000, 'samsung galaxy': 12000, 'tv samsung': 10000, 'ps5': 14300, 'tablet': 1720, 'ipad': 1000, 'tv philco': 2500, 'notebook hp': 1000, 'notebook dell': 17000, 'notebook asus': 2450}\n",
    "\n",
    "#demonstrando o for\n",
    "for chave in vendas_tecnologia:\n",
    "    print('{}: {} unidades. '.format(chave, vendas_tecnologia[chave]))"
   ]
  },
  {
   "cell_type": "markdown",
   "id": "151091ed",
   "metadata": {},
   "source": [
    "- Qual o total de notebooks vendidos?"
   ]
  },
  {
   "cell_type": "code",
   "execution_count": 105,
   "id": "fa8e1e49",
   "metadata": {},
   "outputs": [
    {
     "name": "stdout",
     "output_type": "stream",
     "text": [
      "Total de Notebooks vendidos: 20450 \n"
     ]
    }
   ],
   "source": [
    "total_notebooks = 0\n",
    "\n",
    "for chave in vendas_tecnologia:\n",
    "    if 'notebook' in chave:\n",
    "        total_notebooks += vendas_tecnologia[chave]\n",
    "        \n",
    "print('Total de Notebooks vendidos: {} '.format(total_notebooks))"
   ]
  },
  {
   "cell_type": "markdown",
   "id": "59b45f07",
   "metadata": {},
   "source": [
    "## Exercícios\n",
    "\n",
    "## 1. Identificando Locais de Risco\n",
    "\n",
    "(Não conhecemos muito dos números e indicadores reais, esse é um exercício imaginário para treinarmos com um cenário mais prático)\n",
    "\n",
    "Digamos que você está construindo um programa para identificar níveis de CO2 (gás carbônico) em determinados locais para evitar potenciais acidentes. Em cada um desses locais a sua empresa tem 5 sensores que captam o nível de CO2 do local.\n",
    "\n",
    "Os níveis normais de CO2 são em média 350. O nível de CO2 de um local é dado pela média captada pelos 5 sensores.\n",
    "\n",
    "Isso significa que se tivermos os 5 sensores do Rio de Janeiro marcando: 350, 400, 450, 350, 300, o nível de CO2 do Rio de Janeiro será dado por: (350 + 400 + 450 + 350 + 300) / 5 = 370.\n",
    "\n",
    "Caso o nível seja maior do que 450, um aviso deve ser exibido pelo seu programa dizendo, por exemplo: Rio de Janeiro está com níveis altíssimos de CO2 (490), chamar equipe especializada para verificar a região.\n",
    "\n",
    "Os resultados dos sensores são monitorados frequentemente e são dados para o sistema em forma de dicionário:"
   ]
  },
  {
   "cell_type": "code",
   "execution_count": 110,
   "id": "077adb3a",
   "metadata": {},
   "outputs": [
    {
     "name": "stdout",
     "output_type": "stream",
     "text": [
      "RJ está com níveis altíssimos de CO2 (496.6), chamar equipe especializada para verificar a região.\n",
      "RO está com níveis altíssimos de CO2 (455.8), chamar equipe especializada para verificar a região.\n",
      "SC está com níveis altíssimos de CO2 (455.0), chamar equipe especializada para verificar a região.\n"
     ]
    }
   ],
   "source": [
    "niveis_co2 = {\n",
    "    'AC': [325,405,429,486,402],\n",
    "    'AL': [492,495,310,407,388],\n",
    "    'AP': [507,503,368,338,400],\n",
    "    'AM': [429,456,352,377,363],\n",
    "    'BA': [321,508,372,490,412],\n",
    "    'CE': [424,328,425,516,480],\n",
    "    'ES': [449,506,461,337,336],\n",
    "    'GO': [425,460,385,485,460],\n",
    "    'MA': [361,310,344,425,490],\n",
    "    'MT': [358,402,425,386,379],\n",
    "    'MS': [324,357,441,405,427],\n",
    "    'MG': [345,367,391,427,516],\n",
    "    'PA': [479,514,392,493,329],\n",
    "    'PB': [418,499,317,302,476],\n",
    "    'PR': [420,508,419,396,327],\n",
    "    'PE': [404,444,495,320,343],\n",
    "    'PI': [513,513,304,377,475],\n",
    "    'RJ': [502,481,492,502,506],\n",
    "    'RN': [446,437,519,356,317],\n",
    "    'RS': [427,518,459,317,321],\n",
    "    'RO': [517,466,512,326,458],\n",
    "    'RR': [466,495,469,495,310],\n",
    "    'SC': [495,436,382,483,479],\n",
    "    'SP': [495,407,362,389,317],\n",
    "    'SE': [508,351,334,389,418],\n",
    "    'TO': [339,490,304,488,419],\n",
    "    'DF': [376,516,320,310,518], \n",
    "}\n",
    "\n",
    "for estado in niveis_co2:\n",
    "    qtd_sensores = len(niveis_co2[estado]) \n",
    "    total_co2 = sum(niveis_co2[estado])\n",
    "    media_co2 = total_co2 / qtd_sensores\n",
    "    if media_co2 >= 450:\n",
    "        print('{} está com níveis altíssimos de CO2 ({}), chamar equipe especializada para verificar a região.'.format(estado, media_co2))"
   ]
  },
  {
   "cell_type": "markdown",
   "id": "ea043d4d",
   "metadata": {},
   "source": [
    "## 2. Case da Hashtag\n",
    "\n",
    "Recentemente tivemos que fazer backup dos vídeos que temos hospedados no Vimeo. Acontece que não existe um botão de Download de todos os vídeos ao mesmo tempo, precisamos entrar em 1 por 1 e fazer o download manualmente.\n",
    "\n",
    "A alternativa é gerar um código em Python que converse com a API do Vimeo (API é uma integração que as ferramentas abrem para programadores poderem fazer integrações dos seus próprios programas/scripts com a ferramenta).\n",
    "\n",
    "Para resolver isso, a gente fez a integração e fizemos uma \"requisição\" de todos os vídeos para a Vimeo. Essa requisição dá como resposta para o nosso código isso:"
   ]
  },
  {
   "cell_type": "code",
   "execution_count": 111,
   "id": "32c495b6",
   "metadata": {},
   "outputs": [
    {
     "name": "stdout",
     "output_type": "stream",
     "text": [
      "{'uri': '/videos/465407533', 'name': '15 Atalhos no Excel para Ficar Mais Produtivo', 'download': [{'quality': 'source', 'type': 'source', 'width': 1920, 'height': 1080, 'expires': '2020-10-07T04:00:55+00:00', 'link': 'https://player.vimeo.com/play/2064518513?s=465407533_1602043255_5f2f93dd00b66eba66d481f913383b4f&loc=external&context=Vimeo%5CController%5CApi%5CResources%5CUser%5CVideosController.&download=1&filename=15%2BAtalhos%2Bno%2BExcel%2Bpara%2BFicar%2BMais%2BProdutivosource.mp4', 'created_time': '2020-10-06T14:26:17+00:00', 'fps': 30, 'size': 402678442, 'md5': 'af09508ceceed4994554f04e8b931e22', 'public_name': 'Original', 'size_short': '384.02MB'}, {'quality': 'hd', 'type': 'video/mp4', 'width': 1920, 'height': 1080, 'expires': '2020-10-07T04:00:55+00:00', 'link': 'https://player.vimeo.com/play/2064523157?s=465407533_1602043255_ab7b8353c59b5048032396ec5d95a276&loc=external&context=Vimeo%5CController%5CApi%5CResources%5CUser%5CVideosController.&download=1&filename=15%2BAtalhos%2Bno%2BExcel%2Bpara%2BFicar%2BMais%2BProdutivo175.mp4', 'created_time': '2020-10-06T14:29:06+00:00', 'fps': 30, 'size': 173556205, 'md5': '3c05e1e69bd6b13eb1464451033907d2', 'public_name': 'HD 1080p', 'size_short': '165.52MB'}, {'quality': 'sd', 'type': 'video/mp4', 'width': 960, 'height': 540, 'expires': '2020-10-07T04:00:55+00:00', 'link': 'https://player.vimeo.com/play/2064523153?s=465407533_1602043255_f5ac38009ec5c0a13b30600c631446a3&loc=external&context=Vimeo%5CController%5CApi%5CResources%5CUser%5CVideosController.&download=1&filename=15%2BAtalhos%2Bno%2BExcel%2Bpara%2BFicar%2BMais%2BProdutivo165.mp4', 'created_time': '2020-10-06T14:29:06+00:00', 'fps': 30, 'size': 89881848, 'md5': '4a5c5c96cdf18202ed20ca534fd88007', 'public_name': 'SD 540p', 'size_short': '85.72MB'}, {'quality': 'sd', 'type': 'video/mp4', 'width': 426, 'height': 240, 'expires': '2020-10-07T04:00:55+00:00', 'link': 'https://player.vimeo.com/play/2064522788?s=465407533_1602043255_16c69872e2c4e92cc949d0b772242959&loc=external&context=Vimeo%5CController%5CApi%5CResources%5CUser%5CVideosController.&download=1&filename=15%2BAtalhos%2Bno%2BExcel%2Bpara%2BFicar%2BMais%2BProdutivo139.mp4', 'created_time': '2020-10-06T14:28:31+00:00', 'fps': 30, 'size': 27401450, 'md5': '91cc0229087ec94bf67f64b01ad8768d', 'public_name': 'SD 240p', 'size_short': '26.13MB'}, {'quality': 'sd', 'type': 'video/mp4', 'width': 640, 'height': 360, 'expires': '2020-10-07T04:00:55+00:00', 'link': 'https://player.vimeo.com/play/2064522787?s=465407533_1602043255_310b087e2fc8c5e1154ce7a33d10d60e&loc=external&context=Vimeo%5CController%5CApi%5CResources%5CUser%5CVideosController.&download=1&filename=15%2BAtalhos%2Bno%2BExcel%2Bpara%2BFicar%2BMais%2BProdutivo164.mp4', 'created_time': '2020-10-06T14:28:31+00:00', 'fps': 30, 'size': 48627155, 'md5': '548640bf79ce1552a3401726bb0e4224', 'public_name': 'SD 360p', 'size_short': '46.37MB'}]}\n"
     ]
    }
   ],
   "source": [
    "video = {'uri': '/videos/465407533', 'name': '15 Atalhos no Excel para Ficar Mais Produtivo', 'download': [{'quality': 'source', 'type': 'source', 'width': 1920, 'height': 1080, 'expires': '2020-10-07T04:00:55+00:00', 'link': 'https://player.vimeo.com/play/2064518513?s=465407533_1602043255_5f2f93dd00b66eba66d481f913383b4f&loc=external&context=Vimeo%5CController%5CApi%5CResources%5CUser%5CVideosController.&download=1&filename=15%2BAtalhos%2Bno%2BExcel%2Bpara%2BFicar%2BMais%2BProdutivosource.mp4', 'created_time': '2020-10-06T14:26:17+00:00', 'fps': 30, 'size': 402678442, 'md5': 'af09508ceceed4994554f04e8b931e22', 'public_name': 'Original', 'size_short': '384.02MB'}, {'quality': 'hd', 'type': 'video/mp4', 'width': 1920, 'height': 1080, 'expires': '2020-10-07T04:00:55+00:00', 'link': 'https://player.vimeo.com/play/2064523157?s=465407533_1602043255_ab7b8353c59b5048032396ec5d95a276&loc=external&context=Vimeo%5CController%5CApi%5CResources%5CUser%5CVideosController.&download=1&filename=15%2BAtalhos%2Bno%2BExcel%2Bpara%2BFicar%2BMais%2BProdutivo175.mp4', 'created_time': '2020-10-06T14:29:06+00:00', 'fps': 30, 'size': 173556205, 'md5': '3c05e1e69bd6b13eb1464451033907d2', 'public_name': 'HD 1080p', 'size_short': '165.52MB'}, {'quality': 'sd', 'type': 'video/mp4', 'width': 960, 'height': 540, 'expires': '2020-10-07T04:00:55+00:00', 'link': 'https://player.vimeo.com/play/2064523153?s=465407533_1602043255_f5ac38009ec5c0a13b30600c631446a3&loc=external&context=Vimeo%5CController%5CApi%5CResources%5CUser%5CVideosController.&download=1&filename=15%2BAtalhos%2Bno%2BExcel%2Bpara%2BFicar%2BMais%2BProdutivo165.mp4', 'created_time': '2020-10-06T14:29:06+00:00', 'fps': 30, 'size': 89881848, 'md5': '4a5c5c96cdf18202ed20ca534fd88007', 'public_name': 'SD 540p', 'size_short': '85.72MB'}, {'quality': 'sd', 'type': 'video/mp4', 'width': 426, 'height': 240, 'expires': '2020-10-07T04:00:55+00:00', 'link': 'https://player.vimeo.com/play/2064522788?s=465407533_1602043255_16c69872e2c4e92cc949d0b772242959&loc=external&context=Vimeo%5CController%5CApi%5CResources%5CUser%5CVideosController.&download=1&filename=15%2BAtalhos%2Bno%2BExcel%2Bpara%2BFicar%2BMais%2BProdutivo139.mp4', 'created_time': '2020-10-06T14:28:31+00:00', 'fps': 30, 'size': 27401450, 'md5': '91cc0229087ec94bf67f64b01ad8768d', 'public_name': 'SD 240p', 'size_short': '26.13MB'}, {'quality': 'sd', 'type': 'video/mp4', 'width': 640, 'height': 360, 'expires': '2020-10-07T04:00:55+00:00', 'link': 'https://player.vimeo.com/play/2064522787?s=465407533_1602043255_310b087e2fc8c5e1154ce7a33d10d60e&loc=external&context=Vimeo%5CController%5CApi%5CResources%5CUser%5CVideosController.&download=1&filename=15%2BAtalhos%2Bno%2BExcel%2Bpara%2BFicar%2BMais%2BProdutivo164.mp4', 'created_time': '2020-10-06T14:28:31+00:00', 'fps': 30, 'size': 48627155, 'md5': '548640bf79ce1552a3401726bb0e4224', 'public_name': 'SD 360p', 'size_short': '46.37MB'}]}\n",
    "print(video)"
   ]
  },
  {
   "cell_type": "markdown",
   "id": "a2cbaafd",
   "metadata": {},
   "source": [
    "Repare que é um código completamente confuso, mas que no fim do dia é um dicionário.\n",
    "\n",
    "Dentro dele queremos printar o link de download do vídeo para depois simplesmente clicar em todos os links e fazer o download de todos os vídeos.\n",
    "\n",
    "No nosso caso, tínhamos uma lista com os mais de 2.000 vídeos (sendo cada vídeo um dicionário exatamente como esse aí em cima), e por isso fizemos exatamente esse mesmo procedimento que você vai construir aqui abaixo, só que dentro de um \"for\" para percorrer todos os vídeos. Não podemos disponibilizar a lista inteira por questões de segurança e proteção de dados mesmo, mas o dicionário acima já vale o exemplo. "
   ]
  },
  {
   "cell_type": "code",
   "execution_count": 116,
   "id": "93585993",
   "metadata": {},
   "outputs": [
    {
     "name": "stdout",
     "output_type": "stream",
     "text": [
      "uri\n",
      "name\n",
      "download\n",
      "https://player.vimeo.com/play/2064518513?s=465407533_1602043255_5f2f93dd00b66eba66d481f913383b4f&loc=external&context=Vimeo%5CController%5CApi%5CResources%5CUser%5CVideosController.&download=1&filename=15%2BAtalhos%2Bno%2BExcel%2Bpara%2BFicar%2BMais%2BProdutivosource.mp4\n"
     ]
    }
   ],
   "source": [
    "for item in video:\n",
    "    print(item)\n",
    "\n",
    "print(video['download'][0]['link'])"
   ]
  },
  {
   "cell_type": "markdown",
   "id": "6df0f7d1",
   "metadata": {},
   "source": [
    "## Métodos úteis em dicionários\n",
    "\n",
    "### items() dos dicionários\n",
    "\n",
    "#### Estrutura:"
   ]
  },
  {
   "cell_type": "raw",
   "id": "44ce2399",
   "metadata": {},
   "source": [
    "itens_dicionario = dicionario.items()\n",
    "\n",
    "ou então:\n",
    "\n",
    "for item in dicionario.items()\n",
    "    cada item do dicionario em formato de tupla"
   ]
  },
  {
   "cell_type": "code",
   "execution_count": 125,
   "id": "0fcb9f3d",
   "metadata": {},
   "outputs": [
    {
     "name": "stdout",
     "output_type": "stream",
     "text": [
      "dict_items([('notebook asus', 2450), ('iphone', 15000), ('samsung galaxy', 12000), ('tv samsung', 10000), ('ps5', 14300), ('tablet', 1720), ('notebook dell', 17000), ('ipad', 1000), ('tv philco', 2500), ('notebook hp', 1000)])\n",
      "('notebook asus', 2450)\n",
      "('iphone', 15000)\n",
      "('samsung galaxy', 12000)\n",
      "('tv samsung', 10000)\n",
      "('ps5', 14300)\n",
      "('tablet', 1720)\n",
      "('notebook dell', 17000)\n",
      "('ipad', 1000)\n",
      "('tv philco', 2500)\n",
      "('notebook hp', 1000)\n",
      "notebook asus: 2450 unidades.\n",
      "iphone: 15000 unidades.\n",
      "samsung galaxy: 12000 unidades.\n",
      "tv samsung: 10000 unidades.\n",
      "ps5: 14300 unidades.\n",
      "tablet: 1720 unidades.\n",
      "notebook dell: 17000 unidades.\n",
      "ipad: 1000 unidades.\n",
      "tv philco: 2500 unidades.\n",
      "notebook hp: 1000 unidades.\n"
     ]
    }
   ],
   "source": [
    "vendas_tecnologia = {'notebook asus': 2450, 'iphone': 15000, 'samsung galaxy': 12000, 'tv samsung': 10000, 'ps5': 14300, 'tablet': 1720, 'notebook dell': 17000, 'ipad': 1000, 'tv philco': 2500, 'notebook hp': 1000}\n",
    "\n",
    "itens_dicionario = vendas_tecnologia.items()\n",
    "print(itens_dicionario)\n",
    "\n",
    "for item in vendas_tecnologia.items():\n",
    "    print(item)\n",
    "    \n",
    "for produto, qtd in vendas_tecnologia.items():\n",
    "    print('{}: {} unidades.'.format(produto, qtd)) "
   ]
  },
  {
   "cell_type": "markdown",
   "id": "2217c5ad",
   "metadata": {},
   "source": [
    "- Quais produtos venderam mais de 5000 unidades?"
   ]
  },
  {
   "cell_type": "code",
   "execution_count": 128,
   "id": "65c0c27d",
   "metadata": {},
   "outputs": [
    {
     "name": "stdout",
     "output_type": "stream",
     "text": [
      "Produto com mais de 5000 vendas: iphone: 15000 unidades.\n",
      "Produto com mais de 5000 vendas: samsung galaxy: 12000 unidades.\n",
      "Produto com mais de 5000 vendas: tv samsung: 10000 unidades.\n",
      "Produto com mais de 5000 vendas: ps5: 14300 unidades.\n",
      "Produto com mais de 5000 vendas: notebook dell: 17000 unidades.\n",
      "--------------\n",
      "Produto com mais de 5000 vendas: iphone: 15000 unidades.\n",
      "Produto com mais de 5000 vendas: samsung galaxy: 12000 unidades.\n",
      "Produto com mais de 5000 vendas: tv samsung: 10000 unidades.\n",
      "Produto com mais de 5000 vendas: ps5: 14300 unidades.\n",
      "Produto com mais de 5000 vendas: notebook dell: 17000 unidades.\n"
     ]
    }
   ],
   "source": [
    "#forma 1 -> usando apenas o dicionario e as chaves\n",
    "for chave in vendas_tecnologia:\n",
    "    if vendas_tecnologia[chave] > 5000:\n",
    "        print('Produto com mais de 5000 vendas: {}: {} unidades.'.format(chave, vendas_tecnologia[chave]))\n",
    "\n",
    "print('--------------')      \n",
    "        \n",
    "#forma 2 -> usando o dicionario.items()\n",
    "for produto, qtd in vendas_tecnologia.items():\n",
    "    if qtd > 5000:\n",
    "        print('Produto com mais de 5000 vendas: {}: {} unidades.'.format(produto, qtd))"
   ]
  },
  {
   "cell_type": "markdown",
   "id": "f95e4e6d",
   "metadata": {},
   "source": [
    "## Listas importantes a partir do Dicionário\n",
    "\n",
    "### Métodos importantes:\n",
    "\n",
    ".keys() -> uma \"lista\" com todas as chaves do dicionario\n",
    "\n",
    ".values() -> uma \"lista\" com todos os valores do dicionario\n",
    "\n",
    "Obs: Se o dicionario for modificado, automaticamente essas variáveis são modificadas, mesmo tendo sido criadas anteriormente"
   ]
  },
  {
   "cell_type": "markdown",
   "id": "77093a1f",
   "metadata": {},
   "source": [
    "chaves = vendas_tecnologia.keys()\n",
    "valores = vendas_tecnologia.values()\n",
    "print(chaves)\n",
    "print(valores)"
   ]
  },
  {
   "cell_type": "code",
   "execution_count": 130,
   "id": "15c86330",
   "metadata": {},
   "outputs": [
    {
     "name": "stdout",
     "output_type": "stream",
     "text": [
      "dict_keys(['notebook asus', 'iphone', 'samsung galaxy', 'tv samsung', 'ps5', 'tablet', 'notebook dell', 'ipad', 'tv philco', 'notebook hp', 'liraphone'])\n",
      "dict_values([2450, 15000, 12000, 10000, 14300, 1720, 17000, 1000, 2500, 1000, 10])\n"
     ]
    }
   ],
   "source": [
    "chaves = vendas_tecnologia.keys()\n",
    "valores = vendas_tecnologia.values()\n",
    "print(chaves)\n",
    "print(valores)"
   ]
  },
  {
   "cell_type": "code",
   "execution_count": 131,
   "id": "1303bf18",
   "metadata": {},
   "outputs": [
    {
     "name": "stdout",
     "output_type": "stream",
     "text": [
      "dict_keys(['notebook asus', 'iphone', 'samsung galaxy', 'tv samsung', 'ps5', 'tablet', 'notebook dell', 'ipad', 'tv philco', 'notebook hp', 'liraphone'])\n",
      "--------------\n",
      "dict_values([2450, 15000, 12000, 10000, 14300, 1720, 17000, 1000, 2500, 1000, 10])\n",
      "--------------\n",
      "['notebook asus', 'iphone', 'samsung galaxy', 'tv samsung', 'ps5', 'tablet', 'notebook dell', 'ipad', 'tv philco', 'notebook hp', 'liraphone']\n",
      "--------------\n",
      "[2450, 15000, 12000, 10000, 14300, 1720, 17000, 1000, 2500, 1000, 10]\n",
      "--------------\n"
     ]
    }
   ],
   "source": [
    "vendas_tecnologia['liraphone'] = 10\n",
    "\n",
    "print(chaves)\n",
    "print('--------------')  \n",
    "\n",
    "print(valores)\n",
    "print('--------------')  \n",
    "\n",
    "# Para transformar em uma lista:\n",
    "print(list(chaves))\n",
    "print('--------------')  \n",
    "\n",
    "print(list(valores))\n",
    "print('--------------')  "
   ]
  },
  {
   "cell_type": "markdown",
   "id": "880f22a1",
   "metadata": {},
   "source": [
    "### O for vai funcionar normal em dict_listas, porque não deixa de ser uma lista de itens que pode ser percorrida (iterable), mas o que aprendemos de lista não necessariamente se aplicam a essas dict_listas.\n",
    "\n",
    "Para transformar as dict_listas em listas normais, usamos a função list:\n",
    "\n",
    "- lista_chaves = list(dicionario.keys())"
   ]
  },
  {
   "cell_type": "markdown",
   "id": "df112329",
   "metadata": {},
   "source": [
    "- Pode ser útil caso a gente queira fazer alguma organização das chaves. Ex: Imprimir uma lista com os valores em ordem alfabética, de forma que todas as tvs fiquem juntas, todos os iphone/ipad também e assim vai:"
   ]
  },
  {
   "cell_type": "code",
   "execution_count": 137,
   "id": "332493b5",
   "metadata": {},
   "outputs": [
    {
     "name": "stdout",
     "output_type": "stream",
     "text": [
      "notebook asus: 2450 unidades\n",
      "iphone: 15000 unidades\n",
      "samsung galaxy: 12000 unidades\n",
      "tv samsung: 10000 unidades\n",
      "ps5: 14300 unidades\n",
      "tablet: 1720 unidades\n",
      "notebook dell: 17000 unidades\n",
      "ipad: 1000 unidades\n",
      "tv philco: 2500 unidades\n",
      "notebook hp: 1000 unidades\n",
      "liraphone: 10 unidades\n",
      "----------------------------------------\n",
      "['ipad', 'iphone', 'liraphone', 'notebook asus', 'notebook dell', 'notebook hp', 'ps5', 'samsung galaxy', 'tablet', 'tv philco', 'tv samsung']\n",
      "----------------------------------------\n",
      "ipad: 1000 unidades\n",
      "iphone: 15000 unidades\n",
      "liraphone: 10 unidades\n",
      "notebook asus: 2450 unidades\n",
      "notebook dell: 17000 unidades\n",
      "notebook hp: 1000 unidades\n",
      "ps5: 14300 unidades\n",
      "samsung galaxy: 12000 unidades\n",
      "tablet: 1720 unidades\n",
      "tv philco: 2500 unidades\n",
      "tv samsung: 10000 unidades\n"
     ]
    }
   ],
   "source": [
    "for chave in vendas_tecnologia:\n",
    "     print('{}: {} unidades'.format(chave, vendas_tecnologia[chave]))\n",
    "print('-' * 40)\n",
    "\n",
    "# Agora se quisermos organizar isso, fazemos (ordem alfabética):\n",
    "lista_chaves = list(chaves)\n",
    "lista_chaves.sort()\n",
    "print(lista_chaves)\n",
    "print('-' * 40)\n",
    "\n",
    "for chave in lista_chaves:\n",
    "    print('{}: {} unidades'.format(chave, vendas_tecnologia[chave]))"
   ]
  },
  {
   "cell_type": "markdown",
   "id": "b1c47d59",
   "metadata": {},
   "source": [
    "# Aulas Python Impressionador - Bloco 14"
   ]
  },
  {
   "cell_type": "markdown",
   "id": "fd9df99e",
   "metadata": {},
   "source": [
    "## Transformando Listas em Dicionários e Function zip\n",
    "\n",
    "### Estrutura:\n",
    "\n",
    "- Dicionário com valores padrões:\n",
    "\n",
    "dicionario = dict.fromkeys(lista_chaves, valor_padrao)\n",
    "\n",
    "- Dicionário a partir de listas de tuplas:\n",
    "\n",
    "dicionario = dict(lista_tuplas)\n",
    "\n",
    "- Dicionário a partir de 2 listas:\n",
    "\n",
    "Passo 1: Transformar listas em lista de tuplas com o método zip<br>\n",
    "Passo 2: Transformar em dicionario\n",
    "\n",
    "lista_tuplas = zip(lista1, lista2)<br>\n",
    "dicionario = dict(lista_tuplas)"
   ]
  },
  {
   "cell_type": "code",
   "execution_count": 166,
   "id": "478a00d0",
   "metadata": {},
   "outputs": [
    {
     "name": "stdout",
     "output_type": "stream",
     "text": [
      "{'iphone': 0, 'samsung galaxy': 0, 'tv samsung': 0, 'ps5': 0, 'tablet': 0, 'ipad': 0, 'tv philco': 0, 'notebook hp': 0, 'notebook dell': 0, 'notebook asus': 0}\n",
      "----------------------------------------\n",
      "{'iphone': 15000, 'samsung galaxy': 12000, 'tv samsung': 10000, 'ps5': 14300, 'tablet': 1720, 'ipad': 1000, 'tv philco': 2500, 'notebook hp': 1000, 'notebook dell': 17000, 'notebook asus': 2450}\n"
     ]
    }
   ],
   "source": [
    "produtos = ['iphone', 'samsung galaxy', 'tv samsung', 'ps5', 'tablet', 'ipad', 'tv philco', 'notebook hp', 'notebook dell', 'notebook asus']\n",
    "vendas = [15000, 12000, 10000, 14300, 1720, 1000, 2500, 1000, 17000, 2450]\n",
    "\n",
    "dicionario = dict.fromkeys(produtos, 0)\n",
    "print(dicionario)\n",
    "\n",
    "print('-' * 40)\n",
    "\n",
    "# Transformar listas em lista de tuplas com o método zip\n",
    "lista_tuplas = zip(produtos, vendas)\n",
    "\n",
    "# Transformar em dicionario\n",
    "dicionario_vendas = dict(lista_tuplas)\n",
    "print(dicionario_vendas)\n"
   ]
  },
  {
   "cell_type": "markdown",
   "id": "0258f595",
   "metadata": {},
   "source": [
    "- Quanto vendemos de ipad?"
   ]
  },
  {
   "cell_type": "code",
   "execution_count": 167,
   "id": "830189cf",
   "metadata": {},
   "outputs": [
    {
     "name": "stdout",
     "output_type": "stream",
     "text": [
      "Vendemos 1000 ipads\n",
      "Vendemos 1000 ipads\n"
     ]
    }
   ],
   "source": [
    "# fazendo por listas\n",
    "indice = produtos.index('ipad')\n",
    "print('Vendemos {} ipads'.format(vendas[indice]))\n",
    "\n",
    "# fazendo por dicionario\n",
    "print('Vendemos {} ipads'.format(dicionario_vendas['ipad']))"
   ]
  },
  {
   "cell_type": "markdown",
   "id": "695eeacb",
   "metadata": {},
   "source": [
    "## Exercícios\n",
    "\n",
    "### 1. Exercício \"menos prático\" para treinar manipulação de dicionário\n",
    "\n",
    "Dessa vez, vamos apenas treinar a manipulação de dicionário. Transforme as listas abaixo em 1 único dicionário no formato:"
   ]
  },
  {
   "cell_type": "raw",
   "id": "5748897c",
   "metadata": {},
   "source": [
    "dicionario = {\n",
    "    produto: [vendas2019, vendas2020],\n",
    "    produto2: [vendas2019, vendas2020],\n",
    "    produto3: [vendas2019, vendas2020],\n",
    "    ...\n",
    "}"
   ]
  },
  {
   "cell_type": "markdown",
   "id": "1cd99bc5",
   "metadata": {},
   "source": [
    "- Apesar de parecer \"menos prático\" esse é um procedimento que precisamos nos acostumar a fazer, visto que algumas funções (tema dos próximos módulos) precisam de dicionários para funcionar e saber transformar listas em dicionários (e vice-versa) é uma habilidade muito útil\n",
    "\n",
    "Obs: Lembre do zip para juntar listas.<br>\n",
    "Obs2: Repare que cada item das vendas é na verdade uma lista. Então é provável que você precise fazer esse código em 2 etapas"
   ]
  },
  {
   "cell_type": "code",
   "execution_count": 181,
   "id": "060c08f0",
   "metadata": {},
   "outputs": [
    {
     "name": "stdout",
     "output_type": "stream",
     "text": [
      "{'iphone': (558147, 951642), 'samsung galaxy': (712350, 244295), 'tv samsung': (573823, 26964), 'ps5': (405252, 787604), 'tablet': (718654, 867660), 'ipad': (531580, 78830), 'tv philco': (973139, 710331), 'notebook hp': (892292, 646016), 'notebook dell': (422760, 694913), 'notebook asus': (154753, 539704)}\n"
     ]
    }
   ],
   "source": [
    "produtos_exc = ['iphone', 'galaxy', 'ipad', 'tv', 'máquina de café', 'kindle', 'geladeira', 'adega', 'notebook dell', 'notebook hp', 'notebook asus', 'microsoft surface', 'webcam', 'caixa de som', 'microfone', 'câmera canon']\n",
    "vendas2019 = [558147,712350,573823,405252,718654,531580,973139,892292,422760,154753,887061,438508,237467,489705,328311,591120]\n",
    "vendas2020 = [951642,244295,26964,787604,867660,78830,710331,646016,694913,539704,324831,667179,295633,725316,644622,994303]\n",
    "\n",
    "#seu código aqui\n",
    "\n",
    "lista_tuplas_vendas = list(zip(vendas2019, vendas2020))\n",
    "\n",
    "dic_vendas_prod = dict(zip(produtos, lista_tuplas_vendas))\n",
    "print(dic_vendas_prod)"
   ]
  },
  {
   "cell_type": "markdown",
   "id": "0c8b5155",
   "metadata": {},
   "source": [
    "## Métodos Específicos de Dicionário"
   ]
  },
  {
   "cell_type": "markdown",
   "id": "cd517309",
   "metadata": {},
   "source": [
    "- clear() -> Deleta todos os elementos do Dicionário (semelhante ao que aprendemos em listas)"
   ]
  },
  {
   "cell_type": "code",
   "execution_count": null,
   "id": "4309bcd7",
   "metadata": {},
   "outputs": [],
   "source": [
    "vendas_mes = {'jan': 150, 'fev': 100, 'mar': 190}\n",
    "vendas_mes.clear()\n",
    "print(vendas_mes)"
   ]
  },
  {
   "cell_type": "markdown",
   "id": "9619d99d",
   "metadata": {},
   "source": [
    "- copy() -> Cria uma cópia do dicionário (semelhante ao que aprendemos em listas)"
   ]
  },
  {
   "cell_type": "code",
   "execution_count": null,
   "id": "f40ee39f",
   "metadata": {},
   "outputs": [],
   "source": [
    "vendas_mes = {'jan': 150, 'fev': 100, 'mar': 190}\n",
    "vendas2_mes = vendas_mes.copy()\n",
    "print(vendas2_mes)"
   ]
  },
  {
   "cell_type": "markdown",
   "id": "17f1a289",
   "metadata": {},
   "source": [
    "- fromkeys(chaves, valor_padrao) -> Cria um dicionário com as chaves e o mesmo valor padrão para todas as chaves"
   ]
  },
  {
   "cell_type": "code",
   "execution_count": null,
   "id": "08717aa7",
   "metadata": {},
   "outputs": [],
   "source": [
    "chaves = ('jan', 'fev', 'mar')\n",
    "vendas = 100\n",
    "vendas_mes = dict.fromkeys(chaves, vendas)\n",
    "print(vendas_mes)"
   ]
  },
  {
   "cell_type": "markdown",
   "id": "cfa3aa25",
   "metadata": {},
   "source": [
    "- get(chave) -> \tRetorna o valor especificado pela chave (Semelhante a fazer dictionario[chave]"
   ]
  },
  {
   "cell_type": "code",
   "execution_count": null,
   "id": "36bfdcf0",
   "metadata": {},
   "outputs": [],
   "source": [
    "vendas_mes = {'jan': 150, 'fev': 100, 'mar': 190}\n",
    "print(vendas_mes.get('mar'))"
   ]
  },
  {
   "cell_type": "markdown",
   "id": "485a656d",
   "metadata": {},
   "source": [
    "- items() -> Retorna uma lista em que cada item é uma tupla com (chave, valor)"
   ]
  },
  {
   "cell_type": "code",
   "execution_count": null,
   "id": "db91fd45",
   "metadata": {},
   "outputs": [],
   "source": [
    "vendas_mes = {'jan': 150, 'fev': 100, 'mar': 190}\n",
    "print(list(vendas_mes.items()))"
   ]
  },
  {
   "cell_type": "markdown",
   "id": "39703f04",
   "metadata": {},
   "source": [
    "- keys() -> Retorna uma lista com todas as chaves do dicionário"
   ]
  },
  {
   "cell_type": "code",
   "execution_count": null,
   "id": "e1c0283b",
   "metadata": {},
   "outputs": [],
   "source": [
    "vendas_mes = {'jan': 150, 'fev': 100, 'mar': 190}\n",
    "print(list(vendas_mes.keys()))"
   ]
  },
  {
   "cell_type": "markdown",
   "id": "9a034e94",
   "metadata": {},
   "source": [
    "- pop(chave) -> Retira o item do dicionário e retorna o valor dele para ser usado"
   ]
  },
  {
   "cell_type": "code",
   "execution_count": null,
   "id": "33910e30",
   "metadata": {},
   "outputs": [],
   "source": [
    "vendas_mes = {'jan': 150, 'fev': 100, 'mar': 190}\n",
    "vendas_fev = vendas_mes.pop('fev') #retira o fevereiro do dicionário ao mesmo tempo que armazena o valor dele na variável\n",
    "print(vendas_mes)\n",
    "print(vendas_fev)"
   ]
  },
  {
   "cell_type": "markdown",
   "id": "efac543e",
   "metadata": {},
   "source": [
    "- popitem() -> Retira o último item adicionado ao dicionário"
   ]
  },
  {
   "cell_type": "code",
   "execution_count": null,
   "id": "c511770c",
   "metadata": {},
   "outputs": [],
   "source": [
    "vendas_mes = {'jan': 150, 'fev': 100, 'mar': 190}\n",
    "#retira o último item adicionado no dicionário ao mesmo tempo que armazena o item(chave, valor) dele na variável\n",
    "vendas_ult = vendas_mes.popitem() \n",
    "print(vendas_mes)\n",
    "print(vendas_ult)"
   ]
  },
  {
   "cell_type": "markdown",
   "id": "81fedeb7",
   "metadata": {},
   "source": [
    "- setdefault(chave, valor) -> Retorna o valor da chave passada, mas caso a chave não exista, cria no dicionário o item com a chave e valor passados."
   ]
  },
  {
   "cell_type": "code",
   "execution_count": null,
   "id": "ba9876f5",
   "metadata": {},
   "outputs": [],
   "source": [
    "vendas_mes = {'jan': 150, 'fev': 100, 'mar': 190}\n",
    "vendas_fev = vendas_mes.setdefault('fev', 500)\n",
    "print(vendas_fev)\n",
    "#repare que como fevereiro existe na lista, ele procura pelo valor de fevereiro e ignora o 500 passado\n",
    "#agora quando não existe na lista:\n",
    "vendas_abr = vendas_mes.setdefault('abr', 600)\n",
    "#repare que agora além de vendas_abr retornar o 600 como valor, ele adicionou um item no dicionario\n",
    "print(vendas_abr)\n",
    "print(vendas_mes)"
   ]
  },
  {
   "cell_type": "markdown",
   "id": "e975fdb6",
   "metadata": {},
   "source": [
    "- update(dicionario) -> Adiciona o dicionário passado como parâmetro ao dicionário original"
   ]
  },
  {
   "cell_type": "code",
   "execution_count": null,
   "id": "e47e4ca9",
   "metadata": {},
   "outputs": [],
   "source": [
    "vendas_mes = {'jan': 150, 'fev': 100, 'mar': 190}\n",
    "vendas_2tri = {'abr': 400, 'mai': 600, 'jun': 500}\n",
    "vendas_mes.update(vendas_2tri)\n",
    "print(vendas_mes)"
   ]
  },
  {
   "cell_type": "markdown",
   "id": "a2debb97",
   "metadata": {},
   "source": [
    "- values() -> Retorna uma lista com todos os valores do dicionários"
   ]
  },
  {
   "cell_type": "code",
   "execution_count": null,
   "id": "fa65b3c3",
   "metadata": {},
   "outputs": [],
   "source": [
    "vendas_mes = {'jan': 150, 'fev': 100, 'mar': 190}\n",
    "print(list(vendas_mes.values()))"
   ]
  },
  {
   "cell_type": "markdown",
   "id": "1a337ebf",
   "metadata": {},
   "source": [
    "# Aulas Python Impressionador - Bloco 15"
   ]
  },
  {
   "cell_type": "markdown",
   "id": "2e9e0a8d",
   "metadata": {},
   "source": [
    "## O que é um iterable?\n",
    "\n",
    "### Explicação não programadora\n",
    "\n",
    "Um iterable é uma estrutura que armazena dados que pode ser \"iterada\" ou seja, que você pode fazer um loop como um for dentro dela e ir passando de item a item. É como se fosse um tipo de lista de coisas que você pode ir olhando cada um dos elementos dentro dela.\n",
    "\n",
    "Até agora as principais que vimos foram:\n",
    "\n",
    "- Listas"
   ]
  },
  {
   "cell_type": "code",
   "execution_count": 183,
   "id": "e2bdcf76",
   "metadata": {},
   "outputs": [
    {
     "name": "stdout",
     "output_type": "stream",
     "text": [
      "iphone\n",
      "samsung galaxy\n",
      "tv samsung\n",
      "ps5\n",
      "tablet\n",
      "ipad\n",
      "tv philco\n",
      "notebook hp\n",
      "notebook dell\n",
      "notebook asus\n"
     ]
    }
   ],
   "source": [
    "produtos = ['iphone', 'samsung galaxy', 'tv samsung', 'ps5', 'tablet', 'ipad', 'tv philco', 'notebook hp', 'notebook dell', 'notebook asus']\n",
    "\n",
    "for produto in produtos:\n",
    "    print(produto)"
   ]
  },
  {
   "cell_type": "markdown",
   "id": "39065f51",
   "metadata": {},
   "source": [
    "- Strings"
   ]
  },
  {
   "cell_type": "code",
   "execution_count": 182,
   "id": "8702568f",
   "metadata": {},
   "outputs": [
    {
     "name": "stdout",
     "output_type": "stream",
     "text": [
      "l\n",
      "i\n",
      "r\n",
      "a\n",
      "@\n",
      "g\n",
      "m\n",
      "a\n",
      "i\n",
      "l\n",
      ".\n",
      "c\n",
      "o\n",
      "m\n"
     ]
    }
   ],
   "source": [
    "texto = 'lira@gmail.com'\n",
    "\n",
    "for ch in texto:\n",
    "    print(ch)"
   ]
  },
  {
   "cell_type": "markdown",
   "id": "f262fa82",
   "metadata": {},
   "source": [
    "- Tuplas"
   ]
  },
  {
   "cell_type": "code",
   "execution_count": 184,
   "id": "1bb01beb",
   "metadata": {},
   "outputs": [
    {
     "name": "stdout",
     "output_type": "stream",
     "text": [
      "iphone\n",
      "samsung galaxy\n",
      "tv samsung\n",
      "ps5\n",
      "tablet\n",
      "ipad\n",
      "tv philco\n",
      "notebook hp\n",
      "notebook dell\n",
      "notebook asus\n"
     ]
    }
   ],
   "source": [
    "produtos = ('iphone', 'samsung galaxy', 'tv samsung', 'ps5', 'tablet', 'ipad', 'tv philco', 'notebook hp', 'notebook dell', 'notebook asus')\n",
    "\n",
    "for produto in produtos:\n",
    "    print(produto)"
   ]
  },
  {
   "cell_type": "markdown",
   "id": "f9f3a784",
   "metadata": {},
   "source": [
    "- Dicionários"
   ]
  },
  {
   "cell_type": "code",
   "execution_count": 185,
   "id": "03fbb4d0",
   "metadata": {},
   "outputs": [
    {
     "name": "stdout",
     "output_type": "stream",
     "text": [
      "iphone\n",
      "samsung galaxy\n",
      "tv samsung\n",
      "ps5\n",
      "tablet\n",
      "ipad\n",
      "tv philco\n",
      "notebook hp\n",
      "notebook dell\n",
      "notebook asus\n"
     ]
    }
   ],
   "source": [
    "vendas_produtos = {'iphone': 15000, 'samsung galaxy': 12000, 'tv samsung': 10000, 'ps5': 14300, 'tablet': 1720, 'ipad': 1000, 'tv philco': 2500, 'notebook hp': 1000, 'notebook dell': 17000, 'notebook asus': 2450}\n",
    "\n",
    "for produto in vendas_produtos:\n",
    "    print(produto)\n",
    "    #print('{}: {} unidades'.format(produto, vendas_produtos[produto]))"
   ]
  },
  {
   "cell_type": "markdown",
   "id": "453cb618",
   "metadata": {},
   "source": [
    "- Vamos falar nesse módulo de algumas outras, mas esse conceito é importante porque várias funções do python usam isso para explicar como as coisas funcionam. Então é importante que quando você ler o termo \"iterable\" você entenda o que estão falando: \"é tipo uma lista de coisas que eu posso percorrer e fazer alguma ação com cada uma das coisas dentro dessa lista\""
   ]
  },
  {
   "cell_type": "markdown",
   "id": "fbf960d5",
   "metadata": {},
   "source": [
    "## Range\n",
    "\n",
    "### Estrutura:\n",
    "\n",
    "- range(tamanho)\n",
    "\n",
    "ou \n",
    "\n",
    "- range(inicio, fim)\n",
    "\n",
    "ou\n",
    "\n",
    "- range(inicio, fim, passo)"
   ]
  },
  {
   "cell_type": "code",
   "execution_count": 192,
   "id": "d1ee930f",
   "metadata": {},
   "outputs": [
    {
     "name": "stdout",
     "output_type": "stream",
     "text": [
      "arroz: 50 unidades em estoque.\n",
      "feijao: 100 unidades em estoque.\n",
      "macarrao: 20 unidades em estoque.\n",
      "atum: 5 unidades em estoque.\n",
      "azeite: 80 unidades em estoque.\n"
     ]
    }
   ],
   "source": [
    "#uso mais comum no for:\n",
    "produtos = ['arroz', 'feijao', 'macarrao', 'atum', 'azeite']\n",
    "estoque = [50, 100, 20, 5, 80]\n",
    "\n",
    "for i in range(5):\n",
    "    print('{}: {} unidades em estoque.'.format(produtos[i],estoque[i]))"
   ]
  },
  {
   "cell_type": "code",
   "execution_count": 195,
   "id": "f3c6fa2a",
   "metadata": {},
   "outputs": [
    {
     "name": "stdout",
     "output_type": "stream",
     "text": [
      "range(1, 10)\n",
      "1\n",
      "2\n",
      "3\n",
      "4\n",
      "5\n",
      "6\n",
      "7\n",
      "8\n",
      "9\n"
     ]
    }
   ],
   "source": [
    "#range com inicio e fim\n",
    "print(range(1, 10))\n",
    "\n",
    "#vamos olhar no for para entender\n",
    "for i in range(1,10):\n",
    "    print(i)"
   ]
  },
  {
   "cell_type": "markdown",
   "id": "2f1b42ad",
   "metadata": {},
   "source": [
    "- Exemplo: Modelo Jack Welch da G&E\n",
    "\n",
    "    1. Classe A: 10% melhor\n",
    "    2. Classe B: 80% mantém/busca melhorar\n",
    "    3. Classe C: 10% pior\n",
    "    \n",
    "Quem são os funcionários classe B?"
   ]
  },
  {
   "cell_type": "code",
   "execution_count": 205,
   "id": "e1d4abe4",
   "metadata": {},
   "outputs": [
    {
     "name": "stdout",
     "output_type": "stream",
     "text": [
      "> Funcionários Classe B:\n",
      "Antônio: fez 1500 vendas.\n",
      "João: fez 1200 vendas.\n",
      "Francisco: fez 1111 vendas.\n",
      "Ana: fez 1100 vendas.\n",
      "Luiz: fez 999 vendas.\n",
      "Paulo: fez 900 vendas.\n",
      "Carlos: fez 880 vendas.\n",
      "Manoel: fez 870 vendas.\n",
      "Pedro: fez 800 vendas.\n",
      "Francisca: fez 800 vendas.\n",
      "Marcos: fez 450 vendas.\n",
      "Raimundo: fez 400 vendas.\n",
      "Sebastião: fez 300 vendas.\n",
      "Antônia: fez 300 vendas.\n",
      "Marcelo: fez 120 vendas.\n",
      "Jorge: fez 90 vendas.\n"
     ]
    }
   ],
   "source": [
    "funcionarios = ['Maria', 'José', 'Antônio', 'João', 'Francisco', 'Ana', 'Luiz', 'Paulo', 'Carlos', 'Manoel', 'Pedro', 'Francisca', 'Marcos', 'Raimundo', 'Sebastião', 'Antônia', 'Marcelo', 'Jorge', 'Márcia', 'Geraldo']\n",
    "vendas = [2750, 1900, 1500, 1200, 1111, 1100, 999, 900, 880, 870, 800, 800, 450, 400, 300, 300, 120, 90, 80, 70]\n",
    "\n",
    "print('> Funcionários Classe B:')\n",
    "for i in range(2,18):\n",
    "    print('{}: fez {} vendas.'.format(funcionarios[i],vendas[i]))"
   ]
  },
  {
   "cell_type": "code",
   "execution_count": 206,
   "id": "ee633827",
   "metadata": {},
   "outputs": [
    {
     "name": "stdout",
     "output_type": "stream",
     "text": [
      "range(0, 1000, 10)\n",
      "0\n",
      "10\n",
      "20\n",
      "30\n",
      "40\n",
      "50\n",
      "60\n",
      "70\n",
      "80\n",
      "90\n",
      "100\n",
      "110\n",
      "120\n",
      "130\n",
      "140\n",
      "150\n",
      "160\n",
      "170\n",
      "180\n",
      "190\n",
      "200\n",
      "210\n",
      "220\n",
      "230\n",
      "240\n",
      "250\n",
      "260\n",
      "270\n",
      "280\n",
      "290\n",
      "300\n",
      "310\n",
      "320\n",
      "330\n",
      "340\n",
      "350\n",
      "360\n",
      "370\n",
      "380\n",
      "390\n",
      "400\n",
      "410\n",
      "420\n",
      "430\n",
      "440\n",
      "450\n",
      "460\n",
      "470\n",
      "480\n",
      "490\n",
      "500\n",
      "510\n",
      "520\n",
      "530\n",
      "540\n",
      "550\n",
      "560\n",
      "570\n",
      "580\n",
      "590\n",
      "600\n",
      "610\n",
      "620\n",
      "630\n",
      "640\n",
      "650\n",
      "660\n",
      "670\n",
      "680\n",
      "690\n",
      "700\n",
      "710\n",
      "720\n",
      "730\n",
      "740\n",
      "750\n",
      "760\n",
      "770\n",
      "780\n",
      "790\n",
      "800\n",
      "810\n",
      "820\n",
      "830\n",
      "840\n",
      "850\n",
      "860\n",
      "870\n",
      "880\n",
      "890\n",
      "900\n",
      "910\n",
      "920\n",
      "930\n",
      "940\n",
      "950\n",
      "960\n",
      "970\n",
      "980\n",
      "990\n"
     ]
    }
   ],
   "source": [
    "#range com passo\n",
    "print(range(0, 1000, 10))\n",
    "\n",
    "for i in range(0, 1000, 10):\n",
    "    print(i)"
   ]
  },
  {
   "cell_type": "markdown",
   "id": "6214a673",
   "metadata": {},
   "source": [
    "## Set\n",
    "\n",
    "### Estrutura:\n",
    "\n",
    "meu_set = {valor, valor, valor, valor,...}\n",
    "\n",
    "### Observações:\n",
    "\n",
    "- Não pode ter valores duplicados\n",
    "- Não tem ordem fixa"
   ]
  },
  {
   "cell_type": "code",
   "execution_count": 207,
   "id": "40288470",
   "metadata": {},
   "outputs": [
    {
     "name": "stdout",
     "output_type": "stream",
     "text": [
      "{'atum', 'arroz', 'feijao', 'macarrao', 'azeite'}\n"
     ]
    }
   ],
   "source": [
    "set_produtos = {'arroz', 'feijao', 'macarrao', 'atum', 'azeite'}\n",
    "\n",
    "print(set_produtos)\n",
    "# Ao executar não tem uma ordem fixa."
   ]
  },
  {
   "cell_type": "markdown",
   "id": "03250c25",
   "metadata": {},
   "source": [
    "- Aplicação bem útil:\n",
    "\n",
    "    1. Quantos clientes tivemos na loja?"
   ]
  },
  {
   "cell_type": "code",
   "execution_count": 216,
   "id": "44811422",
   "metadata": {},
   "outputs": [
    {
     "name": "stdout",
     "output_type": "stream",
     "text": [
      "14\n",
      "----------\n",
      "{'925.413.640-91', '988.305.810-11', '892.080.930-50', '393.462.330-10', '263.027.380-67', '596.125.830-05', '990.236.770-48', '762.196.080-97', '827.363.930-40', '870.565.160-33', '462.126.030-81'}\n",
      "----------\n",
      "Temos 11 clientes na loja.\n",
      "----------\n",
      "['925.413.640-91', '988.305.810-11', '892.080.930-50', '393.462.330-10', '263.027.380-67', '596.125.830-05', '990.236.770-48', '762.196.080-97', '827.363.930-40', '870.565.160-33', '462.126.030-81']\n"
     ]
    }
   ],
   "source": [
    "cpf_clientes = ['762.196.080-97', '263.027.380-67', '827.363.930-40', '925.413.640-91', '870.565.160-33', '892.080.930-50', '462.126.030-81', '393.462.330-10', '393.462.330-10', '393.462.330-10', '988.305.810-11', '596.125.830-05', '596.125.830-05', '990.236.770-48']\n",
    "\n",
    "print(len(cpf_clientes))\n",
    "print('----------')\n",
    "\n",
    "set_cpf_clientes = set(cpf_clientes)\n",
    "print(set_cpf_clientes)\n",
    "print('----------')\n",
    "\n",
    "print('Temos {} clientes na loja.'.format(len(set_cpf_clientes)))\n",
    "print('----------')\n",
    "\n",
    "# Criando uma lista de clientes únicos:\n",
    "cpf_clientes_unicos = list(set_cpf_clientes)\n",
    "print(cpf_clientes_unicos)"
   ]
  },
  {
   "cell_type": "markdown",
   "id": "68ba9764",
   "metadata": {},
   "source": [
    "## Métodos de Sets\n",
    "\n",
    "### Esses são os métodos mais usados de set\n",
    "\n",
    "- add -> adiciona um item no set"
   ]
  },
  {
   "cell_type": "code",
   "execution_count": 217,
   "id": "d5eeb574",
   "metadata": {},
   "outputs": [
    {
     "name": "stdout",
     "output_type": "stream",
     "text": [
      "{'ipad', 'macbook', 'iphone', 'airpod'}\n"
     ]
    }
   ],
   "source": [
    "meu_set = {'iphone', 'macbook', 'ipad'}\n",
    "meu_set.add('airpod')\n",
    "print(meu_set)"
   ]
  },
  {
   "cell_type": "markdown",
   "id": "e4938499",
   "metadata": {},
   "source": [
    "- remove -> retira um item de um set"
   ]
  },
  {
   "cell_type": "code",
   "execution_count": 218,
   "id": "cf5bd276",
   "metadata": {},
   "outputs": [
    {
     "name": "stdout",
     "output_type": "stream",
     "text": [
      "{'ipad', 'macbook'}\n"
     ]
    }
   ],
   "source": [
    "meu_set = {'iphone', 'macbook', 'ipad'}\n",
    "meu_set.remove('iphone')\n",
    "print(meu_set)"
   ]
  },
  {
   "cell_type": "markdown",
   "id": "595a727d",
   "metadata": {},
   "source": [
    "- clear -> retira todos os itens de um set"
   ]
  },
  {
   "cell_type": "code",
   "execution_count": 219,
   "id": "ac59eb94",
   "metadata": {},
   "outputs": [
    {
     "name": "stdout",
     "output_type": "stream",
     "text": [
      "set()\n"
     ]
    }
   ],
   "source": [
    "meu_set = {'iphone', 'macbook', 'ipad'}\n",
    "meu_set.clear()\n",
    "print(meu_set)"
   ]
  },
  {
   "cell_type": "markdown",
   "id": "73130147",
   "metadata": {},
   "source": [
    "- union -> junta as informações de 2 sets. Se houver algum valor duplicado, ele constará apenas 1 vez no set final"
   ]
  },
  {
   "cell_type": "code",
   "execution_count": 220,
   "id": "c2558002",
   "metadata": {},
   "outputs": [
    {
     "name": "stdout",
     "output_type": "stream",
     "text": [
      "{'macbook', 'ipod', 'airpod', 'ipad', 'apple watch', 'iphone'}\n"
     ]
    }
   ],
   "source": [
    "produtos = {'iphone', 'macbook', 'ipad'}\n",
    "lancamentos = {'airpod', 'apple watch', 'ipod', 'ipad'}\n",
    "todos_produtos = produtos.union(lancamentos)\n",
    "print(todos_produtos)"
   ]
  },
  {
   "cell_type": "markdown",
   "id": "db570846",
   "metadata": {},
   "source": [
    "- intersection -> pega apenas as informações que existem nos 2 sets ao mesmo tempo"
   ]
  },
  {
   "cell_type": "code",
   "execution_count": 221,
   "id": "1cf6cc40",
   "metadata": {},
   "outputs": [
    {
     "name": "stdout",
     "output_type": "stream",
     "text": [
      "{'ipad'}\n"
     ]
    }
   ],
   "source": [
    "produtos = {'iphone', 'macbook', 'ipad'}\n",
    "lancamentos = {'airpod', 'apple watch', 'ipod', 'ipad'}\n",
    "intersecao = produtos.intersection(lancamentos)\n",
    "print(intersecao)"
   ]
  },
  {
   "cell_type": "markdown",
   "id": "37e37389",
   "metadata": {},
   "source": [
    "- difference -> retorna todas as informações de um set que não fazem parte de outro set"
   ]
  },
  {
   "cell_type": "code",
   "execution_count": 222,
   "id": "d34c5c39",
   "metadata": {},
   "outputs": [
    {
     "name": "stdout",
     "output_type": "stream",
     "text": [
      "{'macbook', 'iphone'}\n"
     ]
    }
   ],
   "source": [
    "produtos = {'iphone', 'macbook', 'ipad'}\n",
    "lancamentos = {'airpod', 'apple watch', 'ipod', 'ipad'}\n",
    "produtos_nao_lancamentos = produtos.difference(lancamentos)\n",
    "print(produtos_nao_lancamentos) #repare que ipad foi retirado do resultado porque ele estava contido no set de lançamentos"
   ]
  },
  {
   "cell_type": "markdown",
   "id": "36368a15",
   "metadata": {},
   "source": [
    "# Aulas Python Impressionador - Bloco 16"
   ]
  },
  {
   "cell_type": "markdown",
   "id": "ba4ad94a",
   "metadata": {},
   "source": [
    "## Function Python\n",
    "\n",
    "### O que é?\n",
    "\n",
    "As functions são blocos de código que servem 1 único propósito, fazem uma ação específica.\n",
    "\n",
    "### Estrutura Básica"
   ]
  },
  {
   "cell_type": "raw",
   "id": "a44b6211",
   "metadata": {},
   "source": [
    "def nome_funcao():\n",
    "    faça alguma coisa\n",
    "    faça outra coisa\n",
    "    return valor_final"
   ]
  },
  {
   "cell_type": "markdown",
   "id": "f3cb33d9",
   "metadata": {},
   "source": [
    "- Exemplo: vamos criar uma função de cadastro de um Produto. Essa função deve garantir que o produto cadastrado está em letra minúscula."
   ]
  },
  {
   "cell_type": "code",
   "execution_count": 230,
   "id": "9be05f29",
   "metadata": {},
   "outputs": [
    {
     "name": "stdout",
     "output_type": "stream",
     "text": [
      "[10, 30, 90, 150, 2000]\n",
      "--------\n"
     ]
    }
   ],
   "source": [
    "lista = [150, 10, 30, 2000, 90]\n",
    "\n",
    "lista.sort()\n",
    "print(lista)\n",
    "\n",
    "print('--------')\n",
    "\n",
    "# Exemplo:\n",
    "def cadastrar_produto():\n",
    "    produto = input('Informe o nome do produto: ')\n",
    "    produto = produto.casefold()\n",
    "    produto = produto.strip()\n",
    "    print('Produto ({}) foi cadastrado com sucesso!!!'.format(produto))\n",
    "\n",
    "# Para  executar digite no campo 'cadastrar_produto()' para chamar a função"
   ]
  },
  {
   "cell_type": "markdown",
   "id": "aa1fe355",
   "metadata": {},
   "source": [
    "## Retornar um valor na Function Python\n",
    "\n",
    "### Estrutura Básica"
   ]
  },
  {
   "cell_type": "raw",
   "id": "2a494431",
   "metadata": {},
   "source": [
    "def nome_funcao():\n",
    "    return valor_final"
   ]
  },
  {
   "cell_type": "markdown",
   "id": "4f8e800f",
   "metadata": {},
   "source": [
    "- Exemplo: vamos criar uma função de cadastro de um Produto. Essa função deve garantir que o produto cadastrado está em letra minúscula."
   ]
  },
  {
   "cell_type": "code",
   "execution_count": 233,
   "id": "a446d850",
   "metadata": {},
   "outputs": [],
   "source": [
    "def cadastrar_produto():\n",
    "    produto = input('Digite o nome do produto que deseja cadastrar')\n",
    "    produto = produto.casefold()\n",
    "    produto = produto.strip()\n",
    "    return produto"
   ]
  },
  {
   "cell_type": "code",
   "execution_count": 235,
   "id": "4e80b770",
   "metadata": {},
   "outputs": [
    {
     "name": "stdout",
     "output_type": "stream",
     "text": [
      "Digite o nome do produto que deseja cadastrarDADDDDoooooDODODODoDoDoDoDoDoD\n",
      "daddddooooodododododododododod\n"
     ]
    }
   ],
   "source": [
    "# A variável produto só existe dentro da function. Não é possível printar 'produto'.\n",
    "\n",
    "variavel_produto = cadastrar_produto()\n",
    "\n",
    "print(variavel_produto)"
   ]
  },
  {
   "cell_type": "markdown",
   "id": "ff39bbd3",
   "metadata": {},
   "source": [
    "## Argumentos/Parâmetros da Função\n",
    "\n",
    "### Estrutura:"
   ]
  },
  {
   "cell_type": "raw",
   "id": "e2d9753a",
   "metadata": {},
   "source": [
    "def minha_funcao(parametro1, parametro2, parametro3):\n",
    "    return parametro1 + parametro2 + parametro3"
   ]
  },
  {
   "cell_type": "markdown",
   "id": "db99aadc",
   "metadata": {},
   "source": [
    "- Exemplo: nosso famoso print"
   ]
  },
  {
   "cell_type": "code",
   "execution_count": 238,
   "id": "a60cdb60",
   "metadata": {},
   "outputs": [
    {
     "name": "stdout",
     "output_type": "stream",
     "text": [
      "texto\n",
      "Produto Iphone Vendas 50\n"
     ]
    }
   ],
   "source": [
    "print('texto')\n",
    "\n",
    "vendas = 50\n",
    "print('Produto', 'Iphone', 'Vendas', vendas)"
   ]
  },
  {
   "cell_type": "markdown",
   "id": "178c1cdf",
   "metadata": {},
   "source": [
    "- Só para mostrar o funcionamento, vamos criar uma função de soma"
   ]
  },
  {
   "cell_type": "code",
   "execution_count": 239,
   "id": "cd9e0be9",
   "metadata": {},
   "outputs": [
    {
     "name": "stdout",
     "output_type": "stream",
     "text": [
      "60\n"
     ]
    }
   ],
   "source": [
    "def minha_soma(num1, num2, num3):\n",
    "    return num1 + num2 + num3\n",
    "\n",
    "\n",
    "soma = minha_soma(10, 20, 30)\n",
    "print(soma)"
   ]
  },
  {
   "cell_type": "markdown",
   "id": "3fab1ea9",
   "metadata": {},
   "source": [
    "- Vamos criar uma function com parâmetro\n",
    "\n",
    "Digamos que estamos criando um programa para categorizar os produtos de uma revendedora de bebidas.\n",
    "\n",
    "Cada produto tem um código. O tipo de produto é dado pelas 3 primeiras letras do código.\n",
    "\n",
    "Ex:<br>\n",
    "Vinho -> BEB12302<br>\n",
    "Cerveja -> BEB12043<br>\n",
    "Vodka -> BEB34501<br>\n",
    "\n",
    "Guaraná -> BSA11104<br>\n",
    "Coca -> BSA54301<br>\n",
    "Sprite -> BSA34012<br>\n",
    "Água -> BSA09871<br>\n",
    "\n",
    "Repare que bebidas não alcóolicas começam com BSA e bebidas alcoolicas começam com BEB.\n",
    "\n",
    "Crie um programa que analise uma lista de produtos e envie instruções para a equipe de estoque dizendo quais produtos devem ser enviados para a área de bebidas alcóolicas."
   ]
  },
  {
   "cell_type": "code",
   "execution_count": 265,
   "id": "ac598f92",
   "metadata": {},
   "outputs": [
    {
     "name": "stdout",
     "output_type": "stream",
     "text": [
      "Enviar beb46275 para o setor de bebidas alcoólicas!\n",
      "Enviar BEB21365 para o setor de bebidas alcoólicas!\n",
      "Enviar BEB31623 para o setor de bebidas alcoólicas!\n",
      "Enviar BEB73344 para o setor de bebidas alcoólicas!\n",
      "Enviar BEB80694 para o setor de bebidas alcoólicas!\n",
      "Enviar BEB19495 para o setor de bebidas alcoólicas!\n",
      "Enviar BEB97471 para o setor de bebidas alcoólicas!\n",
      "Enviar BEB62362 para o setor de bebidas alcoólicas!\n",
      "Enviar BEB85146 para o setor de bebidas alcoólicas!\n",
      "Enviar BEB48898 para o setor de bebidas alcoólicas!\n",
      "Enviar BEB79496 para o setor de bebidas alcoólicas!\n",
      "Enviar BEB15385 para o setor de bebidas alcoólicas!\n",
      "Enviar BEB24213 para o setor de bebidas alcoólicas!\n",
      "Enviar BEB56262 para o setor de bebidas alcoólicas!\n",
      "Enviar BEB75073 para o setor de bebidas alcoólicas!\n"
     ]
    }
   ],
   "source": [
    "def ehalcoolico(bebida):\n",
    "    bebida = bebida.upper()\n",
    "    if 'BEB' in bebida:\n",
    "        return True\n",
    "    else:\n",
    "        return False\n",
    "\n",
    "produtos = ['beb46275','TFA23962','TFA64715','TFA69555','TFA56743','BSA45510','TFA44968','CAR75448','CAR23596','CAR13490','BEB21365','BEB31623','BSA62419','BEB73344','TFA20079','BEB80694','BSA11769','BEB19495','TFA14792','TFA78043','BSA33484','BEB97471','BEB62362','TFA27311','TFA17715','BEB85146','BEB48898','BEB79496','CAR38417','TFA19947','TFA58799','CAR94811','BSA59251','BEB15385','BEB24213','BEB56262','BSA96915','CAR53454','BEB75073']\n",
    "\n",
    "# 1) Percorrer toda a lista de produtos.\n",
    "# 2) Para cada produto, verificar se é uma bebida alcoólica.\n",
    "# 3) Se for bebida alcoólica, exibir a mensagem enviada.\n",
    "\n",
    "for produto in produtos:\n",
    "    if ehalcoolico(produto):\n",
    "        print('Enviar {} para o setor de bebidas alcoólicas!'.format(produto))"
   ]
  },
  {
   "cell_type": "code",
   "execution_count": 264,
   "id": "2540516d",
   "metadata": {},
   "outputs": [
    {
     "name": "stdout",
     "output_type": "stream",
     "text": [
      "Enviar BEB46275 para o setor de bebidas alcoólicas!\n",
      "Enviar BEB21365 para o setor de bebidas alcoólicas!\n",
      "Enviar BEB31623 para o setor de bebidas alcoólicas!\n",
      "Enviar BEB73344 para o setor de bebidas alcoólicas!\n",
      "Enviar BEB80694 para o setor de bebidas alcoólicas!\n",
      "Enviar BEB19495 para o setor de bebidas alcoólicas!\n",
      "Enviar BEB97471 para o setor de bebidas alcoólicas!\n",
      "Enviar BEB62362 para o setor de bebidas alcoólicas!\n",
      "Enviar BEB85146 para o setor de bebidas alcoólicas!\n",
      "Enviar BEB48898 para o setor de bebidas alcoólicas!\n",
      "Enviar BEB79496 para o setor de bebidas alcoólicas!\n",
      "Enviar BEB15385 para o setor de bebidas alcoólicas!\n",
      "Enviar BEB24213 para o setor de bebidas alcoólicas!\n",
      "Enviar BEB56262 para o setor de bebidas alcoólicas!\n",
      "Enviar BEB75073 para o setor de bebidas alcoólicas!\n"
     ]
    }
   ],
   "source": [
    "# Outra Forma de Fazer:\n",
    "    \n",
    "def beb_alcoolicas():\n",
    "    for bebida in produtos:\n",
    "        bebida = bebida.upper()\n",
    "        if 'BEB' in bebida:\n",
    "            print('Enviar {} para o setor de bebidas alcoólicas!'.format(bebida))"
   ]
  },
  {
   "cell_type": "markdown",
   "id": "6ccea3ac",
   "metadata": {},
   "source": [
    "## Mais de 1 argumento e formas de passar argumento para uma função\n",
    "\n",
    "### Estrutura:\n",
    "\n",
    "- 2 formas de passar o argumento:\n",
    "    1. Em ordem (positional argument)\n",
    "    2. Com o nome do argumento (keyword argument)"
   ]
  },
  {
   "cell_type": "markdown",
   "id": "b13c174a",
   "metadata": {},
   "source": [
    "- Vamos mudar a função que fizemos na aula passada para conseguir categorizar qualquer tipo de bebida de acordo com o \"rótulo\" passado para a nsosa function. Basicamente nossa function agora tem que verificar se o produto é da categoria passada ou não."
   ]
  },
  {
   "cell_type": "code",
   "execution_count": 266,
   "id": "7a2f403a",
   "metadata": {},
   "outputs": [
    {
     "name": "stdout",
     "output_type": "stream",
     "text": [
      "Enviar BSA45510 para setor de bebidas não alcóolicas\n",
      "Enviar BEB21365 para setor de bebidas alcóolicas\n",
      "Enviar BEB31623 para setor de bebidas alcóolicas\n",
      "Enviar BSA62419 para setor de bebidas não alcóolicas\n",
      "Enviar BEB73344 para setor de bebidas alcóolicas\n",
      "Enviar BEB80694 para setor de bebidas alcóolicas\n",
      "Enviar BSA11769 para setor de bebidas não alcóolicas\n",
      "Enviar BEB19495 para setor de bebidas alcóolicas\n",
      "Enviar BSA33484 para setor de bebidas não alcóolicas\n",
      "Enviar BEB97471 para setor de bebidas alcóolicas\n",
      "Enviar BEB62362 para setor de bebidas alcóolicas\n",
      "Enviar BEB85146 para setor de bebidas alcóolicas\n",
      "Enviar BEB48898 para setor de bebidas alcóolicas\n",
      "Enviar BEB79496 para setor de bebidas alcóolicas\n",
      "Enviar BSA59251 para setor de bebidas não alcóolicas\n",
      "Enviar BEB15385 para setor de bebidas alcóolicas\n",
      "Enviar BEB24213 para setor de bebidas alcóolicas\n",
      "Enviar BEB56262 para setor de bebidas alcóolicas\n",
      "Enviar BSA96915 para setor de bebidas não alcóolicas\n",
      "Enviar BEB75073 para setor de bebidas alcóolicas\n"
     ]
    }
   ],
   "source": [
    "def eh_da_categoria(bebida, cod_categoria):\n",
    "    bebida = bebida.upper()\n",
    "    if cod_categoria in bebida:\n",
    "        return True\n",
    "    else:\n",
    "        return False\n",
    "\n",
    "\n",
    "produtos = ['CAR46275','TFA23962','TFA64715','TFA69555','TFA56743','BSA45510','TFA44968','CAR75448','CAR23596','CAR13490','BEB21365','BEB31623','BSA62419','BEB73344','TFA20079','BEB80694','BSA11769','BEB19495','TFA14792','TFA78043','BSA33484','BEB97471','BEB62362','TFA27311','TFA17715','BEB85146','BEB48898','BEB79496','CAR38417','TFA19947','TFA58799','CAR94811','BSA59251','BEB15385','BEB24213','BEB56262','BSA96915','CAR53454','BEB75073']\n",
    "\n",
    "for produto in produtos:\n",
    "    if eh_da_categoria(produto, 'BEB'):\n",
    "        print('Enviar {} para setor de bebidas alcóolicas'.format(produto))\n",
    "    elif eh_da_categoria(produto, 'BSA'):\n",
    "        print('Enviar {} para setor de bebidas não alcóolicas'.format(produto))"
   ]
  },
  {
   "cell_type": "code",
   "execution_count": 274,
   "id": "b70300fd",
   "metadata": {},
   "outputs": [
    {
     "name": "stdout",
     "output_type": "stream",
     "text": [
      "Quantidade total de produtos:\n",
      "39\n",
      "TEXTO 1\n",
      "TEXTO 2\n",
      "Meus produtos são: ['CAR46275', 'TFA23962', 'TFA64715', 'TFA69555', 'TFA56743', 'BSA45510', 'TFA44968', 'CAR75448', 'CAR23596', 'CAR13490', 'BEB21365', 'BEB31623', 'BSA62419', 'BEB73344', 'TFA20079', 'BEB80694', 'BSA11769', 'BEB19495', 'TFA14792', 'TFA78043', 'BSA33484', 'BEB97471', 'BEB62362', 'TFA27311', 'TFA17715', 'BEB85146', 'BEB48898', 'BEB79496', 'CAR38417', 'TFA19947', 'TFA58799', 'CAR94811', 'BSA59251', 'BEB15385', 'BEB24213', 'BEB56262', 'BSA96915', 'CAR53454', 'BEB75073']\n"
     ]
    }
   ],
   "source": [
    "qtd_produtos = len(produtos)\n",
    "print('Quantidade total de produtos:', qtd_produtos, 'TEXTO 1', 'TEXTO 2', sep = '\\n')\n",
    "print('Meus produtos são:', produtos)\n",
    "\n",
    "# ENTER (Parâmetro): sep = '\\n'"
   ]
  },
  {
   "cell_type": "markdown",
   "id": "ba90726d",
   "metadata": {},
   "source": [
    "## Obs Importante: Sua função deve estar SEMPRE antes de ser usada.\n",
    "\n",
    "- Normalmente, nos nossos códigos, fazemos as definições de todas as funções antes e depois construimos o resto do código.\n",
    "- É comum dar '2 enters' após a definição da função para deixar o código mais organizado\n"
   ]
  },
  {
   "cell_type": "markdown",
   "id": "37e14fca",
   "metadata": {},
   "source": [
    "## Exercícios\n",
    "\n",
    "Para fazer um treino simples antes de avançarmos em mais functions, vamos criar uma function que resolve 1 \"desafio simples\"\n",
    "\n",
    "## 1. Function para Cálculo de Carga Tributária\n",
    "\n",
    "(Lembrando, não se atente ao funcionamento real da carga tributária, é apenas um exemplo imaginário para treinarmos as functions com algo mais prático)\n",
    "\n",
    "Imagine que você trabalha no setor contábil de uma grande empresa de Varejo. \n",
    "\n",
    "Crie uma function que calcule qual o % de carga tributária que está sendo aplicado sobre um determinado produto, dado o preço de venda, o \"lucro\" e os custos (com exceção do imposto) dele."
   ]
  },
  {
   "cell_type": "code",
   "execution_count": 278,
   "id": "734dbfad",
   "metadata": {},
   "outputs": [],
   "source": [
    "preco = 1500\n",
    "custo = 400\n",
    "lucro = 800"
   ]
  },
  {
   "cell_type": "markdown",
   "id": "af5ceb6c",
   "metadata": {},
   "source": [
    "Repare que preço - custo não é igual ao lucro, porque ainda foi descontado o imposto. Sua functiona deve calcular qual foi o % de imposto aplicado sobre o preço total."
   ]
  },
  {
   "cell_type": "code",
   "execution_count": 286,
   "id": "629badf4",
   "metadata": {},
   "outputs": [],
   "source": [
    "#crie sua function aqui\n",
    "def carga_tributaria(preco, custo, lucro):\n",
    "    calc_imposto = ((preco - custo - lucro) / preco)\n",
    "    return calc_imposto"
   ]
  },
  {
   "cell_type": "code",
   "execution_count": 287,
   "id": "7de27dcf",
   "metadata": {},
   "outputs": [
    {
     "name": "stdout",
     "output_type": "stream",
     "text": [
      "O percentual de imposto foi de: 20.00%\n"
     ]
    }
   ],
   "source": [
    "print('O percentual de imposto foi de: {:.2%}'.format(carga_tributaria(preco, custo, lucro)))"
   ]
  },
  {
   "cell_type": "markdown",
   "id": "683e8ef1",
   "metadata": {},
   "source": [
    "## Exemplos de parâmetros\n",
    "\n",
    "\n",
    "- upper() -> não tem parâmetros \n",
    "- sort() -> apenas parâmetros keyword\n",
    "- extend(lista) -> 1 parâmetro obrigatório\n",
    "- nossa função eh_da_categoria(bebida, cod_categoria) -> 2 parâmetros de posição obrigatórios"
   ]
  },
  {
   "cell_type": "code",
   "execution_count": null,
   "id": "147bf71b",
   "metadata": {},
   "outputs": [],
   "source": [
    "def eh_da_categoria(bebida, cod_categoria):\n",
    "    bebida = bebida.upper()\n",
    "    if cod_categoria in bebida:\n",
    "        return True\n",
    "    else:\n",
    "        return False"
   ]
  },
  {
   "cell_type": "code",
   "execution_count": 294,
   "id": "c2d42539",
   "metadata": {},
   "outputs": [
    {
     "name": "stdout",
     "output_type": "stream",
     "text": [
      "BEB12304\n",
      "[1555, 789, 500, 300, 240, 200, 100, 90, 60, 55, 50, 10]\n"
     ]
    }
   ],
   "source": [
    "#texto para upper\n",
    "cod_produto = 'beb12304'\n",
    "print(cod_produto.upper())\n",
    "\n",
    "# lista para sort e extend\n",
    "vendas_ano = [100, 200, 50, 90, 240, 300, 55, 10, 789, 60]\n",
    "vendas_novdez = [500, 1555]\n",
    "vendas_ano.extend(vendas_novdez)\n",
    "\n",
    "vendas_ano.sort(reverse = True)\n",
    "print(vendas_ano)"
   ]
  },
  {
   "cell_type": "markdown",
   "id": "ab43b6ed",
   "metadata": {},
   "source": [
    "## Valores Padrões para os argumentos\n",
    "\n",
    "### Estrutura\n",
    "\n",
    "- Nesse caso, você não é obrigado a passar o valor para usar a função, pode usar o valor padrão."
   ]
  },
  {
   "cell_type": "raw",
   "id": "894c5b67",
   "metadata": {},
   "source": [
    "def minha_funcao(argumento = valor_padrao):\n",
    "    ...\n",
    "    return ..."
   ]
  },
  {
   "cell_type": "markdown",
   "id": "b8f64353",
   "metadata": {},
   "source": [
    "- Como vimos, o sort() para listas tem um argumento padrão. O reverse = False é padrão, então a ordem é crescente. Caso o usuário queira fazer em ordem decrescente, o reverse deve ser alterado para True"
   ]
  },
  {
   "cell_type": "code",
   "execution_count": 296,
   "id": "ee9486ce",
   "metadata": {},
   "outputs": [
    {
     "name": "stdout",
     "output_type": "stream",
     "text": [
      "['airpods', 'apple tv', 'apple watch', 'iPad', 'iphone x', 'mac', 'mac book']\n",
      "['mac book', 'mac', 'iphone x', 'iPad', 'apple watch', 'apple tv', 'airpods']\n"
     ]
    }
   ],
   "source": [
    "produtos = ['apple tv', 'mac', 'iphone x', 'iPad', 'apple watch', 'mac book', 'airpods']\n",
    "\n",
    "produtos.sort()\n",
    "print(produtos)\n",
    "\n",
    "produtos.sort(reverse = True)\n",
    "print(produtos)"
   ]
  },
  {
   "cell_type": "markdown",
   "id": "dd235747",
   "metadata": {},
   "source": [
    "- Vamos criar uma função que padronize códigos de produtos. O default será padronizar os códigos para letras minúsculas (dado por 'm'), mas se o usuário quiser pode padronizar para maiúscula, dado por ('M')."
   ]
  },
  {
   "cell_type": "code",
   "execution_count": 304,
   "id": "67ec8fe7",
   "metadata": {},
   "outputs": [
    {
     "name": "stdout",
     "output_type": "stream",
     "text": [
      "['ABC12', 'ABC34', 'ABC37']\n"
     ]
    }
   ],
   "source": [
    "def padronizar_codigos(lista_codigos, padrao='m'):\n",
    "    for i, item in enumerate(lista_codigos):\n",
    "        item = item.replace('  ',' ')\n",
    "        item = item.strip()\n",
    "        if padrao == 'm':\n",
    "            item = item.casefold()\n",
    "        elif padrao == 'M':\n",
    "            item = item.upper()\n",
    "        lista_codigos[i] = item\n",
    "    return lista_codigos\n",
    "\n",
    "cod_produtos = [' ABC12 ', 'abc34', 'AbC37']\n",
    "print(padronizar_codigos(cod_produtos, padrao = 'M'))"
   ]
  },
  {
   "cell_type": "markdown",
   "id": "4758c1b8",
   "metadata": {},
   "source": [
    "# Aulas Python Impressionador - Bloco 17"
   ]
  },
  {
   "cell_type": "markdown",
   "id": "ea6a61b5",
   "metadata": {},
   "source": [
    "## Mais sobre o return\n",
    "\n",
    "### Pontos importantes:\n",
    "\n",
    "- Podemos usar no return praticamente qualquer tipo de objeto: (número, string, lista, tupla, dicionário, outros objetos, etc.)\n",
    "- O return, se for executado, encerra a função, mesmo que dentro dela haja um loop."
   ]
  },
  {
   "cell_type": "code",
   "execution_count": 316,
   "id": "e9bb8950",
   "metadata": {},
   "outputs": [],
   "source": [
    "#retornar um número\n",
    "def minha_soma(num1, num2, num3):\n",
    "    return num1 + num2 + num3\n",
    "\n",
    "#retornar um texto\n",
    "def padronizar_texto(texto):\n",
    "    texto = texto.casefold()\n",
    "    texto = texto.replace(\"  \", \" \")\n",
    "    texto = texto.strip()\n",
    "    return texto\n",
    "\n",
    "#retornar um boolean\n",
    "def bateu_meta(vendas, meta):\n",
    "    if vendas >= meta:\n",
    "        return True\n",
    "    else:\n",
    "        return False\n",
    "    \n",
    "#retornar uma lista, tupla ou dicionario\n",
    "def filtrar_lista_texto(lista, pedaco_texto):\n",
    "    lista_filtrada = []\n",
    "    for item in lista:\n",
    "        if pedaco_texto in item:\n",
    "            lista_filtrada.append(item)\n",
    "    return lista_filtrada"
   ]
  },
  {
   "cell_type": "code",
   "execution_count": 307,
   "id": "d11b7520",
   "metadata": {},
   "outputs": [
    {
     "name": "stdout",
     "output_type": "stream",
     "text": [
      "José bateu a meta\n"
     ]
    }
   ],
   "source": [
    "vendas_jose = 500\n",
    "meta = 150\n",
    "\n",
    "if bateu_meta(vendas_jose, meta):\n",
    "    print('José bateu a meta')"
   ]
  },
  {
   "cell_type": "code",
   "execution_count": 317,
   "id": "ccf7ea36",
   "metadata": {},
   "outputs": [
    {
     "name": "stdout",
     "output_type": "stream",
     "text": [
      "['lira@gmail.com', 'joao@gmail.com', 'alon@gmail.com']\n"
     ]
    }
   ],
   "source": [
    "lista_textos = ['lira@gmail.com', 'zezinho@hotmail.com', 'joao@gmail.com', 'alon@gmail.com']\n",
    "\n",
    "lista = filtrar_lista_texto(lista_textos, 'gmail')\n",
    "print(lista)"
   ]
  },
  {
   "cell_type": "markdown",
   "id": "449c0813",
   "metadata": {},
   "source": [
    "## Exercícios\n",
    "\n",
    "## 1. Function para Análise de Indicadores\n",
    "\n",
    "A maioria das empresas tem suas próprias regras para cálculos de indicadores.\n",
    "\n",
    "- Algumas empresas definem que um cliente é considerado um cliente inadimplente quando ele está devendo acima de X reais e por mais de X dias.\n",
    "- Algumas empresas definem que um vendedor bateu a meta quando ele vendeu acima de X reais (outras ainda analisam não só as vendas desse vendedor, mas também da loja ou da unidade de negócios que ele faz parte, ou ainda uma avaliação qualitativa)\n",
    "- Algumas empresas definem que um produto está em \"falta\" no estoque quando ele está abaixo de um nível mínimo quando um cliente insere um novo pedido daquele produto\n",
    "- E assim vai para dezenas de indicadores.\n",
    "\n",
    "O ponto importante é, cada empresa tem alguma adaptação do cálculo de indicadores. E normalmente se formos analisar esses indicadores é interessante ter funções que façam todo o trabalho de análise deles. Por isso, vamos construir 2 exemplos aqui:"
   ]
  },
  {
   "cell_type": "markdown",
   "id": "5f803fd7",
   "metadata": {},
   "source": [
    "### Item 1: Crie uma função que calcula o percentual de Stockout de uma empresa\n",
    "\n",
    "- O % de stockout é dado por (Vendas Perdidas por Estoque) / (Vendas Concluídas + Vendas Perdidas por Estoque) -> essas vendas são dadas em valor total (dinheiro) e não em quantidade de vendas\n",
    "- Seu programa recebe um dicionário com todas as vendas da empresa, o status dela (se foi Concluída ou Cancelada) e, caso tenha sido Cancelada, o motivo de Cancelamento. O formato é o seguinte:"
   ]
  },
  {
   "cell_type": "code",
   "execution_count": null,
   "id": "573bc3f2",
   "metadata": {},
   "outputs": [],
   "source": [
    "vendas = {\n",
    "    'VE0001': (15000, 'Concluído', ''),\n",
    "    'VE0002': (13300, 'Cancelado', 'Cancelado pelo Cliente'),\n",
    "    'VE0003': (12000, 'Concluído', ''),\n",
    "    ...\n",
    "}"
   ]
  },
  {
   "cell_type": "markdown",
   "id": "3f1a1f5a",
   "metadata": {},
   "source": [
    "- Para reforçar: As vendas Canceladas por qualquer outro motivo que não seja a Falta de Estoque não devem ser consideradas para a conta do Stockout."
   ]
  },
  {
   "cell_type": "code",
   "execution_count": 322,
   "id": "1d590c0b",
   "metadata": {},
   "outputs": [],
   "source": [
    "vendas = {'VE0001': (9868,'Concluído',''),'VE0002': (9642,'Concluído',''),'VE0003': (6007,'Concluído',''),'VE0004': (15562,'Concluído',''),'VE0005': (18752,'Cancelado','Estoque em Falta'),'VE0006': (16358,'Cancelado','Estoque em Falta'),'VE0007': (17045,'Concluído',''),'VE0008': (12230,'Concluído',''),'VE0009': (6747,'Concluído',''),'VE0010': (15114,'Concluído',''),'VE0011': (12497,'Concluído',''),'VE0012': (6001,'Concluído',''),'VE0013': (16227,'Cancelado','Cancelada pelo Cliente'),'VE0014': (16150,'Concluído',''),'VE0015': (17705,'Concluído',''),'VE0016': (9978,'Concluído',''),'VE0017': (4266,'Concluído',''),'VE0018': (11531,'Concluído',''),'VE0019': (10352,'Cancelado','Cancelada pelo Cliente'),'VE0020': (16544,'Concluído',''),'VE0021': (15488,'Concluído',''),'VE0022': (15828,'Concluído',''),'VE0023': (1218,'Concluído',''),'VE0024': (11560,'Concluído',''),'VE0025': (14220,'Concluído',''),'VE0026': (17839,'Concluído',''),'VE0027': (4050,'Concluído',''),'VE0028': (7594,'Cancelado','Estoque em Falta'),'VE0029': (19586,'Concluído',''),'VE0030': (8453,'Concluído',''),'VE0031': (3589,'Concluído',''),'VE0032': (13472,'Cancelado','Cancelada pelo Cliente'),'VE0033': (16994,'Concluído',''),'VE0034': (2139,'Concluído',''),'VE0035': (10173,'Concluído',''),'VE0036': (17784,'Cancelado','Estoque em Falta'),'VE0037': (12214,'Concluído',''),'VE0038': (5878,'Concluído',''),'VE0039': (2622,'Concluído',''),'VE0040': (9765,'Concluído',''),'VE0041': (8872,'Concluído',''),'VE0042': (16543,'Concluído',''),'VE0043': (8994,'Concluído',''),'VE0044': (4332,'Concluído',''),'VE0045': (19679,'Concluído',''),'VE0046': (14968,'Concluído',''),'VE0047': (6352,'Concluído',''),'VE0048': (11461,'Concluído',''),'VE0049': (5285,'Concluído',''),'VE0050': (11639,'Concluído',''),'VE0051': (6023,'Concluído',''),'VE0052': (4943,'Concluído',''),'VE0053': (5654,'Concluído',''),'VE0054': (11734,'Concluído',''),'VE0055': (2742,'Concluído',''),'VE0056': (5380,'Cancelado','Estoque em Falta'),'VE0057': (5578,'Concluído',''),'VE0058': (1897,'Concluído',''),'VE0059': (7857,'Concluído',''),'VE0060': (4472,'Concluído',''),'VE0061': (19874,'Concluído',''),'VE0062': (13323,'Cancelado','Cancelada pelo Cliente'),'VE0063': (5821,'Concluído',''),'VE0064': (4410,'Concluído',''),'VE0065': (16676,'Concluído',''),'VE0066': (10577,'Concluído',''),'VE0067': (10627,'Concluído',''),'VE0068': (1987,'Concluído',''),'VE0069': (13197,'Concluído',''),'VE0070': (15063,'Concluído',''),'VE0071': (14363,'Concluído',''),'VE0072': (10452,'Concluído',''),'VE0073': (15376,'Concluído',''),'VE0074': (4661,'Concluído',''),'VE0075': (13287,'Concluído',''),'VE0076': (8278,'Concluído',''),'VE0077': (7134,'Concluído',''),'VE0078': (16568,'Concluído',''),'VE0079': (17732,'Concluído',''),'VE0080': (5127,'Concluído',''),'VE0081': (4582,'Concluído',''),'VE0082': (14804,'Cancelado','Cancelada pelo Cliente'),'VE0083': (12362,'Concluído',''),'VE0084': (1148,'Concluído',''),'VE0085': (14018,'Concluído',''),'VE0086': (15891,'Concluído',''),'VE0087': (4517,'Concluído',''),'VE0088': (1770,'Concluído',''),'VE0089': (14926,'Concluído',''),'VE0090': (13627,'Concluído',''),'VE0091': (3047,'Concluído',''),'VE0092': (13924,'Concluído',''),'VE0093': (7158,'Concluído',''),'VE0094': (5942,'Concluído',''),'VE0095': (13480,'Concluído',''),'VE0096': (17686,'Concluído',''),'VE0097': (5722,'Cancelado','Cancelada pelo Cliente'),'VE0098': (16963,'Concluído',''),'VE0099': (14225,'Concluído',''),'VE0100': (12553,'Concluído',''),'VE0101': (18047,'Concluído',''),'VE0102': (11420,'Concluído',''),'VE0103': (6191,'Concluído',''),'VE0104': (8388,'Concluído',''),'VE0105': (17210,'Concluído',''),'VE0106': (12217,'Concluído',''),'VE0107': (8984,'Concluído',''),'VE0108': (7638,'Cancelado','Cancelada pelo Cliente'),'VE0109': (8462,'Concluído',''),'VE0110': (14081,'Concluído',''),'VE0111': (10842,'Concluído',''),'VE0112': (13261,'Concluído',''),'VE0113': (16953,'Cancelado','Estoque em Falta'),'VE0114': (5343,'Concluído',''),'VE0115': (4734,'Concluído',''),'VE0116': (13606,'Cancelado','Cancelada pelo Cliente'),'VE0117': (17106,'Cancelado','Estoque em Falta'),'VE0118': (17704,'Concluído',''),'VE0119': (12242,'Concluído',''),'VE0120': (7476,'Cancelado','Estoque em Falta'),'VE0121': (18408,'Concluído',''),'VE0122': (13612,'Concluído',''),'VE0123': (18198,'Concluído',''),'VE0124': (4844,'Concluído',''),'VE0125': (12750,'Concluído',''),'VE0126': (11969,'Concluído',''),'VE0127': (15337,'Concluído',''),'VE0128': (1100,'Concluído',''),'VE0129': (18893,'Concluído',''),'VE0130': (15850,'Concluído',''),'VE0131': (2097,'Concluído',''),'VE0132': (11636,'Cancelado','Estoque em Falta'),'VE0133': (12603,'Concluído',''),'VE0134': (10769,'Concluído',''),'VE0135': (11016,'Concluído',''),'VE0136': (14556,'Concluído',''),'VE0137': (1389,'Concluído',''),'VE0138': (11681,'Concluído',''),'VE0139': (16759,'Cancelado','Cancelada pelo Cliente'),'VE0140': (16317,'Concluído',''),'VE0141': (5965,'Concluído',''),'VE0142': (4493,'Concluído',''),'VE0143': (5398,'Concluído',''),'VE0144': (9875,'Concluído',''),'VE0145': (17492,'Concluído',''),'VE0146': (7473,'Concluído',''),'VE0147': (10284,'Concluído',''),'VE0148': (10778,'Concluído',''),'VE0149': (2227,'Concluído',''),'VE0150': (14157,'Concluído',''),'VE0151': (9516,'Concluído',''),'VE0152': (9824,'Concluído',''),'VE0153': (5118,'Concluído',''),'VE0154': (5123,'Concluído',''),'VE0155': (2697,'Concluído',''),'VE0156': (19024,'Concluído',''),'VE0157': (5128,'Concluído',''),'VE0158': (8293,'Cancelado','Estoque em Falta'),'VE0159': (18782,'Concluído',''),'VE0160': (12182,'Concluído',''),'VE0161': (9063,'Concluído',''),'VE0162': (17608,'Concluído',''),'VE0163': (8456,'Cancelado','Cancelada pelo Cliente'),'VE0164': (1291,'Concluído',''),'VE0165': (14018,'Concluído',''),'VE0166': (2791,'Concluído',''),'VE0167': (17953,'Concluído',''),'VE0168': (14627,'Concluído',''),'VE0169': (3296,'Concluído',''),'VE0170': (1863,'Concluído',''),'VE0171': (4719,'Concluído',''),'VE0172': (15060,'Concluído',''),'VE0173': (2596,'Cancelado','Cancelada pelo Cliente'),'VE0174': (4919,'Concluído',''),'VE0175': (13770,'Concluído',''),'VE0176': (15041,'Cancelado','Estoque em Falta'),'VE0177': (6702,'Concluído',''),'VE0178': (9989,'Concluído',''),'VE0179': (5135,'Concluído',''),'VE0180': (13337,'Concluído',''),'VE0181': (13457,'Concluído',''),'VE0182': (17218,'Concluído',''),'VE0183': (6424,'Concluído',''),'VE0184': (5478,'Concluído',''),'VE0185': (10478,'Cancelado','Cancelada pelo Cliente'),'VE0186': (3240,'Concluído',''),'VE0187': (16503,'Concluído',''),'VE0188': (12762,'Concluído',''),'VE0189': (6985,'Cancelado','Cancelada pelo Cliente'),'VE0190': (13013,'Concluído',''),'VE0191': (5706,'Concluído',''),'VE0192': (6521,'Cancelado','Estoque em Falta'),'VE0193': (12904,'Concluído',''),'VE0194': (14691,'Concluído',''),'VE0195': (19338,'Concluído',''),'VE0196': (4556,'Cancelado','Cancelada pelo Cliente'),'VE0197': (9653,'Concluído',''),'VE0198': (4617,'Concluído',''),'VE0199': (4717,'Concluído',''),'VE0200': (8366,'Concluído','')}"
   ]
  },
  {
   "cell_type": "code",
   "execution_count": 323,
   "id": "7ca26e47",
   "metadata": {},
   "outputs": [],
   "source": [
    "#sua function aqui\n",
    "\n",
    "def calculo_stockout(dicionario_vendas):\n",
    "    numerador = 0\n",
    "    denominador = 0\n",
    "    for venda in dicionario_vendas:\n",
    "        valor, status, motivo = dicionario_vendas[venda]\n",
    "        if status == 'Concluído':\n",
    "            denominador += valor\n",
    "        elif status == 'Cancelado' and motivo == 'Estoque em Falta':\n",
    "            denominador += valor\n",
    "            numerador += valor\n",
    "    return numerador / denominador"
   ]
  },
  {
   "cell_type": "code",
   "execution_count": 324,
   "id": "4d363c26",
   "metadata": {},
   "outputs": [
    {
     "name": "stdout",
     "output_type": "stream",
     "text": [
      "7.65%\n"
     ]
    }
   ],
   "source": [
    "#rode sua function aqui com o dicionário dado para ver se ela está funcionando\n",
    "\n",
    "print('{:.2%}'.format(calculo_stockout(vendas)))"
   ]
  },
  {
   "cell_type": "markdown",
   "id": "924d6d4e",
   "metadata": {},
   "source": [
    "### Item 2: Crie uma função para descobrir os clientes inadimplentes de uma empresa\n",
    "\n",
    "- O objetivo é identificar quem são os clientes inadimplentes e enviar essa lista de clientes para o setor de cobrança poder fazer a cobrança dos clientes.\n",
    "- Sua função deve então receber uma lista de clientes, analisar quais clientes estão inadimplentes, e retornar uma lista com os clientes inadimplentes (apenas o CPF deles já é suficiente)\n",
    "- A inadimplência nessa empresa é calculada da seguinte forma:\n",
    "    1. Se o cliente tiver devendo mais de 1.000 reais por mais de 20 dias, ele é considerado inadimplente.\n",
    "    2. Isso significa que caso ou cliente esteja devendo 2.000 reais a 10 dias, ele não é inadimplente, pois não se passaram 20 dias ainda. Da mesma forma, se ele estiver devendo 500 reais por 40 dias, ele também não é inadimplente, dado que ele deve menos de 1.000 reais.\n",
    "    3. As informações vêm no formato (cpf, valor_devido, qtde de dias)"
   ]
  },
  {
   "cell_type": "code",
   "execution_count": 337,
   "id": "e624cec7",
   "metadata": {},
   "outputs": [],
   "source": [
    "clientes_devedores = [('462.286.561-65',14405,24),('251.569.170-81',16027,1),('297.681.579-21',8177,28),('790.223.154-40',9585,10),('810.442.219-10',18826,29),('419.210.299-79',11421,15),('908.507.760-43',12445,24),('911.238.364-17',1345,4),('131.115.339-28',11625,8),('204.169.467-27',5364,22),('470.806.376-11',932,29),('938.608.980-69',13809,19),('554.684.165-26',11227,2),('119.225.846-34',4475,9),('358.890.858-95',13932,20),('786.547.940-70',17048,25),('468.487.741-94',2902,8),('540.685.100-32',5806,21),('379.729.796-80',7622,24),('980.173.363-94',13167,24),('833.285.374-56',19581,24),('103.669.436-50',17126,4),('386.836.124-46',18825,11),('588.404.964-15',1545,30),('600.556.177-18',1921,7),('670.346.230-99',18079,28),('771.352.915-13',16581,23),('430.314.324-46',13942,24),('629.507.759-51',17951,11),('348.683.225-73',12424,10),('406.133.151-17',5888,30),('310.985.894-64',17316,30),('964.317.132-30',18818,30),('845.331.524-14',14284,13),('781.995.738-18',19369,29),('921.558.128-63',3206,27),('941.386.982-65',10228,26),('551.135.290-10',18822,18),('537.124.578-35',12670,6),('119.383.169-76',790,20),('938.473.410-98',8851,5),('279.775.182-54',5212,20),('210.872.954-53',13569,8),('684.995.531-65',8649,21),('653.886.282-57',504,28),('973.580.738-53',2533,9),('285.864.892-85',8200,21),('777.154.423-98',10336,8),('769.786.401-34',3233,12),('521.566.565-97',11882,14),('491.799.681-92',653,8),('344.357.819-36',8856,18),('265.362.581-99',8962,8),('331.410.527-56',18516,18),('143.188.958-61',7234,29),('751.630.472-61',13552,6),('714.707.807-80',2898,7),('585.584.932-83',239,25),('165.554.107-13',9572,23),('718.225.984-87',10534,25),('611.715.653-32',3210,11),('397.994.286-79',13651,24),('967.160.575-69',8997,25),('369.750.998-94',13952,2),('767.400.554-79',18320,11),('171.104.286-74',5821,21),('152.817.649-24',3358,30),('645.308.846-62',15176,25),('273.884.570-92',4436,13),('888.818.341-45',15730,3),('577.836.712-40',14670,16),('513.529.919-95',4002,1),('201.476.809-95',17442,21),('657.816.571-87',1582,2),('810.494.975-87',2157,9),('531.749.410-17',12355,18),('486.290.887-24',18576,26),('432.376.642-62',8027,23),('207.274.437-91',5125,29),('634.244.673-72',11387,15),('346.871.172-72',8105,23),('166.330.605-50',7865,11),('829.181.731-94',2425,8),('197.305.464-63',9681,8),('887.877.706-59',15681,10),('847.598.885-51',323,23),('817.170.984-26',5169,27),('591.397.550-29',13362,25),('872.733.198-95',5756,18),('615.629.238-82',11678,23),('194.782.846-77',11044,17),('146.392.158-88',6848,4),('240.427.458-70',3906,25),('583.662.427-52',3306,5),('841.627.523-64',4778,4),('985.337.216-77',15308,4),('912.410.722-57',11683,6),('700.720.266-23',12638,21),('605.405.529-53',3831,3),('383.256.402-25',2599,10),('248.103.486-68',9121,1),('261.974.594-90',2139,26),('297.126.704-91',18529,16),('680.569.318-52',10176,23),('296.334.647-38',225,13),('200.761.898-70',16244,20),('258.232.687-17',19462,18),('597.295.672-38',18840,11),('894.479.102-52',11375,12),('556.156.341-36',16269,23),('987.874.553-86',11253,17),('248.927.998-94',6510,1),('852.796.660-25',2662,23),('741.370.204-36',9303,16),('536.714.951-95',2877,23),('320.395.830-44',14554,5),('520.645.562-80',17547,24),('553.700.674-28',3147,14),('913.525.896-32',17651,28),('750.456.495-86',11524,9),('246.171.748-38',15184,4),('760.248.897-67',4953,25),('920.890.990-46',17172,20),('805.469.913-50',17500,21),('878.594.225-48',6255,3),('356.715.924-36',3454,13),('847.150.802-96',8602,22),('625.846.640-53',10888,19),('539.300.108-41',11225,21),('549.151.467-76',1286,21),('738.451.908-29',18905,22),('987.288.834-69',17533,25),('898.532.296-94',9719,11),('620.531.607-13',13584,10),('169.415.202-43',1871,29),('757.885.355-97',18150,28),('252.581.376-21',2497,3),('177.937.460-78',7178,8),('523.895.611-54',9878,26),('883.680.201-23',16761,3),('936.678.268-71',11017,9),('871.912.703-73',1754,9),('957.749.478-56',6914,9),('725.636.354-80',8605,13),('898.316.244-33',14363,12),('894.748.325-28',2764,3),('647.106.954-60',1482,6),('628.716.937-98',14107,8),('332.677.483-83',19146,15),('186.870.928-82',17050,12),('216.248.879-71',4384,16),('287.929.269-44',4894,19),('278.335.932-42',17220,13),('824.107.287-13',11797,7),('535.354.954-30',9195,22),('311.762.241-12',13871,2),('209.759.133-88',13580,21),('505.728.766-53',16950,13),('879.471.988-23',17427,14),('772.329.947-39',3462,8),('321.123.241-10',2592,22),('407.342.963-78',11435,21),('786.935.637-47',14240,9),('461.791.351-55',142,2),('770.920.161-42',1247,24),('639.870.185-59',6430,10),('815.943.237-83',19550,22),('141.774.255-61',17866,13),('379.995.400-37',9503,29),('261.103.178-64',19167,13),('495.461.913-57',12265,29),('498.848.750-79',14549,16),('578.770.731-84',1462,5),('408.987.269-72',5647,28),('191.970.336-40',6313,15),('761.137.848-34',10654,23),('810.512.154-21',14928,1),('256.371.788-38',7085,2),('216.401.188-57',1531,23),('956.318.620-43',6327,22),('986.516.478-33',3866,25),('105.665.555-60',7118,4),('259.228.430-72',1601,8),('133.627.971-58',10142,14),('327.988.845-70',14985,23),('363.167.322-63',17236,7),('189.986.406-38',16888,18),('661.194.373-45',7824,1),('805.728.877-53',514,10),('887.826.412-21',15977,24),('122.975.174-32',9409,25),('456.550.370-55',19922,18),('388.243.133-66',19785,17),('208.788.890-61',11893,22),('881.332.662-49',6344,16),('912.349.944-52',6858,15),('534.904.583-32',9559,11),('825.175.334-25',19805,15),('339.191.298-46',13325,8),('569.993.915-78',4339,15)]\n"
   ]
  },
  {
   "cell_type": "code",
   "execution_count": 342,
   "id": "778d73d3",
   "metadata": {},
   "outputs": [],
   "source": [
    "#sua function aqui\n",
    "\n",
    "def clientes_inadimplentes(lista_devedores):\n",
    "    lista_inadimplentes = []\n",
    "    for cliente in lista_devedores:\n",
    "        cpf, valor_devido, qtd_dias = cliente\n",
    "        if valor_devido > 1000 and qtd_dias > 20:\n",
    "            lista_inadimplentes.append(cpf)\n",
    "    return lista_inadimplentes\n",
    "\n"
   ]
  },
  {
   "cell_type": "code",
   "execution_count": 345,
   "id": "f4b5bbf0",
   "metadata": {},
   "outputs": [
    {
     "name": "stdout",
     "output_type": "stream",
     "text": [
      "Lista de Inadimplentes: ['462.286.561-65', '297.681.579-21', '810.442.219-10', '908.507.760-43', '204.169.467-27', '786.547.940-70', '540.685.100-32', '379.729.796-80', '980.173.363-94', '833.285.374-56', '588.404.964-15', '670.346.230-99', '771.352.915-13', '430.314.324-46', '406.133.151-17', '310.985.894-64', '964.317.132-30', '781.995.738-18', '921.558.128-63', '941.386.982-65', '684.995.531-65', '285.864.892-85', '143.188.958-61', '165.554.107-13', '718.225.984-87', '397.994.286-79', '967.160.575-69', '171.104.286-74', '152.817.649-24', '645.308.846-62', '201.476.809-95', '486.290.887-24', '432.376.642-62', '207.274.437-91', '346.871.172-72', '817.170.984-26', '591.397.550-29', '615.629.238-82', '240.427.458-70', '700.720.266-23', '261.974.594-90', '680.569.318-52', '556.156.341-36', '852.796.660-25', '536.714.951-95', '520.645.562-80', '913.525.896-32', '760.248.897-67', '805.469.913-50', '847.150.802-96', '539.300.108-41', '549.151.467-76', '738.451.908-29', '987.288.834-69', '169.415.202-43', '757.885.355-97', '523.895.611-54', '535.354.954-30', '209.759.133-88', '321.123.241-10', '407.342.963-78', '770.920.161-42', '815.943.237-83', '379.995.400-37', '495.461.913-57', '408.987.269-72', '761.137.848-34', '216.401.188-57', '956.318.620-43', '986.516.478-33', '327.988.845-70', '887.826.412-21', '122.975.174-32', '208.788.890-61']\n"
     ]
    }
   ],
   "source": [
    "#rode sua function aqui com a lista dada para ver se está funcionando\n",
    "\n",
    "print('Lista de Inadimplentes: {}'.format(clientes_inadimplentes(clientes_devedores)))"
   ]
  },
  {
   "cell_type": "markdown",
   "id": "ea4d27f3",
   "metadata": {},
   "source": [
    "## Como \"retornar\" mais de um objeto\n",
    "\n",
    "- É possível retornar 2 \"coisas\"? 2 listas, 2 strings, 2 números...\n",
    "    - Sim, basta retornar como uma tupla com 2 itens (vamos fazer um exemplo)"
   ]
  },
  {
   "cell_type": "code",
   "execution_count": 348,
   "id": "e226d55d",
   "metadata": {},
   "outputs": [],
   "source": [
    "def operacoes_basicas(num1, num2):\n",
    "    soma = num1 + num2\n",
    "    diferenca = num1 - num2\n",
    "    mult = num1 * num2\n",
    "    divisao = num1 / num2\n",
    "    return soma, diferenca, mult, divisao"
   ]
  },
  {
   "cell_type": "code",
   "execution_count": 349,
   "id": "2501c5da",
   "metadata": {},
   "outputs": [
    {
     "name": "stdout",
     "output_type": "stream",
     "text": [
      "[12, 8, 20, 5.0]\n"
     ]
    }
   ],
   "source": [
    "print(operacoes_basicas(10, 2))"
   ]
  },
  {
   "cell_type": "markdown",
   "id": "55db76bb",
   "metadata": {},
   "source": [
    "## Exercícios\n",
    "\n",
    "### Antes de irmos para o desafio que apresentamos na última aula (que é bem mais complexo do que um exemplo simples) vamos resolver um exercício um pouco mais simples para treinar\n",
    "\n",
    "## 1. Cálculo do Percentual e da Lista de Vendedores\n",
    "\n",
    "- Queremos criar uma function que consiga identificar os vendedores que bateram uma meta, mas além disso, consigo já me dar como resposta o cálculo do % da lista de vendedores que bateu a meta (para eu não precisar calcular manualmente depois)\n",
    "- Essa function deve receber 2 informações como parâmetro: a meta e um dicionário com os vendedores e suas vendas. E me dar 2 respostas: uma lista com o nome dos vendedores que bateram a meta e o % de vendedores que bateu a meta."
   ]
  },
  {
   "cell_type": "code",
   "execution_count": 368,
   "id": "43d0a6c8",
   "metadata": {},
   "outputs": [],
   "source": [
    "meta = 10000\n",
    "vendas = {\n",
    "    'João': 15000,\n",
    "    'Julia': 27000,\n",
    "    'Marcus': 9900,\n",
    "    'Maria': 3750,\n",
    "    'Ana': 10300,\n",
    "    'Alon': 7870,\n",
    "}"
   ]
  },
  {
   "cell_type": "code",
   "execution_count": 378,
   "id": "e52bdad3",
   "metadata": {},
   "outputs": [],
   "source": [
    "# Crie sua function aqui\n",
    "\n",
    "\n",
    "def meta_vendedores(meta, dic_vendedores):\n",
    "    list_bateu_meta = []\n",
    "    for vendedor in dic_vendedores:\n",
    "        if dic_vendedores[vendedor] >= meta:\n",
    "            list_bateu_meta.append(vendedor)\n",
    "    total_bateu_meta = len(list_bateu_meta)\n",
    "    total_geral = len(dic_vendedores)\n",
    "    media = total_bateu_meta / total_geral\n",
    "    return media, list_bateu_meta"
   ]
  },
  {
   "cell_type": "code",
   "execution_count": 384,
   "id": "cbb1ba64",
   "metadata": {},
   "outputs": [
    {
     "name": "stdout",
     "output_type": "stream",
     "text": [
      "(0.5, ['João', 'Julia', 'Ana'])\n"
     ]
    }
   ],
   "source": [
    "# Aplique sua function nas informações para ver se está funcionando\n",
    "\n",
    "print(meta_vendedores(meta, vendas))"
   ]
  },
  {
   "cell_type": "markdown",
   "id": "5c028fc3",
   "metadata": {},
   "source": [
    "### Aplicação\n",
    "\n",
    "- Data Science e Inteligência Artificial usa MUITO isso.\n",
    "\n",
    "    1. Quando criamos um modelo de previsão, precisamos treinar esse modelo e testar para ver se ele sendo um bom modelo ou não.\n",
    "    2. Temos então que pegar os nossos dados e dividir em 2 pedaços, uma lista de treino e uma lista de teste.\n",
    "    3. Vamos então pensar no exemplo de um modelo que tenta identificar qual o valor justo de um imóvel de acordo com o tamanho do imóvel. Temos então 2 listas:\n",
    "        - Lista 1: Preços Reais dos Imóveis\n",
    "        - Lista 2: Tamanho do imóvel.\n",
    "    4. Vamos criar então uma função que recebe 2 listas como entrada e que divide cada uma dessas listas em 2, um pedaço de treino e um pedaço de teste. O percentual que a lista vai ser dividida é definida por um fator (que também vai ser um parâmetro da função)"
   ]
  },
  {
   "cell_type": "code",
   "execution_count": 386,
   "id": "6dd5f412",
   "metadata": {},
   "outputs": [
    {
     "name": "stdout",
     "output_type": "stream",
     "text": [
      "[2.17, 1.54, 1.45, 1.94, 2.37, 2.3, 1.79, 1.8]\n",
      "[2.25, 1.37]\n"
     ]
    }
   ],
   "source": [
    "#exemplo mais simples para facilitar a visualização\n",
    "precos_imoveis = [2.17,1.54,1.45,1.94,2.37,2.3,1.79,1.8,2.25,1.37]\n",
    "tamanho_imoveis = [207,148,130,203,257,228,160,194,232,147]\n",
    "\n",
    "# Vamos definir qual o fator que vamos dividir as listas (ou seja, quantos % da lista vai ficar pra teste. O resto fica pra treino)\n",
    "#Vamos usar 0.1 (10%)\n",
    "fator = 0.2\n",
    "\n",
    "#Isso significa que a lista de teste tem quantos itens?\n",
    "i = int((1 - fator) * len(precos_imoveis))\n",
    "\n",
    "#Agora vamos entender qual conta temos que fazer para dividir a lista em 2 listas. Uma com 90% dos valores e outra com 10%\n",
    "precos_treino = precos_imoveis[:i]\n",
    "precos_teste = precos_imoveis[i:]\n",
    "\n",
    "print(precos_treino)\n",
    "print(precos_teste)"
   ]
  },
  {
   "cell_type": "code",
   "execution_count": 396,
   "id": "3af64997",
   "metadata": {},
   "outputs": [
    {
     "name": "stdout",
     "output_type": "stream",
     "text": [
      "([2.17, 1.54, 1.45, 1.94, 2.37, 2.3, 1.79, 1.8, 2.25], [1.37], [207, 148, 130, 203, 257, 228, 160, 194, 232], [147])\n",
      "-----------\n",
      "Preços Treino: [2.17, 1.54, 1.45, 1.94, 2.37, 2.3, 1.79, 1.8, 2.25]\n",
      "Preços Teste: [1.37]\n",
      "Tamanho Treino: [207, 148, 130, 203, 257, 228, 160, 194, 232]\n",
      "Tamanho Teste: [147]\n"
     ]
    }
   ],
   "source": [
    "precos_imoveis = [2.17,1.54,1.45,1.94,2.37,2.3,1.79,1.8,2.25,1.37]\n",
    "tamanho_imoveis = [207,148,130,203,257,228,160,194,232,147]\n",
    "\n",
    "def separar_listas(precos, tamanhos, fator=0.1):\n",
    "    if len(precos) == len(tamanhos):\n",
    "        i = int((1 - fator) * len(precos))\n",
    "        precos_imoveis_treino = precos[:i]\n",
    "        precos_imoveis_teste = precos[i:]\n",
    "        tamanho_imoveis_teste = tamanhos[i:]\n",
    "        tamanho_imoveis_treino = tamanhos[:i]\n",
    "        return precos_imoveis_treino, precos_imoveis_teste, tamanho_imoveis_treino, tamanho_imoveis_teste\n",
    "    else:\n",
    "        print('As listas de preços e tamanhos dos imóveis não tem a mesma quantidade de itens.')\n",
    "        return\n",
    "\n",
    "print(separar_listas(precos_imoveis, tamanho_imoveis))\n",
    "print('-----------')\n",
    "precos_treino, precos_teste, tamanho_treino, tamanho_teste = separar_listas(precos_imoveis, tamanho_imoveis)\n",
    "print('Preços Treino: {}'.format(precos_treino))\n",
    "print('Preços Teste: {}'.format(precos_teste))\n",
    "print('Tamanho Treino: {}'.format(tamanho_treino))\n",
    "print('Tamanho Teste: {}'.format(tamanho_teste))"
   ]
  },
  {
   "cell_type": "markdown",
   "id": "b1f0010f",
   "metadata": {},
   "source": [
    "- Gabarito:"
   ]
  },
  {
   "cell_type": "code",
   "execution_count": null,
   "id": "146bfd51",
   "metadata": {},
   "outputs": [],
   "source": [
    "def separar_listas(lista_valores, lista_atributos, fator = 0.1):\n",
    "    qtde_valores = len(precos_imoveis)\n",
    "    if qtde_valores == len(tamanho_imoveis):\n",
    "        i = int(qtde_valores - qtde_valores * fator)\n",
    "        print(i, qtde_valores)\n",
    "        lista_valores_treino = lista_valores[:i]\n",
    "        lista_valores_teste = lista_valores[i:]\n",
    "        lista_atributos_treino = lista_atributos[:i]\n",
    "        lista_atributos_teste = lista_atributos[i:]\n",
    "        return lista_valores_treino, lista_atributos_treino, lista_valores_teste, lista_atributos_teste\n",
    "    else:\n",
    "        print('Lista Valores e Lista Atributos de Tamanho diferentes, favor corrigir')\n",
    "        return\n",
    "    \n",
    "y_treino, x_treino, x_teste, y_teste = separar_listas(precos_imoveis, tamanho_imoveis)\n",
    "print(x_teste)"
   ]
  },
  {
   "cell_type": "markdown",
   "id": "badb05b3",
   "metadata": {},
   "source": [
    "## Docstring e Annotations\n",
    "\n",
    "### Estrutura - São ferramentas \"apenas\" para organização:\n",
    "\n",
    "Quando criamos uma função, normalmente não seremos as únicas pessoas a usarem essa função e também pode ser que a gente precise usar essa mesma função semanas, meses ou até anos depois da sua criação.\n",
    "\n",
    "Por isso é importante usarmos DocStrings e Annotations\n",
    "\n",
    "- Docstring -> diz o que a função faz, quais valores ela tem como argumento e o que significa cada valor\n",
    "- Annotation -> diz o que devem ser os argumentos e o que a função retorna\n",
    "\n",
    "Em muitas empresas, o time de tecnologia vai ter um padrão que você deve seguir para isso, mas caso não tenha, vamos te mostrar um padrão bom a ser utilizado.\n",
    "\n",
    "### Docstring:"
   ]
  },
  {
   "cell_type": "raw",
   "id": "2b8a6c0b",
   "metadata": {},
   "source": [
    "def minha_funcao(arg1, arg2, ...):\n",
    "    '''O que a função faz\n",
    "    \n",
    "    Parameters:\n",
    "        arg1 (int): o que é o argumento 1\n",
    "        arg2 (str): o que é o argumento 2\n",
    "        ...\n",
    "    \n",
    "    Returns:\n",
    "        texto (str): o que a função retorna como resposta\n",
    "    '''\n",
    "    \n",
    "    ...código da função"
   ]
  },
  {
   "cell_type": "code",
   "execution_count": null,
   "id": "cabb0a9b",
   "metadata": {},
   "outputs": [],
   "source": [
    "def minha_soma(num1, num2, num3):\n",
    "    '''Faz a soma de 3 números inteiros e devolve como resposta um inteiro\n",
    "    \n",
    "    Parameters:\n",
    "        num1 (int): primeiro número a ser somado\n",
    "        num2 (int): segundo número a ser somado\n",
    "        num3 (int): terceiro número a ser somado\n",
    "    \n",
    "    Returns:\n",
    "        soma (int): o valor da soma dos 3 números dados como argumento\n",
    "    '''\n",
    "    return num1 + num2 + num3"
   ]
  },
  {
   "cell_type": "markdown",
   "id": "26576239",
   "metadata": {},
   "source": [
    "### Annotation:"
   ]
  },
  {
   "cell_type": "raw",
   "id": "f453f99e",
   "metadata": {},
   "source": [
    "def minha_funcao(arg1: isso, arg2: aquilo) -> o que a função retorna:\n",
    "    ...\n",
    "    return ..."
   ]
  },
  {
   "cell_type": "code",
   "execution_count": null,
   "id": "687618eb",
   "metadata": {},
   "outputs": [],
   "source": [
    "def minha_soma(num1: int, num2: int, num3: int) -> int:\n",
    "    return num1 + num2 + num3"
   ]
  },
  {
   "cell_type": "markdown",
   "id": "bc106935",
   "metadata": {},
   "source": [
    "## Exceções e Erros em Funções\n",
    "\n",
    "### Como \"testar\" erros e tratar exceções:"
   ]
  },
  {
   "cell_type": "raw",
   "id": "a0424ab3",
   "metadata": {},
   "source": [
    "try:\n",
    "    o que eu quero tentar fazer\n",
    "except:\n",
    "    o que vou fazer caso dê erro"
   ]
  },
  {
   "cell_type": "code",
   "execution_count": 403,
   "id": "53ba0f76",
   "metadata": {},
   "outputs": [],
   "source": [
    "def descobrir_servidor(email):\n",
    "    try:\n",
    "        posicao_a = email.index('@')\n",
    "        servidor = email[posicao_a:]\n",
    "        if 'gmail' in servidor:\n",
    "            return 'gmail'\n",
    "        elif 'hotmail' in servidor or 'outlook' in servidor or 'live' in servidor:\n",
    "            return 'hotmail'\n",
    "        elif 'yahoo' in servidor:\n",
    "            return 'yahoo'\n",
    "        elif 'uol' in servidor or 'bol' in servidor:\n",
    "            return 'uol'\n",
    "        else:\n",
    "            return 'não determinado'\n",
    "    except:\n",
    "        print('Email digitado sem @ (arroba)')"
   ]
  },
  {
   "cell_type": "code",
   "execution_count": 408,
   "id": "90ba7ed0",
   "metadata": {},
   "outputs": [
    {
     "name": "stdout",
     "output_type": "stream",
     "text": [
      "Qual o seu e-mail?Daniel@gmail.com\n",
      "gmail\n"
     ]
    }
   ],
   "source": [
    "email = input('Qual o seu e-mail?')\n",
    "print(descobrir_servidor(email))"
   ]
  },
  {
   "cell_type": "markdown",
   "id": "c5388304",
   "metadata": {},
   "source": [
    "- Cuidado: uma vez dentro do try, qualquer erro vai levar ao except"
   ]
  },
  {
   "cell_type": "markdown",
   "id": "67005cda",
   "metadata": {},
   "source": [
    "### Como \"printar\" um erro em uma function"
   ]
  },
  {
   "cell_type": "raw",
   "id": "d5f72add",
   "metadata": {},
   "source": [
    "raise Exception('O erro foi esse')\n",
    "\n",
    "ou então avisando qual o tipo de erro que ele teve\n",
    "\n",
    "raise TypeError('O erro foi esse')\n",
    "raise ValueError('O erro foi esse')\n",
    "raise ZeroDivisionError('O erro foi esse')"
   ]
  },
  {
   "cell_type": "code",
   "execution_count": 406,
   "id": "0f6cfbcf",
   "metadata": {},
   "outputs": [],
   "source": [
    "def descobrir_servidor(email):\n",
    "    try:\n",
    "        posicao_a = email.index('@')\n",
    "        servidor = email[posicao_a:]\n",
    "        if 'gmail' in servidor:\n",
    "            return 'gmail'\n",
    "        elif 'hotmail' in servidor or 'outlook' in servidor or 'live' in servidor:\n",
    "            return 'hotmail'\n",
    "        elif 'yahoo' in servidor:\n",
    "            return 'yahoo'\n",
    "        elif 'uol' in servidor or 'bol' in servidor:\n",
    "            return 'uol'\n",
    "        else:\n",
    "            return 'não determinado'\n",
    "    except:\n",
    "        raise Exception('Email digitado sem @ (arroba)')"
   ]
  },
  {
   "cell_type": "markdown",
   "id": "bac7b9e4",
   "metadata": {},
   "source": [
    "### Tratamento Completo:"
   ]
  },
  {
   "cell_type": "raw",
   "id": "b9928f46",
   "metadata": {},
   "source": [
    "try:\n",
    "    tente fazer isso\n",
    "except ErroEspecífico:\n",
    "    deu esse erro aqui que era esperado \n",
    "else:\n",
    "    caso não dê o erro esperado, rode isso.\n",
    "finally:\n",
    "    independente do que acontecer, faça isso."
   ]
  },
  {
   "cell_type": "markdown",
   "id": "2f598bff",
   "metadata": {},
   "source": [
    "## Tipos de Erros e Exceções\n",
    "\n",
    "### O Python tem inúmeros erros e exceções já prontas dentro dele, a lista completa está em: https://docs.python.org/3/library/exceptions.html\n",
    "\n",
    "### Principais Erros/Exceções\n",
    "\n",
    "Vamos listar aqui alguns dos principais e que mais encontraremos, mas a lista completa está no link"
   ]
  },
  {
   "cell_type": "markdown",
   "id": "0f406918",
   "metadata": {},
   "source": [
    "#### 1. ZeroDivisionError\n",
    "\n",
    "Quando tentamos dividir um número por zero"
   ]
  },
  {
   "cell_type": "markdown",
   "id": "fddc64cd",
   "metadata": {},
   "source": [
    "#### 2. IndexError ou KeyError\n",
    "\n",
    "Quando tentamos pegar um índice que não existe em uma lista ou uma chave que não existe em um dicionário"
   ]
  },
  {
   "cell_type": "markdown",
   "id": "25e38e4e",
   "metadata": {},
   "source": [
    "#### 3. TypeError ou AttributeError\n",
    "\n",
    "Quando tentamos atribuir um parâmetro para uma função que não tem parâmetros ou que não possui aquele parâmetro específico ou algum outro erro no parâmetro passado para a função"
   ]
  },
  {
   "cell_type": "markdown",
   "id": "2041ed84",
   "metadata": {},
   "source": [
    "#### 4. ImportError ou ModuleNotFoundError\n",
    "\n",
    "Quando tentamos importar um módulo não instalado no nosso computador ou algum objeto/função de um módulo que não existe"
   ]
  },
  {
   "cell_type": "markdown",
   "id": "93f3adfc",
   "metadata": {},
   "source": [
    "#### 5. NameError\n",
    "\n",
    "Quando tentamos usar uma variável que não existe/não foi iniciada"
   ]
  },
  {
   "cell_type": "markdown",
   "id": "67c67687",
   "metadata": {},
   "source": [
    "#### 6. SyntaxError\n",
    "\n",
    "Quando fizemos algum erro de escrita no código (deixamos de fechar algum parênteses, colchete ou chaves), escrevemos algo que não pode ser escrito ou escrevemos de forma errada"
   ]
  },
  {
   "cell_type": "markdown",
   "id": "7bc03c38",
   "metadata": {},
   "source": [
    "#### 7. IndentationError ou TabError\n",
    "\n",
    "Quando damos mais ou menos vezes Tab do que deveria em alguma linha de código (mais ou menos indentação)"
   ]
  },
  {
   "cell_type": "markdown",
   "id": "9c4af8db",
   "metadata": {},
   "source": [
    "#### 8. TypeError\n",
    "\n",
    "Quando tentamos fazer uma operação com um tipo de variável que não pode ser feito nela, ex: tentamos pegar o índice de um item de uma variável que é inteiro (ao invés de uma lista). Como números inteiros não são listas, teremos um typeerror "
   ]
  },
  {
   "cell_type": "markdown",
   "id": "0b8abd70",
   "metadata": {},
   "source": [
    "#### 9. UnicodeError\n",
    "\n",
    "Quando o programa não conseguiu usar o método de encoding correto. Normalmente isso sinaliza a existência de algum caractere especial como ~, ç, etc. que está atrapalhando o código."
   ]
  },
  {
   "cell_type": "markdown",
   "id": "a916ccd8",
   "metadata": {},
   "source": [
    "#### 10. ValueError\n",
    "\n",
    "Quando passamos um valor que não pode ser passado para uma função ou método."
   ]
  },
  {
   "cell_type": "markdown",
   "id": "28fd7635",
   "metadata": {},
   "source": [
    "# Aulas Python Impressionador - Bloco 18"
   ]
  },
  {
   "cell_type": "markdown",
   "id": "55a219ad",
   "metadata": {},
   "source": [
    "## Quantidade Indefinidas de Argumentos\n",
    "\n",
    "### Utilidade:\n",
    "\n",
    "Quando você quer permitir uma quantidade indefinida de argumentos, usa o * para isso.\n",
    "\n",
    "### Estrutura:"
   ]
  },
  {
   "cell_type": "raw",
   "id": "fb41e9b0",
   "metadata": {},
   "source": [
    "*args para positional arguments -> argumentos vêm em formato de tupla\n",
    "\n",
    "def minha_funcao(*args):\n",
    "    ...\n",
    "\n",
    "\n",
    "**kwargs para keyword arguments -> argumentos vêm em formato de dicionário\n",
    "\n",
    "def minha_funcao(**kwargs):\n",
    "    ..."
   ]
  },
  {
   "cell_type": "code",
   "execution_count": 410,
   "id": "2b27a459",
   "metadata": {},
   "outputs": [],
   "source": [
    "def minha_soma(*numeros):\n",
    "    soma = 0\n",
    "    for numero in numeros:\n",
    "        soma += numero\n",
    "    return soma"
   ]
  },
  {
   "cell_type": "code",
   "execution_count": 411,
   "id": "0017ba42",
   "metadata": {},
   "outputs": [
    {
     "name": "stdout",
     "output_type": "stream",
     "text": [
      "138\n"
     ]
    }
   ],
   "source": [
    "print(minha_soma(10,13,1,90,24))"
   ]
  },
  {
   "cell_type": "code",
   "execution_count": 413,
   "id": "7e857aa8",
   "metadata": {},
   "outputs": [],
   "source": [
    "def preco_final(preco, **adicionais):\n",
    "    print(adicionais)\n",
    "    if 'desconto' in adicionais:\n",
    "        preco *= (1 - adicionais['desconto'])\n",
    "    if 'garantia_extra' in adicionais:\n",
    "        preco += adicionais['garantia_extra'] \n",
    "    if 'imposto' in adicionais:\n",
    "        preco *= (1 + adicionais['imposto'])\n",
    "    return preco"
   ]
  },
  {
   "cell_type": "code",
   "execution_count": 416,
   "id": "32717996",
   "metadata": {},
   "outputs": [
    {
     "name": "stdout",
     "output_type": "stream",
     "text": [
      "{'desconto': 0.1, 'garantia_extra': 100, 'imposto': 0.3}\n",
      "1300.0\n"
     ]
    }
   ],
   "source": [
    "print(preco_final(1000, desconto = 0.1, garantia_extra = 100, imposto = 0.3))"
   ]
  },
  {
   "cell_type": "markdown",
   "id": "8dd6c34f",
   "metadata": {},
   "source": [
    "## Ordem dos Argumentos\n",
    "\n",
    "### Estrutura:\n",
    "\n",
    "- Sempre os positional arguments vêm antes e depois os keywords arguments.\n",
    "- Sempre os argumentos individuais vêm antes e depois os \"múltiplos\""
   ]
  },
  {
   "cell_type": "raw",
   "id": "5a566375",
   "metadata": {},
   "source": [
    "def minha_funcao(arg1, arg2, arg3, arg4, *args, k = kwarg1, k2 = kwarg2, k3 = kwarg3, **kwargs):\n",
    "    ..."
   ]
  },
  {
   "cell_type": "code",
   "execution_count": null,
   "id": "8a39656f",
   "metadata": {},
   "outputs": [],
   "source": []
  },
  {
   "cell_type": "markdown",
   "id": "9c732d02",
   "metadata": {},
   "source": [
    "## Exercícios\n",
    "\n",
    "### 1. Criando uma Lista de Produtos\n",
    "\n",
    "Muitas vezes as listas de produtos, de clientes, de funcionários, etc que temos nas empresas não são 100% confiáveis.\n",
    "\n",
    "Isso significa que na prática, caímos em muitos casos de ter uma lista de produtos, mas quando olhamos por exemplo uma base com a posição em estoque de cada produto, surge nessa \"base\" produtos que não existiam na nossa lista inicial.\n",
    "\n",
    "Então agora vamos fazer uma function justamente com esse objetivo.\n",
    "\n",
    "Digamos que você receba, 2, 3, 5 ou até 10 bases com a posição em estoque de vários produtos.\n",
    "\n",
    "Vamos criar uma function que pega todas essas listas e cria, a partir dela, uma lista de produtos. Com o objetivo de saber todos os produtos que temos na empresa. Repare que a function pode receber 1, 2, 3 ou quantas listas de estoque forem necessárias.\n",
    "\n",
    "Obs: Lembre dos \"sets\" para fazer a lista de produtos não ter produtos repetidos"
   ]
  },
  {
   "cell_type": "raw",
   "id": "e0cb3aad",
   "metadata": {},
   "source": [
    "lista_estoque1 = [\n",
    "    (produto, qtde_estoque),\n",
    "    (produto2, qtde_estoque2),\n",
    "    ...\n",
    "]"
   ]
  },
  {
   "cell_type": "code",
   "execution_count": 418,
   "id": "c61a3bcb",
   "metadata": {},
   "outputs": [],
   "source": [
    "#crie sua function aqui\n",
    "\n",
    "def listar_produtos(*listas):\n",
    "    lista_produtos = []\n",
    "    for lista in listas:\n",
    "        for produto, estoque in lista:\n",
    "            lista_produtos.append(produto)\n",
    "    lista_produtos = set(lista_produtos)\n",
    "    lista_produtos = list(lista_produtos)\n",
    "    return lista_produtos"
   ]
  },
  {
   "cell_type": "code",
   "execution_count": 428,
   "id": "9743c93b",
   "metadata": {},
   "outputs": [
    {
     "name": "stdout",
     "output_type": "stream",
     "text": [
      "['PPF3784', 'BSA8213', 'EMB9814', 'PPF8666', 'BSA4319', 'BSA1212', 'EMB9591', 'PPF8655', 'BEB5877', 'PPF6324', 'EMB9290', 'PPF9018', 'BEB2983', 'PPF3063', 'PPF2398', 'EMB3604', 'BSA2199', 'BSA5819', 'EMB2070', 'BSA8398', 'PPF8999', 'BSA8833', 'BSA1792', 'BSA3409', 'PPF4980', 'PPF5008', 'EMB4622', 'BSA5516', 'PPF1874', 'BSA9866', 'BEB3410', 'BSA2006', 'BSA9895', 'EMB6618', 'PPF2154', 'BSA8451', 'PPF8789', 'BEB3211', 'BSA2089', 'PPF1468', 'PPF7321', 'PPF3877', 'PPF5239']\n",
      "---------\n",
      "43\n",
      "37\n"
     ]
    }
   ],
   "source": [
    "estoque_fim_jan = [('BSA2199',396),('PPF5239',251),('BSA1212',989),('PPF2154',449),('BEB3410',241),('PPF8999',527),('EMB9591',601),('BSA2006',314),('EMB3604',469),('EMB2070',733),('PPF9018',339),('PPF1468',906),('BSA5819',291),('PPF8666',850),('BEB2983',353),('BEB5877',456),('PPF5008',963),('PPF3877',185),('PPF7321',163),('BSA8833',644),('PPF4980',421),('PPF3063',757),('BSA2089',271),('BSA8398',180),('EMB4622',515),('EMB9814',563),('PPF3784',229),('PPF2398',270),('BEB3211',181),('PPF8655',459),('PPF1874',799),('PPF8789',126),('PPF6324',375),('EMB9290',883),('BSA5516',555),('BSA8451',243),('BSA8213',423)]\n",
    "estoque_fim_fev = [('BSA2199',849),('PPF5239',877),('BSA1212',336),('PPF2154',714),('BEB3410',834),('PPF8999',201),('EMB9591',576),('BSA2006',985),('EMB3604',615),('EMB2070',182),('PPF9018',127),('PPF1468',212),('BSA5819',338),('PPF8666',751),('BEB2983',363),('BEB5877',916),('PPF5008',331),('PPF3877',744),('PPF7321',488),('BSA8833',277),('PPF4980',530),('PPF3063',796),('BSA2089',396),('BSA8398',478),('EMB4622',603),('EMB9814',784),('PPF3784',434),('PPF2398',896),('BEB3211',826),('PPF8655',748),('PPF1874',210),('PPF8789',891),('PPF6324',250),('EMB6618',611),('BSA3409',984),('BSA9866',870),('BSA1792',672)]\n",
    "estoque_fim_mar = [('BSA2199',772),('PPF5239',394),('BSA1212',409),('PPF2154',473),('BEB3410',831),('PPF8999',764),('EMB9591',942),('BSA2006',482),('EMB3604',745),('EMB2070',451),('PPF9018',608),('PPF1468',675),('BSA5819',431),('PPF8666',795),('BEB2983',439),('BEB5877',588),('PPF5008',442),('PPF3877',950),('PPF7321',606),('BSA8833',464),('PPF4980',819),('PPF3063',687),('BSA2089',253),('BSA8398',437),('EMB4622',769),('EMB9814',178),('PPF3784',996),('PPF2398',588),('BEB3211',247),('PPF8655',309),('PPF1874',305),('PPF8789',878),('PPF6324',826),('EMB6618',534),('BSA3409',705),('BSA9895',618),('BSA4319',690)]\n",
    "estoque_fim_abr = [('BSA2199',647),('PPF5239',292),('BSA1212',551),('PPF2154',802),('BEB3410',712),('PPF8999',603),('EMB9591',963),('BSA2006',481),('EMB3604',199),('EMB2070',635),('PPF9018',956),('PPF1468',161),('BSA5819',787),('PPF8666',771),('BEB2983',867),('BEB5877',539),('PPF5008',614),('PPF3877',715),('PPF7321',336),('BSA8833',961),('PPF4980',116),('PPF3063',876),('BSA2089',579),('BSA8398',814),('EMB4622',434),('EMB9814',981),('PPF3784',498),('PPF2398',498),('BEB3211',606),('PPF8655',168),('PPF1874',518),('PPF8789',157),('PPF6324',501),('EMB6618',932),('BSA3409',247),('BSA9895',287),('BSA4319',477)]\n",
    "#agora aplique com as listas fornecidas para ver se ela está funcionando\n",
    "\n",
    "print(listar_produtos(estoque_fim_jan, estoque_fim_fev, estoque_fim_mar, estoque_fim_abr))\n",
    "\n",
    "print('---------')\n",
    "print(len(listar_produtos(estoque_fim_jan, estoque_fim_fev, estoque_fim_mar, estoque_fim_abr)))\n",
    "print(len(listar_produtos(estoque_fim_jan)))"
   ]
  },
  {
   "cell_type": "markdown",
   "id": "8a889474",
   "metadata": {},
   "source": [
    "# Aulas Python Impressionador - Bloco 19"
   ]
  },
  {
   "cell_type": "markdown",
   "id": "56e78549",
   "metadata": {},
   "source": [
    "## Introdução a Orientação a Objeto\n",
    "\n",
    "### Regras Gerais:\n",
    "\n",
    "- Tudo no Python é um objeto.\n",
    "    - String é objeto\n",
    "    - Lista é objeto\n",
    "    - Dicionários são objetos\n",
    "    ...\n",
    "\n",
    "### Comparação Clássica\n",
    "\n",
    "- Pense no Controle Remoto de uma Televisão.\n",
    "    - O Controle é um objeto\n",
    "    - Cada botão dele é um comando, um método.\n",
    "    - Cada método faz 1 ação específica\n",
    "        - Por trás de cada método (dentro do controle) podem acontecer milhares de coisas quando você aperta 1 botão, mas no fundo você tá cagando pra isso, só quer que o botão faça o que você mandou quando você clicar no botão."
   ]
  },
  {
   "cell_type": "markdown",
   "id": "c760b699",
   "metadata": {},
   "source": [
    "### Em termos práticos no Python\n",
    "\n",
    "- Isso significa que todos eles tem métodos específicos, ou seja, já existe programado no Python várias coisas que você consegue fazer com ele.\n",
    "    - Exemplo: Strings\n",
    "        - Quando no Python criaram a string, eles programaram lá em algum lugar que texto[i] vai te dar o caracter na posição i do texto\n",
    "        - Também criaram o método texto.upper() que torna toda a string em letra maiúscula\n",
    "        - Também criaram o método texto.casefold() que coloca tudo em letra minúscula\n",
    "        - E assim vai para tudo que temos no Python\n",
    "\n",
    "- Em termos práticos, você já deve ter reparado que fazemos muito coisas do tipo variavel.método()\n",
    "    - 'Produto {}: {} unidades vendidas'.format(produto, quantidade)\n",
    "    - lista.append('ABC12304')\n",
    "    - texto.count()\n",
    "    - ..."
   ]
  },
  {
   "cell_type": "markdown",
   "id": "ae4025c4",
   "metadata": {},
   "source": [
    "### E para onde vamos com isso agora? Qual a grande vantagem?\n",
    "\n",
    "- A vantagem é que agora vamos aprender a importar módulos novos\n",
    "- Então tem MUITAS, mas MUITAS coisas que já estão prontas no Python que a gente não precisa programar do zero. A gente vai simplesmente importar e usar.\n",
    "- E repare, quando a gente importar, o que na prática estaremos fazendo é importar 1 ou mais objetos que tem vários métodos já prontos para usarmos.\n",
    "\n",
    "### Exemplo: E se eu quisesse criar um código que abrisse o meu navegador em um site específico? Para poder puxar uma informação ou preencher um formulário? -> Próxima Aula"
   ]
  },
  {
   "cell_type": "markdown",
   "id": "d30bfdb0",
   "metadata": {},
   "source": [
    "## O que são Módulos e qual a importância deles?\n",
    "\n",
    "### Importância\n",
    "\n",
    "- Já tem muita coisa pronta, então você não precisa criar do zero.\n",
    "- Se você souber usar Módulos e como usar um módulo novo, você vai conseguir fazer praticamente tudo no Python\n",
    "\n",
    "### Estrutura Básica"
   ]
  },
  {
   "cell_type": "raw",
   "id": "a8342b40",
   "metadata": {},
   "source": [
    "import módulo\n",
    "\n",
    "ou\n",
    "\n",
    "import módulo as nome"
   ]
  },
  {
   "cell_type": "markdown",
   "id": "f008190b",
   "metadata": {},
   "source": [
    "- Exemplo: Como pode fazer o nosso código abrir um site específico na internet?"
   ]
  },
  {
   "cell_type": "code",
   "execution_count": 431,
   "id": "35f091c1",
   "metadata": {},
   "outputs": [
    {
     "data": {
      "text/plain": [
       "True"
      ]
     },
     "execution_count": 431,
     "metadata": {},
     "output_type": "execute_result"
    }
   ],
   "source": [
    "import webbrowser as wb\n",
    "\n",
    "wb.open('https://www.globo.com/')\n"
   ]
  },
  {
   "cell_type": "markdown",
   "id": "2385e805",
   "metadata": {},
   "source": [
    "### Variações"
   ]
  },
  {
   "cell_type": "raw",
   "id": "2053880b",
   "metadata": {},
   "source": [
    "#importar o módulo sem precisar usar o nome dele\n",
    "from modulo import *\n",
    "\n",
    "#importar apenas algumas partes do módulo\n",
    "from modulo import funcao1, funcao2, etc."
   ]
  },
  {
   "cell_type": "markdown",
   "id": "e60559c3",
   "metadata": {},
   "source": [
    "## Começando a ler um módulo\n",
    "\n",
    "### Vamos testar com o módulo WebBrowser:\n",
    "\n",
    "- Passo 1: Descobrir qual módulo precisamos usar e qual método do Módulo faz o que a gente quer.\n",
    "\n",
    "- Passo 2: Se precisarmos de mais alguma coisa do módulo, buscamos por soluções já escolhendo o módulo"
   ]
  },
  {
   "cell_type": "code",
   "execution_count": 432,
   "id": "61a5c36e",
   "metadata": {},
   "outputs": [
    {
     "data": {
      "text/plain": [
       "True"
      ]
     },
     "execution_count": 432,
     "metadata": {},
     "output_type": "execute_result"
    }
   ],
   "source": [
    "import webbrowser\n",
    "\n",
    "webbrowser.open_new('https://hashtagtreinamentos.com')\n",
    "#webbrowser.open('https://www.hashtagtreinamentos.com/blog/')"
   ]
  },
  {
   "cell_type": "markdown",
   "id": "cb843a61",
   "metadata": {},
   "source": [
    "## Módulo time\n",
    "\n",
    "### Estrutura:\n",
    "\n",
    "- Um dos módulos mais usados no Python. Tudo que diz respeito a data, a marcar quanto tempo leva alguma ação, ou a tempo mesmo, o módulo time vai ajudar a gente"
   ]
  },
  {
   "cell_type": "raw",
   "id": "3f28b800",
   "metadata": {},
   "source": [
    "import time"
   ]
  },
  {
   "cell_type": "code",
   "execution_count": 433,
   "id": "5ceac6dd",
   "metadata": {},
   "outputs": [],
   "source": [
    "import time"
   ]
  },
  {
   "cell_type": "markdown",
   "id": "97059823",
   "metadata": {},
   "source": [
    "- Marco Zero (chamado de EPOCH) = 1 de Janeiro de 1970 às 00:00:00\n",
    "- time() retorna quantos segundos se passaram desde a EPOCH"
   ]
  },
  {
   "cell_type": "code",
   "execution_count": 434,
   "id": "1c5e960f",
   "metadata": {},
   "outputs": [
    {
     "name": "stdout",
     "output_type": "stream",
     "text": [
      "1643307034.3465679\n"
     ]
    }
   ],
   "source": [
    "segundos_hoje = time.time()\n",
    "print(segundos_hoje)"
   ]
  },
  {
   "cell_type": "markdown",
   "id": "c11c2aa4",
   "metadata": {},
   "source": [
    "- ctime retorna a data em string o texto no formato UTC (um formato padrão de datas)"
   ]
  },
  {
   "cell_type": "code",
   "execution_count": 435,
   "id": "b330789f",
   "metadata": {},
   "outputs": [
    {
     "name": "stdout",
     "output_type": "stream",
     "text": [
      "Thu Jan 27 15:10:36 2022\n"
     ]
    }
   ],
   "source": [
    "data_hoje = time.ctime()\n",
    "#ou entao data_hoje = time.ctime(time())\n",
    "print(data_hoje)"
   ]
  },
  {
   "cell_type": "markdown",
   "id": "74584c9f",
   "metadata": {},
   "source": [
    "- Isso já pode ser muito útil para medir o tempo que uma ação leva, caso seja do interesse:"
   ]
  },
  {
   "cell_type": "code",
   "execution_count": 436,
   "id": "ffa2c562",
   "metadata": {},
   "outputs": [
    {
     "name": "stdout",
     "output_type": "stream",
     "text": [
      "O programa levou 4.116253852844238 segundos para rodar\n"
     ]
    }
   ],
   "source": [
    "tempo_inicial = time.time()\n",
    "for i in range(100000000):\n",
    "    pass\n",
    "tempo_final = time.time()\n",
    "duracao = tempo_final - tempo_inicial\n",
    "print('O programa levou {} segundos para rodar'.format(duracao))"
   ]
  },
  {
   "cell_type": "markdown",
   "id": "67c63781",
   "metadata": {},
   "source": [
    "- Fazer o código esperar alguns segundos (muito útil quando temos que esperar um programa ou uma página carregar)"
   ]
  },
  {
   "cell_type": "code",
   "execution_count": 437,
   "id": "d3a620ac",
   "metadata": {},
   "outputs": [
    {
     "name": "stdout",
     "output_type": "stream",
     "text": [
      "Começando\n",
      "Rodou 5 segundos após\n"
     ]
    }
   ],
   "source": [
    "#para esperar 5 segundos fazemos:\n",
    "print('Começando')\n",
    "time.sleep(5)\n",
    "print('Rodou 5 segundos após')"
   ]
  },
  {
   "cell_type": "markdown",
   "id": "66d33101",
   "metadata": {},
   "source": [
    "- Pegar informações de dias, hora, segundo, minuto, tudo detalhado:\n",
    "- gmtime()\n",
    "- gmtime().parâmetro"
   ]
  },
  {
   "cell_type": "code",
   "execution_count": 438,
   "id": "4049290d",
   "metadata": {},
   "outputs": [
    {
     "name": "stdout",
     "output_type": "stream",
     "text": [
      "time.struct_time(tm_year=2022, tm_mon=1, tm_mday=27, tm_hour=18, tm_min=13, tm_sec=43, tm_wday=3, tm_yday=27, tm_isdst=0)\n"
     ]
    }
   ],
   "source": [
    "data_atual = time.gmtime()\n",
    "print(data_atual)"
   ]
  },
  {
   "cell_type": "markdown",
   "id": "4271a0dd",
   "metadata": {},
   "source": [
    "- É um objeto diferente, mas podemos pegar os parâmetros de ano, mês, dia, etc fazendo:"
   ]
  },
  {
   "cell_type": "code",
   "execution_count": 439,
   "id": "f345e274",
   "metadata": {},
   "outputs": [
    {
     "name": "stdout",
     "output_type": "stream",
     "text": [
      "Hoje é dia 27/1/2022\n"
     ]
    }
   ],
   "source": [
    "ano = data_atual.tm_year\n",
    "mes = data_atual.tm_mon\n",
    "dia = data_atual.tm_mday\n",
    "hora = data_atual.tm_hour\n",
    "dia_da_semana = data_atual.tm_wday\n",
    "\n",
    "print('Hoje é dia {}/{}/{}'.format(dia, mes, ano))"
   ]
  },
  {
   "cell_type": "markdown",
   "id": "4067c114",
   "metadata": {},
   "source": [
    "## Usando módulos para ajudar a resolver desafios\n",
    "\n",
    "### Objetivo\n",
    "\n",
    "- Muitas vezes algum módulo vai ajudar a gente a resolver um desafio que talvez até conseguíssemos resolver de outra forma.\n",
    "\n",
    "### Exemplo\n",
    "\n",
    "- Digamos que você está analisando todas as vendas dos produtos de tecnologia de um e-commerce e quer saber quais foram os 5 produtos que mais venderam (e suas respectivas quantidades de vendas) - ou seja, queremos descobrir um top 3 produtos de forma simples"
   ]
  },
  {
   "cell_type": "code",
   "execution_count": 440,
   "id": "27442a36",
   "metadata": {},
   "outputs": [
    {
     "name": "stdout",
     "output_type": "stream",
     "text": [
      "[('notebook dell', 17000), ('iphone', 15000), ('ps5', 14300), ('samsung galaxy', 12000), ('tv samsung', 10000)]\n"
     ]
    }
   ],
   "source": [
    "from collections import Counter\n",
    "\n",
    "vendas_tecnologia = {'notebook asus': 2450, 'iphone': 15000, 'samsung galaxy': 12000, 'tv samsung': 10000, 'ps5': 14300, 'tablet': 1720, 'notebook dell': 17000, 'ipad': 1000, 'tv philco': 2500, 'notebook hp': 1000}\n",
    "\n",
    "aux = Counter(vendas_tecnologia)\n",
    "print(aux.most_common(5))"
   ]
  },
  {
   "cell_type": "markdown",
   "id": "f214f553",
   "metadata": {},
   "source": [
    "## Exibindo Gráficos no Python\n",
    "\n",
    "### Importância\n",
    "\n",
    "- Para exploração e visualização de dados, nada melhor do que usar gráficos para isso. Apesar do Python ser programação, gráficos facilitam d+ em qualquer projeto que trabalhe com dados.\n",
    "\n",
    "### Estrutura\n",
    "\n",
    "- Usaremos o módulo Matplotlib.pyplot, que é o módulo mais usado no Python. Existem outros, como o Seaborn e o Plotly, caso queira ver/usar"
   ]
  },
  {
   "cell_type": "code",
   "execution_count": 449,
   "id": "25b22785",
   "metadata": {},
   "outputs": [
    {
     "data": {
      "image/png": "[encoded data removed]",
      "text/plain": [
       "<Figure size 432x288 with 1 Axes>"
      ]
     },
     "metadata": {
      "needs_background": "light"
     },
     "output_type": "display_data"
    }
   ],
   "source": [
    "vendas_meses = [1500, 1727, 1350, 999, 1050, 1027, 1022, 1500, 2000, 2362, 2100, 2762]\n",
    "meses = ['jan', 'fev', 'mar', 'abr', 'mai', 'jun', 'jul', 'ago', 'set', 'out', 'nov', 'dez']\n",
    "\n",
    "#plotar o gráfico da forma mais simples\n",
    "import matplotlib.pyplot as plt\n",
    "\n",
    "plt.plot(meses, vendas_meses)\n",
    "plt.ylabel('Vendas')\n",
    "plt.xlabel('Meses')\n",
    "plt.axis([0, 12, 0, max(vendas_meses)+200])\n",
    "plt.show()"
   ]
  },
  {
   "cell_type": "markdown",
   "id": "f475011f",
   "metadata": {},
   "source": [
    "- Adicionar um Label no eixo X ou eixo Y"
   ]
  },
  {
   "cell_type": "markdown",
   "id": "2fcf2179",
   "metadata": {},
   "source": [
    "- Mudar os nomes dos meses"
   ]
  },
  {
   "cell_type": "markdown",
   "id": "3b80f4cb",
   "metadata": {},
   "source": [
    "- Ajeitando o Eixo"
   ]
  },
  {
   "cell_type": "markdown",
   "id": "c4a60983",
   "metadata": {},
   "source": [
    "## Mais edições de Gráfico com MatplotLib"
   ]
  },
  {
   "cell_type": "code",
   "execution_count": 450,
   "id": "c2e576c5",
   "metadata": {},
   "outputs": [],
   "source": [
    "#importando o matplotlib\n",
    "import matplotlib.pyplot as plt"
   ]
  },
  {
   "cell_type": "markdown",
   "id": "e62fff61",
   "metadata": {},
   "source": [
    "- Usando o módulo numpy para trabalhar com números"
   ]
  },
  {
   "cell_type": "code",
   "execution_count": 451,
   "id": "48aced01",
   "metadata": {},
   "outputs": [],
   "source": [
    "#importando o módulo numpy\n",
    "import numpy as np"
   ]
  },
  {
   "cell_type": "markdown",
   "id": "0bca949b",
   "metadata": {},
   "source": [
    "### Outros tipos de Gráfico:"
   ]
  },
  {
   "cell_type": "markdown",
   "id": "4851de51",
   "metadata": {},
   "source": [
    "- Linha"
   ]
  },
  {
   "cell_type": "code",
   "execution_count": 452,
   "id": "f5f417f8",
   "metadata": {},
   "outputs": [],
   "source": [
    "vendas = np.random.randint(1000, 3000, 50)\n",
    "meses = np.arange(1, 51)"
   ]
  },
  {
   "cell_type": "code",
   "execution_count": 468,
   "id": "7392429f",
   "metadata": {},
   "outputs": [
    {
     "data": {
      "image/png": "[encoded data removed]",
      "text/plain": [
       "<Figure size 432x288 with 1 Axes>"
      ]
     },
     "metadata": {
      "needs_background": "light"
     },
     "output_type": "display_data"
    }
   ],
   "source": [
    "plt.plot(meses, vendas, color='blue')\n",
    "plt.axis([0, 50, 0, max(vendas) + 200])\n",
    "plt.xlabel('Meses')\n",
    "plt.ylabel('Vendas')\n",
    "plt.show()"
   ]
  },
  {
   "cell_type": "markdown",
   "id": "8d6bde2a",
   "metadata": {},
   "source": [
    "- Editando o Gráfico de Linha"
   ]
  },
  {
   "cell_type": "code",
   "execution_count": 463,
   "id": "f6a15fee",
   "metadata": {},
   "outputs": [
    {
     "data": {
      "image/png": "[encoded data removed]",
      "text/plain": [
       "<Figure size 432x288 with 1 Axes>"
      ]
     },
     "metadata": {
      "needs_background": "light"
     },
     "output_type": "display_data"
    },
    {
     "data": {
      "image/png": "[encoded data removed]",
      "text/plain": [
       "<Figure size 432x288 with 1 Axes>"
      ]
     },
     "metadata": {
      "needs_background": "light"
     },
     "output_type": "display_data"
    },
    {
     "data": {
      "image/png": "[encoded data removed]",
      "text/plain": [
       "<Figure size 432x288 with 1 Axes>"
      ]
     },
     "metadata": {
      "needs_background": "light"
     },
     "output_type": "display_data"
    },
    {
     "data": {
      "image/png": "[encoded data removed]",
      "text/plain": [
       "<Figure size 432x288 with 1 Axes>"
      ]
     },
     "metadata": {
      "needs_background": "light"
     },
     "output_type": "display_data"
    }
   ],
   "source": [
    "plt.plot(meses, vendas, 'ro')\n",
    "plt.axis([0, 50, 0, max(vendas) + 200])\n",
    "plt.xlabel('Meses')\n",
    "plt.ylabel('Vendas')\n",
    "plt.show()\n",
    "\n",
    "plt.plot(meses, vendas, 'r--')\n",
    "plt.axis([0, 50, 0, max(vendas) + 200])\n",
    "plt.xlabel('Meses')\n",
    "plt.ylabel('Vendas')\n",
    "plt.show()\n",
    "\n",
    "plt.plot(meses, vendas, 'bs')\n",
    "plt.axis([0, 50, 0, max(vendas) + 200])\n",
    "plt.xlabel('Meses')\n",
    "plt.ylabel('Vendas')\n",
    "plt.show()\n",
    "\n",
    "plt.plot(meses, vendas, 'g^')\n",
    "plt.axis([0, 50, 0, max(vendas) + 200])\n",
    "plt.xlabel('Meses')\n",
    "plt.ylabel('Vendas')\n",
    "plt.show()"
   ]
  },
  {
   "cell_type": "code",
   "execution_count": null,
   "id": "02a188be",
   "metadata": {},
   "outputs": [],
   "source": [
    "#editando o tamanho e a cor da linha - quais parâmetros posso editar?"
   ]
  },
  {
   "cell_type": "code",
   "execution_count": 470,
   "id": "640bd8b3",
   "metadata": {},
   "outputs": [
    {
     "data": {
      "image/png": "[encoded data removed]",
      "text/plain": [
       "<Figure size 432x288 with 1 Axes>"
      ]
     },
     "metadata": {
      "needs_background": "light"
     },
     "output_type": "display_data"
    }
   ],
   "source": [
    "plt.plot(meses, vendas, color='black')\n",
    "plt.axis([0, 50, 0, max(vendas) + 200])\n",
    "plt.xlabel('Meses')\n",
    "plt.ylabel('Vendas')\n",
    "plt.show()"
   ]
  },
  {
   "cell_type": "markdown",
   "id": "b01f3f99",
   "metadata": {},
   "source": [
    "- Dispersão"
   ]
  },
  {
   "cell_type": "code",
   "execution_count": 471,
   "id": "81c124b8",
   "metadata": {},
   "outputs": [
    {
     "data": {
      "image/png": "[encoded data removed]",
      "text/plain": [
       "<Figure size 432x288 with 1 Axes>"
      ]
     },
     "metadata": {
      "needs_background": "light"
     },
     "output_type": "display_data"
    }
   ],
   "source": [
    "plt.scatter(meses, vendas)\n",
    "plt.show()"
   ]
  },
  {
   "cell_type": "markdown",
   "id": "1f31b418",
   "metadata": {},
   "source": [
    "- Barras"
   ]
  },
  {
   "cell_type": "code",
   "execution_count": 472,
   "id": "d35099b2",
   "metadata": {},
   "outputs": [
    {
     "data": {
      "image/png": "[encoded data removed]",
      "text/plain": [
       "<Figure size 432x288 with 1 Axes>"
      ]
     },
     "metadata": {
      "needs_background": "light"
     },
     "output_type": "display_data"
    }
   ],
   "source": [
    "plt.bar(meses, vendas)\n",
    "plt.show()"
   ]
  },
  {
   "cell_type": "markdown",
   "id": "bec8bbce",
   "metadata": {},
   "source": [
    "- Trabalhando com Múltiplos Gráficos no mesmo \"Plot\" -> Para melhor visualização/comparação"
   ]
  },
  {
   "cell_type": "code",
   "execution_count": 479,
   "id": "04086dd7",
   "metadata": {},
   "outputs": [
    {
     "data": {
      "image/png": "[encoded data removed]",
      "text/plain": [
       "<Figure size 1152x288 with 3 Axes>"
      ]
     },
     "metadata": {
      "needs_background": "light"
     },
     "output_type": "display_data"
    }
   ],
   "source": [
    "plt.figure(1, figsize=(16, 4))\n",
    "plt.subplot(1, 3, 1) # Gráfico de 1 linha e 3 colunas, iniciando na esquerda\n",
    "plt.plot(meses, vendas, color='red')\n",
    "plt.subplot(1, 3, 2) # Gráfico de 1 linha e 3 colunas, iniciando no centro\n",
    "plt.scatter(meses, vendas)\n",
    "plt.subplot(1, 3, 3) # Gráfico de 1 linha e 3 colunas, iniciando na direita\n",
    "plt.bar(meses, vendas)\n",
    "plt.show()"
   ]
  },
  {
   "cell_type": "markdown",
   "id": "71f952b2",
   "metadata": {},
   "source": [
    "## Como instalar um Módulo/Biblioteca que não tenha no seu computador\n",
    "\n",
    "### Estrutura:\n",
    "\n",
    "- Usaremos o \"pip\" para isso. É um gerenciador de módulos/pacotes/bibliotecas que ajuda a gente a instalar, atualizar, desinstalar novos módulos\n",
    "- Não precisa dominar pip, apenas os comandos que vamos usar aqui mesmo\n",
    "\n",
    "Passo 1: Abrir o Prompt do Anaconda<br>\n",
    "Passo 2: Instalar com o pip os pacotes que quiser<br>\n",
    "Passo 3: Reiniciar o Jupyter (nem sempre necessário, mas na dúvida é melhor fazer)<br>"
   ]
  },
  {
   "cell_type": "code",
   "execution_count": 481,
   "id": "527eb782",
   "metadata": {},
   "outputs": [],
   "source": [
    "# Abrir o promp do Anaconda: pip install keyboard\n",
    "\n",
    "import keyboard\n",
    "\n",
    "keyboard.press_and_release('ctrl+t')\n",
    "\n",
    "keyboard.write('hashtagtreinamentos.com')\n",
    "\n",
    "keyboard.press_and_release('enter')"
   ]
  },
  {
   "cell_type": "markdown",
   "id": "0c610874",
   "metadata": {},
   "source": [
    "# Aulas Python Impressionador - Bloco 22"
   ]
  },
  {
   "cell_type": "markdown",
   "id": "68f60c6d",
   "metadata": {},
   "source": [
    "## List Comprehension - O que é e qual a importância?\n",
    "\n",
    "### Descrição:\n",
    "\n",
    "- List Comprehension é uma forma de iterar pelos elementas das listas de maneira \"mais direta\", com mais \"cara de Python\"\n",
    "- Em resumo: é como se você fizesse um \"for\" em 1 linha de código\n",
    "\n",
    "### Observação Importante:\n",
    "\n",
    "- Você não precisa de List comprehension para programar, tudo que vamos mostrar aqui dá pra fazer do jeito que já aprendemos\n",
    "- Você não vai sair de uma hora pra outra fazendo tudo list comprehension ao invés de for, porque é realmente mais confuso.\n",
    "- O objetivo aqui é:\n",
    "    1. Saber ler e entender o que tá acontecendo quando ver list comprehension (principal)\n",
    "    2. A medida do tempo você vai se acostumando com isso, vendo mais, usando mais e vai fazer naturalmente quando precisar.\n",
    "    \n",
    "- Mas se você sair desse módulo do curso achando isso tudo muito difícil, fica tranquilo, não usa por hora list comprehension e a medida que você for pegando mais experiência com o Python você lembra que tem esse módulo aqui e pode voltar no futuro\n",
    "\n",
    "### Estrutura:"
   ]
  },
  {
   "cell_type": "code",
   "execution_count": null,
   "id": "d90669b3",
   "metadata": {},
   "outputs": [],
   "source": [
    "lista = [expressão for item in iterable]"
   ]
  },
  {
   "cell_type": "code",
   "execution_count": 483,
   "id": "871edfb8",
   "metadata": {},
   "outputs": [],
   "source": [
    "preco_produtos = [100, 150, 300, 5500]\n",
    "produtos = ['vinho', 'cafeiteira', 'microondas', 'iphone']\n",
    "\n",
    "#digamos que o imposto sobre os produtos é de 30%, ou seja, 0.3. Como eu faria para criar uma lista com os \n",
    "#valores de imposto de cada produto?"
   ]
  },
  {
   "cell_type": "markdown",
   "id": "095e94a1",
   "metadata": {},
   "source": [
    "- Usando um for"
   ]
  },
  {
   "cell_type": "code",
   "execution_count": 484,
   "id": "fcac2da2",
   "metadata": {},
   "outputs": [
    {
     "name": "stdout",
     "output_type": "stream",
     "text": [
      "[30.0, 45.0, 90.0, 1650.0]\n"
     ]
    }
   ],
   "source": [
    "imposto = []\n",
    "for item in preco_produtos:\n",
    "    imposto.append(item * 0.3)\n",
    "\n",
    "print(imposto)"
   ]
  },
  {
   "cell_type": "markdown",
   "id": "a5355dce",
   "metadata": {},
   "source": [
    "- Usando list comprehension"
   ]
  },
  {
   "cell_type": "code",
   "execution_count": 485,
   "id": "44b81379",
   "metadata": {},
   "outputs": [
    {
     "name": "stdout",
     "output_type": "stream",
     "text": [
      "[30.0, 45.0, 90.0, 1650.0]\n"
     ]
    }
   ],
   "source": [
    "impostos = [preco * 0.3 for preco in preco_produtos]\n",
    "print(impostos)"
   ]
  },
  {
   "cell_type": "markdown",
   "id": "49a96d8f",
   "metadata": {},
   "source": [
    "- A \"expressão\" na list comprehension pode ser uma function tb"
   ]
  },
  {
   "cell_type": "code",
   "execution_count": 488,
   "id": "30a2931f",
   "metadata": {},
   "outputs": [
    {
     "name": "stdout",
     "output_type": "stream",
     "text": [
      "[30.0, 45.0, 90.0, 1650.0]\n"
     ]
    }
   ],
   "source": [
    "def calcular_imposto(preco, imposto):\n",
    "    return preco * imposto\n",
    "\n",
    "impostos1 = [calcular_imposto(preco, 0.3) for preco in preco_produtos]\n",
    "print(impostos1)"
   ]
  },
  {
   "cell_type": "markdown",
   "id": "1f367700",
   "metadata": {},
   "source": [
    "### Observação:\n",
    "\n",
    "- Normalmente isso é usado quando queremos fazer uma única ação com os itens de uma lista. Não é obrigatório, mas é comum de encontrar principalmente com programadores mais experientes/preocupados com \"a melhor forma de fazer alguma coisa\"\n",
    "\n",
    "- Cuidado: se a sua lista for MUITO grande, o list comprehension pode acabar sendo difícil de compilar. Nesses casos podemos usar funções, for tradicionais com breaks para interromper ou até bibliotecas como o panda que trabalham bem com muitos dados"
   ]
  },
  {
   "cell_type": "markdown",
   "id": "ccadbe43",
   "metadata": {},
   "source": [
    "## Um exemplo prático de List Comprehension\n",
    "\n",
    "### O que faríamos se quisermos ordenar 2 listas \"relacionadas\""
   ]
  },
  {
   "cell_type": "code",
   "execution_count": null,
   "id": "de2ff515",
   "metadata": {},
   "outputs": [],
   "source": [
    "vendas_produtos = [1500, 150, 2100, 1950]\n",
    "produtos = ['vinho', 'cafeiteira', 'microondas', 'iphone']\n",
    "\n",
    "lista_aux = list(zip(vendas_produtos, produtos)) # ZIP, juntar duas listas\n",
    "lista_aux.sort(reverse=True)\n",
    "produtos = [produto for vendas, produto in lista_aux]\n",
    "print(produtos)"
   ]
  },
  {
   "cell_type": "markdown",
   "id": "4f1c498a",
   "metadata": {},
   "source": [
    "## Exercícios\n",
    "\n",
    "### 1. Tirando informações de listas e dicionários\n",
    "\n",
    "Digamos que você está analisando as vendas de produtos de uma empresa de varejo.\n",
    "\n",
    "Essa lista tem: (produto, vendas de 2019, vendas de 2020) para cada produto.\n",
    "\n",
    "Crie uma lista com as vendas de 2019."
   ]
  },
  {
   "cell_type": "code",
   "execution_count": 500,
   "id": "5cf34977",
   "metadata": {},
   "outputs": [
    {
     "name": "stdout",
     "output_type": "stream",
     "text": [
      "[558147, 712350, 573823, 405252, 718654, 531580, 973139, 892292, 422760, 154753, 887061, 438508, 237467, 489705, 328311, 591120]\n",
      "[558147, 712350, 573823, 405252, 718654, 531580, 973139, 892292, 422760, 154753, 887061, 438508, 237467, 489705, 328311, 591120]\n"
     ]
    }
   ],
   "source": [
    "vendas_produtos = [('iphone', 558147, 951642), ('galaxy', 712350, 244295), ('ipad', 573823, 26964), ('tv', 405252, 787604), ('máquina de café', 718654, 867660), ('kindle', 531580, 78830), ('geladeira', 973139, 710331), ('adega', 892292, 646016), ('notebook dell', 422760, 694913), ('notebook hp', 154753, 539704), ('notebook asus', 887061, 324831), ('microsoft surface', 438508, 667179), ('webcam', 237467, 295633), ('caixa de som', 489705, 725316), ('microfone', 328311, 644622), ('câmera canon', 591120, 994303)]\n",
    "\n",
    "list_vendas2019 = []\n",
    "for produto, vendas_2019, vendas_2020 in vendas_produtos:\n",
    "    list_vendas2019.append(vendas_2019)\n",
    "print(list_vendas2019)\n",
    "\n",
    "lista_vendas2019 = [vendas_2019 for produto, vendas_2019, vendas_2020 in vendas_produtos]\n",
    "print(lista_vendas2019)"
   ]
  },
  {
   "cell_type": "markdown",
   "id": "8382668e",
   "metadata": {},
   "source": [
    "- Agora, qual o maior valor de vendas de 2019?"
   ]
  },
  {
   "cell_type": "code",
   "execution_count": 501,
   "id": "386c22c8",
   "metadata": {},
   "outputs": [
    {
     "name": "stdout",
     "output_type": "stream",
     "text": [
      "973139\n",
      "973139\n"
     ]
    }
   ],
   "source": [
    "maior_valor_2019 = max(list_vendas2019)\n",
    "print(maior_valor_2019)\n",
    "\n",
    "print(max(lista_vendas2019))"
   ]
  },
  {
   "cell_type": "markdown",
   "id": "c7e218aa",
   "metadata": {},
   "source": [
    "- E se eu quisesse descobrir o produto que mais vendeu em 2019?\n",
    "Temos 2 formas de fazer, refazendo o list comprehension ou consultando a lista original"
   ]
  },
  {
   "cell_type": "code",
   "execution_count": 505,
   "id": "2ac98e2b",
   "metadata": {},
   "outputs": [
    {
     "name": "stdout",
     "output_type": "stream",
     "text": [
      "(973139, 'geladeira')\n"
     ]
    }
   ],
   "source": [
    "lista_vendas_produtos_2019 = [(vendas_2019, produto) for produto, vendas_2019, vendas_2020 in vendas_produtos]\n",
    "print(max(lista_vendas_produtos_2019))"
   ]
  },
  {
   "cell_type": "markdown",
   "id": "c698c39b",
   "metadata": {},
   "source": [
    "## List Comprehensions com if para \"filtrar\" itens\n",
    "\n",
    "### Estrutura:"
   ]
  },
  {
   "cell_type": "raw",
   "id": "4d743515",
   "metadata": {},
   "source": [
    "lista = [expressão for item in iterable if condicao]"
   ]
  },
  {
   "cell_type": "markdown",
   "id": "8134a70d",
   "metadata": {},
   "source": [
    "- Digamos que eu queira criar uma lista de produtos que bateram a meta."
   ]
  },
  {
   "cell_type": "code",
   "execution_count": 510,
   "id": "06db1c83",
   "metadata": {},
   "outputs": [],
   "source": [
    "meta = 1000\n",
    "vendas_produtos = [1500, 150, 2100, 1950]\n",
    "produtos = ['vinho', 'cafeiteira', 'microondas', 'iphone']"
   ]
  },
  {
   "cell_type": "markdown",
   "id": "c890a151",
   "metadata": {},
   "source": [
    "Fazendo por For tradicional"
   ]
  },
  {
   "cell_type": "code",
   "execution_count": 511,
   "id": "0cd20144",
   "metadata": {},
   "outputs": [
    {
     "name": "stdout",
     "output_type": "stream",
     "text": [
      "['vinho', 'microondas', 'iphone']\n"
     ]
    }
   ],
   "source": [
    "produtos_acima_meta = []\n",
    "for i, produto in enumerate(produtos):\n",
    "    if vendas_produtos[i] > meta:\n",
    "        produtos_acima_meta.append(produto)\n",
    "print(produtos_acima_meta)"
   ]
  },
  {
   "cell_type": "markdown",
   "id": "65cbcf09",
   "metadata": {},
   "source": [
    "Fazendo por list comprehension"
   ]
  },
  {
   "cell_type": "code",
   "execution_count": 514,
   "id": "9fd9175f",
   "metadata": {},
   "outputs": [
    {
     "name": "stdout",
     "output_type": "stream",
     "text": [
      "['vinho', 'microondas', 'iphone']\n"
     ]
    }
   ],
   "source": [
    "list_produtos_acima_meta = [produto for i, produto in enumerate(produtos) if (vendas_produtos[i] > meta)]\n",
    "print(list_produtos_acima_meta)"
   ]
  },
  {
   "cell_type": "markdown",
   "id": "68f7b422",
   "metadata": {},
   "source": [
    "## Exercícios\n",
    "\n",
    "### 1. Filtrar lista de clientes inadimplentes\n",
    "\n",
    "- O objetivo é identificar quem são os clientes inadimplentes e enviar essa lista de clientes para o setor de cobrança poder fazer a cobrança dos clientes.\n",
    "- Queremos então criar uma lista com os clientes inadimplentes (apenas o CPF e o valor que eles estão devendo)\n",
    "- A inadimplência nessa empresa é calculada da seguinte forma:\n",
    "    1. Se o cliente tiver devendo há mais de 20 dias, ele é considerado inadimplente.\n",
    "    2. As informações vêm no formato (cpf, valor_devido, qtde de dias)"
   ]
  },
  {
   "cell_type": "code",
   "execution_count": 516,
   "id": "fc1e0e62",
   "metadata": {},
   "outputs": [
    {
     "name": "stdout",
     "output_type": "stream",
     "text": [
      "['462.286.561-65', '297.681.579-21', '810.442.219-10', '908.507.760-43', '204.169.467-27', '470.806.376-11', '786.547.940-70', '540.685.100-32', '379.729.796-80', '980.173.363-94', '833.285.374-56', '588.404.964-15', '670.346.230-99', '771.352.915-13', '430.314.324-46', '406.133.151-17', '310.985.894-64', '964.317.132-30', '781.995.738-18', '921.558.128-63', '941.386.982-65', '684.995.531-65', '653.886.282-57', '285.864.892-85', '143.188.958-61', '585.584.932-83', '165.554.107-13', '718.225.984-87', '397.994.286-79', '967.160.575-69', '171.104.286-74', '152.817.649-24', '645.308.846-62', '201.476.809-95', '486.290.887-24', '432.376.642-62', '207.274.437-91', '346.871.172-72', '847.598.885-51', '817.170.984-26', '591.397.550-29', '615.629.238-82', '240.427.458-70', '700.720.266-23', '261.974.594-90', '680.569.318-52', '556.156.341-36', '852.796.660-25', '536.714.951-95', '520.645.562-80', '913.525.896-32', '760.248.897-67', '805.469.913-50', '847.150.802-96', '539.300.108-41', '549.151.467-76', '738.451.908-29', '987.288.834-69', '169.415.202-43', '757.885.355-97', '523.895.611-54', '535.354.954-30', '209.759.133-88', '321.123.241-10', '407.342.963-78', '770.920.161-42', '815.943.237-83', '379.995.400-37', '495.461.913-57', '408.987.269-72', '761.137.848-34', '216.401.188-57', '956.318.620-43', '986.516.478-33', '327.988.845-70', '887.826.412-21', '122.975.174-32', '208.788.890-61']\n",
      "-----------\n",
      "['462.286.561-65', '297.681.579-21', '810.442.219-10', '908.507.760-43', '204.169.467-27', '470.806.376-11', '786.547.940-70', '540.685.100-32', '379.729.796-80', '980.173.363-94', '833.285.374-56', '588.404.964-15', '670.346.230-99', '771.352.915-13', '430.314.324-46', '406.133.151-17', '310.985.894-64', '964.317.132-30', '781.995.738-18', '921.558.128-63', '941.386.982-65', '684.995.531-65', '653.886.282-57', '285.864.892-85', '143.188.958-61', '585.584.932-83', '165.554.107-13', '718.225.984-87', '397.994.286-79', '967.160.575-69', '171.104.286-74', '152.817.649-24', '645.308.846-62', '201.476.809-95', '486.290.887-24', '432.376.642-62', '207.274.437-91', '346.871.172-72', '847.598.885-51', '817.170.984-26', '591.397.550-29', '615.629.238-82', '240.427.458-70', '700.720.266-23', '261.974.594-90', '680.569.318-52', '556.156.341-36', '852.796.660-25', '536.714.951-95', '520.645.562-80', '913.525.896-32', '760.248.897-67', '805.469.913-50', '847.150.802-96', '539.300.108-41', '549.151.467-76', '738.451.908-29', '987.288.834-69', '169.415.202-43', '757.885.355-97', '523.895.611-54', '535.354.954-30', '209.759.133-88', '321.123.241-10', '407.342.963-78', '770.920.161-42', '815.943.237-83', '379.995.400-37', '495.461.913-57', '408.987.269-72', '761.137.848-34', '216.401.188-57', '956.318.620-43', '986.516.478-33', '327.988.845-70', '887.826.412-21', '122.975.174-32', '208.788.890-61']\n"
     ]
    }
   ],
   "source": [
    "clientes_devedores = [('462.286.561-65',14405,24),('251.569.170-81',16027,1),('297.681.579-21',8177,28),('790.223.154-40',9585,10),('810.442.219-10',18826,29),('419.210.299-79',11421,15),('908.507.760-43',12445,24),('911.238.364-17',1345,4),('131.115.339-28',11625,8),('204.169.467-27',5364,22),('470.806.376-11',932,29),('938.608.980-69',13809,19),('554.684.165-26',11227,2),('119.225.846-34',4475,9),('358.890.858-95',13932,20),('786.547.940-70',17048,25),('468.487.741-94',2902,8),('540.685.100-32',5806,21),('379.729.796-80',7622,24),('980.173.363-94',13167,24),('833.285.374-56',19581,24),('103.669.436-50',17126,4),('386.836.124-46',18825,11),('588.404.964-15',1545,30),('600.556.177-18',1921,7),('670.346.230-99',18079,28),('771.352.915-13',16581,23),('430.314.324-46',13942,24),('629.507.759-51',17951,11),('348.683.225-73',12424,10),('406.133.151-17',5888,30),('310.985.894-64',17316,30),('964.317.132-30',18818,30),('845.331.524-14',14284,13),('781.995.738-18',19369,29),('921.558.128-63',3206,27),('941.386.982-65',10228,26),('551.135.290-10',18822,18),('537.124.578-35',12670,6),('119.383.169-76',790,20),('938.473.410-98',8851,5),('279.775.182-54',5212,20),('210.872.954-53',13569,8),('684.995.531-65',8649,21),('653.886.282-57',504,28),('973.580.738-53',2533,9),('285.864.892-85',8200,21),('777.154.423-98',10336,8),('769.786.401-34',3233,12),('521.566.565-97',11882,14),('491.799.681-92',653,8),('344.357.819-36',8856,18),('265.362.581-99',8962,8),('331.410.527-56',18516,18),('143.188.958-61',7234,29),('751.630.472-61',13552,6),('714.707.807-80',2898,7),('585.584.932-83',239,25),('165.554.107-13',9572,23),('718.225.984-87',10534,25),('611.715.653-32',3210,11),('397.994.286-79',13651,24),('967.160.575-69',8997,25),('369.750.998-94',13952,2),('767.400.554-79',18320,11),('171.104.286-74',5821,21),('152.817.649-24',3358,30),('645.308.846-62',15176,25),('273.884.570-92',4436,13),('888.818.341-45',15730,3),('577.836.712-40',14670,16),('513.529.919-95',4002,1),('201.476.809-95',17442,21),('657.816.571-87',1582,2),('810.494.975-87',2157,9),('531.749.410-17',12355,18),('486.290.887-24',18576,26),('432.376.642-62',8027,23),('207.274.437-91',5125,29),('634.244.673-72',11387,15),('346.871.172-72',8105,23),('166.330.605-50',7865,11),('829.181.731-94',2425,8),('197.305.464-63',9681,8),('887.877.706-59',15681,10),('847.598.885-51',323,23),('817.170.984-26',5169,27),('591.397.550-29',13362,25),('872.733.198-95',5756,18),('615.629.238-82',11678,23),('194.782.846-77',11044,17),('146.392.158-88',6848,4),('240.427.458-70',3906,25),('583.662.427-52',3306,5),('841.627.523-64',4778,4),('985.337.216-77',15308,4),('912.410.722-57',11683,6),('700.720.266-23',12638,21),('605.405.529-53',3831,3),('383.256.402-25',2599,10),('248.103.486-68',9121,1),('261.974.594-90',2139,26),('297.126.704-91',18529,16),('680.569.318-52',10176,23),('296.334.647-38',225,13),('200.761.898-70',16244,20),('258.232.687-17',19462,18),('597.295.672-38',18840,11),('894.479.102-52',11375,12),('556.156.341-36',16269,23),('987.874.553-86',11253,17),('248.927.998-94',6510,1),('852.796.660-25',2662,23),('741.370.204-36',9303,16),('536.714.951-95',2877,23),('320.395.830-44',14554,5),('520.645.562-80',17547,24),('553.700.674-28',3147,14),('913.525.896-32',17651,28),('750.456.495-86',11524,9),('246.171.748-38',15184,4),('760.248.897-67',4953,25),('920.890.990-46',17172,20),('805.469.913-50',17500,21),('878.594.225-48',6255,3),('356.715.924-36',3454,13),('847.150.802-96',8602,22),('625.846.640-53',10888,19),('539.300.108-41',11225,21),('549.151.467-76',1286,21),('738.451.908-29',18905,22),('987.288.834-69',17533,25),('898.532.296-94',9719,11),('620.531.607-13',13584,10),('169.415.202-43',1871,29),('757.885.355-97',18150,28),('252.581.376-21',2497,3),('177.937.460-78',7178,8),('523.895.611-54',9878,26),('883.680.201-23',16761,3),('936.678.268-71',11017,9),('871.912.703-73',1754,9),('957.749.478-56',6914,9),('725.636.354-80',8605,13),('898.316.244-33',14363,12),('894.748.325-28',2764,3),('647.106.954-60',1482,6),('628.716.937-98',14107,8),('332.677.483-83',19146,15),('186.870.928-82',17050,12),('216.248.879-71',4384,16),('287.929.269-44',4894,19),('278.335.932-42',17220,13),('824.107.287-13',11797,7),('535.354.954-30',9195,22),('311.762.241-12',13871,2),('209.759.133-88',13580,21),('505.728.766-53',16950,13),('879.471.988-23',17427,14),('772.329.947-39',3462,8),('321.123.241-10',2592,22),('407.342.963-78',11435,21),('786.935.637-47',14240,9),('461.791.351-55',142,2),('770.920.161-42',1247,24),('639.870.185-59',6430,10),('815.943.237-83',19550,22),('141.774.255-61',17866,13),('379.995.400-37',9503,29),('261.103.178-64',19167,13),('495.461.913-57',12265,29),('498.848.750-79',14549,16),('578.770.731-84',1462,5),('408.987.269-72',5647,28),('191.970.336-40',6313,15),('761.137.848-34',10654,23),('810.512.154-21',14928,1),('256.371.788-38',7085,2),('216.401.188-57',1531,23),('956.318.620-43',6327,22),('986.516.478-33',3866,25),('105.665.555-60',7118,4),('259.228.430-72',1601,8),('133.627.971-58',10142,14),('327.988.845-70',14985,23),('363.167.322-63',17236,7),('189.986.406-38',16888,18),('661.194.373-45',7824,1),('805.728.877-53',514,10),('887.826.412-21',15977,24),('122.975.174-32',9409,25),('456.550.370-55',19922,18),('388.243.133-66',19785,17),('208.788.890-61',11893,22),('881.332.662-49',6344,16),('912.349.944-52',6858,15),('534.904.583-32',9559,11),('825.175.334-25',19805,15),('339.191.298-46',13325,8),('569.993.915-78',4339,15)]\n",
    "\n",
    "lista_devedores = []\n",
    "for cpf, valor_devido, qtd_dias in clientes_devedores:\n",
    "    if qtd_dias > 20:\n",
    "        lista_devedores.append(cpf)\n",
    "print(lista_devedores)\n",
    "\n",
    "print('-----------')\n",
    "\n",
    "lista_inadimplentes = [cpf for cpf, valor_devido, qtd_dias in clientes_devedores if (qtd_dias > 20)]\n",
    "print(lista_inadimplentes)"
   ]
  },
  {
   "cell_type": "markdown",
   "id": "56f71fe8",
   "metadata": {},
   "source": [
    "## List Comprehension com if para escolher o resultado final\n",
    "\n",
    "### Estrutura:"
   ]
  },
  {
   "cell_type": "raw",
   "id": "49822bb0",
   "metadata": {},
   "source": [
    "lista = [item if condicao else outro_resultado for item in iterable]"
   ]
  },
  {
   "cell_type": "markdown",
   "id": "20feb043",
   "metadata": {},
   "source": [
    "- Digamos que eu esteja analisando os vendedores de uma loja e queira criar uma lista para enviar para o RH com o bônus de cada vendedor.\n",
    "- O bônus é dado por 10% do valor de vendas dele, caso ele tenha batido a meta"
   ]
  },
  {
   "cell_type": "code",
   "execution_count": 521,
   "id": "fbda609e",
   "metadata": {},
   "outputs": [],
   "source": [
    "vendedores_dic = {'Maria': 1200, 'José': 300, 'Antônio': 800, 'João': 1500, 'Francisco': 1900, 'Ana': 2750, 'Luiz': 400, 'Paulo': 20, 'Carlos': 23, 'Manoel': 70, 'Pedro': 90, 'Francisca': 80, 'Marcos': 1100, 'Raimundo': 999, 'Sebastião': 900, 'Antônia': 880, 'Marcelo': 870, 'Jorge': 50, 'Márcia': 1111, 'Geraldo': 120, 'Adriana': 300, 'Sandra': 450, 'Luis': 800}\n",
    "meta = 1000"
   ]
  },
  {
   "cell_type": "markdown",
   "id": "f28cdfd7",
   "metadata": {},
   "source": [
    "- Fazendo por for"
   ]
  },
  {
   "cell_type": "code",
   "execution_count": 543,
   "id": "96b38710",
   "metadata": {},
   "outputs": [
    {
     "name": "stdout",
     "output_type": "stream",
     "text": [
      "[120.0, 0, 0, 150.0, 190.0, 275.0, 0, 0, 0, 0, 0, 0, 110.0, 0, 0, 0, 0, 0, 111.10000000000001, 0, 0, 0, 0]\n",
      "---------\n",
      "{'Maria': 120.0, 'José': 0, 'Antônio': 0, 'João': 150.0, 'Francisco': 190.0, 'Ana': 275.0, 'Luiz': 0, 'Paulo': 0, 'Carlos': 0, 'Manoel': 0, 'Pedro': 0, 'Francisca': 0, 'Marcos': 110.0, 'Raimundo': 0, 'Sebastião': 0, 'Antônia': 0, 'Marcelo': 0, 'Jorge': 0, 'Márcia': 111.10000000000001, 'Geraldo': 0, 'Adriana': 0, 'Sandra': 0, 'Luis': 0}\n"
     ]
    }
   ],
   "source": [
    "lista_bonus = []\n",
    "for item in vendedores_dic:\n",
    "    if vendedores_dic[item] > meta:\n",
    "        lista_bonus.append(vendedores_dic[item] * 0.1)\n",
    "    else:\n",
    "        lista_bonus.append(0)\n",
    "print(lista_bonus)\n",
    "\n",
    "print('---------')\n",
    "\n",
    "dicionario_lista_tuplas = dict(zip(vendedores_dic, lista_bonus))\n",
    "print(dicionario_lista_tuplas)"
   ]
  },
  {
   "cell_type": "markdown",
   "id": "7c510a97",
   "metadata": {},
   "source": [
    "- Fazendo por List Comprehension"
   ]
  },
  {
   "cell_type": "code",
   "execution_count": 535,
   "id": "9878af7e",
   "metadata": {},
   "outputs": [
    {
     "name": "stdout",
     "output_type": "stream",
     "text": [
      "[120.0, 0, 0, 150.0, 190.0, 275.0, 0, 0, 0, 0, 0, 0, 110.0, 0, 0, 0, 0, 0, 111.10000000000001, 0, 0, 0, 0]\n"
     ]
    }
   ],
   "source": [
    "bonus = [(vendedores_dic[item] * 0.1) if (vendedores_dic[item] > meta) else 0 for item in vendedores_dic]\n",
    "print(bonus)"
   ]
  },
  {
   "cell_type": "markdown",
   "id": "5f3eabd2",
   "metadata": {},
   "source": [
    "## Exercícios\n",
    "\n",
    "### 1. Tamanho do Pedido de Compras\n",
    "\n",
    "Nesse exercício vamos avaliar o estoque de uma empresa. Vamos considerar que todos os produtos dessa empresa são comprados em lotes de 500 unidades.\n",
    "\n",
    "- Caso o estoque esteja abaixo de 1000 unidades, devemos fazer um pedido de 500 unidades.\n",
    "- Caso o estoque esteja abaixo de 200 unidades, devemos fazer um pedido de 1000 unidades.\n",
    "\n",
    "Defina o valor a ser pedido de cada produto para enviar ao time de compras."
   ]
  },
  {
   "cell_type": "code",
   "execution_count": 557,
   "id": "5e722897",
   "metadata": {},
   "outputs": [
    {
     "name": "stdout",
     "output_type": "stream",
     "text": [
      "[500, 500, 500, 500, 500, 500, 500, 500, 500, 500, 500, 500, 500, 500, 500, 500, 500, 1000, 1000, 500, 500, 500, 500, 1000, 500, 500, 500, 500, 1000, 500, 500, 1000, 500, 500, 500, 500, 500]\n",
      "--------\n",
      "[500, 500, 500, 500, 500, 500, 500, 500, 500, 500, 500, 500, 500, 500, 500, 500, 500, 1000, 1000, 500, 500, 500, 500, 1000, 500, 500, 500, 500, 1000, 500, 500, 1000, 500, 500, 500, 500, 500]\n",
      "--------\n",
      "[(('BSA2199', 396), 500), (('PPF5239', 251), 500), (('BSA1212', 989), 500), (('PPF2154', 449), 500), (('BEB3410', 241), 500), (('PPF8999', 527), 500), (('EMB9591', 601), 500), (('BSA2006', 314), 500), (('EMB3604', 469), 500), (('EMB2070', 733), 500), (('PPF9018', 339), 500), (('PPF1468', 906), 500), (('BSA5819', 291), 500), (('PPF8666', 850), 500), (('BEB2983', 353), 500), (('BEB5877', 456), 500), (('PPF5008', 963), 500), (('PPF3877', 185), 1000), (('PPF7321', 163), 1000), (('BSA8833', 644), 500), (('PPF4980', 421), 500), (('PPF3063', 757), 500), (('BSA2089', 271), 500), (('BSA8398', 180), 1000), (('EMB4622', 515), 500), (('EMB9814', 563), 500), (('PPF3784', 229), 500), (('PPF2398', 270), 500), (('BEB3211', 181), 1000), (('PPF8655', 459), 500), (('PPF1874', 799), 500), (('PPF8789', 126), 1000), (('PPF6324', 375), 500), (('EMB9290', 883), 500), (('BSA5516', 555), 500), (('BSA8451', 243), 500), (('BSA8213', 423), 500)]\n"
     ]
    }
   ],
   "source": [
    "estoque = [('BSA2199',396),('PPF5239',251),('BSA1212',989),('PPF2154',449),('BEB3410',241),('PPF8999',527),('EMB9591',601),('BSA2006',314),('EMB3604',469),('EMB2070',733),('PPF9018',339),('PPF1468',906),('BSA5819',291),('PPF8666',850),('BEB2983',353),('BEB5877',456),('PPF5008',963),('PPF3877',185),('PPF7321',163),('BSA8833',644),('PPF4980',421),('PPF3063',757),('BSA2089',271),('BSA8398',180),('EMB4622',515),('EMB9814',563),('PPF3784',229),('PPF2398',270),('BEB3211',181),('PPF8655',459),('PPF1874',799),('PPF8789',126),('PPF6324',375),('EMB9290',883),('BSA5516',555),('BSA8451',243),('BSA8213',423)]\n",
    "\n",
    "lista = [1000 if qtd < 200 else 500 for item, qtd in estoque]\n",
    "print(lista)\n",
    "\n",
    "print('--------')\n",
    "\n",
    "list_pedido = []\n",
    "for item, qtd in estoque:\n",
    "    if qtd < 200:\n",
    "        list_pedido.append(1000)\n",
    "    elif qtd < 1000:\n",
    "        list_pedido.append(500)\n",
    "\n",
    "print(list_pedido)\n",
    "\n",
    "print('--------')\n",
    "\n",
    "print(list(zip(estoque, list_pedido)))"
   ]
  },
  {
   "cell_type": "markdown",
   "id": "ad16915c",
   "metadata": {},
   "source": [
    "## List Comprehension não serve só para criar uma lista, serve para qualquer ação em iterable\n",
    "\n",
    "### Exemplo:"
   ]
  },
  {
   "cell_type": "markdown",
   "id": "2e7d8683",
   "metadata": {},
   "source": [
    "- Vamos calcular quantos % das vendas o meu top 5 produtos representa das vendas totais"
   ]
  },
  {
   "cell_type": "code",
   "execution_count": 560,
   "id": "d51b6208",
   "metadata": {},
   "outputs": [],
   "source": [
    "produtos = ['coca', 'pepsi', 'guarana', 'skol', 'brahma', 'agua', 'del valle', 'dolly', 'red bull', 'cachaça', 'vinho tinto', 'vodka', 'vinho branco', 'tequila', 'champagne', 'gin', 'guaracamp', 'matte', 'leite de castanha', 'leite', 'jurupinga', 'sprite', 'fanta']\n",
    "vendas = [1200, 300, 800, 1500, 1900, 2750, 400, 20, 23, 70, 90, 80, 1100, 999, 900, 880, 870, 50, 1111, 120, 300, 450, 800]\n",
    "top5 = ['agua', 'brahma', 'skol', 'coca', 'leite de castanha']"
   ]
  },
  {
   "cell_type": "markdown",
   "id": "5054b1cf",
   "metadata": {},
   "source": [
    "- Fazendo por for"
   ]
  },
  {
   "cell_type": "code",
   "execution_count": 561,
   "id": "1be4de86",
   "metadata": {},
   "outputs": [
    {
     "name": "stdout",
     "output_type": "stream",
     "text": [
      "8461\n",
      "Top 5 representou 50.63% das vendas\n"
     ]
    }
   ],
   "source": [
    "total_top5 = 0\n",
    "\n",
    "for i, produto in enumerate(produtos):\n",
    "    if produto in top5:\n",
    "        total_top5 += vendas[i]\n",
    "\n",
    "print(total_top5)\n",
    "print('Top 5 representou {:0.2%} das vendas'.format(total_top5/sum(vendas)))"
   ]
  },
  {
   "cell_type": "markdown",
   "id": "a873988b",
   "metadata": {},
   "source": [
    "- Fazendo por list comprehension"
   ]
  },
  {
   "cell_type": "code",
   "execution_count": 577,
   "id": "e32ffaa5",
   "metadata": {},
   "outputs": [
    {
     "name": "stdout",
     "output_type": "stream",
     "text": [
      "0\n",
      "Top 5 representou 0.0% das vendas\n"
     ]
    }
   ],
   "source": [
    "l_total_top5 = sum(vendas[i] for i, produto in enumerate(produtos) if produto in top5)\n",
    "\n",
    "print(l_total_top5)\n",
    "print('Top 5 representou {:0.1%} das vendas'.format(l_total_top5/sum(vendas)))"
   ]
  },
  {
   "cell_type": "markdown",
   "id": "86d59f21",
   "metadata": {},
   "source": [
    "# Aulas Python Impressionador - Bloco 23"
   ]
  },
  {
   "cell_type": "markdown",
   "id": "48ccd190",
   "metadata": {},
   "source": [
    "## Function em iterables\n",
    "\n",
    "### Segue a mesma lógica de list comprehension, mas é mais simples\n",
    "\n",
    "Basicamente alguns métodos e funções que já existem no Python podem rodar uma function para cada item, da mesma forma que fizemos com list comprehension.\n",
    "\n",
    "Isso pode ajudar a gente a resolver alguns desafios de forma mais simples\n",
    "\n",
    "Uma função que permite que a gente faça isso é a map function\n",
    "\n",
    "### map function"
   ]
  },
  {
   "cell_type": "raw",
   "id": "4d96a902",
   "metadata": {},
   "source": [
    "lista = list(map(função, iterable_original))"
   ]
  },
  {
   "cell_type": "markdown",
   "id": "f80eb20e",
   "metadata": {},
   "source": [
    "- Exemplo: digamos que eu tenha uma function que corrige um código de um produto (semelhante ao que fizemos na seção de function aqui do curso)"
   ]
  },
  {
   "cell_type": "code",
   "execution_count": 587,
   "id": "3d805072",
   "metadata": {},
   "outputs": [],
   "source": [
    "def padronizar_texto(texto):\n",
    "    texto = texto.upper()\n",
    "    texto = texto.replace(\"  \", \" \")\n",
    "    texto = texto.strip()\n",
    "    return texto"
   ]
  },
  {
   "cell_type": "markdown",
   "id": "a609a13b",
   "metadata": {},
   "source": [
    "- Agora queremos padronizar uma lista de códigos:"
   ]
  },
  {
   "cell_type": "code",
   "execution_count": 588,
   "id": "8a30bae4",
   "metadata": {},
   "outputs": [],
   "source": [
    "produtos = [' ABC12 ', 'abc34', 'AbC37', 'beb12', ' BSA151', 'BEB23']"
   ]
  },
  {
   "cell_type": "markdown",
   "id": "fb47e02d",
   "metadata": {},
   "source": [
    "- Usando o for, temos que percorrer a lista toda e para cada item executar a function"
   ]
  },
  {
   "cell_type": "code",
   "execution_count": 623,
   "id": "11f7719f",
   "metadata": {},
   "outputs": [
    {
     "name": "stdout",
     "output_type": "stream",
     "text": [
      "['AIRPODS', 'APPLE TV', 'APPLE WATCH', 'IPAD', 'IPHONE 11', 'IPHONE X', 'MAC', 'MAC BOOK']\n"
     ]
    }
   ],
   "source": [
    "for i, produto in enumerate(produtos):\n",
    "    produtos[i] = padronizar_texto(produto)\n",
    "print(produtos)"
   ]
  },
  {
   "cell_type": "markdown",
   "id": "4b07ad84",
   "metadata": {},
   "source": [
    "- Usando o map, apenas chamamos a função e ela já faz isso para a gente"
   ]
  },
  {
   "cell_type": "code",
   "execution_count": 591,
   "id": "408ca11b",
   "metadata": {},
   "outputs": [
    {
     "name": "stdout",
     "output_type": "stream",
     "text": [
      "['ABC12', 'ABC34', 'ABC37', 'BEB12', 'BSA151', 'BEB23']\n"
     ]
    }
   ],
   "source": [
    "produtos = list(map(padronizar_texto, produtos))\n",
    "print(produtos)"
   ]
  },
  {
   "cell_type": "markdown",
   "id": "c97defaf",
   "metadata": {},
   "source": [
    "### Olhando assim pode não parecer tão útil, mas a lógica de executar uma função para cada item é bem útil para outras funções que já existem no Python. Veremos na próxima aula"
   ]
  },
  {
   "cell_type": "markdown",
   "id": "4871837d",
   "metadata": {},
   "source": [
    "# sort (ou sorted) com function\n",
    "\n",
    "### Descrição:\n",
    "\n",
    "Até agora no programa, usamos várias vezes o .sort() para ordenar listas\n",
    "\n",
    "Mas o método sort tem um parâmetro que nunca usamos e que agora sabemos usar."
   ]
  },
  {
   "cell_type": "code",
   "execution_count": 593,
   "id": "a52aab1b",
   "metadata": {},
   "outputs": [
    {
     "name": "stdout",
     "output_type": "stream",
     "text": [
      "['IPad', 'IPhone 11', 'IPhone x', 'airpods', 'apple tv', 'apple watch', 'mac', 'mac book']\n"
     ]
    }
   ],
   "source": [
    "produtos = ['apple tv', 'mac', 'IPhone x', 'IPhone 11', 'IPad', 'apple watch', 'mac book', 'airpods']\n",
    "produtos.sort()\n",
    "print(produtos)\n",
    "\n",
    "# Desta forma ordena pela Tabela ASCII, onde primeiro vem as letras maiúsculas, depois vem as minúsculas."
   ]
  },
  {
   "cell_type": "markdown",
   "id": "6be8de60",
   "metadata": {},
   "source": [
    "- Como faríamos para ordenar corretamente?"
   ]
  },
  {
   "cell_type": "code",
   "execution_count": 594,
   "id": "fffe0307",
   "metadata": {},
   "outputs": [
    {
     "name": "stdout",
     "output_type": "stream",
     "text": [
      "['airpods', 'apple tv', 'apple watch', 'IPad', 'IPhone 11', 'IPhone x', 'mac', 'mac book']\n"
     ]
    }
   ],
   "source": [
    "produtos.sort(key=str.casefold) # Padroniza para letra minúscula\n",
    "print(produtos)"
   ]
  },
  {
   "cell_type": "markdown",
   "id": "7896320f",
   "metadata": {},
   "source": [
    "### Outro exemplo: como ordenar um dicionário de acordo com o valor"
   ]
  },
  {
   "cell_type": "code",
   "execution_count": 596,
   "id": "d84dcbd5",
   "metadata": {},
   "outputs": [],
   "source": [
    "vendas_produtos = {'vinho': 100, 'cafeiteira': 150, 'microondas': 300, 'iphone': 5500}"
   ]
  },
  {
   "cell_type": "markdown",
   "id": "bd76c108",
   "metadata": {},
   "source": [
    "- Queremos listar da maior quantidade de vendas para a menor, para enviar como report para o diretor, por exemplo"
   ]
  },
  {
   "cell_type": "code",
   "execution_count": 602,
   "id": "600866bd",
   "metadata": {},
   "outputs": [
    {
     "name": "stdout",
     "output_type": "stream",
     "text": [
      "{'iphone': 5500, 'microondas': 300, 'cafeiteira': 150, 'vinho': 100}\n"
     ]
    }
   ],
   "source": [
    "def segundo_item(tupla):\n",
    "    return tupla[1]\n",
    "lista_vendas = list(vendas_produtos.items()) # Transforma cada um dos itens do dicionário em uma tupla\n",
    "lista_vendas.sort(key=segundo_item, reverse=True)\n",
    "print(dict(lista_vendas))"
   ]
  },
  {
   "cell_type": "markdown",
   "id": "41858cae",
   "metadata": {},
   "source": [
    "## Lambda Expressions\n",
    "\n",
    "### Objetivo:\n",
    "\n",
    "- As lambdas expressions são funções anônimas (sem nome mesmo) que tem 1 linha de código e são atribuidas a uma variável, como se a variável virasse uma função.\n",
    "- Elas normalmente são usadas para fazer uma única ação, mas em Python usamos principalmente dentro de métodos como argumento, para não precisarmos criar uma função só para isso (vamos ver isso na aula que vem)\n",
    "- Outra aplicação delas está em criar um \"gerador de funções\" (vamos ver na 3ª Aula dessa Seção)\n",
    "\n",
    "### Obs\n",
    "\n",
    "- Não é \"obrigatório\" usar lambda expression, até porque praticamente tudo o que você faz com elas você consegue fazer com functions normais. Mas, é importante saber entender quando encontrar e saber usar a medida que você for se acostumando e vendo necessidade\n",
    "\n",
    "### Estrutura:"
   ]
  },
  {
   "cell_type": "raw",
   "id": "c44a24a4",
   "metadata": {},
   "source": [
    "minha_funcao = lambda parametro: expressão"
   ]
  },
  {
   "cell_type": "markdown",
   "id": "84f85960",
   "metadata": {},
   "source": [
    "- Exemplo mais simples"
   ]
  },
  {
   "cell_type": "code",
   "execution_count": 604,
   "id": "cb5f1e61",
   "metadata": {},
   "outputs": [
    {
     "name": "stdout",
     "output_type": "stream",
     "text": [
      "10\n",
      "10\n"
     ]
    }
   ],
   "source": [
    "def minha_funcao(num):\n",
    "    return num * 2\n",
    "print(minha_funcao(5))\n",
    "\n",
    "minha_funcao2 = lambda num: num * 2\n",
    "print(minha_funcao2(5))"
   ]
  },
  {
   "cell_type": "markdown",
   "id": "c63e254d",
   "metadata": {},
   "source": [
    "- Exemplo útil: Vamos usar lambda expressions para criar uma função que calcula o preço dos produtos acrescido do imposto"
   ]
  },
  {
   "cell_type": "code",
   "execution_count": 609,
   "id": "ddb2d3f6",
   "metadata": {},
   "outputs": [
    {
     "name": "stdout",
     "output_type": "stream",
     "text": [
      "130.0\n",
      "130.0\n"
     ]
    }
   ],
   "source": [
    "imposto = 0.3\n",
    "\n",
    "def preco_imposto(preco):\n",
    "    return preco + preco * imposto\n",
    "print(preco_imposto(100))\n",
    "    \n",
    "preco_imposto2 = lambda preco: preco + preco * imposto\n",
    "print(preco_imposto2(100))\n"
   ]
  },
  {
   "cell_type": "markdown",
   "id": "5dfabb51",
   "metadata": {},
   "source": [
    "# Principal Aplicação de Lambda Expressions\n",
    "\n",
    "### Usar lambda como argumento de alguma outra função, como map e filter"
   ]
  },
  {
   "cell_type": "code",
   "execution_count": 611,
   "id": "9d9b0647",
   "metadata": {},
   "outputs": [],
   "source": [
    "preco_tecnologia = {'notebook asus': 2450, 'iphone': 4500, 'samsung galaxy': 3000, 'tv samsung': 1000, 'ps5': 3000, 'tablet': 1000, 'notebook dell': 3000, 'ipad': 3000, 'tv philco': 800, 'notebook hp': 1700}"
   ]
  },
  {
   "cell_type": "markdown",
   "id": "7a01a981",
   "metadata": {},
   "source": [
    "### map()\n",
    "- Queremos saber o preço de cada produto adicionando o valor do imposto de 30% sobre o valor do produto"
   ]
  },
  {
   "cell_type": "code",
   "execution_count": 618,
   "id": "e01e68af",
   "metadata": {},
   "outputs": [
    {
     "name": "stdout",
     "output_type": "stream",
     "text": [
      "[3185.0, 5850.0, 3900.0, 1300.0, 3900.0, 1300.0, 3900.0, 3900.0, 1040.0, 2210.0]\n"
     ]
    }
   ],
   "source": [
    "#Fazendo por function\n",
    "\n",
    "def calc_imposto(preco):\n",
    "    return preco * 1.3\n",
    "\n",
    "preco_com_imposto = list(map(calc_imposto, preco_tecnologia.values()))\n",
    "print(preco_com_imposto)\n",
    "# .values() pega somente os valores de um dicionário\n",
    "# .items() pega os itens de um dicionário em uma tupla"
   ]
  },
  {
   "cell_type": "code",
   "execution_count": 619,
   "id": "e5281245",
   "metadata": {},
   "outputs": [
    {
     "name": "stdout",
     "output_type": "stream",
     "text": [
      "[3185.0, 5850.0, 3900.0, 1300.0, 3900.0, 1300.0, 3900.0, 3900.0, 1040.0, 2210.0]\n"
     ]
    }
   ],
   "source": [
    "#fazendo por lambda\n",
    "\n",
    "preco_com_imposto2 = list(map(lambda preco: preco * 1.3, preco_tecnologia.values()))\n",
    "print(preco_com_imposto2)"
   ]
  },
  {
   "cell_type": "markdown",
   "id": "918af633",
   "metadata": {},
   "source": [
    "### filter()\n",
    "- Queremos apenas os produtos que custam acima de 2000"
   ]
  },
  {
   "cell_type": "raw",
   "id": "fcb89936",
   "metadata": {},
   "source": [
    "filter(função, iterable) -> retorna como resposta todos os itens do iterable onde a função é True"
   ]
  },
  {
   "cell_type": "code",
   "execution_count": 627,
   "id": "bdde13bc",
   "metadata": {},
   "outputs": [
    {
     "name": "stdout",
     "output_type": "stream",
     "text": [
      "{'notebook asus': 2450, 'iphone': 4500, 'samsung galaxy': 3000, 'ps5': 3000, 'notebook dell': 3000, 'ipad': 3000}\n"
     ]
    }
   ],
   "source": [
    "#fazendo por function\n",
    "\n",
    "def ehmaior2000(item):\n",
    "    return item[1] > 2000\n",
    "    \n",
    "produtos_acima2000 = dict(list(filter(ehmaior2000, preco_tecnologia.items())))\n",
    "print(produtos_acima2000)"
   ]
  },
  {
   "cell_type": "code",
   "execution_count": 626,
   "id": "2635de53",
   "metadata": {},
   "outputs": [
    {
     "name": "stdout",
     "output_type": "stream",
     "text": [
      "[('notebook asus', 2450), ('iphone', 4500), ('samsung galaxy', 3000), ('ps5', 3000), ('notebook dell', 3000), ('ipad', 3000)]\n"
     ]
    }
   ],
   "source": [
    "#fazendo por lambda\n",
    "\n",
    "produtos_acima2000_2 = list(filter(lambda item: item[1] > 2000, preco_tecnologia.items()))\n",
    "print(produtos_acima2000_2)"
   ]
  },
  {
   "cell_type": "markdown",
   "id": "6ed33974",
   "metadata": {},
   "source": [
    "# Lambda Expressions para gerar funções\n",
    "\n",
    "### Descrição\n",
    "\n",
    "- Uma das aplicações de lambda expressions, além da vista na aula passada, é criar um \"gerador de funções\". Nesse caso, usaremos a lambda expressions dentro da definição de uma outra função\n",
    "\n",
    "### Exemplo:\n",
    "\n",
    "1. Vamos criar uma função que me permita calcular o valor acrescido do imposto de diferentes categorias (produto, serviço, royalties, etc.)"
   ]
  },
  {
   "cell_type": "code",
   "execution_count": 634,
   "id": "05668027",
   "metadata": {},
   "outputs": [],
   "source": [
    "# produto 0.1\n",
    "# serviço 0.15\n",
    "# royalties 0.25\n",
    "\n",
    "def calcular_imposto(imposto):\n",
    "    return lambda preco: preco * (1 + imposto)"
   ]
  },
  {
   "cell_type": "markdown",
   "id": "c1d082f9",
   "metadata": {},
   "source": [
    "- Agora vamos definir as funções que calculam o imposto das 3 categorias (produto, serviço, royalties)"
   ]
  },
  {
   "cell_type": "code",
   "execution_count": 638,
   "id": "11c95008",
   "metadata": {},
   "outputs": [
    {
     "ename": "TypeError",
     "evalue": "type function doesn't define __round__ method",
     "output_type": "error",
     "traceback": [
      "\u001b[1;31m---------------------------------------------------------------------------\u001b[0m",
      "\u001b[1;31mTypeError\u001b[0m                                 Traceback (most recent call last)",
      "\u001b[1;32m~\\AppData\\Local\\Temp/ipykernel_48944/1681875537.py\u001b[0m in \u001b[0;36m<module>\u001b[1;34m\u001b[0m\n\u001b[1;32m----> 1\u001b[1;33m \u001b[0mcalcular_preco_produto\u001b[0m \u001b[1;33m=\u001b[0m \u001b[0mround\u001b[0m\u001b[1;33m(\u001b[0m\u001b[0mcalcular_imposto\u001b[0m\u001b[1;33m(\u001b[0m\u001b[1;36m0.1\u001b[0m\u001b[1;33m)\u001b[0m\u001b[1;33m)\u001b[0m\u001b[1;33m\u001b[0m\u001b[1;33m\u001b[0m\u001b[0m\n\u001b[0m\u001b[0;32m      2\u001b[0m \u001b[0mcalcular_preco_servico\u001b[0m \u001b[1;33m=\u001b[0m \u001b[0mcalcular_imposto\u001b[0m\u001b[1;33m(\u001b[0m\u001b[1;36m0.15\u001b[0m\u001b[1;33m)\u001b[0m\u001b[1;33m\u001b[0m\u001b[1;33m\u001b[0m\u001b[0m\n\u001b[0;32m      3\u001b[0m \u001b[0mcalcular_preco_royalties\u001b[0m \u001b[1;33m=\u001b[0m \u001b[0mcalcular_imposto\u001b[0m\u001b[1;33m(\u001b[0m\u001b[1;36m0.25\u001b[0m\u001b[1;33m)\u001b[0m\u001b[1;33m\u001b[0m\u001b[1;33m\u001b[0m\u001b[0m\n",
      "\u001b[1;31mTypeError\u001b[0m: type function doesn't define __round__ method"
     ]
    }
   ],
   "source": [
    "calcular_preco_produto = calcular_imposto(0.1)\n",
    "calcular_preco_servico = calcular_imposto(0.15)\n",
    "calcular_preco_royalties = calcular_imposto(0.25)"
   ]
  },
  {
   "cell_type": "markdown",
   "id": "043fe94b",
   "metadata": {},
   "source": [
    "- Agora vamos aplicar com um valor de nota fiscal de 100 para ver o resultado"
   ]
  },
  {
   "cell_type": "code",
   "execution_count": 640,
   "id": "dfa84a45",
   "metadata": {},
   "outputs": [
    {
     "name": "stdout",
     "output_type": "stream",
     "text": [
      "110.00000000000001\n",
      "114.99999999999999\n",
      "125.0\n",
      "----------\n",
      "110\n",
      "115\n",
      "125\n"
     ]
    }
   ],
   "source": [
    "print(calcular_preco_produto(100))\n",
    "print(calcular_preco_servico(100))\n",
    "print(calcular_preco_royalties(100))\n",
    "\n",
    "print('----------')\n",
    "\n",
    "print(round(calcular_preco_produto(100)))\n",
    "print(round(calcular_preco_servico(100)))\n",
    "print(round(calcular_preco_royalties(100)))"
   ]
  },
  {
   "cell_type": "markdown",
   "id": "e60a2ea6",
   "metadata": {},
   "source": [
    "### É menos usado do que a forma anterior que vimos, mas pode ser útil caso queira criar funções que possam ser adaptadas como vimos aqui"
   ]
  },
  {
   "cell_type": "markdown",
   "id": "576a094c",
   "metadata": {},
   "source": [
    "# Aulas Python Impressionador - Bloco 24"
   ]
  },
  {
   "cell_type": "markdown",
   "id": "9312ee24",
   "metadata": {},
   "source": [
    "# O que é o Pandas e para que serve\n",
    "\n",
    "- Análise de Dados (seja para DataScience, seja para trabalhar de forma integrada com arquivos em Excel e Banco de Dados)\n",
    "- Melhor biblioteca/módulo para trabalhar com quantidades enormes de informações\n",
    "- Uma mistura de listas e dicionários de forma muito eficiente\n",
    "\n",
    "## Resumo\n",
    "\n",
    "Se você trabalha com muitos dados, você vai precisar usar o pandas\n",
    "\n",
    "## Forma de usar"
   ]
  },
  {
   "cell_type": "code",
   "execution_count": 641,
   "id": "f3225710",
   "metadata": {},
   "outputs": [],
   "source": [
    "import pandas as pd"
   ]
  },
  {
   "cell_type": "markdown",
   "id": "56d887b9",
   "metadata": {},
   "source": [
    "## Vamos aplicar e aprender mais no Projeto de DataScience"
   ]
  },
  {
   "cell_type": "markdown",
   "id": "aa7aac3c",
   "metadata": {},
   "source": [
    "# pandas e csv\n",
    "\n",
    "## Resumo\n",
    "\n",
    "Quase sempre quando formos \"ler\" um arquivo csv, vamos usar o pandas. É prático e bem eficiente.\n",
    "\n",
    "## Funcionamento"
   ]
  },
  {
   "cell_type": "raw",
   "id": "8c842b27",
   "metadata": {},
   "source": [
    "Forma mais básica: (muitas vezes não usaremos a forma mais básica)\n",
    "dataframe = pd.read_csv(arquivo_com_extensao)"
   ]
  },
  {
   "cell_type": "markdown",
   "id": "a3d97cd5",
   "metadata": {},
   "source": [
    "- Vamos ler um arquivo real, com a Base de Dados de Vendas da Empresa \"Contoso\""
   ]
  },
  {
   "cell_type": "code",
   "execution_count": 648,
   "id": "1bc7816a",
   "metadata": {},
   "outputs": [
    {
     "data": {
      "text/html": [
       "<div>\n",
       "<style scoped>\n",
       "    .dataframe tbody tr th:only-of-type {\n",
       "        vertical-align: middle;\n",
       "    }\n",
       "\n",
       "    .dataframe tbody tr th {\n",
       "        vertical-align: top;\n",
       "    }\n",
       "\n",
       "    .dataframe thead th {\n",
       "        text-align: right;\n",
       "    }\n",
       "</style>\n",
       "<table border=\"1\" class=\"dataframe\">\n",
       "  <thead>\n",
       "    <tr style=\"text-align: right;\">\n",
       "      <th></th>\n",
       "      <th>Numero da Venda</th>\n",
       "      <th>Data da Venda</th>\n",
       "      <th>Data do Envio</th>\n",
       "      <th>ID Canal</th>\n",
       "      <th>ID Loja</th>\n",
       "      <th>ID Produto</th>\n",
       "      <th>ID Promocao</th>\n",
       "      <th>ID Cliente</th>\n",
       "      <th>Quantidade Vendida</th>\n",
       "      <th>Quantidade Devolvida</th>\n",
       "    </tr>\n",
       "  </thead>\n",
       "  <tbody>\n",
       "    <tr>\n",
       "      <th>0</th>\n",
       "      <td>1</td>\n",
       "      <td>01/01/2017</td>\n",
       "      <td>02/01/2017</td>\n",
       "      <td>1</td>\n",
       "      <td>86</td>\n",
       "      <td>981</td>\n",
       "      <td>2</td>\n",
       "      <td>6825</td>\n",
       "      <td>9</td>\n",
       "      <td>1</td>\n",
       "    </tr>\n",
       "    <tr>\n",
       "      <th>1</th>\n",
       "      <td>2</td>\n",
       "      <td>01/01/2017</td>\n",
       "      <td>06/01/2017</td>\n",
       "      <td>5</td>\n",
       "      <td>308</td>\n",
       "      <td>1586</td>\n",
       "      <td>2</td>\n",
       "      <td>18469</td>\n",
       "      <td>9</td>\n",
       "      <td>1</td>\n",
       "    </tr>\n",
       "    <tr>\n",
       "      <th>2</th>\n",
       "      <td>3</td>\n",
       "      <td>01/01/2017</td>\n",
       "      <td>01/01/2017</td>\n",
       "      <td>0</td>\n",
       "      <td>294</td>\n",
       "      <td>1444</td>\n",
       "      <td>5</td>\n",
       "      <td>19730</td>\n",
       "      <td>13</td>\n",
       "      <td>1</td>\n",
       "    </tr>\n",
       "    <tr>\n",
       "      <th>3</th>\n",
       "      <td>4</td>\n",
       "      <td>01/01/2017</td>\n",
       "      <td>01/01/2017</td>\n",
       "      <td>0</td>\n",
       "      <td>251</td>\n",
       "      <td>1468</td>\n",
       "      <td>5</td>\n",
       "      <td>29326</td>\n",
       "      <td>6</td>\n",
       "      <td>1</td>\n",
       "    </tr>\n",
       "    <tr>\n",
       "      <th>4</th>\n",
       "      <td>5</td>\n",
       "      <td>01/01/2017</td>\n",
       "      <td>07/01/2017</td>\n",
       "      <td>6</td>\n",
       "      <td>94</td>\n",
       "      <td>1106</td>\n",
       "      <td>2</td>\n",
       "      <td>22617</td>\n",
       "      <td>4</td>\n",
       "      <td>1</td>\n",
       "    </tr>\n",
       "    <tr>\n",
       "      <th>...</th>\n",
       "      <td>...</td>\n",
       "      <td>...</td>\n",
       "      <td>...</td>\n",
       "      <td>...</td>\n",
       "      <td>...</td>\n",
       "      <td>...</td>\n",
       "      <td>...</td>\n",
       "      <td>...</td>\n",
       "      <td>...</td>\n",
       "      <td>...</td>\n",
       "    </tr>\n",
       "    <tr>\n",
       "      <th>980637</th>\n",
       "      <td>980638</td>\n",
       "      <td>31/12/2017</td>\n",
       "      <td>31/12/2017</td>\n",
       "      <td>0</td>\n",
       "      <td>194</td>\n",
       "      <td>2490</td>\n",
       "      <td>4</td>\n",
       "      <td>10353</td>\n",
       "      <td>120</td>\n",
       "      <td>0</td>\n",
       "    </tr>\n",
       "    <tr>\n",
       "      <th>980638</th>\n",
       "      <td>980639</td>\n",
       "      <td>31/12/2017</td>\n",
       "      <td>06/01/2018</td>\n",
       "      <td>6</td>\n",
       "      <td>32</td>\n",
       "      <td>2488</td>\n",
       "      <td>4</td>\n",
       "      <td>31750</td>\n",
       "      <td>120</td>\n",
       "      <td>0</td>\n",
       "    </tr>\n",
       "    <tr>\n",
       "      <th>980639</th>\n",
       "      <td>980640</td>\n",
       "      <td>31/12/2017</td>\n",
       "      <td>03/01/2018</td>\n",
       "      <td>3</td>\n",
       "      <td>210</td>\n",
       "      <td>2511</td>\n",
       "      <td>10</td>\n",
       "      <td>12003</td>\n",
       "      <td>80</td>\n",
       "      <td>0</td>\n",
       "    </tr>\n",
       "    <tr>\n",
       "      <th>980640</th>\n",
       "      <td>980641</td>\n",
       "      <td>31/12/2017</td>\n",
       "      <td>31/12/2017</td>\n",
       "      <td>0</td>\n",
       "      <td>53</td>\n",
       "      <td>436</td>\n",
       "      <td>4</td>\n",
       "      <td>25550</td>\n",
       "      <td>39</td>\n",
       "      <td>0</td>\n",
       "    </tr>\n",
       "    <tr>\n",
       "      <th>980641</th>\n",
       "      <td>980642</td>\n",
       "      <td>31/12/2017</td>\n",
       "      <td>31/12/2017</td>\n",
       "      <td>0</td>\n",
       "      <td>309</td>\n",
       "      <td>2510</td>\n",
       "      <td>10</td>\n",
       "      <td>28707</td>\n",
       "      <td>80</td>\n",
       "      <td>0</td>\n",
       "    </tr>\n",
       "  </tbody>\n",
       "</table>\n",
       "<p>980642 rows × 10 columns</p>\n",
       "</div>"
      ],
      "text/plain": [
       "        Numero da Venda Data da Venda Data do Envio  ID Canal  ID Loja  \\\n",
       "0                     1    01/01/2017    02/01/2017         1       86   \n",
       "1                     2    01/01/2017    06/01/2017         5      308   \n",
       "2                     3    01/01/2017    01/01/2017         0      294   \n",
       "3                     4    01/01/2017    01/01/2017         0      251   \n",
       "4                     5    01/01/2017    07/01/2017         6       94   \n",
       "...                 ...           ...           ...       ...      ...   \n",
       "980637           980638    31/12/2017    31/12/2017         0      194   \n",
       "980638           980639    31/12/2017    06/01/2018         6       32   \n",
       "980639           980640    31/12/2017    03/01/2018         3      210   \n",
       "980640           980641    31/12/2017    31/12/2017         0       53   \n",
       "980641           980642    31/12/2017    31/12/2017         0      309   \n",
       "\n",
       "        ID Produto  ID Promocao  ID Cliente  Quantidade Vendida  \\\n",
       "0              981            2        6825                   9   \n",
       "1             1586            2       18469                   9   \n",
       "2             1444            5       19730                  13   \n",
       "3             1468            5       29326                   6   \n",
       "4             1106            2       22617                   4   \n",
       "...            ...          ...         ...                 ...   \n",
       "980637        2490            4       10353                 120   \n",
       "980638        2488            4       31750                 120   \n",
       "980639        2511           10       12003                  80   \n",
       "980640         436            4       25550                  39   \n",
       "980641        2510           10       28707                  80   \n",
       "\n",
       "        Quantidade Devolvida  \n",
       "0                          1  \n",
       "1                          1  \n",
       "2                          1  \n",
       "3                          1  \n",
       "4                          1  \n",
       "...                      ...  \n",
       "980637                     0  \n",
       "980638                     0  \n",
       "980639                     0  \n",
       "980640                     0  \n",
       "980641                     0  \n",
       "\n",
       "[980642 rows x 10 columns]"
      ]
     },
     "execution_count": 648,
     "metadata": {},
     "output_type": "execute_result"
    }
   ],
   "source": [
    "import pandas as pd\n",
    "\n",
    "vendas_df = pd.read_csv(r'C:\\Users\\Daniel\\Documents\\Arquivos Técnicos\\Arquivos\\Programação\\Cursos\\Python Impressionador - Hashtag Treinamento\\19.Análise da Dados com o Pandas + Integração Python e Excel\\MATERIAL DE APOIO\\Contoso - Vendas  - 2017.csv', sep=';') \n",
    "# Informe o separador do arquivo ';'\n",
    "# r informa que é um texto bruto: raw_string / Para caminho, use o r sempre.\n",
    "\n",
    "vendas_df"
   ]
  },
  {
   "cell_type": "markdown",
   "id": "c7963677",
   "metadata": {},
   "source": [
    "# DataFrame\n",
    "\n",
    "\n",
    "## Resumo\n",
    "\n",
    "É como se fosse uma tabela.\n",
    "\n",
    "- As colunas funcionam \"como chaves de dicionário\"\n",
    "- As linhas funcionam \"como listas\"\n",
    "\n",
    "## Funcionamento"
   ]
  },
  {
   "cell_type": "raw",
   "id": "9d9cf8f7",
   "metadata": {},
   "source": [
    "Temos um dataframe chamado vendas_df\n",
    "\n",
    "vendas_df['coluna_x'] -> uma lista com os valores da coluna_x (em formato dataframe, é um dataframe com 1 coluna só)\n",
    "vendas_df[0] -> NÃO FUNCIONA ASSIM PARA DATAFRAMES\n",
    "vendas_df[:3] -> pega até a linha de índice 3 do dataframe\n",
    "vendas_df[['coluna_x', 'coluna_y', 'coluna_z']] -> cria um novo dataframe com as colunas coluna_x, coluna_y e coluna_z\n",
    "vendas_df['coluna_x'][0] -> pega o itemd a 1ª linha da coluna coluna_x"
   ]
  },
  {
   "cell_type": "markdown",
   "id": "83cc81ad",
   "metadata": {},
   "source": [
    "- Vamos ler um arquivo real, com a Base de Dados de Vendas da Empresa \"Contoso\""
   ]
  },
  {
   "cell_type": "code",
   "execution_count": 654,
   "id": "476e3114",
   "metadata": {},
   "outputs": [
    {
     "data": {
      "text/html": [
       "<div>\n",
       "<style scoped>\n",
       "    .dataframe tbody tr th:only-of-type {\n",
       "        vertical-align: middle;\n",
       "    }\n",
       "\n",
       "    .dataframe tbody tr th {\n",
       "        vertical-align: top;\n",
       "    }\n",
       "\n",
       "    .dataframe thead th {\n",
       "        text-align: right;\n",
       "    }\n",
       "</style>\n",
       "<table border=\"1\" class=\"dataframe\">\n",
       "  <thead>\n",
       "    <tr style=\"text-align: right;\">\n",
       "      <th></th>\n",
       "      <th>Numero da Venda</th>\n",
       "      <th>Data da Venda</th>\n",
       "      <th>Data do Envio</th>\n",
       "      <th>ID Canal</th>\n",
       "      <th>ID Loja</th>\n",
       "      <th>ID Produto</th>\n",
       "      <th>ID Promocao</th>\n",
       "      <th>ID Cliente</th>\n",
       "      <th>Quantidade Vendida</th>\n",
       "      <th>Quantidade Devolvida</th>\n",
       "    </tr>\n",
       "  </thead>\n",
       "  <tbody>\n",
       "    <tr>\n",
       "      <th>0</th>\n",
       "      <td>1</td>\n",
       "      <td>01/01/2017</td>\n",
       "      <td>02/01/2017</td>\n",
       "      <td>1</td>\n",
       "      <td>86</td>\n",
       "      <td>981</td>\n",
       "      <td>2</td>\n",
       "      <td>6825</td>\n",
       "      <td>9</td>\n",
       "      <td>1</td>\n",
       "    </tr>\n",
       "    <tr>\n",
       "      <th>1</th>\n",
       "      <td>2</td>\n",
       "      <td>01/01/2017</td>\n",
       "      <td>06/01/2017</td>\n",
       "      <td>5</td>\n",
       "      <td>308</td>\n",
       "      <td>1586</td>\n",
       "      <td>2</td>\n",
       "      <td>18469</td>\n",
       "      <td>9</td>\n",
       "      <td>1</td>\n",
       "    </tr>\n",
       "    <tr>\n",
       "      <th>2</th>\n",
       "      <td>3</td>\n",
       "      <td>01/01/2017</td>\n",
       "      <td>01/01/2017</td>\n",
       "      <td>0</td>\n",
       "      <td>294</td>\n",
       "      <td>1444</td>\n",
       "      <td>5</td>\n",
       "      <td>19730</td>\n",
       "      <td>13</td>\n",
       "      <td>1</td>\n",
       "    </tr>\n",
       "    <tr>\n",
       "      <th>3</th>\n",
       "      <td>4</td>\n",
       "      <td>01/01/2017</td>\n",
       "      <td>01/01/2017</td>\n",
       "      <td>0</td>\n",
       "      <td>251</td>\n",
       "      <td>1468</td>\n",
       "      <td>5</td>\n",
       "      <td>29326</td>\n",
       "      <td>6</td>\n",
       "      <td>1</td>\n",
       "    </tr>\n",
       "    <tr>\n",
       "      <th>4</th>\n",
       "      <td>5</td>\n",
       "      <td>01/01/2017</td>\n",
       "      <td>07/01/2017</td>\n",
       "      <td>6</td>\n",
       "      <td>94</td>\n",
       "      <td>1106</td>\n",
       "      <td>2</td>\n",
       "      <td>22617</td>\n",
       "      <td>4</td>\n",
       "      <td>1</td>\n",
       "    </tr>\n",
       "    <tr>\n",
       "      <th>...</th>\n",
       "      <td>...</td>\n",
       "      <td>...</td>\n",
       "      <td>...</td>\n",
       "      <td>...</td>\n",
       "      <td>...</td>\n",
       "      <td>...</td>\n",
       "      <td>...</td>\n",
       "      <td>...</td>\n",
       "      <td>...</td>\n",
       "      <td>...</td>\n",
       "    </tr>\n",
       "    <tr>\n",
       "      <th>980637</th>\n",
       "      <td>980638</td>\n",
       "      <td>31/12/2017</td>\n",
       "      <td>31/12/2017</td>\n",
       "      <td>0</td>\n",
       "      <td>194</td>\n",
       "      <td>2490</td>\n",
       "      <td>4</td>\n",
       "      <td>10353</td>\n",
       "      <td>120</td>\n",
       "      <td>0</td>\n",
       "    </tr>\n",
       "    <tr>\n",
       "      <th>980638</th>\n",
       "      <td>980639</td>\n",
       "      <td>31/12/2017</td>\n",
       "      <td>06/01/2018</td>\n",
       "      <td>6</td>\n",
       "      <td>32</td>\n",
       "      <td>2488</td>\n",
       "      <td>4</td>\n",
       "      <td>31750</td>\n",
       "      <td>120</td>\n",
       "      <td>0</td>\n",
       "    </tr>\n",
       "    <tr>\n",
       "      <th>980639</th>\n",
       "      <td>980640</td>\n",
       "      <td>31/12/2017</td>\n",
       "      <td>03/01/2018</td>\n",
       "      <td>3</td>\n",
       "      <td>210</td>\n",
       "      <td>2511</td>\n",
       "      <td>10</td>\n",
       "      <td>12003</td>\n",
       "      <td>80</td>\n",
       "      <td>0</td>\n",
       "    </tr>\n",
       "    <tr>\n",
       "      <th>980640</th>\n",
       "      <td>980641</td>\n",
       "      <td>31/12/2017</td>\n",
       "      <td>31/12/2017</td>\n",
       "      <td>0</td>\n",
       "      <td>53</td>\n",
       "      <td>436</td>\n",
       "      <td>4</td>\n",
       "      <td>25550</td>\n",
       "      <td>39</td>\n",
       "      <td>0</td>\n",
       "    </tr>\n",
       "    <tr>\n",
       "      <th>980641</th>\n",
       "      <td>980642</td>\n",
       "      <td>31/12/2017</td>\n",
       "      <td>31/12/2017</td>\n",
       "      <td>0</td>\n",
       "      <td>309</td>\n",
       "      <td>2510</td>\n",
       "      <td>10</td>\n",
       "      <td>28707</td>\n",
       "      <td>80</td>\n",
       "      <td>0</td>\n",
       "    </tr>\n",
       "  </tbody>\n",
       "</table>\n",
       "<p>980642 rows × 10 columns</p>\n",
       "</div>"
      ],
      "text/plain": [
       "        Numero da Venda Data da Venda Data do Envio  ID Canal  ID Loja  \\\n",
       "0                     1    01/01/2017    02/01/2017         1       86   \n",
       "1                     2    01/01/2017    06/01/2017         5      308   \n",
       "2                     3    01/01/2017    01/01/2017         0      294   \n",
       "3                     4    01/01/2017    01/01/2017         0      251   \n",
       "4                     5    01/01/2017    07/01/2017         6       94   \n",
       "...                 ...           ...           ...       ...      ...   \n",
       "980637           980638    31/12/2017    31/12/2017         0      194   \n",
       "980638           980639    31/12/2017    06/01/2018         6       32   \n",
       "980639           980640    31/12/2017    03/01/2018         3      210   \n",
       "980640           980641    31/12/2017    31/12/2017         0       53   \n",
       "980641           980642    31/12/2017    31/12/2017         0      309   \n",
       "\n",
       "        ID Produto  ID Promocao  ID Cliente  Quantidade Vendida  \\\n",
       "0              981            2        6825                   9   \n",
       "1             1586            2       18469                   9   \n",
       "2             1444            5       19730                  13   \n",
       "3             1468            5       29326                   6   \n",
       "4             1106            2       22617                   4   \n",
       "...            ...          ...         ...                 ...   \n",
       "980637        2490            4       10353                 120   \n",
       "980638        2488            4       31750                 120   \n",
       "980639        2511           10       12003                  80   \n",
       "980640         436            4       25550                  39   \n",
       "980641        2510           10       28707                  80   \n",
       "\n",
       "        Quantidade Devolvida  \n",
       "0                          1  \n",
       "1                          1  \n",
       "2                          1  \n",
       "3                          1  \n",
       "4                          1  \n",
       "...                      ...  \n",
       "980637                     0  \n",
       "980638                     0  \n",
       "980639                     0  \n",
       "980640                     0  \n",
       "980641                     0  \n",
       "\n",
       "[980642 rows x 10 columns]"
      ]
     },
     "execution_count": 654,
     "metadata": {},
     "output_type": "execute_result"
    }
   ],
   "source": [
    "import pandas as pd\n",
    "\n",
    "vendas_df = pd.read_csv(r'C:\\Users\\Daniel\\Documents\\Arquivos Técnicos\\Arquivos\\Programação\\Cursos\\Python Impressionador - Hashtag Treinamento\\19.Análise da Dados com o Pandas + Integração Python e Excel\\MATERIAL DE APOIO\\Contoso - Vendas  - 2017.csv', sep=';')\n",
    "\n",
    "vendas_df"
   ]
  },
  {
   "cell_type": "markdown",
   "id": "d21e3cca",
   "metadata": {},
   "source": [
    "## Aplicação"
   ]
  },
  {
   "cell_type": "markdown",
   "id": "f3bf45e8",
   "metadata": {},
   "source": [
    "- O 1º passo de toda Análise de Dados é você entender o que existe na sua base de dados\n",
    "\n",
    "Usaremos o .info() para isso"
   ]
  },
  {
   "cell_type": "code",
   "execution_count": 655,
   "id": "43b1f7d8",
   "metadata": {},
   "outputs": [
    {
     "name": "stdout",
     "output_type": "stream",
     "text": [
      "<class 'pandas.core.frame.DataFrame'>\n",
      "RangeIndex: 980642 entries, 0 to 980641\n",
      "Data columns (total 10 columns):\n",
      " #   Column                Non-Null Count   Dtype \n",
      "---  ------                --------------   ----- \n",
      " 0   Numero da Venda       980642 non-null  int64 \n",
      " 1   Data da Venda         980642 non-null  object\n",
      " 2   Data do Envio         980642 non-null  object\n",
      " 3   ID Canal              980642 non-null  int64 \n",
      " 4   ID Loja               980642 non-null  int64 \n",
      " 5   ID Produto            980642 non-null  int64 \n",
      " 6   ID Promocao           980642 non-null  int64 \n",
      " 7   ID Cliente            980642 non-null  int64 \n",
      " 8   Quantidade Vendida    980642 non-null  int64 \n",
      " 9   Quantidade Devolvida  980642 non-null  int64 \n",
      "dtypes: int64(8), object(2)\n",
      "memory usage: 74.8+ MB\n"
     ]
    }
   ],
   "source": [
    "vendas_df.info()"
   ]
  },
  {
   "cell_type": "markdown",
   "id": "12a2effc",
   "metadata": {},
   "source": [
    "- Vamos criar então agora uma lista de Clientes"
   ]
  },
  {
   "cell_type": "code",
   "execution_count": 656,
   "id": "fb04e537",
   "metadata": {},
   "outputs": [
    {
     "data": {
      "text/plain": [
       "0          6825\n",
       "1         18469\n",
       "2         19730\n",
       "3         29326\n",
       "4         22617\n",
       "          ...  \n",
       "980637    10353\n",
       "980638    31750\n",
       "980639    12003\n",
       "980640    25550\n",
       "980641    28707\n",
       "Name: ID Cliente, Length: 980642, dtype: int64"
      ]
     },
     "execution_count": 656,
     "metadata": {},
     "output_type": "execute_result"
    }
   ],
   "source": [
    "lista_clientes = vendas_df['ID Cliente']\n",
    "lista_clientes"
   ]
  },
  {
   "cell_type": "markdown",
   "id": "fe892549",
   "metadata": {},
   "source": [
    "- Vamos criar agora uma lista com os produtos e as quantidades de vendas dele, caso a gente queira analisar só os produtos (independente de data ou de cliente)"
   ]
  },
  {
   "cell_type": "code",
   "execution_count": 658,
   "id": "85190a5a",
   "metadata": {},
   "outputs": [
    {
     "data": {
      "text/html": [
       "<div>\n",
       "<style scoped>\n",
       "    .dataframe tbody tr th:only-of-type {\n",
       "        vertical-align: middle;\n",
       "    }\n",
       "\n",
       "    .dataframe tbody tr th {\n",
       "        vertical-align: top;\n",
       "    }\n",
       "\n",
       "    .dataframe thead th {\n",
       "        text-align: right;\n",
       "    }\n",
       "</style>\n",
       "<table border=\"1\" class=\"dataframe\">\n",
       "  <thead>\n",
       "    <tr style=\"text-align: right;\">\n",
       "      <th></th>\n",
       "      <th>ID Produto</th>\n",
       "      <th>Quantidade Vendida</th>\n",
       "      <th>Quantidade Devolvida</th>\n",
       "    </tr>\n",
       "  </thead>\n",
       "  <tbody>\n",
       "    <tr>\n",
       "      <th>0</th>\n",
       "      <td>981</td>\n",
       "      <td>9</td>\n",
       "      <td>1</td>\n",
       "    </tr>\n",
       "    <tr>\n",
       "      <th>1</th>\n",
       "      <td>1586</td>\n",
       "      <td>9</td>\n",
       "      <td>1</td>\n",
       "    </tr>\n",
       "    <tr>\n",
       "      <th>2</th>\n",
       "      <td>1444</td>\n",
       "      <td>13</td>\n",
       "      <td>1</td>\n",
       "    </tr>\n",
       "    <tr>\n",
       "      <th>3</th>\n",
       "      <td>1468</td>\n",
       "      <td>6</td>\n",
       "      <td>1</td>\n",
       "    </tr>\n",
       "    <tr>\n",
       "      <th>4</th>\n",
       "      <td>1106</td>\n",
       "      <td>4</td>\n",
       "      <td>1</td>\n",
       "    </tr>\n",
       "    <tr>\n",
       "      <th>...</th>\n",
       "      <td>...</td>\n",
       "      <td>...</td>\n",
       "      <td>...</td>\n",
       "    </tr>\n",
       "    <tr>\n",
       "      <th>980637</th>\n",
       "      <td>2490</td>\n",
       "      <td>120</td>\n",
       "      <td>0</td>\n",
       "    </tr>\n",
       "    <tr>\n",
       "      <th>980638</th>\n",
       "      <td>2488</td>\n",
       "      <td>120</td>\n",
       "      <td>0</td>\n",
       "    </tr>\n",
       "    <tr>\n",
       "      <th>980639</th>\n",
       "      <td>2511</td>\n",
       "      <td>80</td>\n",
       "      <td>0</td>\n",
       "    </tr>\n",
       "    <tr>\n",
       "      <th>980640</th>\n",
       "      <td>436</td>\n",
       "      <td>39</td>\n",
       "      <td>0</td>\n",
       "    </tr>\n",
       "    <tr>\n",
       "      <th>980641</th>\n",
       "      <td>2510</td>\n",
       "      <td>80</td>\n",
       "      <td>0</td>\n",
       "    </tr>\n",
       "  </tbody>\n",
       "</table>\n",
       "<p>980642 rows × 3 columns</p>\n",
       "</div>"
      ],
      "text/plain": [
       "        ID Produto  Quantidade Vendida  Quantidade Devolvida\n",
       "0              981                   9                     1\n",
       "1             1586                   9                     1\n",
       "2             1444                  13                     1\n",
       "3             1468                   6                     1\n",
       "4             1106                   4                     1\n",
       "...            ...                 ...                   ...\n",
       "980637        2490                 120                     0\n",
       "980638        2488                 120                     0\n",
       "980639        2511                  80                     0\n",
       "980640         436                  39                     0\n",
       "980641        2510                  80                     0\n",
       "\n",
       "[980642 rows x 3 columns]"
      ]
     },
     "execution_count": 658,
     "metadata": {},
     "output_type": "execute_result"
    }
   ],
   "source": [
    "produtos_quantidade = vendas_df[['ID Produto', 'Quantidade Vendida', 'Quantidade Devolvida']]\n",
    "produtos_quantidade"
   ]
  },
  {
   "cell_type": "markdown",
   "id": "6be58df7",
   "metadata": {},
   "source": [
    "# Comparando, Tratando e Mesclando DataFrames\n",
    "\n",
    "## Objetivo\n",
    "\n",
    "Vamos modificar os IDs para os nomes dos produtos, dos clientes e das lojas, para nossas análises ficarem mais intuitivas futuramente. Para isso, vamos criar um data frame com todos os detalhes.\n",
    "\n",
    "- Usaremos o método merge para isso e, depois se quisermos, podemos pegar apenas as colunas que queremos do dataframe final."
   ]
  },
  {
   "cell_type": "markdown",
   "id": "8bf65f30",
   "metadata": {},
   "source": [
    "### Criando nossos dataframes"
   ]
  },
  {
   "cell_type": "code",
   "execution_count": 662,
   "id": "b61e9ec3",
   "metadata": {
    "scrolled": false
   },
   "outputs": [
    {
     "data": {
      "text/html": [
       "<div>\n",
       "<style scoped>\n",
       "    .dataframe tbody tr th:only-of-type {\n",
       "        vertical-align: middle;\n",
       "    }\n",
       "\n",
       "    .dataframe tbody tr th {\n",
       "        vertical-align: top;\n",
       "    }\n",
       "\n",
       "    .dataframe thead th {\n",
       "        text-align: right;\n",
       "    }\n",
       "</style>\n",
       "<table border=\"1\" class=\"dataframe\">\n",
       "  <thead>\n",
       "    <tr style=\"text-align: right;\">\n",
       "      <th></th>\n",
       "      <th>Numero da Venda</th>\n",
       "      <th>Data da Venda</th>\n",
       "      <th>Data do Envio</th>\n",
       "      <th>ID Canal</th>\n",
       "      <th>ID Loja</th>\n",
       "      <th>ID Produto</th>\n",
       "      <th>ID Promocao</th>\n",
       "      <th>ID Cliente</th>\n",
       "      <th>Quantidade Vendida</th>\n",
       "      <th>Quantidade Devolvida</th>\n",
       "    </tr>\n",
       "  </thead>\n",
       "  <tbody>\n",
       "    <tr>\n",
       "      <th>0</th>\n",
       "      <td>1</td>\n",
       "      <td>01/01/2017</td>\n",
       "      <td>02/01/2017</td>\n",
       "      <td>1</td>\n",
       "      <td>86</td>\n",
       "      <td>981</td>\n",
       "      <td>2</td>\n",
       "      <td>6825</td>\n",
       "      <td>9</td>\n",
       "      <td>1</td>\n",
       "    </tr>\n",
       "    <tr>\n",
       "      <th>1</th>\n",
       "      <td>2</td>\n",
       "      <td>01/01/2017</td>\n",
       "      <td>06/01/2017</td>\n",
       "      <td>5</td>\n",
       "      <td>308</td>\n",
       "      <td>1586</td>\n",
       "      <td>2</td>\n",
       "      <td>18469</td>\n",
       "      <td>9</td>\n",
       "      <td>1</td>\n",
       "    </tr>\n",
       "    <tr>\n",
       "      <th>2</th>\n",
       "      <td>3</td>\n",
       "      <td>01/01/2017</td>\n",
       "      <td>01/01/2017</td>\n",
       "      <td>0</td>\n",
       "      <td>294</td>\n",
       "      <td>1444</td>\n",
       "      <td>5</td>\n",
       "      <td>19730</td>\n",
       "      <td>13</td>\n",
       "      <td>1</td>\n",
       "    </tr>\n",
       "    <tr>\n",
       "      <th>3</th>\n",
       "      <td>4</td>\n",
       "      <td>01/01/2017</td>\n",
       "      <td>01/01/2017</td>\n",
       "      <td>0</td>\n",
       "      <td>251</td>\n",
       "      <td>1468</td>\n",
       "      <td>5</td>\n",
       "      <td>29326</td>\n",
       "      <td>6</td>\n",
       "      <td>1</td>\n",
       "    </tr>\n",
       "    <tr>\n",
       "      <th>4</th>\n",
       "      <td>5</td>\n",
       "      <td>01/01/2017</td>\n",
       "      <td>07/01/2017</td>\n",
       "      <td>6</td>\n",
       "      <td>94</td>\n",
       "      <td>1106</td>\n",
       "      <td>2</td>\n",
       "      <td>22617</td>\n",
       "      <td>4</td>\n",
       "      <td>1</td>\n",
       "    </tr>\n",
       "    <tr>\n",
       "      <th>...</th>\n",
       "      <td>...</td>\n",
       "      <td>...</td>\n",
       "      <td>...</td>\n",
       "      <td>...</td>\n",
       "      <td>...</td>\n",
       "      <td>...</td>\n",
       "      <td>...</td>\n",
       "      <td>...</td>\n",
       "      <td>...</td>\n",
       "      <td>...</td>\n",
       "    </tr>\n",
       "    <tr>\n",
       "      <th>980637</th>\n",
       "      <td>980638</td>\n",
       "      <td>31/12/2017</td>\n",
       "      <td>31/12/2017</td>\n",
       "      <td>0</td>\n",
       "      <td>194</td>\n",
       "      <td>2490</td>\n",
       "      <td>4</td>\n",
       "      <td>10353</td>\n",
       "      <td>120</td>\n",
       "      <td>0</td>\n",
       "    </tr>\n",
       "    <tr>\n",
       "      <th>980638</th>\n",
       "      <td>980639</td>\n",
       "      <td>31/12/2017</td>\n",
       "      <td>06/01/2018</td>\n",
       "      <td>6</td>\n",
       "      <td>32</td>\n",
       "      <td>2488</td>\n",
       "      <td>4</td>\n",
       "      <td>31750</td>\n",
       "      <td>120</td>\n",
       "      <td>0</td>\n",
       "    </tr>\n",
       "    <tr>\n",
       "      <th>980639</th>\n",
       "      <td>980640</td>\n",
       "      <td>31/12/2017</td>\n",
       "      <td>03/01/2018</td>\n",
       "      <td>3</td>\n",
       "      <td>210</td>\n",
       "      <td>2511</td>\n",
       "      <td>10</td>\n",
       "      <td>12003</td>\n",
       "      <td>80</td>\n",
       "      <td>0</td>\n",
       "    </tr>\n",
       "    <tr>\n",
       "      <th>980640</th>\n",
       "      <td>980641</td>\n",
       "      <td>31/12/2017</td>\n",
       "      <td>31/12/2017</td>\n",
       "      <td>0</td>\n",
       "      <td>53</td>\n",
       "      <td>436</td>\n",
       "      <td>4</td>\n",
       "      <td>25550</td>\n",
       "      <td>39</td>\n",
       "      <td>0</td>\n",
       "    </tr>\n",
       "    <tr>\n",
       "      <th>980641</th>\n",
       "      <td>980642</td>\n",
       "      <td>31/12/2017</td>\n",
       "      <td>31/12/2017</td>\n",
       "      <td>0</td>\n",
       "      <td>309</td>\n",
       "      <td>2510</td>\n",
       "      <td>10</td>\n",
       "      <td>28707</td>\n",
       "      <td>80</td>\n",
       "      <td>0</td>\n",
       "    </tr>\n",
       "  </tbody>\n",
       "</table>\n",
       "<p>980642 rows × 10 columns</p>\n",
       "</div>"
      ],
      "text/plain": [
       "        Numero da Venda Data da Venda Data do Envio  ID Canal  ID Loja  \\\n",
       "0                     1    01/01/2017    02/01/2017         1       86   \n",
       "1                     2    01/01/2017    06/01/2017         5      308   \n",
       "2                     3    01/01/2017    01/01/2017         0      294   \n",
       "3                     4    01/01/2017    01/01/2017         0      251   \n",
       "4                     5    01/01/2017    07/01/2017         6       94   \n",
       "...                 ...           ...           ...       ...      ...   \n",
       "980637           980638    31/12/2017    31/12/2017         0      194   \n",
       "980638           980639    31/12/2017    06/01/2018         6       32   \n",
       "980639           980640    31/12/2017    03/01/2018         3      210   \n",
       "980640           980641    31/12/2017    31/12/2017         0       53   \n",
       "980641           980642    31/12/2017    31/12/2017         0      309   \n",
       "\n",
       "        ID Produto  ID Promocao  ID Cliente  Quantidade Vendida  \\\n",
       "0              981            2        6825                   9   \n",
       "1             1586            2       18469                   9   \n",
       "2             1444            5       19730                  13   \n",
       "3             1468            5       29326                   6   \n",
       "4             1106            2       22617                   4   \n",
       "...            ...          ...         ...                 ...   \n",
       "980637        2490            4       10353                 120   \n",
       "980638        2488            4       31750                 120   \n",
       "980639        2511           10       12003                  80   \n",
       "980640         436            4       25550                  39   \n",
       "980641        2510           10       28707                  80   \n",
       "\n",
       "        Quantidade Devolvida  \n",
       "0                          1  \n",
       "1                          1  \n",
       "2                          1  \n",
       "3                          1  \n",
       "4                          1  \n",
       "...                      ...  \n",
       "980637                     0  \n",
       "980638                     0  \n",
       "980639                     0  \n",
       "980640                     0  \n",
       "980641                     0  \n",
       "\n",
       "[980642 rows x 10 columns]"
      ]
     },
     "metadata": {},
     "output_type": "display_data"
    },
    {
     "data": {
      "text/html": [
       "<div>\n",
       "<style scoped>\n",
       "    .dataframe tbody tr th:only-of-type {\n",
       "        vertical-align: middle;\n",
       "    }\n",
       "\n",
       "    .dataframe tbody tr th {\n",
       "        vertical-align: top;\n",
       "    }\n",
       "\n",
       "    .dataframe thead th {\n",
       "        text-align: right;\n",
       "    }\n",
       "</style>\n",
       "<table border=\"1\" class=\"dataframe\">\n",
       "  <thead>\n",
       "    <tr style=\"text-align: right;\">\n",
       "      <th></th>\n",
       "      <th>Nome da Marca</th>\n",
       "      <th>Tipo</th>\n",
       "      <th>Custo Unitario</th>\n",
       "      <th>Preco Unitario</th>\n",
       "      <th>ID Produto</th>\n",
       "      <th>Categoria</th>\n",
       "    </tr>\n",
       "  </thead>\n",
       "  <tbody>\n",
       "    <tr>\n",
       "      <th>0</th>\n",
       "      <td>Contoso</td>\n",
       "      <td>Econômico</td>\n",
       "      <td>10,69</td>\n",
       "      <td>20,96</td>\n",
       "      <td>873</td>\n",
       "      <td>Acessório para Computador</td>\n",
       "    </tr>\n",
       "    <tr>\n",
       "      <th>1</th>\n",
       "      <td>Contoso</td>\n",
       "      <td>Econômico</td>\n",
       "      <td>6,63</td>\n",
       "      <td>13</td>\n",
       "      <td>879</td>\n",
       "      <td>Acessório para Computador</td>\n",
       "    </tr>\n",
       "    <tr>\n",
       "      <th>2</th>\n",
       "      <td>Contoso</td>\n",
       "      <td>Econômico</td>\n",
       "      <td>6,63</td>\n",
       "      <td>13</td>\n",
       "      <td>880</td>\n",
       "      <td>Acessório para Computador</td>\n",
       "    </tr>\n",
       "    <tr>\n",
       "      <th>3</th>\n",
       "      <td>Contoso</td>\n",
       "      <td>Econômico</td>\n",
       "      <td>6,63</td>\n",
       "      <td>13</td>\n",
       "      <td>881</td>\n",
       "      <td>Acessório para Computador</td>\n",
       "    </tr>\n",
       "    <tr>\n",
       "      <th>4</th>\n",
       "      <td>Contoso</td>\n",
       "      <td>Econômico</td>\n",
       "      <td>6,63</td>\n",
       "      <td>13</td>\n",
       "      <td>882</td>\n",
       "      <td>Acessório para Computador</td>\n",
       "    </tr>\n",
       "    <tr>\n",
       "      <th>...</th>\n",
       "      <td>...</td>\n",
       "      <td>...</td>\n",
       "      <td>...</td>\n",
       "      <td>...</td>\n",
       "      <td>...</td>\n",
       "      <td>...</td>\n",
       "    </tr>\n",
       "    <tr>\n",
       "      <th>1685</th>\n",
       "      <td>Southridge Video</td>\n",
       "      <td>Regular</td>\n",
       "      <td>82,77</td>\n",
       "      <td>179,99</td>\n",
       "      <td>1602</td>\n",
       "      <td>Filme DVD</td>\n",
       "    </tr>\n",
       "    <tr>\n",
       "      <th>1686</th>\n",
       "      <td>Southridge Video</td>\n",
       "      <td>Regular</td>\n",
       "      <td>73,57</td>\n",
       "      <td>159,99</td>\n",
       "      <td>1606</td>\n",
       "      <td>Filme DVD</td>\n",
       "    </tr>\n",
       "    <tr>\n",
       "      <th>1687</th>\n",
       "      <td>Southridge Video</td>\n",
       "      <td>Regular</td>\n",
       "      <td>82,77</td>\n",
       "      <td>179,99</td>\n",
       "      <td>1607</td>\n",
       "      <td>Filme DVD</td>\n",
       "    </tr>\n",
       "    <tr>\n",
       "      <th>1688</th>\n",
       "      <td>Southridge Video</td>\n",
       "      <td>Regular</td>\n",
       "      <td>73,57</td>\n",
       "      <td>159,99</td>\n",
       "      <td>1611</td>\n",
       "      <td>Filme DVD</td>\n",
       "    </tr>\n",
       "    <tr>\n",
       "      <th>1689</th>\n",
       "      <td>Southridge Video</td>\n",
       "      <td>Regular</td>\n",
       "      <td>82,77</td>\n",
       "      <td>179,99</td>\n",
       "      <td>1612</td>\n",
       "      <td>Filme DVD</td>\n",
       "    </tr>\n",
       "  </tbody>\n",
       "</table>\n",
       "<p>1690 rows × 6 columns</p>\n",
       "</div>"
      ],
      "text/plain": [
       "         Nome da Marca       Tipo Custo Unitario Preco Unitario  ID Produto  \\\n",
       "0              Contoso  Econômico          10,69          20,96         873   \n",
       "1              Contoso  Econômico           6,63             13         879   \n",
       "2              Contoso  Econômico           6,63             13         880   \n",
       "3              Contoso  Econômico           6,63             13         881   \n",
       "4              Contoso  Econômico           6,63             13         882   \n",
       "...                ...        ...            ...            ...         ...   \n",
       "1685  Southridge Video    Regular          82,77         179,99        1602   \n",
       "1686  Southridge Video    Regular          73,57         159,99        1606   \n",
       "1687  Southridge Video    Regular          82,77         179,99        1607   \n",
       "1688  Southridge Video    Regular          73,57         159,99        1611   \n",
       "1689  Southridge Video    Regular          82,77         179,99        1612   \n",
       "\n",
       "                      Categoria  \n",
       "0     Acessório para Computador  \n",
       "1     Acessório para Computador  \n",
       "2     Acessório para Computador  \n",
       "3     Acessório para Computador  \n",
       "4     Acessório para Computador  \n",
       "...                         ...  \n",
       "1685                  Filme DVD  \n",
       "1686                  Filme DVD  \n",
       "1687                  Filme DVD  \n",
       "1688                  Filme DVD  \n",
       "1689                  Filme DVD  \n",
       "\n",
       "[1690 rows x 6 columns]"
      ]
     },
     "metadata": {},
     "output_type": "display_data"
    },
    {
     "data": {
      "text/html": [
       "<div>\n",
       "<style scoped>\n",
       "    .dataframe tbody tr th:only-of-type {\n",
       "        vertical-align: middle;\n",
       "    }\n",
       "\n",
       "    .dataframe tbody tr th {\n",
       "        vertical-align: top;\n",
       "    }\n",
       "\n",
       "    .dataframe thead th {\n",
       "        text-align: right;\n",
       "    }\n",
       "</style>\n",
       "<table border=\"1\" class=\"dataframe\">\n",
       "  <thead>\n",
       "    <tr style=\"text-align: right;\">\n",
       "      <th></th>\n",
       "      <th>ID Loja</th>\n",
       "      <th>Nome da Loja</th>\n",
       "      <th>Quantidade Colaboradores</th>\n",
       "      <th>País</th>\n",
       "    </tr>\n",
       "  </thead>\n",
       "  <tbody>\n",
       "    <tr>\n",
       "      <th>0</th>\n",
       "      <td>1</td>\n",
       "      <td>Loja Contoso Seattle No.1</td>\n",
       "      <td>17.0</td>\n",
       "      <td>Estados Unidos</td>\n",
       "    </tr>\n",
       "    <tr>\n",
       "      <th>1</th>\n",
       "      <td>2</td>\n",
       "      <td>Loja Contoso Seattle No.2</td>\n",
       "      <td>25.0</td>\n",
       "      <td>Estados Unidos</td>\n",
       "    </tr>\n",
       "    <tr>\n",
       "      <th>2</th>\n",
       "      <td>3</td>\n",
       "      <td>Loja Contoso Kennewick</td>\n",
       "      <td>26.0</td>\n",
       "      <td>Estados Unidos</td>\n",
       "    </tr>\n",
       "    <tr>\n",
       "      <th>3</th>\n",
       "      <td>4</td>\n",
       "      <td>Loja Contoso Bellevue</td>\n",
       "      <td>19.0</td>\n",
       "      <td>Estados Unidos</td>\n",
       "    </tr>\n",
       "    <tr>\n",
       "      <th>4</th>\n",
       "      <td>5</td>\n",
       "      <td>Loja Contoso Redmond</td>\n",
       "      <td>33.0</td>\n",
       "      <td>Estados Unidos</td>\n",
       "    </tr>\n",
       "    <tr>\n",
       "      <th>...</th>\n",
       "      <td>...</td>\n",
       "      <td>...</td>\n",
       "      <td>...</td>\n",
       "      <td>...</td>\n",
       "    </tr>\n",
       "    <tr>\n",
       "      <th>301</th>\n",
       "      <td>306</td>\n",
       "      <td>Loja Contoso Europe Online</td>\n",
       "      <td>7.0</td>\n",
       "      <td>Alemanha</td>\n",
       "    </tr>\n",
       "    <tr>\n",
       "      <th>302</th>\n",
       "      <td>307</td>\n",
       "      <td>Loja Contoso Asia Online</td>\n",
       "      <td>8.0</td>\n",
       "      <td>China</td>\n",
       "    </tr>\n",
       "    <tr>\n",
       "      <th>303</th>\n",
       "      <td>308</td>\n",
       "      <td>Loja Contoso North America Reseller</td>\n",
       "      <td>15.0</td>\n",
       "      <td>Estados Unidos</td>\n",
       "    </tr>\n",
       "    <tr>\n",
       "      <th>304</th>\n",
       "      <td>309</td>\n",
       "      <td>Loja Contoso Europe Reseller</td>\n",
       "      <td>12.0</td>\n",
       "      <td>França</td>\n",
       "    </tr>\n",
       "    <tr>\n",
       "      <th>305</th>\n",
       "      <td>310</td>\n",
       "      <td>Loja Contoso Asia Reseller</td>\n",
       "      <td>17.0</td>\n",
       "      <td>China</td>\n",
       "    </tr>\n",
       "  </tbody>\n",
       "</table>\n",
       "<p>306 rows × 4 columns</p>\n",
       "</div>"
      ],
      "text/plain": [
       "     ID Loja                         Nome da Loja  Quantidade Colaboradores  \\\n",
       "0          1           Loja Contoso Seattle No.1                       17.0   \n",
       "1          2           Loja Contoso Seattle No.2                       25.0   \n",
       "2          3              Loja Contoso Kennewick                       26.0   \n",
       "3          4               Loja Contoso Bellevue                       19.0   \n",
       "4          5                Loja Contoso Redmond                       33.0   \n",
       "..       ...                                  ...                       ...   \n",
       "301      306          Loja Contoso Europe Online                        7.0   \n",
       "302      307            Loja Contoso Asia Online                        8.0   \n",
       "303      308  Loja Contoso North America Reseller                      15.0   \n",
       "304      309         Loja Contoso Europe Reseller                      12.0   \n",
       "305      310           Loja Contoso Asia Reseller                      17.0   \n",
       "\n",
       "               País  \n",
       "0    Estados Unidos  \n",
       "1    Estados Unidos  \n",
       "2    Estados Unidos  \n",
       "3    Estados Unidos  \n",
       "4    Estados Unidos  \n",
       "..              ...  \n",
       "301        Alemanha  \n",
       "302           China  \n",
       "303  Estados Unidos  \n",
       "304          França  \n",
       "305           China  \n",
       "\n",
       "[306 rows x 4 columns]"
      ]
     },
     "metadata": {},
     "output_type": "display_data"
    },
    {
     "data": {
      "text/html": [
       "<div>\n",
       "<style scoped>\n",
       "    .dataframe tbody tr th:only-of-type {\n",
       "        vertical-align: middle;\n",
       "    }\n",
       "\n",
       "    .dataframe tbody tr th {\n",
       "        vertical-align: top;\n",
       "    }\n",
       "\n",
       "    .dataframe thead th {\n",
       "        text-align: right;\n",
       "    }\n",
       "</style>\n",
       "<table border=\"1\" class=\"dataframe\">\n",
       "  <thead>\n",
       "    <tr style=\"text-align: right;\">\n",
       "      <th></th>\n",
       "      <th>ID Cliente</th>\n",
       "      <th>Primeiro Nome</th>\n",
       "      <th>Sobrenome</th>\n",
       "      <th>E-mail</th>\n",
       "      <th>Genero</th>\n",
       "      <th>Numero de Filhos</th>\n",
       "      <th>Data de Nascimento</th>\n",
       "      <th>Unnamed: 7</th>\n",
       "      <th>Unnamed: 8</th>\n",
       "      <th>Unnamed: 9</th>\n",
       "      <th>Unnamed: 10</th>\n",
       "    </tr>\n",
       "  </thead>\n",
       "  <tbody>\n",
       "    <tr>\n",
       "      <th>0</th>\n",
       "      <td>1</td>\n",
       "      <td>Garnet</td>\n",
       "      <td>Lanfranchi</td>\n",
       "      <td>glanfranchi0@mayoclinic.com</td>\n",
       "      <td>Feminino</td>\n",
       "      <td>2</td>\n",
       "      <td>12/05/1995</td>\n",
       "      <td>NaN</td>\n",
       "      <td>NaN</td>\n",
       "      <td>NaN</td>\n",
       "      <td>NaN</td>\n",
       "    </tr>\n",
       "    <tr>\n",
       "      <th>1</th>\n",
       "      <td>2</td>\n",
       "      <td>Lurette</td>\n",
       "      <td>Roseblade</td>\n",
       "      <td>lroseblade1@bigcartel.com</td>\n",
       "      <td>Feminino</td>\n",
       "      <td>2</td>\n",
       "      <td>30/06/1943</td>\n",
       "      <td>NaN</td>\n",
       "      <td>NaN</td>\n",
       "      <td>NaN</td>\n",
       "      <td>NaN</td>\n",
       "    </tr>\n",
       "    <tr>\n",
       "      <th>2</th>\n",
       "      <td>3</td>\n",
       "      <td>Glenden</td>\n",
       "      <td>Ishchenko</td>\n",
       "      <td>gishchenko2@moonfruit.com</td>\n",
       "      <td>Masculino</td>\n",
       "      <td>5</td>\n",
       "      <td>09/04/1989</td>\n",
       "      <td>NaN</td>\n",
       "      <td>NaN</td>\n",
       "      <td>NaN</td>\n",
       "      <td>NaN</td>\n",
       "    </tr>\n",
       "    <tr>\n",
       "      <th>3</th>\n",
       "      <td>4</td>\n",
       "      <td>Baron</td>\n",
       "      <td>Jedrzejewsky</td>\n",
       "      <td>bjedrzejewsky3@e-recht24.de</td>\n",
       "      <td>Masculino</td>\n",
       "      <td>4</td>\n",
       "      <td>17/11/1998</td>\n",
       "      <td>NaN</td>\n",
       "      <td>NaN</td>\n",
       "      <td>NaN</td>\n",
       "      <td>NaN</td>\n",
       "    </tr>\n",
       "    <tr>\n",
       "      <th>4</th>\n",
       "      <td>5</td>\n",
       "      <td>Sheree</td>\n",
       "      <td>Bredbury</td>\n",
       "      <td>sbredbury4@sitemeter.com</td>\n",
       "      <td>Feminino</td>\n",
       "      <td>5</td>\n",
       "      <td>08/09/1975</td>\n",
       "      <td>NaN</td>\n",
       "      <td>NaN</td>\n",
       "      <td>NaN</td>\n",
       "      <td>NaN</td>\n",
       "    </tr>\n",
       "    <tr>\n",
       "      <th>...</th>\n",
       "      <td>...</td>\n",
       "      <td>...</td>\n",
       "      <td>...</td>\n",
       "      <td>...</td>\n",
       "      <td>...</td>\n",
       "      <td>...</td>\n",
       "      <td>...</td>\n",
       "      <td>...</td>\n",
       "      <td>...</td>\n",
       "      <td>...</td>\n",
       "      <td>...</td>\n",
       "    </tr>\n",
       "    <tr>\n",
       "      <th>39499</th>\n",
       "      <td>39500</td>\n",
       "      <td>Brandy</td>\n",
       "      <td>Malhotra</td>\n",
       "      <td>brandy0@adventure-works.com</td>\n",
       "      <td>Masculino</td>\n",
       "      <td>3</td>\n",
       "      <td>27/07/1980</td>\n",
       "      <td>NaN</td>\n",
       "      <td>NaN</td>\n",
       "      <td>NaN</td>\n",
       "      <td>NaN</td>\n",
       "    </tr>\n",
       "    <tr>\n",
       "      <th>39500</th>\n",
       "      <td>39501</td>\n",
       "      <td>Alicia</td>\n",
       "      <td>Raje</td>\n",
       "      <td>alicia12@adventure-works.com</td>\n",
       "      <td>Feminino</td>\n",
       "      <td>5</td>\n",
       "      <td>10/05/2001</td>\n",
       "      <td>NaN</td>\n",
       "      <td>NaN</td>\n",
       "      <td>NaN</td>\n",
       "      <td>NaN</td>\n",
       "    </tr>\n",
       "    <tr>\n",
       "      <th>39501</th>\n",
       "      <td>39502</td>\n",
       "      <td>Connie</td>\n",
       "      <td>Rai</td>\n",
       "      <td>connie4@adventure-works.com</td>\n",
       "      <td>Feminino</td>\n",
       "      <td>0</td>\n",
       "      <td>13/02/1997</td>\n",
       "      <td>NaN</td>\n",
       "      <td>NaN</td>\n",
       "      <td>NaN</td>\n",
       "      <td>NaN</td>\n",
       "    </tr>\n",
       "    <tr>\n",
       "      <th>39502</th>\n",
       "      <td>39503</td>\n",
       "      <td>Shawn</td>\n",
       "      <td>Raji</td>\n",
       "      <td>shawn23@adventure-works.com</td>\n",
       "      <td>Masculino</td>\n",
       "      <td>1</td>\n",
       "      <td>29/03/2001</td>\n",
       "      <td>NaN</td>\n",
       "      <td>NaN</td>\n",
       "      <td>NaN</td>\n",
       "      <td>NaN</td>\n",
       "    </tr>\n",
       "    <tr>\n",
       "      <th>39503</th>\n",
       "      <td>39504</td>\n",
       "      <td>Lindsey</td>\n",
       "      <td>Sharma</td>\n",
       "      <td>lindsey10@adventure-works.com</td>\n",
       "      <td>Feminino</td>\n",
       "      <td>0</td>\n",
       "      <td>19/11/1961</td>\n",
       "      <td>NaN</td>\n",
       "      <td>NaN</td>\n",
       "      <td>NaN</td>\n",
       "      <td>NaN</td>\n",
       "    </tr>\n",
       "  </tbody>\n",
       "</table>\n",
       "<p>39504 rows × 11 columns</p>\n",
       "</div>"
      ],
      "text/plain": [
       "       ID Cliente Primeiro Nome     Sobrenome                         E-mail  \\\n",
       "0               1        Garnet    Lanfranchi    glanfranchi0@mayoclinic.com   \n",
       "1               2       Lurette     Roseblade      lroseblade1@bigcartel.com   \n",
       "2               3       Glenden     Ishchenko      gishchenko2@moonfruit.com   \n",
       "3               4         Baron  Jedrzejewsky    bjedrzejewsky3@e-recht24.de   \n",
       "4               5        Sheree      Bredbury       sbredbury4@sitemeter.com   \n",
       "...           ...           ...           ...                            ...   \n",
       "39499       39500        Brandy      Malhotra    brandy0@adventure-works.com   \n",
       "39500       39501        Alicia          Raje   alicia12@adventure-works.com   \n",
       "39501       39502        Connie           Rai    connie4@adventure-works.com   \n",
       "39502       39503         Shawn          Raji    shawn23@adventure-works.com   \n",
       "39503       39504       Lindsey        Sharma  lindsey10@adventure-works.com   \n",
       "\n",
       "          Genero  Numero de Filhos Data de Nascimento  Unnamed: 7  Unnamed: 8  \\\n",
       "0       Feminino                 2         12/05/1995         NaN         NaN   \n",
       "1       Feminino                 2         30/06/1943         NaN         NaN   \n",
       "2      Masculino                 5         09/04/1989         NaN         NaN   \n",
       "3      Masculino                 4         17/11/1998         NaN         NaN   \n",
       "4       Feminino                 5         08/09/1975         NaN         NaN   \n",
       "...          ...               ...                ...         ...         ...   \n",
       "39499  Masculino                 3         27/07/1980         NaN         NaN   \n",
       "39500   Feminino                 5         10/05/2001         NaN         NaN   \n",
       "39501   Feminino                 0         13/02/1997         NaN         NaN   \n",
       "39502  Masculino                 1         29/03/2001         NaN         NaN   \n",
       "39503   Feminino                 0         19/11/1961         NaN         NaN   \n",
       "\n",
       "       Unnamed: 9  Unnamed: 10  \n",
       "0             NaN          NaN  \n",
       "1             NaN          NaN  \n",
       "2             NaN          NaN  \n",
       "3             NaN          NaN  \n",
       "4             NaN          NaN  \n",
       "...           ...          ...  \n",
       "39499         NaN          NaN  \n",
       "39500         NaN          NaN  \n",
       "39501         NaN          NaN  \n",
       "39502         NaN          NaN  \n",
       "39503         NaN          NaN  \n",
       "\n",
       "[39504 rows x 11 columns]"
      ]
     },
     "metadata": {},
     "output_type": "display_data"
    },
    {
     "data": {
      "text/html": [
       "<div>\n",
       "<style scoped>\n",
       "    .dataframe tbody tr th:only-of-type {\n",
       "        vertical-align: middle;\n",
       "    }\n",
       "\n",
       "    .dataframe tbody tr th {\n",
       "        vertical-align: top;\n",
       "    }\n",
       "\n",
       "    .dataframe thead th {\n",
       "        text-align: right;\n",
       "    }\n",
       "</style>\n",
       "<table border=\"1\" class=\"dataframe\">\n",
       "  <thead>\n",
       "    <tr style=\"text-align: right;\">\n",
       "      <th></th>\n",
       "      <th>ID Promocao</th>\n",
       "      <th>Nome Promocao</th>\n",
       "      <th>Percentual Desconto</th>\n",
       "      <th>Data Inicio</th>\n",
       "      <th>Data Termino</th>\n",
       "      <th>Unnamed: 5</th>\n",
       "      <th>Unnamed: 6</th>\n",
       "    </tr>\n",
       "  </thead>\n",
       "  <tbody>\n",
       "    <tr>\n",
       "      <th>0</th>\n",
       "      <td>1</td>\n",
       "      <td>Sem desconto</td>\n",
       "      <td>0</td>\n",
       "      <td>01/01/2017</td>\n",
       "      <td>31/12/2020</td>\n",
       "      <td>NaN</td>\n",
       "      <td>NaN</td>\n",
       "    </tr>\n",
       "    <tr>\n",
       "      <th>1</th>\n",
       "      <td>2</td>\n",
       "      <td>Promoção de Primavera Americana</td>\n",
       "      <td>0,05</td>\n",
       "      <td>01/01/2017</td>\n",
       "      <td>31/03/2017</td>\n",
       "      <td>NaN</td>\n",
       "      <td>NaN</td>\n",
       "    </tr>\n",
       "    <tr>\n",
       "      <th>2</th>\n",
       "      <td>3</td>\n",
       "      <td>Promoção Volta às Aulas Americanas</td>\n",
       "      <td>0,1</td>\n",
       "      <td>01/07/2017</td>\n",
       "      <td>30/09/2017</td>\n",
       "      <td>NaN</td>\n",
       "      <td>NaN</td>\n",
       "    </tr>\n",
       "    <tr>\n",
       "      <th>3</th>\n",
       "      <td>4</td>\n",
       "      <td>Promoção Férias Escolares Americanas</td>\n",
       "      <td>0,2</td>\n",
       "      <td>01/11/2017</td>\n",
       "      <td>31/12/2017</td>\n",
       "      <td>NaN</td>\n",
       "      <td>NaN</td>\n",
       "    </tr>\n",
       "    <tr>\n",
       "      <th>4</th>\n",
       "      <td>5</td>\n",
       "      <td>Promoção Férias Asiáticas</td>\n",
       "      <td>0,15</td>\n",
       "      <td>01/11/2017</td>\n",
       "      <td>31/01/2018</td>\n",
       "      <td>NaN</td>\n",
       "      <td>NaN</td>\n",
       "    </tr>\n",
       "    <tr>\n",
       "      <th>5</th>\n",
       "      <td>6</td>\n",
       "      <td>Promoção de Primavera Asiática</td>\n",
       "      <td>0,2</td>\n",
       "      <td>01/02/2017</td>\n",
       "      <td>30/04/2017</td>\n",
       "      <td>NaN</td>\n",
       "      <td>NaN</td>\n",
       "    </tr>\n",
       "    <tr>\n",
       "      <th>6</th>\n",
       "      <td>7</td>\n",
       "      <td>Promoção de Verão Asiático</td>\n",
       "      <td>0,1</td>\n",
       "      <td>01/05/2017</td>\n",
       "      <td>30/06/2017</td>\n",
       "      <td>NaN</td>\n",
       "      <td>NaN</td>\n",
       "    </tr>\n",
       "    <tr>\n",
       "      <th>7</th>\n",
       "      <td>8</td>\n",
       "      <td>Promoção de Primavera Europeia</td>\n",
       "      <td>0,07</td>\n",
       "      <td>01/02/2017</td>\n",
       "      <td>30/04/2017</td>\n",
       "      <td>NaN</td>\n",
       "      <td>NaN</td>\n",
       "    </tr>\n",
       "    <tr>\n",
       "      <th>8</th>\n",
       "      <td>9</td>\n",
       "      <td>Promoção Volta às Aulas Europeias</td>\n",
       "      <td>0,1</td>\n",
       "      <td>01/08/2017</td>\n",
       "      <td>30/09/2017</td>\n",
       "      <td>NaN</td>\n",
       "      <td>NaN</td>\n",
       "    </tr>\n",
       "    <tr>\n",
       "      <th>9</th>\n",
       "      <td>10</td>\n",
       "      <td>Promoção de Férias Europeias</td>\n",
       "      <td>0,2</td>\n",
       "      <td>01/10/2017</td>\n",
       "      <td>31/01/2018</td>\n",
       "      <td>NaN</td>\n",
       "      <td>NaN</td>\n",
       "    </tr>\n",
       "    <tr>\n",
       "      <th>10</th>\n",
       "      <td>11</td>\n",
       "      <td>Promoção de Primavera Americana</td>\n",
       "      <td>0,05</td>\n",
       "      <td>01/01/2018</td>\n",
       "      <td>31/03/2018</td>\n",
       "      <td>NaN</td>\n",
       "      <td>NaN</td>\n",
       "    </tr>\n",
       "    <tr>\n",
       "      <th>11</th>\n",
       "      <td>12</td>\n",
       "      <td>Promoção Volta às Aulas Americanas</td>\n",
       "      <td>0,1</td>\n",
       "      <td>01/07/2018</td>\n",
       "      <td>30/09/2018</td>\n",
       "      <td>NaN</td>\n",
       "      <td>NaN</td>\n",
       "    </tr>\n",
       "    <tr>\n",
       "      <th>12</th>\n",
       "      <td>13</td>\n",
       "      <td>Promoção Férias Escolares Americanas</td>\n",
       "      <td>0,2</td>\n",
       "      <td>01/11/2018</td>\n",
       "      <td>31/12/2018</td>\n",
       "      <td>NaN</td>\n",
       "      <td>NaN</td>\n",
       "    </tr>\n",
       "    <tr>\n",
       "      <th>13</th>\n",
       "      <td>14</td>\n",
       "      <td>Promoção Férias Asiáticas</td>\n",
       "      <td>0,15</td>\n",
       "      <td>01/11/2018</td>\n",
       "      <td>31/01/2019</td>\n",
       "      <td>NaN</td>\n",
       "      <td>NaN</td>\n",
       "    </tr>\n",
       "    <tr>\n",
       "      <th>14</th>\n",
       "      <td>15</td>\n",
       "      <td>Promoção de Primavera Asiática</td>\n",
       "      <td>0,2</td>\n",
       "      <td>01/02/2018</td>\n",
       "      <td>30/04/2018</td>\n",
       "      <td>NaN</td>\n",
       "      <td>NaN</td>\n",
       "    </tr>\n",
       "    <tr>\n",
       "      <th>15</th>\n",
       "      <td>16</td>\n",
       "      <td>Promoção de Verão Asiático</td>\n",
       "      <td>0,1</td>\n",
       "      <td>01/05/2018</td>\n",
       "      <td>30/06/2018</td>\n",
       "      <td>NaN</td>\n",
       "      <td>NaN</td>\n",
       "    </tr>\n",
       "    <tr>\n",
       "      <th>16</th>\n",
       "      <td>17</td>\n",
       "      <td>Promoção de Primavera Europeia</td>\n",
       "      <td>0,07</td>\n",
       "      <td>01/02/2018</td>\n",
       "      <td>30/04/2018</td>\n",
       "      <td>NaN</td>\n",
       "      <td>NaN</td>\n",
       "    </tr>\n",
       "    <tr>\n",
       "      <th>17</th>\n",
       "      <td>18</td>\n",
       "      <td>Promoção Volta às Aulas Europeias</td>\n",
       "      <td>0,1</td>\n",
       "      <td>01/08/2018</td>\n",
       "      <td>30/09/2018</td>\n",
       "      <td>NaN</td>\n",
       "      <td>NaN</td>\n",
       "    </tr>\n",
       "    <tr>\n",
       "      <th>18</th>\n",
       "      <td>19</td>\n",
       "      <td>Promoção de Férias Europeias</td>\n",
       "      <td>0,2</td>\n",
       "      <td>01/10/2018</td>\n",
       "      <td>31/01/2019</td>\n",
       "      <td>NaN</td>\n",
       "      <td>NaN</td>\n",
       "    </tr>\n",
       "    <tr>\n",
       "      <th>19</th>\n",
       "      <td>20</td>\n",
       "      <td>Promoção de Primavera Americana</td>\n",
       "      <td>0,05</td>\n",
       "      <td>01/01/2019</td>\n",
       "      <td>31/03/2020</td>\n",
       "      <td>NaN</td>\n",
       "      <td>NaN</td>\n",
       "    </tr>\n",
       "    <tr>\n",
       "      <th>20</th>\n",
       "      <td>21</td>\n",
       "      <td>Promoção Volta às Aulas Americanas</td>\n",
       "      <td>0,1</td>\n",
       "      <td>01/07/2019</td>\n",
       "      <td>30/09/2019</td>\n",
       "      <td>NaN</td>\n",
       "      <td>NaN</td>\n",
       "    </tr>\n",
       "    <tr>\n",
       "      <th>21</th>\n",
       "      <td>22</td>\n",
       "      <td>Promoção Férias Escolares Americanas</td>\n",
       "      <td>0,2</td>\n",
       "      <td>01/11/2019</td>\n",
       "      <td>31/12/2019</td>\n",
       "      <td>NaN</td>\n",
       "      <td>NaN</td>\n",
       "    </tr>\n",
       "    <tr>\n",
       "      <th>22</th>\n",
       "      <td>23</td>\n",
       "      <td>Promoção Férias Asiáticas</td>\n",
       "      <td>0,15</td>\n",
       "      <td>01/11/2019</td>\n",
       "      <td>31/01/2020</td>\n",
       "      <td>NaN</td>\n",
       "      <td>NaN</td>\n",
       "    </tr>\n",
       "    <tr>\n",
       "      <th>23</th>\n",
       "      <td>24</td>\n",
       "      <td>Promoção de Primavera Asiática</td>\n",
       "      <td>0,2</td>\n",
       "      <td>01/02/2019</td>\n",
       "      <td>30/04/2019</td>\n",
       "      <td>NaN</td>\n",
       "      <td>NaN</td>\n",
       "    </tr>\n",
       "    <tr>\n",
       "      <th>24</th>\n",
       "      <td>25</td>\n",
       "      <td>Promoção de Verão Asiático</td>\n",
       "      <td>0,1</td>\n",
       "      <td>01/05/2019</td>\n",
       "      <td>30/06/2019</td>\n",
       "      <td>NaN</td>\n",
       "      <td>NaN</td>\n",
       "    </tr>\n",
       "    <tr>\n",
       "      <th>25</th>\n",
       "      <td>26</td>\n",
       "      <td>Promoção de Primavera Europeia</td>\n",
       "      <td>0,07</td>\n",
       "      <td>01/02/2019</td>\n",
       "      <td>30/04/2019</td>\n",
       "      <td>NaN</td>\n",
       "      <td>NaN</td>\n",
       "    </tr>\n",
       "    <tr>\n",
       "      <th>26</th>\n",
       "      <td>27</td>\n",
       "      <td>Promoção Volta às Aulas Europeias</td>\n",
       "      <td>0,1</td>\n",
       "      <td>01/08/2019</td>\n",
       "      <td>30/09/2019</td>\n",
       "      <td>NaN</td>\n",
       "      <td>NaN</td>\n",
       "    </tr>\n",
       "    <tr>\n",
       "      <th>27</th>\n",
       "      <td>28</td>\n",
       "      <td>Promoção de Férias Europeias</td>\n",
       "      <td>0,2</td>\n",
       "      <td>01/10/2019</td>\n",
       "      <td>31/01/2020</td>\n",
       "      <td>NaN</td>\n",
       "      <td>NaN</td>\n",
       "    </tr>\n",
       "  </tbody>\n",
       "</table>\n",
       "</div>"
      ],
      "text/plain": [
       "    ID Promocao                         Nome Promocao Percentual Desconto  \\\n",
       "0             1                          Sem desconto                   0   \n",
       "1             2       Promoção de Primavera Americana                0,05   \n",
       "2             3    Promoção Volta às Aulas Americanas                 0,1   \n",
       "3             4  Promoção Férias Escolares Americanas                 0,2   \n",
       "4             5             Promoção Férias Asiáticas                0,15   \n",
       "5             6        Promoção de Primavera Asiática                 0,2   \n",
       "6             7            Promoção de Verão Asiático                 0,1   \n",
       "7             8        Promoção de Primavera Europeia                0,07   \n",
       "8             9     Promoção Volta às Aulas Europeias                 0,1   \n",
       "9            10          Promoção de Férias Europeias                 0,2   \n",
       "10           11       Promoção de Primavera Americana                0,05   \n",
       "11           12    Promoção Volta às Aulas Americanas                 0,1   \n",
       "12           13  Promoção Férias Escolares Americanas                 0,2   \n",
       "13           14             Promoção Férias Asiáticas                0,15   \n",
       "14           15        Promoção de Primavera Asiática                 0,2   \n",
       "15           16            Promoção de Verão Asiático                 0,1   \n",
       "16           17        Promoção de Primavera Europeia                0,07   \n",
       "17           18     Promoção Volta às Aulas Europeias                 0,1   \n",
       "18           19          Promoção de Férias Europeias                 0,2   \n",
       "19           20       Promoção de Primavera Americana                0,05   \n",
       "20           21    Promoção Volta às Aulas Americanas                 0,1   \n",
       "21           22  Promoção Férias Escolares Americanas                 0,2   \n",
       "22           23             Promoção Férias Asiáticas                0,15   \n",
       "23           24        Promoção de Primavera Asiática                 0,2   \n",
       "24           25            Promoção de Verão Asiático                 0,1   \n",
       "25           26        Promoção de Primavera Europeia                0,07   \n",
       "26           27     Promoção Volta às Aulas Europeias                 0,1   \n",
       "27           28          Promoção de Férias Europeias                 0,2   \n",
       "\n",
       "   Data Inicio Data Termino  Unnamed: 5  Unnamed: 6  \n",
       "0   01/01/2017   31/12/2020         NaN         NaN  \n",
       "1   01/01/2017   31/03/2017         NaN         NaN  \n",
       "2   01/07/2017   30/09/2017         NaN         NaN  \n",
       "3   01/11/2017   31/12/2017         NaN         NaN  \n",
       "4   01/11/2017   31/01/2018         NaN         NaN  \n",
       "5   01/02/2017   30/04/2017         NaN         NaN  \n",
       "6   01/05/2017   30/06/2017         NaN         NaN  \n",
       "7   01/02/2017   30/04/2017         NaN         NaN  \n",
       "8   01/08/2017   30/09/2017         NaN         NaN  \n",
       "9   01/10/2017   31/01/2018         NaN         NaN  \n",
       "10  01/01/2018   31/03/2018         NaN         NaN  \n",
       "11  01/07/2018   30/09/2018         NaN         NaN  \n",
       "12  01/11/2018   31/12/2018         NaN         NaN  \n",
       "13  01/11/2018   31/01/2019         NaN         NaN  \n",
       "14  01/02/2018   30/04/2018         NaN         NaN  \n",
       "15  01/05/2018   30/06/2018         NaN         NaN  \n",
       "16  01/02/2018   30/04/2018         NaN         NaN  \n",
       "17  01/08/2018   30/09/2018         NaN         NaN  \n",
       "18  01/10/2018   31/01/2019         NaN         NaN  \n",
       "19  01/01/2019   31/03/2020         NaN         NaN  \n",
       "20  01/07/2019   30/09/2019         NaN         NaN  \n",
       "21  01/11/2019   31/12/2019         NaN         NaN  \n",
       "22  01/11/2019   31/01/2020         NaN         NaN  \n",
       "23  01/02/2019   30/04/2019         NaN         NaN  \n",
       "24  01/05/2019   30/06/2019         NaN         NaN  \n",
       "25  01/02/2019   30/04/2019         NaN         NaN  \n",
       "26  01/08/2019   30/09/2019         NaN         NaN  \n",
       "27  01/10/2019   31/01/2020         NaN         NaN  "
      ]
     },
     "metadata": {},
     "output_type": "display_data"
    }
   ],
   "source": [
    "import pandas as pd\n",
    "\n",
    "#às vezes precisaremos mudar o encoding. Possiveis valores para testar:\n",
    "#encoding='latin1', encoding='ISO-8859-1', encoding='utf-8' ou então encoding='cp1252'\n",
    "vendas_df = pd.read_csv(r'C:\\Users\\Daniel\\Documents\\Arquivos Técnicos\\Arquivos\\Programação\\Cursos\\Python Impressionador - Hashtag Treinamento\\19.Análise da Dados com o Pandas + Integração Python e Excel\\MATERIAL DE APOIO\\Contoso - Vendas  - 2017.csv', sep=';',encoding='utf-8')\n",
    "produtos_df = pd.read_csv(r'C:\\Users\\Daniel\\Documents\\Arquivos Técnicos\\Arquivos\\Programação\\Cursos\\Python Impressionador - Hashtag Treinamento\\19.Análise da Dados com o Pandas + Integração Python e Excel\\MATERIAL DE APOIO\\Contoso - Cadastro Produtos.csv', sep=';',encoding='utf-8')\n",
    "lojas_df = pd.read_csv(r'C:\\Users\\Daniel\\Documents\\Arquivos Técnicos\\Arquivos\\Programação\\Cursos\\Python Impressionador - Hashtag Treinamento\\19.Análise da Dados com o Pandas + Integração Python e Excel\\MATERIAL DE APOIO\\Contoso - Lojas.csv', sep=';',encoding='utf-8')\n",
    "clientes_df = pd.read_csv(r'C:\\Users\\Daniel\\Documents\\Arquivos Técnicos\\Arquivos\\Programação\\Cursos\\Python Impressionador - Hashtag Treinamento\\19.Análise da Dados com o Pandas + Integração Python e Excel\\MATERIAL DE APOIO\\Contoso - Clientes.csv', sep=';',encoding='utf-8')\n",
    "promocoes_df = pd.read_csv(r'C:\\Users\\Daniel\\Documents\\Arquivos Técnicos\\Arquivos\\Programação\\Cursos\\Python Impressionador - Hashtag Treinamento\\19.Análise da Dados com o Pandas + Integração Python e Excel\\MATERIAL DE APOIO\\Contoso - Promocoes.csv', sep=';',encoding='utf-8')\n",
    "\n",
    "#usaremos o display para ver todos os dataframes\n",
    "display(vendas_df)\n",
    "display(produtos_df)\n",
    "display(lojas_df)\n",
    "display(clientes_df)\n",
    "display(promocoes_df)"
   ]
  },
  {
   "cell_type": "markdown",
   "id": "2f0514cf",
   "metadata": {},
   "source": [
    "### Vamos tirar as colunas inúteis do clientes_df ou pegar apenas as colunas que quisermos"
   ]
  },
  {
   "cell_type": "raw",
   "id": "e97d9756",
   "metadata": {},
   "source": [
    ".drop([coluna1, coluna2, coluna3]) -> retira as colunas: coluna1, coluna2, coluna3"
   ]
  },
  {
   "cell_type": "code",
   "execution_count": 668,
   "id": "2ad9cf5a",
   "metadata": {},
   "outputs": [
    {
     "data": {
      "text/html": [
       "<div>\n",
       "<style scoped>\n",
       "    .dataframe tbody tr th:only-of-type {\n",
       "        vertical-align: middle;\n",
       "    }\n",
       "\n",
       "    .dataframe tbody tr th {\n",
       "        vertical-align: top;\n",
       "    }\n",
       "\n",
       "    .dataframe thead th {\n",
       "        text-align: right;\n",
       "    }\n",
       "</style>\n",
       "<table border=\"1\" class=\"dataframe\">\n",
       "  <thead>\n",
       "    <tr style=\"text-align: right;\">\n",
       "      <th></th>\n",
       "      <th>ID Cliente</th>\n",
       "      <th>E-mail</th>\n",
       "    </tr>\n",
       "  </thead>\n",
       "  <tbody>\n",
       "    <tr>\n",
       "      <th>0</th>\n",
       "      <td>1</td>\n",
       "      <td>glanfranchi0@mayoclinic.com</td>\n",
       "    </tr>\n",
       "    <tr>\n",
       "      <th>1</th>\n",
       "      <td>2</td>\n",
       "      <td>lroseblade1@bigcartel.com</td>\n",
       "    </tr>\n",
       "    <tr>\n",
       "      <th>2</th>\n",
       "      <td>3</td>\n",
       "      <td>gishchenko2@moonfruit.com</td>\n",
       "    </tr>\n",
       "    <tr>\n",
       "      <th>3</th>\n",
       "      <td>4</td>\n",
       "      <td>bjedrzejewsky3@e-recht24.de</td>\n",
       "    </tr>\n",
       "    <tr>\n",
       "      <th>4</th>\n",
       "      <td>5</td>\n",
       "      <td>sbredbury4@sitemeter.com</td>\n",
       "    </tr>\n",
       "    <tr>\n",
       "      <th>...</th>\n",
       "      <td>...</td>\n",
       "      <td>...</td>\n",
       "    </tr>\n",
       "    <tr>\n",
       "      <th>39499</th>\n",
       "      <td>39500</td>\n",
       "      <td>brandy0@adventure-works.com</td>\n",
       "    </tr>\n",
       "    <tr>\n",
       "      <th>39500</th>\n",
       "      <td>39501</td>\n",
       "      <td>alicia12@adventure-works.com</td>\n",
       "    </tr>\n",
       "    <tr>\n",
       "      <th>39501</th>\n",
       "      <td>39502</td>\n",
       "      <td>connie4@adventure-works.com</td>\n",
       "    </tr>\n",
       "    <tr>\n",
       "      <th>39502</th>\n",
       "      <td>39503</td>\n",
       "      <td>shawn23@adventure-works.com</td>\n",
       "    </tr>\n",
       "    <tr>\n",
       "      <th>39503</th>\n",
       "      <td>39504</td>\n",
       "      <td>lindsey10@adventure-works.com</td>\n",
       "    </tr>\n",
       "  </tbody>\n",
       "</table>\n",
       "<p>39504 rows × 2 columns</p>\n",
       "</div>"
      ],
      "text/plain": [
       "       ID Cliente                         E-mail\n",
       "0               1    glanfranchi0@mayoclinic.com\n",
       "1               2      lroseblade1@bigcartel.com\n",
       "2               3      gishchenko2@moonfruit.com\n",
       "3               4    bjedrzejewsky3@e-recht24.de\n",
       "4               5       sbredbury4@sitemeter.com\n",
       "...           ...                            ...\n",
       "39499       39500    brandy0@adventure-works.com\n",
       "39500       39501   alicia12@adventure-works.com\n",
       "39501       39502    connie4@adventure-works.com\n",
       "39502       39503    shawn23@adventure-works.com\n",
       "39503       39504  lindsey10@adventure-works.com\n",
       "\n",
       "[39504 rows x 2 columns]"
      ]
     },
     "metadata": {},
     "output_type": "display_data"
    },
    {
     "data": {
      "text/html": [
       "<div>\n",
       "<style scoped>\n",
       "    .dataframe tbody tr th:only-of-type {\n",
       "        vertical-align: middle;\n",
       "    }\n",
       "\n",
       "    .dataframe tbody tr th {\n",
       "        vertical-align: top;\n",
       "    }\n",
       "\n",
       "    .dataframe thead th {\n",
       "        text-align: right;\n",
       "    }\n",
       "</style>\n",
       "<table border=\"1\" class=\"dataframe\">\n",
       "  <thead>\n",
       "    <tr style=\"text-align: right;\">\n",
       "      <th></th>\n",
       "      <th>ID Produto</th>\n",
       "      <th>Categoria</th>\n",
       "    </tr>\n",
       "  </thead>\n",
       "  <tbody>\n",
       "    <tr>\n",
       "      <th>0</th>\n",
       "      <td>873</td>\n",
       "      <td>Acessório para Computador</td>\n",
       "    </tr>\n",
       "    <tr>\n",
       "      <th>1</th>\n",
       "      <td>879</td>\n",
       "      <td>Acessório para Computador</td>\n",
       "    </tr>\n",
       "    <tr>\n",
       "      <th>2</th>\n",
       "      <td>880</td>\n",
       "      <td>Acessório para Computador</td>\n",
       "    </tr>\n",
       "    <tr>\n",
       "      <th>3</th>\n",
       "      <td>881</td>\n",
       "      <td>Acessório para Computador</td>\n",
       "    </tr>\n",
       "    <tr>\n",
       "      <th>4</th>\n",
       "      <td>882</td>\n",
       "      <td>Acessório para Computador</td>\n",
       "    </tr>\n",
       "    <tr>\n",
       "      <th>...</th>\n",
       "      <td>...</td>\n",
       "      <td>...</td>\n",
       "    </tr>\n",
       "    <tr>\n",
       "      <th>1685</th>\n",
       "      <td>1602</td>\n",
       "      <td>Filme DVD</td>\n",
       "    </tr>\n",
       "    <tr>\n",
       "      <th>1686</th>\n",
       "      <td>1606</td>\n",
       "      <td>Filme DVD</td>\n",
       "    </tr>\n",
       "    <tr>\n",
       "      <th>1687</th>\n",
       "      <td>1607</td>\n",
       "      <td>Filme DVD</td>\n",
       "    </tr>\n",
       "    <tr>\n",
       "      <th>1688</th>\n",
       "      <td>1611</td>\n",
       "      <td>Filme DVD</td>\n",
       "    </tr>\n",
       "    <tr>\n",
       "      <th>1689</th>\n",
       "      <td>1612</td>\n",
       "      <td>Filme DVD</td>\n",
       "    </tr>\n",
       "  </tbody>\n",
       "</table>\n",
       "<p>1690 rows × 2 columns</p>\n",
       "</div>"
      ],
      "text/plain": [
       "      ID Produto                  Categoria\n",
       "0            873  Acessório para Computador\n",
       "1            879  Acessório para Computador\n",
       "2            880  Acessório para Computador\n",
       "3            881  Acessório para Computador\n",
       "4            882  Acessório para Computador\n",
       "...          ...                        ...\n",
       "1685        1602                  Filme DVD\n",
       "1686        1606                  Filme DVD\n",
       "1687        1607                  Filme DVD\n",
       "1688        1611                  Filme DVD\n",
       "1689        1612                  Filme DVD\n",
       "\n",
       "[1690 rows x 2 columns]"
      ]
     },
     "metadata": {},
     "output_type": "display_data"
    },
    {
     "data": {
      "text/html": [
       "<div>\n",
       "<style scoped>\n",
       "    .dataframe tbody tr th:only-of-type {\n",
       "        vertical-align: middle;\n",
       "    }\n",
       "\n",
       "    .dataframe tbody tr th {\n",
       "        vertical-align: top;\n",
       "    }\n",
       "\n",
       "    .dataframe thead th {\n",
       "        text-align: right;\n",
       "    }\n",
       "</style>\n",
       "<table border=\"1\" class=\"dataframe\">\n",
       "  <thead>\n",
       "    <tr style=\"text-align: right;\">\n",
       "      <th></th>\n",
       "      <th>ID Loja</th>\n",
       "      <th>Nome da Loja</th>\n",
       "    </tr>\n",
       "  </thead>\n",
       "  <tbody>\n",
       "    <tr>\n",
       "      <th>0</th>\n",
       "      <td>1</td>\n",
       "      <td>Loja Contoso Seattle No.1</td>\n",
       "    </tr>\n",
       "    <tr>\n",
       "      <th>1</th>\n",
       "      <td>2</td>\n",
       "      <td>Loja Contoso Seattle No.2</td>\n",
       "    </tr>\n",
       "    <tr>\n",
       "      <th>2</th>\n",
       "      <td>3</td>\n",
       "      <td>Loja Contoso Kennewick</td>\n",
       "    </tr>\n",
       "    <tr>\n",
       "      <th>3</th>\n",
       "      <td>4</td>\n",
       "      <td>Loja Contoso Bellevue</td>\n",
       "    </tr>\n",
       "    <tr>\n",
       "      <th>4</th>\n",
       "      <td>5</td>\n",
       "      <td>Loja Contoso Redmond</td>\n",
       "    </tr>\n",
       "    <tr>\n",
       "      <th>...</th>\n",
       "      <td>...</td>\n",
       "      <td>...</td>\n",
       "    </tr>\n",
       "    <tr>\n",
       "      <th>301</th>\n",
       "      <td>306</td>\n",
       "      <td>Loja Contoso Europe Online</td>\n",
       "    </tr>\n",
       "    <tr>\n",
       "      <th>302</th>\n",
       "      <td>307</td>\n",
       "      <td>Loja Contoso Asia Online</td>\n",
       "    </tr>\n",
       "    <tr>\n",
       "      <th>303</th>\n",
       "      <td>308</td>\n",
       "      <td>Loja Contoso North America Reseller</td>\n",
       "    </tr>\n",
       "    <tr>\n",
       "      <th>304</th>\n",
       "      <td>309</td>\n",
       "      <td>Loja Contoso Europe Reseller</td>\n",
       "    </tr>\n",
       "    <tr>\n",
       "      <th>305</th>\n",
       "      <td>310</td>\n",
       "      <td>Loja Contoso Asia Reseller</td>\n",
       "    </tr>\n",
       "  </tbody>\n",
       "</table>\n",
       "<p>306 rows × 2 columns</p>\n",
       "</div>"
      ],
      "text/plain": [
       "     ID Loja                         Nome da Loja\n",
       "0          1           Loja Contoso Seattle No.1 \n",
       "1          2           Loja Contoso Seattle No.2 \n",
       "2          3              Loja Contoso Kennewick \n",
       "3          4               Loja Contoso Bellevue \n",
       "4          5                Loja Contoso Redmond \n",
       "..       ...                                  ...\n",
       "301      306          Loja Contoso Europe Online \n",
       "302      307            Loja Contoso Asia Online \n",
       "303      308  Loja Contoso North America Reseller\n",
       "304      309         Loja Contoso Europe Reseller\n",
       "305      310           Loja Contoso Asia Reseller\n",
       "\n",
       "[306 rows x 2 columns]"
      ]
     },
     "metadata": {},
     "output_type": "display_data"
    },
    {
     "data": {
      "text/html": [
       "<div>\n",
       "<style scoped>\n",
       "    .dataframe tbody tr th:only-of-type {\n",
       "        vertical-align: middle;\n",
       "    }\n",
       "\n",
       "    .dataframe tbody tr th {\n",
       "        vertical-align: top;\n",
       "    }\n",
       "\n",
       "    .dataframe thead th {\n",
       "        text-align: right;\n",
       "    }\n",
       "</style>\n",
       "<table border=\"1\" class=\"dataframe\">\n",
       "  <thead>\n",
       "    <tr style=\"text-align: right;\">\n",
       "      <th></th>\n",
       "      <th>ID Promocao</th>\n",
       "      <th>Nome Promocao</th>\n",
       "    </tr>\n",
       "  </thead>\n",
       "  <tbody>\n",
       "    <tr>\n",
       "      <th>0</th>\n",
       "      <td>1</td>\n",
       "      <td>Sem desconto</td>\n",
       "    </tr>\n",
       "    <tr>\n",
       "      <th>1</th>\n",
       "      <td>2</td>\n",
       "      <td>Promoção de Primavera Americana</td>\n",
       "    </tr>\n",
       "    <tr>\n",
       "      <th>2</th>\n",
       "      <td>3</td>\n",
       "      <td>Promoção Volta às Aulas Americanas</td>\n",
       "    </tr>\n",
       "    <tr>\n",
       "      <th>3</th>\n",
       "      <td>4</td>\n",
       "      <td>Promoção Férias Escolares Americanas</td>\n",
       "    </tr>\n",
       "    <tr>\n",
       "      <th>4</th>\n",
       "      <td>5</td>\n",
       "      <td>Promoção Férias Asiáticas</td>\n",
       "    </tr>\n",
       "    <tr>\n",
       "      <th>5</th>\n",
       "      <td>6</td>\n",
       "      <td>Promoção de Primavera Asiática</td>\n",
       "    </tr>\n",
       "    <tr>\n",
       "      <th>6</th>\n",
       "      <td>7</td>\n",
       "      <td>Promoção de Verão Asiático</td>\n",
       "    </tr>\n",
       "    <tr>\n",
       "      <th>7</th>\n",
       "      <td>8</td>\n",
       "      <td>Promoção de Primavera Europeia</td>\n",
       "    </tr>\n",
       "    <tr>\n",
       "      <th>8</th>\n",
       "      <td>9</td>\n",
       "      <td>Promoção Volta às Aulas Europeias</td>\n",
       "    </tr>\n",
       "    <tr>\n",
       "      <th>9</th>\n",
       "      <td>10</td>\n",
       "      <td>Promoção de Férias Europeias</td>\n",
       "    </tr>\n",
       "    <tr>\n",
       "      <th>10</th>\n",
       "      <td>11</td>\n",
       "      <td>Promoção de Primavera Americana</td>\n",
       "    </tr>\n",
       "    <tr>\n",
       "      <th>11</th>\n",
       "      <td>12</td>\n",
       "      <td>Promoção Volta às Aulas Americanas</td>\n",
       "    </tr>\n",
       "    <tr>\n",
       "      <th>12</th>\n",
       "      <td>13</td>\n",
       "      <td>Promoção Férias Escolares Americanas</td>\n",
       "    </tr>\n",
       "    <tr>\n",
       "      <th>13</th>\n",
       "      <td>14</td>\n",
       "      <td>Promoção Férias Asiáticas</td>\n",
       "    </tr>\n",
       "    <tr>\n",
       "      <th>14</th>\n",
       "      <td>15</td>\n",
       "      <td>Promoção de Primavera Asiática</td>\n",
       "    </tr>\n",
       "    <tr>\n",
       "      <th>15</th>\n",
       "      <td>16</td>\n",
       "      <td>Promoção de Verão Asiático</td>\n",
       "    </tr>\n",
       "    <tr>\n",
       "      <th>16</th>\n",
       "      <td>17</td>\n",
       "      <td>Promoção de Primavera Europeia</td>\n",
       "    </tr>\n",
       "    <tr>\n",
       "      <th>17</th>\n",
       "      <td>18</td>\n",
       "      <td>Promoção Volta às Aulas Europeias</td>\n",
       "    </tr>\n",
       "    <tr>\n",
       "      <th>18</th>\n",
       "      <td>19</td>\n",
       "      <td>Promoção de Férias Europeias</td>\n",
       "    </tr>\n",
       "    <tr>\n",
       "      <th>19</th>\n",
       "      <td>20</td>\n",
       "      <td>Promoção de Primavera Americana</td>\n",
       "    </tr>\n",
       "    <tr>\n",
       "      <th>20</th>\n",
       "      <td>21</td>\n",
       "      <td>Promoção Volta às Aulas Americanas</td>\n",
       "    </tr>\n",
       "    <tr>\n",
       "      <th>21</th>\n",
       "      <td>22</td>\n",
       "      <td>Promoção Férias Escolares Americanas</td>\n",
       "    </tr>\n",
       "    <tr>\n",
       "      <th>22</th>\n",
       "      <td>23</td>\n",
       "      <td>Promoção Férias Asiáticas</td>\n",
       "    </tr>\n",
       "    <tr>\n",
       "      <th>23</th>\n",
       "      <td>24</td>\n",
       "      <td>Promoção de Primavera Asiática</td>\n",
       "    </tr>\n",
       "    <tr>\n",
       "      <th>24</th>\n",
       "      <td>25</td>\n",
       "      <td>Promoção de Verão Asiático</td>\n",
       "    </tr>\n",
       "    <tr>\n",
       "      <th>25</th>\n",
       "      <td>26</td>\n",
       "      <td>Promoção de Primavera Europeia</td>\n",
       "    </tr>\n",
       "    <tr>\n",
       "      <th>26</th>\n",
       "      <td>27</td>\n",
       "      <td>Promoção Volta às Aulas Europeias</td>\n",
       "    </tr>\n",
       "    <tr>\n",
       "      <th>27</th>\n",
       "      <td>28</td>\n",
       "      <td>Promoção de Férias Europeias</td>\n",
       "    </tr>\n",
       "  </tbody>\n",
       "</table>\n",
       "</div>"
      ],
      "text/plain": [
       "    ID Promocao                         Nome Promocao\n",
       "0             1                          Sem desconto\n",
       "1             2       Promoção de Primavera Americana\n",
       "2             3    Promoção Volta às Aulas Americanas\n",
       "3             4  Promoção Férias Escolares Americanas\n",
       "4             5             Promoção Férias Asiáticas\n",
       "5             6        Promoção de Primavera Asiática\n",
       "6             7            Promoção de Verão Asiático\n",
       "7             8        Promoção de Primavera Europeia\n",
       "8             9     Promoção Volta às Aulas Europeias\n",
       "9            10          Promoção de Férias Europeias\n",
       "10           11       Promoção de Primavera Americana\n",
       "11           12    Promoção Volta às Aulas Americanas\n",
       "12           13  Promoção Férias Escolares Americanas\n",
       "13           14             Promoção Férias Asiáticas\n",
       "14           15        Promoção de Primavera Asiática\n",
       "15           16            Promoção de Verão Asiático\n",
       "16           17        Promoção de Primavera Europeia\n",
       "17           18     Promoção Volta às Aulas Europeias\n",
       "18           19          Promoção de Férias Europeias\n",
       "19           20       Promoção de Primavera Americana\n",
       "20           21    Promoção Volta às Aulas Americanas\n",
       "21           22  Promoção Férias Escolares Americanas\n",
       "22           23             Promoção Férias Asiáticas\n",
       "23           24        Promoção de Primavera Asiática\n",
       "24           25            Promoção de Verão Asiático\n",
       "25           26        Promoção de Primavera Europeia\n",
       "26           27     Promoção Volta às Aulas Europeias\n",
       "27           28          Promoção de Férias Europeias"
      ]
     },
     "metadata": {},
     "output_type": "display_data"
    }
   ],
   "source": [
    "# Deletar Coluna:\n",
    "#clientes_df = clientes_df.drop(['Unnamed: 7', 'Unnamed: 8', 'Unnamed: 9', 'Unnamed: 10'], axis=1) # 0 linhas / 1 colunas\n",
    "\n",
    "\n",
    "clientes_df = clientes_df[['ID Cliente','E-mail']]\n",
    "produtos_df = produtos_df[['ID Produto', 'Categoria']]\n",
    "lojas_df = lojas_df[['ID Loja', 'Nome da Loja']]\n",
    "promocoes_df = promocoes_df[['ID Promocao', 'Nome Promocao']]\n",
    "\n",
    "display(clientes_df)\n",
    "display(produtos_df)\n",
    "display(lojas_df)\n",
    "display(promocoes_df)"
   ]
  },
  {
   "cell_type": "markdown",
   "id": "4b0cf495",
   "metadata": {},
   "source": [
    "### Agora vamos juntar os dataframes para ter 1 único dataframe com tudo \"bonito\""
   ]
  },
  {
   "cell_type": "raw",
   "id": "2e158774",
   "metadata": {},
   "source": [
    "novo_dataframe = dataframe1.merge(dataframe2, on='coluna')"
   ]
  },
  {
   "cell_type": "markdown",
   "id": "8dcefe05",
   "metadata": {},
   "source": [
    "- Obs: O merge precisa das colunas com o mesmo nome para funcionar. Se não tiver, você precisa alterar o nome da coluna com o .rename"
   ]
  },
  {
   "cell_type": "raw",
   "id": "fe584d58",
   "metadata": {},
   "source": [
    "dataframe.rename({'coluna1': 'novo_coluna_1'})"
   ]
  },
  {
   "cell_type": "code",
   "execution_count": 671,
   "id": "26127964",
   "metadata": {},
   "outputs": [
    {
     "data": {
      "text/html": [
       "<div>\n",
       "<style scoped>\n",
       "    .dataframe tbody tr th:only-of-type {\n",
       "        vertical-align: middle;\n",
       "    }\n",
       "\n",
       "    .dataframe tbody tr th {\n",
       "        vertical-align: top;\n",
       "    }\n",
       "\n",
       "    .dataframe thead th {\n",
       "        text-align: right;\n",
       "    }\n",
       "</style>\n",
       "<table border=\"1\" class=\"dataframe\">\n",
       "  <thead>\n",
       "    <tr style=\"text-align: right;\">\n",
       "      <th></th>\n",
       "      <th>Numero da Venda</th>\n",
       "      <th>Data da Venda</th>\n",
       "      <th>Data do Envio</th>\n",
       "      <th>ID Canal</th>\n",
       "      <th>ID Loja</th>\n",
       "      <th>ID Produto</th>\n",
       "      <th>ID Promocao</th>\n",
       "      <th>ID Cliente</th>\n",
       "      <th>Quantidade Vendida</th>\n",
       "      <th>Quantidade Devolvida</th>\n",
       "      <th>Categoria</th>\n",
       "      <th>Nome da Loja</th>\n",
       "      <th>E-mail</th>\n",
       "      <th>Nome Promocao</th>\n",
       "    </tr>\n",
       "  </thead>\n",
       "  <tbody>\n",
       "    <tr>\n",
       "      <th>0</th>\n",
       "      <td>1</td>\n",
       "      <td>01/01/2017</td>\n",
       "      <td>02/01/2017</td>\n",
       "      <td>1</td>\n",
       "      <td>86</td>\n",
       "      <td>981</td>\n",
       "      <td>2</td>\n",
       "      <td>6825</td>\n",
       "      <td>9</td>\n",
       "      <td>1</td>\n",
       "      <td>Câmera Digital</td>\n",
       "      <td>Loja Contoso Austin</td>\n",
       "      <td>rbrumfieldmy@ameblo.jp</td>\n",
       "      <td>Promoção de Primavera Americana</td>\n",
       "    </tr>\n",
       "    <tr>\n",
       "      <th>1</th>\n",
       "      <td>191019</td>\n",
       "      <td>20/03/2017</td>\n",
       "      <td>21/03/2017</td>\n",
       "      <td>1</td>\n",
       "      <td>172</td>\n",
       "      <td>376</td>\n",
       "      <td>2</td>\n",
       "      <td>6825</td>\n",
       "      <td>9</td>\n",
       "      <td>0</td>\n",
       "      <td>Laptop</td>\n",
       "      <td>Loja Contoso Hartford</td>\n",
       "      <td>rbrumfieldmy@ameblo.jp</td>\n",
       "      <td>Promoção de Primavera Americana</td>\n",
       "    </tr>\n",
       "    <tr>\n",
       "      <th>2</th>\n",
       "      <td>18610</td>\n",
       "      <td>08/01/2017</td>\n",
       "      <td>10/01/2017</td>\n",
       "      <td>2</td>\n",
       "      <td>200</td>\n",
       "      <td>448</td>\n",
       "      <td>2</td>\n",
       "      <td>6825</td>\n",
       "      <td>48</td>\n",
       "      <td>0</td>\n",
       "      <td>Desktop</td>\n",
       "      <td>Loja Contoso Catalog</td>\n",
       "      <td>rbrumfieldmy@ameblo.jp</td>\n",
       "      <td>Promoção de Primavera Americana</td>\n",
       "    </tr>\n",
       "    <tr>\n",
       "      <th>3</th>\n",
       "      <td>26350</td>\n",
       "      <td>12/01/2017</td>\n",
       "      <td>18/01/2017</td>\n",
       "      <td>6</td>\n",
       "      <td>21</td>\n",
       "      <td>568</td>\n",
       "      <td>2</td>\n",
       "      <td>6825</td>\n",
       "      <td>9</td>\n",
       "      <td>0</td>\n",
       "      <td>Projetor</td>\n",
       "      <td>Loja Contoso Wheat Ridge</td>\n",
       "      <td>rbrumfieldmy@ameblo.jp</td>\n",
       "      <td>Promoção de Primavera Americana</td>\n",
       "    </tr>\n",
       "    <tr>\n",
       "      <th>4</th>\n",
       "      <td>169169</td>\n",
       "      <td>11/03/2017</td>\n",
       "      <td>14/03/2017</td>\n",
       "      <td>3</td>\n",
       "      <td>22</td>\n",
       "      <td>437</td>\n",
       "      <td>2</td>\n",
       "      <td>21344</td>\n",
       "      <td>27</td>\n",
       "      <td>0</td>\n",
       "      <td>Desktop</td>\n",
       "      <td>Loja Contoso Westminster</td>\n",
       "      <td>makayla3@adventure-works.com</td>\n",
       "      <td>Promoção de Primavera Americana</td>\n",
       "    </tr>\n",
       "    <tr>\n",
       "      <th>...</th>\n",
       "      <td>...</td>\n",
       "      <td>...</td>\n",
       "      <td>...</td>\n",
       "      <td>...</td>\n",
       "      <td>...</td>\n",
       "      <td>...</td>\n",
       "      <td>...</td>\n",
       "      <td>...</td>\n",
       "      <td>...</td>\n",
       "      <td>...</td>\n",
       "      <td>...</td>\n",
       "      <td>...</td>\n",
       "      <td>...</td>\n",
       "      <td>...</td>\n",
       "    </tr>\n",
       "    <tr>\n",
       "      <th>980637</th>\n",
       "      <td>160497</td>\n",
       "      <td>07/03/2017</td>\n",
       "      <td>07/03/2017</td>\n",
       "      <td>0</td>\n",
       "      <td>231</td>\n",
       "      <td>1553</td>\n",
       "      <td>8</td>\n",
       "      <td>39031</td>\n",
       "      <td>12</td>\n",
       "      <td>0</td>\n",
       "      <td>Tablet</td>\n",
       "      <td>Loja Contoso Hofheim</td>\n",
       "      <td>xavier39@adventure-works.com</td>\n",
       "      <td>Promoção de Primavera Europeia</td>\n",
       "    </tr>\n",
       "    <tr>\n",
       "      <th>980638</th>\n",
       "      <td>259187</td>\n",
       "      <td>14/04/2017</td>\n",
       "      <td>16/04/2017</td>\n",
       "      <td>2</td>\n",
       "      <td>236</td>\n",
       "      <td>128</td>\n",
       "      <td>8</td>\n",
       "      <td>37934</td>\n",
       "      <td>6</td>\n",
       "      <td>0</td>\n",
       "      <td>Televisão</td>\n",
       "      <td>Loja Contoso Baumholder</td>\n",
       "      <td>kathryn13@adventure-works.com</td>\n",
       "      <td>Promoção de Primavera Europeia</td>\n",
       "    </tr>\n",
       "    <tr>\n",
       "      <th>980639</th>\n",
       "      <td>129797</td>\n",
       "      <td>23/02/2017</td>\n",
       "      <td>23/02/2017</td>\n",
       "      <td>0</td>\n",
       "      <td>248</td>\n",
       "      <td>722</td>\n",
       "      <td>8</td>\n",
       "      <td>835</td>\n",
       "      <td>12</td>\n",
       "      <td>0</td>\n",
       "      <td>Impressora, Scanner &amp; Fax</td>\n",
       "      <td>Loja Contoso Valletta</td>\n",
       "      <td>nlodgen6@paginegialle.it</td>\n",
       "      <td>Promoção de Primavera Europeia</td>\n",
       "    </tr>\n",
       "    <tr>\n",
       "      <th>980640</th>\n",
       "      <td>133440</td>\n",
       "      <td>24/02/2017</td>\n",
       "      <td>24/02/2017</td>\n",
       "      <td>0</td>\n",
       "      <td>218</td>\n",
       "      <td>1381</td>\n",
       "      <td>8</td>\n",
       "      <td>38801</td>\n",
       "      <td>12</td>\n",
       "      <td>0</td>\n",
       "      <td>Telefone para Casa &amp; Escritório</td>\n",
       "      <td>Loja Contoso Toulouse</td>\n",
       "      <td>megan17@adventure-works.com</td>\n",
       "      <td>Promoção de Primavera Europeia</td>\n",
       "    </tr>\n",
       "    <tr>\n",
       "      <th>980641</th>\n",
       "      <td>297724</td>\n",
       "      <td>27/04/2017</td>\n",
       "      <td>30/04/2017</td>\n",
       "      <td>3</td>\n",
       "      <td>241</td>\n",
       "      <td>420</td>\n",
       "      <td>8</td>\n",
       "      <td>39034</td>\n",
       "      <td>36</td>\n",
       "      <td>0</td>\n",
       "      <td>Desktop</td>\n",
       "      <td>Loja Contoso Copenhagen</td>\n",
       "      <td>charles33@adventure-works.com</td>\n",
       "      <td>Promoção de Primavera Europeia</td>\n",
       "    </tr>\n",
       "  </tbody>\n",
       "</table>\n",
       "<p>980642 rows × 14 columns</p>\n",
       "</div>"
      ],
      "text/plain": [
       "        Numero da Venda Data da Venda Data do Envio  ID Canal  ID Loja  \\\n",
       "0                     1    01/01/2017    02/01/2017         1       86   \n",
       "1                191019    20/03/2017    21/03/2017         1      172   \n",
       "2                 18610    08/01/2017    10/01/2017         2      200   \n",
       "3                 26350    12/01/2017    18/01/2017         6       21   \n",
       "4                169169    11/03/2017    14/03/2017         3       22   \n",
       "...                 ...           ...           ...       ...      ...   \n",
       "980637           160497    07/03/2017    07/03/2017         0      231   \n",
       "980638           259187    14/04/2017    16/04/2017         2      236   \n",
       "980639           129797    23/02/2017    23/02/2017         0      248   \n",
       "980640           133440    24/02/2017    24/02/2017         0      218   \n",
       "980641           297724    27/04/2017    30/04/2017         3      241   \n",
       "\n",
       "        ID Produto  ID Promocao  ID Cliente  Quantidade Vendida  \\\n",
       "0              981            2        6825                   9   \n",
       "1              376            2        6825                   9   \n",
       "2              448            2        6825                  48   \n",
       "3              568            2        6825                   9   \n",
       "4              437            2       21344                  27   \n",
       "...            ...          ...         ...                 ...   \n",
       "980637        1553            8       39031                  12   \n",
       "980638         128            8       37934                   6   \n",
       "980639         722            8         835                  12   \n",
       "980640        1381            8       38801                  12   \n",
       "980641         420            8       39034                  36   \n",
       "\n",
       "        Quantidade Devolvida                        Categoria  \\\n",
       "0                          1                   Câmera Digital   \n",
       "1                          0                           Laptop   \n",
       "2                          0                          Desktop   \n",
       "3                          0                         Projetor   \n",
       "4                          0                          Desktop   \n",
       "...                      ...                              ...   \n",
       "980637                     0                           Tablet   \n",
       "980638                     0                        Televisão   \n",
       "980639                     0        Impressora, Scanner & Fax   \n",
       "980640                     0  Telefone para Casa & Escritório   \n",
       "980641                     0                          Desktop   \n",
       "\n",
       "                     Nome da Loja                         E-mail  \\\n",
       "0            Loja Contoso Austin          rbrumfieldmy@ameblo.jp   \n",
       "1          Loja Contoso Hartford          rbrumfieldmy@ameblo.jp   \n",
       "2           Loja Contoso Catalog          rbrumfieldmy@ameblo.jp   \n",
       "3       Loja Contoso Wheat Ridge          rbrumfieldmy@ameblo.jp   \n",
       "4       Loja Contoso Westminster    makayla3@adventure-works.com   \n",
       "...                           ...                            ...   \n",
       "980637      Loja Contoso Hofheim    xavier39@adventure-works.com   \n",
       "980638   Loja Contoso Baumholder   kathryn13@adventure-works.com   \n",
       "980639     Loja Contoso Valletta        nlodgen6@paginegialle.it   \n",
       "980640     Loja Contoso Toulouse     megan17@adventure-works.com   \n",
       "980641   Loja Contoso Copenhagen   charles33@adventure-works.com   \n",
       "\n",
       "                          Nome Promocao  \n",
       "0       Promoção de Primavera Americana  \n",
       "1       Promoção de Primavera Americana  \n",
       "2       Promoção de Primavera Americana  \n",
       "3       Promoção de Primavera Americana  \n",
       "4       Promoção de Primavera Americana  \n",
       "...                                 ...  \n",
       "980637   Promoção de Primavera Europeia  \n",
       "980638   Promoção de Primavera Europeia  \n",
       "980639   Promoção de Primavera Europeia  \n",
       "980640   Promoção de Primavera Europeia  \n",
       "980641   Promoção de Primavera Europeia  \n",
       "\n",
       "[980642 rows x 14 columns]"
      ]
     },
     "metadata": {},
     "output_type": "display_data"
    }
   ],
   "source": [
    "#juntando os dataframes\n",
    "vendas_df = vendas_df.merge(produtos_df, on='ID Produto')\n",
    "vendas_df = vendas_df.merge(lojas_df, on='ID Loja')\n",
    "vendas_df = vendas_df.merge(clientes_df, on='ID Cliente')\n",
    "vendas_df = vendas_df.merge(promocoes_df, on='ID Promocao')\n",
    "\n",
    "#exibindo o dataframe final\n",
    "display(vendas_df)"
   ]
  },
  {
   "cell_type": "code",
   "execution_count": 675,
   "id": "4963a02d",
   "metadata": {},
   "outputs": [
    {
     "data": {
      "text/html": [
       "<div>\n",
       "<style scoped>\n",
       "    .dataframe tbody tr th:only-of-type {\n",
       "        vertical-align: middle;\n",
       "    }\n",
       "\n",
       "    .dataframe tbody tr th {\n",
       "        vertical-align: top;\n",
       "    }\n",
       "\n",
       "    .dataframe thead th {\n",
       "        text-align: right;\n",
       "    }\n",
       "</style>\n",
       "<table border=\"1\" class=\"dataframe\">\n",
       "  <thead>\n",
       "    <tr style=\"text-align: right;\">\n",
       "      <th></th>\n",
       "      <th>Numero da Venda</th>\n",
       "      <th>Data da Venda</th>\n",
       "      <th>Data do Envio</th>\n",
       "      <th>ID Canal</th>\n",
       "      <th>ID Loja</th>\n",
       "      <th>ID Produto</th>\n",
       "      <th>ID Promocao</th>\n",
       "      <th>ID Cliente</th>\n",
       "      <th>Quantidade Vendida</th>\n",
       "      <th>Quantidade Devolvida</th>\n",
       "      <th>Categoria</th>\n",
       "      <th>Nome da Loja</th>\n",
       "      <th>E-mail Cliente</th>\n",
       "      <th>Nome Promocao</th>\n",
       "    </tr>\n",
       "  </thead>\n",
       "  <tbody>\n",
       "    <tr>\n",
       "      <th>0</th>\n",
       "      <td>1</td>\n",
       "      <td>01/01/2017</td>\n",
       "      <td>02/01/2017</td>\n",
       "      <td>1</td>\n",
       "      <td>86</td>\n",
       "      <td>981</td>\n",
       "      <td>2</td>\n",
       "      <td>6825</td>\n",
       "      <td>9</td>\n",
       "      <td>1</td>\n",
       "      <td>Câmera Digital</td>\n",
       "      <td>Loja Contoso Austin</td>\n",
       "      <td>rbrumfieldmy@ameblo.jp</td>\n",
       "      <td>Promoção de Primavera Americana</td>\n",
       "    </tr>\n",
       "    <tr>\n",
       "      <th>1</th>\n",
       "      <td>191019</td>\n",
       "      <td>20/03/2017</td>\n",
       "      <td>21/03/2017</td>\n",
       "      <td>1</td>\n",
       "      <td>172</td>\n",
       "      <td>376</td>\n",
       "      <td>2</td>\n",
       "      <td>6825</td>\n",
       "      <td>9</td>\n",
       "      <td>0</td>\n",
       "      <td>Laptop</td>\n",
       "      <td>Loja Contoso Hartford</td>\n",
       "      <td>rbrumfieldmy@ameblo.jp</td>\n",
       "      <td>Promoção de Primavera Americana</td>\n",
       "    </tr>\n",
       "    <tr>\n",
       "      <th>2</th>\n",
       "      <td>18610</td>\n",
       "      <td>08/01/2017</td>\n",
       "      <td>10/01/2017</td>\n",
       "      <td>2</td>\n",
       "      <td>200</td>\n",
       "      <td>448</td>\n",
       "      <td>2</td>\n",
       "      <td>6825</td>\n",
       "      <td>48</td>\n",
       "      <td>0</td>\n",
       "      <td>Desktop</td>\n",
       "      <td>Loja Contoso Catalog</td>\n",
       "      <td>rbrumfieldmy@ameblo.jp</td>\n",
       "      <td>Promoção de Primavera Americana</td>\n",
       "    </tr>\n",
       "    <tr>\n",
       "      <th>3</th>\n",
       "      <td>26350</td>\n",
       "      <td>12/01/2017</td>\n",
       "      <td>18/01/2017</td>\n",
       "      <td>6</td>\n",
       "      <td>21</td>\n",
       "      <td>568</td>\n",
       "      <td>2</td>\n",
       "      <td>6825</td>\n",
       "      <td>9</td>\n",
       "      <td>0</td>\n",
       "      <td>Projetor</td>\n",
       "      <td>Loja Contoso Wheat Ridge</td>\n",
       "      <td>rbrumfieldmy@ameblo.jp</td>\n",
       "      <td>Promoção de Primavera Americana</td>\n",
       "    </tr>\n",
       "    <tr>\n",
       "      <th>4</th>\n",
       "      <td>169169</td>\n",
       "      <td>11/03/2017</td>\n",
       "      <td>14/03/2017</td>\n",
       "      <td>3</td>\n",
       "      <td>22</td>\n",
       "      <td>437</td>\n",
       "      <td>2</td>\n",
       "      <td>21344</td>\n",
       "      <td>27</td>\n",
       "      <td>0</td>\n",
       "      <td>Desktop</td>\n",
       "      <td>Loja Contoso Westminster</td>\n",
       "      <td>makayla3@adventure-works.com</td>\n",
       "      <td>Promoção de Primavera Americana</td>\n",
       "    </tr>\n",
       "    <tr>\n",
       "      <th>...</th>\n",
       "      <td>...</td>\n",
       "      <td>...</td>\n",
       "      <td>...</td>\n",
       "      <td>...</td>\n",
       "      <td>...</td>\n",
       "      <td>...</td>\n",
       "      <td>...</td>\n",
       "      <td>...</td>\n",
       "      <td>...</td>\n",
       "      <td>...</td>\n",
       "      <td>...</td>\n",
       "      <td>...</td>\n",
       "      <td>...</td>\n",
       "      <td>...</td>\n",
       "    </tr>\n",
       "    <tr>\n",
       "      <th>980637</th>\n",
       "      <td>160497</td>\n",
       "      <td>07/03/2017</td>\n",
       "      <td>07/03/2017</td>\n",
       "      <td>0</td>\n",
       "      <td>231</td>\n",
       "      <td>1553</td>\n",
       "      <td>8</td>\n",
       "      <td>39031</td>\n",
       "      <td>12</td>\n",
       "      <td>0</td>\n",
       "      <td>Tablet</td>\n",
       "      <td>Loja Contoso Hofheim</td>\n",
       "      <td>xavier39@adventure-works.com</td>\n",
       "      <td>Promoção de Primavera Europeia</td>\n",
       "    </tr>\n",
       "    <tr>\n",
       "      <th>980638</th>\n",
       "      <td>259187</td>\n",
       "      <td>14/04/2017</td>\n",
       "      <td>16/04/2017</td>\n",
       "      <td>2</td>\n",
       "      <td>236</td>\n",
       "      <td>128</td>\n",
       "      <td>8</td>\n",
       "      <td>37934</td>\n",
       "      <td>6</td>\n",
       "      <td>0</td>\n",
       "      <td>Televisão</td>\n",
       "      <td>Loja Contoso Baumholder</td>\n",
       "      <td>kathryn13@adventure-works.com</td>\n",
       "      <td>Promoção de Primavera Europeia</td>\n",
       "    </tr>\n",
       "    <tr>\n",
       "      <th>980639</th>\n",
       "      <td>129797</td>\n",
       "      <td>23/02/2017</td>\n",
       "      <td>23/02/2017</td>\n",
       "      <td>0</td>\n",
       "      <td>248</td>\n",
       "      <td>722</td>\n",
       "      <td>8</td>\n",
       "      <td>835</td>\n",
       "      <td>12</td>\n",
       "      <td>0</td>\n",
       "      <td>Impressora, Scanner &amp; Fax</td>\n",
       "      <td>Loja Contoso Valletta</td>\n",
       "      <td>nlodgen6@paginegialle.it</td>\n",
       "      <td>Promoção de Primavera Europeia</td>\n",
       "    </tr>\n",
       "    <tr>\n",
       "      <th>980640</th>\n",
       "      <td>133440</td>\n",
       "      <td>24/02/2017</td>\n",
       "      <td>24/02/2017</td>\n",
       "      <td>0</td>\n",
       "      <td>218</td>\n",
       "      <td>1381</td>\n",
       "      <td>8</td>\n",
       "      <td>38801</td>\n",
       "      <td>12</td>\n",
       "      <td>0</td>\n",
       "      <td>Telefone para Casa &amp; Escritório</td>\n",
       "      <td>Loja Contoso Toulouse</td>\n",
       "      <td>megan17@adventure-works.com</td>\n",
       "      <td>Promoção de Primavera Europeia</td>\n",
       "    </tr>\n",
       "    <tr>\n",
       "      <th>980641</th>\n",
       "      <td>297724</td>\n",
       "      <td>27/04/2017</td>\n",
       "      <td>30/04/2017</td>\n",
       "      <td>3</td>\n",
       "      <td>241</td>\n",
       "      <td>420</td>\n",
       "      <td>8</td>\n",
       "      <td>39034</td>\n",
       "      <td>36</td>\n",
       "      <td>0</td>\n",
       "      <td>Desktop</td>\n",
       "      <td>Loja Contoso Copenhagen</td>\n",
       "      <td>charles33@adventure-works.com</td>\n",
       "      <td>Promoção de Primavera Europeia</td>\n",
       "    </tr>\n",
       "  </tbody>\n",
       "</table>\n",
       "<p>980642 rows × 14 columns</p>\n",
       "</div>"
      ],
      "text/plain": [
       "        Numero da Venda Data da Venda Data do Envio  ID Canal  ID Loja  \\\n",
       "0                     1    01/01/2017    02/01/2017         1       86   \n",
       "1                191019    20/03/2017    21/03/2017         1      172   \n",
       "2                 18610    08/01/2017    10/01/2017         2      200   \n",
       "3                 26350    12/01/2017    18/01/2017         6       21   \n",
       "4                169169    11/03/2017    14/03/2017         3       22   \n",
       "...                 ...           ...           ...       ...      ...   \n",
       "980637           160497    07/03/2017    07/03/2017         0      231   \n",
       "980638           259187    14/04/2017    16/04/2017         2      236   \n",
       "980639           129797    23/02/2017    23/02/2017         0      248   \n",
       "980640           133440    24/02/2017    24/02/2017         0      218   \n",
       "980641           297724    27/04/2017    30/04/2017         3      241   \n",
       "\n",
       "        ID Produto  ID Promocao  ID Cliente  Quantidade Vendida  \\\n",
       "0              981            2        6825                   9   \n",
       "1              376            2        6825                   9   \n",
       "2              448            2        6825                  48   \n",
       "3              568            2        6825                   9   \n",
       "4              437            2       21344                  27   \n",
       "...            ...          ...         ...                 ...   \n",
       "980637        1553            8       39031                  12   \n",
       "980638         128            8       37934                   6   \n",
       "980639         722            8         835                  12   \n",
       "980640        1381            8       38801                  12   \n",
       "980641         420            8       39034                  36   \n",
       "\n",
       "        Quantidade Devolvida                        Categoria  \\\n",
       "0                          1                   Câmera Digital   \n",
       "1                          0                           Laptop   \n",
       "2                          0                          Desktop   \n",
       "3                          0                         Projetor   \n",
       "4                          0                          Desktop   \n",
       "...                      ...                              ...   \n",
       "980637                     0                           Tablet   \n",
       "980638                     0                        Televisão   \n",
       "980639                     0        Impressora, Scanner & Fax   \n",
       "980640                     0  Telefone para Casa & Escritório   \n",
       "980641                     0                          Desktop   \n",
       "\n",
       "                     Nome da Loja                 E-mail Cliente  \\\n",
       "0            Loja Contoso Austin          rbrumfieldmy@ameblo.jp   \n",
       "1          Loja Contoso Hartford          rbrumfieldmy@ameblo.jp   \n",
       "2           Loja Contoso Catalog          rbrumfieldmy@ameblo.jp   \n",
       "3       Loja Contoso Wheat Ridge          rbrumfieldmy@ameblo.jp   \n",
       "4       Loja Contoso Westminster    makayla3@adventure-works.com   \n",
       "...                           ...                            ...   \n",
       "980637      Loja Contoso Hofheim    xavier39@adventure-works.com   \n",
       "980638   Loja Contoso Baumholder   kathryn13@adventure-works.com   \n",
       "980639     Loja Contoso Valletta        nlodgen6@paginegialle.it   \n",
       "980640     Loja Contoso Toulouse     megan17@adventure-works.com   \n",
       "980641   Loja Contoso Copenhagen   charles33@adventure-works.com   \n",
       "\n",
       "                          Nome Promocao  \n",
       "0       Promoção de Primavera Americana  \n",
       "1       Promoção de Primavera Americana  \n",
       "2       Promoção de Primavera Americana  \n",
       "3       Promoção de Primavera Americana  \n",
       "4       Promoção de Primavera Americana  \n",
       "...                                 ...  \n",
       "980637   Promoção de Primavera Europeia  \n",
       "980638   Promoção de Primavera Europeia  \n",
       "980639   Promoção de Primavera Europeia  \n",
       "980640   Promoção de Primavera Europeia  \n",
       "980641   Promoção de Primavera Europeia  \n",
       "\n",
       "[980642 rows x 14 columns]"
      ]
     },
     "metadata": {},
     "output_type": "display_data"
    }
   ],
   "source": [
    "#vamos renomear o e-mail para ficar claro que é do cliente\n",
    "\n",
    "vendas_df = vendas_df.rename(columns={'E-mail': 'E-mail Cliente'})\n",
    "display(vendas_df)"
   ]
  },
  {
   "cell_type": "markdown",
   "id": "f9090e41",
   "metadata": {},
   "source": [
    "### Agora podemos começar as análises"
   ]
  },
  {
   "cell_type": "markdown",
   "id": "6bcc1f9b",
   "metadata": {},
   "source": [
    "# Resumos e um pouco de Visualização no pandas\n",
    "\n",
    "## Resumo\n",
    "\n",
    "Vamos ver alguns métodos para analisar nossas tabelas (dataframes)\n",
    "\n",
    "Além disso, vamos usar os plot de gráfico padrões do pandas, mas no projeto de DataScience veremos outras mais bonitas e também muito práticas.\n",
    "\n",
    "OBS: O pandas usa o matplotlib (que vimos na seção de \"módulos e bibliotecas\") para plotar gráficos.<br>\n",
    "Se quiser personalizar mais do que o padrão do pandas, importe o matplotlib e use os métodos do matplotlib"
   ]
  },
  {
   "cell_type": "markdown",
   "id": "ae9510b3",
   "metadata": {},
   "source": [
    "- Preparando as bases de dados (o que fizemos na última aula)"
   ]
  },
  {
   "cell_type": "code",
   "execution_count": null,
   "id": "991d535e",
   "metadata": {},
   "outputs": [],
   "source": [
    "import pandas as pd\n",
    "#importando os arquivos\n",
    "vendas_df = pd.read_csv(r'Contoso - Vendas  - 2017.csv', sep=';')\n",
    "produtos_df = pd.read_csv(r'Contoso - Cadastro Produtos.csv', sep=';')\n",
    "lojas_df = pd.read_csv(r'Contoso - Lojas.csv', sep=';')\n",
    "clientes_df = pd.read_csv(r'Contoso - Clientes.csv', sep=';')\n",
    "\n",
    "#limpando apenas as colunas que queremos\n",
    "clientes_df = clientes_df[['ID Cliente', 'E-mail']]\n",
    "produtos_df = produtos_df[['ID Produto', 'Nome do Produto']]\n",
    "lojas_df = lojas_df[['ID Loja', 'Nome da Loja']]\n",
    "\n",
    "#mesclando e renomeando os dataframes\n",
    "vendas_df = vendas_df.merge(produtos_df, on='ID Produto')\n",
    "vendas_df = vendas_df.merge(lojas_df, on='ID Loja')\n",
    "vendas_df = vendas_df.merge(clientes_df, on='ID Cliente').rename(columns={'E-mail': 'E-mail do Cliente'})\n",
    "display(vendas_df)"
   ]
  },
  {
   "cell_type": "markdown",
   "id": "04b4e083",
   "metadata": {},
   "source": [
    "### Qual cliente que comprou mais vezes?\n",
    "\n",
    "- Usaremos o método .value_counts() para contar quantas vezes cada valor do Dataframe aparece\n",
    "- Usaremos o método .plot() para exibir um gráfico"
   ]
  },
  {
   "cell_type": "code",
   "execution_count": 688,
   "id": "f389f981",
   "metadata": {},
   "outputs": [
    {
     "data": {
      "text/plain": [
       "karen33@adventure-works.com        77\n",
       "chloe77@adventure-works.com        74\n",
       "julia43@adventure-works.com        69\n",
       "josé64@adventure-works.com         68\n",
       "karen16@adventure-works.com        68\n",
       "                                   ..\n",
       "jesse34@adventure-works.com         1\n",
       "raymond10@adventure-works.com       1\n",
       "mackenzie10@adventure-works.com     1\n",
       "cvernazza4k@wordpress.com           1\n",
       "charles33@adventure-works.com       1\n",
       "Name: E-mail Cliente, Length: 38907, dtype: int64"
      ]
     },
     "metadata": {},
     "output_type": "display_data"
    },
    {
     "data": {
      "text/plain": [
       "<AxesSubplot:>"
      ]
     },
     "execution_count": 688,
     "metadata": {},
     "output_type": "execute_result"
    },
    {
     "data": {
      "image/png": "[encoded data removed]",
      "text/plain": [
       "<Figure size 1080x360 with 1 Axes>"
      ]
     },
     "metadata": {
      "needs_background": "light"
     },
     "output_type": "display_data"
    }
   ],
   "source": [
    "frequencia_cliente = vendas_df['E-mail Cliente'].value_counts()\n",
    "display(frequencia_cliente)\n",
    "frequencia_cliente[:5].plot(figsize=(15, 5), yticks=range(50, 100, 10)) \n",
    "\n",
    "# figsize: Ajusta tamanho do gráfico\n",
    "# yticks: Ajusta valores do eixo Y"
   ]
  },
  {
   "cell_type": "markdown",
   "id": "8674233c",
   "metadata": {},
   "source": [
    "### Qual a Loja que mais vendeu?\n",
    "\n",
    "- Usaremos o .groupby para agrupar o nosso dataframe, de acordo com o que queremos (somando as quantidades de vendas, por exemplo)"
   ]
  },
  {
   "cell_type": "code",
   "execution_count": 707,
   "id": "01e13de5",
   "metadata": {},
   "outputs": [
    {
     "data": {
      "text/html": [
       "<div>\n",
       "<style scoped>\n",
       "    .dataframe tbody tr th:only-of-type {\n",
       "        vertical-align: middle;\n",
       "    }\n",
       "\n",
       "    .dataframe tbody tr th {\n",
       "        vertical-align: top;\n",
       "    }\n",
       "\n",
       "    .dataframe thead th {\n",
       "        text-align: right;\n",
       "    }\n",
       "</style>\n",
       "<table border=\"1\" class=\"dataframe\">\n",
       "  <thead>\n",
       "    <tr style=\"text-align: right;\">\n",
       "      <th></th>\n",
       "      <th>Quantidade Vendida</th>\n",
       "    </tr>\n",
       "    <tr>\n",
       "      <th>Nome da Loja</th>\n",
       "      <th></th>\n",
       "    </tr>\n",
       "  </thead>\n",
       "  <tbody>\n",
       "    <tr>\n",
       "      <th>Loja Contoso Albany</th>\n",
       "      <td>26353</td>\n",
       "    </tr>\n",
       "    <tr>\n",
       "      <th>Loja Contoso Alexandria</th>\n",
       "      <td>26247</td>\n",
       "    </tr>\n",
       "    <tr>\n",
       "      <th>Loja Contoso Amsterdam</th>\n",
       "      <td>28294</td>\n",
       "    </tr>\n",
       "    <tr>\n",
       "      <th>Loja Contoso Anchorage</th>\n",
       "      <td>27451</td>\n",
       "    </tr>\n",
       "    <tr>\n",
       "      <th>Loja Contoso Annapolis</th>\n",
       "      <td>26065</td>\n",
       "    </tr>\n",
       "    <tr>\n",
       "      <th>...</th>\n",
       "      <td>...</td>\n",
       "    </tr>\n",
       "    <tr>\n",
       "      <th>Loja Contoso Yokohama</th>\n",
       "      <td>28023</td>\n",
       "    </tr>\n",
       "    <tr>\n",
       "      <th>Loja Contoso York</th>\n",
       "      <td>27164</td>\n",
       "    </tr>\n",
       "    <tr>\n",
       "      <th>Loja Contoso koln No.1</th>\n",
       "      <td>29046</td>\n",
       "    </tr>\n",
       "    <tr>\n",
       "      <th>Loja Contoso koln No.2</th>\n",
       "      <td>29650</td>\n",
       "    </tr>\n",
       "    <tr>\n",
       "      <th>Loja Contoso obamberg</th>\n",
       "      <td>29336</td>\n",
       "    </tr>\n",
       "  </tbody>\n",
       "</table>\n",
       "<p>306 rows × 1 columns</p>\n",
       "</div>"
      ],
      "text/plain": [
       "                          Quantidade Vendida\n",
       "Nome da Loja                                \n",
       "Loja Contoso Albany                    26353\n",
       "Loja Contoso Alexandria                26247\n",
       "Loja Contoso Amsterdam                 28294\n",
       "Loja Contoso Anchorage                 27451\n",
       "Loja Contoso Annapolis                 26065\n",
       "...                                      ...\n",
       "Loja Contoso Yokohama                  28023\n",
       "Loja Contoso York                      27164\n",
       "Loja Contoso koln No.1                 29046\n",
       "Loja Contoso koln No.2                 29650\n",
       "Loja Contoso obamberg                  29336\n",
       "\n",
       "[306 rows x 1 columns]"
      ]
     },
     "metadata": {},
     "output_type": "display_data"
    }
   ],
   "source": [
    "vendas_lojas = vendas_df.groupby('Nome da Loja').sum()\n",
    "vendas_lojas = vendas_lojas[['Quantidade Vendida']]\n",
    "display(vendas_lojas)"
   ]
  },
  {
   "cell_type": "markdown",
   "id": "7cb26756",
   "metadata": {},
   "source": [
    "- Agora precisamos pegar o maior valor. Temos 2 formas:\n",
    "    1. Ordenar o dataframe em ordem decrescente de Quantidade Vendida\n",
    "        - Método .sort_values\n",
    "    2. Pegar o Maior valor diretamente\n",
    "        - Métodos .max() e .idxmax()"
   ]
  },
  {
   "cell_type": "code",
   "execution_count": 713,
   "id": "d42f58d1",
   "metadata": {},
   "outputs": [
    {
     "data": {
      "text/html": [
       "<div>\n",
       "<style scoped>\n",
       "    .dataframe tbody tr th:only-of-type {\n",
       "        vertical-align: middle;\n",
       "    }\n",
       "\n",
       "    .dataframe tbody tr th {\n",
       "        vertical-align: top;\n",
       "    }\n",
       "\n",
       "    .dataframe thead th {\n",
       "        text-align: right;\n",
       "    }\n",
       "</style>\n",
       "<table border=\"1\" class=\"dataframe\">\n",
       "  <thead>\n",
       "    <tr style=\"text-align: right;\">\n",
       "      <th></th>\n",
       "      <th>Quantidade Vendida</th>\n",
       "    </tr>\n",
       "    <tr>\n",
       "      <th>Nome da Loja</th>\n",
       "      <th></th>\n",
       "    </tr>\n",
       "  </thead>\n",
       "  <tbody>\n",
       "    <tr>\n",
       "      <th>Loja Contoso Catalog</th>\n",
       "      <td>1029117</td>\n",
       "    </tr>\n",
       "    <tr>\n",
       "      <th>Loja Contoso North America Online</th>\n",
       "      <td>701961</td>\n",
       "    </tr>\n",
       "    <tr>\n",
       "      <th>Loja Contoso Europe Online</th>\n",
       "      <td>616845</td>\n",
       "    </tr>\n",
       "    <tr>\n",
       "      <th>Loja Contoso Asia Online</th>\n",
       "      <td>578458</td>\n",
       "    </tr>\n",
       "    <tr>\n",
       "      <th>Loja Contoso North America Reseller</th>\n",
       "      <td>520176</td>\n",
       "    </tr>\n",
       "    <tr>\n",
       "      <th>...</th>\n",
       "      <td>...</td>\n",
       "    </tr>\n",
       "    <tr>\n",
       "      <th>Loja Contoso Berlin</th>\n",
       "      <td>379</td>\n",
       "    </tr>\n",
       "    <tr>\n",
       "      <th>Loja Contoso Paterson</th>\n",
       "      <td>371</td>\n",
       "    </tr>\n",
       "    <tr>\n",
       "      <th>Loja Contoso Marseille</th>\n",
       "      <td>370</td>\n",
       "    </tr>\n",
       "    <tr>\n",
       "      <th>Loja Contoso Racine No.2</th>\n",
       "      <td>253</td>\n",
       "    </tr>\n",
       "    <tr>\n",
       "      <th>Loja Contoso Venezia</th>\n",
       "      <td>234</td>\n",
       "    </tr>\n",
       "  </tbody>\n",
       "</table>\n",
       "<p>306 rows × 1 columns</p>\n",
       "</div>"
      ],
      "text/plain": [
       "                                     Quantidade Vendida\n",
       "Nome da Loja                                           \n",
       "Loja Contoso Catalog                            1029117\n",
       "Loja Contoso North America Online                701961\n",
       "Loja Contoso Europe Online                       616845\n",
       "Loja Contoso Asia Online                         578458\n",
       "Loja Contoso North America Reseller              520176\n",
       "...                                                 ...\n",
       "Loja Contoso Berlin                                 379\n",
       "Loja Contoso Paterson                               371\n",
       "Loja Contoso Marseille                              370\n",
       "Loja Contoso Racine No.2                            253\n",
       "Loja Contoso Venezia                                234\n",
       "\n",
       "[306 rows x 1 columns]"
      ]
     },
     "metadata": {},
     "output_type": "display_data"
    },
    {
     "data": {
      "text/plain": [
       "<AxesSubplot:xlabel='Nome da Loja'>"
      ]
     },
     "execution_count": 713,
     "metadata": {},
     "output_type": "execute_result"
    },
    {
     "data": {
      "image/png": "[encoded data removed]",
      "text/plain": [
       "<Figure size 1080x360 with 1 Axes>"
      ]
     },
     "metadata": {
      "needs_background": "light"
     },
     "output_type": "display_data"
    }
   ],
   "source": [
    "#ordenando o dataframe\n",
    "vendas_lojas = vendas_lojas.sort_values('Quantidade Vendida', ascending=False)\n",
    "display(vendas_lojas)\n",
    "\n",
    "#podemos plotar em um gráfico\n",
    "vendas_lojas[:5].plot(figsize=(15,5), kind='bar')"
   ]
  },
  {
   "cell_type": "code",
   "execution_count": 716,
   "id": "544e7e65",
   "metadata": {},
   "outputs": [
    {
     "name": "stdout",
     "output_type": "stream",
     "text": [
      "Loja Contoso Catalog  1029117\n"
     ]
    }
   ],
   "source": [
    "#pegando o maior valor e se índice\n",
    "\n",
    "maior_valor = vendas_lojas['Quantidade Vendida'].max()\n",
    "melhor_loja = vendas_lojas['Quantidade Vendida'].idxmax()\n",
    "\n",
    "print(melhor_loja, maior_valor)"
   ]
  },
  {
   "cell_type": "markdown",
   "id": "9352b10d",
   "metadata": {},
   "source": [
    "### Qual produto que menos vendeu?\n",
    "\n",
    "- Já temos uma lista criada para isso, basta verificarmos o final da lista (já que ela está ordenada) ou então usarmos os métodos:\n",
    "    1. min()\n",
    "    2. idxmin()"
   ]
  },
  {
   "cell_type": "code",
   "execution_count": 717,
   "id": "3365509a",
   "metadata": {},
   "outputs": [
    {
     "name": "stdout",
     "output_type": "stream",
     "text": [
      "Loja Contoso Venezia  234\n"
     ]
    }
   ],
   "source": [
    "menor_valor = vendas_lojas['Quantidade Vendida'].min()\n",
    "pior_loja = vendas_lojas['Quantidade Vendida'].idxmin()\n",
    "\n",
    "print(pior_loja, menor_valor)"
   ]
  },
  {
   "cell_type": "markdown",
   "id": "c5fbce7b",
   "metadata": {},
   "source": [
    "# Filtrando informações nos dataframes\n",
    "\n",
    "\n",
    "## Resumo\n",
    "\n",
    "Um dos grandes potenciais do pandas é para tratar condições.\n",
    "\n",
    "E a forma com que analisamos condições no dataframe é diferente do que já fizemos até agora no curso, vamos ver como funciona."
   ]
  },
  {
   "cell_type": "markdown",
   "id": "a8ac87f9",
   "metadata": {},
   "source": [
    "- Preparando as bases de dados"
   ]
  },
  {
   "cell_type": "code",
   "execution_count": null,
   "id": "4234a420",
   "metadata": {},
   "outputs": [],
   "source": [
    "import pandas as pd\n",
    "#importando os arquivos\n",
    "vendas_df = pd.read_csv(r'Contoso - Vendas  - 2017.csv', sep=';')\n",
    "produtos_df = pd.read_csv(r'Contoso - Cadastro Produtos.csv', sep=';')\n",
    "lojas_df = pd.read_csv(r'Contoso - Lojas.csv', sep=';')\n",
    "clientes_df = pd.read_csv(r'Contoso - Clientes.csv', sep=';')\n",
    "\n",
    "#limpando apenas as colunas que queremos\n",
    "clientes_df = clientes_df[['ID Cliente', 'E-mail']]\n",
    "produtos_df = produtos_df[['ID Produto', 'Nome do Produto']]\n",
    "lojas_df = lojas_df[['ID Loja', 'Nome da Loja']]\n",
    "\n",
    "#mesclando e renomeando os dataframes\n",
    "vendas_df = vendas_df.merge(produtos_df, on='ID Produto')\n",
    "vendas_df = vendas_df.merge(lojas_df, on='ID Loja')\n",
    "vendas_df = vendas_df.merge(clientes_df, on='ID Cliente').rename(columns={'E-mail': 'E-mail do Cliente'})\n",
    "display(vendas_df)"
   ]
  },
  {
   "cell_type": "markdown",
   "id": "3ac4b076",
   "metadata": {},
   "source": [
    "### Primeiro, vamos aplicar uma função normalmente. Qual o % das vendas que foi devolvido?\n",
    "\n",
    "- Para isso vamos somar as quantidades nas colunas correspondentes. Lembrando, o % vai ser: Total Devolvido / Total Vendido."
   ]
  },
  {
   "cell_type": "code",
   "execution_count": 722,
   "id": "a0aae800",
   "metadata": {},
   "outputs": [
    {
     "name": "stdout",
     "output_type": "stream",
     "text": [
      "1.17%\n"
     ]
    }
   ],
   "source": [
    "qtd_vendida = vendas_df['Quantidade Vendida'].sum()\n",
    "qtd_devolvida = vendas_df['Quantidade Devolvida'].sum()\n",
    "print('{:.2%}'.format(qtd_devolvida / qtd_vendida))"
   ]
  },
  {
   "cell_type": "markdown",
   "id": "aaf2b32e",
   "metadata": {},
   "source": [
    "### Agora, se quisermos fazer a mesma análise apenas para 1 loja. Queremos filtrar apenas os itens da Loja Contoso Europe Online e saber o % de devolução dessa loja.\n",
    "\n",
    "- Para isso, vamos precisar filtrar. A forma de filtrar nos dataframes é uma \"simples\" comparação"
   ]
  },
  {
   "cell_type": "code",
   "execution_count": 725,
   "id": "4fa6a23a",
   "metadata": {},
   "outputs": [
    {
     "name": "stdout",
     "output_type": "stream",
     "text": [
      "1.33%\n"
     ]
    }
   ],
   "source": [
    "vendas_lojacontoso_europe_online = vendas_df[vendas_df['ID Loja'] == 306]\n",
    "# display(vendas_lojacontoso_europe_online)\n",
    "\n",
    "qtd_vendida_contoso_europe = vendas_lojacontoso_europe_online['Quantidade Vendida'].sum()\n",
    "qtd_devolvida_contoso_europe = vendas_lojacontoso_europe_online['Quantidade Devolvida'].sum()\n",
    "print('{:.2%}'.format(qtd_devolvida_contoso_europe / qtd_vendida_contoso_europe))"
   ]
  },
  {
   "cell_type": "markdown",
   "id": "1fd02f30",
   "metadata": {},
   "source": [
    "### Vamos fazer em 2 passos para entender certinho o que está acontecendo."
   ]
  },
  {
   "cell_type": "code",
   "execution_count": null,
   "id": "666030e8",
   "metadata": {},
   "outputs": [],
   "source": []
  },
  {
   "cell_type": "markdown",
   "id": "d22fe87a",
   "metadata": {},
   "source": [
    "### Desafio: e se eu quisesse criar uma tabela apenas com as vendas da Loja Contoso Europe Online e que não tiveram nenhuma devolução. Quero criar essa tabela e saber quantas vendas são.\n",
    "\n",
    "- Repare que nesse caso são 2 condições, como fazemos isso?"
   ]
  },
  {
   "cell_type": "code",
   "execution_count": 746,
   "id": "2ec1faeb",
   "metadata": {},
   "outputs": [
    {
     "name": "stdout",
     "output_type": "stream",
     "text": [
      "Quantidade Vendida (sem devolução): 481,657.00 unidades\n",
      "Quantidade Vendida (sem devolução) - (Exemplo 02): 481,657.00 unidades\n"
     ]
    }
   ],
   "source": [
    "#tudo junto\n",
    "df_loja306semdev = vendas_df[(vendas_df['ID Loja'] == 306) & (vendas_df['Quantidade Devolvida'] == 0)]\n",
    "# display(df_loja306semdev)\n",
    "\n",
    "loja306semdev = df_loja306semdev['Quantidade Vendida'].sum()\n",
    "print('Quantidade Vendida (sem devolução): {:,.2f} unidades'.format(loja306semdev))\n",
    "      \n",
    "#separado\n",
    "loja306 = vendas_df['ID Loja'] == 306\n",
    "qtd_devolvida_0 = vendas_df['Quantidade Devolvida'] == 0\n",
    "df2_loja306semdev = vendas_df[loja306 & qtd_devolvida_0]\n",
    "# display(df2_loja306semdev)\n",
    "\n",
    "loja306semdev_2 = df2_loja306semdev['Quantidade Vendida'].sum()\n",
    "print('Quantidade Vendida (sem devolução) - (Exemplo 02): {:,.2f} unidades'.format(loja306semdev_2))"
   ]
  },
  {
   "cell_type": "markdown",
   "id": "bef2e823",
   "metadata": {},
   "source": [
    "# Adicionando Colunas, Modificando Colunas e Valores"
   ]
  },
  {
   "cell_type": "markdown",
   "id": "0c99e8d4",
   "metadata": {},
   "source": [
    "### Vamos pegar o nosso dataframe novamente"
   ]
  },
  {
   "cell_type": "code",
   "execution_count": null,
   "id": "088eae0e",
   "metadata": {},
   "outputs": [],
   "source": [
    "import pandas as pd\n",
    "#importando os arquivos\n",
    "vendas_df = pd.read_csv(r'Contoso - Vendas  - 2017.csv', sep=';')\n",
    "produtos_df = pd.read_csv(r'Contoso - Cadastro Produtos.csv', sep=';')\n",
    "lojas_df = pd.read_csv(r'Contoso - Lojas.csv', sep=';')\n",
    "clientes_df = pd.read_csv(r'Contoso - Clientes.csv', sep=';')\n",
    "\n",
    "#limpando apenas as colunas que queremos\n",
    "clientes_df = clientes_df[['ID Cliente', 'E-mail']]\n",
    "produtos_df = produtos_df[['ID Produto', 'Nome do Produto']]\n",
    "lojas_df = lojas_df[['ID Loja', 'Nome da Loja']]\n",
    "\n",
    "#mesclando e renomeando os dataframes\n",
    "vendas_df = vendas_df.merge(produtos_df, on='ID Produto')\n",
    "vendas_df = vendas_df.merge(lojas_df, on='ID Loja')\n",
    "vendas_df = vendas_df.merge(clientes_df, on='ID Cliente').rename(columns={'E-mail': 'E-mail do Cliente'})\n",
    "display(vendas_df)"
   ]
  },
  {
   "cell_type": "markdown",
   "id": "668c6886",
   "metadata": {},
   "source": [
    "### Agora, e se quisermos acrescentar uma coluna com o mês, o dia e o ano de cada venda (e não só a data completa)"
   ]
  },
  {
   "cell_type": "code",
   "execution_count": 747,
   "id": "7ee53579",
   "metadata": {},
   "outputs": [
    {
     "name": "stdout",
     "output_type": "stream",
     "text": [
      "<class 'pandas.core.frame.DataFrame'>\n",
      "Int64Index: 980642 entries, 0 to 980641\n",
      "Data columns (total 14 columns):\n",
      " #   Column                Non-Null Count   Dtype \n",
      "---  ------                --------------   ----- \n",
      " 0   Numero da Venda       980642 non-null  int64 \n",
      " 1   Data da Venda         980642 non-null  object\n",
      " 2   Data do Envio         980642 non-null  object\n",
      " 3   ID Canal              980642 non-null  int64 \n",
      " 4   ID Loja               980642 non-null  int64 \n",
      " 5   ID Produto            980642 non-null  int64 \n",
      " 6   ID Promocao           980642 non-null  int64 \n",
      " 7   ID Cliente            980642 non-null  int64 \n",
      " 8   Quantidade Vendida    980642 non-null  int64 \n",
      " 9   Quantidade Devolvida  980642 non-null  int64 \n",
      " 10  Categoria             980642 non-null  object\n",
      " 11  Nome da Loja          980642 non-null  object\n",
      " 12  E-mail Cliente        980642 non-null  object\n",
      " 13  Nome Promocao         980642 non-null  object\n",
      "dtypes: int64(8), object(6)\n",
      "memory usage: 112.2+ MB\n"
     ]
    }
   ],
   "source": [
    "vendas_df.info()"
   ]
  },
  {
   "cell_type": "code",
   "execution_count": 749,
   "id": "50f20f13",
   "metadata": {},
   "outputs": [
    {
     "data": {
      "text/html": [
       "<div>\n",
       "<style scoped>\n",
       "    .dataframe tbody tr th:only-of-type {\n",
       "        vertical-align: middle;\n",
       "    }\n",
       "\n",
       "    .dataframe tbody tr th {\n",
       "        vertical-align: top;\n",
       "    }\n",
       "\n",
       "    .dataframe thead th {\n",
       "        text-align: right;\n",
       "    }\n",
       "</style>\n",
       "<table border=\"1\" class=\"dataframe\">\n",
       "  <thead>\n",
       "    <tr style=\"text-align: right;\">\n",
       "      <th></th>\n",
       "      <th>Numero da Venda</th>\n",
       "      <th>Data da Venda</th>\n",
       "      <th>Data do Envio</th>\n",
       "      <th>ID Canal</th>\n",
       "      <th>ID Loja</th>\n",
       "      <th>ID Produto</th>\n",
       "      <th>ID Promocao</th>\n",
       "      <th>ID Cliente</th>\n",
       "      <th>Quantidade Vendida</th>\n",
       "      <th>Quantidade Devolvida</th>\n",
       "      <th>Categoria</th>\n",
       "      <th>Nome da Loja</th>\n",
       "      <th>E-mail Cliente</th>\n",
       "      <th>Nome Promocao</th>\n",
       "      <th>Ano da Venda</th>\n",
       "      <th>Mês da Venda</th>\n",
       "      <th>Dia da Venda</th>\n",
       "    </tr>\n",
       "  </thead>\n",
       "  <tbody>\n",
       "    <tr>\n",
       "      <th>0</th>\n",
       "      <td>1</td>\n",
       "      <td>2017-01-01</td>\n",
       "      <td>02/01/2017</td>\n",
       "      <td>1</td>\n",
       "      <td>86</td>\n",
       "      <td>981</td>\n",
       "      <td>2</td>\n",
       "      <td>6825</td>\n",
       "      <td>9</td>\n",
       "      <td>1</td>\n",
       "      <td>Câmera Digital</td>\n",
       "      <td>Loja Contoso Austin</td>\n",
       "      <td>rbrumfieldmy@ameblo.jp</td>\n",
       "      <td>Promoção de Primavera Americana</td>\n",
       "      <td>2017</td>\n",
       "      <td>1</td>\n",
       "      <td>1</td>\n",
       "    </tr>\n",
       "    <tr>\n",
       "      <th>1</th>\n",
       "      <td>191019</td>\n",
       "      <td>2017-03-20</td>\n",
       "      <td>21/03/2017</td>\n",
       "      <td>1</td>\n",
       "      <td>172</td>\n",
       "      <td>376</td>\n",
       "      <td>2</td>\n",
       "      <td>6825</td>\n",
       "      <td>9</td>\n",
       "      <td>0</td>\n",
       "      <td>Laptop</td>\n",
       "      <td>Loja Contoso Hartford</td>\n",
       "      <td>rbrumfieldmy@ameblo.jp</td>\n",
       "      <td>Promoção de Primavera Americana</td>\n",
       "      <td>2017</td>\n",
       "      <td>3</td>\n",
       "      <td>20</td>\n",
       "    </tr>\n",
       "    <tr>\n",
       "      <th>2</th>\n",
       "      <td>18610</td>\n",
       "      <td>2017-01-08</td>\n",
       "      <td>10/01/2017</td>\n",
       "      <td>2</td>\n",
       "      <td>200</td>\n",
       "      <td>448</td>\n",
       "      <td>2</td>\n",
       "      <td>6825</td>\n",
       "      <td>48</td>\n",
       "      <td>0</td>\n",
       "      <td>Desktop</td>\n",
       "      <td>Loja Contoso Catalog</td>\n",
       "      <td>rbrumfieldmy@ameblo.jp</td>\n",
       "      <td>Promoção de Primavera Americana</td>\n",
       "      <td>2017</td>\n",
       "      <td>1</td>\n",
       "      <td>8</td>\n",
       "    </tr>\n",
       "    <tr>\n",
       "      <th>3</th>\n",
       "      <td>26350</td>\n",
       "      <td>2017-01-12</td>\n",
       "      <td>18/01/2017</td>\n",
       "      <td>6</td>\n",
       "      <td>21</td>\n",
       "      <td>568</td>\n",
       "      <td>2</td>\n",
       "      <td>6825</td>\n",
       "      <td>9</td>\n",
       "      <td>0</td>\n",
       "      <td>Projetor</td>\n",
       "      <td>Loja Contoso Wheat Ridge</td>\n",
       "      <td>rbrumfieldmy@ameblo.jp</td>\n",
       "      <td>Promoção de Primavera Americana</td>\n",
       "      <td>2017</td>\n",
       "      <td>1</td>\n",
       "      <td>12</td>\n",
       "    </tr>\n",
       "    <tr>\n",
       "      <th>4</th>\n",
       "      <td>169169</td>\n",
       "      <td>2017-03-11</td>\n",
       "      <td>14/03/2017</td>\n",
       "      <td>3</td>\n",
       "      <td>22</td>\n",
       "      <td>437</td>\n",
       "      <td>2</td>\n",
       "      <td>21344</td>\n",
       "      <td>27</td>\n",
       "      <td>0</td>\n",
       "      <td>Desktop</td>\n",
       "      <td>Loja Contoso Westminster</td>\n",
       "      <td>makayla3@adventure-works.com</td>\n",
       "      <td>Promoção de Primavera Americana</td>\n",
       "      <td>2017</td>\n",
       "      <td>3</td>\n",
       "      <td>11</td>\n",
       "    </tr>\n",
       "    <tr>\n",
       "      <th>...</th>\n",
       "      <td>...</td>\n",
       "      <td>...</td>\n",
       "      <td>...</td>\n",
       "      <td>...</td>\n",
       "      <td>...</td>\n",
       "      <td>...</td>\n",
       "      <td>...</td>\n",
       "      <td>...</td>\n",
       "      <td>...</td>\n",
       "      <td>...</td>\n",
       "      <td>...</td>\n",
       "      <td>...</td>\n",
       "      <td>...</td>\n",
       "      <td>...</td>\n",
       "      <td>...</td>\n",
       "      <td>...</td>\n",
       "      <td>...</td>\n",
       "    </tr>\n",
       "    <tr>\n",
       "      <th>980637</th>\n",
       "      <td>160497</td>\n",
       "      <td>2017-03-07</td>\n",
       "      <td>07/03/2017</td>\n",
       "      <td>0</td>\n",
       "      <td>231</td>\n",
       "      <td>1553</td>\n",
       "      <td>8</td>\n",
       "      <td>39031</td>\n",
       "      <td>12</td>\n",
       "      <td>0</td>\n",
       "      <td>Tablet</td>\n",
       "      <td>Loja Contoso Hofheim</td>\n",
       "      <td>xavier39@adventure-works.com</td>\n",
       "      <td>Promoção de Primavera Europeia</td>\n",
       "      <td>2017</td>\n",
       "      <td>3</td>\n",
       "      <td>7</td>\n",
       "    </tr>\n",
       "    <tr>\n",
       "      <th>980638</th>\n",
       "      <td>259187</td>\n",
       "      <td>2017-04-14</td>\n",
       "      <td>16/04/2017</td>\n",
       "      <td>2</td>\n",
       "      <td>236</td>\n",
       "      <td>128</td>\n",
       "      <td>8</td>\n",
       "      <td>37934</td>\n",
       "      <td>6</td>\n",
       "      <td>0</td>\n",
       "      <td>Televisão</td>\n",
       "      <td>Loja Contoso Baumholder</td>\n",
       "      <td>kathryn13@adventure-works.com</td>\n",
       "      <td>Promoção de Primavera Europeia</td>\n",
       "      <td>2017</td>\n",
       "      <td>4</td>\n",
       "      <td>14</td>\n",
       "    </tr>\n",
       "    <tr>\n",
       "      <th>980639</th>\n",
       "      <td>129797</td>\n",
       "      <td>2017-02-23</td>\n",
       "      <td>23/02/2017</td>\n",
       "      <td>0</td>\n",
       "      <td>248</td>\n",
       "      <td>722</td>\n",
       "      <td>8</td>\n",
       "      <td>835</td>\n",
       "      <td>12</td>\n",
       "      <td>0</td>\n",
       "      <td>Impressora, Scanner &amp; Fax</td>\n",
       "      <td>Loja Contoso Valletta</td>\n",
       "      <td>nlodgen6@paginegialle.it</td>\n",
       "      <td>Promoção de Primavera Europeia</td>\n",
       "      <td>2017</td>\n",
       "      <td>2</td>\n",
       "      <td>23</td>\n",
       "    </tr>\n",
       "    <tr>\n",
       "      <th>980640</th>\n",
       "      <td>133440</td>\n",
       "      <td>2017-02-24</td>\n",
       "      <td>24/02/2017</td>\n",
       "      <td>0</td>\n",
       "      <td>218</td>\n",
       "      <td>1381</td>\n",
       "      <td>8</td>\n",
       "      <td>38801</td>\n",
       "      <td>12</td>\n",
       "      <td>0</td>\n",
       "      <td>Telefone para Casa &amp; Escritório</td>\n",
       "      <td>Loja Contoso Toulouse</td>\n",
       "      <td>megan17@adventure-works.com</td>\n",
       "      <td>Promoção de Primavera Europeia</td>\n",
       "      <td>2017</td>\n",
       "      <td>2</td>\n",
       "      <td>24</td>\n",
       "    </tr>\n",
       "    <tr>\n",
       "      <th>980641</th>\n",
       "      <td>297724</td>\n",
       "      <td>2017-04-27</td>\n",
       "      <td>30/04/2017</td>\n",
       "      <td>3</td>\n",
       "      <td>241</td>\n",
       "      <td>420</td>\n",
       "      <td>8</td>\n",
       "      <td>39034</td>\n",
       "      <td>36</td>\n",
       "      <td>0</td>\n",
       "      <td>Desktop</td>\n",
       "      <td>Loja Contoso Copenhagen</td>\n",
       "      <td>charles33@adventure-works.com</td>\n",
       "      <td>Promoção de Primavera Europeia</td>\n",
       "      <td>2017</td>\n",
       "      <td>4</td>\n",
       "      <td>27</td>\n",
       "    </tr>\n",
       "  </tbody>\n",
       "</table>\n",
       "<p>980642 rows × 17 columns</p>\n",
       "</div>"
      ],
      "text/plain": [
       "        Numero da Venda Data da Venda Data do Envio  ID Canal  ID Loja  \\\n",
       "0                     1    2017-01-01    02/01/2017         1       86   \n",
       "1                191019    2017-03-20    21/03/2017         1      172   \n",
       "2                 18610    2017-01-08    10/01/2017         2      200   \n",
       "3                 26350    2017-01-12    18/01/2017         6       21   \n",
       "4                169169    2017-03-11    14/03/2017         3       22   \n",
       "...                 ...           ...           ...       ...      ...   \n",
       "980637           160497    2017-03-07    07/03/2017         0      231   \n",
       "980638           259187    2017-04-14    16/04/2017         2      236   \n",
       "980639           129797    2017-02-23    23/02/2017         0      248   \n",
       "980640           133440    2017-02-24    24/02/2017         0      218   \n",
       "980641           297724    2017-04-27    30/04/2017         3      241   \n",
       "\n",
       "        ID Produto  ID Promocao  ID Cliente  Quantidade Vendida  \\\n",
       "0              981            2        6825                   9   \n",
       "1              376            2        6825                   9   \n",
       "2              448            2        6825                  48   \n",
       "3              568            2        6825                   9   \n",
       "4              437            2       21344                  27   \n",
       "...            ...          ...         ...                 ...   \n",
       "980637        1553            8       39031                  12   \n",
       "980638         128            8       37934                   6   \n",
       "980639         722            8         835                  12   \n",
       "980640        1381            8       38801                  12   \n",
       "980641         420            8       39034                  36   \n",
       "\n",
       "        Quantidade Devolvida                        Categoria  \\\n",
       "0                          1                   Câmera Digital   \n",
       "1                          0                           Laptop   \n",
       "2                          0                          Desktop   \n",
       "3                          0                         Projetor   \n",
       "4                          0                          Desktop   \n",
       "...                      ...                              ...   \n",
       "980637                     0                           Tablet   \n",
       "980638                     0                        Televisão   \n",
       "980639                     0        Impressora, Scanner & Fax   \n",
       "980640                     0  Telefone para Casa & Escritório   \n",
       "980641                     0                          Desktop   \n",
       "\n",
       "                     Nome da Loja                 E-mail Cliente  \\\n",
       "0            Loja Contoso Austin          rbrumfieldmy@ameblo.jp   \n",
       "1          Loja Contoso Hartford          rbrumfieldmy@ameblo.jp   \n",
       "2           Loja Contoso Catalog          rbrumfieldmy@ameblo.jp   \n",
       "3       Loja Contoso Wheat Ridge          rbrumfieldmy@ameblo.jp   \n",
       "4       Loja Contoso Westminster    makayla3@adventure-works.com   \n",
       "...                           ...                            ...   \n",
       "980637      Loja Contoso Hofheim    xavier39@adventure-works.com   \n",
       "980638   Loja Contoso Baumholder   kathryn13@adventure-works.com   \n",
       "980639     Loja Contoso Valletta        nlodgen6@paginegialle.it   \n",
       "980640     Loja Contoso Toulouse     megan17@adventure-works.com   \n",
       "980641   Loja Contoso Copenhagen   charles33@adventure-works.com   \n",
       "\n",
       "                          Nome Promocao  Ano da Venda  Mês da Venda  \\\n",
       "0       Promoção de Primavera Americana          2017             1   \n",
       "1       Promoção de Primavera Americana          2017             3   \n",
       "2       Promoção de Primavera Americana          2017             1   \n",
       "3       Promoção de Primavera Americana          2017             1   \n",
       "4       Promoção de Primavera Americana          2017             3   \n",
       "...                                 ...           ...           ...   \n",
       "980637   Promoção de Primavera Europeia          2017             3   \n",
       "980638   Promoção de Primavera Europeia          2017             4   \n",
       "980639   Promoção de Primavera Europeia          2017             2   \n",
       "980640   Promoção de Primavera Europeia          2017             2   \n",
       "980641   Promoção de Primavera Europeia          2017             4   \n",
       "\n",
       "        Dia da Venda  \n",
       "0                  1  \n",
       "1                 20  \n",
       "2                  8  \n",
       "3                 12  \n",
       "4                 11  \n",
       "...              ...  \n",
       "980637             7  \n",
       "980638            14  \n",
       "980639            23  \n",
       "980640            24  \n",
       "980641            27  \n",
       "\n",
       "[980642 rows x 17 columns]"
      ]
     },
     "metadata": {},
     "output_type": "display_data"
    },
    {
     "name": "stdout",
     "output_type": "stream",
     "text": [
      "<class 'pandas.core.frame.DataFrame'>\n",
      "Int64Index: 980642 entries, 0 to 980641\n",
      "Data columns (total 17 columns):\n",
      " #   Column                Non-Null Count   Dtype         \n",
      "---  ------                --------------   -----         \n",
      " 0   Numero da Venda       980642 non-null  int64         \n",
      " 1   Data da Venda         980642 non-null  datetime64[ns]\n",
      " 2   Data do Envio         980642 non-null  object        \n",
      " 3   ID Canal              980642 non-null  int64         \n",
      " 4   ID Loja               980642 non-null  int64         \n",
      " 5   ID Produto            980642 non-null  int64         \n",
      " 6   ID Promocao           980642 non-null  int64         \n",
      " 7   ID Cliente            980642 non-null  int64         \n",
      " 8   Quantidade Vendida    980642 non-null  int64         \n",
      " 9   Quantidade Devolvida  980642 non-null  int64         \n",
      " 10  Categoria             980642 non-null  object        \n",
      " 11  Nome da Loja          980642 non-null  object        \n",
      " 12  E-mail Cliente        980642 non-null  object        \n",
      " 13  Nome Promocao         980642 non-null  object        \n",
      " 14  Ano da Venda          980642 non-null  int64         \n",
      " 15  Mês da Venda          980642 non-null  int64         \n",
      " 16  Dia da Venda          980642 non-null  int64         \n",
      "dtypes: datetime64[ns](1), int64(11), object(5)\n",
      "memory usage: 134.7+ MB\n"
     ]
    }
   ],
   "source": [
    "vendas_df['Data da Venda'] = pd.to_datetime(vendas_df['Data da Venda'], format='%d/%m/%Y')\n",
    "vendas_df['Ano da Venda'] = vendas_df['Data da Venda'].dt.year\n",
    "vendas_df['Mês da Venda'] = vendas_df['Data da Venda'].dt.month\n",
    "vendas_df['Dia da Venda'] = vendas_df['Data da Venda'].dt.day\n",
    "\n",
    "display(vendas_df)\n",
    "vendas_df.info()"
   ]
  },
  {
   "cell_type": "markdown",
   "id": "1ad22684",
   "metadata": {},
   "source": [
    "### E agora, caso a gente queira modificar 1 valor específico, como fazemos? Vamos importar novamente a base de produtos"
   ]
  },
  {
   "cell_type": "code",
   "execution_count": 771,
   "id": "fcbdca69",
   "metadata": {},
   "outputs": [
    {
     "data": {
      "text/html": [
       "<div>\n",
       "<style scoped>\n",
       "    .dataframe tbody tr th:only-of-type {\n",
       "        vertical-align: middle;\n",
       "    }\n",
       "\n",
       "    .dataframe tbody tr th {\n",
       "        vertical-align: top;\n",
       "    }\n",
       "\n",
       "    .dataframe thead th {\n",
       "        text-align: right;\n",
       "    }\n",
       "</style>\n",
       "<table border=\"1\" class=\"dataframe\">\n",
       "  <thead>\n",
       "    <tr style=\"text-align: right;\">\n",
       "      <th></th>\n",
       "      <th>Nome da Marca</th>\n",
       "      <th>Tipo</th>\n",
       "      <th>Custo Unitario</th>\n",
       "      <th>Preco Unitario</th>\n",
       "      <th>ID Produto</th>\n",
       "      <th>Categoria</th>\n",
       "    </tr>\n",
       "  </thead>\n",
       "  <tbody>\n",
       "    <tr>\n",
       "      <th>0</th>\n",
       "      <td>Contoso</td>\n",
       "      <td>Econômico</td>\n",
       "      <td>10,69</td>\n",
       "      <td>20,96</td>\n",
       "      <td>873</td>\n",
       "      <td>Acessório para Computador</td>\n",
       "    </tr>\n",
       "    <tr>\n",
       "      <th>1</th>\n",
       "      <td>Contoso</td>\n",
       "      <td>Econômico</td>\n",
       "      <td>6,63</td>\n",
       "      <td>13</td>\n",
       "      <td>879</td>\n",
       "      <td>Acessório para Computador</td>\n",
       "    </tr>\n",
       "    <tr>\n",
       "      <th>2</th>\n",
       "      <td>Contoso</td>\n",
       "      <td>Econômico</td>\n",
       "      <td>6,63</td>\n",
       "      <td>13</td>\n",
       "      <td>880</td>\n",
       "      <td>Acessório para Computador</td>\n",
       "    </tr>\n",
       "    <tr>\n",
       "      <th>3</th>\n",
       "      <td>Contoso</td>\n",
       "      <td>Econômico</td>\n",
       "      <td>6,63</td>\n",
       "      <td>13</td>\n",
       "      <td>881</td>\n",
       "      <td>Acessório para Computador</td>\n",
       "    </tr>\n",
       "    <tr>\n",
       "      <th>4</th>\n",
       "      <td>Contoso</td>\n",
       "      <td>Econômico</td>\n",
       "      <td>6,63</td>\n",
       "      <td>13</td>\n",
       "      <td>882</td>\n",
       "      <td>Acessório para Computador</td>\n",
       "    </tr>\n",
       "  </tbody>\n",
       "</table>\n",
       "</div>"
      ],
      "text/plain": [
       "  Nome da Marca       Tipo Custo Unitario Preco Unitario  ID Produto  \\\n",
       "0       Contoso  Econômico          10,69          20,96         873   \n",
       "1       Contoso  Econômico           6,63             13         879   \n",
       "2       Contoso  Econômico           6,63             13         880   \n",
       "3       Contoso  Econômico           6,63             13         881   \n",
       "4       Contoso  Econômico           6,63             13         882   \n",
       "\n",
       "                   Categoria  \n",
       "0  Acessório para Computador  \n",
       "1  Acessório para Computador  \n",
       "2  Acessório para Computador  \n",
       "3  Acessório para Computador  \n",
       "4  Acessório para Computador  "
      ]
     },
     "metadata": {},
     "output_type": "display_data"
    }
   ],
   "source": [
    "novo_produtos_df = pd.read_csv(r'C:\\Users\\Daniel\\Documents\\Arquivos Técnicos\\Arquivos\\Programação\\Cursos\\Python Impressionador - Hashtag Treinamento\\19.Análise da Dados com o Pandas + Integração Python e Excel\\MATERIAL DE APOIO\\Contoso - Cadastro Produtos.csv', sep=';')\n",
    "display(novo_produtos_df.head())\n",
    "\n",
    "#repare no .head() para pegar apenas os primeiros valores, é bem comum esse uso para ter uma visão do que são os dados"
   ]
  },
  {
   "cell_type": "markdown",
   "id": "973b8196",
   "metadata": {},
   "source": [
    "### Antes de entrar no próximo exemplo, precisamos falar de 2 métodos:\n",
    "    1. loc - permite pegar uma linha de acordo com o índice dela. Ele dá erro caso não encontre o índice. Isso é interessante principalmente quando o índice é uma informação relevante ao invés só do número do índice ou quando queremos pegar alguma linha específica do dataframe (ao invés de ir do início do dataframe até a linha 5, por exemplo).\n",
    "        Também podemos usar como loc[índice_linha, índice_coluna] para acessar um valor específico e modificá-lo.\n",
    "    2. iloc - enxerga o dataframe como linhas e colunas e consegue pegar o valor com um número de linha e um número de coluna. Repara que ele não analisa o valor do índice da linha e da coluna, apenas a posição importa.\n",
    "        Uso: iloc[num_linha, num_coluna]\n",
    "        \n",
    "- Vendo na prática"
   ]
  },
  {
   "cell_type": "code",
   "execution_count": 776,
   "id": "faad904d",
   "metadata": {},
   "outputs": [
    {
     "data": {
      "text/html": [
       "<div>\n",
       "<style scoped>\n",
       "    .dataframe tbody tr th:only-of-type {\n",
       "        vertical-align: middle;\n",
       "    }\n",
       "\n",
       "    .dataframe tbody tr th {\n",
       "        vertical-align: top;\n",
       "    }\n",
       "\n",
       "    .dataframe thead th {\n",
       "        text-align: right;\n",
       "    }\n",
       "</style>\n",
       "<table border=\"1\" class=\"dataframe\">\n",
       "  <thead>\n",
       "    <tr style=\"text-align: right;\">\n",
       "      <th></th>\n",
       "      <th>Tipo</th>\n",
       "      <th>Custo Unitario</th>\n",
       "      <th>Preco Unitario</th>\n",
       "      <th>ID Produto</th>\n",
       "      <th>Categoria</th>\n",
       "    </tr>\n",
       "    <tr>\n",
       "      <th>Nome da Marca</th>\n",
       "      <th></th>\n",
       "      <th></th>\n",
       "      <th></th>\n",
       "      <th></th>\n",
       "      <th></th>\n",
       "    </tr>\n",
       "  </thead>\n",
       "  <tbody>\n",
       "    <tr>\n",
       "      <th>Contoso</th>\n",
       "      <td>Econômico</td>\n",
       "      <td>10,69</td>\n",
       "      <td>20,96</td>\n",
       "      <td>873</td>\n",
       "      <td>Acessório para Computador</td>\n",
       "    </tr>\n",
       "    <tr>\n",
       "      <th>Contoso</th>\n",
       "      <td>Econômico</td>\n",
       "      <td>6,63</td>\n",
       "      <td>13</td>\n",
       "      <td>879</td>\n",
       "      <td>Acessório para Computador</td>\n",
       "    </tr>\n",
       "    <tr>\n",
       "      <th>Contoso</th>\n",
       "      <td>Econômico</td>\n",
       "      <td>6,63</td>\n",
       "      <td>13</td>\n",
       "      <td>880</td>\n",
       "      <td>Acessório para Computador</td>\n",
       "    </tr>\n",
       "    <tr>\n",
       "      <th>Contoso</th>\n",
       "      <td>Econômico</td>\n",
       "      <td>6,63</td>\n",
       "      <td>13</td>\n",
       "      <td>881</td>\n",
       "      <td>Acessório para Computador</td>\n",
       "    </tr>\n",
       "    <tr>\n",
       "      <th>Contoso</th>\n",
       "      <td>Econômico</td>\n",
       "      <td>6,63</td>\n",
       "      <td>13</td>\n",
       "      <td>882</td>\n",
       "      <td>Acessório para Computador</td>\n",
       "    </tr>\n",
       "  </tbody>\n",
       "</table>\n",
       "</div>"
      ],
      "text/plain": [
       "                    Tipo Custo Unitario Preco Unitario  ID Produto  \\\n",
       "Nome da Marca                                                        \n",
       "Contoso        Econômico          10,69          20,96         873   \n",
       "Contoso        Econômico           6,63             13         879   \n",
       "Contoso        Econômico           6,63             13         880   \n",
       "Contoso        Econômico           6,63             13         881   \n",
       "Contoso        Econômico           6,63             13         882   \n",
       "\n",
       "                               Categoria  \n",
       "Nome da Marca                             \n",
       "Contoso        Acessório para Computador  \n",
       "Contoso        Acessório para Computador  \n",
       "Contoso        Acessório para Computador  \n",
       "Contoso        Acessório para Computador  \n",
       "Contoso        Acessório para Computador  "
      ]
     },
     "metadata": {},
     "output_type": "display_data"
    }
   ],
   "source": [
    "novo_produtos_df = novo_produtos_df.set_index('Nome da Marca')\n",
    "display(novo_produtos_df.head())"
   ]
  },
  {
   "cell_type": "code",
   "execution_count": 784,
   "id": "f32413ec",
   "metadata": {},
   "outputs": [
    {
     "name": "stdout",
     "output_type": "stream",
     "text": [
      "873\n"
     ]
    }
   ],
   "source": [
    "# por loc: Acessa a informação do dataframe de acordo com o índex\n",
    "#novo_produtos_df.loc[:2]\n",
    "novo_produtos_df.loc['Contoso', 'Preco Unitario']\n",
    "\n",
    "# por iloc\n",
    "print(novo_produtos_df.iloc[0, 3])\n"
   ]
  },
  {
   "cell_type": "markdown",
   "id": "497f481b",
   "metadata": {},
   "source": [
    "### A empresa decidiu aumentar o preço do produto ID 873 (Contoso Wireless Laser Mouse E50 Grey) para 23 reais. Como fazemos, para modificar isso na nossa base?"
   ]
  },
  {
   "cell_type": "code",
   "execution_count": 785,
   "id": "fbdbac75",
   "metadata": {},
   "outputs": [
    {
     "data": {
      "text/html": [
       "<div>\n",
       "<style scoped>\n",
       "    .dataframe tbody tr th:only-of-type {\n",
       "        vertical-align: middle;\n",
       "    }\n",
       "\n",
       "    .dataframe tbody tr th {\n",
       "        vertical-align: top;\n",
       "    }\n",
       "\n",
       "    .dataframe thead th {\n",
       "        text-align: right;\n",
       "    }\n",
       "</style>\n",
       "<table border=\"1\" class=\"dataframe\">\n",
       "  <thead>\n",
       "    <tr style=\"text-align: right;\">\n",
       "      <th></th>\n",
       "      <th>Tipo</th>\n",
       "      <th>Custo Unitario</th>\n",
       "      <th>Preco Unitario</th>\n",
       "      <th>ID Produto</th>\n",
       "      <th>Categoria</th>\n",
       "    </tr>\n",
       "    <tr>\n",
       "      <th>Nome da Marca</th>\n",
       "      <th></th>\n",
       "      <th></th>\n",
       "      <th></th>\n",
       "      <th></th>\n",
       "      <th></th>\n",
       "    </tr>\n",
       "  </thead>\n",
       "  <tbody>\n",
       "    <tr>\n",
       "      <th>Contoso</th>\n",
       "      <td>Econômico</td>\n",
       "      <td>10,69</td>\n",
       "      <td>23</td>\n",
       "      <td>873</td>\n",
       "      <td>Acessório para Computador</td>\n",
       "    </tr>\n",
       "    <tr>\n",
       "      <th>Contoso</th>\n",
       "      <td>Econômico</td>\n",
       "      <td>6,63</td>\n",
       "      <td>13</td>\n",
       "      <td>879</td>\n",
       "      <td>Acessório para Computador</td>\n",
       "    </tr>\n",
       "    <tr>\n",
       "      <th>Contoso</th>\n",
       "      <td>Econômico</td>\n",
       "      <td>6,63</td>\n",
       "      <td>13</td>\n",
       "      <td>880</td>\n",
       "      <td>Acessório para Computador</td>\n",
       "    </tr>\n",
       "    <tr>\n",
       "      <th>Contoso</th>\n",
       "      <td>Econômico</td>\n",
       "      <td>6,63</td>\n",
       "      <td>13</td>\n",
       "      <td>881</td>\n",
       "      <td>Acessório para Computador</td>\n",
       "    </tr>\n",
       "    <tr>\n",
       "      <th>Contoso</th>\n",
       "      <td>Econômico</td>\n",
       "      <td>6,63</td>\n",
       "      <td>13</td>\n",
       "      <td>882</td>\n",
       "      <td>Acessório para Computador</td>\n",
       "    </tr>\n",
       "  </tbody>\n",
       "</table>\n",
       "</div>"
      ],
      "text/plain": [
       "                    Tipo Custo Unitario Preco Unitario  ID Produto  \\\n",
       "Nome da Marca                                                        \n",
       "Contoso        Econômico          10,69             23         873   \n",
       "Contoso        Econômico           6,63             13         879   \n",
       "Contoso        Econômico           6,63             13         880   \n",
       "Contoso        Econômico           6,63             13         881   \n",
       "Contoso        Econômico           6,63             13         882   \n",
       "\n",
       "                               Categoria  \n",
       "Nome da Marca                             \n",
       "Contoso        Acessório para Computador  \n",
       "Contoso        Acessório para Computador  \n",
       "Contoso        Acessório para Computador  \n",
       "Contoso        Acessório para Computador  \n",
       "Contoso        Acessório para Computador  "
      ]
     },
     "metadata": {},
     "output_type": "display_data"
    }
   ],
   "source": [
    "novo_produtos_df.loc[novo_produtos_df['ID Produto'] == 873, 'Preco Unitario'] = 23\n",
    "display(novo_produtos_df.head())"
   ]
  },
  {
   "cell_type": "markdown",
   "id": "169e4677",
   "metadata": {},
   "source": [
    "# Exportando do DataFrame para um csv\n",
    "\n",
    "### Depois de modificar um DataFrame, ou até criar um, muitas vezes podemos exportar esse dataframe para um csv\n",
    "\n",
    "No pandas, isso é bem simples:\n",
    "\n",
    "dataframe.to_csv('nome_do_arquivo.csv', sep=',')"
   ]
  },
  {
   "cell_type": "markdown",
   "id": "a442f9f4",
   "metadata": {},
   "source": [
    "### Lendo um DataFrame, modificando ele e exportando"
   ]
  },
  {
   "cell_type": "code",
   "execution_count": null,
   "id": "54ac77b4",
   "metadata": {},
   "outputs": [],
   "source": [
    "import pandas as pd\n",
    "#importando os arquivos\n",
    "vendas_df = pd.read_csv(r'Contoso - Vendas  - 2017.csv', sep=';')\n",
    "produtos_df = pd.read_csv(r'Contoso - Cadastro Produtos.csv', sep=';')\n",
    "lojas_df = pd.read_csv(r'Contoso - Lojas.csv', sep=';')\n",
    "clientes_df = pd.read_csv(r'Contoso - Clientes.csv', sep=';')\n",
    "\n",
    "#limpando apenas as colunas que queremos\n",
    "clientes_df = clientes_df[['ID Cliente', 'E-mail']]\n",
    "produtos_df = produtos_df[['ID Produto', 'Nome do Produto']]\n",
    "lojas_df = lojas_df[['ID Loja', 'Nome da Loja']]\n",
    "\n",
    "#mesclando e renomeando os dataframes\n",
    "vendas_df = vendas_df.merge(produtos_df, on='ID Produto')\n",
    "vendas_df = vendas_df.merge(lojas_df, on='ID Loja')\n",
    "vendas_df = vendas_df.merge(clientes_df, on='ID Cliente').rename(columns={'E-mail': 'E-mail do Cliente'})\n",
    "display(vendas_df)"
   ]
  },
  {
   "cell_type": "code",
   "execution_count": 786,
   "id": "c726d9f7",
   "metadata": {},
   "outputs": [],
   "source": [
    "#agora vamos criar o csv\n",
    "\n",
    "vendas_df.to_csv('_Novo Vendas_2017.csv', sep=';')"
   ]
  },
  {
   "cell_type": "markdown",
   "id": "2475f41a",
   "metadata": {},
   "source": [
    "### Criando um dicionário, transformando o dicionário em um DataFrame e Exportando para csv"
   ]
  },
  {
   "cell_type": "code",
   "execution_count": 791,
   "id": "afbcc236",
   "metadata": {},
   "outputs": [
    {
     "data": {
      "text/html": [
       "<div>\n",
       "<style scoped>\n",
       "    .dataframe tbody tr th:only-of-type {\n",
       "        vertical-align: middle;\n",
       "    }\n",
       "\n",
       "    .dataframe tbody tr th {\n",
       "        vertical-align: top;\n",
       "    }\n",
       "\n",
       "    .dataframe thead th {\n",
       "        text-align: right;\n",
       "    }\n",
       "</style>\n",
       "<table border=\"1\" class=\"dataframe\">\n",
       "  <thead>\n",
       "    <tr style=\"text-align: right;\">\n",
       "      <th></th>\n",
       "      <th>Vendas 2019</th>\n",
       "      <th>Vendas 2020</th>\n",
       "    </tr>\n",
       "  </thead>\n",
       "  <tbody>\n",
       "    <tr>\n",
       "      <th>iphone</th>\n",
       "      <td>558147</td>\n",
       "      <td>951642</td>\n",
       "    </tr>\n",
       "    <tr>\n",
       "      <th>galaxy</th>\n",
       "      <td>712350</td>\n",
       "      <td>244295</td>\n",
       "    </tr>\n",
       "    <tr>\n",
       "      <th>ipad</th>\n",
       "      <td>573823</td>\n",
       "      <td>26964</td>\n",
       "    </tr>\n",
       "    <tr>\n",
       "      <th>tv</th>\n",
       "      <td>405252</td>\n",
       "      <td>787604</td>\n",
       "    </tr>\n",
       "    <tr>\n",
       "      <th>máquina de café</th>\n",
       "      <td>718654</td>\n",
       "      <td>867660</td>\n",
       "    </tr>\n",
       "    <tr>\n",
       "      <th>kindle</th>\n",
       "      <td>531580</td>\n",
       "      <td>78830</td>\n",
       "    </tr>\n",
       "    <tr>\n",
       "      <th>geladeira</th>\n",
       "      <td>973139</td>\n",
       "      <td>710331</td>\n",
       "    </tr>\n",
       "    <tr>\n",
       "      <th>adega</th>\n",
       "      <td>892292</td>\n",
       "      <td>646016</td>\n",
       "    </tr>\n",
       "    <tr>\n",
       "      <th>notebook dell</th>\n",
       "      <td>422760</td>\n",
       "      <td>694913</td>\n",
       "    </tr>\n",
       "    <tr>\n",
       "      <th>notebook hp</th>\n",
       "      <td>154753</td>\n",
       "      <td>539704</td>\n",
       "    </tr>\n",
       "    <tr>\n",
       "      <th>notebook asus</th>\n",
       "      <td>887061</td>\n",
       "      <td>324831</td>\n",
       "    </tr>\n",
       "    <tr>\n",
       "      <th>microsoft surface</th>\n",
       "      <td>438508</td>\n",
       "      <td>667179</td>\n",
       "    </tr>\n",
       "    <tr>\n",
       "      <th>webcam</th>\n",
       "      <td>237467</td>\n",
       "      <td>295633</td>\n",
       "    </tr>\n",
       "    <tr>\n",
       "      <th>caixa de som</th>\n",
       "      <td>489705</td>\n",
       "      <td>725316</td>\n",
       "    </tr>\n",
       "    <tr>\n",
       "      <th>microfone</th>\n",
       "      <td>328311</td>\n",
       "      <td>644622</td>\n",
       "    </tr>\n",
       "    <tr>\n",
       "      <th>câmera canon</th>\n",
       "      <td>591120</td>\n",
       "      <td>994303</td>\n",
       "    </tr>\n",
       "  </tbody>\n",
       "</table>\n",
       "</div>"
      ],
      "text/plain": [
       "                   Vendas 2019  Vendas 2020\n",
       "iphone                  558147       951642\n",
       "galaxy                  712350       244295\n",
       "ipad                    573823        26964\n",
       "tv                      405252       787604\n",
       "máquina de café         718654       867660\n",
       "kindle                  531580        78830\n",
       "geladeira               973139       710331\n",
       "adega                   892292       646016\n",
       "notebook dell           422760       694913\n",
       "notebook hp             154753       539704\n",
       "notebook asus           887061       324831\n",
       "microsoft surface       438508       667179\n",
       "webcam                  237467       295633\n",
       "caixa de som            489705       725316\n",
       "microfone               328311       644622\n",
       "câmera canon            591120       994303"
      ]
     },
     "metadata": {},
     "output_type": "display_data"
    }
   ],
   "source": [
    "vendas_produtos = {'iphone': [558147, 951642], 'galaxy': [712350, 244295], 'ipad': [573823, 26964], 'tv': [405252, 787604], 'máquina de café': [718654, 867660], 'kindle': [531580, 78830], 'geladeira': [973139, 710331], 'adega': [892292, 646016], 'notebook dell': [422760, 694913], 'notebook hp': [154753, 539704], 'notebook asus': [887061, 324831], 'microsoft surface': [438508, 667179], 'webcam': [237467, 295633], 'caixa de som': [489705, 725316], 'microfone': [328311, 644622], 'câmera canon': [591120, 994303]}\n",
    "\n",
    "vendas_produtos_df = pd.DataFrame.from_dict(vendas_produtos, orient='index')\n",
    "vendas_produtos_df = vendas_produtos_df.rename(columns={0: 'Vendas 2019', 1: 'Vendas 2020'})\n",
    "display(vendas_produtos_df)\n",
    "\n",
    "vendas_produtos_df.to_csv(r'_Vendas Produtos_DF.csv', sep=';', encoding='latin1')"
   ]
  },
  {
   "cell_type": "markdown",
   "id": "e55d9f0c",
   "metadata": {},
   "source": [
    "# Pandas lendo CSV da Internet\n",
    "\n",
    "### Essa é uma das formas de importar arquivos da internet, direto do pandas. Mas nem sempre você vai conseguir abrir assim direto.\n",
    "\n",
    "### 2 situações principais em que você consegue fazer direto\n",
    "\n",
    "1. Arquivo csv direto no link (melhor dos mundos)\n",
    "2. O arquivo csv é gerado para você, mas fica no meio de uma requisição que precisa ser tratada."
   ]
  },
  {
   "cell_type": "markdown",
   "id": "6181eda7",
   "metadata": {},
   "source": [
    "### Caso 1: csv direto no link\n",
    "\n",
    "- Criei um arquivo csv e disponibilizei o link para download no Drive: https://drive.google.com/uc?authuser=0&id=1UzlPy6CZQeAzDXhfc_2sHEyK_Jb50vJs&export=download"
   ]
  },
  {
   "cell_type": "code",
   "execution_count": 792,
   "id": "0aa306e9",
   "metadata": {},
   "outputs": [
    {
     "data": {
      "text/html": [
       "<div>\n",
       "<style scoped>\n",
       "    .dataframe tbody tr th:only-of-type {\n",
       "        vertical-align: middle;\n",
       "    }\n",
       "\n",
       "    .dataframe tbody tr th {\n",
       "        vertical-align: top;\n",
       "    }\n",
       "\n",
       "    .dataframe thead th {\n",
       "        text-align: right;\n",
       "    }\n",
       "</style>\n",
       "<table border=\"1\" class=\"dataframe\">\n",
       "  <thead>\n",
       "    <tr style=\"text-align: right;\">\n",
       "      <th></th>\n",
       "      <th>Date</th>\n",
       "      <th>Price</th>\n",
       "      <th>Open</th>\n",
       "      <th>High</th>\n",
       "      <th>Low</th>\n",
       "      <th>Change %</th>\n",
       "    </tr>\n",
       "  </thead>\n",
       "  <tbody>\n",
       "    <tr>\n",
       "      <th>0</th>\n",
       "      <td>Jan 01, 2020</td>\n",
       "      <td>4.0195</td>\n",
       "      <td>4.0195</td>\n",
       "      <td>4.0195</td>\n",
       "      <td>4.0195</td>\n",
       "      <td>0.00%</td>\n",
       "    </tr>\n",
       "    <tr>\n",
       "      <th>1</th>\n",
       "      <td>Dec 31, 2019</td>\n",
       "      <td>4.0195</td>\n",
       "      <td>4.0201</td>\n",
       "      <td>4.0201</td>\n",
       "      <td>4.0195</td>\n",
       "      <td>0.00%</td>\n",
       "    </tr>\n",
       "    <tr>\n",
       "      <th>2</th>\n",
       "      <td>Dec 30, 2019</td>\n",
       "      <td>4.0195</td>\n",
       "      <td>4.0484</td>\n",
       "      <td>4.0484</td>\n",
       "      <td>4.0084</td>\n",
       "      <td>-0.65%</td>\n",
       "    </tr>\n",
       "    <tr>\n",
       "      <th>3</th>\n",
       "      <td>Dec 27, 2019</td>\n",
       "      <td>4.0460</td>\n",
       "      <td>4.0568</td>\n",
       "      <td>4.0614</td>\n",
       "      <td>4.0339</td>\n",
       "      <td>-0.25%</td>\n",
       "    </tr>\n",
       "    <tr>\n",
       "      <th>4</th>\n",
       "      <td>Dec 26, 2019</td>\n",
       "      <td>4.0560</td>\n",
       "      <td>4.0827</td>\n",
       "      <td>4.0827</td>\n",
       "      <td>4.0453</td>\n",
       "      <td>-0.68%</td>\n",
       "    </tr>\n",
       "    <tr>\n",
       "      <th>...</th>\n",
       "      <td>...</td>\n",
       "      <td>...</td>\n",
       "      <td>...</td>\n",
       "      <td>...</td>\n",
       "      <td>...</td>\n",
       "      <td>...</td>\n",
       "    </tr>\n",
       "    <tr>\n",
       "      <th>3908</th>\n",
       "      <td>Jan 07, 2005</td>\n",
       "      <td>2.7120</td>\n",
       "      <td>2.7230</td>\n",
       "      <td>2.7290</td>\n",
       "      <td>2.6890</td>\n",
       "      <td>-0.36%</td>\n",
       "    </tr>\n",
       "    <tr>\n",
       "      <th>3909</th>\n",
       "      <td>Jan 06, 2005</td>\n",
       "      <td>2.7218</td>\n",
       "      <td>2.7140</td>\n",
       "      <td>2.7340</td>\n",
       "      <td>2.7060</td>\n",
       "      <td>0.27%</td>\n",
       "    </tr>\n",
       "    <tr>\n",
       "      <th>3910</th>\n",
       "      <td>Jan 05, 2005</td>\n",
       "      <td>2.7145</td>\n",
       "      <td>2.6980</td>\n",
       "      <td>2.7331</td>\n",
       "      <td>2.6910</td>\n",
       "      <td>-0.17%</td>\n",
       "    </tr>\n",
       "    <tr>\n",
       "      <th>3911</th>\n",
       "      <td>Jan 04, 2005</td>\n",
       "      <td>2.7190</td>\n",
       "      <td>2.6720</td>\n",
       "      <td>2.7230</td>\n",
       "      <td>2.6720</td>\n",
       "      <td>1.61%</td>\n",
       "    </tr>\n",
       "    <tr>\n",
       "      <th>3912</th>\n",
       "      <td>Jan 03, 2005</td>\n",
       "      <td>2.6759</td>\n",
       "      <td>2.6610</td>\n",
       "      <td>2.6760</td>\n",
       "      <td>2.6520</td>\n",
       "      <td>0.75%</td>\n",
       "    </tr>\n",
       "  </tbody>\n",
       "</table>\n",
       "<p>3913 rows × 6 columns</p>\n",
       "</div>"
      ],
      "text/plain": [
       "              Date   Price    Open    High     Low Change %\n",
       "0     Jan 01, 2020  4.0195  4.0195  4.0195  4.0195    0.00%\n",
       "1     Dec 31, 2019  4.0195  4.0201  4.0201  4.0195    0.00%\n",
       "2     Dec 30, 2019  4.0195  4.0484  4.0484  4.0084   -0.65%\n",
       "3     Dec 27, 2019  4.0460  4.0568  4.0614  4.0339   -0.25%\n",
       "4     Dec 26, 2019  4.0560  4.0827  4.0827  4.0453   -0.68%\n",
       "...            ...     ...     ...     ...     ...      ...\n",
       "3908  Jan 07, 2005  2.7120  2.7230  2.7290  2.6890   -0.36%\n",
       "3909  Jan 06, 2005  2.7218  2.7140  2.7340  2.7060    0.27%\n",
       "3910  Jan 05, 2005  2.7145  2.6980  2.7331  2.6910   -0.17%\n",
       "3911  Jan 04, 2005  2.7190  2.6720  2.7230  2.6720    1.61%\n",
       "3912  Jan 03, 2005  2.6759  2.6610  2.6760  2.6520    0.75%\n",
       "\n",
       "[3913 rows x 6 columns]"
      ]
     },
     "metadata": {},
     "output_type": "display_data"
    }
   ],
   "source": [
    "import pandas as pd\n",
    "\n",
    "url = 'https://drive.google.com/uc?authuser=0&id=1UzlPy6CZQeAzDXhfc_2sHEyK_Jb50vJs&export=download'\n",
    "cotacao_df = pd.read_csv(url)\n",
    "display(cotacao_df)\n",
    "\n"
   ]
  },
  {
   "cell_type": "markdown",
   "id": "3c0e9680",
   "metadata": {},
   "source": [
    "### Caso 2: csv em uma requisição que precisa ser tratada\n",
    "\n",
    "Pesquisei por histórico de preços do café no Google e cheguei nesse site: http://portalweb.cooxupe.com.br:8080/portal/precohistoricocafe_2.jsp"
   ]
  },
  {
   "cell_type": "code",
   "execution_count": 800,
   "id": "0f2bbabd",
   "metadata": {},
   "outputs": [
    {
     "data": {
      "text/html": [
       "<div>\n",
       "<style scoped>\n",
       "    .dataframe tbody tr th:only-of-type {\n",
       "        vertical-align: middle;\n",
       "    }\n",
       "\n",
       "    .dataframe tbody tr th {\n",
       "        vertical-align: top;\n",
       "    }\n",
       "\n",
       "    .dataframe thead th {\n",
       "        text-align: right;\n",
       "    }\n",
       "</style>\n",
       "<table border=\"1\" class=\"dataframe\">\n",
       "  <thead>\n",
       "    <tr style=\"text-align: right;\">\n",
       "      <th></th>\n",
       "      <th>Ano</th>\n",
       "      <th>Janeiro</th>\n",
       "      <th>Fevereiro</th>\n",
       "      <th>Março</th>\n",
       "      <th>Abril</th>\n",
       "      <th>Maio</th>\n",
       "      <th>Junho</th>\n",
       "      <th>Julho</th>\n",
       "      <th>Agosto</th>\n",
       "      <th>Setembro</th>\n",
       "      <th>Outubro</th>\n",
       "      <th>Novembro</th>\n",
       "      <th>Dezembro</th>\n",
       "    </tr>\n",
       "  </thead>\n",
       "  <tbody>\n",
       "    <tr>\n",
       "      <th>0</th>\n",
       "      <td>2022</td>\n",
       "      <td>1480.49</td>\n",
       "      <td>NaN</td>\n",
       "      <td>NaN</td>\n",
       "      <td>NaN</td>\n",
       "      <td>NaN</td>\n",
       "      <td>NaN</td>\n",
       "      <td>NaN</td>\n",
       "      <td>NaN</td>\n",
       "      <td>NaN</td>\n",
       "      <td>NaN</td>\n",
       "      <td>NaN</td>\n",
       "      <td>NaN</td>\n",
       "    </tr>\n",
       "    <tr>\n",
       "      <th>1</th>\n",
       "      <td>2021</td>\n",
       "      <td>639.23</td>\n",
       "      <td>695.33</td>\n",
       "      <td>726.88</td>\n",
       "      <td>744.05</td>\n",
       "      <td>811.06</td>\n",
       "      <td>793.67</td>\n",
       "      <td>762.36</td>\n",
       "      <td>772.03</td>\n",
       "      <td>851.11</td>\n",
       "      <td>1113.29</td>\n",
       "      <td>1285.94</td>\n",
       "      <td>1446.66</td>\n",
       "    </tr>\n",
       "    <tr>\n",
       "      <th>2</th>\n",
       "      <td>2020</td>\n",
       "      <td>501.68</td>\n",
       "      <td>493.67</td>\n",
       "      <td>555.23</td>\n",
       "      <td>576.55</td>\n",
       "      <td>566.69</td>\n",
       "      <td>518.24</td>\n",
       "      <td>531.82</td>\n",
       "      <td>555.65</td>\n",
       "      <td>545.80</td>\n",
       "      <td>521.32</td>\n",
       "      <td>551.45</td>\n",
       "      <td>586.98</td>\n",
       "    </tr>\n",
       "    <tr>\n",
       "      <th>3</th>\n",
       "      <td>2019</td>\n",
       "      <td>399.98</td>\n",
       "      <td>398.08</td>\n",
       "      <td>390.17</td>\n",
       "      <td>381.00</td>\n",
       "      <td>392.92</td>\n",
       "      <td>427.09</td>\n",
       "      <td>442.84</td>\n",
       "      <td>417.23</td>\n",
       "      <td>415.82</td>\n",
       "      <td>406.17</td>\n",
       "      <td>447.67</td>\n",
       "      <td>518.57</td>\n",
       "    </tr>\n",
       "    <tr>\n",
       "      <th>4</th>\n",
       "      <td>2018</td>\n",
       "      <td>432.26</td>\n",
       "      <td>430.47</td>\n",
       "      <td>421.87</td>\n",
       "      <td>431.50</td>\n",
       "      <td>446.76</td>\n",
       "      <td>466.24</td>\n",
       "      <td>474.96</td>\n",
       "      <td>459.73</td>\n",
       "      <td>442.37</td>\n",
       "      <td>424.54</td>\n",
       "      <td>429.70</td>\n",
       "      <td>410.42</td>\n",
       "    </tr>\n",
       "    <tr>\n",
       "      <th>5</th>\n",
       "      <td>2017</td>\n",
       "      <td>514.21</td>\n",
       "      <td>505.30</td>\n",
       "      <td>488.99</td>\n",
       "      <td>479.25</td>\n",
       "      <td>471.89</td>\n",
       "      <td>473.76</td>\n",
       "      <td>508.55</td>\n",
       "      <td>511.44</td>\n",
       "      <td>477.19</td>\n",
       "      <td>437.82</td>\n",
       "      <td>450.84</td>\n",
       "      <td>449.44</td>\n",
       "    </tr>\n",
       "    <tr>\n",
       "      <th>6</th>\n",
       "      <td>2016</td>\n",
       "      <td>491.71</td>\n",
       "      <td>479.41</td>\n",
       "      <td>500.51</td>\n",
       "      <td>479.00</td>\n",
       "      <td>478.52</td>\n",
       "      <td>494.52</td>\n",
       "      <td>510.03</td>\n",
       "      <td>503.80</td>\n",
       "      <td>505.52</td>\n",
       "      <td>507.73</td>\n",
       "      <td>549.46</td>\n",
       "      <td>504.75</td>\n",
       "    </tr>\n",
       "    <tr>\n",
       "      <th>7</th>\n",
       "      <td>2015</td>\n",
       "      <td>469.08</td>\n",
       "      <td>464.85</td>\n",
       "      <td>472.13</td>\n",
       "      <td>456.69</td>\n",
       "      <td>441.52</td>\n",
       "      <td>470.26</td>\n",
       "      <td>440.97</td>\n",
       "      <td>474.56</td>\n",
       "      <td>466.21</td>\n",
       "      <td>472.95</td>\n",
       "      <td>443.50</td>\n",
       "      <td>474.02</td>\n",
       "    </tr>\n",
       "    <tr>\n",
       "      <th>8</th>\n",
       "      <td>2014</td>\n",
       "      <td>275.47</td>\n",
       "      <td>341.37</td>\n",
       "      <td>432.91</td>\n",
       "      <td>430.91</td>\n",
       "      <td>403.69</td>\n",
       "      <td>384.60</td>\n",
       "      <td>377.02</td>\n",
       "      <td>398.44</td>\n",
       "      <td>395.12</td>\n",
       "      <td>456.66</td>\n",
       "      <td>466.14</td>\n",
       "      <td>467.30</td>\n",
       "    </tr>\n",
       "    <tr>\n",
       "      <th>9</th>\n",
       "      <td>2013</td>\n",
       "      <td>331.71</td>\n",
       "      <td>308.16</td>\n",
       "      <td>301.20</td>\n",
       "      <td>298.63</td>\n",
       "      <td>304.76</td>\n",
       "      <td>284.48</td>\n",
       "      <td>297.33</td>\n",
       "      <td>291.48</td>\n",
       "      <td>278.38</td>\n",
       "      <td>248.45</td>\n",
       "      <td>234.43</td>\n",
       "      <td>252.69</td>\n",
       "    </tr>\n",
       "    <tr>\n",
       "      <th>10</th>\n",
       "      <td>2012</td>\n",
       "      <td>473.80</td>\n",
       "      <td>444.78</td>\n",
       "      <td>402.54</td>\n",
       "      <td>374.13</td>\n",
       "      <td>385.05</td>\n",
       "      <td>366.47</td>\n",
       "      <td>420.85</td>\n",
       "      <td>403.73</td>\n",
       "      <td>394.25</td>\n",
       "      <td>378.21</td>\n",
       "      <td>347.70</td>\n",
       "      <td>334.27</td>\n",
       "    </tr>\n",
       "    <tr>\n",
       "      <th>11</th>\n",
       "      <td>2011</td>\n",
       "      <td>405.52</td>\n",
       "      <td>473.95</td>\n",
       "      <td>493.91</td>\n",
       "      <td>506.52</td>\n",
       "      <td>500.25</td>\n",
       "      <td>484.58</td>\n",
       "      <td>445.01</td>\n",
       "      <td>442.18</td>\n",
       "      <td>458.07</td>\n",
       "      <td>459.42</td>\n",
       "      <td>478.76</td>\n",
       "      <td>476.54</td>\n",
       "    </tr>\n",
       "    <tr>\n",
       "      <th>12</th>\n",
       "      <td>2010</td>\n",
       "      <td>282.41</td>\n",
       "      <td>274.39</td>\n",
       "      <td>267.60</td>\n",
       "      <td>258.50</td>\n",
       "      <td>262.84</td>\n",
       "      <td>286.17</td>\n",
       "      <td>294.53</td>\n",
       "      <td>294.06</td>\n",
       "      <td>291.67</td>\n",
       "      <td>295.58</td>\n",
       "      <td>315.92</td>\n",
       "      <td>345.01</td>\n",
       "    </tr>\n",
       "    <tr>\n",
       "      <th>13</th>\n",
       "      <td>2009</td>\n",
       "      <td>257.20</td>\n",
       "      <td>262.78</td>\n",
       "      <td>257.98</td>\n",
       "      <td>261.94</td>\n",
       "      <td>261.50</td>\n",
       "      <td>256.05</td>\n",
       "      <td>256.19</td>\n",
       "      <td>268.99</td>\n",
       "      <td>254.80</td>\n",
       "      <td>245.34</td>\n",
       "      <td>271.77</td>\n",
       "      <td>273.78</td>\n",
       "    </tr>\n",
       "    <tr>\n",
       "      <th>14</th>\n",
       "      <td>2008</td>\n",
       "      <td>255.94</td>\n",
       "      <td>274.19</td>\n",
       "      <td>260.42</td>\n",
       "      <td>244.31</td>\n",
       "      <td>244.54</td>\n",
       "      <td>251.89</td>\n",
       "      <td>261.99</td>\n",
       "      <td>267.53</td>\n",
       "      <td>270.08</td>\n",
       "      <td>252.00</td>\n",
       "      <td>245.12</td>\n",
       "      <td>250.12</td>\n",
       "    </tr>\n",
       "    <tr>\n",
       "      <th>15</th>\n",
       "      <td>2007</td>\n",
       "      <td>268.28</td>\n",
       "      <td>258.50</td>\n",
       "      <td>245.11</td>\n",
       "      <td>232.76</td>\n",
       "      <td>227.94</td>\n",
       "      <td>235.81</td>\n",
       "      <td>243.38</td>\n",
       "      <td>255.14</td>\n",
       "      <td>253.06</td>\n",
       "      <td>257.43</td>\n",
       "      <td>245.71</td>\n",
       "      <td>255.43</td>\n",
       "    </tr>\n",
       "    <tr>\n",
       "      <th>16</th>\n",
       "      <td>2006</td>\n",
       "      <td>274.02</td>\n",
       "      <td>251.55</td>\n",
       "      <td>244.16</td>\n",
       "      <td>242.61</td>\n",
       "      <td>223.77</td>\n",
       "      <td>214.53</td>\n",
       "      <td>220.57</td>\n",
       "      <td>240.37</td>\n",
       "      <td>243.88</td>\n",
       "      <td>238.28</td>\n",
       "      <td>250.66</td>\n",
       "      <td>278.20</td>\n",
       "    </tr>\n",
       "    <tr>\n",
       "      <th>17</th>\n",
       "      <td>2005</td>\n",
       "      <td>261.47</td>\n",
       "      <td>285.24</td>\n",
       "      <td>307.56</td>\n",
       "      <td>320.03</td>\n",
       "      <td>286.63</td>\n",
       "      <td>283.33</td>\n",
       "      <td>264.85</td>\n",
       "      <td>268.80</td>\n",
       "      <td>277.53</td>\n",
       "      <td>237.58</td>\n",
       "      <td>239.78</td>\n",
       "      <td>256.64</td>\n",
       "    </tr>\n",
       "    <tr>\n",
       "      <th>18</th>\n",
       "      <td>2004</td>\n",
       "      <td>188.04</td>\n",
       "      <td>197.28</td>\n",
       "      <td>199.09</td>\n",
       "      <td>194.64</td>\n",
       "      <td>215.06</td>\n",
       "      <td>229.31</td>\n",
       "      <td>196.09</td>\n",
       "      <td>184.15</td>\n",
       "      <td>189.52</td>\n",
       "      <td>187.96</td>\n",
       "      <td>210.23</td>\n",
       "      <td>230.88</td>\n",
       "    </tr>\n",
       "    <tr>\n",
       "      <th>19</th>\n",
       "      <td>2003</td>\n",
       "      <td>182.17</td>\n",
       "      <td>184.75</td>\n",
       "      <td>166.38</td>\n",
       "      <td>172.98</td>\n",
       "      <td>167.07</td>\n",
       "      <td>152.82</td>\n",
       "      <td>161.39</td>\n",
       "      <td>169.79</td>\n",
       "      <td>173.96</td>\n",
       "      <td>163.06</td>\n",
       "      <td>162.67</td>\n",
       "      <td>173.21</td>\n",
       "    </tr>\n",
       "    <tr>\n",
       "      <th>20</th>\n",
       "      <td>2002</td>\n",
       "      <td>102.83</td>\n",
       "      <td>104.10</td>\n",
       "      <td>111.57</td>\n",
       "      <td>112.52</td>\n",
       "      <td>97.61</td>\n",
       "      <td>95.83</td>\n",
       "      <td>104.71</td>\n",
       "      <td>110.73</td>\n",
       "      <td>120.56</td>\n",
       "      <td>147.85</td>\n",
       "      <td>167.93</td>\n",
       "      <td>169.42</td>\n",
       "    </tr>\n",
       "    <tr>\n",
       "      <th>21</th>\n",
       "      <td>2001</td>\n",
       "      <td>121.03</td>\n",
       "      <td>118.46</td>\n",
       "      <td>120.61</td>\n",
       "      <td>110.68</td>\n",
       "      <td>125.68</td>\n",
       "      <td>116.60</td>\n",
       "      <td>110.97</td>\n",
       "      <td>112.30</td>\n",
       "      <td>108.25</td>\n",
       "      <td>95.88</td>\n",
       "      <td>90.68</td>\n",
       "      <td>92.11</td>\n",
       "    </tr>\n",
       "    <tr>\n",
       "      <th>22</th>\n",
       "      <td>2000</td>\n",
       "      <td>215.77</td>\n",
       "      <td>192.51</td>\n",
       "      <td>183.41</td>\n",
       "      <td>174.49</td>\n",
       "      <td>169.07</td>\n",
       "      <td>150.13</td>\n",
       "      <td>163.08</td>\n",
       "      <td>151.30</td>\n",
       "      <td>146.36</td>\n",
       "      <td>129.36</td>\n",
       "      <td>123.51</td>\n",
       "      <td>120.71</td>\n",
       "    </tr>\n",
       "    <tr>\n",
       "      <th>23</th>\n",
       "      <td>1999</td>\n",
       "      <td>170.76</td>\n",
       "      <td>183.80</td>\n",
       "      <td>187.76</td>\n",
       "      <td>164.80</td>\n",
       "      <td>181.57</td>\n",
       "      <td>176.69</td>\n",
       "      <td>157.98</td>\n",
       "      <td>156.92</td>\n",
       "      <td>143.04</td>\n",
       "      <td>186.47</td>\n",
       "      <td>207.35</td>\n",
       "      <td>245.61</td>\n",
       "    </tr>\n",
       "    <tr>\n",
       "      <th>24</th>\n",
       "      <td>1998</td>\n",
       "      <td>235.89</td>\n",
       "      <td>233.53</td>\n",
       "      <td>201.63</td>\n",
       "      <td>181.55</td>\n",
       "      <td>152.16</td>\n",
       "      <td>137.13</td>\n",
       "      <td>122.94</td>\n",
       "      <td>132.33</td>\n",
       "      <td>117.13</td>\n",
       "      <td>113.77</td>\n",
       "      <td>123.76</td>\n",
       "      <td>135.04</td>\n",
       "    </tr>\n",
       "    <tr>\n",
       "      <th>25</th>\n",
       "      <td>1997</td>\n",
       "      <td>154.38</td>\n",
       "      <td>188.83</td>\n",
       "      <td>197.54</td>\n",
       "      <td>212.58</td>\n",
       "      <td>221.56</td>\n",
       "      <td>209.94</td>\n",
       "      <td>179.74</td>\n",
       "      <td>195.56</td>\n",
       "      <td>205.50</td>\n",
       "      <td>192.15</td>\n",
       "      <td>212.84</td>\n",
       "      <td>212.85</td>\n",
       "    </tr>\n",
       "    <tr>\n",
       "      <th>26</th>\n",
       "      <td>1996</td>\n",
       "      <td>133.13</td>\n",
       "      <td>149.81</td>\n",
       "      <td>144.59</td>\n",
       "      <td>133.90</td>\n",
       "      <td>141.97</td>\n",
       "      <td>121.95</td>\n",
       "      <td>101.63</td>\n",
       "      <td>106.58</td>\n",
       "      <td>112.72</td>\n",
       "      <td>111.90</td>\n",
       "      <td>112.38</td>\n",
       "      <td>117.35</td>\n",
       "    </tr>\n",
       "    <tr>\n",
       "      <th>27</th>\n",
       "      <td>1995</td>\n",
       "      <td>140.66</td>\n",
       "      <td>135.89</td>\n",
       "      <td>151.06</td>\n",
       "      <td>145.98</td>\n",
       "      <td>143.58</td>\n",
       "      <td>133.01</td>\n",
       "      <td>128.50</td>\n",
       "      <td>135.28</td>\n",
       "      <td>124.89</td>\n",
       "      <td>121.84</td>\n",
       "      <td>122.34</td>\n",
       "      <td>112.82</td>\n",
       "    </tr>\n",
       "    <tr>\n",
       "      <th>28</th>\n",
       "      <td>1994</td>\n",
       "      <td>28732.00</td>\n",
       "      <td>42928.00</td>\n",
       "      <td>62876.00</td>\n",
       "      <td>105521.00</td>\n",
       "      <td>182842.53</td>\n",
       "      <td>302016.37</td>\n",
       "      <td>195.14</td>\n",
       "      <td>171.03</td>\n",
       "      <td>180.19</td>\n",
       "      <td>157.68</td>\n",
       "      <td>141.68</td>\n",
       "      <td>130.25</td>\n",
       "    </tr>\n",
       "    <tr>\n",
       "      <th>29</th>\n",
       "      <td>1993</td>\n",
       "      <td>970870.24</td>\n",
       "      <td>1147732.00</td>\n",
       "      <td>1505594.88</td>\n",
       "      <td>1541264.00</td>\n",
       "      <td>2142885.00</td>\n",
       "      <td>2792860.00</td>\n",
       "      <td>4056066.00</td>\n",
       "      <td>6077.00</td>\n",
       "      <td>8075.00</td>\n",
       "      <td>11198.00</td>\n",
       "      <td>15138.00</td>\n",
       "      <td>20790.00</td>\n",
       "    </tr>\n",
       "    <tr>\n",
       "      <th>30</th>\n",
       "      <td>1992</td>\n",
       "      <td>64935.00</td>\n",
       "      <td>76055.00</td>\n",
       "      <td>98784.10</td>\n",
       "      <td>108265.68</td>\n",
       "      <td>114791.66</td>\n",
       "      <td>136521.87</td>\n",
       "      <td>176592.33</td>\n",
       "      <td>189123.22</td>\n",
       "      <td>259860.55</td>\n",
       "      <td>423983.74</td>\n",
       "      <td>550391.62</td>\n",
       "      <td>867005.83</td>\n",
       "    </tr>\n",
       "    <tr>\n",
       "      <th>31</th>\n",
       "      <td>1991</td>\n",
       "      <td>11882.35</td>\n",
       "      <td>15940.37</td>\n",
       "      <td>17489.74</td>\n",
       "      <td>18693.57</td>\n",
       "      <td>18010.39</td>\n",
       "      <td>18675.08</td>\n",
       "      <td>19333.11</td>\n",
       "      <td>20145.01</td>\n",
       "      <td>26744.61</td>\n",
       "      <td>33903.00</td>\n",
       "      <td>40528.00</td>\n",
       "      <td>44367.00</td>\n",
       "    </tr>\n",
       "    <tr>\n",
       "      <th>32</th>\n",
       "      <td>1990</td>\n",
       "      <td>1197.83</td>\n",
       "      <td>2229.40</td>\n",
       "      <td>4657.87</td>\n",
       "      <td>4569.06</td>\n",
       "      <td>4741.11</td>\n",
       "      <td>4606.12</td>\n",
       "      <td>4604.83</td>\n",
       "      <td>6110.39</td>\n",
       "      <td>6409.40</td>\n",
       "      <td>6581.29</td>\n",
       "      <td>7043.68</td>\n",
       "      <td>9658.44</td>\n",
       "    </tr>\n",
       "    <tr>\n",
       "      <th>33</th>\n",
       "      <td>1989</td>\n",
       "      <td>109.28</td>\n",
       "      <td>93.55</td>\n",
       "      <td>102.98</td>\n",
       "      <td>128.18</td>\n",
       "      <td>160.91</td>\n",
       "      <td>157.48</td>\n",
       "      <td>150.57</td>\n",
       "      <td>147.41</td>\n",
       "      <td>198.66</td>\n",
       "      <td>244.63</td>\n",
       "      <td>412.20</td>\n",
       "      <td>598.37</td>\n",
       "    </tr>\n",
       "    <tr>\n",
       "      <th>34</th>\n",
       "      <td>1988</td>\n",
       "      <td>3999.32</td>\n",
       "      <td>5619.86</td>\n",
       "      <td>6878.70</td>\n",
       "      <td>7835.88</td>\n",
       "      <td>8662.83</td>\n",
       "      <td>12520.65</td>\n",
       "      <td>14784.60</td>\n",
       "      <td>15723.48</td>\n",
       "      <td>22558.67</td>\n",
       "      <td>28117.10</td>\n",
       "      <td>38690.88</td>\n",
       "      <td>67768.10</td>\n",
       "    </tr>\n",
       "    <tr>\n",
       "      <th>35</th>\n",
       "      <td>1987</td>\n",
       "      <td>1898.09</td>\n",
       "      <td>1839.29</td>\n",
       "      <td>1812.81</td>\n",
       "      <td>1925.28</td>\n",
       "      <td>2599.25</td>\n",
       "      <td>2450.64</td>\n",
       "      <td>2254.18</td>\n",
       "      <td>2217.49</td>\n",
       "      <td>2294.09</td>\n",
       "      <td>2749.25</td>\n",
       "      <td>2945.86</td>\n",
       "      <td>3067.60</td>\n",
       "    </tr>\n",
       "    <tr>\n",
       "      <th>36</th>\n",
       "      <td>1986</td>\n",
       "      <td>3491768.00</td>\n",
       "      <td>3498152.00</td>\n",
       "      <td>3464.15</td>\n",
       "      <td>2965.38</td>\n",
       "      <td>2953.35</td>\n",
       "      <td>2734.70</td>\n",
       "      <td>2844.75</td>\n",
       "      <td>2991.12</td>\n",
       "      <td>3034.67</td>\n",
       "      <td>2721.27</td>\n",
       "      <td>2723.48</td>\n",
       "      <td>2140.34</td>\n",
       "    </tr>\n",
       "    <tr>\n",
       "      <th>37</th>\n",
       "      <td>1985</td>\n",
       "      <td>388133.00</td>\n",
       "      <td>444484.00</td>\n",
       "      <td>501629.00</td>\n",
       "      <td>539721.00</td>\n",
       "      <td>528152.00</td>\n",
       "      <td>512101.00</td>\n",
       "      <td>504678.00</td>\n",
       "      <td>522889.00</td>\n",
       "      <td>557932.00</td>\n",
       "      <td>874916.00</td>\n",
       "      <td>1282990.00</td>\n",
       "      <td>2449053.00</td>\n",
       "    </tr>\n",
       "    <tr>\n",
       "      <th>38</th>\n",
       "      <td>1984</td>\n",
       "      <td>66626.31</td>\n",
       "      <td>73169.70</td>\n",
       "      <td>84519.93</td>\n",
       "      <td>85939.43</td>\n",
       "      <td>94542.67</td>\n",
       "      <td>121940.52</td>\n",
       "      <td>145551.52</td>\n",
       "      <td>147170.12</td>\n",
       "      <td>170772.83</td>\n",
       "      <td>193501.00</td>\n",
       "      <td>219316.00</td>\n",
       "      <td>258899.00</td>\n",
       "    </tr>\n",
       "    <tr>\n",
       "      <th>39</th>\n",
       "      <td>1983</td>\n",
       "      <td>24664.30</td>\n",
       "      <td>35984.96</td>\n",
       "      <td>29887.05</td>\n",
       "      <td>29622.46</td>\n",
       "      <td>29531.22</td>\n",
       "      <td>29006.59</td>\n",
       "      <td>29595.90</td>\n",
       "      <td>33679.96</td>\n",
       "      <td>37445.32</td>\n",
       "      <td>43001.66</td>\n",
       "      <td>45297.57</td>\n",
       "      <td>54951.50</td>\n",
       "    </tr>\n",
       "    <tr>\n",
       "      <th>40</th>\n",
       "      <td>1982</td>\n",
       "      <td>10751.46</td>\n",
       "      <td>11521.11</td>\n",
       "      <td>12409.68</td>\n",
       "      <td>13397.29</td>\n",
       "      <td>13922.95</td>\n",
       "      <td>16164.71</td>\n",
       "      <td>15423.39</td>\n",
       "      <td>16280.62</td>\n",
       "      <td>16946.96</td>\n",
       "      <td>18228.16</td>\n",
       "      <td>20552.48</td>\n",
       "      <td>24461.28</td>\n",
       "    </tr>\n",
       "    <tr>\n",
       "      <th>41</th>\n",
       "      <td>1981</td>\n",
       "      <td>6336.11</td>\n",
       "      <td>6563.57</td>\n",
       "      <td>6421.42</td>\n",
       "      <td>6421.42</td>\n",
       "      <td>6411.71</td>\n",
       "      <td>6207.21</td>\n",
       "      <td>6533.26</td>\n",
       "      <td>7455.29</td>\n",
       "      <td>7601.47</td>\n",
       "      <td>7814.22</td>\n",
       "      <td>8670.28</td>\n",
       "      <td>10055.01</td>\n",
       "    </tr>\n",
       "  </tbody>\n",
       "</table>\n",
       "</div>"
      ],
      "text/plain": [
       "     Ano     Janeiro   Fevereiro       Março       Abril        Maio  \\\n",
       "0   2022     1480.49         NaN         NaN         NaN         NaN   \n",
       "1   2021      639.23      695.33      726.88      744.05      811.06   \n",
       "2   2020      501.68      493.67      555.23      576.55      566.69   \n",
       "3   2019      399.98      398.08      390.17      381.00      392.92   \n",
       "4   2018      432.26      430.47      421.87      431.50      446.76   \n",
       "5   2017      514.21      505.30      488.99      479.25      471.89   \n",
       "6   2016      491.71      479.41      500.51      479.00      478.52   \n",
       "7   2015      469.08      464.85      472.13      456.69      441.52   \n",
       "8   2014      275.47      341.37      432.91      430.91      403.69   \n",
       "9   2013      331.71      308.16      301.20      298.63      304.76   \n",
       "10  2012      473.80      444.78      402.54      374.13      385.05   \n",
       "11  2011      405.52      473.95      493.91      506.52      500.25   \n",
       "12  2010      282.41      274.39      267.60      258.50      262.84   \n",
       "13  2009      257.20      262.78      257.98      261.94      261.50   \n",
       "14  2008      255.94      274.19      260.42      244.31      244.54   \n",
       "15  2007      268.28      258.50      245.11      232.76      227.94   \n",
       "16  2006      274.02      251.55      244.16      242.61      223.77   \n",
       "17  2005      261.47      285.24      307.56      320.03      286.63   \n",
       "18  2004      188.04      197.28      199.09      194.64      215.06   \n",
       "19  2003      182.17      184.75      166.38      172.98      167.07   \n",
       "20  2002      102.83      104.10      111.57      112.52       97.61   \n",
       "21  2001      121.03      118.46      120.61      110.68      125.68   \n",
       "22  2000      215.77      192.51      183.41      174.49      169.07   \n",
       "23  1999      170.76      183.80      187.76      164.80      181.57   \n",
       "24  1998      235.89      233.53      201.63      181.55      152.16   \n",
       "25  1997      154.38      188.83      197.54      212.58      221.56   \n",
       "26  1996      133.13      149.81      144.59      133.90      141.97   \n",
       "27  1995      140.66      135.89      151.06      145.98      143.58   \n",
       "28  1994    28732.00    42928.00    62876.00   105521.00   182842.53   \n",
       "29  1993   970870.24  1147732.00  1505594.88  1541264.00  2142885.00   \n",
       "30  1992    64935.00    76055.00    98784.10   108265.68   114791.66   \n",
       "31  1991    11882.35    15940.37    17489.74    18693.57    18010.39   \n",
       "32  1990     1197.83     2229.40     4657.87     4569.06     4741.11   \n",
       "33  1989      109.28       93.55      102.98      128.18      160.91   \n",
       "34  1988     3999.32     5619.86     6878.70     7835.88     8662.83   \n",
       "35  1987     1898.09     1839.29     1812.81     1925.28     2599.25   \n",
       "36  1986  3491768.00  3498152.00     3464.15     2965.38     2953.35   \n",
       "37  1985   388133.00   444484.00   501629.00   539721.00   528152.00   \n",
       "38  1984    66626.31    73169.70    84519.93    85939.43    94542.67   \n",
       "39  1983    24664.30    35984.96    29887.05    29622.46    29531.22   \n",
       "40  1982    10751.46    11521.11    12409.68    13397.29    13922.95   \n",
       "41  1981     6336.11     6563.57     6421.42     6421.42     6411.71   \n",
       "\n",
       "         Junho       Julho     Agosto   Setembro    Outubro    Novembro  \\\n",
       "0          NaN         NaN        NaN        NaN        NaN         NaN   \n",
       "1       793.67      762.36     772.03     851.11    1113.29     1285.94   \n",
       "2       518.24      531.82     555.65     545.80     521.32      551.45   \n",
       "3       427.09      442.84     417.23     415.82     406.17      447.67   \n",
       "4       466.24      474.96     459.73     442.37     424.54      429.70   \n",
       "5       473.76      508.55     511.44     477.19     437.82      450.84   \n",
       "6       494.52      510.03     503.80     505.52     507.73      549.46   \n",
       "7       470.26      440.97     474.56     466.21     472.95      443.50   \n",
       "8       384.60      377.02     398.44     395.12     456.66      466.14   \n",
       "9       284.48      297.33     291.48     278.38     248.45      234.43   \n",
       "10      366.47      420.85     403.73     394.25     378.21      347.70   \n",
       "11      484.58      445.01     442.18     458.07     459.42      478.76   \n",
       "12      286.17      294.53     294.06     291.67     295.58      315.92   \n",
       "13      256.05      256.19     268.99     254.80     245.34      271.77   \n",
       "14      251.89      261.99     267.53     270.08     252.00      245.12   \n",
       "15      235.81      243.38     255.14     253.06     257.43      245.71   \n",
       "16      214.53      220.57     240.37     243.88     238.28      250.66   \n",
       "17      283.33      264.85     268.80     277.53     237.58      239.78   \n",
       "18      229.31      196.09     184.15     189.52     187.96      210.23   \n",
       "19      152.82      161.39     169.79     173.96     163.06      162.67   \n",
       "20       95.83      104.71     110.73     120.56     147.85      167.93   \n",
       "21      116.60      110.97     112.30     108.25      95.88       90.68   \n",
       "22      150.13      163.08     151.30     146.36     129.36      123.51   \n",
       "23      176.69      157.98     156.92     143.04     186.47      207.35   \n",
       "24      137.13      122.94     132.33     117.13     113.77      123.76   \n",
       "25      209.94      179.74     195.56     205.50     192.15      212.84   \n",
       "26      121.95      101.63     106.58     112.72     111.90      112.38   \n",
       "27      133.01      128.50     135.28     124.89     121.84      122.34   \n",
       "28   302016.37      195.14     171.03     180.19     157.68      141.68   \n",
       "29  2792860.00  4056066.00    6077.00    8075.00   11198.00    15138.00   \n",
       "30   136521.87   176592.33  189123.22  259860.55  423983.74   550391.62   \n",
       "31    18675.08    19333.11   20145.01   26744.61   33903.00    40528.00   \n",
       "32     4606.12     4604.83    6110.39    6409.40    6581.29     7043.68   \n",
       "33      157.48      150.57     147.41     198.66     244.63      412.20   \n",
       "34    12520.65    14784.60   15723.48   22558.67   28117.10    38690.88   \n",
       "35     2450.64     2254.18    2217.49    2294.09    2749.25     2945.86   \n",
       "36     2734.70     2844.75    2991.12    3034.67    2721.27     2723.48   \n",
       "37   512101.00   504678.00  522889.00  557932.00  874916.00  1282990.00   \n",
       "38   121940.52   145551.52  147170.12  170772.83  193501.00   219316.00   \n",
       "39    29006.59    29595.90   33679.96   37445.32   43001.66    45297.57   \n",
       "40    16164.71    15423.39   16280.62   16946.96   18228.16    20552.48   \n",
       "41     6207.21     6533.26    7455.29    7601.47    7814.22     8670.28   \n",
       "\n",
       "      Dezembro  \n",
       "0          NaN  \n",
       "1      1446.66  \n",
       "2       586.98  \n",
       "3       518.57  \n",
       "4       410.42  \n",
       "5       449.44  \n",
       "6       504.75  \n",
       "7       474.02  \n",
       "8       467.30  \n",
       "9       252.69  \n",
       "10      334.27  \n",
       "11      476.54  \n",
       "12      345.01  \n",
       "13      273.78  \n",
       "14      250.12  \n",
       "15      255.43  \n",
       "16      278.20  \n",
       "17      256.64  \n",
       "18      230.88  \n",
       "19      173.21  \n",
       "20      169.42  \n",
       "21       92.11  \n",
       "22      120.71  \n",
       "23      245.61  \n",
       "24      135.04  \n",
       "25      212.85  \n",
       "26      117.35  \n",
       "27      112.82  \n",
       "28      130.25  \n",
       "29    20790.00  \n",
       "30   867005.83  \n",
       "31    44367.00  \n",
       "32     9658.44  \n",
       "33      598.37  \n",
       "34    67768.10  \n",
       "35     3067.60  \n",
       "36     2140.34  \n",
       "37  2449053.00  \n",
       "38   258899.00  \n",
       "39    54951.50  \n",
       "40    24461.28  \n",
       "41    10055.01  "
      ]
     },
     "metadata": {},
     "output_type": "display_data"
    }
   ],
   "source": [
    "import pandas as pd\n",
    "import requests #Biblioteca para tratar o link que não está em formato csv\n",
    "import io #Biblioteca para tratar o link que não está em formato csv\n",
    "\n",
    "url = 'http://portalweb.cooxupe.com.br:8080/portal/precohistoricocafe_2.jsp;jsessionid=2EDBD2ACE4F0786952AD2BB539E2BC81?d-3496238-e=2&6578706f7274=1'\n",
    "conteudo_url = requests.get(url).content\n",
    "arquivo = io.StringIO(conteudo_url.decode('latin1'))\n",
    "\n",
    "cafe_df = pd.read_csv(arquivo, sep='\\t')\n",
    "display(cafe_df)\n"
   ]
  },
  {
   "cell_type": "markdown",
   "id": "a7d93f18",
   "metadata": {},
   "source": [
    "### Apenas para lembrar os tipos de encoding principais que vamos usar:\n",
    "\n",
    "- encoding='latin1'\n",
    "- encoding='ISO-8859-1'\n",
    "- encoding='utf-8'\n",
    "- encoding='cp1252'"
   ]
  },
  {
   "cell_type": "markdown",
   "id": "3ec75b06",
   "metadata": {},
   "source": [
    "# Pandas e Excel"
   ]
  },
  {
   "cell_type": "markdown",
   "id": "e52e8d2f",
   "metadata": {},
   "source": [
    "- Atualizar uma planilha automaticamente onde o novo multiplicador do imposto é 1.5"
   ]
  },
  {
   "cell_type": "code",
   "execution_count": 801,
   "id": "8c5aa11f",
   "metadata": {},
   "outputs": [
    {
     "data": {
      "text/html": [
       "<div>\n",
       "<style scoped>\n",
       "    .dataframe tbody tr th:only-of-type {\n",
       "        vertical-align: middle;\n",
       "    }\n",
       "\n",
       "    .dataframe tbody tr th {\n",
       "        vertical-align: top;\n",
       "    }\n",
       "\n",
       "    .dataframe thead th {\n",
       "        text-align: right;\n",
       "    }\n",
       "</style>\n",
       "<table border=\"1\" class=\"dataframe\">\n",
       "  <thead>\n",
       "    <tr style=\"text-align: right;\">\n",
       "      <th></th>\n",
       "      <th>Produtos</th>\n",
       "      <th>Preço Base</th>\n",
       "      <th>Tipo</th>\n",
       "      <th>Multiplicador Imposto</th>\n",
       "      <th>Preço Base Reais</th>\n",
       "    </tr>\n",
       "  </thead>\n",
       "  <tbody>\n",
       "    <tr>\n",
       "      <th>0</th>\n",
       "      <td>Tablet</td>\n",
       "      <td>999.90</td>\n",
       "      <td>Produto</td>\n",
       "      <td>1.1</td>\n",
       "      <td>1099.890</td>\n",
       "    </tr>\n",
       "    <tr>\n",
       "      <th>1</th>\n",
       "      <td>Pós Graduação</td>\n",
       "      <td>4500.00</td>\n",
       "      <td>Serviço</td>\n",
       "      <td>1.3</td>\n",
       "      <td>5850.000</td>\n",
       "    </tr>\n",
       "    <tr>\n",
       "      <th>2</th>\n",
       "      <td>Celular</td>\n",
       "      <td>899.99</td>\n",
       "      <td>Produto</td>\n",
       "      <td>1.1</td>\n",
       "      <td>989.989</td>\n",
       "    </tr>\n",
       "    <tr>\n",
       "      <th>3</th>\n",
       "      <td>Passagem Aérea</td>\n",
       "      <td>799.00</td>\n",
       "      <td>Serviço</td>\n",
       "      <td>1.3</td>\n",
       "      <td>1038.700</td>\n",
       "    </tr>\n",
       "    <tr>\n",
       "      <th>4</th>\n",
       "      <td>Computador</td>\n",
       "      <td>3000.00</td>\n",
       "      <td>Produto</td>\n",
       "      <td>1.1</td>\n",
       "      <td>3300.000</td>\n",
       "    </tr>\n",
       "    <tr>\n",
       "      <th>5</th>\n",
       "      <td>SPA</td>\n",
       "      <td>480.48</td>\n",
       "      <td>Serviço</td>\n",
       "      <td>1.3</td>\n",
       "      <td>624.624</td>\n",
       "    </tr>\n",
       "    <tr>\n",
       "      <th>6</th>\n",
       "      <td>Corte Cabelo</td>\n",
       "      <td>50.00</td>\n",
       "      <td>Serviço</td>\n",
       "      <td>1.3</td>\n",
       "      <td>65.000</td>\n",
       "    </tr>\n",
       "  </tbody>\n",
       "</table>\n",
       "</div>"
      ],
      "text/plain": [
       "         Produtos  Preço Base     Tipo  Multiplicador Imposto  \\\n",
       "0          Tablet      999.90  Produto                    1.1   \n",
       "1   Pós Graduação     4500.00  Serviço                    1.3   \n",
       "2         Celular      899.99  Produto                    1.1   \n",
       "3  Passagem Aérea      799.00  Serviço                    1.3   \n",
       "4      Computador     3000.00  Produto                    1.1   \n",
       "5             SPA      480.48  Serviço                    1.3   \n",
       "6    Corte Cabelo       50.00  Serviço                    1.3   \n",
       "\n",
       "   Preço Base Reais  \n",
       "0          1099.890  \n",
       "1          5850.000  \n",
       "2           989.989  \n",
       "3          1038.700  \n",
       "4          3300.000  \n",
       "5           624.624  \n",
       "6            65.000  "
      ]
     },
     "metadata": {},
     "output_type": "display_data"
    }
   ],
   "source": [
    "# Pandas\n",
    "import pandas as pd\n",
    "\n",
    "tabela = pd.read_excel('_Produtos.xlsx')\n",
    "display(tabela)"
   ]
  },
  {
   "cell_type": "code",
   "execution_count": 804,
   "id": "6b289a96",
   "metadata": {},
   "outputs": [
    {
     "data": {
      "text/html": [
       "<div>\n",
       "<style scoped>\n",
       "    .dataframe tbody tr th:only-of-type {\n",
       "        vertical-align: middle;\n",
       "    }\n",
       "\n",
       "    .dataframe tbody tr th {\n",
       "        vertical-align: top;\n",
       "    }\n",
       "\n",
       "    .dataframe thead th {\n",
       "        text-align: right;\n",
       "    }\n",
       "</style>\n",
       "<table border=\"1\" class=\"dataframe\">\n",
       "  <thead>\n",
       "    <tr style=\"text-align: right;\">\n",
       "      <th></th>\n",
       "      <th>Produtos</th>\n",
       "      <th>Preço Base</th>\n",
       "      <th>Tipo</th>\n",
       "      <th>Multiplicador Imposto</th>\n",
       "      <th>Preço Base Reais</th>\n",
       "    </tr>\n",
       "  </thead>\n",
       "  <tbody>\n",
       "    <tr>\n",
       "      <th>0</th>\n",
       "      <td>Tablet</td>\n",
       "      <td>999.90</td>\n",
       "      <td>Produto</td>\n",
       "      <td>1.1</td>\n",
       "      <td>1099.890</td>\n",
       "    </tr>\n",
       "    <tr>\n",
       "      <th>1</th>\n",
       "      <td>Pós Graduação</td>\n",
       "      <td>4500.00</td>\n",
       "      <td>Serviço</td>\n",
       "      <td>1.5</td>\n",
       "      <td>6750.000</td>\n",
       "    </tr>\n",
       "    <tr>\n",
       "      <th>2</th>\n",
       "      <td>Celular</td>\n",
       "      <td>899.99</td>\n",
       "      <td>Produto</td>\n",
       "      <td>1.1</td>\n",
       "      <td>989.989</td>\n",
       "    </tr>\n",
       "    <tr>\n",
       "      <th>3</th>\n",
       "      <td>Passagem Aérea</td>\n",
       "      <td>799.00</td>\n",
       "      <td>Serviço</td>\n",
       "      <td>1.5</td>\n",
       "      <td>1198.500</td>\n",
       "    </tr>\n",
       "    <tr>\n",
       "      <th>4</th>\n",
       "      <td>Computador</td>\n",
       "      <td>3000.00</td>\n",
       "      <td>Produto</td>\n",
       "      <td>1.1</td>\n",
       "      <td>3300.000</td>\n",
       "    </tr>\n",
       "    <tr>\n",
       "      <th>5</th>\n",
       "      <td>SPA</td>\n",
       "      <td>480.48</td>\n",
       "      <td>Serviço</td>\n",
       "      <td>1.5</td>\n",
       "      <td>720.720</td>\n",
       "    </tr>\n",
       "    <tr>\n",
       "      <th>6</th>\n",
       "      <td>Corte Cabelo</td>\n",
       "      <td>50.00</td>\n",
       "      <td>Serviço</td>\n",
       "      <td>1.5</td>\n",
       "      <td>75.000</td>\n",
       "    </tr>\n",
       "  </tbody>\n",
       "</table>\n",
       "</div>"
      ],
      "text/plain": [
       "         Produtos  Preço Base     Tipo  Multiplicador Imposto  \\\n",
       "0          Tablet      999.90  Produto                    1.1   \n",
       "1   Pós Graduação     4500.00  Serviço                    1.5   \n",
       "2         Celular      899.99  Produto                    1.1   \n",
       "3  Passagem Aérea      799.00  Serviço                    1.5   \n",
       "4      Computador     3000.00  Produto                    1.1   \n",
       "5             SPA      480.48  Serviço                    1.5   \n",
       "6    Corte Cabelo       50.00  Serviço                    1.5   \n",
       "\n",
       "   Preço Base Reais  \n",
       "0          1099.890  \n",
       "1          6750.000  \n",
       "2           989.989  \n",
       "3          1198.500  \n",
       "4          3300.000  \n",
       "5           720.720  \n",
       "6            75.000  "
      ]
     },
     "metadata": {},
     "output_type": "display_data"
    }
   ],
   "source": [
    "# Atualizar o Multiplicador\n",
    "# tabela.loc[linha, coluna] = valor a ser atualizado\n",
    "tabela.loc[tabela['Tipo'] == 'Serviço', 'Multiplicador Imposto'] = 1.5\n",
    "\n",
    "# Fazer a conta do Preço Base Reais\n",
    "tabela['Preço Base Reais'] = tabela['Multiplicador Imposto'] * tabela['Preço Base']\n",
    "display(tabela)\n",
    "\n",
    "# Salvar Arquivo Excel\n",
    "tabela.to_excel('_Produtos_Rev.01.xlsx', index = False)"
   ]
  },
  {
   "cell_type": "code",
   "execution_count": 810,
   "id": "b9efe789",
   "metadata": {},
   "outputs": [],
   "source": [
    "# openpyxl\n",
    "from openpyxl import Workbook, load_workbook\n",
    "\n",
    "planilha = load_workbook('_Produtos.xlsx')\n",
    "aba_ativa = planilha.active\n",
    "\n",
    "for celula in aba_ativa['C']:\n",
    "    if celula.value == 'Serviço':\n",
    "        linha = celula.row\n",
    "        aba_ativa[f'D{linha}'] = 1.5\n",
    "\n",
    "planilha.save('_Produtos_OpenPyXL.xlsx')"
   ]
  },
  {
   "cell_type": "markdown",
   "id": "46b52554",
   "metadata": {},
   "source": [
    "# E quando o nosso código demora muito? Será que travou? Quanto tempo vai demorar?\n",
    "\n",
    "### Biblioteca/Módulo tqdm\n",
    "\n",
    "- Vamos importar os arquivos csv da Empresa Contoso e tratar como fizemos ao longo desse módulo"
   ]
  },
  {
   "cell_type": "code",
   "execution_count": null,
   "id": "5be5a9e8",
   "metadata": {},
   "outputs": [],
   "source": [
    "import pandas as pd\n",
    "#importando os arquivos\n",
    "vendas_df = pd.read_csv(r'Contoso - Vendas  - 2017.csv', sep=';')\n",
    "produtos_df = pd.read_csv(r'Contoso - Cadastro Produtos.csv', sep=';')\n",
    "lojas_df = pd.read_csv(r'Contoso - Lojas.csv', sep=';')\n",
    "clientes_df = pd.read_csv(r'Contoso - Clientes.csv', sep=';')\n",
    "\n",
    "#limpando apenas as colunas que queremos\n",
    "clientes_df = clientes_df[['ID Cliente', 'E-mail']]\n",
    "produtos_df = produtos_df[['ID Produto', 'Nome do Produto']]\n",
    "lojas_df = lojas_df[['ID Loja', 'Nome da Loja']]\n",
    "\n",
    "#mesclando e renomeando os dataframes\n",
    "vendas_df = vendas_df.merge(produtos_df, on='ID Produto')\n",
    "vendas_df = vendas_df.merge(lojas_df, on='ID Loja')\n",
    "vendas_df = vendas_df.merge(clientes_df, on='ID Cliente').rename(columns={'E-mail': 'E-mail do Cliente'})\n",
    "display(vendas_df)"
   ]
  },
  {
   "cell_type": "markdown",
   "id": "a1b97250",
   "metadata": {},
   "source": [
    "### Agora, imagina que a Loja Contoso Roma (ID 222), para tentar burlar o sistema de metas, diminuiu 1 da quantidade devolvida de todas as vendas que ela teve. Descobrindo isso, precisamos ajeitar a base\n",
    "\n",
    "- Farei com um for, principalmente por motivos didáticos, mas teríamos outras formas de fazer isso também."
   ]
  },
  {
   "cell_type": "code",
   "execution_count": 815,
   "id": "5dcf4827",
   "metadata": {},
   "outputs": [
    {
     "name": "stderr",
     "output_type": "stream",
     "text": [
      " 95%|██████████████████████████████████████████████████████████████████▌   | 932947/980642 [00:09<00:00, 498329.19it/s]"
     ]
    },
    {
     "data": {
      "text/html": [
       "<div>\n",
       "<style scoped>\n",
       "    .dataframe tbody tr th:only-of-type {\n",
       "        vertical-align: middle;\n",
       "    }\n",
       "\n",
       "    .dataframe tbody tr th {\n",
       "        vertical-align: top;\n",
       "    }\n",
       "\n",
       "    .dataframe thead th {\n",
       "        text-align: right;\n",
       "    }\n",
       "</style>\n",
       "<table border=\"1\" class=\"dataframe\">\n",
       "  <thead>\n",
       "    <tr style=\"text-align: right;\">\n",
       "      <th></th>\n",
       "      <th>Numero da Venda</th>\n",
       "      <th>Data da Venda</th>\n",
       "      <th>Data do Envio</th>\n",
       "      <th>ID Canal</th>\n",
       "      <th>ID Loja</th>\n",
       "      <th>ID Produto</th>\n",
       "      <th>ID Promocao</th>\n",
       "      <th>ID Cliente</th>\n",
       "      <th>Quantidade Vendida</th>\n",
       "      <th>Quantidade Devolvida</th>\n",
       "      <th>Categoria</th>\n",
       "      <th>Nome da Loja</th>\n",
       "      <th>E-mail Cliente</th>\n",
       "      <th>Nome Promocao</th>\n",
       "      <th>Ano da Venda</th>\n",
       "      <th>Mês da Venda</th>\n",
       "      <th>Dia da Venda</th>\n",
       "    </tr>\n",
       "  </thead>\n",
       "  <tbody>\n",
       "    <tr>\n",
       "      <th>0</th>\n",
       "      <td>1</td>\n",
       "      <td>2017-01-01</td>\n",
       "      <td>02/01/2017</td>\n",
       "      <td>1</td>\n",
       "      <td>86</td>\n",
       "      <td>981</td>\n",
       "      <td>2</td>\n",
       "      <td>6825</td>\n",
       "      <td>9</td>\n",
       "      <td>1</td>\n",
       "      <td>Câmera Digital</td>\n",
       "      <td>Loja Contoso Austin</td>\n",
       "      <td>rbrumfieldmy@ameblo.jp</td>\n",
       "      <td>Promoção de Primavera Americana</td>\n",
       "      <td>2017</td>\n",
       "      <td>1</td>\n",
       "      <td>1</td>\n",
       "    </tr>\n",
       "    <tr>\n",
       "      <th>1</th>\n",
       "      <td>191019</td>\n",
       "      <td>2017-03-20</td>\n",
       "      <td>21/03/2017</td>\n",
       "      <td>1</td>\n",
       "      <td>172</td>\n",
       "      <td>376</td>\n",
       "      <td>2</td>\n",
       "      <td>6825</td>\n",
       "      <td>9</td>\n",
       "      <td>0</td>\n",
       "      <td>Laptop</td>\n",
       "      <td>Loja Contoso Hartford</td>\n",
       "      <td>rbrumfieldmy@ameblo.jp</td>\n",
       "      <td>Promoção de Primavera Americana</td>\n",
       "      <td>2017</td>\n",
       "      <td>3</td>\n",
       "      <td>20</td>\n",
       "    </tr>\n",
       "    <tr>\n",
       "      <th>2</th>\n",
       "      <td>18610</td>\n",
       "      <td>2017-01-08</td>\n",
       "      <td>10/01/2017</td>\n",
       "      <td>2</td>\n",
       "      <td>200</td>\n",
       "      <td>448</td>\n",
       "      <td>2</td>\n",
       "      <td>6825</td>\n",
       "      <td>48</td>\n",
       "      <td>0</td>\n",
       "      <td>Desktop</td>\n",
       "      <td>Loja Contoso Catalog</td>\n",
       "      <td>rbrumfieldmy@ameblo.jp</td>\n",
       "      <td>Promoção de Primavera Americana</td>\n",
       "      <td>2017</td>\n",
       "      <td>1</td>\n",
       "      <td>8</td>\n",
       "    </tr>\n",
       "    <tr>\n",
       "      <th>3</th>\n",
       "      <td>26350</td>\n",
       "      <td>2017-01-12</td>\n",
       "      <td>18/01/2017</td>\n",
       "      <td>6</td>\n",
       "      <td>21</td>\n",
       "      <td>568</td>\n",
       "      <td>2</td>\n",
       "      <td>6825</td>\n",
       "      <td>9</td>\n",
       "      <td>0</td>\n",
       "      <td>Projetor</td>\n",
       "      <td>Loja Contoso Wheat Ridge</td>\n",
       "      <td>rbrumfieldmy@ameblo.jp</td>\n",
       "      <td>Promoção de Primavera Americana</td>\n",
       "      <td>2017</td>\n",
       "      <td>1</td>\n",
       "      <td>12</td>\n",
       "    </tr>\n",
       "    <tr>\n",
       "      <th>4</th>\n",
       "      <td>169169</td>\n",
       "      <td>2017-03-11</td>\n",
       "      <td>14/03/2017</td>\n",
       "      <td>3</td>\n",
       "      <td>22</td>\n",
       "      <td>437</td>\n",
       "      <td>2</td>\n",
       "      <td>21344</td>\n",
       "      <td>27</td>\n",
       "      <td>0</td>\n",
       "      <td>Desktop</td>\n",
       "      <td>Loja Contoso Westminster</td>\n",
       "      <td>makayla3@adventure-works.com</td>\n",
       "      <td>Promoção de Primavera Americana</td>\n",
       "      <td>2017</td>\n",
       "      <td>3</td>\n",
       "      <td>11</td>\n",
       "    </tr>\n",
       "    <tr>\n",
       "      <th>...</th>\n",
       "      <td>...</td>\n",
       "      <td>...</td>\n",
       "      <td>...</td>\n",
       "      <td>...</td>\n",
       "      <td>...</td>\n",
       "      <td>...</td>\n",
       "      <td>...</td>\n",
       "      <td>...</td>\n",
       "      <td>...</td>\n",
       "      <td>...</td>\n",
       "      <td>...</td>\n",
       "      <td>...</td>\n",
       "      <td>...</td>\n",
       "      <td>...</td>\n",
       "      <td>...</td>\n",
       "      <td>...</td>\n",
       "      <td>...</td>\n",
       "    </tr>\n",
       "    <tr>\n",
       "      <th>980637</th>\n",
       "      <td>160497</td>\n",
       "      <td>2017-03-07</td>\n",
       "      <td>07/03/2017</td>\n",
       "      <td>0</td>\n",
       "      <td>231</td>\n",
       "      <td>1553</td>\n",
       "      <td>8</td>\n",
       "      <td>39031</td>\n",
       "      <td>12</td>\n",
       "      <td>0</td>\n",
       "      <td>Tablet</td>\n",
       "      <td>Loja Contoso Hofheim</td>\n",
       "      <td>xavier39@adventure-works.com</td>\n",
       "      <td>Promoção de Primavera Europeia</td>\n",
       "      <td>2017</td>\n",
       "      <td>3</td>\n",
       "      <td>7</td>\n",
       "    </tr>\n",
       "    <tr>\n",
       "      <th>980638</th>\n",
       "      <td>259187</td>\n",
       "      <td>2017-04-14</td>\n",
       "      <td>16/04/2017</td>\n",
       "      <td>2</td>\n",
       "      <td>236</td>\n",
       "      <td>128</td>\n",
       "      <td>8</td>\n",
       "      <td>37934</td>\n",
       "      <td>6</td>\n",
       "      <td>0</td>\n",
       "      <td>Televisão</td>\n",
       "      <td>Loja Contoso Baumholder</td>\n",
       "      <td>kathryn13@adventure-works.com</td>\n",
       "      <td>Promoção de Primavera Europeia</td>\n",
       "      <td>2017</td>\n",
       "      <td>4</td>\n",
       "      <td>14</td>\n",
       "    </tr>\n",
       "    <tr>\n",
       "      <th>980639</th>\n",
       "      <td>129797</td>\n",
       "      <td>2017-02-23</td>\n",
       "      <td>23/02/2017</td>\n",
       "      <td>0</td>\n",
       "      <td>248</td>\n",
       "      <td>722</td>\n",
       "      <td>8</td>\n",
       "      <td>835</td>\n",
       "      <td>12</td>\n",
       "      <td>0</td>\n",
       "      <td>Impressora, Scanner &amp; Fax</td>\n",
       "      <td>Loja Contoso Valletta</td>\n",
       "      <td>nlodgen6@paginegialle.it</td>\n",
       "      <td>Promoção de Primavera Europeia</td>\n",
       "      <td>2017</td>\n",
       "      <td>2</td>\n",
       "      <td>23</td>\n",
       "    </tr>\n",
       "    <tr>\n",
       "      <th>980640</th>\n",
       "      <td>133440</td>\n",
       "      <td>2017-02-24</td>\n",
       "      <td>24/02/2017</td>\n",
       "      <td>0</td>\n",
       "      <td>218</td>\n",
       "      <td>1381</td>\n",
       "      <td>8</td>\n",
       "      <td>38801</td>\n",
       "      <td>12</td>\n",
       "      <td>0</td>\n",
       "      <td>Telefone para Casa &amp; Escritório</td>\n",
       "      <td>Loja Contoso Toulouse</td>\n",
       "      <td>megan17@adventure-works.com</td>\n",
       "      <td>Promoção de Primavera Europeia</td>\n",
       "      <td>2017</td>\n",
       "      <td>2</td>\n",
       "      <td>24</td>\n",
       "    </tr>\n",
       "    <tr>\n",
       "      <th>980641</th>\n",
       "      <td>297724</td>\n",
       "      <td>2017-04-27</td>\n",
       "      <td>30/04/2017</td>\n",
       "      <td>3</td>\n",
       "      <td>241</td>\n",
       "      <td>420</td>\n",
       "      <td>8</td>\n",
       "      <td>39034</td>\n",
       "      <td>36</td>\n",
       "      <td>0</td>\n",
       "      <td>Desktop</td>\n",
       "      <td>Loja Contoso Copenhagen</td>\n",
       "      <td>charles33@adventure-works.com</td>\n",
       "      <td>Promoção de Primavera Europeia</td>\n",
       "      <td>2017</td>\n",
       "      <td>4</td>\n",
       "      <td>27</td>\n",
       "    </tr>\n",
       "  </tbody>\n",
       "</table>\n",
       "<p>980642 rows × 17 columns</p>\n",
       "</div>"
      ],
      "text/plain": [
       "        Numero da Venda Data da Venda Data do Envio  ID Canal  ID Loja  \\\n",
       "0                     1    2017-01-01    02/01/2017         1       86   \n",
       "1                191019    2017-03-20    21/03/2017         1      172   \n",
       "2                 18610    2017-01-08    10/01/2017         2      200   \n",
       "3                 26350    2017-01-12    18/01/2017         6       21   \n",
       "4                169169    2017-03-11    14/03/2017         3       22   \n",
       "...                 ...           ...           ...       ...      ...   \n",
       "980637           160497    2017-03-07    07/03/2017         0      231   \n",
       "980638           259187    2017-04-14    16/04/2017         2      236   \n",
       "980639           129797    2017-02-23    23/02/2017         0      248   \n",
       "980640           133440    2017-02-24    24/02/2017         0      218   \n",
       "980641           297724    2017-04-27    30/04/2017         3      241   \n",
       "\n",
       "        ID Produto  ID Promocao  ID Cliente  Quantidade Vendida  \\\n",
       "0              981            2        6825                   9   \n",
       "1              376            2        6825                   9   \n",
       "2              448            2        6825                  48   \n",
       "3              568            2        6825                   9   \n",
       "4              437            2       21344                  27   \n",
       "...            ...          ...         ...                 ...   \n",
       "980637        1553            8       39031                  12   \n",
       "980638         128            8       37934                   6   \n",
       "980639         722            8         835                  12   \n",
       "980640        1381            8       38801                  12   \n",
       "980641         420            8       39034                  36   \n",
       "\n",
       "        Quantidade Devolvida                        Categoria  \\\n",
       "0                          1                   Câmera Digital   \n",
       "1                          0                           Laptop   \n",
       "2                          0                          Desktop   \n",
       "3                          0                         Projetor   \n",
       "4                          0                          Desktop   \n",
       "...                      ...                              ...   \n",
       "980637                     0                           Tablet   \n",
       "980638                     0                        Televisão   \n",
       "980639                     0        Impressora, Scanner & Fax   \n",
       "980640                     0  Telefone para Casa & Escritório   \n",
       "980641                     0                          Desktop   \n",
       "\n",
       "                     Nome da Loja                 E-mail Cliente  \\\n",
       "0            Loja Contoso Austin          rbrumfieldmy@ameblo.jp   \n",
       "1          Loja Contoso Hartford          rbrumfieldmy@ameblo.jp   \n",
       "2           Loja Contoso Catalog          rbrumfieldmy@ameblo.jp   \n",
       "3       Loja Contoso Wheat Ridge          rbrumfieldmy@ameblo.jp   \n",
       "4       Loja Contoso Westminster    makayla3@adventure-works.com   \n",
       "...                           ...                            ...   \n",
       "980637      Loja Contoso Hofheim    xavier39@adventure-works.com   \n",
       "980638   Loja Contoso Baumholder   kathryn13@adventure-works.com   \n",
       "980639     Loja Contoso Valletta        nlodgen6@paginegialle.it   \n",
       "980640     Loja Contoso Toulouse     megan17@adventure-works.com   \n",
       "980641   Loja Contoso Copenhagen   charles33@adventure-works.com   \n",
       "\n",
       "                          Nome Promocao  Ano da Venda  Mês da Venda  \\\n",
       "0       Promoção de Primavera Americana          2017             1   \n",
       "1       Promoção de Primavera Americana          2017             3   \n",
       "2       Promoção de Primavera Americana          2017             1   \n",
       "3       Promoção de Primavera Americana          2017             1   \n",
       "4       Promoção de Primavera Americana          2017             3   \n",
       "...                                 ...           ...           ...   \n",
       "980637   Promoção de Primavera Europeia          2017             3   \n",
       "980638   Promoção de Primavera Europeia          2017             4   \n",
       "980639   Promoção de Primavera Europeia          2017             2   \n",
       "980640   Promoção de Primavera Europeia          2017             2   \n",
       "980641   Promoção de Primavera Europeia          2017             4   \n",
       "\n",
       "        Dia da Venda  \n",
       "0                  1  \n",
       "1                 20  \n",
       "2                  8  \n",
       "3                 12  \n",
       "4                 11  \n",
       "...              ...  \n",
       "980637             7  \n",
       "980638            14  \n",
       "980639            23  \n",
       "980640            24  \n",
       "980641            27  \n",
       "\n",
       "[980642 rows x 17 columns]"
      ]
     },
     "metadata": {},
     "output_type": "display_data"
    },
    {
     "name": "stderr",
     "output_type": "stream",
     "text": [
      "\r",
      "100%|██████████████████████████████████████████████████████████████████████| 980642/980642 [00:20<00:00, 498329.19it/s]"
     ]
    }
   ],
   "source": [
    "from tqdm import tqdm\n",
    "\n",
    "pbar = tqdm(total=len(vendas_df['ID Loja']), position=0, leave=True)\n",
    "# Position e Leave para printar a barra de progresso em uma linha só\n",
    "\n",
    "for i, id_loja in enumerate (vendas_df['ID Loja']):\n",
    "    pbar.update()\n",
    "    if id_loja == 222:\n",
    "         vendas_df.loc[i, 'Quantidade Devolvida'] += 1\n",
    "display(vendas_df)"
   ]
  },
  {
   "cell_type": "markdown",
   "id": "e02c066b",
   "metadata": {},
   "source": [
    "# Exercício - Mini Projeto de Análise de Dados\n",
    "\n",
    "Vamos fazer um exercício completo de pandas para um miniprojeto de análise de dados.\n",
    "\n",
    "Esse exercício vai obrigar a gente a usar boa parte dos conhecimento de pandas e até de outros módulos que já aprendemos ao longo do curso.\n",
    "\n",
    "### O que temos?\n",
    "\n",
    "Temos os dados de 2019 de uma empresa de prestação de serviços. \n",
    "\n",
    "- CadastroFuncionarios\n",
    "- CadastroClientes\n",
    "- BaseServiçosPrestados\n",
    "\n",
    "Obs1: Para ler arquivos csv, temos o read_csv<br>\n",
    "Obs2: Para ler arquivos xlsx (arquivos em excel normais, que não são padrão csv), temos o read_excel\n",
    "\n",
    "### O que queremos saber/fazer?\n",
    "\n",
    "1. Valor Total da Folha Salarial -> Qual foi o gasto total com salários de funcionários pela empresa? <br>\n",
    "    Sugestão: calcule o salário total de cada funcionário, salário + benefícios + impostos, depois some todos os salários\n",
    "    \n",
    "    \n",
    "2. Qual foi o faturamento da empresa?<br>\n",
    "    Sugestão: calcule o faturamento total de cada serviço e depois some o faturamento de todos\n",
    "    \n",
    "    \n",
    "3. Qual o % de funcionários que já fechou algum contrato?<br>\n",
    "    Sugestão: na base de serviços temos o funcionário que fechou cada serviço. Mas nem todos os funcionários que a empresa tem já fecharam algum serviço.<br>\n",
    "    . Na base de funcionários temos uma lista com todos os funcionários<br>\n",
    "    . Queremos calcular Qtde_Funcionarios_Fecharam_Serviço / Qtde_Funcionários_Totais<br>\n",
    "    . Para calcular a qtde de funcionários que fecharam algum serviço, use a base de serviços e conte quantos funcionários tem ali. Mas lembre-se, cada funcionário só pode ser contado uma única vez.<br><br>\n",
    "    Dica: se você aplicar o método .unique() em uma variável que é apenas 1 coluna de um dataframe, ele vai excluir todos os valores duplicados daquela coluna.<br>\n",
    "    Ex: unicos_colunaA = dataframe['colunaA'].unique() te dá como resposta uma lista com todos os itens da colunaA aparecendo uma única vez. Todos os valores repetidos da colunaA são excluidos da variável unicos_colunaA \n",
    "    \n",
    "    \n",
    "4. Calcule o total de contratos que cada área da empresa já fechou\n",
    "\n",
    "\n",
    "5. Calcule o total de funcionários por área\n",
    "\n",
    "\n",
    "6. Qual o ticket médio mensal (faturamento médio mensal) dos contratos?<br>\n",
    "    Dica: .mean() calcula a média -> exemplo: media_colunaA = dataframe['colunaA'].mean()\n",
    "\n",
    "Obs: Lembrando as opções mais usuais de encoding:<br>\n",
    "encoding='latin1', encoding='ISO-8859-1', encoding='utf-8' ou então encoding='cp1252'\n",
    "\n",
    "Observação Importante: Se o seu código der um erro na hora de importar os arquivos:<br>\n",
    "- CadastroClientes.csv\n",
    "- CadastroFuncionarios.csv\n",
    "\n",
    "Use separador \";\" (ponto e vírgula) para resolver e inclua o parâmetro decimal ',' para o pandas identificar os números corretamente"
   ]
  },
  {
   "cell_type": "markdown",
   "id": "4a675c3f",
   "metadata": {},
   "source": [
    "### Importando os arquivos CSV e Excel"
   ]
  },
  {
   "cell_type": "code",
   "execution_count": 855,
   "id": "c7342acf",
   "metadata": {},
   "outputs": [
    {
     "data": {
      "text/html": [
       "<div>\n",
       "<style scoped>\n",
       "    .dataframe tbody tr th:only-of-type {\n",
       "        vertical-align: middle;\n",
       "    }\n",
       "\n",
       "    .dataframe tbody tr th {\n",
       "        vertical-align: top;\n",
       "    }\n",
       "\n",
       "    .dataframe thead th {\n",
       "        text-align: right;\n",
       "    }\n",
       "</style>\n",
       "<table border=\"1\" class=\"dataframe\">\n",
       "  <thead>\n",
       "    <tr style=\"text-align: right;\">\n",
       "      <th></th>\n",
       "      <th>ID Funcionário</th>\n",
       "      <th>Nome Completo</th>\n",
       "      <th>Salario Base</th>\n",
       "      <th>Impostos</th>\n",
       "      <th>Beneficios</th>\n",
       "      <th>VT</th>\n",
       "      <th>VR</th>\n",
       "      <th>Area</th>\n",
       "    </tr>\n",
       "  </thead>\n",
       "  <tbody>\n",
       "    <tr>\n",
       "      <th>0</th>\n",
       "      <td>1</td>\n",
       "      <td>Gabriel Mesquita</td>\n",
       "      <td>21910</td>\n",
       "      <td>10955.0</td>\n",
       "      <td>4382.0</td>\n",
       "      <td>242</td>\n",
       "      <td>719.04</td>\n",
       "      <td>Operações</td>\n",
       "    </tr>\n",
       "    <tr>\n",
       "      <th>1</th>\n",
       "      <td>2</td>\n",
       "      <td>João Haddad</td>\n",
       "      <td>5404</td>\n",
       "      <td>2702.0</td>\n",
       "      <td>1080.8</td>\n",
       "      <td>154</td>\n",
       "      <td>574.56</td>\n",
       "      <td>Logística</td>\n",
       "    </tr>\n",
       "    <tr>\n",
       "      <th>2</th>\n",
       "      <td>3</td>\n",
       "      <td>Amanda Marques Ribeiro</td>\n",
       "      <td>16066</td>\n",
       "      <td>8033.0</td>\n",
       "      <td>3213.2</td>\n",
       "      <td>154</td>\n",
       "      <td>729.12</td>\n",
       "      <td>Administrativo</td>\n",
       "    </tr>\n",
       "    <tr>\n",
       "      <th>3</th>\n",
       "      <td>4</td>\n",
       "      <td>Guilherme Nunez</td>\n",
       "      <td>21305</td>\n",
       "      <td>10652.5</td>\n",
       "      <td>4261.0</td>\n",
       "      <td>220</td>\n",
       "      <td>524.16</td>\n",
       "      <td>Administrativo</td>\n",
       "    </tr>\n",
       "    <tr>\n",
       "      <th>4</th>\n",
       "      <td>5</td>\n",
       "      <td>Adelino Gomes</td>\n",
       "      <td>5098</td>\n",
       "      <td>2549.0</td>\n",
       "      <td>1019.6</td>\n",
       "      <td>176</td>\n",
       "      <td>725.76</td>\n",
       "      <td>Administrativo</td>\n",
       "    </tr>\n",
       "    <tr>\n",
       "      <th>...</th>\n",
       "      <td>...</td>\n",
       "      <td>...</td>\n",
       "      <td>...</td>\n",
       "      <td>...</td>\n",
       "      <td>...</td>\n",
       "      <td>...</td>\n",
       "      <td>...</td>\n",
       "      <td>...</td>\n",
       "    </tr>\n",
       "    <tr>\n",
       "      <th>109</th>\n",
       "      <td>143</td>\n",
       "      <td>Renan Scharnhorst Ott</td>\n",
       "      <td>10793</td>\n",
       "      <td>5396.5</td>\n",
       "      <td>2158.6</td>\n",
       "      <td>242</td>\n",
       "      <td>514.08</td>\n",
       "      <td>Logística</td>\n",
       "    </tr>\n",
       "    <tr>\n",
       "      <th>110</th>\n",
       "      <td>144</td>\n",
       "      <td>Lucas Brum Pereira</td>\n",
       "      <td>4048</td>\n",
       "      <td>2024.0</td>\n",
       "      <td>809.6</td>\n",
       "      <td>198</td>\n",
       "      <td>796.32</td>\n",
       "      <td>Comercial</td>\n",
       "    </tr>\n",
       "    <tr>\n",
       "      <th>111</th>\n",
       "      <td>148</td>\n",
       "      <td>Caio Stellet</td>\n",
       "      <td>24596</td>\n",
       "      <td>12298.0</td>\n",
       "      <td>4919.2</td>\n",
       "      <td>242</td>\n",
       "      <td>561.12</td>\n",
       "      <td>Administrativo</td>\n",
       "    </tr>\n",
       "    <tr>\n",
       "      <th>112</th>\n",
       "      <td>149</td>\n",
       "      <td>Fernanda Rocha</td>\n",
       "      <td>5078</td>\n",
       "      <td>2539.0</td>\n",
       "      <td>1015.6</td>\n",
       "      <td>308</td>\n",
       "      <td>665.28</td>\n",
       "      <td>Comercial</td>\n",
       "    </tr>\n",
       "    <tr>\n",
       "      <th>113</th>\n",
       "      <td>150</td>\n",
       "      <td>Eduardo Brum</td>\n",
       "      <td>15939</td>\n",
       "      <td>7969.5</td>\n",
       "      <td>3187.8</td>\n",
       "      <td>220</td>\n",
       "      <td>769.44</td>\n",
       "      <td>Comercial</td>\n",
       "    </tr>\n",
       "  </tbody>\n",
       "</table>\n",
       "<p>114 rows × 8 columns</p>\n",
       "</div>"
      ],
      "text/plain": [
       "     ID Funcionário           Nome Completo  Salario Base  Impostos  \\\n",
       "0                 1        Gabriel Mesquita         21910   10955.0   \n",
       "1                 2             João Haddad          5404    2702.0   \n",
       "2                 3  Amanda Marques Ribeiro         16066    8033.0   \n",
       "3                 4         Guilherme Nunez         21305   10652.5   \n",
       "4                 5           Adelino Gomes          5098    2549.0   \n",
       "..              ...                     ...           ...       ...   \n",
       "109             143   Renan Scharnhorst Ott         10793    5396.5   \n",
       "110             144      Lucas Brum Pereira          4048    2024.0   \n",
       "111             148            Caio Stellet         24596   12298.0   \n",
       "112             149          Fernanda Rocha          5078    2539.0   \n",
       "113             150            Eduardo Brum         15939    7969.5   \n",
       "\n",
       "     Beneficios   VT      VR            Area  \n",
       "0        4382.0  242  719.04       Operações  \n",
       "1        1080.8  154  574.56       Logística  \n",
       "2        3213.2  154  729.12  Administrativo  \n",
       "3        4261.0  220  524.16  Administrativo  \n",
       "4        1019.6  176  725.76  Administrativo  \n",
       "..          ...  ...     ...             ...  \n",
       "109      2158.6  242  514.08       Logística  \n",
       "110       809.6  198  796.32       Comercial  \n",
       "111      4919.2  242  561.12  Administrativo  \n",
       "112      1015.6  308  665.28       Comercial  \n",
       "113      3187.8  220  769.44       Comercial  \n",
       "\n",
       "[114 rows x 8 columns]"
      ]
     },
     "metadata": {},
     "output_type": "display_data"
    },
    {
     "data": {
      "text/html": [
       "<div>\n",
       "<style scoped>\n",
       "    .dataframe tbody tr th:only-of-type {\n",
       "        vertical-align: middle;\n",
       "    }\n",
       "\n",
       "    .dataframe tbody tr th {\n",
       "        vertical-align: top;\n",
       "    }\n",
       "\n",
       "    .dataframe thead th {\n",
       "        text-align: right;\n",
       "    }\n",
       "</style>\n",
       "<table border=\"1\" class=\"dataframe\">\n",
       "  <thead>\n",
       "    <tr style=\"text-align: right;\">\n",
       "      <th></th>\n",
       "      <th>ID Cliente</th>\n",
       "      <th>Cliente</th>\n",
       "      <th>Valor Contrato Mensal</th>\n",
       "    </tr>\n",
       "  </thead>\n",
       "  <tbody>\n",
       "    <tr>\n",
       "      <th>0</th>\n",
       "      <td>1</td>\n",
       "      <td>Teixeira Gonçalves</td>\n",
       "      <td>540</td>\n",
       "    </tr>\n",
       "    <tr>\n",
       "      <th>1</th>\n",
       "      <td>2</td>\n",
       "      <td>Souza Santos</td>\n",
       "      <td>1260</td>\n",
       "    </tr>\n",
       "    <tr>\n",
       "      <th>2</th>\n",
       "      <td>3</td>\n",
       "      <td>Emídio Alves</td>\n",
       "      <td>3195</td>\n",
       "    </tr>\n",
       "    <tr>\n",
       "      <th>3</th>\n",
       "      <td>4</td>\n",
       "      <td>Santos Costa</td>\n",
       "      <td>2520</td>\n",
       "    </tr>\n",
       "    <tr>\n",
       "      <th>4</th>\n",
       "      <td>5</td>\n",
       "      <td>Do Monteiro</td>\n",
       "      <td>3510</td>\n",
       "    </tr>\n",
       "    <tr>\n",
       "      <th>...</th>\n",
       "      <td>...</td>\n",
       "      <td>...</td>\n",
       "      <td>...</td>\n",
       "    </tr>\n",
       "    <tr>\n",
       "      <th>315</th>\n",
       "      <td>316</td>\n",
       "      <td>Manoel Costa</td>\n",
       "      <td>3690</td>\n",
       "    </tr>\n",
       "    <tr>\n",
       "      <th>316</th>\n",
       "      <td>317</td>\n",
       "      <td>Gomes Machado</td>\n",
       "      <td>2385</td>\n",
       "    </tr>\n",
       "    <tr>\n",
       "      <th>317</th>\n",
       "      <td>318</td>\n",
       "      <td>Alkindar Cardozo</td>\n",
       "      <td>3510</td>\n",
       "    </tr>\n",
       "    <tr>\n",
       "      <th>318</th>\n",
       "      <td>319</td>\n",
       "      <td>Pereira Fazenda</td>\n",
       "      <td>4185</td>\n",
       "    </tr>\n",
       "    <tr>\n",
       "      <th>319</th>\n",
       "      <td>320</td>\n",
       "      <td>Americo Damasceno</td>\n",
       "      <td>2430</td>\n",
       "    </tr>\n",
       "  </tbody>\n",
       "</table>\n",
       "<p>320 rows × 3 columns</p>\n",
       "</div>"
      ],
      "text/plain": [
       "     ID Cliente             Cliente  Valor Contrato Mensal\n",
       "0             1  Teixeira Gonçalves                    540\n",
       "1             2        Souza Santos                   1260\n",
       "2             3        Emídio Alves                   3195\n",
       "3             4        Santos Costa                   2520\n",
       "4             5         Do Monteiro                   3510\n",
       "..          ...                 ...                    ...\n",
       "315         316        Manoel Costa                   3690\n",
       "316         317       Gomes Machado                   2385\n",
       "317         318    Alkindar Cardozo                   3510\n",
       "318         319     Pereira Fazenda                   4185\n",
       "319         320   Americo Damasceno                   2430\n",
       "\n",
       "[320 rows x 3 columns]"
      ]
     },
     "metadata": {},
     "output_type": "display_data"
    },
    {
     "data": {
      "text/html": [
       "<div>\n",
       "<style scoped>\n",
       "    .dataframe tbody tr th:only-of-type {\n",
       "        vertical-align: middle;\n",
       "    }\n",
       "\n",
       "    .dataframe tbody tr th {\n",
       "        vertical-align: top;\n",
       "    }\n",
       "\n",
       "    .dataframe thead th {\n",
       "        text-align: right;\n",
       "    }\n",
       "</style>\n",
       "<table border=\"1\" class=\"dataframe\">\n",
       "  <thead>\n",
       "    <tr style=\"text-align: right;\">\n",
       "      <th></th>\n",
       "      <th>Codigo do Servico</th>\n",
       "      <th>ID Funcionário</th>\n",
       "      <th>ID Cliente</th>\n",
       "      <th>Tempo Total de Contrato (Meses)</th>\n",
       "    </tr>\n",
       "  </thead>\n",
       "  <tbody>\n",
       "    <tr>\n",
       "      <th>0</th>\n",
       "      <td>OS0001</td>\n",
       "      <td>67</td>\n",
       "      <td>1</td>\n",
       "      <td>14</td>\n",
       "    </tr>\n",
       "    <tr>\n",
       "      <th>1</th>\n",
       "      <td>OS0002</td>\n",
       "      <td>17</td>\n",
       "      <td>2</td>\n",
       "      <td>12</td>\n",
       "    </tr>\n",
       "    <tr>\n",
       "      <th>2</th>\n",
       "      <td>OS0003</td>\n",
       "      <td>116</td>\n",
       "      <td>4</td>\n",
       "      <td>14</td>\n",
       "    </tr>\n",
       "    <tr>\n",
       "      <th>3</th>\n",
       "      <td>OS0004</td>\n",
       "      <td>37</td>\n",
       "      <td>5</td>\n",
       "      <td>8</td>\n",
       "    </tr>\n",
       "    <tr>\n",
       "      <th>4</th>\n",
       "      <td>OS0005</td>\n",
       "      <td>130</td>\n",
       "      <td>6</td>\n",
       "      <td>8</td>\n",
       "    </tr>\n",
       "    <tr>\n",
       "      <th>...</th>\n",
       "      <td>...</td>\n",
       "      <td>...</td>\n",
       "      <td>...</td>\n",
       "      <td>...</td>\n",
       "    </tr>\n",
       "    <tr>\n",
       "      <th>232</th>\n",
       "      <td>OS0233</td>\n",
       "      <td>111</td>\n",
       "      <td>315</td>\n",
       "      <td>4</td>\n",
       "    </tr>\n",
       "    <tr>\n",
       "      <th>233</th>\n",
       "      <td>OS0234</td>\n",
       "      <td>124</td>\n",
       "      <td>316</td>\n",
       "      <td>8</td>\n",
       "    </tr>\n",
       "    <tr>\n",
       "      <th>234</th>\n",
       "      <td>OS0235</td>\n",
       "      <td>72</td>\n",
       "      <td>317</td>\n",
       "      <td>6</td>\n",
       "    </tr>\n",
       "    <tr>\n",
       "      <th>235</th>\n",
       "      <td>OS0236</td>\n",
       "      <td>90</td>\n",
       "      <td>319</td>\n",
       "      <td>14</td>\n",
       "    </tr>\n",
       "    <tr>\n",
       "      <th>236</th>\n",
       "      <td>OS0237</td>\n",
       "      <td>22</td>\n",
       "      <td>320</td>\n",
       "      <td>12</td>\n",
       "    </tr>\n",
       "  </tbody>\n",
       "</table>\n",
       "<p>237 rows × 4 columns</p>\n",
       "</div>"
      ],
      "text/plain": [
       "    Codigo do Servico  ID Funcionário  ID Cliente  \\\n",
       "0              OS0001              67           1   \n",
       "1              OS0002              17           2   \n",
       "2              OS0003             116           4   \n",
       "3              OS0004              37           5   \n",
       "4              OS0005             130           6   \n",
       "..                ...             ...         ...   \n",
       "232            OS0233             111         315   \n",
       "233            OS0234             124         316   \n",
       "234            OS0235              72         317   \n",
       "235            OS0236              90         319   \n",
       "236            OS0237              22         320   \n",
       "\n",
       "     Tempo Total de Contrato (Meses)  \n",
       "0                                 14  \n",
       "1                                 12  \n",
       "2                                 14  \n",
       "3                                  8  \n",
       "4                                  8  \n",
       "..                               ...  \n",
       "232                                4  \n",
       "233                                8  \n",
       "234                                6  \n",
       "235                               14  \n",
       "236                               12  \n",
       "\n",
       "[237 rows x 4 columns]"
      ]
     },
     "metadata": {},
     "output_type": "display_data"
    }
   ],
   "source": [
    "# Pandas:\n",
    "import pandas as pd\n",
    "\n",
    "# Importando os arquivos csv\n",
    "cadastro_funcionarios_df = pd.read_csv(r'C:\\Users\\Daniel\\Documents\\Arquivos Técnicos\\Arquivos\\Programação\\Cursos\\Python Impressionador - Hashtag Treinamento\\19.Análise da Dados com o Pandas + Integração Python e Excel\\MATERIAL DE APOIO\\CadastroFuncionarios.csv', sep=';', decimal=',')\n",
    "cadastro_clientes_df = pd.read_csv(r'C:\\Users\\Daniel\\Documents\\Arquivos Técnicos\\Arquivos\\Programação\\Cursos\\Python Impressionador - Hashtag Treinamento\\19.Análise da Dados com o Pandas + Integração Python e Excel\\MATERIAL DE APOIO\\CadastroClientes.csv', sep=';', decimal=',')\n",
    "\n",
    "# Retirando Colunas que não serão usadas:\n",
    "cadastro_funcionarios_df = cadastro_funcionarios_df.drop(['Estado Civil', 'Cargo'], axis=1)\n",
    "\n",
    "# Importando os arquivos excel\n",
    "base_serviços_prestados = pd.read_excel(r'C:\\Users\\Daniel\\Documents\\Arquivos Técnicos\\Arquivos\\Programação\\Cursos\\Python Impressionador - Hashtag Treinamento\\19.Análise da Dados com o Pandas + Integração Python e Excel\\MATERIAL DE APOIO\\BaseServiçosPrestados.xlsx')\n",
    "\n",
    "display(cadastro_funcionarios_df)\n",
    "display(cadastro_clientes_df)\n",
    "display(base_serviços_prestados)"
   ]
  },
  {
   "cell_type": "markdown",
   "id": "517bdfb5",
   "metadata": {},
   "source": [
    "### 1. Valor Total da Folha Salarial:"
   ]
  },
  {
   "cell_type": "code",
   "execution_count": 862,
   "id": "afe96788",
   "metadata": {},
   "outputs": [
    {
     "name": "stdout",
     "output_type": "stream",
     "text": [
      "--------------\n",
      "1. Valor Total da Folha Salarial:\n",
      "--------------\n"
     ]
    },
    {
     "data": {
      "text/html": [
       "<div>\n",
       "<style scoped>\n",
       "    .dataframe tbody tr th:only-of-type {\n",
       "        vertical-align: middle;\n",
       "    }\n",
       "\n",
       "    .dataframe tbody tr th {\n",
       "        vertical-align: top;\n",
       "    }\n",
       "\n",
       "    .dataframe thead th {\n",
       "        text-align: right;\n",
       "    }\n",
       "</style>\n",
       "<table border=\"1\" class=\"dataframe\">\n",
       "  <thead>\n",
       "    <tr style=\"text-align: right;\">\n",
       "      <th></th>\n",
       "      <th>ID Funcionário</th>\n",
       "      <th>Nome Completo</th>\n",
       "      <th>Salario Base</th>\n",
       "      <th>Impostos</th>\n",
       "      <th>Beneficios</th>\n",
       "      <th>VT</th>\n",
       "      <th>VR</th>\n",
       "      <th>Area</th>\n",
       "      <th>Salário Total</th>\n",
       "    </tr>\n",
       "  </thead>\n",
       "  <tbody>\n",
       "    <tr>\n",
       "      <th>0</th>\n",
       "      <td>1</td>\n",
       "      <td>Gabriel Mesquita</td>\n",
       "      <td>21910</td>\n",
       "      <td>10955.0</td>\n",
       "      <td>4382.0</td>\n",
       "      <td>242</td>\n",
       "      <td>719.04</td>\n",
       "      <td>Operações</td>\n",
       "      <td>38208.04</td>\n",
       "    </tr>\n",
       "    <tr>\n",
       "      <th>1</th>\n",
       "      <td>2</td>\n",
       "      <td>João Haddad</td>\n",
       "      <td>5404</td>\n",
       "      <td>2702.0</td>\n",
       "      <td>1080.8</td>\n",
       "      <td>154</td>\n",
       "      <td>574.56</td>\n",
       "      <td>Logística</td>\n",
       "      <td>9915.36</td>\n",
       "    </tr>\n",
       "    <tr>\n",
       "      <th>2</th>\n",
       "      <td>3</td>\n",
       "      <td>Amanda Marques Ribeiro</td>\n",
       "      <td>16066</td>\n",
       "      <td>8033.0</td>\n",
       "      <td>3213.2</td>\n",
       "      <td>154</td>\n",
       "      <td>729.12</td>\n",
       "      <td>Administrativo</td>\n",
       "      <td>28195.32</td>\n",
       "    </tr>\n",
       "    <tr>\n",
       "      <th>3</th>\n",
       "      <td>4</td>\n",
       "      <td>Guilherme Nunez</td>\n",
       "      <td>21305</td>\n",
       "      <td>10652.5</td>\n",
       "      <td>4261.0</td>\n",
       "      <td>220</td>\n",
       "      <td>524.16</td>\n",
       "      <td>Administrativo</td>\n",
       "      <td>36962.66</td>\n",
       "    </tr>\n",
       "    <tr>\n",
       "      <th>4</th>\n",
       "      <td>5</td>\n",
       "      <td>Adelino Gomes</td>\n",
       "      <td>5098</td>\n",
       "      <td>2549.0</td>\n",
       "      <td>1019.6</td>\n",
       "      <td>176</td>\n",
       "      <td>725.76</td>\n",
       "      <td>Administrativo</td>\n",
       "      <td>9568.36</td>\n",
       "    </tr>\n",
       "    <tr>\n",
       "      <th>...</th>\n",
       "      <td>...</td>\n",
       "      <td>...</td>\n",
       "      <td>...</td>\n",
       "      <td>...</td>\n",
       "      <td>...</td>\n",
       "      <td>...</td>\n",
       "      <td>...</td>\n",
       "      <td>...</td>\n",
       "      <td>...</td>\n",
       "    </tr>\n",
       "    <tr>\n",
       "      <th>109</th>\n",
       "      <td>143</td>\n",
       "      <td>Renan Scharnhorst Ott</td>\n",
       "      <td>10793</td>\n",
       "      <td>5396.5</td>\n",
       "      <td>2158.6</td>\n",
       "      <td>242</td>\n",
       "      <td>514.08</td>\n",
       "      <td>Logística</td>\n",
       "      <td>19104.18</td>\n",
       "    </tr>\n",
       "    <tr>\n",
       "      <th>110</th>\n",
       "      <td>144</td>\n",
       "      <td>Lucas Brum Pereira</td>\n",
       "      <td>4048</td>\n",
       "      <td>2024.0</td>\n",
       "      <td>809.6</td>\n",
       "      <td>198</td>\n",
       "      <td>796.32</td>\n",
       "      <td>Comercial</td>\n",
       "      <td>7875.92</td>\n",
       "    </tr>\n",
       "    <tr>\n",
       "      <th>111</th>\n",
       "      <td>148</td>\n",
       "      <td>Caio Stellet</td>\n",
       "      <td>24596</td>\n",
       "      <td>12298.0</td>\n",
       "      <td>4919.2</td>\n",
       "      <td>242</td>\n",
       "      <td>561.12</td>\n",
       "      <td>Administrativo</td>\n",
       "      <td>42616.32</td>\n",
       "    </tr>\n",
       "    <tr>\n",
       "      <th>112</th>\n",
       "      <td>149</td>\n",
       "      <td>Fernanda Rocha</td>\n",
       "      <td>5078</td>\n",
       "      <td>2539.0</td>\n",
       "      <td>1015.6</td>\n",
       "      <td>308</td>\n",
       "      <td>665.28</td>\n",
       "      <td>Comercial</td>\n",
       "      <td>9605.88</td>\n",
       "    </tr>\n",
       "    <tr>\n",
       "      <th>113</th>\n",
       "      <td>150</td>\n",
       "      <td>Eduardo Brum</td>\n",
       "      <td>15939</td>\n",
       "      <td>7969.5</td>\n",
       "      <td>3187.8</td>\n",
       "      <td>220</td>\n",
       "      <td>769.44</td>\n",
       "      <td>Comercial</td>\n",
       "      <td>28085.74</td>\n",
       "    </tr>\n",
       "  </tbody>\n",
       "</table>\n",
       "<p>114 rows × 9 columns</p>\n",
       "</div>"
      ],
      "text/plain": [
       "     ID Funcionário           Nome Completo  Salario Base  Impostos  \\\n",
       "0                 1        Gabriel Mesquita         21910   10955.0   \n",
       "1                 2             João Haddad          5404    2702.0   \n",
       "2                 3  Amanda Marques Ribeiro         16066    8033.0   \n",
       "3                 4         Guilherme Nunez         21305   10652.5   \n",
       "4                 5           Adelino Gomes          5098    2549.0   \n",
       "..              ...                     ...           ...       ...   \n",
       "109             143   Renan Scharnhorst Ott         10793    5396.5   \n",
       "110             144      Lucas Brum Pereira          4048    2024.0   \n",
       "111             148            Caio Stellet         24596   12298.0   \n",
       "112             149          Fernanda Rocha          5078    2539.0   \n",
       "113             150            Eduardo Brum         15939    7969.5   \n",
       "\n",
       "     Beneficios   VT      VR            Area  Salário Total  \n",
       "0        4382.0  242  719.04       Operações       38208.04  \n",
       "1        1080.8  154  574.56       Logística        9915.36  \n",
       "2        3213.2  154  729.12  Administrativo       28195.32  \n",
       "3        4261.0  220  524.16  Administrativo       36962.66  \n",
       "4        1019.6  176  725.76  Administrativo        9568.36  \n",
       "..          ...  ...     ...             ...            ...  \n",
       "109      2158.6  242  514.08       Logística       19104.18  \n",
       "110       809.6  198  796.32       Comercial        7875.92  \n",
       "111      4919.2  242  561.12  Administrativo       42616.32  \n",
       "112      1015.6  308  665.28       Comercial        9605.88  \n",
       "113      3187.8  220  769.44       Comercial       28085.74  \n",
       "\n",
       "[114 rows x 9 columns]"
      ]
     },
     "metadata": {},
     "output_type": "display_data"
    },
    {
     "name": "stdout",
     "output_type": "stream",
     "text": [
      "A empresa tem uma folha salarial total de: R$ 2,717,493.22\n"
     ]
    }
   ],
   "source": [
    "print('--------------')\n",
    "print('1. Valor Total da Folha Salarial:')\n",
    "print('--------------')\n",
    "# Valor Total da Folha Salarial -> Qual foi o gasto total com salários de funcionários pela empresa?\n",
    "# Sugestão: calcule o salário total de cada funcionário, salário + benefícios + impostos, depois some todos os salários\n",
    "\n",
    "cadastro_funcionarios_df['Salário Total'] = cadastro_funcionarios_df['Salario Base'] + cadastro_funcionarios_df['Impostos'] + cadastro_funcionarios_df['Beneficios'] + cadastro_funcionarios_df['VT'] + cadastro_funcionarios_df['VR']\n",
    "display(cadastro_funcionarios_df)\n",
    "\n",
    "print('A empresa tem uma folha salarial total de: R$ {:,.2f}'.format(cadastro_funcionarios_df['Salário Total'].sum()))\n",
    "\n",
    "\n"
   ]
  },
  {
   "cell_type": "markdown",
   "id": "72d432ec",
   "metadata": {},
   "source": [
    "### 2. Faturamento da empresa:"
   ]
  },
  {
   "cell_type": "code",
   "execution_count": 873,
   "id": "a3207973",
   "metadata": {},
   "outputs": [
    {
     "name": "stdout",
     "output_type": "stream",
     "text": [
      "--------------\n",
      "2. Faturamento da empresa:\n",
      "--------------\n"
     ]
    },
    {
     "data": {
      "text/html": [
       "<div>\n",
       "<style scoped>\n",
       "    .dataframe tbody tr th:only-of-type {\n",
       "        vertical-align: middle;\n",
       "    }\n",
       "\n",
       "    .dataframe tbody tr th {\n",
       "        vertical-align: top;\n",
       "    }\n",
       "\n",
       "    .dataframe thead th {\n",
       "        text-align: right;\n",
       "    }\n",
       "</style>\n",
       "<table border=\"1\" class=\"dataframe\">\n",
       "  <thead>\n",
       "    <tr style=\"text-align: right;\">\n",
       "      <th></th>\n",
       "      <th>Codigo do Servico</th>\n",
       "      <th>ID Funcionário</th>\n",
       "      <th>ID Cliente</th>\n",
       "      <th>Tempo Total de Contrato (Meses)</th>\n",
       "      <th>Cliente</th>\n",
       "      <th>Valor Contrato Mensal</th>\n",
       "      <th>Faturamento</th>\n",
       "    </tr>\n",
       "  </thead>\n",
       "  <tbody>\n",
       "    <tr>\n",
       "      <th>0</th>\n",
       "      <td>OS0001</td>\n",
       "      <td>67</td>\n",
       "      <td>1</td>\n",
       "      <td>14</td>\n",
       "      <td>Teixeira Gonçalves</td>\n",
       "      <td>540</td>\n",
       "      <td>7560</td>\n",
       "    </tr>\n",
       "    <tr>\n",
       "      <th>1</th>\n",
       "      <td>OS0002</td>\n",
       "      <td>17</td>\n",
       "      <td>2</td>\n",
       "      <td>12</td>\n",
       "      <td>Souza Santos</td>\n",
       "      <td>1260</td>\n",
       "      <td>15120</td>\n",
       "    </tr>\n",
       "    <tr>\n",
       "      <th>2</th>\n",
       "      <td>OS0003</td>\n",
       "      <td>116</td>\n",
       "      <td>4</td>\n",
       "      <td>14</td>\n",
       "      <td>Santos Costa</td>\n",
       "      <td>2520</td>\n",
       "      <td>35280</td>\n",
       "    </tr>\n",
       "    <tr>\n",
       "      <th>3</th>\n",
       "      <td>OS0004</td>\n",
       "      <td>37</td>\n",
       "      <td>5</td>\n",
       "      <td>8</td>\n",
       "      <td>Do Monteiro</td>\n",
       "      <td>3510</td>\n",
       "      <td>28080</td>\n",
       "    </tr>\n",
       "    <tr>\n",
       "      <th>4</th>\n",
       "      <td>OS0005</td>\n",
       "      <td>130</td>\n",
       "      <td>6</td>\n",
       "      <td>8</td>\n",
       "      <td>Soares Lobo</td>\n",
       "      <td>2340</td>\n",
       "      <td>18720</td>\n",
       "    </tr>\n",
       "    <tr>\n",
       "      <th>...</th>\n",
       "      <td>...</td>\n",
       "      <td>...</td>\n",
       "      <td>...</td>\n",
       "      <td>...</td>\n",
       "      <td>...</td>\n",
       "      <td>...</td>\n",
       "      <td>...</td>\n",
       "    </tr>\n",
       "    <tr>\n",
       "      <th>232</th>\n",
       "      <td>OS0233</td>\n",
       "      <td>111</td>\n",
       "      <td>315</td>\n",
       "      <td>4</td>\n",
       "      <td>Americo Bomfim</td>\n",
       "      <td>1575</td>\n",
       "      <td>6300</td>\n",
       "    </tr>\n",
       "    <tr>\n",
       "      <th>233</th>\n",
       "      <td>OS0234</td>\n",
       "      <td>124</td>\n",
       "      <td>316</td>\n",
       "      <td>8</td>\n",
       "      <td>Manoel Costa</td>\n",
       "      <td>3690</td>\n",
       "      <td>29520</td>\n",
       "    </tr>\n",
       "    <tr>\n",
       "      <th>234</th>\n",
       "      <td>OS0235</td>\n",
       "      <td>72</td>\n",
       "      <td>317</td>\n",
       "      <td>6</td>\n",
       "      <td>Gomes Machado</td>\n",
       "      <td>2385</td>\n",
       "      <td>14310</td>\n",
       "    </tr>\n",
       "    <tr>\n",
       "      <th>235</th>\n",
       "      <td>OS0236</td>\n",
       "      <td>90</td>\n",
       "      <td>319</td>\n",
       "      <td>14</td>\n",
       "      <td>Pereira Fazenda</td>\n",
       "      <td>4185</td>\n",
       "      <td>58590</td>\n",
       "    </tr>\n",
       "    <tr>\n",
       "      <th>236</th>\n",
       "      <td>OS0237</td>\n",
       "      <td>22</td>\n",
       "      <td>320</td>\n",
       "      <td>12</td>\n",
       "      <td>Americo Damasceno</td>\n",
       "      <td>2430</td>\n",
       "      <td>29160</td>\n",
       "    </tr>\n",
       "  </tbody>\n",
       "</table>\n",
       "<p>237 rows × 7 columns</p>\n",
       "</div>"
      ],
      "text/plain": [
       "    Codigo do Servico  ID Funcionário  ID Cliente  \\\n",
       "0              OS0001              67           1   \n",
       "1              OS0002              17           2   \n",
       "2              OS0003             116           4   \n",
       "3              OS0004              37           5   \n",
       "4              OS0005             130           6   \n",
       "..                ...             ...         ...   \n",
       "232            OS0233             111         315   \n",
       "233            OS0234             124         316   \n",
       "234            OS0235              72         317   \n",
       "235            OS0236              90         319   \n",
       "236            OS0237              22         320   \n",
       "\n",
       "     Tempo Total de Contrato (Meses)             Cliente  \\\n",
       "0                                 14  Teixeira Gonçalves   \n",
       "1                                 12        Souza Santos   \n",
       "2                                 14        Santos Costa   \n",
       "3                                  8         Do Monteiro   \n",
       "4                                  8         Soares Lobo   \n",
       "..                               ...                 ...   \n",
       "232                                4      Americo Bomfim   \n",
       "233                                8        Manoel Costa   \n",
       "234                                6       Gomes Machado   \n",
       "235                               14     Pereira Fazenda   \n",
       "236                               12   Americo Damasceno   \n",
       "\n",
       "     Valor Contrato Mensal  Faturamento  \n",
       "0                      540         7560  \n",
       "1                     1260        15120  \n",
       "2                     2520        35280  \n",
       "3                     3510        28080  \n",
       "4                     2340        18720  \n",
       "..                     ...          ...  \n",
       "232                   1575         6300  \n",
       "233                   3690        29520  \n",
       "234                   2385        14310  \n",
       "235                   4185        58590  \n",
       "236                   2430        29160  \n",
       "\n",
       "[237 rows x 7 columns]"
      ]
     },
     "metadata": {},
     "output_type": "display_data"
    },
    {
     "name": "stdout",
     "output_type": "stream",
     "text": [
      "A empresa teve um faturamento total de: R$ 5,519,160.00\n"
     ]
    }
   ],
   "source": [
    "print('--------------')\n",
    "print('2. Faturamento da empresa:')\n",
    "print('--------------')\n",
    "# Qual foi o faturamento da empresa?\n",
    "# Sugestão: calcule o faturamento total de cada serviço e depois some o faturamento de todos\n",
    "\n",
    "faturamento_empresa_df = base_serviços_prestados.merge(cadastro_clientes_df, on='ID Cliente')\n",
    "\n",
    "faturamento_empresa_df['Faturamento'] = faturamento_empresa_df['Tempo Total de Contrato (Meses)'] * faturamento_empresa_df['Valor Contrato Mensal']\n",
    "display(faturamento_empresa_df)\n",
    "\n",
    "print('A empresa teve um faturamento total de: R$ {:,.2f}'.format(faturamento_empresa_df['Faturamento'].sum()))"
   ]
  },
  {
   "cell_type": "markdown",
   "id": "57017858",
   "metadata": {},
   "source": [
    "### 3. Porcentagem de funcionários que já fechou contrato:"
   ]
  },
  {
   "cell_type": "code",
   "execution_count": 894,
   "id": "e14584dc",
   "metadata": {},
   "outputs": [
    {
     "name": "stdout",
     "output_type": "stream",
     "text": [
      "--------------\n",
      "3. Porcentagem de funcionários que já fechou contrato:\n",
      "--------------\n",
      "A % de Funcionários que fecharam serviço foi de: 86.84%\n"
     ]
    }
   ],
   "source": [
    "print('--------------')\n",
    "print('3. Porcentagem de funcionários que já fechou contrato:')\n",
    "print('--------------')\n",
    "# Qual o % de funcionários que já fechou algum contrato?\n",
    "\n",
    "funcionario = len(base_serviços_prestados['ID Funcionário'].unique())\n",
    "total = len(cadastro_funcionarios_df['ID Funcionário'])\n",
    "\n",
    "print('A % de Funcionários que fecharam serviço foi de: {:.2%}'.format(funcionario/total))"
   ]
  },
  {
   "cell_type": "markdown",
   "id": "c1d1e530",
   "metadata": {},
   "source": [
    "### 4. Total de contratos que cada área da empresa fechou:"
   ]
  },
  {
   "cell_type": "code",
   "execution_count": 896,
   "id": "a5d697ab",
   "metadata": {},
   "outputs": [
    {
     "name": "stdout",
     "output_type": "stream",
     "text": [
      "--------------\n",
      "4. Total de contratos que cada área da empresa fechou:\n",
      "--------------\n"
     ]
    },
    {
     "data": {
      "text/html": [
       "<div>\n",
       "<style scoped>\n",
       "    .dataframe tbody tr th:only-of-type {\n",
       "        vertical-align: middle;\n",
       "    }\n",
       "\n",
       "    .dataframe tbody tr th {\n",
       "        vertical-align: top;\n",
       "    }\n",
       "\n",
       "    .dataframe thead th {\n",
       "        text-align: right;\n",
       "    }\n",
       "</style>\n",
       "<table border=\"1\" class=\"dataframe\">\n",
       "  <thead>\n",
       "    <tr style=\"text-align: right;\">\n",
       "      <th></th>\n",
       "      <th>Codigo do Servico</th>\n",
       "      <th>ID Funcionário</th>\n",
       "      <th>ID Cliente</th>\n",
       "      <th>Tempo Total de Contrato (Meses)</th>\n",
       "      <th>Area</th>\n",
       "    </tr>\n",
       "  </thead>\n",
       "  <tbody>\n",
       "    <tr>\n",
       "      <th>0</th>\n",
       "      <td>OS0001</td>\n",
       "      <td>67</td>\n",
       "      <td>1</td>\n",
       "      <td>14</td>\n",
       "      <td>Financeiro</td>\n",
       "    </tr>\n",
       "    <tr>\n",
       "      <th>1</th>\n",
       "      <td>OS0058</td>\n",
       "      <td>67</td>\n",
       "      <td>78</td>\n",
       "      <td>6</td>\n",
       "      <td>Financeiro</td>\n",
       "    </tr>\n",
       "    <tr>\n",
       "      <th>2</th>\n",
       "      <td>OS0092</td>\n",
       "      <td>67</td>\n",
       "      <td>125</td>\n",
       "      <td>8</td>\n",
       "      <td>Financeiro</td>\n",
       "    </tr>\n",
       "    <tr>\n",
       "      <th>3</th>\n",
       "      <td>OS0128</td>\n",
       "      <td>67</td>\n",
       "      <td>175</td>\n",
       "      <td>6</td>\n",
       "      <td>Financeiro</td>\n",
       "    </tr>\n",
       "    <tr>\n",
       "      <th>4</th>\n",
       "      <td>OS0002</td>\n",
       "      <td>17</td>\n",
       "      <td>2</td>\n",
       "      <td>12</td>\n",
       "      <td>Logística</td>\n",
       "    </tr>\n",
       "    <tr>\n",
       "      <th>...</th>\n",
       "      <td>...</td>\n",
       "      <td>...</td>\n",
       "      <td>...</td>\n",
       "      <td>...</td>\n",
       "      <td>...</td>\n",
       "    </tr>\n",
       "    <tr>\n",
       "      <th>232</th>\n",
       "      <td>OS0224</td>\n",
       "      <td>25</td>\n",
       "      <td>304</td>\n",
       "      <td>14</td>\n",
       "      <td>Administrativo</td>\n",
       "    </tr>\n",
       "    <tr>\n",
       "      <th>233</th>\n",
       "      <td>OS0228</td>\n",
       "      <td>79</td>\n",
       "      <td>308</td>\n",
       "      <td>10</td>\n",
       "      <td>Operações</td>\n",
       "    </tr>\n",
       "    <tr>\n",
       "      <th>234</th>\n",
       "      <td>OS0229</td>\n",
       "      <td>99</td>\n",
       "      <td>309</td>\n",
       "      <td>8</td>\n",
       "      <td>Administrativo</td>\n",
       "    </tr>\n",
       "    <tr>\n",
       "      <th>235</th>\n",
       "      <td>OS0230</td>\n",
       "      <td>14</td>\n",
       "      <td>310</td>\n",
       "      <td>12</td>\n",
       "      <td>Financeiro</td>\n",
       "    </tr>\n",
       "    <tr>\n",
       "      <th>236</th>\n",
       "      <td>OS0235</td>\n",
       "      <td>72</td>\n",
       "      <td>317</td>\n",
       "      <td>6</td>\n",
       "      <td>Logística</td>\n",
       "    </tr>\n",
       "  </tbody>\n",
       "</table>\n",
       "<p>237 rows × 5 columns</p>\n",
       "</div>"
      ],
      "text/plain": [
       "    Codigo do Servico  ID Funcionário  ID Cliente  \\\n",
       "0              OS0001              67           1   \n",
       "1              OS0058              67          78   \n",
       "2              OS0092              67         125   \n",
       "3              OS0128              67         175   \n",
       "4              OS0002              17           2   \n",
       "..                ...             ...         ...   \n",
       "232            OS0224              25         304   \n",
       "233            OS0228              79         308   \n",
       "234            OS0229              99         309   \n",
       "235            OS0230              14         310   \n",
       "236            OS0235              72         317   \n",
       "\n",
       "     Tempo Total de Contrato (Meses)            Area  \n",
       "0                                 14      Financeiro  \n",
       "1                                  6      Financeiro  \n",
       "2                                  8      Financeiro  \n",
       "3                                  6      Financeiro  \n",
       "4                                 12       Logística  \n",
       "..                               ...             ...  \n",
       "232                               14  Administrativo  \n",
       "233                               10       Operações  \n",
       "234                                8  Administrativo  \n",
       "235                               12      Financeiro  \n",
       "236                                6       Logística  \n",
       "\n",
       "[237 rows x 5 columns]"
      ]
     },
     "metadata": {},
     "output_type": "display_data"
    },
    {
     "name": "stdout",
     "output_type": "stream",
     "text": [
      "Administrativo    63\n",
      "Operações         48\n",
      "Comercial         44\n",
      "Financeiro        42\n",
      "Logística         40\n",
      "Name: Area, dtype: int64\n"
     ]
    }
   ],
   "source": [
    "print('--------------')\n",
    "print('4. Total de contratos que cada área da empresa fechou:')\n",
    "print('--------------')\n",
    "# Calcule o total de contratos que cada área da empresa já fechou\n",
    "\n",
    "total_contratos_df = base_serviços_prestados.merge(cadastro_funcionarios_df[['ID Funcionário', 'Area']], on='ID Funcionário')\n",
    "display(total_contratos)\n",
    "\n",
    "total_contratos = total_contratos_df['Area'].value_counts()\n",
    "print(total_contratos)\n",
    "\n",
    "        "
   ]
  },
  {
   "cell_type": "markdown",
   "id": "9f7bdacf",
   "metadata": {},
   "source": [
    "### 5. Total de funcionários por área:"
   ]
  },
  {
   "cell_type": "code",
   "execution_count": 907,
   "id": "ac25c8ef",
   "metadata": {},
   "outputs": [
    {
     "name": "stdout",
     "output_type": "stream",
     "text": [
      "--------------\n",
      "5. Total de funcionários por área:\n",
      "--------------\n",
      "Administrativo    26\n",
      "Comercial         26\n",
      "Operações         23\n",
      "Logística         21\n",
      "Financeiro        18\n",
      "Name: Area, dtype: int64\n"
     ]
    },
    {
     "data": {
      "text/plain": [
       "<AxesSubplot:xlabel='Área', ylabel='Qtd Funcionários'>"
      ]
     },
     "execution_count": 907,
     "metadata": {},
     "output_type": "execute_result"
    },
    {
     "data": {
      "image/png": "[encoded data removed]",
      "text/plain": [
       "<Figure size 432x288 with 1 Axes>"
      ]
     },
     "metadata": {
      "needs_background": "light"
     },
     "output_type": "display_data"
    }
   ],
   "source": [
    "print('--------------')\n",
    "print('5. Total de funcionários por área:')\n",
    "print('--------------')\n",
    "# Calcule o total de funcionários por área\n",
    "\n",
    "total_funcionarios_area = cadastro_funcionarios_df['Area'].value_counts()\n",
    "print(total_funcionarios_area)\n",
    "\n",
    "total_funcionarios_area.plot(kind='bar', xlabel='Área', ylabel='Qtd Funcionários')\n"
   ]
  },
  {
   "cell_type": "markdown",
   "id": "aa24d1e4",
   "metadata": {},
   "source": [
    "### 6. Ticket médio mensal:"
   ]
  },
  {
   "cell_type": "code",
   "execution_count": 911,
   "id": "4681615f",
   "metadata": {},
   "outputs": [
    {
     "name": "stdout",
     "output_type": "stream",
     "text": [
      "--------------\n",
      "6. Ticket médio mensal:\n",
      "--------------\n",
      "Ticket Médio Mensal: R$ 2,502.56\n"
     ]
    }
   ],
   "source": [
    "print('--------------')\n",
    "print('6. Ticket médio mensal:')\n",
    "print('--------------')\n",
    "# Qual o ticket médio mensal (faturamento médio mensal) dos contratos?\n",
    "\n",
    "tk_medio = cadastro_clientes_df['Valor Contrato Mensal'].mean()\n",
    "print('Ticket Médio Mensal: R$ {:,.2f}'.format(tk_medio))"
   ]
  },
  {
   "cell_type": "code",
   "execution_count": null,
   "id": "4ca6adcc",
   "metadata": {},
   "outputs": [],
   "source": []
  },
  {
   "cell_type": "code",
   "execution_count": null,
   "id": "d30f6947",
   "metadata": {},
   "outputs": [],
   "source": []
  },
  {
   "cell_type": "code",
   "execution_count": null,
   "id": "1fd3a9a4",
   "metadata": {},
   "outputs": [],
   "source": []
  },
  {
   "cell_type": "code",
   "execution_count": null,
   "id": "4cc7e671",
   "metadata": {},
   "outputs": [],
   "source": []
  },
  {
   "cell_type": "code",
   "execution_count": null,
   "id": "f1f99551",
   "metadata": {},
   "outputs": [],
   "source": []
  },
  {
   "cell_type": "code",
   "execution_count": null,
   "id": "714b2b6c",
   "metadata": {},
   "outputs": [],
   "source": []
  },
  {
   "cell_type": "code",
   "execution_count": null,
   "id": "7386b440",
   "metadata": {},
   "outputs": [],
   "source": []
  },
  {
   "cell_type": "code",
   "execution_count": null,
   "id": "4c8c27e0",
   "metadata": {},
   "outputs": [],
   "source": []
  },
  {
   "cell_type": "code",
   "execution_count": null,
   "id": "566d627e",
   "metadata": {},
   "outputs": [],
   "source": []
  },
  {
   "cell_type": "code",
   "execution_count": null,
   "id": "b4f5edae",
   "metadata": {},
   "outputs": [],
   "source": []
  },
  {
   "cell_type": "code",
   "execution_count": null,
   "id": "67c99f5b",
   "metadata": {},
   "outputs": [],
   "source": []
  },
  {
   "cell_type": "code",
   "execution_count": null,
   "id": "735fa258",
   "metadata": {},
   "outputs": [],
   "source": []
  },
  {
   "cell_type": "code",
   "execution_count": null,
   "id": "acfd1ee1",
   "metadata": {},
   "outputs": [],
   "source": []
  },
  {
   "cell_type": "code",
   "execution_count": null,
   "id": "b9582d13",
   "metadata": {},
   "outputs": [],
   "source": []
  },
  {
   "cell_type": "code",
   "execution_count": null,
   "id": "8e1720cc",
   "metadata": {},
   "outputs": [],
   "source": []
  },
  {
   "cell_type": "code",
   "execution_count": null,
   "id": "7c3b1f68",
   "metadata": {},
   "outputs": [],
   "source": []
  },
  {
   "cell_type": "code",
   "execution_count": null,
   "id": "de5e5c93",
   "metadata": {},
   "outputs": [],
   "source": []
  },
  {
   "cell_type": "code",
   "execution_count": null,
   "id": "0415c229",
   "metadata": {},
   "outputs": [],
   "source": []
  },
  {
   "cell_type": "code",
   "execution_count": null,
   "id": "e2d80d7d",
   "metadata": {},
   "outputs": [],
   "source": []
  }
 ],
 "metadata": {
  "kernelspec": {
   "display_name": "Python 3 (ipykernel)",
   "language": "python",
   "name": "python3"
  },
  "language_info": {
   "codemirror_mode": {
    "name": "ipython",
    "version": 3
   },
   "file_extension": ".py",
   "mimetype": "text/x-python",
   "name": "python",
   "nbconvert_exporter": "python",
   "pygments_lexer": "ipython3",
   "version": "3.9.7"
  }
 },
 "nbformat": 4,
 "nbformat_minor": 5
}
